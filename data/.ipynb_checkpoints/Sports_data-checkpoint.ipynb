{
 "cells": [
  {
   "cell_type": "markdown",
   "id": "7cb87d2f",
   "metadata": {},
   "source": [
    "# Compiling different sources of sports data"
   ]
  },
  {
   "cell_type": "code",
   "execution_count": 2,
   "id": "4bb111c0",
   "metadata": {},
   "outputs": [],
   "source": [
    "import pandas as pd\n",
    "import requests\n",
    "from bs4 import BeautifulSoup\n",
    "import json\n",
    "import datetime\n",
    "\n",
    "#from fp.fp import FreeProxy"
   ]
  },
  {
   "cell_type": "markdown",
   "id": "d72acc50",
   "metadata": {},
   "source": [
    "## Football: Chicago Bears"
   ]
  },
  {
   "cell_type": "code",
   "execution_count": 3,
   "id": "900d2e44",
   "metadata": {
    "scrolled": false
   },
   "outputs": [
    {
     "name": "stdout",
     "output_type": "stream",
     "text": [
      "Error parsing event. Row empty\n",
      "Error parsing event. Row empty\n"
     ]
    },
    {
     "data": {
      "text/html": [
       "<div>\n",
       "<style scoped>\n",
       "    .dataframe tbody tr th:only-of-type {\n",
       "        vertical-align: middle;\n",
       "    }\n",
       "\n",
       "    .dataframe tbody tr th {\n",
       "        vertical-align: top;\n",
       "    }\n",
       "\n",
       "    .dataframe thead th {\n",
       "        text-align: right;\n",
       "    }\n",
       "</style>\n",
       "<table border=\"1\" class=\"dataframe\">\n",
       "  <thead>\n",
       "    <tr style=\"text-align: right;\">\n",
       "      <th></th>\n",
       "      <th>Game_Start</th>\n",
       "      <th>Game_End</th>\n",
       "    </tr>\n",
       "  </thead>\n",
       "  <tbody>\n",
       "    <tr>\n",
       "      <th>1</th>\n",
       "      <td>2018-09-17 20:15:00</td>\n",
       "      <td>2018-09-17 23:14:00</td>\n",
       "    </tr>\n",
       "    <tr>\n",
       "      <th>3</th>\n",
       "      <td>2018-09-30 13:00:00</td>\n",
       "      <td>2018-09-30 15:57:00</td>\n",
       "    </tr>\n",
       "    <tr>\n",
       "      <th>5</th>\n",
       "      <td>2018-10-21 13:00:00</td>\n",
       "      <td>2018-10-21 16:21:00</td>\n",
       "    </tr>\n",
       "    <tr>\n",
       "      <th>6</th>\n",
       "      <td>2018-10-28 13:00:00</td>\n",
       "      <td>2018-10-28 16:00:00</td>\n",
       "    </tr>\n",
       "    <tr>\n",
       "      <th>8</th>\n",
       "      <td>2018-11-11 13:00:00</td>\n",
       "      <td>2018-11-11 16:13:00</td>\n",
       "    </tr>\n",
       "  </tbody>\n",
       "</table>\n",
       "</div>"
      ],
      "text/plain": [
       "           Game_Start            Game_End\n",
       "1 2018-09-17 20:15:00 2018-09-17 23:14:00\n",
       "3 2018-09-30 13:00:00 2018-09-30 15:57:00\n",
       "5 2018-10-21 13:00:00 2018-10-21 16:21:00\n",
       "6 2018-10-28 13:00:00 2018-10-28 16:00:00\n",
       "8 2018-11-11 13:00:00 2018-11-11 16:13:00"
      ]
     },
     "execution_count": 3,
     "metadata": {},
     "output_type": "execute_result"
    }
   ],
   "source": [
    "# URL of the webpage containing the NFL 2018 season data\n",
    "response_football = requests.get(\"https://www.pro-football-reference.com/teams/chi/2018.htm\")\n",
    "\n",
    "soup = BeautifulSoup(response_football.content, \"html.parser\")\n",
    "events = soup.find(\"table\",id=\"games\").tbody.findAll(\"tr\")\n",
    "\n",
    "row_constructor = {\"Game_Start\": [], \"Duration\": [], \"Stadium\": []}\n",
    "\n",
    "for event in events:\n",
    "    try:\n",
    "        date = event.find(\"td\",{\"data-stat\":\"game_date\"}).text + \" 2018 \"\n",
    "        time = event.find(\"td\",{\"data-stat\":\"game_time\"}).text.replace(\" ET\", \"\")\n",
    "    \n",
    "        datetime_obj = datetime.datetime.strptime(f\"{date} {time}\", \"%B %d %Y %I:%M%p\")\n",
    "        row_constructor[\"Game_Start\"].append(datetime_obj)\n",
    "    except ValueError:\n",
    "        print(f\"Error parsing event. Row empty\")\n",
    "        \n",
    "    #The information about the game location is stored on another endpoint for some reason. The code in the following would sent\n",
    "    #a request for each game and retrieve this information. The Problem: The server starts to send Code 429 Too many requests\n",
    "    #after some request. I implemented proxies to circumvent this. Unfortunately this is unstable and extremely slow. Thus, I\n",
    "    #chose to collect the location and duration information manually. \n",
    "    '''\n",
    "    try:\n",
    "        boxscorelink = \"https://www.pro-football-reference.com/\" + event.find(\"td\",{\"data-stat\":\"boxscore_word\"}).a[\"href\"]\n",
    "        print(boxscorelink)\n",
    "        moreInfo = BeautifulSoup(requests.get(boxscorelink,proxies= {\"https\":FreeProxy(https=True).get()},verify=False).content,\"html.parser\")\n",
    "        stadium = moreInfo.find(\"div\",class_=\"scorebox_meta\").findAll(\"div\")[2].text\n",
    "        if(stadium == \"Soldier Field\"):\n",
    "            row_constructor[\"Date\"].append(event.find(\"td\",{\"data-stat\":\"game_date\"}).text)\n",
    "            row_constructor[\"Time\"].append(event.find(\"td\",{\"data-stat\":\"gametime\"}).text)\n",
    "            row_constructor[\"Duration\"].append(moreInfo.find(\"div\",class_=\"scorebox_meta\").findAll(\"div\")[4].text)\n",
    "            row_constructor[\"Stadium\"].append(stadium)\n",
    "    except TypeError:\n",
    "        print(\"Error parsing. Row has no boxscore.\")    \n",
    "    '''\n",
    "    \n",
    "row_constructor[\"Duration\"] = [datetime.timedelta(minutes=0),\n",
    "                               datetime.timedelta(minutes=179),\n",
    "                               datetime.timedelta(minutes=0),\n",
    "                               datetime.timedelta(minutes=177),\n",
    "                               datetime.timedelta(minutes=0),\n",
    "                               datetime.timedelta(minutes=201),\n",
    "                               datetime.timedelta(minutes=180),\n",
    "                               datetime.timedelta(minutes=0),\n",
    "                               datetime.timedelta(minutes=193),\n",
    "                               datetime.timedelta(minutes=183),\n",
    "                               datetime.timedelta(minutes=0),\n",
    "                               datetime.timedelta(minutes=0),\n",
    "                               datetime.timedelta(minutes=192),\n",
    "                               datetime.timedelta(minutes=178),\n",
    "                               datetime.timedelta(minutes=0),\n",
    "                               datetime.timedelta(minutes=0),\n",
    "                               datetime.timedelta(minutes=189)\n",
    "                              ]\n",
    "row_constructor[\"Stadium\"] = [False,True,False,True,False,True,True,False,True,True,False,False,True,True,False,False,True]\n",
    "\n",
    "# Berechnung der Endzeiten der Spiele\n",
    "row_constructor[\"Game_End\"] = [\n",
    "    start + duration for start, duration in zip(row_constructor[\"Game_Start\"], row_constructor[\"Duration\"])\n",
    "]\n",
    "\n",
    "nfldf = pd.DataFrame.from_dict(row_constructor)\n",
    "nfldf = nfldf[nfldf[\"Stadium\"]]\n",
    "nfldf.drop(columns=[\"Duration\",\"Stadium\"],inplace=True)\n",
    "nfldf.head(5)"
   ]
  },
  {
   "cell_type": "markdown",
   "id": "23c326d3",
   "metadata": {},
   "source": [
    "## Baseball: Chicago Cubs & Chicago White Sox"
   ]
  },
  {
   "cell_type": "code",
   "execution_count": 4,
   "id": "3c99ba9e",
   "metadata": {
    "scrolled": true
   },
   "outputs": [
    {
     "name": "stdout",
     "output_type": "stream",
     "text": [
      "Found White Sox home game. Opponent:  Detroit Tigers\n"
     ]
    },
    {
     "ename": "NameError",
     "evalue": "name 'counter' is not defined",
     "output_type": "error",
     "traceback": [
      "\u001b[1;31m---------------------------------------------------------------------------\u001b[0m",
      "\u001b[1;31mNameError\u001b[0m                                 Traceback (most recent call last)",
      "Cell \u001b[1;32mIn[4], line 20\u001b[0m\n\u001b[0;32m     18\u001b[0m \u001b[38;5;28;01melif\u001b[39;00m(name \u001b[38;5;241m==\u001b[39m \u001b[38;5;124m\"\u001b[39m\u001b[38;5;124mChicago White Sox\u001b[39m\u001b[38;5;124m\"\u001b[39m):\n\u001b[0;32m     19\u001b[0m     \u001b[38;5;28mprint\u001b[39m(\u001b[38;5;124m\"\u001b[39m\u001b[38;5;124mFound White Sox home game. Opponent: \u001b[39m\u001b[38;5;124m\"\u001b[39m, game[\u001b[38;5;124m\"\u001b[39m\u001b[38;5;124mteams\u001b[39m\u001b[38;5;124m\"\u001b[39m][\u001b[38;5;124m\"\u001b[39m\u001b[38;5;124maway\u001b[39m\u001b[38;5;124m\"\u001b[39m][\u001b[38;5;124m\"\u001b[39m\u001b[38;5;124mteam\u001b[39m\u001b[38;5;124m\"\u001b[39m][\u001b[38;5;124m\"\u001b[39m\u001b[38;5;124mname\u001b[39m\u001b[38;5;124m\"\u001b[39m])\n\u001b[1;32m---> 20\u001b[0m     counter \u001b[38;5;241m+\u001b[39m\u001b[38;5;241m=\u001b[39m \u001b[38;5;241m1\u001b[39m\n\u001b[0;32m     21\u001b[0m     gamedata_whitesox \u001b[38;5;241m=\u001b[39m requests\u001b[38;5;241m.\u001b[39mget(\u001b[38;5;124m\"\u001b[39m\u001b[38;5;124mhttp://statsapi.mlb.com\u001b[39m\u001b[38;5;124m\"\u001b[39m \u001b[38;5;241m+\u001b[39m game[\u001b[38;5;124m\"\u001b[39m\u001b[38;5;124mlink\u001b[39m\u001b[38;5;124m\"\u001b[39m])\u001b[38;5;241m.\u001b[39mjson()\n\u001b[0;32m     22\u001b[0m     temp2 \u001b[38;5;241m=\u001b[39m [game[\u001b[38;5;124m\"\u001b[39m\u001b[38;5;124mgameDate\u001b[39m\u001b[38;5;124m\"\u001b[39m],gamedata_whitesox[\u001b[38;5;124m\"\u001b[39m\u001b[38;5;124mgameData\u001b[39m\u001b[38;5;124m\"\u001b[39m][\u001b[38;5;124m\"\u001b[39m\u001b[38;5;124mgameInfo\u001b[39m\u001b[38;5;124m\"\u001b[39m][\u001b[38;5;124m\"\u001b[39m\u001b[38;5;124mgameDurationMinutes\u001b[39m\u001b[38;5;124m\"\u001b[39m]]\n",
      "\u001b[1;31mNameError\u001b[0m: name 'counter' is not defined"
     ]
    }
   ],
   "source": [
    "#This takes a minute unfortunately. We have to send a seperate request each time we want to know the game duration. \n",
    "#I dont know why but there are no games found during the season prior to April 5th.\n",
    "\n",
    "data = requests.get(\"http://statsapi.mlb.com/api/v1/schedule/games/?sportId=1&startDate=2018-03-29&endDate=2018-09-30\").json()\n",
    "\n",
    "list_cubs = []\n",
    "list_whitesox = []\n",
    "\n",
    "for datum in data[\"dates\"]:\n",
    "    for game in datum[\"games\"]:\n",
    "        name = game[\"teams\"][\"home\"][\"team\"][\"name\"]\n",
    "        if(name == \"Chicago Cubs\"):\n",
    "            print(\"Found Cubs home game. Opponent: \", game[\"teams\"][\"away\"][\"team\"][\"name\"])\n",
    "            gamedata_cubs = requests.get(\"http://statsapi.mlb.com\" + game[\"link\"]).json()    \n",
    "            temp1 = [game[\"gameDate\"],gamedata_cubs[\"gameData\"][\"gameInfo\"][\"gameDurationMinutes\"]]\n",
    "            list_cubs.append(temp1)\n",
    "        elif(name == \"Chicago White Sox\"):\n",
    "            print(\"Found White Sox home game. Opponent: \", game[\"teams\"][\"away\"][\"team\"][\"name\"])\n",
    "            gamedata_whitesox = requests.get(\"http://statsapi.mlb.com\" + game[\"link\"]).json()\n",
    "            temp2 = [game[\"gameDate\"],gamedata_whitesox[\"gameData\"][\"gameInfo\"][\"gameDurationMinutes\"]]\n",
    "            list_whitesox.append(temp2)\n",
    "            \n",
    "Chicago_Cubs_temp = pd.DataFrame(list_cubs)\n",
    "Chicago_White_Sox_temp = pd.DataFrame(list_whitesox) "
   ]
  },
  {
   "cell_type": "code",
   "execution_count": null,
   "id": "4e9386e2",
   "metadata": {},
   "outputs": [],
   "source": [
    "#Chicago has an offset of GMT-5. We don't have to mess around with daylight saving time, because the switch does not occur during the season.\n",
    "Chicago_Cubs_df = pd.DataFrame()\n",
    "Chicago_Cubs_df[\"Game_Start\"] = pd.to_datetime(Chicago_Cubs_temp[0]) - pd.to_timedelta(5, unit=\"h\")\n",
    "Chicago_Cubs_df[\"Game_End\"] = Chicago_Cubs_df[\"Game_Start\"] + pd.to_timedelta(Chicago_Cubs_temp[1], unit=\"m\")\n",
    "\n",
    "Chicago_White_Sox_df = pd.DataFrame()\n",
    "Chicago_White_Sox_df[\"Game_Start\"] = pd.to_datetime(Chicago_White_Sox_temp[0]) - pd.to_timedelta(5, unit=\"h\")\n",
    "Chicago_White_Sox_df[\"Game_End\"] = Chicago_White_Sox_df[\"Game_Start\"] + pd.to_timedelta(Chicago_White_Sox_temp[1], unit=\"m\")"
   ]
  },
  {
   "cell_type": "code",
   "execution_count": null,
   "id": "251fc375",
   "metadata": {},
   "outputs": [],
   "source": [
    "Chicago_White_Sox_df.head(5)"
   ]
  },
  {
   "cell_type": "code",
   "execution_count": null,
   "id": "9d5f2ec4",
   "metadata": {},
   "outputs": [],
   "source": [
    "Chicago_Cubs_df.head(5)"
   ]
  },
  {
   "cell_type": "markdown",
   "id": "5fe30ab6",
   "metadata": {},
   "source": [
    "## Chicago Blackhawks"
   ]
  },
  {
   "cell_type": "code",
   "execution_count": null,
   "id": "df9e9225",
   "metadata": {
    "scrolled": false
   },
   "outputs": [],
   "source": [
    "# URL of the API containing the NHL 2017/2018 season data for the Chicago Blackhawks\n",
    "\n",
    "response_hockey = requests.get(\"https://api-web.nhle.com/v1/club-schedule-season/CHI/20172018\")\n",
    "data = response_hockey.json()\n",
    "\n",
    "nhldf_temp = pd.DataFrame(data[\"games\"])"
   ]
  },
  {
   "cell_type": "code",
   "execution_count": null,
   "id": "bbaf2ada",
   "metadata": {
    "scrolled": true
   },
   "outputs": [],
   "source": [
    "# Create mask for homeTeam ID\n",
    "mask_home_team = nhldf_temp[\"homeTeam\"].apply(lambda x: x['id']) == 16\n",
    "\n",
    "# Create mask for gameDate\n",
    "mask_game_date = pd.to_datetime(nhldf_temp[\"gameDate\"]) >= pd.to_datetime(\"2018-01-01\")\n",
    "\n",
    "mask_combined = mask_home_team & mask_game_date\n",
    "\n",
    "# Filter dataframe using mask\n",
    "nhldf = nhldf_temp[mask_combined].copy()\n",
    "\n",
    "#Unfortunately the API does not offer information about the duration of the game. I will use 2 hours and 19 minutes as average value.\n",
    "nhldf.loc[:, 'venueUTCOffset'] = nhldf['venueUTCOffset'].apply(lambda x: int(x[:3]) + int(x[4:6])/60)\n",
    "nhldf.loc[:, 'Game_Start'] = pd.to_datetime(nhldf[\"startTimeUTC\"]) + pd.to_timedelta(nhldf[\"venueUTCOffset\"], unit=\"h\")\n",
    "nhldf[\"Game_End\"] = nhldf[\"Game_Start\"] + pd.Timedelta(hours=2, minutes=19) \n",
    "nhldf = nhldf[[\"Game_Start\",\"Game_End\"]] \n",
    "nhldf.head(5)"
   ]
  },
  {
   "cell_type": "markdown",
   "id": "c18aa476",
   "metadata": {},
   "source": [
    "## Chicago Fire FC"
   ]
  },
  {
   "cell_type": "code",
   "execution_count": null,
   "id": "a1a1f71f",
   "metadata": {},
   "outputs": [],
   "source": [
    "# URL of the Wikipedia page\n",
    "\n",
    "response = requests.get(\"https://en.wikipedia.org/wiki/2018_Chicago_Fire_season\")\n",
    "\n",
    "soup = BeautifulSoup(response.content, \"html.parser\")\n",
    "events = soup.find_all(\"table\", class_=\"tmpl-football-box-collapsible\")\n",
    "\n",
    "row_constructor = {\"Game_Start\": [], \"Stadium\": []}\n",
    "\n",
    "for event in events:\n",
    "    \n",
    "    tr = event.tbody.find_all(\"tr\")\n",
    "    upper = tr[0].find_all(\"td\")\n",
    "    lower = tr[1].find_all(\"td\")\n",
    "    \n",
    "    date = upper[0].find(\"span\").text \n",
    "    time = lower[0].text\n",
    "    try:\n",
    "        datetime_obj = datetime.datetime.strptime(f\"{date} {time}\", \"%B %d, %Y %H:%M\")\n",
    "        row_constructor[\"Game_Start\"].append(datetime_obj)\n",
    "        row_constructor[\"Stadium\"].append(lower[4].find(\"span\").text)\n",
    "    except ValueError:\n",
    "        print(f\"Error parsing time for event: {date}\")\n",
    "\n",
    "msldf = pd.DataFrame.from_dict(row_constructor)\n",
    "msldf = msldf[msldf[\"Stadium\"] == \"Toyota Park\"]\n",
    "msldf.drop(columns=[\"Stadium\"],inplace=True)\n",
    "#No information about the duration of the game. I will use 2 hours as average value.\n",
    "msldf[\"Game_End\"] = msldf[\"Game_Start\"] + pd.Timedelta(hours=2)\n",
    "\n",
    "#Manually adding row that got an parsing error (The wikipedia table is not consistent in structure) and occured in Toyota Park\n",
    "msldf = pd.concat([msldf, pd.DataFrame([{\"Game_Start\":datetime.datetime(2018, 10, 28, 15, 30),\"Game_End\": datetime.datetime(2018, 10, 28, 17, 30)}])], ignore_index=True)\n",
    "msldf.head(5)"
   ]
  },
  {
   "cell_type": "markdown",
   "id": "0f0fc1f8",
   "metadata": {},
   "source": [
    "## Chicago Bulls"
   ]
  },
  {
   "cell_type": "code",
   "execution_count": null,
   "id": "3200cd26",
   "metadata": {},
   "outputs": [],
   "source": [
    "#https://www.basketball-reference.com/teams/CHI/2018_games.html\n",
    "#https://www.basketball-reference.com/teams/CHI/2019_games.html\n",
    "\n",
    "response_nba2018 = requests.get(\"https://www.basketball-reference.com/teams/CHI/2018_games.html\")\n",
    "response_nba2019 = requests.get(\"https://www.basketball-reference.com/teams/CHI/2019_games.html\")\n",
    "soup2018 = BeautifulSoup(response_nba2018.content, \"html.parser\")\n",
    "soup2019 = BeautifulSoup(response_nba2019.content, \"html.parser\")\n",
    "events2018 = soup2018.find(\"table\",id=\"games\").tbody.findAll(\"tr\")\n",
    "events2019 = soup2019.find(\"table\",id=\"games\").tbody.findAll(\"tr\")\n",
    "events = events2018[37:] + events2019[:37] #Only looking at 2018 games\n",
    "\n",
    "row_constructor = {\"Game_Start\": [], \"Stadium\": []}\n",
    "\n",
    "for event in events:\n",
    "    if(str(event.get(\"class\")) == \"['thead']\"):\n",
    "        continue\n",
    "    \n",
    "    date = event.find(\"td\",{\"data-stat\":\"date_game\"}).text\n",
    "    time = event.find(\"td\",{\"data-stat\":\"game_start_time\"}).text.replace(\"p\",\"PM\")\n",
    "    \n",
    "    datetime_obj = datetime.datetime.strptime(f\"{date} {time}\", \"%a, %b %d, %Y %I:%M%p\")\n",
    "    row_constructor[\"Game_Start\"].append(datetime_obj)\n",
    "    \n",
    "    \n",
    "    \n",
    "    #The information about the game location is stored on another endpoint for some reason. The code in the following would sent\n",
    "    #a request for each game and retrieve this information. The Problem: The server starts to send Code 429 Too many requests\n",
    "    #after some request. I implemented proxies to circumvent this. Unfortunately this is unstable and extremely slow. Thus, I\n",
    "    #chose to collect the location information manually. \n",
    "    ''' \n",
    "    if(str(event.get(\"class\")) == \"['thead']\"):\n",
    "        continue\n",
    "    boxscorelink = \"https://www.basketball-reference.com\" + event.find(\"td\",{\"data-stat\":\"box_score_text\"}).a[\"href\"]\n",
    "    boxscoreRequest = requests.get(boxscorelink,proxies= {\"https\":FreeProxy(https=True).get()},verify=False)\n",
    "    moreInfo = BeautifulSoup(boxscoreRequest.content,\"html.parser\")\n",
    "    stadium = moreInfo.find(\"div\",class_=\"scorebox_meta\").findAll(\"div\")[1].text\n",
    "    if(stadium == \"United Center, Chicago, Illinois\"):\n",
    "        date = event.find(\"td\",{\"data-stat\":\"date_game\"}).text\n",
    "        time = event.find(\"td\",{\"data-stat\":\"game_start_time\"}).text.replace(\"p\",\"PM\")\n",
    "    \n",
    "        datetime_obj = datetime.datetime.strptime(f\"{date} {time}\", \"%a, %b %d, %Y %I:%M%p\")\n",
    "        row_constructor[\"Game_Start\"].append(datetime_obj)\n",
    "        row_constructor[\"Stadium\"].append(stadium)\n",
    "    '''\n",
    "#True if game was played in Chicago. New line every 20 games.\n",
    "row_constructor[\"Stadium\"] = [False,True,False,True,True,False,False,True,False,True,False,False,True,False,False,False,False,True,True,False,\n",
    "                             True,True,False,False,True,True,True,False,True,True,False,False,False,True,True,False,True,True,False,False,\n",
    "                             True,False,True,True,True,False,False,False,True,True,False,False,False,False,True,True,True,True,False,False,\n",
    "                             False,True,True,True,False,False,True,False,True,False,True,True,False,False,False,False,True,True,False,True,\n",
    "                             False,True]\n",
    "    \n",
    "nbadf = pd.DataFrame.from_dict(row_constructor)\n",
    "nbadf = nbadf[nbadf[\"Stadium\"]]\n",
    "nbadf.drop(columns=[\"Stadium\"],inplace=True)\n",
    "#We do not have information about game duration. I will use 2 hours and 30 minutes as average value. https://www.marca.com/en/basketball/nba/2022/03/10/622a267de2704ef25e8b4585.html\n",
    "nbadf[\"Game_End\"] = nbadf[\"Game_Start\"] + pd.Timedelta(hours=2, minutes=30) \n",
    "nbadf.head(5)"
   ]
  },
  {
   "cell_type": "markdown",
   "id": "15b09a42",
   "metadata": {},
   "source": [
    "# CSV Export"
   ]
  },
  {
   "cell_type": "code",
   "execution_count": null,
   "id": "1a97d99d",
   "metadata": {},
   "outputs": [],
   "source": [
    "nfldf.to_csv(\"nfl.csv\",index=false)\n",
    "Chicago_White_Sox_df.to_csv(\"mlb_white_sox.csv\",index=false)\n",
    "Chicago_Cubs_df.to_csv(\"mlb_cubs.csv\",index=false)\n",
    "nhldf.to_csv(\"nhl.csv\",index=false)\n",
    "msldf.to_csv(\"msl.csv\",index=false)\n",
    "nba.to_csv(\"nba.csv\",index=false)"
   ]
  }
 ],
 "metadata": {
  "kernelspec": {
   "display_name": "Python 3 (ipykernel)",
   "language": "python",
   "name": "python3"
  },
  "language_info": {
   "codemirror_mode": {
    "name": "ipython",
    "version": 3
   },
   "file_extension": ".py",
   "mimetype": "text/x-python",
   "name": "python",
   "nbconvert_exporter": "python",
   "pygments_lexer": "ipython3",
   "version": "3.12.3"
  },
  "toc": {
   "base_numbering": 1,
   "nav_menu": {},
   "number_sections": true,
   "sideBar": true,
   "skip_h1_title": false,
   "title_cell": "Table of Contents",
   "title_sidebar": "Contents",
   "toc_cell": false,
   "toc_position": {
    "height": "calc(100% - 180px)",
    "left": "10px",
    "top": "150px",
    "width": "380.582px"
   },
   "toc_section_display": true,
   "toc_window_display": false
  }
 },
 "nbformat": 4,
 "nbformat_minor": 5
}
