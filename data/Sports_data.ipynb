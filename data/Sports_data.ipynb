{
 "cells": [
  {
   "cell_type": "code",
   "execution_count": 1,
   "id": "7ac68b54",
   "metadata": {},
   "outputs": [],
   "source": [
    "import pandas as pd\n",
    "import requests\n",
    "from bs4 import BeautifulSoup"
   ]
  },
  {
   "cell_type": "code",
   "execution_count": 2,
   "id": "e2c23c02",
   "metadata": {},
   "outputs": [],
   "source": [
    "#Chicago Bears,  Chicago Cubs, Chicago White Sox,  Chicago Blackhawks,  Chicago Fire FC\n",
    "\n",
    "# URL of the webpage containing the NFL 2018 season data\n",
    "football = 'https://www.pro-football-reference.com/years/2018/games.htm'\n",
    "response_football = requests.get(football)\n",
    "if response_football.status_code == 200:\n",
    "    soup = BeautifulSoup(response_football.content, 'html.parser')\n",
    "    table = soup.find('table', {'id': 'games'})\n",
    "    headers = [th.getText() for th in table.find('thead').findAll('th')]\n",
    "    rows = []\n",
    "    for row in table.find('tbody').findAll('tr'):\n",
    "        rows.append([td.getText() for td in row.findAll('td')])\n",
    "    nfldf = pd.DataFrame(rows, columns=headers[1:])  # Skipping the first header ('Week') which is an index\n",
    "    nfldf.dropna(how='all', inplace=True)\n",
    "    nfldf.reset_index(drop=True, inplace=True)\n",
    "    \n",
    "    # Filter rows where Chicago Bears played\n",
    "    nfldf = nfldf[nfldf['Winner/tie'].str.contains('Chicago Bears', na=False) | nfldf['Loser/tie'].str.contains('Chicago Bears', na=False)]    \n",
    "else:\n",
    "    print(f'Failed to retrieve football data: {response.status_code}')\n",
    "\n",
    "# URL of the webpage containing the MLB 2018 season data\n",
    "baseball = 'https://www.baseball-reference.com/teams/CHC/2018-schedule-scores.shtml'\n",
    "response_baseball = requests.get(baseball)\n",
    "if response_baseball.status_code == 200:\n",
    "    soup = BeautifulSoup(response_baseball.content, 'html.parser')\n",
    "    table = soup.find('table', {'id': 'team_schedule'})\n",
    "    headers = [th.getText() for th in table.find('thead').findAll('th')]\n",
    "    rows = []\n",
    "    for row in table.find('tbody').findAll('tr'):\n",
    "        rows.append([td.getText() for td in row.findAll(['th', 'td'])])\n",
    "    mlbdf = pd.DataFrame(rows, columns=headers)\n",
    "    mlbdf[\"Gm#\"] = pd.to_numeric(mlbdf[\"Gm#\"], errors=\"coerce\")\n",
    "    mlbdf.dropna(subset=[\"Gm#\"], inplace=True)\n",
    "    mlbdf.reset_index(drop=True, inplace=True)\n",
    "else:\n",
    "    print(f'Failed to retrieve baseball data: {response.status_code}')"
   ]
  },
  {
   "cell_type": "code",
   "execution_count": 4,
   "id": "7def8527",
   "metadata": {},
   "outputs": [
    {
     "data": {
      "text/html": [
       "<div>\n",
       "<style scoped>\n",
       "    .dataframe tbody tr th:only-of-type {\n",
       "        vertical-align: middle;\n",
       "    }\n",
       "\n",
       "    .dataframe tbody tr th {\n",
       "        vertical-align: top;\n",
       "    }\n",
       "\n",
       "    .dataframe thead th {\n",
       "        text-align: right;\n",
       "    }\n",
       "</style>\n",
       "<table border=\"1\" class=\"dataframe\">\n",
       "  <thead>\n",
       "    <tr style=\"text-align: right;\">\n",
       "      <th></th>\n",
       "      <th>date</th>\n",
       "    </tr>\n",
       "  </thead>\n",
       "  <tbody>\n",
       "    <tr>\n",
       "      <th>0</th>\n",
       "      <td>2018-10-18 20:00:00</td>\n",
       "    </tr>\n",
       "  </tbody>\n",
       "</table>\n",
       "</div>"
      ],
      "text/plain": [
       "                 date\n",
       "0 2018-10-18 20:00:00"
      ]
     },
     "execution_count": 4,
     "metadata": {},
     "output_type": "execute_result"
    }
   ],
   "source": [
    "chicago_bulls_raw = pd.read_csv(r'Chicago_Bulls.csv', index_col=None)\n",
    "chicago_bulls_raw = chicago_bulls_raw.loc[chicago_bulls_raw['Unnamed: 5'] =='@']\n",
    "\n",
    "def extract_date_basketball(row):\n",
    "    date = pd.to_datetime(row['Date'] + ',' +\n",
    "                          row['Start (ET)'].replace(\"p\", \"PM\"),\n",
    "                          format='%a %b %d %Y,%I:%M%p')\n",
    "    return pd.Series(data={'date': date})\n",
    "chicago_bulls = pd.DataFrame(\n",
    "    chicago_bulls_raw.apply(lambda row: extract_date_basketball(row), axis=1))\n",
    "chicago_bulls.head(1)"
   ]
  }
 ],
 "metadata": {
  "kernelspec": {
   "display_name": "Python 3 (ipykernel)",
   "language": "python",
   "name": "python3"
  },
  "language_info": {
   "codemirror_mode": {
    "name": "ipython",
    "version": 3
   },
   "file_extension": ".py",
   "mimetype": "text/x-python",
   "name": "python",
   "nbconvert_exporter": "python",
   "pygments_lexer": "ipython3",
   "version": "3.11.5"
  }
 },
 "nbformat": 4,
 "nbformat_minor": 5
}
