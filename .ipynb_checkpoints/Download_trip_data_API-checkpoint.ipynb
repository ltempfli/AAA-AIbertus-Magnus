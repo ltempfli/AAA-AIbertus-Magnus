{
 "cells": [
  {
   "cell_type": "markdown",
   "metadata": {
    "toc": true
   },
   "source": [
    "<h1>Table of Contents<span class=\"tocSkip\"></span></h1>\n",
    "<div class=\"toc\"><ul class=\"toc-item\"></ul></div>"
   ]
  },
  {
   "cell_type": "code",
   "execution_count": 1,
   "metadata": {},
   "outputs": [],
   "source": [
    "import requests\n",
    "import json\n",
    "import csv"
   ]
  },
  {
   "cell_type": "code",
   "execution_count": 3,
   "metadata": {},
   "outputs": [
    {
     "name": "stdout",
     "output_type": "stream",
     "text": [
      "20660000\n",
      "\n",
      "length\n",
      "35512\n"
     ]
    }
   ],
   "source": [
    "# used for paging: number of entries that should be skipped \n",
    "# -> if you want to download the file: set offset to zero\n",
    "offset=20660000\n",
    "# break condition for the while loop -> to stop when no more records are returned\n",
    "\n",
    "limit=50000\n",
    "\n",
    "size=limit\n",
    "# initiate a requests session\n",
    "session= requests.Session()\n",
    "\n",
    "# paging through the records\n",
    "while size >limit-1:\n",
    "    \n",
    "    # print the number of records retrieved\n",
    "    print(offset)\n",
    "    \n",
    "    #make HTTP request\n",
    "    response=session.get(url='https://data.cityofchicago.org/resource/wrvz-psew.json', \n",
    "                          params={\n",
    "                              '$limit': limit,\n",
    "                              '$where': 'trip_start_timestamp > \"2018-01-01T00:00:00.000\" AND trip_start_timestamp < \"2018-12-31T00:00:00.000\"',\n",
    "                              '$order': 'trip_start_timestamp',\n",
    "                              '$offset': offset\n",
    "                          })\n",
    "    \n",
    "    # parse json\n",
    "    data = response.json()\n",
    "    \n",
    "    print('\\nlength')\n",
    "    print(len(data))\n",
    "    #print(response.text)\n",
    "    break\n",
    "\n",
    "    #print(response.text)\n",
    "    \n",
    "    #write response into a csv file\n",
    "    with open('chicago_taxi_data.csv', 'a', newline='')as csv_file:\n",
    "        #csv writer\n",
    "        writer = csv.DictWriter(csv_file, fieldnames=data[0].keys())\n",
    "        # Write header\n",
    "        if offset==0:\n",
    "            writer.writeheader()\n",
    "        # Write rows\n",
    "        for row in data:\n",
    "            writer.fieldnames = row.keys()\n",
    "            writer.writerow(row)\n",
    "    \n",
    "    #update the offset\n",
    "    offset+=limit\n",
    "    # update the break condition --> 7730000 --> 10886000 --> 10910000 --> 20660000 --> 20710000\n",
    "    size=len(data)"
   ]
  }
 ],
 "metadata": {
  "kernelspec": {
   "display_name": "Python 3",
   "language": "python",
   "name": "python3"
  },
  "language_info": {
   "codemirror_mode": {
    "name": "ipython",
    "version": 3
   },
   "file_extension": ".py",
   "mimetype": "text/x-python",
   "name": "python",
   "nbconvert_exporter": "python",
   "pygments_lexer": "ipython3",
   "version": "3.8.5"
  },
  "toc": {
   "base_numbering": 1,
   "nav_menu": {},
   "number_sections": true,
   "sideBar": true,
   "skip_h1_title": false,
   "title_cell": "Table of Contents",
   "title_sidebar": "Contents",
   "toc_cell": true,
   "toc_position": {},
   "toc_section_display": true,
   "toc_window_display": false
  }
 },
 "nbformat": 4,
 "nbformat_minor": 4
}
