{
 "cells": [
  {
   "cell_type": "markdown",
   "metadata": {
    "toc": true
   },
   "source": [
    "<h1>Table of Contents<span class=\"tocSkip\"></span></h1>\n",
    "<div class=\"toc\"><ul class=\"toc-item\"><li><span><a href=\"#Imports\" data-toc-modified-id=\"Imports-1\"><span class=\"toc-item-num\">1&nbsp;&nbsp;</span>Imports</a></span></li><li><span><a href=\"#Helper-functions\" data-toc-modified-id=\"Helper-functions-2\"><span class=\"toc-item-num\">2&nbsp;&nbsp;</span>Helper functions</a></span></li><li><span><a href=\"#Extract-wheater-data\" data-toc-modified-id=\"Extract-wheater-data-3\"><span class=\"toc-item-num\">3&nbsp;&nbsp;</span>Extract wheater data</a></span></li><li><span><a href=\"#Visualize-Data\" data-toc-modified-id=\"Visualize-Data-4\"><span class=\"toc-item-num\">4&nbsp;&nbsp;</span>Visualize Data</a></span></li><li><span><a href=\"#Clean-Data\" data-toc-modified-id=\"Clean-Data-5\"><span class=\"toc-item-num\">5&nbsp;&nbsp;</span>Clean Data</a></span></li><li><span><a href=\"#Export-to-.csv\" data-toc-modified-id=\"Export-to-.csv-6\"><span class=\"toc-item-num\">6&nbsp;&nbsp;</span>Export to .csv</a></span></li></ul></div>"
   ]
  },
  {
   "cell_type": "markdown",
   "metadata": {},
   "source": [
    "## Imports"
   ]
  },
  {
   "cell_type": "code",
   "execution_count": 1,
   "metadata": {},
   "outputs": [],
   "source": [
    "from selenium import webdriver\n",
    "from selenium.webdriver.chrome.service import Service\n",
    "from selenium.webdriver.common.by import By\n",
    "import pandas as pd\n",
    "from datetime import datetime, timedelta\n",
    "import time "
   ]
  },
  {
   "cell_type": "markdown",
   "metadata": {},
   "source": [
    "## Helper functions"
   ]
  },
  {
   "cell_type": "code",
   "execution_count": 7,
   "metadata": {},
   "outputs": [],
   "source": [
    "def extract_content(table):\n",
    "    '''\n",
    "    This method extracts the weather data for a speficfic date and save it in a list\n",
    "    \n",
    "    param table:   table which contains the wheater data\n",
    "    returns:       list with weather data\n",
    "    '''\n",
    "    # list where the wheater is saved\n",
    "    list_day=[]\n",
    "    # get columns of the table\n",
    "    thead = table.find_element(By.XPATH, \"./thead\")\n",
    "    # get the column name\n",
    "    names = thead.find_elements(By.TAG_NAME, \"th\")\n",
    "    #get the body of the table\n",
    "    tbody = table.find_element(By.XPATH, \"./tbody\")\n",
    "    # Find all rows in the table\n",
    "    rows = tbody.find_elements(By.TAG_NAME, \"tr\")\n",
    "\n",
    "    # Iterate over each row\n",
    "    for row in rows:\n",
    "        \n",
    "        # get all cells of the row\n",
    "        cells = row.find_elements(By.TAG_NAME, \"td\")\n",
    "        # create dictionary to save the content of the row\n",
    "        dict_hour = {\n",
    "                \n",
    "        }\n",
    "        # Iterate over each cell in the row\n",
    "        for i in range(0, len(cells)):\n",
    "            \n",
    "            # Save content of the cell in the dictionary\n",
    "            dict_hour[names[i].text] = cells[i].text\n",
    "            \n",
    "        # add row to the list    \n",
    "        list_day.append(dict_hour)\n",
    "        \n",
    "    return list_day\n",
    "\n",
    "\n",
    "def create_date_list():\n",
    "    '''\n",
    "    This method creates a list of dates \n",
    "    \n",
    "    returns:  list of dates \n",
    "    '''\n",
    "    # create a startdate\n",
    "    start = datetime(2018, 1, 1)\n",
    "    # create the enddate\n",
    "    end = datetime(2018, 12, 31)\n",
    "    # create timedelta to increase days\n",
    "    day = timedelta(day=1)\n",
    "    list_dates=[]\n",
    "    \n",
    "    while start <= end:\n",
    "        \n",
    "        # add date to list\n",
    "        list_dates.append(start)\n",
    "        # increase date by one day\n",
    "        start = start + day\n",
    "    \n",
    "    return list_dates\n",
    "        \n",
    "    \n",
    "def change_date(date):\n",
    "    "
   ]
  },
  {
   "cell_type": "markdown",
   "metadata": {},
   "source": [
    "## Extract wheater data"
   ]
  },
  {
   "cell_type": "code",
   "execution_count": 8,
   "metadata": {},
   "outputs": [
    {
     "name": "stderr",
     "output_type": "stream",
     "text": [
      "<ipython-input-8-7a62691983a5>:3: DeprecationWarning: executable_path has been deprecated, please pass in a Service object\n",
      "  driver = webdriver.Chrome(executable_path= r'C:\\Users\\lukas\\ChromeDriver\\chromedriver.exe')\n"
     ]
    }
   ],
   "source": [
    "# Set up the Chrome webdriver (you'll need to have Chrome installed)\n",
    "service = Service('/path/to/chromedriver')  # Path to your chromedriver executable\n",
    "driver = webdriver.Chrome(executable_path= r'C:\\Users\\lukas\\ChromeDriver\\chromedriver.exe')\n",
    "\n",
    "# Load the webpage\n",
    "driver.get('https://www.wunderground.com/history/daily/us/il/chicago/KMDW/date/2018-5-17')\n",
    "\n",
    "# Wait for the table or relevant element to load (adjust wait time as needed)\n",
    "driver.implicitly_wait(3) "
   ]
  },
  {
   "cell_type": "code",
   "execution_count": 9,
   "metadata": {},
   "outputs": [],
   "source": [
    "table = driver.find_element(By.CSS_SELECTOR, \"table.mat-table\")"
   ]
  },
  {
   "cell_type": "code",
   "execution_count": 10,
   "metadata": {},
   "outputs": [
    {
     "name": "stdout",
     "output_type": "stream",
     "text": [
      "row\n",
      "row\n",
      "row\n",
      "row\n",
      "row\n",
      "row\n",
      "row\n",
      "row\n",
      "row\n",
      "row\n",
      "row\n",
      "row\n",
      "row\n",
      "row\n",
      "row\n",
      "row\n",
      "row\n",
      "row\n",
      "row\n",
      "row\n",
      "row\n",
      "row\n",
      "row\n",
      "row\n"
     ]
    }
   ],
   "source": [
    "list_day=extract_content(table)"
   ]
  },
  {
   "cell_type": "markdown",
   "metadata": {},
   "source": [
    "## Visualize Data"
   ]
  },
  {
   "cell_type": "markdown",
   "metadata": {},
   "source": [
    "## Clean Data"
   ]
  },
  {
   "cell_type": "markdown",
   "metadata": {},
   "source": [
    "## Export to .csv"
   ]
  }
 ],
 "metadata": {
  "kernelspec": {
   "display_name": "Python 3",
   "language": "python",
   "name": "python3"
  },
  "language_info": {
   "codemirror_mode": {
    "name": "ipython",
    "version": 3
   },
   "file_extension": ".py",
   "mimetype": "text/x-python",
   "name": "python",
   "nbconvert_exporter": "python",
   "pygments_lexer": "ipython3",
   "version": "3.8.5"
  },
  "toc": {
   "base_numbering": 1,
   "nav_menu": {},
   "number_sections": true,
   "sideBar": true,
   "skip_h1_title": false,
   "title_cell": "Table of Contents",
   "title_sidebar": "Contents",
   "toc_cell": true,
   "toc_position": {},
   "toc_section_display": true,
   "toc_window_display": false
  }
 },
 "nbformat": 4,
 "nbformat_minor": 4
}
