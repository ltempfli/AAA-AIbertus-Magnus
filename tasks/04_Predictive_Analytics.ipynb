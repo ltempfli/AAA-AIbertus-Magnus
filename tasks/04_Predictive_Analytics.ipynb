{
 "cells": [
  {
   "cell_type": "markdown",
   "metadata": {
    "toc": true
   },
   "source": [
    "<h1>Table of Contents<span class=\"tocSkip\"></span></h1>\n",
    "<div class=\"toc\"><ul class=\"toc-item\"><li><span><a href=\"#Imports\" data-toc-modified-id=\"Imports-1\"><span class=\"toc-item-num\">1&nbsp;&nbsp;</span>Imports</a></span></li><li><span><a href=\"#Load-Data\" data-toc-modified-id=\"Load-Data-2\"><span class=\"toc-item-num\">2&nbsp;&nbsp;</span>Load Data</a></span></li><li><span><a href=\"#Functions\" data-toc-modified-id=\"Functions-3\"><span class=\"toc-item-num\">3&nbsp;&nbsp;</span>Functions</a></span></li><li><span><a href=\"#Support-Vector-Machine\" data-toc-modified-id=\"Support-Vector-Machine-4\"><span class=\"toc-item-num\">4&nbsp;&nbsp;</span>Support Vector Machine</a></span></li><li><span><a href=\"#Neural-Network\" data-toc-modified-id=\"Neural-Network-5\"><span class=\"toc-item-num\">5&nbsp;&nbsp;</span>Neural Network</a></span></li></ul></div>"
   ]
  },
  {
   "cell_type": "markdown",
   "metadata": {},
   "source": [
    "# Imports"
   ]
  },
  {
   "cell_type": "code",
   "execution_count": 34,
   "metadata": {},
   "outputs": [],
   "source": [
    "import pandas as pd\n",
    "import matplotlib as plt\n",
    "\n",
    "from sklearn.preprocessing import StandardScaler, MinMaxScaler, OneHotEncoder\n",
    "from sklearn.metrics import r2_score, mean_absolute_error, mean_squared_error\n",
    "from sklearn.model_selection import KFold\n",
    "#import seaborn as sns\n",
    "\n",
    "from tensorflow.keras.models import Sequential\n",
    "from tensorflow.keras.layers import Dense"
   ]
  },
  {
   "cell_type": "markdown",
   "metadata": {},
   "source": [
    "# Load Data"
   ]
  },
  {
   "cell_type": "code",
   "execution_count": 13,
   "metadata": {},
   "outputs": [],
   "source": [
    "time_periods = [1, 2, 6, 24] # time bins we want to predict the demand for\n",
    "resolution = ['h3_res_4', 'h3_res_6', 'h3_res_8'] # spatial resolution we want to predict the demand for\n",
    "\n",
    "prediction_data={}\n",
    "for periods in time_periods:\n",
    "    res_data={}\n",
    "    for res in resolution:\n",
    "        res_data[res]=pd.read_csv(f'../data/{periods}hours_{res}.csv', index_col=False)\n",
    "    prediction_data[periods]=res_data"
   ]
  },
  {
   "cell_type": "code",
   "execution_count": 15,
   "metadata": {},
   "outputs": [
    {
     "data": {
      "text/html": [
       "<div>\n",
       "<style scoped>\n",
       "    .dataframe tbody tr th:only-of-type {\n",
       "        vertical-align: middle;\n",
       "    }\n",
       "\n",
       "    .dataframe tbody tr th {\n",
       "        vertical-align: top;\n",
       "    }\n",
       "\n",
       "    .dataframe thead th {\n",
       "        text-align: right;\n",
       "    }\n",
       "</style>\n",
       "<table border=\"1\" class=\"dataframe\">\n",
       "  <thead>\n",
       "    <tr style=\"text-align: right;\">\n",
       "      <th></th>\n",
       "      <th>h3_res_4</th>\n",
       "      <th>temperature</th>\n",
       "      <th>precipitation</th>\n",
       "      <th>number_of_trips</th>\n",
       "      <th>weekday</th>\n",
       "      <th>month</th>\n",
       "      <th>hour</th>\n",
       "      <th>hour_sin</th>\n",
       "      <th>hour_cos</th>\n",
       "      <th>weekday_sin</th>\n",
       "      <th>weekday_cos</th>\n",
       "      <th>lagged_1h</th>\n",
       "      <th>lagged_1day</th>\n",
       "    </tr>\n",
       "  </thead>\n",
       "  <tbody>\n",
       "    <tr>\n",
       "      <th>0</th>\n",
       "      <td>8426645ffffffff</td>\n",
       "      <td>-20.555556</td>\n",
       "      <td>0.0</td>\n",
       "      <td>2</td>\n",
       "      <td>1.0</td>\n",
       "      <td>1.0</td>\n",
       "      <td>0.0</td>\n",
       "      <td>0.000000</td>\n",
       "      <td>1.000000</td>\n",
       "      <td>-2.449294e-16</td>\n",
       "      <td>1.0</td>\n",
       "      <td>NaN</td>\n",
       "      <td>NaN</td>\n",
       "    </tr>\n",
       "    <tr>\n",
       "      <th>1</th>\n",
       "      <td>842664dffffffff</td>\n",
       "      <td>-20.555556</td>\n",
       "      <td>0.0</td>\n",
       "      <td>2321</td>\n",
       "      <td>1.0</td>\n",
       "      <td>1.0</td>\n",
       "      <td>0.0</td>\n",
       "      <td>0.000000</td>\n",
       "      <td>1.000000</td>\n",
       "      <td>-2.449294e-16</td>\n",
       "      <td>1.0</td>\n",
       "      <td>NaN</td>\n",
       "      <td>NaN</td>\n",
       "    </tr>\n",
       "    <tr>\n",
       "      <th>2</th>\n",
       "      <td>8427593ffffffff</td>\n",
       "      <td>-20.555556</td>\n",
       "      <td>0.0</td>\n",
       "      <td>35</td>\n",
       "      <td>1.0</td>\n",
       "      <td>1.0</td>\n",
       "      <td>0.0</td>\n",
       "      <td>0.000000</td>\n",
       "      <td>1.000000</td>\n",
       "      <td>-2.449294e-16</td>\n",
       "      <td>1.0</td>\n",
       "      <td>NaN</td>\n",
       "      <td>NaN</td>\n",
       "    </tr>\n",
       "    <tr>\n",
       "      <th>3</th>\n",
       "      <td>8426645ffffffff</td>\n",
       "      <td>-18.333333</td>\n",
       "      <td>0.0</td>\n",
       "      <td>2</td>\n",
       "      <td>1.0</td>\n",
       "      <td>1.0</td>\n",
       "      <td>1.0</td>\n",
       "      <td>0.269797</td>\n",
       "      <td>0.962917</td>\n",
       "      <td>-2.449294e-16</td>\n",
       "      <td>1.0</td>\n",
       "      <td>2.0</td>\n",
       "      <td>NaN</td>\n",
       "    </tr>\n",
       "  </tbody>\n",
       "</table>\n",
       "</div>"
      ],
      "text/plain": [
       "          h3_res_4  temperature  precipitation  number_of_trips  weekday  \\\n",
       "0  8426645ffffffff   -20.555556            0.0                2      1.0   \n",
       "1  842664dffffffff   -20.555556            0.0             2321      1.0   \n",
       "2  8427593ffffffff   -20.555556            0.0               35      1.0   \n",
       "3  8426645ffffffff   -18.333333            0.0                2      1.0   \n",
       "\n",
       "   month  hour  hour_sin  hour_cos   weekday_sin  weekday_cos  lagged_1h  \\\n",
       "0    1.0   0.0  0.000000  1.000000 -2.449294e-16          1.0        NaN   \n",
       "1    1.0   0.0  0.000000  1.000000 -2.449294e-16          1.0        NaN   \n",
       "2    1.0   0.0  0.000000  1.000000 -2.449294e-16          1.0        NaN   \n",
       "3    1.0   1.0  0.269797  0.962917 -2.449294e-16          1.0        2.0   \n",
       "\n",
       "   lagged_1day  \n",
       "0          NaN  \n",
       "1          NaN  \n",
       "2          NaN  \n",
       "3          NaN  "
      ]
     },
     "execution_count": 15,
     "metadata": {},
     "output_type": "execute_result"
    }
   ],
   "source": [
    "df = prediction_data.get(1).get('h3_res_4')b\n",
    "df.head(4)"
   ]
  },
  {
   "cell_type": "code",
   "execution_count": 37,
   "metadata": {},
   "outputs": [],
   "source": [
    "encoder = OneHotEncoder(sparse=False)\n",
    "encoded_data = encoder.fit_transform(df[['h3_res_4']])\n",
    "encoded_df = pd.DataFrame(encoded_data, columns=encoder.get_feature_names_out(['h3_res_4']))\n",
    "df = pd.concat([df, encoded_df], axis=1).drop('h3_res_4', axis=1)\n"
   ]
  },
  {
   "cell_type": "markdown",
   "metadata": {},
   "source": [
    "# Functions"
   ]
  },
  {
   "cell_type": "code",
   "execution_count": 47,
   "metadata": {},
   "outputs": [],
   "source": [
    "def k_fold_validation(k, X, Y, model):\n",
    "    '''\n",
    "    '''\n",
    "    k_fold = KFold(n_splits= k, random_state=47, shuffle=True)\n",
    "    for train_index, val_index in k_fold.split(X,Y):\n",
    "        X_train, Y_train, X_val, Y_val = prepare_data(X,Y, train_index, val_index)\n",
    "        #train_model(data=X_train, model=model)\n",
    "        #evaluate_model(data=data)\n",
    "        print(X_train)\n",
    "        print(len(X_train))\n",
    "        print(len(Y_train))\n",
    "        print(len(Y_val))\n",
    "    \n",
    "def prepare_data(X,Y,train_index, val_index):\n",
    "    '''\n",
    "    '''\n",
    "    Scaler=StandardScaler()\n",
    "    \n",
    "    X_train = Scaler.fit_transform(X.iloc[train_index])\n",
    "    Y_train = Scaler.fit_transform(Y[train_index].values.reshape(-1,1))\n",
    "    \n",
    "    X_val = Scaler.fit_transform(X.iloc[val_index])\n",
    "    Y_val = Scaler.fit_transform(Y[val_index].values.reshape(-1,1))\n",
    "    \n",
    "    return X_train, Y_train, X_val, Y_val\n",
    "\n",
    "def train_nn():\n",
    "    return None\n",
    "\n",
    "def train_svm():\n",
    "    return None"
   ]
  },
  {
   "cell_type": "markdown",
   "metadata": {},
   "source": [
    "# Support Vector Machine"
   ]
  },
  {
   "cell_type": "markdown",
   "metadata": {},
   "source": [
    "# Neural Network"
   ]
  },
  {
   "cell_type": "code",
   "execution_count": 38,
   "metadata": {},
   "outputs": [
    {
     "data": {
      "text/plain": [
       "Index(['temperature', 'precipitation', 'number_of_trips', 'weekday', 'month',\n",
       "       'hour', 'hour_sin', 'hour_cos', 'weekday_sin', 'weekday_cos',\n",
       "       'lagged_1h', 'lagged_1day', 'h3_res_4_8426641ffffffff',\n",
       "       'h3_res_4_8426645ffffffff', 'h3_res_4_842664dffffffff',\n",
       "       'h3_res_4_8427593ffffffff'],\n",
       "      dtype='object')"
      ]
     },
     "execution_count": 38,
     "metadata": {},
     "output_type": "execute_result"
    }
   ],
   "source": [
    "df.columns"
   ]
  },
  {
   "cell_type": "code",
   "execution_count": 42,
   "metadata": {},
   "outputs": [],
   "source": [
    "features=['temperature', 'precipitation', 'hour_sin', 'hour_cos', 'weekday_sin', 'weekday_cos',\n",
    "       'lagged_1h', 'lagged_1day', 'h3_res_4_8426641ffffffff',\n",
    "       'h3_res_4_8426645ffffffff', 'h3_res_4_842664dffffffff',\n",
    "       'h3_res_4_8427593ffffffff']"
   ]
  },
  {
   "cell_type": "code",
   "execution_count": 39,
   "metadata": {},
   "outputs": [],
   "source": [
    "nn_model = Sequential()\n",
    "nn_model.add(Dense(12, input_shape=(len(features),), activation='relu'))\n",
    "nn_model.add(Dense(8, activation='relu'))\n",
    "nn_model.add(Dense(4, activation='relu'))\n",
    "nn_model.add(Dense(1))"
   ]
  },
  {
   "cell_type": "code",
   "execution_count": 48,
   "metadata": {},
   "outputs": [
    {
     "name": "stdout",
     "output_type": "stream",
     "text": [
      "[[-1.45002271  0.          0.00892757 ...  1.93649167 -0.76376262\n",
      "  -0.73994007]\n",
      " [-1.45002271  0.          0.00892757 ... -0.51639778  1.30930734\n",
      "  -0.73994007]\n",
      " [-1.45002271  0.          0.00892757 ... -0.51639778 -0.76376262\n",
      "   1.3514608 ]\n",
      " ...\n",
      " [ 2.41645789  0.         -0.89989707 ...  1.93649167 -0.76376262\n",
      "  -0.73994007]\n",
      " [ 2.41645789  0.         -0.89989707 ... -0.51639778  1.30930734\n",
      "  -0.73994007]\n",
      " [ 2.58275813  0.         -1.16758416 ...  1.93649167 -0.76376262\n",
      "  -0.73994007]]\n",
      "342\n",
      "342\n",
      "114\n",
      "[[-1.48040872  0.         -0.02151472 ... -0.51639778 -0.73994007\n",
      "   1.34286213]\n",
      " [-1.22411509  0.          0.36876441 ... -0.51639778  1.3514608\n",
      "  -0.74467809]\n",
      " [-1.30818781  0.          0.36876441 ... -0.51639778 -0.73994007\n",
      "   1.34286213]\n",
      " ...\n",
      " [ 2.40930487  0.         -1.20331647 ... -0.51639778 -0.73994007\n",
      "   1.34286213]\n",
      " [ 2.54061047  0.         -1.38455835 ... -0.51639778  1.3514608\n",
      "  -0.74467809]\n",
      " [ 2.54032949  0.         -1.38455835 ... -0.51639778 -0.73994007\n",
      "   1.34286213]]\n",
      "342\n",
      "342\n",
      "114\n",
      "[[-1.39664018  0.         -0.02795646 ...  1.82458596 -0.72580005\n",
      "  -0.73050139]\n",
      " [-1.39664018  0.         -0.02795646 ... -0.54806955  1.37778993\n",
      "  -0.73050139]\n",
      " [-1.39664018  0.         -0.02795646 ... -0.54806955 -0.72580005\n",
      "   1.36892278]\n",
      " ...\n",
      " [ 2.51252151  0.         -1.19766017 ... -0.54806955 -0.72580005\n",
      "   1.36892278]\n",
      " [ 2.64448362  0.         -1.37704669 ... -0.54806955  1.37778993\n",
      "  -0.73050139]\n",
      " [ 2.64420124  0.         -1.37704669 ... -0.54806955 -0.72580005\n",
      "   1.36892278]]\n",
      "342\n",
      "342\n",
      "114\n",
      "[[-1.48479693  0.         -0.01021967 ...  1.76648859 -0.72580005\n",
      "  -0.73994007]\n",
      " [-1.48479693  0.         -0.01021967 ... -0.5660948   1.37778993\n",
      "  -0.73994007]\n",
      " [-0.98645243  0.          0.37906654 ...  1.76648859 -0.72580005\n",
      "  -0.73994007]\n",
      " ...\n",
      " [ 2.53499328  0.         -1.18901476 ... -0.5660948  -0.72580005\n",
      "   1.3514608 ]\n",
      " [ 2.6706899   0.         -1.36979554 ... -0.5660948   1.37778993\n",
      "  -0.73994007]\n",
      " [ 2.67039953  0.         -1.36979554 ... -0.5660948  -0.72580005\n",
      "   1.3514608 ]]\n",
      "342\n",
      "342\n",
      "114\n"
     ]
    }
   ],
   "source": [
    "k_fold_validation(4, df[features], df['number_of_trips'], nn_model,)"
   ]
  },
  {
   "cell_type": "code",
   "execution_count": null,
   "metadata": {},
   "outputs": [],
   "source": []
  }
 ],
 "metadata": {
  "kernelspec": {
   "display_name": "Python 3 (ipykernel)",
   "language": "python",
   "name": "python3"
  },
  "language_info": {
   "codemirror_mode": {
    "name": "ipython",
    "version": 3
   },
   "file_extension": ".py",
   "mimetype": "text/x-python",
   "name": "python",
   "nbconvert_exporter": "python",
   "pygments_lexer": "ipython3",
   "version": "3.7.12"
  },
  "toc": {
   "base_numbering": 1,
   "nav_menu": {},
   "number_sections": true,
   "sideBar": true,
   "skip_h1_title": false,
   "title_cell": "Table of Contents",
   "title_sidebar": "Contents",
   "toc_cell": true,
   "toc_position": {},
   "toc_section_display": true,
   "toc_window_display": false
  }
 },
 "nbformat": 4,
 "nbformat_minor": 4
}
