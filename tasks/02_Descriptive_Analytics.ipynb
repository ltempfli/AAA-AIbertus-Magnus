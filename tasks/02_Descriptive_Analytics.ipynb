{
 "cells": [
  {
   "cell_type": "code",
   "execution_count": null,
   "id": "bc8c1349",
   "metadata": {},
   "outputs": [],
   "source": [
    "import pandas as pd\n",
    "import seaborn as sns\n",
    "import matplotlib.pyplot as plt\n",
    "import numpy as np\n",
    "import folium\n",
    "import h3\n",
    "import geopandas as gpd\n",
    "import geojson"
   ]
  },
  {
   "cell_type": "markdown",
   "id": "039d08cd",
   "metadata": {},
   "source": [
    "TODO: seasonal eff, taxi speed, count dropoff/pickup,pricepermile outlier? idle time"
   ]
  },
  {
   "cell_type": "code",
   "execution_count": null,
   "id": "43fb718e",
   "metadata": {},
   "outputs": [],
   "source": [
    "df = pd.read_csv(\n",
    "    \"../data/analytics_trip_data.csv\",\n",
    "    index_col=None,\n",
    "    dtype={\n",
    "        'payment_type': 'category',\n",
    "        'company': 'category'\n",
    "    },\n",
    "    usecols={\n",
    "        'taxi_id',\n",
    "        'trip_start_timestamp',\n",
    "        'trip_end_timestamp',\n",
    "        'trip_seconds',\n",
    "        'trip_miles',\n",
    "        'pickup_census_tract',\n",
    "        'dropoff_census_tract',\n",
    "        'pickup_community_area',\n",
    "        'dropoff_community_area',\n",
    "        'fare',\n",
    "        'tips',\n",
    "        'tolls',\n",
    "        'extras',\n",
    "        'trip_total',\n",
    "        'payment_type',\n",
    "        'company',\n",
    "        'pickup_centroid_location',\n",
    "        'dropoff_centroid_location',\n",
    "        'h3_res_4_pickup',\n",
    "        'h3_res_4_dropoff',\n",
    "        'h3_res_6_pickup',\n",
    "        'h3_res_6_dropoff',\n",
    "        'h3_res_8_pickup',\n",
    "        'h3_res_8_dropoff',\n",
    "        'temperature',\n",
    "        \"precipitation\"\n",
    "    },         \n",
    "    parse_dates=['trip_start_timestamp', 'trip_end_timestamp'])"
   ]
  },
  {
   "cell_type": "code",
   "execution_count": null,
   "id": "aaf9a89c",
   "metadata": {
    "scrolled": false
   },
   "outputs": [],
   "source": [
    "pd.set_option('display.max_columns', None)\n",
    "df.describe()"
   ]
  },
  {
   "cell_type": "code",
   "execution_count": null,
   "id": "d0ad1327",
   "metadata": {},
   "outputs": [],
   "source": [
    "df.head()"
   ]
  },
  {
   "cell_type": "markdown",
   "id": "4f1f0988",
   "metadata": {},
   "source": [
    "## Choropleth"
   ]
  },
  {
   "cell_type": "code",
   "execution_count": null,
   "id": "ae23b103",
   "metadata": {},
   "outputs": [],
   "source": [
    "def create_choropleth(dataframe,h3geocol,datacol,legend_name):\n",
    "    grouped_data = dataframe.groupby(dataframe[h3geocol])[datacol].mean().reset_index()\n",
    "    m = folium.Map(location=[41.8781, -87.6298], zoom_start=10)\n",
    "    \n",
    "    geojson_data = {\n",
    "        'type': 'FeatureCollection',\n",
    "        'features': []\n",
    "    }\n",
    "    \n",
    "    for index, row in grouped_data.iterrows():\n",
    "        geometry = {'type': 'Polygon', 'coordinates': [h3.h3_to_geo_boundary(row[h3geocol], geo_json=True)]}\n",
    "        feature = {'type': 'Feature', 'geometry': geometry, 'properties': {f'{h3geocol}': row[h3geocol],f'{datacol}': row[datacol]}}\n",
    "        geojson_data['features'].append(feature)\n",
    "        \n",
    "    cp = folium.Choropleth(\n",
    "        geo_data=geojson_data,\n",
    "        data=grouped_data,\n",
    "        columns=[h3geocol, datacol],\n",
    "        key_on=f'feature.properties.{h3geocol}',\n",
    "        fill_color='YlGnBu',\n",
    "        fill_opacity=0.7,\n",
    "        line_opacity=0.2,\n",
    "        legend_name=legend_name\n",
    "    ).add_to(m)\n",
    "\n",
    "    folium.GeoJsonTooltip([h3geocol,datacol]).add_to(cp.geojson)\n",
    "    \n",
    "    return m\n",
    "\n",
    "def create_choropleth_size(dataframe, h3geocol, legend_name):\n",
    "    # Count the number of rides per H3 hexagon\n",
    "    grouped_data = dataframe.groupby(h3geocol).size().reset_index(name='total_rides')\n",
    "    \n",
    "    # Create a base map\n",
    "    m = folium.Map(location=[41.8781, -87.6298], zoom_start=10)\n",
    "    \n",
    "    # Create GeoJSON data\n",
    "    geojson_data = {\n",
    "        'type': 'FeatureCollection',\n",
    "        'features': []\n",
    "    }\n",
    "    \n",
    "    # Generate GeoJSON features for each H3 hexagon\n",
    "    for index, row in grouped_data.iterrows():\n",
    "        geometry = {\n",
    "            'type': 'Polygon',\n",
    "            'coordinates': [h3.h3_to_geo_boundary(row[h3geocol], geo_json=True)]\n",
    "        }\n",
    "        feature = {\n",
    "            'type': 'Feature',\n",
    "            'geometry': geometry,\n",
    "            'properties': {\n",
    "                f'{h3geocol}': row[h3geocol],\n",
    "                'total_rides': row['total_rides']\n",
    "            }\n",
    "        }\n",
    "        geojson_data['features'].append(feature)\n",
    "    \n",
    "    # Create the choropleth map\n",
    "    folium.Choropleth(\n",
    "        geo_data=geojson_data,\n",
    "        data=grouped_data,\n",
    "        columns=[h3geocol, 'total_rides'],  # Ensure columns are correct\n",
    "        key_on=f'feature.properties.{h3geocol}',\n",
    "        fill_color='YlGnBu',\n",
    "        fill_opacity=0.7,\n",
    "        line_opacity=0,  # Remove outlines\n",
    "        legend_name=legend_name\n",
    "    ).add_to(m)\n",
    "    \n",
    "    # Add tooltips to display H3 ID and number of rides\n",
    "    folium.GeoJsonTooltip(\n",
    "        fields=[h3geocol, 'total_rides'],\n",
    "        aliases=['H3 ID:', legend_name]\n",
    "    ).add_to(folium.GeoJson(geojson_data).add_to(m))\n",
    "    \n",
    "    return m"
   ]
  },
  {
   "cell_type": "code",
   "execution_count": null,
   "id": "03939794",
   "metadata": {
    "scrolled": false
   },
   "outputs": [],
   "source": [
    "create_choropleth_size(df,\"h3_res_8_dropoff\",\"Average Total trip seconds\")"
   ]
  },
  {
   "cell_type": "code",
   "execution_count": null,
   "id": "3f440e68",
   "metadata": {
    "scrolled": false
   },
   "outputs": [],
   "source": [
    "create_choropleth(df,\"h3_res_8_pickup\",\"trip_seconds\",\"Average Total trip seconds\")"
   ]
  },
  {
   "cell_type": "code",
   "execution_count": null,
   "id": "20033e45",
   "metadata": {
    "scrolled": true
   },
   "outputs": [],
   "source": [
    "create_choropleth(df,\"h3_res_8_dropoff\",\"price_per_mile\",\"Average price per mile\")"
   ]
  },
  {
   "cell_type": "code",
   "execution_count": null,
   "id": "7ad783a0",
   "metadata": {
    "scrolled": true
   },
   "outputs": [],
   "source": [
    "create_choropleth(df,\"h3_res_8_pickup\",\"tips\",\"Average tips\")"
   ]
  },
  {
   "cell_type": "markdown",
   "id": "23c75ec9",
   "metadata": {},
   "source": [
    "## Heatmap"
   ]
  },
  {
   "cell_type": "code",
   "execution_count": null,
   "id": "f71875bb",
   "metadata": {},
   "outputs": [],
   "source": [
    "tempdf = df.copy()"
   ]
  },
  {
   "cell_type": "code",
   "execution_count": null,
   "id": "067dae7a",
   "metadata": {},
   "outputs": [],
   "source": [
    "hourly = tempdf.groupby(df[\"trip_middle_timestamp\"].dt.hour)[\"trip_seconds\"].mean().reset_index()\n",
    "weekdaily = tempdf.groupby(df[\"trip_middle_timestamp\"].dt.weekday)[\"trip_seconds\"].mean().reset_index()"
   ]
  },
  {
   "cell_type": "code",
   "execution_count": null,
   "id": "6f92cc44",
   "metadata": {},
   "outputs": [],
   "source": [
    "# Neue Spalten für Stunde und Wochentag hinzufügen\n",
    "tempdf['hour'] = df['trip_middle_timestamp'].dt.hour\n",
    "tempdf['weekday'] = df['trip_middle_timestamp'].dt.day_name()"
   ]
  },
  {
   "cell_type": "code",
   "execution_count": null,
   "id": "59945b25",
   "metadata": {},
   "outputs": [],
   "source": [
    "#NUMBER OF RIDES PER HOUR\n",
    "pivot_table_trip_count = tempdf.pivot_table(index='weekday', columns='hour', values='trip_seconds', aggfunc='size')\n",
    "pivot_table_trip_count = pivot_table_trip_count.reindex(['Monday', 'Tuesday', 'Wednesday', 'Thursday', 'Friday', 'Saturday', 'Sunday'])\n",
    "\n",
    "# Plot the heatmap\n",
    "sns.heatmap(pivot_table_trip_count, cmap='viridis')"
   ]
  },
  {
   "cell_type": "code",
   "execution_count": null,
   "id": "17787e0b",
   "metadata": {
    "scrolled": true
   },
   "outputs": [],
   "source": [
    "pivot_table_trip_seconds = tempdf.pivot_table(index='weekday', columns='hour', values='trip_seconds', aggfunc='mean')\n",
    "pivot_table_trip_seconds = pivot_table_trip_seconds.reindex(['Monday', 'Tuesday', 'Wednesday', 'Thursday', 'Friday', 'Saturday', 'Sunday'])\n",
    "sns.heatmap(pivot_table_trip_seconds, cmap='viridis') #trip seconds"
   ]
  },
  {
   "cell_type": "code",
   "execution_count": null,
   "id": "3c94b117",
   "metadata": {
    "scrolled": true
   },
   "outputs": [],
   "source": [
    "pivot_table_count = tempdf.pivot_table(index='weekday', columns='hour',values=\"tips\",aggfunc='mean')\n",
    "pivot_table_count = pivot_table_count.reindex(['Monday', 'Tuesday', 'Wednesday', 'Thursday', 'Friday', 'Saturday', 'Sunday'])\n",
    "sns.heatmap(pivot_table_count, cmap='viridis') #trip count"
   ]
  },
  {
   "cell_type": "markdown",
   "id": "1da2457a",
   "metadata": {},
   "source": [
    "## Idle time"
   ]
  },
  {
   "cell_type": "code",
   "execution_count": null,
   "id": "a63e458e",
   "metadata": {},
   "outputs": [],
   "source": [
    "df_sorted = df.sort_values(by=['taxi_id', 'trip_start_timestamp'])\n",
    "df_sorted['idle_time'] = df_sorted.groupby('taxi_id')['trip_start_timestamp'].shift(-1) - df_sorted['trip_end_timestamp']\n",
    "idledf = df_sorted.groupby('taxi_id')['idle_time'].mean().reset_index()\n",
    "idledf"
   ]
  },
  {
   "cell_type": "code",
   "execution_count": null,
   "id": "b9ce9db2",
   "metadata": {},
   "outputs": [],
   "source": [
    "print(idledf.dtypes)"
   ]
  },
  {
   "cell_type": "markdown",
   "id": "9d955895",
   "metadata": {},
   "source": [
    "## Correlation"
   ]
  },
  {
   "cell_type": "code",
   "execution_count": null,
   "id": "48d1ff92",
   "metadata": {},
   "outputs": [],
   "source": [
    "corrdf = df.copy()"
   ]
  },
  {
   "cell_type": "code",
   "execution_count": null,
   "id": "62232674",
   "metadata": {},
   "outputs": [],
   "source": [
    "corrdf['date_hour'] = corrdf['trip_middle_timestamp'].dt.floor('h')\n",
    "hourly_rides = corrdf.groupby('date_hour').size().reset_index(name='num_rides')\n",
    "hourly_precipitation = corrdf.groupby('date_hour')['precipitation'].mean().reset_index()\n",
    "hourly_temperature = corrdf.groupby('date_hour')['temperature'].mean().reset_index()\n",
    "hourly_price_per_mile = corrdf.groupby('date_hour')['price_per_mile'].mean().reset_index()\n",
    "hourly_trip_total = corrdf.groupby('date_hour')['trip_total'].mean().reset_index()\n",
    "# Merge the DataFrames\n",
    "hourly_data = pd.merge(hourly_rides, hourly_precipitation, on='date_hour')\n",
    "hourly_data = pd.merge(hourly_data, hourly_temperature, on='date_hour')\n",
    "hourly_data = pd.merge(hourly_data, hourly_price_per_mile, on='date_hour')\n",
    "hourly_data = pd.merge(hourly_data, hourly_trip_total, on='date_hour')"
   ]
  },
  {
   "cell_type": "code",
   "execution_count": null,
   "id": "c130e053",
   "metadata": {
    "scrolled": true
   },
   "outputs": [],
   "source": [
    "plt.figure(figsize=(10, 6))\n",
    "sns.scatterplot(x='precipitation', y='num_rides', data=hourly_data, alpha=0.5)\n",
    "sns.regplot(x='precipitation', y='num_rides', data=hourly_data, scatter=False, color='red')\n",
    "\n",
    "plt.title('Hourly Taxi Rides vs. Precipitation')\n",
    "plt.xlabel('Average Hourly Precipitation')\n",
    "plt.ylabel('Number of Taxi Rides')\n",
    "plt.show()"
   ]
  },
  {
   "cell_type": "code",
   "execution_count": null,
   "id": "8d6d9cd4",
   "metadata": {},
   "outputs": [],
   "source": [
    "from sklearn.preprocessing import PolynomialFeatures\n",
    "from sklearn.linear_model import LinearRegression\n",
    "# Extract temperature and number of rides\n",
    "X = hourly_data['temperature'].values.reshape(-1, 1)\n",
    "y = hourly_data['num_rides'].values\n",
    "\n",
    "# Create polynomial features\n",
    "poly = PolynomialFeatures(degree=3)  \n",
    "X_poly = poly.fit_transform(X)\n",
    "\n",
    "# Fit the polynomial regression model\n",
    "model = LinearRegression()\n",
    "model.fit(X_poly, y)\n",
    "\n",
    "# Predict values\n",
    "y_poly_pred = model.predict(X_poly)\n",
    "\n",
    "# Add predictions to the DataFrame for plotting\n",
    "hourly_data['num_rides_poly_pred'] = y_poly_pred"
   ]
  },
  {
   "cell_type": "code",
   "execution_count": null,
   "id": "3f60f787",
   "metadata": {
    "scrolled": false
   },
   "outputs": [],
   "source": [
    "plt.figure(figsize=(10, 6))\n",
    "sns.scatterplot(x='temperature', y='num_rides', data=hourly_data, alpha=0.5, label='Data')\n",
    "\n",
    "# Sort the data for plotting the line\n",
    "sorted_data = hourly_data.sort_values('temperature')\n",
    "plt.plot(sorted_data['temperature'], sorted_data['num_rides_poly_pred'], color='red', label='Polynomial Fit')\n",
    "\n",
    "plt.title('Hourly Taxi Rides vs. Temperature with Polynomial Fit')\n",
    "plt.xlabel('Average Hourly Temperature')\n",
    "plt.ylabel('Number of Taxi Rides')\n",
    "plt.legend()\n",
    "plt.show()"
   ]
  },
  {
   "cell_type": "code",
   "execution_count": null,
   "id": "2a3ab202",
   "metadata": {
    "scrolled": true
   },
   "outputs": [],
   "source": [
    "# Extract hour from date_hour\n",
    "hourly_data['hour'] = hourly_data['date_hour'].dt.hour\n",
    "\n",
    "# Create subplots\n",
    "fig, ax1 = plt.subplots(figsize=(14, 7))\n",
    "\n",
    "# Plot number of rides\n",
    "color = 'tab:blue'\n",
    "ax1.set_xlabel('Hour of Day')\n",
    "ax1.set_ylabel('Number of Rides', color=color)\n",
    "sns.lineplot(x='hour', y='num_rides', data=hourly_data, ax=ax1, color=color, label='Number of Rides')\n",
    "ax1.tick_params(axis='y', labelcolor=color)\n",
    "\n",
    "# Pplot price per mile\n",
    "ax2 = ax1.twinx()\n",
    "color = 'tab:red'\n",
    "ax2.set_ylabel('Price per Mile', color=color)\n",
    "sns.lineplot(x='hour', y='price_per_mile', data=hourly_data, ax=ax2, color=color, label='Price per Mile')\n",
    "ax2.tick_params(axis='y', labelcolor=color)\n",
    "\n",
    "# Add title and show plot\n",
    "plt.title('24-Hour Visualization of Number of Rides and Price per Mile')\n",
    "plt.show()"
   ]
  },
  {
   "cell_type": "markdown",
   "id": "e73f8b0b",
   "metadata": {},
   "source": [
    "## grouped taxi/company"
   ]
  },
  {
   "cell_type": "code",
   "execution_count": null,
   "id": "87a311c3",
   "metadata": {
    "scrolled": true
   },
   "outputs": [],
   "source": [
    "grouped_taxi_id = df.groupby('taxi_id').agg({\n",
    "    'miles_per_hour': 'mean',\n",
    "    'price_per_mile': 'mean',\n",
    "    'taxi_id': 'size',\n",
    "    'company': 'first'\n",
    "}).rename(columns={'taxi_id': 'drive_count'})\n",
    "\n",
    "grouped_company = df.groupby('company').agg({\n",
    "    'miles_per_hour': 'mean',\n",
    "    'price_per_mile': 'mean',\n",
    "    'taxi_id': 'size'\n",
    "}).rename(columns={'taxi_id': 'drive_count'})\n",
    "\n",
    "fig, axes = plt.subplots(nrows=2, ncols=2, figsize=(16, 12))\n",
    "\n",
    "sns.scatterplot(data=grouped_taxi_id, x='drive_count', y='price_per_mile', ax=axes[0, 0])\n",
    "axes[0, 0].set_title('Correlation between Number of Drives and Price per Mile (Taxi ID)')\n",
    "axes[0, 0].set_xlabel('Number of Drives')\n",
    "axes[0, 0].set_ylabel('Price Per Mile')\n",
    "\n",
    "sns.scatterplot(data=grouped_taxi_id, x='drive_count', y='miles_per_hour', ax=axes[0, 1])\n",
    "axes[0, 1].set_title('Correlation between Number of Drives and Average Speed (Taxi ID)')\n",
    "axes[0, 1].set_xlabel('Number of Drives')\n",
    "axes[0, 1].set_ylabel('Miles Per Hour')\n",
    "\n",
    "sns.scatterplot(data=grouped_company, x='drive_count', y='price_per_mile', ax=axes[1, 0])\n",
    "axes[1, 0].set_title('Correlation between Number of Drives and Price per Mile (Company)')\n",
    "axes[1, 0].set_xlabel('Number of Drives')\n",
    "axes[1, 0].set_ylabel('Price Per Mile')\n",
    "\n",
    "sns.scatterplot(data=grouped_company, x='drive_count', y='miles_per_hour', ax=axes[1, 1])\n",
    "axes[1, 1].set_title('Correlation between Number of Drives and Average Speed (Company)')\n",
    "axes[1, 1].set_xlabel('Number of Drives')\n",
    "axes[1, 1].set_ylabel('Miles Per Hour')\n",
    "\n",
    "plt.tight_layout()\n",
    "plt.show()\n",
    "\n"
   ]
  },
  {
   "cell_type": "code",
   "execution_count": null,
   "id": "9622dd2e",
   "metadata": {
    "scrolled": true
   },
   "outputs": [],
   "source": [
    "df[df[\"miles_per_hour\"]>80]"
   ]
  },
  {
   "cell_type": "code",
   "execution_count": null,
   "id": "84ff8fa1",
   "metadata": {},
   "outputs": [],
   "source": [
    "Q1 = df['price_per_mile'].quantile(0.25)\n",
    "Q3 = df['price_per_mile'].quantile(0.75)\n",
    "IQR = Q3 - Q1\n",
    "lower_bound = Q1 - 1.5 * IQR\n",
    "upper_bound = Q3 + 1.5 * IQR\n",
    "outliers = df[(df['price_per_mile'] < lower_bound) | (df['price_per_mile'] > upper_bound)]"
   ]
  },
  {
   "cell_type": "markdown",
   "id": "f45d48ec",
   "metadata": {},
   "source": [
    "## number of rides (time)"
   ]
  },
  {
   "cell_type": "code",
   "execution_count": null,
   "id": "fa31c077",
   "metadata": {},
   "outputs": [],
   "source": [
    "df['year_daily'] = df['trip_middle_timestamp'].dt.to_period('D')\n",
    "daily_counts = df['year_daily'].value_counts().sort_index()\n",
    "daily_counts_rolling = daily_counts.rolling(window=7).mean()\n",
    "\n",
    "plt.figure(figsize=(12, 6))\n",
    "daily_counts.plot(label='Daily Counts', alpha=0.15)\n",
    "daily_counts_rolling.plot(label='Rolling Average (1 Week)', linestyle='--')\n",
    "plt.title('Number of Rides with Rolling Average')\n",
    "plt.xlabel('Day')\n",
    "plt.ylabel('Number of Rides')\n",
    "plt.legend()\n",
    "plt.grid(True)\n",
    "plt.show()"
   ]
  }
 ],
 "metadata": {
  "kernelspec": {
   "display_name": "Python 3 (ipykernel)",
   "language": "python",
   "name": "python3"
  },
  "language_info": {
   "codemirror_mode": {
    "name": "ipython",
    "version": 3
   },
   "file_extension": ".py",
   "mimetype": "text/x-python",
   "name": "python",
   "nbconvert_exporter": "python",
   "pygments_lexer": "ipython3",
   "version": "3.12.3"
  },
  "toc": {
   "base_numbering": 1,
   "nav_menu": {},
   "number_sections": true,
   "sideBar": true,
   "skip_h1_title": false,
   "title_cell": "Table of Contents",
   "title_sidebar": "Contents",
   "toc_cell": false,
   "toc_position": {},
   "toc_section_display": true,
   "toc_window_display": false
  }
 },
 "nbformat": 4,
 "nbformat_minor": 5
}
