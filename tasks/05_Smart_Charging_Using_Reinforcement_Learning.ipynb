{
 "cells": [
  {
   "cell_type": "code",
   "execution_count": 437,
   "id": "da6427e3",
   "metadata": {},
   "outputs": [],
   "source": [
    "import time\n",
    "import numpy as np\n",
    "import gym\n",
    "from gym import spaces\n",
    "from collections import defaultdict\n",
    "import math\n",
    "import itertools\n",
    "from matplotlib import pyplot as plt\n",
    "import numpy as np\n",
    "import torch\n",
    "import torch.nn as nn\n",
    "import torch.optim as optim\n",
    "import random\n",
    "from collections import deque\n",
    "import plotly.graph_objects as go\n",
    "import copy"
   ]
  },
  {
   "cell_type": "markdown",
   "id": "c6965a1c",
   "metadata": {},
   "source": [
    "# Environment"
   ]
  },
  {
   "cell_type": "code",
   "execution_count": 613,
   "id": "c215e38c-84e8-46fb-b944-4b7c65c17901",
   "metadata": {
    "scrolled": true
   },
   "outputs": [],
   "source": [
    "class SmartCharging(gym.Env):\n",
    "    def __init__(self, actions, cap, stuck_penalty, sequential_after_num_iterations):\n",
    "        super(SmartCharging, self).__init__()\n",
    "        \n",
    "        self.actions = actions  \n",
    "        self.cap = cap\n",
    "        self.stuck_penalty = stuck_penalty\n",
    "        self.sequential_after_num_iterations = sequential_after_num_iterations\n",
    "        \n",
    "        self.episode = 0\n",
    "        self.old_level = 0\n",
    "        self.stuck = False\n",
    "        self.action_space = spaces.Discrete(len(self.actions))\n",
    "        self.observation_space = spaces.Dict({\n",
    "            'level': spaces.Discrete(self.cap+1),\n",
    "            'time': spaces.Discrete(8)\n",
    "        })\n",
    "        \n",
    "        self.state = {\n",
    "            'level': 0,\n",
    "            'time': 0\n",
    "        }      \n",
    "        \n",
    "        self.done = False\n",
    "        \n",
    "    def reset(self):\n",
    "        self.state = {\n",
    "            'level': self.old_level,\n",
    "            'time': 0\n",
    "        }\n",
    "        self.done = False\n",
    "        return self.state\n",
    "    \n",
    "    def reset_random(self):\n",
    "        self.state = {\n",
    "            'level': np.random.randint(0,100),\n",
    "            'time': np.random.randint(0,7)\n",
    "        }\n",
    "        self.done = False\n",
    "        return self.state\n",
    "\n",
    "    def reset_episode(self): #Call this after every training!\n",
    "        self.episode=0\n",
    "\n",
    "    def step(self, action):\n",
    "        loaded = self.actions.get(action)\n",
    "        reward = 0\n",
    "\n",
    "        if loaded + self.state['level'] > self.cap:\n",
    "            reward -= cost_func(self.state['time'], self.cap - self.state['level'])\n",
    "            self.state['level'] = self.cap\n",
    "        else:\n",
    "            reward -= cost_func(self.state['time'], loaded)\n",
    "            self.state['level'] += loaded\n",
    "\n",
    "        self.state['time'] += 1\n",
    "\n",
    "        if self.state['time'] == 8:\n",
    "            consumed = power_consumed()\n",
    "            if self.state['level'] - consumed >= 0:\n",
    "                self.old_level = self.state['level'] - consumed\n",
    "                self.stuck = False\n",
    "            else:\n",
    "                self.old_level = 0\n",
    "                self.stuck = True\n",
    "                reward += self.stuck_penalty\n",
    "                \n",
    "            self.reset()\n",
    "                \n",
    "            self.episode += 1\n",
    "            self.done = True\n",
    "            \n",
    "        return self.state, reward, self.done, self.stuck\n",
    "    \n",
    "def cost_func(t, p):\n",
    "    '''\n",
    "    This method returns the costs for charging\n",
    "    @param t:  time\n",
    "    @param p:  charging rate\n",
    "    '''\n",
    "    # alpha_time is the coefficient for time\n",
    "    alpha_time = [1, 1, 1, 1, 1, 1, 1, 1] \n",
    "    return alpha_time[t] * p**2\n",
    "\n",
    "def power_consumed(mu=30, sigma=10):\n",
    "    '''\n",
    "    This method returns power consumed by the taxi driver\n",
    "    @param mu: mean\n",
    "    @param sigma: standard deviation\n",
    "    '''\n",
    "    return int(np.random.normal(mu, sigma, 1)[0])\n",
    "\n",
    "def plot_q_table_3d(q_table,cap):\n",
    "    \n",
    "    def get_Z(key):\n",
    "        #return max(q_table[key])\n",
    "        return np.average(q_table[key])\n",
    "        \n",
    "    # battery level\n",
    "    X = np.arange(cap +1)\n",
    "    # time\n",
    "    Y = np.arange(8)\n",
    "    X_grid, Y_grid = np.meshgrid(X, Y)\n",
    "    # max q-values (policy)\n",
    "    Z = np.array([get_Z(key) for key in itertools.product(Y,X)]).reshape((8,cap+1))\n",
    "\n",
    "    fig = plt.figure(figsize=(10, 10))\n",
    "\n",
    "    # Add a 3D subplot\n",
    "    #ax = [fig.add_subplot(1, 3, i, projection='3d') for i in range(1, 4)]\n",
    "    ax = fig.add_subplot(111, projection='3d')\n",
    "    \n",
    "    ax.plot_surface(X_grid, Y_grid, -Z, cmap='viridis')\n",
    "\n",
    "    ax.view_init(elev=30, azim=45)\n",
    "\n",
    "    ax.set_zlabel('max Q-value')\n",
    "    ax.set_ylabel('Time')\n",
    "    ax.set_xlabel('Battery level')\n",
    "    plt.tight_layout()\n",
    "    plt.show()\n",
    "\n",
    "def plot_q_table_2d(q_table):\n",
    "    \"\"\"\n",
    "    Plot average Q-values over all actions for each state in the Q-table\n",
    "    \n",
    "    Parameters:\n",
    "    - q_table (dict): The Q-table where keys are state tuples and values are lists/arrays of Q-values for different actions\n",
    "    \"\"\"\n",
    "    levels = sorted(set(state[1] for state in q_table.keys()))\n",
    "    times = sorted(set(state[0] for state in q_table.keys()))\n",
    "    \n",
    "    #default 0,0 matrix\n",
    "    q_matrix = np.zeros((len(levels), len(times)))\n",
    "\n",
    "    # Fill matrix with average Q-values\n",
    "    for state_key, q_values in q_table.items():\n",
    "        time, level = state_key\n",
    "        if level in levels and time in times:\n",
    "            level_idx = levels.index(level)\n",
    "            time_idx = times.index(time)\n",
    "            q_matrix[level_idx, time_idx] = np.mean(q_values)\n",
    "\n",
    "\n",
    "    fig, ax = plt.subplots(figsize=(len(times), len(levels)))\n",
    "    cax = ax.matshow(q_matrix, cmap='viridis')\n",
    "    fig.colorbar(cax)\n",
    "    ax.set_xticks(np.arange(len(times)))\n",
    "    ax.set_xticklabels(times)\n",
    "    ax.set_yticks(np.arange(len(levels)))\n",
    "    ax.set_yticklabels(levels)\n",
    "\n",
    "    #Annotation\n",
    "    for i in range(len(levels)):\n",
    "        for j in range(len(times)):\n",
    "            value = q_matrix[i, j]\n",
    "            ax.text(j, i, f\"{value:.2f}\", ha='center', va='center', color='white')\n",
    "\n",
    "    ax.set_xlabel('Time')\n",
    "    ax.set_ylabel('Level')\n",
    "    plt.title('Average Q-Value')\n",
    "    plt.show()\n",
    "    \n",
    "def plot_greedy_policy(q_table):\n",
    "    \"\"\"\n",
    "    Plot the actions with the max Q-values for each state in the Q-table.\n",
    "    \n",
    "    Parameters:\n",
    "    - q_table (dict): The Q-table where keys are state tuples and values are lists/arrays of Q-values for different actions.\n",
    "    \"\"\"\n",
    "    \n",
    "    action_labels = {0: 'None', 1: 'Low', 2: 'Medium', 3: 'High', 4: 'Very high'}\n",
    "    \n",
    "    levels = sorted(set(state[1] for state in q_table.keys()))\n",
    "    times = sorted(set(state[0] for state in q_table.keys()))\n",
    "    \n",
    "    action_matrix = np.zeros((len(levels), len(times)))\n",
    "\n",
    "    for state_key, q_values in q_table.items():\n",
    "        time, level = state_key\n",
    "        if level in levels and time in times:\n",
    "            level_idx = levels.index(level)\n",
    "            time_idx = times.index(time)\n",
    "            best_action = np.argmax(q_values)\n",
    "            action_matrix[level_idx, time_idx] = best_action\n",
    "\n",
    "    fig, ax = plt.subplots(figsize=(12, 8)) \n",
    "    cax = ax.matshow(action_matrix, cmap='viridis', vmin=0, vmax=len(action_labels)-1)\n",
    "\n",
    "    cbar = fig.colorbar(cax, ticks=list(action_labels.keys()))\n",
    "    cbar.ax.set_yticklabels([action_labels[i] for i in action_labels.keys()])\n",
    "\n",
    "    xticks = np.arange(len(times))\n",
    "    yticks = np.arange(len(levels))\n",
    "    \n",
    "    y_ticks_interval = max(1, len(levels) // 10) \n",
    "    ax.set_yticks(yticks[::y_ticks_interval])\n",
    "    ax.set_yticklabels([levels[i] for i in yticks[::y_ticks_interval]])\n",
    "\n",
    "    x_ticks_interval = max(1, len(times) // 10) \n",
    "    ax.set_xticks(xticks[::x_ticks_interval])\n",
    "    ax.set_xticklabels([times[i] for i in xticks[::x_ticks_interval]])\n",
    "    \n",
    "    plt.xlabel('Time')\n",
    "    plt.ylabel('Level')\n",
    "    plt.title('Greedy Policy (Actions)')\n",
    "\n",
    "    ax.grid(False)\n",
    "    plt.show()\n",
    "    \n",
    "def evaluate_q_table(q_table, env, num_episodes=100):\n",
    "    total_reward = 0\n",
    "    stuck_count = 0\n",
    "\n",
    "    for episode in range(num_episodes):\n",
    "        state = env.reset()\n",
    "        done = False\n",
    "        episode_reward = 0\n",
    "\n",
    "        while not done:\n",
    "            state_key = (state['time'], state['level'])\n",
    "\n",
    "            if state_key in q_table:\n",
    "                action = np.argmax(q_table[state_key])\n",
    "            else:\n",
    "                action = env.action_space.sample()\n",
    "            \n",
    "            next_state, reward, done, stuck = env.step(action)\n",
    "            episode_reward += reward\n",
    "            state = next_state\n",
    "\n",
    "        total_reward += episode_reward\n",
    "        if stuck:\n",
    "            stuck_count += 1\n",
    "\n",
    "    average_reward = total_reward / num_episodes\n",
    "    \n",
    "    return average_reward, stuck_count\n",
    "    \n",
    "def calculate_empty_q_percentage(q_table):\n",
    "    \"\"\"\n",
    "    Calculate the percentage of empty Q-values in the Q-table.\n",
    "\n",
    "    Parameters:\n",
    "    - q_table (dict): The Q-table where keys are state tuples and values are lists/arrays of Q-values.\n",
    "\n",
    "    Returns:\n",
    "    - float: The percentage of empty Q-values in the Q-table.\n",
    "    \"\"\"\n",
    "    total_q_values = 0\n",
    "    empty_q_values = 0\n",
    "\n",
    "    for state_key, q_values in q_table.items():\n",
    "        total_q_values += len(q_values)\n",
    "        empty_q_values += sum(q == 0 for q in q_values) #Define empty as q == 0\n",
    "\n",
    "    if total_q_values == 0:\n",
    "        return 0.0\n",
    "\n",
    "    percentage_empty = (empty_q_values / total_q_values) * 100\n",
    "    return percentage_empty"
   ]
  },
  {
   "cell_type": "markdown",
   "id": "52e84cef",
   "metadata": {},
   "source": [
    "# Agents"
   ]
  },
  {
   "cell_type": "markdown",
   "id": "18a73704",
   "metadata": {},
   "source": [
    "## Monte Carlo "
   ]
  },
  {
   "cell_type": "code",
   "execution_count": 614,
   "id": "109bc5a1",
   "metadata": {},
   "outputs": [],
   "source": [
    "class MC_Agent():\n",
    "    def __init__(self, alpha, gamma, env, epsilon, epsilon_decay, epsilon_min): \n",
    "        self.env = env\n",
    "        self.alpha = alpha\n",
    "        self.gamma = gamma\n",
    "        self.epsilon = epsilon\n",
    "        self.epsilon_decay = epsilon_decay\n",
    "        self.epsilon_min = epsilon_min\n",
    "        \n",
    "        self.action_space_size = env.action_space.n \n",
    "        self.q_table = defaultdict(lambda: np.zeros(self.action_space_size))\n",
    "        self.q_table_count = defaultdict(lambda: np.zeros(self.action_space_size))\n",
    "\n",
    "    def pick_action(self, state):\n",
    "        state_key = (state['time'], state['level'])\n",
    "\n",
    "        if state_key in self.q_table:\n",
    "            action_q_values = self.q_table[state_key]\n",
    "            return self.epsilon_greedy(action_q_values)\n",
    "        else:\n",
    "            return self.env.action_space.sample()\n",
    "\n",
    "    def epsilon_greedy(self, action_q_values):\n",
    "        if np.random.rand() < self.epsilon:\n",
    "            all_actions = list(range(self.action_space_size))\n",
    "            max_action = np.argmax(action_q_values)\n",
    "\n",
    "            if len(all_actions) > 1:\n",
    "                other_actions = [action for action in all_actions if action != max_action]\n",
    "                chosen_action = np.random.choice(other_actions)\n",
    "            else:\n",
    "                chosen_action = max_action \n",
    "        else:\n",
    "            chosen_action = np.argmax(action_q_values)\n",
    "\n",
    "        if self.epsilon > self.epsilon_min:\n",
    "            self.epsilon *= self.epsilon_decay\n",
    "\n",
    "        return chosen_action\n",
    "\n",
    "    def update_q_values(self, state, action, goal):\n",
    "        state_key = (state['time'], state['level'])\n",
    "        \n",
    "        self.q_table_count[state_key][action] += 1\n",
    "        learning_rate = self.alpha / self.q_table_count[state_key][action]\n",
    "        self.q_table[state_key][action] += learning_rate * (goal - self.q_table[state_key][action])\n",
    "        \n",
    "    def train(self, iterations,random_iter):\n",
    "        for i in range(iterations):\n",
    "            if i < random_iter:\n",
    "                current_state = self.env.reset_random()\n",
    "            else:\n",
    "                current_state = self.env.reset()\n",
    "                \n",
    "            episode = []\n",
    "            done = False\n",
    "            \n",
    "            while not done:               \n",
    "                action = self.pick_action(current_state)\n",
    "                old_state = current_state.copy()\n",
    "                current_state, reward, done, _ = self.env.step(action)\n",
    "                episode.append((old_state, action, reward))\n",
    "\n",
    "            goal = 0\n",
    "            for state, action, reward in reversed(episode):\n",
    "                goal = reward + self.gamma * goal\n",
    "                self.update_q_values(state, action, goal)\n",
    "                \n",
    "        self.env.reset_episode()\n",
    "        return self.q_table"
   ]
  },
  {
   "cell_type": "markdown",
   "id": "5f21e8fc",
   "metadata": {},
   "source": [
    "## SARSA"
   ]
  },
  {
   "cell_type": "code",
   "execution_count": 624,
   "id": "bde6c83d",
   "metadata": {},
   "outputs": [],
   "source": [
    "class SARSA_Agent():\n",
    "    def __init__(self, alpha, gamma, env, epsilon, epsilon_decay, epsilon_min):\n",
    "        self.env = env\n",
    "        self.alpha = alpha\n",
    "        self.gamma = gamma\n",
    "        self.epsilon = epsilon\n",
    "        self.epsilon_decay = epsilon_decay\n",
    "        self.epsilon_min = epsilon_min\n",
    "        \n",
    "        self.action_space_size = env.action_space.n\n",
    "        self.q_table = defaultdict(lambda: np.zeros(self.action_space_size))\n",
    "\n",
    "    def pick_action(self, state):\n",
    "        state_key = (state['time'], state['level'])\n",
    "        action_q_values = self.q_table.get(state_key, np.zeros(self.action_space_size))\n",
    "        return self.epsilon_greedy(action_q_values)\n",
    "\n",
    "    def epsilon_greedy(self, action_q_values):\n",
    "        if np.random.rand() < self.epsilon:\n",
    "            all_actions = list(range(self.action_space_size))\n",
    "            max_action = np.argmax(action_q_values)\n",
    "\n",
    "            if len(all_actions) > 1:\n",
    "                other_actions = [action for action in all_actions if action != max_action]\n",
    "                chosen_action = np.random.choice(other_actions)\n",
    "            else:\n",
    "                chosen_action = max_action \n",
    "        else:\n",
    "            chosen_action = np.argmax(action_q_values)\n",
    "\n",
    "        if self.epsilon > self.epsilon_min:\n",
    "            self.epsilon *= self.epsilon_decay\n",
    "\n",
    "        return chosen_action\n",
    "\n",
    "    def update_q_values(self, state, action, reward, next_state, next_action, done):\n",
    "        state_key = (state['time'], state['level'])\n",
    "        next_state_key = (next_state['time'], next_state['level'])\n",
    "\n",
    "        td_target = reward + self.gamma * self.q_table[next_state_key][next_action] * (1 - done)\n",
    "        td_error = td_target - self.q_table[state_key][action]\n",
    "        \n",
    "        self.q_table[state_key][action] += self.alpha * td_error\n",
    "\n",
    "    def train(self, iterations,random_iter):\n",
    "        for i in range(iterations):\n",
    "            if i < random_iter:\n",
    "                state = self.env.reset_random()\n",
    "            else:\n",
    "                state = self.env.reset()\n",
    "            action = self.pick_action(state)\n",
    "            done = False\n",
    "\n",
    "            while not done:\n",
    "                next_state, reward, done, _ = self.env.step(action)\n",
    "                next_action = self.pick_action(next_state)\n",
    "\n",
    "                self.update_q_values(state, action, reward, next_state, next_action, done)\n",
    "\n",
    "                state = next_state.copy()\n",
    "                action = next_action\n",
    "\n",
    "            self.epsilon = max(self.epsilon_min, self.epsilon * self.epsilon_decay)\n",
    "        \n",
    "        self.env.reset_episode()\n",
    "        return self.q_table"
   ]
  },
  {
   "cell_type": "markdown",
   "id": "953b4611",
   "metadata": {},
   "source": [
    "## Q Learning"
   ]
  },
  {
   "cell_type": "code",
   "execution_count": 623,
   "id": "1a7c2ece",
   "metadata": {},
   "outputs": [],
   "source": [
    "class QLearning_Agent():\n",
    "    def __init__(self, alpha, gamma, env, epsilon, epsilon_decay, epsilon_min):\n",
    "        self.env = env\n",
    "        self.alpha = alpha\n",
    "        self.gamma = gamma\n",
    "        self.epsilon = epsilon\n",
    "        self.epsilon_decay = epsilon_decay\n",
    "        self.epsilon_min = epsilon_min\n",
    "        \n",
    "        self.action_space_size = env.action_space.n \n",
    "        self.q_table = defaultdict(lambda: np.zeros(self.action_space_size))\n",
    "\n",
    "    def pick_action(self, state):\n",
    "        state_key = (state['time'], state['level'])\n",
    "        action_q_values = self.q_table.get(state_key, np.zeros(self.action_space_size))\n",
    "        return self.epsilon_greedy(action_q_values)\n",
    "\n",
    "    def epsilon_greedy(self, action_q_values):\n",
    "        if np.random.rand() < self.epsilon:\n",
    "            return np.random.choice(self.action_space_size)\n",
    "        else:\n",
    "            return np.argmax(action_q_values)\n",
    "\n",
    "    def update_q_values(self, state, action, reward, next_state, done):\n",
    "        state_key = (state['time'], state['level'])\n",
    "        next_state_key = (next_state['time'], next_state['level'])\n",
    "        \n",
    "        best_next_action = np.argmax(self.q_table[next_state_key])\n",
    "        td_target = reward + self.gamma * self.q_table[next_state_key][best_next_action] * (1 - done)\n",
    "        td_error = td_target - self.q_table[state_key][action]\n",
    "        \n",
    "        self.q_table[state_key][action] += self.alpha * td_error\n",
    "        \n",
    "    def train(self, iterations,random_iter):\n",
    "        for i in range(iterations):\n",
    "            if i < random_iter:\n",
    "                state = self.env.reset_random()\n",
    "            else:\n",
    "                state = self.env.reset()\n",
    "            done = False\n",
    "\n",
    "            while not done:\n",
    "                action = self.pick_action(state)\n",
    "                next_state, reward, done, _ = self.env.step(action)\n",
    "                self.update_q_values(state, action, reward, next_state, done)\n",
    "                state = next_state.copy()\n",
    "\n",
    "            self.epsilon = max(self.epsilon_min, self.epsilon * self.epsilon_decay)\n",
    "        self.env.reset_episode()    \n",
    "        return self.q_table"
   ]
  },
  {
   "cell_type": "markdown",
   "id": "970a7b09",
   "metadata": {},
   "source": [
    "## Deep Q-Network"
   ]
  },
  {
   "cell_type": "code",
   "execution_count": 625,
   "id": "eb5df230",
   "metadata": {},
   "outputs": [],
   "source": [
    "class DQN_Agent():\n",
    "    def __init__(self, env, alpha, gamma, epsilon, epsilon_decay, epsilon_min, memory_size, batch_size, target_update=10):\n",
    "        self.env = env\n",
    "        self.state_size = 2\n",
    "        self.action_size = env.action_space.n\n",
    "        self.alpha = alpha\n",
    "        self.gamma = gamma \n",
    "        self.epsilon = epsilon  \n",
    "        self.epsilon_decay = epsilon_decay\n",
    "        self.epsilon_min = epsilon_min\n",
    "        self.batch_size = batch_size\n",
    "        self.target_update = target_update\n",
    "        \n",
    "        # Experience replay memory\n",
    "        self.memory = deque(maxlen=memory_size)\n",
    "\n",
    "        # Q-network\n",
    "        self.model = self.build_model()\n",
    "\n",
    "        # Target Q-network\n",
    "        self.target_model = self.build_model()\n",
    "        self.update_target_model()\n",
    "\n",
    "        self.optimizer = optim.Adam(self.model.parameters(), lr=self.alpha)\n",
    "\n",
    "    def build_model(self):\n",
    "        model = nn.Sequential(\n",
    "            nn.Linear(self.state_size, 64),\n",
    "            nn.ReLU(),\n",
    "            nn.Linear(64, 64),\n",
    "            nn.ReLU(),\n",
    "            nn.Linear(64, self.action_size)\n",
    "        )\n",
    "        return model\n",
    "\n",
    "    def update_target_model(self):\n",
    "        self.target_model.load_state_dict(self.model.state_dict())\n",
    "\n",
    "    def pick_action(self, state):\n",
    "        if np.random.rand() <= self.epsilon:\n",
    "            return random.randrange(self.action_size)  # Exploration\n",
    "        state = torch.FloatTensor(state).unsqueeze(0)\n",
    "        with torch.no_grad():\n",
    "            q_values = self.model(state)\n",
    "        return torch.argmax(q_values).item()  # Exploitation\n",
    "\n",
    "    def store_experience(self, state, action, reward, next_state, done):\n",
    "        self.memory.append((state, action, reward, next_state, done))\n",
    "\n",
    "    def replay(self):\n",
    "        if len(self.memory) < self.batch_size:\n",
    "            return \n",
    "\n",
    "        minibatch = random.sample(self.memory, self.batch_size)\n",
    "\n",
    "        for state, action, reward, next_state, done in minibatch:\n",
    "            state = torch.FloatTensor(state)\n",
    "            next_state = torch.FloatTensor(next_state)\n",
    "            target = reward\n",
    "            if not done:\n",
    "                target += self.gamma * torch.max(self.target_model(next_state)).item()\n",
    "            \n",
    "            target_f = self.model(state)\n",
    "            target_f[action] = target\n",
    "\n",
    "            loss = nn.MSELoss()(self.model(state), target_f)\n",
    "            self.optimizer.zero_grad()\n",
    "            loss.backward()\n",
    "            self.optimizer.step()\n",
    "\n",
    "        if self.epsilon > self.epsilon_min:\n",
    "            self.epsilon *= self.epsilon_decay\n",
    "\n",
    "    def generate_state_space_keys(self):\n",
    "        state_space_keys = []\n",
    "        for time in range(self.env.observation_space['time'].n):\n",
    "            for level in range(self.env.observation_space['level'].n):\n",
    "                state_space_keys.append((time, level))\n",
    "        return state_space_keys\n",
    "\n",
    "    def extract_q_table(self):\n",
    "        q_table = {}\n",
    "        state_space_keys = self.generate_state_space_keys()\n",
    "\n",
    "        for state_key in state_space_keys:\n",
    "            state = torch.FloatTensor(state_key).unsqueeze(0)\n",
    "            with torch.no_grad():\n",
    "                q_values = self.model(state).numpy().flatten()\n",
    "            q_table[state_key] = q_values\n",
    "\n",
    "        return q_table\n",
    "\n",
    "    def train(self, episodes,random_iter):\n",
    "        for e in range(episodes):\n",
    "            if i < random_iter:\n",
    "                state = self.env.reset_random()\n",
    "            else:\n",
    "                state = self.env.reset()\n",
    "            state = np.array([state['time'], state['level']])\n",
    "            done = False\n",
    "            total_reward = 0\n",
    "\n",
    "            while not done:\n",
    "                action = self.pick_action(state)\n",
    "                next_state, reward, done, _ = self.env.step(action)\n",
    "                next_state = np.array([next_state['time'], next_state['level']])\n",
    "                total_reward += reward\n",
    "                self.store_experience(state, action, reward, next_state, done)\n",
    "                state = next_state\n",
    "                self.replay()\n",
    "\n",
    "            if e % self.target_update == 0:\n",
    "                self.update_target_model()\n",
    "            \n",
    "            \n",
    "            print(f\"Episode {e+1}/{episodes} - Reward: {total_reward}, Epsilon: {self.epsilon:.2f}\")\n",
    "\n",
    "        self.env.reset_episode()\n",
    "        return self.extract_q_table()\n"
   ]
  },
  {
   "cell_type": "markdown",
   "id": "749a4c4e",
   "metadata": {},
   "source": [
    "# Execution"
   ]
  },
  {
   "cell_type": "code",
   "execution_count": 626,
   "id": "8536839c",
   "metadata": {
    "scrolled": false
   },
   "outputs": [],
   "source": [
    "#actions = {i: i for i in range(23)}\n",
    "actions = {0: 0, 1: 3, 2: 7, 3: 11, 4: 17}\n",
    "#DC Fast Charger: ~17 kWh /15 Min\n",
    "#Tesla Model S has 100 kWh battery capacity\n",
    "env = SmartCharging(actions=actions, cap=100, stuck_penalty=-10000,sequential_after_num_iterations=10000)"
   ]
  },
  {
   "cell_type": "code",
   "execution_count": 627,
   "id": "df0e8e53",
   "metadata": {
    "scrolled": true
   },
   "outputs": [],
   "source": [
    "MC_q_table = MC_Agent(\n",
    "    alpha=0.01, gamma=0.95, env=env, epsilon=1, epsilon_decay=0.99, epsilon_min=0.01\n",
    ").train(100000,20000)"
   ]
  },
  {
   "cell_type": "code",
   "execution_count": 629,
   "id": "a398fb36",
   "metadata": {
    "scrolled": true
   },
   "outputs": [],
   "source": [
    "SARSA_q_table = SARSA_Agent(\n",
    "    alpha=0.1, gamma=0.95, env=env, epsilon=1, epsilon_decay=0.99, epsilon_min=0.01\n",
    ").train(100000,20000)"
   ]
  },
  {
   "cell_type": "code",
   "execution_count": 630,
   "id": "aaaae34d",
   "metadata": {
    "scrolled": true
   },
   "outputs": [],
   "source": [
    "QLEARN_q_table = QLearning_Agent(\n",
    "    alpha=0.1, gamma=0.95, env=env, epsilon=1, epsilon_decay=0.999, epsilon_min=0.01\n",
    ").train(100000,20000)"
   ]
  },
  {
   "cell_type": "code",
   "execution_count": 633,
   "id": "2dcf982e",
   "metadata": {
    "scrolled": true
   },
   "outputs": [
    {
     "name": "stdout",
     "output_type": "stream",
     "text": [
      "Episode 1/200 - Reward: -1360, Epsilon: 1.00\n",
      "Episode 2/200 - Reward: -9, Epsilon: 1.00\n",
      "Episode 3/200 - Reward: -400, Epsilon: 1.00\n",
      "Episode 4/200 - Reward: -444, Epsilon: 0.99\n",
      "Episode 5/200 - Reward: -207, Epsilon: 0.91\n",
      "Episode 6/200 - Reward: -414, Epsilon: 0.84\n",
      "Episode 7/200 - Reward: -535, Epsilon: 0.78\n",
      "Episode 8/200 - Reward: -169, Epsilon: 0.72\n",
      "Episode 9/200 - Reward: -237, Epsilon: 0.66\n",
      "Episode 10/200 - Reward: -300, Epsilon: 0.61\n",
      "Episode 11/200 - Reward: -155, Epsilon: 0.56\n",
      "Episode 12/200 - Reward: -58, Epsilon: 0.52\n",
      "Episode 13/200 - Reward: -428, Epsilon: 0.48\n",
      "Episode 14/200 - Reward: -419, Epsilon: 0.44\n",
      "Episode 15/200 - Reward: -197, Epsilon: 0.41\n",
      "Episode 16/200 - Reward: -18, Epsilon: 0.38\n",
      "Episode 17/200 - Reward: -10107, Epsilon: 0.35\n",
      "Episode 18/200 - Reward: -10347, Epsilon: 0.32\n",
      "Episode 19/200 - Reward: -10228, Epsilon: 0.30\n",
      "Episode 20/200 - Reward: -10018, Epsilon: 0.27\n",
      "Episode 21/200 - Reward: -867, Epsilon: 0.25\n",
      "Episode 22/200 - Reward: -1304, Epsilon: 0.23\n",
      "Episode 23/200 - Reward: -45, Epsilon: 0.21\n",
      "Episode 24/200 - Reward: -316, Epsilon: 0.20\n",
      "Episode 25/200 - Reward: -410, Epsilon: 0.18\n",
      "Episode 26/200 - Reward: 0, Epsilon: 0.17\n",
      "Episode 27/200 - Reward: -578, Epsilon: 0.16\n",
      "Episode 28/200 - Reward: -410, Epsilon: 0.14\n",
      "Episode 29/200 - Reward: -699, Epsilon: 0.13\n",
      "Episode 30/200 - Reward: -121, Epsilon: 0.12\n",
      "Episode 31/200 - Reward: -578, Epsilon: 0.11\n",
      "Episode 32/200 - Reward: -867, Epsilon: 0.10\n",
      "Episode 33/200 - Reward: -289, Epsilon: 0.10\n",
      "Episode 34/200 - Reward: -1156, Epsilon: 0.09\n",
      "Episode 35/200 - Reward: -289, Epsilon: 0.08\n",
      "Episode 36/200 - Reward: -170, Epsilon: 0.08\n",
      "Episode 37/200 - Reward: -58, Epsilon: 0.07\n",
      "Episode 38/200 - Reward: -578, Epsilon: 0.06\n",
      "Episode 39/200 - Reward: -578, Epsilon: 0.06\n",
      "Episode 40/200 - Reward: -121, Epsilon: 0.05\n",
      "Episode 41/200 - Reward: -627, Epsilon: 0.05\n",
      "Episode 42/200 - Reward: -578, Epsilon: 0.05\n",
      "Episode 43/200 - Reward: -289, Epsilon: 0.04\n",
      "Episode 44/200 - Reward: -49, Epsilon: 0.04\n",
      "Episode 45/200 - Reward: -578, Epsilon: 0.04\n",
      "Episode 46/200 - Reward: -578, Epsilon: 0.03\n",
      "Episode 47/200 - Reward: -578, Epsilon: 0.03\n",
      "Episode 48/200 - Reward: -578, Epsilon: 0.03\n",
      "Episode 49/200 - Reward: -289, Epsilon: 0.03\n",
      "Episode 50/200 - Reward: -10289, Epsilon: 0.02\n",
      "Episode 51/200 - Reward: -876, Epsilon: 0.02\n",
      "Episode 52/200 - Reward: -289, Epsilon: 0.02\n",
      "Episode 53/200 - Reward: -578, Epsilon: 0.02\n",
      "Episode 54/200 - Reward: -10000, Epsilon: 0.02\n",
      "Episode 55/200 - Reward: -1174, Epsilon: 0.02\n",
      "Episode 56/200 - Reward: 0, Epsilon: 0.02\n",
      "Episode 57/200 - Reward: -289, Epsilon: 0.01\n",
      "Episode 58/200 - Reward: -867, Epsilon: 0.01\n",
      "Episode 59/200 - Reward: -578, Epsilon: 0.01\n",
      "Episode 60/200 - Reward: -289, Epsilon: 0.01\n",
      "Episode 61/200 - Reward: -578, Epsilon: 0.01\n",
      "Episode 62/200 - Reward: -289, Epsilon: 0.01\n",
      "Episode 63/200 - Reward: -867, Epsilon: 0.01\n",
      "Episode 64/200 - Reward: -289, Epsilon: 0.01\n",
      "Episode 65/200 - Reward: -289, Epsilon: 0.01\n",
      "Episode 66/200 - Reward: -578, Epsilon: 0.01\n",
      "Episode 67/200 - Reward: -289, Epsilon: 0.01\n",
      "Episode 68/200 - Reward: -289, Epsilon: 0.01\n",
      "Episode 69/200 - Reward: -699, Epsilon: 0.01\n",
      "Episode 70/200 - Reward: 0, Epsilon: 0.01\n",
      "Episode 71/200 - Reward: -578, Epsilon: 0.01\n",
      "Episode 72/200 - Reward: -578, Epsilon: 0.01\n",
      "Episode 73/200 - Reward: -289, Epsilon: 0.01\n",
      "Episode 74/200 - Reward: -578, Epsilon: 0.01\n",
      "Episode 75/200 - Reward: -578, Epsilon: 0.01\n",
      "Episode 76/200 - Reward: -289, Epsilon: 0.01\n",
      "Episode 77/200 - Reward: -289, Epsilon: 0.01\n",
      "Episode 78/200 - Reward: -10289, Epsilon: 0.01\n",
      "Episode 79/200 - Reward: -587, Epsilon: 0.01\n",
      "Episode 80/200 - Reward: -578, Epsilon: 0.01\n",
      "Episode 81/200 - Reward: -289, Epsilon: 0.01\n",
      "Episode 82/200 - Reward: -578, Epsilon: 0.01\n",
      "Episode 83/200 - Reward: -289, Epsilon: 0.01\n",
      "Episode 84/200 - Reward: -578, Epsilon: 0.01\n",
      "Episode 85/200 - Reward: -578, Epsilon: 0.01\n",
      "Episode 86/200 - Reward: -867, Epsilon: 0.01\n",
      "Episode 87/200 - Reward: -289, Epsilon: 0.01\n",
      "Episode 88/200 - Reward: -289, Epsilon: 0.01\n",
      "Episode 89/200 - Reward: -578, Epsilon: 0.01\n",
      "Episode 90/200 - Reward: -289, Epsilon: 0.01\n",
      "Episode 91/200 - Reward: -867, Epsilon: 0.01\n",
      "Episode 92/200 - Reward: -867, Epsilon: 0.01\n",
      "Episode 93/200 - Reward: 0, Epsilon: 0.01\n",
      "Episode 94/200 - Reward: -578, Epsilon: 0.01\n",
      "Episode 95/200 - Reward: -10578, Epsilon: 0.01\n",
      "Episode 96/200 - Reward: -10627, Epsilon: 0.01\n",
      "Episode 97/200 - Reward: -627, Epsilon: 0.01\n",
      "Episode 98/200 - Reward: -534, Epsilon: 0.01\n",
      "Episode 99/200 - Reward: -392, Epsilon: 0.01\n",
      "Episode 100/200 - Reward: -281, Epsilon: 0.01\n",
      "Episode 101/200 - Reward: -163, Epsilon: 0.01\n",
      "Episode 102/200 - Reward: -245, Epsilon: 0.01\n",
      "Episode 103/200 - Reward: -183, Epsilon: 0.01\n",
      "Episode 104/200 - Reward: -123, Epsilon: 0.01\n",
      "Episode 105/200 - Reward: -192, Epsilon: 0.01\n",
      "Episode 106/200 - Reward: -172, Epsilon: 0.01\n",
      "Episode 107/200 - Reward: -148, Epsilon: 0.01\n",
      "Episode 108/200 - Reward: -246, Epsilon: 0.01\n",
      "Episode 109/200 - Reward: -294, Epsilon: 0.01\n",
      "Episode 110/200 - Reward: -103, Epsilon: 0.01\n",
      "Episode 111/200 - Reward: -352, Epsilon: 0.01\n",
      "Episode 112/200 - Reward: -352, Epsilon: 0.01\n",
      "Episode 113/200 - Reward: -272, Epsilon: 0.01\n",
      "Episode 114/200 - Reward: -181, Epsilon: 0.01\n",
      "Episode 115/200 - Reward: -344, Epsilon: 0.01\n",
      "Episode 116/200 - Reward: -245, Epsilon: 0.01\n",
      "Episode 117/200 - Reward: -114, Epsilon: 0.01\n",
      "Episode 118/200 - Reward: -99, Epsilon: 0.01\n",
      "Episode 119/200 - Reward: -183, Epsilon: 0.01\n",
      "Episode 120/200 - Reward: -232, Epsilon: 0.01\n",
      "Episode 121/200 - Reward: -102, Epsilon: 0.01\n",
      "Episode 122/200 - Reward: -270, Epsilon: 0.01\n",
      "Episode 123/200 - Reward: -197, Epsilon: 0.01\n",
      "Episode 124/200 - Reward: -218, Epsilon: 0.01\n",
      "Episode 125/200 - Reward: -205, Epsilon: 0.01\n",
      "Episode 126/200 - Reward: -67, Epsilon: 0.01\n",
      "Episode 127/200 - Reward: -72, Epsilon: 0.01\n",
      "Episode 128/200 - Reward: -352, Epsilon: 0.01\n",
      "Episode 129/200 - Reward: -63, Epsilon: 0.01\n",
      "Episode 130/200 - Reward: -72, Epsilon: 0.01\n",
      "Episode 131/200 - Reward: -352, Epsilon: 0.01\n",
      "Episode 132/200 - Reward: -72, Epsilon: 0.01\n",
      "Episode 133/200 - Reward: -112, Epsilon: 0.01\n",
      "Episode 134/200 - Reward: -72, Epsilon: 0.01\n",
      "Episode 135/200 - Reward: -72, Epsilon: 0.01\n",
      "Episode 136/200 - Reward: -343, Epsilon: 0.01\n",
      "Episode 137/200 - Reward: -72, Epsilon: 0.01\n",
      "Episode 138/200 - Reward: -232, Epsilon: 0.01\n",
      "Episode 139/200 - Reward: -152, Epsilon: 0.01\n",
      "Episode 140/200 - Reward: -352, Epsilon: 0.01\n",
      "Episode 141/200 - Reward: -352, Epsilon: 0.01\n",
      "Episode 142/200 - Reward: -221, Epsilon: 0.01\n",
      "Episode 143/200 - Reward: -58, Epsilon: 0.01\n",
      "Episode 144/200 - Reward: -156, Epsilon: 0.01\n",
      "Episode 145/200 - Reward: -246, Epsilon: 0.01\n",
      "Episode 146/200 - Reward: -232, Epsilon: 0.01\n",
      "Episode 147/200 - Reward: -200, Epsilon: 0.01\n",
      "Episode 148/200 - Reward: -114, Epsilon: 0.01\n",
      "Episode 149/200 - Reward: -295, Epsilon: 0.01\n",
      "Episode 150/200 - Reward: -197, Epsilon: 0.01\n",
      "Episode 151/200 - Reward: -123, Epsilon: 0.01\n",
      "Episode 152/200 - Reward: -221, Epsilon: 0.01\n",
      "Episode 153/200 - Reward: -174, Epsilon: 0.01\n",
      "Episode 154/200 - Reward: -72, Epsilon: 0.01\n",
      "Episode 155/200 - Reward: -72, Epsilon: 0.01\n",
      "Episode 156/200 - Reward: -72, Epsilon: 0.01\n",
      "Episode 157/200 - Reward: -72, Epsilon: 0.01\n",
      "Episode 158/200 - Reward: -72, Epsilon: 0.01\n",
      "Episode 159/200 - Reward: -63, Epsilon: 0.01\n",
      "Episode 160/200 - Reward: -632, Epsilon: 0.01\n",
      "Episode 161/200 - Reward: -352, Epsilon: 0.01\n",
      "Episode 162/200 - Reward: -72, Epsilon: 0.01\n",
      "Episode 163/200 - Reward: -72, Epsilon: 0.01\n",
      "Episode 164/200 - Reward: -72, Epsilon: 0.01\n",
      "Episode 165/200 - Reward: -72, Epsilon: 0.01\n",
      "Episode 166/200 - Reward: -72, Epsilon: 0.01\n",
      "Episode 167/200 - Reward: -72, Epsilon: 0.01\n",
      "Episode 168/200 - Reward: -72, Epsilon: 0.01\n",
      "Episode 169/200 - Reward: -72, Epsilon: 0.01\n",
      "Episode 170/200 - Reward: -72, Epsilon: 0.01\n",
      "Episode 171/200 - Reward: -72, Epsilon: 0.01\n",
      "Episode 172/200 - Reward: -72, Epsilon: 0.01\n",
      "Episode 173/200 - Reward: -343, Epsilon: 0.01\n",
      "Episode 174/200 - Reward: -63, Epsilon: 0.01\n",
      "Episode 175/200 - Reward: -343, Epsilon: 0.01\n",
      "Episode 176/200 - Reward: -112, Epsilon: 0.01\n",
      "Episode 177/200 - Reward: -632, Epsilon: 0.01\n",
      "Episode 178/200 - Reward: -352, Epsilon: 0.01\n",
      "Episode 179/200 - Reward: -352, Epsilon: 0.01\n",
      "Episode 180/200 - Reward: -72, Epsilon: 0.01\n",
      "Episode 181/200 - Reward: -72, Epsilon: 0.01\n",
      "Episode 182/200 - Reward: -63, Epsilon: 0.01\n"
     ]
    },
    {
     "name": "stdout",
     "output_type": "stream",
     "text": [
      "Episode 183/200 - Reward: -72, Epsilon: 0.01\n",
      "Episode 184/200 - Reward: -72, Epsilon: 0.01\n",
      "Episode 185/200 - Reward: -72, Epsilon: 0.01\n",
      "Episode 186/200 - Reward: -63, Epsilon: 0.01\n",
      "Episode 187/200 - Reward: -614, Epsilon: 0.01\n",
      "Episode 188/200 - Reward: -343, Epsilon: 0.01\n",
      "Episode 189/200 - Reward: -334, Epsilon: 0.01\n",
      "Episode 190/200 - Reward: -334, Epsilon: 0.01\n",
      "Episode 191/200 - Reward: -632, Epsilon: 0.01\n",
      "Episode 192/200 - Reward: -72, Epsilon: 0.01\n",
      "Episode 193/200 - Reward: -72, Epsilon: 0.01\n",
      "Episode 194/200 - Reward: -54, Epsilon: 0.01\n",
      "Episode 195/200 - Reward: -352, Epsilon: 0.01\n",
      "Episode 196/200 - Reward: -63, Epsilon: 0.01\n",
      "Episode 197/200 - Reward: -614, Epsilon: 0.01\n",
      "Episode 198/200 - Reward: -352, Epsilon: 0.01\n",
      "Episode 199/200 - Reward: -45, Epsilon: 0.01\n",
      "Episode 200/200 - Reward: -72, Epsilon: 0.01\n"
     ]
    }
   ],
   "source": [
    "DQN_q_table = DQN_Agent(\n",
    "    env=env, alpha=0.01, gamma=0.95, epsilon=1, epsilon_decay=0.99, epsilon_min=0.01, memory_size=10000, batch_size=32, target_update=10\n",
    ").train(200,10)"
   ]
  },
  {
   "cell_type": "code",
   "execution_count": 634,
   "id": "dd1ee442",
   "metadata": {
    "scrolled": false
   },
   "outputs": [
    {
     "name": "stdout",
     "output_type": "stream",
     "text": [
      "Monte Carlo \n",
      " Average reward:  -257.755 \n",
      " Stuck:  9 \n",
      " Empty Q-values:  5.130111524163569 %\n",
      "SARSA \n",
      " Average reward:  -191.456 \n",
      " Stuck:  0 \n",
      " Empty Q-values:  30.174563591022448 %\n",
      "Q-Learning \n",
      " Average reward:  -161.724 \n",
      " Stuck:  0 \n",
      " Empty Q-values:  24.944099378881987 %\n",
      "Deep Q-Network \n",
      " Average reward:  -526.065 \n",
      " Stuck:  25 \n",
      " Empty Q-values:  0.0 %\n"
     ]
    }
   ],
   "source": [
    "MC_avg,MC_stuck = evaluate_q_table(MC_q_table, env, num_episodes=1000)\n",
    "MC_empty = calculate_empty_q_percentage(MC_q_table)\n",
    "print(\"Monte Carlo \\n Average reward: \", MC_avg ,\"\\n Stuck: \", MC_stuck , \"\\n Empty Q-values: \", MC_empty, \"%\")\n",
    "\n",
    "SARSA_avg,SARSA_stuck = evaluate_q_table(SARSA_q_table, env, num_episodes=1000)\n",
    "SARSA_empty = calculate_empty_q_percentage(SARSA_q_table)\n",
    "print(\"SARSA \\n Average reward: \", SARSA_avg ,\"\\n Stuck: \", SARSA_stuck , \"\\n Empty Q-values: \", SARSA_empty, \"%\")\n",
    "\n",
    "QLEARN_avg,QLEARN_stuck = evaluate_q_table(QLEARN_q_table, env, num_episodes=1000)\n",
    "QLEARN_empty = calculate_empty_q_percentage(QLEARN_q_table)\n",
    "print(\"Q-Learning \\n Average reward: \", QLEARN_avg ,\"\\n Stuck: \", QLEARN_stuck , \"\\n Empty Q-values: \", QLEARN_empty, \"%\")\n",
    "\n",
    "DQN_avg,DQN_stuck = evaluate_q_table(DQN_q_table, env, num_episodes=1000)\n",
    "DQN_empty = calculate_empty_q_percentage(DQN_q_table)\n",
    "print(\"Deep Q-Network \\n Average reward: \", DQN_avg ,\"\\n Stuck: \", DQN_stuck , \"\\n Empty Q-values: \", DQN_empty, \"%\")"
   ]
  },
  {
   "cell_type": "markdown",
   "id": "9a3cf503",
   "metadata": {},
   "source": [
    "Note: Performance is lowest around the time when the iterations end when epsilon hits epsilon_min."
   ]
  },
  {
   "cell_type": "code",
   "execution_count": 172,
   "id": "8b2cc052",
   "metadata": {
    "scrolled": true
   },
   "outputs": [
    {
     "data": {
      "image/png": "[encoded data removed]",
      "text/plain": [
       "<Figure size 1000x600 with 1 Axes>"
      ]
     },
     "metadata": {},
     "output_type": "display_data"
    }
   ],
   "source": [
    "iterations_list = [10, 20, 40, 80, 160, 320, 640, 1280, 2560, 5120, 10240,20480]\n",
    "num_test_episodes = 100\n",
    "num_subiter = 5\n",
    "\n",
    "average_rewards = {}\n",
    "\n",
    "for iterations in iterations_list:\n",
    "    rewards = []\n",
    "    for _ in range(num_subiter):\n",
    "        SARSA_q_table = SARSA_Agent(\n",
    "            alpha=0.1, gamma=0.9, env=env, epsilon=0.5, epsilon_decay=0.999, epsilon_min=0.01\n",
    "        ).train(iterations)\n",
    "\n",
    "        average_reward, _ = evaluate_q_table(SARSA_q_table, env, num_episodes=num_test_episodes)\n",
    "        rewards.append(average_reward)\n",
    "    average_rewards[iterations] = np.mean(rewards)\n",
    "\n",
    "plt.figure(figsize=(10, 6))\n",
    "plt.plot(list(average_rewards.keys()), list(average_rewards.values()), marker='o')\n",
    "plt.xscale('log')\n",
    "plt.xlabel('Number of Iterations')\n",
    "plt.ylabel('Average Reward')\n",
    "plt.title('Average Reward vs. Number of Iterations')\n",
    "plt.grid(True)\n",
    "plt.show()"
   ]
  },
  {
   "cell_type": "code",
   "execution_count": 638,
   "id": "7eca0141",
   "metadata": {
    "scrolled": false
   },
   "outputs": [
    {
     "data": {
      "image/png": "[encoded data removed]",
      "text/plain": [
       "<Figure size 1000x1000 with 1 Axes>"
      ]
     },
     "metadata": {},
     "output_type": "display_data"
    }
   ],
   "source": [
    "plot_q_table_3d(QLEARN_q_table,env.cap)"
   ]
  },
  {
   "cell_type": "code",
   "execution_count": 636,
   "id": "10e5e361",
   "metadata": {
    "scrolled": true
   },
   "outputs": [
    {
     "data": {
      "application/vnd.plotly.v1+json": {
       "config": {
        "plotlyServerURL": "https://plot.ly"
       },
       "data": [
        {
         "line": {
          "color": "rgb(68, 1, 84)",
          "width": 2
         },
         "mode": "lines+markers",
         "name": "Action 7",
         "type": "scatter",
         "x": [
          0,
          1
         ],
         "y": [
          0,
          7
         ]
        },
        {
         "line": {
          "color": "rgb(68, 1, 84)",
          "width": 2
         },
         "mode": "lines+markers",
         "name": "Action 7",
         "showlegend": false,
         "type": "scatter",
         "x": [
          0,
          1
         ],
         "y": [
          1,
          8
         ]
        },
        {
         "line": {
          "color": "rgb(68, 1, 84)",
          "width": 2
         },
         "mode": "lines+markers",
         "name": "Action 7",
         "showlegend": false,
         "type": "scatter",
         "x": [
          0,
          1
         ],
         "y": [
          8,
          15
         ]
        },
        {
         "line": {
          "color": "rgb(68, 1, 84)",
          "width": 2
         },
         "mode": "lines+markers",
         "name": "Action 7",
         "showlegend": false,
         "type": "scatter",
         "x": [
          0,
          1
         ],
         "y": [
          20,
          27
         ]
        },
        {
         "line": {
          "color": "rgb(68, 1, 84)",
          "width": 2
         },
         "mode": "lines+markers",
         "name": "Action 7",
         "showlegend": false,
         "type": "scatter",
         "x": [
          0,
          1
         ],
         "y": [
          22,
          29
         ]
        },
        {
         "line": {
          "color": "rgb(68, 1, 84)",
          "width": 2
         },
         "mode": "lines+markers",
         "name": "Action 7",
         "showlegend": false,
         "type": "scatter",
         "x": [
          0,
          1
         ],
         "y": [
          29,
          36
         ]
        },
        {
         "line": {
          "color": "rgb(68, 1, 84)",
          "width": 2
         },
         "mode": "lines+markers",
         "name": "Action 7",
         "showlegend": false,
         "type": "scatter",
         "x": [
          0,
          1
         ],
         "y": [
          35,
          42
         ]
        },
        {
         "line": {
          "color": "rgb(68, 1, 84)",
          "width": 2
         },
         "mode": "lines+markers",
         "name": "Action 7",
         "showlegend": false,
         "type": "scatter",
         "x": [
          0,
          1
         ],
         "y": [
          36,
          43
         ]
        },
        {
         "line": {
          "color": "rgb(68, 1, 84)",
          "width": 2
         },
         "mode": "lines+markers",
         "name": "Action 7",
         "showlegend": false,
         "type": "scatter",
         "x": [
          0,
          1
         ],
         "y": [
          38,
          45
         ]
        },
        {
         "line": {
          "color": "rgb(68, 1, 84)",
          "width": 2
         },
         "mode": "lines+markers",
         "name": "Action 7",
         "showlegend": false,
         "type": "scatter",
         "x": [
          0,
          1
         ],
         "y": [
          50,
          57
         ]
        },
        {
         "line": {
          "color": "rgb(68, 1, 84)",
          "width": 2
         },
         "mode": "lines+markers",
         "name": "Action 7",
         "showlegend": false,
         "type": "scatter",
         "x": [
          0,
          1
         ],
         "y": [
          53,
          60
         ]
        },
        {
         "line": {
          "color": "rgb(68, 1, 84)",
          "width": 2
         },
         "mode": "lines+markers",
         "name": "Action 7",
         "showlegend": false,
         "type": "scatter",
         "x": [
          0,
          1
         ],
         "y": [
          61,
          68
         ]
        },
        {
         "line": {
          "color": "rgb(68, 1, 84)",
          "width": 2
         },
         "mode": "lines+markers",
         "name": "Action 7",
         "showlegend": false,
         "type": "scatter",
         "x": [
          1,
          2
         ],
         "y": [
          2,
          9
         ]
        },
        {
         "line": {
          "color": "rgb(68, 1, 84)",
          "width": 2
         },
         "mode": "lines+markers",
         "name": "Action 7",
         "showlegend": false,
         "type": "scatter",
         "x": [
          1,
          2
         ],
         "y": [
          6,
          13
         ]
        },
        {
         "line": {
          "color": "rgb(68, 1, 84)",
          "width": 2
         },
         "mode": "lines+markers",
         "name": "Action 7",
         "showlegend": false,
         "type": "scatter",
         "x": [
          1,
          2
         ],
         "y": [
          10,
          17
         ]
        },
        {
         "line": {
          "color": "rgb(68, 1, 84)",
          "width": 2
         },
         "mode": "lines+markers",
         "name": "Action 7",
         "showlegend": false,
         "type": "scatter",
         "x": [
          1,
          2
         ],
         "y": [
          15,
          22
         ]
        },
        {
         "line": {
          "color": "rgb(68, 1, 84)",
          "width": 2
         },
         "mode": "lines+markers",
         "name": "Action 7",
         "showlegend": false,
         "type": "scatter",
         "x": [
          1,
          2
         ],
         "y": [
          19,
          26
         ]
        },
        {
         "line": {
          "color": "rgb(68, 1, 84)",
          "width": 2
         },
         "mode": "lines+markers",
         "name": "Action 7",
         "showlegend": false,
         "type": "scatter",
         "x": [
          1,
          2
         ],
         "y": [
          20,
          27
         ]
        },
        {
         "line": {
          "color": "rgb(68, 1, 84)",
          "width": 2
         },
         "mode": "lines+markers",
         "name": "Action 7",
         "showlegend": false,
         "type": "scatter",
         "x": [
          1,
          2
         ],
         "y": [
          23,
          30
         ]
        },
        {
         "line": {
          "color": "rgb(68, 1, 84)",
          "width": 2
         },
         "mode": "lines+markers",
         "name": "Action 7",
         "showlegend": false,
         "type": "scatter",
         "x": [
          1,
          2
         ],
         "y": [
          26,
          33
         ]
        },
        {
         "line": {
          "color": "rgb(68, 1, 84)",
          "width": 2
         },
         "mode": "lines+markers",
         "name": "Action 7",
         "showlegend": false,
         "type": "scatter",
         "x": [
          1,
          2
         ],
         "y": [
          33,
          40
         ]
        },
        {
         "line": {
          "color": "rgb(68, 1, 84)",
          "width": 2
         },
         "mode": "lines+markers",
         "name": "Action 7",
         "showlegend": false,
         "type": "scatter",
         "x": [
          1,
          2
         ],
         "y": [
          37,
          44
         ]
        },
        {
         "line": {
          "color": "rgb(68, 1, 84)",
          "width": 2
         },
         "mode": "lines+markers",
         "name": "Action 7",
         "showlegend": false,
         "type": "scatter",
         "x": [
          1,
          2
         ],
         "y": [
          41,
          48
         ]
        },
        {
         "line": {
          "color": "rgb(68, 1, 84)",
          "width": 2
         },
         "mode": "lines+markers",
         "name": "Action 7",
         "showlegend": false,
         "type": "scatter",
         "x": [
          1,
          2
         ],
         "y": [
          51,
          58
         ]
        },
        {
         "line": {
          "color": "rgb(68, 1, 84)",
          "width": 2
         },
         "mode": "lines+markers",
         "name": "Action 7",
         "showlegend": false,
         "type": "scatter",
         "x": [
          1,
          2
         ],
         "y": [
          53,
          60
         ]
        },
        {
         "line": {
          "color": "rgb(68, 1, 84)",
          "width": 2
         },
         "mode": "lines+markers",
         "name": "Action 7",
         "showlegend": false,
         "type": "scatter",
         "x": [
          1,
          2
         ],
         "y": [
          65,
          72
         ]
        },
        {
         "line": {
          "color": "rgb(68, 1, 84)",
          "width": 2
         },
         "mode": "lines+markers",
         "name": "Action 7",
         "showlegend": false,
         "type": "scatter",
         "x": [
          1,
          2
         ],
         "y": [
          85,
          92
         ]
        },
        {
         "line": {
          "color": "rgb(68, 1, 84)",
          "width": 2
         },
         "mode": "lines+markers",
         "name": "Action 7",
         "showlegend": false,
         "type": "scatter",
         "x": [
          1,
          2
         ],
         "y": [
          87,
          94
         ]
        },
        {
         "line": {
          "color": "rgb(68, 1, 84)",
          "width": 2
         },
         "mode": "lines+markers",
         "name": "Action 7",
         "showlegend": false,
         "type": "scatter",
         "x": [
          2,
          3
         ],
         "y": [
          3,
          10
         ]
        },
        {
         "line": {
          "color": "rgb(68, 1, 84)",
          "width": 2
         },
         "mode": "lines+markers",
         "name": "Action 7",
         "showlegend": false,
         "type": "scatter",
         "x": [
          2,
          3
         ],
         "y": [
          5,
          12
         ]
        },
        {
         "line": {
          "color": "rgb(68, 1, 84)",
          "width": 2
         },
         "mode": "lines+markers",
         "name": "Action 7",
         "showlegend": false,
         "type": "scatter",
         "x": [
          2,
          3
         ],
         "y": [
          7,
          14
         ]
        },
        {
         "line": {
          "color": "rgb(68, 1, 84)",
          "width": 2
         },
         "mode": "lines+markers",
         "name": "Action 7",
         "showlegend": false,
         "type": "scatter",
         "x": [
          2,
          3
         ],
         "y": [
          11,
          18
         ]
        },
        {
         "line": {
          "color": "rgb(68, 1, 84)",
          "width": 2
         },
         "mode": "lines+markers",
         "name": "Action 7",
         "showlegend": false,
         "type": "scatter",
         "x": [
          2,
          3
         ],
         "y": [
          12,
          19
         ]
        },
        {
         "line": {
          "color": "rgb(68, 1, 84)",
          "width": 2
         },
         "mode": "lines+markers",
         "name": "Action 7",
         "showlegend": false,
         "type": "scatter",
         "x": [
          2,
          3
         ],
         "y": [
          16,
          23
         ]
        },
        {
         "line": {
          "color": "rgb(68, 1, 84)",
          "width": 2
         },
         "mode": "lines+markers",
         "name": "Action 7",
         "showlegend": false,
         "type": "scatter",
         "x": [
          2,
          3
         ],
         "y": [
          18,
          25
         ]
        },
        {
         "line": {
          "color": "rgb(68, 1, 84)",
          "width": 2
         },
         "mode": "lines+markers",
         "name": "Action 7",
         "showlegend": false,
         "type": "scatter",
         "x": [
          2,
          3
         ],
         "y": [
          21,
          28
         ]
        },
        {
         "line": {
          "color": "rgb(68, 1, 84)",
          "width": 2
         },
         "mode": "lines+markers",
         "name": "Action 7",
         "showlegend": false,
         "type": "scatter",
         "x": [
          2,
          3
         ],
         "y": [
          30,
          37
         ]
        },
        {
         "line": {
          "color": "rgb(68, 1, 84)",
          "width": 2
         },
         "mode": "lines+markers",
         "name": "Action 7",
         "showlegend": false,
         "type": "scatter",
         "x": [
          2,
          3
         ],
         "y": [
          32,
          39
         ]
        },
        {
         "line": {
          "color": "rgb(68, 1, 84)",
          "width": 2
         },
         "mode": "lines+markers",
         "name": "Action 7",
         "showlegend": false,
         "type": "scatter",
         "x": [
          2,
          3
         ],
         "y": [
          36,
          43
         ]
        },
        {
         "line": {
          "color": "rgb(68, 1, 84)",
          "width": 2
         },
         "mode": "lines+markers",
         "name": "Action 7",
         "showlegend": false,
         "type": "scatter",
         "x": [
          2,
          3
         ],
         "y": [
          45,
          52
         ]
        },
        {
         "line": {
          "color": "rgb(68, 1, 84)",
          "width": 2
         },
         "mode": "lines+markers",
         "name": "Action 7",
         "showlegend": false,
         "type": "scatter",
         "x": [
          3,
          4
         ],
         "y": [
          1,
          8
         ]
        },
        {
         "line": {
          "color": "rgb(68, 1, 84)",
          "width": 2
         },
         "mode": "lines+markers",
         "name": "Action 7",
         "showlegend": false,
         "type": "scatter",
         "x": [
          3,
          4
         ],
         "y": [
          3,
          10
         ]
        },
        {
         "line": {
          "color": "rgb(68, 1, 84)",
          "width": 2
         },
         "mode": "lines+markers",
         "name": "Action 7",
         "showlegend": false,
         "type": "scatter",
         "x": [
          3,
          4
         ],
         "y": [
          8,
          15
         ]
        },
        {
         "line": {
          "color": "rgb(68, 1, 84)",
          "width": 2
         },
         "mode": "lines+markers",
         "name": "Action 7",
         "showlegend": false,
         "type": "scatter",
         "x": [
          3,
          4
         ],
         "y": [
          9,
          16
         ]
        },
        {
         "line": {
          "color": "rgb(68, 1, 84)",
          "width": 2
         },
         "mode": "lines+markers",
         "name": "Action 7",
         "showlegend": false,
         "type": "scatter",
         "x": [
          3,
          4
         ],
         "y": [
          12,
          19
         ]
        },
        {
         "line": {
          "color": "rgb(68, 1, 84)",
          "width": 2
         },
         "mode": "lines+markers",
         "name": "Action 7",
         "showlegend": false,
         "type": "scatter",
         "x": [
          3,
          4
         ],
         "y": [
          16,
          23
         ]
        },
        {
         "line": {
          "color": "rgb(68, 1, 84)",
          "width": 2
         },
         "mode": "lines+markers",
         "name": "Action 7",
         "showlegend": false,
         "type": "scatter",
         "x": [
          3,
          4
         ],
         "y": [
          17,
          24
         ]
        },
        {
         "line": {
          "color": "rgb(68, 1, 84)",
          "width": 2
         },
         "mode": "lines+markers",
         "name": "Action 7",
         "showlegend": false,
         "type": "scatter",
         "x": [
          3,
          4
         ],
         "y": [
          22,
          29
         ]
        },
        {
         "line": {
          "color": "rgb(68, 1, 84)",
          "width": 2
         },
         "mode": "lines+markers",
         "name": "Action 7",
         "showlegend": false,
         "type": "scatter",
         "x": [
          3,
          4
         ],
         "y": [
          33,
          40
         ]
        },
        {
         "line": {
          "color": "rgb(68, 1, 84)",
          "width": 2
         },
         "mode": "lines+markers",
         "name": "Action 7",
         "showlegend": false,
         "type": "scatter",
         "x": [
          3,
          4
         ],
         "y": [
          36,
          43
         ]
        },
        {
         "line": {
          "color": "rgb(68, 1, 84)",
          "width": 2
         },
         "mode": "lines+markers",
         "name": "Action 7",
         "showlegend": false,
         "type": "scatter",
         "x": [
          3,
          4
         ],
         "y": [
          41,
          48
         ]
        },
        {
         "line": {
          "color": "rgb(68, 1, 84)",
          "width": 2
         },
         "mode": "lines+markers",
         "name": "Action 7",
         "showlegend": false,
         "type": "scatter",
         "x": [
          3,
          4
         ],
         "y": [
          43,
          50
         ]
        },
        {
         "line": {
          "color": "rgb(68, 1, 84)",
          "width": 2
         },
         "mode": "lines+markers",
         "name": "Action 7",
         "showlegend": false,
         "type": "scatter",
         "x": [
          3,
          4
         ],
         "y": [
          44,
          51
         ]
        },
        {
         "line": {
          "color": "rgb(68, 1, 84)",
          "width": 2
         },
         "mode": "lines+markers",
         "name": "Action 7",
         "showlegend": false,
         "type": "scatter",
         "x": [
          3,
          4
         ],
         "y": [
          49,
          56
         ]
        },
        {
         "line": {
          "color": "rgb(68, 1, 84)",
          "width": 2
         },
         "mode": "lines+markers",
         "name": "Action 7",
         "showlegend": false,
         "type": "scatter",
         "x": [
          3,
          4
         ],
         "y": [
          64,
          71
         ]
        },
        {
         "line": {
          "color": "rgb(68, 1, 84)",
          "width": 2
         },
         "mode": "lines+markers",
         "name": "Action 7",
         "showlegend": false,
         "type": "scatter",
         "x": [
          4,
          5
         ],
         "y": [
          2,
          9
         ]
        },
        {
         "line": {
          "color": "rgb(68, 1, 84)",
          "width": 2
         },
         "mode": "lines+markers",
         "name": "Action 7",
         "showlegend": false,
         "type": "scatter",
         "x": [
          4,
          5
         ],
         "y": [
          19,
          26
         ]
        },
        {
         "line": {
          "color": "rgb(68, 1, 84)",
          "width": 2
         },
         "mode": "lines+markers",
         "name": "Action 7",
         "showlegend": false,
         "type": "scatter",
         "x": [
          4,
          5
         ],
         "y": [
          28,
          35
         ]
        },
        {
         "line": {
          "color": "rgb(68, 1, 84)",
          "width": 2
         },
         "mode": "lines+markers",
         "name": "Action 7",
         "showlegend": false,
         "type": "scatter",
         "x": [
          4,
          5
         ],
         "y": [
          31,
          38
         ]
        },
        {
         "line": {
          "color": "rgb(68, 1, 84)",
          "width": 2
         },
         "mode": "lines+markers",
         "name": "Action 7",
         "showlegend": false,
         "type": "scatter",
         "x": [
          4,
          5
         ],
         "y": [
          35,
          42
         ]
        },
        {
         "line": {
          "color": "rgb(68, 1, 84)",
          "width": 2
         },
         "mode": "lines+markers",
         "name": "Action 7",
         "showlegend": false,
         "type": "scatter",
         "x": [
          4,
          5
         ],
         "y": [
          36,
          43
         ]
        },
        {
         "line": {
          "color": "rgb(68, 1, 84)",
          "width": 2
         },
         "mode": "lines+markers",
         "name": "Action 7",
         "showlegend": false,
         "type": "scatter",
         "x": [
          4,
          5
         ],
         "y": [
          39,
          46
         ]
        },
        {
         "line": {
          "color": "rgb(68, 1, 84)",
          "width": 2
         },
         "mode": "lines+markers",
         "name": "Action 7",
         "showlegend": false,
         "type": "scatter",
         "x": [
          4,
          5
         ],
         "y": [
          41,
          48
         ]
        },
        {
         "line": {
          "color": "rgb(68, 1, 84)",
          "width": 2
         },
         "mode": "lines+markers",
         "name": "Action 7",
         "showlegend": false,
         "type": "scatter",
         "x": [
          4,
          5
         ],
         "y": [
          43,
          50
         ]
        },
        {
         "line": {
          "color": "rgb(68, 1, 84)",
          "width": 2
         },
         "mode": "lines+markers",
         "name": "Action 7",
         "showlegend": false,
         "type": "scatter",
         "x": [
          4,
          5
         ],
         "y": [
          49,
          56
         ]
        },
        {
         "line": {
          "color": "rgb(68, 1, 84)",
          "width": 2
         },
         "mode": "lines+markers",
         "name": "Action 7",
         "showlegend": false,
         "type": "scatter",
         "x": [
          4,
          5
         ],
         "y": [
          58,
          65
         ]
        },
        {
         "line": {
          "color": "rgb(68, 1, 84)",
          "width": 2
         },
         "mode": "lines+markers",
         "name": "Action 7",
         "showlegend": false,
         "type": "scatter",
         "x": [
          4,
          5
         ],
         "y": [
          64,
          71
         ]
        },
        {
         "line": {
          "color": "rgb(68, 1, 84)",
          "width": 2
         },
         "mode": "lines+markers",
         "name": "Action 7",
         "showlegend": false,
         "type": "scatter",
         "x": [
          5,
          6
         ],
         "y": [
          5,
          12
         ]
        },
        {
         "line": {
          "color": "rgb(68, 1, 84)",
          "width": 2
         },
         "mode": "lines+markers",
         "name": "Action 7",
         "showlegend": false,
         "type": "scatter",
         "x": [
          5,
          6
         ],
         "y": [
          10,
          17
         ]
        },
        {
         "line": {
          "color": "rgb(68, 1, 84)",
          "width": 2
         },
         "mode": "lines+markers",
         "name": "Action 7",
         "showlegend": false,
         "type": "scatter",
         "x": [
          5,
          6
         ],
         "y": [
          11,
          18
         ]
        },
        {
         "line": {
          "color": "rgb(68, 1, 84)",
          "width": 2
         },
         "mode": "lines+markers",
         "name": "Action 7",
         "showlegend": false,
         "type": "scatter",
         "x": [
          5,
          6
         ],
         "y": [
          13,
          20
         ]
        },
        {
         "line": {
          "color": "rgb(68, 1, 84)",
          "width": 2
         },
         "mode": "lines+markers",
         "name": "Action 7",
         "showlegend": false,
         "type": "scatter",
         "x": [
          5,
          6
         ],
         "y": [
          22,
          29
         ]
        },
        {
         "line": {
          "color": "rgb(68, 1, 84)",
          "width": 2
         },
         "mode": "lines+markers",
         "name": "Action 7",
         "showlegend": false,
         "type": "scatter",
         "x": [
          5,
          6
         ],
         "y": [
          28,
          35
         ]
        },
        {
         "line": {
          "color": "rgb(68, 1, 84)",
          "width": 2
         },
         "mode": "lines+markers",
         "name": "Action 7",
         "showlegend": false,
         "type": "scatter",
         "x": [
          5,
          6
         ],
         "y": [
          36,
          43
         ]
        },
        {
         "line": {
          "color": "rgb(68, 1, 84)",
          "width": 2
         },
         "mode": "lines+markers",
         "name": "Action 7",
         "showlegend": false,
         "type": "scatter",
         "x": [
          5,
          6
         ],
         "y": [
          40,
          47
         ]
        },
        {
         "line": {
          "color": "rgb(68, 1, 84)",
          "width": 2
         },
         "mode": "lines+markers",
         "name": "Action 7",
         "showlegend": false,
         "type": "scatter",
         "x": [
          5,
          6
         ],
         "y": [
          42,
          49
         ]
        },
        {
         "line": {
          "color": "rgb(68, 1, 84)",
          "width": 2
         },
         "mode": "lines+markers",
         "name": "Action 7",
         "showlegend": false,
         "type": "scatter",
         "x": [
          5,
          6
         ],
         "y": [
          43,
          50
         ]
        },
        {
         "line": {
          "color": "rgb(68, 1, 84)",
          "width": 2
         },
         "mode": "lines+markers",
         "name": "Action 7",
         "showlegend": false,
         "type": "scatter",
         "x": [
          5,
          6
         ],
         "y": [
          45,
          52
         ]
        },
        {
         "line": {
          "color": "rgb(68, 1, 84)",
          "width": 2
         },
         "mode": "lines+markers",
         "name": "Action 7",
         "showlegend": false,
         "type": "scatter",
         "x": [
          5,
          6
         ],
         "y": [
          63,
          70
         ]
        },
        {
         "line": {
          "color": "rgb(68, 1, 84)",
          "width": 2
         },
         "mode": "lines+markers",
         "name": "Action 7",
         "showlegend": false,
         "type": "scatter",
         "x": [
          6,
          7
         ],
         "y": [
          4,
          11
         ]
        },
        {
         "line": {
          "color": "rgb(68, 1, 84)",
          "width": 2
         },
         "mode": "lines+markers",
         "name": "Action 7",
         "showlegend": false,
         "type": "scatter",
         "x": [
          6,
          7
         ],
         "y": [
          19,
          26
         ]
        },
        {
         "line": {
          "color": "rgb(68, 1, 84)",
          "width": 2
         },
         "mode": "lines+markers",
         "name": "Action 7",
         "showlegend": false,
         "type": "scatter",
         "x": [
          6,
          7
         ],
         "y": [
          21,
          28
         ]
        },
        {
         "line": {
          "color": "rgb(68, 1, 84)",
          "width": 2
         },
         "mode": "lines+markers",
         "name": "Action 7",
         "showlegend": false,
         "type": "scatter",
         "x": [
          6,
          7
         ],
         "y": [
          29,
          36
         ]
        },
        {
         "line": {
          "color": "rgb(68, 1, 84)",
          "width": 2
         },
         "mode": "lines+markers",
         "name": "Action 7",
         "showlegend": false,
         "type": "scatter",
         "x": [
          6,
          7
         ],
         "y": [
          33,
          40
         ]
        },
        {
         "line": {
          "color": "rgb(68, 1, 84)",
          "width": 2
         },
         "mode": "lines+markers",
         "name": "Action 7",
         "showlegend": false,
         "type": "scatter",
         "x": [
          6,
          7
         ],
         "y": [
          36,
          43
         ]
        },
        {
         "line": {
          "color": "rgb(68, 1, 84)",
          "width": 2
         },
         "mode": "lines+markers",
         "name": "Action 7",
         "showlegend": false,
         "type": "scatter",
         "x": [
          6,
          7
         ],
         "y": [
          40,
          47
         ]
        },
        {
         "line": {
          "color": "rgb(68, 1, 84)",
          "width": 2
         },
         "mode": "lines+markers",
         "name": "Action 7",
         "showlegend": false,
         "type": "scatter",
         "x": [
          6,
          7
         ],
         "y": [
          41,
          48
         ]
        },
        {
         "line": {
          "color": "rgb(68, 1, 84)",
          "width": 2
         },
         "mode": "lines+markers",
         "name": "Action 7",
         "showlegend": false,
         "type": "scatter",
         "x": [
          6,
          7
         ],
         "y": [
          43,
          50
         ]
        },
        {
         "line": {
          "color": "rgb(68, 1, 84)",
          "width": 2
         },
         "mode": "lines+markers",
         "name": "Action 7",
         "showlegend": false,
         "type": "scatter",
         "x": [
          6,
          7
         ],
         "y": [
          44,
          51
         ]
        },
        {
         "line": {
          "color": "rgb(68, 1, 84)",
          "width": 2
         },
         "mode": "lines+markers",
         "name": "Action 7",
         "showlegend": false,
         "type": "scatter",
         "x": [
          6,
          7
         ],
         "y": [
          49,
          56
         ]
        },
        {
         "line": {
          "color": "rgb(68, 1, 84)",
          "width": 2
         },
         "mode": "lines+markers",
         "name": "Action 7",
         "showlegend": false,
         "type": "scatter",
         "x": [
          7,
          8
         ],
         "y": [
          8,
          15
         ]
        },
        {
         "line": {
          "color": "rgb(68, 1, 84)",
          "width": 2
         },
         "mode": "lines+markers",
         "name": "Action 7",
         "showlegend": false,
         "type": "scatter",
         "x": [
          7,
          8
         ],
         "y": [
          10,
          17
         ]
        },
        {
         "line": {
          "color": "rgb(68, 1, 84)",
          "width": 2
         },
         "mode": "lines+markers",
         "name": "Action 7",
         "showlegend": false,
         "type": "scatter",
         "x": [
          7,
          8
         ],
         "y": [
          15,
          22
         ]
        },
        {
         "line": {
          "color": "rgb(68, 1, 84)",
          "width": 2
         },
         "mode": "lines+markers",
         "name": "Action 7",
         "showlegend": false,
         "type": "scatter",
         "x": [
          7,
          8
         ],
         "y": [
          27,
          34
         ]
        },
        {
         "line": {
          "color": "rgb(68, 1, 84)",
          "width": 2
         },
         "mode": "lines+markers",
         "name": "Action 7",
         "showlegend": false,
         "type": "scatter",
         "x": [
          7,
          8
         ],
         "y": [
          29,
          36
         ]
        },
        {
         "line": {
          "color": "rgb(68, 1, 84)",
          "width": 2
         },
         "mode": "lines+markers",
         "name": "Action 7",
         "showlegend": false,
         "type": "scatter",
         "x": [
          7,
          8
         ],
         "y": [
          33,
          40
         ]
        },
        {
         "line": {
          "color": "rgb(68, 1, 84)",
          "width": 2
         },
         "mode": "lines+markers",
         "name": "Action 7",
         "showlegend": false,
         "type": "scatter",
         "x": [
          7,
          8
         ],
         "y": [
          40,
          47
         ]
        },
        {
         "line": {
          "color": "rgb(68, 1, 84)",
          "width": 2
         },
         "mode": "lines+markers",
         "name": "Action 7",
         "showlegend": false,
         "type": "scatter",
         "x": [
          7,
          8
         ],
         "y": [
          43,
          50
         ]
        },
        {
         "line": {
          "color": "rgb(68, 1, 84)",
          "width": 2
         },
         "mode": "lines+markers",
         "name": "Action 7",
         "showlegend": false,
         "type": "scatter",
         "x": [
          7,
          8
         ],
         "y": [
          45,
          52
         ]
        },
        {
         "line": {
          "color": "rgb(68, 1, 84)",
          "width": 2
         },
         "mode": "lines+markers",
         "name": "Action 7",
         "showlegend": false,
         "type": "scatter",
         "x": [
          7,
          8
         ],
         "y": [
          46,
          53
         ]
        },
        {
         "line": {
          "color": "rgb(68, 1, 84)",
          "width": 2
         },
         "mode": "lines+markers",
         "name": "Action 7",
         "showlegend": false,
         "type": "scatter",
         "x": [
          7,
          8
         ],
         "y": [
          47,
          54
         ]
        },
        {
         "line": {
          "color": "rgb(68, 1, 84)",
          "width": 2
         },
         "mode": "lines+markers",
         "name": "Action 7",
         "showlegend": false,
         "type": "scatter",
         "x": [
          7,
          8
         ],
         "y": [
          48,
          55
         ]
        },
        {
         "line": {
          "color": "rgb(68, 1, 84)",
          "width": 2
         },
         "mode": "lines+markers",
         "name": "Action 7",
         "showlegend": false,
         "type": "scatter",
         "x": [
          7,
          8
         ],
         "y": [
          49,
          56
         ]
        },
        {
         "line": {
          "color": "rgb(68, 1, 84)",
          "width": 2
         },
         "mode": "lines+markers",
         "name": "Action 7",
         "showlegend": false,
         "type": "scatter",
         "x": [
          7,
          8
         ],
         "y": [
          52,
          59
         ]
        },
        {
         "line": {
          "color": "rgb(58, 82, 139)",
          "width": 2
         },
         "mode": "lines+markers",
         "name": "Action 0",
         "type": "scatter",
         "x": [
          0,
          1
         ],
         "y": [
          2,
          2
         ]
        },
        {
         "line": {
          "color": "rgb(58, 82, 139)",
          "width": 2
         },
         "mode": "lines+markers",
         "name": "Action 0",
         "showlegend": false,
         "type": "scatter",
         "x": [
          0,
          1
         ],
         "y": [
          7,
          7
         ]
        },
        {
         "line": {
          "color": "rgb(58, 82, 139)",
          "width": 2
         },
         "mode": "lines+markers",
         "name": "Action 0",
         "showlegend": false,
         "type": "scatter",
         "x": [
          0,
          1
         ],
         "y": [
          10,
          10
         ]
        },
        {
         "line": {
          "color": "rgb(58, 82, 139)",
          "width": 2
         },
         "mode": "lines+markers",
         "name": "Action 0",
         "showlegend": false,
         "type": "scatter",
         "x": [
          0,
          1
         ],
         "y": [
          17,
          17
         ]
        },
        {
         "line": {
          "color": "rgb(58, 82, 139)",
          "width": 2
         },
         "mode": "lines+markers",
         "name": "Action 0",
         "showlegend": false,
         "type": "scatter",
         "x": [
          0,
          1
         ],
         "y": [
          24,
          24
         ]
        },
        {
         "line": {
          "color": "rgb(58, 82, 139)",
          "width": 2
         },
         "mode": "lines+markers",
         "name": "Action 0",
         "showlegend": false,
         "type": "scatter",
         "x": [
          0,
          1
         ],
         "y": [
          28,
          28
         ]
        },
        {
         "line": {
          "color": "rgb(58, 82, 139)",
          "width": 2
         },
         "mode": "lines+markers",
         "name": "Action 0",
         "showlegend": false,
         "type": "scatter",
         "x": [
          0,
          1
         ],
         "y": [
          30,
          30
         ]
        },
        {
         "line": {
          "color": "rgb(58, 82, 139)",
          "width": 2
         },
         "mode": "lines+markers",
         "name": "Action 0",
         "showlegend": false,
         "type": "scatter",
         "x": [
          0,
          1
         ],
         "y": [
          31,
          31
         ]
        },
        {
         "line": {
          "color": "rgb(58, 82, 139)",
          "width": 2
         },
         "mode": "lines+markers",
         "name": "Action 0",
         "showlegend": false,
         "type": "scatter",
         "x": [
          0,
          1
         ],
         "y": [
          37,
          37
         ]
        },
        {
         "line": {
          "color": "rgb(58, 82, 139)",
          "width": 2
         },
         "mode": "lines+markers",
         "name": "Action 0",
         "showlegend": false,
         "type": "scatter",
         "x": [
          0,
          1
         ],
         "y": [
          39,
          39
         ]
        },
        {
         "line": {
          "color": "rgb(58, 82, 139)",
          "width": 2
         },
         "mode": "lines+markers",
         "name": "Action 0",
         "showlegend": false,
         "type": "scatter",
         "x": [
          0,
          1
         ],
         "y": [
          42,
          42
         ]
        },
        {
         "line": {
          "color": "rgb(58, 82, 139)",
          "width": 2
         },
         "mode": "lines+markers",
         "name": "Action 0",
         "showlegend": false,
         "type": "scatter",
         "x": [
          0,
          1
         ],
         "y": [
          44,
          44
         ]
        },
        {
         "line": {
          "color": "rgb(58, 82, 139)",
          "width": 2
         },
         "mode": "lines+markers",
         "name": "Action 0",
         "showlegend": false,
         "type": "scatter",
         "x": [
          0,
          1
         ],
         "y": [
          46,
          46
         ]
        },
        {
         "line": {
          "color": "rgb(58, 82, 139)",
          "width": 2
         },
         "mode": "lines+markers",
         "name": "Action 0",
         "showlegend": false,
         "type": "scatter",
         "x": [
          0,
          1
         ],
         "y": [
          48,
          48
         ]
        },
        {
         "line": {
          "color": "rgb(58, 82, 139)",
          "width": 2
         },
         "mode": "lines+markers",
         "name": "Action 0",
         "showlegend": false,
         "type": "scatter",
         "x": [
          0,
          1
         ],
         "y": [
          49,
          49
         ]
        },
        {
         "line": {
          "color": "rgb(58, 82, 139)",
          "width": 2
         },
         "mode": "lines+markers",
         "name": "Action 0",
         "showlegend": false,
         "type": "scatter",
         "x": [
          0,
          1
         ],
         "y": [
          51,
          51
         ]
        },
        {
         "line": {
          "color": "rgb(58, 82, 139)",
          "width": 2
         },
         "mode": "lines+markers",
         "name": "Action 0",
         "showlegend": false,
         "type": "scatter",
         "x": [
          0,
          1
         ],
         "y": [
          55,
          55
         ]
        },
        {
         "line": {
          "color": "rgb(58, 82, 139)",
          "width": 2
         },
         "mode": "lines+markers",
         "name": "Action 0",
         "showlegend": false,
         "type": "scatter",
         "x": [
          0,
          1
         ],
         "y": [
          56,
          56
         ]
        },
        {
         "line": {
          "color": "rgb(58, 82, 139)",
          "width": 2
         },
         "mode": "lines+markers",
         "name": "Action 0",
         "showlegend": false,
         "type": "scatter",
         "x": [
          0,
          1
         ],
         "y": [
          57,
          57
         ]
        },
        {
         "line": {
          "color": "rgb(58, 82, 139)",
          "width": 2
         },
         "mode": "lines+markers",
         "name": "Action 0",
         "showlegend": false,
         "type": "scatter",
         "x": [
          0,
          1
         ],
         "y": [
          58,
          58
         ]
        },
        {
         "line": {
          "color": "rgb(58, 82, 139)",
          "width": 2
         },
         "mode": "lines+markers",
         "name": "Action 0",
         "showlegend": false,
         "type": "scatter",
         "x": [
          0,
          1
         ],
         "y": [
          59,
          59
         ]
        },
        {
         "line": {
          "color": "rgb(58, 82, 139)",
          "width": 2
         },
         "mode": "lines+markers",
         "name": "Action 0",
         "showlegend": false,
         "type": "scatter",
         "x": [
          0,
          1
         ],
         "y": [
          62,
          62
         ]
        },
        {
         "line": {
          "color": "rgb(58, 82, 139)",
          "width": 2
         },
         "mode": "lines+markers",
         "name": "Action 0",
         "showlegend": false,
         "type": "scatter",
         "x": [
          0,
          1
         ],
         "y": [
          64,
          64
         ]
        },
        {
         "line": {
          "color": "rgb(58, 82, 139)",
          "width": 2
         },
         "mode": "lines+markers",
         "name": "Action 0",
         "showlegend": false,
         "type": "scatter",
         "x": [
          0,
          1
         ],
         "y": [
          65,
          65
         ]
        },
        {
         "line": {
          "color": "rgb(58, 82, 139)",
          "width": 2
         },
         "mode": "lines+markers",
         "name": "Action 0",
         "showlegend": false,
         "type": "scatter",
         "x": [
          0,
          1
         ],
         "y": [
          68,
          68
         ]
        },
        {
         "line": {
          "color": "rgb(58, 82, 139)",
          "width": 2
         },
         "mode": "lines+markers",
         "name": "Action 0",
         "showlegend": false,
         "type": "scatter",
         "x": [
          0,
          1
         ],
         "y": [
          69,
          69
         ]
        },
        {
         "line": {
          "color": "rgb(58, 82, 139)",
          "width": 2
         },
         "mode": "lines+markers",
         "name": "Action 0",
         "showlegend": false,
         "type": "scatter",
         "x": [
          0,
          1
         ],
         "y": [
          71,
          71
         ]
        },
        {
         "line": {
          "color": "rgb(58, 82, 139)",
          "width": 2
         },
         "mode": "lines+markers",
         "name": "Action 0",
         "showlegend": false,
         "type": "scatter",
         "x": [
          0,
          1
         ],
         "y": [
          72,
          72
         ]
        },
        {
         "line": {
          "color": "rgb(58, 82, 139)",
          "width": 2
         },
         "mode": "lines+markers",
         "name": "Action 0",
         "showlegend": false,
         "type": "scatter",
         "x": [
          0,
          1
         ],
         "y": [
          75,
          75
         ]
        },
        {
         "line": {
          "color": "rgb(58, 82, 139)",
          "width": 2
         },
         "mode": "lines+markers",
         "name": "Action 0",
         "showlegend": false,
         "type": "scatter",
         "x": [
          0,
          1
         ],
         "y": [
          76,
          76
         ]
        },
        {
         "line": {
          "color": "rgb(58, 82, 139)",
          "width": 2
         },
         "mode": "lines+markers",
         "name": "Action 0",
         "showlegend": false,
         "type": "scatter",
         "x": [
          0,
          1
         ],
         "y": [
          80,
          80
         ]
        },
        {
         "line": {
          "color": "rgb(58, 82, 139)",
          "width": 2
         },
         "mode": "lines+markers",
         "name": "Action 0",
         "showlegend": false,
         "type": "scatter",
         "x": [
          0,
          1
         ],
         "y": [
          82,
          82
         ]
        },
        {
         "line": {
          "color": "rgb(58, 82, 139)",
          "width": 2
         },
         "mode": "lines+markers",
         "name": "Action 0",
         "showlegend": false,
         "type": "scatter",
         "x": [
          0,
          1
         ],
         "y": [
          84,
          84
         ]
        },
        {
         "line": {
          "color": "rgb(58, 82, 139)",
          "width": 2
         },
         "mode": "lines+markers",
         "name": "Action 0",
         "showlegend": false,
         "type": "scatter",
         "x": [
          0,
          1
         ],
         "y": [
          86,
          86
         ]
        },
        {
         "line": {
          "color": "rgb(58, 82, 139)",
          "width": 2
         },
         "mode": "lines+markers",
         "name": "Action 0",
         "showlegend": false,
         "type": "scatter",
         "x": [
          0,
          1
         ],
         "y": [
          87,
          87
         ]
        },
        {
         "line": {
          "color": "rgb(58, 82, 139)",
          "width": 2
         },
         "mode": "lines+markers",
         "name": "Action 0",
         "showlegend": false,
         "type": "scatter",
         "x": [
          0,
          1
         ],
         "y": [
          89,
          89
         ]
        },
        {
         "line": {
          "color": "rgb(58, 82, 139)",
          "width": 2
         },
         "mode": "lines+markers",
         "name": "Action 0",
         "showlegend": false,
         "type": "scatter",
         "x": [
          0,
          1
         ],
         "y": [
          90,
          90
         ]
        },
        {
         "line": {
          "color": "rgb(58, 82, 139)",
          "width": 2
         },
         "mode": "lines+markers",
         "name": "Action 0",
         "showlegend": false,
         "type": "scatter",
         "x": [
          0,
          1
         ],
         "y": [
          93,
          93
         ]
        },
        {
         "line": {
          "color": "rgb(58, 82, 139)",
          "width": 2
         },
         "mode": "lines+markers",
         "name": "Action 0",
         "showlegend": false,
         "type": "scatter",
         "x": [
          0,
          1
         ],
         "y": [
          96,
          96
         ]
        },
        {
         "line": {
          "color": "rgb(58, 82, 139)",
          "width": 2
         },
         "mode": "lines+markers",
         "name": "Action 0",
         "showlegend": false,
         "type": "scatter",
         "x": [
          0,
          1
         ],
         "y": [
          98,
          98
         ]
        },
        {
         "line": {
          "color": "rgb(58, 82, 139)",
          "width": 2
         },
         "mode": "lines+markers",
         "name": "Action 0",
         "showlegend": false,
         "type": "scatter",
         "x": [
          0,
          1
         ],
         "y": [
          99,
          99
         ]
        },
        {
         "line": {
          "color": "rgb(58, 82, 139)",
          "width": 2
         },
         "mode": "lines+markers",
         "name": "Action 0",
         "showlegend": false,
         "type": "scatter",
         "x": [
          0,
          1
         ],
         "y": [
          100,
          100
         ]
        },
        {
         "line": {
          "color": "rgb(58, 82, 139)",
          "width": 2
         },
         "mode": "lines+markers",
         "name": "Action 0",
         "showlegend": false,
         "type": "scatter",
         "x": [
          1,
          2
         ],
         "y": [
          7,
          7
         ]
        },
        {
         "line": {
          "color": "rgb(58, 82, 139)",
          "width": 2
         },
         "mode": "lines+markers",
         "name": "Action 0",
         "showlegend": false,
         "type": "scatter",
         "x": [
          1,
          2
         ],
         "y": [
          14,
          14
         ]
        },
        {
         "line": {
          "color": "rgb(58, 82, 139)",
          "width": 2
         },
         "mode": "lines+markers",
         "name": "Action 0",
         "showlegend": false,
         "type": "scatter",
         "x": [
          1,
          2
         ],
         "y": [
          16,
          16
         ]
        },
        {
         "line": {
          "color": "rgb(58, 82, 139)",
          "width": 2
         },
         "mode": "lines+markers",
         "name": "Action 0",
         "showlegend": false,
         "type": "scatter",
         "x": [
          1,
          2
         ],
         "y": [
          22,
          22
         ]
        },
        {
         "line": {
          "color": "rgb(58, 82, 139)",
          "width": 2
         },
         "mode": "lines+markers",
         "name": "Action 0",
         "showlegend": false,
         "type": "scatter",
         "x": [
          1,
          2
         ],
         "y": [
          27,
          27
         ]
        },
        {
         "line": {
          "color": "rgb(58, 82, 139)",
          "width": 2
         },
         "mode": "lines+markers",
         "name": "Action 0",
         "showlegend": false,
         "type": "scatter",
         "x": [
          1,
          2
         ],
         "y": [
          32,
          32
         ]
        },
        {
         "line": {
          "color": "rgb(58, 82, 139)",
          "width": 2
         },
         "mode": "lines+markers",
         "name": "Action 0",
         "showlegend": false,
         "type": "scatter",
         "x": [
          1,
          2
         ],
         "y": [
          38,
          38
         ]
        },
        {
         "line": {
          "color": "rgb(58, 82, 139)",
          "width": 2
         },
         "mode": "lines+markers",
         "name": "Action 0",
         "showlegend": false,
         "type": "scatter",
         "x": [
          1,
          2
         ],
         "y": [
          39,
          39
         ]
        },
        {
         "line": {
          "color": "rgb(58, 82, 139)",
          "width": 2
         },
         "mode": "lines+markers",
         "name": "Action 0",
         "showlegend": false,
         "type": "scatter",
         "x": [
          1,
          2
         ],
         "y": [
          40,
          40
         ]
        },
        {
         "line": {
          "color": "rgb(58, 82, 139)",
          "width": 2
         },
         "mode": "lines+markers",
         "name": "Action 0",
         "showlegend": false,
         "type": "scatter",
         "x": [
          1,
          2
         ],
         "y": [
          42,
          42
         ]
        },
        {
         "line": {
          "color": "rgb(58, 82, 139)",
          "width": 2
         },
         "mode": "lines+markers",
         "name": "Action 0",
         "showlegend": false,
         "type": "scatter",
         "x": [
          1,
          2
         ],
         "y": [
          45,
          45
         ]
        },
        {
         "line": {
          "color": "rgb(58, 82, 139)",
          "width": 2
         },
         "mode": "lines+markers",
         "name": "Action 0",
         "showlegend": false,
         "type": "scatter",
         "x": [
          1,
          2
         ],
         "y": [
          55,
          55
         ]
        },
        {
         "line": {
          "color": "rgb(58, 82, 139)",
          "width": 2
         },
         "mode": "lines+markers",
         "name": "Action 0",
         "showlegend": false,
         "type": "scatter",
         "x": [
          1,
          2
         ],
         "y": [
          57,
          57
         ]
        },
        {
         "line": {
          "color": "rgb(58, 82, 139)",
          "width": 2
         },
         "mode": "lines+markers",
         "name": "Action 0",
         "showlegend": false,
         "type": "scatter",
         "x": [
          1,
          2
         ],
         "y": [
          59,
          59
         ]
        },
        {
         "line": {
          "color": "rgb(58, 82, 139)",
          "width": 2
         },
         "mode": "lines+markers",
         "name": "Action 0",
         "showlegend": false,
         "type": "scatter",
         "x": [
          1,
          2
         ],
         "y": [
          61,
          61
         ]
        },
        {
         "line": {
          "color": "rgb(58, 82, 139)",
          "width": 2
         },
         "mode": "lines+markers",
         "name": "Action 0",
         "showlegend": false,
         "type": "scatter",
         "x": [
          1,
          2
         ],
         "y": [
          62,
          62
         ]
        },
        {
         "line": {
          "color": "rgb(58, 82, 139)",
          "width": 2
         },
         "mode": "lines+markers",
         "name": "Action 0",
         "showlegend": false,
         "type": "scatter",
         "x": [
          1,
          2
         ],
         "y": [
          64,
          64
         ]
        },
        {
         "line": {
          "color": "rgb(58, 82, 139)",
          "width": 2
         },
         "mode": "lines+markers",
         "name": "Action 0",
         "showlegend": false,
         "type": "scatter",
         "x": [
          1,
          2
         ],
         "y": [
          66,
          66
         ]
        },
        {
         "line": {
          "color": "rgb(58, 82, 139)",
          "width": 2
         },
         "mode": "lines+markers",
         "name": "Action 0",
         "showlegend": false,
         "type": "scatter",
         "x": [
          1,
          2
         ],
         "y": [
          67,
          67
         ]
        },
        {
         "line": {
          "color": "rgb(58, 82, 139)",
          "width": 2
         },
         "mode": "lines+markers",
         "name": "Action 0",
         "showlegend": false,
         "type": "scatter",
         "x": [
          1,
          2
         ],
         "y": [
          69,
          69
         ]
        },
        {
         "line": {
          "color": "rgb(58, 82, 139)",
          "width": 2
         },
         "mode": "lines+markers",
         "name": "Action 0",
         "showlegend": false,
         "type": "scatter",
         "x": [
          1,
          2
         ],
         "y": [
          70,
          70
         ]
        },
        {
         "line": {
          "color": "rgb(58, 82, 139)",
          "width": 2
         },
         "mode": "lines+markers",
         "name": "Action 0",
         "showlegend": false,
         "type": "scatter",
         "x": [
          1,
          2
         ],
         "y": [
          71,
          71
         ]
        },
        {
         "line": {
          "color": "rgb(58, 82, 139)",
          "width": 2
         },
         "mode": "lines+markers",
         "name": "Action 0",
         "showlegend": false,
         "type": "scatter",
         "x": [
          1,
          2
         ],
         "y": [
          72,
          72
         ]
        },
        {
         "line": {
          "color": "rgb(58, 82, 139)",
          "width": 2
         },
         "mode": "lines+markers",
         "name": "Action 0",
         "showlegend": false,
         "type": "scatter",
         "x": [
          1,
          2
         ],
         "y": [
          73,
          73
         ]
        },
        {
         "line": {
          "color": "rgb(58, 82, 139)",
          "width": 2
         },
         "mode": "lines+markers",
         "name": "Action 0",
         "showlegend": false,
         "type": "scatter",
         "x": [
          1,
          2
         ],
         "y": [
          74,
          74
         ]
        },
        {
         "line": {
          "color": "rgb(58, 82, 139)",
          "width": 2
         },
         "mode": "lines+markers",
         "name": "Action 0",
         "showlegend": false,
         "type": "scatter",
         "x": [
          1,
          2
         ],
         "y": [
          76,
          76
         ]
        },
        {
         "line": {
          "color": "rgb(58, 82, 139)",
          "width": 2
         },
         "mode": "lines+markers",
         "name": "Action 0",
         "showlegend": false,
         "type": "scatter",
         "x": [
          1,
          2
         ],
         "y": [
          78,
          78
         ]
        },
        {
         "line": {
          "color": "rgb(58, 82, 139)",
          "width": 2
         },
         "mode": "lines+markers",
         "name": "Action 0",
         "showlegend": false,
         "type": "scatter",
         "x": [
          1,
          2
         ],
         "y": [
          79,
          79
         ]
        },
        {
         "line": {
          "color": "rgb(58, 82, 139)",
          "width": 2
         },
         "mode": "lines+markers",
         "name": "Action 0",
         "showlegend": false,
         "type": "scatter",
         "x": [
          1,
          2
         ],
         "y": [
          80,
          80
         ]
        },
        {
         "line": {
          "color": "rgb(58, 82, 139)",
          "width": 2
         },
         "mode": "lines+markers",
         "name": "Action 0",
         "showlegend": false,
         "type": "scatter",
         "x": [
          1,
          2
         ],
         "y": [
          82,
          82
         ]
        },
        {
         "line": {
          "color": "rgb(58, 82, 139)",
          "width": 2
         },
         "mode": "lines+markers",
         "name": "Action 0",
         "showlegend": false,
         "type": "scatter",
         "x": [
          1,
          2
         ],
         "y": [
          84,
          84
         ]
        },
        {
         "line": {
          "color": "rgb(58, 82, 139)",
          "width": 2
         },
         "mode": "lines+markers",
         "name": "Action 0",
         "showlegend": false,
         "type": "scatter",
         "x": [
          1,
          2
         ],
         "y": [
          86,
          86
         ]
        },
        {
         "line": {
          "color": "rgb(58, 82, 139)",
          "width": 2
         },
         "mode": "lines+markers",
         "name": "Action 0",
         "showlegend": false,
         "type": "scatter",
         "x": [
          1,
          2
         ],
         "y": [
          90,
          90
         ]
        },
        {
         "line": {
          "color": "rgb(58, 82, 139)",
          "width": 2
         },
         "mode": "lines+markers",
         "name": "Action 0",
         "showlegend": false,
         "type": "scatter",
         "x": [
          1,
          2
         ],
         "y": [
          92,
          92
         ]
        },
        {
         "line": {
          "color": "rgb(58, 82, 139)",
          "width": 2
         },
         "mode": "lines+markers",
         "name": "Action 0",
         "showlegend": false,
         "type": "scatter",
         "x": [
          1,
          2
         ],
         "y": [
          93,
          93
         ]
        },
        {
         "line": {
          "color": "rgb(58, 82, 139)",
          "width": 2
         },
         "mode": "lines+markers",
         "name": "Action 0",
         "showlegend": false,
         "type": "scatter",
         "x": [
          1,
          2
         ],
         "y": [
          94,
          94
         ]
        },
        {
         "line": {
          "color": "rgb(58, 82, 139)",
          "width": 2
         },
         "mode": "lines+markers",
         "name": "Action 0",
         "showlegend": false,
         "type": "scatter",
         "x": [
          1,
          2
         ],
         "y": [
          95,
          95
         ]
        },
        {
         "line": {
          "color": "rgb(58, 82, 139)",
          "width": 2
         },
         "mode": "lines+markers",
         "name": "Action 0",
         "showlegend": false,
         "type": "scatter",
         "x": [
          1,
          2
         ],
         "y": [
          96,
          96
         ]
        },
        {
         "line": {
          "color": "rgb(58, 82, 139)",
          "width": 2
         },
         "mode": "lines+markers",
         "name": "Action 0",
         "showlegend": false,
         "type": "scatter",
         "x": [
          1,
          2
         ],
         "y": [
          97,
          97
         ]
        },
        {
         "line": {
          "color": "rgb(58, 82, 139)",
          "width": 2
         },
         "mode": "lines+markers",
         "name": "Action 0",
         "showlegend": false,
         "type": "scatter",
         "x": [
          1,
          2
         ],
         "y": [
          98,
          98
         ]
        },
        {
         "line": {
          "color": "rgb(58, 82, 139)",
          "width": 2
         },
         "mode": "lines+markers",
         "name": "Action 0",
         "showlegend": false,
         "type": "scatter",
         "x": [
          1,
          2
         ],
         "y": [
          99,
          99
         ]
        },
        {
         "line": {
          "color": "rgb(58, 82, 139)",
          "width": 2
         },
         "mode": "lines+markers",
         "name": "Action 0",
         "showlegend": false,
         "type": "scatter",
         "x": [
          1,
          2
         ],
         "y": [
          100,
          100
         ]
        },
        {
         "line": {
          "color": "rgb(58, 82, 139)",
          "width": 2
         },
         "mode": "lines+markers",
         "name": "Action 0",
         "showlegend": false,
         "type": "scatter",
         "x": [
          2,
          3
         ],
         "y": [
          0,
          0
         ]
        },
        {
         "line": {
          "color": "rgb(58, 82, 139)",
          "width": 2
         },
         "mode": "lines+markers",
         "name": "Action 0",
         "showlegend": false,
         "type": "scatter",
         "x": [
          2,
          3
         ],
         "y": [
          2,
          2
         ]
        },
        {
         "line": {
          "color": "rgb(58, 82, 139)",
          "width": 2
         },
         "mode": "lines+markers",
         "name": "Action 0",
         "showlegend": false,
         "type": "scatter",
         "x": [
          2,
          3
         ],
         "y": [
          9,
          9
         ]
        },
        {
         "line": {
          "color": "rgb(58, 82, 139)",
          "width": 2
         },
         "mode": "lines+markers",
         "name": "Action 0",
         "showlegend": false,
         "type": "scatter",
         "x": [
          2,
          3
         ],
         "y": [
          10,
          10
         ]
        },
        {
         "line": {
          "color": "rgb(58, 82, 139)",
          "width": 2
         },
         "mode": "lines+markers",
         "name": "Action 0",
         "showlegend": false,
         "type": "scatter",
         "x": [
          2,
          3
         ],
         "y": [
          17,
          17
         ]
        },
        {
         "line": {
          "color": "rgb(58, 82, 139)",
          "width": 2
         },
         "mode": "lines+markers",
         "name": "Action 0",
         "showlegend": false,
         "type": "scatter",
         "x": [
          2,
          3
         ],
         "y": [
          26,
          26
         ]
        },
        {
         "line": {
          "color": "rgb(58, 82, 139)",
          "width": 2
         },
         "mode": "lines+markers",
         "name": "Action 0",
         "showlegend": false,
         "type": "scatter",
         "x": [
          2,
          3
         ],
         "y": [
          37,
          37
         ]
        },
        {
         "line": {
          "color": "rgb(58, 82, 139)",
          "width": 2
         },
         "mode": "lines+markers",
         "name": "Action 0",
         "showlegend": false,
         "type": "scatter",
         "x": [
          2,
          3
         ],
         "y": [
          42,
          42
         ]
        },
        {
         "line": {
          "color": "rgb(58, 82, 139)",
          "width": 2
         },
         "mode": "lines+markers",
         "name": "Action 0",
         "showlegend": false,
         "type": "scatter",
         "x": [
          2,
          3
         ],
         "y": [
          46,
          46
         ]
        },
        {
         "line": {
          "color": "rgb(58, 82, 139)",
          "width": 2
         },
         "mode": "lines+markers",
         "name": "Action 0",
         "showlegend": false,
         "type": "scatter",
         "x": [
          2,
          3
         ],
         "y": [
          50,
          50
         ]
        },
        {
         "line": {
          "color": "rgb(58, 82, 139)",
          "width": 2
         },
         "mode": "lines+markers",
         "name": "Action 0",
         "showlegend": false,
         "type": "scatter",
         "x": [
          2,
          3
         ],
         "y": [
          51,
          51
         ]
        },
        {
         "line": {
          "color": "rgb(58, 82, 139)",
          "width": 2
         },
         "mode": "lines+markers",
         "name": "Action 0",
         "showlegend": false,
         "type": "scatter",
         "x": [
          2,
          3
         ],
         "y": [
          55,
          55
         ]
        },
        {
         "line": {
          "color": "rgb(58, 82, 139)",
          "width": 2
         },
         "mode": "lines+markers",
         "name": "Action 0",
         "showlegend": false,
         "type": "scatter",
         "x": [
          2,
          3
         ],
         "y": [
          57,
          57
         ]
        },
        {
         "line": {
          "color": "rgb(58, 82, 139)",
          "width": 2
         },
         "mode": "lines+markers",
         "name": "Action 0",
         "showlegend": false,
         "type": "scatter",
         "x": [
          2,
          3
         ],
         "y": [
          61,
          61
         ]
        },
        {
         "line": {
          "color": "rgb(58, 82, 139)",
          "width": 2
         },
         "mode": "lines+markers",
         "name": "Action 0",
         "showlegend": false,
         "type": "scatter",
         "x": [
          2,
          3
         ],
         "y": [
          62,
          62
         ]
        },
        {
         "line": {
          "color": "rgb(58, 82, 139)",
          "width": 2
         },
         "mode": "lines+markers",
         "name": "Action 0",
         "showlegend": false,
         "type": "scatter",
         "x": [
          2,
          3
         ],
         "y": [
          65,
          65
         ]
        },
        {
         "line": {
          "color": "rgb(58, 82, 139)",
          "width": 2
         },
         "mode": "lines+markers",
         "name": "Action 0",
         "showlegend": false,
         "type": "scatter",
         "x": [
          2,
          3
         ],
         "y": [
          66,
          66
         ]
        },
        {
         "line": {
          "color": "rgb(58, 82, 139)",
          "width": 2
         },
         "mode": "lines+markers",
         "name": "Action 0",
         "showlegend": false,
         "type": "scatter",
         "x": [
          2,
          3
         ],
         "y": [
          67,
          67
         ]
        },
        {
         "line": {
          "color": "rgb(58, 82, 139)",
          "width": 2
         },
         "mode": "lines+markers",
         "name": "Action 0",
         "showlegend": false,
         "type": "scatter",
         "x": [
          2,
          3
         ],
         "y": [
          68,
          68
         ]
        },
        {
         "line": {
          "color": "rgb(58, 82, 139)",
          "width": 2
         },
         "mode": "lines+markers",
         "name": "Action 0",
         "showlegend": false,
         "type": "scatter",
         "x": [
          2,
          3
         ],
         "y": [
          69,
          69
         ]
        },
        {
         "line": {
          "color": "rgb(58, 82, 139)",
          "width": 2
         },
         "mode": "lines+markers",
         "name": "Action 0",
         "showlegend": false,
         "type": "scatter",
         "x": [
          2,
          3
         ],
         "y": [
          71,
          71
         ]
        },
        {
         "line": {
          "color": "rgb(58, 82, 139)",
          "width": 2
         },
         "mode": "lines+markers",
         "name": "Action 0",
         "showlegend": false,
         "type": "scatter",
         "x": [
          2,
          3
         ],
         "y": [
          72,
          72
         ]
        },
        {
         "line": {
          "color": "rgb(58, 82, 139)",
          "width": 2
         },
         "mode": "lines+markers",
         "name": "Action 0",
         "showlegend": false,
         "type": "scatter",
         "x": [
          2,
          3
         ],
         "y": [
          73,
          73
         ]
        },
        {
         "line": {
          "color": "rgb(58, 82, 139)",
          "width": 2
         },
         "mode": "lines+markers",
         "name": "Action 0",
         "showlegend": false,
         "type": "scatter",
         "x": [
          2,
          3
         ],
         "y": [
          75,
          75
         ]
        },
        {
         "line": {
          "color": "rgb(58, 82, 139)",
          "width": 2
         },
         "mode": "lines+markers",
         "name": "Action 0",
         "showlegend": false,
         "type": "scatter",
         "x": [
          2,
          3
         ],
         "y": [
          77,
          77
         ]
        },
        {
         "line": {
          "color": "rgb(58, 82, 139)",
          "width": 2
         },
         "mode": "lines+markers",
         "name": "Action 0",
         "showlegend": false,
         "type": "scatter",
         "x": [
          2,
          3
         ],
         "y": [
          80,
          80
         ]
        },
        {
         "line": {
          "color": "rgb(58, 82, 139)",
          "width": 2
         },
         "mode": "lines+markers",
         "name": "Action 0",
         "showlegend": false,
         "type": "scatter",
         "x": [
          2,
          3
         ],
         "y": [
          82,
          82
         ]
        },
        {
         "line": {
          "color": "rgb(58, 82, 139)",
          "width": 2
         },
         "mode": "lines+markers",
         "name": "Action 0",
         "showlegend": false,
         "type": "scatter",
         "x": [
          2,
          3
         ],
         "y": [
          84,
          84
         ]
        },
        {
         "line": {
          "color": "rgb(58, 82, 139)",
          "width": 2
         },
         "mode": "lines+markers",
         "name": "Action 0",
         "showlegend": false,
         "type": "scatter",
         "x": [
          2,
          3
         ],
         "y": [
          86,
          86
         ]
        },
        {
         "line": {
          "color": "rgb(58, 82, 139)",
          "width": 2
         },
         "mode": "lines+markers",
         "name": "Action 0",
         "showlegend": false,
         "type": "scatter",
         "x": [
          2,
          3
         ],
         "y": [
          87,
          87
         ]
        },
        {
         "line": {
          "color": "rgb(58, 82, 139)",
          "width": 2
         },
         "mode": "lines+markers",
         "name": "Action 0",
         "showlegend": false,
         "type": "scatter",
         "x": [
          2,
          3
         ],
         "y": [
          88,
          88
         ]
        },
        {
         "line": {
          "color": "rgb(58, 82, 139)",
          "width": 2
         },
         "mode": "lines+markers",
         "name": "Action 0",
         "showlegend": false,
         "type": "scatter",
         "x": [
          2,
          3
         ],
         "y": [
          90,
          90
         ]
        },
        {
         "line": {
          "color": "rgb(58, 82, 139)",
          "width": 2
         },
         "mode": "lines+markers",
         "name": "Action 0",
         "showlegend": false,
         "type": "scatter",
         "x": [
          2,
          3
         ],
         "y": [
          92,
          92
         ]
        },
        {
         "line": {
          "color": "rgb(58, 82, 139)",
          "width": 2
         },
         "mode": "lines+markers",
         "name": "Action 0",
         "showlegend": false,
         "type": "scatter",
         "x": [
          2,
          3
         ],
         "y": [
          94,
          94
         ]
        },
        {
         "line": {
          "color": "rgb(58, 82, 139)",
          "width": 2
         },
         "mode": "lines+markers",
         "name": "Action 0",
         "showlegend": false,
         "type": "scatter",
         "x": [
          2,
          3
         ],
         "y": [
          95,
          95
         ]
        },
        {
         "line": {
          "color": "rgb(58, 82, 139)",
          "width": 2
         },
         "mode": "lines+markers",
         "name": "Action 0",
         "showlegend": false,
         "type": "scatter",
         "x": [
          2,
          3
         ],
         "y": [
          96,
          96
         ]
        },
        {
         "line": {
          "color": "rgb(58, 82, 139)",
          "width": 2
         },
         "mode": "lines+markers",
         "name": "Action 0",
         "showlegend": false,
         "type": "scatter",
         "x": [
          2,
          3
         ],
         "y": [
          97,
          97
         ]
        },
        {
         "line": {
          "color": "rgb(58, 82, 139)",
          "width": 2
         },
         "mode": "lines+markers",
         "name": "Action 0",
         "showlegend": false,
         "type": "scatter",
         "x": [
          2,
          3
         ],
         "y": [
          98,
          98
         ]
        },
        {
         "line": {
          "color": "rgb(58, 82, 139)",
          "width": 2
         },
         "mode": "lines+markers",
         "name": "Action 0",
         "showlegend": false,
         "type": "scatter",
         "x": [
          2,
          3
         ],
         "y": [
          99,
          99
         ]
        },
        {
         "line": {
          "color": "rgb(58, 82, 139)",
          "width": 2
         },
         "mode": "lines+markers",
         "name": "Action 0",
         "showlegend": false,
         "type": "scatter",
         "x": [
          2,
          3
         ],
         "y": [
          100,
          100
         ]
        },
        {
         "line": {
          "color": "rgb(58, 82, 139)",
          "width": 2
         },
         "mode": "lines+markers",
         "name": "Action 0",
         "showlegend": false,
         "type": "scatter",
         "x": [
          3,
          4
         ],
         "y": [
          0,
          0
         ]
        },
        {
         "line": {
          "color": "rgb(58, 82, 139)",
          "width": 2
         },
         "mode": "lines+markers",
         "name": "Action 0",
         "showlegend": false,
         "type": "scatter",
         "x": [
          3,
          4
         ],
         "y": [
          20,
          20
         ]
        },
        {
         "line": {
          "color": "rgb(58, 82, 139)",
          "width": 2
         },
         "mode": "lines+markers",
         "name": "Action 0",
         "showlegend": false,
         "type": "scatter",
         "x": [
          3,
          4
         ],
         "y": [
          26,
          26
         ]
        },
        {
         "line": {
          "color": "rgb(58, 82, 139)",
          "width": 2
         },
         "mode": "lines+markers",
         "name": "Action 0",
         "showlegend": false,
         "type": "scatter",
         "x": [
          3,
          4
         ],
         "y": [
          28,
          28
         ]
        },
        {
         "line": {
          "color": "rgb(58, 82, 139)",
          "width": 2
         },
         "mode": "lines+markers",
         "name": "Action 0",
         "showlegend": false,
         "type": "scatter",
         "x": [
          3,
          4
         ],
         "y": [
          29,
          29
         ]
        },
        {
         "line": {
          "color": "rgb(58, 82, 139)",
          "width": 2
         },
         "mode": "lines+markers",
         "name": "Action 0",
         "showlegend": false,
         "type": "scatter",
         "x": [
          3,
          4
         ],
         "y": [
          31,
          31
         ]
        },
        {
         "line": {
          "color": "rgb(58, 82, 139)",
          "width": 2
         },
         "mode": "lines+markers",
         "name": "Action 0",
         "showlegend": false,
         "type": "scatter",
         "x": [
          3,
          4
         ],
         "y": [
          37,
          37
         ]
        },
        {
         "line": {
          "color": "rgb(58, 82, 139)",
          "width": 2
         },
         "mode": "lines+markers",
         "name": "Action 0",
         "showlegend": false,
         "type": "scatter",
         "x": [
          3,
          4
         ],
         "y": [
          42,
          42
         ]
        },
        {
         "line": {
          "color": "rgb(58, 82, 139)",
          "width": 2
         },
         "mode": "lines+markers",
         "name": "Action 0",
         "showlegend": false,
         "type": "scatter",
         "x": [
          3,
          4
         ],
         "y": [
          46,
          46
         ]
        },
        {
         "line": {
          "color": "rgb(58, 82, 139)",
          "width": 2
         },
         "mode": "lines+markers",
         "name": "Action 0",
         "showlegend": false,
         "type": "scatter",
         "x": [
          3,
          4
         ],
         "y": [
          48,
          48
         ]
        },
        {
         "line": {
          "color": "rgb(58, 82, 139)",
          "width": 2
         },
         "mode": "lines+markers",
         "name": "Action 0",
         "showlegend": false,
         "type": "scatter",
         "x": [
          3,
          4
         ],
         "y": [
          55,
          55
         ]
        },
        {
         "line": {
          "color": "rgb(58, 82, 139)",
          "width": 2
         },
         "mode": "lines+markers",
         "name": "Action 0",
         "showlegend": false,
         "type": "scatter",
         "x": [
          3,
          4
         ],
         "y": [
          56,
          56
         ]
        },
        {
         "line": {
          "color": "rgb(58, 82, 139)",
          "width": 2
         },
         "mode": "lines+markers",
         "name": "Action 0",
         "showlegend": false,
         "type": "scatter",
         "x": [
          3,
          4
         ],
         "y": [
          57,
          57
         ]
        },
        {
         "line": {
          "color": "rgb(58, 82, 139)",
          "width": 2
         },
         "mode": "lines+markers",
         "name": "Action 0",
         "showlegend": false,
         "type": "scatter",
         "x": [
          3,
          4
         ],
         "y": [
          61,
          61
         ]
        },
        {
         "line": {
          "color": "rgb(58, 82, 139)",
          "width": 2
         },
         "mode": "lines+markers",
         "name": "Action 0",
         "showlegend": false,
         "type": "scatter",
         "x": [
          3,
          4
         ],
         "y": [
          62,
          62
         ]
        },
        {
         "line": {
          "color": "rgb(58, 82, 139)",
          "width": 2
         },
         "mode": "lines+markers",
         "name": "Action 0",
         "showlegend": false,
         "type": "scatter",
         "x": [
          3,
          4
         ],
         "y": [
          65,
          65
         ]
        },
        {
         "line": {
          "color": "rgb(58, 82, 139)",
          "width": 2
         },
         "mode": "lines+markers",
         "name": "Action 0",
         "showlegend": false,
         "type": "scatter",
         "x": [
          3,
          4
         ],
         "y": [
          66,
          66
         ]
        },
        {
         "line": {
          "color": "rgb(58, 82, 139)",
          "width": 2
         },
         "mode": "lines+markers",
         "name": "Action 0",
         "showlegend": false,
         "type": "scatter",
         "x": [
          3,
          4
         ],
         "y": [
          68,
          68
         ]
        },
        {
         "line": {
          "color": "rgb(58, 82, 139)",
          "width": 2
         },
         "mode": "lines+markers",
         "name": "Action 0",
         "showlegend": false,
         "type": "scatter",
         "x": [
          3,
          4
         ],
         "y": [
          69,
          69
         ]
        },
        {
         "line": {
          "color": "rgb(58, 82, 139)",
          "width": 2
         },
         "mode": "lines+markers",
         "name": "Action 0",
         "showlegend": false,
         "type": "scatter",
         "x": [
          3,
          4
         ],
         "y": [
          71,
          71
         ]
        },
        {
         "line": {
          "color": "rgb(58, 82, 139)",
          "width": 2
         },
         "mode": "lines+markers",
         "name": "Action 0",
         "showlegend": false,
         "type": "scatter",
         "x": [
          3,
          4
         ],
         "y": [
          73,
          73
         ]
        },
        {
         "line": {
          "color": "rgb(58, 82, 139)",
          "width": 2
         },
         "mode": "lines+markers",
         "name": "Action 0",
         "showlegend": false,
         "type": "scatter",
         "x": [
          3,
          4
         ],
         "y": [
          79,
          79
         ]
        },
        {
         "line": {
          "color": "rgb(58, 82, 139)",
          "width": 2
         },
         "mode": "lines+markers",
         "name": "Action 0",
         "showlegend": false,
         "type": "scatter",
         "x": [
          3,
          4
         ],
         "y": [
          80,
          80
         ]
        },
        {
         "line": {
          "color": "rgb(58, 82, 139)",
          "width": 2
         },
         "mode": "lines+markers",
         "name": "Action 0",
         "showlegend": false,
         "type": "scatter",
         "x": [
          3,
          4
         ],
         "y": [
          82,
          82
         ]
        },
        {
         "line": {
          "color": "rgb(58, 82, 139)",
          "width": 2
         },
         "mode": "lines+markers",
         "name": "Action 0",
         "showlegend": false,
         "type": "scatter",
         "x": [
          3,
          4
         ],
         "y": [
          83,
          83
         ]
        },
        {
         "line": {
          "color": "rgb(58, 82, 139)",
          "width": 2
         },
         "mode": "lines+markers",
         "name": "Action 0",
         "showlegend": false,
         "type": "scatter",
         "x": [
          3,
          4
         ],
         "y": [
          86,
          86
         ]
        },
        {
         "line": {
          "color": "rgb(58, 82, 139)",
          "width": 2
         },
         "mode": "lines+markers",
         "name": "Action 0",
         "showlegend": false,
         "type": "scatter",
         "x": [
          3,
          4
         ],
         "y": [
          90,
          90
         ]
        },
        {
         "line": {
          "color": "rgb(58, 82, 139)",
          "width": 2
         },
         "mode": "lines+markers",
         "name": "Action 0",
         "showlegend": false,
         "type": "scatter",
         "x": [
          3,
          4
         ],
         "y": [
          91,
          91
         ]
        },
        {
         "line": {
          "color": "rgb(58, 82, 139)",
          "width": 2
         },
         "mode": "lines+markers",
         "name": "Action 0",
         "showlegend": false,
         "type": "scatter",
         "x": [
          3,
          4
         ],
         "y": [
          92,
          92
         ]
        },
        {
         "line": {
          "color": "rgb(58, 82, 139)",
          "width": 2
         },
         "mode": "lines+markers",
         "name": "Action 0",
         "showlegend": false,
         "type": "scatter",
         "x": [
          3,
          4
         ],
         "y": [
          94,
          94
         ]
        },
        {
         "line": {
          "color": "rgb(58, 82, 139)",
          "width": 2
         },
         "mode": "lines+markers",
         "name": "Action 0",
         "showlegend": false,
         "type": "scatter",
         "x": [
          3,
          4
         ],
         "y": [
          95,
          95
         ]
        },
        {
         "line": {
          "color": "rgb(58, 82, 139)",
          "width": 2
         },
         "mode": "lines+markers",
         "name": "Action 0",
         "showlegend": false,
         "type": "scatter",
         "x": [
          3,
          4
         ],
         "y": [
          96,
          96
         ]
        },
        {
         "line": {
          "color": "rgb(58, 82, 139)",
          "width": 2
         },
         "mode": "lines+markers",
         "name": "Action 0",
         "showlegend": false,
         "type": "scatter",
         "x": [
          3,
          4
         ],
         "y": [
          97,
          97
         ]
        },
        {
         "line": {
          "color": "rgb(58, 82, 139)",
          "width": 2
         },
         "mode": "lines+markers",
         "name": "Action 0",
         "showlegend": false,
         "type": "scatter",
         "x": [
          3,
          4
         ],
         "y": [
          98,
          98
         ]
        },
        {
         "line": {
          "color": "rgb(58, 82, 139)",
          "width": 2
         },
         "mode": "lines+markers",
         "name": "Action 0",
         "showlegend": false,
         "type": "scatter",
         "x": [
          3,
          4
         ],
         "y": [
          99,
          99
         ]
        },
        {
         "line": {
          "color": "rgb(58, 82, 139)",
          "width": 2
         },
         "mode": "lines+markers",
         "name": "Action 0",
         "showlegend": false,
         "type": "scatter",
         "x": [
          3,
          4
         ],
         "y": [
          100,
          100
         ]
        },
        {
         "line": {
          "color": "rgb(58, 82, 139)",
          "width": 2
         },
         "mode": "lines+markers",
         "name": "Action 0",
         "showlegend": false,
         "type": "scatter",
         "x": [
          4,
          5
         ],
         "y": [
          23,
          23
         ]
        },
        {
         "line": {
          "color": "rgb(58, 82, 139)",
          "width": 2
         },
         "mode": "lines+markers",
         "name": "Action 0",
         "showlegend": false,
         "type": "scatter",
         "x": [
          4,
          5
         ],
         "y": [
          24,
          24
         ]
        },
        {
         "line": {
          "color": "rgb(58, 82, 139)",
          "width": 2
         },
         "mode": "lines+markers",
         "name": "Action 0",
         "showlegend": false,
         "type": "scatter",
         "x": [
          4,
          5
         ],
         "y": [
          38,
          38
         ]
        },
        {
         "line": {
          "color": "rgb(58, 82, 139)",
          "width": 2
         },
         "mode": "lines+markers",
         "name": "Action 0",
         "showlegend": false,
         "type": "scatter",
         "x": [
          4,
          5
         ],
         "y": [
          44,
          44
         ]
        },
        {
         "line": {
          "color": "rgb(58, 82, 139)",
          "width": 2
         },
         "mode": "lines+markers",
         "name": "Action 0",
         "showlegend": false,
         "type": "scatter",
         "x": [
          4,
          5
         ],
         "y": [
          45,
          45
         ]
        },
        {
         "line": {
          "color": "rgb(58, 82, 139)",
          "width": 2
         },
         "mode": "lines+markers",
         "name": "Action 0",
         "showlegend": false,
         "type": "scatter",
         "x": [
          4,
          5
         ],
         "y": [
          47,
          47
         ]
        },
        {
         "line": {
          "color": "rgb(58, 82, 139)",
          "width": 2
         },
         "mode": "lines+markers",
         "name": "Action 0",
         "showlegend": false,
         "type": "scatter",
         "x": [
          4,
          5
         ],
         "y": [
          53,
          53
         ]
        },
        {
         "line": {
          "color": "rgb(58, 82, 139)",
          "width": 2
         },
         "mode": "lines+markers",
         "name": "Action 0",
         "showlegend": false,
         "type": "scatter",
         "x": [
          4,
          5
         ],
         "y": [
          54,
          54
         ]
        },
        {
         "line": {
          "color": "rgb(58, 82, 139)",
          "width": 2
         },
         "mode": "lines+markers",
         "name": "Action 0",
         "showlegend": false,
         "type": "scatter",
         "x": [
          4,
          5
         ],
         "y": [
          56,
          56
         ]
        },
        {
         "line": {
          "color": "rgb(58, 82, 139)",
          "width": 2
         },
         "mode": "lines+markers",
         "name": "Action 0",
         "showlegend": false,
         "type": "scatter",
         "x": [
          4,
          5
         ],
         "y": [
          57,
          57
         ]
        },
        {
         "line": {
          "color": "rgb(58, 82, 139)",
          "width": 2
         },
         "mode": "lines+markers",
         "name": "Action 0",
         "showlegend": false,
         "type": "scatter",
         "x": [
          4,
          5
         ],
         "y": [
          59,
          59
         ]
        },
        {
         "line": {
          "color": "rgb(58, 82, 139)",
          "width": 2
         },
         "mode": "lines+markers",
         "name": "Action 0",
         "showlegend": false,
         "type": "scatter",
         "x": [
          4,
          5
         ],
         "y": [
          61,
          61
         ]
        },
        {
         "line": {
          "color": "rgb(58, 82, 139)",
          "width": 2
         },
         "mode": "lines+markers",
         "name": "Action 0",
         "showlegend": false,
         "type": "scatter",
         "x": [
          4,
          5
         ],
         "y": [
          62,
          62
         ]
        },
        {
         "line": {
          "color": "rgb(58, 82, 139)",
          "width": 2
         },
         "mode": "lines+markers",
         "name": "Action 0",
         "showlegend": false,
         "type": "scatter",
         "x": [
          4,
          5
         ],
         "y": [
          65,
          65
         ]
        },
        {
         "line": {
          "color": "rgb(58, 82, 139)",
          "width": 2
         },
         "mode": "lines+markers",
         "name": "Action 0",
         "showlegend": false,
         "type": "scatter",
         "x": [
          4,
          5
         ],
         "y": [
          66,
          66
         ]
        },
        {
         "line": {
          "color": "rgb(58, 82, 139)",
          "width": 2
         },
         "mode": "lines+markers",
         "name": "Action 0",
         "showlegend": false,
         "type": "scatter",
         "x": [
          4,
          5
         ],
         "y": [
          67,
          67
         ]
        },
        {
         "line": {
          "color": "rgb(58, 82, 139)",
          "width": 2
         },
         "mode": "lines+markers",
         "name": "Action 0",
         "showlegend": false,
         "type": "scatter",
         "x": [
          4,
          5
         ],
         "y": [
          69,
          69
         ]
        },
        {
         "line": {
          "color": "rgb(58, 82, 139)",
          "width": 2
         },
         "mode": "lines+markers",
         "name": "Action 0",
         "showlegend": false,
         "type": "scatter",
         "x": [
          4,
          5
         ],
         "y": [
          70,
          70
         ]
        },
        {
         "line": {
          "color": "rgb(58, 82, 139)",
          "width": 2
         },
         "mode": "lines+markers",
         "name": "Action 0",
         "showlegend": false,
         "type": "scatter",
         "x": [
          4,
          5
         ],
         "y": [
          71,
          71
         ]
        },
        {
         "line": {
          "color": "rgb(58, 82, 139)",
          "width": 2
         },
         "mode": "lines+markers",
         "name": "Action 0",
         "showlegend": false,
         "type": "scatter",
         "x": [
          4,
          5
         ],
         "y": [
          73,
          73
         ]
        },
        {
         "line": {
          "color": "rgb(58, 82, 139)",
          "width": 2
         },
         "mode": "lines+markers",
         "name": "Action 0",
         "showlegend": false,
         "type": "scatter",
         "x": [
          4,
          5
         ],
         "y": [
          74,
          74
         ]
        },
        {
         "line": {
          "color": "rgb(58, 82, 139)",
          "width": 2
         },
         "mode": "lines+markers",
         "name": "Action 0",
         "showlegend": false,
         "type": "scatter",
         "x": [
          4,
          5
         ],
         "y": [
          75,
          75
         ]
        },
        {
         "line": {
          "color": "rgb(58, 82, 139)",
          "width": 2
         },
         "mode": "lines+markers",
         "name": "Action 0",
         "showlegend": false,
         "type": "scatter",
         "x": [
          4,
          5
         ],
         "y": [
          76,
          76
         ]
        },
        {
         "line": {
          "color": "rgb(58, 82, 139)",
          "width": 2
         },
         "mode": "lines+markers",
         "name": "Action 0",
         "showlegend": false,
         "type": "scatter",
         "x": [
          4,
          5
         ],
         "y": [
          77,
          77
         ]
        },
        {
         "line": {
          "color": "rgb(58, 82, 139)",
          "width": 2
         },
         "mode": "lines+markers",
         "name": "Action 0",
         "showlegend": false,
         "type": "scatter",
         "x": [
          4,
          5
         ],
         "y": [
          79,
          79
         ]
        },
        {
         "line": {
          "color": "rgb(58, 82, 139)",
          "width": 2
         },
         "mode": "lines+markers",
         "name": "Action 0",
         "showlegend": false,
         "type": "scatter",
         "x": [
          4,
          5
         ],
         "y": [
          80,
          80
         ]
        },
        {
         "line": {
          "color": "rgb(58, 82, 139)",
          "width": 2
         },
         "mode": "lines+markers",
         "name": "Action 0",
         "showlegend": false,
         "type": "scatter",
         "x": [
          4,
          5
         ],
         "y": [
          82,
          82
         ]
        },
        {
         "line": {
          "color": "rgb(58, 82, 139)",
          "width": 2
         },
         "mode": "lines+markers",
         "name": "Action 0",
         "showlegend": false,
         "type": "scatter",
         "x": [
          4,
          5
         ],
         "y": [
          83,
          83
         ]
        },
        {
         "line": {
          "color": "rgb(58, 82, 139)",
          "width": 2
         },
         "mode": "lines+markers",
         "name": "Action 0",
         "showlegend": false,
         "type": "scatter",
         "x": [
          4,
          5
         ],
         "y": [
          84,
          84
         ]
        },
        {
         "line": {
          "color": "rgb(58, 82, 139)",
          "width": 2
         },
         "mode": "lines+markers",
         "name": "Action 0",
         "showlegend": false,
         "type": "scatter",
         "x": [
          4,
          5
         ],
         "y": [
          85,
          85
         ]
        },
        {
         "line": {
          "color": "rgb(58, 82, 139)",
          "width": 2
         },
         "mode": "lines+markers",
         "name": "Action 0",
         "showlegend": false,
         "type": "scatter",
         "x": [
          4,
          5
         ],
         "y": [
          86,
          86
         ]
        },
        {
         "line": {
          "color": "rgb(58, 82, 139)",
          "width": 2
         },
         "mode": "lines+markers",
         "name": "Action 0",
         "showlegend": false,
         "type": "scatter",
         "x": [
          4,
          5
         ],
         "y": [
          90,
          90
         ]
        },
        {
         "line": {
          "color": "rgb(58, 82, 139)",
          "width": 2
         },
         "mode": "lines+markers",
         "name": "Action 0",
         "showlegend": false,
         "type": "scatter",
         "x": [
          4,
          5
         ],
         "y": [
          92,
          92
         ]
        },
        {
         "line": {
          "color": "rgb(58, 82, 139)",
          "width": 2
         },
         "mode": "lines+markers",
         "name": "Action 0",
         "showlegend": false,
         "type": "scatter",
         "x": [
          4,
          5
         ],
         "y": [
          94,
          94
         ]
        },
        {
         "line": {
          "color": "rgb(58, 82, 139)",
          "width": 2
         },
         "mode": "lines+markers",
         "name": "Action 0",
         "showlegend": false,
         "type": "scatter",
         "x": [
          4,
          5
         ],
         "y": [
          95,
          95
         ]
        },
        {
         "line": {
          "color": "rgb(58, 82, 139)",
          "width": 2
         },
         "mode": "lines+markers",
         "name": "Action 0",
         "showlegend": false,
         "type": "scatter",
         "x": [
          4,
          5
         ],
         "y": [
          96,
          96
         ]
        },
        {
         "line": {
          "color": "rgb(58, 82, 139)",
          "width": 2
         },
         "mode": "lines+markers",
         "name": "Action 0",
         "showlegend": false,
         "type": "scatter",
         "x": [
          4,
          5
         ],
         "y": [
          97,
          97
         ]
        },
        {
         "line": {
          "color": "rgb(58, 82, 139)",
          "width": 2
         },
         "mode": "lines+markers",
         "name": "Action 0",
         "showlegend": false,
         "type": "scatter",
         "x": [
          4,
          5
         ],
         "y": [
          98,
          98
         ]
        },
        {
         "line": {
          "color": "rgb(58, 82, 139)",
          "width": 2
         },
         "mode": "lines+markers",
         "name": "Action 0",
         "showlegend": false,
         "type": "scatter",
         "x": [
          4,
          5
         ],
         "y": [
          99,
          99
         ]
        },
        {
         "line": {
          "color": "rgb(58, 82, 139)",
          "width": 2
         },
         "mode": "lines+markers",
         "name": "Action 0",
         "showlegend": false,
         "type": "scatter",
         "x": [
          4,
          5
         ],
         "y": [
          100,
          100
         ]
        },
        {
         "line": {
          "color": "rgb(58, 82, 139)",
          "width": 2
         },
         "mode": "lines+markers",
         "name": "Action 0",
         "showlegend": false,
         "type": "scatter",
         "x": [
          5,
          6
         ],
         "y": [
          8,
          8
         ]
        },
        {
         "line": {
          "color": "rgb(58, 82, 139)",
          "width": 2
         },
         "mode": "lines+markers",
         "name": "Action 0",
         "showlegend": false,
         "type": "scatter",
         "x": [
          5,
          6
         ],
         "y": [
          35,
          35
         ]
        },
        {
         "line": {
          "color": "rgb(58, 82, 139)",
          "width": 2
         },
         "mode": "lines+markers",
         "name": "Action 0",
         "showlegend": false,
         "type": "scatter",
         "x": [
          5,
          6
         ],
         "y": [
          44,
          44
         ]
        },
        {
         "line": {
          "color": "rgb(58, 82, 139)",
          "width": 2
         },
         "mode": "lines+markers",
         "name": "Action 0",
         "showlegend": false,
         "type": "scatter",
         "x": [
          5,
          6
         ],
         "y": [
          46,
          46
         ]
        },
        {
         "line": {
          "color": "rgb(58, 82, 139)",
          "width": 2
         },
         "mode": "lines+markers",
         "name": "Action 0",
         "showlegend": false,
         "type": "scatter",
         "x": [
          5,
          6
         ],
         "y": [
          48,
          48
         ]
        },
        {
         "line": {
          "color": "rgb(58, 82, 139)",
          "width": 2
         },
         "mode": "lines+markers",
         "name": "Action 0",
         "showlegend": false,
         "type": "scatter",
         "x": [
          5,
          6
         ],
         "y": [
          51,
          51
         ]
        },
        {
         "line": {
          "color": "rgb(58, 82, 139)",
          "width": 2
         },
         "mode": "lines+markers",
         "name": "Action 0",
         "showlegend": false,
         "type": "scatter",
         "x": [
          5,
          6
         ],
         "y": [
          53,
          53
         ]
        },
        {
         "line": {
          "color": "rgb(58, 82, 139)",
          "width": 2
         },
         "mode": "lines+markers",
         "name": "Action 0",
         "showlegend": false,
         "type": "scatter",
         "x": [
          5,
          6
         ],
         "y": [
          55,
          55
         ]
        },
        {
         "line": {
          "color": "rgb(58, 82, 139)",
          "width": 2
         },
         "mode": "lines+markers",
         "name": "Action 0",
         "showlegend": false,
         "type": "scatter",
         "x": [
          5,
          6
         ],
         "y": [
          56,
          56
         ]
        },
        {
         "line": {
          "color": "rgb(58, 82, 139)",
          "width": 2
         },
         "mode": "lines+markers",
         "name": "Action 0",
         "showlegend": false,
         "type": "scatter",
         "x": [
          5,
          6
         ],
         "y": [
          58,
          58
         ]
        },
        {
         "line": {
          "color": "rgb(58, 82, 139)",
          "width": 2
         },
         "mode": "lines+markers",
         "name": "Action 0",
         "showlegend": false,
         "type": "scatter",
         "x": [
          5,
          6
         ],
         "y": [
          61,
          61
         ]
        },
        {
         "line": {
          "color": "rgb(58, 82, 139)",
          "width": 2
         },
         "mode": "lines+markers",
         "name": "Action 0",
         "showlegend": false,
         "type": "scatter",
         "x": [
          5,
          6
         ],
         "y": [
          62,
          62
         ]
        },
        {
         "line": {
          "color": "rgb(58, 82, 139)",
          "width": 2
         },
         "mode": "lines+markers",
         "name": "Action 0",
         "showlegend": false,
         "type": "scatter",
         "x": [
          5,
          6
         ],
         "y": [
          64,
          64
         ]
        },
        {
         "line": {
          "color": "rgb(58, 82, 139)",
          "width": 2
         },
         "mode": "lines+markers",
         "name": "Action 0",
         "showlegend": false,
         "type": "scatter",
         "x": [
          5,
          6
         ],
         "y": [
          65,
          65
         ]
        },
        {
         "line": {
          "color": "rgb(58, 82, 139)",
          "width": 2
         },
         "mode": "lines+markers",
         "name": "Action 0",
         "showlegend": false,
         "type": "scatter",
         "x": [
          5,
          6
         ],
         "y": [
          66,
          66
         ]
        },
        {
         "line": {
          "color": "rgb(58, 82, 139)",
          "width": 2
         },
         "mode": "lines+markers",
         "name": "Action 0",
         "showlegend": false,
         "type": "scatter",
         "x": [
          5,
          6
         ],
         "y": [
          67,
          67
         ]
        },
        {
         "line": {
          "color": "rgb(58, 82, 139)",
          "width": 2
         },
         "mode": "lines+markers",
         "name": "Action 0",
         "showlegend": false,
         "type": "scatter",
         "x": [
          5,
          6
         ],
         "y": [
          69,
          69
         ]
        },
        {
         "line": {
          "color": "rgb(58, 82, 139)",
          "width": 2
         },
         "mode": "lines+markers",
         "name": "Action 0",
         "showlegend": false,
         "type": "scatter",
         "x": [
          5,
          6
         ],
         "y": [
          71,
          71
         ]
        },
        {
         "line": {
          "color": "rgb(58, 82, 139)",
          "width": 2
         },
         "mode": "lines+markers",
         "name": "Action 0",
         "showlegend": false,
         "type": "scatter",
         "x": [
          5,
          6
         ],
         "y": [
          73,
          73
         ]
        },
        {
         "line": {
          "color": "rgb(58, 82, 139)",
          "width": 2
         },
         "mode": "lines+markers",
         "name": "Action 0",
         "showlegend": false,
         "type": "scatter",
         "x": [
          5,
          6
         ],
         "y": [
          75,
          75
         ]
        },
        {
         "line": {
          "color": "rgb(58, 82, 139)",
          "width": 2
         },
         "mode": "lines+markers",
         "name": "Action 0",
         "showlegend": false,
         "type": "scatter",
         "x": [
          5,
          6
         ],
         "y": [
          76,
          76
         ]
        },
        {
         "line": {
          "color": "rgb(58, 82, 139)",
          "width": 2
         },
         "mode": "lines+markers",
         "name": "Action 0",
         "showlegend": false,
         "type": "scatter",
         "x": [
          5,
          6
         ],
         "y": [
          79,
          79
         ]
        },
        {
         "line": {
          "color": "rgb(58, 82, 139)",
          "width": 2
         },
         "mode": "lines+markers",
         "name": "Action 0",
         "showlegend": false,
         "type": "scatter",
         "x": [
          5,
          6
         ],
         "y": [
          80,
          80
         ]
        },
        {
         "line": {
          "color": "rgb(58, 82, 139)",
          "width": 2
         },
         "mode": "lines+markers",
         "name": "Action 0",
         "showlegend": false,
         "type": "scatter",
         "x": [
          5,
          6
         ],
         "y": [
          82,
          82
         ]
        },
        {
         "line": {
          "color": "rgb(58, 82, 139)",
          "width": 2
         },
         "mode": "lines+markers",
         "name": "Action 0",
         "showlegend": false,
         "type": "scatter",
         "x": [
          5,
          6
         ],
         "y": [
          83,
          83
         ]
        },
        {
         "line": {
          "color": "rgb(58, 82, 139)",
          "width": 2
         },
         "mode": "lines+markers",
         "name": "Action 0",
         "showlegend": false,
         "type": "scatter",
         "x": [
          5,
          6
         ],
         "y": [
          84,
          84
         ]
        },
        {
         "line": {
          "color": "rgb(58, 82, 139)",
          "width": 2
         },
         "mode": "lines+markers",
         "name": "Action 0",
         "showlegend": false,
         "type": "scatter",
         "x": [
          5,
          6
         ],
         "y": [
          85,
          85
         ]
        },
        {
         "line": {
          "color": "rgb(58, 82, 139)",
          "width": 2
         },
         "mode": "lines+markers",
         "name": "Action 0",
         "showlegend": false,
         "type": "scatter",
         "x": [
          5,
          6
         ],
         "y": [
          86,
          86
         ]
        },
        {
         "line": {
          "color": "rgb(58, 82, 139)",
          "width": 2
         },
         "mode": "lines+markers",
         "name": "Action 0",
         "showlegend": false,
         "type": "scatter",
         "x": [
          5,
          6
         ],
         "y": [
          89,
          89
         ]
        },
        {
         "line": {
          "color": "rgb(58, 82, 139)",
          "width": 2
         },
         "mode": "lines+markers",
         "name": "Action 0",
         "showlegend": false,
         "type": "scatter",
         "x": [
          5,
          6
         ],
         "y": [
          90,
          90
         ]
        },
        {
         "line": {
          "color": "rgb(58, 82, 139)",
          "width": 2
         },
         "mode": "lines+markers",
         "name": "Action 0",
         "showlegend": false,
         "type": "scatter",
         "x": [
          5,
          6
         ],
         "y": [
          92,
          92
         ]
        },
        {
         "line": {
          "color": "rgb(58, 82, 139)",
          "width": 2
         },
         "mode": "lines+markers",
         "name": "Action 0",
         "showlegend": false,
         "type": "scatter",
         "x": [
          5,
          6
         ],
         "y": [
          94,
          94
         ]
        },
        {
         "line": {
          "color": "rgb(58, 82, 139)",
          "width": 2
         },
         "mode": "lines+markers",
         "name": "Action 0",
         "showlegend": false,
         "type": "scatter",
         "x": [
          5,
          6
         ],
         "y": [
          95,
          95
         ]
        },
        {
         "line": {
          "color": "rgb(58, 82, 139)",
          "width": 2
         },
         "mode": "lines+markers",
         "name": "Action 0",
         "showlegend": false,
         "type": "scatter",
         "x": [
          5,
          6
         ],
         "y": [
          96,
          96
         ]
        },
        {
         "line": {
          "color": "rgb(58, 82, 139)",
          "width": 2
         },
         "mode": "lines+markers",
         "name": "Action 0",
         "showlegend": false,
         "type": "scatter",
         "x": [
          5,
          6
         ],
         "y": [
          97,
          97
         ]
        },
        {
         "line": {
          "color": "rgb(58, 82, 139)",
          "width": 2
         },
         "mode": "lines+markers",
         "name": "Action 0",
         "showlegend": false,
         "type": "scatter",
         "x": [
          5,
          6
         ],
         "y": [
          98,
          98
         ]
        },
        {
         "line": {
          "color": "rgb(58, 82, 139)",
          "width": 2
         },
         "mode": "lines+markers",
         "name": "Action 0",
         "showlegend": false,
         "type": "scatter",
         "x": [
          5,
          6
         ],
         "y": [
          99,
          99
         ]
        },
        {
         "line": {
          "color": "rgb(58, 82, 139)",
          "width": 2
         },
         "mode": "lines+markers",
         "name": "Action 0",
         "showlegend": false,
         "type": "scatter",
         "x": [
          5,
          6
         ],
         "y": [
          100,
          100
         ]
        },
        {
         "line": {
          "color": "rgb(58, 82, 139)",
          "width": 2
         },
         "mode": "lines+markers",
         "name": "Action 0",
         "showlegend": false,
         "type": "scatter",
         "x": [
          6,
          7
         ],
         "y": [
          2,
          2
         ]
        },
        {
         "line": {
          "color": "rgb(58, 82, 139)",
          "width": 2
         },
         "mode": "lines+markers",
         "name": "Action 0",
         "showlegend": false,
         "type": "scatter",
         "x": [
          6,
          7
         ],
         "y": [
          45,
          45
         ]
        },
        {
         "line": {
          "color": "rgb(58, 82, 139)",
          "width": 2
         },
         "mode": "lines+markers",
         "name": "Action 0",
         "showlegend": false,
         "type": "scatter",
         "x": [
          6,
          7
         ],
         "y": [
          48,
          48
         ]
        },
        {
         "line": {
          "color": "rgb(58, 82, 139)",
          "width": 2
         },
         "mode": "lines+markers",
         "name": "Action 0",
         "showlegend": false,
         "type": "scatter",
         "x": [
          6,
          7
         ],
         "y": [
          50,
          50
         ]
        },
        {
         "line": {
          "color": "rgb(58, 82, 139)",
          "width": 2
         },
         "mode": "lines+markers",
         "name": "Action 0",
         "showlegend": false,
         "type": "scatter",
         "x": [
          6,
          7
         ],
         "y": [
          56,
          56
         ]
        },
        {
         "line": {
          "color": "rgb(58, 82, 139)",
          "width": 2
         },
         "mode": "lines+markers",
         "name": "Action 0",
         "showlegend": false,
         "type": "scatter",
         "x": [
          6,
          7
         ],
         "y": [
          57,
          57
         ]
        },
        {
         "line": {
          "color": "rgb(58, 82, 139)",
          "width": 2
         },
         "mode": "lines+markers",
         "name": "Action 0",
         "showlegend": false,
         "type": "scatter",
         "x": [
          6,
          7
         ],
         "y": [
          58,
          58
         ]
        },
        {
         "line": {
          "color": "rgb(58, 82, 139)",
          "width": 2
         },
         "mode": "lines+markers",
         "name": "Action 0",
         "showlegend": false,
         "type": "scatter",
         "x": [
          6,
          7
         ],
         "y": [
          59,
          59
         ]
        },
        {
         "line": {
          "color": "rgb(58, 82, 139)",
          "width": 2
         },
         "mode": "lines+markers",
         "name": "Action 0",
         "showlegend": false,
         "type": "scatter",
         "x": [
          6,
          7
         ],
         "y": [
          60,
          60
         ]
        },
        {
         "line": {
          "color": "rgb(58, 82, 139)",
          "width": 2
         },
         "mode": "lines+markers",
         "name": "Action 0",
         "showlegend": false,
         "type": "scatter",
         "x": [
          6,
          7
         ],
         "y": [
          61,
          61
         ]
        },
        {
         "line": {
          "color": "rgb(58, 82, 139)",
          "width": 2
         },
         "mode": "lines+markers",
         "name": "Action 0",
         "showlegend": false,
         "type": "scatter",
         "x": [
          6,
          7
         ],
         "y": [
          63,
          63
         ]
        },
        {
         "line": {
          "color": "rgb(58, 82, 139)",
          "width": 2
         },
         "mode": "lines+markers",
         "name": "Action 0",
         "showlegend": false,
         "type": "scatter",
         "x": [
          6,
          7
         ],
         "y": [
          64,
          64
         ]
        },
        {
         "line": {
          "color": "rgb(58, 82, 139)",
          "width": 2
         },
         "mode": "lines+markers",
         "name": "Action 0",
         "showlegend": false,
         "type": "scatter",
         "x": [
          6,
          7
         ],
         "y": [
          65,
          65
         ]
        },
        {
         "line": {
          "color": "rgb(58, 82, 139)",
          "width": 2
         },
         "mode": "lines+markers",
         "name": "Action 0",
         "showlegend": false,
         "type": "scatter",
         "x": [
          6,
          7
         ],
         "y": [
          66,
          66
         ]
        },
        {
         "line": {
          "color": "rgb(58, 82, 139)",
          "width": 2
         },
         "mode": "lines+markers",
         "name": "Action 0",
         "showlegend": false,
         "type": "scatter",
         "x": [
          6,
          7
         ],
         "y": [
          68,
          68
         ]
        },
        {
         "line": {
          "color": "rgb(58, 82, 139)",
          "width": 2
         },
         "mode": "lines+markers",
         "name": "Action 0",
         "showlegend": false,
         "type": "scatter",
         "x": [
          6,
          7
         ],
         "y": [
          69,
          69
         ]
        },
        {
         "line": {
          "color": "rgb(58, 82, 139)",
          "width": 2
         },
         "mode": "lines+markers",
         "name": "Action 0",
         "showlegend": false,
         "type": "scatter",
         "x": [
          6,
          7
         ],
         "y": [
          71,
          71
         ]
        },
        {
         "line": {
          "color": "rgb(58, 82, 139)",
          "width": 2
         },
         "mode": "lines+markers",
         "name": "Action 0",
         "showlegend": false,
         "type": "scatter",
         "x": [
          6,
          7
         ],
         "y": [
          73,
          73
         ]
        },
        {
         "line": {
          "color": "rgb(58, 82, 139)",
          "width": 2
         },
         "mode": "lines+markers",
         "name": "Action 0",
         "showlegend": false,
         "type": "scatter",
         "x": [
          6,
          7
         ],
         "y": [
          74,
          74
         ]
        },
        {
         "line": {
          "color": "rgb(58, 82, 139)",
          "width": 2
         },
         "mode": "lines+markers",
         "name": "Action 0",
         "showlegend": false,
         "type": "scatter",
         "x": [
          6,
          7
         ],
         "y": [
          75,
          75
         ]
        },
        {
         "line": {
          "color": "rgb(58, 82, 139)",
          "width": 2
         },
         "mode": "lines+markers",
         "name": "Action 0",
         "showlegend": false,
         "type": "scatter",
         "x": [
          6,
          7
         ],
         "y": [
          76,
          76
         ]
        },
        {
         "line": {
          "color": "rgb(58, 82, 139)",
          "width": 2
         },
         "mode": "lines+markers",
         "name": "Action 0",
         "showlegend": false,
         "type": "scatter",
         "x": [
          6,
          7
         ],
         "y": [
          78,
          78
         ]
        },
        {
         "line": {
          "color": "rgb(58, 82, 139)",
          "width": 2
         },
         "mode": "lines+markers",
         "name": "Action 0",
         "showlegend": false,
         "type": "scatter",
         "x": [
          6,
          7
         ],
         "y": [
          79,
          79
         ]
        },
        {
         "line": {
          "color": "rgb(58, 82, 139)",
          "width": 2
         },
         "mode": "lines+markers",
         "name": "Action 0",
         "showlegend": false,
         "type": "scatter",
         "x": [
          6,
          7
         ],
         "y": [
          80,
          80
         ]
        },
        {
         "line": {
          "color": "rgb(58, 82, 139)",
          "width": 2
         },
         "mode": "lines+markers",
         "name": "Action 0",
         "showlegend": false,
         "type": "scatter",
         "x": [
          6,
          7
         ],
         "y": [
          81,
          81
         ]
        },
        {
         "line": {
          "color": "rgb(58, 82, 139)",
          "width": 2
         },
         "mode": "lines+markers",
         "name": "Action 0",
         "showlegend": false,
         "type": "scatter",
         "x": [
          6,
          7
         ],
         "y": [
          82,
          82
         ]
        },
        {
         "line": {
          "color": "rgb(58, 82, 139)",
          "width": 2
         },
         "mode": "lines+markers",
         "name": "Action 0",
         "showlegend": false,
         "type": "scatter",
         "x": [
          6,
          7
         ],
         "y": [
          83,
          83
         ]
        },
        {
         "line": {
          "color": "rgb(58, 82, 139)",
          "width": 2
         },
         "mode": "lines+markers",
         "name": "Action 0",
         "showlegend": false,
         "type": "scatter",
         "x": [
          6,
          7
         ],
         "y": [
          84,
          84
         ]
        },
        {
         "line": {
          "color": "rgb(58, 82, 139)",
          "width": 2
         },
         "mode": "lines+markers",
         "name": "Action 0",
         "showlegend": false,
         "type": "scatter",
         "x": [
          6,
          7
         ],
         "y": [
          86,
          86
         ]
        },
        {
         "line": {
          "color": "rgb(58, 82, 139)",
          "width": 2
         },
         "mode": "lines+markers",
         "name": "Action 0",
         "showlegend": false,
         "type": "scatter",
         "x": [
          6,
          7
         ],
         "y": [
          87,
          87
         ]
        },
        {
         "line": {
          "color": "rgb(58, 82, 139)",
          "width": 2
         },
         "mode": "lines+markers",
         "name": "Action 0",
         "showlegend": false,
         "type": "scatter",
         "x": [
          6,
          7
         ],
         "y": [
          89,
          89
         ]
        },
        {
         "line": {
          "color": "rgb(58, 82, 139)",
          "width": 2
         },
         "mode": "lines+markers",
         "name": "Action 0",
         "showlegend": false,
         "type": "scatter",
         "x": [
          6,
          7
         ],
         "y": [
          90,
          90
         ]
        },
        {
         "line": {
          "color": "rgb(58, 82, 139)",
          "width": 2
         },
         "mode": "lines+markers",
         "name": "Action 0",
         "showlegend": false,
         "type": "scatter",
         "x": [
          6,
          7
         ],
         "y": [
          92,
          92
         ]
        },
        {
         "line": {
          "color": "rgb(58, 82, 139)",
          "width": 2
         },
         "mode": "lines+markers",
         "name": "Action 0",
         "showlegend": false,
         "type": "scatter",
         "x": [
          6,
          7
         ],
         "y": [
          94,
          94
         ]
        },
        {
         "line": {
          "color": "rgb(58, 82, 139)",
          "width": 2
         },
         "mode": "lines+markers",
         "name": "Action 0",
         "showlegend": false,
         "type": "scatter",
         "x": [
          6,
          7
         ],
         "y": [
          95,
          95
         ]
        },
        {
         "line": {
          "color": "rgb(58, 82, 139)",
          "width": 2
         },
         "mode": "lines+markers",
         "name": "Action 0",
         "showlegend": false,
         "type": "scatter",
         "x": [
          6,
          7
         ],
         "y": [
          96,
          96
         ]
        },
        {
         "line": {
          "color": "rgb(58, 82, 139)",
          "width": 2
         },
         "mode": "lines+markers",
         "name": "Action 0",
         "showlegend": false,
         "type": "scatter",
         "x": [
          6,
          7
         ],
         "y": [
          97,
          97
         ]
        },
        {
         "line": {
          "color": "rgb(58, 82, 139)",
          "width": 2
         },
         "mode": "lines+markers",
         "name": "Action 0",
         "showlegend": false,
         "type": "scatter",
         "x": [
          6,
          7
         ],
         "y": [
          98,
          98
         ]
        },
        {
         "line": {
          "color": "rgb(58, 82, 139)",
          "width": 2
         },
         "mode": "lines+markers",
         "name": "Action 0",
         "showlegend": false,
         "type": "scatter",
         "x": [
          6,
          7
         ],
         "y": [
          99,
          99
         ]
        },
        {
         "line": {
          "color": "rgb(58, 82, 139)",
          "width": 2
         },
         "mode": "lines+markers",
         "name": "Action 0",
         "showlegend": false,
         "type": "scatter",
         "x": [
          6,
          7
         ],
         "y": [
          100,
          100
         ]
        },
        {
         "line": {
          "color": "rgb(58, 82, 139)",
          "width": 2
         },
         "mode": "lines+markers",
         "name": "Action 0",
         "showlegend": false,
         "type": "scatter",
         "x": [
          7,
          8
         ],
         "y": [
          1,
          1
         ]
        },
        {
         "line": {
          "color": "rgb(58, 82, 139)",
          "width": 2
         },
         "mode": "lines+markers",
         "name": "Action 0",
         "showlegend": false,
         "type": "scatter",
         "x": [
          7,
          8
         ],
         "y": [
          9,
          9
         ]
        },
        {
         "line": {
          "color": "rgb(58, 82, 139)",
          "width": 2
         },
         "mode": "lines+markers",
         "name": "Action 0",
         "showlegend": false,
         "type": "scatter",
         "x": [
          7,
          8
         ],
         "y": [
          11,
          11
         ]
        },
        {
         "line": {
          "color": "rgb(58, 82, 139)",
          "width": 2
         },
         "mode": "lines+markers",
         "name": "Action 0",
         "showlegend": false,
         "type": "scatter",
         "x": [
          7,
          8
         ],
         "y": [
          13,
          13
         ]
        },
        {
         "line": {
          "color": "rgb(58, 82, 139)",
          "width": 2
         },
         "mode": "lines+markers",
         "name": "Action 0",
         "showlegend": false,
         "type": "scatter",
         "x": [
          7,
          8
         ],
         "y": [
          14,
          14
         ]
        },
        {
         "line": {
          "color": "rgb(58, 82, 139)",
          "width": 2
         },
         "mode": "lines+markers",
         "name": "Action 0",
         "showlegend": false,
         "type": "scatter",
         "x": [
          7,
          8
         ],
         "y": [
          54,
          54
         ]
        },
        {
         "line": {
          "color": "rgb(58, 82, 139)",
          "width": 2
         },
         "mode": "lines+markers",
         "name": "Action 0",
         "showlegend": false,
         "type": "scatter",
         "x": [
          7,
          8
         ],
         "y": [
          58,
          58
         ]
        },
        {
         "line": {
          "color": "rgb(58, 82, 139)",
          "width": 2
         },
         "mode": "lines+markers",
         "name": "Action 0",
         "showlegend": false,
         "type": "scatter",
         "x": [
          7,
          8
         ],
         "y": [
          59,
          59
         ]
        },
        {
         "line": {
          "color": "rgb(58, 82, 139)",
          "width": 2
         },
         "mode": "lines+markers",
         "name": "Action 0",
         "showlegend": false,
         "type": "scatter",
         "x": [
          7,
          8
         ],
         "y": [
          61,
          61
         ]
        },
        {
         "line": {
          "color": "rgb(58, 82, 139)",
          "width": 2
         },
         "mode": "lines+markers",
         "name": "Action 0",
         "showlegend": false,
         "type": "scatter",
         "x": [
          7,
          8
         ],
         "y": [
          62,
          62
         ]
        },
        {
         "line": {
          "color": "rgb(58, 82, 139)",
          "width": 2
         },
         "mode": "lines+markers",
         "name": "Action 0",
         "showlegend": false,
         "type": "scatter",
         "x": [
          7,
          8
         ],
         "y": [
          63,
          63
         ]
        },
        {
         "line": {
          "color": "rgb(58, 82, 139)",
          "width": 2
         },
         "mode": "lines+markers",
         "name": "Action 0",
         "showlegend": false,
         "type": "scatter",
         "x": [
          7,
          8
         ],
         "y": [
          64,
          64
         ]
        },
        {
         "line": {
          "color": "rgb(58, 82, 139)",
          "width": 2
         },
         "mode": "lines+markers",
         "name": "Action 0",
         "showlegend": false,
         "type": "scatter",
         "x": [
          7,
          8
         ],
         "y": [
          65,
          65
         ]
        },
        {
         "line": {
          "color": "rgb(58, 82, 139)",
          "width": 2
         },
         "mode": "lines+markers",
         "name": "Action 0",
         "showlegend": false,
         "type": "scatter",
         "x": [
          7,
          8
         ],
         "y": [
          66,
          66
         ]
        },
        {
         "line": {
          "color": "rgb(58, 82, 139)",
          "width": 2
         },
         "mode": "lines+markers",
         "name": "Action 0",
         "showlegend": false,
         "type": "scatter",
         "x": [
          7,
          8
         ],
         "y": [
          68,
          68
         ]
        },
        {
         "line": {
          "color": "rgb(58, 82, 139)",
          "width": 2
         },
         "mode": "lines+markers",
         "name": "Action 0",
         "showlegend": false,
         "type": "scatter",
         "x": [
          7,
          8
         ],
         "y": [
          69,
          69
         ]
        },
        {
         "line": {
          "color": "rgb(58, 82, 139)",
          "width": 2
         },
         "mode": "lines+markers",
         "name": "Action 0",
         "showlegend": false,
         "type": "scatter",
         "x": [
          7,
          8
         ],
         "y": [
          70,
          70
         ]
        },
        {
         "line": {
          "color": "rgb(58, 82, 139)",
          "width": 2
         },
         "mode": "lines+markers",
         "name": "Action 0",
         "showlegend": false,
         "type": "scatter",
         "x": [
          7,
          8
         ],
         "y": [
          71,
          71
         ]
        },
        {
         "line": {
          "color": "rgb(58, 82, 139)",
          "width": 2
         },
         "mode": "lines+markers",
         "name": "Action 0",
         "showlegend": false,
         "type": "scatter",
         "x": [
          7,
          8
         ],
         "y": [
          72,
          72
         ]
        },
        {
         "line": {
          "color": "rgb(58, 82, 139)",
          "width": 2
         },
         "mode": "lines+markers",
         "name": "Action 0",
         "showlegend": false,
         "type": "scatter",
         "x": [
          7,
          8
         ],
         "y": [
          73,
          73
         ]
        },
        {
         "line": {
          "color": "rgb(58, 82, 139)",
          "width": 2
         },
         "mode": "lines+markers",
         "name": "Action 0",
         "showlegend": false,
         "type": "scatter",
         "x": [
          7,
          8
         ],
         "y": [
          74,
          74
         ]
        },
        {
         "line": {
          "color": "rgb(58, 82, 139)",
          "width": 2
         },
         "mode": "lines+markers",
         "name": "Action 0",
         "showlegend": false,
         "type": "scatter",
         "x": [
          7,
          8
         ],
         "y": [
          75,
          75
         ]
        },
        {
         "line": {
          "color": "rgb(58, 82, 139)",
          "width": 2
         },
         "mode": "lines+markers",
         "name": "Action 0",
         "showlegend": false,
         "type": "scatter",
         "x": [
          7,
          8
         ],
         "y": [
          76,
          76
         ]
        },
        {
         "line": {
          "color": "rgb(58, 82, 139)",
          "width": 2
         },
         "mode": "lines+markers",
         "name": "Action 0",
         "showlegend": false,
         "type": "scatter",
         "x": [
          7,
          8
         ],
         "y": [
          77,
          77
         ]
        },
        {
         "line": {
          "color": "rgb(58, 82, 139)",
          "width": 2
         },
         "mode": "lines+markers",
         "name": "Action 0",
         "showlegend": false,
         "type": "scatter",
         "x": [
          7,
          8
         ],
         "y": [
          78,
          78
         ]
        },
        {
         "line": {
          "color": "rgb(58, 82, 139)",
          "width": 2
         },
         "mode": "lines+markers",
         "name": "Action 0",
         "showlegend": false,
         "type": "scatter",
         "x": [
          7,
          8
         ],
         "y": [
          79,
          79
         ]
        },
        {
         "line": {
          "color": "rgb(58, 82, 139)",
          "width": 2
         },
         "mode": "lines+markers",
         "name": "Action 0",
         "showlegend": false,
         "type": "scatter",
         "x": [
          7,
          8
         ],
         "y": [
          80,
          80
         ]
        },
        {
         "line": {
          "color": "rgb(58, 82, 139)",
          "width": 2
         },
         "mode": "lines+markers",
         "name": "Action 0",
         "showlegend": false,
         "type": "scatter",
         "x": [
          7,
          8
         ],
         "y": [
          81,
          81
         ]
        },
        {
         "line": {
          "color": "rgb(58, 82, 139)",
          "width": 2
         },
         "mode": "lines+markers",
         "name": "Action 0",
         "showlegend": false,
         "type": "scatter",
         "x": [
          7,
          8
         ],
         "y": [
          82,
          82
         ]
        },
        {
         "line": {
          "color": "rgb(58, 82, 139)",
          "width": 2
         },
         "mode": "lines+markers",
         "name": "Action 0",
         "showlegend": false,
         "type": "scatter",
         "x": [
          7,
          8
         ],
         "y": [
          83,
          83
         ]
        },
        {
         "line": {
          "color": "rgb(58, 82, 139)",
          "width": 2
         },
         "mode": "lines+markers",
         "name": "Action 0",
         "showlegend": false,
         "type": "scatter",
         "x": [
          7,
          8
         ],
         "y": [
          84,
          84
         ]
        },
        {
         "line": {
          "color": "rgb(58, 82, 139)",
          "width": 2
         },
         "mode": "lines+markers",
         "name": "Action 0",
         "showlegend": false,
         "type": "scatter",
         "x": [
          7,
          8
         ],
         "y": [
          85,
          85
         ]
        },
        {
         "line": {
          "color": "rgb(58, 82, 139)",
          "width": 2
         },
         "mode": "lines+markers",
         "name": "Action 0",
         "showlegend": false,
         "type": "scatter",
         "x": [
          7,
          8
         ],
         "y": [
          86,
          86
         ]
        },
        {
         "line": {
          "color": "rgb(58, 82, 139)",
          "width": 2
         },
         "mode": "lines+markers",
         "name": "Action 0",
         "showlegend": false,
         "type": "scatter",
         "x": [
          7,
          8
         ],
         "y": [
          87,
          87
         ]
        },
        {
         "line": {
          "color": "rgb(58, 82, 139)",
          "width": 2
         },
         "mode": "lines+markers",
         "name": "Action 0",
         "showlegend": false,
         "type": "scatter",
         "x": [
          7,
          8
         ],
         "y": [
          88,
          88
         ]
        },
        {
         "line": {
          "color": "rgb(58, 82, 139)",
          "width": 2
         },
         "mode": "lines+markers",
         "name": "Action 0",
         "showlegend": false,
         "type": "scatter",
         "x": [
          7,
          8
         ],
         "y": [
          89,
          89
         ]
        },
        {
         "line": {
          "color": "rgb(58, 82, 139)",
          "width": 2
         },
         "mode": "lines+markers",
         "name": "Action 0",
         "showlegend": false,
         "type": "scatter",
         "x": [
          7,
          8
         ],
         "y": [
          90,
          90
         ]
        },
        {
         "line": {
          "color": "rgb(58, 82, 139)",
          "width": 2
         },
         "mode": "lines+markers",
         "name": "Action 0",
         "showlegend": false,
         "type": "scatter",
         "x": [
          7,
          8
         ],
         "y": [
          91,
          91
         ]
        },
        {
         "line": {
          "color": "rgb(58, 82, 139)",
          "width": 2
         },
         "mode": "lines+markers",
         "name": "Action 0",
         "showlegend": false,
         "type": "scatter",
         "x": [
          7,
          8
         ],
         "y": [
          92,
          92
         ]
        },
        {
         "line": {
          "color": "rgb(58, 82, 139)",
          "width": 2
         },
         "mode": "lines+markers",
         "name": "Action 0",
         "showlegend": false,
         "type": "scatter",
         "x": [
          7,
          8
         ],
         "y": [
          93,
          93
         ]
        },
        {
         "line": {
          "color": "rgb(58, 82, 139)",
          "width": 2
         },
         "mode": "lines+markers",
         "name": "Action 0",
         "showlegend": false,
         "type": "scatter",
         "x": [
          7,
          8
         ],
         "y": [
          94,
          94
         ]
        },
        {
         "line": {
          "color": "rgb(58, 82, 139)",
          "width": 2
         },
         "mode": "lines+markers",
         "name": "Action 0",
         "showlegend": false,
         "type": "scatter",
         "x": [
          7,
          8
         ],
         "y": [
          95,
          95
         ]
        },
        {
         "line": {
          "color": "rgb(58, 82, 139)",
          "width": 2
         },
         "mode": "lines+markers",
         "name": "Action 0",
         "showlegend": false,
         "type": "scatter",
         "x": [
          7,
          8
         ],
         "y": [
          96,
          96
         ]
        },
        {
         "line": {
          "color": "rgb(58, 82, 139)",
          "width": 2
         },
         "mode": "lines+markers",
         "name": "Action 0",
         "showlegend": false,
         "type": "scatter",
         "x": [
          7,
          8
         ],
         "y": [
          97,
          97
         ]
        },
        {
         "line": {
          "color": "rgb(58, 82, 139)",
          "width": 2
         },
         "mode": "lines+markers",
         "name": "Action 0",
         "showlegend": false,
         "type": "scatter",
         "x": [
          7,
          8
         ],
         "y": [
          98,
          98
         ]
        },
        {
         "line": {
          "color": "rgb(58, 82, 139)",
          "width": 2
         },
         "mode": "lines+markers",
         "name": "Action 0",
         "showlegend": false,
         "type": "scatter",
         "x": [
          7,
          8
         ],
         "y": [
          99,
          99
         ]
        },
        {
         "line": {
          "color": "rgb(32, 144, 140)",
          "width": 2
         },
         "mode": "lines+markers",
         "name": "Action 11",
         "type": "scatter",
         "x": [
          0,
          1
         ],
         "y": [
          3,
          14
         ]
        },
        {
         "line": {
          "color": "rgb(32, 144, 140)",
          "width": 2
         },
         "mode": "lines+markers",
         "name": "Action 11",
         "showlegend": false,
         "type": "scatter",
         "x": [
          0,
          1
         ],
         "y": [
          4,
          15
         ]
        },
        {
         "line": {
          "color": "rgb(32, 144, 140)",
          "width": 2
         },
         "mode": "lines+markers",
         "name": "Action 11",
         "showlegend": false,
         "type": "scatter",
         "x": [
          0,
          1
         ],
         "y": [
          5,
          16
         ]
        },
        {
         "line": {
          "color": "rgb(32, 144, 140)",
          "width": 2
         },
         "mode": "lines+markers",
         "name": "Action 11",
         "showlegend": false,
         "type": "scatter",
         "x": [
          0,
          1
         ],
         "y": [
          11,
          22
         ]
        },
        {
         "line": {
          "color": "rgb(32, 144, 140)",
          "width": 2
         },
         "mode": "lines+markers",
         "name": "Action 11",
         "showlegend": false,
         "type": "scatter",
         "x": [
          0,
          1
         ],
         "y": [
          13,
          24
         ]
        },
        {
         "line": {
          "color": "rgb(32, 144, 140)",
          "width": 2
         },
         "mode": "lines+markers",
         "name": "Action 11",
         "showlegend": false,
         "type": "scatter",
         "x": [
          0,
          1
         ],
         "y": [
          15,
          26
         ]
        },
        {
         "line": {
          "color": "rgb(32, 144, 140)",
          "width": 2
         },
         "mode": "lines+markers",
         "name": "Action 11",
         "showlegend": false,
         "type": "scatter",
         "x": [
          0,
          1
         ],
         "y": [
          18,
          29
         ]
        },
        {
         "line": {
          "color": "rgb(32, 144, 140)",
          "width": 2
         },
         "mode": "lines+markers",
         "name": "Action 11",
         "showlegend": false,
         "type": "scatter",
         "x": [
          0,
          1
         ],
         "y": [
          73,
          84
         ]
        },
        {
         "line": {
          "color": "rgb(32, 144, 140)",
          "width": 2
         },
         "mode": "lines+markers",
         "name": "Action 11",
         "showlegend": false,
         "type": "scatter",
         "x": [
          1,
          2
         ],
         "y": [
          4,
          15
         ]
        },
        {
         "line": {
          "color": "rgb(32, 144, 140)",
          "width": 2
         },
         "mode": "lines+markers",
         "name": "Action 11",
         "showlegend": false,
         "type": "scatter",
         "x": [
          1,
          2
         ],
         "y": [
          9,
          20
         ]
        },
        {
         "line": {
          "color": "rgb(32, 144, 140)",
          "width": 2
         },
         "mode": "lines+markers",
         "name": "Action 11",
         "showlegend": false,
         "type": "scatter",
         "x": [
          1,
          2
         ],
         "y": [
          17,
          28
         ]
        },
        {
         "line": {
          "color": "rgb(32, 144, 140)",
          "width": 2
         },
         "mode": "lines+markers",
         "name": "Action 11",
         "showlegend": false,
         "type": "scatter",
         "x": [
          1,
          2
         ],
         "y": [
          21,
          32
         ]
        },
        {
         "line": {
          "color": "rgb(32, 144, 140)",
          "width": 2
         },
         "mode": "lines+markers",
         "name": "Action 11",
         "showlegend": false,
         "type": "scatter",
         "x": [
          2,
          3
         ],
         "y": [
          4,
          15
         ]
        },
        {
         "line": {
          "color": "rgb(32, 144, 140)",
          "width": 2
         },
         "mode": "lines+markers",
         "name": "Action 11",
         "showlegend": false,
         "type": "scatter",
         "x": [
          2,
          3
         ],
         "y": [
          8,
          19
         ]
        },
        {
         "line": {
          "color": "rgb(32, 144, 140)",
          "width": 2
         },
         "mode": "lines+markers",
         "name": "Action 11",
         "showlegend": false,
         "type": "scatter",
         "x": [
          2,
          3
         ],
         "y": [
          13,
          24
         ]
        },
        {
         "line": {
          "color": "rgb(32, 144, 140)",
          "width": 2
         },
         "mode": "lines+markers",
         "name": "Action 11",
         "showlegend": false,
         "type": "scatter",
         "x": [
          2,
          3
         ],
         "y": [
          14,
          25
         ]
        },
        {
         "line": {
          "color": "rgb(32, 144, 140)",
          "width": 2
         },
         "mode": "lines+markers",
         "name": "Action 11",
         "showlegend": false,
         "type": "scatter",
         "x": [
          2,
          3
         ],
         "y": [
          19,
          30
         ]
        },
        {
         "line": {
          "color": "rgb(32, 144, 140)",
          "width": 2
         },
         "mode": "lines+markers",
         "name": "Action 11",
         "showlegend": false,
         "type": "scatter",
         "x": [
          2,
          3
         ],
         "y": [
          20,
          31
         ]
        },
        {
         "line": {
          "color": "rgb(32, 144, 140)",
          "width": 2
         },
         "mode": "lines+markers",
         "name": "Action 11",
         "showlegend": false,
         "type": "scatter",
         "x": [
          2,
          3
         ],
         "y": [
          28,
          39
         ]
        },
        {
         "line": {
          "color": "rgb(32, 144, 140)",
          "width": 2
         },
         "mode": "lines+markers",
         "name": "Action 11",
         "showlegend": false,
         "type": "scatter",
         "x": [
          2,
          3
         ],
         "y": [
          35,
          46
         ]
        },
        {
         "line": {
          "color": "rgb(32, 144, 140)",
          "width": 2
         },
         "mode": "lines+markers",
         "name": "Action 11",
         "showlegend": false,
         "type": "scatter",
         "x": [
          2,
          3
         ],
         "y": [
          41,
          52
         ]
        },
        {
         "line": {
          "color": "rgb(32, 144, 140)",
          "width": 2
         },
         "mode": "lines+markers",
         "name": "Action 11",
         "showlegend": false,
         "type": "scatter",
         "x": [
          3,
          4
         ],
         "y": [
          7,
          18
         ]
        },
        {
         "line": {
          "color": "rgb(32, 144, 140)",
          "width": 2
         },
         "mode": "lines+markers",
         "name": "Action 11",
         "showlegend": false,
         "type": "scatter",
         "x": [
          3,
          4
         ],
         "y": [
          14,
          25
         ]
        },
        {
         "line": {
          "color": "rgb(32, 144, 140)",
          "width": 2
         },
         "mode": "lines+markers",
         "name": "Action 11",
         "showlegend": false,
         "type": "scatter",
         "x": [
          3,
          4
         ],
         "y": [
          15,
          26
         ]
        },
        {
         "line": {
          "color": "rgb(32, 144, 140)",
          "width": 2
         },
         "mode": "lines+markers",
         "name": "Action 11",
         "showlegend": false,
         "type": "scatter",
         "x": [
          3,
          4
         ],
         "y": [
          21,
          32
         ]
        },
        {
         "line": {
          "color": "rgb(32, 144, 140)",
          "width": 2
         },
         "mode": "lines+markers",
         "name": "Action 11",
         "showlegend": false,
         "type": "scatter",
         "x": [
          3,
          4
         ],
         "y": [
          27,
          38
         ]
        },
        {
         "line": {
          "color": "rgb(32, 144, 140)",
          "width": 2
         },
         "mode": "lines+markers",
         "name": "Action 11",
         "showlegend": false,
         "type": "scatter",
         "x": [
          3,
          4
         ],
         "y": [
          32,
          43
         ]
        },
        {
         "line": {
          "color": "rgb(32, 144, 140)",
          "width": 2
         },
         "mode": "lines+markers",
         "name": "Action 11",
         "showlegend": false,
         "type": "scatter",
         "x": [
          4,
          5
         ],
         "y": [
          1,
          12
         ]
        },
        {
         "line": {
          "color": "rgb(32, 144, 140)",
          "width": 2
         },
         "mode": "lines+markers",
         "name": "Action 11",
         "showlegend": false,
         "type": "scatter",
         "x": [
          4,
          5
         ],
         "y": [
          5,
          16
         ]
        },
        {
         "line": {
          "color": "rgb(32, 144, 140)",
          "width": 2
         },
         "mode": "lines+markers",
         "name": "Action 11",
         "showlegend": false,
         "type": "scatter",
         "x": [
          4,
          5
         ],
         "y": [
          6,
          17
         ]
        },
        {
         "line": {
          "color": "rgb(32, 144, 140)",
          "width": 2
         },
         "mode": "lines+markers",
         "name": "Action 11",
         "showlegend": false,
         "type": "scatter",
         "x": [
          4,
          5
         ],
         "y": [
          7,
          18
         ]
        },
        {
         "line": {
          "color": "rgb(32, 144, 140)",
          "width": 2
         },
         "mode": "lines+markers",
         "name": "Action 11",
         "showlegend": false,
         "type": "scatter",
         "x": [
          4,
          5
         ],
         "y": [
          8,
          19
         ]
        },
        {
         "line": {
          "color": "rgb(32, 144, 140)",
          "width": 2
         },
         "mode": "lines+markers",
         "name": "Action 11",
         "showlegend": false,
         "type": "scatter",
         "x": [
          4,
          5
         ],
         "y": [
          9,
          20
         ]
        },
        {
         "line": {
          "color": "rgb(32, 144, 140)",
          "width": 2
         },
         "mode": "lines+markers",
         "name": "Action 11",
         "showlegend": false,
         "type": "scatter",
         "x": [
          4,
          5
         ],
         "y": [
          11,
          22
         ]
        },
        {
         "line": {
          "color": "rgb(32, 144, 140)",
          "width": 2
         },
         "mode": "lines+markers",
         "name": "Action 11",
         "showlegend": false,
         "type": "scatter",
         "x": [
          4,
          5
         ],
         "y": [
          14,
          25
         ]
        },
        {
         "line": {
          "color": "rgb(32, 144, 140)",
          "width": 2
         },
         "mode": "lines+markers",
         "name": "Action 11",
         "showlegend": false,
         "type": "scatter",
         "x": [
          4,
          5
         ],
         "y": [
          16,
          27
         ]
        },
        {
         "line": {
          "color": "rgb(32, 144, 140)",
          "width": 2
         },
         "mode": "lines+markers",
         "name": "Action 11",
         "showlegend": false,
         "type": "scatter",
         "x": [
          4,
          5
         ],
         "y": [
          17,
          28
         ]
        },
        {
         "line": {
          "color": "rgb(32, 144, 140)",
          "width": 2
         },
         "mode": "lines+markers",
         "name": "Action 11",
         "showlegend": false,
         "type": "scatter",
         "x": [
          4,
          5
         ],
         "y": [
          18,
          29
         ]
        },
        {
         "line": {
          "color": "rgb(32, 144, 140)",
          "width": 2
         },
         "mode": "lines+markers",
         "name": "Action 11",
         "showlegend": false,
         "type": "scatter",
         "x": [
          4,
          5
         ],
         "y": [
          20,
          31
         ]
        },
        {
         "line": {
          "color": "rgb(32, 144, 140)",
          "width": 2
         },
         "mode": "lines+markers",
         "name": "Action 11",
         "showlegend": false,
         "type": "scatter",
         "x": [
          4,
          5
         ],
         "y": [
          21,
          32
         ]
        },
        {
         "line": {
          "color": "rgb(32, 144, 140)",
          "width": 2
         },
         "mode": "lines+markers",
         "name": "Action 11",
         "showlegend": false,
         "type": "scatter",
         "x": [
          4,
          5
         ],
         "y": [
          22,
          33
         ]
        },
        {
         "line": {
          "color": "rgb(32, 144, 140)",
          "width": 2
         },
         "mode": "lines+markers",
         "name": "Action 11",
         "showlegend": false,
         "type": "scatter",
         "x": [
          4,
          5
         ],
         "y": [
          25,
          36
         ]
        },
        {
         "line": {
          "color": "rgb(32, 144, 140)",
          "width": 2
         },
         "mode": "lines+markers",
         "name": "Action 11",
         "showlegend": false,
         "type": "scatter",
         "x": [
          4,
          5
         ],
         "y": [
          32,
          43
         ]
        },
        {
         "line": {
          "color": "rgb(32, 144, 140)",
          "width": 2
         },
         "mode": "lines+markers",
         "name": "Action 11",
         "showlegend": false,
         "type": "scatter",
         "x": [
          4,
          5
         ],
         "y": [
          93,
          100
         ]
        },
        {
         "line": {
          "color": "rgb(32, 144, 140)",
          "width": 2
         },
         "mode": "lines+markers",
         "name": "Action 11",
         "showlegend": false,
         "type": "scatter",
         "x": [
          5,
          6
         ],
         "y": [
          12,
          23
         ]
        },
        {
         "line": {
          "color": "rgb(32, 144, 140)",
          "width": 2
         },
         "mode": "lines+markers",
         "name": "Action 11",
         "showlegend": false,
         "type": "scatter",
         "x": [
          5,
          6
         ],
         "y": [
          16,
          27
         ]
        },
        {
         "line": {
          "color": "rgb(32, 144, 140)",
          "width": 2
         },
         "mode": "lines+markers",
         "name": "Action 11",
         "showlegend": false,
         "type": "scatter",
         "x": [
          5,
          6
         ],
         "y": [
          17,
          28
         ]
        },
        {
         "line": {
          "color": "rgb(32, 144, 140)",
          "width": 2
         },
         "mode": "lines+markers",
         "name": "Action 11",
         "showlegend": false,
         "type": "scatter",
         "x": [
          5,
          6
         ],
         "y": [
          18,
          29
         ]
        },
        {
         "line": {
          "color": "rgb(32, 144, 140)",
          "width": 2
         },
         "mode": "lines+markers",
         "name": "Action 11",
         "showlegend": false,
         "type": "scatter",
         "x": [
          5,
          6
         ],
         "y": [
          23,
          34
         ]
        },
        {
         "line": {
          "color": "rgb(32, 144, 140)",
          "width": 2
         },
         "mode": "lines+markers",
         "name": "Action 11",
         "showlegend": false,
         "type": "scatter",
         "x": [
          5,
          6
         ],
         "y": [
          24,
          35
         ]
        },
        {
         "line": {
          "color": "rgb(32, 144, 140)",
          "width": 2
         },
         "mode": "lines+markers",
         "name": "Action 11",
         "showlegend": false,
         "type": "scatter",
         "x": [
          5,
          6
         ],
         "y": [
          25,
          36
         ]
        },
        {
         "line": {
          "color": "rgb(32, 144, 140)",
          "width": 2
         },
         "mode": "lines+markers",
         "name": "Action 11",
         "showlegend": false,
         "type": "scatter",
         "x": [
          5,
          6
         ],
         "y": [
          26,
          37
         ]
        },
        {
         "line": {
          "color": "rgb(32, 144, 140)",
          "width": 2
         },
         "mode": "lines+markers",
         "name": "Action 11",
         "showlegend": false,
         "type": "scatter",
         "x": [
          5,
          6
         ],
         "y": [
          31,
          42
         ]
        },
        {
         "line": {
          "color": "rgb(32, 144, 140)",
          "width": 2
         },
         "mode": "lines+markers",
         "name": "Action 11",
         "showlegend": false,
         "type": "scatter",
         "x": [
          5,
          6
         ],
         "y": [
          32,
          43
         ]
        },
        {
         "line": {
          "color": "rgb(32, 144, 140)",
          "width": 2
         },
         "mode": "lines+markers",
         "name": "Action 11",
         "showlegend": false,
         "type": "scatter",
         "x": [
          5,
          6
         ],
         "y": [
          33,
          44
         ]
        },
        {
         "line": {
          "color": "rgb(32, 144, 140)",
          "width": 2
         },
         "mode": "lines+markers",
         "name": "Action 11",
         "showlegend": false,
         "type": "scatter",
         "x": [
          5,
          6
         ],
         "y": [
          39,
          50
         ]
        },
        {
         "line": {
          "color": "rgb(32, 144, 140)",
          "width": 2
         },
         "mode": "lines+markers",
         "name": "Action 11",
         "showlegend": false,
         "type": "scatter",
         "x": [
          5,
          6
         ],
         "y": [
          41,
          52
         ]
        },
        {
         "line": {
          "color": "rgb(32, 144, 140)",
          "width": 2
         },
         "mode": "lines+markers",
         "name": "Action 11",
         "showlegend": false,
         "type": "scatter",
         "x": [
          6,
          7
         ],
         "y": [
          0,
          11
         ]
        },
        {
         "line": {
          "color": "rgb(32, 144, 140)",
          "width": 2
         },
         "mode": "lines+markers",
         "name": "Action 11",
         "showlegend": false,
         "type": "scatter",
         "x": [
          6,
          7
         ],
         "y": [
          3,
          14
         ]
        },
        {
         "line": {
          "color": "rgb(32, 144, 140)",
          "width": 2
         },
         "mode": "lines+markers",
         "name": "Action 11",
         "showlegend": false,
         "type": "scatter",
         "x": [
          6,
          7
         ],
         "y": [
          7,
          18
         ]
        },
        {
         "line": {
          "color": "rgb(32, 144, 140)",
          "width": 2
         },
         "mode": "lines+markers",
         "name": "Action 11",
         "showlegend": false,
         "type": "scatter",
         "x": [
          6,
          7
         ],
         "y": [
          24,
          35
         ]
        },
        {
         "line": {
          "color": "rgb(32, 144, 140)",
          "width": 2
         },
         "mode": "lines+markers",
         "name": "Action 11",
         "showlegend": false,
         "type": "scatter",
         "x": [
          6,
          7
         ],
         "y": [
          27,
          38
         ]
        },
        {
         "line": {
          "color": "rgb(32, 144, 140)",
          "width": 2
         },
         "mode": "lines+markers",
         "name": "Action 11",
         "showlegend": false,
         "type": "scatter",
         "x": [
          6,
          7
         ],
         "y": [
          28,
          39
         ]
        },
        {
         "line": {
          "color": "rgb(32, 144, 140)",
          "width": 2
         },
         "mode": "lines+markers",
         "name": "Action 11",
         "showlegend": false,
         "type": "scatter",
         "x": [
          6,
          7
         ],
         "y": [
          30,
          41
         ]
        },
        {
         "line": {
          "color": "rgb(32, 144, 140)",
          "width": 2
         },
         "mode": "lines+markers",
         "name": "Action 11",
         "showlegend": false,
         "type": "scatter",
         "x": [
          6,
          7
         ],
         "y": [
          32,
          43
         ]
        },
        {
         "line": {
          "color": "rgb(32, 144, 140)",
          "width": 2
         },
         "mode": "lines+markers",
         "name": "Action 11",
         "showlegend": false,
         "type": "scatter",
         "x": [
          6,
          7
         ],
         "y": [
          35,
          46
         ]
        },
        {
         "line": {
          "color": "rgb(32, 144, 140)",
          "width": 2
         },
         "mode": "lines+markers",
         "name": "Action 11",
         "showlegend": false,
         "type": "scatter",
         "x": [
          6,
          7
         ],
         "y": [
          37,
          48
         ]
        },
        {
         "line": {
          "color": "rgb(32, 144, 140)",
          "width": 2
         },
         "mode": "lines+markers",
         "name": "Action 11",
         "showlegend": false,
         "type": "scatter",
         "x": [
          7,
          8
         ],
         "y": [
          0,
          11
         ]
        },
        {
         "line": {
          "color": "rgb(32, 144, 140)",
          "width": 2
         },
         "mode": "lines+markers",
         "name": "Action 11",
         "showlegend": false,
         "type": "scatter",
         "x": [
          7,
          8
         ],
         "y": [
          4,
          15
         ]
        },
        {
         "line": {
          "color": "rgb(32, 144, 140)",
          "width": 2
         },
         "mode": "lines+markers",
         "name": "Action 11",
         "showlegend": false,
         "type": "scatter",
         "x": [
          7,
          8
         ],
         "y": [
          16,
          27
         ]
        },
        {
         "line": {
          "color": "rgb(32, 144, 140)",
          "width": 2
         },
         "mode": "lines+markers",
         "name": "Action 11",
         "showlegend": false,
         "type": "scatter",
         "x": [
          7,
          8
         ],
         "y": [
          17,
          28
         ]
        },
        {
         "line": {
          "color": "rgb(32, 144, 140)",
          "width": 2
         },
         "mode": "lines+markers",
         "name": "Action 11",
         "showlegend": false,
         "type": "scatter",
         "x": [
          7,
          8
         ],
         "y": [
          21,
          32
         ]
        },
        {
         "line": {
          "color": "rgb(32, 144, 140)",
          "width": 2
         },
         "mode": "lines+markers",
         "name": "Action 11",
         "showlegend": false,
         "type": "scatter",
         "x": [
          7,
          8
         ],
         "y": [
          22,
          33
         ]
        },
        {
         "line": {
          "color": "rgb(32, 144, 140)",
          "width": 2
         },
         "mode": "lines+markers",
         "name": "Action 11",
         "showlegend": false,
         "type": "scatter",
         "x": [
          7,
          8
         ],
         "y": [
          24,
          35
         ]
        },
        {
         "line": {
          "color": "rgb(32, 144, 140)",
          "width": 2
         },
         "mode": "lines+markers",
         "name": "Action 11",
         "showlegend": false,
         "type": "scatter",
         "x": [
          7,
          8
         ],
         "y": [
          32,
          43
         ]
        },
        {
         "line": {
          "color": "rgb(32, 144, 140)",
          "width": 2
         },
         "mode": "lines+markers",
         "name": "Action 11",
         "showlegend": false,
         "type": "scatter",
         "x": [
          7,
          8
         ],
         "y": [
          37,
          48
         ]
        },
        {
         "line": {
          "color": "rgb(32, 144, 140)",
          "width": 2
         },
         "mode": "lines+markers",
         "name": "Action 11",
         "showlegend": false,
         "type": "scatter",
         "x": [
          7,
          8
         ],
         "y": [
          38,
          49
         ]
        },
        {
         "line": {
          "color": "rgb(32, 144, 140)",
          "width": 2
         },
         "mode": "lines+markers",
         "name": "Action 11",
         "showlegend": false,
         "type": "scatter",
         "x": [
          7,
          8
         ],
         "y": [
          41,
          52
         ]
        },
        {
         "line": {
          "color": "rgb(94, 201, 97)",
          "width": 2
         },
         "mode": "lines+markers",
         "name": "Action 3",
         "type": "scatter",
         "x": [
          0,
          1
         ],
         "y": [
          6,
          9
         ]
        },
        {
         "line": {
          "color": "rgb(94, 201, 97)",
          "width": 2
         },
         "mode": "lines+markers",
         "name": "Action 3",
         "showlegend": false,
         "type": "scatter",
         "x": [
          0,
          1
         ],
         "y": [
          9,
          12
         ]
        },
        {
         "line": {
          "color": "rgb(94, 201, 97)",
          "width": 2
         },
         "mode": "lines+markers",
         "name": "Action 3",
         "showlegend": false,
         "type": "scatter",
         "x": [
          0,
          1
         ],
         "y": [
          12,
          15
         ]
        },
        {
         "line": {
          "color": "rgb(94, 201, 97)",
          "width": 2
         },
         "mode": "lines+markers",
         "name": "Action 3",
         "showlegend": false,
         "type": "scatter",
         "x": [
          0,
          1
         ],
         "y": [
          14,
          17
         ]
        },
        {
         "line": {
          "color": "rgb(94, 201, 97)",
          "width": 2
         },
         "mode": "lines+markers",
         "name": "Action 3",
         "showlegend": false,
         "type": "scatter",
         "x": [
          0,
          1
         ],
         "y": [
          16,
          19
         ]
        },
        {
         "line": {
          "color": "rgb(94, 201, 97)",
          "width": 2
         },
         "mode": "lines+markers",
         "name": "Action 3",
         "showlegend": false,
         "type": "scatter",
         "x": [
          0,
          1
         ],
         "y": [
          19,
          22
         ]
        },
        {
         "line": {
          "color": "rgb(94, 201, 97)",
          "width": 2
         },
         "mode": "lines+markers",
         "name": "Action 3",
         "showlegend": false,
         "type": "scatter",
         "x": [
          0,
          1
         ],
         "y": [
          21,
          24
         ]
        },
        {
         "line": {
          "color": "rgb(94, 201, 97)",
          "width": 2
         },
         "mode": "lines+markers",
         "name": "Action 3",
         "showlegend": false,
         "type": "scatter",
         "x": [
          0,
          1
         ],
         "y": [
          23,
          26
         ]
        },
        {
         "line": {
          "color": "rgb(94, 201, 97)",
          "width": 2
         },
         "mode": "lines+markers",
         "name": "Action 3",
         "showlegend": false,
         "type": "scatter",
         "x": [
          0,
          1
         ],
         "y": [
          25,
          28
         ]
        },
        {
         "line": {
          "color": "rgb(94, 201, 97)",
          "width": 2
         },
         "mode": "lines+markers",
         "name": "Action 3",
         "showlegend": false,
         "type": "scatter",
         "x": [
          0,
          1
         ],
         "y": [
          26,
          29
         ]
        },
        {
         "line": {
          "color": "rgb(94, 201, 97)",
          "width": 2
         },
         "mode": "lines+markers",
         "name": "Action 3",
         "showlegend": false,
         "type": "scatter",
         "x": [
          0,
          1
         ],
         "y": [
          27,
          30
         ]
        },
        {
         "line": {
          "color": "rgb(94, 201, 97)",
          "width": 2
         },
         "mode": "lines+markers",
         "name": "Action 3",
         "showlegend": false,
         "type": "scatter",
         "x": [
          0,
          1
         ],
         "y": [
          32,
          35
         ]
        },
        {
         "line": {
          "color": "rgb(94, 201, 97)",
          "width": 2
         },
         "mode": "lines+markers",
         "name": "Action 3",
         "showlegend": false,
         "type": "scatter",
         "x": [
          0,
          1
         ],
         "y": [
          33,
          36
         ]
        },
        {
         "line": {
          "color": "rgb(94, 201, 97)",
          "width": 2
         },
         "mode": "lines+markers",
         "name": "Action 3",
         "showlegend": false,
         "type": "scatter",
         "x": [
          0,
          1
         ],
         "y": [
          34,
          37
         ]
        },
        {
         "line": {
          "color": "rgb(94, 201, 97)",
          "width": 2
         },
         "mode": "lines+markers",
         "name": "Action 3",
         "showlegend": false,
         "type": "scatter",
         "x": [
          0,
          1
         ],
         "y": [
          40,
          43
         ]
        },
        {
         "line": {
          "color": "rgb(94, 201, 97)",
          "width": 2
         },
         "mode": "lines+markers",
         "name": "Action 3",
         "showlegend": false,
         "type": "scatter",
         "x": [
          0,
          1
         ],
         "y": [
          41,
          44
         ]
        },
        {
         "line": {
          "color": "rgb(94, 201, 97)",
          "width": 2
         },
         "mode": "lines+markers",
         "name": "Action 3",
         "showlegend": false,
         "type": "scatter",
         "x": [
          0,
          1
         ],
         "y": [
          43,
          46
         ]
        },
        {
         "line": {
          "color": "rgb(94, 201, 97)",
          "width": 2
         },
         "mode": "lines+markers",
         "name": "Action 3",
         "showlegend": false,
         "type": "scatter",
         "x": [
          0,
          1
         ],
         "y": [
          45,
          48
         ]
        },
        {
         "line": {
          "color": "rgb(94, 201, 97)",
          "width": 2
         },
         "mode": "lines+markers",
         "name": "Action 3",
         "showlegend": false,
         "type": "scatter",
         "x": [
          0,
          1
         ],
         "y": [
          47,
          50
         ]
        },
        {
         "line": {
          "color": "rgb(94, 201, 97)",
          "width": 2
         },
         "mode": "lines+markers",
         "name": "Action 3",
         "showlegend": false,
         "type": "scatter",
         "x": [
          0,
          1
         ],
         "y": [
          52,
          55
         ]
        },
        {
         "line": {
          "color": "rgb(94, 201, 97)",
          "width": 2
         },
         "mode": "lines+markers",
         "name": "Action 3",
         "showlegend": false,
         "type": "scatter",
         "x": [
          0,
          1
         ],
         "y": [
          54,
          57
         ]
        },
        {
         "line": {
          "color": "rgb(94, 201, 97)",
          "width": 2
         },
         "mode": "lines+markers",
         "name": "Action 3",
         "showlegend": false,
         "type": "scatter",
         "x": [
          0,
          1
         ],
         "y": [
          60,
          63
         ]
        },
        {
         "line": {
          "color": "rgb(94, 201, 97)",
          "width": 2
         },
         "mode": "lines+markers",
         "name": "Action 3",
         "showlegend": false,
         "type": "scatter",
         "x": [
          0,
          1
         ],
         "y": [
          63,
          66
         ]
        },
        {
         "line": {
          "color": "rgb(94, 201, 97)",
          "width": 2
         },
         "mode": "lines+markers",
         "name": "Action 3",
         "showlegend": false,
         "type": "scatter",
         "x": [
          0,
          1
         ],
         "y": [
          66,
          69
         ]
        },
        {
         "line": {
          "color": "rgb(94, 201, 97)",
          "width": 2
         },
         "mode": "lines+markers",
         "name": "Action 3",
         "showlegend": false,
         "type": "scatter",
         "x": [
          0,
          1
         ],
         "y": [
          67,
          70
         ]
        },
        {
         "line": {
          "color": "rgb(94, 201, 97)",
          "width": 2
         },
         "mode": "lines+markers",
         "name": "Action 3",
         "showlegend": false,
         "type": "scatter",
         "x": [
          0,
          1
         ],
         "y": [
          70,
          73
         ]
        },
        {
         "line": {
          "color": "rgb(94, 201, 97)",
          "width": 2
         },
         "mode": "lines+markers",
         "name": "Action 3",
         "showlegend": false,
         "type": "scatter",
         "x": [
          0,
          1
         ],
         "y": [
          74,
          77
         ]
        },
        {
         "line": {
          "color": "rgb(94, 201, 97)",
          "width": 2
         },
         "mode": "lines+markers",
         "name": "Action 3",
         "showlegend": false,
         "type": "scatter",
         "x": [
          0,
          1
         ],
         "y": [
          77,
          80
         ]
        },
        {
         "line": {
          "color": "rgb(94, 201, 97)",
          "width": 2
         },
         "mode": "lines+markers",
         "name": "Action 3",
         "showlegend": false,
         "type": "scatter",
         "x": [
          0,
          1
         ],
         "y": [
          78,
          81
         ]
        },
        {
         "line": {
          "color": "rgb(94, 201, 97)",
          "width": 2
         },
         "mode": "lines+markers",
         "name": "Action 3",
         "showlegend": false,
         "type": "scatter",
         "x": [
          0,
          1
         ],
         "y": [
          79,
          82
         ]
        },
        {
         "line": {
          "color": "rgb(94, 201, 97)",
          "width": 2
         },
         "mode": "lines+markers",
         "name": "Action 3",
         "showlegend": false,
         "type": "scatter",
         "x": [
          0,
          1
         ],
         "y": [
          81,
          84
         ]
        },
        {
         "line": {
          "color": "rgb(94, 201, 97)",
          "width": 2
         },
         "mode": "lines+markers",
         "name": "Action 3",
         "showlegend": false,
         "type": "scatter",
         "x": [
          0,
          1
         ],
         "y": [
          83,
          86
         ]
        },
        {
         "line": {
          "color": "rgb(94, 201, 97)",
          "width": 2
         },
         "mode": "lines+markers",
         "name": "Action 3",
         "showlegend": false,
         "type": "scatter",
         "x": [
          0,
          1
         ],
         "y": [
          85,
          88
         ]
        },
        {
         "line": {
          "color": "rgb(94, 201, 97)",
          "width": 2
         },
         "mode": "lines+markers",
         "name": "Action 3",
         "showlegend": false,
         "type": "scatter",
         "x": [
          0,
          1
         ],
         "y": [
          88,
          91
         ]
        },
        {
         "line": {
          "color": "rgb(94, 201, 97)",
          "width": 2
         },
         "mode": "lines+markers",
         "name": "Action 3",
         "showlegend": false,
         "type": "scatter",
         "x": [
          0,
          1
         ],
         "y": [
          91,
          94
         ]
        },
        {
         "line": {
          "color": "rgb(94, 201, 97)",
          "width": 2
         },
         "mode": "lines+markers",
         "name": "Action 3",
         "showlegend": false,
         "type": "scatter",
         "x": [
          0,
          1
         ],
         "y": [
          92,
          95
         ]
        },
        {
         "line": {
          "color": "rgb(94, 201, 97)",
          "width": 2
         },
         "mode": "lines+markers",
         "name": "Action 3",
         "showlegend": false,
         "type": "scatter",
         "x": [
          0,
          1
         ],
         "y": [
          94,
          97
         ]
        },
        {
         "line": {
          "color": "rgb(94, 201, 97)",
          "width": 2
         },
         "mode": "lines+markers",
         "name": "Action 3",
         "showlegend": false,
         "type": "scatter",
         "x": [
          0,
          1
         ],
         "y": [
          97,
          100
         ]
        },
        {
         "line": {
          "color": "rgb(94, 201, 97)",
          "width": 2
         },
         "mode": "lines+markers",
         "name": "Action 3",
         "showlegend": false,
         "type": "scatter",
         "x": [
          1,
          2
         ],
         "y": [
          3,
          6
         ]
        },
        {
         "line": {
          "color": "rgb(94, 201, 97)",
          "width": 2
         },
         "mode": "lines+markers",
         "name": "Action 3",
         "showlegend": false,
         "type": "scatter",
         "x": [
          1,
          2
         ],
         "y": [
          5,
          8
         ]
        },
        {
         "line": {
          "color": "rgb(94, 201, 97)",
          "width": 2
         },
         "mode": "lines+markers",
         "name": "Action 3",
         "showlegend": false,
         "type": "scatter",
         "x": [
          1,
          2
         ],
         "y": [
          11,
          14
         ]
        },
        {
         "line": {
          "color": "rgb(94, 201, 97)",
          "width": 2
         },
         "mode": "lines+markers",
         "name": "Action 3",
         "showlegend": false,
         "type": "scatter",
         "x": [
          1,
          2
         ],
         "y": [
          12,
          15
         ]
        },
        {
         "line": {
          "color": "rgb(94, 201, 97)",
          "width": 2
         },
         "mode": "lines+markers",
         "name": "Action 3",
         "showlegend": false,
         "type": "scatter",
         "x": [
          1,
          2
         ],
         "y": [
          13,
          16
         ]
        },
        {
         "line": {
          "color": "rgb(94, 201, 97)",
          "width": 2
         },
         "mode": "lines+markers",
         "name": "Action 3",
         "showlegend": false,
         "type": "scatter",
         "x": [
          1,
          2
         ],
         "y": [
          18,
          21
         ]
        },
        {
         "line": {
          "color": "rgb(94, 201, 97)",
          "width": 2
         },
         "mode": "lines+markers",
         "name": "Action 3",
         "showlegend": false,
         "type": "scatter",
         "x": [
          1,
          2
         ],
         "y": [
          24,
          27
         ]
        },
        {
         "line": {
          "color": "rgb(94, 201, 97)",
          "width": 2
         },
         "mode": "lines+markers",
         "name": "Action 3",
         "showlegend": false,
         "type": "scatter",
         "x": [
          1,
          2
         ],
         "y": [
          25,
          28
         ]
        },
        {
         "line": {
          "color": "rgb(94, 201, 97)",
          "width": 2
         },
         "mode": "lines+markers",
         "name": "Action 3",
         "showlegend": false,
         "type": "scatter",
         "x": [
          1,
          2
         ],
         "y": [
          28,
          31
         ]
        },
        {
         "line": {
          "color": "rgb(94, 201, 97)",
          "width": 2
         },
         "mode": "lines+markers",
         "name": "Action 3",
         "showlegend": false,
         "type": "scatter",
         "x": [
          1,
          2
         ],
         "y": [
          29,
          32
         ]
        },
        {
         "line": {
          "color": "rgb(94, 201, 97)",
          "width": 2
         },
         "mode": "lines+markers",
         "name": "Action 3",
         "showlegend": false,
         "type": "scatter",
         "x": [
          1,
          2
         ],
         "y": [
          30,
          33
         ]
        },
        {
         "line": {
          "color": "rgb(94, 201, 97)",
          "width": 2
         },
         "mode": "lines+markers",
         "name": "Action 3",
         "showlegend": false,
         "type": "scatter",
         "x": [
          1,
          2
         ],
         "y": [
          31,
          34
         ]
        },
        {
         "line": {
          "color": "rgb(94, 201, 97)",
          "width": 2
         },
         "mode": "lines+markers",
         "name": "Action 3",
         "showlegend": false,
         "type": "scatter",
         "x": [
          1,
          2
         ],
         "y": [
          34,
          37
         ]
        },
        {
         "line": {
          "color": "rgb(94, 201, 97)",
          "width": 2
         },
         "mode": "lines+markers",
         "name": "Action 3",
         "showlegend": false,
         "type": "scatter",
         "x": [
          1,
          2
         ],
         "y": [
          35,
          38
         ]
        },
        {
         "line": {
          "color": "rgb(94, 201, 97)",
          "width": 2
         },
         "mode": "lines+markers",
         "name": "Action 3",
         "showlegend": false,
         "type": "scatter",
         "x": [
          1,
          2
         ],
         "y": [
          36,
          39
         ]
        },
        {
         "line": {
          "color": "rgb(94, 201, 97)",
          "width": 2
         },
         "mode": "lines+markers",
         "name": "Action 3",
         "showlegend": false,
         "type": "scatter",
         "x": [
          1,
          2
         ],
         "y": [
          43,
          46
         ]
        },
        {
         "line": {
          "color": "rgb(94, 201, 97)",
          "width": 2
         },
         "mode": "lines+markers",
         "name": "Action 3",
         "showlegend": false,
         "type": "scatter",
         "x": [
          1,
          2
         ],
         "y": [
          44,
          47
         ]
        },
        {
         "line": {
          "color": "rgb(94, 201, 97)",
          "width": 2
         },
         "mode": "lines+markers",
         "name": "Action 3",
         "showlegend": false,
         "type": "scatter",
         "x": [
          1,
          2
         ],
         "y": [
          46,
          49
         ]
        },
        {
         "line": {
          "color": "rgb(94, 201, 97)",
          "width": 2
         },
         "mode": "lines+markers",
         "name": "Action 3",
         "showlegend": false,
         "type": "scatter",
         "x": [
          1,
          2
         ],
         "y": [
          47,
          50
         ]
        },
        {
         "line": {
          "color": "rgb(94, 201, 97)",
          "width": 2
         },
         "mode": "lines+markers",
         "name": "Action 3",
         "showlegend": false,
         "type": "scatter",
         "x": [
          1,
          2
         ],
         "y": [
          48,
          51
         ]
        },
        {
         "line": {
          "color": "rgb(94, 201, 97)",
          "width": 2
         },
         "mode": "lines+markers",
         "name": "Action 3",
         "showlegend": false,
         "type": "scatter",
         "x": [
          1,
          2
         ],
         "y": [
          49,
          52
         ]
        },
        {
         "line": {
          "color": "rgb(94, 201, 97)",
          "width": 2
         },
         "mode": "lines+markers",
         "name": "Action 3",
         "showlegend": false,
         "type": "scatter",
         "x": [
          1,
          2
         ],
         "y": [
          50,
          53
         ]
        },
        {
         "line": {
          "color": "rgb(94, 201, 97)",
          "width": 2
         },
         "mode": "lines+markers",
         "name": "Action 3",
         "showlegend": false,
         "type": "scatter",
         "x": [
          1,
          2
         ],
         "y": [
          52,
          55
         ]
        },
        {
         "line": {
          "color": "rgb(94, 201, 97)",
          "width": 2
         },
         "mode": "lines+markers",
         "name": "Action 3",
         "showlegend": false,
         "type": "scatter",
         "x": [
          1,
          2
         ],
         "y": [
          54,
          57
         ]
        },
        {
         "line": {
          "color": "rgb(94, 201, 97)",
          "width": 2
         },
         "mode": "lines+markers",
         "name": "Action 3",
         "showlegend": false,
         "type": "scatter",
         "x": [
          1,
          2
         ],
         "y": [
          56,
          59
         ]
        },
        {
         "line": {
          "color": "rgb(94, 201, 97)",
          "width": 2
         },
         "mode": "lines+markers",
         "name": "Action 3",
         "showlegend": false,
         "type": "scatter",
         "x": [
          1,
          2
         ],
         "y": [
          58,
          61
         ]
        },
        {
         "line": {
          "color": "rgb(94, 201, 97)",
          "width": 2
         },
         "mode": "lines+markers",
         "name": "Action 3",
         "showlegend": false,
         "type": "scatter",
         "x": [
          1,
          2
         ],
         "y": [
          60,
          63
         ]
        },
        {
         "line": {
          "color": "rgb(94, 201, 97)",
          "width": 2
         },
         "mode": "lines+markers",
         "name": "Action 3",
         "showlegend": false,
         "type": "scatter",
         "x": [
          1,
          2
         ],
         "y": [
          63,
          66
         ]
        },
        {
         "line": {
          "color": "rgb(94, 201, 97)",
          "width": 2
         },
         "mode": "lines+markers",
         "name": "Action 3",
         "showlegend": false,
         "type": "scatter",
         "x": [
          1,
          2
         ],
         "y": [
          68,
          71
         ]
        },
        {
         "line": {
          "color": "rgb(94, 201, 97)",
          "width": 2
         },
         "mode": "lines+markers",
         "name": "Action 3",
         "showlegend": false,
         "type": "scatter",
         "x": [
          1,
          2
         ],
         "y": [
          75,
          78
         ]
        },
        {
         "line": {
          "color": "rgb(94, 201, 97)",
          "width": 2
         },
         "mode": "lines+markers",
         "name": "Action 3",
         "showlegend": false,
         "type": "scatter",
         "x": [
          1,
          2
         ],
         "y": [
          77,
          80
         ]
        },
        {
         "line": {
          "color": "rgb(94, 201, 97)",
          "width": 2
         },
         "mode": "lines+markers",
         "name": "Action 3",
         "showlegend": false,
         "type": "scatter",
         "x": [
          1,
          2
         ],
         "y": [
          81,
          84
         ]
        },
        {
         "line": {
          "color": "rgb(94, 201, 97)",
          "width": 2
         },
         "mode": "lines+markers",
         "name": "Action 3",
         "showlegend": false,
         "type": "scatter",
         "x": [
          1,
          2
         ],
         "y": [
          83,
          86
         ]
        },
        {
         "line": {
          "color": "rgb(94, 201, 97)",
          "width": 2
         },
         "mode": "lines+markers",
         "name": "Action 3",
         "showlegend": false,
         "type": "scatter",
         "x": [
          1,
          2
         ],
         "y": [
          88,
          91
         ]
        },
        {
         "line": {
          "color": "rgb(94, 201, 97)",
          "width": 2
         },
         "mode": "lines+markers",
         "name": "Action 3",
         "showlegend": false,
         "type": "scatter",
         "x": [
          1,
          2
         ],
         "y": [
          89,
          92
         ]
        },
        {
         "line": {
          "color": "rgb(94, 201, 97)",
          "width": 2
         },
         "mode": "lines+markers",
         "name": "Action 3",
         "showlegend": false,
         "type": "scatter",
         "x": [
          1,
          2
         ],
         "y": [
          91,
          94
         ]
        },
        {
         "line": {
          "color": "rgb(94, 201, 97)",
          "width": 2
         },
         "mode": "lines+markers",
         "name": "Action 3",
         "showlegend": false,
         "type": "scatter",
         "x": [
          2,
          3
         ],
         "y": [
          6,
          9
         ]
        },
        {
         "line": {
          "color": "rgb(94, 201, 97)",
          "width": 2
         },
         "mode": "lines+markers",
         "name": "Action 3",
         "showlegend": false,
         "type": "scatter",
         "x": [
          2,
          3
         ],
         "y": [
          15,
          18
         ]
        },
        {
         "line": {
          "color": "rgb(94, 201, 97)",
          "width": 2
         },
         "mode": "lines+markers",
         "name": "Action 3",
         "showlegend": false,
         "type": "scatter",
         "x": [
          2,
          3
         ],
         "y": [
          22,
          25
         ]
        },
        {
         "line": {
          "color": "rgb(94, 201, 97)",
          "width": 2
         },
         "mode": "lines+markers",
         "name": "Action 3",
         "showlegend": false,
         "type": "scatter",
         "x": [
          2,
          3
         ],
         "y": [
          23,
          26
         ]
        },
        {
         "line": {
          "color": "rgb(94, 201, 97)",
          "width": 2
         },
         "mode": "lines+markers",
         "name": "Action 3",
         "showlegend": false,
         "type": "scatter",
         "x": [
          2,
          3
         ],
         "y": [
          24,
          27
         ]
        },
        {
         "line": {
          "color": "rgb(94, 201, 97)",
          "width": 2
         },
         "mode": "lines+markers",
         "name": "Action 3",
         "showlegend": false,
         "type": "scatter",
         "x": [
          2,
          3
         ],
         "y": [
          25,
          28
         ]
        },
        {
         "line": {
          "color": "rgb(94, 201, 97)",
          "width": 2
         },
         "mode": "lines+markers",
         "name": "Action 3",
         "showlegend": false,
         "type": "scatter",
         "x": [
          2,
          3
         ],
         "y": [
          27,
          30
         ]
        },
        {
         "line": {
          "color": "rgb(94, 201, 97)",
          "width": 2
         },
         "mode": "lines+markers",
         "name": "Action 3",
         "showlegend": false,
         "type": "scatter",
         "x": [
          2,
          3
         ],
         "y": [
          29,
          32
         ]
        },
        {
         "line": {
          "color": "rgb(94, 201, 97)",
          "width": 2
         },
         "mode": "lines+markers",
         "name": "Action 3",
         "showlegend": false,
         "type": "scatter",
         "x": [
          2,
          3
         ],
         "y": [
          31,
          34
         ]
        },
        {
         "line": {
          "color": "rgb(94, 201, 97)",
          "width": 2
         },
         "mode": "lines+markers",
         "name": "Action 3",
         "showlegend": false,
         "type": "scatter",
         "x": [
          2,
          3
         ],
         "y": [
          33,
          36
         ]
        },
        {
         "line": {
          "color": "rgb(94, 201, 97)",
          "width": 2
         },
         "mode": "lines+markers",
         "name": "Action 3",
         "showlegend": false,
         "type": "scatter",
         "x": [
          2,
          3
         ],
         "y": [
          34,
          37
         ]
        },
        {
         "line": {
          "color": "rgb(94, 201, 97)",
          "width": 2
         },
         "mode": "lines+markers",
         "name": "Action 3",
         "showlegend": false,
         "type": "scatter",
         "x": [
          2,
          3
         ],
         "y": [
          38,
          41
         ]
        },
        {
         "line": {
          "color": "rgb(94, 201, 97)",
          "width": 2
         },
         "mode": "lines+markers",
         "name": "Action 3",
         "showlegend": false,
         "type": "scatter",
         "x": [
          2,
          3
         ],
         "y": [
          39,
          42
         ]
        },
        {
         "line": {
          "color": "rgb(94, 201, 97)",
          "width": 2
         },
         "mode": "lines+markers",
         "name": "Action 3",
         "showlegend": false,
         "type": "scatter",
         "x": [
          2,
          3
         ],
         "y": [
          40,
          43
         ]
        },
        {
         "line": {
          "color": "rgb(94, 201, 97)",
          "width": 2
         },
         "mode": "lines+markers",
         "name": "Action 3",
         "showlegend": false,
         "type": "scatter",
         "x": [
          2,
          3
         ],
         "y": [
          43,
          46
         ]
        },
        {
         "line": {
          "color": "rgb(94, 201, 97)",
          "width": 2
         },
         "mode": "lines+markers",
         "name": "Action 3",
         "showlegend": false,
         "type": "scatter",
         "x": [
          2,
          3
         ],
         "y": [
          44,
          47
         ]
        },
        {
         "line": {
          "color": "rgb(94, 201, 97)",
          "width": 2
         },
         "mode": "lines+markers",
         "name": "Action 3",
         "showlegend": false,
         "type": "scatter",
         "x": [
          2,
          3
         ],
         "y": [
          47,
          50
         ]
        },
        {
         "line": {
          "color": "rgb(94, 201, 97)",
          "width": 2
         },
         "mode": "lines+markers",
         "name": "Action 3",
         "showlegend": false,
         "type": "scatter",
         "x": [
          2,
          3
         ],
         "y": [
          48,
          51
         ]
        },
        {
         "line": {
          "color": "rgb(94, 201, 97)",
          "width": 2
         },
         "mode": "lines+markers",
         "name": "Action 3",
         "showlegend": false,
         "type": "scatter",
         "x": [
          2,
          3
         ],
         "y": [
          49,
          52
         ]
        },
        {
         "line": {
          "color": "rgb(94, 201, 97)",
          "width": 2
         },
         "mode": "lines+markers",
         "name": "Action 3",
         "showlegend": false,
         "type": "scatter",
         "x": [
          2,
          3
         ],
         "y": [
          52,
          55
         ]
        },
        {
         "line": {
          "color": "rgb(94, 201, 97)",
          "width": 2
         },
         "mode": "lines+markers",
         "name": "Action 3",
         "showlegend": false,
         "type": "scatter",
         "x": [
          2,
          3
         ],
         "y": [
          53,
          56
         ]
        },
        {
         "line": {
          "color": "rgb(94, 201, 97)",
          "width": 2
         },
         "mode": "lines+markers",
         "name": "Action 3",
         "showlegend": false,
         "type": "scatter",
         "x": [
          2,
          3
         ],
         "y": [
          54,
          57
         ]
        },
        {
         "line": {
          "color": "rgb(94, 201, 97)",
          "width": 2
         },
         "mode": "lines+markers",
         "name": "Action 3",
         "showlegend": false,
         "type": "scatter",
         "x": [
          2,
          3
         ],
         "y": [
          56,
          59
         ]
        },
        {
         "line": {
          "color": "rgb(94, 201, 97)",
          "width": 2
         },
         "mode": "lines+markers",
         "name": "Action 3",
         "showlegend": false,
         "type": "scatter",
         "x": [
          2,
          3
         ],
         "y": [
          58,
          61
         ]
        },
        {
         "line": {
          "color": "rgb(94, 201, 97)",
          "width": 2
         },
         "mode": "lines+markers",
         "name": "Action 3",
         "showlegend": false,
         "type": "scatter",
         "x": [
          2,
          3
         ],
         "y": [
          59,
          62
         ]
        },
        {
         "line": {
          "color": "rgb(94, 201, 97)",
          "width": 2
         },
         "mode": "lines+markers",
         "name": "Action 3",
         "showlegend": false,
         "type": "scatter",
         "x": [
          2,
          3
         ],
         "y": [
          60,
          63
         ]
        },
        {
         "line": {
          "color": "rgb(94, 201, 97)",
          "width": 2
         },
         "mode": "lines+markers",
         "name": "Action 3",
         "showlegend": false,
         "type": "scatter",
         "x": [
          2,
          3
         ],
         "y": [
          63,
          66
         ]
        },
        {
         "line": {
          "color": "rgb(94, 201, 97)",
          "width": 2
         },
         "mode": "lines+markers",
         "name": "Action 3",
         "showlegend": false,
         "type": "scatter",
         "x": [
          2,
          3
         ],
         "y": [
          64,
          67
         ]
        },
        {
         "line": {
          "color": "rgb(94, 201, 97)",
          "width": 2
         },
         "mode": "lines+markers",
         "name": "Action 3",
         "showlegend": false,
         "type": "scatter",
         "x": [
          2,
          3
         ],
         "y": [
          70,
          73
         ]
        },
        {
         "line": {
          "color": "rgb(94, 201, 97)",
          "width": 2
         },
         "mode": "lines+markers",
         "name": "Action 3",
         "showlegend": false,
         "type": "scatter",
         "x": [
          2,
          3
         ],
         "y": [
          74,
          77
         ]
        },
        {
         "line": {
          "color": "rgb(94, 201, 97)",
          "width": 2
         },
         "mode": "lines+markers",
         "name": "Action 3",
         "showlegend": false,
         "type": "scatter",
         "x": [
          2,
          3
         ],
         "y": [
          76,
          79
         ]
        },
        {
         "line": {
          "color": "rgb(94, 201, 97)",
          "width": 2
         },
         "mode": "lines+markers",
         "name": "Action 3",
         "showlegend": false,
         "type": "scatter",
         "x": [
          2,
          3
         ],
         "y": [
          78,
          81
         ]
        },
        {
         "line": {
          "color": "rgb(94, 201, 97)",
          "width": 2
         },
         "mode": "lines+markers",
         "name": "Action 3",
         "showlegend": false,
         "type": "scatter",
         "x": [
          2,
          3
         ],
         "y": [
          79,
          82
         ]
        },
        {
         "line": {
          "color": "rgb(94, 201, 97)",
          "width": 2
         },
         "mode": "lines+markers",
         "name": "Action 3",
         "showlegend": false,
         "type": "scatter",
         "x": [
          2,
          3
         ],
         "y": [
          81,
          84
         ]
        },
        {
         "line": {
          "color": "rgb(94, 201, 97)",
          "width": 2
         },
         "mode": "lines+markers",
         "name": "Action 3",
         "showlegend": false,
         "type": "scatter",
         "x": [
          2,
          3
         ],
         "y": [
          83,
          86
         ]
        },
        {
         "line": {
          "color": "rgb(94, 201, 97)",
          "width": 2
         },
         "mode": "lines+markers",
         "name": "Action 3",
         "showlegend": false,
         "type": "scatter",
         "x": [
          2,
          3
         ],
         "y": [
          85,
          88
         ]
        },
        {
         "line": {
          "color": "rgb(94, 201, 97)",
          "width": 2
         },
         "mode": "lines+markers",
         "name": "Action 3",
         "showlegend": false,
         "type": "scatter",
         "x": [
          2,
          3
         ],
         "y": [
          89,
          92
         ]
        },
        {
         "line": {
          "color": "rgb(94, 201, 97)",
          "width": 2
         },
         "mode": "lines+markers",
         "name": "Action 3",
         "showlegend": false,
         "type": "scatter",
         "x": [
          2,
          3
         ],
         "y": [
          91,
          94
         ]
        },
        {
         "line": {
          "color": "rgb(94, 201, 97)",
          "width": 2
         },
         "mode": "lines+markers",
         "name": "Action 3",
         "showlegend": false,
         "type": "scatter",
         "x": [
          2,
          3
         ],
         "y": [
          93,
          96
         ]
        },
        {
         "line": {
          "color": "rgb(94, 201, 97)",
          "width": 2
         },
         "mode": "lines+markers",
         "name": "Action 3",
         "showlegend": false,
         "type": "scatter",
         "x": [
          3,
          4
         ],
         "y": [
          2,
          5
         ]
        },
        {
         "line": {
          "color": "rgb(94, 201, 97)",
          "width": 2
         },
         "mode": "lines+markers",
         "name": "Action 3",
         "showlegend": false,
         "type": "scatter",
         "x": [
          3,
          4
         ],
         "y": [
          5,
          8
         ]
        },
        {
         "line": {
          "color": "rgb(94, 201, 97)",
          "width": 2
         },
         "mode": "lines+markers",
         "name": "Action 3",
         "showlegend": false,
         "type": "scatter",
         "x": [
          3,
          4
         ],
         "y": [
          6,
          9
         ]
        },
        {
         "line": {
          "color": "rgb(94, 201, 97)",
          "width": 2
         },
         "mode": "lines+markers",
         "name": "Action 3",
         "showlegend": false,
         "type": "scatter",
         "x": [
          3,
          4
         ],
         "y": [
          11,
          14
         ]
        },
        {
         "line": {
          "color": "rgb(94, 201, 97)",
          "width": 2
         },
         "mode": "lines+markers",
         "name": "Action 3",
         "showlegend": false,
         "type": "scatter",
         "x": [
          3,
          4
         ],
         "y": [
          18,
          21
         ]
        },
        {
         "line": {
          "color": "rgb(94, 201, 97)",
          "width": 2
         },
         "mode": "lines+markers",
         "name": "Action 3",
         "showlegend": false,
         "type": "scatter",
         "x": [
          3,
          4
         ],
         "y": [
          19,
          22
         ]
        },
        {
         "line": {
          "color": "rgb(94, 201, 97)",
          "width": 2
         },
         "mode": "lines+markers",
         "name": "Action 3",
         "showlegend": false,
         "type": "scatter",
         "x": [
          3,
          4
         ],
         "y": [
          24,
          27
         ]
        },
        {
         "line": {
          "color": "rgb(94, 201, 97)",
          "width": 2
         },
         "mode": "lines+markers",
         "name": "Action 3",
         "showlegend": false,
         "type": "scatter",
         "x": [
          3,
          4
         ],
         "y": [
          25,
          28
         ]
        },
        {
         "line": {
          "color": "rgb(94, 201, 97)",
          "width": 2
         },
         "mode": "lines+markers",
         "name": "Action 3",
         "showlegend": false,
         "type": "scatter",
         "x": [
          3,
          4
         ],
         "y": [
          30,
          33
         ]
        },
        {
         "line": {
          "color": "rgb(94, 201, 97)",
          "width": 2
         },
         "mode": "lines+markers",
         "name": "Action 3",
         "showlegend": false,
         "type": "scatter",
         "x": [
          3,
          4
         ],
         "y": [
          34,
          37
         ]
        },
        {
         "line": {
          "color": "rgb(94, 201, 97)",
          "width": 2
         },
         "mode": "lines+markers",
         "name": "Action 3",
         "showlegend": false,
         "type": "scatter",
         "x": [
          3,
          4
         ],
         "y": [
          35,
          38
         ]
        },
        {
         "line": {
          "color": "rgb(94, 201, 97)",
          "width": 2
         },
         "mode": "lines+markers",
         "name": "Action 3",
         "showlegend": false,
         "type": "scatter",
         "x": [
          3,
          4
         ],
         "y": [
          38,
          41
         ]
        },
        {
         "line": {
          "color": "rgb(94, 201, 97)",
          "width": 2
         },
         "mode": "lines+markers",
         "name": "Action 3",
         "showlegend": false,
         "type": "scatter",
         "x": [
          3,
          4
         ],
         "y": [
          39,
          42
         ]
        },
        {
         "line": {
          "color": "rgb(94, 201, 97)",
          "width": 2
         },
         "mode": "lines+markers",
         "name": "Action 3",
         "showlegend": false,
         "type": "scatter",
         "x": [
          3,
          4
         ],
         "y": [
          40,
          43
         ]
        },
        {
         "line": {
          "color": "rgb(94, 201, 97)",
          "width": 2
         },
         "mode": "lines+markers",
         "name": "Action 3",
         "showlegend": false,
         "type": "scatter",
         "x": [
          3,
          4
         ],
         "y": [
          45,
          48
         ]
        },
        {
         "line": {
          "color": "rgb(94, 201, 97)",
          "width": 2
         },
         "mode": "lines+markers",
         "name": "Action 3",
         "showlegend": false,
         "type": "scatter",
         "x": [
          3,
          4
         ],
         "y": [
          47,
          50
         ]
        },
        {
         "line": {
          "color": "rgb(94, 201, 97)",
          "width": 2
         },
         "mode": "lines+markers",
         "name": "Action 3",
         "showlegend": false,
         "type": "scatter",
         "x": [
          3,
          4
         ],
         "y": [
          50,
          53
         ]
        },
        {
         "line": {
          "color": "rgb(94, 201, 97)",
          "width": 2
         },
         "mode": "lines+markers",
         "name": "Action 3",
         "showlegend": false,
         "type": "scatter",
         "x": [
          3,
          4
         ],
         "y": [
          51,
          54
         ]
        },
        {
         "line": {
          "color": "rgb(94, 201, 97)",
          "width": 2
         },
         "mode": "lines+markers",
         "name": "Action 3",
         "showlegend": false,
         "type": "scatter",
         "x": [
          3,
          4
         ],
         "y": [
          52,
          55
         ]
        },
        {
         "line": {
          "color": "rgb(94, 201, 97)",
          "width": 2
         },
         "mode": "lines+markers",
         "name": "Action 3",
         "showlegend": false,
         "type": "scatter",
         "x": [
          3,
          4
         ],
         "y": [
          53,
          56
         ]
        },
        {
         "line": {
          "color": "rgb(94, 201, 97)",
          "width": 2
         },
         "mode": "lines+markers",
         "name": "Action 3",
         "showlegend": false,
         "type": "scatter",
         "x": [
          3,
          4
         ],
         "y": [
          54,
          57
         ]
        },
        {
         "line": {
          "color": "rgb(94, 201, 97)",
          "width": 2
         },
         "mode": "lines+markers",
         "name": "Action 3",
         "showlegend": false,
         "type": "scatter",
         "x": [
          3,
          4
         ],
         "y": [
          58,
          61
         ]
        },
        {
         "line": {
          "color": "rgb(94, 201, 97)",
          "width": 2
         },
         "mode": "lines+markers",
         "name": "Action 3",
         "showlegend": false,
         "type": "scatter",
         "x": [
          3,
          4
         ],
         "y": [
          59,
          62
         ]
        },
        {
         "line": {
          "color": "rgb(94, 201, 97)",
          "width": 2
         },
         "mode": "lines+markers",
         "name": "Action 3",
         "showlegend": false,
         "type": "scatter",
         "x": [
          3,
          4
         ],
         "y": [
          60,
          63
         ]
        },
        {
         "line": {
          "color": "rgb(94, 201, 97)",
          "width": 2
         },
         "mode": "lines+markers",
         "name": "Action 3",
         "showlegend": false,
         "type": "scatter",
         "x": [
          3,
          4
         ],
         "y": [
          63,
          66
         ]
        },
        {
         "line": {
          "color": "rgb(94, 201, 97)",
          "width": 2
         },
         "mode": "lines+markers",
         "name": "Action 3",
         "showlegend": false,
         "type": "scatter",
         "x": [
          3,
          4
         ],
         "y": [
          67,
          70
         ]
        },
        {
         "line": {
          "color": "rgb(94, 201, 97)",
          "width": 2
         },
         "mode": "lines+markers",
         "name": "Action 3",
         "showlegend": false,
         "type": "scatter",
         "x": [
          3,
          4
         ],
         "y": [
          70,
          73
         ]
        },
        {
         "line": {
          "color": "rgb(94, 201, 97)",
          "width": 2
         },
         "mode": "lines+markers",
         "name": "Action 3",
         "showlegend": false,
         "type": "scatter",
         "x": [
          3,
          4
         ],
         "y": [
          72,
          75
         ]
        },
        {
         "line": {
          "color": "rgb(94, 201, 97)",
          "width": 2
         },
         "mode": "lines+markers",
         "name": "Action 3",
         "showlegend": false,
         "type": "scatter",
         "x": [
          3,
          4
         ],
         "y": [
          74,
          77
         ]
        },
        {
         "line": {
          "color": "rgb(94, 201, 97)",
          "width": 2
         },
         "mode": "lines+markers",
         "name": "Action 3",
         "showlegend": false,
         "type": "scatter",
         "x": [
          3,
          4
         ],
         "y": [
          75,
          78
         ]
        },
        {
         "line": {
          "color": "rgb(94, 201, 97)",
          "width": 2
         },
         "mode": "lines+markers",
         "name": "Action 3",
         "showlegend": false,
         "type": "scatter",
         "x": [
          3,
          4
         ],
         "y": [
          76,
          79
         ]
        },
        {
         "line": {
          "color": "rgb(94, 201, 97)",
          "width": 2
         },
         "mode": "lines+markers",
         "name": "Action 3",
         "showlegend": false,
         "type": "scatter",
         "x": [
          3,
          4
         ],
         "y": [
          77,
          80
         ]
        },
        {
         "line": {
          "color": "rgb(94, 201, 97)",
          "width": 2
         },
         "mode": "lines+markers",
         "name": "Action 3",
         "showlegend": false,
         "type": "scatter",
         "x": [
          3,
          4
         ],
         "y": [
          78,
          81
         ]
        },
        {
         "line": {
          "color": "rgb(94, 201, 97)",
          "width": 2
         },
         "mode": "lines+markers",
         "name": "Action 3",
         "showlegend": false,
         "type": "scatter",
         "x": [
          3,
          4
         ],
         "y": [
          81,
          84
         ]
        },
        {
         "line": {
          "color": "rgb(94, 201, 97)",
          "width": 2
         },
         "mode": "lines+markers",
         "name": "Action 3",
         "showlegend": false,
         "type": "scatter",
         "x": [
          3,
          4
         ],
         "y": [
          84,
          87
         ]
        },
        {
         "line": {
          "color": "rgb(94, 201, 97)",
          "width": 2
         },
         "mode": "lines+markers",
         "name": "Action 3",
         "showlegend": false,
         "type": "scatter",
         "x": [
          3,
          4
         ],
         "y": [
          85,
          88
         ]
        },
        {
         "line": {
          "color": "rgb(94, 201, 97)",
          "width": 2
         },
         "mode": "lines+markers",
         "name": "Action 3",
         "showlegend": false,
         "type": "scatter",
         "x": [
          3,
          4
         ],
         "y": [
          87,
          90
         ]
        },
        {
         "line": {
          "color": "rgb(94, 201, 97)",
          "width": 2
         },
         "mode": "lines+markers",
         "name": "Action 3",
         "showlegend": false,
         "type": "scatter",
         "x": [
          3,
          4
         ],
         "y": [
          88,
          91
         ]
        },
        {
         "line": {
          "color": "rgb(94, 201, 97)",
          "width": 2
         },
         "mode": "lines+markers",
         "name": "Action 3",
         "showlegend": false,
         "type": "scatter",
         "x": [
          3,
          4
         ],
         "y": [
          89,
          92
         ]
        },
        {
         "line": {
          "color": "rgb(94, 201, 97)",
          "width": 2
         },
         "mode": "lines+markers",
         "name": "Action 3",
         "showlegend": false,
         "type": "scatter",
         "x": [
          3,
          4
         ],
         "y": [
          93,
          96
         ]
        },
        {
         "line": {
          "color": "rgb(94, 201, 97)",
          "width": 2
         },
         "mode": "lines+markers",
         "name": "Action 3",
         "showlegend": false,
         "type": "scatter",
         "x": [
          4,
          5
         ],
         "y": [
          3,
          6
         ]
        },
        {
         "line": {
          "color": "rgb(94, 201, 97)",
          "width": 2
         },
         "mode": "lines+markers",
         "name": "Action 3",
         "showlegend": false,
         "type": "scatter",
         "x": [
          4,
          5
         ],
         "y": [
          15,
          18
         ]
        },
        {
         "line": {
          "color": "rgb(94, 201, 97)",
          "width": 2
         },
         "mode": "lines+markers",
         "name": "Action 3",
         "showlegend": false,
         "type": "scatter",
         "x": [
          4,
          5
         ],
         "y": [
          26,
          29
         ]
        },
        {
         "line": {
          "color": "rgb(94, 201, 97)",
          "width": 2
         },
         "mode": "lines+markers",
         "name": "Action 3",
         "showlegend": false,
         "type": "scatter",
         "x": [
          4,
          5
         ],
         "y": [
          27,
          30
         ]
        },
        {
         "line": {
          "color": "rgb(94, 201, 97)",
          "width": 2
         },
         "mode": "lines+markers",
         "name": "Action 3",
         "showlegend": false,
         "type": "scatter",
         "x": [
          4,
          5
         ],
         "y": [
          29,
          32
         ]
        },
        {
         "line": {
          "color": "rgb(94, 201, 97)",
          "width": 2
         },
         "mode": "lines+markers",
         "name": "Action 3",
         "showlegend": false,
         "type": "scatter",
         "x": [
          4,
          5
         ],
         "y": [
          33,
          36
         ]
        },
        {
         "line": {
          "color": "rgb(94, 201, 97)",
          "width": 2
         },
         "mode": "lines+markers",
         "name": "Action 3",
         "showlegend": false,
         "type": "scatter",
         "x": [
          4,
          5
         ],
         "y": [
          34,
          37
         ]
        },
        {
         "line": {
          "color": "rgb(94, 201, 97)",
          "width": 2
         },
         "mode": "lines+markers",
         "name": "Action 3",
         "showlegend": false,
         "type": "scatter",
         "x": [
          4,
          5
         ],
         "y": [
          37,
          40
         ]
        },
        {
         "line": {
          "color": "rgb(94, 201, 97)",
          "width": 2
         },
         "mode": "lines+markers",
         "name": "Action 3",
         "showlegend": false,
         "type": "scatter",
         "x": [
          4,
          5
         ],
         "y": [
          40,
          43
         ]
        },
        {
         "line": {
          "color": "rgb(94, 201, 97)",
          "width": 2
         },
         "mode": "lines+markers",
         "name": "Action 3",
         "showlegend": false,
         "type": "scatter",
         "x": [
          4,
          5
         ],
         "y": [
          42,
          45
         ]
        },
        {
         "line": {
          "color": "rgb(94, 201, 97)",
          "width": 2
         },
         "mode": "lines+markers",
         "name": "Action 3",
         "showlegend": false,
         "type": "scatter",
         "x": [
          4,
          5
         ],
         "y": [
          46,
          49
         ]
        },
        {
         "line": {
          "color": "rgb(94, 201, 97)",
          "width": 2
         },
         "mode": "lines+markers",
         "name": "Action 3",
         "showlegend": false,
         "type": "scatter",
         "x": [
          4,
          5
         ],
         "y": [
          48,
          51
         ]
        },
        {
         "line": {
          "color": "rgb(94, 201, 97)",
          "width": 2
         },
         "mode": "lines+markers",
         "name": "Action 3",
         "showlegend": false,
         "type": "scatter",
         "x": [
          4,
          5
         ],
         "y": [
          50,
          53
         ]
        },
        {
         "line": {
          "color": "rgb(94, 201, 97)",
          "width": 2
         },
         "mode": "lines+markers",
         "name": "Action 3",
         "showlegend": false,
         "type": "scatter",
         "x": [
          4,
          5
         ],
         "y": [
          51,
          54
         ]
        },
        {
         "line": {
          "color": "rgb(94, 201, 97)",
          "width": 2
         },
         "mode": "lines+markers",
         "name": "Action 3",
         "showlegend": false,
         "type": "scatter",
         "x": [
          4,
          5
         ],
         "y": [
          52,
          55
         ]
        },
        {
         "line": {
          "color": "rgb(94, 201, 97)",
          "width": 2
         },
         "mode": "lines+markers",
         "name": "Action 3",
         "showlegend": false,
         "type": "scatter",
         "x": [
          4,
          5
         ],
         "y": [
          55,
          58
         ]
        },
        {
         "line": {
          "color": "rgb(94, 201, 97)",
          "width": 2
         },
         "mode": "lines+markers",
         "name": "Action 3",
         "showlegend": false,
         "type": "scatter",
         "x": [
          4,
          5
         ],
         "y": [
          60,
          63
         ]
        },
        {
         "line": {
          "color": "rgb(94, 201, 97)",
          "width": 2
         },
         "mode": "lines+markers",
         "name": "Action 3",
         "showlegend": false,
         "type": "scatter",
         "x": [
          4,
          5
         ],
         "y": [
          63,
          66
         ]
        },
        {
         "line": {
          "color": "rgb(94, 201, 97)",
          "width": 2
         },
         "mode": "lines+markers",
         "name": "Action 3",
         "showlegend": false,
         "type": "scatter",
         "x": [
          4,
          5
         ],
         "y": [
          68,
          71
         ]
        },
        {
         "line": {
          "color": "rgb(94, 201, 97)",
          "width": 2
         },
         "mode": "lines+markers",
         "name": "Action 3",
         "showlegend": false,
         "type": "scatter",
         "x": [
          4,
          5
         ],
         "y": [
          72,
          75
         ]
        },
        {
         "line": {
          "color": "rgb(94, 201, 97)",
          "width": 2
         },
         "mode": "lines+markers",
         "name": "Action 3",
         "showlegend": false,
         "type": "scatter",
         "x": [
          4,
          5
         ],
         "y": [
          78,
          81
         ]
        },
        {
         "line": {
          "color": "rgb(94, 201, 97)",
          "width": 2
         },
         "mode": "lines+markers",
         "name": "Action 3",
         "showlegend": false,
         "type": "scatter",
         "x": [
          4,
          5
         ],
         "y": [
          81,
          84
         ]
        },
        {
         "line": {
          "color": "rgb(94, 201, 97)",
          "width": 2
         },
         "mode": "lines+markers",
         "name": "Action 3",
         "showlegend": false,
         "type": "scatter",
         "x": [
          4,
          5
         ],
         "y": [
          87,
          90
         ]
        },
        {
         "line": {
          "color": "rgb(94, 201, 97)",
          "width": 2
         },
         "mode": "lines+markers",
         "name": "Action 3",
         "showlegend": false,
         "type": "scatter",
         "x": [
          4,
          5
         ],
         "y": [
          88,
          91
         ]
        },
        {
         "line": {
          "color": "rgb(94, 201, 97)",
          "width": 2
         },
         "mode": "lines+markers",
         "name": "Action 3",
         "showlegend": false,
         "type": "scatter",
         "x": [
          4,
          5
         ],
         "y": [
          89,
          92
         ]
        },
        {
         "line": {
          "color": "rgb(94, 201, 97)",
          "width": 2
         },
         "mode": "lines+markers",
         "name": "Action 3",
         "showlegend": false,
         "type": "scatter",
         "x": [
          4,
          5
         ],
         "y": [
          91,
          94
         ]
        },
        {
         "line": {
          "color": "rgb(94, 201, 97)",
          "width": 2
         },
         "mode": "lines+markers",
         "name": "Action 3",
         "showlegend": false,
         "type": "scatter",
         "x": [
          5,
          6
         ],
         "y": [
          3,
          6
         ]
        },
        {
         "line": {
          "color": "rgb(94, 201, 97)",
          "width": 2
         },
         "mode": "lines+markers",
         "name": "Action 3",
         "showlegend": false,
         "type": "scatter",
         "x": [
          5,
          6
         ],
         "y": [
          29,
          32
         ]
        },
        {
         "line": {
          "color": "rgb(94, 201, 97)",
          "width": 2
         },
         "mode": "lines+markers",
         "name": "Action 3",
         "showlegend": false,
         "type": "scatter",
         "x": [
          5,
          6
         ],
         "y": [
          30,
          33
         ]
        },
        {
         "line": {
          "color": "rgb(94, 201, 97)",
          "width": 2
         },
         "mode": "lines+markers",
         "name": "Action 3",
         "showlegend": false,
         "type": "scatter",
         "x": [
          5,
          6
         ],
         "y": [
          37,
          40
         ]
        },
        {
         "line": {
          "color": "rgb(94, 201, 97)",
          "width": 2
         },
         "mode": "lines+markers",
         "name": "Action 3",
         "showlegend": false,
         "type": "scatter",
         "x": [
          5,
          6
         ],
         "y": [
          38,
          41
         ]
        },
        {
         "line": {
          "color": "rgb(94, 201, 97)",
          "width": 2
         },
         "mode": "lines+markers",
         "name": "Action 3",
         "showlegend": false,
         "type": "scatter",
         "x": [
          5,
          6
         ],
         "y": [
          47,
          50
         ]
        },
        {
         "line": {
          "color": "rgb(94, 201, 97)",
          "width": 2
         },
         "mode": "lines+markers",
         "name": "Action 3",
         "showlegend": false,
         "type": "scatter",
         "x": [
          5,
          6
         ],
         "y": [
          49,
          52
         ]
        },
        {
         "line": {
          "color": "rgb(94, 201, 97)",
          "width": 2
         },
         "mode": "lines+markers",
         "name": "Action 3",
         "showlegend": false,
         "type": "scatter",
         "x": [
          5,
          6
         ],
         "y": [
          50,
          53
         ]
        },
        {
         "line": {
          "color": "rgb(94, 201, 97)",
          "width": 2
         },
         "mode": "lines+markers",
         "name": "Action 3",
         "showlegend": false,
         "type": "scatter",
         "x": [
          5,
          6
         ],
         "y": [
          52,
          55
         ]
        },
        {
         "line": {
          "color": "rgb(94, 201, 97)",
          "width": 2
         },
         "mode": "lines+markers",
         "name": "Action 3",
         "showlegend": false,
         "type": "scatter",
         "x": [
          5,
          6
         ],
         "y": [
          54,
          57
         ]
        },
        {
         "line": {
          "color": "rgb(94, 201, 97)",
          "width": 2
         },
         "mode": "lines+markers",
         "name": "Action 3",
         "showlegend": false,
         "type": "scatter",
         "x": [
          5,
          6
         ],
         "y": [
          57,
          60
         ]
        },
        {
         "line": {
          "color": "rgb(94, 201, 97)",
          "width": 2
         },
         "mode": "lines+markers",
         "name": "Action 3",
         "showlegend": false,
         "type": "scatter",
         "x": [
          5,
          6
         ],
         "y": [
          59,
          62
         ]
        },
        {
         "line": {
          "color": "rgb(94, 201, 97)",
          "width": 2
         },
         "mode": "lines+markers",
         "name": "Action 3",
         "showlegend": false,
         "type": "scatter",
         "x": [
          5,
          6
         ],
         "y": [
          60,
          63
         ]
        },
        {
         "line": {
          "color": "rgb(94, 201, 97)",
          "width": 2
         },
         "mode": "lines+markers",
         "name": "Action 3",
         "showlegend": false,
         "type": "scatter",
         "x": [
          5,
          6
         ],
         "y": [
          68,
          71
         ]
        },
        {
         "line": {
          "color": "rgb(94, 201, 97)",
          "width": 2
         },
         "mode": "lines+markers",
         "name": "Action 3",
         "showlegend": false,
         "type": "scatter",
         "x": [
          5,
          6
         ],
         "y": [
          70,
          73
         ]
        },
        {
         "line": {
          "color": "rgb(94, 201, 97)",
          "width": 2
         },
         "mode": "lines+markers",
         "name": "Action 3",
         "showlegend": false,
         "type": "scatter",
         "x": [
          5,
          6
         ],
         "y": [
          72,
          75
         ]
        },
        {
         "line": {
          "color": "rgb(94, 201, 97)",
          "width": 2
         },
         "mode": "lines+markers",
         "name": "Action 3",
         "showlegend": false,
         "type": "scatter",
         "x": [
          5,
          6
         ],
         "y": [
          74,
          77
         ]
        },
        {
         "line": {
          "color": "rgb(94, 201, 97)",
          "width": 2
         },
         "mode": "lines+markers",
         "name": "Action 3",
         "showlegend": false,
         "type": "scatter",
         "x": [
          5,
          6
         ],
         "y": [
          77,
          80
         ]
        },
        {
         "line": {
          "color": "rgb(94, 201, 97)",
          "width": 2
         },
         "mode": "lines+markers",
         "name": "Action 3",
         "showlegend": false,
         "type": "scatter",
         "x": [
          5,
          6
         ],
         "y": [
          78,
          81
         ]
        },
        {
         "line": {
          "color": "rgb(94, 201, 97)",
          "width": 2
         },
         "mode": "lines+markers",
         "name": "Action 3",
         "showlegend": false,
         "type": "scatter",
         "x": [
          5,
          6
         ],
         "y": [
          81,
          84
         ]
        },
        {
         "line": {
          "color": "rgb(94, 201, 97)",
          "width": 2
         },
         "mode": "lines+markers",
         "name": "Action 3",
         "showlegend": false,
         "type": "scatter",
         "x": [
          5,
          6
         ],
         "y": [
          87,
          90
         ]
        },
        {
         "line": {
          "color": "rgb(94, 201, 97)",
          "width": 2
         },
         "mode": "lines+markers",
         "name": "Action 3",
         "showlegend": false,
         "type": "scatter",
         "x": [
          5,
          6
         ],
         "y": [
          88,
          91
         ]
        },
        {
         "line": {
          "color": "rgb(94, 201, 97)",
          "width": 2
         },
         "mode": "lines+markers",
         "name": "Action 3",
         "showlegend": false,
         "type": "scatter",
         "x": [
          5,
          6
         ],
         "y": [
          91,
          94
         ]
        },
        {
         "line": {
          "color": "rgb(94, 201, 97)",
          "width": 2
         },
         "mode": "lines+markers",
         "name": "Action 3",
         "showlegend": false,
         "type": "scatter",
         "x": [
          5,
          6
         ],
         "y": [
          93,
          96
         ]
        },
        {
         "line": {
          "color": "rgb(94, 201, 97)",
          "width": 2
         },
         "mode": "lines+markers",
         "name": "Action 3",
         "showlegend": false,
         "type": "scatter",
         "x": [
          6,
          7
         ],
         "y": [
          26,
          29
         ]
        },
        {
         "line": {
          "color": "rgb(94, 201, 97)",
          "width": 2
         },
         "mode": "lines+markers",
         "name": "Action 3",
         "showlegend": false,
         "type": "scatter",
         "x": [
          6,
          7
         ],
         "y": [
          39,
          42
         ]
        },
        {
         "line": {
          "color": "rgb(94, 201, 97)",
          "width": 2
         },
         "mode": "lines+markers",
         "name": "Action 3",
         "showlegend": false,
         "type": "scatter",
         "x": [
          6,
          7
         ],
         "y": [
          42,
          45
         ]
        },
        {
         "line": {
          "color": "rgb(94, 201, 97)",
          "width": 2
         },
         "mode": "lines+markers",
         "name": "Action 3",
         "showlegend": false,
         "type": "scatter",
         "x": [
          6,
          7
         ],
         "y": [
          46,
          49
         ]
        },
        {
         "line": {
          "color": "rgb(94, 201, 97)",
          "width": 2
         },
         "mode": "lines+markers",
         "name": "Action 3",
         "showlegend": false,
         "type": "scatter",
         "x": [
          6,
          7
         ],
         "y": [
          47,
          50
         ]
        },
        {
         "line": {
          "color": "rgb(94, 201, 97)",
          "width": 2
         },
         "mode": "lines+markers",
         "name": "Action 3",
         "showlegend": false,
         "type": "scatter",
         "x": [
          6,
          7
         ],
         "y": [
          51,
          54
         ]
        },
        {
         "line": {
          "color": "rgb(94, 201, 97)",
          "width": 2
         },
         "mode": "lines+markers",
         "name": "Action 3",
         "showlegend": false,
         "type": "scatter",
         "x": [
          6,
          7
         ],
         "y": [
          52,
          55
         ]
        },
        {
         "line": {
          "color": "rgb(94, 201, 97)",
          "width": 2
         },
         "mode": "lines+markers",
         "name": "Action 3",
         "showlegend": false,
         "type": "scatter",
         "x": [
          6,
          7
         ],
         "y": [
          53,
          56
         ]
        },
        {
         "line": {
          "color": "rgb(94, 201, 97)",
          "width": 2
         },
         "mode": "lines+markers",
         "name": "Action 3",
         "showlegend": false,
         "type": "scatter",
         "x": [
          6,
          7
         ],
         "y": [
          54,
          57
         ]
        },
        {
         "line": {
          "color": "rgb(94, 201, 97)",
          "width": 2
         },
         "mode": "lines+markers",
         "name": "Action 3",
         "showlegend": false,
         "type": "scatter",
         "x": [
          6,
          7
         ],
         "y": [
          55,
          58
         ]
        },
        {
         "line": {
          "color": "rgb(94, 201, 97)",
          "width": 2
         },
         "mode": "lines+markers",
         "name": "Action 3",
         "showlegend": false,
         "type": "scatter",
         "x": [
          6,
          7
         ],
         "y": [
          62,
          65
         ]
        },
        {
         "line": {
          "color": "rgb(94, 201, 97)",
          "width": 2
         },
         "mode": "lines+markers",
         "name": "Action 3",
         "showlegend": false,
         "type": "scatter",
         "x": [
          6,
          7
         ],
         "y": [
          67,
          70
         ]
        },
        {
         "line": {
          "color": "rgb(94, 201, 97)",
          "width": 2
         },
         "mode": "lines+markers",
         "name": "Action 3",
         "showlegend": false,
         "type": "scatter",
         "x": [
          6,
          7
         ],
         "y": [
          70,
          73
         ]
        },
        {
         "line": {
          "color": "rgb(94, 201, 97)",
          "width": 2
         },
         "mode": "lines+markers",
         "name": "Action 3",
         "showlegend": false,
         "type": "scatter",
         "x": [
          6,
          7
         ],
         "y": [
          72,
          75
         ]
        },
        {
         "line": {
          "color": "rgb(94, 201, 97)",
          "width": 2
         },
         "mode": "lines+markers",
         "name": "Action 3",
         "showlegend": false,
         "type": "scatter",
         "x": [
          6,
          7
         ],
         "y": [
          77,
          80
         ]
        },
        {
         "line": {
          "color": "rgb(94, 201, 97)",
          "width": 2
         },
         "mode": "lines+markers",
         "name": "Action 3",
         "showlegend": false,
         "type": "scatter",
         "x": [
          6,
          7
         ],
         "y": [
          85,
          88
         ]
        },
        {
         "line": {
          "color": "rgb(94, 201, 97)",
          "width": 2
         },
         "mode": "lines+markers",
         "name": "Action 3",
         "showlegend": false,
         "type": "scatter",
         "x": [
          6,
          7
         ],
         "y": [
          88,
          91
         ]
        },
        {
         "line": {
          "color": "rgb(94, 201, 97)",
          "width": 2
         },
         "mode": "lines+markers",
         "name": "Action 3",
         "showlegend": false,
         "type": "scatter",
         "x": [
          6,
          7
         ],
         "y": [
          91,
          94
         ]
        },
        {
         "line": {
          "color": "rgb(94, 201, 97)",
          "width": 2
         },
         "mode": "lines+markers",
         "name": "Action 3",
         "showlegend": false,
         "type": "scatter",
         "x": [
          6,
          7
         ],
         "y": [
          93,
          96
         ]
        },
        {
         "line": {
          "color": "rgb(94, 201, 97)",
          "width": 2
         },
         "mode": "lines+markers",
         "name": "Action 3",
         "showlegend": false,
         "type": "scatter",
         "x": [
          7,
          8
         ],
         "y": [
          2,
          5
         ]
        },
        {
         "line": {
          "color": "rgb(94, 201, 97)",
          "width": 2
         },
         "mode": "lines+markers",
         "name": "Action 3",
         "showlegend": false,
         "type": "scatter",
         "x": [
          7,
          8
         ],
         "y": [
          3,
          6
         ]
        },
        {
         "line": {
          "color": "rgb(94, 201, 97)",
          "width": 2
         },
         "mode": "lines+markers",
         "name": "Action 3",
         "showlegend": false,
         "type": "scatter",
         "x": [
          7,
          8
         ],
         "y": [
          7,
          10
         ]
        },
        {
         "line": {
          "color": "rgb(94, 201, 97)",
          "width": 2
         },
         "mode": "lines+markers",
         "name": "Action 3",
         "showlegend": false,
         "type": "scatter",
         "x": [
          7,
          8
         ],
         "y": [
          20,
          23
         ]
        },
        {
         "line": {
          "color": "rgb(94, 201, 97)",
          "width": 2
         },
         "mode": "lines+markers",
         "name": "Action 3",
         "showlegend": false,
         "type": "scatter",
         "x": [
          7,
          8
         ],
         "y": [
          35,
          38
         ]
        },
        {
         "line": {
          "color": "rgb(94, 201, 97)",
          "width": 2
         },
         "mode": "lines+markers",
         "name": "Action 3",
         "showlegend": false,
         "type": "scatter",
         "x": [
          7,
          8
         ],
         "y": [
          39,
          42
         ]
        },
        {
         "line": {
          "color": "rgb(94, 201, 97)",
          "width": 2
         },
         "mode": "lines+markers",
         "name": "Action 3",
         "showlegend": false,
         "type": "scatter",
         "x": [
          7,
          8
         ],
         "y": [
          44,
          47
         ]
        },
        {
         "line": {
          "color": "rgb(94, 201, 97)",
          "width": 2
         },
         "mode": "lines+markers",
         "name": "Action 3",
         "showlegend": false,
         "type": "scatter",
         "x": [
          7,
          8
         ],
         "y": [
          50,
          53
         ]
        },
        {
         "line": {
          "color": "rgb(94, 201, 97)",
          "width": 2
         },
         "mode": "lines+markers",
         "name": "Action 3",
         "showlegend": false,
         "type": "scatter",
         "x": [
          7,
          8
         ],
         "y": [
          51,
          54
         ]
        },
        {
         "line": {
          "color": "rgb(94, 201, 97)",
          "width": 2
         },
         "mode": "lines+markers",
         "name": "Action 3",
         "showlegend": false,
         "type": "scatter",
         "x": [
          7,
          8
         ],
         "y": [
          55,
          58
         ]
        },
        {
         "line": {
          "color": "rgb(94, 201, 97)",
          "width": 2
         },
         "mode": "lines+markers",
         "name": "Action 3",
         "showlegend": false,
         "type": "scatter",
         "x": [
          7,
          8
         ],
         "y": [
          56,
          59
         ]
        },
        {
         "line": {
          "color": "rgb(94, 201, 97)",
          "width": 2
         },
         "mode": "lines+markers",
         "name": "Action 3",
         "showlegend": false,
         "type": "scatter",
         "x": [
          7,
          8
         ],
         "y": [
          57,
          60
         ]
        },
        {
         "line": {
          "color": "rgb(94, 201, 97)",
          "width": 2
         },
         "mode": "lines+markers",
         "name": "Action 3",
         "showlegend": false,
         "type": "scatter",
         "x": [
          7,
          8
         ],
         "y": [
          60,
          63
         ]
        },
        {
         "line": {
          "color": "rgb(253, 231, 36)",
          "width": 2
         },
         "mode": "lines+markers",
         "name": "Action 17",
         "type": "scatter",
         "x": [
          0,
          1
         ],
         "y": [
          95,
          100
         ]
        },
        {
         "line": {
          "color": "rgb(253, 231, 36)",
          "width": 2
         },
         "mode": "lines+markers",
         "name": "Action 17",
         "showlegend": false,
         "type": "scatter",
         "x": [
          1,
          2
         ],
         "y": [
          0,
          17
         ]
        },
        {
         "line": {
          "color": "rgb(253, 231, 36)",
          "width": 2
         },
         "mode": "lines+markers",
         "name": "Action 17",
         "showlegend": false,
         "type": "scatter",
         "x": [
          1,
          2
         ],
         "y": [
          1,
          18
         ]
        },
        {
         "line": {
          "color": "rgb(253, 231, 36)",
          "width": 2
         },
         "mode": "lines+markers",
         "name": "Action 17",
         "showlegend": false,
         "type": "scatter",
         "x": [
          1,
          2
         ],
         "y": [
          8,
          25
         ]
        },
        {
         "line": {
          "color": "rgb(253, 231, 36)",
          "width": 2
         },
         "mode": "lines+markers",
         "name": "Action 17",
         "showlegend": false,
         "type": "scatter",
         "x": [
          2,
          3
         ],
         "y": [
          1,
          18
         ]
        },
        {
         "line": {
          "color": "rgb(253, 231, 36)",
          "width": 2
         },
         "mode": "lines+markers",
         "name": "Action 17",
         "showlegend": false,
         "type": "scatter",
         "x": [
          3,
          4
         ],
         "y": [
          4,
          21
         ]
        },
        {
         "line": {
          "color": "rgb(253, 231, 36)",
          "width": 2
         },
         "mode": "lines+markers",
         "name": "Action 17",
         "showlegend": false,
         "type": "scatter",
         "x": [
          3,
          4
         ],
         "y": [
          10,
          27
         ]
        },
        {
         "line": {
          "color": "rgb(253, 231, 36)",
          "width": 2
         },
         "mode": "lines+markers",
         "name": "Action 17",
         "showlegend": false,
         "type": "scatter",
         "x": [
          3,
          4
         ],
         "y": [
          13,
          30
         ]
        },
        {
         "line": {
          "color": "rgb(253, 231, 36)",
          "width": 2
         },
         "mode": "lines+markers",
         "name": "Action 17",
         "showlegend": false,
         "type": "scatter",
         "x": [
          3,
          4
         ],
         "y": [
          23,
          40
         ]
        },
        {
         "line": {
          "color": "rgb(253, 231, 36)",
          "width": 2
         },
         "mode": "lines+markers",
         "name": "Action 17",
         "showlegend": false,
         "type": "scatter",
         "x": [
          4,
          5
         ],
         "y": [
          0,
          17
         ]
        },
        {
         "line": {
          "color": "rgb(253, 231, 36)",
          "width": 2
         },
         "mode": "lines+markers",
         "name": "Action 17",
         "showlegend": false,
         "type": "scatter",
         "x": [
          4,
          5
         ],
         "y": [
          4,
          21
         ]
        },
        {
         "line": {
          "color": "rgb(253, 231, 36)",
          "width": 2
         },
         "mode": "lines+markers",
         "name": "Action 17",
         "showlegend": false,
         "type": "scatter",
         "x": [
          4,
          5
         ],
         "y": [
          10,
          27
         ]
        },
        {
         "line": {
          "color": "rgb(253, 231, 36)",
          "width": 2
         },
         "mode": "lines+markers",
         "name": "Action 17",
         "showlegend": false,
         "type": "scatter",
         "x": [
          4,
          5
         ],
         "y": [
          12,
          29
         ]
        },
        {
         "line": {
          "color": "rgb(253, 231, 36)",
          "width": 2
         },
         "mode": "lines+markers",
         "name": "Action 17",
         "showlegend": false,
         "type": "scatter",
         "x": [
          4,
          5
         ],
         "y": [
          13,
          30
         ]
        },
        {
         "line": {
          "color": "rgb(253, 231, 36)",
          "width": 2
         },
         "mode": "lines+markers",
         "name": "Action 17",
         "showlegend": false,
         "type": "scatter",
         "x": [
          4,
          5
         ],
         "y": [
          30,
          47
         ]
        },
        {
         "line": {
          "color": "rgb(253, 231, 36)",
          "width": 2
         },
         "mode": "lines+markers",
         "name": "Action 17",
         "showlegend": false,
         "type": "scatter",
         "x": [
          5,
          6
         ],
         "y": [
          0,
          17
         ]
        },
        {
         "line": {
          "color": "rgb(253, 231, 36)",
          "width": 2
         },
         "mode": "lines+markers",
         "name": "Action 17",
         "showlegend": false,
         "type": "scatter",
         "x": [
          5,
          6
         ],
         "y": [
          1,
          18
         ]
        },
        {
         "line": {
          "color": "rgb(253, 231, 36)",
          "width": 2
         },
         "mode": "lines+markers",
         "name": "Action 17",
         "showlegend": false,
         "type": "scatter",
         "x": [
          5,
          6
         ],
         "y": [
          2,
          19
         ]
        },
        {
         "line": {
          "color": "rgb(253, 231, 36)",
          "width": 2
         },
         "mode": "lines+markers",
         "name": "Action 17",
         "showlegend": false,
         "type": "scatter",
         "x": [
          5,
          6
         ],
         "y": [
          4,
          21
         ]
        },
        {
         "line": {
          "color": "rgb(253, 231, 36)",
          "width": 2
         },
         "mode": "lines+markers",
         "name": "Action 17",
         "showlegend": false,
         "type": "scatter",
         "x": [
          5,
          6
         ],
         "y": [
          6,
          23
         ]
        },
        {
         "line": {
          "color": "rgb(253, 231, 36)",
          "width": 2
         },
         "mode": "lines+markers",
         "name": "Action 17",
         "showlegend": false,
         "type": "scatter",
         "x": [
          5,
          6
         ],
         "y": [
          7,
          24
         ]
        },
        {
         "line": {
          "color": "rgb(253, 231, 36)",
          "width": 2
         },
         "mode": "lines+markers",
         "name": "Action 17",
         "showlegend": false,
         "type": "scatter",
         "x": [
          5,
          6
         ],
         "y": [
          9,
          26
         ]
        },
        {
         "line": {
          "color": "rgb(253, 231, 36)",
          "width": 2
         },
         "mode": "lines+markers",
         "name": "Action 17",
         "showlegend": false,
         "type": "scatter",
         "x": [
          5,
          6
         ],
         "y": [
          14,
          31
         ]
        },
        {
         "line": {
          "color": "rgb(253, 231, 36)",
          "width": 2
         },
         "mode": "lines+markers",
         "name": "Action 17",
         "showlegend": false,
         "type": "scatter",
         "x": [
          5,
          6
         ],
         "y": [
          15,
          32
         ]
        },
        {
         "line": {
          "color": "rgb(253, 231, 36)",
          "width": 2
         },
         "mode": "lines+markers",
         "name": "Action 17",
         "showlegend": false,
         "type": "scatter",
         "x": [
          5,
          6
         ],
         "y": [
          19,
          36
         ]
        },
        {
         "line": {
          "color": "rgb(253, 231, 36)",
          "width": 2
         },
         "mode": "lines+markers",
         "name": "Action 17",
         "showlegend": false,
         "type": "scatter",
         "x": [
          5,
          6
         ],
         "y": [
          20,
          37
         ]
        },
        {
         "line": {
          "color": "rgb(253, 231, 36)",
          "width": 2
         },
         "mode": "lines+markers",
         "name": "Action 17",
         "showlegend": false,
         "type": "scatter",
         "x": [
          5,
          6
         ],
         "y": [
          21,
          38
         ]
        },
        {
         "line": {
          "color": "rgb(253, 231, 36)",
          "width": 2
         },
         "mode": "lines+markers",
         "name": "Action 17",
         "showlegend": false,
         "type": "scatter",
         "x": [
          5,
          6
         ],
         "y": [
          27,
          44
         ]
        },
        {
         "line": {
          "color": "rgb(253, 231, 36)",
          "width": 2
         },
         "mode": "lines+markers",
         "name": "Action 17",
         "showlegend": false,
         "type": "scatter",
         "x": [
          5,
          6
         ],
         "y": [
          34,
          51
         ]
        },
        {
         "line": {
          "color": "rgb(253, 231, 36)",
          "width": 2
         },
         "mode": "lines+markers",
         "name": "Action 17",
         "showlegend": false,
         "type": "scatter",
         "x": [
          6,
          7
         ],
         "y": [
          1,
          18
         ]
        },
        {
         "line": {
          "color": "rgb(253, 231, 36)",
          "width": 2
         },
         "mode": "lines+markers",
         "name": "Action 17",
         "showlegend": false,
         "type": "scatter",
         "x": [
          6,
          7
         ],
         "y": [
          5,
          22
         ]
        },
        {
         "line": {
          "color": "rgb(253, 231, 36)",
          "width": 2
         },
         "mode": "lines+markers",
         "name": "Action 17",
         "showlegend": false,
         "type": "scatter",
         "x": [
          6,
          7
         ],
         "y": [
          6,
          23
         ]
        },
        {
         "line": {
          "color": "rgb(253, 231, 36)",
          "width": 2
         },
         "mode": "lines+markers",
         "name": "Action 17",
         "showlegend": false,
         "type": "scatter",
         "x": [
          6,
          7
         ],
         "y": [
          8,
          25
         ]
        },
        {
         "line": {
          "color": "rgb(253, 231, 36)",
          "width": 2
         },
         "mode": "lines+markers",
         "name": "Action 17",
         "showlegend": false,
         "type": "scatter",
         "x": [
          6,
          7
         ],
         "y": [
          9,
          26
         ]
        },
        {
         "line": {
          "color": "rgb(253, 231, 36)",
          "width": 2
         },
         "mode": "lines+markers",
         "name": "Action 17",
         "showlegend": false,
         "type": "scatter",
         "x": [
          6,
          7
         ],
         "y": [
          10,
          27
         ]
        },
        {
         "line": {
          "color": "rgb(253, 231, 36)",
          "width": 2
         },
         "mode": "lines+markers",
         "name": "Action 17",
         "showlegend": false,
         "type": "scatter",
         "x": [
          6,
          7
         ],
         "y": [
          11,
          28
         ]
        },
        {
         "line": {
          "color": "rgb(253, 231, 36)",
          "width": 2
         },
         "mode": "lines+markers",
         "name": "Action 17",
         "showlegend": false,
         "type": "scatter",
         "x": [
          6,
          7
         ],
         "y": [
          12,
          29
         ]
        },
        {
         "line": {
          "color": "rgb(253, 231, 36)",
          "width": 2
         },
         "mode": "lines+markers",
         "name": "Action 17",
         "showlegend": false,
         "type": "scatter",
         "x": [
          6,
          7
         ],
         "y": [
          13,
          30
         ]
        },
        {
         "line": {
          "color": "rgb(253, 231, 36)",
          "width": 2
         },
         "mode": "lines+markers",
         "name": "Action 17",
         "showlegend": false,
         "type": "scatter",
         "x": [
          6,
          7
         ],
         "y": [
          14,
          31
         ]
        },
        {
         "line": {
          "color": "rgb(253, 231, 36)",
          "width": 2
         },
         "mode": "lines+markers",
         "name": "Action 17",
         "showlegend": false,
         "type": "scatter",
         "x": [
          6,
          7
         ],
         "y": [
          15,
          32
         ]
        },
        {
         "line": {
          "color": "rgb(253, 231, 36)",
          "width": 2
         },
         "mode": "lines+markers",
         "name": "Action 17",
         "showlegend": false,
         "type": "scatter",
         "x": [
          6,
          7
         ],
         "y": [
          16,
          33
         ]
        },
        {
         "line": {
          "color": "rgb(253, 231, 36)",
          "width": 2
         },
         "mode": "lines+markers",
         "name": "Action 17",
         "showlegend": false,
         "type": "scatter",
         "x": [
          6,
          7
         ],
         "y": [
          17,
          34
         ]
        },
        {
         "line": {
          "color": "rgb(253, 231, 36)",
          "width": 2
         },
         "mode": "lines+markers",
         "name": "Action 17",
         "showlegend": false,
         "type": "scatter",
         "x": [
          6,
          7
         ],
         "y": [
          18,
          35
         ]
        },
        {
         "line": {
          "color": "rgb(253, 231, 36)",
          "width": 2
         },
         "mode": "lines+markers",
         "name": "Action 17",
         "showlegend": false,
         "type": "scatter",
         "x": [
          6,
          7
         ],
         "y": [
          20,
          37
         ]
        },
        {
         "line": {
          "color": "rgb(253, 231, 36)",
          "width": 2
         },
         "mode": "lines+markers",
         "name": "Action 17",
         "showlegend": false,
         "type": "scatter",
         "x": [
          6,
          7
         ],
         "y": [
          22,
          39
         ]
        },
        {
         "line": {
          "color": "rgb(253, 231, 36)",
          "width": 2
         },
         "mode": "lines+markers",
         "name": "Action 17",
         "showlegend": false,
         "type": "scatter",
         "x": [
          6,
          7
         ],
         "y": [
          23,
          40
         ]
        },
        {
         "line": {
          "color": "rgb(253, 231, 36)",
          "width": 2
         },
         "mode": "lines+markers",
         "name": "Action 17",
         "showlegend": false,
         "type": "scatter",
         "x": [
          6,
          7
         ],
         "y": [
          25,
          42
         ]
        },
        {
         "line": {
          "color": "rgb(253, 231, 36)",
          "width": 2
         },
         "mode": "lines+markers",
         "name": "Action 17",
         "showlegend": false,
         "type": "scatter",
         "x": [
          6,
          7
         ],
         "y": [
          31,
          48
         ]
        },
        {
         "line": {
          "color": "rgb(253, 231, 36)",
          "width": 2
         },
         "mode": "lines+markers",
         "name": "Action 17",
         "showlegend": false,
         "type": "scatter",
         "x": [
          6,
          7
         ],
         "y": [
          34,
          51
         ]
        },
        {
         "line": {
          "color": "rgb(253, 231, 36)",
          "width": 2
         },
         "mode": "lines+markers",
         "name": "Action 17",
         "showlegend": false,
         "type": "scatter",
         "x": [
          6,
          7
         ],
         "y": [
          38,
          55
         ]
        },
        {
         "line": {
          "color": "rgb(253, 231, 36)",
          "width": 2
         },
         "mode": "lines+markers",
         "name": "Action 17",
         "showlegend": false,
         "type": "scatter",
         "x": [
          7,
          8
         ],
         "y": [
          5,
          22
         ]
        },
        {
         "line": {
          "color": "rgb(253, 231, 36)",
          "width": 2
         },
         "mode": "lines+markers",
         "name": "Action 17",
         "showlegend": false,
         "type": "scatter",
         "x": [
          7,
          8
         ],
         "y": [
          6,
          23
         ]
        },
        {
         "line": {
          "color": "rgb(253, 231, 36)",
          "width": 2
         },
         "mode": "lines+markers",
         "name": "Action 17",
         "showlegend": false,
         "type": "scatter",
         "x": [
          7,
          8
         ],
         "y": [
          12,
          29
         ]
        },
        {
         "line": {
          "color": "rgb(253, 231, 36)",
          "width": 2
         },
         "mode": "lines+markers",
         "name": "Action 17",
         "showlegend": false,
         "type": "scatter",
         "x": [
          7,
          8
         ],
         "y": [
          18,
          35
         ]
        },
        {
         "line": {
          "color": "rgb(253, 231, 36)",
          "width": 2
         },
         "mode": "lines+markers",
         "name": "Action 17",
         "showlegend": false,
         "type": "scatter",
         "x": [
          7,
          8
         ],
         "y": [
          19,
          36
         ]
        },
        {
         "line": {
          "color": "rgb(253, 231, 36)",
          "width": 2
         },
         "mode": "lines+markers",
         "name": "Action 17",
         "showlegend": false,
         "type": "scatter",
         "x": [
          7,
          8
         ],
         "y": [
          23,
          40
         ]
        },
        {
         "line": {
          "color": "rgb(253, 231, 36)",
          "width": 2
         },
         "mode": "lines+markers",
         "name": "Action 17",
         "showlegend": false,
         "type": "scatter",
         "x": [
          7,
          8
         ],
         "y": [
          25,
          42
         ]
        },
        {
         "line": {
          "color": "rgb(253, 231, 36)",
          "width": 2
         },
         "mode": "lines+markers",
         "name": "Action 17",
         "showlegend": false,
         "type": "scatter",
         "x": [
          7,
          8
         ],
         "y": [
          26,
          43
         ]
        },
        {
         "line": {
          "color": "rgb(253, 231, 36)",
          "width": 2
         },
         "mode": "lines+markers",
         "name": "Action 17",
         "showlegend": false,
         "type": "scatter",
         "x": [
          7,
          8
         ],
         "y": [
          28,
          45
         ]
        },
        {
         "line": {
          "color": "rgb(253, 231, 36)",
          "width": 2
         },
         "mode": "lines+markers",
         "name": "Action 17",
         "showlegend": false,
         "type": "scatter",
         "x": [
          7,
          8
         ],
         "y": [
          30,
          47
         ]
        },
        {
         "line": {
          "color": "rgb(253, 231, 36)",
          "width": 2
         },
         "mode": "lines+markers",
         "name": "Action 17",
         "showlegend": false,
         "type": "scatter",
         "x": [
          7,
          8
         ],
         "y": [
          31,
          48
         ]
        },
        {
         "line": {
          "color": "rgb(253, 231, 36)",
          "width": 2
         },
         "mode": "lines+markers",
         "name": "Action 17",
         "showlegend": false,
         "type": "scatter",
         "x": [
          7,
          8
         ],
         "y": [
          34,
          51
         ]
        }
       ],
       "layout": {
        "template": {
         "data": {
          "bar": [
           {
            "error_x": {
             "color": "#2a3f5f"
            },
            "error_y": {
             "color": "#2a3f5f"
            },
            "marker": {
             "line": {
              "color": "#E5ECF6",
              "width": 0.5
             },
             "pattern": {
              "fillmode": "overlay",
              "size": 10,
              "solidity": 0.2
             }
            },
            "type": "bar"
           }
          ],
          "barpolar": [
           {
            "marker": {
             "line": {
              "color": "#E5ECF6",
              "width": 0.5
             },
             "pattern": {
              "fillmode": "overlay",
              "size": 10,
              "solidity": 0.2
             }
            },
            "type": "barpolar"
           }
          ],
          "carpet": [
           {
            "aaxis": {
             "endlinecolor": "#2a3f5f",
             "gridcolor": "white",
             "linecolor": "white",
             "minorgridcolor": "white",
             "startlinecolor": "#2a3f5f"
            },
            "baxis": {
             "endlinecolor": "#2a3f5f",
             "gridcolor": "white",
             "linecolor": "white",
             "minorgridcolor": "white",
             "startlinecolor": "#2a3f5f"
            },
            "type": "carpet"
           }
          ],
          "choropleth": [
           {
            "colorbar": {
             "outlinewidth": 0,
             "ticks": ""
            },
            "type": "choropleth"
           }
          ],
          "contour": [
           {
            "colorbar": {
             "outlinewidth": 0,
             "ticks": ""
            },
            "colorscale": [
             [
              0,
              "#0d0887"
             ],
             [
              0.1111111111111111,
              "#46039f"
             ],
             [
              0.2222222222222222,
              "#7201a8"
             ],
             [
              0.3333333333333333,
              "#9c179e"
             ],
             [
              0.4444444444444444,
              "#bd3786"
             ],
             [
              0.5555555555555556,
              "#d8576b"
             ],
             [
              0.6666666666666666,
              "#ed7953"
             ],
             [
              0.7777777777777778,
              "#fb9f3a"
             ],
             [
              0.8888888888888888,
              "#fdca26"
             ],
             [
              1,
              "#f0f921"
             ]
            ],
            "type": "contour"
           }
          ],
          "contourcarpet": [
           {
            "colorbar": {
             "outlinewidth": 0,
             "ticks": ""
            },
            "type": "contourcarpet"
           }
          ],
          "heatmap": [
           {
            "colorbar": {
             "outlinewidth": 0,
             "ticks": ""
            },
            "colorscale": [
             [
              0,
              "#0d0887"
             ],
             [
              0.1111111111111111,
              "#46039f"
             ],
             [
              0.2222222222222222,
              "#7201a8"
             ],
             [
              0.3333333333333333,
              "#9c179e"
             ],
             [
              0.4444444444444444,
              "#bd3786"
             ],
             [
              0.5555555555555556,
              "#d8576b"
             ],
             [
              0.6666666666666666,
              "#ed7953"
             ],
             [
              0.7777777777777778,
              "#fb9f3a"
             ],
             [
              0.8888888888888888,
              "#fdca26"
             ],
             [
              1,
              "#f0f921"
             ]
            ],
            "type": "heatmap"
           }
          ],
          "heatmapgl": [
           {
            "colorbar": {
             "outlinewidth": 0,
             "ticks": ""
            },
            "colorscale": [
             [
              0,
              "#0d0887"
             ],
             [
              0.1111111111111111,
              "#46039f"
             ],
             [
              0.2222222222222222,
              "#7201a8"
             ],
             [
              0.3333333333333333,
              "#9c179e"
             ],
             [
              0.4444444444444444,
              "#bd3786"
             ],
             [
              0.5555555555555556,
              "#d8576b"
             ],
             [
              0.6666666666666666,
              "#ed7953"
             ],
             [
              0.7777777777777778,
              "#fb9f3a"
             ],
             [
              0.8888888888888888,
              "#fdca26"
             ],
             [
              1,
              "#f0f921"
             ]
            ],
            "type": "heatmapgl"
           }
          ],
          "histogram": [
           {
            "marker": {
             "pattern": {
              "fillmode": "overlay",
              "size": 10,
              "solidity": 0.2
             }
            },
            "type": "histogram"
           }
          ],
          "histogram2d": [
           {
            "colorbar": {
             "outlinewidth": 0,
             "ticks": ""
            },
            "colorscale": [
             [
              0,
              "#0d0887"
             ],
             [
              0.1111111111111111,
              "#46039f"
             ],
             [
              0.2222222222222222,
              "#7201a8"
             ],
             [
              0.3333333333333333,
              "#9c179e"
             ],
             [
              0.4444444444444444,
              "#bd3786"
             ],
             [
              0.5555555555555556,
              "#d8576b"
             ],
             [
              0.6666666666666666,
              "#ed7953"
             ],
             [
              0.7777777777777778,
              "#fb9f3a"
             ],
             [
              0.8888888888888888,
              "#fdca26"
             ],
             [
              1,
              "#f0f921"
             ]
            ],
            "type": "histogram2d"
           }
          ],
          "histogram2dcontour": [
           {
            "colorbar": {
             "outlinewidth": 0,
             "ticks": ""
            },
            "colorscale": [
             [
              0,
              "#0d0887"
             ],
             [
              0.1111111111111111,
              "#46039f"
             ],
             [
              0.2222222222222222,
              "#7201a8"
             ],
             [
              0.3333333333333333,
              "#9c179e"
             ],
             [
              0.4444444444444444,
              "#bd3786"
             ],
             [
              0.5555555555555556,
              "#d8576b"
             ],
             [
              0.6666666666666666,
              "#ed7953"
             ],
             [
              0.7777777777777778,
              "#fb9f3a"
             ],
             [
              0.8888888888888888,
              "#fdca26"
             ],
             [
              1,
              "#f0f921"
             ]
            ],
            "type": "histogram2dcontour"
           }
          ],
          "mesh3d": [
           {
            "colorbar": {
             "outlinewidth": 0,
             "ticks": ""
            },
            "type": "mesh3d"
           }
          ],
          "parcoords": [
           {
            "line": {
             "colorbar": {
              "outlinewidth": 0,
              "ticks": ""
             }
            },
            "type": "parcoords"
           }
          ],
          "pie": [
           {
            "automargin": true,
            "type": "pie"
           }
          ],
          "scatter": [
           {
            "fillpattern": {
             "fillmode": "overlay",
             "size": 10,
             "solidity": 0.2
            },
            "type": "scatter"
           }
          ],
          "scatter3d": [
           {
            "line": {
             "colorbar": {
              "outlinewidth": 0,
              "ticks": ""
             }
            },
            "marker": {
             "colorbar": {
              "outlinewidth": 0,
              "ticks": ""
             }
            },
            "type": "scatter3d"
           }
          ],
          "scattercarpet": [
           {
            "marker": {
             "colorbar": {
              "outlinewidth": 0,
              "ticks": ""
             }
            },
            "type": "scattercarpet"
           }
          ],
          "scattergeo": [
           {
            "marker": {
             "colorbar": {
              "outlinewidth": 0,
              "ticks": ""
             }
            },
            "type": "scattergeo"
           }
          ],
          "scattergl": [
           {
            "marker": {
             "colorbar": {
              "outlinewidth": 0,
              "ticks": ""
             }
            },
            "type": "scattergl"
           }
          ],
          "scattermapbox": [
           {
            "marker": {
             "colorbar": {
              "outlinewidth": 0,
              "ticks": ""
             }
            },
            "type": "scattermapbox"
           }
          ],
          "scatterpolar": [
           {
            "marker": {
             "colorbar": {
              "outlinewidth": 0,
              "ticks": ""
             }
            },
            "type": "scatterpolar"
           }
          ],
          "scatterpolargl": [
           {
            "marker": {
             "colorbar": {
              "outlinewidth": 0,
              "ticks": ""
             }
            },
            "type": "scatterpolargl"
           }
          ],
          "scatterternary": [
           {
            "marker": {
             "colorbar": {
              "outlinewidth": 0,
              "ticks": ""
             }
            },
            "type": "scatterternary"
           }
          ],
          "surface": [
           {
            "colorbar": {
             "outlinewidth": 0,
             "ticks": ""
            },
            "colorscale": [
             [
              0,
              "#0d0887"
             ],
             [
              0.1111111111111111,
              "#46039f"
             ],
             [
              0.2222222222222222,
              "#7201a8"
             ],
             [
              0.3333333333333333,
              "#9c179e"
             ],
             [
              0.4444444444444444,
              "#bd3786"
             ],
             [
              0.5555555555555556,
              "#d8576b"
             ],
             [
              0.6666666666666666,
              "#ed7953"
             ],
             [
              0.7777777777777778,
              "#fb9f3a"
             ],
             [
              0.8888888888888888,
              "#fdca26"
             ],
             [
              1,
              "#f0f921"
             ]
            ],
            "type": "surface"
           }
          ],
          "table": [
           {
            "cells": {
             "fill": {
              "color": "#EBF0F8"
             },
             "line": {
              "color": "white"
             }
            },
            "header": {
             "fill": {
              "color": "#C8D4E3"
             },
             "line": {
              "color": "white"
             }
            },
            "type": "table"
           }
          ]
         },
         "layout": {
          "annotationdefaults": {
           "arrowcolor": "#2a3f5f",
           "arrowhead": 0,
           "arrowwidth": 1
          },
          "autotypenumbers": "strict",
          "coloraxis": {
           "colorbar": {
            "outlinewidth": 0,
            "ticks": ""
           }
          },
          "colorscale": {
           "diverging": [
            [
             0,
             "#8e0152"
            ],
            [
             0.1,
             "#c51b7d"
            ],
            [
             0.2,
             "#de77ae"
            ],
            [
             0.3,
             "#f1b6da"
            ],
            [
             0.4,
             "#fde0ef"
            ],
            [
             0.5,
             "#f7f7f7"
            ],
            [
             0.6,
             "#e6f5d0"
            ],
            [
             0.7,
             "#b8e186"
            ],
            [
             0.8,
             "#7fbc41"
            ],
            [
             0.9,
             "#4d9221"
            ],
            [
             1,
             "#276419"
            ]
           ],
           "sequential": [
            [
             0,
             "#0d0887"
            ],
            [
             0.1111111111111111,
             "#46039f"
            ],
            [
             0.2222222222222222,
             "#7201a8"
            ],
            [
             0.3333333333333333,
             "#9c179e"
            ],
            [
             0.4444444444444444,
             "#bd3786"
            ],
            [
             0.5555555555555556,
             "#d8576b"
            ],
            [
             0.6666666666666666,
             "#ed7953"
            ],
            [
             0.7777777777777778,
             "#fb9f3a"
            ],
            [
             0.8888888888888888,
             "#fdca26"
            ],
            [
             1,
             "#f0f921"
            ]
           ],
           "sequentialminus": [
            [
             0,
             "#0d0887"
            ],
            [
             0.1111111111111111,
             "#46039f"
            ],
            [
             0.2222222222222222,
             "#7201a8"
            ],
            [
             0.3333333333333333,
             "#9c179e"
            ],
            [
             0.4444444444444444,
             "#bd3786"
            ],
            [
             0.5555555555555556,
             "#d8576b"
            ],
            [
             0.6666666666666666,
             "#ed7953"
            ],
            [
             0.7777777777777778,
             "#fb9f3a"
            ],
            [
             0.8888888888888888,
             "#fdca26"
            ],
            [
             1,
             "#f0f921"
            ]
           ]
          },
          "colorway": [
           "#636efa",
           "#EF553B",
           "#00cc96",
           "#ab63fa",
           "#FFA15A",
           "#19d3f3",
           "#FF6692",
           "#B6E880",
           "#FF97FF",
           "#FECB52"
          ],
          "font": {
           "color": "#2a3f5f"
          },
          "geo": {
           "bgcolor": "white",
           "lakecolor": "white",
           "landcolor": "#E5ECF6",
           "showlakes": true,
           "showland": true,
           "subunitcolor": "white"
          },
          "hoverlabel": {
           "align": "left"
          },
          "hovermode": "closest",
          "mapbox": {
           "style": "light"
          },
          "paper_bgcolor": "white",
          "plot_bgcolor": "#E5ECF6",
          "polar": {
           "angularaxis": {
            "gridcolor": "white",
            "linecolor": "white",
            "ticks": ""
           },
           "bgcolor": "#E5ECF6",
           "radialaxis": {
            "gridcolor": "white",
            "linecolor": "white",
            "ticks": ""
           }
          },
          "scene": {
           "xaxis": {
            "backgroundcolor": "#E5ECF6",
            "gridcolor": "white",
            "gridwidth": 2,
            "linecolor": "white",
            "showbackground": true,
            "ticks": "",
            "zerolinecolor": "white"
           },
           "yaxis": {
            "backgroundcolor": "#E5ECF6",
            "gridcolor": "white",
            "gridwidth": 2,
            "linecolor": "white",
            "showbackground": true,
            "ticks": "",
            "zerolinecolor": "white"
           },
           "zaxis": {
            "backgroundcolor": "#E5ECF6",
            "gridcolor": "white",
            "gridwidth": 2,
            "linecolor": "white",
            "showbackground": true,
            "ticks": "",
            "zerolinecolor": "white"
           }
          },
          "shapedefaults": {
           "line": {
            "color": "#2a3f5f"
           }
          },
          "ternary": {
           "aaxis": {
            "gridcolor": "white",
            "linecolor": "white",
            "ticks": ""
           },
           "baxis": {
            "gridcolor": "white",
            "linecolor": "white",
            "ticks": ""
           },
           "bgcolor": "#E5ECF6",
           "caxis": {
            "gridcolor": "white",
            "linecolor": "white",
            "ticks": ""
           }
          },
          "title": {
           "x": 0.05
          },
          "xaxis": {
           "automargin": true,
           "gridcolor": "white",
           "linecolor": "white",
           "ticks": "",
           "title": {
            "standoff": 15
           },
           "zerolinecolor": "white",
           "zerolinewidth": 2
          },
          "yaxis": {
           "automargin": true,
           "gridcolor": "white",
           "linecolor": "white",
           "ticks": "",
           "title": {
            "standoff": 15
           },
           "zerolinecolor": "white",
           "zerolinewidth": 2
          }
         }
        },
        "title": {
         "text": "Battery Level Transitions Over Time"
        },
        "xaxis": {
         "title": {
          "text": "Time"
         }
        },
        "yaxis": {
         "title": {
          "text": "Battery Level"
         }
        }
       }
      },
      "text/html": [
       "<div>                            <div id=\"36076b71-c8b2-4186-ad9a-13fd0a5c02f7\" class=\"plotly-graph-div\" style=\"height:525px; width:100%;\"></div>            <script type=\"text/javascript\">                require([\"plotly\"], function(Plotly) {                    window.PLOTLYENV=window.PLOTLYENV || {};                                    if (document.getElementById(\"36076b71-c8b2-4186-ad9a-13fd0a5c02f7\")) {                    Plotly.newPlot(                        \"36076b71-c8b2-4186-ad9a-13fd0a5c02f7\",                        [{\"line\":{\"color\":\"rgb(68, 1, 84)\",\"width\":2},\"mode\":\"lines+markers\",\"name\":\"Action 7\",\"x\":[0,1],\"y\":[0,7],\"type\":\"scatter\"},{\"line\":{\"color\":\"rgb(68, 1, 84)\",\"width\":2},\"mode\":\"lines+markers\",\"name\":\"Action 7\",\"showlegend\":false,\"x\":[0,1],\"y\":[1,8],\"type\":\"scatter\"},{\"line\":{\"color\":\"rgb(68, 1, 84)\",\"width\":2},\"mode\":\"lines+markers\",\"name\":\"Action 7\",\"showlegend\":false,\"x\":[0,1],\"y\":[8,15],\"type\":\"scatter\"},{\"line\":{\"color\":\"rgb(68, 1, 84)\",\"width\":2},\"mode\":\"lines+markers\",\"name\":\"Action 7\",\"showlegend\":false,\"x\":[0,1],\"y\":[20,27],\"type\":\"scatter\"},{\"line\":{\"color\":\"rgb(68, 1, 84)\",\"width\":2},\"mode\":\"lines+markers\",\"name\":\"Action 7\",\"showlegend\":false,\"x\":[0,1],\"y\":[22,29],\"type\":\"scatter\"},{\"line\":{\"color\":\"rgb(68, 1, 84)\",\"width\":2},\"mode\":\"lines+markers\",\"name\":\"Action 7\",\"showlegend\":false,\"x\":[0,1],\"y\":[29,36],\"type\":\"scatter\"},{\"line\":{\"color\":\"rgb(68, 1, 84)\",\"width\":2},\"mode\":\"lines+markers\",\"name\":\"Action 7\",\"showlegend\":false,\"x\":[0,1],\"y\":[35,42],\"type\":\"scatter\"},{\"line\":{\"color\":\"rgb(68, 1, 84)\",\"width\":2},\"mode\":\"lines+markers\",\"name\":\"Action 7\",\"showlegend\":false,\"x\":[0,1],\"y\":[36,43],\"type\":\"scatter\"},{\"line\":{\"color\":\"rgb(68, 1, 84)\",\"width\":2},\"mode\":\"lines+markers\",\"name\":\"Action 7\",\"showlegend\":false,\"x\":[0,1],\"y\":[38,45],\"type\":\"scatter\"},{\"line\":{\"color\":\"rgb(68, 1, 84)\",\"width\":2},\"mode\":\"lines+markers\",\"name\":\"Action 7\",\"showlegend\":false,\"x\":[0,1],\"y\":[50,57],\"type\":\"scatter\"},{\"line\":{\"color\":\"rgb(68, 1, 84)\",\"width\":2},\"mode\":\"lines+markers\",\"name\":\"Action 7\",\"showlegend\":false,\"x\":[0,1],\"y\":[53,60],\"type\":\"scatter\"},{\"line\":{\"color\":\"rgb(68, 1, 84)\",\"width\":2},\"mode\":\"lines+markers\",\"name\":\"Action 7\",\"showlegend\":false,\"x\":[0,1],\"y\":[61,68],\"type\":\"scatter\"},{\"line\":{\"color\":\"rgb(68, 1, 84)\",\"width\":2},\"mode\":\"lines+markers\",\"name\":\"Action 7\",\"showlegend\":false,\"x\":[1,2],\"y\":[2,9],\"type\":\"scatter\"},{\"line\":{\"color\":\"rgb(68, 1, 84)\",\"width\":2},\"mode\":\"lines+markers\",\"name\":\"Action 7\",\"showlegend\":false,\"x\":[1,2],\"y\":[6,13],\"type\":\"scatter\"},{\"line\":{\"color\":\"rgb(68, 1, 84)\",\"width\":2},\"mode\":\"lines+markers\",\"name\":\"Action 7\",\"showlegend\":false,\"x\":[1,2],\"y\":[10,17],\"type\":\"scatter\"},{\"line\":{\"color\":\"rgb(68, 1, 84)\",\"width\":2},\"mode\":\"lines+markers\",\"name\":\"Action 7\",\"showlegend\":false,\"x\":[1,2],\"y\":[15,22],\"type\":\"scatter\"},{\"line\":{\"color\":\"rgb(68, 1, 84)\",\"width\":2},\"mode\":\"lines+markers\",\"name\":\"Action 7\",\"showlegend\":false,\"x\":[1,2],\"y\":[19,26],\"type\":\"scatter\"},{\"line\":{\"color\":\"rgb(68, 1, 84)\",\"width\":2},\"mode\":\"lines+markers\",\"name\":\"Action 7\",\"showlegend\":false,\"x\":[1,2],\"y\":[20,27],\"type\":\"scatter\"},{\"line\":{\"color\":\"rgb(68, 1, 84)\",\"width\":2},\"mode\":\"lines+markers\",\"name\":\"Action 7\",\"showlegend\":false,\"x\":[1,2],\"y\":[23,30],\"type\":\"scatter\"},{\"line\":{\"color\":\"rgb(68, 1, 84)\",\"width\":2},\"mode\":\"lines+markers\",\"name\":\"Action 7\",\"showlegend\":false,\"x\":[1,2],\"y\":[26,33],\"type\":\"scatter\"},{\"line\":{\"color\":\"rgb(68, 1, 84)\",\"width\":2},\"mode\":\"lines+markers\",\"name\":\"Action 7\",\"showlegend\":false,\"x\":[1,2],\"y\":[33,40],\"type\":\"scatter\"},{\"line\":{\"color\":\"rgb(68, 1, 84)\",\"width\":2},\"mode\":\"lines+markers\",\"name\":\"Action 7\",\"showlegend\":false,\"x\":[1,2],\"y\":[37,44],\"type\":\"scatter\"},{\"line\":{\"color\":\"rgb(68, 1, 84)\",\"width\":2},\"mode\":\"lines+markers\",\"name\":\"Action 7\",\"showlegend\":false,\"x\":[1,2],\"y\":[41,48],\"type\":\"scatter\"},{\"line\":{\"color\":\"rgb(68, 1, 84)\",\"width\":2},\"mode\":\"lines+markers\",\"name\":\"Action 7\",\"showlegend\":false,\"x\":[1,2],\"y\":[51,58],\"type\":\"scatter\"},{\"line\":{\"color\":\"rgb(68, 1, 84)\",\"width\":2},\"mode\":\"lines+markers\",\"name\":\"Action 7\",\"showlegend\":false,\"x\":[1,2],\"y\":[53,60],\"type\":\"scatter\"},{\"line\":{\"color\":\"rgb(68, 1, 84)\",\"width\":2},\"mode\":\"lines+markers\",\"name\":\"Action 7\",\"showlegend\":false,\"x\":[1,2],\"y\":[65,72],\"type\":\"scatter\"},{\"line\":{\"color\":\"rgb(68, 1, 84)\",\"width\":2},\"mode\":\"lines+markers\",\"name\":\"Action 7\",\"showlegend\":false,\"x\":[1,2],\"y\":[85,92],\"type\":\"scatter\"},{\"line\":{\"color\":\"rgb(68, 1, 84)\",\"width\":2},\"mode\":\"lines+markers\",\"name\":\"Action 7\",\"showlegend\":false,\"x\":[1,2],\"y\":[87,94],\"type\":\"scatter\"},{\"line\":{\"color\":\"rgb(68, 1, 84)\",\"width\":2},\"mode\":\"lines+markers\",\"name\":\"Action 7\",\"showlegend\":false,\"x\":[2,3],\"y\":[3,10],\"type\":\"scatter\"},{\"line\":{\"color\":\"rgb(68, 1, 84)\",\"width\":2},\"mode\":\"lines+markers\",\"name\":\"Action 7\",\"showlegend\":false,\"x\":[2,3],\"y\":[5,12],\"type\":\"scatter\"},{\"line\":{\"color\":\"rgb(68, 1, 84)\",\"width\":2},\"mode\":\"lines+markers\",\"name\":\"Action 7\",\"showlegend\":false,\"x\":[2,3],\"y\":[7,14],\"type\":\"scatter\"},{\"line\":{\"color\":\"rgb(68, 1, 84)\",\"width\":2},\"mode\":\"lines+markers\",\"name\":\"Action 7\",\"showlegend\":false,\"x\":[2,3],\"y\":[11,18],\"type\":\"scatter\"},{\"line\":{\"color\":\"rgb(68, 1, 84)\",\"width\":2},\"mode\":\"lines+markers\",\"name\":\"Action 7\",\"showlegend\":false,\"x\":[2,3],\"y\":[12,19],\"type\":\"scatter\"},{\"line\":{\"color\":\"rgb(68, 1, 84)\",\"width\":2},\"mode\":\"lines+markers\",\"name\":\"Action 7\",\"showlegend\":false,\"x\":[2,3],\"y\":[16,23],\"type\":\"scatter\"},{\"line\":{\"color\":\"rgb(68, 1, 84)\",\"width\":2},\"mode\":\"lines+markers\",\"name\":\"Action 7\",\"showlegend\":false,\"x\":[2,3],\"y\":[18,25],\"type\":\"scatter\"},{\"line\":{\"color\":\"rgb(68, 1, 84)\",\"width\":2},\"mode\":\"lines+markers\",\"name\":\"Action 7\",\"showlegend\":false,\"x\":[2,3],\"y\":[21,28],\"type\":\"scatter\"},{\"line\":{\"color\":\"rgb(68, 1, 84)\",\"width\":2},\"mode\":\"lines+markers\",\"name\":\"Action 7\",\"showlegend\":false,\"x\":[2,3],\"y\":[30,37],\"type\":\"scatter\"},{\"line\":{\"color\":\"rgb(68, 1, 84)\",\"width\":2},\"mode\":\"lines+markers\",\"name\":\"Action 7\",\"showlegend\":false,\"x\":[2,3],\"y\":[32,39],\"type\":\"scatter\"},{\"line\":{\"color\":\"rgb(68, 1, 84)\",\"width\":2},\"mode\":\"lines+markers\",\"name\":\"Action 7\",\"showlegend\":false,\"x\":[2,3],\"y\":[36,43],\"type\":\"scatter\"},{\"line\":{\"color\":\"rgb(68, 1, 84)\",\"width\":2},\"mode\":\"lines+markers\",\"name\":\"Action 7\",\"showlegend\":false,\"x\":[2,3],\"y\":[45,52],\"type\":\"scatter\"},{\"line\":{\"color\":\"rgb(68, 1, 84)\",\"width\":2},\"mode\":\"lines+markers\",\"name\":\"Action 7\",\"showlegend\":false,\"x\":[3,4],\"y\":[1,8],\"type\":\"scatter\"},{\"line\":{\"color\":\"rgb(68, 1, 84)\",\"width\":2},\"mode\":\"lines+markers\",\"name\":\"Action 7\",\"showlegend\":false,\"x\":[3,4],\"y\":[3,10],\"type\":\"scatter\"},{\"line\":{\"color\":\"rgb(68, 1, 84)\",\"width\":2},\"mode\":\"lines+markers\",\"name\":\"Action 7\",\"showlegend\":false,\"x\":[3,4],\"y\":[8,15],\"type\":\"scatter\"},{\"line\":{\"color\":\"rgb(68, 1, 84)\",\"width\":2},\"mode\":\"lines+markers\",\"name\":\"Action 7\",\"showlegend\":false,\"x\":[3,4],\"y\":[9,16],\"type\":\"scatter\"},{\"line\":{\"color\":\"rgb(68, 1, 84)\",\"width\":2},\"mode\":\"lines+markers\",\"name\":\"Action 7\",\"showlegend\":false,\"x\":[3,4],\"y\":[12,19],\"type\":\"scatter\"},{\"line\":{\"color\":\"rgb(68, 1, 84)\",\"width\":2},\"mode\":\"lines+markers\",\"name\":\"Action 7\",\"showlegend\":false,\"x\":[3,4],\"y\":[16,23],\"type\":\"scatter\"},{\"line\":{\"color\":\"rgb(68, 1, 84)\",\"width\":2},\"mode\":\"lines+markers\",\"name\":\"Action 7\",\"showlegend\":false,\"x\":[3,4],\"y\":[17,24],\"type\":\"scatter\"},{\"line\":{\"color\":\"rgb(68, 1, 84)\",\"width\":2},\"mode\":\"lines+markers\",\"name\":\"Action 7\",\"showlegend\":false,\"x\":[3,4],\"y\":[22,29],\"type\":\"scatter\"},{\"line\":{\"color\":\"rgb(68, 1, 84)\",\"width\":2},\"mode\":\"lines+markers\",\"name\":\"Action 7\",\"showlegend\":false,\"x\":[3,4],\"y\":[33,40],\"type\":\"scatter\"},{\"line\":{\"color\":\"rgb(68, 1, 84)\",\"width\":2},\"mode\":\"lines+markers\",\"name\":\"Action 7\",\"showlegend\":false,\"x\":[3,4],\"y\":[36,43],\"type\":\"scatter\"},{\"line\":{\"color\":\"rgb(68, 1, 84)\",\"width\":2},\"mode\":\"lines+markers\",\"name\":\"Action 7\",\"showlegend\":false,\"x\":[3,4],\"y\":[41,48],\"type\":\"scatter\"},{\"line\":{\"color\":\"rgb(68, 1, 84)\",\"width\":2},\"mode\":\"lines+markers\",\"name\":\"Action 7\",\"showlegend\":false,\"x\":[3,4],\"y\":[43,50],\"type\":\"scatter\"},{\"line\":{\"color\":\"rgb(68, 1, 84)\",\"width\":2},\"mode\":\"lines+markers\",\"name\":\"Action 7\",\"showlegend\":false,\"x\":[3,4],\"y\":[44,51],\"type\":\"scatter\"},{\"line\":{\"color\":\"rgb(68, 1, 84)\",\"width\":2},\"mode\":\"lines+markers\",\"name\":\"Action 7\",\"showlegend\":false,\"x\":[3,4],\"y\":[49,56],\"type\":\"scatter\"},{\"line\":{\"color\":\"rgb(68, 1, 84)\",\"width\":2},\"mode\":\"lines+markers\",\"name\":\"Action 7\",\"showlegend\":false,\"x\":[3,4],\"y\":[64,71],\"type\":\"scatter\"},{\"line\":{\"color\":\"rgb(68, 1, 84)\",\"width\":2},\"mode\":\"lines+markers\",\"name\":\"Action 7\",\"showlegend\":false,\"x\":[4,5],\"y\":[2,9],\"type\":\"scatter\"},{\"line\":{\"color\":\"rgb(68, 1, 84)\",\"width\":2},\"mode\":\"lines+markers\",\"name\":\"Action 7\",\"showlegend\":false,\"x\":[4,5],\"y\":[19,26],\"type\":\"scatter\"},{\"line\":{\"color\":\"rgb(68, 1, 84)\",\"width\":2},\"mode\":\"lines+markers\",\"name\":\"Action 7\",\"showlegend\":false,\"x\":[4,5],\"y\":[28,35],\"type\":\"scatter\"},{\"line\":{\"color\":\"rgb(68, 1, 84)\",\"width\":2},\"mode\":\"lines+markers\",\"name\":\"Action 7\",\"showlegend\":false,\"x\":[4,5],\"y\":[31,38],\"type\":\"scatter\"},{\"line\":{\"color\":\"rgb(68, 1, 84)\",\"width\":2},\"mode\":\"lines+markers\",\"name\":\"Action 7\",\"showlegend\":false,\"x\":[4,5],\"y\":[35,42],\"type\":\"scatter\"},{\"line\":{\"color\":\"rgb(68, 1, 84)\",\"width\":2},\"mode\":\"lines+markers\",\"name\":\"Action 7\",\"showlegend\":false,\"x\":[4,5],\"y\":[36,43],\"type\":\"scatter\"},{\"line\":{\"color\":\"rgb(68, 1, 84)\",\"width\":2},\"mode\":\"lines+markers\",\"name\":\"Action 7\",\"showlegend\":false,\"x\":[4,5],\"y\":[39,46],\"type\":\"scatter\"},{\"line\":{\"color\":\"rgb(68, 1, 84)\",\"width\":2},\"mode\":\"lines+markers\",\"name\":\"Action 7\",\"showlegend\":false,\"x\":[4,5],\"y\":[41,48],\"type\":\"scatter\"},{\"line\":{\"color\":\"rgb(68, 1, 84)\",\"width\":2},\"mode\":\"lines+markers\",\"name\":\"Action 7\",\"showlegend\":false,\"x\":[4,5],\"y\":[43,50],\"type\":\"scatter\"},{\"line\":{\"color\":\"rgb(68, 1, 84)\",\"width\":2},\"mode\":\"lines+markers\",\"name\":\"Action 7\",\"showlegend\":false,\"x\":[4,5],\"y\":[49,56],\"type\":\"scatter\"},{\"line\":{\"color\":\"rgb(68, 1, 84)\",\"width\":2},\"mode\":\"lines+markers\",\"name\":\"Action 7\",\"showlegend\":false,\"x\":[4,5],\"y\":[58,65],\"type\":\"scatter\"},{\"line\":{\"color\":\"rgb(68, 1, 84)\",\"width\":2},\"mode\":\"lines+markers\",\"name\":\"Action 7\",\"showlegend\":false,\"x\":[4,5],\"y\":[64,71],\"type\":\"scatter\"},{\"line\":{\"color\":\"rgb(68, 1, 84)\",\"width\":2},\"mode\":\"lines+markers\",\"name\":\"Action 7\",\"showlegend\":false,\"x\":[5,6],\"y\":[5,12],\"type\":\"scatter\"},{\"line\":{\"color\":\"rgb(68, 1, 84)\",\"width\":2},\"mode\":\"lines+markers\",\"name\":\"Action 7\",\"showlegend\":false,\"x\":[5,6],\"y\":[10,17],\"type\":\"scatter\"},{\"line\":{\"color\":\"rgb(68, 1, 84)\",\"width\":2},\"mode\":\"lines+markers\",\"name\":\"Action 7\",\"showlegend\":false,\"x\":[5,6],\"y\":[11,18],\"type\":\"scatter\"},{\"line\":{\"color\":\"rgb(68, 1, 84)\",\"width\":2},\"mode\":\"lines+markers\",\"name\":\"Action 7\",\"showlegend\":false,\"x\":[5,6],\"y\":[13,20],\"type\":\"scatter\"},{\"line\":{\"color\":\"rgb(68, 1, 84)\",\"width\":2},\"mode\":\"lines+markers\",\"name\":\"Action 7\",\"showlegend\":false,\"x\":[5,6],\"y\":[22,29],\"type\":\"scatter\"},{\"line\":{\"color\":\"rgb(68, 1, 84)\",\"width\":2},\"mode\":\"lines+markers\",\"name\":\"Action 7\",\"showlegend\":false,\"x\":[5,6],\"y\":[28,35],\"type\":\"scatter\"},{\"line\":{\"color\":\"rgb(68, 1, 84)\",\"width\":2},\"mode\":\"lines+markers\",\"name\":\"Action 7\",\"showlegend\":false,\"x\":[5,6],\"y\":[36,43],\"type\":\"scatter\"},{\"line\":{\"color\":\"rgb(68, 1, 84)\",\"width\":2},\"mode\":\"lines+markers\",\"name\":\"Action 7\",\"showlegend\":false,\"x\":[5,6],\"y\":[40,47],\"type\":\"scatter\"},{\"line\":{\"color\":\"rgb(68, 1, 84)\",\"width\":2},\"mode\":\"lines+markers\",\"name\":\"Action 7\",\"showlegend\":false,\"x\":[5,6],\"y\":[42,49],\"type\":\"scatter\"},{\"line\":{\"color\":\"rgb(68, 1, 84)\",\"width\":2},\"mode\":\"lines+markers\",\"name\":\"Action 7\",\"showlegend\":false,\"x\":[5,6],\"y\":[43,50],\"type\":\"scatter\"},{\"line\":{\"color\":\"rgb(68, 1, 84)\",\"width\":2},\"mode\":\"lines+markers\",\"name\":\"Action 7\",\"showlegend\":false,\"x\":[5,6],\"y\":[45,52],\"type\":\"scatter\"},{\"line\":{\"color\":\"rgb(68, 1, 84)\",\"width\":2},\"mode\":\"lines+markers\",\"name\":\"Action 7\",\"showlegend\":false,\"x\":[5,6],\"y\":[63,70],\"type\":\"scatter\"},{\"line\":{\"color\":\"rgb(68, 1, 84)\",\"width\":2},\"mode\":\"lines+markers\",\"name\":\"Action 7\",\"showlegend\":false,\"x\":[6,7],\"y\":[4,11],\"type\":\"scatter\"},{\"line\":{\"color\":\"rgb(68, 1, 84)\",\"width\":2},\"mode\":\"lines+markers\",\"name\":\"Action 7\",\"showlegend\":false,\"x\":[6,7],\"y\":[19,26],\"type\":\"scatter\"},{\"line\":{\"color\":\"rgb(68, 1, 84)\",\"width\":2},\"mode\":\"lines+markers\",\"name\":\"Action 7\",\"showlegend\":false,\"x\":[6,7],\"y\":[21,28],\"type\":\"scatter\"},{\"line\":{\"color\":\"rgb(68, 1, 84)\",\"width\":2},\"mode\":\"lines+markers\",\"name\":\"Action 7\",\"showlegend\":false,\"x\":[6,7],\"y\":[29,36],\"type\":\"scatter\"},{\"line\":{\"color\":\"rgb(68, 1, 84)\",\"width\":2},\"mode\":\"lines+markers\",\"name\":\"Action 7\",\"showlegend\":false,\"x\":[6,7],\"y\":[33,40],\"type\":\"scatter\"},{\"line\":{\"color\":\"rgb(68, 1, 84)\",\"width\":2},\"mode\":\"lines+markers\",\"name\":\"Action 7\",\"showlegend\":false,\"x\":[6,7],\"y\":[36,43],\"type\":\"scatter\"},{\"line\":{\"color\":\"rgb(68, 1, 84)\",\"width\":2},\"mode\":\"lines+markers\",\"name\":\"Action 7\",\"showlegend\":false,\"x\":[6,7],\"y\":[40,47],\"type\":\"scatter\"},{\"line\":{\"color\":\"rgb(68, 1, 84)\",\"width\":2},\"mode\":\"lines+markers\",\"name\":\"Action 7\",\"showlegend\":false,\"x\":[6,7],\"y\":[41,48],\"type\":\"scatter\"},{\"line\":{\"color\":\"rgb(68, 1, 84)\",\"width\":2},\"mode\":\"lines+markers\",\"name\":\"Action 7\",\"showlegend\":false,\"x\":[6,7],\"y\":[43,50],\"type\":\"scatter\"},{\"line\":{\"color\":\"rgb(68, 1, 84)\",\"width\":2},\"mode\":\"lines+markers\",\"name\":\"Action 7\",\"showlegend\":false,\"x\":[6,7],\"y\":[44,51],\"type\":\"scatter\"},{\"line\":{\"color\":\"rgb(68, 1, 84)\",\"width\":2},\"mode\":\"lines+markers\",\"name\":\"Action 7\",\"showlegend\":false,\"x\":[6,7],\"y\":[49,56],\"type\":\"scatter\"},{\"line\":{\"color\":\"rgb(68, 1, 84)\",\"width\":2},\"mode\":\"lines+markers\",\"name\":\"Action 7\",\"showlegend\":false,\"x\":[7,8],\"y\":[8,15],\"type\":\"scatter\"},{\"line\":{\"color\":\"rgb(68, 1, 84)\",\"width\":2},\"mode\":\"lines+markers\",\"name\":\"Action 7\",\"showlegend\":false,\"x\":[7,8],\"y\":[10,17],\"type\":\"scatter\"},{\"line\":{\"color\":\"rgb(68, 1, 84)\",\"width\":2},\"mode\":\"lines+markers\",\"name\":\"Action 7\",\"showlegend\":false,\"x\":[7,8],\"y\":[15,22],\"type\":\"scatter\"},{\"line\":{\"color\":\"rgb(68, 1, 84)\",\"width\":2},\"mode\":\"lines+markers\",\"name\":\"Action 7\",\"showlegend\":false,\"x\":[7,8],\"y\":[27,34],\"type\":\"scatter\"},{\"line\":{\"color\":\"rgb(68, 1, 84)\",\"width\":2},\"mode\":\"lines+markers\",\"name\":\"Action 7\",\"showlegend\":false,\"x\":[7,8],\"y\":[29,36],\"type\":\"scatter\"},{\"line\":{\"color\":\"rgb(68, 1, 84)\",\"width\":2},\"mode\":\"lines+markers\",\"name\":\"Action 7\",\"showlegend\":false,\"x\":[7,8],\"y\":[33,40],\"type\":\"scatter\"},{\"line\":{\"color\":\"rgb(68, 1, 84)\",\"width\":2},\"mode\":\"lines+markers\",\"name\":\"Action 7\",\"showlegend\":false,\"x\":[7,8],\"y\":[40,47],\"type\":\"scatter\"},{\"line\":{\"color\":\"rgb(68, 1, 84)\",\"width\":2},\"mode\":\"lines+markers\",\"name\":\"Action 7\",\"showlegend\":false,\"x\":[7,8],\"y\":[43,50],\"type\":\"scatter\"},{\"line\":{\"color\":\"rgb(68, 1, 84)\",\"width\":2},\"mode\":\"lines+markers\",\"name\":\"Action 7\",\"showlegend\":false,\"x\":[7,8],\"y\":[45,52],\"type\":\"scatter\"},{\"line\":{\"color\":\"rgb(68, 1, 84)\",\"width\":2},\"mode\":\"lines+markers\",\"name\":\"Action 7\",\"showlegend\":false,\"x\":[7,8],\"y\":[46,53],\"type\":\"scatter\"},{\"line\":{\"color\":\"rgb(68, 1, 84)\",\"width\":2},\"mode\":\"lines+markers\",\"name\":\"Action 7\",\"showlegend\":false,\"x\":[7,8],\"y\":[47,54],\"type\":\"scatter\"},{\"line\":{\"color\":\"rgb(68, 1, 84)\",\"width\":2},\"mode\":\"lines+markers\",\"name\":\"Action 7\",\"showlegend\":false,\"x\":[7,8],\"y\":[48,55],\"type\":\"scatter\"},{\"line\":{\"color\":\"rgb(68, 1, 84)\",\"width\":2},\"mode\":\"lines+markers\",\"name\":\"Action 7\",\"showlegend\":false,\"x\":[7,8],\"y\":[49,56],\"type\":\"scatter\"},{\"line\":{\"color\":\"rgb(68, 1, 84)\",\"width\":2},\"mode\":\"lines+markers\",\"name\":\"Action 7\",\"showlegend\":false,\"x\":[7,8],\"y\":[52,59],\"type\":\"scatter\"},{\"line\":{\"color\":\"rgb(58, 82, 139)\",\"width\":2},\"mode\":\"lines+markers\",\"name\":\"Action 0\",\"x\":[0,1],\"y\":[2,2],\"type\":\"scatter\"},{\"line\":{\"color\":\"rgb(58, 82, 139)\",\"width\":2},\"mode\":\"lines+markers\",\"name\":\"Action 0\",\"showlegend\":false,\"x\":[0,1],\"y\":[7,7],\"type\":\"scatter\"},{\"line\":{\"color\":\"rgb(58, 82, 139)\",\"width\":2},\"mode\":\"lines+markers\",\"name\":\"Action 0\",\"showlegend\":false,\"x\":[0,1],\"y\":[10,10],\"type\":\"scatter\"},{\"line\":{\"color\":\"rgb(58, 82, 139)\",\"width\":2},\"mode\":\"lines+markers\",\"name\":\"Action 0\",\"showlegend\":false,\"x\":[0,1],\"y\":[17,17],\"type\":\"scatter\"},{\"line\":{\"color\":\"rgb(58, 82, 139)\",\"width\":2},\"mode\":\"lines+markers\",\"name\":\"Action 0\",\"showlegend\":false,\"x\":[0,1],\"y\":[24,24],\"type\":\"scatter\"},{\"line\":{\"color\":\"rgb(58, 82, 139)\",\"width\":2},\"mode\":\"lines+markers\",\"name\":\"Action 0\",\"showlegend\":false,\"x\":[0,1],\"y\":[28,28],\"type\":\"scatter\"},{\"line\":{\"color\":\"rgb(58, 82, 139)\",\"width\":2},\"mode\":\"lines+markers\",\"name\":\"Action 0\",\"showlegend\":false,\"x\":[0,1],\"y\":[30,30],\"type\":\"scatter\"},{\"line\":{\"color\":\"rgb(58, 82, 139)\",\"width\":2},\"mode\":\"lines+markers\",\"name\":\"Action 0\",\"showlegend\":false,\"x\":[0,1],\"y\":[31,31],\"type\":\"scatter\"},{\"line\":{\"color\":\"rgb(58, 82, 139)\",\"width\":2},\"mode\":\"lines+markers\",\"name\":\"Action 0\",\"showlegend\":false,\"x\":[0,1],\"y\":[37,37],\"type\":\"scatter\"},{\"line\":{\"color\":\"rgb(58, 82, 139)\",\"width\":2},\"mode\":\"lines+markers\",\"name\":\"Action 0\",\"showlegend\":false,\"x\":[0,1],\"y\":[39,39],\"type\":\"scatter\"},{\"line\":{\"color\":\"rgb(58, 82, 139)\",\"width\":2},\"mode\":\"lines+markers\",\"name\":\"Action 0\",\"showlegend\":false,\"x\":[0,1],\"y\":[42,42],\"type\":\"scatter\"},{\"line\":{\"color\":\"rgb(58, 82, 139)\",\"width\":2},\"mode\":\"lines+markers\",\"name\":\"Action 0\",\"showlegend\":false,\"x\":[0,1],\"y\":[44,44],\"type\":\"scatter\"},{\"line\":{\"color\":\"rgb(58, 82, 139)\",\"width\":2},\"mode\":\"lines+markers\",\"name\":\"Action 0\",\"showlegend\":false,\"x\":[0,1],\"y\":[46,46],\"type\":\"scatter\"},{\"line\":{\"color\":\"rgb(58, 82, 139)\",\"width\":2},\"mode\":\"lines+markers\",\"name\":\"Action 0\",\"showlegend\":false,\"x\":[0,1],\"y\":[48,48],\"type\":\"scatter\"},{\"line\":{\"color\":\"rgb(58, 82, 139)\",\"width\":2},\"mode\":\"lines+markers\",\"name\":\"Action 0\",\"showlegend\":false,\"x\":[0,1],\"y\":[49,49],\"type\":\"scatter\"},{\"line\":{\"color\":\"rgb(58, 82, 139)\",\"width\":2},\"mode\":\"lines+markers\",\"name\":\"Action 0\",\"showlegend\":false,\"x\":[0,1],\"y\":[51,51],\"type\":\"scatter\"},{\"line\":{\"color\":\"rgb(58, 82, 139)\",\"width\":2},\"mode\":\"lines+markers\",\"name\":\"Action 0\",\"showlegend\":false,\"x\":[0,1],\"y\":[55,55],\"type\":\"scatter\"},{\"line\":{\"color\":\"rgb(58, 82, 139)\",\"width\":2},\"mode\":\"lines+markers\",\"name\":\"Action 0\",\"showlegend\":false,\"x\":[0,1],\"y\":[56,56],\"type\":\"scatter\"},{\"line\":{\"color\":\"rgb(58, 82, 139)\",\"width\":2},\"mode\":\"lines+markers\",\"name\":\"Action 0\",\"showlegend\":false,\"x\":[0,1],\"y\":[57,57],\"type\":\"scatter\"},{\"line\":{\"color\":\"rgb(58, 82, 139)\",\"width\":2},\"mode\":\"lines+markers\",\"name\":\"Action 0\",\"showlegend\":false,\"x\":[0,1],\"y\":[58,58],\"type\":\"scatter\"},{\"line\":{\"color\":\"rgb(58, 82, 139)\",\"width\":2},\"mode\":\"lines+markers\",\"name\":\"Action 0\",\"showlegend\":false,\"x\":[0,1],\"y\":[59,59],\"type\":\"scatter\"},{\"line\":{\"color\":\"rgb(58, 82, 139)\",\"width\":2},\"mode\":\"lines+markers\",\"name\":\"Action 0\",\"showlegend\":false,\"x\":[0,1],\"y\":[62,62],\"type\":\"scatter\"},{\"line\":{\"color\":\"rgb(58, 82, 139)\",\"width\":2},\"mode\":\"lines+markers\",\"name\":\"Action 0\",\"showlegend\":false,\"x\":[0,1],\"y\":[64,64],\"type\":\"scatter\"},{\"line\":{\"color\":\"rgb(58, 82, 139)\",\"width\":2},\"mode\":\"lines+markers\",\"name\":\"Action 0\",\"showlegend\":false,\"x\":[0,1],\"y\":[65,65],\"type\":\"scatter\"},{\"line\":{\"color\":\"rgb(58, 82, 139)\",\"width\":2},\"mode\":\"lines+markers\",\"name\":\"Action 0\",\"showlegend\":false,\"x\":[0,1],\"y\":[68,68],\"type\":\"scatter\"},{\"line\":{\"color\":\"rgb(58, 82, 139)\",\"width\":2},\"mode\":\"lines+markers\",\"name\":\"Action 0\",\"showlegend\":false,\"x\":[0,1],\"y\":[69,69],\"type\":\"scatter\"},{\"line\":{\"color\":\"rgb(58, 82, 139)\",\"width\":2},\"mode\":\"lines+markers\",\"name\":\"Action 0\",\"showlegend\":false,\"x\":[0,1],\"y\":[71,71],\"type\":\"scatter\"},{\"line\":{\"color\":\"rgb(58, 82, 139)\",\"width\":2},\"mode\":\"lines+markers\",\"name\":\"Action 0\",\"showlegend\":false,\"x\":[0,1],\"y\":[72,72],\"type\":\"scatter\"},{\"line\":{\"color\":\"rgb(58, 82, 139)\",\"width\":2},\"mode\":\"lines+markers\",\"name\":\"Action 0\",\"showlegend\":false,\"x\":[0,1],\"y\":[75,75],\"type\":\"scatter\"},{\"line\":{\"color\":\"rgb(58, 82, 139)\",\"width\":2},\"mode\":\"lines+markers\",\"name\":\"Action 0\",\"showlegend\":false,\"x\":[0,1],\"y\":[76,76],\"type\":\"scatter\"},{\"line\":{\"color\":\"rgb(58, 82, 139)\",\"width\":2},\"mode\":\"lines+markers\",\"name\":\"Action 0\",\"showlegend\":false,\"x\":[0,1],\"y\":[80,80],\"type\":\"scatter\"},{\"line\":{\"color\":\"rgb(58, 82, 139)\",\"width\":2},\"mode\":\"lines+markers\",\"name\":\"Action 0\",\"showlegend\":false,\"x\":[0,1],\"y\":[82,82],\"type\":\"scatter\"},{\"line\":{\"color\":\"rgb(58, 82, 139)\",\"width\":2},\"mode\":\"lines+markers\",\"name\":\"Action 0\",\"showlegend\":false,\"x\":[0,1],\"y\":[84,84],\"type\":\"scatter\"},{\"line\":{\"color\":\"rgb(58, 82, 139)\",\"width\":2},\"mode\":\"lines+markers\",\"name\":\"Action 0\",\"showlegend\":false,\"x\":[0,1],\"y\":[86,86],\"type\":\"scatter\"},{\"line\":{\"color\":\"rgb(58, 82, 139)\",\"width\":2},\"mode\":\"lines+markers\",\"name\":\"Action 0\",\"showlegend\":false,\"x\":[0,1],\"y\":[87,87],\"type\":\"scatter\"},{\"line\":{\"color\":\"rgb(58, 82, 139)\",\"width\":2},\"mode\":\"lines+markers\",\"name\":\"Action 0\",\"showlegend\":false,\"x\":[0,1],\"y\":[89,89],\"type\":\"scatter\"},{\"line\":{\"color\":\"rgb(58, 82, 139)\",\"width\":2},\"mode\":\"lines+markers\",\"name\":\"Action 0\",\"showlegend\":false,\"x\":[0,1],\"y\":[90,90],\"type\":\"scatter\"},{\"line\":{\"color\":\"rgb(58, 82, 139)\",\"width\":2},\"mode\":\"lines+markers\",\"name\":\"Action 0\",\"showlegend\":false,\"x\":[0,1],\"y\":[93,93],\"type\":\"scatter\"},{\"line\":{\"color\":\"rgb(58, 82, 139)\",\"width\":2},\"mode\":\"lines+markers\",\"name\":\"Action 0\",\"showlegend\":false,\"x\":[0,1],\"y\":[96,96],\"type\":\"scatter\"},{\"line\":{\"color\":\"rgb(58, 82, 139)\",\"width\":2},\"mode\":\"lines+markers\",\"name\":\"Action 0\",\"showlegend\":false,\"x\":[0,1],\"y\":[98,98],\"type\":\"scatter\"},{\"line\":{\"color\":\"rgb(58, 82, 139)\",\"width\":2},\"mode\":\"lines+markers\",\"name\":\"Action 0\",\"showlegend\":false,\"x\":[0,1],\"y\":[99,99],\"type\":\"scatter\"},{\"line\":{\"color\":\"rgb(58, 82, 139)\",\"width\":2},\"mode\":\"lines+markers\",\"name\":\"Action 0\",\"showlegend\":false,\"x\":[0,1],\"y\":[100,100],\"type\":\"scatter\"},{\"line\":{\"color\":\"rgb(58, 82, 139)\",\"width\":2},\"mode\":\"lines+markers\",\"name\":\"Action 0\",\"showlegend\":false,\"x\":[1,2],\"y\":[7,7],\"type\":\"scatter\"},{\"line\":{\"color\":\"rgb(58, 82, 139)\",\"width\":2},\"mode\":\"lines+markers\",\"name\":\"Action 0\",\"showlegend\":false,\"x\":[1,2],\"y\":[14,14],\"type\":\"scatter\"},{\"line\":{\"color\":\"rgb(58, 82, 139)\",\"width\":2},\"mode\":\"lines+markers\",\"name\":\"Action 0\",\"showlegend\":false,\"x\":[1,2],\"y\":[16,16],\"type\":\"scatter\"},{\"line\":{\"color\":\"rgb(58, 82, 139)\",\"width\":2},\"mode\":\"lines+markers\",\"name\":\"Action 0\",\"showlegend\":false,\"x\":[1,2],\"y\":[22,22],\"type\":\"scatter\"},{\"line\":{\"color\":\"rgb(58, 82, 139)\",\"width\":2},\"mode\":\"lines+markers\",\"name\":\"Action 0\",\"showlegend\":false,\"x\":[1,2],\"y\":[27,27],\"type\":\"scatter\"},{\"line\":{\"color\":\"rgb(58, 82, 139)\",\"width\":2},\"mode\":\"lines+markers\",\"name\":\"Action 0\",\"showlegend\":false,\"x\":[1,2],\"y\":[32,32],\"type\":\"scatter\"},{\"line\":{\"color\":\"rgb(58, 82, 139)\",\"width\":2},\"mode\":\"lines+markers\",\"name\":\"Action 0\",\"showlegend\":false,\"x\":[1,2],\"y\":[38,38],\"type\":\"scatter\"},{\"line\":{\"color\":\"rgb(58, 82, 139)\",\"width\":2},\"mode\":\"lines+markers\",\"name\":\"Action 0\",\"showlegend\":false,\"x\":[1,2],\"y\":[39,39],\"type\":\"scatter\"},{\"line\":{\"color\":\"rgb(58, 82, 139)\",\"width\":2},\"mode\":\"lines+markers\",\"name\":\"Action 0\",\"showlegend\":false,\"x\":[1,2],\"y\":[40,40],\"type\":\"scatter\"},{\"line\":{\"color\":\"rgb(58, 82, 139)\",\"width\":2},\"mode\":\"lines+markers\",\"name\":\"Action 0\",\"showlegend\":false,\"x\":[1,2],\"y\":[42,42],\"type\":\"scatter\"},{\"line\":{\"color\":\"rgb(58, 82, 139)\",\"width\":2},\"mode\":\"lines+markers\",\"name\":\"Action 0\",\"showlegend\":false,\"x\":[1,2],\"y\":[45,45],\"type\":\"scatter\"},{\"line\":{\"color\":\"rgb(58, 82, 139)\",\"width\":2},\"mode\":\"lines+markers\",\"name\":\"Action 0\",\"showlegend\":false,\"x\":[1,2],\"y\":[55,55],\"type\":\"scatter\"},{\"line\":{\"color\":\"rgb(58, 82, 139)\",\"width\":2},\"mode\":\"lines+markers\",\"name\":\"Action 0\",\"showlegend\":false,\"x\":[1,2],\"y\":[57,57],\"type\":\"scatter\"},{\"line\":{\"color\":\"rgb(58, 82, 139)\",\"width\":2},\"mode\":\"lines+markers\",\"name\":\"Action 0\",\"showlegend\":false,\"x\":[1,2],\"y\":[59,59],\"type\":\"scatter\"},{\"line\":{\"color\":\"rgb(58, 82, 139)\",\"width\":2},\"mode\":\"lines+markers\",\"name\":\"Action 0\",\"showlegend\":false,\"x\":[1,2],\"y\":[61,61],\"type\":\"scatter\"},{\"line\":{\"color\":\"rgb(58, 82, 139)\",\"width\":2},\"mode\":\"lines+markers\",\"name\":\"Action 0\",\"showlegend\":false,\"x\":[1,2],\"y\":[62,62],\"type\":\"scatter\"},{\"line\":{\"color\":\"rgb(58, 82, 139)\",\"width\":2},\"mode\":\"lines+markers\",\"name\":\"Action 0\",\"showlegend\":false,\"x\":[1,2],\"y\":[64,64],\"type\":\"scatter\"},{\"line\":{\"color\":\"rgb(58, 82, 139)\",\"width\":2},\"mode\":\"lines+markers\",\"name\":\"Action 0\",\"showlegend\":false,\"x\":[1,2],\"y\":[66,66],\"type\":\"scatter\"},{\"line\":{\"color\":\"rgb(58, 82, 139)\",\"width\":2},\"mode\":\"lines+markers\",\"name\":\"Action 0\",\"showlegend\":false,\"x\":[1,2],\"y\":[67,67],\"type\":\"scatter\"},{\"line\":{\"color\":\"rgb(58, 82, 139)\",\"width\":2},\"mode\":\"lines+markers\",\"name\":\"Action 0\",\"showlegend\":false,\"x\":[1,2],\"y\":[69,69],\"type\":\"scatter\"},{\"line\":{\"color\":\"rgb(58, 82, 139)\",\"width\":2},\"mode\":\"lines+markers\",\"name\":\"Action 0\",\"showlegend\":false,\"x\":[1,2],\"y\":[70,70],\"type\":\"scatter\"},{\"line\":{\"color\":\"rgb(58, 82, 139)\",\"width\":2},\"mode\":\"lines+markers\",\"name\":\"Action 0\",\"showlegend\":false,\"x\":[1,2],\"y\":[71,71],\"type\":\"scatter\"},{\"line\":{\"color\":\"rgb(58, 82, 139)\",\"width\":2},\"mode\":\"lines+markers\",\"name\":\"Action 0\",\"showlegend\":false,\"x\":[1,2],\"y\":[72,72],\"type\":\"scatter\"},{\"line\":{\"color\":\"rgb(58, 82, 139)\",\"width\":2},\"mode\":\"lines+markers\",\"name\":\"Action 0\",\"showlegend\":false,\"x\":[1,2],\"y\":[73,73],\"type\":\"scatter\"},{\"line\":{\"color\":\"rgb(58, 82, 139)\",\"width\":2},\"mode\":\"lines+markers\",\"name\":\"Action 0\",\"showlegend\":false,\"x\":[1,2],\"y\":[74,74],\"type\":\"scatter\"},{\"line\":{\"color\":\"rgb(58, 82, 139)\",\"width\":2},\"mode\":\"lines+markers\",\"name\":\"Action 0\",\"showlegend\":false,\"x\":[1,2],\"y\":[76,76],\"type\":\"scatter\"},{\"line\":{\"color\":\"rgb(58, 82, 139)\",\"width\":2},\"mode\":\"lines+markers\",\"name\":\"Action 0\",\"showlegend\":false,\"x\":[1,2],\"y\":[78,78],\"type\":\"scatter\"},{\"line\":{\"color\":\"rgb(58, 82, 139)\",\"width\":2},\"mode\":\"lines+markers\",\"name\":\"Action 0\",\"showlegend\":false,\"x\":[1,2],\"y\":[79,79],\"type\":\"scatter\"},{\"line\":{\"color\":\"rgb(58, 82, 139)\",\"width\":2},\"mode\":\"lines+markers\",\"name\":\"Action 0\",\"showlegend\":false,\"x\":[1,2],\"y\":[80,80],\"type\":\"scatter\"},{\"line\":{\"color\":\"rgb(58, 82, 139)\",\"width\":2},\"mode\":\"lines+markers\",\"name\":\"Action 0\",\"showlegend\":false,\"x\":[1,2],\"y\":[82,82],\"type\":\"scatter\"},{\"line\":{\"color\":\"rgb(58, 82, 139)\",\"width\":2},\"mode\":\"lines+markers\",\"name\":\"Action 0\",\"showlegend\":false,\"x\":[1,2],\"y\":[84,84],\"type\":\"scatter\"},{\"line\":{\"color\":\"rgb(58, 82, 139)\",\"width\":2},\"mode\":\"lines+markers\",\"name\":\"Action 0\",\"showlegend\":false,\"x\":[1,2],\"y\":[86,86],\"type\":\"scatter\"},{\"line\":{\"color\":\"rgb(58, 82, 139)\",\"width\":2},\"mode\":\"lines+markers\",\"name\":\"Action 0\",\"showlegend\":false,\"x\":[1,2],\"y\":[90,90],\"type\":\"scatter\"},{\"line\":{\"color\":\"rgb(58, 82, 139)\",\"width\":2},\"mode\":\"lines+markers\",\"name\":\"Action 0\",\"showlegend\":false,\"x\":[1,2],\"y\":[92,92],\"type\":\"scatter\"},{\"line\":{\"color\":\"rgb(58, 82, 139)\",\"width\":2},\"mode\":\"lines+markers\",\"name\":\"Action 0\",\"showlegend\":false,\"x\":[1,2],\"y\":[93,93],\"type\":\"scatter\"},{\"line\":{\"color\":\"rgb(58, 82, 139)\",\"width\":2},\"mode\":\"lines+markers\",\"name\":\"Action 0\",\"showlegend\":false,\"x\":[1,2],\"y\":[94,94],\"type\":\"scatter\"},{\"line\":{\"color\":\"rgb(58, 82, 139)\",\"width\":2},\"mode\":\"lines+markers\",\"name\":\"Action 0\",\"showlegend\":false,\"x\":[1,2],\"y\":[95,95],\"type\":\"scatter\"},{\"line\":{\"color\":\"rgb(58, 82, 139)\",\"width\":2},\"mode\":\"lines+markers\",\"name\":\"Action 0\",\"showlegend\":false,\"x\":[1,2],\"y\":[96,96],\"type\":\"scatter\"},{\"line\":{\"color\":\"rgb(58, 82, 139)\",\"width\":2},\"mode\":\"lines+markers\",\"name\":\"Action 0\",\"showlegend\":false,\"x\":[1,2],\"y\":[97,97],\"type\":\"scatter\"},{\"line\":{\"color\":\"rgb(58, 82, 139)\",\"width\":2},\"mode\":\"lines+markers\",\"name\":\"Action 0\",\"showlegend\":false,\"x\":[1,2],\"y\":[98,98],\"type\":\"scatter\"},{\"line\":{\"color\":\"rgb(58, 82, 139)\",\"width\":2},\"mode\":\"lines+markers\",\"name\":\"Action 0\",\"showlegend\":false,\"x\":[1,2],\"y\":[99,99],\"type\":\"scatter\"},{\"line\":{\"color\":\"rgb(58, 82, 139)\",\"width\":2},\"mode\":\"lines+markers\",\"name\":\"Action 0\",\"showlegend\":false,\"x\":[1,2],\"y\":[100,100],\"type\":\"scatter\"},{\"line\":{\"color\":\"rgb(58, 82, 139)\",\"width\":2},\"mode\":\"lines+markers\",\"name\":\"Action 0\",\"showlegend\":false,\"x\":[2,3],\"y\":[0,0],\"type\":\"scatter\"},{\"line\":{\"color\":\"rgb(58, 82, 139)\",\"width\":2},\"mode\":\"lines+markers\",\"name\":\"Action 0\",\"showlegend\":false,\"x\":[2,3],\"y\":[2,2],\"type\":\"scatter\"},{\"line\":{\"color\":\"rgb(58, 82, 139)\",\"width\":2},\"mode\":\"lines+markers\",\"name\":\"Action 0\",\"showlegend\":false,\"x\":[2,3],\"y\":[9,9],\"type\":\"scatter\"},{\"line\":{\"color\":\"rgb(58, 82, 139)\",\"width\":2},\"mode\":\"lines+markers\",\"name\":\"Action 0\",\"showlegend\":false,\"x\":[2,3],\"y\":[10,10],\"type\":\"scatter\"},{\"line\":{\"color\":\"rgb(58, 82, 139)\",\"width\":2},\"mode\":\"lines+markers\",\"name\":\"Action 0\",\"showlegend\":false,\"x\":[2,3],\"y\":[17,17],\"type\":\"scatter\"},{\"line\":{\"color\":\"rgb(58, 82, 139)\",\"width\":2},\"mode\":\"lines+markers\",\"name\":\"Action 0\",\"showlegend\":false,\"x\":[2,3],\"y\":[26,26],\"type\":\"scatter\"},{\"line\":{\"color\":\"rgb(58, 82, 139)\",\"width\":2},\"mode\":\"lines+markers\",\"name\":\"Action 0\",\"showlegend\":false,\"x\":[2,3],\"y\":[37,37],\"type\":\"scatter\"},{\"line\":{\"color\":\"rgb(58, 82, 139)\",\"width\":2},\"mode\":\"lines+markers\",\"name\":\"Action 0\",\"showlegend\":false,\"x\":[2,3],\"y\":[42,42],\"type\":\"scatter\"},{\"line\":{\"color\":\"rgb(58, 82, 139)\",\"width\":2},\"mode\":\"lines+markers\",\"name\":\"Action 0\",\"showlegend\":false,\"x\":[2,3],\"y\":[46,46],\"type\":\"scatter\"},{\"line\":{\"color\":\"rgb(58, 82, 139)\",\"width\":2},\"mode\":\"lines+markers\",\"name\":\"Action 0\",\"showlegend\":false,\"x\":[2,3],\"y\":[50,50],\"type\":\"scatter\"},{\"line\":{\"color\":\"rgb(58, 82, 139)\",\"width\":2},\"mode\":\"lines+markers\",\"name\":\"Action 0\",\"showlegend\":false,\"x\":[2,3],\"y\":[51,51],\"type\":\"scatter\"},{\"line\":{\"color\":\"rgb(58, 82, 139)\",\"width\":2},\"mode\":\"lines+markers\",\"name\":\"Action 0\",\"showlegend\":false,\"x\":[2,3],\"y\":[55,55],\"type\":\"scatter\"},{\"line\":{\"color\":\"rgb(58, 82, 139)\",\"width\":2},\"mode\":\"lines+markers\",\"name\":\"Action 0\",\"showlegend\":false,\"x\":[2,3],\"y\":[57,57],\"type\":\"scatter\"},{\"line\":{\"color\":\"rgb(58, 82, 139)\",\"width\":2},\"mode\":\"lines+markers\",\"name\":\"Action 0\",\"showlegend\":false,\"x\":[2,3],\"y\":[61,61],\"type\":\"scatter\"},{\"line\":{\"color\":\"rgb(58, 82, 139)\",\"width\":2},\"mode\":\"lines+markers\",\"name\":\"Action 0\",\"showlegend\":false,\"x\":[2,3],\"y\":[62,62],\"type\":\"scatter\"},{\"line\":{\"color\":\"rgb(58, 82, 139)\",\"width\":2},\"mode\":\"lines+markers\",\"name\":\"Action 0\",\"showlegend\":false,\"x\":[2,3],\"y\":[65,65],\"type\":\"scatter\"},{\"line\":{\"color\":\"rgb(58, 82, 139)\",\"width\":2},\"mode\":\"lines+markers\",\"name\":\"Action 0\",\"showlegend\":false,\"x\":[2,3],\"y\":[66,66],\"type\":\"scatter\"},{\"line\":{\"color\":\"rgb(58, 82, 139)\",\"width\":2},\"mode\":\"lines+markers\",\"name\":\"Action 0\",\"showlegend\":false,\"x\":[2,3],\"y\":[67,67],\"type\":\"scatter\"},{\"line\":{\"color\":\"rgb(58, 82, 139)\",\"width\":2},\"mode\":\"lines+markers\",\"name\":\"Action 0\",\"showlegend\":false,\"x\":[2,3],\"y\":[68,68],\"type\":\"scatter\"},{\"line\":{\"color\":\"rgb(58, 82, 139)\",\"width\":2},\"mode\":\"lines+markers\",\"name\":\"Action 0\",\"showlegend\":false,\"x\":[2,3],\"y\":[69,69],\"type\":\"scatter\"},{\"line\":{\"color\":\"rgb(58, 82, 139)\",\"width\":2},\"mode\":\"lines+markers\",\"name\":\"Action 0\",\"showlegend\":false,\"x\":[2,3],\"y\":[71,71],\"type\":\"scatter\"},{\"line\":{\"color\":\"rgb(58, 82, 139)\",\"width\":2},\"mode\":\"lines+markers\",\"name\":\"Action 0\",\"showlegend\":false,\"x\":[2,3],\"y\":[72,72],\"type\":\"scatter\"},{\"line\":{\"color\":\"rgb(58, 82, 139)\",\"width\":2},\"mode\":\"lines+markers\",\"name\":\"Action 0\",\"showlegend\":false,\"x\":[2,3],\"y\":[73,73],\"type\":\"scatter\"},{\"line\":{\"color\":\"rgb(58, 82, 139)\",\"width\":2},\"mode\":\"lines+markers\",\"name\":\"Action 0\",\"showlegend\":false,\"x\":[2,3],\"y\":[75,75],\"type\":\"scatter\"},{\"line\":{\"color\":\"rgb(58, 82, 139)\",\"width\":2},\"mode\":\"lines+markers\",\"name\":\"Action 0\",\"showlegend\":false,\"x\":[2,3],\"y\":[77,77],\"type\":\"scatter\"},{\"line\":{\"color\":\"rgb(58, 82, 139)\",\"width\":2},\"mode\":\"lines+markers\",\"name\":\"Action 0\",\"showlegend\":false,\"x\":[2,3],\"y\":[80,80],\"type\":\"scatter\"},{\"line\":{\"color\":\"rgb(58, 82, 139)\",\"width\":2},\"mode\":\"lines+markers\",\"name\":\"Action 0\",\"showlegend\":false,\"x\":[2,3],\"y\":[82,82],\"type\":\"scatter\"},{\"line\":{\"color\":\"rgb(58, 82, 139)\",\"width\":2},\"mode\":\"lines+markers\",\"name\":\"Action 0\",\"showlegend\":false,\"x\":[2,3],\"y\":[84,84],\"type\":\"scatter\"},{\"line\":{\"color\":\"rgb(58, 82, 139)\",\"width\":2},\"mode\":\"lines+markers\",\"name\":\"Action 0\",\"showlegend\":false,\"x\":[2,3],\"y\":[86,86],\"type\":\"scatter\"},{\"line\":{\"color\":\"rgb(58, 82, 139)\",\"width\":2},\"mode\":\"lines+markers\",\"name\":\"Action 0\",\"showlegend\":false,\"x\":[2,3],\"y\":[87,87],\"type\":\"scatter\"},{\"line\":{\"color\":\"rgb(58, 82, 139)\",\"width\":2},\"mode\":\"lines+markers\",\"name\":\"Action 0\",\"showlegend\":false,\"x\":[2,3],\"y\":[88,88],\"type\":\"scatter\"},{\"line\":{\"color\":\"rgb(58, 82, 139)\",\"width\":2},\"mode\":\"lines+markers\",\"name\":\"Action 0\",\"showlegend\":false,\"x\":[2,3],\"y\":[90,90],\"type\":\"scatter\"},{\"line\":{\"color\":\"rgb(58, 82, 139)\",\"width\":2},\"mode\":\"lines+markers\",\"name\":\"Action 0\",\"showlegend\":false,\"x\":[2,3],\"y\":[92,92],\"type\":\"scatter\"},{\"line\":{\"color\":\"rgb(58, 82, 139)\",\"width\":2},\"mode\":\"lines+markers\",\"name\":\"Action 0\",\"showlegend\":false,\"x\":[2,3],\"y\":[94,94],\"type\":\"scatter\"},{\"line\":{\"color\":\"rgb(58, 82, 139)\",\"width\":2},\"mode\":\"lines+markers\",\"name\":\"Action 0\",\"showlegend\":false,\"x\":[2,3],\"y\":[95,95],\"type\":\"scatter\"},{\"line\":{\"color\":\"rgb(58, 82, 139)\",\"width\":2},\"mode\":\"lines+markers\",\"name\":\"Action 0\",\"showlegend\":false,\"x\":[2,3],\"y\":[96,96],\"type\":\"scatter\"},{\"line\":{\"color\":\"rgb(58, 82, 139)\",\"width\":2},\"mode\":\"lines+markers\",\"name\":\"Action 0\",\"showlegend\":false,\"x\":[2,3],\"y\":[97,97],\"type\":\"scatter\"},{\"line\":{\"color\":\"rgb(58, 82, 139)\",\"width\":2},\"mode\":\"lines+markers\",\"name\":\"Action 0\",\"showlegend\":false,\"x\":[2,3],\"y\":[98,98],\"type\":\"scatter\"},{\"line\":{\"color\":\"rgb(58, 82, 139)\",\"width\":2},\"mode\":\"lines+markers\",\"name\":\"Action 0\",\"showlegend\":false,\"x\":[2,3],\"y\":[99,99],\"type\":\"scatter\"},{\"line\":{\"color\":\"rgb(58, 82, 139)\",\"width\":2},\"mode\":\"lines+markers\",\"name\":\"Action 0\",\"showlegend\":false,\"x\":[2,3],\"y\":[100,100],\"type\":\"scatter\"},{\"line\":{\"color\":\"rgb(58, 82, 139)\",\"width\":2},\"mode\":\"lines+markers\",\"name\":\"Action 0\",\"showlegend\":false,\"x\":[3,4],\"y\":[0,0],\"type\":\"scatter\"},{\"line\":{\"color\":\"rgb(58, 82, 139)\",\"width\":2},\"mode\":\"lines+markers\",\"name\":\"Action 0\",\"showlegend\":false,\"x\":[3,4],\"y\":[20,20],\"type\":\"scatter\"},{\"line\":{\"color\":\"rgb(58, 82, 139)\",\"width\":2},\"mode\":\"lines+markers\",\"name\":\"Action 0\",\"showlegend\":false,\"x\":[3,4],\"y\":[26,26],\"type\":\"scatter\"},{\"line\":{\"color\":\"rgb(58, 82, 139)\",\"width\":2},\"mode\":\"lines+markers\",\"name\":\"Action 0\",\"showlegend\":false,\"x\":[3,4],\"y\":[28,28],\"type\":\"scatter\"},{\"line\":{\"color\":\"rgb(58, 82, 139)\",\"width\":2},\"mode\":\"lines+markers\",\"name\":\"Action 0\",\"showlegend\":false,\"x\":[3,4],\"y\":[29,29],\"type\":\"scatter\"},{\"line\":{\"color\":\"rgb(58, 82, 139)\",\"width\":2},\"mode\":\"lines+markers\",\"name\":\"Action 0\",\"showlegend\":false,\"x\":[3,4],\"y\":[31,31],\"type\":\"scatter\"},{\"line\":{\"color\":\"rgb(58, 82, 139)\",\"width\":2},\"mode\":\"lines+markers\",\"name\":\"Action 0\",\"showlegend\":false,\"x\":[3,4],\"y\":[37,37],\"type\":\"scatter\"},{\"line\":{\"color\":\"rgb(58, 82, 139)\",\"width\":2},\"mode\":\"lines+markers\",\"name\":\"Action 0\",\"showlegend\":false,\"x\":[3,4],\"y\":[42,42],\"type\":\"scatter\"},{\"line\":{\"color\":\"rgb(58, 82, 139)\",\"width\":2},\"mode\":\"lines+markers\",\"name\":\"Action 0\",\"showlegend\":false,\"x\":[3,4],\"y\":[46,46],\"type\":\"scatter\"},{\"line\":{\"color\":\"rgb(58, 82, 139)\",\"width\":2},\"mode\":\"lines+markers\",\"name\":\"Action 0\",\"showlegend\":false,\"x\":[3,4],\"y\":[48,48],\"type\":\"scatter\"},{\"line\":{\"color\":\"rgb(58, 82, 139)\",\"width\":2},\"mode\":\"lines+markers\",\"name\":\"Action 0\",\"showlegend\":false,\"x\":[3,4],\"y\":[55,55],\"type\":\"scatter\"},{\"line\":{\"color\":\"rgb(58, 82, 139)\",\"width\":2},\"mode\":\"lines+markers\",\"name\":\"Action 0\",\"showlegend\":false,\"x\":[3,4],\"y\":[56,56],\"type\":\"scatter\"},{\"line\":{\"color\":\"rgb(58, 82, 139)\",\"width\":2},\"mode\":\"lines+markers\",\"name\":\"Action 0\",\"showlegend\":false,\"x\":[3,4],\"y\":[57,57],\"type\":\"scatter\"},{\"line\":{\"color\":\"rgb(58, 82, 139)\",\"width\":2},\"mode\":\"lines+markers\",\"name\":\"Action 0\",\"showlegend\":false,\"x\":[3,4],\"y\":[61,61],\"type\":\"scatter\"},{\"line\":{\"color\":\"rgb(58, 82, 139)\",\"width\":2},\"mode\":\"lines+markers\",\"name\":\"Action 0\",\"showlegend\":false,\"x\":[3,4],\"y\":[62,62],\"type\":\"scatter\"},{\"line\":{\"color\":\"rgb(58, 82, 139)\",\"width\":2},\"mode\":\"lines+markers\",\"name\":\"Action 0\",\"showlegend\":false,\"x\":[3,4],\"y\":[65,65],\"type\":\"scatter\"},{\"line\":{\"color\":\"rgb(58, 82, 139)\",\"width\":2},\"mode\":\"lines+markers\",\"name\":\"Action 0\",\"showlegend\":false,\"x\":[3,4],\"y\":[66,66],\"type\":\"scatter\"},{\"line\":{\"color\":\"rgb(58, 82, 139)\",\"width\":2},\"mode\":\"lines+markers\",\"name\":\"Action 0\",\"showlegend\":false,\"x\":[3,4],\"y\":[68,68],\"type\":\"scatter\"},{\"line\":{\"color\":\"rgb(58, 82, 139)\",\"width\":2},\"mode\":\"lines+markers\",\"name\":\"Action 0\",\"showlegend\":false,\"x\":[3,4],\"y\":[69,69],\"type\":\"scatter\"},{\"line\":{\"color\":\"rgb(58, 82, 139)\",\"width\":2},\"mode\":\"lines+markers\",\"name\":\"Action 0\",\"showlegend\":false,\"x\":[3,4],\"y\":[71,71],\"type\":\"scatter\"},{\"line\":{\"color\":\"rgb(58, 82, 139)\",\"width\":2},\"mode\":\"lines+markers\",\"name\":\"Action 0\",\"showlegend\":false,\"x\":[3,4],\"y\":[73,73],\"type\":\"scatter\"},{\"line\":{\"color\":\"rgb(58, 82, 139)\",\"width\":2},\"mode\":\"lines+markers\",\"name\":\"Action 0\",\"showlegend\":false,\"x\":[3,4],\"y\":[79,79],\"type\":\"scatter\"},{\"line\":{\"color\":\"rgb(58, 82, 139)\",\"width\":2},\"mode\":\"lines+markers\",\"name\":\"Action 0\",\"showlegend\":false,\"x\":[3,4],\"y\":[80,80],\"type\":\"scatter\"},{\"line\":{\"color\":\"rgb(58, 82, 139)\",\"width\":2},\"mode\":\"lines+markers\",\"name\":\"Action 0\",\"showlegend\":false,\"x\":[3,4],\"y\":[82,82],\"type\":\"scatter\"},{\"line\":{\"color\":\"rgb(58, 82, 139)\",\"width\":2},\"mode\":\"lines+markers\",\"name\":\"Action 0\",\"showlegend\":false,\"x\":[3,4],\"y\":[83,83],\"type\":\"scatter\"},{\"line\":{\"color\":\"rgb(58, 82, 139)\",\"width\":2},\"mode\":\"lines+markers\",\"name\":\"Action 0\",\"showlegend\":false,\"x\":[3,4],\"y\":[86,86],\"type\":\"scatter\"},{\"line\":{\"color\":\"rgb(58, 82, 139)\",\"width\":2},\"mode\":\"lines+markers\",\"name\":\"Action 0\",\"showlegend\":false,\"x\":[3,4],\"y\":[90,90],\"type\":\"scatter\"},{\"line\":{\"color\":\"rgb(58, 82, 139)\",\"width\":2},\"mode\":\"lines+markers\",\"name\":\"Action 0\",\"showlegend\":false,\"x\":[3,4],\"y\":[91,91],\"type\":\"scatter\"},{\"line\":{\"color\":\"rgb(58, 82, 139)\",\"width\":2},\"mode\":\"lines+markers\",\"name\":\"Action 0\",\"showlegend\":false,\"x\":[3,4],\"y\":[92,92],\"type\":\"scatter\"},{\"line\":{\"color\":\"rgb(58, 82, 139)\",\"width\":2},\"mode\":\"lines+markers\",\"name\":\"Action 0\",\"showlegend\":false,\"x\":[3,4],\"y\":[94,94],\"type\":\"scatter\"},{\"line\":{\"color\":\"rgb(58, 82, 139)\",\"width\":2},\"mode\":\"lines+markers\",\"name\":\"Action 0\",\"showlegend\":false,\"x\":[3,4],\"y\":[95,95],\"type\":\"scatter\"},{\"line\":{\"color\":\"rgb(58, 82, 139)\",\"width\":2},\"mode\":\"lines+markers\",\"name\":\"Action 0\",\"showlegend\":false,\"x\":[3,4],\"y\":[96,96],\"type\":\"scatter\"},{\"line\":{\"color\":\"rgb(58, 82, 139)\",\"width\":2},\"mode\":\"lines+markers\",\"name\":\"Action 0\",\"showlegend\":false,\"x\":[3,4],\"y\":[97,97],\"type\":\"scatter\"},{\"line\":{\"color\":\"rgb(58, 82, 139)\",\"width\":2},\"mode\":\"lines+markers\",\"name\":\"Action 0\",\"showlegend\":false,\"x\":[3,4],\"y\":[98,98],\"type\":\"scatter\"},{\"line\":{\"color\":\"rgb(58, 82, 139)\",\"width\":2},\"mode\":\"lines+markers\",\"name\":\"Action 0\",\"showlegend\":false,\"x\":[3,4],\"y\":[99,99],\"type\":\"scatter\"},{\"line\":{\"color\":\"rgb(58, 82, 139)\",\"width\":2},\"mode\":\"lines+markers\",\"name\":\"Action 0\",\"showlegend\":false,\"x\":[3,4],\"y\":[100,100],\"type\":\"scatter\"},{\"line\":{\"color\":\"rgb(58, 82, 139)\",\"width\":2},\"mode\":\"lines+markers\",\"name\":\"Action 0\",\"showlegend\":false,\"x\":[4,5],\"y\":[23,23],\"type\":\"scatter\"},{\"line\":{\"color\":\"rgb(58, 82, 139)\",\"width\":2},\"mode\":\"lines+markers\",\"name\":\"Action 0\",\"showlegend\":false,\"x\":[4,5],\"y\":[24,24],\"type\":\"scatter\"},{\"line\":{\"color\":\"rgb(58, 82, 139)\",\"width\":2},\"mode\":\"lines+markers\",\"name\":\"Action 0\",\"showlegend\":false,\"x\":[4,5],\"y\":[38,38],\"type\":\"scatter\"},{\"line\":{\"color\":\"rgb(58, 82, 139)\",\"width\":2},\"mode\":\"lines+markers\",\"name\":\"Action 0\",\"showlegend\":false,\"x\":[4,5],\"y\":[44,44],\"type\":\"scatter\"},{\"line\":{\"color\":\"rgb(58, 82, 139)\",\"width\":2},\"mode\":\"lines+markers\",\"name\":\"Action 0\",\"showlegend\":false,\"x\":[4,5],\"y\":[45,45],\"type\":\"scatter\"},{\"line\":{\"color\":\"rgb(58, 82, 139)\",\"width\":2},\"mode\":\"lines+markers\",\"name\":\"Action 0\",\"showlegend\":false,\"x\":[4,5],\"y\":[47,47],\"type\":\"scatter\"},{\"line\":{\"color\":\"rgb(58, 82, 139)\",\"width\":2},\"mode\":\"lines+markers\",\"name\":\"Action 0\",\"showlegend\":false,\"x\":[4,5],\"y\":[53,53],\"type\":\"scatter\"},{\"line\":{\"color\":\"rgb(58, 82, 139)\",\"width\":2},\"mode\":\"lines+markers\",\"name\":\"Action 0\",\"showlegend\":false,\"x\":[4,5],\"y\":[54,54],\"type\":\"scatter\"},{\"line\":{\"color\":\"rgb(58, 82, 139)\",\"width\":2},\"mode\":\"lines+markers\",\"name\":\"Action 0\",\"showlegend\":false,\"x\":[4,5],\"y\":[56,56],\"type\":\"scatter\"},{\"line\":{\"color\":\"rgb(58, 82, 139)\",\"width\":2},\"mode\":\"lines+markers\",\"name\":\"Action 0\",\"showlegend\":false,\"x\":[4,5],\"y\":[57,57],\"type\":\"scatter\"},{\"line\":{\"color\":\"rgb(58, 82, 139)\",\"width\":2},\"mode\":\"lines+markers\",\"name\":\"Action 0\",\"showlegend\":false,\"x\":[4,5],\"y\":[59,59],\"type\":\"scatter\"},{\"line\":{\"color\":\"rgb(58, 82, 139)\",\"width\":2},\"mode\":\"lines+markers\",\"name\":\"Action 0\",\"showlegend\":false,\"x\":[4,5],\"y\":[61,61],\"type\":\"scatter\"},{\"line\":{\"color\":\"rgb(58, 82, 139)\",\"width\":2},\"mode\":\"lines+markers\",\"name\":\"Action 0\",\"showlegend\":false,\"x\":[4,5],\"y\":[62,62],\"type\":\"scatter\"},{\"line\":{\"color\":\"rgb(58, 82, 139)\",\"width\":2},\"mode\":\"lines+markers\",\"name\":\"Action 0\",\"showlegend\":false,\"x\":[4,5],\"y\":[65,65],\"type\":\"scatter\"},{\"line\":{\"color\":\"rgb(58, 82, 139)\",\"width\":2},\"mode\":\"lines+markers\",\"name\":\"Action 0\",\"showlegend\":false,\"x\":[4,5],\"y\":[66,66],\"type\":\"scatter\"},{\"line\":{\"color\":\"rgb(58, 82, 139)\",\"width\":2},\"mode\":\"lines+markers\",\"name\":\"Action 0\",\"showlegend\":false,\"x\":[4,5],\"y\":[67,67],\"type\":\"scatter\"},{\"line\":{\"color\":\"rgb(58, 82, 139)\",\"width\":2},\"mode\":\"lines+markers\",\"name\":\"Action 0\",\"showlegend\":false,\"x\":[4,5],\"y\":[69,69],\"type\":\"scatter\"},{\"line\":{\"color\":\"rgb(58, 82, 139)\",\"width\":2},\"mode\":\"lines+markers\",\"name\":\"Action 0\",\"showlegend\":false,\"x\":[4,5],\"y\":[70,70],\"type\":\"scatter\"},{\"line\":{\"color\":\"rgb(58, 82, 139)\",\"width\":2},\"mode\":\"lines+markers\",\"name\":\"Action 0\",\"showlegend\":false,\"x\":[4,5],\"y\":[71,71],\"type\":\"scatter\"},{\"line\":{\"color\":\"rgb(58, 82, 139)\",\"width\":2},\"mode\":\"lines+markers\",\"name\":\"Action 0\",\"showlegend\":false,\"x\":[4,5],\"y\":[73,73],\"type\":\"scatter\"},{\"line\":{\"color\":\"rgb(58, 82, 139)\",\"width\":2},\"mode\":\"lines+markers\",\"name\":\"Action 0\",\"showlegend\":false,\"x\":[4,5],\"y\":[74,74],\"type\":\"scatter\"},{\"line\":{\"color\":\"rgb(58, 82, 139)\",\"width\":2},\"mode\":\"lines+markers\",\"name\":\"Action 0\",\"showlegend\":false,\"x\":[4,5],\"y\":[75,75],\"type\":\"scatter\"},{\"line\":{\"color\":\"rgb(58, 82, 139)\",\"width\":2},\"mode\":\"lines+markers\",\"name\":\"Action 0\",\"showlegend\":false,\"x\":[4,5],\"y\":[76,76],\"type\":\"scatter\"},{\"line\":{\"color\":\"rgb(58, 82, 139)\",\"width\":2},\"mode\":\"lines+markers\",\"name\":\"Action 0\",\"showlegend\":false,\"x\":[4,5],\"y\":[77,77],\"type\":\"scatter\"},{\"line\":{\"color\":\"rgb(58, 82, 139)\",\"width\":2},\"mode\":\"lines+markers\",\"name\":\"Action 0\",\"showlegend\":false,\"x\":[4,5],\"y\":[79,79],\"type\":\"scatter\"},{\"line\":{\"color\":\"rgb(58, 82, 139)\",\"width\":2},\"mode\":\"lines+markers\",\"name\":\"Action 0\",\"showlegend\":false,\"x\":[4,5],\"y\":[80,80],\"type\":\"scatter\"},{\"line\":{\"color\":\"rgb(58, 82, 139)\",\"width\":2},\"mode\":\"lines+markers\",\"name\":\"Action 0\",\"showlegend\":false,\"x\":[4,5],\"y\":[82,82],\"type\":\"scatter\"},{\"line\":{\"color\":\"rgb(58, 82, 139)\",\"width\":2},\"mode\":\"lines+markers\",\"name\":\"Action 0\",\"showlegend\":false,\"x\":[4,5],\"y\":[83,83],\"type\":\"scatter\"},{\"line\":{\"color\":\"rgb(58, 82, 139)\",\"width\":2},\"mode\":\"lines+markers\",\"name\":\"Action 0\",\"showlegend\":false,\"x\":[4,5],\"y\":[84,84],\"type\":\"scatter\"},{\"line\":{\"color\":\"rgb(58, 82, 139)\",\"width\":2},\"mode\":\"lines+markers\",\"name\":\"Action 0\",\"showlegend\":false,\"x\":[4,5],\"y\":[85,85],\"type\":\"scatter\"},{\"line\":{\"color\":\"rgb(58, 82, 139)\",\"width\":2},\"mode\":\"lines+markers\",\"name\":\"Action 0\",\"showlegend\":false,\"x\":[4,5],\"y\":[86,86],\"type\":\"scatter\"},{\"line\":{\"color\":\"rgb(58, 82, 139)\",\"width\":2},\"mode\":\"lines+markers\",\"name\":\"Action 0\",\"showlegend\":false,\"x\":[4,5],\"y\":[90,90],\"type\":\"scatter\"},{\"line\":{\"color\":\"rgb(58, 82, 139)\",\"width\":2},\"mode\":\"lines+markers\",\"name\":\"Action 0\",\"showlegend\":false,\"x\":[4,5],\"y\":[92,92],\"type\":\"scatter\"},{\"line\":{\"color\":\"rgb(58, 82, 139)\",\"width\":2},\"mode\":\"lines+markers\",\"name\":\"Action 0\",\"showlegend\":false,\"x\":[4,5],\"y\":[94,94],\"type\":\"scatter\"},{\"line\":{\"color\":\"rgb(58, 82, 139)\",\"width\":2},\"mode\":\"lines+markers\",\"name\":\"Action 0\",\"showlegend\":false,\"x\":[4,5],\"y\":[95,95],\"type\":\"scatter\"},{\"line\":{\"color\":\"rgb(58, 82, 139)\",\"width\":2},\"mode\":\"lines+markers\",\"name\":\"Action 0\",\"showlegend\":false,\"x\":[4,5],\"y\":[96,96],\"type\":\"scatter\"},{\"line\":{\"color\":\"rgb(58, 82, 139)\",\"width\":2},\"mode\":\"lines+markers\",\"name\":\"Action 0\",\"showlegend\":false,\"x\":[4,5],\"y\":[97,97],\"type\":\"scatter\"},{\"line\":{\"color\":\"rgb(58, 82, 139)\",\"width\":2},\"mode\":\"lines+markers\",\"name\":\"Action 0\",\"showlegend\":false,\"x\":[4,5],\"y\":[98,98],\"type\":\"scatter\"},{\"line\":{\"color\":\"rgb(58, 82, 139)\",\"width\":2},\"mode\":\"lines+markers\",\"name\":\"Action 0\",\"showlegend\":false,\"x\":[4,5],\"y\":[99,99],\"type\":\"scatter\"},{\"line\":{\"color\":\"rgb(58, 82, 139)\",\"width\":2},\"mode\":\"lines+markers\",\"name\":\"Action 0\",\"showlegend\":false,\"x\":[4,5],\"y\":[100,100],\"type\":\"scatter\"},{\"line\":{\"color\":\"rgb(58, 82, 139)\",\"width\":2},\"mode\":\"lines+markers\",\"name\":\"Action 0\",\"showlegend\":false,\"x\":[5,6],\"y\":[8,8],\"type\":\"scatter\"},{\"line\":{\"color\":\"rgb(58, 82, 139)\",\"width\":2},\"mode\":\"lines+markers\",\"name\":\"Action 0\",\"showlegend\":false,\"x\":[5,6],\"y\":[35,35],\"type\":\"scatter\"},{\"line\":{\"color\":\"rgb(58, 82, 139)\",\"width\":2},\"mode\":\"lines+markers\",\"name\":\"Action 0\",\"showlegend\":false,\"x\":[5,6],\"y\":[44,44],\"type\":\"scatter\"},{\"line\":{\"color\":\"rgb(58, 82, 139)\",\"width\":2},\"mode\":\"lines+markers\",\"name\":\"Action 0\",\"showlegend\":false,\"x\":[5,6],\"y\":[46,46],\"type\":\"scatter\"},{\"line\":{\"color\":\"rgb(58, 82, 139)\",\"width\":2},\"mode\":\"lines+markers\",\"name\":\"Action 0\",\"showlegend\":false,\"x\":[5,6],\"y\":[48,48],\"type\":\"scatter\"},{\"line\":{\"color\":\"rgb(58, 82, 139)\",\"width\":2},\"mode\":\"lines+markers\",\"name\":\"Action 0\",\"showlegend\":false,\"x\":[5,6],\"y\":[51,51],\"type\":\"scatter\"},{\"line\":{\"color\":\"rgb(58, 82, 139)\",\"width\":2},\"mode\":\"lines+markers\",\"name\":\"Action 0\",\"showlegend\":false,\"x\":[5,6],\"y\":[53,53],\"type\":\"scatter\"},{\"line\":{\"color\":\"rgb(58, 82, 139)\",\"width\":2},\"mode\":\"lines+markers\",\"name\":\"Action 0\",\"showlegend\":false,\"x\":[5,6],\"y\":[55,55],\"type\":\"scatter\"},{\"line\":{\"color\":\"rgb(58, 82, 139)\",\"width\":2},\"mode\":\"lines+markers\",\"name\":\"Action 0\",\"showlegend\":false,\"x\":[5,6],\"y\":[56,56],\"type\":\"scatter\"},{\"line\":{\"color\":\"rgb(58, 82, 139)\",\"width\":2},\"mode\":\"lines+markers\",\"name\":\"Action 0\",\"showlegend\":false,\"x\":[5,6],\"y\":[58,58],\"type\":\"scatter\"},{\"line\":{\"color\":\"rgb(58, 82, 139)\",\"width\":2},\"mode\":\"lines+markers\",\"name\":\"Action 0\",\"showlegend\":false,\"x\":[5,6],\"y\":[61,61],\"type\":\"scatter\"},{\"line\":{\"color\":\"rgb(58, 82, 139)\",\"width\":2},\"mode\":\"lines+markers\",\"name\":\"Action 0\",\"showlegend\":false,\"x\":[5,6],\"y\":[62,62],\"type\":\"scatter\"},{\"line\":{\"color\":\"rgb(58, 82, 139)\",\"width\":2},\"mode\":\"lines+markers\",\"name\":\"Action 0\",\"showlegend\":false,\"x\":[5,6],\"y\":[64,64],\"type\":\"scatter\"},{\"line\":{\"color\":\"rgb(58, 82, 139)\",\"width\":2},\"mode\":\"lines+markers\",\"name\":\"Action 0\",\"showlegend\":false,\"x\":[5,6],\"y\":[65,65],\"type\":\"scatter\"},{\"line\":{\"color\":\"rgb(58, 82, 139)\",\"width\":2},\"mode\":\"lines+markers\",\"name\":\"Action 0\",\"showlegend\":false,\"x\":[5,6],\"y\":[66,66],\"type\":\"scatter\"},{\"line\":{\"color\":\"rgb(58, 82, 139)\",\"width\":2},\"mode\":\"lines+markers\",\"name\":\"Action 0\",\"showlegend\":false,\"x\":[5,6],\"y\":[67,67],\"type\":\"scatter\"},{\"line\":{\"color\":\"rgb(58, 82, 139)\",\"width\":2},\"mode\":\"lines+markers\",\"name\":\"Action 0\",\"showlegend\":false,\"x\":[5,6],\"y\":[69,69],\"type\":\"scatter\"},{\"line\":{\"color\":\"rgb(58, 82, 139)\",\"width\":2},\"mode\":\"lines+markers\",\"name\":\"Action 0\",\"showlegend\":false,\"x\":[5,6],\"y\":[71,71],\"type\":\"scatter\"},{\"line\":{\"color\":\"rgb(58, 82, 139)\",\"width\":2},\"mode\":\"lines+markers\",\"name\":\"Action 0\",\"showlegend\":false,\"x\":[5,6],\"y\":[73,73],\"type\":\"scatter\"},{\"line\":{\"color\":\"rgb(58, 82, 139)\",\"width\":2},\"mode\":\"lines+markers\",\"name\":\"Action 0\",\"showlegend\":false,\"x\":[5,6],\"y\":[75,75],\"type\":\"scatter\"},{\"line\":{\"color\":\"rgb(58, 82, 139)\",\"width\":2},\"mode\":\"lines+markers\",\"name\":\"Action 0\",\"showlegend\":false,\"x\":[5,6],\"y\":[76,76],\"type\":\"scatter\"},{\"line\":{\"color\":\"rgb(58, 82, 139)\",\"width\":2},\"mode\":\"lines+markers\",\"name\":\"Action 0\",\"showlegend\":false,\"x\":[5,6],\"y\":[79,79],\"type\":\"scatter\"},{\"line\":{\"color\":\"rgb(58, 82, 139)\",\"width\":2},\"mode\":\"lines+markers\",\"name\":\"Action 0\",\"showlegend\":false,\"x\":[5,6],\"y\":[80,80],\"type\":\"scatter\"},{\"line\":{\"color\":\"rgb(58, 82, 139)\",\"width\":2},\"mode\":\"lines+markers\",\"name\":\"Action 0\",\"showlegend\":false,\"x\":[5,6],\"y\":[82,82],\"type\":\"scatter\"},{\"line\":{\"color\":\"rgb(58, 82, 139)\",\"width\":2},\"mode\":\"lines+markers\",\"name\":\"Action 0\",\"showlegend\":false,\"x\":[5,6],\"y\":[83,83],\"type\":\"scatter\"},{\"line\":{\"color\":\"rgb(58, 82, 139)\",\"width\":2},\"mode\":\"lines+markers\",\"name\":\"Action 0\",\"showlegend\":false,\"x\":[5,6],\"y\":[84,84],\"type\":\"scatter\"},{\"line\":{\"color\":\"rgb(58, 82, 139)\",\"width\":2},\"mode\":\"lines+markers\",\"name\":\"Action 0\",\"showlegend\":false,\"x\":[5,6],\"y\":[85,85],\"type\":\"scatter\"},{\"line\":{\"color\":\"rgb(58, 82, 139)\",\"width\":2},\"mode\":\"lines+markers\",\"name\":\"Action 0\",\"showlegend\":false,\"x\":[5,6],\"y\":[86,86],\"type\":\"scatter\"},{\"line\":{\"color\":\"rgb(58, 82, 139)\",\"width\":2},\"mode\":\"lines+markers\",\"name\":\"Action 0\",\"showlegend\":false,\"x\":[5,6],\"y\":[89,89],\"type\":\"scatter\"},{\"line\":{\"color\":\"rgb(58, 82, 139)\",\"width\":2},\"mode\":\"lines+markers\",\"name\":\"Action 0\",\"showlegend\":false,\"x\":[5,6],\"y\":[90,90],\"type\":\"scatter\"},{\"line\":{\"color\":\"rgb(58, 82, 139)\",\"width\":2},\"mode\":\"lines+markers\",\"name\":\"Action 0\",\"showlegend\":false,\"x\":[5,6],\"y\":[92,92],\"type\":\"scatter\"},{\"line\":{\"color\":\"rgb(58, 82, 139)\",\"width\":2},\"mode\":\"lines+markers\",\"name\":\"Action 0\",\"showlegend\":false,\"x\":[5,6],\"y\":[94,94],\"type\":\"scatter\"},{\"line\":{\"color\":\"rgb(58, 82, 139)\",\"width\":2},\"mode\":\"lines+markers\",\"name\":\"Action 0\",\"showlegend\":false,\"x\":[5,6],\"y\":[95,95],\"type\":\"scatter\"},{\"line\":{\"color\":\"rgb(58, 82, 139)\",\"width\":2},\"mode\":\"lines+markers\",\"name\":\"Action 0\",\"showlegend\":false,\"x\":[5,6],\"y\":[96,96],\"type\":\"scatter\"},{\"line\":{\"color\":\"rgb(58, 82, 139)\",\"width\":2},\"mode\":\"lines+markers\",\"name\":\"Action 0\",\"showlegend\":false,\"x\":[5,6],\"y\":[97,97],\"type\":\"scatter\"},{\"line\":{\"color\":\"rgb(58, 82, 139)\",\"width\":2},\"mode\":\"lines+markers\",\"name\":\"Action 0\",\"showlegend\":false,\"x\":[5,6],\"y\":[98,98],\"type\":\"scatter\"},{\"line\":{\"color\":\"rgb(58, 82, 139)\",\"width\":2},\"mode\":\"lines+markers\",\"name\":\"Action 0\",\"showlegend\":false,\"x\":[5,6],\"y\":[99,99],\"type\":\"scatter\"},{\"line\":{\"color\":\"rgb(58, 82, 139)\",\"width\":2},\"mode\":\"lines+markers\",\"name\":\"Action 0\",\"showlegend\":false,\"x\":[5,6],\"y\":[100,100],\"type\":\"scatter\"},{\"line\":{\"color\":\"rgb(58, 82, 139)\",\"width\":2},\"mode\":\"lines+markers\",\"name\":\"Action 0\",\"showlegend\":false,\"x\":[6,7],\"y\":[2,2],\"type\":\"scatter\"},{\"line\":{\"color\":\"rgb(58, 82, 139)\",\"width\":2},\"mode\":\"lines+markers\",\"name\":\"Action 0\",\"showlegend\":false,\"x\":[6,7],\"y\":[45,45],\"type\":\"scatter\"},{\"line\":{\"color\":\"rgb(58, 82, 139)\",\"width\":2},\"mode\":\"lines+markers\",\"name\":\"Action 0\",\"showlegend\":false,\"x\":[6,7],\"y\":[48,48],\"type\":\"scatter\"},{\"line\":{\"color\":\"rgb(58, 82, 139)\",\"width\":2},\"mode\":\"lines+markers\",\"name\":\"Action 0\",\"showlegend\":false,\"x\":[6,7],\"y\":[50,50],\"type\":\"scatter\"},{\"line\":{\"color\":\"rgb(58, 82, 139)\",\"width\":2},\"mode\":\"lines+markers\",\"name\":\"Action 0\",\"showlegend\":false,\"x\":[6,7],\"y\":[56,56],\"type\":\"scatter\"},{\"line\":{\"color\":\"rgb(58, 82, 139)\",\"width\":2},\"mode\":\"lines+markers\",\"name\":\"Action 0\",\"showlegend\":false,\"x\":[6,7],\"y\":[57,57],\"type\":\"scatter\"},{\"line\":{\"color\":\"rgb(58, 82, 139)\",\"width\":2},\"mode\":\"lines+markers\",\"name\":\"Action 0\",\"showlegend\":false,\"x\":[6,7],\"y\":[58,58],\"type\":\"scatter\"},{\"line\":{\"color\":\"rgb(58, 82, 139)\",\"width\":2},\"mode\":\"lines+markers\",\"name\":\"Action 0\",\"showlegend\":false,\"x\":[6,7],\"y\":[59,59],\"type\":\"scatter\"},{\"line\":{\"color\":\"rgb(58, 82, 139)\",\"width\":2},\"mode\":\"lines+markers\",\"name\":\"Action 0\",\"showlegend\":false,\"x\":[6,7],\"y\":[60,60],\"type\":\"scatter\"},{\"line\":{\"color\":\"rgb(58, 82, 139)\",\"width\":2},\"mode\":\"lines+markers\",\"name\":\"Action 0\",\"showlegend\":false,\"x\":[6,7],\"y\":[61,61],\"type\":\"scatter\"},{\"line\":{\"color\":\"rgb(58, 82, 139)\",\"width\":2},\"mode\":\"lines+markers\",\"name\":\"Action 0\",\"showlegend\":false,\"x\":[6,7],\"y\":[63,63],\"type\":\"scatter\"},{\"line\":{\"color\":\"rgb(58, 82, 139)\",\"width\":2},\"mode\":\"lines+markers\",\"name\":\"Action 0\",\"showlegend\":false,\"x\":[6,7],\"y\":[64,64],\"type\":\"scatter\"},{\"line\":{\"color\":\"rgb(58, 82, 139)\",\"width\":2},\"mode\":\"lines+markers\",\"name\":\"Action 0\",\"showlegend\":false,\"x\":[6,7],\"y\":[65,65],\"type\":\"scatter\"},{\"line\":{\"color\":\"rgb(58, 82, 139)\",\"width\":2},\"mode\":\"lines+markers\",\"name\":\"Action 0\",\"showlegend\":false,\"x\":[6,7],\"y\":[66,66],\"type\":\"scatter\"},{\"line\":{\"color\":\"rgb(58, 82, 139)\",\"width\":2},\"mode\":\"lines+markers\",\"name\":\"Action 0\",\"showlegend\":false,\"x\":[6,7],\"y\":[68,68],\"type\":\"scatter\"},{\"line\":{\"color\":\"rgb(58, 82, 139)\",\"width\":2},\"mode\":\"lines+markers\",\"name\":\"Action 0\",\"showlegend\":false,\"x\":[6,7],\"y\":[69,69],\"type\":\"scatter\"},{\"line\":{\"color\":\"rgb(58, 82, 139)\",\"width\":2},\"mode\":\"lines+markers\",\"name\":\"Action 0\",\"showlegend\":false,\"x\":[6,7],\"y\":[71,71],\"type\":\"scatter\"},{\"line\":{\"color\":\"rgb(58, 82, 139)\",\"width\":2},\"mode\":\"lines+markers\",\"name\":\"Action 0\",\"showlegend\":false,\"x\":[6,7],\"y\":[73,73],\"type\":\"scatter\"},{\"line\":{\"color\":\"rgb(58, 82, 139)\",\"width\":2},\"mode\":\"lines+markers\",\"name\":\"Action 0\",\"showlegend\":false,\"x\":[6,7],\"y\":[74,74],\"type\":\"scatter\"},{\"line\":{\"color\":\"rgb(58, 82, 139)\",\"width\":2},\"mode\":\"lines+markers\",\"name\":\"Action 0\",\"showlegend\":false,\"x\":[6,7],\"y\":[75,75],\"type\":\"scatter\"},{\"line\":{\"color\":\"rgb(58, 82, 139)\",\"width\":2},\"mode\":\"lines+markers\",\"name\":\"Action 0\",\"showlegend\":false,\"x\":[6,7],\"y\":[76,76],\"type\":\"scatter\"},{\"line\":{\"color\":\"rgb(58, 82, 139)\",\"width\":2},\"mode\":\"lines+markers\",\"name\":\"Action 0\",\"showlegend\":false,\"x\":[6,7],\"y\":[78,78],\"type\":\"scatter\"},{\"line\":{\"color\":\"rgb(58, 82, 139)\",\"width\":2},\"mode\":\"lines+markers\",\"name\":\"Action 0\",\"showlegend\":false,\"x\":[6,7],\"y\":[79,79],\"type\":\"scatter\"},{\"line\":{\"color\":\"rgb(58, 82, 139)\",\"width\":2},\"mode\":\"lines+markers\",\"name\":\"Action 0\",\"showlegend\":false,\"x\":[6,7],\"y\":[80,80],\"type\":\"scatter\"},{\"line\":{\"color\":\"rgb(58, 82, 139)\",\"width\":2},\"mode\":\"lines+markers\",\"name\":\"Action 0\",\"showlegend\":false,\"x\":[6,7],\"y\":[81,81],\"type\":\"scatter\"},{\"line\":{\"color\":\"rgb(58, 82, 139)\",\"width\":2},\"mode\":\"lines+markers\",\"name\":\"Action 0\",\"showlegend\":false,\"x\":[6,7],\"y\":[82,82],\"type\":\"scatter\"},{\"line\":{\"color\":\"rgb(58, 82, 139)\",\"width\":2},\"mode\":\"lines+markers\",\"name\":\"Action 0\",\"showlegend\":false,\"x\":[6,7],\"y\":[83,83],\"type\":\"scatter\"},{\"line\":{\"color\":\"rgb(58, 82, 139)\",\"width\":2},\"mode\":\"lines+markers\",\"name\":\"Action 0\",\"showlegend\":false,\"x\":[6,7],\"y\":[84,84],\"type\":\"scatter\"},{\"line\":{\"color\":\"rgb(58, 82, 139)\",\"width\":2},\"mode\":\"lines+markers\",\"name\":\"Action 0\",\"showlegend\":false,\"x\":[6,7],\"y\":[86,86],\"type\":\"scatter\"},{\"line\":{\"color\":\"rgb(58, 82, 139)\",\"width\":2},\"mode\":\"lines+markers\",\"name\":\"Action 0\",\"showlegend\":false,\"x\":[6,7],\"y\":[87,87],\"type\":\"scatter\"},{\"line\":{\"color\":\"rgb(58, 82, 139)\",\"width\":2},\"mode\":\"lines+markers\",\"name\":\"Action 0\",\"showlegend\":false,\"x\":[6,7],\"y\":[89,89],\"type\":\"scatter\"},{\"line\":{\"color\":\"rgb(58, 82, 139)\",\"width\":2},\"mode\":\"lines+markers\",\"name\":\"Action 0\",\"showlegend\":false,\"x\":[6,7],\"y\":[90,90],\"type\":\"scatter\"},{\"line\":{\"color\":\"rgb(58, 82, 139)\",\"width\":2},\"mode\":\"lines+markers\",\"name\":\"Action 0\",\"showlegend\":false,\"x\":[6,7],\"y\":[92,92],\"type\":\"scatter\"},{\"line\":{\"color\":\"rgb(58, 82, 139)\",\"width\":2},\"mode\":\"lines+markers\",\"name\":\"Action 0\",\"showlegend\":false,\"x\":[6,7],\"y\":[94,94],\"type\":\"scatter\"},{\"line\":{\"color\":\"rgb(58, 82, 139)\",\"width\":2},\"mode\":\"lines+markers\",\"name\":\"Action 0\",\"showlegend\":false,\"x\":[6,7],\"y\":[95,95],\"type\":\"scatter\"},{\"line\":{\"color\":\"rgb(58, 82, 139)\",\"width\":2},\"mode\":\"lines+markers\",\"name\":\"Action 0\",\"showlegend\":false,\"x\":[6,7],\"y\":[96,96],\"type\":\"scatter\"},{\"line\":{\"color\":\"rgb(58, 82, 139)\",\"width\":2},\"mode\":\"lines+markers\",\"name\":\"Action 0\",\"showlegend\":false,\"x\":[6,7],\"y\":[97,97],\"type\":\"scatter\"},{\"line\":{\"color\":\"rgb(58, 82, 139)\",\"width\":2},\"mode\":\"lines+markers\",\"name\":\"Action 0\",\"showlegend\":false,\"x\":[6,7],\"y\":[98,98],\"type\":\"scatter\"},{\"line\":{\"color\":\"rgb(58, 82, 139)\",\"width\":2},\"mode\":\"lines+markers\",\"name\":\"Action 0\",\"showlegend\":false,\"x\":[6,7],\"y\":[99,99],\"type\":\"scatter\"},{\"line\":{\"color\":\"rgb(58, 82, 139)\",\"width\":2},\"mode\":\"lines+markers\",\"name\":\"Action 0\",\"showlegend\":false,\"x\":[6,7],\"y\":[100,100],\"type\":\"scatter\"},{\"line\":{\"color\":\"rgb(58, 82, 139)\",\"width\":2},\"mode\":\"lines+markers\",\"name\":\"Action 0\",\"showlegend\":false,\"x\":[7,8],\"y\":[1,1],\"type\":\"scatter\"},{\"line\":{\"color\":\"rgb(58, 82, 139)\",\"width\":2},\"mode\":\"lines+markers\",\"name\":\"Action 0\",\"showlegend\":false,\"x\":[7,8],\"y\":[9,9],\"type\":\"scatter\"},{\"line\":{\"color\":\"rgb(58, 82, 139)\",\"width\":2},\"mode\":\"lines+markers\",\"name\":\"Action 0\",\"showlegend\":false,\"x\":[7,8],\"y\":[11,11],\"type\":\"scatter\"},{\"line\":{\"color\":\"rgb(58, 82, 139)\",\"width\":2},\"mode\":\"lines+markers\",\"name\":\"Action 0\",\"showlegend\":false,\"x\":[7,8],\"y\":[13,13],\"type\":\"scatter\"},{\"line\":{\"color\":\"rgb(58, 82, 139)\",\"width\":2},\"mode\":\"lines+markers\",\"name\":\"Action 0\",\"showlegend\":false,\"x\":[7,8],\"y\":[14,14],\"type\":\"scatter\"},{\"line\":{\"color\":\"rgb(58, 82, 139)\",\"width\":2},\"mode\":\"lines+markers\",\"name\":\"Action 0\",\"showlegend\":false,\"x\":[7,8],\"y\":[54,54],\"type\":\"scatter\"},{\"line\":{\"color\":\"rgb(58, 82, 139)\",\"width\":2},\"mode\":\"lines+markers\",\"name\":\"Action 0\",\"showlegend\":false,\"x\":[7,8],\"y\":[58,58],\"type\":\"scatter\"},{\"line\":{\"color\":\"rgb(58, 82, 139)\",\"width\":2},\"mode\":\"lines+markers\",\"name\":\"Action 0\",\"showlegend\":false,\"x\":[7,8],\"y\":[59,59],\"type\":\"scatter\"},{\"line\":{\"color\":\"rgb(58, 82, 139)\",\"width\":2},\"mode\":\"lines+markers\",\"name\":\"Action 0\",\"showlegend\":false,\"x\":[7,8],\"y\":[61,61],\"type\":\"scatter\"},{\"line\":{\"color\":\"rgb(58, 82, 139)\",\"width\":2},\"mode\":\"lines+markers\",\"name\":\"Action 0\",\"showlegend\":false,\"x\":[7,8],\"y\":[62,62],\"type\":\"scatter\"},{\"line\":{\"color\":\"rgb(58, 82, 139)\",\"width\":2},\"mode\":\"lines+markers\",\"name\":\"Action 0\",\"showlegend\":false,\"x\":[7,8],\"y\":[63,63],\"type\":\"scatter\"},{\"line\":{\"color\":\"rgb(58, 82, 139)\",\"width\":2},\"mode\":\"lines+markers\",\"name\":\"Action 0\",\"showlegend\":false,\"x\":[7,8],\"y\":[64,64],\"type\":\"scatter\"},{\"line\":{\"color\":\"rgb(58, 82, 139)\",\"width\":2},\"mode\":\"lines+markers\",\"name\":\"Action 0\",\"showlegend\":false,\"x\":[7,8],\"y\":[65,65],\"type\":\"scatter\"},{\"line\":{\"color\":\"rgb(58, 82, 139)\",\"width\":2},\"mode\":\"lines+markers\",\"name\":\"Action 0\",\"showlegend\":false,\"x\":[7,8],\"y\":[66,66],\"type\":\"scatter\"},{\"line\":{\"color\":\"rgb(58, 82, 139)\",\"width\":2},\"mode\":\"lines+markers\",\"name\":\"Action 0\",\"showlegend\":false,\"x\":[7,8],\"y\":[68,68],\"type\":\"scatter\"},{\"line\":{\"color\":\"rgb(58, 82, 139)\",\"width\":2},\"mode\":\"lines+markers\",\"name\":\"Action 0\",\"showlegend\":false,\"x\":[7,8],\"y\":[69,69],\"type\":\"scatter\"},{\"line\":{\"color\":\"rgb(58, 82, 139)\",\"width\":2},\"mode\":\"lines+markers\",\"name\":\"Action 0\",\"showlegend\":false,\"x\":[7,8],\"y\":[70,70],\"type\":\"scatter\"},{\"line\":{\"color\":\"rgb(58, 82, 139)\",\"width\":2},\"mode\":\"lines+markers\",\"name\":\"Action 0\",\"showlegend\":false,\"x\":[7,8],\"y\":[71,71],\"type\":\"scatter\"},{\"line\":{\"color\":\"rgb(58, 82, 139)\",\"width\":2},\"mode\":\"lines+markers\",\"name\":\"Action 0\",\"showlegend\":false,\"x\":[7,8],\"y\":[72,72],\"type\":\"scatter\"},{\"line\":{\"color\":\"rgb(58, 82, 139)\",\"width\":2},\"mode\":\"lines+markers\",\"name\":\"Action 0\",\"showlegend\":false,\"x\":[7,8],\"y\":[73,73],\"type\":\"scatter\"},{\"line\":{\"color\":\"rgb(58, 82, 139)\",\"width\":2},\"mode\":\"lines+markers\",\"name\":\"Action 0\",\"showlegend\":false,\"x\":[7,8],\"y\":[74,74],\"type\":\"scatter\"},{\"line\":{\"color\":\"rgb(58, 82, 139)\",\"width\":2},\"mode\":\"lines+markers\",\"name\":\"Action 0\",\"showlegend\":false,\"x\":[7,8],\"y\":[75,75],\"type\":\"scatter\"},{\"line\":{\"color\":\"rgb(58, 82, 139)\",\"width\":2},\"mode\":\"lines+markers\",\"name\":\"Action 0\",\"showlegend\":false,\"x\":[7,8],\"y\":[76,76],\"type\":\"scatter\"},{\"line\":{\"color\":\"rgb(58, 82, 139)\",\"width\":2},\"mode\":\"lines+markers\",\"name\":\"Action 0\",\"showlegend\":false,\"x\":[7,8],\"y\":[77,77],\"type\":\"scatter\"},{\"line\":{\"color\":\"rgb(58, 82, 139)\",\"width\":2},\"mode\":\"lines+markers\",\"name\":\"Action 0\",\"showlegend\":false,\"x\":[7,8],\"y\":[78,78],\"type\":\"scatter\"},{\"line\":{\"color\":\"rgb(58, 82, 139)\",\"width\":2},\"mode\":\"lines+markers\",\"name\":\"Action 0\",\"showlegend\":false,\"x\":[7,8],\"y\":[79,79],\"type\":\"scatter\"},{\"line\":{\"color\":\"rgb(58, 82, 139)\",\"width\":2},\"mode\":\"lines+markers\",\"name\":\"Action 0\",\"showlegend\":false,\"x\":[7,8],\"y\":[80,80],\"type\":\"scatter\"},{\"line\":{\"color\":\"rgb(58, 82, 139)\",\"width\":2},\"mode\":\"lines+markers\",\"name\":\"Action 0\",\"showlegend\":false,\"x\":[7,8],\"y\":[81,81],\"type\":\"scatter\"},{\"line\":{\"color\":\"rgb(58, 82, 139)\",\"width\":2},\"mode\":\"lines+markers\",\"name\":\"Action 0\",\"showlegend\":false,\"x\":[7,8],\"y\":[82,82],\"type\":\"scatter\"},{\"line\":{\"color\":\"rgb(58, 82, 139)\",\"width\":2},\"mode\":\"lines+markers\",\"name\":\"Action 0\",\"showlegend\":false,\"x\":[7,8],\"y\":[83,83],\"type\":\"scatter\"},{\"line\":{\"color\":\"rgb(58, 82, 139)\",\"width\":2},\"mode\":\"lines+markers\",\"name\":\"Action 0\",\"showlegend\":false,\"x\":[7,8],\"y\":[84,84],\"type\":\"scatter\"},{\"line\":{\"color\":\"rgb(58, 82, 139)\",\"width\":2},\"mode\":\"lines+markers\",\"name\":\"Action 0\",\"showlegend\":false,\"x\":[7,8],\"y\":[85,85],\"type\":\"scatter\"},{\"line\":{\"color\":\"rgb(58, 82, 139)\",\"width\":2},\"mode\":\"lines+markers\",\"name\":\"Action 0\",\"showlegend\":false,\"x\":[7,8],\"y\":[86,86],\"type\":\"scatter\"},{\"line\":{\"color\":\"rgb(58, 82, 139)\",\"width\":2},\"mode\":\"lines+markers\",\"name\":\"Action 0\",\"showlegend\":false,\"x\":[7,8],\"y\":[87,87],\"type\":\"scatter\"},{\"line\":{\"color\":\"rgb(58, 82, 139)\",\"width\":2},\"mode\":\"lines+markers\",\"name\":\"Action 0\",\"showlegend\":false,\"x\":[7,8],\"y\":[88,88],\"type\":\"scatter\"},{\"line\":{\"color\":\"rgb(58, 82, 139)\",\"width\":2},\"mode\":\"lines+markers\",\"name\":\"Action 0\",\"showlegend\":false,\"x\":[7,8],\"y\":[89,89],\"type\":\"scatter\"},{\"line\":{\"color\":\"rgb(58, 82, 139)\",\"width\":2},\"mode\":\"lines+markers\",\"name\":\"Action 0\",\"showlegend\":false,\"x\":[7,8],\"y\":[90,90],\"type\":\"scatter\"},{\"line\":{\"color\":\"rgb(58, 82, 139)\",\"width\":2},\"mode\":\"lines+markers\",\"name\":\"Action 0\",\"showlegend\":false,\"x\":[7,8],\"y\":[91,91],\"type\":\"scatter\"},{\"line\":{\"color\":\"rgb(58, 82, 139)\",\"width\":2},\"mode\":\"lines+markers\",\"name\":\"Action 0\",\"showlegend\":false,\"x\":[7,8],\"y\":[92,92],\"type\":\"scatter\"},{\"line\":{\"color\":\"rgb(58, 82, 139)\",\"width\":2},\"mode\":\"lines+markers\",\"name\":\"Action 0\",\"showlegend\":false,\"x\":[7,8],\"y\":[93,93],\"type\":\"scatter\"},{\"line\":{\"color\":\"rgb(58, 82, 139)\",\"width\":2},\"mode\":\"lines+markers\",\"name\":\"Action 0\",\"showlegend\":false,\"x\":[7,8],\"y\":[94,94],\"type\":\"scatter\"},{\"line\":{\"color\":\"rgb(58, 82, 139)\",\"width\":2},\"mode\":\"lines+markers\",\"name\":\"Action 0\",\"showlegend\":false,\"x\":[7,8],\"y\":[95,95],\"type\":\"scatter\"},{\"line\":{\"color\":\"rgb(58, 82, 139)\",\"width\":2},\"mode\":\"lines+markers\",\"name\":\"Action 0\",\"showlegend\":false,\"x\":[7,8],\"y\":[96,96],\"type\":\"scatter\"},{\"line\":{\"color\":\"rgb(58, 82, 139)\",\"width\":2},\"mode\":\"lines+markers\",\"name\":\"Action 0\",\"showlegend\":false,\"x\":[7,8],\"y\":[97,97],\"type\":\"scatter\"},{\"line\":{\"color\":\"rgb(58, 82, 139)\",\"width\":2},\"mode\":\"lines+markers\",\"name\":\"Action 0\",\"showlegend\":false,\"x\":[7,8],\"y\":[98,98],\"type\":\"scatter\"},{\"line\":{\"color\":\"rgb(58, 82, 139)\",\"width\":2},\"mode\":\"lines+markers\",\"name\":\"Action 0\",\"showlegend\":false,\"x\":[7,8],\"y\":[99,99],\"type\":\"scatter\"},{\"line\":{\"color\":\"rgb(32, 144, 140)\",\"width\":2},\"mode\":\"lines+markers\",\"name\":\"Action 11\",\"x\":[0,1],\"y\":[3,14],\"type\":\"scatter\"},{\"line\":{\"color\":\"rgb(32, 144, 140)\",\"width\":2},\"mode\":\"lines+markers\",\"name\":\"Action 11\",\"showlegend\":false,\"x\":[0,1],\"y\":[4,15],\"type\":\"scatter\"},{\"line\":{\"color\":\"rgb(32, 144, 140)\",\"width\":2},\"mode\":\"lines+markers\",\"name\":\"Action 11\",\"showlegend\":false,\"x\":[0,1],\"y\":[5,16],\"type\":\"scatter\"},{\"line\":{\"color\":\"rgb(32, 144, 140)\",\"width\":2},\"mode\":\"lines+markers\",\"name\":\"Action 11\",\"showlegend\":false,\"x\":[0,1],\"y\":[11,22],\"type\":\"scatter\"},{\"line\":{\"color\":\"rgb(32, 144, 140)\",\"width\":2},\"mode\":\"lines+markers\",\"name\":\"Action 11\",\"showlegend\":false,\"x\":[0,1],\"y\":[13,24],\"type\":\"scatter\"},{\"line\":{\"color\":\"rgb(32, 144, 140)\",\"width\":2},\"mode\":\"lines+markers\",\"name\":\"Action 11\",\"showlegend\":false,\"x\":[0,1],\"y\":[15,26],\"type\":\"scatter\"},{\"line\":{\"color\":\"rgb(32, 144, 140)\",\"width\":2},\"mode\":\"lines+markers\",\"name\":\"Action 11\",\"showlegend\":false,\"x\":[0,1],\"y\":[18,29],\"type\":\"scatter\"},{\"line\":{\"color\":\"rgb(32, 144, 140)\",\"width\":2},\"mode\":\"lines+markers\",\"name\":\"Action 11\",\"showlegend\":false,\"x\":[0,1],\"y\":[73,84],\"type\":\"scatter\"},{\"line\":{\"color\":\"rgb(32, 144, 140)\",\"width\":2},\"mode\":\"lines+markers\",\"name\":\"Action 11\",\"showlegend\":false,\"x\":[1,2],\"y\":[4,15],\"type\":\"scatter\"},{\"line\":{\"color\":\"rgb(32, 144, 140)\",\"width\":2},\"mode\":\"lines+markers\",\"name\":\"Action 11\",\"showlegend\":false,\"x\":[1,2],\"y\":[9,20],\"type\":\"scatter\"},{\"line\":{\"color\":\"rgb(32, 144, 140)\",\"width\":2},\"mode\":\"lines+markers\",\"name\":\"Action 11\",\"showlegend\":false,\"x\":[1,2],\"y\":[17,28],\"type\":\"scatter\"},{\"line\":{\"color\":\"rgb(32, 144, 140)\",\"width\":2},\"mode\":\"lines+markers\",\"name\":\"Action 11\",\"showlegend\":false,\"x\":[1,2],\"y\":[21,32],\"type\":\"scatter\"},{\"line\":{\"color\":\"rgb(32, 144, 140)\",\"width\":2},\"mode\":\"lines+markers\",\"name\":\"Action 11\",\"showlegend\":false,\"x\":[2,3],\"y\":[4,15],\"type\":\"scatter\"},{\"line\":{\"color\":\"rgb(32, 144, 140)\",\"width\":2},\"mode\":\"lines+markers\",\"name\":\"Action 11\",\"showlegend\":false,\"x\":[2,3],\"y\":[8,19],\"type\":\"scatter\"},{\"line\":{\"color\":\"rgb(32, 144, 140)\",\"width\":2},\"mode\":\"lines+markers\",\"name\":\"Action 11\",\"showlegend\":false,\"x\":[2,3],\"y\":[13,24],\"type\":\"scatter\"},{\"line\":{\"color\":\"rgb(32, 144, 140)\",\"width\":2},\"mode\":\"lines+markers\",\"name\":\"Action 11\",\"showlegend\":false,\"x\":[2,3],\"y\":[14,25],\"type\":\"scatter\"},{\"line\":{\"color\":\"rgb(32, 144, 140)\",\"width\":2},\"mode\":\"lines+markers\",\"name\":\"Action 11\",\"showlegend\":false,\"x\":[2,3],\"y\":[19,30],\"type\":\"scatter\"},{\"line\":{\"color\":\"rgb(32, 144, 140)\",\"width\":2},\"mode\":\"lines+markers\",\"name\":\"Action 11\",\"showlegend\":false,\"x\":[2,3],\"y\":[20,31],\"type\":\"scatter\"},{\"line\":{\"color\":\"rgb(32, 144, 140)\",\"width\":2},\"mode\":\"lines+markers\",\"name\":\"Action 11\",\"showlegend\":false,\"x\":[2,3],\"y\":[28,39],\"type\":\"scatter\"},{\"line\":{\"color\":\"rgb(32, 144, 140)\",\"width\":2},\"mode\":\"lines+markers\",\"name\":\"Action 11\",\"showlegend\":false,\"x\":[2,3],\"y\":[35,46],\"type\":\"scatter\"},{\"line\":{\"color\":\"rgb(32, 144, 140)\",\"width\":2},\"mode\":\"lines+markers\",\"name\":\"Action 11\",\"showlegend\":false,\"x\":[2,3],\"y\":[41,52],\"type\":\"scatter\"},{\"line\":{\"color\":\"rgb(32, 144, 140)\",\"width\":2},\"mode\":\"lines+markers\",\"name\":\"Action 11\",\"showlegend\":false,\"x\":[3,4],\"y\":[7,18],\"type\":\"scatter\"},{\"line\":{\"color\":\"rgb(32, 144, 140)\",\"width\":2},\"mode\":\"lines+markers\",\"name\":\"Action 11\",\"showlegend\":false,\"x\":[3,4],\"y\":[14,25],\"type\":\"scatter\"},{\"line\":{\"color\":\"rgb(32, 144, 140)\",\"width\":2},\"mode\":\"lines+markers\",\"name\":\"Action 11\",\"showlegend\":false,\"x\":[3,4],\"y\":[15,26],\"type\":\"scatter\"},{\"line\":{\"color\":\"rgb(32, 144, 140)\",\"width\":2},\"mode\":\"lines+markers\",\"name\":\"Action 11\",\"showlegend\":false,\"x\":[3,4],\"y\":[21,32],\"type\":\"scatter\"},{\"line\":{\"color\":\"rgb(32, 144, 140)\",\"width\":2},\"mode\":\"lines+markers\",\"name\":\"Action 11\",\"showlegend\":false,\"x\":[3,4],\"y\":[27,38],\"type\":\"scatter\"},{\"line\":{\"color\":\"rgb(32, 144, 140)\",\"width\":2},\"mode\":\"lines+markers\",\"name\":\"Action 11\",\"showlegend\":false,\"x\":[3,4],\"y\":[32,43],\"type\":\"scatter\"},{\"line\":{\"color\":\"rgb(32, 144, 140)\",\"width\":2},\"mode\":\"lines+markers\",\"name\":\"Action 11\",\"showlegend\":false,\"x\":[4,5],\"y\":[1,12],\"type\":\"scatter\"},{\"line\":{\"color\":\"rgb(32, 144, 140)\",\"width\":2},\"mode\":\"lines+markers\",\"name\":\"Action 11\",\"showlegend\":false,\"x\":[4,5],\"y\":[5,16],\"type\":\"scatter\"},{\"line\":{\"color\":\"rgb(32, 144, 140)\",\"width\":2},\"mode\":\"lines+markers\",\"name\":\"Action 11\",\"showlegend\":false,\"x\":[4,5],\"y\":[6,17],\"type\":\"scatter\"},{\"line\":{\"color\":\"rgb(32, 144, 140)\",\"width\":2},\"mode\":\"lines+markers\",\"name\":\"Action 11\",\"showlegend\":false,\"x\":[4,5],\"y\":[7,18],\"type\":\"scatter\"},{\"line\":{\"color\":\"rgb(32, 144, 140)\",\"width\":2},\"mode\":\"lines+markers\",\"name\":\"Action 11\",\"showlegend\":false,\"x\":[4,5],\"y\":[8,19],\"type\":\"scatter\"},{\"line\":{\"color\":\"rgb(32, 144, 140)\",\"width\":2},\"mode\":\"lines+markers\",\"name\":\"Action 11\",\"showlegend\":false,\"x\":[4,5],\"y\":[9,20],\"type\":\"scatter\"},{\"line\":{\"color\":\"rgb(32, 144, 140)\",\"width\":2},\"mode\":\"lines+markers\",\"name\":\"Action 11\",\"showlegend\":false,\"x\":[4,5],\"y\":[11,22],\"type\":\"scatter\"},{\"line\":{\"color\":\"rgb(32, 144, 140)\",\"width\":2},\"mode\":\"lines+markers\",\"name\":\"Action 11\",\"showlegend\":false,\"x\":[4,5],\"y\":[14,25],\"type\":\"scatter\"},{\"line\":{\"color\":\"rgb(32, 144, 140)\",\"width\":2},\"mode\":\"lines+markers\",\"name\":\"Action 11\",\"showlegend\":false,\"x\":[4,5],\"y\":[16,27],\"type\":\"scatter\"},{\"line\":{\"color\":\"rgb(32, 144, 140)\",\"width\":2},\"mode\":\"lines+markers\",\"name\":\"Action 11\",\"showlegend\":false,\"x\":[4,5],\"y\":[17,28],\"type\":\"scatter\"},{\"line\":{\"color\":\"rgb(32, 144, 140)\",\"width\":2},\"mode\":\"lines+markers\",\"name\":\"Action 11\",\"showlegend\":false,\"x\":[4,5],\"y\":[18,29],\"type\":\"scatter\"},{\"line\":{\"color\":\"rgb(32, 144, 140)\",\"width\":2},\"mode\":\"lines+markers\",\"name\":\"Action 11\",\"showlegend\":false,\"x\":[4,5],\"y\":[20,31],\"type\":\"scatter\"},{\"line\":{\"color\":\"rgb(32, 144, 140)\",\"width\":2},\"mode\":\"lines+markers\",\"name\":\"Action 11\",\"showlegend\":false,\"x\":[4,5],\"y\":[21,32],\"type\":\"scatter\"},{\"line\":{\"color\":\"rgb(32, 144, 140)\",\"width\":2},\"mode\":\"lines+markers\",\"name\":\"Action 11\",\"showlegend\":false,\"x\":[4,5],\"y\":[22,33],\"type\":\"scatter\"},{\"line\":{\"color\":\"rgb(32, 144, 140)\",\"width\":2},\"mode\":\"lines+markers\",\"name\":\"Action 11\",\"showlegend\":false,\"x\":[4,5],\"y\":[25,36],\"type\":\"scatter\"},{\"line\":{\"color\":\"rgb(32, 144, 140)\",\"width\":2},\"mode\":\"lines+markers\",\"name\":\"Action 11\",\"showlegend\":false,\"x\":[4,5],\"y\":[32,43],\"type\":\"scatter\"},{\"line\":{\"color\":\"rgb(32, 144, 140)\",\"width\":2},\"mode\":\"lines+markers\",\"name\":\"Action 11\",\"showlegend\":false,\"x\":[4,5],\"y\":[93,100],\"type\":\"scatter\"},{\"line\":{\"color\":\"rgb(32, 144, 140)\",\"width\":2},\"mode\":\"lines+markers\",\"name\":\"Action 11\",\"showlegend\":false,\"x\":[5,6],\"y\":[12,23],\"type\":\"scatter\"},{\"line\":{\"color\":\"rgb(32, 144, 140)\",\"width\":2},\"mode\":\"lines+markers\",\"name\":\"Action 11\",\"showlegend\":false,\"x\":[5,6],\"y\":[16,27],\"type\":\"scatter\"},{\"line\":{\"color\":\"rgb(32, 144, 140)\",\"width\":2},\"mode\":\"lines+markers\",\"name\":\"Action 11\",\"showlegend\":false,\"x\":[5,6],\"y\":[17,28],\"type\":\"scatter\"},{\"line\":{\"color\":\"rgb(32, 144, 140)\",\"width\":2},\"mode\":\"lines+markers\",\"name\":\"Action 11\",\"showlegend\":false,\"x\":[5,6],\"y\":[18,29],\"type\":\"scatter\"},{\"line\":{\"color\":\"rgb(32, 144, 140)\",\"width\":2},\"mode\":\"lines+markers\",\"name\":\"Action 11\",\"showlegend\":false,\"x\":[5,6],\"y\":[23,34],\"type\":\"scatter\"},{\"line\":{\"color\":\"rgb(32, 144, 140)\",\"width\":2},\"mode\":\"lines+markers\",\"name\":\"Action 11\",\"showlegend\":false,\"x\":[5,6],\"y\":[24,35],\"type\":\"scatter\"},{\"line\":{\"color\":\"rgb(32, 144, 140)\",\"width\":2},\"mode\":\"lines+markers\",\"name\":\"Action 11\",\"showlegend\":false,\"x\":[5,6],\"y\":[25,36],\"type\":\"scatter\"},{\"line\":{\"color\":\"rgb(32, 144, 140)\",\"width\":2},\"mode\":\"lines+markers\",\"name\":\"Action 11\",\"showlegend\":false,\"x\":[5,6],\"y\":[26,37],\"type\":\"scatter\"},{\"line\":{\"color\":\"rgb(32, 144, 140)\",\"width\":2},\"mode\":\"lines+markers\",\"name\":\"Action 11\",\"showlegend\":false,\"x\":[5,6],\"y\":[31,42],\"type\":\"scatter\"},{\"line\":{\"color\":\"rgb(32, 144, 140)\",\"width\":2},\"mode\":\"lines+markers\",\"name\":\"Action 11\",\"showlegend\":false,\"x\":[5,6],\"y\":[32,43],\"type\":\"scatter\"},{\"line\":{\"color\":\"rgb(32, 144, 140)\",\"width\":2},\"mode\":\"lines+markers\",\"name\":\"Action 11\",\"showlegend\":false,\"x\":[5,6],\"y\":[33,44],\"type\":\"scatter\"},{\"line\":{\"color\":\"rgb(32, 144, 140)\",\"width\":2},\"mode\":\"lines+markers\",\"name\":\"Action 11\",\"showlegend\":false,\"x\":[5,6],\"y\":[39,50],\"type\":\"scatter\"},{\"line\":{\"color\":\"rgb(32, 144, 140)\",\"width\":2},\"mode\":\"lines+markers\",\"name\":\"Action 11\",\"showlegend\":false,\"x\":[5,6],\"y\":[41,52],\"type\":\"scatter\"},{\"line\":{\"color\":\"rgb(32, 144, 140)\",\"width\":2},\"mode\":\"lines+markers\",\"name\":\"Action 11\",\"showlegend\":false,\"x\":[6,7],\"y\":[0,11],\"type\":\"scatter\"},{\"line\":{\"color\":\"rgb(32, 144, 140)\",\"width\":2},\"mode\":\"lines+markers\",\"name\":\"Action 11\",\"showlegend\":false,\"x\":[6,7],\"y\":[3,14],\"type\":\"scatter\"},{\"line\":{\"color\":\"rgb(32, 144, 140)\",\"width\":2},\"mode\":\"lines+markers\",\"name\":\"Action 11\",\"showlegend\":false,\"x\":[6,7],\"y\":[7,18],\"type\":\"scatter\"},{\"line\":{\"color\":\"rgb(32, 144, 140)\",\"width\":2},\"mode\":\"lines+markers\",\"name\":\"Action 11\",\"showlegend\":false,\"x\":[6,7],\"y\":[24,35],\"type\":\"scatter\"},{\"line\":{\"color\":\"rgb(32, 144, 140)\",\"width\":2},\"mode\":\"lines+markers\",\"name\":\"Action 11\",\"showlegend\":false,\"x\":[6,7],\"y\":[27,38],\"type\":\"scatter\"},{\"line\":{\"color\":\"rgb(32, 144, 140)\",\"width\":2},\"mode\":\"lines+markers\",\"name\":\"Action 11\",\"showlegend\":false,\"x\":[6,7],\"y\":[28,39],\"type\":\"scatter\"},{\"line\":{\"color\":\"rgb(32, 144, 140)\",\"width\":2},\"mode\":\"lines+markers\",\"name\":\"Action 11\",\"showlegend\":false,\"x\":[6,7],\"y\":[30,41],\"type\":\"scatter\"},{\"line\":{\"color\":\"rgb(32, 144, 140)\",\"width\":2},\"mode\":\"lines+markers\",\"name\":\"Action 11\",\"showlegend\":false,\"x\":[6,7],\"y\":[32,43],\"type\":\"scatter\"},{\"line\":{\"color\":\"rgb(32, 144, 140)\",\"width\":2},\"mode\":\"lines+markers\",\"name\":\"Action 11\",\"showlegend\":false,\"x\":[6,7],\"y\":[35,46],\"type\":\"scatter\"},{\"line\":{\"color\":\"rgb(32, 144, 140)\",\"width\":2},\"mode\":\"lines+markers\",\"name\":\"Action 11\",\"showlegend\":false,\"x\":[6,7],\"y\":[37,48],\"type\":\"scatter\"},{\"line\":{\"color\":\"rgb(32, 144, 140)\",\"width\":2},\"mode\":\"lines+markers\",\"name\":\"Action 11\",\"showlegend\":false,\"x\":[7,8],\"y\":[0,11],\"type\":\"scatter\"},{\"line\":{\"color\":\"rgb(32, 144, 140)\",\"width\":2},\"mode\":\"lines+markers\",\"name\":\"Action 11\",\"showlegend\":false,\"x\":[7,8],\"y\":[4,15],\"type\":\"scatter\"},{\"line\":{\"color\":\"rgb(32, 144, 140)\",\"width\":2},\"mode\":\"lines+markers\",\"name\":\"Action 11\",\"showlegend\":false,\"x\":[7,8],\"y\":[16,27],\"type\":\"scatter\"},{\"line\":{\"color\":\"rgb(32, 144, 140)\",\"width\":2},\"mode\":\"lines+markers\",\"name\":\"Action 11\",\"showlegend\":false,\"x\":[7,8],\"y\":[17,28],\"type\":\"scatter\"},{\"line\":{\"color\":\"rgb(32, 144, 140)\",\"width\":2},\"mode\":\"lines+markers\",\"name\":\"Action 11\",\"showlegend\":false,\"x\":[7,8],\"y\":[21,32],\"type\":\"scatter\"},{\"line\":{\"color\":\"rgb(32, 144, 140)\",\"width\":2},\"mode\":\"lines+markers\",\"name\":\"Action 11\",\"showlegend\":false,\"x\":[7,8],\"y\":[22,33],\"type\":\"scatter\"},{\"line\":{\"color\":\"rgb(32, 144, 140)\",\"width\":2},\"mode\":\"lines+markers\",\"name\":\"Action 11\",\"showlegend\":false,\"x\":[7,8],\"y\":[24,35],\"type\":\"scatter\"},{\"line\":{\"color\":\"rgb(32, 144, 140)\",\"width\":2},\"mode\":\"lines+markers\",\"name\":\"Action 11\",\"showlegend\":false,\"x\":[7,8],\"y\":[32,43],\"type\":\"scatter\"},{\"line\":{\"color\":\"rgb(32, 144, 140)\",\"width\":2},\"mode\":\"lines+markers\",\"name\":\"Action 11\",\"showlegend\":false,\"x\":[7,8],\"y\":[37,48],\"type\":\"scatter\"},{\"line\":{\"color\":\"rgb(32, 144, 140)\",\"width\":2},\"mode\":\"lines+markers\",\"name\":\"Action 11\",\"showlegend\":false,\"x\":[7,8],\"y\":[38,49],\"type\":\"scatter\"},{\"line\":{\"color\":\"rgb(32, 144, 140)\",\"width\":2},\"mode\":\"lines+markers\",\"name\":\"Action 11\",\"showlegend\":false,\"x\":[7,8],\"y\":[41,52],\"type\":\"scatter\"},{\"line\":{\"color\":\"rgb(94, 201, 97)\",\"width\":2},\"mode\":\"lines+markers\",\"name\":\"Action 3\",\"x\":[0,1],\"y\":[6,9],\"type\":\"scatter\"},{\"line\":{\"color\":\"rgb(94, 201, 97)\",\"width\":2},\"mode\":\"lines+markers\",\"name\":\"Action 3\",\"showlegend\":false,\"x\":[0,1],\"y\":[9,12],\"type\":\"scatter\"},{\"line\":{\"color\":\"rgb(94, 201, 97)\",\"width\":2},\"mode\":\"lines+markers\",\"name\":\"Action 3\",\"showlegend\":false,\"x\":[0,1],\"y\":[12,15],\"type\":\"scatter\"},{\"line\":{\"color\":\"rgb(94, 201, 97)\",\"width\":2},\"mode\":\"lines+markers\",\"name\":\"Action 3\",\"showlegend\":false,\"x\":[0,1],\"y\":[14,17],\"type\":\"scatter\"},{\"line\":{\"color\":\"rgb(94, 201, 97)\",\"width\":2},\"mode\":\"lines+markers\",\"name\":\"Action 3\",\"showlegend\":false,\"x\":[0,1],\"y\":[16,19],\"type\":\"scatter\"},{\"line\":{\"color\":\"rgb(94, 201, 97)\",\"width\":2},\"mode\":\"lines+markers\",\"name\":\"Action 3\",\"showlegend\":false,\"x\":[0,1],\"y\":[19,22],\"type\":\"scatter\"},{\"line\":{\"color\":\"rgb(94, 201, 97)\",\"width\":2},\"mode\":\"lines+markers\",\"name\":\"Action 3\",\"showlegend\":false,\"x\":[0,1],\"y\":[21,24],\"type\":\"scatter\"},{\"line\":{\"color\":\"rgb(94, 201, 97)\",\"width\":2},\"mode\":\"lines+markers\",\"name\":\"Action 3\",\"showlegend\":false,\"x\":[0,1],\"y\":[23,26],\"type\":\"scatter\"},{\"line\":{\"color\":\"rgb(94, 201, 97)\",\"width\":2},\"mode\":\"lines+markers\",\"name\":\"Action 3\",\"showlegend\":false,\"x\":[0,1],\"y\":[25,28],\"type\":\"scatter\"},{\"line\":{\"color\":\"rgb(94, 201, 97)\",\"width\":2},\"mode\":\"lines+markers\",\"name\":\"Action 3\",\"showlegend\":false,\"x\":[0,1],\"y\":[26,29],\"type\":\"scatter\"},{\"line\":{\"color\":\"rgb(94, 201, 97)\",\"width\":2},\"mode\":\"lines+markers\",\"name\":\"Action 3\",\"showlegend\":false,\"x\":[0,1],\"y\":[27,30],\"type\":\"scatter\"},{\"line\":{\"color\":\"rgb(94, 201, 97)\",\"width\":2},\"mode\":\"lines+markers\",\"name\":\"Action 3\",\"showlegend\":false,\"x\":[0,1],\"y\":[32,35],\"type\":\"scatter\"},{\"line\":{\"color\":\"rgb(94, 201, 97)\",\"width\":2},\"mode\":\"lines+markers\",\"name\":\"Action 3\",\"showlegend\":false,\"x\":[0,1],\"y\":[33,36],\"type\":\"scatter\"},{\"line\":{\"color\":\"rgb(94, 201, 97)\",\"width\":2},\"mode\":\"lines+markers\",\"name\":\"Action 3\",\"showlegend\":false,\"x\":[0,1],\"y\":[34,37],\"type\":\"scatter\"},{\"line\":{\"color\":\"rgb(94, 201, 97)\",\"width\":2},\"mode\":\"lines+markers\",\"name\":\"Action 3\",\"showlegend\":false,\"x\":[0,1],\"y\":[40,43],\"type\":\"scatter\"},{\"line\":{\"color\":\"rgb(94, 201, 97)\",\"width\":2},\"mode\":\"lines+markers\",\"name\":\"Action 3\",\"showlegend\":false,\"x\":[0,1],\"y\":[41,44],\"type\":\"scatter\"},{\"line\":{\"color\":\"rgb(94, 201, 97)\",\"width\":2},\"mode\":\"lines+markers\",\"name\":\"Action 3\",\"showlegend\":false,\"x\":[0,1],\"y\":[43,46],\"type\":\"scatter\"},{\"line\":{\"color\":\"rgb(94, 201, 97)\",\"width\":2},\"mode\":\"lines+markers\",\"name\":\"Action 3\",\"showlegend\":false,\"x\":[0,1],\"y\":[45,48],\"type\":\"scatter\"},{\"line\":{\"color\":\"rgb(94, 201, 97)\",\"width\":2},\"mode\":\"lines+markers\",\"name\":\"Action 3\",\"showlegend\":false,\"x\":[0,1],\"y\":[47,50],\"type\":\"scatter\"},{\"line\":{\"color\":\"rgb(94, 201, 97)\",\"width\":2},\"mode\":\"lines+markers\",\"name\":\"Action 3\",\"showlegend\":false,\"x\":[0,1],\"y\":[52,55],\"type\":\"scatter\"},{\"line\":{\"color\":\"rgb(94, 201, 97)\",\"width\":2},\"mode\":\"lines+markers\",\"name\":\"Action 3\",\"showlegend\":false,\"x\":[0,1],\"y\":[54,57],\"type\":\"scatter\"},{\"line\":{\"color\":\"rgb(94, 201, 97)\",\"width\":2},\"mode\":\"lines+markers\",\"name\":\"Action 3\",\"showlegend\":false,\"x\":[0,1],\"y\":[60,63],\"type\":\"scatter\"},{\"line\":{\"color\":\"rgb(94, 201, 97)\",\"width\":2},\"mode\":\"lines+markers\",\"name\":\"Action 3\",\"showlegend\":false,\"x\":[0,1],\"y\":[63,66],\"type\":\"scatter\"},{\"line\":{\"color\":\"rgb(94, 201, 97)\",\"width\":2},\"mode\":\"lines+markers\",\"name\":\"Action 3\",\"showlegend\":false,\"x\":[0,1],\"y\":[66,69],\"type\":\"scatter\"},{\"line\":{\"color\":\"rgb(94, 201, 97)\",\"width\":2},\"mode\":\"lines+markers\",\"name\":\"Action 3\",\"showlegend\":false,\"x\":[0,1],\"y\":[67,70],\"type\":\"scatter\"},{\"line\":{\"color\":\"rgb(94, 201, 97)\",\"width\":2},\"mode\":\"lines+markers\",\"name\":\"Action 3\",\"showlegend\":false,\"x\":[0,1],\"y\":[70,73],\"type\":\"scatter\"},{\"line\":{\"color\":\"rgb(94, 201, 97)\",\"width\":2},\"mode\":\"lines+markers\",\"name\":\"Action 3\",\"showlegend\":false,\"x\":[0,1],\"y\":[74,77],\"type\":\"scatter\"},{\"line\":{\"color\":\"rgb(94, 201, 97)\",\"width\":2},\"mode\":\"lines+markers\",\"name\":\"Action 3\",\"showlegend\":false,\"x\":[0,1],\"y\":[77,80],\"type\":\"scatter\"},{\"line\":{\"color\":\"rgb(94, 201, 97)\",\"width\":2},\"mode\":\"lines+markers\",\"name\":\"Action 3\",\"showlegend\":false,\"x\":[0,1],\"y\":[78,81],\"type\":\"scatter\"},{\"line\":{\"color\":\"rgb(94, 201, 97)\",\"width\":2},\"mode\":\"lines+markers\",\"name\":\"Action 3\",\"showlegend\":false,\"x\":[0,1],\"y\":[79,82],\"type\":\"scatter\"},{\"line\":{\"color\":\"rgb(94, 201, 97)\",\"width\":2},\"mode\":\"lines+markers\",\"name\":\"Action 3\",\"showlegend\":false,\"x\":[0,1],\"y\":[81,84],\"type\":\"scatter\"},{\"line\":{\"color\":\"rgb(94, 201, 97)\",\"width\":2},\"mode\":\"lines+markers\",\"name\":\"Action 3\",\"showlegend\":false,\"x\":[0,1],\"y\":[83,86],\"type\":\"scatter\"},{\"line\":{\"color\":\"rgb(94, 201, 97)\",\"width\":2},\"mode\":\"lines+markers\",\"name\":\"Action 3\",\"showlegend\":false,\"x\":[0,1],\"y\":[85,88],\"type\":\"scatter\"},{\"line\":{\"color\":\"rgb(94, 201, 97)\",\"width\":2},\"mode\":\"lines+markers\",\"name\":\"Action 3\",\"showlegend\":false,\"x\":[0,1],\"y\":[88,91],\"type\":\"scatter\"},{\"line\":{\"color\":\"rgb(94, 201, 97)\",\"width\":2},\"mode\":\"lines+markers\",\"name\":\"Action 3\",\"showlegend\":false,\"x\":[0,1],\"y\":[91,94],\"type\":\"scatter\"},{\"line\":{\"color\":\"rgb(94, 201, 97)\",\"width\":2},\"mode\":\"lines+markers\",\"name\":\"Action 3\",\"showlegend\":false,\"x\":[0,1],\"y\":[92,95],\"type\":\"scatter\"},{\"line\":{\"color\":\"rgb(94, 201, 97)\",\"width\":2},\"mode\":\"lines+markers\",\"name\":\"Action 3\",\"showlegend\":false,\"x\":[0,1],\"y\":[94,97],\"type\":\"scatter\"},{\"line\":{\"color\":\"rgb(94, 201, 97)\",\"width\":2},\"mode\":\"lines+markers\",\"name\":\"Action 3\",\"showlegend\":false,\"x\":[0,1],\"y\":[97,100],\"type\":\"scatter\"},{\"line\":{\"color\":\"rgb(94, 201, 97)\",\"width\":2},\"mode\":\"lines+markers\",\"name\":\"Action 3\",\"showlegend\":false,\"x\":[1,2],\"y\":[3,6],\"type\":\"scatter\"},{\"line\":{\"color\":\"rgb(94, 201, 97)\",\"width\":2},\"mode\":\"lines+markers\",\"name\":\"Action 3\",\"showlegend\":false,\"x\":[1,2],\"y\":[5,8],\"type\":\"scatter\"},{\"line\":{\"color\":\"rgb(94, 201, 97)\",\"width\":2},\"mode\":\"lines+markers\",\"name\":\"Action 3\",\"showlegend\":false,\"x\":[1,2],\"y\":[11,14],\"type\":\"scatter\"},{\"line\":{\"color\":\"rgb(94, 201, 97)\",\"width\":2},\"mode\":\"lines+markers\",\"name\":\"Action 3\",\"showlegend\":false,\"x\":[1,2],\"y\":[12,15],\"type\":\"scatter\"},{\"line\":{\"color\":\"rgb(94, 201, 97)\",\"width\":2},\"mode\":\"lines+markers\",\"name\":\"Action 3\",\"showlegend\":false,\"x\":[1,2],\"y\":[13,16],\"type\":\"scatter\"},{\"line\":{\"color\":\"rgb(94, 201, 97)\",\"width\":2},\"mode\":\"lines+markers\",\"name\":\"Action 3\",\"showlegend\":false,\"x\":[1,2],\"y\":[18,21],\"type\":\"scatter\"},{\"line\":{\"color\":\"rgb(94, 201, 97)\",\"width\":2},\"mode\":\"lines+markers\",\"name\":\"Action 3\",\"showlegend\":false,\"x\":[1,2],\"y\":[24,27],\"type\":\"scatter\"},{\"line\":{\"color\":\"rgb(94, 201, 97)\",\"width\":2},\"mode\":\"lines+markers\",\"name\":\"Action 3\",\"showlegend\":false,\"x\":[1,2],\"y\":[25,28],\"type\":\"scatter\"},{\"line\":{\"color\":\"rgb(94, 201, 97)\",\"width\":2},\"mode\":\"lines+markers\",\"name\":\"Action 3\",\"showlegend\":false,\"x\":[1,2],\"y\":[28,31],\"type\":\"scatter\"},{\"line\":{\"color\":\"rgb(94, 201, 97)\",\"width\":2},\"mode\":\"lines+markers\",\"name\":\"Action 3\",\"showlegend\":false,\"x\":[1,2],\"y\":[29,32],\"type\":\"scatter\"},{\"line\":{\"color\":\"rgb(94, 201, 97)\",\"width\":2},\"mode\":\"lines+markers\",\"name\":\"Action 3\",\"showlegend\":false,\"x\":[1,2],\"y\":[30,33],\"type\":\"scatter\"},{\"line\":{\"color\":\"rgb(94, 201, 97)\",\"width\":2},\"mode\":\"lines+markers\",\"name\":\"Action 3\",\"showlegend\":false,\"x\":[1,2],\"y\":[31,34],\"type\":\"scatter\"},{\"line\":{\"color\":\"rgb(94, 201, 97)\",\"width\":2},\"mode\":\"lines+markers\",\"name\":\"Action 3\",\"showlegend\":false,\"x\":[1,2],\"y\":[34,37],\"type\":\"scatter\"},{\"line\":{\"color\":\"rgb(94, 201, 97)\",\"width\":2},\"mode\":\"lines+markers\",\"name\":\"Action 3\",\"showlegend\":false,\"x\":[1,2],\"y\":[35,38],\"type\":\"scatter\"},{\"line\":{\"color\":\"rgb(94, 201, 97)\",\"width\":2},\"mode\":\"lines+markers\",\"name\":\"Action 3\",\"showlegend\":false,\"x\":[1,2],\"y\":[36,39],\"type\":\"scatter\"},{\"line\":{\"color\":\"rgb(94, 201, 97)\",\"width\":2},\"mode\":\"lines+markers\",\"name\":\"Action 3\",\"showlegend\":false,\"x\":[1,2],\"y\":[43,46],\"type\":\"scatter\"},{\"line\":{\"color\":\"rgb(94, 201, 97)\",\"width\":2},\"mode\":\"lines+markers\",\"name\":\"Action 3\",\"showlegend\":false,\"x\":[1,2],\"y\":[44,47],\"type\":\"scatter\"},{\"line\":{\"color\":\"rgb(94, 201, 97)\",\"width\":2},\"mode\":\"lines+markers\",\"name\":\"Action 3\",\"showlegend\":false,\"x\":[1,2],\"y\":[46,49],\"type\":\"scatter\"},{\"line\":{\"color\":\"rgb(94, 201, 97)\",\"width\":2},\"mode\":\"lines+markers\",\"name\":\"Action 3\",\"showlegend\":false,\"x\":[1,2],\"y\":[47,50],\"type\":\"scatter\"},{\"line\":{\"color\":\"rgb(94, 201, 97)\",\"width\":2},\"mode\":\"lines+markers\",\"name\":\"Action 3\",\"showlegend\":false,\"x\":[1,2],\"y\":[48,51],\"type\":\"scatter\"},{\"line\":{\"color\":\"rgb(94, 201, 97)\",\"width\":2},\"mode\":\"lines+markers\",\"name\":\"Action 3\",\"showlegend\":false,\"x\":[1,2],\"y\":[49,52],\"type\":\"scatter\"},{\"line\":{\"color\":\"rgb(94, 201, 97)\",\"width\":2},\"mode\":\"lines+markers\",\"name\":\"Action 3\",\"showlegend\":false,\"x\":[1,2],\"y\":[50,53],\"type\":\"scatter\"},{\"line\":{\"color\":\"rgb(94, 201, 97)\",\"width\":2},\"mode\":\"lines+markers\",\"name\":\"Action 3\",\"showlegend\":false,\"x\":[1,2],\"y\":[52,55],\"type\":\"scatter\"},{\"line\":{\"color\":\"rgb(94, 201, 97)\",\"width\":2},\"mode\":\"lines+markers\",\"name\":\"Action 3\",\"showlegend\":false,\"x\":[1,2],\"y\":[54,57],\"type\":\"scatter\"},{\"line\":{\"color\":\"rgb(94, 201, 97)\",\"width\":2},\"mode\":\"lines+markers\",\"name\":\"Action 3\",\"showlegend\":false,\"x\":[1,2],\"y\":[56,59],\"type\":\"scatter\"},{\"line\":{\"color\":\"rgb(94, 201, 97)\",\"width\":2},\"mode\":\"lines+markers\",\"name\":\"Action 3\",\"showlegend\":false,\"x\":[1,2],\"y\":[58,61],\"type\":\"scatter\"},{\"line\":{\"color\":\"rgb(94, 201, 97)\",\"width\":2},\"mode\":\"lines+markers\",\"name\":\"Action 3\",\"showlegend\":false,\"x\":[1,2],\"y\":[60,63],\"type\":\"scatter\"},{\"line\":{\"color\":\"rgb(94, 201, 97)\",\"width\":2},\"mode\":\"lines+markers\",\"name\":\"Action 3\",\"showlegend\":false,\"x\":[1,2],\"y\":[63,66],\"type\":\"scatter\"},{\"line\":{\"color\":\"rgb(94, 201, 97)\",\"width\":2},\"mode\":\"lines+markers\",\"name\":\"Action 3\",\"showlegend\":false,\"x\":[1,2],\"y\":[68,71],\"type\":\"scatter\"},{\"line\":{\"color\":\"rgb(94, 201, 97)\",\"width\":2},\"mode\":\"lines+markers\",\"name\":\"Action 3\",\"showlegend\":false,\"x\":[1,2],\"y\":[75,78],\"type\":\"scatter\"},{\"line\":{\"color\":\"rgb(94, 201, 97)\",\"width\":2},\"mode\":\"lines+markers\",\"name\":\"Action 3\",\"showlegend\":false,\"x\":[1,2],\"y\":[77,80],\"type\":\"scatter\"},{\"line\":{\"color\":\"rgb(94, 201, 97)\",\"width\":2},\"mode\":\"lines+markers\",\"name\":\"Action 3\",\"showlegend\":false,\"x\":[1,2],\"y\":[81,84],\"type\":\"scatter\"},{\"line\":{\"color\":\"rgb(94, 201, 97)\",\"width\":2},\"mode\":\"lines+markers\",\"name\":\"Action 3\",\"showlegend\":false,\"x\":[1,2],\"y\":[83,86],\"type\":\"scatter\"},{\"line\":{\"color\":\"rgb(94, 201, 97)\",\"width\":2},\"mode\":\"lines+markers\",\"name\":\"Action 3\",\"showlegend\":false,\"x\":[1,2],\"y\":[88,91],\"type\":\"scatter\"},{\"line\":{\"color\":\"rgb(94, 201, 97)\",\"width\":2},\"mode\":\"lines+markers\",\"name\":\"Action 3\",\"showlegend\":false,\"x\":[1,2],\"y\":[89,92],\"type\":\"scatter\"},{\"line\":{\"color\":\"rgb(94, 201, 97)\",\"width\":2},\"mode\":\"lines+markers\",\"name\":\"Action 3\",\"showlegend\":false,\"x\":[1,2],\"y\":[91,94],\"type\":\"scatter\"},{\"line\":{\"color\":\"rgb(94, 201, 97)\",\"width\":2},\"mode\":\"lines+markers\",\"name\":\"Action 3\",\"showlegend\":false,\"x\":[2,3],\"y\":[6,9],\"type\":\"scatter\"},{\"line\":{\"color\":\"rgb(94, 201, 97)\",\"width\":2},\"mode\":\"lines+markers\",\"name\":\"Action 3\",\"showlegend\":false,\"x\":[2,3],\"y\":[15,18],\"type\":\"scatter\"},{\"line\":{\"color\":\"rgb(94, 201, 97)\",\"width\":2},\"mode\":\"lines+markers\",\"name\":\"Action 3\",\"showlegend\":false,\"x\":[2,3],\"y\":[22,25],\"type\":\"scatter\"},{\"line\":{\"color\":\"rgb(94, 201, 97)\",\"width\":2},\"mode\":\"lines+markers\",\"name\":\"Action 3\",\"showlegend\":false,\"x\":[2,3],\"y\":[23,26],\"type\":\"scatter\"},{\"line\":{\"color\":\"rgb(94, 201, 97)\",\"width\":2},\"mode\":\"lines+markers\",\"name\":\"Action 3\",\"showlegend\":false,\"x\":[2,3],\"y\":[24,27],\"type\":\"scatter\"},{\"line\":{\"color\":\"rgb(94, 201, 97)\",\"width\":2},\"mode\":\"lines+markers\",\"name\":\"Action 3\",\"showlegend\":false,\"x\":[2,3],\"y\":[25,28],\"type\":\"scatter\"},{\"line\":{\"color\":\"rgb(94, 201, 97)\",\"width\":2},\"mode\":\"lines+markers\",\"name\":\"Action 3\",\"showlegend\":false,\"x\":[2,3],\"y\":[27,30],\"type\":\"scatter\"},{\"line\":{\"color\":\"rgb(94, 201, 97)\",\"width\":2},\"mode\":\"lines+markers\",\"name\":\"Action 3\",\"showlegend\":false,\"x\":[2,3],\"y\":[29,32],\"type\":\"scatter\"},{\"line\":{\"color\":\"rgb(94, 201, 97)\",\"width\":2},\"mode\":\"lines+markers\",\"name\":\"Action 3\",\"showlegend\":false,\"x\":[2,3],\"y\":[31,34],\"type\":\"scatter\"},{\"line\":{\"color\":\"rgb(94, 201, 97)\",\"width\":2},\"mode\":\"lines+markers\",\"name\":\"Action 3\",\"showlegend\":false,\"x\":[2,3],\"y\":[33,36],\"type\":\"scatter\"},{\"line\":{\"color\":\"rgb(94, 201, 97)\",\"width\":2},\"mode\":\"lines+markers\",\"name\":\"Action 3\",\"showlegend\":false,\"x\":[2,3],\"y\":[34,37],\"type\":\"scatter\"},{\"line\":{\"color\":\"rgb(94, 201, 97)\",\"width\":2},\"mode\":\"lines+markers\",\"name\":\"Action 3\",\"showlegend\":false,\"x\":[2,3],\"y\":[38,41],\"type\":\"scatter\"},{\"line\":{\"color\":\"rgb(94, 201, 97)\",\"width\":2},\"mode\":\"lines+markers\",\"name\":\"Action 3\",\"showlegend\":false,\"x\":[2,3],\"y\":[39,42],\"type\":\"scatter\"},{\"line\":{\"color\":\"rgb(94, 201, 97)\",\"width\":2},\"mode\":\"lines+markers\",\"name\":\"Action 3\",\"showlegend\":false,\"x\":[2,3],\"y\":[40,43],\"type\":\"scatter\"},{\"line\":{\"color\":\"rgb(94, 201, 97)\",\"width\":2},\"mode\":\"lines+markers\",\"name\":\"Action 3\",\"showlegend\":false,\"x\":[2,3],\"y\":[43,46],\"type\":\"scatter\"},{\"line\":{\"color\":\"rgb(94, 201, 97)\",\"width\":2},\"mode\":\"lines+markers\",\"name\":\"Action 3\",\"showlegend\":false,\"x\":[2,3],\"y\":[44,47],\"type\":\"scatter\"},{\"line\":{\"color\":\"rgb(94, 201, 97)\",\"width\":2},\"mode\":\"lines+markers\",\"name\":\"Action 3\",\"showlegend\":false,\"x\":[2,3],\"y\":[47,50],\"type\":\"scatter\"},{\"line\":{\"color\":\"rgb(94, 201, 97)\",\"width\":2},\"mode\":\"lines+markers\",\"name\":\"Action 3\",\"showlegend\":false,\"x\":[2,3],\"y\":[48,51],\"type\":\"scatter\"},{\"line\":{\"color\":\"rgb(94, 201, 97)\",\"width\":2},\"mode\":\"lines+markers\",\"name\":\"Action 3\",\"showlegend\":false,\"x\":[2,3],\"y\":[49,52],\"type\":\"scatter\"},{\"line\":{\"color\":\"rgb(94, 201, 97)\",\"width\":2},\"mode\":\"lines+markers\",\"name\":\"Action 3\",\"showlegend\":false,\"x\":[2,3],\"y\":[52,55],\"type\":\"scatter\"},{\"line\":{\"color\":\"rgb(94, 201, 97)\",\"width\":2},\"mode\":\"lines+markers\",\"name\":\"Action 3\",\"showlegend\":false,\"x\":[2,3],\"y\":[53,56],\"type\":\"scatter\"},{\"line\":{\"color\":\"rgb(94, 201, 97)\",\"width\":2},\"mode\":\"lines+markers\",\"name\":\"Action 3\",\"showlegend\":false,\"x\":[2,3],\"y\":[54,57],\"type\":\"scatter\"},{\"line\":{\"color\":\"rgb(94, 201, 97)\",\"width\":2},\"mode\":\"lines+markers\",\"name\":\"Action 3\",\"showlegend\":false,\"x\":[2,3],\"y\":[56,59],\"type\":\"scatter\"},{\"line\":{\"color\":\"rgb(94, 201, 97)\",\"width\":2},\"mode\":\"lines+markers\",\"name\":\"Action 3\",\"showlegend\":false,\"x\":[2,3],\"y\":[58,61],\"type\":\"scatter\"},{\"line\":{\"color\":\"rgb(94, 201, 97)\",\"width\":2},\"mode\":\"lines+markers\",\"name\":\"Action 3\",\"showlegend\":false,\"x\":[2,3],\"y\":[59,62],\"type\":\"scatter\"},{\"line\":{\"color\":\"rgb(94, 201, 97)\",\"width\":2},\"mode\":\"lines+markers\",\"name\":\"Action 3\",\"showlegend\":false,\"x\":[2,3],\"y\":[60,63],\"type\":\"scatter\"},{\"line\":{\"color\":\"rgb(94, 201, 97)\",\"width\":2},\"mode\":\"lines+markers\",\"name\":\"Action 3\",\"showlegend\":false,\"x\":[2,3],\"y\":[63,66],\"type\":\"scatter\"},{\"line\":{\"color\":\"rgb(94, 201, 97)\",\"width\":2},\"mode\":\"lines+markers\",\"name\":\"Action 3\",\"showlegend\":false,\"x\":[2,3],\"y\":[64,67],\"type\":\"scatter\"},{\"line\":{\"color\":\"rgb(94, 201, 97)\",\"width\":2},\"mode\":\"lines+markers\",\"name\":\"Action 3\",\"showlegend\":false,\"x\":[2,3],\"y\":[70,73],\"type\":\"scatter\"},{\"line\":{\"color\":\"rgb(94, 201, 97)\",\"width\":2},\"mode\":\"lines+markers\",\"name\":\"Action 3\",\"showlegend\":false,\"x\":[2,3],\"y\":[74,77],\"type\":\"scatter\"},{\"line\":{\"color\":\"rgb(94, 201, 97)\",\"width\":2},\"mode\":\"lines+markers\",\"name\":\"Action 3\",\"showlegend\":false,\"x\":[2,3],\"y\":[76,79],\"type\":\"scatter\"},{\"line\":{\"color\":\"rgb(94, 201, 97)\",\"width\":2},\"mode\":\"lines+markers\",\"name\":\"Action 3\",\"showlegend\":false,\"x\":[2,3],\"y\":[78,81],\"type\":\"scatter\"},{\"line\":{\"color\":\"rgb(94, 201, 97)\",\"width\":2},\"mode\":\"lines+markers\",\"name\":\"Action 3\",\"showlegend\":false,\"x\":[2,3],\"y\":[79,82],\"type\":\"scatter\"},{\"line\":{\"color\":\"rgb(94, 201, 97)\",\"width\":2},\"mode\":\"lines+markers\",\"name\":\"Action 3\",\"showlegend\":false,\"x\":[2,3],\"y\":[81,84],\"type\":\"scatter\"},{\"line\":{\"color\":\"rgb(94, 201, 97)\",\"width\":2},\"mode\":\"lines+markers\",\"name\":\"Action 3\",\"showlegend\":false,\"x\":[2,3],\"y\":[83,86],\"type\":\"scatter\"},{\"line\":{\"color\":\"rgb(94, 201, 97)\",\"width\":2},\"mode\":\"lines+markers\",\"name\":\"Action 3\",\"showlegend\":false,\"x\":[2,3],\"y\":[85,88],\"type\":\"scatter\"},{\"line\":{\"color\":\"rgb(94, 201, 97)\",\"width\":2},\"mode\":\"lines+markers\",\"name\":\"Action 3\",\"showlegend\":false,\"x\":[2,3],\"y\":[89,92],\"type\":\"scatter\"},{\"line\":{\"color\":\"rgb(94, 201, 97)\",\"width\":2},\"mode\":\"lines+markers\",\"name\":\"Action 3\",\"showlegend\":false,\"x\":[2,3],\"y\":[91,94],\"type\":\"scatter\"},{\"line\":{\"color\":\"rgb(94, 201, 97)\",\"width\":2},\"mode\":\"lines+markers\",\"name\":\"Action 3\",\"showlegend\":false,\"x\":[2,3],\"y\":[93,96],\"type\":\"scatter\"},{\"line\":{\"color\":\"rgb(94, 201, 97)\",\"width\":2},\"mode\":\"lines+markers\",\"name\":\"Action 3\",\"showlegend\":false,\"x\":[3,4],\"y\":[2,5],\"type\":\"scatter\"},{\"line\":{\"color\":\"rgb(94, 201, 97)\",\"width\":2},\"mode\":\"lines+markers\",\"name\":\"Action 3\",\"showlegend\":false,\"x\":[3,4],\"y\":[5,8],\"type\":\"scatter\"},{\"line\":{\"color\":\"rgb(94, 201, 97)\",\"width\":2},\"mode\":\"lines+markers\",\"name\":\"Action 3\",\"showlegend\":false,\"x\":[3,4],\"y\":[6,9],\"type\":\"scatter\"},{\"line\":{\"color\":\"rgb(94, 201, 97)\",\"width\":2},\"mode\":\"lines+markers\",\"name\":\"Action 3\",\"showlegend\":false,\"x\":[3,4],\"y\":[11,14],\"type\":\"scatter\"},{\"line\":{\"color\":\"rgb(94, 201, 97)\",\"width\":2},\"mode\":\"lines+markers\",\"name\":\"Action 3\",\"showlegend\":false,\"x\":[3,4],\"y\":[18,21],\"type\":\"scatter\"},{\"line\":{\"color\":\"rgb(94, 201, 97)\",\"width\":2},\"mode\":\"lines+markers\",\"name\":\"Action 3\",\"showlegend\":false,\"x\":[3,4],\"y\":[19,22],\"type\":\"scatter\"},{\"line\":{\"color\":\"rgb(94, 201, 97)\",\"width\":2},\"mode\":\"lines+markers\",\"name\":\"Action 3\",\"showlegend\":false,\"x\":[3,4],\"y\":[24,27],\"type\":\"scatter\"},{\"line\":{\"color\":\"rgb(94, 201, 97)\",\"width\":2},\"mode\":\"lines+markers\",\"name\":\"Action 3\",\"showlegend\":false,\"x\":[3,4],\"y\":[25,28],\"type\":\"scatter\"},{\"line\":{\"color\":\"rgb(94, 201, 97)\",\"width\":2},\"mode\":\"lines+markers\",\"name\":\"Action 3\",\"showlegend\":false,\"x\":[3,4],\"y\":[30,33],\"type\":\"scatter\"},{\"line\":{\"color\":\"rgb(94, 201, 97)\",\"width\":2},\"mode\":\"lines+markers\",\"name\":\"Action 3\",\"showlegend\":false,\"x\":[3,4],\"y\":[34,37],\"type\":\"scatter\"},{\"line\":{\"color\":\"rgb(94, 201, 97)\",\"width\":2},\"mode\":\"lines+markers\",\"name\":\"Action 3\",\"showlegend\":false,\"x\":[3,4],\"y\":[35,38],\"type\":\"scatter\"},{\"line\":{\"color\":\"rgb(94, 201, 97)\",\"width\":2},\"mode\":\"lines+markers\",\"name\":\"Action 3\",\"showlegend\":false,\"x\":[3,4],\"y\":[38,41],\"type\":\"scatter\"},{\"line\":{\"color\":\"rgb(94, 201, 97)\",\"width\":2},\"mode\":\"lines+markers\",\"name\":\"Action 3\",\"showlegend\":false,\"x\":[3,4],\"y\":[39,42],\"type\":\"scatter\"},{\"line\":{\"color\":\"rgb(94, 201, 97)\",\"width\":2},\"mode\":\"lines+markers\",\"name\":\"Action 3\",\"showlegend\":false,\"x\":[3,4],\"y\":[40,43],\"type\":\"scatter\"},{\"line\":{\"color\":\"rgb(94, 201, 97)\",\"width\":2},\"mode\":\"lines+markers\",\"name\":\"Action 3\",\"showlegend\":false,\"x\":[3,4],\"y\":[45,48],\"type\":\"scatter\"},{\"line\":{\"color\":\"rgb(94, 201, 97)\",\"width\":2},\"mode\":\"lines+markers\",\"name\":\"Action 3\",\"showlegend\":false,\"x\":[3,4],\"y\":[47,50],\"type\":\"scatter\"},{\"line\":{\"color\":\"rgb(94, 201, 97)\",\"width\":2},\"mode\":\"lines+markers\",\"name\":\"Action 3\",\"showlegend\":false,\"x\":[3,4],\"y\":[50,53],\"type\":\"scatter\"},{\"line\":{\"color\":\"rgb(94, 201, 97)\",\"width\":2},\"mode\":\"lines+markers\",\"name\":\"Action 3\",\"showlegend\":false,\"x\":[3,4],\"y\":[51,54],\"type\":\"scatter\"},{\"line\":{\"color\":\"rgb(94, 201, 97)\",\"width\":2},\"mode\":\"lines+markers\",\"name\":\"Action 3\",\"showlegend\":false,\"x\":[3,4],\"y\":[52,55],\"type\":\"scatter\"},{\"line\":{\"color\":\"rgb(94, 201, 97)\",\"width\":2},\"mode\":\"lines+markers\",\"name\":\"Action 3\",\"showlegend\":false,\"x\":[3,4],\"y\":[53,56],\"type\":\"scatter\"},{\"line\":{\"color\":\"rgb(94, 201, 97)\",\"width\":2},\"mode\":\"lines+markers\",\"name\":\"Action 3\",\"showlegend\":false,\"x\":[3,4],\"y\":[54,57],\"type\":\"scatter\"},{\"line\":{\"color\":\"rgb(94, 201, 97)\",\"width\":2},\"mode\":\"lines+markers\",\"name\":\"Action 3\",\"showlegend\":false,\"x\":[3,4],\"y\":[58,61],\"type\":\"scatter\"},{\"line\":{\"color\":\"rgb(94, 201, 97)\",\"width\":2},\"mode\":\"lines+markers\",\"name\":\"Action 3\",\"showlegend\":false,\"x\":[3,4],\"y\":[59,62],\"type\":\"scatter\"},{\"line\":{\"color\":\"rgb(94, 201, 97)\",\"width\":2},\"mode\":\"lines+markers\",\"name\":\"Action 3\",\"showlegend\":false,\"x\":[3,4],\"y\":[60,63],\"type\":\"scatter\"},{\"line\":{\"color\":\"rgb(94, 201, 97)\",\"width\":2},\"mode\":\"lines+markers\",\"name\":\"Action 3\",\"showlegend\":false,\"x\":[3,4],\"y\":[63,66],\"type\":\"scatter\"},{\"line\":{\"color\":\"rgb(94, 201, 97)\",\"width\":2},\"mode\":\"lines+markers\",\"name\":\"Action 3\",\"showlegend\":false,\"x\":[3,4],\"y\":[67,70],\"type\":\"scatter\"},{\"line\":{\"color\":\"rgb(94, 201, 97)\",\"width\":2},\"mode\":\"lines+markers\",\"name\":\"Action 3\",\"showlegend\":false,\"x\":[3,4],\"y\":[70,73],\"type\":\"scatter\"},{\"line\":{\"color\":\"rgb(94, 201, 97)\",\"width\":2},\"mode\":\"lines+markers\",\"name\":\"Action 3\",\"showlegend\":false,\"x\":[3,4],\"y\":[72,75],\"type\":\"scatter\"},{\"line\":{\"color\":\"rgb(94, 201, 97)\",\"width\":2},\"mode\":\"lines+markers\",\"name\":\"Action 3\",\"showlegend\":false,\"x\":[3,4],\"y\":[74,77],\"type\":\"scatter\"},{\"line\":{\"color\":\"rgb(94, 201, 97)\",\"width\":2},\"mode\":\"lines+markers\",\"name\":\"Action 3\",\"showlegend\":false,\"x\":[3,4],\"y\":[75,78],\"type\":\"scatter\"},{\"line\":{\"color\":\"rgb(94, 201, 97)\",\"width\":2},\"mode\":\"lines+markers\",\"name\":\"Action 3\",\"showlegend\":false,\"x\":[3,4],\"y\":[76,79],\"type\":\"scatter\"},{\"line\":{\"color\":\"rgb(94, 201, 97)\",\"width\":2},\"mode\":\"lines+markers\",\"name\":\"Action 3\",\"showlegend\":false,\"x\":[3,4],\"y\":[77,80],\"type\":\"scatter\"},{\"line\":{\"color\":\"rgb(94, 201, 97)\",\"width\":2},\"mode\":\"lines+markers\",\"name\":\"Action 3\",\"showlegend\":false,\"x\":[3,4],\"y\":[78,81],\"type\":\"scatter\"},{\"line\":{\"color\":\"rgb(94, 201, 97)\",\"width\":2},\"mode\":\"lines+markers\",\"name\":\"Action 3\",\"showlegend\":false,\"x\":[3,4],\"y\":[81,84],\"type\":\"scatter\"},{\"line\":{\"color\":\"rgb(94, 201, 97)\",\"width\":2},\"mode\":\"lines+markers\",\"name\":\"Action 3\",\"showlegend\":false,\"x\":[3,4],\"y\":[84,87],\"type\":\"scatter\"},{\"line\":{\"color\":\"rgb(94, 201, 97)\",\"width\":2},\"mode\":\"lines+markers\",\"name\":\"Action 3\",\"showlegend\":false,\"x\":[3,4],\"y\":[85,88],\"type\":\"scatter\"},{\"line\":{\"color\":\"rgb(94, 201, 97)\",\"width\":2},\"mode\":\"lines+markers\",\"name\":\"Action 3\",\"showlegend\":false,\"x\":[3,4],\"y\":[87,90],\"type\":\"scatter\"},{\"line\":{\"color\":\"rgb(94, 201, 97)\",\"width\":2},\"mode\":\"lines+markers\",\"name\":\"Action 3\",\"showlegend\":false,\"x\":[3,4],\"y\":[88,91],\"type\":\"scatter\"},{\"line\":{\"color\":\"rgb(94, 201, 97)\",\"width\":2},\"mode\":\"lines+markers\",\"name\":\"Action 3\",\"showlegend\":false,\"x\":[3,4],\"y\":[89,92],\"type\":\"scatter\"},{\"line\":{\"color\":\"rgb(94, 201, 97)\",\"width\":2},\"mode\":\"lines+markers\",\"name\":\"Action 3\",\"showlegend\":false,\"x\":[3,4],\"y\":[93,96],\"type\":\"scatter\"},{\"line\":{\"color\":\"rgb(94, 201, 97)\",\"width\":2},\"mode\":\"lines+markers\",\"name\":\"Action 3\",\"showlegend\":false,\"x\":[4,5],\"y\":[3,6],\"type\":\"scatter\"},{\"line\":{\"color\":\"rgb(94, 201, 97)\",\"width\":2},\"mode\":\"lines+markers\",\"name\":\"Action 3\",\"showlegend\":false,\"x\":[4,5],\"y\":[15,18],\"type\":\"scatter\"},{\"line\":{\"color\":\"rgb(94, 201, 97)\",\"width\":2},\"mode\":\"lines+markers\",\"name\":\"Action 3\",\"showlegend\":false,\"x\":[4,5],\"y\":[26,29],\"type\":\"scatter\"},{\"line\":{\"color\":\"rgb(94, 201, 97)\",\"width\":2},\"mode\":\"lines+markers\",\"name\":\"Action 3\",\"showlegend\":false,\"x\":[4,5],\"y\":[27,30],\"type\":\"scatter\"},{\"line\":{\"color\":\"rgb(94, 201, 97)\",\"width\":2},\"mode\":\"lines+markers\",\"name\":\"Action 3\",\"showlegend\":false,\"x\":[4,5],\"y\":[29,32],\"type\":\"scatter\"},{\"line\":{\"color\":\"rgb(94, 201, 97)\",\"width\":2},\"mode\":\"lines+markers\",\"name\":\"Action 3\",\"showlegend\":false,\"x\":[4,5],\"y\":[33,36],\"type\":\"scatter\"},{\"line\":{\"color\":\"rgb(94, 201, 97)\",\"width\":2},\"mode\":\"lines+markers\",\"name\":\"Action 3\",\"showlegend\":false,\"x\":[4,5],\"y\":[34,37],\"type\":\"scatter\"},{\"line\":{\"color\":\"rgb(94, 201, 97)\",\"width\":2},\"mode\":\"lines+markers\",\"name\":\"Action 3\",\"showlegend\":false,\"x\":[4,5],\"y\":[37,40],\"type\":\"scatter\"},{\"line\":{\"color\":\"rgb(94, 201, 97)\",\"width\":2},\"mode\":\"lines+markers\",\"name\":\"Action 3\",\"showlegend\":false,\"x\":[4,5],\"y\":[40,43],\"type\":\"scatter\"},{\"line\":{\"color\":\"rgb(94, 201, 97)\",\"width\":2},\"mode\":\"lines+markers\",\"name\":\"Action 3\",\"showlegend\":false,\"x\":[4,5],\"y\":[42,45],\"type\":\"scatter\"},{\"line\":{\"color\":\"rgb(94, 201, 97)\",\"width\":2},\"mode\":\"lines+markers\",\"name\":\"Action 3\",\"showlegend\":false,\"x\":[4,5],\"y\":[46,49],\"type\":\"scatter\"},{\"line\":{\"color\":\"rgb(94, 201, 97)\",\"width\":2},\"mode\":\"lines+markers\",\"name\":\"Action 3\",\"showlegend\":false,\"x\":[4,5],\"y\":[48,51],\"type\":\"scatter\"},{\"line\":{\"color\":\"rgb(94, 201, 97)\",\"width\":2},\"mode\":\"lines+markers\",\"name\":\"Action 3\",\"showlegend\":false,\"x\":[4,5],\"y\":[50,53],\"type\":\"scatter\"},{\"line\":{\"color\":\"rgb(94, 201, 97)\",\"width\":2},\"mode\":\"lines+markers\",\"name\":\"Action 3\",\"showlegend\":false,\"x\":[4,5],\"y\":[51,54],\"type\":\"scatter\"},{\"line\":{\"color\":\"rgb(94, 201, 97)\",\"width\":2},\"mode\":\"lines+markers\",\"name\":\"Action 3\",\"showlegend\":false,\"x\":[4,5],\"y\":[52,55],\"type\":\"scatter\"},{\"line\":{\"color\":\"rgb(94, 201, 97)\",\"width\":2},\"mode\":\"lines+markers\",\"name\":\"Action 3\",\"showlegend\":false,\"x\":[4,5],\"y\":[55,58],\"type\":\"scatter\"},{\"line\":{\"color\":\"rgb(94, 201, 97)\",\"width\":2},\"mode\":\"lines+markers\",\"name\":\"Action 3\",\"showlegend\":false,\"x\":[4,5],\"y\":[60,63],\"type\":\"scatter\"},{\"line\":{\"color\":\"rgb(94, 201, 97)\",\"width\":2},\"mode\":\"lines+markers\",\"name\":\"Action 3\",\"showlegend\":false,\"x\":[4,5],\"y\":[63,66],\"type\":\"scatter\"},{\"line\":{\"color\":\"rgb(94, 201, 97)\",\"width\":2},\"mode\":\"lines+markers\",\"name\":\"Action 3\",\"showlegend\":false,\"x\":[4,5],\"y\":[68,71],\"type\":\"scatter\"},{\"line\":{\"color\":\"rgb(94, 201, 97)\",\"width\":2},\"mode\":\"lines+markers\",\"name\":\"Action 3\",\"showlegend\":false,\"x\":[4,5],\"y\":[72,75],\"type\":\"scatter\"},{\"line\":{\"color\":\"rgb(94, 201, 97)\",\"width\":2},\"mode\":\"lines+markers\",\"name\":\"Action 3\",\"showlegend\":false,\"x\":[4,5],\"y\":[78,81],\"type\":\"scatter\"},{\"line\":{\"color\":\"rgb(94, 201, 97)\",\"width\":2},\"mode\":\"lines+markers\",\"name\":\"Action 3\",\"showlegend\":false,\"x\":[4,5],\"y\":[81,84],\"type\":\"scatter\"},{\"line\":{\"color\":\"rgb(94, 201, 97)\",\"width\":2},\"mode\":\"lines+markers\",\"name\":\"Action 3\",\"showlegend\":false,\"x\":[4,5],\"y\":[87,90],\"type\":\"scatter\"},{\"line\":{\"color\":\"rgb(94, 201, 97)\",\"width\":2},\"mode\":\"lines+markers\",\"name\":\"Action 3\",\"showlegend\":false,\"x\":[4,5],\"y\":[88,91],\"type\":\"scatter\"},{\"line\":{\"color\":\"rgb(94, 201, 97)\",\"width\":2},\"mode\":\"lines+markers\",\"name\":\"Action 3\",\"showlegend\":false,\"x\":[4,5],\"y\":[89,92],\"type\":\"scatter\"},{\"line\":{\"color\":\"rgb(94, 201, 97)\",\"width\":2},\"mode\":\"lines+markers\",\"name\":\"Action 3\",\"showlegend\":false,\"x\":[4,5],\"y\":[91,94],\"type\":\"scatter\"},{\"line\":{\"color\":\"rgb(94, 201, 97)\",\"width\":2},\"mode\":\"lines+markers\",\"name\":\"Action 3\",\"showlegend\":false,\"x\":[5,6],\"y\":[3,6],\"type\":\"scatter\"},{\"line\":{\"color\":\"rgb(94, 201, 97)\",\"width\":2},\"mode\":\"lines+markers\",\"name\":\"Action 3\",\"showlegend\":false,\"x\":[5,6],\"y\":[29,32],\"type\":\"scatter\"},{\"line\":{\"color\":\"rgb(94, 201, 97)\",\"width\":2},\"mode\":\"lines+markers\",\"name\":\"Action 3\",\"showlegend\":false,\"x\":[5,6],\"y\":[30,33],\"type\":\"scatter\"},{\"line\":{\"color\":\"rgb(94, 201, 97)\",\"width\":2},\"mode\":\"lines+markers\",\"name\":\"Action 3\",\"showlegend\":false,\"x\":[5,6],\"y\":[37,40],\"type\":\"scatter\"},{\"line\":{\"color\":\"rgb(94, 201, 97)\",\"width\":2},\"mode\":\"lines+markers\",\"name\":\"Action 3\",\"showlegend\":false,\"x\":[5,6],\"y\":[38,41],\"type\":\"scatter\"},{\"line\":{\"color\":\"rgb(94, 201, 97)\",\"width\":2},\"mode\":\"lines+markers\",\"name\":\"Action 3\",\"showlegend\":false,\"x\":[5,6],\"y\":[47,50],\"type\":\"scatter\"},{\"line\":{\"color\":\"rgb(94, 201, 97)\",\"width\":2},\"mode\":\"lines+markers\",\"name\":\"Action 3\",\"showlegend\":false,\"x\":[5,6],\"y\":[49,52],\"type\":\"scatter\"},{\"line\":{\"color\":\"rgb(94, 201, 97)\",\"width\":2},\"mode\":\"lines+markers\",\"name\":\"Action 3\",\"showlegend\":false,\"x\":[5,6],\"y\":[50,53],\"type\":\"scatter\"},{\"line\":{\"color\":\"rgb(94, 201, 97)\",\"width\":2},\"mode\":\"lines+markers\",\"name\":\"Action 3\",\"showlegend\":false,\"x\":[5,6],\"y\":[52,55],\"type\":\"scatter\"},{\"line\":{\"color\":\"rgb(94, 201, 97)\",\"width\":2},\"mode\":\"lines+markers\",\"name\":\"Action 3\",\"showlegend\":false,\"x\":[5,6],\"y\":[54,57],\"type\":\"scatter\"},{\"line\":{\"color\":\"rgb(94, 201, 97)\",\"width\":2},\"mode\":\"lines+markers\",\"name\":\"Action 3\",\"showlegend\":false,\"x\":[5,6],\"y\":[57,60],\"type\":\"scatter\"},{\"line\":{\"color\":\"rgb(94, 201, 97)\",\"width\":2},\"mode\":\"lines+markers\",\"name\":\"Action 3\",\"showlegend\":false,\"x\":[5,6],\"y\":[59,62],\"type\":\"scatter\"},{\"line\":{\"color\":\"rgb(94, 201, 97)\",\"width\":2},\"mode\":\"lines+markers\",\"name\":\"Action 3\",\"showlegend\":false,\"x\":[5,6],\"y\":[60,63],\"type\":\"scatter\"},{\"line\":{\"color\":\"rgb(94, 201, 97)\",\"width\":2},\"mode\":\"lines+markers\",\"name\":\"Action 3\",\"showlegend\":false,\"x\":[5,6],\"y\":[68,71],\"type\":\"scatter\"},{\"line\":{\"color\":\"rgb(94, 201, 97)\",\"width\":2},\"mode\":\"lines+markers\",\"name\":\"Action 3\",\"showlegend\":false,\"x\":[5,6],\"y\":[70,73],\"type\":\"scatter\"},{\"line\":{\"color\":\"rgb(94, 201, 97)\",\"width\":2},\"mode\":\"lines+markers\",\"name\":\"Action 3\",\"showlegend\":false,\"x\":[5,6],\"y\":[72,75],\"type\":\"scatter\"},{\"line\":{\"color\":\"rgb(94, 201, 97)\",\"width\":2},\"mode\":\"lines+markers\",\"name\":\"Action 3\",\"showlegend\":false,\"x\":[5,6],\"y\":[74,77],\"type\":\"scatter\"},{\"line\":{\"color\":\"rgb(94, 201, 97)\",\"width\":2},\"mode\":\"lines+markers\",\"name\":\"Action 3\",\"showlegend\":false,\"x\":[5,6],\"y\":[77,80],\"type\":\"scatter\"},{\"line\":{\"color\":\"rgb(94, 201, 97)\",\"width\":2},\"mode\":\"lines+markers\",\"name\":\"Action 3\",\"showlegend\":false,\"x\":[5,6],\"y\":[78,81],\"type\":\"scatter\"},{\"line\":{\"color\":\"rgb(94, 201, 97)\",\"width\":2},\"mode\":\"lines+markers\",\"name\":\"Action 3\",\"showlegend\":false,\"x\":[5,6],\"y\":[81,84],\"type\":\"scatter\"},{\"line\":{\"color\":\"rgb(94, 201, 97)\",\"width\":2},\"mode\":\"lines+markers\",\"name\":\"Action 3\",\"showlegend\":false,\"x\":[5,6],\"y\":[87,90],\"type\":\"scatter\"},{\"line\":{\"color\":\"rgb(94, 201, 97)\",\"width\":2},\"mode\":\"lines+markers\",\"name\":\"Action 3\",\"showlegend\":false,\"x\":[5,6],\"y\":[88,91],\"type\":\"scatter\"},{\"line\":{\"color\":\"rgb(94, 201, 97)\",\"width\":2},\"mode\":\"lines+markers\",\"name\":\"Action 3\",\"showlegend\":false,\"x\":[5,6],\"y\":[91,94],\"type\":\"scatter\"},{\"line\":{\"color\":\"rgb(94, 201, 97)\",\"width\":2},\"mode\":\"lines+markers\",\"name\":\"Action 3\",\"showlegend\":false,\"x\":[5,6],\"y\":[93,96],\"type\":\"scatter\"},{\"line\":{\"color\":\"rgb(94, 201, 97)\",\"width\":2},\"mode\":\"lines+markers\",\"name\":\"Action 3\",\"showlegend\":false,\"x\":[6,7],\"y\":[26,29],\"type\":\"scatter\"},{\"line\":{\"color\":\"rgb(94, 201, 97)\",\"width\":2},\"mode\":\"lines+markers\",\"name\":\"Action 3\",\"showlegend\":false,\"x\":[6,7],\"y\":[39,42],\"type\":\"scatter\"},{\"line\":{\"color\":\"rgb(94, 201, 97)\",\"width\":2},\"mode\":\"lines+markers\",\"name\":\"Action 3\",\"showlegend\":false,\"x\":[6,7],\"y\":[42,45],\"type\":\"scatter\"},{\"line\":{\"color\":\"rgb(94, 201, 97)\",\"width\":2},\"mode\":\"lines+markers\",\"name\":\"Action 3\",\"showlegend\":false,\"x\":[6,7],\"y\":[46,49],\"type\":\"scatter\"},{\"line\":{\"color\":\"rgb(94, 201, 97)\",\"width\":2},\"mode\":\"lines+markers\",\"name\":\"Action 3\",\"showlegend\":false,\"x\":[6,7],\"y\":[47,50],\"type\":\"scatter\"},{\"line\":{\"color\":\"rgb(94, 201, 97)\",\"width\":2},\"mode\":\"lines+markers\",\"name\":\"Action 3\",\"showlegend\":false,\"x\":[6,7],\"y\":[51,54],\"type\":\"scatter\"},{\"line\":{\"color\":\"rgb(94, 201, 97)\",\"width\":2},\"mode\":\"lines+markers\",\"name\":\"Action 3\",\"showlegend\":false,\"x\":[6,7],\"y\":[52,55],\"type\":\"scatter\"},{\"line\":{\"color\":\"rgb(94, 201, 97)\",\"width\":2},\"mode\":\"lines+markers\",\"name\":\"Action 3\",\"showlegend\":false,\"x\":[6,7],\"y\":[53,56],\"type\":\"scatter\"},{\"line\":{\"color\":\"rgb(94, 201, 97)\",\"width\":2},\"mode\":\"lines+markers\",\"name\":\"Action 3\",\"showlegend\":false,\"x\":[6,7],\"y\":[54,57],\"type\":\"scatter\"},{\"line\":{\"color\":\"rgb(94, 201, 97)\",\"width\":2},\"mode\":\"lines+markers\",\"name\":\"Action 3\",\"showlegend\":false,\"x\":[6,7],\"y\":[55,58],\"type\":\"scatter\"},{\"line\":{\"color\":\"rgb(94, 201, 97)\",\"width\":2},\"mode\":\"lines+markers\",\"name\":\"Action 3\",\"showlegend\":false,\"x\":[6,7],\"y\":[62,65],\"type\":\"scatter\"},{\"line\":{\"color\":\"rgb(94, 201, 97)\",\"width\":2},\"mode\":\"lines+markers\",\"name\":\"Action 3\",\"showlegend\":false,\"x\":[6,7],\"y\":[67,70],\"type\":\"scatter\"},{\"line\":{\"color\":\"rgb(94, 201, 97)\",\"width\":2},\"mode\":\"lines+markers\",\"name\":\"Action 3\",\"showlegend\":false,\"x\":[6,7],\"y\":[70,73],\"type\":\"scatter\"},{\"line\":{\"color\":\"rgb(94, 201, 97)\",\"width\":2},\"mode\":\"lines+markers\",\"name\":\"Action 3\",\"showlegend\":false,\"x\":[6,7],\"y\":[72,75],\"type\":\"scatter\"},{\"line\":{\"color\":\"rgb(94, 201, 97)\",\"width\":2},\"mode\":\"lines+markers\",\"name\":\"Action 3\",\"showlegend\":false,\"x\":[6,7],\"y\":[77,80],\"type\":\"scatter\"},{\"line\":{\"color\":\"rgb(94, 201, 97)\",\"width\":2},\"mode\":\"lines+markers\",\"name\":\"Action 3\",\"showlegend\":false,\"x\":[6,7],\"y\":[85,88],\"type\":\"scatter\"},{\"line\":{\"color\":\"rgb(94, 201, 97)\",\"width\":2},\"mode\":\"lines+markers\",\"name\":\"Action 3\",\"showlegend\":false,\"x\":[6,7],\"y\":[88,91],\"type\":\"scatter\"},{\"line\":{\"color\":\"rgb(94, 201, 97)\",\"width\":2},\"mode\":\"lines+markers\",\"name\":\"Action 3\",\"showlegend\":false,\"x\":[6,7],\"y\":[91,94],\"type\":\"scatter\"},{\"line\":{\"color\":\"rgb(94, 201, 97)\",\"width\":2},\"mode\":\"lines+markers\",\"name\":\"Action 3\",\"showlegend\":false,\"x\":[6,7],\"y\":[93,96],\"type\":\"scatter\"},{\"line\":{\"color\":\"rgb(94, 201, 97)\",\"width\":2},\"mode\":\"lines+markers\",\"name\":\"Action 3\",\"showlegend\":false,\"x\":[7,8],\"y\":[2,5],\"type\":\"scatter\"},{\"line\":{\"color\":\"rgb(94, 201, 97)\",\"width\":2},\"mode\":\"lines+markers\",\"name\":\"Action 3\",\"showlegend\":false,\"x\":[7,8],\"y\":[3,6],\"type\":\"scatter\"},{\"line\":{\"color\":\"rgb(94, 201, 97)\",\"width\":2},\"mode\":\"lines+markers\",\"name\":\"Action 3\",\"showlegend\":false,\"x\":[7,8],\"y\":[7,10],\"type\":\"scatter\"},{\"line\":{\"color\":\"rgb(94, 201, 97)\",\"width\":2},\"mode\":\"lines+markers\",\"name\":\"Action 3\",\"showlegend\":false,\"x\":[7,8],\"y\":[20,23],\"type\":\"scatter\"},{\"line\":{\"color\":\"rgb(94, 201, 97)\",\"width\":2},\"mode\":\"lines+markers\",\"name\":\"Action 3\",\"showlegend\":false,\"x\":[7,8],\"y\":[35,38],\"type\":\"scatter\"},{\"line\":{\"color\":\"rgb(94, 201, 97)\",\"width\":2},\"mode\":\"lines+markers\",\"name\":\"Action 3\",\"showlegend\":false,\"x\":[7,8],\"y\":[39,42],\"type\":\"scatter\"},{\"line\":{\"color\":\"rgb(94, 201, 97)\",\"width\":2},\"mode\":\"lines+markers\",\"name\":\"Action 3\",\"showlegend\":false,\"x\":[7,8],\"y\":[44,47],\"type\":\"scatter\"},{\"line\":{\"color\":\"rgb(94, 201, 97)\",\"width\":2},\"mode\":\"lines+markers\",\"name\":\"Action 3\",\"showlegend\":false,\"x\":[7,8],\"y\":[50,53],\"type\":\"scatter\"},{\"line\":{\"color\":\"rgb(94, 201, 97)\",\"width\":2},\"mode\":\"lines+markers\",\"name\":\"Action 3\",\"showlegend\":false,\"x\":[7,8],\"y\":[51,54],\"type\":\"scatter\"},{\"line\":{\"color\":\"rgb(94, 201, 97)\",\"width\":2},\"mode\":\"lines+markers\",\"name\":\"Action 3\",\"showlegend\":false,\"x\":[7,8],\"y\":[55,58],\"type\":\"scatter\"},{\"line\":{\"color\":\"rgb(94, 201, 97)\",\"width\":2},\"mode\":\"lines+markers\",\"name\":\"Action 3\",\"showlegend\":false,\"x\":[7,8],\"y\":[56,59],\"type\":\"scatter\"},{\"line\":{\"color\":\"rgb(94, 201, 97)\",\"width\":2},\"mode\":\"lines+markers\",\"name\":\"Action 3\",\"showlegend\":false,\"x\":[7,8],\"y\":[57,60],\"type\":\"scatter\"},{\"line\":{\"color\":\"rgb(94, 201, 97)\",\"width\":2},\"mode\":\"lines+markers\",\"name\":\"Action 3\",\"showlegend\":false,\"x\":[7,8],\"y\":[60,63],\"type\":\"scatter\"},{\"line\":{\"color\":\"rgb(253, 231, 36)\",\"width\":2},\"mode\":\"lines+markers\",\"name\":\"Action 17\",\"x\":[0,1],\"y\":[95,100],\"type\":\"scatter\"},{\"line\":{\"color\":\"rgb(253, 231, 36)\",\"width\":2},\"mode\":\"lines+markers\",\"name\":\"Action 17\",\"showlegend\":false,\"x\":[1,2],\"y\":[0,17],\"type\":\"scatter\"},{\"line\":{\"color\":\"rgb(253, 231, 36)\",\"width\":2},\"mode\":\"lines+markers\",\"name\":\"Action 17\",\"showlegend\":false,\"x\":[1,2],\"y\":[1,18],\"type\":\"scatter\"},{\"line\":{\"color\":\"rgb(253, 231, 36)\",\"width\":2},\"mode\":\"lines+markers\",\"name\":\"Action 17\",\"showlegend\":false,\"x\":[1,2],\"y\":[8,25],\"type\":\"scatter\"},{\"line\":{\"color\":\"rgb(253, 231, 36)\",\"width\":2},\"mode\":\"lines+markers\",\"name\":\"Action 17\",\"showlegend\":false,\"x\":[2,3],\"y\":[1,18],\"type\":\"scatter\"},{\"line\":{\"color\":\"rgb(253, 231, 36)\",\"width\":2},\"mode\":\"lines+markers\",\"name\":\"Action 17\",\"showlegend\":false,\"x\":[3,4],\"y\":[4,21],\"type\":\"scatter\"},{\"line\":{\"color\":\"rgb(253, 231, 36)\",\"width\":2},\"mode\":\"lines+markers\",\"name\":\"Action 17\",\"showlegend\":false,\"x\":[3,4],\"y\":[10,27],\"type\":\"scatter\"},{\"line\":{\"color\":\"rgb(253, 231, 36)\",\"width\":2},\"mode\":\"lines+markers\",\"name\":\"Action 17\",\"showlegend\":false,\"x\":[3,4],\"y\":[13,30],\"type\":\"scatter\"},{\"line\":{\"color\":\"rgb(253, 231, 36)\",\"width\":2},\"mode\":\"lines+markers\",\"name\":\"Action 17\",\"showlegend\":false,\"x\":[3,4],\"y\":[23,40],\"type\":\"scatter\"},{\"line\":{\"color\":\"rgb(253, 231, 36)\",\"width\":2},\"mode\":\"lines+markers\",\"name\":\"Action 17\",\"showlegend\":false,\"x\":[4,5],\"y\":[0,17],\"type\":\"scatter\"},{\"line\":{\"color\":\"rgb(253, 231, 36)\",\"width\":2},\"mode\":\"lines+markers\",\"name\":\"Action 17\",\"showlegend\":false,\"x\":[4,5],\"y\":[4,21],\"type\":\"scatter\"},{\"line\":{\"color\":\"rgb(253, 231, 36)\",\"width\":2},\"mode\":\"lines+markers\",\"name\":\"Action 17\",\"showlegend\":false,\"x\":[4,5],\"y\":[10,27],\"type\":\"scatter\"},{\"line\":{\"color\":\"rgb(253, 231, 36)\",\"width\":2},\"mode\":\"lines+markers\",\"name\":\"Action 17\",\"showlegend\":false,\"x\":[4,5],\"y\":[12,29],\"type\":\"scatter\"},{\"line\":{\"color\":\"rgb(253, 231, 36)\",\"width\":2},\"mode\":\"lines+markers\",\"name\":\"Action 17\",\"showlegend\":false,\"x\":[4,5],\"y\":[13,30],\"type\":\"scatter\"},{\"line\":{\"color\":\"rgb(253, 231, 36)\",\"width\":2},\"mode\":\"lines+markers\",\"name\":\"Action 17\",\"showlegend\":false,\"x\":[4,5],\"y\":[30,47],\"type\":\"scatter\"},{\"line\":{\"color\":\"rgb(253, 231, 36)\",\"width\":2},\"mode\":\"lines+markers\",\"name\":\"Action 17\",\"showlegend\":false,\"x\":[5,6],\"y\":[0,17],\"type\":\"scatter\"},{\"line\":{\"color\":\"rgb(253, 231, 36)\",\"width\":2},\"mode\":\"lines+markers\",\"name\":\"Action 17\",\"showlegend\":false,\"x\":[5,6],\"y\":[1,18],\"type\":\"scatter\"},{\"line\":{\"color\":\"rgb(253, 231, 36)\",\"width\":2},\"mode\":\"lines+markers\",\"name\":\"Action 17\",\"showlegend\":false,\"x\":[5,6],\"y\":[2,19],\"type\":\"scatter\"},{\"line\":{\"color\":\"rgb(253, 231, 36)\",\"width\":2},\"mode\":\"lines+markers\",\"name\":\"Action 17\",\"showlegend\":false,\"x\":[5,6],\"y\":[4,21],\"type\":\"scatter\"},{\"line\":{\"color\":\"rgb(253, 231, 36)\",\"width\":2},\"mode\":\"lines+markers\",\"name\":\"Action 17\",\"showlegend\":false,\"x\":[5,6],\"y\":[6,23],\"type\":\"scatter\"},{\"line\":{\"color\":\"rgb(253, 231, 36)\",\"width\":2},\"mode\":\"lines+markers\",\"name\":\"Action 17\",\"showlegend\":false,\"x\":[5,6],\"y\":[7,24],\"type\":\"scatter\"},{\"line\":{\"color\":\"rgb(253, 231, 36)\",\"width\":2},\"mode\":\"lines+markers\",\"name\":\"Action 17\",\"showlegend\":false,\"x\":[5,6],\"y\":[9,26],\"type\":\"scatter\"},{\"line\":{\"color\":\"rgb(253, 231, 36)\",\"width\":2},\"mode\":\"lines+markers\",\"name\":\"Action 17\",\"showlegend\":false,\"x\":[5,6],\"y\":[14,31],\"type\":\"scatter\"},{\"line\":{\"color\":\"rgb(253, 231, 36)\",\"width\":2},\"mode\":\"lines+markers\",\"name\":\"Action 17\",\"showlegend\":false,\"x\":[5,6],\"y\":[15,32],\"type\":\"scatter\"},{\"line\":{\"color\":\"rgb(253, 231, 36)\",\"width\":2},\"mode\":\"lines+markers\",\"name\":\"Action 17\",\"showlegend\":false,\"x\":[5,6],\"y\":[19,36],\"type\":\"scatter\"},{\"line\":{\"color\":\"rgb(253, 231, 36)\",\"width\":2},\"mode\":\"lines+markers\",\"name\":\"Action 17\",\"showlegend\":false,\"x\":[5,6],\"y\":[20,37],\"type\":\"scatter\"},{\"line\":{\"color\":\"rgb(253, 231, 36)\",\"width\":2},\"mode\":\"lines+markers\",\"name\":\"Action 17\",\"showlegend\":false,\"x\":[5,6],\"y\":[21,38],\"type\":\"scatter\"},{\"line\":{\"color\":\"rgb(253, 231, 36)\",\"width\":2},\"mode\":\"lines+markers\",\"name\":\"Action 17\",\"showlegend\":false,\"x\":[5,6],\"y\":[27,44],\"type\":\"scatter\"},{\"line\":{\"color\":\"rgb(253, 231, 36)\",\"width\":2},\"mode\":\"lines+markers\",\"name\":\"Action 17\",\"showlegend\":false,\"x\":[5,6],\"y\":[34,51],\"type\":\"scatter\"},{\"line\":{\"color\":\"rgb(253, 231, 36)\",\"width\":2},\"mode\":\"lines+markers\",\"name\":\"Action 17\",\"showlegend\":false,\"x\":[6,7],\"y\":[1,18],\"type\":\"scatter\"},{\"line\":{\"color\":\"rgb(253, 231, 36)\",\"width\":2},\"mode\":\"lines+markers\",\"name\":\"Action 17\",\"showlegend\":false,\"x\":[6,7],\"y\":[5,22],\"type\":\"scatter\"},{\"line\":{\"color\":\"rgb(253, 231, 36)\",\"width\":2},\"mode\":\"lines+markers\",\"name\":\"Action 17\",\"showlegend\":false,\"x\":[6,7],\"y\":[6,23],\"type\":\"scatter\"},{\"line\":{\"color\":\"rgb(253, 231, 36)\",\"width\":2},\"mode\":\"lines+markers\",\"name\":\"Action 17\",\"showlegend\":false,\"x\":[6,7],\"y\":[8,25],\"type\":\"scatter\"},{\"line\":{\"color\":\"rgb(253, 231, 36)\",\"width\":2},\"mode\":\"lines+markers\",\"name\":\"Action 17\",\"showlegend\":false,\"x\":[6,7],\"y\":[9,26],\"type\":\"scatter\"},{\"line\":{\"color\":\"rgb(253, 231, 36)\",\"width\":2},\"mode\":\"lines+markers\",\"name\":\"Action 17\",\"showlegend\":false,\"x\":[6,7],\"y\":[10,27],\"type\":\"scatter\"},{\"line\":{\"color\":\"rgb(253, 231, 36)\",\"width\":2},\"mode\":\"lines+markers\",\"name\":\"Action 17\",\"showlegend\":false,\"x\":[6,7],\"y\":[11,28],\"type\":\"scatter\"},{\"line\":{\"color\":\"rgb(253, 231, 36)\",\"width\":2},\"mode\":\"lines+markers\",\"name\":\"Action 17\",\"showlegend\":false,\"x\":[6,7],\"y\":[12,29],\"type\":\"scatter\"},{\"line\":{\"color\":\"rgb(253, 231, 36)\",\"width\":2},\"mode\":\"lines+markers\",\"name\":\"Action 17\",\"showlegend\":false,\"x\":[6,7],\"y\":[13,30],\"type\":\"scatter\"},{\"line\":{\"color\":\"rgb(253, 231, 36)\",\"width\":2},\"mode\":\"lines+markers\",\"name\":\"Action 17\",\"showlegend\":false,\"x\":[6,7],\"y\":[14,31],\"type\":\"scatter\"},{\"line\":{\"color\":\"rgb(253, 231, 36)\",\"width\":2},\"mode\":\"lines+markers\",\"name\":\"Action 17\",\"showlegend\":false,\"x\":[6,7],\"y\":[15,32],\"type\":\"scatter\"},{\"line\":{\"color\":\"rgb(253, 231, 36)\",\"width\":2},\"mode\":\"lines+markers\",\"name\":\"Action 17\",\"showlegend\":false,\"x\":[6,7],\"y\":[16,33],\"type\":\"scatter\"},{\"line\":{\"color\":\"rgb(253, 231, 36)\",\"width\":2},\"mode\":\"lines+markers\",\"name\":\"Action 17\",\"showlegend\":false,\"x\":[6,7],\"y\":[17,34],\"type\":\"scatter\"},{\"line\":{\"color\":\"rgb(253, 231, 36)\",\"width\":2},\"mode\":\"lines+markers\",\"name\":\"Action 17\",\"showlegend\":false,\"x\":[6,7],\"y\":[18,35],\"type\":\"scatter\"},{\"line\":{\"color\":\"rgb(253, 231, 36)\",\"width\":2},\"mode\":\"lines+markers\",\"name\":\"Action 17\",\"showlegend\":false,\"x\":[6,7],\"y\":[20,37],\"type\":\"scatter\"},{\"line\":{\"color\":\"rgb(253, 231, 36)\",\"width\":2},\"mode\":\"lines+markers\",\"name\":\"Action 17\",\"showlegend\":false,\"x\":[6,7],\"y\":[22,39],\"type\":\"scatter\"},{\"line\":{\"color\":\"rgb(253, 231, 36)\",\"width\":2},\"mode\":\"lines+markers\",\"name\":\"Action 17\",\"showlegend\":false,\"x\":[6,7],\"y\":[23,40],\"type\":\"scatter\"},{\"line\":{\"color\":\"rgb(253, 231, 36)\",\"width\":2},\"mode\":\"lines+markers\",\"name\":\"Action 17\",\"showlegend\":false,\"x\":[6,7],\"y\":[25,42],\"type\":\"scatter\"},{\"line\":{\"color\":\"rgb(253, 231, 36)\",\"width\":2},\"mode\":\"lines+markers\",\"name\":\"Action 17\",\"showlegend\":false,\"x\":[6,7],\"y\":[31,48],\"type\":\"scatter\"},{\"line\":{\"color\":\"rgb(253, 231, 36)\",\"width\":2},\"mode\":\"lines+markers\",\"name\":\"Action 17\",\"showlegend\":false,\"x\":[6,7],\"y\":[34,51],\"type\":\"scatter\"},{\"line\":{\"color\":\"rgb(253, 231, 36)\",\"width\":2},\"mode\":\"lines+markers\",\"name\":\"Action 17\",\"showlegend\":false,\"x\":[6,7],\"y\":[38,55],\"type\":\"scatter\"},{\"line\":{\"color\":\"rgb(253, 231, 36)\",\"width\":2},\"mode\":\"lines+markers\",\"name\":\"Action 17\",\"showlegend\":false,\"x\":[7,8],\"y\":[5,22],\"type\":\"scatter\"},{\"line\":{\"color\":\"rgb(253, 231, 36)\",\"width\":2},\"mode\":\"lines+markers\",\"name\":\"Action 17\",\"showlegend\":false,\"x\":[7,8],\"y\":[6,23],\"type\":\"scatter\"},{\"line\":{\"color\":\"rgb(253, 231, 36)\",\"width\":2},\"mode\":\"lines+markers\",\"name\":\"Action 17\",\"showlegend\":false,\"x\":[7,8],\"y\":[12,29],\"type\":\"scatter\"},{\"line\":{\"color\":\"rgb(253, 231, 36)\",\"width\":2},\"mode\":\"lines+markers\",\"name\":\"Action 17\",\"showlegend\":false,\"x\":[7,8],\"y\":[18,35],\"type\":\"scatter\"},{\"line\":{\"color\":\"rgb(253, 231, 36)\",\"width\":2},\"mode\":\"lines+markers\",\"name\":\"Action 17\",\"showlegend\":false,\"x\":[7,8],\"y\":[19,36],\"type\":\"scatter\"},{\"line\":{\"color\":\"rgb(253, 231, 36)\",\"width\":2},\"mode\":\"lines+markers\",\"name\":\"Action 17\",\"showlegend\":false,\"x\":[7,8],\"y\":[23,40],\"type\":\"scatter\"},{\"line\":{\"color\":\"rgb(253, 231, 36)\",\"width\":2},\"mode\":\"lines+markers\",\"name\":\"Action 17\",\"showlegend\":false,\"x\":[7,8],\"y\":[25,42],\"type\":\"scatter\"},{\"line\":{\"color\":\"rgb(253, 231, 36)\",\"width\":2},\"mode\":\"lines+markers\",\"name\":\"Action 17\",\"showlegend\":false,\"x\":[7,8],\"y\":[26,43],\"type\":\"scatter\"},{\"line\":{\"color\":\"rgb(253, 231, 36)\",\"width\":2},\"mode\":\"lines+markers\",\"name\":\"Action 17\",\"showlegend\":false,\"x\":[7,8],\"y\":[28,45],\"type\":\"scatter\"},{\"line\":{\"color\":\"rgb(253, 231, 36)\",\"width\":2},\"mode\":\"lines+markers\",\"name\":\"Action 17\",\"showlegend\":false,\"x\":[7,8],\"y\":[30,47],\"type\":\"scatter\"},{\"line\":{\"color\":\"rgb(253, 231, 36)\",\"width\":2},\"mode\":\"lines+markers\",\"name\":\"Action 17\",\"showlegend\":false,\"x\":[7,8],\"y\":[31,48],\"type\":\"scatter\"},{\"line\":{\"color\":\"rgb(253, 231, 36)\",\"width\":2},\"mode\":\"lines+markers\",\"name\":\"Action 17\",\"showlegend\":false,\"x\":[7,8],\"y\":[34,51],\"type\":\"scatter\"}],                        {\"template\":{\"data\":{\"histogram2dcontour\":[{\"type\":\"histogram2dcontour\",\"colorbar\":{\"outlinewidth\":0,\"ticks\":\"\"},\"colorscale\":[[0.0,\"#0d0887\"],[0.1111111111111111,\"#46039f\"],[0.2222222222222222,\"#7201a8\"],[0.3333333333333333,\"#9c179e\"],[0.4444444444444444,\"#bd3786\"],[0.5555555555555556,\"#d8576b\"],[0.6666666666666666,\"#ed7953\"],[0.7777777777777778,\"#fb9f3a\"],[0.8888888888888888,\"#fdca26\"],[1.0,\"#f0f921\"]]}],\"choropleth\":[{\"type\":\"choropleth\",\"colorbar\":{\"outlinewidth\":0,\"ticks\":\"\"}}],\"histogram2d\":[{\"type\":\"histogram2d\",\"colorbar\":{\"outlinewidth\":0,\"ticks\":\"\"},\"colorscale\":[[0.0,\"#0d0887\"],[0.1111111111111111,\"#46039f\"],[0.2222222222222222,\"#7201a8\"],[0.3333333333333333,\"#9c179e\"],[0.4444444444444444,\"#bd3786\"],[0.5555555555555556,\"#d8576b\"],[0.6666666666666666,\"#ed7953\"],[0.7777777777777778,\"#fb9f3a\"],[0.8888888888888888,\"#fdca26\"],[1.0,\"#f0f921\"]]}],\"heatmap\":[{\"type\":\"heatmap\",\"colorbar\":{\"outlinewidth\":0,\"ticks\":\"\"},\"colorscale\":[[0.0,\"#0d0887\"],[0.1111111111111111,\"#46039f\"],[0.2222222222222222,\"#7201a8\"],[0.3333333333333333,\"#9c179e\"],[0.4444444444444444,\"#bd3786\"],[0.5555555555555556,\"#d8576b\"],[0.6666666666666666,\"#ed7953\"],[0.7777777777777778,\"#fb9f3a\"],[0.8888888888888888,\"#fdca26\"],[1.0,\"#f0f921\"]]}],\"heatmapgl\":[{\"type\":\"heatmapgl\",\"colorbar\":{\"outlinewidth\":0,\"ticks\":\"\"},\"colorscale\":[[0.0,\"#0d0887\"],[0.1111111111111111,\"#46039f\"],[0.2222222222222222,\"#7201a8\"],[0.3333333333333333,\"#9c179e\"],[0.4444444444444444,\"#bd3786\"],[0.5555555555555556,\"#d8576b\"],[0.6666666666666666,\"#ed7953\"],[0.7777777777777778,\"#fb9f3a\"],[0.8888888888888888,\"#fdca26\"],[1.0,\"#f0f921\"]]}],\"contourcarpet\":[{\"type\":\"contourcarpet\",\"colorbar\":{\"outlinewidth\":0,\"ticks\":\"\"}}],\"contour\":[{\"type\":\"contour\",\"colorbar\":{\"outlinewidth\":0,\"ticks\":\"\"},\"colorscale\":[[0.0,\"#0d0887\"],[0.1111111111111111,\"#46039f\"],[0.2222222222222222,\"#7201a8\"],[0.3333333333333333,\"#9c179e\"],[0.4444444444444444,\"#bd3786\"],[0.5555555555555556,\"#d8576b\"],[0.6666666666666666,\"#ed7953\"],[0.7777777777777778,\"#fb9f3a\"],[0.8888888888888888,\"#fdca26\"],[1.0,\"#f0f921\"]]}],\"surface\":[{\"type\":\"surface\",\"colorbar\":{\"outlinewidth\":0,\"ticks\":\"\"},\"colorscale\":[[0.0,\"#0d0887\"],[0.1111111111111111,\"#46039f\"],[0.2222222222222222,\"#7201a8\"],[0.3333333333333333,\"#9c179e\"],[0.4444444444444444,\"#bd3786\"],[0.5555555555555556,\"#d8576b\"],[0.6666666666666666,\"#ed7953\"],[0.7777777777777778,\"#fb9f3a\"],[0.8888888888888888,\"#fdca26\"],[1.0,\"#f0f921\"]]}],\"mesh3d\":[{\"type\":\"mesh3d\",\"colorbar\":{\"outlinewidth\":0,\"ticks\":\"\"}}],\"scatter\":[{\"fillpattern\":{\"fillmode\":\"overlay\",\"size\":10,\"solidity\":0.2},\"type\":\"scatter\"}],\"parcoords\":[{\"type\":\"parcoords\",\"line\":{\"colorbar\":{\"outlinewidth\":0,\"ticks\":\"\"}}}],\"scatterpolargl\":[{\"type\":\"scatterpolargl\",\"marker\":{\"colorbar\":{\"outlinewidth\":0,\"ticks\":\"\"}}}],\"bar\":[{\"error_x\":{\"color\":\"#2a3f5f\"},\"error_y\":{\"color\":\"#2a3f5f\"},\"marker\":{\"line\":{\"color\":\"#E5ECF6\",\"width\":0.5},\"pattern\":{\"fillmode\":\"overlay\",\"size\":10,\"solidity\":0.2}},\"type\":\"bar\"}],\"scattergeo\":[{\"type\":\"scattergeo\",\"marker\":{\"colorbar\":{\"outlinewidth\":0,\"ticks\":\"\"}}}],\"scatterpolar\":[{\"type\":\"scatterpolar\",\"marker\":{\"colorbar\":{\"outlinewidth\":0,\"ticks\":\"\"}}}],\"histogram\":[{\"marker\":{\"pattern\":{\"fillmode\":\"overlay\",\"size\":10,\"solidity\":0.2}},\"type\":\"histogram\"}],\"scattergl\":[{\"type\":\"scattergl\",\"marker\":{\"colorbar\":{\"outlinewidth\":0,\"ticks\":\"\"}}}],\"scatter3d\":[{\"type\":\"scatter3d\",\"line\":{\"colorbar\":{\"outlinewidth\":0,\"ticks\":\"\"}},\"marker\":{\"colorbar\":{\"outlinewidth\":0,\"ticks\":\"\"}}}],\"scattermapbox\":[{\"type\":\"scattermapbox\",\"marker\":{\"colorbar\":{\"outlinewidth\":0,\"ticks\":\"\"}}}],\"scatterternary\":[{\"type\":\"scatterternary\",\"marker\":{\"colorbar\":{\"outlinewidth\":0,\"ticks\":\"\"}}}],\"scattercarpet\":[{\"type\":\"scattercarpet\",\"marker\":{\"colorbar\":{\"outlinewidth\":0,\"ticks\":\"\"}}}],\"carpet\":[{\"aaxis\":{\"endlinecolor\":\"#2a3f5f\",\"gridcolor\":\"white\",\"linecolor\":\"white\",\"minorgridcolor\":\"white\",\"startlinecolor\":\"#2a3f5f\"},\"baxis\":{\"endlinecolor\":\"#2a3f5f\",\"gridcolor\":\"white\",\"linecolor\":\"white\",\"minorgridcolor\":\"white\",\"startlinecolor\":\"#2a3f5f\"},\"type\":\"carpet\"}],\"table\":[{\"cells\":{\"fill\":{\"color\":\"#EBF0F8\"},\"line\":{\"color\":\"white\"}},\"header\":{\"fill\":{\"color\":\"#C8D4E3\"},\"line\":{\"color\":\"white\"}},\"type\":\"table\"}],\"barpolar\":[{\"marker\":{\"line\":{\"color\":\"#E5ECF6\",\"width\":0.5},\"pattern\":{\"fillmode\":\"overlay\",\"size\":10,\"solidity\":0.2}},\"type\":\"barpolar\"}],\"pie\":[{\"automargin\":true,\"type\":\"pie\"}]},\"layout\":{\"autotypenumbers\":\"strict\",\"colorway\":[\"#636efa\",\"#EF553B\",\"#00cc96\",\"#ab63fa\",\"#FFA15A\",\"#19d3f3\",\"#FF6692\",\"#B6E880\",\"#FF97FF\",\"#FECB52\"],\"font\":{\"color\":\"#2a3f5f\"},\"hovermode\":\"closest\",\"hoverlabel\":{\"align\":\"left\"},\"paper_bgcolor\":\"white\",\"plot_bgcolor\":\"#E5ECF6\",\"polar\":{\"bgcolor\":\"#E5ECF6\",\"angularaxis\":{\"gridcolor\":\"white\",\"linecolor\":\"white\",\"ticks\":\"\"},\"radialaxis\":{\"gridcolor\":\"white\",\"linecolor\":\"white\",\"ticks\":\"\"}},\"ternary\":{\"bgcolor\":\"#E5ECF6\",\"aaxis\":{\"gridcolor\":\"white\",\"linecolor\":\"white\",\"ticks\":\"\"},\"baxis\":{\"gridcolor\":\"white\",\"linecolor\":\"white\",\"ticks\":\"\"},\"caxis\":{\"gridcolor\":\"white\",\"linecolor\":\"white\",\"ticks\":\"\"}},\"coloraxis\":{\"colorbar\":{\"outlinewidth\":0,\"ticks\":\"\"}},\"colorscale\":{\"sequential\":[[0.0,\"#0d0887\"],[0.1111111111111111,\"#46039f\"],[0.2222222222222222,\"#7201a8\"],[0.3333333333333333,\"#9c179e\"],[0.4444444444444444,\"#bd3786\"],[0.5555555555555556,\"#d8576b\"],[0.6666666666666666,\"#ed7953\"],[0.7777777777777778,\"#fb9f3a\"],[0.8888888888888888,\"#fdca26\"],[1.0,\"#f0f921\"]],\"sequentialminus\":[[0.0,\"#0d0887\"],[0.1111111111111111,\"#46039f\"],[0.2222222222222222,\"#7201a8\"],[0.3333333333333333,\"#9c179e\"],[0.4444444444444444,\"#bd3786\"],[0.5555555555555556,\"#d8576b\"],[0.6666666666666666,\"#ed7953\"],[0.7777777777777778,\"#fb9f3a\"],[0.8888888888888888,\"#fdca26\"],[1.0,\"#f0f921\"]],\"diverging\":[[0,\"#8e0152\"],[0.1,\"#c51b7d\"],[0.2,\"#de77ae\"],[0.3,\"#f1b6da\"],[0.4,\"#fde0ef\"],[0.5,\"#f7f7f7\"],[0.6,\"#e6f5d0\"],[0.7,\"#b8e186\"],[0.8,\"#7fbc41\"],[0.9,\"#4d9221\"],[1,\"#276419\"]]},\"xaxis\":{\"gridcolor\":\"white\",\"linecolor\":\"white\",\"ticks\":\"\",\"title\":{\"standoff\":15},\"zerolinecolor\":\"white\",\"automargin\":true,\"zerolinewidth\":2},\"yaxis\":{\"gridcolor\":\"white\",\"linecolor\":\"white\",\"ticks\":\"\",\"title\":{\"standoff\":15},\"zerolinecolor\":\"white\",\"automargin\":true,\"zerolinewidth\":2},\"scene\":{\"xaxis\":{\"backgroundcolor\":\"#E5ECF6\",\"gridcolor\":\"white\",\"linecolor\":\"white\",\"showbackground\":true,\"ticks\":\"\",\"zerolinecolor\":\"white\",\"gridwidth\":2},\"yaxis\":{\"backgroundcolor\":\"#E5ECF6\",\"gridcolor\":\"white\",\"linecolor\":\"white\",\"showbackground\":true,\"ticks\":\"\",\"zerolinecolor\":\"white\",\"gridwidth\":2},\"zaxis\":{\"backgroundcolor\":\"#E5ECF6\",\"gridcolor\":\"white\",\"linecolor\":\"white\",\"showbackground\":true,\"ticks\":\"\",\"zerolinecolor\":\"white\",\"gridwidth\":2}},\"shapedefaults\":{\"line\":{\"color\":\"#2a3f5f\"}},\"annotationdefaults\":{\"arrowcolor\":\"#2a3f5f\",\"arrowhead\":0,\"arrowwidth\":1},\"geo\":{\"bgcolor\":\"white\",\"landcolor\":\"#E5ECF6\",\"subunitcolor\":\"white\",\"showland\":true,\"showlakes\":true,\"lakecolor\":\"white\"},\"title\":{\"x\":0.05},\"mapbox\":{\"style\":\"light\"}}},\"title\":{\"text\":\"Battery Level Transitions Over Time\"},\"xaxis\":{\"title\":{\"text\":\"Time\"}},\"yaxis\":{\"title\":{\"text\":\"Battery Level\"}}},                        {\"responsive\": true}                    ).then(function(){\n",
       "                            \n",
       "var gd = document.getElementById('36076b71-c8b2-4186-ad9a-13fd0a5c02f7');\n",
       "var x = new MutationObserver(function (mutations, observer) {{\n",
       "        var display = window.getComputedStyle(gd).display;\n",
       "        if (!display || display === 'none') {{\n",
       "            console.log([gd, 'removed!']);\n",
       "            Plotly.purge(gd);\n",
       "            observer.disconnect();\n",
       "        }}\n",
       "}});\n",
       "\n",
       "// Listen for the removal of the full notebook cells\n",
       "var notebookContainer = gd.closest('#notebook-container');\n",
       "if (notebookContainer) {{\n",
       "    x.observe(notebookContainer, {childList: true});\n",
       "}}\n",
       "\n",
       "// Listen for the clearing of the current output cell\n",
       "var outputEl = gd.closest('.output');\n",
       "if (outputEl) {{\n",
       "    x.observe(outputEl, {childList: true});\n",
       "}}\n",
       "\n",
       "                        })                };                });            </script>        </div>"
      ]
     },
     "metadata": {},
     "output_type": "display_data"
    }
   ],
   "source": [
    "def q_table_to_dataframe(q_table, actions, max_time, max_level):\n",
    "    data = []\n",
    "\n",
    "    for time in range(max_time + 1):\n",
    "        for level in range(max_level + 1):\n",
    "            q_values = q_table.get((time, level), [0] * len(actions))\n",
    "            max_action_index = np.argmax(q_values)\n",
    "            max_action_kwh = actions[max_action_index]\n",
    "            data.append({\n",
    "                'Time': time,\n",
    "                'Battery_level': level,\n",
    "                'Best_action_kwh': max_action_kwh,\n",
    "                'Future_battery_level': level + max_action_kwh  if level + max_action_kwh < max_level else max_level\n",
    "            })\n",
    "    \n",
    "    return pd.DataFrame(data)\n",
    "\n",
    "max_time = 7\n",
    "max_level = env.cap\n",
    "actions = {0: 0, 1: 3, 2: 7, 3: 11, 4: 17}\n",
    "df = q_table_to_dataframe(MC_q_table, actions, max_time, max_level)\n",
    "df\n",
    "\n",
    "unique_actions = df['Best_action_kwh'].unique()\n",
    "colors = plt.cm.viridis(np.linspace(0, 1, len(unique_actions)))\n",
    "color_map = {action: f'rgb{tuple((c[:3] * 255).astype(int))}' for action, c in zip(unique_actions, colors)}\n",
    "\n",
    "\n",
    "fig = go.Figure()\n",
    "for action in unique_actions:\n",
    "    action_data = df[df['Best_action_kwh'] == action]\n",
    "    \n",
    "    for i in range(len(action_data) - 1):\n",
    "        x_values = [action_data.iloc[i]['Time'], action_data.iloc[i]['Time']+1]\n",
    "        y_values = [action_data.iloc[i]['Battery_level'], action_data.iloc[i]['Future_battery_level']]\n",
    "        \n",
    "        if(i==0):\n",
    "            scatters = go.Scatter(\n",
    "                x=x_values,\n",
    "                y=y_values,\n",
    "                mode='lines+markers',\n",
    "                line=dict(width=2, color=color_map.get(action, 'gray')),\n",
    "                name=f'Action {action}'\n",
    "            )\n",
    "        else:\n",
    "            scatters = go.Scatter(\n",
    "                x=x_values,\n",
    "                y=y_values,\n",
    "                mode='lines+markers',\n",
    "                line=dict(width=2, color=color_map.get(action, 'gray')),\n",
    "                name=f'Action {action}',\n",
    "                showlegend=False\n",
    "            )\n",
    "    \n",
    "        fig.add_trace(scatters)\n",
    "\n",
    "# Update layout\n",
    "fig.update_layout(\n",
    "    title='Battery Level Transitions Over Time',\n",
    "    xaxis_title='Time',\n",
    "    yaxis_title='Battery Level'\n",
    ")\n",
    "\n",
    "# Show the plot\n",
    "fig.show()"
   ]
  },
  {
   "cell_type": "markdown",
   "id": "11e2c4a5",
   "metadata": {},
   "source": [
    "Monte Carlo, Q-learning (double) , Deep Q-Network, SARSA"
   ]
  }
 ],
 "metadata": {
  "kernelspec": {
   "display_name": "Python 3 (ipykernel)",
   "language": "python",
   "name": "python3"
  },
  "language_info": {
   "codemirror_mode": {
    "name": "ipython",
    "version": 3
   },
   "file_extension": ".py",
   "mimetype": "text/x-python",
   "name": "python",
   "nbconvert_exporter": "python",
   "pygments_lexer": "ipython3",
   "version": "3.12.3"
  },
  "toc": {
   "base_numbering": 1,
   "nav_menu": {},
   "number_sections": true,
   "sideBar": true,
   "skip_h1_title": false,
   "title_cell": "Table of Contents",
   "title_sidebar": "Contents",
   "toc_cell": false,
   "toc_position": {},
   "toc_section_display": true,
   "toc_window_display": false
  }
 },
 "nbformat": 4,
 "nbformat_minor": 5
}
