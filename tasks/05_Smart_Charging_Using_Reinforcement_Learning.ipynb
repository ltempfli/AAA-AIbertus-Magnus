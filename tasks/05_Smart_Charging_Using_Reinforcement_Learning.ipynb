{
 "cells": [
  {
   "cell_type": "code",
   "execution_count": 59,
   "id": "da6427e3",
   "metadata": {},
   "outputs": [],
   "source": [
    "import time\n",
    "import numpy as np\n",
    "import gym\n",
    "from gym import spaces\n",
    "from collections import defaultdict\n",
    "import math\n",
    "import itertools\n",
    "from matplotlib import pyplot as plt\n",
    "import torch\n",
    "import torch.nn as nn\n",
    "import torch.optim as optim\n",
    "import random\n",
    "from collections import deque\n",
    "import plotly.graph_objects as go\n",
    "import pandas as pd\n",
    "import time"
   ]
  },
  {
   "cell_type": "markdown",
   "id": "c6965a1c",
   "metadata": {},
   "source": [
    "# Environment"
   ]
  },
  {
   "cell_type": "code",
   "execution_count": 127,
   "id": "c215e38c-84e8-46fb-b944-4b7c65c17901",
   "metadata": {
    "scrolled": true
   },
   "outputs": [],
   "source": [
    "class SmartCharging(gym.Env):\n",
    "    def __init__(self, actions, cap, stuck_penalty):\n",
    "        super(SmartCharging, self).__init__()\n",
    "        \n",
    "        self.actions = actions  \n",
    "        self.cap = cap\n",
    "        self.stuck_penalty = stuck_penalty\n",
    "        \n",
    "        self.episode = 0 #Current training episode. This is used in the random start training after n episodes.\n",
    "        self.old_level = 0 #Battery level at the end of the last episode.\n",
    "        self.stuck = False\n",
    "        self.action_space = spaces.Discrete(len(self.actions))\n",
    "        self.observation_space = spaces.Dict({\n",
    "            'level': spaces.Discrete(self.cap+1),\n",
    "            'time': spaces.Discrete(8)\n",
    "        })\n",
    "        \n",
    "        self.state = {\n",
    "            'level': 0,\n",
    "            'time': 0\n",
    "        }      \n",
    "        \n",
    "        self.done = False\n",
    "        \n",
    "    def reset(self):\n",
    "        self.state = {\n",
    "            'level': self.old_level,\n",
    "            'time': 0\n",
    "        }\n",
    "        self.done = False\n",
    "        return self.state\n",
    "    \n",
    "    def reset_random(self):\n",
    "        self.state = {\n",
    "            'level': np.random.randint(0,100),\n",
    "            'time': np.random.randint(0,7)\n",
    "        }\n",
    "        self.done = False\n",
    "        return self.state\n",
    "\n",
    "    def reset_episode(self): #Call this after every training!\n",
    "        self.episode=0\n",
    "\n",
    "    def step(self, action):\n",
    "        loaded = self.actions.get(action) #Determines how much kWh are loaded.\n",
    "        reward = 0\n",
    "\n",
    "        if loaded + self.state['level'] > self.cap: #Loading would exceed battery capacity.\n",
    "            reward -= cost_func(self.state['time'], self.cap - self.state['level']) #Only receive cost for actually loaded kWh below capcity.\n",
    "            self.state['level'] = self.cap\n",
    "        else:\n",
    "            reward -= cost_func(self.state['time'], loaded)\n",
    "            self.state['level'] += loaded\n",
    "\n",
    "        self.state['time'] += 1\n",
    "\n",
    "        if self.state['time'] == 8: #Terminal state. \n",
    "            consumed = power_consumed()\n",
    "            if self.state['level'] - consumed >= 0: #Car had enough energy for the day.\n",
    "                self.old_level = self.state['level'] - consumed\n",
    "                self.stuck = False\n",
    "            else: #Car gets stuck.\n",
    "                self.old_level = 0\n",
    "                self.stuck = True\n",
    "                reward += self.stuck_penalty\n",
    "                \n",
    "            self.reset()\n",
    "                \n",
    "            self.episode += 1\n",
    "            self.done = True\n",
    "            \n",
    "        return self.state, reward, self.done, self.stuck\n",
    "    \n",
    "def cost_func(t, p):\n",
    "    '''\n",
    "    This method returns the costs for charging\n",
    "    @param t:  time\n",
    "    @param p:  charging rate\n",
    "    '''\n",
    "    # alpha_time is the coefficient for time\n",
    "    alpha_time = [0.3, 0.4, 0.5, 0.6, 0.7, 0.8, 0.9, 1]\n",
    "    #alpha_time = [1,1,1,1,1,1,1,1] \n",
    "    return alpha_time[t] * math.exp(p/2)\n",
    "\n",
    "def power_consumed(mu=30, sigma=5):\n",
    "    '''\n",
    "    This method returns power consumed by the taxi driver\n",
    "    @param mu: mean\n",
    "    @param sigma: standard deviation\n",
    "    '''\n",
    "    return int(np.random.normal(mu, sigma, 1)[0])"
   ]
  },
  {
   "cell_type": "markdown",
   "id": "52e84cef",
   "metadata": {},
   "source": [
    "# Agents"
   ]
  },
  {
   "cell_type": "markdown",
   "id": "18a73704",
   "metadata": {},
   "source": [
    "## Monte Carlo "
   ]
  },
  {
   "cell_type": "code",
   "execution_count": 61,
   "id": "109bc5a1",
   "metadata": {},
   "outputs": [],
   "source": [
    "class MC_Agent():\n",
    "    def __init__(self, alpha, gamma, env, epsilon, epsilon_decay, epsilon_min,alpha_decay): \n",
    "        self.env = env\n",
    "        self.alpha = alpha\n",
    "        self.gamma = gamma\n",
    "        self.epsilon = epsilon\n",
    "        self.epsilon_decay = epsilon_decay\n",
    "        self.epsilon_min = epsilon_min\n",
    "        self.alpha_decay = alpha_decay\n",
    "        \n",
    "        self.action_space_size = self.env.action_space.n \n",
    "        self.q_table = defaultdict(lambda: np.zeros(self.action_space_size))\n",
    "        self.q_table_count = defaultdict(lambda: np.zeros(self.action_space_size))\n",
    "\n",
    "    def pick_action(self, state):\n",
    "        action_q_values = self.q_table.get((state['time'], state['level']), np.zeros(self.action_space_size))\n",
    "        # Initialize Q-values for new state (not in table yet) with all actions to 0.  \n",
    "        return self.epsilon_greedy(action_q_values)\n",
    "\n",
    "    def epsilon_greedy(self, action_q_values):\n",
    "        if np.random.rand() < self.epsilon or np.all(action_q_values==0): #Probability ε or state was never visited before.\n",
    "            # Exploration: Choose a random action\n",
    "            chosen_action = np.random.choice(range(self.action_space_size))\n",
    "        else:\n",
    "            # Exploitation: Choose the action with the highest Q-value.\n",
    "            chosen_action = np.argmax(action_q_values)\n",
    "\n",
    "        if self.epsilon > self.epsilon_min: \n",
    "            self.epsilon *= self.epsilon_decay\n",
    "\n",
    "        return chosen_action\n",
    "\n",
    "    def update_q_values(self, state, action, goal): #Update via Monte Carlo update rules.\n",
    "        state_key = (state['time'], state['level'])\n",
    "        \n",
    "        if self.alpha_decay:\n",
    "            self.q_table_count[state_key][action] += 1\n",
    "            learning_rate = self.alpha / self.q_table_count[state_key][action] #Alpha decay. Each visit at the same State reduces the learn rate.\n",
    "            self.q_table[state_key][action] += learning_rate * (goal - self.q_table[state_key][action])\n",
    "        else:\n",
    "            self.q_table[state_key][action] += self.alpha * (goal - self.q_table[state_key][action])\n",
    "        \n",
    "    def train(self, iterations,random_iter):\n",
    "        for i in range(iterations):\n",
    "            if i < random_iter: #Train with random initial state.\n",
    "                current_state = self.env.reset_random()\n",
    "            else:\n",
    "                current_state = self.env.reset()\n",
    "                \n",
    "            episode = []\n",
    "            done = False\n",
    "            \n",
    "            while not done: #Go through one episode until terminal state is reached.         \n",
    "                action = self.pick_action(current_state)\n",
    "                old_state = current_state.copy()\n",
    "                current_state, reward, done, _ = self.env.step(action)\n",
    "                episode.append((old_state, action, reward))\n",
    "\n",
    "            goal = 0\n",
    "            for state, action, reward in reversed(episode): #Traverse episode backwards and apply Monte Carlo rules.\n",
    "                goal = reward + self.gamma * goal\n",
    "                self.update_q_values(state, action, goal)\n",
    "                \n",
    "        self.env.reset_episode()\n",
    "        return self.q_table"
   ]
  },
  {
   "cell_type": "markdown",
   "id": "5f21e8fc",
   "metadata": {},
   "source": [
    "## SARSA"
   ]
  },
  {
   "cell_type": "code",
   "execution_count": 62,
   "id": "bde6c83d",
   "metadata": {},
   "outputs": [],
   "source": [
    "class SARSA_Agent():\n",
    "    def __init__(self, alpha, gamma, env, epsilon, epsilon_decay, epsilon_min,alpha_decay):\n",
    "        self.env = env\n",
    "        self.alpha = alpha\n",
    "        self.gamma = gamma\n",
    "        self.epsilon = epsilon\n",
    "        self.epsilon_decay = epsilon_decay\n",
    "        self.epsilon_min = epsilon_min\n",
    "        self.alpha_decay = alpha_decay\n",
    "        \n",
    "        self.action_space_size = env.action_space.n\n",
    "        self.q_table = defaultdict(lambda: np.zeros(self.action_space_size))\n",
    "        self.q_table_count = defaultdict(lambda: np.zeros(self.action_space_size))\n",
    "\n",
    "    def pick_action(self, state):\n",
    "        action_q_values = self.q_table.get((state['time'], state['level']), np.zeros(self.action_space_size))\n",
    "        # Initialize Q-values for new state (not in table yet) with all actions to 0.  \n",
    "        return self.epsilon_greedy(action_q_values)\n",
    "\n",
    "    def epsilon_greedy(self, action_q_values):\n",
    "        if np.random.rand() < self.epsilon or np.all(action_q_values==0): #Probability ε or state was never visited before.\n",
    "            # Exploration: Choose a random action\n",
    "            chosen_action = np.random.choice(range(self.action_space_size))\n",
    "        else:\n",
    "            # Exploitation: Choose the action with the highest Q-value.\n",
    "            chosen_action = np.argmax(action_q_values)\n",
    "\n",
    "        if self.epsilon > self.epsilon_min:\n",
    "            self.epsilon *= self.epsilon_decay\n",
    "\n",
    "        return chosen_action\n",
    "\n",
    "    def update_q_values(self, state, action, reward, next_state, next_action, done): #Update via SARSA update rules.\n",
    "        state_key = (state['time'], state['level'])\n",
    "        next_state_key = (next_state['time'], next_state['level'])\n",
    "\n",
    "        td_target = reward + self.gamma * self.q_table[next_state_key][next_action] * (1 - done) #Set everything to 0 if done.\n",
    "        td_error = td_target - self.q_table[state_key][action]\n",
    "        \n",
    "        if self.alpha_decay:\n",
    "            self.q_table_count[state_key][action] += 1\n",
    "            learning_rate = self.alpha / self.q_table_count[state_key][action] #Alpha decay. Each visit at the same State reduces the learn rate.\n",
    "            self.q_table[state_key][action] += learning_rate * td_error\n",
    "        else:\n",
    "            self.q_table[state_key][action] += self.alpha * td_error\n",
    "                \n",
    "    def train(self, iterations,random_iter):\n",
    "        for i in range(iterations):\n",
    "            if i < random_iter: #Train with random initial state.\n",
    "                state = self.env.reset_random()\n",
    "            else:\n",
    "                state = self.env.reset()\n",
    "            action = self.pick_action(state)\n",
    "            done = False\n",
    "\n",
    "            while not done: #Go through one episode until terminal state is reached. \n",
    "                next_state, reward, done, _ = self.env.step(action)\n",
    "                next_action = self.pick_action(next_state)\n",
    "\n",
    "                self.update_q_values(state, action, reward, next_state, next_action, done)\n",
    "\n",
    "                state = next_state.copy()\n",
    "                action = next_action\n",
    "        \n",
    "        self.env.reset_episode()\n",
    "        return self.q_table"
   ]
  },
  {
   "cell_type": "markdown",
   "id": "953b4611",
   "metadata": {},
   "source": [
    "## Q Learning"
   ]
  },
  {
   "cell_type": "code",
   "execution_count": 63,
   "id": "1a7c2ece",
   "metadata": {},
   "outputs": [],
   "source": [
    "class QLearning_Agent():\n",
    "    def __init__(self, alpha, gamma, env, epsilon, epsilon_decay, epsilon_min,alpha_decay):\n",
    "        self.env = env\n",
    "        self.alpha = alpha\n",
    "        self.gamma = gamma\n",
    "        self.epsilon = epsilon\n",
    "        self.epsilon_decay = epsilon_decay\n",
    "        self.epsilon_min = epsilon_min\n",
    "        self.alpha_decay = alpha_decay\n",
    "        \n",
    "        self.action_space_size = env.action_space.n \n",
    "        self.q_table = defaultdict(lambda: np.zeros(self.action_space_size))\n",
    "        self.q_table_count = defaultdict(lambda: np.zeros(self.action_space_size))\n",
    "\n",
    "    def pick_action(self, state):\n",
    "        action_q_values = self.q_table.get((state['time'], state['level']), np.zeros(self.action_space_size))\n",
    "        # Initialize Q-values for new state (not in table yet) with all actions to 0.  \n",
    "        return self.epsilon_greedy(action_q_values)\n",
    "\n",
    "    def epsilon_greedy(self, action_q_values):\n",
    "        if np.random.rand() < self.epsilon or np.all(action_q_values==0): #Probability ε or state was never visited before.\n",
    "            # Exploration: Choose a random action\n",
    "            chosen_action = np.random.choice(range(self.action_space_size))\n",
    "        else:\n",
    "            # Exploitation: Choose the action with the highest Q-value.\n",
    "            chosen_action = np.argmax(action_q_values)\n",
    "\n",
    "        if self.epsilon > self.epsilon_min: \n",
    "            self.epsilon *= self.epsilon_decay\n",
    "\n",
    "        return chosen_action\n",
    "\n",
    "    def update_q_values(self, state, action, reward, next_state, done): #Update via Q-learning update rules.\n",
    "        state_key = (state['time'], state['level'])\n",
    "        next_state_key = (next_state['time'], next_state['level'])\n",
    "        \n",
    "        best_next_action = np.argmax(self.q_table[next_state_key])\n",
    "        td_target = reward + self.gamma * self.q_table[next_state_key][best_next_action] * (1 - done) #Set everything to 0 if done.\n",
    "        td_error = td_target - self.q_table[state_key][action]\n",
    "        \n",
    "        if self.alpha_decay:\n",
    "            self.q_table_count[state_key][action] += 1\n",
    "            learning_rate = self.alpha / self.q_table_count[state_key][action] #Alpha decay. Each visit at the same State reduces the learn rate.\n",
    "            self.q_table[state_key][action] += learning_rate * td_error\n",
    "        else:\n",
    "            self.q_table[state_key][action] += self.alpha * td_error\n",
    "    def train(self, iterations,random_iter):\n",
    "        for i in range(iterations):\n",
    "            if i < random_iter: #Train with random initial state.\n",
    "                state = self.env.reset_random()\n",
    "            else:\n",
    "                state = self.env.reset()\n",
    "            done = False\n",
    "\n",
    "            while not done: #Go through one episode until terminal state is reached. \n",
    "                action = self.pick_action(state)\n",
    "                next_state, reward, done, _ = self.env.step(action)\n",
    "                self.update_q_values(state, action, reward, next_state, done)\n",
    "                state = next_state.copy()\n",
    "\n",
    "            self.epsilon = max(self.epsilon_min, self.epsilon * self.epsilon_decay)\n",
    "            \n",
    "            if i % 10000==0:\n",
    "                print(\"Episode:\",i)\n",
    "        self.env.reset_episode()    \n",
    "        return self.q_table"
   ]
  },
  {
   "cell_type": "markdown",
   "id": "970a7b09",
   "metadata": {},
   "source": [
    "## Deep Q-Network"
   ]
  },
  {
   "cell_type": "code",
   "execution_count": 64,
   "id": "eb5df230",
   "metadata": {},
   "outputs": [],
   "source": [
    "class DQN_Agent():\n",
    "    def __init__(self, env, alpha, gamma, epsilon, epsilon_decay, epsilon_min, memory_size, batch_size, target_update=10):\n",
    "        self.env = env\n",
    "        self.state_size = 2  #time and level\n",
    "        self.action_size = env.action_space.n \n",
    "        self.alpha = alpha  \n",
    "        self.gamma = gamma  \n",
    "        self.epsilon = epsilon\n",
    "        self.epsilon_decay = epsilon_decay \n",
    "        self.epsilon_min = epsilon_min\n",
    "        self.batch_size = batch_size  # Number of samples per batch for replay.\n",
    "        self.target_update = target_update  # Frequency to update target network.\n",
    "\n",
    "        # Experience replay memory\n",
    "        self.memory = deque(maxlen=memory_size)\n",
    "\n",
    "        # Main network\n",
    "        self.model = self.build_model()\n",
    "\n",
    "        # Target Q-network\n",
    "        self.target_model = self.build_model()\n",
    "        self.update_target_model()\n",
    "        \n",
    "        # Stochastic optimizer\n",
    "        self.optimizer = optim.Adam(self.model.parameters(), lr=self.alpha)\n",
    "\n",
    "    def build_model(self):\n",
    "        model = nn.Sequential(\n",
    "            nn.Linear(self.state_size, 64),  # Input layer\n",
    "            nn.ReLU(), \n",
    "            nn.Linear(64, 64),  # Hidden laye\n",
    "            nn.ReLU(), \n",
    "            nn.Linear(64, self.action_size)  # Output layer (number of actions)\n",
    "        )\n",
    "        return model\n",
    "\n",
    "    def update_target_model(self):\n",
    "        # Copy weights from main Q-network to target network.\n",
    "        self.target_model.load_state_dict(self.model.state_dict())\n",
    "\n",
    "    def pick_action(self, state):\n",
    "        if np.random.rand() <= self.epsilon:\n",
    "            return random.randrange(self.action_size)  # Exploration: random action\n",
    "        state = torch.FloatTensor(state).unsqueeze(0)  # Convert state to tensor and add batch dimension\n",
    "        with torch.no_grad():\n",
    "            q_values = self.model(state)\n",
    "        return torch.argmax(q_values).item()  # Exploitation: choose action with highest Q-value\n",
    "\n",
    "    def store_experience(self, state, action, reward, next_state, done):\n",
    "        self.memory.append((state, action, reward, next_state, done))\n",
    "\n",
    "    def replay(self):\n",
    "        # Perform experience replay if enough samples are available.\n",
    "        if len(self.memory) < self.batch_size:\n",
    "            return \n",
    "\n",
    "        minibatch = random.sample(self.memory, self.batch_size)\n",
    "\n",
    "        for state, action, reward, next_state, done in minibatch:\n",
    "            state = torch.FloatTensor(state)\n",
    "            next_state = torch.FloatTensor(next_state)\n",
    "            \n",
    "            target = reward\n",
    "            if not done:\n",
    "                target += self.gamma * torch.max(self.target_model(next_state)).item() # Calculate target as reward + discounted max future Q-value.\n",
    "            \n",
    "            target_f = self.model(state).clone().detach() # Current Q-value for selected action.\n",
    "            target_f[action] = target\n",
    "\n",
    "            loss = nn.MSELoss()(self.model(state), target_f)\n",
    "            self.optimizer.zero_grad()\n",
    "            loss.backward()\n",
    "            self.optimizer.step()\n",
    "\n",
    "        if self.epsilon > self.epsilon_min:\n",
    "            self.epsilon *= self.epsilon_decay\n",
    "\n",
    "    def generate_state_space_keys(self): # Generate all possible state keys based on the environment's observation space.\n",
    "        state_space_keys = []\n",
    "        for time in range(self.env.observation_space['time'].n):\n",
    "            for level in range(self.env.observation_space['level'].n):\n",
    "                state_space_keys.append((time, level))\n",
    "        return state_space_keys\n",
    "\n",
    "    def extract_q_table(self):\n",
    "        q_table = {}\n",
    "        state_space_keys = self.generate_state_space_keys()\n",
    "\n",
    "        for state_key in state_space_keys:\n",
    "            state = torch.FloatTensor(state_key).unsqueeze(0)\n",
    "            with torch.no_grad():\n",
    "                q_values = self.model(state).numpy().flatten()\n",
    "            q_table[state_key] = q_values\n",
    "\n",
    "        return q_table\n",
    "\n",
    "    def train(self, episodes, random_iter):\n",
    "        for e in range(episodes):\n",
    "            if e < random_iter:  # Train with random initial state for exploration\n",
    "                state = self.env.reset_random()\n",
    "            else:\n",
    "                state = self.env.reset()\n",
    "            state = np.array([state['time'], state['level']])\n",
    "\n",
    "            done = False\n",
    "            total_reward = 0\n",
    "\n",
    "            while not done:  # Go through one episode until terminal state is reached\n",
    "                action = self.pick_action(state)\n",
    "                next_state, reward, done, _ = self.env.step(action)\n",
    "                next_state = np.array([next_state['time'], next_state['level']])\n",
    "                total_reward += reward\n",
    "\n",
    "                self.store_experience(state, action, reward, next_state, done)\n",
    "                state = next_state\n",
    "                self.replay()\n",
    "\n",
    "            # Update target model periodically.\n",
    "            if e % self.target_update == 0:\n",
    "                self.update_target_model()\n",
    "\n",
    "            print(f\"Episode {e+1}/{episodes} - Reward: {total_reward}, Epsilon: {self.epsilon:.2f}\")\n",
    "\n",
    "        self.env.reset_episode()\n",
    "        return self.extract_q_table()\n"
   ]
  },
  {
   "cell_type": "markdown",
   "id": "81c9c543",
   "metadata": {},
   "source": [
    "# Evaluation methods"
   ]
  },
  {
   "cell_type": "code",
   "execution_count": 95,
   "id": "78817bcf",
   "metadata": {},
   "outputs": [],
   "source": [
    "def plot_q_table_3d(q_table, cap):\n",
    "    \"\"\"\n",
    "    Plots a 3D surface of the Q-table showing the relationship between \n",
    "    battery level, time, and Q-values.\n",
    "\n",
    "    Parameters:\n",
    "    - q_table (dict): The Q-table where keys are state tuples and values are lists/arrays of Q-values for different actions.\n",
    "    - cap (int): The maximum battery level.\n",
    "    \"\"\"\n",
    "\n",
    "    def get_Z(key):\n",
    "        return np.average(q_table[key])\n",
    "\n",
    "    # battery level\n",
    "    X = np.arange(cap + 1)\n",
    "    # time\n",
    "    Y = np.arange(8)\n",
    "    X_grid, Y_grid = np.meshgrid(X, Y)\n",
    "    # average Q-values (policy)\n",
    "    Z = np.array([get_Z(key) for key in itertools.product(Y, X)]).reshape((8, cap + 1))\n",
    "\n",
    "    fig = plt.figure(figsize=(10, 10))\n",
    "    ax = fig.add_subplot(111, projection='3d')\n",
    "\n",
    "    ax.plot_surface(X_grid, Y_grid, -Z, cmap='viridis')\n",
    "\n",
    "    ax.view_init(elev=30, azim=45)\n",
    "\n",
    "    ax.set_zlabel('Average Q-value')\n",
    "    ax.set_ylabel('Time')\n",
    "    ax.set_xlabel('Battery level')\n",
    "    plt.tight_layout()\n",
    "    plt.show()\n",
    "\n",
    "def plot_q_table_2d(q_table):\n",
    "    \"\"\"\n",
    "    Plots a 2D heatmap of the average Q-values over all actions for each state in the Q-table.\n",
    "\n",
    "    Parameters:\n",
    "    - q_table (dict): The Q-table where keys are state tuples and values are lists/arrays of Q-values for different actions.\n",
    "    \"\"\"\n",
    "\n",
    "    levels = sorted(set(state[1] for state in q_table.keys()))\n",
    "    times = sorted(set(state[0] for state in q_table.keys()))\n",
    "\n",
    "    # Initialize a matrix with zeros\n",
    "    q_matrix = np.zeros((len(levels), len(times)))\n",
    "\n",
    "    # Fill the matrix with average Q-values\n",
    "    for state_key, q_values in q_table.items():\n",
    "        time, level = state_key\n",
    "        if level in levels and time in times:\n",
    "            level_idx = levels.index(level)\n",
    "            time_idx = times.index(time)\n",
    "            q_matrix[level_idx, time_idx] = np.mean(q_values)\n",
    "\n",
    "    fig, ax = plt.subplots(figsize=(len(times), len(levels)))\n",
    "    cax = ax.matshow(q_matrix, cmap='viridis')\n",
    "    fig.colorbar(cax)\n",
    "    ax.set_xticks(np.arange(len(times)))\n",
    "    ax.set_xticklabels(times)\n",
    "    ax.set_yticks(np.arange(len(levels)))\n",
    "    ax.set_yticklabels(levels)\n",
    "\n",
    "    # Annotate the matrix with Q-values\n",
    "    for i in range(len(levels)):\n",
    "        for j in range(len(times)):\n",
    "            value = q_matrix[i, j]\n",
    "            ax.text(j, i, f\"{value:.2f}\", ha='center', va='center', color='white')\n",
    "\n",
    "    ax.set_xlabel('Time')\n",
    "    ax.set_ylabel('Battery Level')\n",
    "    plt.title('Average Q-Value')\n",
    "    plt.show()\n",
    "\n",
    "def plot_greedy_policy(q_table):\n",
    "    \"\"\"\n",
    "    Plots the greedy policy by displaying the action with the highest Q-value for each state.\n",
    "\n",
    "    Parameters:\n",
    "    - q_table (dict): The Q-table where keys are state tuples and values are lists/arrays of Q-values for different actions.\n",
    "    \"\"\"\n",
    "\n",
    "    action_labels = {0: 'None', 1: 'Low', 2: 'Medium', 3: 'High', 4: 'Very high'}\n",
    "\n",
    "    levels = sorted(set(state[1] for state in q_table.keys()))\n",
    "    times = sorted(set(state[0] for state in q_table.keys()))\n",
    "\n",
    "    action_matrix = np.zeros((len(levels), len(times)))\n",
    "\n",
    "    # Populate the matrix with the best actions\n",
    "    for state_key, q_values in q_table.items():\n",
    "        time, level = state_key\n",
    "        if level in levels and time in times:\n",
    "            level_idx = levels.index(level)\n",
    "            time_idx = times.index(time)\n",
    "            best_action = np.argmax(q_values)\n",
    "            action_matrix[level_idx, time_idx] = best_action\n",
    "\n",
    "    fig, ax = plt.subplots(figsize=(12, 8))\n",
    "    cax = ax.matshow(action_matrix, cmap='viridis', vmin=0, vmax=len(action_labels) - 1)\n",
    "\n",
    "    cbar = fig.colorbar(cax, ticks=list(action_labels.keys()))\n",
    "    cbar.ax.set_yticklabels([action_labels[i] for i in action_labels.keys()])\n",
    "\n",
    "    xticks = np.arange(len(times))\n",
    "    yticks = np.arange(len(levels))\n",
    "\n",
    "    y_ticks_interval = max(1, len(levels) // 10)\n",
    "    ax.set_yticks(yticks[::y_ticks_interval])\n",
    "    ax.set_yticklabels([levels[i] for i in yticks[::y_ticks_interval]])\n",
    "\n",
    "    x_ticks_interval = max(1, len(times) // 10)\n",
    "    ax.set_xticks(xticks[::x_ticks_interval])\n",
    "    ax.set_xticklabels([times[i] for i in xticks[::x_ticks_interval]])\n",
    "\n",
    "    plt.xlabel('Time')\n",
    "    plt.ylabel('Battery Level')\n",
    "    plt.title('Greedy Policy (Actions)')\n",
    "    ax.grid(False)\n",
    "    plt.show()\n",
    "\n",
    "def evaluate_q_table(q_table, env, num_episodes=100):\n",
    "    \"\"\"\n",
    "    Evaluate the performance of the Q-table over a number of episodes.\n",
    "\n",
    "    Parameters:\n",
    "    - q_table (dict): The Q-table where keys are state tuples and values are lists/arrays of Q-values for different actions.\n",
    "    - env (gym.Env): The environment to evaluate.\n",
    "    - num_episodes (int): Number of episodes to evaluate.\n",
    "\n",
    "    Returns:\n",
    "    - float: The average reward obtained over the episodes.\n",
    "    - int: The count of episodes where the agent got stuck.\n",
    "    \"\"\"\n",
    "\n",
    "    total_reward = 0\n",
    "    stuck_count = 0\n",
    "\n",
    "    for episode in range(num_episodes):\n",
    "        state = env.reset()\n",
    "        done = False\n",
    "        episode_reward = 0\n",
    "\n",
    "        while not done:\n",
    "            state_key = (state['time'], state['level'])\n",
    "            if state_key in q_table:\n",
    "                action = np.argmax(q_table[state_key])\n",
    "            else:\n",
    "                action = 0  # No action = no loading\n",
    "            \n",
    "            next_state, reward, done, stuck = env.step(action)\n",
    "            episode_reward += reward\n",
    "            state = next_state\n",
    "\n",
    "        total_reward += episode_reward\n",
    "        if stuck:\n",
    "            stuck_count += 1\n",
    "\n",
    "    average_reward = total_reward / num_episodes\n",
    "    \n",
    "    return average_reward, stuck_count\n",
    "\n",
    "def calculate_empty_q_percentage(q_table):\n",
    "    \"\"\"\n",
    "    Calculate the percentage of Q-values in the Q-table that are empty (equal to 0).\n",
    "\n",
    "    Parameters:\n",
    "    - q_table (dict): The Q-table where keys are state tuples and values are lists/arrays of Q-values.\n",
    "\n",
    "    Returns:\n",
    "    - float: The percentage of empty Q-values in the Q-table.\n",
    "    \"\"\"\n",
    "\n",
    "    total_q_values = 0\n",
    "    empty_q_values = 0\n",
    "\n",
    "    for state_key, q_values in q_table.items():\n",
    "        total_q_values += len(q_values)\n",
    "        empty_q_values += sum(q == 0 for q in q_values)  # Define empty as q == 0\n",
    "\n",
    "    if total_q_values == 0:\n",
    "        return 0.0\n",
    "\n",
    "    percentage_empty = (empty_q_values / total_q_values) * 100\n",
    "    return percentage_empty\n",
    "\n",
    "def parallel_coordinates_plot(q_table, actions, max_time, max_level):\n",
    "    \"\"\"\n",
    "    Creates a parallel coordinates plot to visualize the transitions of battery levels over time\n",
    "    based on the actions taken.\n",
    "\n",
    "    Parameters:\n",
    "    - q_table (dict): The Q-table where keys are state tuples and values are lists/arrays of Q-values for different actions.\n",
    "    - actions (list): List of possible actions.\n",
    "    - max_time (int): Maximum time value in the environment.\n",
    "    - max_level (int): Maximum battery level in the environment.\n",
    "    \"\"\"\n",
    "\n",
    "    data = []\n",
    "\n",
    "    for time in range(max_time + 1):\n",
    "        for level in range(max_level + 1):\n",
    "            q_values = q_table.get((time, level), [0] * len(actions))\n",
    "            max_action_index = np.argmax(q_values)\n",
    "            max_action_kwh = actions[max_action_index]\n",
    "            data.append({\n",
    "                'Time': time,\n",
    "                'Battery_level': level,\n",
    "                'Best_action_kwh': max_action_kwh,\n",
    "                'Future_battery_level': level + max_action_kwh if level + max_action_kwh < max_level else max_level\n",
    "            })\n",
    "    \n",
    "    df = pd.DataFrame(data)\n",
    "\n",
    "    unique_actions = df['Best_action_kwh'].unique()\n",
    "    colors = plt.cm.viridis(np.linspace(0, 1, len(unique_actions)))\n",
    "    color_map = {action: f'rgb{tuple((c[:3] * 255).astype(int))}' for action, c in zip(unique_actions, colors)}\n",
    "\n",
    "    fig = go.Figure()\n",
    "    for action in unique_actions:\n",
    "        action_data = df[df['Best_action_kwh'] == action]\n",
    "\n",
    "        for i in range(len(action_data) - 1):\n",
    "            x_values = [action_data.iloc[i]['Time'], action_data.iloc[i]['Time'] + 1]\n",
    "            y_values = [action_data.iloc[i]['Battery_level'], action_data.iloc[i]['Future_battery_level']]\n",
    "\n",
    "            scatters = go.Scatter(\n",
    "                x=x_values,\n",
    "                y=y_values,\n",
    "                mode='lines+markers',\n",
    "                line=dict(width=2, color=color_map.get(action, 'gray')),\n",
    "                name=f'Action {action}' if i == 0 else f'Action {action}',\n",
    "                showlegend=i == 0  # Only show legend for the first line of each action\n",
    "            )\n",
    "\n",
    "            fig.add_trace(scatters)\n",
    "\n",
    "    fig.update_layout(\n",
    "        title='Battery Level Transitions Over Time',\n",
    "        xaxis_title='Time',\n",
    "        yaxis_title='Battery Level'\n",
    "    )\n",
    "    fig.show()\n",
    "\n",
    "def grid_search(agent_function, iteration_list, alpha_list, gamma_list, epsilon_decay_list, test_episodes, num_subiter):\n",
    "    \"\"\"\n",
    "    Perform a grid search to find the optimal hyperparameters for the agent.\n",
    "\n",
    "    Parameters:\n",
    "    - agent_function (function): The function that creates the agent.\n",
    "    - iteration_list (list): List of possible iteration values.\n",
    "    - alpha_list (list): List of possible alpha values.\n",
    "    - gamma_list (list): List of possible gamma values.\n",
    "    - epsilon_decay_list (list): List of possible epsilon decay values.\n",
    "    - test_episodes (int): Number of episodes to evaluate for each parameter combination.\n",
    "    - num_subiter (int): Number of sub-iterations to run for averaging.\n",
    "\n",
    "    Returns:\n",
    "    - dict: A dictionary containing the average rewards for each parameter combination.\n",
    "    \"\"\"\n",
    "\n",
    "    average_rewards = {}\n",
    "\n",
    "    for iteration in iteration_list:\n",
    "        for alpha in alpha_list:\n",
    "            for gamma in gamma_list:\n",
    "                for epsilon_decay in epsilon_decay_list:\n",
    "                    agent = agent_function(alpha=alpha, gamma=gamma, env=env, epsilon=1, epsilon_decay=epsilon_decay, epsilon_min=0.01, alpha_decay=True)\n",
    "                    rewards = []\n",
    "                    for _ in range(num_subiter):\n",
    "                        q_table = agent.train(iteration, math.floor(iteration / 5))  # ~20% random training math.floor(iteration / 5)\n",
    "\n",
    "                        average_reward, _ = evaluate_q_table(q_table, env, num_episodes=test_episodes)\n",
    "                        rewards.append(average_reward)\n",
    "\n",
    "                    average_key = (iteration, alpha, gamma, epsilon_decay)\n",
    "                    average_rewards[average_key] = np.mean(rewards)\n",
    "                    print(f\"Average reward for {average_key}: {average_rewards[average_key]}\")\n",
    "    return average_rewards\n",
    "\n",
    "def plot_grid_search(avg_rewards):\n",
    "    \"\"\"\n",
    "    Plots the results of a grid search as separate line plots for each hyperparameter.\n",
    "\n",
    "    Parameters:\n",
    "    - avg_rewards (dict): A dictionary containing the average rewards for each hyperparameter combination.\n",
    "    \"\"\"\n",
    "\n",
    "    iteration_sums = defaultdict(float)\n",
    "    iteration_counts = defaultdict(int)\n",
    "\n",
    "    alpha_sums = defaultdict(float)\n",
    "    alpha_counts = defaultdict(int)\n",
    "\n",
    "    gamma_sums = defaultdict(float)\n",
    "    gamma_counts = defaultdict(int)\n",
    "\n",
    "    epsilon_sums = defaultdict(float)\n",
    "    epsilon_counts = defaultdict(int)\n",
    "\n",
    "    for (iteration, alpha, gamma, epsilon), reward in avg_rewards.items():\n",
    "        iteration_sums[iteration] += reward\n",
    "        iteration_counts[iteration] += 1\n",
    "\n",
    "        alpha_sums[alpha] += reward\n",
    "        alpha_counts[alpha] += 1\n",
    "\n",
    "        gamma_sums[gamma] += reward\n",
    "        gamma_counts[gamma] += 1\n",
    "\n",
    "        epsilon_sums[epsilon] += reward\n",
    "        epsilon_counts[epsilon] += 1\n",
    "\n",
    "    iteration_averages = {k: iteration_sums[k] / iteration_counts[k] for k in iteration_sums}\n",
    "    alpha_averages = {k: alpha_sums[k] / alpha_counts[k] for k in alpha_sums}\n",
    "    gamma_averages = {k: gamma_sums[k] / gamma_counts[k] for k in gamma_sums}\n",
    "    epsilon_averages = {k: epsilon_sums[k] / epsilon_counts[k] for k in epsilon_sums}\n",
    "\n",
    "    # Plot for Iteration\n",
    "    plt.figure(figsize=(12, 8))\n",
    "\n",
    "    plt.subplot(2, 2, 1)\n",
    "    plt.plot(list(iteration_averages.keys()), list(iteration_averages.values()), marker='o')\n",
    "    plt.title('Average Reward by Iteration')\n",
    "    plt.xlabel('Iteration')\n",
    "    plt.ylabel('Average Reward')\n",
    "\n",
    "    # Plot for Alpha\n",
    "    plt.subplot(2, 2, 2)\n",
    "    plt.plot(list(alpha_averages.keys()), list(alpha_averages.values()), marker='o', color='green')\n",
    "    plt.title('Average Reward by Alpha')\n",
    "    plt.xlabel('Alpha')\n",
    "    plt.ylabel('Average Reward')\n",
    "\n",
    "    # Plot for Gamma\n",
    "    plt.subplot(2, 2, 3)\n",
    "    plt.plot(list(gamma_averages.keys()), list(gamma_averages.values()), marker='o', color='red')\n",
    "    plt.title('Average Reward by Gamma')\n",
    "    plt.xlabel('Gamma')\n",
    "    plt.ylabel('Average Reward')\n",
    "\n",
    "    # Plot for Epsilon Decay\n",
    "    plt.subplot(2, 2, 4)\n",
    "    plt.plot(list(epsilon_averages.keys()), list(epsilon_averages.values()), marker='o', color='purple')\n",
    "    plt.title('Average Reward by Epsilon Decay')\n",
    "    plt.xlabel('Epsilon Decay')\n",
    "    plt.ylabel('Average Reward')\n",
    "\n",
    "    plt.tight_layout()\n",
    "    plt.show()\n"
   ]
  },
  {
   "cell_type": "markdown",
   "id": "749a4c4e",
   "metadata": {},
   "source": [
    "# Execution"
   ]
  },
  {
   "cell_type": "code",
   "execution_count": 128,
   "id": "8536839c",
   "metadata": {
    "scrolled": false
   },
   "outputs": [],
   "source": [
    "#actions = {i: i for i in range(23)}\n",
    "#actions = {0: 0, 1: 1.15, 2: 1.85, 3: 2.75, 4: 5.5}\n",
    "actions = {0: 0, 1: 3, 2: 7, 3: 11, 4: 17}\n",
    "#Tesla Model 3, SolarEdge Home EV Charger\n",
    "env = SmartCharging(actions=actions, cap=100, stuck_penalty=-30000)"
   ]
  },
  {
   "cell_type": "code",
   "execution_count": 129,
   "id": "df0e8e53",
   "metadata": {
    "scrolled": true
   },
   "outputs": [
    {
     "name": "stdout",
     "output_type": "stream",
     "text": [
      "7.706541061401367\n"
     ]
    }
   ],
   "source": [
    "t0 = time.time()\n",
    "MC_Agent1 = MC_Agent(\n",
    "    alpha=0.5, gamma=0.9, env=env, epsilon=1, epsilon_decay=0.9, epsilon_min=0.01,alpha_decay=False\n",
    ")\n",
    "MC_q_table = MC_Agent1.train(100000,20000)\n",
    "t1 = time.time()\n",
    "total = t1-t0\n",
    "print(total)"
   ]
  },
  {
   "cell_type": "code",
   "execution_count": 136,
   "id": "a398fb36",
   "metadata": {
    "scrolled": true
   },
   "outputs": [],
   "source": [
    "SARSA_Agent1 = SARSA_Agent(\n",
    "    alpha=0.1, gamma=0.95, env=env, epsilon=1, epsilon_decay=0.99, epsilon_min=0.01,alpha_decay=False\n",
    ")\n",
    "SARSA_q_table = SARSA_Agent1.train(100000,20000)"
   ]
  },
  {
   "cell_type": "code",
   "execution_count": 137,
   "id": "aaaae34d",
   "metadata": {
    "scrolled": true
   },
   "outputs": [
    {
     "name": "stdout",
     "output_type": "stream",
     "text": [
      "Episode: 0\n",
      "Episode: 10000\n",
      "Episode: 20000\n",
      "Episode: 30000\n",
      "Episode: 40000\n",
      "Episode: 50000\n",
      "Episode: 60000\n",
      "Episode: 70000\n",
      "Episode: 80000\n",
      "Episode: 90000\n"
     ]
    }
   ],
   "source": [
    "QLearning_Agent1 = QLearning_Agent(\n",
    "    alpha=0.1, gamma=0.95, env=env, epsilon=1, epsilon_decay=0.999, epsilon_min=0.01,alpha_decay=False\n",
    ")\n",
    "QLEARN_q_table = QLearning_Agent1.train(100000,20000)"
   ]
  },
  {
   "cell_type": "code",
   "execution_count": 138,
   "id": "2dcf982e",
   "metadata": {
    "scrolled": true
   },
   "outputs": [
    {
     "name": "stdout",
     "output_type": "stream",
     "text": [
      "Episode 1/100 - Reward: -2676.4298486904595, Epsilon: 1.00\n",
      "Episode 2/100 - Reward: -9555.505588522383, Epsilon: 1.00\n",
      "Episode 3/100 - Reward: -316.19569623810014, Epsilon: 1.00\n",
      "Episode 4/100 - Reward: -507.85516910713517, Epsilon: 0.99\n",
      "Episode 5/100 - Reward: -344.4748305310598, Epsilon: 0.91\n",
      "Episode 6/100 - Reward: -109.31252660714132, Epsilon: 0.84\n",
      "Episode 7/100 - Reward: -268.1612034394357, Epsilon: 0.78\n",
      "Episode 8/100 - Reward: -1483.8036496740217, Epsilon: 0.72\n",
      "Episode 9/100 - Reward: -3471.6372632259663, Epsilon: 0.66\n",
      "Episode 10/100 - Reward: -155.01945998317075, Epsilon: 0.61\n",
      "Episode 11/100 - Reward: -3476.426858489213, Epsilon: 0.56\n",
      "Episode 12/100 - Reward: -24.235196077520463, Epsilon: 0.52\n",
      "Episode 13/100 - Reward: -3453.542410885239, Epsilon: 0.48\n",
      "Episode 14/100 - Reward: -62.23345067901358, Epsilon: 0.44\n",
      "Episode 15/100 - Reward: -5044.99283331565, Epsilon: 0.41\n",
      "Episode 16/100 - Reward: -3941.7857747518483, Epsilon: 0.38\n",
      "Episode 17/100 - Reward: -14.252391582878968, Epsilon: 0.35\n"
     ]
    },
    {
     "ename": "KeyboardInterrupt",
     "evalue": "",
     "output_type": "error",
     "traceback": [
      "\u001b[1;31m---------------------------------------------------------------------------\u001b[0m",
      "\u001b[1;31mKeyboardInterrupt\u001b[0m                         Traceback (most recent call last)",
      "Cell \u001b[1;32mIn[138], line 4\u001b[0m\n\u001b[0;32m      1\u001b[0m DQN_Agent1 \u001b[38;5;241m=\u001b[39m DQN_Agent(\n\u001b[0;32m      2\u001b[0m     env\u001b[38;5;241m=\u001b[39menv, alpha\u001b[38;5;241m=\u001b[39m\u001b[38;5;241m0.1\u001b[39m, gamma\u001b[38;5;241m=\u001b[39m\u001b[38;5;241m0.95\u001b[39m, epsilon\u001b[38;5;241m=\u001b[39m\u001b[38;5;241m1\u001b[39m, epsilon_decay\u001b[38;5;241m=\u001b[39m\u001b[38;5;241m0.99\u001b[39m, epsilon_min\u001b[38;5;241m=\u001b[39m\u001b[38;5;241m0.01\u001b[39m, memory_size\u001b[38;5;241m=\u001b[39m\u001b[38;5;241m10000\u001b[39m, batch_size\u001b[38;5;241m=\u001b[39m\u001b[38;5;241m32\u001b[39m, target_update\u001b[38;5;241m=\u001b[39m\u001b[38;5;241m10\u001b[39m\n\u001b[0;32m      3\u001b[0m )\n\u001b[1;32m----> 4\u001b[0m DQN_q_table \u001b[38;5;241m=\u001b[39m DQN_Agent1\u001b[38;5;241m.\u001b[39mtrain(\u001b[38;5;241m100\u001b[39m,\u001b[38;5;241m0\u001b[39m)\n",
      "Cell \u001b[1;32mIn[64], line 116\u001b[0m, in \u001b[0;36mDQN_Agent.train\u001b[1;34m(self, episodes, random_iter)\u001b[0m\n\u001b[0;32m    114\u001b[0m     \u001b[38;5;28mself\u001b[39m\u001b[38;5;241m.\u001b[39mstore_experience(state, action, reward, next_state, done)\n\u001b[0;32m    115\u001b[0m     state \u001b[38;5;241m=\u001b[39m next_state\n\u001b[1;32m--> 116\u001b[0m     \u001b[38;5;28mself\u001b[39m\u001b[38;5;241m.\u001b[39mreplay()\n\u001b[0;32m    118\u001b[0m \u001b[38;5;66;03m# Update target model periodically.\u001b[39;00m\n\u001b[0;32m    119\u001b[0m \u001b[38;5;28;01mif\u001b[39;00m e \u001b[38;5;241m%\u001b[39m \u001b[38;5;28mself\u001b[39m\u001b[38;5;241m.\u001b[39mtarget_update \u001b[38;5;241m==\u001b[39m \u001b[38;5;241m0\u001b[39m:\n",
      "Cell \u001b[1;32mIn[64], line 73\u001b[0m, in \u001b[0;36mDQN_Agent.replay\u001b[1;34m(self)\u001b[0m\n\u001b[0;32m     71\u001b[0m     \u001b[38;5;28mself\u001b[39m\u001b[38;5;241m.\u001b[39moptimizer\u001b[38;5;241m.\u001b[39mzero_grad()\n\u001b[0;32m     72\u001b[0m     loss\u001b[38;5;241m.\u001b[39mbackward()\n\u001b[1;32m---> 73\u001b[0m     \u001b[38;5;28mself\u001b[39m\u001b[38;5;241m.\u001b[39moptimizer\u001b[38;5;241m.\u001b[39mstep()\n\u001b[0;32m     75\u001b[0m \u001b[38;5;28;01mif\u001b[39;00m \u001b[38;5;28mself\u001b[39m\u001b[38;5;241m.\u001b[39mepsilon \u001b[38;5;241m>\u001b[39m \u001b[38;5;28mself\u001b[39m\u001b[38;5;241m.\u001b[39mepsilon_min:\n\u001b[0;32m     76\u001b[0m     \u001b[38;5;28mself\u001b[39m\u001b[38;5;241m.\u001b[39mepsilon \u001b[38;5;241m*\u001b[39m\u001b[38;5;241m=\u001b[39m \u001b[38;5;28mself\u001b[39m\u001b[38;5;241m.\u001b[39mepsilon_decay\n",
      "File \u001b[1;32m~\\miniconda3\\Lib\\site-packages\\torch\\optim\\optimizer.py:484\u001b[0m, in \u001b[0;36mOptimizer.profile_hook_step.<locals>.wrapper\u001b[1;34m(*args, **kwargs)\u001b[0m\n\u001b[0;32m    479\u001b[0m         \u001b[38;5;28;01melse\u001b[39;00m:\n\u001b[0;32m    480\u001b[0m             \u001b[38;5;28;01mraise\u001b[39;00m \u001b[38;5;167;01mRuntimeError\u001b[39;00m(\n\u001b[0;32m    481\u001b[0m                 \u001b[38;5;124mf\u001b[39m\u001b[38;5;124m\"\u001b[39m\u001b[38;5;132;01m{\u001b[39;00mfunc\u001b[38;5;132;01m}\u001b[39;00m\u001b[38;5;124m must return None or a tuple of (new_args, new_kwargs), but got \u001b[39m\u001b[38;5;132;01m{\u001b[39;00mresult\u001b[38;5;132;01m}\u001b[39;00m\u001b[38;5;124m.\u001b[39m\u001b[38;5;124m\"\u001b[39m\n\u001b[0;32m    482\u001b[0m             )\n\u001b[1;32m--> 484\u001b[0m out \u001b[38;5;241m=\u001b[39m func(\u001b[38;5;241m*\u001b[39margs, \u001b[38;5;241m*\u001b[39m\u001b[38;5;241m*\u001b[39mkwargs)\n\u001b[0;32m    485\u001b[0m \u001b[38;5;28mself\u001b[39m\u001b[38;5;241m.\u001b[39m_optimizer_step_code()\n\u001b[0;32m    487\u001b[0m \u001b[38;5;66;03m# call optimizer step post hooks\u001b[39;00m\n",
      "File \u001b[1;32m~\\miniconda3\\Lib\\site-packages\\torch\\optim\\optimizer.py:89\u001b[0m, in \u001b[0;36m_use_grad_for_differentiable.<locals>._use_grad\u001b[1;34m(self, *args, **kwargs)\u001b[0m\n\u001b[0;32m     87\u001b[0m     torch\u001b[38;5;241m.\u001b[39mset_grad_enabled(\u001b[38;5;28mself\u001b[39m\u001b[38;5;241m.\u001b[39mdefaults[\u001b[38;5;124m\"\u001b[39m\u001b[38;5;124mdifferentiable\u001b[39m\u001b[38;5;124m\"\u001b[39m])\n\u001b[0;32m     88\u001b[0m     torch\u001b[38;5;241m.\u001b[39m_dynamo\u001b[38;5;241m.\u001b[39mgraph_break()\n\u001b[1;32m---> 89\u001b[0m     ret \u001b[38;5;241m=\u001b[39m func(\u001b[38;5;28mself\u001b[39m, \u001b[38;5;241m*\u001b[39margs, \u001b[38;5;241m*\u001b[39m\u001b[38;5;241m*\u001b[39mkwargs)\n\u001b[0;32m     90\u001b[0m \u001b[38;5;28;01mfinally\u001b[39;00m:\n\u001b[0;32m     91\u001b[0m     torch\u001b[38;5;241m.\u001b[39m_dynamo\u001b[38;5;241m.\u001b[39mgraph_break()\n",
      "File \u001b[1;32m~\\miniconda3\\Lib\\site-packages\\torch\\optim\\adam.py:226\u001b[0m, in \u001b[0;36mAdam.step\u001b[1;34m(self, closure)\u001b[0m\n\u001b[0;32m    214\u001b[0m     beta1, beta2 \u001b[38;5;241m=\u001b[39m group[\u001b[38;5;124m\"\u001b[39m\u001b[38;5;124mbetas\u001b[39m\u001b[38;5;124m\"\u001b[39m]\n\u001b[0;32m    216\u001b[0m     has_complex \u001b[38;5;241m=\u001b[39m \u001b[38;5;28mself\u001b[39m\u001b[38;5;241m.\u001b[39m_init_group(\n\u001b[0;32m    217\u001b[0m         group,\n\u001b[0;32m    218\u001b[0m         params_with_grad,\n\u001b[1;32m   (...)\u001b[0m\n\u001b[0;32m    223\u001b[0m         state_steps,\n\u001b[0;32m    224\u001b[0m     )\n\u001b[1;32m--> 226\u001b[0m     adam(\n\u001b[0;32m    227\u001b[0m         params_with_grad,\n\u001b[0;32m    228\u001b[0m         grads,\n\u001b[0;32m    229\u001b[0m         exp_avgs,\n\u001b[0;32m    230\u001b[0m         exp_avg_sqs,\n\u001b[0;32m    231\u001b[0m         max_exp_avg_sqs,\n\u001b[0;32m    232\u001b[0m         state_steps,\n\u001b[0;32m    233\u001b[0m         amsgrad\u001b[38;5;241m=\u001b[39mgroup[\u001b[38;5;124m\"\u001b[39m\u001b[38;5;124mamsgrad\u001b[39m\u001b[38;5;124m\"\u001b[39m],\n\u001b[0;32m    234\u001b[0m         has_complex\u001b[38;5;241m=\u001b[39mhas_complex,\n\u001b[0;32m    235\u001b[0m         beta1\u001b[38;5;241m=\u001b[39mbeta1,\n\u001b[0;32m    236\u001b[0m         beta2\u001b[38;5;241m=\u001b[39mbeta2,\n\u001b[0;32m    237\u001b[0m         lr\u001b[38;5;241m=\u001b[39mgroup[\u001b[38;5;124m\"\u001b[39m\u001b[38;5;124mlr\u001b[39m\u001b[38;5;124m\"\u001b[39m],\n\u001b[0;32m    238\u001b[0m         weight_decay\u001b[38;5;241m=\u001b[39mgroup[\u001b[38;5;124m\"\u001b[39m\u001b[38;5;124mweight_decay\u001b[39m\u001b[38;5;124m\"\u001b[39m],\n\u001b[0;32m    239\u001b[0m         eps\u001b[38;5;241m=\u001b[39mgroup[\u001b[38;5;124m\"\u001b[39m\u001b[38;5;124meps\u001b[39m\u001b[38;5;124m\"\u001b[39m],\n\u001b[0;32m    240\u001b[0m         maximize\u001b[38;5;241m=\u001b[39mgroup[\u001b[38;5;124m\"\u001b[39m\u001b[38;5;124mmaximize\u001b[39m\u001b[38;5;124m\"\u001b[39m],\n\u001b[0;32m    241\u001b[0m         foreach\u001b[38;5;241m=\u001b[39mgroup[\u001b[38;5;124m\"\u001b[39m\u001b[38;5;124mforeach\u001b[39m\u001b[38;5;124m\"\u001b[39m],\n\u001b[0;32m    242\u001b[0m         capturable\u001b[38;5;241m=\u001b[39mgroup[\u001b[38;5;124m\"\u001b[39m\u001b[38;5;124mcapturable\u001b[39m\u001b[38;5;124m\"\u001b[39m],\n\u001b[0;32m    243\u001b[0m         differentiable\u001b[38;5;241m=\u001b[39mgroup[\u001b[38;5;124m\"\u001b[39m\u001b[38;5;124mdifferentiable\u001b[39m\u001b[38;5;124m\"\u001b[39m],\n\u001b[0;32m    244\u001b[0m         fused\u001b[38;5;241m=\u001b[39mgroup[\u001b[38;5;124m\"\u001b[39m\u001b[38;5;124mfused\u001b[39m\u001b[38;5;124m\"\u001b[39m],\n\u001b[0;32m    245\u001b[0m         grad_scale\u001b[38;5;241m=\u001b[39m\u001b[38;5;28mgetattr\u001b[39m(\u001b[38;5;28mself\u001b[39m, \u001b[38;5;124m\"\u001b[39m\u001b[38;5;124mgrad_scale\u001b[39m\u001b[38;5;124m\"\u001b[39m, \u001b[38;5;28;01mNone\u001b[39;00m),\n\u001b[0;32m    246\u001b[0m         found_inf\u001b[38;5;241m=\u001b[39m\u001b[38;5;28mgetattr\u001b[39m(\u001b[38;5;28mself\u001b[39m, \u001b[38;5;124m\"\u001b[39m\u001b[38;5;124mfound_inf\u001b[39m\u001b[38;5;124m\"\u001b[39m, \u001b[38;5;28;01mNone\u001b[39;00m),\n\u001b[0;32m    247\u001b[0m     )\n\u001b[0;32m    249\u001b[0m \u001b[38;5;28;01mreturn\u001b[39;00m loss\n",
      "File \u001b[1;32m~\\miniconda3\\Lib\\site-packages\\torch\\optim\\optimizer.py:161\u001b[0m, in \u001b[0;36m_disable_dynamo_if_unsupported.<locals>.wrapper.<locals>.maybe_fallback\u001b[1;34m(*args, **kwargs)\u001b[0m\n\u001b[0;32m    159\u001b[0m     \u001b[38;5;28;01mreturn\u001b[39;00m disabled_func(\u001b[38;5;241m*\u001b[39margs, \u001b[38;5;241m*\u001b[39m\u001b[38;5;241m*\u001b[39mkwargs)\n\u001b[0;32m    160\u001b[0m \u001b[38;5;28;01melse\u001b[39;00m:\n\u001b[1;32m--> 161\u001b[0m     \u001b[38;5;28;01mreturn\u001b[39;00m func(\u001b[38;5;241m*\u001b[39margs, \u001b[38;5;241m*\u001b[39m\u001b[38;5;241m*\u001b[39mkwargs)\n",
      "File \u001b[1;32m~\\miniconda3\\Lib\\site-packages\\torch\\optim\\adam.py:766\u001b[0m, in \u001b[0;36madam\u001b[1;34m(params, grads, exp_avgs, exp_avg_sqs, max_exp_avg_sqs, state_steps, foreach, capturable, differentiable, fused, grad_scale, found_inf, has_complex, amsgrad, beta1, beta2, lr, weight_decay, eps, maximize)\u001b[0m\n\u001b[0;32m    763\u001b[0m \u001b[38;5;28;01melse\u001b[39;00m:\n\u001b[0;32m    764\u001b[0m     func \u001b[38;5;241m=\u001b[39m _single_tensor_adam\n\u001b[1;32m--> 766\u001b[0m func(\n\u001b[0;32m    767\u001b[0m     params,\n\u001b[0;32m    768\u001b[0m     grads,\n\u001b[0;32m    769\u001b[0m     exp_avgs,\n\u001b[0;32m    770\u001b[0m     exp_avg_sqs,\n\u001b[0;32m    771\u001b[0m     max_exp_avg_sqs,\n\u001b[0;32m    772\u001b[0m     state_steps,\n\u001b[0;32m    773\u001b[0m     amsgrad\u001b[38;5;241m=\u001b[39mamsgrad,\n\u001b[0;32m    774\u001b[0m     has_complex\u001b[38;5;241m=\u001b[39mhas_complex,\n\u001b[0;32m    775\u001b[0m     beta1\u001b[38;5;241m=\u001b[39mbeta1,\n\u001b[0;32m    776\u001b[0m     beta2\u001b[38;5;241m=\u001b[39mbeta2,\n\u001b[0;32m    777\u001b[0m     lr\u001b[38;5;241m=\u001b[39mlr,\n\u001b[0;32m    778\u001b[0m     weight_decay\u001b[38;5;241m=\u001b[39mweight_decay,\n\u001b[0;32m    779\u001b[0m     eps\u001b[38;5;241m=\u001b[39meps,\n\u001b[0;32m    780\u001b[0m     maximize\u001b[38;5;241m=\u001b[39mmaximize,\n\u001b[0;32m    781\u001b[0m     capturable\u001b[38;5;241m=\u001b[39mcapturable,\n\u001b[0;32m    782\u001b[0m     differentiable\u001b[38;5;241m=\u001b[39mdifferentiable,\n\u001b[0;32m    783\u001b[0m     grad_scale\u001b[38;5;241m=\u001b[39mgrad_scale,\n\u001b[0;32m    784\u001b[0m     found_inf\u001b[38;5;241m=\u001b[39mfound_inf,\n\u001b[0;32m    785\u001b[0m )\n",
      "File \u001b[1;32m~\\miniconda3\\Lib\\site-packages\\torch\\optim\\adam.py:380\u001b[0m, in \u001b[0;36m_single_tensor_adam\u001b[1;34m(params, grads, exp_avgs, exp_avg_sqs, max_exp_avg_sqs, state_steps, grad_scale, found_inf, amsgrad, has_complex, beta1, beta2, lr, weight_decay, eps, maximize, capturable, differentiable)\u001b[0m\n\u001b[0;32m    378\u001b[0m \u001b[38;5;66;03m# Decay the first and second moment running average coefficient\u001b[39;00m\n\u001b[0;32m    379\u001b[0m exp_avg\u001b[38;5;241m.\u001b[39mlerp_(grad, \u001b[38;5;241m1\u001b[39m \u001b[38;5;241m-\u001b[39m beta1)\n\u001b[1;32m--> 380\u001b[0m exp_avg_sq\u001b[38;5;241m.\u001b[39mmul_(beta2)\u001b[38;5;241m.\u001b[39maddcmul_(grad, grad\u001b[38;5;241m.\u001b[39mconj(), value\u001b[38;5;241m=\u001b[39m\u001b[38;5;241m1\u001b[39m \u001b[38;5;241m-\u001b[39m beta2)\n\u001b[0;32m    382\u001b[0m \u001b[38;5;28;01mif\u001b[39;00m capturable \u001b[38;5;129;01mor\u001b[39;00m differentiable:\n\u001b[0;32m    383\u001b[0m     step \u001b[38;5;241m=\u001b[39m step_t\n",
      "\u001b[1;31mKeyboardInterrupt\u001b[0m: "
     ]
    }
   ],
   "source": [
    "DQN_Agent1 = DQN_Agent(\n",
    "    env=env, alpha=0.1, gamma=0.95, epsilon=1, epsilon_decay=0.99, epsilon_min=0.01, memory_size=10000, batch_size=32, target_update=10\n",
    ")\n",
    "DQN_q_table = DQN_Agent1.train(100,0)"
   ]
  },
  {
   "cell_type": "code",
   "execution_count": 139,
   "id": "dd1ee442",
   "metadata": {
    "scrolled": false
   },
   "outputs": [
    {
     "name": "stdout",
     "output_type": "stream",
     "text": [
      "Monte Carlo \n",
      " Average reward:  -128.00350487686217 \n",
      " Stuck:  0 \n",
      " Empty Q-values:  0.04956629491945477 %\n",
      "SARSA \n",
      " Average reward:  -151.3252165756868 \n",
      " Stuck:  0 \n",
      " Empty Q-values:  10.844892812105927 %\n",
      "Q-Learning \n",
      " Average reward:  -65.68236158127439 \n",
      " Stuck:  0 \n",
      " Empty Q-values:  11.069182389937108 %\n",
      "Deep Q-Network \n",
      " Average reward:  -63.44136258493542 \n",
      " Stuck:  0 \n",
      " Empty Q-values:  0.0 %\n"
     ]
    }
   ],
   "source": [
    "MC_avg,MC_stuck = evaluate_q_table(MC_q_table, env, num_episodes=1000)\n",
    "MC_empty = calculate_empty_q_percentage(MC_q_table)\n",
    "print(\"Monte Carlo \\n Average reward: \", MC_avg ,\"\\n Stuck: \", MC_stuck , \"\\n Empty Q-values: \", MC_empty, \"%\")\n",
    "\n",
    "SARSA_avg,SARSA_stuck = evaluate_q_table(SARSA_q_table, env, num_episodes=1000)\n",
    "SARSA_empty = calculate_empty_q_percentage(SARSA_q_table)\n",
    "print(\"SARSA \\n Average reward: \", SARSA_avg ,\"\\n Stuck: \", SARSA_stuck , \"\\n Empty Q-values: \", SARSA_empty, \"%\")\n",
    "\n",
    "QLEARN_avg,QLEARN_stuck = evaluate_q_table(QLEARN_q_table, env, num_episodes=1000)\n",
    "QLEARN_empty = calculate_empty_q_percentage(QLEARN_q_table)\n",
    "print(\"Q-Learning \\n Average reward: \", QLEARN_avg ,\"\\n Stuck: \", QLEARN_stuck , \"\\n Empty Q-values: \", QLEARN_empty, \"%\")\n",
    "\n",
    "DQN_avg,DQN_stuck = evaluate_q_table(DQN_q_table, env, num_episodes=1000)\n",
    "DQN_empty = calculate_empty_q_percentage(DQN_q_table)\n",
    "print(\"Deep Q-Network \\n Average reward: \", DQN_avg ,\"\\n Stuck: \", DQN_stuck , \"\\n Empty Q-values: \", DQN_empty, \"%\")"
   ]
  },
  {
   "cell_type": "code",
   "execution_count": 98,
   "id": "82154036",
   "metadata": {
    "scrolled": true
   },
   "outputs": [
    {
     "name": "stdout",
     "output_type": "stream",
     "text": [
      "Average reward for (10, 0.01, 0.1, 0.9): -5006.917044260652\n",
      "Average reward for (10, 0.01, 0.1, 0.99): -5005.9146426030175\n",
      "Average reward for (10, 0.01, 0.1, 0.999): -5006.917044260652\n",
      "Average reward for (10, 0.01, 0.5, 0.9): -5044.041956292983\n",
      "Average reward for (10, 0.01, 0.5, 0.99): -5007.152350917899\n",
      "Average reward for (10, 0.01, 0.5, 0.999): -5006.06327716388\n",
      "Average reward for (10, 0.01, 0.9, 0.9): -5005.487759054632\n",
      "Average reward for (10, 0.01, 0.9, 0.99): -5007.152350917899\n",
      "Average reward for (10, 0.01, 0.9, 0.999): -5006.629285206028\n",
      "Average reward for (10, 0.01, 1, 0.9): -5007.343927809038\n",
      "Average reward for (10, 0.01, 1, 0.99): -5007.562124616793\n",
      "Average reward for (10, 0.01, 1, 0.999): -5006.060399573334\n",
      "Average reward for (10, 0.1, 0.1, 0.9): -5008.5816361239185\n",
      "Average reward for (10, 0.1, 0.1, 0.99): -5005.487759054632\n",
      "Average reward for (10, 0.1, 0.1, 0.999): -5006.4901607122665\n",
      "Average reward for (10, 0.1, 0.5, 0.9): -5007.440109972523\n",
      "Average reward for (10, 0.1, 0.5, 0.99): -5005.487759054632\n",
      "Average reward for (10, 0.1, 0.5, 0.999): -5007.336781383008\n",
      "Average reward for (10, 0.1, 0.9, 0.9): -5007.727869027146\n",
      "Average reward for (10, 0.1, 0.9, 0.99): -5048.400398502112\n",
      "Average reward for (10, 0.1, 0.9, 0.999): -5006.06327716388\n",
      "Average reward for (10, 0.1, 1, 0.9): -5005.9146426030175\n",
      "Average reward for (10, 0.1, 1, 0.99): -5006.4901607122665\n",
      "Average reward for (10, 0.1, 1, 0.999): -5006.06327716388\n",
      "Average reward for (10, 0.3, 0.1, 0.9): -5005.200000000008\n",
      "Average reward for (10, 0.3, 0.1, 0.99): -5011.005161780743\n",
      "Average reward for (10, 0.3, 0.1, 0.999): -5007.3581929096845\n",
      "Average reward for (10, 0.3, 0.5, 0.9): -5005.200000000008\n",
      "Average reward for (10, 0.3, 0.5, 0.99): -5006.06327716388\n",
      "Average reward for (10, 0.3, 0.5, 0.999): -5007.810347514419\n",
      "Average reward for (10, 0.3, 0.9, 0.9): -5070.899157873471\n",
      "Average reward for (10, 0.3, 0.9, 0.99): -5038.051956453514\n",
      "Average reward for (10, 0.3, 0.9, 0.999): -5006.629285206028\n",
      "Average reward for (10, 0.3, 1, 0.9): -5105.0507851063385\n",
      "Average reward for (10, 0.3, 1, 0.99): -5009.582812266092\n",
      "Average reward for (10, 0.3, 1, 0.999): -5007.675978054213\n",
      "Average reward for (10, 0.6, 0.1, 0.9): -5040.9240336828125\n",
      "Average reward for (10, 0.6, 0.1, 0.99): -5005.775518109257\n",
      "Average reward for (10, 0.6, 0.1, 0.999): -5008.154752575533\n",
      "Average reward for (10, 0.6, 0.5, 0.9): -5007.866993520908\n",
      "Average reward for (10, 0.6, 0.5, 0.99): -5006.92655432775\n",
      "Average reward for (10, 0.6, 0.5, 0.999): -5007.425377639799\n",
      "Average reward for (10, 0.6, 0.9, 0.9): -5039.300203492011\n",
      "Average reward for (10, 0.6, 0.9, 0.99): -5070.831973143366\n",
      "Average reward for (10, 0.6, 0.9, 0.999): -5008.159507609082\n",
      "Average reward for (10, 0.6, 1, 0.9): -5038.339715508141\n",
      "Average reward for (10, 0.6, 1, 0.99): -5005.487759054632\n",
      "Average reward for (10, 0.6, 1, 0.999): -5006.7826748004445\n",
      "Average reward for (10, 1, 0.1, 0.9): -5007.882287278074\n",
      "Average reward for (10, 1, 0.1, 0.99): -5006.202401657642\n",
      "Average reward for (10, 1, 0.1, 0.999): -5007.708345517968\n",
      "Average reward for (10, 1, 0.5, 0.9): -5007.065678821521\n",
      "Average reward for (10, 1, 0.5, 0.99): -5006.993739057866\n",
      "Average reward for (10, 1, 0.5, 0.999): -5006.06327716388\n",
      "Average reward for (10, 1, 0.9, 0.9): -5005.200000000008\n",
      "Average reward for (10, 1, 0.9, 0.99): -5007.810347514419\n",
      "Average reward for (10, 1, 0.9, 0.999): -5006.622138779998\n",
      "Average reward for (10, 1, 1, 0.9): -5038.843293853736\n",
      "Average reward for (10, 1, 1, 0.99): -5008.154752575533\n",
      "Average reward for (10, 1, 1, 0.999): -5006.06327716388\n",
      "Average reward for (20, 0.01, 0.1, 0.9): -5057.450789004734\n",
      "Average reward for (20, 0.01, 0.1, 0.99): -5008.303387136395\n",
      "Average reward for (20, 0.01, 0.1, 0.999): -5070.544214088742\n",
      "Average reward for (20, 0.01, 0.5, 0.9): -5005.487759054632\n",
      "Average reward for (20, 0.01, 0.5, 0.99): -5009.721936759849\n",
      "Average reward for (20, 0.01, 0.5, 0.999): -5009.022784772961\n",
      "Average reward for (20, 0.01, 0.9, 0.9): -5039.880476634801\n",
      "Average reward for (20, 0.01, 0.9, 0.99): -5040.994354213092\n",
      "Average reward for (20, 0.01, 0.9, 0.999): -5005.200000000008\n",
      "Average reward for (20, 0.01, 1, 0.9): -5006.135216927541\n",
      "Average reward for (20, 0.01, 1, 0.99): -5042.09396669073\n",
      "Average reward for (20, 0.01, 1, 0.999): -5005.7726405187095\n",
      "Average reward for (20, 0.1, 0.1, 0.9): -5049.273652965163\n",
      "Average reward for (20, 0.1, 0.1, 0.99): -5006.8079458567845\n",
      "Average reward for (20, 0.1, 0.1, 0.999): -5006.06327716388\n",
      "Average reward for (20, 0.1, 0.5, 0.9): -5008.786719832315\n",
      "Average reward for (20, 0.1, 0.5, 0.99): -5006.274341421297\n",
      "Average reward for (20, 0.1, 0.5, 0.999): -5038.406900238245\n",
      "Average reward for (20, 0.1, 0.9, 0.9): -5006.422975982155\n",
      "Average reward for (20, 0.1, 0.9, 0.99): -5010.5844556403235\n",
      "Average reward for (20, 0.1, 0.9, 0.999): -5009.048055829301\n",
      "Average reward for (20, 0.1, 1, 0.9): -5055.017482907698\n",
      "Average reward for (20, 0.1, 1, 0.99): -5090.512190482276\n",
      "Average reward for (20, 0.1, 1, 0.999): -5010.286325568624\n",
      "Average reward for (20, 0.3, 0.1, 0.9): -5054.422801948248\n",
      "Average reward for (20, 0.3, 0.1, 0.99): -5007.512049736178\n",
      "Average reward for (20, 0.3, 0.1, 0.999): -5072.496565006634\n",
      "Average reward for (20, 0.3, 0.5, 0.9): -5059.795439206525\n",
      "Average reward for (20, 0.3, 0.5, 0.99): -5006.271963904528\n",
      "Average reward for (20, 0.3, 0.5, 0.999): -5039.557936456738\n",
      "Average reward for (20, 0.3, 0.9, 0.9): -5006.279096454847\n",
      "Average reward for (20, 0.3, 0.9, 0.99): -5006.274341421297\n",
      "Average reward for (20, 0.3, 0.9, 0.999): -5117.35081978944\n",
      "Average reward for (20, 0.3, 1, 0.9): -5011.545140483157\n",
      "Average reward for (20, 0.3, 1, 0.99): -5008.105239119374\n",
      "Average reward for (20, 0.3, 1, 0.999): -5009.377728557684\n",
      "Average reward for (20, 0.6, 0.1, 0.9): -5010.109284151248\n",
      "Average reward for (20, 0.6, 0.1, 0.99): -5043.780226578099\n",
      "Average reward for (20, 0.6, 0.1, 0.999): -5040.7956447716315\n",
      "Average reward for (20, 0.6, 0.5, 0.9): -5007.775566390974\n",
      "Average reward for (20, 0.6, 0.5, 0.99): -5011.818167205057\n",
      "Average reward for (20, 0.6, 0.5, 0.999): -5005.847457872915\n",
      "Average reward for (20, 0.6, 0.9, 0.9): -5044.660613591465\n",
      "Average reward for (20, 0.6, 0.9, 0.99): -5011.362286223296\n",
      "Average reward for (20, 0.6, 0.9, 0.999): -5008.1700463327\n",
      "Average reward for (20, 0.6, 1, 0.9): -5082.315202510951\n",
      "Average reward for (20, 0.6, 1, 0.99): -5044.0417594340215\n",
      "Average reward for (20, 0.6, 1, 0.999): -5039.300203492011\n",
      "Average reward for (20, 1, 0.1, 0.9): -5044.118454231236\n",
      "Average reward for (20, 1, 0.1, 0.99): -5008.591146191022\n",
      "Average reward for (20, 1, 0.1, 0.999): -5006.8079458567845\n",
      "Average reward for (20, 1, 0.5, 0.9): -5060.2268809295065\n",
      "Average reward for (20, 1, 0.5, 0.99): -5010.56896502421\n",
      "Average reward for (20, 1, 0.5, 0.999): -5009.357482908018\n",
      "Average reward for (20, 1, 0.9, 0.9): -5007.866993520908\n",
      "Average reward for (20, 1, 0.9, 0.99): -5040.52080195739\n",
      "Average reward for (20, 1, 0.9, 0.999): -5038.827223389359\n",
      "Average reward for (20, 1, 1, 0.9): -5012.863904910889\n",
      "Average reward for (20, 1, 1, 0.99): -5008.045654171666\n",
      "Average reward for (20, 1, 1, 0.999): -5005.9146426030175\n",
      "Average reward for (40, 0.01, 0.1, 0.9): -5134.855369803682\n",
      "Average reward for (40, 0.01, 0.1, 0.99): -5052.065235506063\n",
      "Average reward for (40, 0.01, 0.1, 0.999): -5038.5555347991\n",
      "Average reward for (40, 0.01, 0.5, 0.9): -5006.9889840243095\n",
      "Average reward for (40, 0.01, 0.5, 0.99): -5057.741683859534\n",
      "Average reward for (40, 0.01, 0.5, 0.999): -5006.847482013781\n",
      "Average reward for (40, 0.01, 0.9, 0.9): -5010.2207600719\n",
      "Average reward for (40, 0.01, 0.9, 0.99): -5010.930844500311\n",
      "Average reward for (40, 0.01, 0.9, 0.999): -5007.638819413994\n",
      "Average reward for (40, 0.01, 1, 0.9): -5015.201225703402\n",
      "Average reward for (40, 0.01, 1, 0.99): -5043.040312918741\n",
      "Average reward for (40, 0.01, 1, 0.999): -5006.882263137207\n",
      "Average reward for (40, 0.1, 0.1, 0.9): -5011.393464314485\n",
      "Average reward for (40, 0.1, 0.1, 0.99): -5046.529964647056\n",
      "Average reward for (40, 0.1, 0.1, 0.999): -5015.50209785737\n",
      "Average reward for (40, 0.1, 0.5, 0.9): -5123.470867822896\n",
      "Average reward for (40, 0.1, 0.5, 0.99): -5011.647864620099\n",
      "Average reward for (40, 0.1, 0.5, 0.999): -5055.335268052212\n",
      "Average reward for (40, 0.1, 0.9, 0.9): -5006.524941835709\n",
      "Average reward for (40, 0.1, 0.9, 0.99): -5008.392998174001\n",
      "Average reward for (40, 0.1, 0.9, 0.999): -5014.578571654765\n",
      "Average reward for (40, 0.1, 1, 0.9): -5005.200000000008\n",
      "Average reward for (40, 0.1, 1, 0.99): -5006.668821363026\n"
     ]
    },
    {
     "name": "stdout",
     "output_type": "stream",
     "text": [
      "Average reward for (40, 0.1, 1, 0.999): -5048.184579211148\n",
      "Average reward for (40, 0.3, 0.1, 0.9): -5125.048029306374\n",
      "Average reward for (40, 0.3, 0.1, 0.99): -5011.329882616628\n",
      "Average reward for (40, 0.3, 0.1, 0.999): -5011.036143012985\n",
      "Average reward for (40, 0.3, 0.5, 0.9): -5007.861771255285\n",
      "Average reward for (40, 0.3, 0.5, 0.99): -5010.895866517921\n",
      "Average reward for (40, 0.3, 0.5, 0.999): -5006.093303253775\n",
      "Average reward for (40, 0.3, 0.9, 0.9): -5009.14242190045\n",
      "Average reward for (40, 0.3, 0.9, 0.99): -5007.502072437005\n",
      "Average reward for (40, 0.3, 0.9, 0.999): -5049.14744471179\n",
      "Average reward for (40, 0.3, 1, 0.9): -5051.198482967065\n",
      "Average reward for (40, 0.3, 1, 0.99): -5048.358484828346\n",
      "Average reward for (40, 0.3, 1, 0.999): -5032.770678078832\n",
      "Average reward for (40, 0.6, 0.1, 0.9): -5083.149679100399\n",
      "Average reward for (40, 0.6, 0.1, 0.99): -5088.388074555599\n",
      "Average reward for (40, 0.6, 0.1, 0.999): -5053.054720923305\n",
      "Average reward for (40, 0.6, 0.5, 0.9): -5012.521315942103\n",
      "Average reward for (40, 0.6, 0.5, 0.99): -5011.303656417936\n",
      "Average reward for (40, 0.6, 0.5, 0.999): -5014.468050876459\n",
      "Average reward for (40, 0.6, 0.9, 0.9): -5011.65261965364\n",
      "Average reward for (40, 0.6, 0.9, 0.99): -5050.439421516388\n",
      "Average reward for (40, 0.6, 0.9, 0.999): -5008.000137465651\n",
      "Average reward for (40, 0.6, 1, 0.9): -5061.647611210793\n",
      "Average reward for (40, 0.6, 1, 0.99): -5177.870605730993\n",
      "Average reward for (40, 0.6, 1, 0.999): -5009.994205198349\n",
      "Average reward for (40, 1, 0.1, 0.9): -5101.136504001634\n",
      "Average reward for (40, 1, 0.1, 0.99): -5094.553708496888\n",
      "Average reward for (40, 1, 0.1, 0.999): -5041.736645389222\n",
      "Average reward for (40, 1, 0.5, 0.9): -5104.995885990364\n",
      "Average reward for (40, 1, 0.5, 0.99): -5010.57646214002\n",
      "Average reward for (40, 1, 0.5, 0.999): -5010.080877294736\n",
      "Average reward for (40, 1, 0.9, 0.9): -5005.631638581941\n",
      "Average reward for (40, 1, 0.9, 0.99): -5006.810323373554\n",
      "Average reward for (40, 1, 0.9, 0.999): -5009.586415298337\n",
      "Average reward for (40, 1, 1, 0.9): -5008.935354393184\n",
      "Average reward for (40, 1, 1, 0.99): -5156.891209835328\n",
      "Average reward for (40, 1, 1, 0.999): -5009.24676527077\n",
      "Average reward for (80, 0.01, 0.1, 0.9): -5057.307667760819\n",
      "Average reward for (80, 0.01, 0.1, 0.99): -5086.430644088076\n",
      "Average reward for (80, 0.01, 0.1, 0.999): -5062.06145086166\n",
      "Average reward for (80, 0.01, 0.5, 0.9): -5220.622723033747\n",
      "Average reward for (80, 0.01, 0.5, 0.99): -5022.025898991269\n",
      "Average reward for (80, 0.01, 0.5, 0.999): -5122.031171550373\n",
      "Average reward for (80, 0.01, 0.9, 0.9): -5020.0192795836665\n",
      "Average reward for (80, 0.01, 0.9, 0.99): -5121.009154869339\n",
      "Average reward for (80, 0.01, 0.9, 0.999): -5010.751986990605\n",
      "Average reward for (80, 0.01, 1, 0.9): -5074.69469210357\n",
      "Average reward for (80, 0.01, 1, 0.99): -5054.657784089406\n",
      "Average reward for (80, 0.01, 1, 0.999): -5091.407309828381\n",
      "Average reward for (80, 0.1, 0.1, 0.9): -5065.502671933285\n",
      "Average reward for (80, 0.1, 0.1, 0.99): -5133.384732348339\n",
      "Average reward for (80, 0.1, 0.1, 0.999): -5142.50421786576\n",
      "Average reward for (80, 0.1, 0.5, 0.9): -5006.998494091406\n",
      "Average reward for (80, 0.1, 0.5, 0.99): -5150.433061805864\n",
      "Average reward for (80, 0.1, 0.5, 0.999): -5063.500246134782\n",
      "Average reward for (80, 0.1, 0.9, 0.9): -5096.439199200749\n",
      "Average reward for (80, 0.1, 0.9, 0.99): -5225.745715019955\n",
      "Average reward for (80, 0.1, 0.9, 0.999): -5052.461137822206\n",
      "Average reward for (80, 0.1, 1, 0.9): -5058.746463033939\n",
      "Average reward for (80, 0.1, 1, 0.99): -5091.789631813103\n",
      "Average reward for (80, 0.1, 1, 0.999): -5146.499756254622\n",
      "Average reward for (80, 0.3, 0.1, 0.9): -5170.341197937444\n",
      "Average reward for (80, 0.3, 0.1, 0.99): -5017.767208513105\n",
      "Average reward for (80, 0.3, 0.1, 0.999): -5007.7012491105515\n",
      "Average reward for (80, 0.3, 0.5, 0.9): -5089.16372448074\n",
      "Average reward for (80, 0.3, 0.5, 0.99): -5077.392736058529\n",
      "Average reward for (80, 0.3, 0.5, 0.999): -5047.4699366081395\n",
      "Average reward for (80, 0.3, 0.9, 0.9): -5016.524548305726\n",
      "Average reward for (80, 0.3, 0.9, 0.99): -5083.998888022593\n",
      "Average reward for (80, 0.3, 0.9, 0.999): -5096.532610129546\n",
      "Average reward for (80, 0.3, 1, 0.9): -5062.797692286938\n",
      "Average reward for (80, 0.3, 1, 0.99): -5082.827897205741\n",
      "Average reward for (80, 0.3, 1, 0.999): -5142.024488202081\n",
      "Average reward for (80, 0.6, 0.1, 0.9): -5078.40766023867\n",
      "Average reward for (80, 0.6, 0.1, 0.99): -5141.129004290496\n",
      "Average reward for (80, 0.6, 0.1, 0.999): -5069.115381055919\n",
      "Average reward for (80, 0.6, 0.5, 0.9): -5013.6216867031335\n",
      "Average reward for (80, 0.6, 0.5, 0.99): -5013.273875468723\n",
      "Average reward for (80, 0.6, 0.5, 0.999): -5079.334912818301\n",
      "Average reward for (80, 0.6, 0.9, 0.9): -5019.360057471668\n",
      "Average reward for (80, 0.6, 0.9, 0.99): -5174.058881056685\n",
      "Average reward for (80, 0.6, 0.9, 0.999): -5008.898954036369\n",
      "Average reward for (80, 0.6, 1, 0.9): -5082.783606015203\n",
      "Average reward for (80, 0.6, 1, 0.99): -5014.034034777746\n",
      "Average reward for (80, 0.6, 1, 0.999): -5069.113043588556\n",
      "Average reward for (80, 1, 0.1, 0.9): -5059.1361879421165\n",
      "Average reward for (80, 1, 0.1, 0.99): -5137.7588620325405\n",
      "Average reward for (80, 1, 0.1, 0.999): -5008.671247161518\n",
      "Average reward for (80, 1, 0.5, 0.9): -5013.349418264625\n",
      "Average reward for (80, 1, 0.5, 0.99): -5060.77712798242\n",
      "Average reward for (80, 1, 0.5, 0.999): -5010.543300249959\n",
      "Average reward for (80, 1, 0.9, 0.9): -5010.2402474381715\n",
      "Average reward for (80, 1, 0.9, 0.99): -5050.936428736101\n",
      "Average reward for (80, 1, 0.9, 0.999): -5202.163104160212\n",
      "Average reward for (80, 1, 1, 0.9): -5090.187272787443\n",
      "Average reward for (80, 1, 1, 0.99): -5012.47616380158\n",
      "Average reward for (80, 1, 1, 0.999): -5042.388669067503\n",
      "Average reward for (160, 0.01, 0.1, 0.9): -5092.862427515202\n",
      "Average reward for (160, 0.01, 0.1, 0.99): -5091.054743560421\n",
      "Average reward for (160, 0.01, 0.1, 0.999): -5021.102569647613\n",
      "Average reward for (160, 0.01, 0.5, 0.9): -5092.030919019365\n",
      "Average reward for (160, 0.01, 0.5, 0.99): -5011.147225215722\n",
      "Average reward for (160, 0.01, 0.5, 0.999): -5095.7043109480555\n",
      "Average reward for (160, 0.01, 0.9, 0.9): -5089.512166341421\n",
      "Average reward for (160, 0.01, 0.9, 0.99): -5012.586881438828\n",
      "Average reward for (160, 0.01, 0.9, 0.999): -5062.707614017262\n",
      "Average reward for (160, 0.01, 1, 0.9): -5077.62107787199\n",
      "Average reward for (160, 0.01, 1, 0.99): -5094.502142040021\n",
      "Average reward for (160, 0.01, 1, 0.999): -5061.794065113821\n",
      "Average reward for (160, 0.1, 0.1, 0.9): -5097.722227362686\n",
      "Average reward for (160, 0.1, 0.1, 0.99): -5234.973146939946\n",
      "Average reward for (160, 0.1, 0.1, 0.999): -5073.349431104009\n",
      "Average reward for (160, 0.1, 0.5, 0.9): -5098.031654441403\n",
      "Average reward for (160, 0.1, 0.5, 0.99): -5088.819122560683\n",
      "Average reward for (160, 0.1, 0.5, 0.999): -5017.6943136070995\n",
      "Average reward for (160, 0.1, 0.9, 0.9): -5095.71560795508\n",
      "Average reward for (160, 0.1, 0.9, 0.99): -5093.469714292495\n",
      "Average reward for (160, 0.1, 0.9, 0.999): -5021.106172679861\n",
      "Average reward for (160, 0.1, 1, 0.9): -5014.050947768298\n",
      "Average reward for (160, 0.1, 1, 0.99): -5083.835914846911\n",
      "Average reward for (160, 0.1, 1, 0.999): -5147.262165423291\n",
      "Average reward for (160, 0.3, 0.1, 0.9): -5096.3517688209695\n",
      "Average reward for (160, 0.3, 0.1, 0.99): -5009.752159708699\n",
      "Average reward for (160, 0.3, 0.1, 0.999): -5094.125333372238\n",
      "Average reward for (160, 0.3, 0.5, 0.9): -5017.016239067446\n",
      "Average reward for (160, 0.3, 0.5, 0.99): -5156.771897223914\n",
      "Average reward for (160, 0.3, 0.5, 0.999): -5018.808191185385\n",
      "Average reward for (160, 0.3, 0.9, 0.9): -5013.246226895604\n",
      "Average reward for (160, 0.3, 0.9, 0.99): -5025.584773391521\n",
      "Average reward for (160, 0.3, 0.9, 0.999): -5094.355024045959\n",
      "Average reward for (160, 0.3, 1, 0.9): -5166.201473911082\n",
      "Average reward for (160, 0.3, 1, 0.99): -5013.216835744341\n",
      "Average reward for (160, 0.3, 1, 0.999): -5143.174298905112\n",
      "Average reward for (160, 0.6, 0.1, 0.9): -5090.400714561638\n",
      "Average reward for (160, 0.6, 0.1, 0.99): -5009.3139500008765\n",
      "Average reward for (160, 0.6, 0.1, 0.999): -5147.04634613232\n",
      "Average reward for (160, 0.6, 0.5, 0.9): -5011.951311149802\n",
      "Average reward for (160, 0.6, 0.5, 0.99): -5024.585142968554\n",
      "Average reward for (160, 0.6, 0.5, 0.999): -5019.33941810409\n",
      "Average reward for (160, 0.6, 0.9, 0.9): -5092.632790984434\n"
     ]
    },
    {
     "name": "stdout",
     "output_type": "stream",
     "text": [
      "Average reward for (160, 0.6, 0.9, 0.99): -5024.913269977744\n",
      "Average reward for (160, 0.6, 0.9, 0.999): -5130.802594831482\n",
      "Average reward for (160, 0.6, 1, 0.9): -5171.797299919015\n",
      "Average reward for (160, 0.6, 1, 0.99): -5152.6668667132835\n",
      "Average reward for (160, 0.6, 1, 0.999): -5013.977585630216\n",
      "Average reward for (160, 1, 0.1, 0.9): -5151.990677467792\n",
      "Average reward for (160, 1, 0.1, 0.99): -5007.634064380446\n",
      "Average reward for (160, 1, 0.1, 0.999): -5013.210293770866\n",
      "Average reward for (160, 1, 0.5, 0.9): -5012.2816188168035\n",
      "Average reward for (160, 1, 0.5, 0.99): -5169.056875058206\n",
      "Average reward for (160, 1, 0.5, 0.999): -5016.590901238272\n",
      "Average reward for (160, 1, 0.9, 0.9): -5085.679335067474\n",
      "Average reward for (160, 1, 0.9, 0.99): -5009.102885743453\n",
      "Average reward for (160, 1, 0.9, 0.999): -5092.728451772884\n",
      "Average reward for (160, 1, 1, 0.9): -5164.311519225005\n",
      "Average reward for (160, 1, 1, 0.99): -5013.297724150642\n",
      "Average reward for (160, 1, 1, 0.999): -5082.1233595590265\n",
      "Average reward for (300, 0.01, 0.1, 0.9): -5091.311521382806\n",
      "Average reward for (300, 0.01, 0.1, 0.99): -5092.606437128618\n",
      "Average reward for (300, 0.01, 0.1, 0.999): -5009.492610651631\n",
      "Average reward for (300, 0.01, 0.5, 0.9): -5012.264341260769\n",
      "Average reward for (300, 0.01, 0.5, 0.99): -5088.9366482321675\n",
      "Average reward for (300, 0.01, 0.5, 0.999): -5015.493346073668\n",
      "Average reward for (300, 0.01, 0.9, 0.9): -5171.31832853874\n",
      "Average reward for (300, 0.01, 0.9, 0.99): -5010.033347637436\n",
      "Average reward for (300, 0.01, 0.9, 0.999): -5008.425401780657\n",
      "Average reward for (300, 0.01, 1, 0.9): -5015.193064496555\n",
      "Average reward for (300, 0.01, 1, 0.99): -5171.055840540464\n",
      "Average reward for (300, 0.01, 1, 0.999): -5091.192051961853\n",
      "Average reward for (300, 0.1, 0.1, 0.9): -5013.090459784428\n",
      "Average reward for (300, 0.1, 0.1, 0.99): -5010.0823938615285\n",
      "Average reward for (300, 0.1, 0.1, 0.999): -5087.150041724635\n",
      "Average reward for (300, 0.1, 0.5, 0.9): -5015.696642842144\n",
      "Average reward for (300, 0.1, 0.5, 0.99): -5173.621261925717\n",
      "Average reward for (300, 0.1, 0.5, 0.999): -5013.393709455167\n",
      "Average reward for (300, 0.1, 0.9, 0.9): -5094.321103872498\n",
      "Average reward for (300, 0.1, 0.9, 0.99): -5086.917437100245\n",
      "Average reward for (300, 0.1, 0.9, 0.999): -5015.5521727379755\n",
      "Average reward for (300, 0.1, 1, 0.9): -5014.770345404857\n",
      "Average reward for (300, 0.1, 1, 0.99): -5016.5653099781875\n",
      "Average reward for (300, 0.1, 1, 0.999): -5014.463295842913\n",
      "Average reward for (300, 0.3, 0.1, 0.9): -5096.889537713156\n",
      "Average reward for (300, 0.3, 0.1, 0.99): -5018.694337747966\n",
      "Average reward for (300, 0.3, 0.1, 0.999): -5161.14616962412\n",
      "Average reward for (300, 0.3, 0.5, 0.9): -5083.862702470054\n",
      "Average reward for (300, 0.3, 0.5, 0.99): -5101.441697421837\n",
      "Average reward for (300, 0.3, 0.5, 0.999): -5091.063229283353\n",
      "Average reward for (300, 0.3, 0.9, 0.9): -5179.806766204657\n",
      "Average reward for (300, 0.3, 0.9, 0.99): -5028.1730883163345\n",
      "Average reward for (300, 0.3, 0.9, 0.999): -5087.217718677377\n",
      "Average reward for (300, 0.3, 1, 0.9): -5094.0447986344125\n",
      "Average reward for (300, 0.3, 1, 0.99): -5016.938121895825\n",
      "Average reward for (300, 0.3, 1, 0.999): -5028.2058564885\n",
      "Average reward for (300, 0.6, 0.1, 0.9): -5166.781225678856\n",
      "Average reward for (300, 0.6, 0.1, 0.99): -5024.178381725058\n",
      "Average reward for (300, 0.6, 0.1, 0.999): -5008.594552364317\n",
      "Average reward for (300, 0.6, 0.5, 0.9): -5185.252622885026\n",
      "Average reward for (300, 0.6, 0.5, 0.99): -5081.175660158424\n",
      "Average reward for (300, 0.6, 0.5, 0.999): -5087.448664018962\n",
      "Average reward for (300, 0.6, 0.9, 0.9): -5020.46280574948\n",
      "Average reward for (300, 0.6, 0.9, 0.99): -5168.8859418469865\n",
      "Average reward for (300, 0.6, 0.9, 0.999): -5163.016534277359\n",
      "Average reward for (300, 0.6, 1, 0.9): -5077.732553792637\n",
      "Average reward for (300, 0.6, 1, 0.99): -5088.634875078803\n",
      "Average reward for (300, 0.6, 1, 0.999): -5023.522930351847\n",
      "Average reward for (300, 1, 0.1, 0.9): -5087.504842793373\n",
      "Average reward for (300, 1, 0.1, 0.99): -5008.606439948194\n",
      "Average reward for (300, 1, 0.1, 0.999): -5092.878508708178\n",
      "Average reward for (300, 1, 0.5, 0.9): -5225.918325919867\n",
      "Average reward for (300, 1, 0.5, 0.99): -5162.083694866605\n",
      "Average reward for (300, 1, 0.5, 0.999): -5014.535629324474\n",
      "Average reward for (300, 1, 0.9, 0.9): -5170.311664070181\n",
      "Average reward for (300, 1, 0.9, 0.99): -5014.21685988521\n",
      "Average reward for (300, 1, 0.9, 0.999): -5090.251179001386\n",
      "Average reward for (300, 1, 1, 0.9): -5020.92724165598\n",
      "Average reward for (300, 1, 1, 0.99): -5091.713626097479\n",
      "Average reward for (300, 1, 1, 0.999): -5018.389468843839\n",
      "Average reward for (600, 0.01, 0.1, 0.9): -5168.380685812705\n",
      "Average reward for (600, 0.01, 0.1, 0.99): -5088.038589944863\n",
      "Average reward for (600, 0.01, 0.1, 0.999): -5015.681152226025\n",
      "Average reward for (600, 0.01, 0.5, 0.9): -5014.122887531954\n",
      "Average reward for (600, 0.01, 0.5, 0.99): -5007.634064380446\n",
      "Average reward for (600, 0.01, 0.5, 0.999): -5011.519672567854\n",
      "Average reward for (600, 0.01, 0.9, 0.9): -5087.653620070233\n",
      "Average reward for (600, 0.01, 0.9, 0.99): -5086.430644088076\n",
      "Average reward for (600, 0.01, 0.9, 0.999): -5091.958979255713\n",
      "Average reward for (600, 0.01, 1, 0.9): -5088.505009650234\n",
      "Average reward for (600, 0.01, 1, 0.99): -5011.86748380227\n",
      "Average reward for (600, 0.01, 1, 0.999): -5098.031654441403\n",
      "Average reward for (600, 0.1, 0.1, 0.9): -5016.569700446245\n",
      "Average reward for (600, 0.1, 0.1, 0.99): -5167.661288176146\n",
      "Average reward for (600, 0.1, 0.1, 0.999): -5013.475429659046\n",
      "Average reward for (600, 0.1, 0.5, 0.9): -5097.852993790646\n",
      "Average reward for (600, 0.1, 0.5, 0.99): -5016.801010353322\n",
      "Average reward for (600, 0.1, 0.5, 0.999): -5009.82409947235\n",
      "Average reward for (600, 0.1, 0.9, 0.9): -5083.6911743696155\n",
      "Average reward for (600, 0.1, 0.9, 0.99): -5094.701840088601\n",
      "Average reward for (600, 0.1, 0.9, 0.999): -5092.621337167883\n",
      "Average reward for (600, 0.1, 1, 0.9): -5093.23820752645\n",
      "Average reward for (600, 0.1, 1, 0.99): -5248.820641532718\n",
      "Average reward for (600, 0.1, 1, 0.999): -5018.099529131393\n",
      "Average reward for (600, 0.3, 0.1, 0.9): -5008.00565078259\n",
      "Average reward for (600, 0.3, 0.1, 0.99): -5015.681152226025\n",
      "Average reward for (600, 0.3, 0.1, 0.999): -5021.800496119032\n",
      "Average reward for (600, 0.3, 0.5, 0.9): -5088.190955195091\n",
      "Average reward for (600, 0.3, 0.5, 0.99): -5097.943998050273\n",
      "Average reward for (600, 0.3, 0.5, 0.999): -5017.212767851096\n",
      "Average reward for (600, 0.3, 0.9, 0.9): -5169.468267990475\n",
      "Average reward for (600, 0.3, 0.9, 0.99): -5094.84390352359\n",
      "Average reward for (600, 0.3, 0.9, 0.999): -5024.394791592879\n",
      "Average reward for (600, 0.3, 1, 0.9): -5023.447387555948\n",
      "Average reward for (600, 0.3, 1, 0.99): -5089.8946159832785\n",
      "Average reward for (600, 0.3, 1, 0.999): -5092.981626563024\n",
      "Average reward for (600, 0.6, 0.1, 0.9): -5010.22389587207\n",
      "Average reward for (600, 0.6, 0.1, 0.99): -5089.667933452605\n",
      "Average reward for (600, 0.6, 0.1, 0.999): -5021.359347469998\n",
      "Average reward for (600, 0.6, 0.5, 0.9): -5081.265398853157\n",
      "Average reward for (600, 0.6, 0.5, 0.99): -5088.745957281545\n",
      "Average reward for (600, 0.6, 0.5, 0.999): -5012.4721670514255\n",
      "Average reward for (600, 0.6, 0.9, 0.9): -5104.9252258851275\n",
      "Average reward for (600, 0.6, 0.9, 0.99): -5101.525524769367\n",
      "Average reward for (600, 0.6, 0.9, 0.999): -5022.682276354423\n",
      "Average reward for (600, 0.6, 1, 0.9): -5030.323951816754\n",
      "Average reward for (600, 0.6, 1, 0.99): -5026.242376270143\n",
      "Average reward for (600, 0.6, 1, 0.999): -5110.401182169547\n",
      "Average reward for (600, 1, 0.1, 0.9): -5006.62928520603\n",
      "Average reward for (600, 1, 0.1, 0.99): -5007.070433855071\n",
      "Average reward for (600, 1, 0.1, 0.999): -5011.412090730794\n",
      "Average reward for (600, 1, 0.5, 0.9): -5087.649357259317\n",
      "Average reward for (600, 1, 0.5, 0.99): -5016.574229468425\n",
      "Average reward for (600, 1, 0.5, 0.999): -5090.83647755086\n",
      "Average reward for (600, 1, 0.9, 0.9): -5084.221770662057\n",
      "Average reward for (600, 1, 0.9, 0.99): -5160.439742370913\n",
      "Average reward for (600, 1, 0.9, 0.999): -5077.672501612861\n",
      "Average reward for (600, 1, 1, 0.9): -5078.530462318738\n",
      "Average reward for (600, 1, 1, 0.99): -5225.096371852905\n",
      "Average reward for (600, 1, 1, 0.999): -5247.345613609322\n"
     ]
    }
   ],
   "source": [
    "iteration_values = [10, 20, 40, 80, 160, 300, 600]\n",
    "alpha_values = [0.01,0.1,0.3,0.6,1]\n",
    "gamma_values = [0.1,0.5,0.9,1]\n",
    "epsilon_decay_values = [0.9,0.99,0.999]\n",
    "\n",
    "avg_rewards = grid_search(SARSA_Agent,iteration_values,alpha_values,gamma_values,epsilon_decay_values,100,3)"
   ]
  },
  {
   "cell_type": "code",
   "execution_count": 99,
   "id": "131c0e6f",
   "metadata": {
    "scrolled": false
   },
   "outputs": [
    {
     "data": {
      "image/png": "[encoded data removed]",
      "text/plain": [
       "<Figure size 1200x800 with 4 Axes>"
      ]
     },
     "metadata": {},
     "output_type": "display_data"
    }
   ],
   "source": [
    "plot_grid_search(avg_rewards)"
   ]
  },
  {
   "cell_type": "markdown",
   "id": "9a3cf503",
   "metadata": {},
   "source": [
    "Note: Performance is lowest around the time when the iterations end when epsilon hits epsilon_min."
   ]
  },
  {
   "cell_type": "code",
   "execution_count": 15,
   "id": "7eca0141",
   "metadata": {
    "scrolled": true
   },
   "outputs": [
    {
     "data": {
      "image/png": "[encoded data removed]",
      "text/plain": [
       "<Figure size 1000x1000 with 1 Axes>"
      ]
     },
     "metadata": {},
     "output_type": "display_data"
    }
   ],
   "source": [
    "plot_q_table_3d(QLEARN_q_table,env.cap)"
   ]
  },
  {
   "cell_type": "code",
   "execution_count": 130,
   "id": "10e5e361",
   "metadata": {
    "scrolled": true
   },
   "outputs": [
    {
     "data": {
      "application/vnd.plotly.v1+json": {
       "config": {
        "plotlyServerURL": "https://plot.ly"
       },
       "data": [
        {
         "line": {
          "color": "rgb(68, 1, 84)",
          "width": 2
         },
         "mode": "lines+markers",
         "name": "Action 11",
         "showlegend": true,
         "type": "scatter",
         "x": [
          0,
          1
         ],
         "y": [
          0,
          11
         ]
        },
        {
         "line": {
          "color": "rgb(68, 1, 84)",
          "width": 2
         },
         "mode": "lines+markers",
         "name": "Action 11",
         "showlegend": false,
         "type": "scatter",
         "x": [
          0,
          1
         ],
         "y": [
          11,
          22
         ]
        },
        {
         "line": {
          "color": "rgb(68, 1, 84)",
          "width": 2
         },
         "mode": "lines+markers",
         "name": "Action 11",
         "showlegend": false,
         "type": "scatter",
         "x": [
          0,
          1
         ],
         "y": [
          16,
          27
         ]
        },
        {
         "line": {
          "color": "rgb(68, 1, 84)",
          "width": 2
         },
         "mode": "lines+markers",
         "name": "Action 11",
         "showlegend": false,
         "type": "scatter",
         "x": [
          0,
          1
         ],
         "y": [
          30,
          41
         ]
        },
        {
         "line": {
          "color": "rgb(68, 1, 84)",
          "width": 2
         },
         "mode": "lines+markers",
         "name": "Action 11",
         "showlegend": false,
         "type": "scatter",
         "x": [
          0,
          1
         ],
         "y": [
          31,
          42
         ]
        },
        {
         "line": {
          "color": "rgb(68, 1, 84)",
          "width": 2
         },
         "mode": "lines+markers",
         "name": "Action 11",
         "showlegend": false,
         "type": "scatter",
         "x": [
          0,
          1
         ],
         "y": [
          33,
          44
         ]
        },
        {
         "line": {
          "color": "rgb(68, 1, 84)",
          "width": 2
         },
         "mode": "lines+markers",
         "name": "Action 11",
         "showlegend": false,
         "type": "scatter",
         "x": [
          0,
          1
         ],
         "y": [
          34,
          45
         ]
        },
        {
         "line": {
          "color": "rgb(68, 1, 84)",
          "width": 2
         },
         "mode": "lines+markers",
         "name": "Action 11",
         "showlegend": false,
         "type": "scatter",
         "x": [
          0,
          1
         ],
         "y": [
          37,
          48
         ]
        },
        {
         "line": {
          "color": "rgb(68, 1, 84)",
          "width": 2
         },
         "mode": "lines+markers",
         "name": "Action 11",
         "showlegend": false,
         "type": "scatter",
         "x": [
          0,
          1
         ],
         "y": [
          41,
          52
         ]
        },
        {
         "line": {
          "color": "rgb(68, 1, 84)",
          "width": 2
         },
         "mode": "lines+markers",
         "name": "Action 11",
         "showlegend": false,
         "type": "scatter",
         "x": [
          0,
          1
         ],
         "y": [
          46,
          57
         ]
        },
        {
         "line": {
          "color": "rgb(68, 1, 84)",
          "width": 2
         },
         "mode": "lines+markers",
         "name": "Action 11",
         "showlegend": false,
         "type": "scatter",
         "x": [
          0,
          1
         ],
         "y": [
          50,
          61
         ]
        },
        {
         "line": {
          "color": "rgb(68, 1, 84)",
          "width": 2
         },
         "mode": "lines+markers",
         "name": "Action 11",
         "showlegend": false,
         "type": "scatter",
         "x": [
          0,
          1
         ],
         "y": [
          58,
          69
         ]
        },
        {
         "line": {
          "color": "rgb(68, 1, 84)",
          "width": 2
         },
         "mode": "lines+markers",
         "name": "Action 11",
         "showlegend": false,
         "type": "scatter",
         "x": [
          0,
          1
         ],
         "y": [
          59,
          70
         ]
        },
        {
         "line": {
          "color": "rgb(68, 1, 84)",
          "width": 2
         },
         "mode": "lines+markers",
         "name": "Action 11",
         "showlegend": false,
         "type": "scatter",
         "x": [
          0,
          1
         ],
         "y": [
          61,
          72
         ]
        },
        {
         "line": {
          "color": "rgb(68, 1, 84)",
          "width": 2
         },
         "mode": "lines+markers",
         "name": "Action 11",
         "showlegend": false,
         "type": "scatter",
         "x": [
          0,
          1
         ],
         "y": [
          63,
          74
         ]
        },
        {
         "line": {
          "color": "rgb(68, 1, 84)",
          "width": 2
         },
         "mode": "lines+markers",
         "name": "Action 11",
         "showlegend": false,
         "type": "scatter",
         "x": [
          0,
          1
         ],
         "y": [
          65,
          76
         ]
        },
        {
         "line": {
          "color": "rgb(68, 1, 84)",
          "width": 2
         },
         "mode": "lines+markers",
         "name": "Action 11",
         "showlegend": false,
         "type": "scatter",
         "x": [
          0,
          1
         ],
         "y": [
          66,
          77
         ]
        },
        {
         "line": {
          "color": "rgb(68, 1, 84)",
          "width": 2
         },
         "mode": "lines+markers",
         "name": "Action 11",
         "showlegend": false,
         "type": "scatter",
         "x": [
          0,
          1
         ],
         "y": [
          67,
          78
         ]
        },
        {
         "line": {
          "color": "rgb(68, 1, 84)",
          "width": 2
         },
         "mode": "lines+markers",
         "name": "Action 11",
         "showlegend": false,
         "type": "scatter",
         "x": [
          0,
          1
         ],
         "y": [
          68,
          79
         ]
        },
        {
         "line": {
          "color": "rgb(68, 1, 84)",
          "width": 2
         },
         "mode": "lines+markers",
         "name": "Action 11",
         "showlegend": false,
         "type": "scatter",
         "x": [
          0,
          1
         ],
         "y": [
          74,
          85
         ]
        },
        {
         "line": {
          "color": "rgb(68, 1, 84)",
          "width": 2
         },
         "mode": "lines+markers",
         "name": "Action 11",
         "showlegend": false,
         "type": "scatter",
         "x": [
          0,
          1
         ],
         "y": [
          75,
          86
         ]
        },
        {
         "line": {
          "color": "rgb(68, 1, 84)",
          "width": 2
         },
         "mode": "lines+markers",
         "name": "Action 11",
         "showlegend": false,
         "type": "scatter",
         "x": [
          0,
          1
         ],
         "y": [
          76,
          87
         ]
        },
        {
         "line": {
          "color": "rgb(68, 1, 84)",
          "width": 2
         },
         "mode": "lines+markers",
         "name": "Action 11",
         "showlegend": false,
         "type": "scatter",
         "x": [
          0,
          1
         ],
         "y": [
          77,
          88
         ]
        },
        {
         "line": {
          "color": "rgb(68, 1, 84)",
          "width": 2
         },
         "mode": "lines+markers",
         "name": "Action 11",
         "showlegend": false,
         "type": "scatter",
         "x": [
          0,
          1
         ],
         "y": [
          78,
          89
         ]
        },
        {
         "line": {
          "color": "rgb(68, 1, 84)",
          "width": 2
         },
         "mode": "lines+markers",
         "name": "Action 11",
         "showlegend": false,
         "type": "scatter",
         "x": [
          0,
          1
         ],
         "y": [
          81,
          92
         ]
        },
        {
         "line": {
          "color": "rgb(68, 1, 84)",
          "width": 2
         },
         "mode": "lines+markers",
         "name": "Action 11",
         "showlegend": false,
         "type": "scatter",
         "x": [
          1,
          2
         ],
         "y": [
          1,
          12
         ]
        },
        {
         "line": {
          "color": "rgb(68, 1, 84)",
          "width": 2
         },
         "mode": "lines+markers",
         "name": "Action 11",
         "showlegend": false,
         "type": "scatter",
         "x": [
          1,
          2
         ],
         "y": [
          10,
          21
         ]
        },
        {
         "line": {
          "color": "rgb(68, 1, 84)",
          "width": 2
         },
         "mode": "lines+markers",
         "name": "Action 11",
         "showlegend": false,
         "type": "scatter",
         "x": [
          1,
          2
         ],
         "y": [
          11,
          22
         ]
        },
        {
         "line": {
          "color": "rgb(68, 1, 84)",
          "width": 2
         },
         "mode": "lines+markers",
         "name": "Action 11",
         "showlegend": false,
         "type": "scatter",
         "x": [
          1,
          2
         ],
         "y": [
          12,
          23
         ]
        },
        {
         "line": {
          "color": "rgb(68, 1, 84)",
          "width": 2
         },
         "mode": "lines+markers",
         "name": "Action 11",
         "showlegend": false,
         "type": "scatter",
         "x": [
          1,
          2
         ],
         "y": [
          23,
          34
         ]
        },
        {
         "line": {
          "color": "rgb(68, 1, 84)",
          "width": 2
         },
         "mode": "lines+markers",
         "name": "Action 11",
         "showlegend": false,
         "type": "scatter",
         "x": [
          1,
          2
         ],
         "y": [
          26,
          37
         ]
        },
        {
         "line": {
          "color": "rgb(68, 1, 84)",
          "width": 2
         },
         "mode": "lines+markers",
         "name": "Action 11",
         "showlegend": false,
         "type": "scatter",
         "x": [
          1,
          2
         ],
         "y": [
          29,
          40
         ]
        },
        {
         "line": {
          "color": "rgb(68, 1, 84)",
          "width": 2
         },
         "mode": "lines+markers",
         "name": "Action 11",
         "showlegend": false,
         "type": "scatter",
         "x": [
          1,
          2
         ],
         "y": [
          30,
          41
         ]
        },
        {
         "line": {
          "color": "rgb(68, 1, 84)",
          "width": 2
         },
         "mode": "lines+markers",
         "name": "Action 11",
         "showlegend": false,
         "type": "scatter",
         "x": [
          1,
          2
         ],
         "y": [
          34,
          45
         ]
        },
        {
         "line": {
          "color": "rgb(68, 1, 84)",
          "width": 2
         },
         "mode": "lines+markers",
         "name": "Action 11",
         "showlegend": false,
         "type": "scatter",
         "x": [
          1,
          2
         ],
         "y": [
          40,
          51
         ]
        },
        {
         "line": {
          "color": "rgb(68, 1, 84)",
          "width": 2
         },
         "mode": "lines+markers",
         "name": "Action 11",
         "showlegend": false,
         "type": "scatter",
         "x": [
          1,
          2
         ],
         "y": [
          41,
          52
         ]
        },
        {
         "line": {
          "color": "rgb(68, 1, 84)",
          "width": 2
         },
         "mode": "lines+markers",
         "name": "Action 11",
         "showlegend": false,
         "type": "scatter",
         "x": [
          1,
          2
         ],
         "y": [
          43,
          54
         ]
        },
        {
         "line": {
          "color": "rgb(68, 1, 84)",
          "width": 2
         },
         "mode": "lines+markers",
         "name": "Action 11",
         "showlegend": false,
         "type": "scatter",
         "x": [
          1,
          2
         ],
         "y": [
          44,
          55
         ]
        },
        {
         "line": {
          "color": "rgb(68, 1, 84)",
          "width": 2
         },
         "mode": "lines+markers",
         "name": "Action 11",
         "showlegend": false,
         "type": "scatter",
         "x": [
          1,
          2
         ],
         "y": [
          51,
          62
         ]
        },
        {
         "line": {
          "color": "rgb(68, 1, 84)",
          "width": 2
         },
         "mode": "lines+markers",
         "name": "Action 11",
         "showlegend": false,
         "type": "scatter",
         "x": [
          1,
          2
         ],
         "y": [
          55,
          66
         ]
        },
        {
         "line": {
          "color": "rgb(68, 1, 84)",
          "width": 2
         },
         "mode": "lines+markers",
         "name": "Action 11",
         "showlegend": false,
         "type": "scatter",
         "x": [
          1,
          2
         ],
         "y": [
          62,
          73
         ]
        },
        {
         "line": {
          "color": "rgb(68, 1, 84)",
          "width": 2
         },
         "mode": "lines+markers",
         "name": "Action 11",
         "showlegend": false,
         "type": "scatter",
         "x": [
          1,
          2
         ],
         "y": [
          64,
          75
         ]
        },
        {
         "line": {
          "color": "rgb(68, 1, 84)",
          "width": 2
         },
         "mode": "lines+markers",
         "name": "Action 11",
         "showlegend": false,
         "type": "scatter",
         "x": [
          1,
          2
         ],
         "y": [
          65,
          76
         ]
        },
        {
         "line": {
          "color": "rgb(68, 1, 84)",
          "width": 2
         },
         "mode": "lines+markers",
         "name": "Action 11",
         "showlegend": false,
         "type": "scatter",
         "x": [
          1,
          2
         ],
         "y": [
          71,
          82
         ]
        },
        {
         "line": {
          "color": "rgb(68, 1, 84)",
          "width": 2
         },
         "mode": "lines+markers",
         "name": "Action 11",
         "showlegend": false,
         "type": "scatter",
         "x": [
          1,
          2
         ],
         "y": [
          73,
          84
         ]
        },
        {
         "line": {
          "color": "rgb(68, 1, 84)",
          "width": 2
         },
         "mode": "lines+markers",
         "name": "Action 11",
         "showlegend": false,
         "type": "scatter",
         "x": [
          1,
          2
         ],
         "y": [
          75,
          86
         ]
        },
        {
         "line": {
          "color": "rgb(68, 1, 84)",
          "width": 2
         },
         "mode": "lines+markers",
         "name": "Action 11",
         "showlegend": false,
         "type": "scatter",
         "x": [
          1,
          2
         ],
         "y": [
          77,
          88
         ]
        },
        {
         "line": {
          "color": "rgb(68, 1, 84)",
          "width": 2
         },
         "mode": "lines+markers",
         "name": "Action 11",
         "showlegend": false,
         "type": "scatter",
         "x": [
          2,
          3
         ],
         "y": [
          0,
          11
         ]
        },
        {
         "line": {
          "color": "rgb(68, 1, 84)",
          "width": 2
         },
         "mode": "lines+markers",
         "name": "Action 11",
         "showlegend": false,
         "type": "scatter",
         "x": [
          2,
          3
         ],
         "y": [
          1,
          12
         ]
        },
        {
         "line": {
          "color": "rgb(68, 1, 84)",
          "width": 2
         },
         "mode": "lines+markers",
         "name": "Action 11",
         "showlegend": false,
         "type": "scatter",
         "x": [
          2,
          3
         ],
         "y": [
          7,
          18
         ]
        },
        {
         "line": {
          "color": "rgb(68, 1, 84)",
          "width": 2
         },
         "mode": "lines+markers",
         "name": "Action 11",
         "showlegend": false,
         "type": "scatter",
         "x": [
          2,
          3
         ],
         "y": [
          8,
          19
         ]
        },
        {
         "line": {
          "color": "rgb(68, 1, 84)",
          "width": 2
         },
         "mode": "lines+markers",
         "name": "Action 11",
         "showlegend": false,
         "type": "scatter",
         "x": [
          2,
          3
         ],
         "y": [
          10,
          21
         ]
        },
        {
         "line": {
          "color": "rgb(68, 1, 84)",
          "width": 2
         },
         "mode": "lines+markers",
         "name": "Action 11",
         "showlegend": false,
         "type": "scatter",
         "x": [
          2,
          3
         ],
         "y": [
          12,
          23
         ]
        },
        {
         "line": {
          "color": "rgb(68, 1, 84)",
          "width": 2
         },
         "mode": "lines+markers",
         "name": "Action 11",
         "showlegend": false,
         "type": "scatter",
         "x": [
          2,
          3
         ],
         "y": [
          13,
          24
         ]
        },
        {
         "line": {
          "color": "rgb(68, 1, 84)",
          "width": 2
         },
         "mode": "lines+markers",
         "name": "Action 11",
         "showlegend": false,
         "type": "scatter",
         "x": [
          2,
          3
         ],
         "y": [
          18,
          29
         ]
        },
        {
         "line": {
          "color": "rgb(68, 1, 84)",
          "width": 2
         },
         "mode": "lines+markers",
         "name": "Action 11",
         "showlegend": false,
         "type": "scatter",
         "x": [
          2,
          3
         ],
         "y": [
          19,
          30
         ]
        },
        {
         "line": {
          "color": "rgb(68, 1, 84)",
          "width": 2
         },
         "mode": "lines+markers",
         "name": "Action 11",
         "showlegend": false,
         "type": "scatter",
         "x": [
          2,
          3
         ],
         "y": [
          21,
          32
         ]
        },
        {
         "line": {
          "color": "rgb(68, 1, 84)",
          "width": 2
         },
         "mode": "lines+markers",
         "name": "Action 11",
         "showlegend": false,
         "type": "scatter",
         "x": [
          2,
          3
         ],
         "y": [
          23,
          34
         ]
        },
        {
         "line": {
          "color": "rgb(68, 1, 84)",
          "width": 2
         },
         "mode": "lines+markers",
         "name": "Action 11",
         "showlegend": false,
         "type": "scatter",
         "x": [
          2,
          3
         ],
         "y": [
          26,
          37
         ]
        },
        {
         "line": {
          "color": "rgb(68, 1, 84)",
          "width": 2
         },
         "mode": "lines+markers",
         "name": "Action 11",
         "showlegend": false,
         "type": "scatter",
         "x": [
          2,
          3
         ],
         "y": [
          27,
          38
         ]
        },
        {
         "line": {
          "color": "rgb(68, 1, 84)",
          "width": 2
         },
         "mode": "lines+markers",
         "name": "Action 11",
         "showlegend": false,
         "type": "scatter",
         "x": [
          2,
          3
         ],
         "y": [
          28,
          39
         ]
        },
        {
         "line": {
          "color": "rgb(68, 1, 84)",
          "width": 2
         },
         "mode": "lines+markers",
         "name": "Action 11",
         "showlegend": false,
         "type": "scatter",
         "x": [
          2,
          3
         ],
         "y": [
          31,
          42
         ]
        },
        {
         "line": {
          "color": "rgb(68, 1, 84)",
          "width": 2
         },
         "mode": "lines+markers",
         "name": "Action 11",
         "showlegend": false,
         "type": "scatter",
         "x": [
          2,
          3
         ],
         "y": [
          34,
          45
         ]
        },
        {
         "line": {
          "color": "rgb(68, 1, 84)",
          "width": 2
         },
         "mode": "lines+markers",
         "name": "Action 11",
         "showlegend": false,
         "type": "scatter",
         "x": [
          2,
          3
         ],
         "y": [
          37,
          48
         ]
        },
        {
         "line": {
          "color": "rgb(68, 1, 84)",
          "width": 2
         },
         "mode": "lines+markers",
         "name": "Action 11",
         "showlegend": false,
         "type": "scatter",
         "x": [
          2,
          3
         ],
         "y": [
          38,
          49
         ]
        },
        {
         "line": {
          "color": "rgb(68, 1, 84)",
          "width": 2
         },
         "mode": "lines+markers",
         "name": "Action 11",
         "showlegend": false,
         "type": "scatter",
         "x": [
          2,
          3
         ],
         "y": [
          40,
          51
         ]
        },
        {
         "line": {
          "color": "rgb(68, 1, 84)",
          "width": 2
         },
         "mode": "lines+markers",
         "name": "Action 11",
         "showlegend": false,
         "type": "scatter",
         "x": [
          2,
          3
         ],
         "y": [
          46,
          57
         ]
        },
        {
         "line": {
          "color": "rgb(68, 1, 84)",
          "width": 2
         },
         "mode": "lines+markers",
         "name": "Action 11",
         "showlegend": false,
         "type": "scatter",
         "x": [
          2,
          3
         ],
         "y": [
          47,
          58
         ]
        },
        {
         "line": {
          "color": "rgb(68, 1, 84)",
          "width": 2
         },
         "mode": "lines+markers",
         "name": "Action 11",
         "showlegend": false,
         "type": "scatter",
         "x": [
          2,
          3
         ],
         "y": [
          49,
          60
         ]
        },
        {
         "line": {
          "color": "rgb(68, 1, 84)",
          "width": 2
         },
         "mode": "lines+markers",
         "name": "Action 11",
         "showlegend": false,
         "type": "scatter",
         "x": [
          2,
          3
         ],
         "y": [
          50,
          61
         ]
        },
        {
         "line": {
          "color": "rgb(68, 1, 84)",
          "width": 2
         },
         "mode": "lines+markers",
         "name": "Action 11",
         "showlegend": false,
         "type": "scatter",
         "x": [
          2,
          3
         ],
         "y": [
          51,
          62
         ]
        },
        {
         "line": {
          "color": "rgb(68, 1, 84)",
          "width": 2
         },
         "mode": "lines+markers",
         "name": "Action 11",
         "showlegend": false,
         "type": "scatter",
         "x": [
          2,
          3
         ],
         "y": [
          52,
          63
         ]
        },
        {
         "line": {
          "color": "rgb(68, 1, 84)",
          "width": 2
         },
         "mode": "lines+markers",
         "name": "Action 11",
         "showlegend": false,
         "type": "scatter",
         "x": [
          2,
          3
         ],
         "y": [
          53,
          64
         ]
        },
        {
         "line": {
          "color": "rgb(68, 1, 84)",
          "width": 2
         },
         "mode": "lines+markers",
         "name": "Action 11",
         "showlegend": false,
         "type": "scatter",
         "x": [
          2,
          3
         ],
         "y": [
          57,
          68
         ]
        },
        {
         "line": {
          "color": "rgb(68, 1, 84)",
          "width": 2
         },
         "mode": "lines+markers",
         "name": "Action 11",
         "showlegend": false,
         "type": "scatter",
         "x": [
          2,
          3
         ],
         "y": [
          58,
          69
         ]
        },
        {
         "line": {
          "color": "rgb(68, 1, 84)",
          "width": 2
         },
         "mode": "lines+markers",
         "name": "Action 11",
         "showlegend": false,
         "type": "scatter",
         "x": [
          2,
          3
         ],
         "y": [
          61,
          72
         ]
        },
        {
         "line": {
          "color": "rgb(68, 1, 84)",
          "width": 2
         },
         "mode": "lines+markers",
         "name": "Action 11",
         "showlegend": false,
         "type": "scatter",
         "x": [
          2,
          3
         ],
         "y": [
          63,
          74
         ]
        },
        {
         "line": {
          "color": "rgb(68, 1, 84)",
          "width": 2
         },
         "mode": "lines+markers",
         "name": "Action 11",
         "showlegend": false,
         "type": "scatter",
         "x": [
          2,
          3
         ],
         "y": [
          70,
          81
         ]
        },
        {
         "line": {
          "color": "rgb(68, 1, 84)",
          "width": 2
         },
         "mode": "lines+markers",
         "name": "Action 11",
         "showlegend": false,
         "type": "scatter",
         "x": [
          2,
          3
         ],
         "y": [
          71,
          82
         ]
        },
        {
         "line": {
          "color": "rgb(68, 1, 84)",
          "width": 2
         },
         "mode": "lines+markers",
         "name": "Action 11",
         "showlegend": false,
         "type": "scatter",
         "x": [
          2,
          3
         ],
         "y": [
          74,
          85
         ]
        },
        {
         "line": {
          "color": "rgb(68, 1, 84)",
          "width": 2
         },
         "mode": "lines+markers",
         "name": "Action 11",
         "showlegend": false,
         "type": "scatter",
         "x": [
          2,
          3
         ],
         "y": [
          75,
          86
         ]
        },
        {
         "line": {
          "color": "rgb(68, 1, 84)",
          "width": 2
         },
         "mode": "lines+markers",
         "name": "Action 11",
         "showlegend": false,
         "type": "scatter",
         "x": [
          3,
          4
         ],
         "y": [
          0,
          11
         ]
        },
        {
         "line": {
          "color": "rgb(68, 1, 84)",
          "width": 2
         },
         "mode": "lines+markers",
         "name": "Action 11",
         "showlegend": false,
         "type": "scatter",
         "x": [
          3,
          4
         ],
         "y": [
          1,
          12
         ]
        },
        {
         "line": {
          "color": "rgb(68, 1, 84)",
          "width": 2
         },
         "mode": "lines+markers",
         "name": "Action 11",
         "showlegend": false,
         "type": "scatter",
         "x": [
          3,
          4
         ],
         "y": [
          5,
          16
         ]
        },
        {
         "line": {
          "color": "rgb(68, 1, 84)",
          "width": 2
         },
         "mode": "lines+markers",
         "name": "Action 11",
         "showlegend": false,
         "type": "scatter",
         "x": [
          3,
          4
         ],
         "y": [
          7,
          18
         ]
        },
        {
         "line": {
          "color": "rgb(68, 1, 84)",
          "width": 2
         },
         "mode": "lines+markers",
         "name": "Action 11",
         "showlegend": false,
         "type": "scatter",
         "x": [
          3,
          4
         ],
         "y": [
          12,
          23
         ]
        },
        {
         "line": {
          "color": "rgb(68, 1, 84)",
          "width": 2
         },
         "mode": "lines+markers",
         "name": "Action 11",
         "showlegend": false,
         "type": "scatter",
         "x": [
          3,
          4
         ],
         "y": [
          14,
          25
         ]
        },
        {
         "line": {
          "color": "rgb(68, 1, 84)",
          "width": 2
         },
         "mode": "lines+markers",
         "name": "Action 11",
         "showlegend": false,
         "type": "scatter",
         "x": [
          3,
          4
         ],
         "y": [
          17,
          28
         ]
        },
        {
         "line": {
          "color": "rgb(68, 1, 84)",
          "width": 2
         },
         "mode": "lines+markers",
         "name": "Action 11",
         "showlegend": false,
         "type": "scatter",
         "x": [
          3,
          4
         ],
         "y": [
          19,
          30
         ]
        },
        {
         "line": {
          "color": "rgb(68, 1, 84)",
          "width": 2
         },
         "mode": "lines+markers",
         "name": "Action 11",
         "showlegend": false,
         "type": "scatter",
         "x": [
          3,
          4
         ],
         "y": [
          21,
          32
         ]
        },
        {
         "line": {
          "color": "rgb(68, 1, 84)",
          "width": 2
         },
         "mode": "lines+markers",
         "name": "Action 11",
         "showlegend": false,
         "type": "scatter",
         "x": [
          3,
          4
         ],
         "y": [
          23,
          34
         ]
        },
        {
         "line": {
          "color": "rgb(68, 1, 84)",
          "width": 2
         },
         "mode": "lines+markers",
         "name": "Action 11",
         "showlegend": false,
         "type": "scatter",
         "x": [
          3,
          4
         ],
         "y": [
          28,
          39
         ]
        },
        {
         "line": {
          "color": "rgb(68, 1, 84)",
          "width": 2
         },
         "mode": "lines+markers",
         "name": "Action 11",
         "showlegend": false,
         "type": "scatter",
         "x": [
          3,
          4
         ],
         "y": [
          29,
          40
         ]
        },
        {
         "line": {
          "color": "rgb(68, 1, 84)",
          "width": 2
         },
         "mode": "lines+markers",
         "name": "Action 11",
         "showlegend": false,
         "type": "scatter",
         "x": [
          3,
          4
         ],
         "y": [
          30,
          41
         ]
        },
        {
         "line": {
          "color": "rgb(68, 1, 84)",
          "width": 2
         },
         "mode": "lines+markers",
         "name": "Action 11",
         "showlegend": false,
         "type": "scatter",
         "x": [
          3,
          4
         ],
         "y": [
          33,
          44
         ]
        },
        {
         "line": {
          "color": "rgb(68, 1, 84)",
          "width": 2
         },
         "mode": "lines+markers",
         "name": "Action 11",
         "showlegend": false,
         "type": "scatter",
         "x": [
          3,
          4
         ],
         "y": [
          36,
          47
         ]
        },
        {
         "line": {
          "color": "rgb(68, 1, 84)",
          "width": 2
         },
         "mode": "lines+markers",
         "name": "Action 11",
         "showlegend": false,
         "type": "scatter",
         "x": [
          3,
          4
         ],
         "y": [
          37,
          48
         ]
        },
        {
         "line": {
          "color": "rgb(68, 1, 84)",
          "width": 2
         },
         "mode": "lines+markers",
         "name": "Action 11",
         "showlegend": false,
         "type": "scatter",
         "x": [
          3,
          4
         ],
         "y": [
          40,
          51
         ]
        },
        {
         "line": {
          "color": "rgb(68, 1, 84)",
          "width": 2
         },
         "mode": "lines+markers",
         "name": "Action 11",
         "showlegend": false,
         "type": "scatter",
         "x": [
          3,
          4
         ],
         "y": [
          41,
          52
         ]
        },
        {
         "line": {
          "color": "rgb(68, 1, 84)",
          "width": 2
         },
         "mode": "lines+markers",
         "name": "Action 11",
         "showlegend": false,
         "type": "scatter",
         "x": [
          3,
          4
         ],
         "y": [
          47,
          58
         ]
        },
        {
         "line": {
          "color": "rgb(68, 1, 84)",
          "width": 2
         },
         "mode": "lines+markers",
         "name": "Action 11",
         "showlegend": false,
         "type": "scatter",
         "x": [
          3,
          4
         ],
         "y": [
          50,
          61
         ]
        },
        {
         "line": {
          "color": "rgb(68, 1, 84)",
          "width": 2
         },
         "mode": "lines+markers",
         "name": "Action 11",
         "showlegend": false,
         "type": "scatter",
         "x": [
          3,
          4
         ],
         "y": [
          53,
          64
         ]
        },
        {
         "line": {
          "color": "rgb(68, 1, 84)",
          "width": 2
         },
         "mode": "lines+markers",
         "name": "Action 11",
         "showlegend": false,
         "type": "scatter",
         "x": [
          3,
          4
         ],
         "y": [
          56,
          67
         ]
        },
        {
         "line": {
          "color": "rgb(68, 1, 84)",
          "width": 2
         },
         "mode": "lines+markers",
         "name": "Action 11",
         "showlegend": false,
         "type": "scatter",
         "x": [
          3,
          4
         ],
         "y": [
          58,
          69
         ]
        },
        {
         "line": {
          "color": "rgb(68, 1, 84)",
          "width": 2
         },
         "mode": "lines+markers",
         "name": "Action 11",
         "showlegend": false,
         "type": "scatter",
         "x": [
          3,
          4
         ],
         "y": [
          60,
          71
         ]
        },
        {
         "line": {
          "color": "rgb(68, 1, 84)",
          "width": 2
         },
         "mode": "lines+markers",
         "name": "Action 11",
         "showlegend": false,
         "type": "scatter",
         "x": [
          3,
          4
         ],
         "y": [
          61,
          72
         ]
        },
        {
         "line": {
          "color": "rgb(68, 1, 84)",
          "width": 2
         },
         "mode": "lines+markers",
         "name": "Action 11",
         "showlegend": false,
         "type": "scatter",
         "x": [
          3,
          4
         ],
         "y": [
          62,
          73
         ]
        },
        {
         "line": {
          "color": "rgb(68, 1, 84)",
          "width": 2
         },
         "mode": "lines+markers",
         "name": "Action 11",
         "showlegend": false,
         "type": "scatter",
         "x": [
          3,
          4
         ],
         "y": [
          63,
          74
         ]
        },
        {
         "line": {
          "color": "rgb(68, 1, 84)",
          "width": 2
         },
         "mode": "lines+markers",
         "name": "Action 11",
         "showlegend": false,
         "type": "scatter",
         "x": [
          3,
          4
         ],
         "y": [
          66,
          77
         ]
        },
        {
         "line": {
          "color": "rgb(68, 1, 84)",
          "width": 2
         },
         "mode": "lines+markers",
         "name": "Action 11",
         "showlegend": false,
         "type": "scatter",
         "x": [
          3,
          4
         ],
         "y": [
          74,
          85
         ]
        },
        {
         "line": {
          "color": "rgb(68, 1, 84)",
          "width": 2
         },
         "mode": "lines+markers",
         "name": "Action 11",
         "showlegend": false,
         "type": "scatter",
         "x": [
          3,
          4
         ],
         "y": [
          76,
          87
         ]
        },
        {
         "line": {
          "color": "rgb(68, 1, 84)",
          "width": 2
         },
         "mode": "lines+markers",
         "name": "Action 11",
         "showlegend": false,
         "type": "scatter",
         "x": [
          3,
          4
         ],
         "y": [
          78,
          89
         ]
        },
        {
         "line": {
          "color": "rgb(68, 1, 84)",
          "width": 2
         },
         "mode": "lines+markers",
         "name": "Action 11",
         "showlegend": false,
         "type": "scatter",
         "x": [
          3,
          4
         ],
         "y": [
          79,
          90
         ]
        },
        {
         "line": {
          "color": "rgb(68, 1, 84)",
          "width": 2
         },
         "mode": "lines+markers",
         "name": "Action 11",
         "showlegend": false,
         "type": "scatter",
         "x": [
          3,
          4
         ],
         "y": [
          80,
          91
         ]
        },
        {
         "line": {
          "color": "rgb(68, 1, 84)",
          "width": 2
         },
         "mode": "lines+markers",
         "name": "Action 11",
         "showlegend": false,
         "type": "scatter",
         "x": [
          4,
          5
         ],
         "y": [
          1,
          12
         ]
        },
        {
         "line": {
          "color": "rgb(68, 1, 84)",
          "width": 2
         },
         "mode": "lines+markers",
         "name": "Action 11",
         "showlegend": false,
         "type": "scatter",
         "x": [
          4,
          5
         ],
         "y": [
          2,
          13
         ]
        },
        {
         "line": {
          "color": "rgb(68, 1, 84)",
          "width": 2
         },
         "mode": "lines+markers",
         "name": "Action 11",
         "showlegend": false,
         "type": "scatter",
         "x": [
          4,
          5
         ],
         "y": [
          3,
          14
         ]
        },
        {
         "line": {
          "color": "rgb(68, 1, 84)",
          "width": 2
         },
         "mode": "lines+markers",
         "name": "Action 11",
         "showlegend": false,
         "type": "scatter",
         "x": [
          4,
          5
         ],
         "y": [
          6,
          17
         ]
        },
        {
         "line": {
          "color": "rgb(68, 1, 84)",
          "width": 2
         },
         "mode": "lines+markers",
         "name": "Action 11",
         "showlegend": false,
         "type": "scatter",
         "x": [
          4,
          5
         ],
         "y": [
          9,
          20
         ]
        },
        {
         "line": {
          "color": "rgb(68, 1, 84)",
          "width": 2
         },
         "mode": "lines+markers",
         "name": "Action 11",
         "showlegend": false,
         "type": "scatter",
         "x": [
          4,
          5
         ],
         "y": [
          10,
          21
         ]
        },
        {
         "line": {
          "color": "rgb(68, 1, 84)",
          "width": 2
         },
         "mode": "lines+markers",
         "name": "Action 11",
         "showlegend": false,
         "type": "scatter",
         "x": [
          4,
          5
         ],
         "y": [
          12,
          23
         ]
        },
        {
         "line": {
          "color": "rgb(68, 1, 84)",
          "width": 2
         },
         "mode": "lines+markers",
         "name": "Action 11",
         "showlegend": false,
         "type": "scatter",
         "x": [
          4,
          5
         ],
         "y": [
          13,
          24
         ]
        },
        {
         "line": {
          "color": "rgb(68, 1, 84)",
          "width": 2
         },
         "mode": "lines+markers",
         "name": "Action 11",
         "showlegend": false,
         "type": "scatter",
         "x": [
          4,
          5
         ],
         "y": [
          19,
          30
         ]
        },
        {
         "line": {
          "color": "rgb(68, 1, 84)",
          "width": 2
         },
         "mode": "lines+markers",
         "name": "Action 11",
         "showlegend": false,
         "type": "scatter",
         "x": [
          4,
          5
         ],
         "y": [
          23,
          34
         ]
        },
        {
         "line": {
          "color": "rgb(68, 1, 84)",
          "width": 2
         },
         "mode": "lines+markers",
         "name": "Action 11",
         "showlegend": false,
         "type": "scatter",
         "x": [
          4,
          5
         ],
         "y": [
          24,
          35
         ]
        },
        {
         "line": {
          "color": "rgb(68, 1, 84)",
          "width": 2
         },
         "mode": "lines+markers",
         "name": "Action 11",
         "showlegend": false,
         "type": "scatter",
         "x": [
          4,
          5
         ],
         "y": [
          28,
          39
         ]
        },
        {
         "line": {
          "color": "rgb(68, 1, 84)",
          "width": 2
         },
         "mode": "lines+markers",
         "name": "Action 11",
         "showlegend": false,
         "type": "scatter",
         "x": [
          4,
          5
         ],
         "y": [
          38,
          49
         ]
        },
        {
         "line": {
          "color": "rgb(68, 1, 84)",
          "width": 2
         },
         "mode": "lines+markers",
         "name": "Action 11",
         "showlegend": false,
         "type": "scatter",
         "x": [
          4,
          5
         ],
         "y": [
          42,
          53
         ]
        },
        {
         "line": {
          "color": "rgb(68, 1, 84)",
          "width": 2
         },
         "mode": "lines+markers",
         "name": "Action 11",
         "showlegend": false,
         "type": "scatter",
         "x": [
          4,
          5
         ],
         "y": [
          46,
          57
         ]
        },
        {
         "line": {
          "color": "rgb(68, 1, 84)",
          "width": 2
         },
         "mode": "lines+markers",
         "name": "Action 11",
         "showlegend": false,
         "type": "scatter",
         "x": [
          4,
          5
         ],
         "y": [
          48,
          59
         ]
        },
        {
         "line": {
          "color": "rgb(68, 1, 84)",
          "width": 2
         },
         "mode": "lines+markers",
         "name": "Action 11",
         "showlegend": false,
         "type": "scatter",
         "x": [
          4,
          5
         ],
         "y": [
          53,
          64
         ]
        },
        {
         "line": {
          "color": "rgb(68, 1, 84)",
          "width": 2
         },
         "mode": "lines+markers",
         "name": "Action 11",
         "showlegend": false,
         "type": "scatter",
         "x": [
          4,
          5
         ],
         "y": [
          55,
          66
         ]
        },
        {
         "line": {
          "color": "rgb(68, 1, 84)",
          "width": 2
         },
         "mode": "lines+markers",
         "name": "Action 11",
         "showlegend": false,
         "type": "scatter",
         "x": [
          4,
          5
         ],
         "y": [
          56,
          67
         ]
        },
        {
         "line": {
          "color": "rgb(68, 1, 84)",
          "width": 2
         },
         "mode": "lines+markers",
         "name": "Action 11",
         "showlegend": false,
         "type": "scatter",
         "x": [
          4,
          5
         ],
         "y": [
          59,
          70
         ]
        },
        {
         "line": {
          "color": "rgb(68, 1, 84)",
          "width": 2
         },
         "mode": "lines+markers",
         "name": "Action 11",
         "showlegend": false,
         "type": "scatter",
         "x": [
          4,
          5
         ],
         "y": [
          60,
          71
         ]
        },
        {
         "line": {
          "color": "rgb(68, 1, 84)",
          "width": 2
         },
         "mode": "lines+markers",
         "name": "Action 11",
         "showlegend": false,
         "type": "scatter",
         "x": [
          4,
          5
         ],
         "y": [
          62,
          73
         ]
        },
        {
         "line": {
          "color": "rgb(68, 1, 84)",
          "width": 2
         },
         "mode": "lines+markers",
         "name": "Action 11",
         "showlegend": false,
         "type": "scatter",
         "x": [
          4,
          5
         ],
         "y": [
          63,
          74
         ]
        },
        {
         "line": {
          "color": "rgb(68, 1, 84)",
          "width": 2
         },
         "mode": "lines+markers",
         "name": "Action 11",
         "showlegend": false,
         "type": "scatter",
         "x": [
          4,
          5
         ],
         "y": [
          64,
          75
         ]
        },
        {
         "line": {
          "color": "rgb(68, 1, 84)",
          "width": 2
         },
         "mode": "lines+markers",
         "name": "Action 11",
         "showlegend": false,
         "type": "scatter",
         "x": [
          4,
          5
         ],
         "y": [
          65,
          76
         ]
        },
        {
         "line": {
          "color": "rgb(68, 1, 84)",
          "width": 2
         },
         "mode": "lines+markers",
         "name": "Action 11",
         "showlegend": false,
         "type": "scatter",
         "x": [
          4,
          5
         ],
         "y": [
          67,
          78
         ]
        },
        {
         "line": {
          "color": "rgb(68, 1, 84)",
          "width": 2
         },
         "mode": "lines+markers",
         "name": "Action 11",
         "showlegend": false,
         "type": "scatter",
         "x": [
          4,
          5
         ],
         "y": [
          69,
          80
         ]
        },
        {
         "line": {
          "color": "rgb(68, 1, 84)",
          "width": 2
         },
         "mode": "lines+markers",
         "name": "Action 11",
         "showlegend": false,
         "type": "scatter",
         "x": [
          4,
          5
         ],
         "y": [
          70,
          81
         ]
        },
        {
         "line": {
          "color": "rgb(68, 1, 84)",
          "width": 2
         },
         "mode": "lines+markers",
         "name": "Action 11",
         "showlegend": false,
         "type": "scatter",
         "x": [
          4,
          5
         ],
         "y": [
          71,
          82
         ]
        },
        {
         "line": {
          "color": "rgb(68, 1, 84)",
          "width": 2
         },
         "mode": "lines+markers",
         "name": "Action 11",
         "showlegend": false,
         "type": "scatter",
         "x": [
          4,
          5
         ],
         "y": [
          72,
          83
         ]
        },
        {
         "line": {
          "color": "rgb(68, 1, 84)",
          "width": 2
         },
         "mode": "lines+markers",
         "name": "Action 11",
         "showlegend": false,
         "type": "scatter",
         "x": [
          4,
          5
         ],
         "y": [
          74,
          85
         ]
        },
        {
         "line": {
          "color": "rgb(68, 1, 84)",
          "width": 2
         },
         "mode": "lines+markers",
         "name": "Action 11",
         "showlegend": false,
         "type": "scatter",
         "x": [
          4,
          5
         ],
         "y": [
          75,
          86
         ]
        },
        {
         "line": {
          "color": "rgb(68, 1, 84)",
          "width": 2
         },
         "mode": "lines+markers",
         "name": "Action 11",
         "showlegend": false,
         "type": "scatter",
         "x": [
          4,
          5
         ],
         "y": [
          76,
          87
         ]
        },
        {
         "line": {
          "color": "rgb(68, 1, 84)",
          "width": 2
         },
         "mode": "lines+markers",
         "name": "Action 11",
         "showlegend": false,
         "type": "scatter",
         "x": [
          4,
          5
         ],
         "y": [
          77,
          88
         ]
        },
        {
         "line": {
          "color": "rgb(68, 1, 84)",
          "width": 2
         },
         "mode": "lines+markers",
         "name": "Action 11",
         "showlegend": false,
         "type": "scatter",
         "x": [
          4,
          5
         ],
         "y": [
          78,
          89
         ]
        },
        {
         "line": {
          "color": "rgb(68, 1, 84)",
          "width": 2
         },
         "mode": "lines+markers",
         "name": "Action 11",
         "showlegend": false,
         "type": "scatter",
         "x": [
          4,
          5
         ],
         "y": [
          79,
          90
         ]
        },
        {
         "line": {
          "color": "rgb(68, 1, 84)",
          "width": 2
         },
         "mode": "lines+markers",
         "name": "Action 11",
         "showlegend": false,
         "type": "scatter",
         "x": [
          4,
          5
         ],
         "y": [
          80,
          91
         ]
        },
        {
         "line": {
          "color": "rgb(68, 1, 84)",
          "width": 2
         },
         "mode": "lines+markers",
         "name": "Action 11",
         "showlegend": false,
         "type": "scatter",
         "x": [
          5,
          6
         ],
         "y": [
          1,
          12
         ]
        },
        {
         "line": {
          "color": "rgb(68, 1, 84)",
          "width": 2
         },
         "mode": "lines+markers",
         "name": "Action 11",
         "showlegend": false,
         "type": "scatter",
         "x": [
          5,
          6
         ],
         "y": [
          2,
          13
         ]
        },
        {
         "line": {
          "color": "rgb(68, 1, 84)",
          "width": 2
         },
         "mode": "lines+markers",
         "name": "Action 11",
         "showlegend": false,
         "type": "scatter",
         "x": [
          5,
          6
         ],
         "y": [
          3,
          14
         ]
        },
        {
         "line": {
          "color": "rgb(68, 1, 84)",
          "width": 2
         },
         "mode": "lines+markers",
         "name": "Action 11",
         "showlegend": false,
         "type": "scatter",
         "x": [
          5,
          6
         ],
         "y": [
          4,
          15
         ]
        },
        {
         "line": {
          "color": "rgb(68, 1, 84)",
          "width": 2
         },
         "mode": "lines+markers",
         "name": "Action 11",
         "showlegend": false,
         "type": "scatter",
         "x": [
          5,
          6
         ],
         "y": [
          5,
          16
         ]
        },
        {
         "line": {
          "color": "rgb(68, 1, 84)",
          "width": 2
         },
         "mode": "lines+markers",
         "name": "Action 11",
         "showlegend": false,
         "type": "scatter",
         "x": [
          5,
          6
         ],
         "y": [
          6,
          17
         ]
        },
        {
         "line": {
          "color": "rgb(68, 1, 84)",
          "width": 2
         },
         "mode": "lines+markers",
         "name": "Action 11",
         "showlegend": false,
         "type": "scatter",
         "x": [
          5,
          6
         ],
         "y": [
          8,
          19
         ]
        },
        {
         "line": {
          "color": "rgb(68, 1, 84)",
          "width": 2
         },
         "mode": "lines+markers",
         "name": "Action 11",
         "showlegend": false,
         "type": "scatter",
         "x": [
          5,
          6
         ],
         "y": [
          14,
          25
         ]
        },
        {
         "line": {
          "color": "rgb(68, 1, 84)",
          "width": 2
         },
         "mode": "lines+markers",
         "name": "Action 11",
         "showlegend": false,
         "type": "scatter",
         "x": [
          5,
          6
         ],
         "y": [
          16,
          27
         ]
        },
        {
         "line": {
          "color": "rgb(68, 1, 84)",
          "width": 2
         },
         "mode": "lines+markers",
         "name": "Action 11",
         "showlegend": false,
         "type": "scatter",
         "x": [
          5,
          6
         ],
         "y": [
          17,
          28
         ]
        },
        {
         "line": {
          "color": "rgb(68, 1, 84)",
          "width": 2
         },
         "mode": "lines+markers",
         "name": "Action 11",
         "showlegend": false,
         "type": "scatter",
         "x": [
          5,
          6
         ],
         "y": [
          22,
          33
         ]
        },
        {
         "line": {
          "color": "rgb(68, 1, 84)",
          "width": 2
         },
         "mode": "lines+markers",
         "name": "Action 11",
         "showlegend": false,
         "type": "scatter",
         "x": [
          5,
          6
         ],
         "y": [
          26,
          37
         ]
        },
        {
         "line": {
          "color": "rgb(68, 1, 84)",
          "width": 2
         },
         "mode": "lines+markers",
         "name": "Action 11",
         "showlegend": false,
         "type": "scatter",
         "x": [
          5,
          6
         ],
         "y": [
          28,
          39
         ]
        },
        {
         "line": {
          "color": "rgb(68, 1, 84)",
          "width": 2
         },
         "mode": "lines+markers",
         "name": "Action 11",
         "showlegend": false,
         "type": "scatter",
         "x": [
          5,
          6
         ],
         "y": [
          29,
          40
         ]
        },
        {
         "line": {
          "color": "rgb(68, 1, 84)",
          "width": 2
         },
         "mode": "lines+markers",
         "name": "Action 11",
         "showlegend": false,
         "type": "scatter",
         "x": [
          5,
          6
         ],
         "y": [
          30,
          41
         ]
        },
        {
         "line": {
          "color": "rgb(68, 1, 84)",
          "width": 2
         },
         "mode": "lines+markers",
         "name": "Action 11",
         "showlegend": false,
         "type": "scatter",
         "x": [
          5,
          6
         ],
         "y": [
          31,
          42
         ]
        },
        {
         "line": {
          "color": "rgb(68, 1, 84)",
          "width": 2
         },
         "mode": "lines+markers",
         "name": "Action 11",
         "showlegend": false,
         "type": "scatter",
         "x": [
          5,
          6
         ],
         "y": [
          32,
          43
         ]
        },
        {
         "line": {
          "color": "rgb(68, 1, 84)",
          "width": 2
         },
         "mode": "lines+markers",
         "name": "Action 11",
         "showlegend": false,
         "type": "scatter",
         "x": [
          5,
          6
         ],
         "y": [
          35,
          46
         ]
        },
        {
         "line": {
          "color": "rgb(68, 1, 84)",
          "width": 2
         },
         "mode": "lines+markers",
         "name": "Action 11",
         "showlegend": false,
         "type": "scatter",
         "x": [
          5,
          6
         ],
         "y": [
          36,
          47
         ]
        },
        {
         "line": {
          "color": "rgb(68, 1, 84)",
          "width": 2
         },
         "mode": "lines+markers",
         "name": "Action 11",
         "showlegend": false,
         "type": "scatter",
         "x": [
          5,
          6
         ],
         "y": [
          40,
          51
         ]
        },
        {
         "line": {
          "color": "rgb(68, 1, 84)",
          "width": 2
         },
         "mode": "lines+markers",
         "name": "Action 11",
         "showlegend": false,
         "type": "scatter",
         "x": [
          5,
          6
         ],
         "y": [
          42,
          53
         ]
        },
        {
         "line": {
          "color": "rgb(68, 1, 84)",
          "width": 2
         },
         "mode": "lines+markers",
         "name": "Action 11",
         "showlegend": false,
         "type": "scatter",
         "x": [
          5,
          6
         ],
         "y": [
          46,
          57
         ]
        },
        {
         "line": {
          "color": "rgb(68, 1, 84)",
          "width": 2
         },
         "mode": "lines+markers",
         "name": "Action 11",
         "showlegend": false,
         "type": "scatter",
         "x": [
          5,
          6
         ],
         "y": [
          47,
          58
         ]
        },
        {
         "line": {
          "color": "rgb(68, 1, 84)",
          "width": 2
         },
         "mode": "lines+markers",
         "name": "Action 11",
         "showlegend": false,
         "type": "scatter",
         "x": [
          5,
          6
         ],
         "y": [
          49,
          60
         ]
        },
        {
         "line": {
          "color": "rgb(68, 1, 84)",
          "width": 2
         },
         "mode": "lines+markers",
         "name": "Action 11",
         "showlegend": false,
         "type": "scatter",
         "x": [
          5,
          6
         ],
         "y": [
          53,
          64
         ]
        },
        {
         "line": {
          "color": "rgb(68, 1, 84)",
          "width": 2
         },
         "mode": "lines+markers",
         "name": "Action 11",
         "showlegend": false,
         "type": "scatter",
         "x": [
          5,
          6
         ],
         "y": [
          60,
          71
         ]
        },
        {
         "line": {
          "color": "rgb(68, 1, 84)",
          "width": 2
         },
         "mode": "lines+markers",
         "name": "Action 11",
         "showlegend": false,
         "type": "scatter",
         "x": [
          5,
          6
         ],
         "y": [
          62,
          73
         ]
        },
        {
         "line": {
          "color": "rgb(68, 1, 84)",
          "width": 2
         },
         "mode": "lines+markers",
         "name": "Action 11",
         "showlegend": false,
         "type": "scatter",
         "x": [
          5,
          6
         ],
         "y": [
          65,
          76
         ]
        },
        {
         "line": {
          "color": "rgb(68, 1, 84)",
          "width": 2
         },
         "mode": "lines+markers",
         "name": "Action 11",
         "showlegend": false,
         "type": "scatter",
         "x": [
          5,
          6
         ],
         "y": [
          67,
          78
         ]
        },
        {
         "line": {
          "color": "rgb(68, 1, 84)",
          "width": 2
         },
         "mode": "lines+markers",
         "name": "Action 11",
         "showlegend": false,
         "type": "scatter",
         "x": [
          5,
          6
         ],
         "y": [
          73,
          84
         ]
        },
        {
         "line": {
          "color": "rgb(68, 1, 84)",
          "width": 2
         },
         "mode": "lines+markers",
         "name": "Action 11",
         "showlegend": false,
         "type": "scatter",
         "x": [
          5,
          6
         ],
         "y": [
          80,
          91
         ]
        },
        {
         "line": {
          "color": "rgb(68, 1, 84)",
          "width": 2
         },
         "mode": "lines+markers",
         "name": "Action 11",
         "showlegend": false,
         "type": "scatter",
         "x": [
          6,
          7
         ],
         "y": [
          2,
          13
         ]
        },
        {
         "line": {
          "color": "rgb(68, 1, 84)",
          "width": 2
         },
         "mode": "lines+markers",
         "name": "Action 11",
         "showlegend": false,
         "type": "scatter",
         "x": [
          6,
          7
         ],
         "y": [
          11,
          22
         ]
        },
        {
         "line": {
          "color": "rgb(68, 1, 84)",
          "width": 2
         },
         "mode": "lines+markers",
         "name": "Action 11",
         "showlegend": false,
         "type": "scatter",
         "x": [
          6,
          7
         ],
         "y": [
          12,
          23
         ]
        },
        {
         "line": {
          "color": "rgb(68, 1, 84)",
          "width": 2
         },
         "mode": "lines+markers",
         "name": "Action 11",
         "showlegend": false,
         "type": "scatter",
         "x": [
          6,
          7
         ],
         "y": [
          24,
          35
         ]
        },
        {
         "line": {
          "color": "rgb(68, 1, 84)",
          "width": 2
         },
         "mode": "lines+markers",
         "name": "Action 11",
         "showlegend": false,
         "type": "scatter",
         "x": [
          6,
          7
         ],
         "y": [
          25,
          36
         ]
        },
        {
         "line": {
          "color": "rgb(68, 1, 84)",
          "width": 2
         },
         "mode": "lines+markers",
         "name": "Action 11",
         "showlegend": false,
         "type": "scatter",
         "x": [
          6,
          7
         ],
         "y": [
          27,
          38
         ]
        },
        {
         "line": {
          "color": "rgb(68, 1, 84)",
          "width": 2
         },
         "mode": "lines+markers",
         "name": "Action 11",
         "showlegend": false,
         "type": "scatter",
         "x": [
          6,
          7
         ],
         "y": [
          28,
          39
         ]
        },
        {
         "line": {
          "color": "rgb(68, 1, 84)",
          "width": 2
         },
         "mode": "lines+markers",
         "name": "Action 11",
         "showlegend": false,
         "type": "scatter",
         "x": [
          6,
          7
         ],
         "y": [
          30,
          41
         ]
        },
        {
         "line": {
          "color": "rgb(68, 1, 84)",
          "width": 2
         },
         "mode": "lines+markers",
         "name": "Action 11",
         "showlegend": false,
         "type": "scatter",
         "x": [
          6,
          7
         ],
         "y": [
          32,
          43
         ]
        },
        {
         "line": {
          "color": "rgb(68, 1, 84)",
          "width": 2
         },
         "mode": "lines+markers",
         "name": "Action 11",
         "showlegend": false,
         "type": "scatter",
         "x": [
          6,
          7
         ],
         "y": [
          34,
          45
         ]
        },
        {
         "line": {
          "color": "rgb(68, 1, 84)",
          "width": 2
         },
         "mode": "lines+markers",
         "name": "Action 11",
         "showlegend": false,
         "type": "scatter",
         "x": [
          6,
          7
         ],
         "y": [
          40,
          51
         ]
        },
        {
         "line": {
          "color": "rgb(68, 1, 84)",
          "width": 2
         },
         "mode": "lines+markers",
         "name": "Action 11",
         "showlegend": false,
         "type": "scatter",
         "x": [
          6,
          7
         ],
         "y": [
          69,
          80
         ]
        },
        {
         "line": {
          "color": "rgb(68, 1, 84)",
          "width": 2
         },
         "mode": "lines+markers",
         "name": "Action 11",
         "showlegend": false,
         "type": "scatter",
         "x": [
          6,
          7
         ],
         "y": [
          79,
          90
         ]
        },
        {
         "line": {
          "color": "rgb(68, 1, 84)",
          "width": 2
         },
         "mode": "lines+markers",
         "name": "Action 11",
         "showlegend": false,
         "type": "scatter",
         "x": [
          7,
          8
         ],
         "y": [
          10,
          21
         ]
        },
        {
         "line": {
          "color": "rgb(68, 1, 84)",
          "width": 2
         },
         "mode": "lines+markers",
         "name": "Action 11",
         "showlegend": false,
         "type": "scatter",
         "x": [
          7,
          8
         ],
         "y": [
          15,
          26
         ]
        },
        {
         "line": {
          "color": "rgb(68, 1, 84)",
          "width": 2
         },
         "mode": "lines+markers",
         "name": "Action 11",
         "showlegend": false,
         "type": "scatter",
         "x": [
          7,
          8
         ],
         "y": [
          17,
          28
         ]
        },
        {
         "line": {
          "color": "rgb(68, 1, 84)",
          "width": 2
         },
         "mode": "lines+markers",
         "name": "Action 11",
         "showlegend": false,
         "type": "scatter",
         "x": [
          7,
          8
         ],
         "y": [
          18,
          29
         ]
        },
        {
         "line": {
          "color": "rgb(68, 1, 84)",
          "width": 2
         },
         "mode": "lines+markers",
         "name": "Action 11",
         "showlegend": false,
         "type": "scatter",
         "x": [
          7,
          8
         ],
         "y": [
          19,
          30
         ]
        },
        {
         "line": {
          "color": "rgb(68, 1, 84)",
          "width": 2
         },
         "mode": "lines+markers",
         "name": "Action 11",
         "showlegend": false,
         "type": "scatter",
         "x": [
          7,
          8
         ],
         "y": [
          21,
          32
         ]
        },
        {
         "line": {
          "color": "rgb(68, 1, 84)",
          "width": 2
         },
         "mode": "lines+markers",
         "name": "Action 11",
         "showlegend": false,
         "type": "scatter",
         "x": [
          7,
          8
         ],
         "y": [
          30,
          41
         ]
        },
        {
         "line": {
          "color": "rgb(68, 1, 84)",
          "width": 2
         },
         "mode": "lines+markers",
         "name": "Action 11",
         "showlegend": false,
         "type": "scatter",
         "x": [
          7,
          8
         ],
         "y": [
          31,
          42
         ]
        },
        {
         "line": {
          "color": "rgb(68, 1, 84)",
          "width": 2
         },
         "mode": "lines+markers",
         "name": "Action 11",
         "showlegend": false,
         "type": "scatter",
         "x": [
          7,
          8
         ],
         "y": [
          33,
          44
         ]
        },
        {
         "line": {
          "color": "rgb(68, 1, 84)",
          "width": 2
         },
         "mode": "lines+markers",
         "name": "Action 11",
         "showlegend": false,
         "type": "scatter",
         "x": [
          7,
          8
         ],
         "y": [
          34,
          45
         ]
        },
        {
         "line": {
          "color": "rgb(68, 1, 84)",
          "width": 2
         },
         "mode": "lines+markers",
         "name": "Action 11",
         "showlegend": false,
         "type": "scatter",
         "x": [
          7,
          8
         ],
         "y": [
          35,
          46
         ]
        },
        {
         "line": {
          "color": "rgb(58, 82, 139)",
          "width": 2
         },
         "mode": "lines+markers",
         "name": "Action 3",
         "showlegend": true,
         "type": "scatter",
         "x": [
          0,
          1
         ],
         "y": [
          1,
          4
         ]
        },
        {
         "line": {
          "color": "rgb(58, 82, 139)",
          "width": 2
         },
         "mode": "lines+markers",
         "name": "Action 3",
         "showlegend": false,
         "type": "scatter",
         "x": [
          0,
          1
         ],
         "y": [
          9,
          12
         ]
        },
        {
         "line": {
          "color": "rgb(58, 82, 139)",
          "width": 2
         },
         "mode": "lines+markers",
         "name": "Action 3",
         "showlegend": false,
         "type": "scatter",
         "x": [
          0,
          1
         ],
         "y": [
          17,
          20
         ]
        },
        {
         "line": {
          "color": "rgb(58, 82, 139)",
          "width": 2
         },
         "mode": "lines+markers",
         "name": "Action 3",
         "showlegend": false,
         "type": "scatter",
         "x": [
          0,
          1
         ],
         "y": [
          18,
          21
         ]
        },
        {
         "line": {
          "color": "rgb(58, 82, 139)",
          "width": 2
         },
         "mode": "lines+markers",
         "name": "Action 3",
         "showlegend": false,
         "type": "scatter",
         "x": [
          0,
          1
         ],
         "y": [
          19,
          22
         ]
        },
        {
         "line": {
          "color": "rgb(58, 82, 139)",
          "width": 2
         },
         "mode": "lines+markers",
         "name": "Action 3",
         "showlegend": false,
         "type": "scatter",
         "x": [
          0,
          1
         ],
         "y": [
          21,
          24
         ]
        },
        {
         "line": {
          "color": "rgb(58, 82, 139)",
          "width": 2
         },
         "mode": "lines+markers",
         "name": "Action 3",
         "showlegend": false,
         "type": "scatter",
         "x": [
          0,
          1
         ],
         "y": [
          24,
          27
         ]
        },
        {
         "line": {
          "color": "rgb(58, 82, 139)",
          "width": 2
         },
         "mode": "lines+markers",
         "name": "Action 3",
         "showlegend": false,
         "type": "scatter",
         "x": [
          0,
          1
         ],
         "y": [
          27,
          30
         ]
        },
        {
         "line": {
          "color": "rgb(58, 82, 139)",
          "width": 2
         },
         "mode": "lines+markers",
         "name": "Action 3",
         "showlegend": false,
         "type": "scatter",
         "x": [
          0,
          1
         ],
         "y": [
          38,
          41
         ]
        },
        {
         "line": {
          "color": "rgb(58, 82, 139)",
          "width": 2
         },
         "mode": "lines+markers",
         "name": "Action 3",
         "showlegend": false,
         "type": "scatter",
         "x": [
          0,
          1
         ],
         "y": [
          42,
          45
         ]
        },
        {
         "line": {
          "color": "rgb(58, 82, 139)",
          "width": 2
         },
         "mode": "lines+markers",
         "name": "Action 3",
         "showlegend": false,
         "type": "scatter",
         "x": [
          0,
          1
         ],
         "y": [
          49,
          52
         ]
        },
        {
         "line": {
          "color": "rgb(58, 82, 139)",
          "width": 2
         },
         "mode": "lines+markers",
         "name": "Action 3",
         "showlegend": false,
         "type": "scatter",
         "x": [
          0,
          1
         ],
         "y": [
          51,
          54
         ]
        },
        {
         "line": {
          "color": "rgb(58, 82, 139)",
          "width": 2
         },
         "mode": "lines+markers",
         "name": "Action 3",
         "showlegend": false,
         "type": "scatter",
         "x": [
          0,
          1
         ],
         "y": [
          56,
          59
         ]
        },
        {
         "line": {
          "color": "rgb(58, 82, 139)",
          "width": 2
         },
         "mode": "lines+markers",
         "name": "Action 3",
         "showlegend": false,
         "type": "scatter",
         "x": [
          0,
          1
         ],
         "y": [
          82,
          85
         ]
        },
        {
         "line": {
          "color": "rgb(58, 82, 139)",
          "width": 2
         },
         "mode": "lines+markers",
         "name": "Action 3",
         "showlegend": false,
         "type": "scatter",
         "x": [
          0,
          1
         ],
         "y": [
          85,
          88
         ]
        },
        {
         "line": {
          "color": "rgb(58, 82, 139)",
          "width": 2
         },
         "mode": "lines+markers",
         "name": "Action 3",
         "showlegend": false,
         "type": "scatter",
         "x": [
          0,
          1
         ],
         "y": [
          89,
          92
         ]
        },
        {
         "line": {
          "color": "rgb(58, 82, 139)",
          "width": 2
         },
         "mode": "lines+markers",
         "name": "Action 3",
         "showlegend": false,
         "type": "scatter",
         "x": [
          0,
          1
         ],
         "y": [
          90,
          93
         ]
        },
        {
         "line": {
          "color": "rgb(58, 82, 139)",
          "width": 2
         },
         "mode": "lines+markers",
         "name": "Action 3",
         "showlegend": false,
         "type": "scatter",
         "x": [
          0,
          1
         ],
         "y": [
          91,
          94
         ]
        },
        {
         "line": {
          "color": "rgb(58, 82, 139)",
          "width": 2
         },
         "mode": "lines+markers",
         "name": "Action 3",
         "showlegend": false,
         "type": "scatter",
         "x": [
          0,
          1
         ],
         "y": [
          92,
          95
         ]
        },
        {
         "line": {
          "color": "rgb(58, 82, 139)",
          "width": 2
         },
         "mode": "lines+markers",
         "name": "Action 3",
         "showlegend": false,
         "type": "scatter",
         "x": [
          0,
          1
         ],
         "y": [
          94,
          97
         ]
        },
        {
         "line": {
          "color": "rgb(58, 82, 139)",
          "width": 2
         },
         "mode": "lines+markers",
         "name": "Action 3",
         "showlegend": false,
         "type": "scatter",
         "x": [
          0,
          1
         ],
         "y": [
          95,
          98
         ]
        },
        {
         "line": {
          "color": "rgb(58, 82, 139)",
          "width": 2
         },
         "mode": "lines+markers",
         "name": "Action 3",
         "showlegend": false,
         "type": "scatter",
         "x": [
          1,
          2
         ],
         "y": [
          0,
          3
         ]
        },
        {
         "line": {
          "color": "rgb(58, 82, 139)",
          "width": 2
         },
         "mode": "lines+markers",
         "name": "Action 3",
         "showlegend": false,
         "type": "scatter",
         "x": [
          1,
          2
         ],
         "y": [
          8,
          11
         ]
        },
        {
         "line": {
          "color": "rgb(58, 82, 139)",
          "width": 2
         },
         "mode": "lines+markers",
         "name": "Action 3",
         "showlegend": false,
         "type": "scatter",
         "x": [
          1,
          2
         ],
         "y": [
          14,
          17
         ]
        },
        {
         "line": {
          "color": "rgb(58, 82, 139)",
          "width": 2
         },
         "mode": "lines+markers",
         "name": "Action 3",
         "showlegend": false,
         "type": "scatter",
         "x": [
          1,
          2
         ],
         "y": [
          15,
          18
         ]
        },
        {
         "line": {
          "color": "rgb(58, 82, 139)",
          "width": 2
         },
         "mode": "lines+markers",
         "name": "Action 3",
         "showlegend": false,
         "type": "scatter",
         "x": [
          1,
          2
         ],
         "y": [
          16,
          19
         ]
        },
        {
         "line": {
          "color": "rgb(58, 82, 139)",
          "width": 2
         },
         "mode": "lines+markers",
         "name": "Action 3",
         "showlegend": false,
         "type": "scatter",
         "x": [
          1,
          2
         ],
         "y": [
          17,
          20
         ]
        },
        {
         "line": {
          "color": "rgb(58, 82, 139)",
          "width": 2
         },
         "mode": "lines+markers",
         "name": "Action 3",
         "showlegend": false,
         "type": "scatter",
         "x": [
          1,
          2
         ],
         "y": [
          22,
          25
         ]
        },
        {
         "line": {
          "color": "rgb(58, 82, 139)",
          "width": 2
         },
         "mode": "lines+markers",
         "name": "Action 3",
         "showlegend": false,
         "type": "scatter",
         "x": [
          1,
          2
         ],
         "y": [
          24,
          27
         ]
        },
        {
         "line": {
          "color": "rgb(58, 82, 139)",
          "width": 2
         },
         "mode": "lines+markers",
         "name": "Action 3",
         "showlegend": false,
         "type": "scatter",
         "x": [
          1,
          2
         ],
         "y": [
          25,
          28
         ]
        },
        {
         "line": {
          "color": "rgb(58, 82, 139)",
          "width": 2
         },
         "mode": "lines+markers",
         "name": "Action 3",
         "showlegend": false,
         "type": "scatter",
         "x": [
          1,
          2
         ],
         "y": [
          27,
          30
         ]
        },
        {
         "line": {
          "color": "rgb(58, 82, 139)",
          "width": 2
         },
         "mode": "lines+markers",
         "name": "Action 3",
         "showlegend": false,
         "type": "scatter",
         "x": [
          1,
          2
         ],
         "y": [
          32,
          35
         ]
        },
        {
         "line": {
          "color": "rgb(58, 82, 139)",
          "width": 2
         },
         "mode": "lines+markers",
         "name": "Action 3",
         "showlegend": false,
         "type": "scatter",
         "x": [
          1,
          2
         ],
         "y": [
          39,
          42
         ]
        },
        {
         "line": {
          "color": "rgb(58, 82, 139)",
          "width": 2
         },
         "mode": "lines+markers",
         "name": "Action 3",
         "showlegend": false,
         "type": "scatter",
         "x": [
          1,
          2
         ],
         "y": [
          42,
          45
         ]
        },
        {
         "line": {
          "color": "rgb(58, 82, 139)",
          "width": 2
         },
         "mode": "lines+markers",
         "name": "Action 3",
         "showlegend": false,
         "type": "scatter",
         "x": [
          1,
          2
         ],
         "y": [
          46,
          49
         ]
        },
        {
         "line": {
          "color": "rgb(58, 82, 139)",
          "width": 2
         },
         "mode": "lines+markers",
         "name": "Action 3",
         "showlegend": false,
         "type": "scatter",
         "x": [
          1,
          2
         ],
         "y": [
          54,
          57
         ]
        },
        {
         "line": {
          "color": "rgb(58, 82, 139)",
          "width": 2
         },
         "mode": "lines+markers",
         "name": "Action 3",
         "showlegend": false,
         "type": "scatter",
         "x": [
          1,
          2
         ],
         "y": [
          61,
          64
         ]
        },
        {
         "line": {
          "color": "rgb(58, 82, 139)",
          "width": 2
         },
         "mode": "lines+markers",
         "name": "Action 3",
         "showlegend": false,
         "type": "scatter",
         "x": [
          1,
          2
         ],
         "y": [
          66,
          69
         ]
        },
        {
         "line": {
          "color": "rgb(58, 82, 139)",
          "width": 2
         },
         "mode": "lines+markers",
         "name": "Action 3",
         "showlegend": false,
         "type": "scatter",
         "x": [
          1,
          2
         ],
         "y": [
          80,
          83
         ]
        },
        {
         "line": {
          "color": "rgb(58, 82, 139)",
          "width": 2
         },
         "mode": "lines+markers",
         "name": "Action 3",
         "showlegend": false,
         "type": "scatter",
         "x": [
          1,
          2
         ],
         "y": [
          81,
          84
         ]
        },
        {
         "line": {
          "color": "rgb(58, 82, 139)",
          "width": 2
         },
         "mode": "lines+markers",
         "name": "Action 3",
         "showlegend": false,
         "type": "scatter",
         "x": [
          1,
          2
         ],
         "y": [
          83,
          86
         ]
        },
        {
         "line": {
          "color": "rgb(58, 82, 139)",
          "width": 2
         },
         "mode": "lines+markers",
         "name": "Action 3",
         "showlegend": false,
         "type": "scatter",
         "x": [
          1,
          2
         ],
         "y": [
          86,
          89
         ]
        },
        {
         "line": {
          "color": "rgb(58, 82, 139)",
          "width": 2
         },
         "mode": "lines+markers",
         "name": "Action 3",
         "showlegend": false,
         "type": "scatter",
         "x": [
          1,
          2
         ],
         "y": [
          88,
          91
         ]
        },
        {
         "line": {
          "color": "rgb(58, 82, 139)",
          "width": 2
         },
         "mode": "lines+markers",
         "name": "Action 3",
         "showlegend": false,
         "type": "scatter",
         "x": [
          1,
          2
         ],
         "y": [
          90,
          93
         ]
        },
        {
         "line": {
          "color": "rgb(58, 82, 139)",
          "width": 2
         },
         "mode": "lines+markers",
         "name": "Action 3",
         "showlegend": false,
         "type": "scatter",
         "x": [
          1,
          2
         ],
         "y": [
          91,
          94
         ]
        },
        {
         "line": {
          "color": "rgb(58, 82, 139)",
          "width": 2
         },
         "mode": "lines+markers",
         "name": "Action 3",
         "showlegend": false,
         "type": "scatter",
         "x": [
          1,
          2
         ],
         "y": [
          92,
          95
         ]
        },
        {
         "line": {
          "color": "rgb(58, 82, 139)",
          "width": 2
         },
         "mode": "lines+markers",
         "name": "Action 3",
         "showlegend": false,
         "type": "scatter",
         "x": [
          1,
          2
         ],
         "y": [
          93,
          96
         ]
        },
        {
         "line": {
          "color": "rgb(58, 82, 139)",
          "width": 2
         },
         "mode": "lines+markers",
         "name": "Action 3",
         "showlegend": false,
         "type": "scatter",
         "x": [
          1,
          2
         ],
         "y": [
          94,
          97
         ]
        },
        {
         "line": {
          "color": "rgb(58, 82, 139)",
          "width": 2
         },
         "mode": "lines+markers",
         "name": "Action 3",
         "showlegend": false,
         "type": "scatter",
         "x": [
          1,
          2
         ],
         "y": [
          95,
          98
         ]
        },
        {
         "line": {
          "color": "rgb(58, 82, 139)",
          "width": 2
         },
         "mode": "lines+markers",
         "name": "Action 3",
         "showlegend": false,
         "type": "scatter",
         "x": [
          2,
          3
         ],
         "y": [
          3,
          6
         ]
        },
        {
         "line": {
          "color": "rgb(58, 82, 139)",
          "width": 2
         },
         "mode": "lines+markers",
         "name": "Action 3",
         "showlegend": false,
         "type": "scatter",
         "x": [
          2,
          3
         ],
         "y": [
          6,
          9
         ]
        },
        {
         "line": {
          "color": "rgb(58, 82, 139)",
          "width": 2
         },
         "mode": "lines+markers",
         "name": "Action 3",
         "showlegend": false,
         "type": "scatter",
         "x": [
          2,
          3
         ],
         "y": [
          11,
          14
         ]
        },
        {
         "line": {
          "color": "rgb(58, 82, 139)",
          "width": 2
         },
         "mode": "lines+markers",
         "name": "Action 3",
         "showlegend": false,
         "type": "scatter",
         "x": [
          2,
          3
         ],
         "y": [
          20,
          23
         ]
        },
        {
         "line": {
          "color": "rgb(58, 82, 139)",
          "width": 2
         },
         "mode": "lines+markers",
         "name": "Action 3",
         "showlegend": false,
         "type": "scatter",
         "x": [
          2,
          3
         ],
         "y": [
          25,
          28
         ]
        },
        {
         "line": {
          "color": "rgb(58, 82, 139)",
          "width": 2
         },
         "mode": "lines+markers",
         "name": "Action 3",
         "showlegend": false,
         "type": "scatter",
         "x": [
          2,
          3
         ],
         "y": [
          33,
          36
         ]
        },
        {
         "line": {
          "color": "rgb(58, 82, 139)",
          "width": 2
         },
         "mode": "lines+markers",
         "name": "Action 3",
         "showlegend": false,
         "type": "scatter",
         "x": [
          2,
          3
         ],
         "y": [
          64,
          67
         ]
        },
        {
         "line": {
          "color": "rgb(58, 82, 139)",
          "width": 2
         },
         "mode": "lines+markers",
         "name": "Action 3",
         "showlegend": false,
         "type": "scatter",
         "x": [
          2,
          3
         ],
         "y": [
          65,
          68
         ]
        },
        {
         "line": {
          "color": "rgb(58, 82, 139)",
          "width": 2
         },
         "mode": "lines+markers",
         "name": "Action 3",
         "showlegend": false,
         "type": "scatter",
         "x": [
          2,
          3
         ],
         "y": [
          67,
          70
         ]
        },
        {
         "line": {
          "color": "rgb(58, 82, 139)",
          "width": 2
         },
         "mode": "lines+markers",
         "name": "Action 3",
         "showlegend": false,
         "type": "scatter",
         "x": [
          2,
          3
         ],
         "y": [
          69,
          72
         ]
        },
        {
         "line": {
          "color": "rgb(58, 82, 139)",
          "width": 2
         },
         "mode": "lines+markers",
         "name": "Action 3",
         "showlegend": false,
         "type": "scatter",
         "x": [
          2,
          3
         ],
         "y": [
          73,
          76
         ]
        },
        {
         "line": {
          "color": "rgb(58, 82, 139)",
          "width": 2
         },
         "mode": "lines+markers",
         "name": "Action 3",
         "showlegend": false,
         "type": "scatter",
         "x": [
          2,
          3
         ],
         "y": [
          76,
          79
         ]
        },
        {
         "line": {
          "color": "rgb(58, 82, 139)",
          "width": 2
         },
         "mode": "lines+markers",
         "name": "Action 3",
         "showlegend": false,
         "type": "scatter",
         "x": [
          2,
          3
         ],
         "y": [
          78,
          81
         ]
        },
        {
         "line": {
          "color": "rgb(58, 82, 139)",
          "width": 2
         },
         "mode": "lines+markers",
         "name": "Action 3",
         "showlegend": false,
         "type": "scatter",
         "x": [
          2,
          3
         ],
         "y": [
          88,
          91
         ]
        },
        {
         "line": {
          "color": "rgb(58, 82, 139)",
          "width": 2
         },
         "mode": "lines+markers",
         "name": "Action 3",
         "showlegend": false,
         "type": "scatter",
         "x": [
          2,
          3
         ],
         "y": [
          90,
          93
         ]
        },
        {
         "line": {
          "color": "rgb(58, 82, 139)",
          "width": 2
         },
         "mode": "lines+markers",
         "name": "Action 3",
         "showlegend": false,
         "type": "scatter",
         "x": [
          2,
          3
         ],
         "y": [
          91,
          94
         ]
        },
        {
         "line": {
          "color": "rgb(58, 82, 139)",
          "width": 2
         },
         "mode": "lines+markers",
         "name": "Action 3",
         "showlegend": false,
         "type": "scatter",
         "x": [
          2,
          3
         ],
         "y": [
          92,
          95
         ]
        },
        {
         "line": {
          "color": "rgb(58, 82, 139)",
          "width": 2
         },
         "mode": "lines+markers",
         "name": "Action 3",
         "showlegend": false,
         "type": "scatter",
         "x": [
          2,
          3
         ],
         "y": [
          93,
          96
         ]
        },
        {
         "line": {
          "color": "rgb(58, 82, 139)",
          "width": 2
         },
         "mode": "lines+markers",
         "name": "Action 3",
         "showlegend": false,
         "type": "scatter",
         "x": [
          2,
          3
         ],
         "y": [
          94,
          97
         ]
        },
        {
         "line": {
          "color": "rgb(58, 82, 139)",
          "width": 2
         },
         "mode": "lines+markers",
         "name": "Action 3",
         "showlegend": false,
         "type": "scatter",
         "x": [
          2,
          3
         ],
         "y": [
          95,
          98
         ]
        },
        {
         "line": {
          "color": "rgb(58, 82, 139)",
          "width": 2
         },
         "mode": "lines+markers",
         "name": "Action 3",
         "showlegend": false,
         "type": "scatter",
         "x": [
          2,
          3
         ],
         "y": [
          96,
          99
         ]
        },
        {
         "line": {
          "color": "rgb(58, 82, 139)",
          "width": 2
         },
         "mode": "lines+markers",
         "name": "Action 3",
         "showlegend": false,
         "type": "scatter",
         "x": [
          3,
          4
         ],
         "y": [
          6,
          9
         ]
        },
        {
         "line": {
          "color": "rgb(58, 82, 139)",
          "width": 2
         },
         "mode": "lines+markers",
         "name": "Action 3",
         "showlegend": false,
         "type": "scatter",
         "x": [
          3,
          4
         ],
         "y": [
          8,
          11
         ]
        },
        {
         "line": {
          "color": "rgb(58, 82, 139)",
          "width": 2
         },
         "mode": "lines+markers",
         "name": "Action 3",
         "showlegend": false,
         "type": "scatter",
         "x": [
          3,
          4
         ],
         "y": [
          11,
          14
         ]
        },
        {
         "line": {
          "color": "rgb(58, 82, 139)",
          "width": 2
         },
         "mode": "lines+markers",
         "name": "Action 3",
         "showlegend": false,
         "type": "scatter",
         "x": [
          3,
          4
         ],
         "y": [
          13,
          16
         ]
        },
        {
         "line": {
          "color": "rgb(58, 82, 139)",
          "width": 2
         },
         "mode": "lines+markers",
         "name": "Action 3",
         "showlegend": false,
         "type": "scatter",
         "x": [
          3,
          4
         ],
         "y": [
          18,
          21
         ]
        },
        {
         "line": {
          "color": "rgb(58, 82, 139)",
          "width": 2
         },
         "mode": "lines+markers",
         "name": "Action 3",
         "showlegend": false,
         "type": "scatter",
         "x": [
          3,
          4
         ],
         "y": [
          24,
          27
         ]
        },
        {
         "line": {
          "color": "rgb(58, 82, 139)",
          "width": 2
         },
         "mode": "lines+markers",
         "name": "Action 3",
         "showlegend": false,
         "type": "scatter",
         "x": [
          3,
          4
         ],
         "y": [
          27,
          30
         ]
        },
        {
         "line": {
          "color": "rgb(58, 82, 139)",
          "width": 2
         },
         "mode": "lines+markers",
         "name": "Action 3",
         "showlegend": false,
         "type": "scatter",
         "x": [
          3,
          4
         ],
         "y": [
          31,
          34
         ]
        },
        {
         "line": {
          "color": "rgb(58, 82, 139)",
          "width": 2
         },
         "mode": "lines+markers",
         "name": "Action 3",
         "showlegend": false,
         "type": "scatter",
         "x": [
          3,
          4
         ],
         "y": [
          32,
          35
         ]
        },
        {
         "line": {
          "color": "rgb(58, 82, 139)",
          "width": 2
         },
         "mode": "lines+markers",
         "name": "Action 3",
         "showlegend": false,
         "type": "scatter",
         "x": [
          3,
          4
         ],
         "y": [
          35,
          38
         ]
        },
        {
         "line": {
          "color": "rgb(58, 82, 139)",
          "width": 2
         },
         "mode": "lines+markers",
         "name": "Action 3",
         "showlegend": false,
         "type": "scatter",
         "x": [
          3,
          4
         ],
         "y": [
          46,
          49
         ]
        },
        {
         "line": {
          "color": "rgb(58, 82, 139)",
          "width": 2
         },
         "mode": "lines+markers",
         "name": "Action 3",
         "showlegend": false,
         "type": "scatter",
         "x": [
          3,
          4
         ],
         "y": [
          48,
          51
         ]
        },
        {
         "line": {
          "color": "rgb(58, 82, 139)",
          "width": 2
         },
         "mode": "lines+markers",
         "name": "Action 3",
         "showlegend": false,
         "type": "scatter",
         "x": [
          3,
          4
         ],
         "y": [
          52,
          55
         ]
        },
        {
         "line": {
          "color": "rgb(58, 82, 139)",
          "width": 2
         },
         "mode": "lines+markers",
         "name": "Action 3",
         "showlegend": false,
         "type": "scatter",
         "x": [
          3,
          4
         ],
         "y": [
          54,
          57
         ]
        },
        {
         "line": {
          "color": "rgb(58, 82, 139)",
          "width": 2
         },
         "mode": "lines+markers",
         "name": "Action 3",
         "showlegend": false,
         "type": "scatter",
         "x": [
          3,
          4
         ],
         "y": [
          57,
          60
         ]
        },
        {
         "line": {
          "color": "rgb(58, 82, 139)",
          "width": 2
         },
         "mode": "lines+markers",
         "name": "Action 3",
         "showlegend": false,
         "type": "scatter",
         "x": [
          3,
          4
         ],
         "y": [
          70,
          73
         ]
        },
        {
         "line": {
          "color": "rgb(58, 82, 139)",
          "width": 2
         },
         "mode": "lines+markers",
         "name": "Action 3",
         "showlegend": false,
         "type": "scatter",
         "x": [
          3,
          4
         ],
         "y": [
          71,
          74
         ]
        },
        {
         "line": {
          "color": "rgb(58, 82, 139)",
          "width": 2
         },
         "mode": "lines+markers",
         "name": "Action 3",
         "showlegend": false,
         "type": "scatter",
         "x": [
          3,
          4
         ],
         "y": [
          88,
          91
         ]
        },
        {
         "line": {
          "color": "rgb(58, 82, 139)",
          "width": 2
         },
         "mode": "lines+markers",
         "name": "Action 3",
         "showlegend": false,
         "type": "scatter",
         "x": [
          3,
          4
         ],
         "y": [
          89,
          92
         ]
        },
        {
         "line": {
          "color": "rgb(58, 82, 139)",
          "width": 2
         },
         "mode": "lines+markers",
         "name": "Action 3",
         "showlegend": false,
         "type": "scatter",
         "x": [
          3,
          4
         ],
         "y": [
          90,
          93
         ]
        },
        {
         "line": {
          "color": "rgb(58, 82, 139)",
          "width": 2
         },
         "mode": "lines+markers",
         "name": "Action 3",
         "showlegend": false,
         "type": "scatter",
         "x": [
          3,
          4
         ],
         "y": [
          91,
          94
         ]
        },
        {
         "line": {
          "color": "rgb(58, 82, 139)",
          "width": 2
         },
         "mode": "lines+markers",
         "name": "Action 3",
         "showlegend": false,
         "type": "scatter",
         "x": [
          3,
          4
         ],
         "y": [
          93,
          96
         ]
        },
        {
         "line": {
          "color": "rgb(58, 82, 139)",
          "width": 2
         },
         "mode": "lines+markers",
         "name": "Action 3",
         "showlegend": false,
         "type": "scatter",
         "x": [
          3,
          4
         ],
         "y": [
          94,
          97
         ]
        },
        {
         "line": {
          "color": "rgb(58, 82, 139)",
          "width": 2
         },
         "mode": "lines+markers",
         "name": "Action 3",
         "showlegend": false,
         "type": "scatter",
         "x": [
          3,
          4
         ],
         "y": [
          95,
          98
         ]
        },
        {
         "line": {
          "color": "rgb(58, 82, 139)",
          "width": 2
         },
         "mode": "lines+markers",
         "name": "Action 3",
         "showlegend": false,
         "type": "scatter",
         "x": [
          4,
          5
         ],
         "y": [
          4,
          7
         ]
        },
        {
         "line": {
          "color": "rgb(58, 82, 139)",
          "width": 2
         },
         "mode": "lines+markers",
         "name": "Action 3",
         "showlegend": false,
         "type": "scatter",
         "x": [
          4,
          5
         ],
         "y": [
          11,
          14
         ]
        },
        {
         "line": {
          "color": "rgb(58, 82, 139)",
          "width": 2
         },
         "mode": "lines+markers",
         "name": "Action 3",
         "showlegend": false,
         "type": "scatter",
         "x": [
          4,
          5
         ],
         "y": [
          17,
          20
         ]
        },
        {
         "line": {
          "color": "rgb(58, 82, 139)",
          "width": 2
         },
         "mode": "lines+markers",
         "name": "Action 3",
         "showlegend": false,
         "type": "scatter",
         "x": [
          4,
          5
         ],
         "y": [
          21,
          24
         ]
        },
        {
         "line": {
          "color": "rgb(58, 82, 139)",
          "width": 2
         },
         "mode": "lines+markers",
         "name": "Action 3",
         "showlegend": false,
         "type": "scatter",
         "x": [
          4,
          5
         ],
         "y": [
          22,
          25
         ]
        },
        {
         "line": {
          "color": "rgb(58, 82, 139)",
          "width": 2
         },
         "mode": "lines+markers",
         "name": "Action 3",
         "showlegend": false,
         "type": "scatter",
         "x": [
          4,
          5
         ],
         "y": [
          26,
          29
         ]
        },
        {
         "line": {
          "color": "rgb(58, 82, 139)",
          "width": 2
         },
         "mode": "lines+markers",
         "name": "Action 3",
         "showlegend": false,
         "type": "scatter",
         "x": [
          4,
          5
         ],
         "y": [
          32,
          35
         ]
        },
        {
         "line": {
          "color": "rgb(58, 82, 139)",
          "width": 2
         },
         "mode": "lines+markers",
         "name": "Action 3",
         "showlegend": false,
         "type": "scatter",
         "x": [
          4,
          5
         ],
         "y": [
          35,
          38
         ]
        },
        {
         "line": {
          "color": "rgb(58, 82, 139)",
          "width": 2
         },
         "mode": "lines+markers",
         "name": "Action 3",
         "showlegend": false,
         "type": "scatter",
         "x": [
          4,
          5
         ],
         "y": [
          40,
          43
         ]
        },
        {
         "line": {
          "color": "rgb(58, 82, 139)",
          "width": 2
         },
         "mode": "lines+markers",
         "name": "Action 3",
         "showlegend": false,
         "type": "scatter",
         "x": [
          4,
          5
         ],
         "y": [
          41,
          44
         ]
        },
        {
         "line": {
          "color": "rgb(58, 82, 139)",
          "width": 2
         },
         "mode": "lines+markers",
         "name": "Action 3",
         "showlegend": false,
         "type": "scatter",
         "x": [
          4,
          5
         ],
         "y": [
          43,
          46
         ]
        },
        {
         "line": {
          "color": "rgb(58, 82, 139)",
          "width": 2
         },
         "mode": "lines+markers",
         "name": "Action 3",
         "showlegend": false,
         "type": "scatter",
         "x": [
          4,
          5
         ],
         "y": [
          47,
          50
         ]
        },
        {
         "line": {
          "color": "rgb(58, 82, 139)",
          "width": 2
         },
         "mode": "lines+markers",
         "name": "Action 3",
         "showlegend": false,
         "type": "scatter",
         "x": [
          4,
          5
         ],
         "y": [
          58,
          61
         ]
        },
        {
         "line": {
          "color": "rgb(58, 82, 139)",
          "width": 2
         },
         "mode": "lines+markers",
         "name": "Action 3",
         "showlegend": false,
         "type": "scatter",
         "x": [
          4,
          5
         ],
         "y": [
          68,
          71
         ]
        },
        {
         "line": {
          "color": "rgb(58, 82, 139)",
          "width": 2
         },
         "mode": "lines+markers",
         "name": "Action 3",
         "showlegend": false,
         "type": "scatter",
         "x": [
          4,
          5
         ],
         "y": [
          81,
          84
         ]
        },
        {
         "line": {
          "color": "rgb(58, 82, 139)",
          "width": 2
         },
         "mode": "lines+markers",
         "name": "Action 3",
         "showlegend": false,
         "type": "scatter",
         "x": [
          4,
          5
         ],
         "y": [
          90,
          93
         ]
        },
        {
         "line": {
          "color": "rgb(58, 82, 139)",
          "width": 2
         },
         "mode": "lines+markers",
         "name": "Action 3",
         "showlegend": false,
         "type": "scatter",
         "x": [
          4,
          5
         ],
         "y": [
          91,
          94
         ]
        },
        {
         "line": {
          "color": "rgb(58, 82, 139)",
          "width": 2
         },
         "mode": "lines+markers",
         "name": "Action 3",
         "showlegend": false,
         "type": "scatter",
         "x": [
          4,
          5
         ],
         "y": [
          92,
          95
         ]
        },
        {
         "line": {
          "color": "rgb(58, 82, 139)",
          "width": 2
         },
         "mode": "lines+markers",
         "name": "Action 3",
         "showlegend": false,
         "type": "scatter",
         "x": [
          4,
          5
         ],
         "y": [
          93,
          96
         ]
        },
        {
         "line": {
          "color": "rgb(58, 82, 139)",
          "width": 2
         },
         "mode": "lines+markers",
         "name": "Action 3",
         "showlegend": false,
         "type": "scatter",
         "x": [
          4,
          5
         ],
         "y": [
          95,
          98
         ]
        },
        {
         "line": {
          "color": "rgb(58, 82, 139)",
          "width": 2
         },
         "mode": "lines+markers",
         "name": "Action 3",
         "showlegend": false,
         "type": "scatter",
         "x": [
          5,
          6
         ],
         "y": [
          25,
          28
         ]
        },
        {
         "line": {
          "color": "rgb(58, 82, 139)",
          "width": 2
         },
         "mode": "lines+markers",
         "name": "Action 3",
         "showlegend": false,
         "type": "scatter",
         "x": [
          5,
          6
         ],
         "y": [
          27,
          30
         ]
        },
        {
         "line": {
          "color": "rgb(58, 82, 139)",
          "width": 2
         },
         "mode": "lines+markers",
         "name": "Action 3",
         "showlegend": false,
         "type": "scatter",
         "x": [
          5,
          6
         ],
         "y": [
          33,
          36
         ]
        },
        {
         "line": {
          "color": "rgb(58, 82, 139)",
          "width": 2
         },
         "mode": "lines+markers",
         "name": "Action 3",
         "showlegend": false,
         "type": "scatter",
         "x": [
          5,
          6
         ],
         "y": [
          34,
          37
         ]
        },
        {
         "line": {
          "color": "rgb(58, 82, 139)",
          "width": 2
         },
         "mode": "lines+markers",
         "name": "Action 3",
         "showlegend": false,
         "type": "scatter",
         "x": [
          5,
          6
         ],
         "y": [
          38,
          41
         ]
        },
        {
         "line": {
          "color": "rgb(58, 82, 139)",
          "width": 2
         },
         "mode": "lines+markers",
         "name": "Action 3",
         "showlegend": false,
         "type": "scatter",
         "x": [
          5,
          6
         ],
         "y": [
          39,
          42
         ]
        },
        {
         "line": {
          "color": "rgb(58, 82, 139)",
          "width": 2
         },
         "mode": "lines+markers",
         "name": "Action 3",
         "showlegend": false,
         "type": "scatter",
         "x": [
          5,
          6
         ],
         "y": [
          45,
          48
         ]
        },
        {
         "line": {
          "color": "rgb(58, 82, 139)",
          "width": 2
         },
         "mode": "lines+markers",
         "name": "Action 3",
         "showlegend": false,
         "type": "scatter",
         "x": [
          5,
          6
         ],
         "y": [
          48,
          51
         ]
        },
        {
         "line": {
          "color": "rgb(58, 82, 139)",
          "width": 2
         },
         "mode": "lines+markers",
         "name": "Action 3",
         "showlegend": false,
         "type": "scatter",
         "x": [
          5,
          6
         ],
         "y": [
          59,
          62
         ]
        },
        {
         "line": {
          "color": "rgb(58, 82, 139)",
          "width": 2
         },
         "mode": "lines+markers",
         "name": "Action 3",
         "showlegend": false,
         "type": "scatter",
         "x": [
          5,
          6
         ],
         "y": [
          63,
          66
         ]
        },
        {
         "line": {
          "color": "rgb(58, 82, 139)",
          "width": 2
         },
         "mode": "lines+markers",
         "name": "Action 3",
         "showlegend": false,
         "type": "scatter",
         "x": [
          5,
          6
         ],
         "y": [
          64,
          67
         ]
        },
        {
         "line": {
          "color": "rgb(58, 82, 139)",
          "width": 2
         },
         "mode": "lines+markers",
         "name": "Action 3",
         "showlegend": false,
         "type": "scatter",
         "x": [
          5,
          6
         ],
         "y": [
          72,
          75
         ]
        },
        {
         "line": {
          "color": "rgb(58, 82, 139)",
          "width": 2
         },
         "mode": "lines+markers",
         "name": "Action 3",
         "showlegend": false,
         "type": "scatter",
         "x": [
          5,
          6
         ],
         "y": [
          75,
          78
         ]
        },
        {
         "line": {
          "color": "rgb(58, 82, 139)",
          "width": 2
         },
         "mode": "lines+markers",
         "name": "Action 3",
         "showlegend": false,
         "type": "scatter",
         "x": [
          5,
          6
         ],
         "y": [
          89,
          92
         ]
        },
        {
         "line": {
          "color": "rgb(58, 82, 139)",
          "width": 2
         },
         "mode": "lines+markers",
         "name": "Action 3",
         "showlegend": false,
         "type": "scatter",
         "x": [
          5,
          6
         ],
         "y": [
          92,
          95
         ]
        },
        {
         "line": {
          "color": "rgb(58, 82, 139)",
          "width": 2
         },
         "mode": "lines+markers",
         "name": "Action 3",
         "showlegend": false,
         "type": "scatter",
         "x": [
          5,
          6
         ],
         "y": [
          93,
          96
         ]
        },
        {
         "line": {
          "color": "rgb(58, 82, 139)",
          "width": 2
         },
         "mode": "lines+markers",
         "name": "Action 3",
         "showlegend": false,
         "type": "scatter",
         "x": [
          5,
          6
         ],
         "y": [
          95,
          98
         ]
        },
        {
         "line": {
          "color": "rgb(58, 82, 139)",
          "width": 2
         },
         "mode": "lines+markers",
         "name": "Action 3",
         "showlegend": false,
         "type": "scatter",
         "x": [
          6,
          7
         ],
         "y": [
          36,
          39
         ]
        },
        {
         "line": {
          "color": "rgb(58, 82, 139)",
          "width": 2
         },
         "mode": "lines+markers",
         "name": "Action 3",
         "showlegend": false,
         "type": "scatter",
         "x": [
          6,
          7
         ],
         "y": [
          37,
          40
         ]
        },
        {
         "line": {
          "color": "rgb(58, 82, 139)",
          "width": 2
         },
         "mode": "lines+markers",
         "name": "Action 3",
         "showlegend": false,
         "type": "scatter",
         "x": [
          6,
          7
         ],
         "y": [
          39,
          42
         ]
        },
        {
         "line": {
          "color": "rgb(58, 82, 139)",
          "width": 2
         },
         "mode": "lines+markers",
         "name": "Action 3",
         "showlegend": false,
         "type": "scatter",
         "x": [
          6,
          7
         ],
         "y": [
          42,
          45
         ]
        },
        {
         "line": {
          "color": "rgb(58, 82, 139)",
          "width": 2
         },
         "mode": "lines+markers",
         "name": "Action 3",
         "showlegend": false,
         "type": "scatter",
         "x": [
          6,
          7
         ],
         "y": [
          45,
          48
         ]
        },
        {
         "line": {
          "color": "rgb(58, 82, 139)",
          "width": 2
         },
         "mode": "lines+markers",
         "name": "Action 3",
         "showlegend": false,
         "type": "scatter",
         "x": [
          6,
          7
         ],
         "y": [
          46,
          49
         ]
        },
        {
         "line": {
          "color": "rgb(58, 82, 139)",
          "width": 2
         },
         "mode": "lines+markers",
         "name": "Action 3",
         "showlegend": false,
         "type": "scatter",
         "x": [
          6,
          7
         ],
         "y": [
          48,
          51
         ]
        },
        {
         "line": {
          "color": "rgb(58, 82, 139)",
          "width": 2
         },
         "mode": "lines+markers",
         "name": "Action 3",
         "showlegend": false,
         "type": "scatter",
         "x": [
          6,
          7
         ],
         "y": [
          49,
          52
         ]
        },
        {
         "line": {
          "color": "rgb(58, 82, 139)",
          "width": 2
         },
         "mode": "lines+markers",
         "name": "Action 3",
         "showlegend": false,
         "type": "scatter",
         "x": [
          6,
          7
         ],
         "y": [
          52,
          55
         ]
        },
        {
         "line": {
          "color": "rgb(58, 82, 139)",
          "width": 2
         },
         "mode": "lines+markers",
         "name": "Action 3",
         "showlegend": false,
         "type": "scatter",
         "x": [
          6,
          7
         ],
         "y": [
          57,
          60
         ]
        },
        {
         "line": {
          "color": "rgb(58, 82, 139)",
          "width": 2
         },
         "mode": "lines+markers",
         "name": "Action 3",
         "showlegend": false,
         "type": "scatter",
         "x": [
          6,
          7
         ],
         "y": [
          62,
          65
         ]
        },
        {
         "line": {
          "color": "rgb(58, 82, 139)",
          "width": 2
         },
         "mode": "lines+markers",
         "name": "Action 3",
         "showlegend": false,
         "type": "scatter",
         "x": [
          6,
          7
         ],
         "y": [
          68,
          71
         ]
        },
        {
         "line": {
          "color": "rgb(58, 82, 139)",
          "width": 2
         },
         "mode": "lines+markers",
         "name": "Action 3",
         "showlegend": false,
         "type": "scatter",
         "x": [
          6,
          7
         ],
         "y": [
          70,
          73
         ]
        },
        {
         "line": {
          "color": "rgb(58, 82, 139)",
          "width": 2
         },
         "mode": "lines+markers",
         "name": "Action 3",
         "showlegend": false,
         "type": "scatter",
         "x": [
          6,
          7
         ],
         "y": [
          71,
          74
         ]
        },
        {
         "line": {
          "color": "rgb(58, 82, 139)",
          "width": 2
         },
         "mode": "lines+markers",
         "name": "Action 3",
         "showlegend": false,
         "type": "scatter",
         "x": [
          6,
          7
         ],
         "y": [
          77,
          80
         ]
        },
        {
         "line": {
          "color": "rgb(58, 82, 139)",
          "width": 2
         },
         "mode": "lines+markers",
         "name": "Action 3",
         "showlegend": false,
         "type": "scatter",
         "x": [
          6,
          7
         ],
         "y": [
          84,
          87
         ]
        },
        {
         "line": {
          "color": "rgb(58, 82, 139)",
          "width": 2
         },
         "mode": "lines+markers",
         "name": "Action 3",
         "showlegend": false,
         "type": "scatter",
         "x": [
          6,
          7
         ],
         "y": [
          89,
          92
         ]
        },
        {
         "line": {
          "color": "rgb(58, 82, 139)",
          "width": 2
         },
         "mode": "lines+markers",
         "name": "Action 3",
         "showlegend": false,
         "type": "scatter",
         "x": [
          6,
          7
         ],
         "y": [
          90,
          93
         ]
        },
        {
         "line": {
          "color": "rgb(58, 82, 139)",
          "width": 2
         },
         "mode": "lines+markers",
         "name": "Action 3",
         "showlegend": false,
         "type": "scatter",
         "x": [
          6,
          7
         ],
         "y": [
          91,
          94
         ]
        },
        {
         "line": {
          "color": "rgb(58, 82, 139)",
          "width": 2
         },
         "mode": "lines+markers",
         "name": "Action 3",
         "showlegend": false,
         "type": "scatter",
         "x": [
          6,
          7
         ],
         "y": [
          92,
          95
         ]
        },
        {
         "line": {
          "color": "rgb(58, 82, 139)",
          "width": 2
         },
         "mode": "lines+markers",
         "name": "Action 3",
         "showlegend": false,
         "type": "scatter",
         "x": [
          6,
          7
         ],
         "y": [
          93,
          96
         ]
        },
        {
         "line": {
          "color": "rgb(58, 82, 139)",
          "width": 2
         },
         "mode": "lines+markers",
         "name": "Action 3",
         "showlegend": false,
         "type": "scatter",
         "x": [
          6,
          7
         ],
         "y": [
          94,
          97
         ]
        },
        {
         "line": {
          "color": "rgb(58, 82, 139)",
          "width": 2
         },
         "mode": "lines+markers",
         "name": "Action 3",
         "showlegend": false,
         "type": "scatter",
         "x": [
          6,
          7
         ],
         "y": [
          95,
          98
         ]
        },
        {
         "line": {
          "color": "rgb(58, 82, 139)",
          "width": 2
         },
         "mode": "lines+markers",
         "name": "Action 3",
         "showlegend": false,
         "type": "scatter",
         "x": [
          7,
          8
         ],
         "y": [
          2,
          5
         ]
        },
        {
         "line": {
          "color": "rgb(58, 82, 139)",
          "width": 2
         },
         "mode": "lines+markers",
         "name": "Action 3",
         "showlegend": false,
         "type": "scatter",
         "x": [
          7,
          8
         ],
         "y": [
          4,
          7
         ]
        },
        {
         "line": {
          "color": "rgb(58, 82, 139)",
          "width": 2
         },
         "mode": "lines+markers",
         "name": "Action 3",
         "showlegend": false,
         "type": "scatter",
         "x": [
          7,
          8
         ],
         "y": [
          8,
          11
         ]
        },
        {
         "line": {
          "color": "rgb(58, 82, 139)",
          "width": 2
         },
         "mode": "lines+markers",
         "name": "Action 3",
         "showlegend": false,
         "type": "scatter",
         "x": [
          7,
          8
         ],
         "y": [
          12,
          15
         ]
        },
        {
         "line": {
          "color": "rgb(58, 82, 139)",
          "width": 2
         },
         "mode": "lines+markers",
         "name": "Action 3",
         "showlegend": false,
         "type": "scatter",
         "x": [
          7,
          8
         ],
         "y": [
          39,
          42
         ]
        },
        {
         "line": {
          "color": "rgb(58, 82, 139)",
          "width": 2
         },
         "mode": "lines+markers",
         "name": "Action 3",
         "showlegend": false,
         "type": "scatter",
         "x": [
          7,
          8
         ],
         "y": [
          45,
          48
         ]
        },
        {
         "line": {
          "color": "rgb(32, 144, 140)",
          "width": 2
         },
         "mode": "lines+markers",
         "name": "Action 7",
         "showlegend": true,
         "type": "scatter",
         "x": [
          0,
          1
         ],
         "y": [
          2,
          9
         ]
        },
        {
         "line": {
          "color": "rgb(32, 144, 140)",
          "width": 2
         },
         "mode": "lines+markers",
         "name": "Action 7",
         "showlegend": false,
         "type": "scatter",
         "x": [
          0,
          1
         ],
         "y": [
          3,
          10
         ]
        },
        {
         "line": {
          "color": "rgb(32, 144, 140)",
          "width": 2
         },
         "mode": "lines+markers",
         "name": "Action 7",
         "showlegend": false,
         "type": "scatter",
         "x": [
          0,
          1
         ],
         "y": [
          4,
          11
         ]
        },
        {
         "line": {
          "color": "rgb(32, 144, 140)",
          "width": 2
         },
         "mode": "lines+markers",
         "name": "Action 7",
         "showlegend": false,
         "type": "scatter",
         "x": [
          0,
          1
         ],
         "y": [
          6,
          13
         ]
        },
        {
         "line": {
          "color": "rgb(32, 144, 140)",
          "width": 2
         },
         "mode": "lines+markers",
         "name": "Action 7",
         "showlegend": false,
         "type": "scatter",
         "x": [
          0,
          1
         ],
         "y": [
          12,
          19
         ]
        },
        {
         "line": {
          "color": "rgb(32, 144, 140)",
          "width": 2
         },
         "mode": "lines+markers",
         "name": "Action 7",
         "showlegend": false,
         "type": "scatter",
         "x": [
          0,
          1
         ],
         "y": [
          13,
          20
         ]
        },
        {
         "line": {
          "color": "rgb(32, 144, 140)",
          "width": 2
         },
         "mode": "lines+markers",
         "name": "Action 7",
         "showlegend": false,
         "type": "scatter",
         "x": [
          0,
          1
         ],
         "y": [
          14,
          21
         ]
        },
        {
         "line": {
          "color": "rgb(32, 144, 140)",
          "width": 2
         },
         "mode": "lines+markers",
         "name": "Action 7",
         "showlegend": false,
         "type": "scatter",
         "x": [
          0,
          1
         ],
         "y": [
          15,
          22
         ]
        },
        {
         "line": {
          "color": "rgb(32, 144, 140)",
          "width": 2
         },
         "mode": "lines+markers",
         "name": "Action 7",
         "showlegend": false,
         "type": "scatter",
         "x": [
          0,
          1
         ],
         "y": [
          22,
          29
         ]
        },
        {
         "line": {
          "color": "rgb(32, 144, 140)",
          "width": 2
         },
         "mode": "lines+markers",
         "name": "Action 7",
         "showlegend": false,
         "type": "scatter",
         "x": [
          0,
          1
         ],
         "y": [
          25,
          32
         ]
        },
        {
         "line": {
          "color": "rgb(32, 144, 140)",
          "width": 2
         },
         "mode": "lines+markers",
         "name": "Action 7",
         "showlegend": false,
         "type": "scatter",
         "x": [
          0,
          1
         ],
         "y": [
          35,
          42
         ]
        },
        {
         "line": {
          "color": "rgb(32, 144, 140)",
          "width": 2
         },
         "mode": "lines+markers",
         "name": "Action 7",
         "showlegend": false,
         "type": "scatter",
         "x": [
          0,
          1
         ],
         "y": [
          39,
          46
         ]
        },
        {
         "line": {
          "color": "rgb(32, 144, 140)",
          "width": 2
         },
         "mode": "lines+markers",
         "name": "Action 7",
         "showlegend": false,
         "type": "scatter",
         "x": [
          0,
          1
         ],
         "y": [
          44,
          51
         ]
        },
        {
         "line": {
          "color": "rgb(32, 144, 140)",
          "width": 2
         },
         "mode": "lines+markers",
         "name": "Action 7",
         "showlegend": false,
         "type": "scatter",
         "x": [
          0,
          1
         ],
         "y": [
          47,
          54
         ]
        },
        {
         "line": {
          "color": "rgb(32, 144, 140)",
          "width": 2
         },
         "mode": "lines+markers",
         "name": "Action 7",
         "showlegend": false,
         "type": "scatter",
         "x": [
          0,
          1
         ],
         "y": [
          52,
          59
         ]
        },
        {
         "line": {
          "color": "rgb(32, 144, 140)",
          "width": 2
         },
         "mode": "lines+markers",
         "name": "Action 7",
         "showlegend": false,
         "type": "scatter",
         "x": [
          0,
          1
         ],
         "y": [
          53,
          60
         ]
        },
        {
         "line": {
          "color": "rgb(32, 144, 140)",
          "width": 2
         },
         "mode": "lines+markers",
         "name": "Action 7",
         "showlegend": false,
         "type": "scatter",
         "x": [
          0,
          1
         ],
         "y": [
          55,
          62
         ]
        },
        {
         "line": {
          "color": "rgb(32, 144, 140)",
          "width": 2
         },
         "mode": "lines+markers",
         "name": "Action 7",
         "showlegend": false,
         "type": "scatter",
         "x": [
          0,
          1
         ],
         "y": [
          57,
          64
         ]
        },
        {
         "line": {
          "color": "rgb(32, 144, 140)",
          "width": 2
         },
         "mode": "lines+markers",
         "name": "Action 7",
         "showlegend": false,
         "type": "scatter",
         "x": [
          0,
          1
         ],
         "y": [
          64,
          71
         ]
        },
        {
         "line": {
          "color": "rgb(32, 144, 140)",
          "width": 2
         },
         "mode": "lines+markers",
         "name": "Action 7",
         "showlegend": false,
         "type": "scatter",
         "x": [
          0,
          1
         ],
         "y": [
          69,
          76
         ]
        },
        {
         "line": {
          "color": "rgb(32, 144, 140)",
          "width": 2
         },
         "mode": "lines+markers",
         "name": "Action 7",
         "showlegend": false,
         "type": "scatter",
         "x": [
          0,
          1
         ],
         "y": [
          70,
          77
         ]
        },
        {
         "line": {
          "color": "rgb(32, 144, 140)",
          "width": 2
         },
         "mode": "lines+markers",
         "name": "Action 7",
         "showlegend": false,
         "type": "scatter",
         "x": [
          0,
          1
         ],
         "y": [
          71,
          78
         ]
        },
        {
         "line": {
          "color": "rgb(32, 144, 140)",
          "width": 2
         },
         "mode": "lines+markers",
         "name": "Action 7",
         "showlegend": false,
         "type": "scatter",
         "x": [
          0,
          1
         ],
         "y": [
          73,
          80
         ]
        },
        {
         "line": {
          "color": "rgb(32, 144, 140)",
          "width": 2
         },
         "mode": "lines+markers",
         "name": "Action 7",
         "showlegend": false,
         "type": "scatter",
         "x": [
          0,
          1
         ],
         "y": [
          80,
          87
         ]
        },
        {
         "line": {
          "color": "rgb(32, 144, 140)",
          "width": 2
         },
         "mode": "lines+markers",
         "name": "Action 7",
         "showlegend": false,
         "type": "scatter",
         "x": [
          0,
          1
         ],
         "y": [
          83,
          90
         ]
        },
        {
         "line": {
          "color": "rgb(32, 144, 140)",
          "width": 2
         },
         "mode": "lines+markers",
         "name": "Action 7",
         "showlegend": false,
         "type": "scatter",
         "x": [
          0,
          1
         ],
         "y": [
          86,
          93
         ]
        },
        {
         "line": {
          "color": "rgb(32, 144, 140)",
          "width": 2
         },
         "mode": "lines+markers",
         "name": "Action 7",
         "showlegend": false,
         "type": "scatter",
         "x": [
          0,
          1
         ],
         "y": [
          87,
          94
         ]
        },
        {
         "line": {
          "color": "rgb(32, 144, 140)",
          "width": 2
         },
         "mode": "lines+markers",
         "name": "Action 7",
         "showlegend": false,
         "type": "scatter",
         "x": [
          1,
          2
         ],
         "y": [
          2,
          9
         ]
        },
        {
         "line": {
          "color": "rgb(32, 144, 140)",
          "width": 2
         },
         "mode": "lines+markers",
         "name": "Action 7",
         "showlegend": false,
         "type": "scatter",
         "x": [
          1,
          2
         ],
         "y": [
          3,
          10
         ]
        },
        {
         "line": {
          "color": "rgb(32, 144, 140)",
          "width": 2
         },
         "mode": "lines+markers",
         "name": "Action 7",
         "showlegend": false,
         "type": "scatter",
         "x": [
          1,
          2
         ],
         "y": [
          4,
          11
         ]
        },
        {
         "line": {
          "color": "rgb(32, 144, 140)",
          "width": 2
         },
         "mode": "lines+markers",
         "name": "Action 7",
         "showlegend": false,
         "type": "scatter",
         "x": [
          1,
          2
         ],
         "y": [
          6,
          13
         ]
        },
        {
         "line": {
          "color": "rgb(32, 144, 140)",
          "width": 2
         },
         "mode": "lines+markers",
         "name": "Action 7",
         "showlegend": false,
         "type": "scatter",
         "x": [
          1,
          2
         ],
         "y": [
          7,
          14
         ]
        },
        {
         "line": {
          "color": "rgb(32, 144, 140)",
          "width": 2
         },
         "mode": "lines+markers",
         "name": "Action 7",
         "showlegend": false,
         "type": "scatter",
         "x": [
          1,
          2
         ],
         "y": [
          13,
          20
         ]
        },
        {
         "line": {
          "color": "rgb(32, 144, 140)",
          "width": 2
         },
         "mode": "lines+markers",
         "name": "Action 7",
         "showlegend": false,
         "type": "scatter",
         "x": [
          1,
          2
         ],
         "y": [
          31,
          38
         ]
        },
        {
         "line": {
          "color": "rgb(32, 144, 140)",
          "width": 2
         },
         "mode": "lines+markers",
         "name": "Action 7",
         "showlegend": false,
         "type": "scatter",
         "x": [
          1,
          2
         ],
         "y": [
          33,
          40
         ]
        },
        {
         "line": {
          "color": "rgb(32, 144, 140)",
          "width": 2
         },
         "mode": "lines+markers",
         "name": "Action 7",
         "showlegend": false,
         "type": "scatter",
         "x": [
          1,
          2
         ],
         "y": [
          37,
          44
         ]
        },
        {
         "line": {
          "color": "rgb(32, 144, 140)",
          "width": 2
         },
         "mode": "lines+markers",
         "name": "Action 7",
         "showlegend": false,
         "type": "scatter",
         "x": [
          1,
          2
         ],
         "y": [
          38,
          45
         ]
        },
        {
         "line": {
          "color": "rgb(32, 144, 140)",
          "width": 2
         },
         "mode": "lines+markers",
         "name": "Action 7",
         "showlegend": false,
         "type": "scatter",
         "x": [
          1,
          2
         ],
         "y": [
          45,
          52
         ]
        },
        {
         "line": {
          "color": "rgb(32, 144, 140)",
          "width": 2
         },
         "mode": "lines+markers",
         "name": "Action 7",
         "showlegend": false,
         "type": "scatter",
         "x": [
          1,
          2
         ],
         "y": [
          47,
          54
         ]
        },
        {
         "line": {
          "color": "rgb(32, 144, 140)",
          "width": 2
         },
         "mode": "lines+markers",
         "name": "Action 7",
         "showlegend": false,
         "type": "scatter",
         "x": [
          1,
          2
         ],
         "y": [
          48,
          55
         ]
        },
        {
         "line": {
          "color": "rgb(32, 144, 140)",
          "width": 2
         },
         "mode": "lines+markers",
         "name": "Action 7",
         "showlegend": false,
         "type": "scatter",
         "x": [
          1,
          2
         ],
         "y": [
          49,
          56
         ]
        },
        {
         "line": {
          "color": "rgb(32, 144, 140)",
          "width": 2
         },
         "mode": "lines+markers",
         "name": "Action 7",
         "showlegend": false,
         "type": "scatter",
         "x": [
          1,
          2
         ],
         "y": [
          52,
          59
         ]
        },
        {
         "line": {
          "color": "rgb(32, 144, 140)",
          "width": 2
         },
         "mode": "lines+markers",
         "name": "Action 7",
         "showlegend": false,
         "type": "scatter",
         "x": [
          1,
          2
         ],
         "y": [
          56,
          63
         ]
        },
        {
         "line": {
          "color": "rgb(32, 144, 140)",
          "width": 2
         },
         "mode": "lines+markers",
         "name": "Action 7",
         "showlegend": false,
         "type": "scatter",
         "x": [
          1,
          2
         ],
         "y": [
          59,
          66
         ]
        },
        {
         "line": {
          "color": "rgb(32, 144, 140)",
          "width": 2
         },
         "mode": "lines+markers",
         "name": "Action 7",
         "showlegend": false,
         "type": "scatter",
         "x": [
          1,
          2
         ],
         "y": [
          70,
          77
         ]
        },
        {
         "line": {
          "color": "rgb(32, 144, 140)",
          "width": 2
         },
         "mode": "lines+markers",
         "name": "Action 7",
         "showlegend": false,
         "type": "scatter",
         "x": [
          1,
          2
         ],
         "y": [
          72,
          79
         ]
        },
        {
         "line": {
          "color": "rgb(32, 144, 140)",
          "width": 2
         },
         "mode": "lines+markers",
         "name": "Action 7",
         "showlegend": false,
         "type": "scatter",
         "x": [
          1,
          2
         ],
         "y": [
          74,
          81
         ]
        },
        {
         "line": {
          "color": "rgb(32, 144, 140)",
          "width": 2
         },
         "mode": "lines+markers",
         "name": "Action 7",
         "showlegend": false,
         "type": "scatter",
         "x": [
          1,
          2
         ],
         "y": [
          76,
          83
         ]
        },
        {
         "line": {
          "color": "rgb(32, 144, 140)",
          "width": 2
         },
         "mode": "lines+markers",
         "name": "Action 7",
         "showlegend": false,
         "type": "scatter",
         "x": [
          1,
          2
         ],
         "y": [
          82,
          89
         ]
        },
        {
         "line": {
          "color": "rgb(32, 144, 140)",
          "width": 2
         },
         "mode": "lines+markers",
         "name": "Action 7",
         "showlegend": false,
         "type": "scatter",
         "x": [
          1,
          2
         ],
         "y": [
          84,
          91
         ]
        },
        {
         "line": {
          "color": "rgb(32, 144, 140)",
          "width": 2
         },
         "mode": "lines+markers",
         "name": "Action 7",
         "showlegend": false,
         "type": "scatter",
         "x": [
          1,
          2
         ],
         "y": [
          85,
          92
         ]
        },
        {
         "line": {
          "color": "rgb(32, 144, 140)",
          "width": 2
         },
         "mode": "lines+markers",
         "name": "Action 7",
         "showlegend": false,
         "type": "scatter",
         "x": [
          1,
          2
         ],
         "y": [
          87,
          94
         ]
        },
        {
         "line": {
          "color": "rgb(32, 144, 140)",
          "width": 2
         },
         "mode": "lines+markers",
         "name": "Action 7",
         "showlegend": false,
         "type": "scatter",
         "x": [
          1,
          2
         ],
         "y": [
          89,
          96
         ]
        },
        {
         "line": {
          "color": "rgb(32, 144, 140)",
          "width": 2
         },
         "mode": "lines+markers",
         "name": "Action 7",
         "showlegend": false,
         "type": "scatter",
         "x": [
          2,
          3
         ],
         "y": [
          2,
          9
         ]
        },
        {
         "line": {
          "color": "rgb(32, 144, 140)",
          "width": 2
         },
         "mode": "lines+markers",
         "name": "Action 7",
         "showlegend": false,
         "type": "scatter",
         "x": [
          2,
          3
         ],
         "y": [
          4,
          11
         ]
        },
        {
         "line": {
          "color": "rgb(32, 144, 140)",
          "width": 2
         },
         "mode": "lines+markers",
         "name": "Action 7",
         "showlegend": false,
         "type": "scatter",
         "x": [
          2,
          3
         ],
         "y": [
          5,
          12
         ]
        },
        {
         "line": {
          "color": "rgb(32, 144, 140)",
          "width": 2
         },
         "mode": "lines+markers",
         "name": "Action 7",
         "showlegend": false,
         "type": "scatter",
         "x": [
          2,
          3
         ],
         "y": [
          9,
          16
         ]
        },
        {
         "line": {
          "color": "rgb(32, 144, 140)",
          "width": 2
         },
         "mode": "lines+markers",
         "name": "Action 7",
         "showlegend": false,
         "type": "scatter",
         "x": [
          2,
          3
         ],
         "y": [
          15,
          22
         ]
        },
        {
         "line": {
          "color": "rgb(32, 144, 140)",
          "width": 2
         },
         "mode": "lines+markers",
         "name": "Action 7",
         "showlegend": false,
         "type": "scatter",
         "x": [
          2,
          3
         ],
         "y": [
          22,
          29
         ]
        },
        {
         "line": {
          "color": "rgb(32, 144, 140)",
          "width": 2
         },
         "mode": "lines+markers",
         "name": "Action 7",
         "showlegend": false,
         "type": "scatter",
         "x": [
          2,
          3
         ],
         "y": [
          32,
          39
         ]
        },
        {
         "line": {
          "color": "rgb(32, 144, 140)",
          "width": 2
         },
         "mode": "lines+markers",
         "name": "Action 7",
         "showlegend": false,
         "type": "scatter",
         "x": [
          2,
          3
         ],
         "y": [
          35,
          42
         ]
        },
        {
         "line": {
          "color": "rgb(32, 144, 140)",
          "width": 2
         },
         "mode": "lines+markers",
         "name": "Action 7",
         "showlegend": false,
         "type": "scatter",
         "x": [
          2,
          3
         ],
         "y": [
          41,
          48
         ]
        },
        {
         "line": {
          "color": "rgb(32, 144, 140)",
          "width": 2
         },
         "mode": "lines+markers",
         "name": "Action 7",
         "showlegend": false,
         "type": "scatter",
         "x": [
          2,
          3
         ],
         "y": [
          43,
          50
         ]
        },
        {
         "line": {
          "color": "rgb(32, 144, 140)",
          "width": 2
         },
         "mode": "lines+markers",
         "name": "Action 7",
         "showlegend": false,
         "type": "scatter",
         "x": [
          2,
          3
         ],
         "y": [
          44,
          51
         ]
        },
        {
         "line": {
          "color": "rgb(32, 144, 140)",
          "width": 2
         },
         "mode": "lines+markers",
         "name": "Action 7",
         "showlegend": false,
         "type": "scatter",
         "x": [
          2,
          3
         ],
         "y": [
          48,
          55
         ]
        },
        {
         "line": {
          "color": "rgb(32, 144, 140)",
          "width": 2
         },
         "mode": "lines+markers",
         "name": "Action 7",
         "showlegend": false,
         "type": "scatter",
         "x": [
          2,
          3
         ],
         "y": [
          54,
          61
         ]
        },
        {
         "line": {
          "color": "rgb(32, 144, 140)",
          "width": 2
         },
         "mode": "lines+markers",
         "name": "Action 7",
         "showlegend": false,
         "type": "scatter",
         "x": [
          2,
          3
         ],
         "y": [
          55,
          62
         ]
        },
        {
         "line": {
          "color": "rgb(32, 144, 140)",
          "width": 2
         },
         "mode": "lines+markers",
         "name": "Action 7",
         "showlegend": false,
         "type": "scatter",
         "x": [
          2,
          3
         ],
         "y": [
          56,
          63
         ]
        },
        {
         "line": {
          "color": "rgb(32, 144, 140)",
          "width": 2
         },
         "mode": "lines+markers",
         "name": "Action 7",
         "showlegend": false,
         "type": "scatter",
         "x": [
          2,
          3
         ],
         "y": [
          59,
          66
         ]
        },
        {
         "line": {
          "color": "rgb(32, 144, 140)",
          "width": 2
         },
         "mode": "lines+markers",
         "name": "Action 7",
         "showlegend": false,
         "type": "scatter",
         "x": [
          2,
          3
         ],
         "y": [
          60,
          67
         ]
        },
        {
         "line": {
          "color": "rgb(32, 144, 140)",
          "width": 2
         },
         "mode": "lines+markers",
         "name": "Action 7",
         "showlegend": false,
         "type": "scatter",
         "x": [
          2,
          3
         ],
         "y": [
          68,
          75
         ]
        },
        {
         "line": {
          "color": "rgb(32, 144, 140)",
          "width": 2
         },
         "mode": "lines+markers",
         "name": "Action 7",
         "showlegend": false,
         "type": "scatter",
         "x": [
          2,
          3
         ],
         "y": [
          72,
          79
         ]
        },
        {
         "line": {
          "color": "rgb(32, 144, 140)",
          "width": 2
         },
         "mode": "lines+markers",
         "name": "Action 7",
         "showlegend": false,
         "type": "scatter",
         "x": [
          2,
          3
         ],
         "y": [
          79,
          86
         ]
        },
        {
         "line": {
          "color": "rgb(32, 144, 140)",
          "width": 2
         },
         "mode": "lines+markers",
         "name": "Action 7",
         "showlegend": false,
         "type": "scatter",
         "x": [
          2,
          3
         ],
         "y": [
          81,
          88
         ]
        },
        {
         "line": {
          "color": "rgb(32, 144, 140)",
          "width": 2
         },
         "mode": "lines+markers",
         "name": "Action 7",
         "showlegend": false,
         "type": "scatter",
         "x": [
          2,
          3
         ],
         "y": [
          82,
          89
         ]
        },
        {
         "line": {
          "color": "rgb(32, 144, 140)",
          "width": 2
         },
         "mode": "lines+markers",
         "name": "Action 7",
         "showlegend": false,
         "type": "scatter",
         "x": [
          2,
          3
         ],
         "y": [
          83,
          90
         ]
        },
        {
         "line": {
          "color": "rgb(32, 144, 140)",
          "width": 2
         },
         "mode": "lines+markers",
         "name": "Action 7",
         "showlegend": false,
         "type": "scatter",
         "x": [
          2,
          3
         ],
         "y": [
          84,
          91
         ]
        },
        {
         "line": {
          "color": "rgb(32, 144, 140)",
          "width": 2
         },
         "mode": "lines+markers",
         "name": "Action 7",
         "showlegend": false,
         "type": "scatter",
         "x": [
          2,
          3
         ],
         "y": [
          85,
          92
         ]
        },
        {
         "line": {
          "color": "rgb(32, 144, 140)",
          "width": 2
         },
         "mode": "lines+markers",
         "name": "Action 7",
         "showlegend": false,
         "type": "scatter",
         "x": [
          2,
          3
         ],
         "y": [
          86,
          93
         ]
        },
        {
         "line": {
          "color": "rgb(32, 144, 140)",
          "width": 2
         },
         "mode": "lines+markers",
         "name": "Action 7",
         "showlegend": false,
         "type": "scatter",
         "x": [
          2,
          3
         ],
         "y": [
          87,
          94
         ]
        },
        {
         "line": {
          "color": "rgb(32, 144, 140)",
          "width": 2
         },
         "mode": "lines+markers",
         "name": "Action 7",
         "showlegend": false,
         "type": "scatter",
         "x": [
          2,
          3
         ],
         "y": [
          89,
          96
         ]
        },
        {
         "line": {
          "color": "rgb(32, 144, 140)",
          "width": 2
         },
         "mode": "lines+markers",
         "name": "Action 7",
         "showlegend": false,
         "type": "scatter",
         "x": [
          3,
          4
         ],
         "y": [
          2,
          9
         ]
        },
        {
         "line": {
          "color": "rgb(32, 144, 140)",
          "width": 2
         },
         "mode": "lines+markers",
         "name": "Action 7",
         "showlegend": false,
         "type": "scatter",
         "x": [
          3,
          4
         ],
         "y": [
          3,
          10
         ]
        },
        {
         "line": {
          "color": "rgb(32, 144, 140)",
          "width": 2
         },
         "mode": "lines+markers",
         "name": "Action 7",
         "showlegend": false,
         "type": "scatter",
         "x": [
          3,
          4
         ],
         "y": [
          9,
          16
         ]
        },
        {
         "line": {
          "color": "rgb(32, 144, 140)",
          "width": 2
         },
         "mode": "lines+markers",
         "name": "Action 7",
         "showlegend": false,
         "type": "scatter",
         "x": [
          3,
          4
         ],
         "y": [
          15,
          22
         ]
        },
        {
         "line": {
          "color": "rgb(32, 144, 140)",
          "width": 2
         },
         "mode": "lines+markers",
         "name": "Action 7",
         "showlegend": false,
         "type": "scatter",
         "x": [
          3,
          4
         ],
         "y": [
          16,
          23
         ]
        },
        {
         "line": {
          "color": "rgb(32, 144, 140)",
          "width": 2
         },
         "mode": "lines+markers",
         "name": "Action 7",
         "showlegend": false,
         "type": "scatter",
         "x": [
          3,
          4
         ],
         "y": [
          20,
          27
         ]
        },
        {
         "line": {
          "color": "rgb(32, 144, 140)",
          "width": 2
         },
         "mode": "lines+markers",
         "name": "Action 7",
         "showlegend": false,
         "type": "scatter",
         "x": [
          3,
          4
         ],
         "y": [
          26,
          33
         ]
        },
        {
         "line": {
          "color": "rgb(32, 144, 140)",
          "width": 2
         },
         "mode": "lines+markers",
         "name": "Action 7",
         "showlegend": false,
         "type": "scatter",
         "x": [
          3,
          4
         ],
         "y": [
          38,
          45
         ]
        },
        {
         "line": {
          "color": "rgb(32, 144, 140)",
          "width": 2
         },
         "mode": "lines+markers",
         "name": "Action 7",
         "showlegend": false,
         "type": "scatter",
         "x": [
          3,
          4
         ],
         "y": [
          42,
          49
         ]
        },
        {
         "line": {
          "color": "rgb(32, 144, 140)",
          "width": 2
         },
         "mode": "lines+markers",
         "name": "Action 7",
         "showlegend": false,
         "type": "scatter",
         "x": [
          3,
          4
         ],
         "y": [
          43,
          50
         ]
        },
        {
         "line": {
          "color": "rgb(32, 144, 140)",
          "width": 2
         },
         "mode": "lines+markers",
         "name": "Action 7",
         "showlegend": false,
         "type": "scatter",
         "x": [
          3,
          4
         ],
         "y": [
          45,
          52
         ]
        },
        {
         "line": {
          "color": "rgb(32, 144, 140)",
          "width": 2
         },
         "mode": "lines+markers",
         "name": "Action 7",
         "showlegend": false,
         "type": "scatter",
         "x": [
          3,
          4
         ],
         "y": [
          49,
          56
         ]
        },
        {
         "line": {
          "color": "rgb(32, 144, 140)",
          "width": 2
         },
         "mode": "lines+markers",
         "name": "Action 7",
         "showlegend": false,
         "type": "scatter",
         "x": [
          3,
          4
         ],
         "y": [
          55,
          62
         ]
        },
        {
         "line": {
          "color": "rgb(32, 144, 140)",
          "width": 2
         },
         "mode": "lines+markers",
         "name": "Action 7",
         "showlegend": false,
         "type": "scatter",
         "x": [
          3,
          4
         ],
         "y": [
          64,
          71
         ]
        },
        {
         "line": {
          "color": "rgb(32, 144, 140)",
          "width": 2
         },
         "mode": "lines+markers",
         "name": "Action 7",
         "showlegend": false,
         "type": "scatter",
         "x": [
          3,
          4
         ],
         "y": [
          65,
          72
         ]
        },
        {
         "line": {
          "color": "rgb(32, 144, 140)",
          "width": 2
         },
         "mode": "lines+markers",
         "name": "Action 7",
         "showlegend": false,
         "type": "scatter",
         "x": [
          3,
          4
         ],
         "y": [
          68,
          75
         ]
        },
        {
         "line": {
          "color": "rgb(32, 144, 140)",
          "width": 2
         },
         "mode": "lines+markers",
         "name": "Action 7",
         "showlegend": false,
         "type": "scatter",
         "x": [
          3,
          4
         ],
         "y": [
          69,
          76
         ]
        },
        {
         "line": {
          "color": "rgb(32, 144, 140)",
          "width": 2
         },
         "mode": "lines+markers",
         "name": "Action 7",
         "showlegend": false,
         "type": "scatter",
         "x": [
          3,
          4
         ],
         "y": [
          72,
          79
         ]
        },
        {
         "line": {
          "color": "rgb(32, 144, 140)",
          "width": 2
         },
         "mode": "lines+markers",
         "name": "Action 7",
         "showlegend": false,
         "type": "scatter",
         "x": [
          3,
          4
         ],
         "y": [
          75,
          82
         ]
        },
        {
         "line": {
          "color": "rgb(32, 144, 140)",
          "width": 2
         },
         "mode": "lines+markers",
         "name": "Action 7",
         "showlegend": false,
         "type": "scatter",
         "x": [
          3,
          4
         ],
         "y": [
          81,
          88
         ]
        },
        {
         "line": {
          "color": "rgb(32, 144, 140)",
          "width": 2
         },
         "mode": "lines+markers",
         "name": "Action 7",
         "showlegend": false,
         "type": "scatter",
         "x": [
          3,
          4
         ],
         "y": [
          82,
          89
         ]
        },
        {
         "line": {
          "color": "rgb(32, 144, 140)",
          "width": 2
         },
         "mode": "lines+markers",
         "name": "Action 7",
         "showlegend": false,
         "type": "scatter",
         "x": [
          3,
          4
         ],
         "y": [
          83,
          90
         ]
        },
        {
         "line": {
          "color": "rgb(32, 144, 140)",
          "width": 2
         },
         "mode": "lines+markers",
         "name": "Action 7",
         "showlegend": false,
         "type": "scatter",
         "x": [
          3,
          4
         ],
         "y": [
          84,
          91
         ]
        },
        {
         "line": {
          "color": "rgb(32, 144, 140)",
          "width": 2
         },
         "mode": "lines+markers",
         "name": "Action 7",
         "showlegend": false,
         "type": "scatter",
         "x": [
          3,
          4
         ],
         "y": [
          85,
          92
         ]
        },
        {
         "line": {
          "color": "rgb(32, 144, 140)",
          "width": 2
         },
         "mode": "lines+markers",
         "name": "Action 7",
         "showlegend": false,
         "type": "scatter",
         "x": [
          3,
          4
         ],
         "y": [
          86,
          93
         ]
        },
        {
         "line": {
          "color": "rgb(32, 144, 140)",
          "width": 2
         },
         "mode": "lines+markers",
         "name": "Action 7",
         "showlegend": false,
         "type": "scatter",
         "x": [
          3,
          4
         ],
         "y": [
          87,
          94
         ]
        },
        {
         "line": {
          "color": "rgb(32, 144, 140)",
          "width": 2
         },
         "mode": "lines+markers",
         "name": "Action 7",
         "showlegend": false,
         "type": "scatter",
         "x": [
          4,
          5
         ],
         "y": [
          7,
          14
         ]
        },
        {
         "line": {
          "color": "rgb(32, 144, 140)",
          "width": 2
         },
         "mode": "lines+markers",
         "name": "Action 7",
         "showlegend": false,
         "type": "scatter",
         "x": [
          4,
          5
         ],
         "y": [
          8,
          15
         ]
        },
        {
         "line": {
          "color": "rgb(32, 144, 140)",
          "width": 2
         },
         "mode": "lines+markers",
         "name": "Action 7",
         "showlegend": false,
         "type": "scatter",
         "x": [
          4,
          5
         ],
         "y": [
          15,
          22
         ]
        },
        {
         "line": {
          "color": "rgb(32, 144, 140)",
          "width": 2
         },
         "mode": "lines+markers",
         "name": "Action 7",
         "showlegend": false,
         "type": "scatter",
         "x": [
          4,
          5
         ],
         "y": [
          18,
          25
         ]
        },
        {
         "line": {
          "color": "rgb(32, 144, 140)",
          "width": 2
         },
         "mode": "lines+markers",
         "name": "Action 7",
         "showlegend": false,
         "type": "scatter",
         "x": [
          4,
          5
         ],
         "y": [
          20,
          27
         ]
        },
        {
         "line": {
          "color": "rgb(32, 144, 140)",
          "width": 2
         },
         "mode": "lines+markers",
         "name": "Action 7",
         "showlegend": false,
         "type": "scatter",
         "x": [
          4,
          5
         ],
         "y": [
          25,
          32
         ]
        },
        {
         "line": {
          "color": "rgb(32, 144, 140)",
          "width": 2
         },
         "mode": "lines+markers",
         "name": "Action 7",
         "showlegend": false,
         "type": "scatter",
         "x": [
          4,
          5
         ],
         "y": [
          29,
          36
         ]
        },
        {
         "line": {
          "color": "rgb(32, 144, 140)",
          "width": 2
         },
         "mode": "lines+markers",
         "name": "Action 7",
         "showlegend": false,
         "type": "scatter",
         "x": [
          4,
          5
         ],
         "y": [
          31,
          38
         ]
        },
        {
         "line": {
          "color": "rgb(32, 144, 140)",
          "width": 2
         },
         "mode": "lines+markers",
         "name": "Action 7",
         "showlegend": false,
         "type": "scatter",
         "x": [
          4,
          5
         ],
         "y": [
          33,
          40
         ]
        },
        {
         "line": {
          "color": "rgb(32, 144, 140)",
          "width": 2
         },
         "mode": "lines+markers",
         "name": "Action 7",
         "showlegend": false,
         "type": "scatter",
         "x": [
          4,
          5
         ],
         "y": [
          34,
          41
         ]
        },
        {
         "line": {
          "color": "rgb(32, 144, 140)",
          "width": 2
         },
         "mode": "lines+markers",
         "name": "Action 7",
         "showlegend": false,
         "type": "scatter",
         "x": [
          4,
          5
         ],
         "y": [
          36,
          43
         ]
        },
        {
         "line": {
          "color": "rgb(32, 144, 140)",
          "width": 2
         },
         "mode": "lines+markers",
         "name": "Action 7",
         "showlegend": false,
         "type": "scatter",
         "x": [
          4,
          5
         ],
         "y": [
          37,
          44
         ]
        },
        {
         "line": {
          "color": "rgb(32, 144, 140)",
          "width": 2
         },
         "mode": "lines+markers",
         "name": "Action 7",
         "showlegend": false,
         "type": "scatter",
         "x": [
          4,
          5
         ],
         "y": [
          45,
          52
         ]
        },
        {
         "line": {
          "color": "rgb(32, 144, 140)",
          "width": 2
         },
         "mode": "lines+markers",
         "name": "Action 7",
         "showlegend": false,
         "type": "scatter",
         "x": [
          4,
          5
         ],
         "y": [
          50,
          57
         ]
        },
        {
         "line": {
          "color": "rgb(32, 144, 140)",
          "width": 2
         },
         "mode": "lines+markers",
         "name": "Action 7",
         "showlegend": false,
         "type": "scatter",
         "x": [
          4,
          5
         ],
         "y": [
          52,
          59
         ]
        },
        {
         "line": {
          "color": "rgb(32, 144, 140)",
          "width": 2
         },
         "mode": "lines+markers",
         "name": "Action 7",
         "showlegend": false,
         "type": "scatter",
         "x": [
          4,
          5
         ],
         "y": [
          57,
          64
         ]
        },
        {
         "line": {
          "color": "rgb(32, 144, 140)",
          "width": 2
         },
         "mode": "lines+markers",
         "name": "Action 7",
         "showlegend": false,
         "type": "scatter",
         "x": [
          4,
          5
         ],
         "y": [
          66,
          73
         ]
        },
        {
         "line": {
          "color": "rgb(32, 144, 140)",
          "width": 2
         },
         "mode": "lines+markers",
         "name": "Action 7",
         "showlegend": false,
         "type": "scatter",
         "x": [
          4,
          5
         ],
         "y": [
          73,
          80
         ]
        },
        {
         "line": {
          "color": "rgb(32, 144, 140)",
          "width": 2
         },
         "mode": "lines+markers",
         "name": "Action 7",
         "showlegend": false,
         "type": "scatter",
         "x": [
          4,
          5
         ],
         "y": [
          82,
          89
         ]
        },
        {
         "line": {
          "color": "rgb(32, 144, 140)",
          "width": 2
         },
         "mode": "lines+markers",
         "name": "Action 7",
         "showlegend": false,
         "type": "scatter",
         "x": [
          4,
          5
         ],
         "y": [
          83,
          90
         ]
        },
        {
         "line": {
          "color": "rgb(32, 144, 140)",
          "width": 2
         },
         "mode": "lines+markers",
         "name": "Action 7",
         "showlegend": false,
         "type": "scatter",
         "x": [
          4,
          5
         ],
         "y": [
          84,
          91
         ]
        },
        {
         "line": {
          "color": "rgb(32, 144, 140)",
          "width": 2
         },
         "mode": "lines+markers",
         "name": "Action 7",
         "showlegend": false,
         "type": "scatter",
         "x": [
          4,
          5
         ],
         "y": [
          85,
          92
         ]
        },
        {
         "line": {
          "color": "rgb(32, 144, 140)",
          "width": 2
         },
         "mode": "lines+markers",
         "name": "Action 7",
         "showlegend": false,
         "type": "scatter",
         "x": [
          4,
          5
         ],
         "y": [
          86,
          93
         ]
        },
        {
         "line": {
          "color": "rgb(32, 144, 140)",
          "width": 2
         },
         "mode": "lines+markers",
         "name": "Action 7",
         "showlegend": false,
         "type": "scatter",
         "x": [
          4,
          5
         ],
         "y": [
          87,
          94
         ]
        },
        {
         "line": {
          "color": "rgb(32, 144, 140)",
          "width": 2
         },
         "mode": "lines+markers",
         "name": "Action 7",
         "showlegend": false,
         "type": "scatter",
         "x": [
          4,
          5
         ],
         "y": [
          88,
          95
         ]
        },
        {
         "line": {
          "color": "rgb(32, 144, 140)",
          "width": 2
         },
         "mode": "lines+markers",
         "name": "Action 7",
         "showlegend": false,
         "type": "scatter",
         "x": [
          4,
          5
         ],
         "y": [
          89,
          96
         ]
        },
        {
         "line": {
          "color": "rgb(32, 144, 140)",
          "width": 2
         },
         "mode": "lines+markers",
         "name": "Action 7",
         "showlegend": false,
         "type": "scatter",
         "x": [
          5,
          6
         ],
         "y": [
          7,
          14
         ]
        },
        {
         "line": {
          "color": "rgb(32, 144, 140)",
          "width": 2
         },
         "mode": "lines+markers",
         "name": "Action 7",
         "showlegend": false,
         "type": "scatter",
         "x": [
          5,
          6
         ],
         "y": [
          9,
          16
         ]
        },
        {
         "line": {
          "color": "rgb(32, 144, 140)",
          "width": 2
         },
         "mode": "lines+markers",
         "name": "Action 7",
         "showlegend": false,
         "type": "scatter",
         "x": [
          5,
          6
         ],
         "y": [
          15,
          22
         ]
        },
        {
         "line": {
          "color": "rgb(32, 144, 140)",
          "width": 2
         },
         "mode": "lines+markers",
         "name": "Action 7",
         "showlegend": false,
         "type": "scatter",
         "x": [
          5,
          6
         ],
         "y": [
          20,
          27
         ]
        },
        {
         "line": {
          "color": "rgb(32, 144, 140)",
          "width": 2
         },
         "mode": "lines+markers",
         "name": "Action 7",
         "showlegend": false,
         "type": "scatter",
         "x": [
          5,
          6
         ],
         "y": [
          21,
          28
         ]
        },
        {
         "line": {
          "color": "rgb(32, 144, 140)",
          "width": 2
         },
         "mode": "lines+markers",
         "name": "Action 7",
         "showlegend": false,
         "type": "scatter",
         "x": [
          5,
          6
         ],
         "y": [
          23,
          30
         ]
        },
        {
         "line": {
          "color": "rgb(32, 144, 140)",
          "width": 2
         },
         "mode": "lines+markers",
         "name": "Action 7",
         "showlegend": false,
         "type": "scatter",
         "x": [
          5,
          6
         ],
         "y": [
          37,
          44
         ]
        },
        {
         "line": {
          "color": "rgb(32, 144, 140)",
          "width": 2
         },
         "mode": "lines+markers",
         "name": "Action 7",
         "showlegend": false,
         "type": "scatter",
         "x": [
          5,
          6
         ],
         "y": [
          43,
          50
         ]
        },
        {
         "line": {
          "color": "rgb(32, 144, 140)",
          "width": 2
         },
         "mode": "lines+markers",
         "name": "Action 7",
         "showlegend": false,
         "type": "scatter",
         "x": [
          5,
          6
         ],
         "y": [
          44,
          51
         ]
        },
        {
         "line": {
          "color": "rgb(32, 144, 140)",
          "width": 2
         },
         "mode": "lines+markers",
         "name": "Action 7",
         "showlegend": false,
         "type": "scatter",
         "x": [
          5,
          6
         ],
         "y": [
          50,
          57
         ]
        },
        {
         "line": {
          "color": "rgb(32, 144, 140)",
          "width": 2
         },
         "mode": "lines+markers",
         "name": "Action 7",
         "showlegend": false,
         "type": "scatter",
         "x": [
          5,
          6
         ],
         "y": [
          55,
          62
         ]
        },
        {
         "line": {
          "color": "rgb(32, 144, 140)",
          "width": 2
         },
         "mode": "lines+markers",
         "name": "Action 7",
         "showlegend": false,
         "type": "scatter",
         "x": [
          5,
          6
         ],
         "y": [
          58,
          65
         ]
        },
        {
         "line": {
          "color": "rgb(32, 144, 140)",
          "width": 2
         },
         "mode": "lines+markers",
         "name": "Action 7",
         "showlegend": false,
         "type": "scatter",
         "x": [
          5,
          6
         ],
         "y": [
          61,
          68
         ]
        },
        {
         "line": {
          "color": "rgb(32, 144, 140)",
          "width": 2
         },
         "mode": "lines+markers",
         "name": "Action 7",
         "showlegend": false,
         "type": "scatter",
         "x": [
          5,
          6
         ],
         "y": [
          68,
          75
         ]
        },
        {
         "line": {
          "color": "rgb(32, 144, 140)",
          "width": 2
         },
         "mode": "lines+markers",
         "name": "Action 7",
         "showlegend": false,
         "type": "scatter",
         "x": [
          5,
          6
         ],
         "y": [
          70,
          77
         ]
        },
        {
         "line": {
          "color": "rgb(32, 144, 140)",
          "width": 2
         },
         "mode": "lines+markers",
         "name": "Action 7",
         "showlegend": false,
         "type": "scatter",
         "x": [
          5,
          6
         ],
         "y": [
          71,
          78
         ]
        },
        {
         "line": {
          "color": "rgb(32, 144, 140)",
          "width": 2
         },
         "mode": "lines+markers",
         "name": "Action 7",
         "showlegend": false,
         "type": "scatter",
         "x": [
          5,
          6
         ],
         "y": [
          77,
          84
         ]
        },
        {
         "line": {
          "color": "rgb(32, 144, 140)",
          "width": 2
         },
         "mode": "lines+markers",
         "name": "Action 7",
         "showlegend": false,
         "type": "scatter",
         "x": [
          5,
          6
         ],
         "y": [
          78,
          85
         ]
        },
        {
         "line": {
          "color": "rgb(32, 144, 140)",
          "width": 2
         },
         "mode": "lines+markers",
         "name": "Action 7",
         "showlegend": false,
         "type": "scatter",
         "x": [
          5,
          6
         ],
         "y": [
          79,
          86
         ]
        },
        {
         "line": {
          "color": "rgb(32, 144, 140)",
          "width": 2
         },
         "mode": "lines+markers",
         "name": "Action 7",
         "showlegend": false,
         "type": "scatter",
         "x": [
          5,
          6
         ],
         "y": [
          81,
          88
         ]
        },
        {
         "line": {
          "color": "rgb(32, 144, 140)",
          "width": 2
         },
         "mode": "lines+markers",
         "name": "Action 7",
         "showlegend": false,
         "type": "scatter",
         "x": [
          5,
          6
         ],
         "y": [
          82,
          89
         ]
        },
        {
         "line": {
          "color": "rgb(32, 144, 140)",
          "width": 2
         },
         "mode": "lines+markers",
         "name": "Action 7",
         "showlegend": false,
         "type": "scatter",
         "x": [
          5,
          6
         ],
         "y": [
          83,
          90
         ]
        },
        {
         "line": {
          "color": "rgb(32, 144, 140)",
          "width": 2
         },
         "mode": "lines+markers",
         "name": "Action 7",
         "showlegend": false,
         "type": "scatter",
         "x": [
          5,
          6
         ],
         "y": [
          84,
          91
         ]
        },
        {
         "line": {
          "color": "rgb(32, 144, 140)",
          "width": 2
         },
         "mode": "lines+markers",
         "name": "Action 7",
         "showlegend": false,
         "type": "scatter",
         "x": [
          5,
          6
         ],
         "y": [
          86,
          93
         ]
        },
        {
         "line": {
          "color": "rgb(32, 144, 140)",
          "width": 2
         },
         "mode": "lines+markers",
         "name": "Action 7",
         "showlegend": false,
         "type": "scatter",
         "x": [
          5,
          6
         ],
         "y": [
          87,
          94
         ]
        },
        {
         "line": {
          "color": "rgb(32, 144, 140)",
          "width": 2
         },
         "mode": "lines+markers",
         "name": "Action 7",
         "showlegend": false,
         "type": "scatter",
         "x": [
          5,
          6
         ],
         "y": [
          88,
          95
         ]
        },
        {
         "line": {
          "color": "rgb(32, 144, 140)",
          "width": 2
         },
         "mode": "lines+markers",
         "name": "Action 7",
         "showlegend": false,
         "type": "scatter",
         "x": [
          6,
          7
         ],
         "y": [
          0,
          7
         ]
        },
        {
         "line": {
          "color": "rgb(32, 144, 140)",
          "width": 2
         },
         "mode": "lines+markers",
         "name": "Action 7",
         "showlegend": false,
         "type": "scatter",
         "x": [
          6,
          7
         ],
         "y": [
          3,
          10
         ]
        },
        {
         "line": {
          "color": "rgb(32, 144, 140)",
          "width": 2
         },
         "mode": "lines+markers",
         "name": "Action 7",
         "showlegend": false,
         "type": "scatter",
         "x": [
          6,
          7
         ],
         "y": [
          17,
          24
         ]
        },
        {
         "line": {
          "color": "rgb(32, 144, 140)",
          "width": 2
         },
         "mode": "lines+markers",
         "name": "Action 7",
         "showlegend": false,
         "type": "scatter",
         "x": [
          6,
          7
         ],
         "y": [
          18,
          25
         ]
        },
        {
         "line": {
          "color": "rgb(32, 144, 140)",
          "width": 2
         },
         "mode": "lines+markers",
         "name": "Action 7",
         "showlegend": false,
         "type": "scatter",
         "x": [
          6,
          7
         ],
         "y": [
          29,
          36
         ]
        },
        {
         "line": {
          "color": "rgb(32, 144, 140)",
          "width": 2
         },
         "mode": "lines+markers",
         "name": "Action 7",
         "showlegend": false,
         "type": "scatter",
         "x": [
          6,
          7
         ],
         "y": [
          33,
          40
         ]
        },
        {
         "line": {
          "color": "rgb(32, 144, 140)",
          "width": 2
         },
         "mode": "lines+markers",
         "name": "Action 7",
         "showlegend": false,
         "type": "scatter",
         "x": [
          6,
          7
         ],
         "y": [
          35,
          42
         ]
        },
        {
         "line": {
          "color": "rgb(32, 144, 140)",
          "width": 2
         },
         "mode": "lines+markers",
         "name": "Action 7",
         "showlegend": false,
         "type": "scatter",
         "x": [
          6,
          7
         ],
         "y": [
          41,
          48
         ]
        },
        {
         "line": {
          "color": "rgb(32, 144, 140)",
          "width": 2
         },
         "mode": "lines+markers",
         "name": "Action 7",
         "showlegend": false,
         "type": "scatter",
         "x": [
          6,
          7
         ],
         "y": [
          43,
          50
         ]
        },
        {
         "line": {
          "color": "rgb(32, 144, 140)",
          "width": 2
         },
         "mode": "lines+markers",
         "name": "Action 7",
         "showlegend": false,
         "type": "scatter",
         "x": [
          6,
          7
         ],
         "y": [
          44,
          51
         ]
        },
        {
         "line": {
          "color": "rgb(32, 144, 140)",
          "width": 2
         },
         "mode": "lines+markers",
         "name": "Action 7",
         "showlegend": false,
         "type": "scatter",
         "x": [
          6,
          7
         ],
         "y": [
          50,
          57
         ]
        },
        {
         "line": {
          "color": "rgb(32, 144, 140)",
          "width": 2
         },
         "mode": "lines+markers",
         "name": "Action 7",
         "showlegend": false,
         "type": "scatter",
         "x": [
          6,
          7
         ],
         "y": [
          53,
          60
         ]
        },
        {
         "line": {
          "color": "rgb(32, 144, 140)",
          "width": 2
         },
         "mode": "lines+markers",
         "name": "Action 7",
         "showlegend": false,
         "type": "scatter",
         "x": [
          6,
          7
         ],
         "y": [
          55,
          62
         ]
        },
        {
         "line": {
          "color": "rgb(32, 144, 140)",
          "width": 2
         },
         "mode": "lines+markers",
         "name": "Action 7",
         "showlegend": false,
         "type": "scatter",
         "x": [
          6,
          7
         ],
         "y": [
          63,
          70
         ]
        },
        {
         "line": {
          "color": "rgb(32, 144, 140)",
          "width": 2
         },
         "mode": "lines+markers",
         "name": "Action 7",
         "showlegend": false,
         "type": "scatter",
         "x": [
          6,
          7
         ],
         "y": [
          72,
          79
         ]
        },
        {
         "line": {
          "color": "rgb(32, 144, 140)",
          "width": 2
         },
         "mode": "lines+markers",
         "name": "Action 7",
         "showlegend": false,
         "type": "scatter",
         "x": [
          6,
          7
         ],
         "y": [
          74,
          81
         ]
        },
        {
         "line": {
          "color": "rgb(32, 144, 140)",
          "width": 2
         },
         "mode": "lines+markers",
         "name": "Action 7",
         "showlegend": false,
         "type": "scatter",
         "x": [
          6,
          7
         ],
         "y": [
          75,
          82
         ]
        },
        {
         "line": {
          "color": "rgb(32, 144, 140)",
          "width": 2
         },
         "mode": "lines+markers",
         "name": "Action 7",
         "showlegend": false,
         "type": "scatter",
         "x": [
          6,
          7
         ],
         "y": [
          76,
          83
         ]
        },
        {
         "line": {
          "color": "rgb(32, 144, 140)",
          "width": 2
         },
         "mode": "lines+markers",
         "name": "Action 7",
         "showlegend": false,
         "type": "scatter",
         "x": [
          6,
          7
         ],
         "y": [
          81,
          88
         ]
        },
        {
         "line": {
          "color": "rgb(32, 144, 140)",
          "width": 2
         },
         "mode": "lines+markers",
         "name": "Action 7",
         "showlegend": false,
         "type": "scatter",
         "x": [
          6,
          7
         ],
         "y": [
          82,
          89
         ]
        },
        {
         "line": {
          "color": "rgb(32, 144, 140)",
          "width": 2
         },
         "mode": "lines+markers",
         "name": "Action 7",
         "showlegend": false,
         "type": "scatter",
         "x": [
          6,
          7
         ],
         "y": [
          83,
          90
         ]
        },
        {
         "line": {
          "color": "rgb(32, 144, 140)",
          "width": 2
         },
         "mode": "lines+markers",
         "name": "Action 7",
         "showlegend": false,
         "type": "scatter",
         "x": [
          6,
          7
         ],
         "y": [
          86,
          93
         ]
        },
        {
         "line": {
          "color": "rgb(32, 144, 140)",
          "width": 2
         },
         "mode": "lines+markers",
         "name": "Action 7",
         "showlegend": false,
         "type": "scatter",
         "x": [
          6,
          7
         ],
         "y": [
          87,
          94
         ]
        },
        {
         "line": {
          "color": "rgb(32, 144, 140)",
          "width": 2
         },
         "mode": "lines+markers",
         "name": "Action 7",
         "showlegend": false,
         "type": "scatter",
         "x": [
          6,
          7
         ],
         "y": [
          88,
          95
         ]
        },
        {
         "line": {
          "color": "rgb(32, 144, 140)",
          "width": 2
         },
         "mode": "lines+markers",
         "name": "Action 7",
         "showlegend": false,
         "type": "scatter",
         "x": [
          7,
          8
         ],
         "y": [
          1,
          8
         ]
        },
        {
         "line": {
          "color": "rgb(32, 144, 140)",
          "width": 2
         },
         "mode": "lines+markers",
         "name": "Action 7",
         "showlegend": false,
         "type": "scatter",
         "x": [
          7,
          8
         ],
         "y": [
          9,
          16
         ]
        },
        {
         "line": {
          "color": "rgb(32, 144, 140)",
          "width": 2
         },
         "mode": "lines+markers",
         "name": "Action 7",
         "showlegend": false,
         "type": "scatter",
         "x": [
          7,
          8
         ],
         "y": [
          11,
          18
         ]
        },
        {
         "line": {
          "color": "rgb(32, 144, 140)",
          "width": 2
         },
         "mode": "lines+markers",
         "name": "Action 7",
         "showlegend": false,
         "type": "scatter",
         "x": [
          7,
          8
         ],
         "y": [
          20,
          27
         ]
        },
        {
         "line": {
          "color": "rgb(32, 144, 140)",
          "width": 2
         },
         "mode": "lines+markers",
         "name": "Action 7",
         "showlegend": false,
         "type": "scatter",
         "x": [
          7,
          8
         ],
         "y": [
          36,
          43
         ]
        },
        {
         "line": {
          "color": "rgb(32, 144, 140)",
          "width": 2
         },
         "mode": "lines+markers",
         "name": "Action 7",
         "showlegend": false,
         "type": "scatter",
         "x": [
          7,
          8
         ],
         "y": [
          38,
          45
         ]
        },
        {
         "line": {
          "color": "rgb(32, 144, 140)",
          "width": 2
         },
         "mode": "lines+markers",
         "name": "Action 7",
         "showlegend": false,
         "type": "scatter",
         "x": [
          7,
          8
         ],
         "y": [
          40,
          47
         ]
        },
        {
         "line": {
          "color": "rgb(94, 201, 97)",
          "width": 2
         },
         "mode": "lines+markers",
         "name": "Action 0",
         "showlegend": true,
         "type": "scatter",
         "x": [
          0,
          1
         ],
         "y": [
          5,
          5
         ]
        },
        {
         "line": {
          "color": "rgb(94, 201, 97)",
          "width": 2
         },
         "mode": "lines+markers",
         "name": "Action 0",
         "showlegend": false,
         "type": "scatter",
         "x": [
          0,
          1
         ],
         "y": [
          7,
          7
         ]
        },
        {
         "line": {
          "color": "rgb(94, 201, 97)",
          "width": 2
         },
         "mode": "lines+markers",
         "name": "Action 0",
         "showlegend": false,
         "type": "scatter",
         "x": [
          0,
          1
         ],
         "y": [
          8,
          8
         ]
        },
        {
         "line": {
          "color": "rgb(94, 201, 97)",
          "width": 2
         },
         "mode": "lines+markers",
         "name": "Action 0",
         "showlegend": false,
         "type": "scatter",
         "x": [
          0,
          1
         ],
         "y": [
          10,
          10
         ]
        },
        {
         "line": {
          "color": "rgb(94, 201, 97)",
          "width": 2
         },
         "mode": "lines+markers",
         "name": "Action 0",
         "showlegend": false,
         "type": "scatter",
         "x": [
          0,
          1
         ],
         "y": [
          20,
          20
         ]
        },
        {
         "line": {
          "color": "rgb(94, 201, 97)",
          "width": 2
         },
         "mode": "lines+markers",
         "name": "Action 0",
         "showlegend": false,
         "type": "scatter",
         "x": [
          0,
          1
         ],
         "y": [
          23,
          23
         ]
        },
        {
         "line": {
          "color": "rgb(94, 201, 97)",
          "width": 2
         },
         "mode": "lines+markers",
         "name": "Action 0",
         "showlegend": false,
         "type": "scatter",
         "x": [
          0,
          1
         ],
         "y": [
          26,
          26
         ]
        },
        {
         "line": {
          "color": "rgb(94, 201, 97)",
          "width": 2
         },
         "mode": "lines+markers",
         "name": "Action 0",
         "showlegend": false,
         "type": "scatter",
         "x": [
          0,
          1
         ],
         "y": [
          28,
          28
         ]
        },
        {
         "line": {
          "color": "rgb(94, 201, 97)",
          "width": 2
         },
         "mode": "lines+markers",
         "name": "Action 0",
         "showlegend": false,
         "type": "scatter",
         "x": [
          0,
          1
         ],
         "y": [
          29,
          29
         ]
        },
        {
         "line": {
          "color": "rgb(94, 201, 97)",
          "width": 2
         },
         "mode": "lines+markers",
         "name": "Action 0",
         "showlegend": false,
         "type": "scatter",
         "x": [
          0,
          1
         ],
         "y": [
          32,
          32
         ]
        },
        {
         "line": {
          "color": "rgb(94, 201, 97)",
          "width": 2
         },
         "mode": "lines+markers",
         "name": "Action 0",
         "showlegend": false,
         "type": "scatter",
         "x": [
          0,
          1
         ],
         "y": [
          36,
          36
         ]
        },
        {
         "line": {
          "color": "rgb(94, 201, 97)",
          "width": 2
         },
         "mode": "lines+markers",
         "name": "Action 0",
         "showlegend": false,
         "type": "scatter",
         "x": [
          0,
          1
         ],
         "y": [
          40,
          40
         ]
        },
        {
         "line": {
          "color": "rgb(94, 201, 97)",
          "width": 2
         },
         "mode": "lines+markers",
         "name": "Action 0",
         "showlegend": false,
         "type": "scatter",
         "x": [
          0,
          1
         ],
         "y": [
          43,
          43
         ]
        },
        {
         "line": {
          "color": "rgb(94, 201, 97)",
          "width": 2
         },
         "mode": "lines+markers",
         "name": "Action 0",
         "showlegend": false,
         "type": "scatter",
         "x": [
          0,
          1
         ],
         "y": [
          45,
          45
         ]
        },
        {
         "line": {
          "color": "rgb(94, 201, 97)",
          "width": 2
         },
         "mode": "lines+markers",
         "name": "Action 0",
         "showlegend": false,
         "type": "scatter",
         "x": [
          0,
          1
         ],
         "y": [
          48,
          48
         ]
        },
        {
         "line": {
          "color": "rgb(94, 201, 97)",
          "width": 2
         },
         "mode": "lines+markers",
         "name": "Action 0",
         "showlegend": false,
         "type": "scatter",
         "x": [
          0,
          1
         ],
         "y": [
          54,
          54
         ]
        },
        {
         "line": {
          "color": "rgb(94, 201, 97)",
          "width": 2
         },
         "mode": "lines+markers",
         "name": "Action 0",
         "showlegend": false,
         "type": "scatter",
         "x": [
          0,
          1
         ],
         "y": [
          60,
          60
         ]
        },
        {
         "line": {
          "color": "rgb(94, 201, 97)",
          "width": 2
         },
         "mode": "lines+markers",
         "name": "Action 0",
         "showlegend": false,
         "type": "scatter",
         "x": [
          0,
          1
         ],
         "y": [
          62,
          62
         ]
        },
        {
         "line": {
          "color": "rgb(94, 201, 97)",
          "width": 2
         },
         "mode": "lines+markers",
         "name": "Action 0",
         "showlegend": false,
         "type": "scatter",
         "x": [
          0,
          1
         ],
         "y": [
          72,
          72
         ]
        },
        {
         "line": {
          "color": "rgb(94, 201, 97)",
          "width": 2
         },
         "mode": "lines+markers",
         "name": "Action 0",
         "showlegend": false,
         "type": "scatter",
         "x": [
          0,
          1
         ],
         "y": [
          79,
          79
         ]
        },
        {
         "line": {
          "color": "rgb(94, 201, 97)",
          "width": 2
         },
         "mode": "lines+markers",
         "name": "Action 0",
         "showlegend": false,
         "type": "scatter",
         "x": [
          0,
          1
         ],
         "y": [
          84,
          84
         ]
        },
        {
         "line": {
          "color": "rgb(94, 201, 97)",
          "width": 2
         },
         "mode": "lines+markers",
         "name": "Action 0",
         "showlegend": false,
         "type": "scatter",
         "x": [
          0,
          1
         ],
         "y": [
          88,
          88
         ]
        },
        {
         "line": {
          "color": "rgb(94, 201, 97)",
          "width": 2
         },
         "mode": "lines+markers",
         "name": "Action 0",
         "showlegend": false,
         "type": "scatter",
         "x": [
          0,
          1
         ],
         "y": [
          93,
          93
         ]
        },
        {
         "line": {
          "color": "rgb(94, 201, 97)",
          "width": 2
         },
         "mode": "lines+markers",
         "name": "Action 0",
         "showlegend": false,
         "type": "scatter",
         "x": [
          0,
          1
         ],
         "y": [
          96,
          96
         ]
        },
        {
         "line": {
          "color": "rgb(94, 201, 97)",
          "width": 2
         },
         "mode": "lines+markers",
         "name": "Action 0",
         "showlegend": false,
         "type": "scatter",
         "x": [
          0,
          1
         ],
         "y": [
          97,
          97
         ]
        },
        {
         "line": {
          "color": "rgb(94, 201, 97)",
          "width": 2
         },
         "mode": "lines+markers",
         "name": "Action 0",
         "showlegend": false,
         "type": "scatter",
         "x": [
          0,
          1
         ],
         "y": [
          98,
          98
         ]
        },
        {
         "line": {
          "color": "rgb(94, 201, 97)",
          "width": 2
         },
         "mode": "lines+markers",
         "name": "Action 0",
         "showlegend": false,
         "type": "scatter",
         "x": [
          0,
          1
         ],
         "y": [
          99,
          99
         ]
        },
        {
         "line": {
          "color": "rgb(94, 201, 97)",
          "width": 2
         },
         "mode": "lines+markers",
         "name": "Action 0",
         "showlegend": false,
         "type": "scatter",
         "x": [
          0,
          1
         ],
         "y": [
          100,
          100
         ]
        },
        {
         "line": {
          "color": "rgb(94, 201, 97)",
          "width": 2
         },
         "mode": "lines+markers",
         "name": "Action 0",
         "showlegend": false,
         "type": "scatter",
         "x": [
          1,
          2
         ],
         "y": [
          5,
          5
         ]
        },
        {
         "line": {
          "color": "rgb(94, 201, 97)",
          "width": 2
         },
         "mode": "lines+markers",
         "name": "Action 0",
         "showlegend": false,
         "type": "scatter",
         "x": [
          1,
          2
         ],
         "y": [
          9,
          9
         ]
        },
        {
         "line": {
          "color": "rgb(94, 201, 97)",
          "width": 2
         },
         "mode": "lines+markers",
         "name": "Action 0",
         "showlegend": false,
         "type": "scatter",
         "x": [
          1,
          2
         ],
         "y": [
          18,
          18
         ]
        },
        {
         "line": {
          "color": "rgb(94, 201, 97)",
          "width": 2
         },
         "mode": "lines+markers",
         "name": "Action 0",
         "showlegend": false,
         "type": "scatter",
         "x": [
          1,
          2
         ],
         "y": [
          19,
          19
         ]
        },
        {
         "line": {
          "color": "rgb(94, 201, 97)",
          "width": 2
         },
         "mode": "lines+markers",
         "name": "Action 0",
         "showlegend": false,
         "type": "scatter",
         "x": [
          1,
          2
         ],
         "y": [
          20,
          20
         ]
        },
        {
         "line": {
          "color": "rgb(94, 201, 97)",
          "width": 2
         },
         "mode": "lines+markers",
         "name": "Action 0",
         "showlegend": false,
         "type": "scatter",
         "x": [
          1,
          2
         ],
         "y": [
          21,
          21
         ]
        },
        {
         "line": {
          "color": "rgb(94, 201, 97)",
          "width": 2
         },
         "mode": "lines+markers",
         "name": "Action 0",
         "showlegend": false,
         "type": "scatter",
         "x": [
          1,
          2
         ],
         "y": [
          28,
          28
         ]
        },
        {
         "line": {
          "color": "rgb(94, 201, 97)",
          "width": 2
         },
         "mode": "lines+markers",
         "name": "Action 0",
         "showlegend": false,
         "type": "scatter",
         "x": [
          1,
          2
         ],
         "y": [
          35,
          35
         ]
        },
        {
         "line": {
          "color": "rgb(94, 201, 97)",
          "width": 2
         },
         "mode": "lines+markers",
         "name": "Action 0",
         "showlegend": false,
         "type": "scatter",
         "x": [
          1,
          2
         ],
         "y": [
          36,
          36
         ]
        },
        {
         "line": {
          "color": "rgb(94, 201, 97)",
          "width": 2
         },
         "mode": "lines+markers",
         "name": "Action 0",
         "showlegend": false,
         "type": "scatter",
         "x": [
          1,
          2
         ],
         "y": [
          50,
          50
         ]
        },
        {
         "line": {
          "color": "rgb(94, 201, 97)",
          "width": 2
         },
         "mode": "lines+markers",
         "name": "Action 0",
         "showlegend": false,
         "type": "scatter",
         "x": [
          1,
          2
         ],
         "y": [
          53,
          53
         ]
        },
        {
         "line": {
          "color": "rgb(94, 201, 97)",
          "width": 2
         },
         "mode": "lines+markers",
         "name": "Action 0",
         "showlegend": false,
         "type": "scatter",
         "x": [
          1,
          2
         ],
         "y": [
          57,
          57
         ]
        },
        {
         "line": {
          "color": "rgb(94, 201, 97)",
          "width": 2
         },
         "mode": "lines+markers",
         "name": "Action 0",
         "showlegend": false,
         "type": "scatter",
         "x": [
          1,
          2
         ],
         "y": [
          58,
          58
         ]
        },
        {
         "line": {
          "color": "rgb(94, 201, 97)",
          "width": 2
         },
         "mode": "lines+markers",
         "name": "Action 0",
         "showlegend": false,
         "type": "scatter",
         "x": [
          1,
          2
         ],
         "y": [
          60,
          60
         ]
        },
        {
         "line": {
          "color": "rgb(94, 201, 97)",
          "width": 2
         },
         "mode": "lines+markers",
         "name": "Action 0",
         "showlegend": false,
         "type": "scatter",
         "x": [
          1,
          2
         ],
         "y": [
          63,
          63
         ]
        },
        {
         "line": {
          "color": "rgb(94, 201, 97)",
          "width": 2
         },
         "mode": "lines+markers",
         "name": "Action 0",
         "showlegend": false,
         "type": "scatter",
         "x": [
          1,
          2
         ],
         "y": [
          67,
          67
         ]
        },
        {
         "line": {
          "color": "rgb(94, 201, 97)",
          "width": 2
         },
         "mode": "lines+markers",
         "name": "Action 0",
         "showlegend": false,
         "type": "scatter",
         "x": [
          1,
          2
         ],
         "y": [
          68,
          68
         ]
        },
        {
         "line": {
          "color": "rgb(94, 201, 97)",
          "width": 2
         },
         "mode": "lines+markers",
         "name": "Action 0",
         "showlegend": false,
         "type": "scatter",
         "x": [
          1,
          2
         ],
         "y": [
          69,
          69
         ]
        },
        {
         "line": {
          "color": "rgb(94, 201, 97)",
          "width": 2
         },
         "mode": "lines+markers",
         "name": "Action 0",
         "showlegend": false,
         "type": "scatter",
         "x": [
          1,
          2
         ],
         "y": [
          78,
          78
         ]
        },
        {
         "line": {
          "color": "rgb(94, 201, 97)",
          "width": 2
         },
         "mode": "lines+markers",
         "name": "Action 0",
         "showlegend": false,
         "type": "scatter",
         "x": [
          1,
          2
         ],
         "y": [
          79,
          79
         ]
        },
        {
         "line": {
          "color": "rgb(94, 201, 97)",
          "width": 2
         },
         "mode": "lines+markers",
         "name": "Action 0",
         "showlegend": false,
         "type": "scatter",
         "x": [
          1,
          2
         ],
         "y": [
          96,
          96
         ]
        },
        {
         "line": {
          "color": "rgb(94, 201, 97)",
          "width": 2
         },
         "mode": "lines+markers",
         "name": "Action 0",
         "showlegend": false,
         "type": "scatter",
         "x": [
          1,
          2
         ],
         "y": [
          97,
          97
         ]
        },
        {
         "line": {
          "color": "rgb(94, 201, 97)",
          "width": 2
         },
         "mode": "lines+markers",
         "name": "Action 0",
         "showlegend": false,
         "type": "scatter",
         "x": [
          1,
          2
         ],
         "y": [
          98,
          98
         ]
        },
        {
         "line": {
          "color": "rgb(94, 201, 97)",
          "width": 2
         },
         "mode": "lines+markers",
         "name": "Action 0",
         "showlegend": false,
         "type": "scatter",
         "x": [
          1,
          2
         ],
         "y": [
          99,
          99
         ]
        },
        {
         "line": {
          "color": "rgb(94, 201, 97)",
          "width": 2
         },
         "mode": "lines+markers",
         "name": "Action 0",
         "showlegend": false,
         "type": "scatter",
         "x": [
          2,
          3
         ],
         "y": [
          14,
          14
         ]
        },
        {
         "line": {
          "color": "rgb(94, 201, 97)",
          "width": 2
         },
         "mode": "lines+markers",
         "name": "Action 0",
         "showlegend": false,
         "type": "scatter",
         "x": [
          2,
          3
         ],
         "y": [
          16,
          16
         ]
        },
        {
         "line": {
          "color": "rgb(94, 201, 97)",
          "width": 2
         },
         "mode": "lines+markers",
         "name": "Action 0",
         "showlegend": false,
         "type": "scatter",
         "x": [
          2,
          3
         ],
         "y": [
          17,
          17
         ]
        },
        {
         "line": {
          "color": "rgb(94, 201, 97)",
          "width": 2
         },
         "mode": "lines+markers",
         "name": "Action 0",
         "showlegend": false,
         "type": "scatter",
         "x": [
          2,
          3
         ],
         "y": [
          24,
          24
         ]
        },
        {
         "line": {
          "color": "rgb(94, 201, 97)",
          "width": 2
         },
         "mode": "lines+markers",
         "name": "Action 0",
         "showlegend": false,
         "type": "scatter",
         "x": [
          2,
          3
         ],
         "y": [
          29,
          29
         ]
        },
        {
         "line": {
          "color": "rgb(94, 201, 97)",
          "width": 2
         },
         "mode": "lines+markers",
         "name": "Action 0",
         "showlegend": false,
         "type": "scatter",
         "x": [
          2,
          3
         ],
         "y": [
          30,
          30
         ]
        },
        {
         "line": {
          "color": "rgb(94, 201, 97)",
          "width": 2
         },
         "mode": "lines+markers",
         "name": "Action 0",
         "showlegend": false,
         "type": "scatter",
         "x": [
          2,
          3
         ],
         "y": [
          36,
          36
         ]
        },
        {
         "line": {
          "color": "rgb(94, 201, 97)",
          "width": 2
         },
         "mode": "lines+markers",
         "name": "Action 0",
         "showlegend": false,
         "type": "scatter",
         "x": [
          2,
          3
         ],
         "y": [
          39,
          39
         ]
        },
        {
         "line": {
          "color": "rgb(94, 201, 97)",
          "width": 2
         },
         "mode": "lines+markers",
         "name": "Action 0",
         "showlegend": false,
         "type": "scatter",
         "x": [
          2,
          3
         ],
         "y": [
          42,
          42
         ]
        },
        {
         "line": {
          "color": "rgb(94, 201, 97)",
          "width": 2
         },
         "mode": "lines+markers",
         "name": "Action 0",
         "showlegend": false,
         "type": "scatter",
         "x": [
          2,
          3
         ],
         "y": [
          45,
          45
         ]
        },
        {
         "line": {
          "color": "rgb(94, 201, 97)",
          "width": 2
         },
         "mode": "lines+markers",
         "name": "Action 0",
         "showlegend": false,
         "type": "scatter",
         "x": [
          2,
          3
         ],
         "y": [
          62,
          62
         ]
        },
        {
         "line": {
          "color": "rgb(94, 201, 97)",
          "width": 2
         },
         "mode": "lines+markers",
         "name": "Action 0",
         "showlegend": false,
         "type": "scatter",
         "x": [
          2,
          3
         ],
         "y": [
          66,
          66
         ]
        },
        {
         "line": {
          "color": "rgb(94, 201, 97)",
          "width": 2
         },
         "mode": "lines+markers",
         "name": "Action 0",
         "showlegend": false,
         "type": "scatter",
         "x": [
          2,
          3
         ],
         "y": [
          77,
          77
         ]
        },
        {
         "line": {
          "color": "rgb(94, 201, 97)",
          "width": 2
         },
         "mode": "lines+markers",
         "name": "Action 0",
         "showlegend": false,
         "type": "scatter",
         "x": [
          2,
          3
         ],
         "y": [
          80,
          80
         ]
        },
        {
         "line": {
          "color": "rgb(94, 201, 97)",
          "width": 2
         },
         "mode": "lines+markers",
         "name": "Action 0",
         "showlegend": false,
         "type": "scatter",
         "x": [
          2,
          3
         ],
         "y": [
          97,
          97
         ]
        },
        {
         "line": {
          "color": "rgb(94, 201, 97)",
          "width": 2
         },
         "mode": "lines+markers",
         "name": "Action 0",
         "showlegend": false,
         "type": "scatter",
         "x": [
          2,
          3
         ],
         "y": [
          98,
          98
         ]
        },
        {
         "line": {
          "color": "rgb(94, 201, 97)",
          "width": 2
         },
         "mode": "lines+markers",
         "name": "Action 0",
         "showlegend": false,
         "type": "scatter",
         "x": [
          2,
          3
         ],
         "y": [
          99,
          99
         ]
        },
        {
         "line": {
          "color": "rgb(94, 201, 97)",
          "width": 2
         },
         "mode": "lines+markers",
         "name": "Action 0",
         "showlegend": false,
         "type": "scatter",
         "x": [
          2,
          3
         ],
         "y": [
          100,
          100
         ]
        },
        {
         "line": {
          "color": "rgb(94, 201, 97)",
          "width": 2
         },
         "mode": "lines+markers",
         "name": "Action 0",
         "showlegend": false,
         "type": "scatter",
         "x": [
          3,
          4
         ],
         "y": [
          4,
          4
         ]
        },
        {
         "line": {
          "color": "rgb(94, 201, 97)",
          "width": 2
         },
         "mode": "lines+markers",
         "name": "Action 0",
         "showlegend": false,
         "type": "scatter",
         "x": [
          3,
          4
         ],
         "y": [
          10,
          10
         ]
        },
        {
         "line": {
          "color": "rgb(94, 201, 97)",
          "width": 2
         },
         "mode": "lines+markers",
         "name": "Action 0",
         "showlegend": false,
         "type": "scatter",
         "x": [
          3,
          4
         ],
         "y": [
          22,
          22
         ]
        },
        {
         "line": {
          "color": "rgb(94, 201, 97)",
          "width": 2
         },
         "mode": "lines+markers",
         "name": "Action 0",
         "showlegend": false,
         "type": "scatter",
         "x": [
          3,
          4
         ],
         "y": [
          25,
          25
         ]
        },
        {
         "line": {
          "color": "rgb(94, 201, 97)",
          "width": 2
         },
         "mode": "lines+markers",
         "name": "Action 0",
         "showlegend": false,
         "type": "scatter",
         "x": [
          3,
          4
         ],
         "y": [
          34,
          34
         ]
        },
        {
         "line": {
          "color": "rgb(94, 201, 97)",
          "width": 2
         },
         "mode": "lines+markers",
         "name": "Action 0",
         "showlegend": false,
         "type": "scatter",
         "x": [
          3,
          4
         ],
         "y": [
          39,
          39
         ]
        },
        {
         "line": {
          "color": "rgb(94, 201, 97)",
          "width": 2
         },
         "mode": "lines+markers",
         "name": "Action 0",
         "showlegend": false,
         "type": "scatter",
         "x": [
          3,
          4
         ],
         "y": [
          44,
          44
         ]
        },
        {
         "line": {
          "color": "rgb(94, 201, 97)",
          "width": 2
         },
         "mode": "lines+markers",
         "name": "Action 0",
         "showlegend": false,
         "type": "scatter",
         "x": [
          3,
          4
         ],
         "y": [
          51,
          51
         ]
        },
        {
         "line": {
          "color": "rgb(94, 201, 97)",
          "width": 2
         },
         "mode": "lines+markers",
         "name": "Action 0",
         "showlegend": false,
         "type": "scatter",
         "x": [
          3,
          4
         ],
         "y": [
          67,
          67
         ]
        },
        {
         "line": {
          "color": "rgb(94, 201, 97)",
          "width": 2
         },
         "mode": "lines+markers",
         "name": "Action 0",
         "showlegend": false,
         "type": "scatter",
         "x": [
          3,
          4
         ],
         "y": [
          73,
          73
         ]
        },
        {
         "line": {
          "color": "rgb(94, 201, 97)",
          "width": 2
         },
         "mode": "lines+markers",
         "name": "Action 0",
         "showlegend": false,
         "type": "scatter",
         "x": [
          3,
          4
         ],
         "y": [
          77,
          77
         ]
        },
        {
         "line": {
          "color": "rgb(94, 201, 97)",
          "width": 2
         },
         "mode": "lines+markers",
         "name": "Action 0",
         "showlegend": false,
         "type": "scatter",
         "x": [
          3,
          4
         ],
         "y": [
          92,
          92
         ]
        },
        {
         "line": {
          "color": "rgb(94, 201, 97)",
          "width": 2
         },
         "mode": "lines+markers",
         "name": "Action 0",
         "showlegend": false,
         "type": "scatter",
         "x": [
          3,
          4
         ],
         "y": [
          96,
          96
         ]
        },
        {
         "line": {
          "color": "rgb(94, 201, 97)",
          "width": 2
         },
         "mode": "lines+markers",
         "name": "Action 0",
         "showlegend": false,
         "type": "scatter",
         "x": [
          3,
          4
         ],
         "y": [
          97,
          97
         ]
        },
        {
         "line": {
          "color": "rgb(94, 201, 97)",
          "width": 2
         },
         "mode": "lines+markers",
         "name": "Action 0",
         "showlegend": false,
         "type": "scatter",
         "x": [
          3,
          4
         ],
         "y": [
          98,
          98
         ]
        },
        {
         "line": {
          "color": "rgb(94, 201, 97)",
          "width": 2
         },
         "mode": "lines+markers",
         "name": "Action 0",
         "showlegend": false,
         "type": "scatter",
         "x": [
          3,
          4
         ],
         "y": [
          99,
          99
         ]
        },
        {
         "line": {
          "color": "rgb(94, 201, 97)",
          "width": 2
         },
         "mode": "lines+markers",
         "name": "Action 0",
         "showlegend": false,
         "type": "scatter",
         "x": [
          3,
          4
         ],
         "y": [
          100,
          100
         ]
        },
        {
         "line": {
          "color": "rgb(94, 201, 97)",
          "width": 2
         },
         "mode": "lines+markers",
         "name": "Action 0",
         "showlegend": false,
         "type": "scatter",
         "x": [
          4,
          5
         ],
         "y": [
          14,
          14
         ]
        },
        {
         "line": {
          "color": "rgb(94, 201, 97)",
          "width": 2
         },
         "mode": "lines+markers",
         "name": "Action 0",
         "showlegend": false,
         "type": "scatter",
         "x": [
          4,
          5
         ],
         "y": [
          16,
          16
         ]
        },
        {
         "line": {
          "color": "rgb(94, 201, 97)",
          "width": 2
         },
         "mode": "lines+markers",
         "name": "Action 0",
         "showlegend": false,
         "type": "scatter",
         "x": [
          4,
          5
         ],
         "y": [
          27,
          27
         ]
        },
        {
         "line": {
          "color": "rgb(94, 201, 97)",
          "width": 2
         },
         "mode": "lines+markers",
         "name": "Action 0",
         "showlegend": false,
         "type": "scatter",
         "x": [
          4,
          5
         ],
         "y": [
          30,
          30
         ]
        },
        {
         "line": {
          "color": "rgb(94, 201, 97)",
          "width": 2
         },
         "mode": "lines+markers",
         "name": "Action 0",
         "showlegend": false,
         "type": "scatter",
         "x": [
          4,
          5
         ],
         "y": [
          39,
          39
         ]
        },
        {
         "line": {
          "color": "rgb(94, 201, 97)",
          "width": 2
         },
         "mode": "lines+markers",
         "name": "Action 0",
         "showlegend": false,
         "type": "scatter",
         "x": [
          4,
          5
         ],
         "y": [
          44,
          44
         ]
        },
        {
         "line": {
          "color": "rgb(94, 201, 97)",
          "width": 2
         },
         "mode": "lines+markers",
         "name": "Action 0",
         "showlegend": false,
         "type": "scatter",
         "x": [
          4,
          5
         ],
         "y": [
          49,
          49
         ]
        },
        {
         "line": {
          "color": "rgb(94, 201, 97)",
          "width": 2
         },
         "mode": "lines+markers",
         "name": "Action 0",
         "showlegend": false,
         "type": "scatter",
         "x": [
          4,
          5
         ],
         "y": [
          51,
          51
         ]
        },
        {
         "line": {
          "color": "rgb(94, 201, 97)",
          "width": 2
         },
         "mode": "lines+markers",
         "name": "Action 0",
         "showlegend": false,
         "type": "scatter",
         "x": [
          4,
          5
         ],
         "y": [
          54,
          54
         ]
        },
        {
         "line": {
          "color": "rgb(94, 201, 97)",
          "width": 2
         },
         "mode": "lines+markers",
         "name": "Action 0",
         "showlegend": false,
         "type": "scatter",
         "x": [
          4,
          5
         ],
         "y": [
          61,
          61
         ]
        },
        {
         "line": {
          "color": "rgb(94, 201, 97)",
          "width": 2
         },
         "mode": "lines+markers",
         "name": "Action 0",
         "showlegend": false,
         "type": "scatter",
         "x": [
          4,
          5
         ],
         "y": [
          94,
          94
         ]
        },
        {
         "line": {
          "color": "rgb(94, 201, 97)",
          "width": 2
         },
         "mode": "lines+markers",
         "name": "Action 0",
         "showlegend": false,
         "type": "scatter",
         "x": [
          4,
          5
         ],
         "y": [
          96,
          96
         ]
        },
        {
         "line": {
          "color": "rgb(94, 201, 97)",
          "width": 2
         },
         "mode": "lines+markers",
         "name": "Action 0",
         "showlegend": false,
         "type": "scatter",
         "x": [
          4,
          5
         ],
         "y": [
          97,
          97
         ]
        },
        {
         "line": {
          "color": "rgb(94, 201, 97)",
          "width": 2
         },
         "mode": "lines+markers",
         "name": "Action 0",
         "showlegend": false,
         "type": "scatter",
         "x": [
          4,
          5
         ],
         "y": [
          98,
          98
         ]
        },
        {
         "line": {
          "color": "rgb(94, 201, 97)",
          "width": 2
         },
         "mode": "lines+markers",
         "name": "Action 0",
         "showlegend": false,
         "type": "scatter",
         "x": [
          4,
          5
         ],
         "y": [
          99,
          99
         ]
        },
        {
         "line": {
          "color": "rgb(94, 201, 97)",
          "width": 2
         },
         "mode": "lines+markers",
         "name": "Action 0",
         "showlegend": false,
         "type": "scatter",
         "x": [
          4,
          5
         ],
         "y": [
          100,
          100
         ]
        },
        {
         "line": {
          "color": "rgb(94, 201, 97)",
          "width": 2
         },
         "mode": "lines+markers",
         "name": "Action 0",
         "showlegend": false,
         "type": "scatter",
         "x": [
          5,
          6
         ],
         "y": [
          24,
          24
         ]
        },
        {
         "line": {
          "color": "rgb(94, 201, 97)",
          "width": 2
         },
         "mode": "lines+markers",
         "name": "Action 0",
         "showlegend": false,
         "type": "scatter",
         "x": [
          5,
          6
         ],
         "y": [
          41,
          41
         ]
        },
        {
         "line": {
          "color": "rgb(94, 201, 97)",
          "width": 2
         },
         "mode": "lines+markers",
         "name": "Action 0",
         "showlegend": false,
         "type": "scatter",
         "x": [
          5,
          6
         ],
         "y": [
          51,
          51
         ]
        },
        {
         "line": {
          "color": "rgb(94, 201, 97)",
          "width": 2
         },
         "mode": "lines+markers",
         "name": "Action 0",
         "showlegend": false,
         "type": "scatter",
         "x": [
          5,
          6
         ],
         "y": [
          52,
          52
         ]
        },
        {
         "line": {
          "color": "rgb(94, 201, 97)",
          "width": 2
         },
         "mode": "lines+markers",
         "name": "Action 0",
         "showlegend": false,
         "type": "scatter",
         "x": [
          5,
          6
         ],
         "y": [
          54,
          54
         ]
        },
        {
         "line": {
          "color": "rgb(94, 201, 97)",
          "width": 2
         },
         "mode": "lines+markers",
         "name": "Action 0",
         "showlegend": false,
         "type": "scatter",
         "x": [
          5,
          6
         ],
         "y": [
          56,
          56
         ]
        },
        {
         "line": {
          "color": "rgb(94, 201, 97)",
          "width": 2
         },
         "mode": "lines+markers",
         "name": "Action 0",
         "showlegend": false,
         "type": "scatter",
         "x": [
          5,
          6
         ],
         "y": [
          57,
          57
         ]
        },
        {
         "line": {
          "color": "rgb(94, 201, 97)",
          "width": 2
         },
         "mode": "lines+markers",
         "name": "Action 0",
         "showlegend": false,
         "type": "scatter",
         "x": [
          5,
          6
         ],
         "y": [
          66,
          66
         ]
        },
        {
         "line": {
          "color": "rgb(94, 201, 97)",
          "width": 2
         },
         "mode": "lines+markers",
         "name": "Action 0",
         "showlegend": false,
         "type": "scatter",
         "x": [
          5,
          6
         ],
         "y": [
          69,
          69
         ]
        },
        {
         "line": {
          "color": "rgb(94, 201, 97)",
          "width": 2
         },
         "mode": "lines+markers",
         "name": "Action 0",
         "showlegend": false,
         "type": "scatter",
         "x": [
          5,
          6
         ],
         "y": [
          74,
          74
         ]
        },
        {
         "line": {
          "color": "rgb(94, 201, 97)",
          "width": 2
         },
         "mode": "lines+markers",
         "name": "Action 0",
         "showlegend": false,
         "type": "scatter",
         "x": [
          5,
          6
         ],
         "y": [
          76,
          76
         ]
        },
        {
         "line": {
          "color": "rgb(94, 201, 97)",
          "width": 2
         },
         "mode": "lines+markers",
         "name": "Action 0",
         "showlegend": false,
         "type": "scatter",
         "x": [
          5,
          6
         ],
         "y": [
          85,
          85
         ]
        },
        {
         "line": {
          "color": "rgb(94, 201, 97)",
          "width": 2
         },
         "mode": "lines+markers",
         "name": "Action 0",
         "showlegend": false,
         "type": "scatter",
         "x": [
          5,
          6
         ],
         "y": [
          90,
          90
         ]
        },
        {
         "line": {
          "color": "rgb(94, 201, 97)",
          "width": 2
         },
         "mode": "lines+markers",
         "name": "Action 0",
         "showlegend": false,
         "type": "scatter",
         "x": [
          5,
          6
         ],
         "y": [
          91,
          91
         ]
        },
        {
         "line": {
          "color": "rgb(94, 201, 97)",
          "width": 2
         },
         "mode": "lines+markers",
         "name": "Action 0",
         "showlegend": false,
         "type": "scatter",
         "x": [
          5,
          6
         ],
         "y": [
          94,
          94
         ]
        },
        {
         "line": {
          "color": "rgb(94, 201, 97)",
          "width": 2
         },
         "mode": "lines+markers",
         "name": "Action 0",
         "showlegend": false,
         "type": "scatter",
         "x": [
          5,
          6
         ],
         "y": [
          96,
          96
         ]
        },
        {
         "line": {
          "color": "rgb(94, 201, 97)",
          "width": 2
         },
         "mode": "lines+markers",
         "name": "Action 0",
         "showlegend": false,
         "type": "scatter",
         "x": [
          5,
          6
         ],
         "y": [
          97,
          97
         ]
        },
        {
         "line": {
          "color": "rgb(94, 201, 97)",
          "width": 2
         },
         "mode": "lines+markers",
         "name": "Action 0",
         "showlegend": false,
         "type": "scatter",
         "x": [
          5,
          6
         ],
         "y": [
          98,
          98
         ]
        },
        {
         "line": {
          "color": "rgb(94, 201, 97)",
          "width": 2
         },
         "mode": "lines+markers",
         "name": "Action 0",
         "showlegend": false,
         "type": "scatter",
         "x": [
          5,
          6
         ],
         "y": [
          99,
          99
         ]
        },
        {
         "line": {
          "color": "rgb(94, 201, 97)",
          "width": 2
         },
         "mode": "lines+markers",
         "name": "Action 0",
         "showlegend": false,
         "type": "scatter",
         "x": [
          5,
          6
         ],
         "y": [
          100,
          100
         ]
        },
        {
         "line": {
          "color": "rgb(94, 201, 97)",
          "width": 2
         },
         "mode": "lines+markers",
         "name": "Action 0",
         "showlegend": false,
         "type": "scatter",
         "x": [
          6,
          7
         ],
         "y": [
          31,
          31
         ]
        },
        {
         "line": {
          "color": "rgb(94, 201, 97)",
          "width": 2
         },
         "mode": "lines+markers",
         "name": "Action 0",
         "showlegend": false,
         "type": "scatter",
         "x": [
          6,
          7
         ],
         "y": [
          38,
          38
         ]
        },
        {
         "line": {
          "color": "rgb(94, 201, 97)",
          "width": 2
         },
         "mode": "lines+markers",
         "name": "Action 0",
         "showlegend": false,
         "type": "scatter",
         "x": [
          6,
          7
         ],
         "y": [
          47,
          47
         ]
        },
        {
         "line": {
          "color": "rgb(94, 201, 97)",
          "width": 2
         },
         "mode": "lines+markers",
         "name": "Action 0",
         "showlegend": false,
         "type": "scatter",
         "x": [
          6,
          7
         ],
         "y": [
          51,
          51
         ]
        },
        {
         "line": {
          "color": "rgb(94, 201, 97)",
          "width": 2
         },
         "mode": "lines+markers",
         "name": "Action 0",
         "showlegend": false,
         "type": "scatter",
         "x": [
          6,
          7
         ],
         "y": [
          54,
          54
         ]
        },
        {
         "line": {
          "color": "rgb(94, 201, 97)",
          "width": 2
         },
         "mode": "lines+markers",
         "name": "Action 0",
         "showlegend": false,
         "type": "scatter",
         "x": [
          6,
          7
         ],
         "y": [
          56,
          56
         ]
        },
        {
         "line": {
          "color": "rgb(94, 201, 97)",
          "width": 2
         },
         "mode": "lines+markers",
         "name": "Action 0",
         "showlegend": false,
         "type": "scatter",
         "x": [
          6,
          7
         ],
         "y": [
          58,
          58
         ]
        },
        {
         "line": {
          "color": "rgb(94, 201, 97)",
          "width": 2
         },
         "mode": "lines+markers",
         "name": "Action 0",
         "showlegend": false,
         "type": "scatter",
         "x": [
          6,
          7
         ],
         "y": [
          59,
          59
         ]
        },
        {
         "line": {
          "color": "rgb(94, 201, 97)",
          "width": 2
         },
         "mode": "lines+markers",
         "name": "Action 0",
         "showlegend": false,
         "type": "scatter",
         "x": [
          6,
          7
         ],
         "y": [
          60,
          60
         ]
        },
        {
         "line": {
          "color": "rgb(94, 201, 97)",
          "width": 2
         },
         "mode": "lines+markers",
         "name": "Action 0",
         "showlegend": false,
         "type": "scatter",
         "x": [
          6,
          7
         ],
         "y": [
          61,
          61
         ]
        },
        {
         "line": {
          "color": "rgb(94, 201, 97)",
          "width": 2
         },
         "mode": "lines+markers",
         "name": "Action 0",
         "showlegend": false,
         "type": "scatter",
         "x": [
          6,
          7
         ],
         "y": [
          64,
          64
         ]
        },
        {
         "line": {
          "color": "rgb(94, 201, 97)",
          "width": 2
         },
         "mode": "lines+markers",
         "name": "Action 0",
         "showlegend": false,
         "type": "scatter",
         "x": [
          6,
          7
         ],
         "y": [
          65,
          65
         ]
        },
        {
         "line": {
          "color": "rgb(94, 201, 97)",
          "width": 2
         },
         "mode": "lines+markers",
         "name": "Action 0",
         "showlegend": false,
         "type": "scatter",
         "x": [
          6,
          7
         ],
         "y": [
          66,
          66
         ]
        },
        {
         "line": {
          "color": "rgb(94, 201, 97)",
          "width": 2
         },
         "mode": "lines+markers",
         "name": "Action 0",
         "showlegend": false,
         "type": "scatter",
         "x": [
          6,
          7
         ],
         "y": [
          67,
          67
         ]
        },
        {
         "line": {
          "color": "rgb(94, 201, 97)",
          "width": 2
         },
         "mode": "lines+markers",
         "name": "Action 0",
         "showlegend": false,
         "type": "scatter",
         "x": [
          6,
          7
         ],
         "y": [
          73,
          73
         ]
        },
        {
         "line": {
          "color": "rgb(94, 201, 97)",
          "width": 2
         },
         "mode": "lines+markers",
         "name": "Action 0",
         "showlegend": false,
         "type": "scatter",
         "x": [
          6,
          7
         ],
         "y": [
          78,
          78
         ]
        },
        {
         "line": {
          "color": "rgb(94, 201, 97)",
          "width": 2
         },
         "mode": "lines+markers",
         "name": "Action 0",
         "showlegend": false,
         "type": "scatter",
         "x": [
          6,
          7
         ],
         "y": [
          80,
          80
         ]
        },
        {
         "line": {
          "color": "rgb(94, 201, 97)",
          "width": 2
         },
         "mode": "lines+markers",
         "name": "Action 0",
         "showlegend": false,
         "type": "scatter",
         "x": [
          6,
          7
         ],
         "y": [
          85,
          85
         ]
        },
        {
         "line": {
          "color": "rgb(94, 201, 97)",
          "width": 2
         },
         "mode": "lines+markers",
         "name": "Action 0",
         "showlegend": false,
         "type": "scatter",
         "x": [
          6,
          7
         ],
         "y": [
          96,
          96
         ]
        },
        {
         "line": {
          "color": "rgb(94, 201, 97)",
          "width": 2
         },
         "mode": "lines+markers",
         "name": "Action 0",
         "showlegend": false,
         "type": "scatter",
         "x": [
          6,
          7
         ],
         "y": [
          97,
          97
         ]
        },
        {
         "line": {
          "color": "rgb(94, 201, 97)",
          "width": 2
         },
         "mode": "lines+markers",
         "name": "Action 0",
         "showlegend": false,
         "type": "scatter",
         "x": [
          6,
          7
         ],
         "y": [
          98,
          98
         ]
        },
        {
         "line": {
          "color": "rgb(94, 201, 97)",
          "width": 2
         },
         "mode": "lines+markers",
         "name": "Action 0",
         "showlegend": false,
         "type": "scatter",
         "x": [
          6,
          7
         ],
         "y": [
          99,
          99
         ]
        },
        {
         "line": {
          "color": "rgb(94, 201, 97)",
          "width": 2
         },
         "mode": "lines+markers",
         "name": "Action 0",
         "showlegend": false,
         "type": "scatter",
         "x": [
          6,
          7
         ],
         "y": [
          100,
          100
         ]
        },
        {
         "line": {
          "color": "rgb(94, 201, 97)",
          "width": 2
         },
         "mode": "lines+markers",
         "name": "Action 0",
         "showlegend": false,
         "type": "scatter",
         "x": [
          7,
          8
         ],
         "y": [
          0,
          0
         ]
        },
        {
         "line": {
          "color": "rgb(94, 201, 97)",
          "width": 2
         },
         "mode": "lines+markers",
         "name": "Action 0",
         "showlegend": false,
         "type": "scatter",
         "x": [
          7,
          8
         ],
         "y": [
          5,
          5
         ]
        },
        {
         "line": {
          "color": "rgb(94, 201, 97)",
          "width": 2
         },
         "mode": "lines+markers",
         "name": "Action 0",
         "showlegend": false,
         "type": "scatter",
         "x": [
          7,
          8
         ],
         "y": [
          6,
          6
         ]
        },
        {
         "line": {
          "color": "rgb(94, 201, 97)",
          "width": 2
         },
         "mode": "lines+markers",
         "name": "Action 0",
         "showlegend": false,
         "type": "scatter",
         "x": [
          7,
          8
         ],
         "y": [
          13,
          13
         ]
        },
        {
         "line": {
          "color": "rgb(94, 201, 97)",
          "width": 2
         },
         "mode": "lines+markers",
         "name": "Action 0",
         "showlegend": false,
         "type": "scatter",
         "x": [
          7,
          8
         ],
         "y": [
          42,
          42
         ]
        },
        {
         "line": {
          "color": "rgb(94, 201, 97)",
          "width": 2
         },
         "mode": "lines+markers",
         "name": "Action 0",
         "showlegend": false,
         "type": "scatter",
         "x": [
          7,
          8
         ],
         "y": [
          43,
          43
         ]
        },
        {
         "line": {
          "color": "rgb(94, 201, 97)",
          "width": 2
         },
         "mode": "lines+markers",
         "name": "Action 0",
         "showlegend": false,
         "type": "scatter",
         "x": [
          7,
          8
         ],
         "y": [
          44,
          44
         ]
        },
        {
         "line": {
          "color": "rgb(94, 201, 97)",
          "width": 2
         },
         "mode": "lines+markers",
         "name": "Action 0",
         "showlegend": false,
         "type": "scatter",
         "x": [
          7,
          8
         ],
         "y": [
          47,
          47
         ]
        },
        {
         "line": {
          "color": "rgb(94, 201, 97)",
          "width": 2
         },
         "mode": "lines+markers",
         "name": "Action 0",
         "showlegend": false,
         "type": "scatter",
         "x": [
          7,
          8
         ],
         "y": [
          48,
          48
         ]
        },
        {
         "line": {
          "color": "rgb(94, 201, 97)",
          "width": 2
         },
         "mode": "lines+markers",
         "name": "Action 0",
         "showlegend": false,
         "type": "scatter",
         "x": [
          7,
          8
         ],
         "y": [
          49,
          49
         ]
        },
        {
         "line": {
          "color": "rgb(94, 201, 97)",
          "width": 2
         },
         "mode": "lines+markers",
         "name": "Action 0",
         "showlegend": false,
         "type": "scatter",
         "x": [
          7,
          8
         ],
         "y": [
          50,
          50
         ]
        },
        {
         "line": {
          "color": "rgb(94, 201, 97)",
          "width": 2
         },
         "mode": "lines+markers",
         "name": "Action 0",
         "showlegend": false,
         "type": "scatter",
         "x": [
          7,
          8
         ],
         "y": [
          51,
          51
         ]
        },
        {
         "line": {
          "color": "rgb(94, 201, 97)",
          "width": 2
         },
         "mode": "lines+markers",
         "name": "Action 0",
         "showlegend": false,
         "type": "scatter",
         "x": [
          7,
          8
         ],
         "y": [
          52,
          52
         ]
        },
        {
         "line": {
          "color": "rgb(94, 201, 97)",
          "width": 2
         },
         "mode": "lines+markers",
         "name": "Action 0",
         "showlegend": false,
         "type": "scatter",
         "x": [
          7,
          8
         ],
         "y": [
          53,
          53
         ]
        },
        {
         "line": {
          "color": "rgb(94, 201, 97)",
          "width": 2
         },
         "mode": "lines+markers",
         "name": "Action 0",
         "showlegend": false,
         "type": "scatter",
         "x": [
          7,
          8
         ],
         "y": [
          54,
          54
         ]
        },
        {
         "line": {
          "color": "rgb(94, 201, 97)",
          "width": 2
         },
         "mode": "lines+markers",
         "name": "Action 0",
         "showlegend": false,
         "type": "scatter",
         "x": [
          7,
          8
         ],
         "y": [
          55,
          55
         ]
        },
        {
         "line": {
          "color": "rgb(94, 201, 97)",
          "width": 2
         },
         "mode": "lines+markers",
         "name": "Action 0",
         "showlegend": false,
         "type": "scatter",
         "x": [
          7,
          8
         ],
         "y": [
          56,
          56
         ]
        },
        {
         "line": {
          "color": "rgb(94, 201, 97)",
          "width": 2
         },
         "mode": "lines+markers",
         "name": "Action 0",
         "showlegend": false,
         "type": "scatter",
         "x": [
          7,
          8
         ],
         "y": [
          57,
          57
         ]
        },
        {
         "line": {
          "color": "rgb(94, 201, 97)",
          "width": 2
         },
         "mode": "lines+markers",
         "name": "Action 0",
         "showlegend": false,
         "type": "scatter",
         "x": [
          7,
          8
         ],
         "y": [
          58,
          58
         ]
        },
        {
         "line": {
          "color": "rgb(94, 201, 97)",
          "width": 2
         },
         "mode": "lines+markers",
         "name": "Action 0",
         "showlegend": false,
         "type": "scatter",
         "x": [
          7,
          8
         ],
         "y": [
          59,
          59
         ]
        },
        {
         "line": {
          "color": "rgb(94, 201, 97)",
          "width": 2
         },
         "mode": "lines+markers",
         "name": "Action 0",
         "showlegend": false,
         "type": "scatter",
         "x": [
          7,
          8
         ],
         "y": [
          60,
          60
         ]
        },
        {
         "line": {
          "color": "rgb(94, 201, 97)",
          "width": 2
         },
         "mode": "lines+markers",
         "name": "Action 0",
         "showlegend": false,
         "type": "scatter",
         "x": [
          7,
          8
         ],
         "y": [
          61,
          61
         ]
        },
        {
         "line": {
          "color": "rgb(94, 201, 97)",
          "width": 2
         },
         "mode": "lines+markers",
         "name": "Action 0",
         "showlegend": false,
         "type": "scatter",
         "x": [
          7,
          8
         ],
         "y": [
          62,
          62
         ]
        },
        {
         "line": {
          "color": "rgb(94, 201, 97)",
          "width": 2
         },
         "mode": "lines+markers",
         "name": "Action 0",
         "showlegend": false,
         "type": "scatter",
         "x": [
          7,
          8
         ],
         "y": [
          63,
          63
         ]
        },
        {
         "line": {
          "color": "rgb(94, 201, 97)",
          "width": 2
         },
         "mode": "lines+markers",
         "name": "Action 0",
         "showlegend": false,
         "type": "scatter",
         "x": [
          7,
          8
         ],
         "y": [
          64,
          64
         ]
        },
        {
         "line": {
          "color": "rgb(94, 201, 97)",
          "width": 2
         },
         "mode": "lines+markers",
         "name": "Action 0",
         "showlegend": false,
         "type": "scatter",
         "x": [
          7,
          8
         ],
         "y": [
          65,
          65
         ]
        },
        {
         "line": {
          "color": "rgb(94, 201, 97)",
          "width": 2
         },
         "mode": "lines+markers",
         "name": "Action 0",
         "showlegend": false,
         "type": "scatter",
         "x": [
          7,
          8
         ],
         "y": [
          66,
          66
         ]
        },
        {
         "line": {
          "color": "rgb(94, 201, 97)",
          "width": 2
         },
         "mode": "lines+markers",
         "name": "Action 0",
         "showlegend": false,
         "type": "scatter",
         "x": [
          7,
          8
         ],
         "y": [
          67,
          67
         ]
        },
        {
         "line": {
          "color": "rgb(94, 201, 97)",
          "width": 2
         },
         "mode": "lines+markers",
         "name": "Action 0",
         "showlegend": false,
         "type": "scatter",
         "x": [
          7,
          8
         ],
         "y": [
          68,
          68
         ]
        },
        {
         "line": {
          "color": "rgb(94, 201, 97)",
          "width": 2
         },
         "mode": "lines+markers",
         "name": "Action 0",
         "showlegend": false,
         "type": "scatter",
         "x": [
          7,
          8
         ],
         "y": [
          69,
          69
         ]
        },
        {
         "line": {
          "color": "rgb(94, 201, 97)",
          "width": 2
         },
         "mode": "lines+markers",
         "name": "Action 0",
         "showlegend": false,
         "type": "scatter",
         "x": [
          7,
          8
         ],
         "y": [
          70,
          70
         ]
        },
        {
         "line": {
          "color": "rgb(94, 201, 97)",
          "width": 2
         },
         "mode": "lines+markers",
         "name": "Action 0",
         "showlegend": false,
         "type": "scatter",
         "x": [
          7,
          8
         ],
         "y": [
          71,
          71
         ]
        },
        {
         "line": {
          "color": "rgb(94, 201, 97)",
          "width": 2
         },
         "mode": "lines+markers",
         "name": "Action 0",
         "showlegend": false,
         "type": "scatter",
         "x": [
          7,
          8
         ],
         "y": [
          72,
          72
         ]
        },
        {
         "line": {
          "color": "rgb(94, 201, 97)",
          "width": 2
         },
         "mode": "lines+markers",
         "name": "Action 0",
         "showlegend": false,
         "type": "scatter",
         "x": [
          7,
          8
         ],
         "y": [
          73,
          73
         ]
        },
        {
         "line": {
          "color": "rgb(94, 201, 97)",
          "width": 2
         },
         "mode": "lines+markers",
         "name": "Action 0",
         "showlegend": false,
         "type": "scatter",
         "x": [
          7,
          8
         ],
         "y": [
          74,
          74
         ]
        },
        {
         "line": {
          "color": "rgb(94, 201, 97)",
          "width": 2
         },
         "mode": "lines+markers",
         "name": "Action 0",
         "showlegend": false,
         "type": "scatter",
         "x": [
          7,
          8
         ],
         "y": [
          75,
          75
         ]
        },
        {
         "line": {
          "color": "rgb(94, 201, 97)",
          "width": 2
         },
         "mode": "lines+markers",
         "name": "Action 0",
         "showlegend": false,
         "type": "scatter",
         "x": [
          7,
          8
         ],
         "y": [
          76,
          76
         ]
        },
        {
         "line": {
          "color": "rgb(94, 201, 97)",
          "width": 2
         },
         "mode": "lines+markers",
         "name": "Action 0",
         "showlegend": false,
         "type": "scatter",
         "x": [
          7,
          8
         ],
         "y": [
          77,
          77
         ]
        },
        {
         "line": {
          "color": "rgb(94, 201, 97)",
          "width": 2
         },
         "mode": "lines+markers",
         "name": "Action 0",
         "showlegend": false,
         "type": "scatter",
         "x": [
          7,
          8
         ],
         "y": [
          78,
          78
         ]
        },
        {
         "line": {
          "color": "rgb(94, 201, 97)",
          "width": 2
         },
         "mode": "lines+markers",
         "name": "Action 0",
         "showlegend": false,
         "type": "scatter",
         "x": [
          7,
          8
         ],
         "y": [
          79,
          79
         ]
        },
        {
         "line": {
          "color": "rgb(94, 201, 97)",
          "width": 2
         },
         "mode": "lines+markers",
         "name": "Action 0",
         "showlegend": false,
         "type": "scatter",
         "x": [
          7,
          8
         ],
         "y": [
          80,
          80
         ]
        },
        {
         "line": {
          "color": "rgb(94, 201, 97)",
          "width": 2
         },
         "mode": "lines+markers",
         "name": "Action 0",
         "showlegend": false,
         "type": "scatter",
         "x": [
          7,
          8
         ],
         "y": [
          81,
          81
         ]
        },
        {
         "line": {
          "color": "rgb(94, 201, 97)",
          "width": 2
         },
         "mode": "lines+markers",
         "name": "Action 0",
         "showlegend": false,
         "type": "scatter",
         "x": [
          7,
          8
         ],
         "y": [
          82,
          82
         ]
        },
        {
         "line": {
          "color": "rgb(94, 201, 97)",
          "width": 2
         },
         "mode": "lines+markers",
         "name": "Action 0",
         "showlegend": false,
         "type": "scatter",
         "x": [
          7,
          8
         ],
         "y": [
          83,
          83
         ]
        },
        {
         "line": {
          "color": "rgb(94, 201, 97)",
          "width": 2
         },
         "mode": "lines+markers",
         "name": "Action 0",
         "showlegend": false,
         "type": "scatter",
         "x": [
          7,
          8
         ],
         "y": [
          84,
          84
         ]
        },
        {
         "line": {
          "color": "rgb(94, 201, 97)",
          "width": 2
         },
         "mode": "lines+markers",
         "name": "Action 0",
         "showlegend": false,
         "type": "scatter",
         "x": [
          7,
          8
         ],
         "y": [
          85,
          85
         ]
        },
        {
         "line": {
          "color": "rgb(94, 201, 97)",
          "width": 2
         },
         "mode": "lines+markers",
         "name": "Action 0",
         "showlegend": false,
         "type": "scatter",
         "x": [
          7,
          8
         ],
         "y": [
          86,
          86
         ]
        },
        {
         "line": {
          "color": "rgb(94, 201, 97)",
          "width": 2
         },
         "mode": "lines+markers",
         "name": "Action 0",
         "showlegend": false,
         "type": "scatter",
         "x": [
          7,
          8
         ],
         "y": [
          87,
          87
         ]
        },
        {
         "line": {
          "color": "rgb(94, 201, 97)",
          "width": 2
         },
         "mode": "lines+markers",
         "name": "Action 0",
         "showlegend": false,
         "type": "scatter",
         "x": [
          7,
          8
         ],
         "y": [
          88,
          88
         ]
        },
        {
         "line": {
          "color": "rgb(94, 201, 97)",
          "width": 2
         },
         "mode": "lines+markers",
         "name": "Action 0",
         "showlegend": false,
         "type": "scatter",
         "x": [
          7,
          8
         ],
         "y": [
          89,
          89
         ]
        },
        {
         "line": {
          "color": "rgb(94, 201, 97)",
          "width": 2
         },
         "mode": "lines+markers",
         "name": "Action 0",
         "showlegend": false,
         "type": "scatter",
         "x": [
          7,
          8
         ],
         "y": [
          90,
          90
         ]
        },
        {
         "line": {
          "color": "rgb(94, 201, 97)",
          "width": 2
         },
         "mode": "lines+markers",
         "name": "Action 0",
         "showlegend": false,
         "type": "scatter",
         "x": [
          7,
          8
         ],
         "y": [
          91,
          91
         ]
        },
        {
         "line": {
          "color": "rgb(94, 201, 97)",
          "width": 2
         },
         "mode": "lines+markers",
         "name": "Action 0",
         "showlegend": false,
         "type": "scatter",
         "x": [
          7,
          8
         ],
         "y": [
          92,
          92
         ]
        },
        {
         "line": {
          "color": "rgb(94, 201, 97)",
          "width": 2
         },
         "mode": "lines+markers",
         "name": "Action 0",
         "showlegend": false,
         "type": "scatter",
         "x": [
          7,
          8
         ],
         "y": [
          93,
          93
         ]
        },
        {
         "line": {
          "color": "rgb(94, 201, 97)",
          "width": 2
         },
         "mode": "lines+markers",
         "name": "Action 0",
         "showlegend": false,
         "type": "scatter",
         "x": [
          7,
          8
         ],
         "y": [
          94,
          94
         ]
        },
        {
         "line": {
          "color": "rgb(94, 201, 97)",
          "width": 2
         },
         "mode": "lines+markers",
         "name": "Action 0",
         "showlegend": false,
         "type": "scatter",
         "x": [
          7,
          8
         ],
         "y": [
          95,
          95
         ]
        },
        {
         "line": {
          "color": "rgb(94, 201, 97)",
          "width": 2
         },
         "mode": "lines+markers",
         "name": "Action 0",
         "showlegend": false,
         "type": "scatter",
         "x": [
          7,
          8
         ],
         "y": [
          96,
          96
         ]
        },
        {
         "line": {
          "color": "rgb(94, 201, 97)",
          "width": 2
         },
         "mode": "lines+markers",
         "name": "Action 0",
         "showlegend": false,
         "type": "scatter",
         "x": [
          7,
          8
         ],
         "y": [
          97,
          97
         ]
        },
        {
         "line": {
          "color": "rgb(94, 201, 97)",
          "width": 2
         },
         "mode": "lines+markers",
         "name": "Action 0",
         "showlegend": false,
         "type": "scatter",
         "x": [
          7,
          8
         ],
         "y": [
          98,
          98
         ]
        },
        {
         "line": {
          "color": "rgb(94, 201, 97)",
          "width": 2
         },
         "mode": "lines+markers",
         "name": "Action 0",
         "showlegend": false,
         "type": "scatter",
         "x": [
          7,
          8
         ],
         "y": [
          99,
          99
         ]
        },
        {
         "line": {
          "color": "rgb(253, 231, 36)",
          "width": 2
         },
         "mode": "lines+markers",
         "name": "Action 17",
         "showlegend": true,
         "type": "scatter",
         "x": [
          1,
          2
         ],
         "y": [
          100,
          100
         ]
        },
        {
         "line": {
          "color": "rgb(253, 231, 36)",
          "width": 2
         },
         "mode": "lines+markers",
         "name": "Action 17",
         "showlegend": false,
         "type": "scatter",
         "x": [
          3,
          4
         ],
         "y": [
          59,
          76
         ]
        },
        {
         "line": {
          "color": "rgb(253, 231, 36)",
          "width": 2
         },
         "mode": "lines+markers",
         "name": "Action 17",
         "showlegend": false,
         "type": "scatter",
         "x": [
          4,
          5
         ],
         "y": [
          0,
          17
         ]
        },
        {
         "line": {
          "color": "rgb(253, 231, 36)",
          "width": 2
         },
         "mode": "lines+markers",
         "name": "Action 17",
         "showlegend": false,
         "type": "scatter",
         "x": [
          4,
          5
         ],
         "y": [
          5,
          22
         ]
        },
        {
         "line": {
          "color": "rgb(253, 231, 36)",
          "width": 2
         },
         "mode": "lines+markers",
         "name": "Action 17",
         "showlegend": false,
         "type": "scatter",
         "x": [
          5,
          6
         ],
         "y": [
          0,
          17
         ]
        },
        {
         "line": {
          "color": "rgb(253, 231, 36)",
          "width": 2
         },
         "mode": "lines+markers",
         "name": "Action 17",
         "showlegend": false,
         "type": "scatter",
         "x": [
          5,
          6
         ],
         "y": [
          10,
          27
         ]
        },
        {
         "line": {
          "color": "rgb(253, 231, 36)",
          "width": 2
         },
         "mode": "lines+markers",
         "name": "Action 17",
         "showlegend": false,
         "type": "scatter",
         "x": [
          5,
          6
         ],
         "y": [
          11,
          28
         ]
        },
        {
         "line": {
          "color": "rgb(253, 231, 36)",
          "width": 2
         },
         "mode": "lines+markers",
         "name": "Action 17",
         "showlegend": false,
         "type": "scatter",
         "x": [
          5,
          6
         ],
         "y": [
          12,
          29
         ]
        },
        {
         "line": {
          "color": "rgb(253, 231, 36)",
          "width": 2
         },
         "mode": "lines+markers",
         "name": "Action 17",
         "showlegend": false,
         "type": "scatter",
         "x": [
          5,
          6
         ],
         "y": [
          13,
          30
         ]
        },
        {
         "line": {
          "color": "rgb(253, 231, 36)",
          "width": 2
         },
         "mode": "lines+markers",
         "name": "Action 17",
         "showlegend": false,
         "type": "scatter",
         "x": [
          5,
          6
         ],
         "y": [
          18,
          35
         ]
        },
        {
         "line": {
          "color": "rgb(253, 231, 36)",
          "width": 2
         },
         "mode": "lines+markers",
         "name": "Action 17",
         "showlegend": false,
         "type": "scatter",
         "x": [
          5,
          6
         ],
         "y": [
          19,
          36
         ]
        },
        {
         "line": {
          "color": "rgb(253, 231, 36)",
          "width": 2
         },
         "mode": "lines+markers",
         "name": "Action 17",
         "showlegend": false,
         "type": "scatter",
         "x": [
          6,
          7
         ],
         "y": [
          1,
          18
         ]
        },
        {
         "line": {
          "color": "rgb(253, 231, 36)",
          "width": 2
         },
         "mode": "lines+markers",
         "name": "Action 17",
         "showlegend": false,
         "type": "scatter",
         "x": [
          6,
          7
         ],
         "y": [
          4,
          21
         ]
        },
        {
         "line": {
          "color": "rgb(253, 231, 36)",
          "width": 2
         },
         "mode": "lines+markers",
         "name": "Action 17",
         "showlegend": false,
         "type": "scatter",
         "x": [
          6,
          7
         ],
         "y": [
          5,
          22
         ]
        },
        {
         "line": {
          "color": "rgb(253, 231, 36)",
          "width": 2
         },
         "mode": "lines+markers",
         "name": "Action 17",
         "showlegend": false,
         "type": "scatter",
         "x": [
          6,
          7
         ],
         "y": [
          6,
          23
         ]
        },
        {
         "line": {
          "color": "rgb(253, 231, 36)",
          "width": 2
         },
         "mode": "lines+markers",
         "name": "Action 17",
         "showlegend": false,
         "type": "scatter",
         "x": [
          6,
          7
         ],
         "y": [
          7,
          24
         ]
        },
        {
         "line": {
          "color": "rgb(253, 231, 36)",
          "width": 2
         },
         "mode": "lines+markers",
         "name": "Action 17",
         "showlegend": false,
         "type": "scatter",
         "x": [
          6,
          7
         ],
         "y": [
          8,
          25
         ]
        },
        {
         "line": {
          "color": "rgb(253, 231, 36)",
          "width": 2
         },
         "mode": "lines+markers",
         "name": "Action 17",
         "showlegend": false,
         "type": "scatter",
         "x": [
          6,
          7
         ],
         "y": [
          9,
          26
         ]
        },
        {
         "line": {
          "color": "rgb(253, 231, 36)",
          "width": 2
         },
         "mode": "lines+markers",
         "name": "Action 17",
         "showlegend": false,
         "type": "scatter",
         "x": [
          6,
          7
         ],
         "y": [
          10,
          27
         ]
        },
        {
         "line": {
          "color": "rgb(253, 231, 36)",
          "width": 2
         },
         "mode": "lines+markers",
         "name": "Action 17",
         "showlegend": false,
         "type": "scatter",
         "x": [
          6,
          7
         ],
         "y": [
          13,
          30
         ]
        },
        {
         "line": {
          "color": "rgb(253, 231, 36)",
          "width": 2
         },
         "mode": "lines+markers",
         "name": "Action 17",
         "showlegend": false,
         "type": "scatter",
         "x": [
          6,
          7
         ],
         "y": [
          14,
          31
         ]
        },
        {
         "line": {
          "color": "rgb(253, 231, 36)",
          "width": 2
         },
         "mode": "lines+markers",
         "name": "Action 17",
         "showlegend": false,
         "type": "scatter",
         "x": [
          6,
          7
         ],
         "y": [
          15,
          32
         ]
        },
        {
         "line": {
          "color": "rgb(253, 231, 36)",
          "width": 2
         },
         "mode": "lines+markers",
         "name": "Action 17",
         "showlegend": false,
         "type": "scatter",
         "x": [
          6,
          7
         ],
         "y": [
          16,
          33
         ]
        },
        {
         "line": {
          "color": "rgb(253, 231, 36)",
          "width": 2
         },
         "mode": "lines+markers",
         "name": "Action 17",
         "showlegend": false,
         "type": "scatter",
         "x": [
          6,
          7
         ],
         "y": [
          19,
          36
         ]
        },
        {
         "line": {
          "color": "rgb(253, 231, 36)",
          "width": 2
         },
         "mode": "lines+markers",
         "name": "Action 17",
         "showlegend": false,
         "type": "scatter",
         "x": [
          6,
          7
         ],
         "y": [
          20,
          37
         ]
        },
        {
         "line": {
          "color": "rgb(253, 231, 36)",
          "width": 2
         },
         "mode": "lines+markers",
         "name": "Action 17",
         "showlegend": false,
         "type": "scatter",
         "x": [
          6,
          7
         ],
         "y": [
          21,
          38
         ]
        },
        {
         "line": {
          "color": "rgb(253, 231, 36)",
          "width": 2
         },
         "mode": "lines+markers",
         "name": "Action 17",
         "showlegend": false,
         "type": "scatter",
         "x": [
          6,
          7
         ],
         "y": [
          22,
          39
         ]
        },
        {
         "line": {
          "color": "rgb(253, 231, 36)",
          "width": 2
         },
         "mode": "lines+markers",
         "name": "Action 17",
         "showlegend": false,
         "type": "scatter",
         "x": [
          6,
          7
         ],
         "y": [
          23,
          40
         ]
        },
        {
         "line": {
          "color": "rgb(253, 231, 36)",
          "width": 2
         },
         "mode": "lines+markers",
         "name": "Action 17",
         "showlegend": false,
         "type": "scatter",
         "x": [
          6,
          7
         ],
         "y": [
          26,
          43
         ]
        },
        {
         "line": {
          "color": "rgb(253, 231, 36)",
          "width": 2
         },
         "mode": "lines+markers",
         "name": "Action 17",
         "showlegend": false,
         "type": "scatter",
         "x": [
          7,
          8
         ],
         "y": [
          3,
          20
         ]
        },
        {
         "line": {
          "color": "rgb(253, 231, 36)",
          "width": 2
         },
         "mode": "lines+markers",
         "name": "Action 17",
         "showlegend": false,
         "type": "scatter",
         "x": [
          7,
          8
         ],
         "y": [
          7,
          24
         ]
        },
        {
         "line": {
          "color": "rgb(253, 231, 36)",
          "width": 2
         },
         "mode": "lines+markers",
         "name": "Action 17",
         "showlegend": false,
         "type": "scatter",
         "x": [
          7,
          8
         ],
         "y": [
          14,
          31
         ]
        },
        {
         "line": {
          "color": "rgb(253, 231, 36)",
          "width": 2
         },
         "mode": "lines+markers",
         "name": "Action 17",
         "showlegend": false,
         "type": "scatter",
         "x": [
          7,
          8
         ],
         "y": [
          16,
          33
         ]
        },
        {
         "line": {
          "color": "rgb(253, 231, 36)",
          "width": 2
         },
         "mode": "lines+markers",
         "name": "Action 17",
         "showlegend": false,
         "type": "scatter",
         "x": [
          7,
          8
         ],
         "y": [
          22,
          39
         ]
        },
        {
         "line": {
          "color": "rgb(253, 231, 36)",
          "width": 2
         },
         "mode": "lines+markers",
         "name": "Action 17",
         "showlegend": false,
         "type": "scatter",
         "x": [
          7,
          8
         ],
         "y": [
          23,
          40
         ]
        },
        {
         "line": {
          "color": "rgb(253, 231, 36)",
          "width": 2
         },
         "mode": "lines+markers",
         "name": "Action 17",
         "showlegend": false,
         "type": "scatter",
         "x": [
          7,
          8
         ],
         "y": [
          24,
          41
         ]
        },
        {
         "line": {
          "color": "rgb(253, 231, 36)",
          "width": 2
         },
         "mode": "lines+markers",
         "name": "Action 17",
         "showlegend": false,
         "type": "scatter",
         "x": [
          7,
          8
         ],
         "y": [
          25,
          42
         ]
        },
        {
         "line": {
          "color": "rgb(253, 231, 36)",
          "width": 2
         },
         "mode": "lines+markers",
         "name": "Action 17",
         "showlegend": false,
         "type": "scatter",
         "x": [
          7,
          8
         ],
         "y": [
          26,
          43
         ]
        },
        {
         "line": {
          "color": "rgb(253, 231, 36)",
          "width": 2
         },
         "mode": "lines+markers",
         "name": "Action 17",
         "showlegend": false,
         "type": "scatter",
         "x": [
          7,
          8
         ],
         "y": [
          27,
          44
         ]
        },
        {
         "line": {
          "color": "rgb(253, 231, 36)",
          "width": 2
         },
         "mode": "lines+markers",
         "name": "Action 17",
         "showlegend": false,
         "type": "scatter",
         "x": [
          7,
          8
         ],
         "y": [
          28,
          45
         ]
        },
        {
         "line": {
          "color": "rgb(253, 231, 36)",
          "width": 2
         },
         "mode": "lines+markers",
         "name": "Action 17",
         "showlegend": false,
         "type": "scatter",
         "x": [
          7,
          8
         ],
         "y": [
          29,
          46
         ]
        }
       ],
       "layout": {
        "template": {
         "data": {
          "bar": [
           {
            "error_x": {
             "color": "#2a3f5f"
            },
            "error_y": {
             "color": "#2a3f5f"
            },
            "marker": {
             "line": {
              "color": "#E5ECF6",
              "width": 0.5
             },
             "pattern": {
              "fillmode": "overlay",
              "size": 10,
              "solidity": 0.2
             }
            },
            "type": "bar"
           }
          ],
          "barpolar": [
           {
            "marker": {
             "line": {
              "color": "#E5ECF6",
              "width": 0.5
             },
             "pattern": {
              "fillmode": "overlay",
              "size": 10,
              "solidity": 0.2
             }
            },
            "type": "barpolar"
           }
          ],
          "carpet": [
           {
            "aaxis": {
             "endlinecolor": "#2a3f5f",
             "gridcolor": "white",
             "linecolor": "white",
             "minorgridcolor": "white",
             "startlinecolor": "#2a3f5f"
            },
            "baxis": {
             "endlinecolor": "#2a3f5f",
             "gridcolor": "white",
             "linecolor": "white",
             "minorgridcolor": "white",
             "startlinecolor": "#2a3f5f"
            },
            "type": "carpet"
           }
          ],
          "choropleth": [
           {
            "colorbar": {
             "outlinewidth": 0,
             "ticks": ""
            },
            "type": "choropleth"
           }
          ],
          "contour": [
           {
            "colorbar": {
             "outlinewidth": 0,
             "ticks": ""
            },
            "colorscale": [
             [
              0,
              "#0d0887"
             ],
             [
              0.1111111111111111,
              "#46039f"
             ],
             [
              0.2222222222222222,
              "#7201a8"
             ],
             [
              0.3333333333333333,
              "#9c179e"
             ],
             [
              0.4444444444444444,
              "#bd3786"
             ],
             [
              0.5555555555555556,
              "#d8576b"
             ],
             [
              0.6666666666666666,
              "#ed7953"
             ],
             [
              0.7777777777777778,
              "#fb9f3a"
             ],
             [
              0.8888888888888888,
              "#fdca26"
             ],
             [
              1,
              "#f0f921"
             ]
            ],
            "type": "contour"
           }
          ],
          "contourcarpet": [
           {
            "colorbar": {
             "outlinewidth": 0,
             "ticks": ""
            },
            "type": "contourcarpet"
           }
          ],
          "heatmap": [
           {
            "colorbar": {
             "outlinewidth": 0,
             "ticks": ""
            },
            "colorscale": [
             [
              0,
              "#0d0887"
             ],
             [
              0.1111111111111111,
              "#46039f"
             ],
             [
              0.2222222222222222,
              "#7201a8"
             ],
             [
              0.3333333333333333,
              "#9c179e"
             ],
             [
              0.4444444444444444,
              "#bd3786"
             ],
             [
              0.5555555555555556,
              "#d8576b"
             ],
             [
              0.6666666666666666,
              "#ed7953"
             ],
             [
              0.7777777777777778,
              "#fb9f3a"
             ],
             [
              0.8888888888888888,
              "#fdca26"
             ],
             [
              1,
              "#f0f921"
             ]
            ],
            "type": "heatmap"
           }
          ],
          "heatmapgl": [
           {
            "colorbar": {
             "outlinewidth": 0,
             "ticks": ""
            },
            "colorscale": [
             [
              0,
              "#0d0887"
             ],
             [
              0.1111111111111111,
              "#46039f"
             ],
             [
              0.2222222222222222,
              "#7201a8"
             ],
             [
              0.3333333333333333,
              "#9c179e"
             ],
             [
              0.4444444444444444,
              "#bd3786"
             ],
             [
              0.5555555555555556,
              "#d8576b"
             ],
             [
              0.6666666666666666,
              "#ed7953"
             ],
             [
              0.7777777777777778,
              "#fb9f3a"
             ],
             [
              0.8888888888888888,
              "#fdca26"
             ],
             [
              1,
              "#f0f921"
             ]
            ],
            "type": "heatmapgl"
           }
          ],
          "histogram": [
           {
            "marker": {
             "pattern": {
              "fillmode": "overlay",
              "size": 10,
              "solidity": 0.2
             }
            },
            "type": "histogram"
           }
          ],
          "histogram2d": [
           {
            "colorbar": {
             "outlinewidth": 0,
             "ticks": ""
            },
            "colorscale": [
             [
              0,
              "#0d0887"
             ],
             [
              0.1111111111111111,
              "#46039f"
             ],
             [
              0.2222222222222222,
              "#7201a8"
             ],
             [
              0.3333333333333333,
              "#9c179e"
             ],
             [
              0.4444444444444444,
              "#bd3786"
             ],
             [
              0.5555555555555556,
              "#d8576b"
             ],
             [
              0.6666666666666666,
              "#ed7953"
             ],
             [
              0.7777777777777778,
              "#fb9f3a"
             ],
             [
              0.8888888888888888,
              "#fdca26"
             ],
             [
              1,
              "#f0f921"
             ]
            ],
            "type": "histogram2d"
           }
          ],
          "histogram2dcontour": [
           {
            "colorbar": {
             "outlinewidth": 0,
             "ticks": ""
            },
            "colorscale": [
             [
              0,
              "#0d0887"
             ],
             [
              0.1111111111111111,
              "#46039f"
             ],
             [
              0.2222222222222222,
              "#7201a8"
             ],
             [
              0.3333333333333333,
              "#9c179e"
             ],
             [
              0.4444444444444444,
              "#bd3786"
             ],
             [
              0.5555555555555556,
              "#d8576b"
             ],
             [
              0.6666666666666666,
              "#ed7953"
             ],
             [
              0.7777777777777778,
              "#fb9f3a"
             ],
             [
              0.8888888888888888,
              "#fdca26"
             ],
             [
              1,
              "#f0f921"
             ]
            ],
            "type": "histogram2dcontour"
           }
          ],
          "mesh3d": [
           {
            "colorbar": {
             "outlinewidth": 0,
             "ticks": ""
            },
            "type": "mesh3d"
           }
          ],
          "parcoords": [
           {
            "line": {
             "colorbar": {
              "outlinewidth": 0,
              "ticks": ""
             }
            },
            "type": "parcoords"
           }
          ],
          "pie": [
           {
            "automargin": true,
            "type": "pie"
           }
          ],
          "scatter": [
           {
            "fillpattern": {
             "fillmode": "overlay",
             "size": 10,
             "solidity": 0.2
            },
            "type": "scatter"
           }
          ],
          "scatter3d": [
           {
            "line": {
             "colorbar": {
              "outlinewidth": 0,
              "ticks": ""
             }
            },
            "marker": {
             "colorbar": {
              "outlinewidth": 0,
              "ticks": ""
             }
            },
            "type": "scatter3d"
           }
          ],
          "scattercarpet": [
           {
            "marker": {
             "colorbar": {
              "outlinewidth": 0,
              "ticks": ""
             }
            },
            "type": "scattercarpet"
           }
          ],
          "scattergeo": [
           {
            "marker": {
             "colorbar": {
              "outlinewidth": 0,
              "ticks": ""
             }
            },
            "type": "scattergeo"
           }
          ],
          "scattergl": [
           {
            "marker": {
             "colorbar": {
              "outlinewidth": 0,
              "ticks": ""
             }
            },
            "type": "scattergl"
           }
          ],
          "scattermapbox": [
           {
            "marker": {
             "colorbar": {
              "outlinewidth": 0,
              "ticks": ""
             }
            },
            "type": "scattermapbox"
           }
          ],
          "scatterpolar": [
           {
            "marker": {
             "colorbar": {
              "outlinewidth": 0,
              "ticks": ""
             }
            },
            "type": "scatterpolar"
           }
          ],
          "scatterpolargl": [
           {
            "marker": {
             "colorbar": {
              "outlinewidth": 0,
              "ticks": ""
             }
            },
            "type": "scatterpolargl"
           }
          ],
          "scatterternary": [
           {
            "marker": {
             "colorbar": {
              "outlinewidth": 0,
              "ticks": ""
             }
            },
            "type": "scatterternary"
           }
          ],
          "surface": [
           {
            "colorbar": {
             "outlinewidth": 0,
             "ticks": ""
            },
            "colorscale": [
             [
              0,
              "#0d0887"
             ],
             [
              0.1111111111111111,
              "#46039f"
             ],
             [
              0.2222222222222222,
              "#7201a8"
             ],
             [
              0.3333333333333333,
              "#9c179e"
             ],
             [
              0.4444444444444444,
              "#bd3786"
             ],
             [
              0.5555555555555556,
              "#d8576b"
             ],
             [
              0.6666666666666666,
              "#ed7953"
             ],
             [
              0.7777777777777778,
              "#fb9f3a"
             ],
             [
              0.8888888888888888,
              "#fdca26"
             ],
             [
              1,
              "#f0f921"
             ]
            ],
            "type": "surface"
           }
          ],
          "table": [
           {
            "cells": {
             "fill": {
              "color": "#EBF0F8"
             },
             "line": {
              "color": "white"
             }
            },
            "header": {
             "fill": {
              "color": "#C8D4E3"
             },
             "line": {
              "color": "white"
             }
            },
            "type": "table"
           }
          ]
         },
         "layout": {
          "annotationdefaults": {
           "arrowcolor": "#2a3f5f",
           "arrowhead": 0,
           "arrowwidth": 1
          },
          "autotypenumbers": "strict",
          "coloraxis": {
           "colorbar": {
            "outlinewidth": 0,
            "ticks": ""
           }
          },
          "colorscale": {
           "diverging": [
            [
             0,
             "#8e0152"
            ],
            [
             0.1,
             "#c51b7d"
            ],
            [
             0.2,
             "#de77ae"
            ],
            [
             0.3,
             "#f1b6da"
            ],
            [
             0.4,
             "#fde0ef"
            ],
            [
             0.5,
             "#f7f7f7"
            ],
            [
             0.6,
             "#e6f5d0"
            ],
            [
             0.7,
             "#b8e186"
            ],
            [
             0.8,
             "#7fbc41"
            ],
            [
             0.9,
             "#4d9221"
            ],
            [
             1,
             "#276419"
            ]
           ],
           "sequential": [
            [
             0,
             "#0d0887"
            ],
            [
             0.1111111111111111,
             "#46039f"
            ],
            [
             0.2222222222222222,
             "#7201a8"
            ],
            [
             0.3333333333333333,
             "#9c179e"
            ],
            [
             0.4444444444444444,
             "#bd3786"
            ],
            [
             0.5555555555555556,
             "#d8576b"
            ],
            [
             0.6666666666666666,
             "#ed7953"
            ],
            [
             0.7777777777777778,
             "#fb9f3a"
            ],
            [
             0.8888888888888888,
             "#fdca26"
            ],
            [
             1,
             "#f0f921"
            ]
           ],
           "sequentialminus": [
            [
             0,
             "#0d0887"
            ],
            [
             0.1111111111111111,
             "#46039f"
            ],
            [
             0.2222222222222222,
             "#7201a8"
            ],
            [
             0.3333333333333333,
             "#9c179e"
            ],
            [
             0.4444444444444444,
             "#bd3786"
            ],
            [
             0.5555555555555556,
             "#d8576b"
            ],
            [
             0.6666666666666666,
             "#ed7953"
            ],
            [
             0.7777777777777778,
             "#fb9f3a"
            ],
            [
             0.8888888888888888,
             "#fdca26"
            ],
            [
             1,
             "#f0f921"
            ]
           ]
          },
          "colorway": [
           "#636efa",
           "#EF553B",
           "#00cc96",
           "#ab63fa",
           "#FFA15A",
           "#19d3f3",
           "#FF6692",
           "#B6E880",
           "#FF97FF",
           "#FECB52"
          ],
          "font": {
           "color": "#2a3f5f"
          },
          "geo": {
           "bgcolor": "white",
           "lakecolor": "white",
           "landcolor": "#E5ECF6",
           "showlakes": true,
           "showland": true,
           "subunitcolor": "white"
          },
          "hoverlabel": {
           "align": "left"
          },
          "hovermode": "closest",
          "mapbox": {
           "style": "light"
          },
          "paper_bgcolor": "white",
          "plot_bgcolor": "#E5ECF6",
          "polar": {
           "angularaxis": {
            "gridcolor": "white",
            "linecolor": "white",
            "ticks": ""
           },
           "bgcolor": "#E5ECF6",
           "radialaxis": {
            "gridcolor": "white",
            "linecolor": "white",
            "ticks": ""
           }
          },
          "scene": {
           "xaxis": {
            "backgroundcolor": "#E5ECF6",
            "gridcolor": "white",
            "gridwidth": 2,
            "linecolor": "white",
            "showbackground": true,
            "ticks": "",
            "zerolinecolor": "white"
           },
           "yaxis": {
            "backgroundcolor": "#E5ECF6",
            "gridcolor": "white",
            "gridwidth": 2,
            "linecolor": "white",
            "showbackground": true,
            "ticks": "",
            "zerolinecolor": "white"
           },
           "zaxis": {
            "backgroundcolor": "#E5ECF6",
            "gridcolor": "white",
            "gridwidth": 2,
            "linecolor": "white",
            "showbackground": true,
            "ticks": "",
            "zerolinecolor": "white"
           }
          },
          "shapedefaults": {
           "line": {
            "color": "#2a3f5f"
           }
          },
          "ternary": {
           "aaxis": {
            "gridcolor": "white",
            "linecolor": "white",
            "ticks": ""
           },
           "baxis": {
            "gridcolor": "white",
            "linecolor": "white",
            "ticks": ""
           },
           "bgcolor": "#E5ECF6",
           "caxis": {
            "gridcolor": "white",
            "linecolor": "white",
            "ticks": ""
           }
          },
          "title": {
           "x": 0.05
          },
          "xaxis": {
           "automargin": true,
           "gridcolor": "white",
           "linecolor": "white",
           "ticks": "",
           "title": {
            "standoff": 15
           },
           "zerolinecolor": "white",
           "zerolinewidth": 2
          },
          "yaxis": {
           "automargin": true,
           "gridcolor": "white",
           "linecolor": "white",
           "ticks": "",
           "title": {
            "standoff": 15
           },
           "zerolinecolor": "white",
           "zerolinewidth": 2
          }
         }
        },
        "title": {
         "text": "Battery Level Transitions Over Time"
        },
        "xaxis": {
         "title": {
          "text": "Time"
         }
        },
        "yaxis": {
         "title": {
          "text": "Battery Level"
         }
        }
       }
      },
      "text/html": [
       "<div>                            <div id=\"3d659240-ced3-444d-bac6-83be040dc6ca\" class=\"plotly-graph-div\" style=\"height:525px; width:100%;\"></div>            <script type=\"text/javascript\">                require([\"plotly\"], function(Plotly) {                    window.PLOTLYENV=window.PLOTLYENV || {};                                    if (document.getElementById(\"3d659240-ced3-444d-bac6-83be040dc6ca\")) {                    Plotly.newPlot(                        \"3d659240-ced3-444d-bac6-83be040dc6ca\",                        [{\"line\":{\"color\":\"rgb(68, 1, 84)\",\"width\":2},\"mode\":\"lines+markers\",\"name\":\"Action 11\",\"showlegend\":true,\"x\":[0,1],\"y\":[0,11],\"type\":\"scatter\"},{\"line\":{\"color\":\"rgb(68, 1, 84)\",\"width\":2},\"mode\":\"lines+markers\",\"name\":\"Action 11\",\"showlegend\":false,\"x\":[0,1],\"y\":[11,22],\"type\":\"scatter\"},{\"line\":{\"color\":\"rgb(68, 1, 84)\",\"width\":2},\"mode\":\"lines+markers\",\"name\":\"Action 11\",\"showlegend\":false,\"x\":[0,1],\"y\":[16,27],\"type\":\"scatter\"},{\"line\":{\"color\":\"rgb(68, 1, 84)\",\"width\":2},\"mode\":\"lines+markers\",\"name\":\"Action 11\",\"showlegend\":false,\"x\":[0,1],\"y\":[30,41],\"type\":\"scatter\"},{\"line\":{\"color\":\"rgb(68, 1, 84)\",\"width\":2},\"mode\":\"lines+markers\",\"name\":\"Action 11\",\"showlegend\":false,\"x\":[0,1],\"y\":[31,42],\"type\":\"scatter\"},{\"line\":{\"color\":\"rgb(68, 1, 84)\",\"width\":2},\"mode\":\"lines+markers\",\"name\":\"Action 11\",\"showlegend\":false,\"x\":[0,1],\"y\":[33,44],\"type\":\"scatter\"},{\"line\":{\"color\":\"rgb(68, 1, 84)\",\"width\":2},\"mode\":\"lines+markers\",\"name\":\"Action 11\",\"showlegend\":false,\"x\":[0,1],\"y\":[34,45],\"type\":\"scatter\"},{\"line\":{\"color\":\"rgb(68, 1, 84)\",\"width\":2},\"mode\":\"lines+markers\",\"name\":\"Action 11\",\"showlegend\":false,\"x\":[0,1],\"y\":[37,48],\"type\":\"scatter\"},{\"line\":{\"color\":\"rgb(68, 1, 84)\",\"width\":2},\"mode\":\"lines+markers\",\"name\":\"Action 11\",\"showlegend\":false,\"x\":[0,1],\"y\":[41,52],\"type\":\"scatter\"},{\"line\":{\"color\":\"rgb(68, 1, 84)\",\"width\":2},\"mode\":\"lines+markers\",\"name\":\"Action 11\",\"showlegend\":false,\"x\":[0,1],\"y\":[46,57],\"type\":\"scatter\"},{\"line\":{\"color\":\"rgb(68, 1, 84)\",\"width\":2},\"mode\":\"lines+markers\",\"name\":\"Action 11\",\"showlegend\":false,\"x\":[0,1],\"y\":[50,61],\"type\":\"scatter\"},{\"line\":{\"color\":\"rgb(68, 1, 84)\",\"width\":2},\"mode\":\"lines+markers\",\"name\":\"Action 11\",\"showlegend\":false,\"x\":[0,1],\"y\":[58,69],\"type\":\"scatter\"},{\"line\":{\"color\":\"rgb(68, 1, 84)\",\"width\":2},\"mode\":\"lines+markers\",\"name\":\"Action 11\",\"showlegend\":false,\"x\":[0,1],\"y\":[59,70],\"type\":\"scatter\"},{\"line\":{\"color\":\"rgb(68, 1, 84)\",\"width\":2},\"mode\":\"lines+markers\",\"name\":\"Action 11\",\"showlegend\":false,\"x\":[0,1],\"y\":[61,72],\"type\":\"scatter\"},{\"line\":{\"color\":\"rgb(68, 1, 84)\",\"width\":2},\"mode\":\"lines+markers\",\"name\":\"Action 11\",\"showlegend\":false,\"x\":[0,1],\"y\":[63,74],\"type\":\"scatter\"},{\"line\":{\"color\":\"rgb(68, 1, 84)\",\"width\":2},\"mode\":\"lines+markers\",\"name\":\"Action 11\",\"showlegend\":false,\"x\":[0,1],\"y\":[65,76],\"type\":\"scatter\"},{\"line\":{\"color\":\"rgb(68, 1, 84)\",\"width\":2},\"mode\":\"lines+markers\",\"name\":\"Action 11\",\"showlegend\":false,\"x\":[0,1],\"y\":[66,77],\"type\":\"scatter\"},{\"line\":{\"color\":\"rgb(68, 1, 84)\",\"width\":2},\"mode\":\"lines+markers\",\"name\":\"Action 11\",\"showlegend\":false,\"x\":[0,1],\"y\":[67,78],\"type\":\"scatter\"},{\"line\":{\"color\":\"rgb(68, 1, 84)\",\"width\":2},\"mode\":\"lines+markers\",\"name\":\"Action 11\",\"showlegend\":false,\"x\":[0,1],\"y\":[68,79],\"type\":\"scatter\"},{\"line\":{\"color\":\"rgb(68, 1, 84)\",\"width\":2},\"mode\":\"lines+markers\",\"name\":\"Action 11\",\"showlegend\":false,\"x\":[0,1],\"y\":[74,85],\"type\":\"scatter\"},{\"line\":{\"color\":\"rgb(68, 1, 84)\",\"width\":2},\"mode\":\"lines+markers\",\"name\":\"Action 11\",\"showlegend\":false,\"x\":[0,1],\"y\":[75,86],\"type\":\"scatter\"},{\"line\":{\"color\":\"rgb(68, 1, 84)\",\"width\":2},\"mode\":\"lines+markers\",\"name\":\"Action 11\",\"showlegend\":false,\"x\":[0,1],\"y\":[76,87],\"type\":\"scatter\"},{\"line\":{\"color\":\"rgb(68, 1, 84)\",\"width\":2},\"mode\":\"lines+markers\",\"name\":\"Action 11\",\"showlegend\":false,\"x\":[0,1],\"y\":[77,88],\"type\":\"scatter\"},{\"line\":{\"color\":\"rgb(68, 1, 84)\",\"width\":2},\"mode\":\"lines+markers\",\"name\":\"Action 11\",\"showlegend\":false,\"x\":[0,1],\"y\":[78,89],\"type\":\"scatter\"},{\"line\":{\"color\":\"rgb(68, 1, 84)\",\"width\":2},\"mode\":\"lines+markers\",\"name\":\"Action 11\",\"showlegend\":false,\"x\":[0,1],\"y\":[81,92],\"type\":\"scatter\"},{\"line\":{\"color\":\"rgb(68, 1, 84)\",\"width\":2},\"mode\":\"lines+markers\",\"name\":\"Action 11\",\"showlegend\":false,\"x\":[1,2],\"y\":[1,12],\"type\":\"scatter\"},{\"line\":{\"color\":\"rgb(68, 1, 84)\",\"width\":2},\"mode\":\"lines+markers\",\"name\":\"Action 11\",\"showlegend\":false,\"x\":[1,2],\"y\":[10,21],\"type\":\"scatter\"},{\"line\":{\"color\":\"rgb(68, 1, 84)\",\"width\":2},\"mode\":\"lines+markers\",\"name\":\"Action 11\",\"showlegend\":false,\"x\":[1,2],\"y\":[11,22],\"type\":\"scatter\"},{\"line\":{\"color\":\"rgb(68, 1, 84)\",\"width\":2},\"mode\":\"lines+markers\",\"name\":\"Action 11\",\"showlegend\":false,\"x\":[1,2],\"y\":[12,23],\"type\":\"scatter\"},{\"line\":{\"color\":\"rgb(68, 1, 84)\",\"width\":2},\"mode\":\"lines+markers\",\"name\":\"Action 11\",\"showlegend\":false,\"x\":[1,2],\"y\":[23,34],\"type\":\"scatter\"},{\"line\":{\"color\":\"rgb(68, 1, 84)\",\"width\":2},\"mode\":\"lines+markers\",\"name\":\"Action 11\",\"showlegend\":false,\"x\":[1,2],\"y\":[26,37],\"type\":\"scatter\"},{\"line\":{\"color\":\"rgb(68, 1, 84)\",\"width\":2},\"mode\":\"lines+markers\",\"name\":\"Action 11\",\"showlegend\":false,\"x\":[1,2],\"y\":[29,40],\"type\":\"scatter\"},{\"line\":{\"color\":\"rgb(68, 1, 84)\",\"width\":2},\"mode\":\"lines+markers\",\"name\":\"Action 11\",\"showlegend\":false,\"x\":[1,2],\"y\":[30,41],\"type\":\"scatter\"},{\"line\":{\"color\":\"rgb(68, 1, 84)\",\"width\":2},\"mode\":\"lines+markers\",\"name\":\"Action 11\",\"showlegend\":false,\"x\":[1,2],\"y\":[34,45],\"type\":\"scatter\"},{\"line\":{\"color\":\"rgb(68, 1, 84)\",\"width\":2},\"mode\":\"lines+markers\",\"name\":\"Action 11\",\"showlegend\":false,\"x\":[1,2],\"y\":[40,51],\"type\":\"scatter\"},{\"line\":{\"color\":\"rgb(68, 1, 84)\",\"width\":2},\"mode\":\"lines+markers\",\"name\":\"Action 11\",\"showlegend\":false,\"x\":[1,2],\"y\":[41,52],\"type\":\"scatter\"},{\"line\":{\"color\":\"rgb(68, 1, 84)\",\"width\":2},\"mode\":\"lines+markers\",\"name\":\"Action 11\",\"showlegend\":false,\"x\":[1,2],\"y\":[43,54],\"type\":\"scatter\"},{\"line\":{\"color\":\"rgb(68, 1, 84)\",\"width\":2},\"mode\":\"lines+markers\",\"name\":\"Action 11\",\"showlegend\":false,\"x\":[1,2],\"y\":[44,55],\"type\":\"scatter\"},{\"line\":{\"color\":\"rgb(68, 1, 84)\",\"width\":2},\"mode\":\"lines+markers\",\"name\":\"Action 11\",\"showlegend\":false,\"x\":[1,2],\"y\":[51,62],\"type\":\"scatter\"},{\"line\":{\"color\":\"rgb(68, 1, 84)\",\"width\":2},\"mode\":\"lines+markers\",\"name\":\"Action 11\",\"showlegend\":false,\"x\":[1,2],\"y\":[55,66],\"type\":\"scatter\"},{\"line\":{\"color\":\"rgb(68, 1, 84)\",\"width\":2},\"mode\":\"lines+markers\",\"name\":\"Action 11\",\"showlegend\":false,\"x\":[1,2],\"y\":[62,73],\"type\":\"scatter\"},{\"line\":{\"color\":\"rgb(68, 1, 84)\",\"width\":2},\"mode\":\"lines+markers\",\"name\":\"Action 11\",\"showlegend\":false,\"x\":[1,2],\"y\":[64,75],\"type\":\"scatter\"},{\"line\":{\"color\":\"rgb(68, 1, 84)\",\"width\":2},\"mode\":\"lines+markers\",\"name\":\"Action 11\",\"showlegend\":false,\"x\":[1,2],\"y\":[65,76],\"type\":\"scatter\"},{\"line\":{\"color\":\"rgb(68, 1, 84)\",\"width\":2},\"mode\":\"lines+markers\",\"name\":\"Action 11\",\"showlegend\":false,\"x\":[1,2],\"y\":[71,82],\"type\":\"scatter\"},{\"line\":{\"color\":\"rgb(68, 1, 84)\",\"width\":2},\"mode\":\"lines+markers\",\"name\":\"Action 11\",\"showlegend\":false,\"x\":[1,2],\"y\":[73,84],\"type\":\"scatter\"},{\"line\":{\"color\":\"rgb(68, 1, 84)\",\"width\":2},\"mode\":\"lines+markers\",\"name\":\"Action 11\",\"showlegend\":false,\"x\":[1,2],\"y\":[75,86],\"type\":\"scatter\"},{\"line\":{\"color\":\"rgb(68, 1, 84)\",\"width\":2},\"mode\":\"lines+markers\",\"name\":\"Action 11\",\"showlegend\":false,\"x\":[1,2],\"y\":[77,88],\"type\":\"scatter\"},{\"line\":{\"color\":\"rgb(68, 1, 84)\",\"width\":2},\"mode\":\"lines+markers\",\"name\":\"Action 11\",\"showlegend\":false,\"x\":[2,3],\"y\":[0,11],\"type\":\"scatter\"},{\"line\":{\"color\":\"rgb(68, 1, 84)\",\"width\":2},\"mode\":\"lines+markers\",\"name\":\"Action 11\",\"showlegend\":false,\"x\":[2,3],\"y\":[1,12],\"type\":\"scatter\"},{\"line\":{\"color\":\"rgb(68, 1, 84)\",\"width\":2},\"mode\":\"lines+markers\",\"name\":\"Action 11\",\"showlegend\":false,\"x\":[2,3],\"y\":[7,18],\"type\":\"scatter\"},{\"line\":{\"color\":\"rgb(68, 1, 84)\",\"width\":2},\"mode\":\"lines+markers\",\"name\":\"Action 11\",\"showlegend\":false,\"x\":[2,3],\"y\":[8,19],\"type\":\"scatter\"},{\"line\":{\"color\":\"rgb(68, 1, 84)\",\"width\":2},\"mode\":\"lines+markers\",\"name\":\"Action 11\",\"showlegend\":false,\"x\":[2,3],\"y\":[10,21],\"type\":\"scatter\"},{\"line\":{\"color\":\"rgb(68, 1, 84)\",\"width\":2},\"mode\":\"lines+markers\",\"name\":\"Action 11\",\"showlegend\":false,\"x\":[2,3],\"y\":[12,23],\"type\":\"scatter\"},{\"line\":{\"color\":\"rgb(68, 1, 84)\",\"width\":2},\"mode\":\"lines+markers\",\"name\":\"Action 11\",\"showlegend\":false,\"x\":[2,3],\"y\":[13,24],\"type\":\"scatter\"},{\"line\":{\"color\":\"rgb(68, 1, 84)\",\"width\":2},\"mode\":\"lines+markers\",\"name\":\"Action 11\",\"showlegend\":false,\"x\":[2,3],\"y\":[18,29],\"type\":\"scatter\"},{\"line\":{\"color\":\"rgb(68, 1, 84)\",\"width\":2},\"mode\":\"lines+markers\",\"name\":\"Action 11\",\"showlegend\":false,\"x\":[2,3],\"y\":[19,30],\"type\":\"scatter\"},{\"line\":{\"color\":\"rgb(68, 1, 84)\",\"width\":2},\"mode\":\"lines+markers\",\"name\":\"Action 11\",\"showlegend\":false,\"x\":[2,3],\"y\":[21,32],\"type\":\"scatter\"},{\"line\":{\"color\":\"rgb(68, 1, 84)\",\"width\":2},\"mode\":\"lines+markers\",\"name\":\"Action 11\",\"showlegend\":false,\"x\":[2,3],\"y\":[23,34],\"type\":\"scatter\"},{\"line\":{\"color\":\"rgb(68, 1, 84)\",\"width\":2},\"mode\":\"lines+markers\",\"name\":\"Action 11\",\"showlegend\":false,\"x\":[2,3],\"y\":[26,37],\"type\":\"scatter\"},{\"line\":{\"color\":\"rgb(68, 1, 84)\",\"width\":2},\"mode\":\"lines+markers\",\"name\":\"Action 11\",\"showlegend\":false,\"x\":[2,3],\"y\":[27,38],\"type\":\"scatter\"},{\"line\":{\"color\":\"rgb(68, 1, 84)\",\"width\":2},\"mode\":\"lines+markers\",\"name\":\"Action 11\",\"showlegend\":false,\"x\":[2,3],\"y\":[28,39],\"type\":\"scatter\"},{\"line\":{\"color\":\"rgb(68, 1, 84)\",\"width\":2},\"mode\":\"lines+markers\",\"name\":\"Action 11\",\"showlegend\":false,\"x\":[2,3],\"y\":[31,42],\"type\":\"scatter\"},{\"line\":{\"color\":\"rgb(68, 1, 84)\",\"width\":2},\"mode\":\"lines+markers\",\"name\":\"Action 11\",\"showlegend\":false,\"x\":[2,3],\"y\":[34,45],\"type\":\"scatter\"},{\"line\":{\"color\":\"rgb(68, 1, 84)\",\"width\":2},\"mode\":\"lines+markers\",\"name\":\"Action 11\",\"showlegend\":false,\"x\":[2,3],\"y\":[37,48],\"type\":\"scatter\"},{\"line\":{\"color\":\"rgb(68, 1, 84)\",\"width\":2},\"mode\":\"lines+markers\",\"name\":\"Action 11\",\"showlegend\":false,\"x\":[2,3],\"y\":[38,49],\"type\":\"scatter\"},{\"line\":{\"color\":\"rgb(68, 1, 84)\",\"width\":2},\"mode\":\"lines+markers\",\"name\":\"Action 11\",\"showlegend\":false,\"x\":[2,3],\"y\":[40,51],\"type\":\"scatter\"},{\"line\":{\"color\":\"rgb(68, 1, 84)\",\"width\":2},\"mode\":\"lines+markers\",\"name\":\"Action 11\",\"showlegend\":false,\"x\":[2,3],\"y\":[46,57],\"type\":\"scatter\"},{\"line\":{\"color\":\"rgb(68, 1, 84)\",\"width\":2},\"mode\":\"lines+markers\",\"name\":\"Action 11\",\"showlegend\":false,\"x\":[2,3],\"y\":[47,58],\"type\":\"scatter\"},{\"line\":{\"color\":\"rgb(68, 1, 84)\",\"width\":2},\"mode\":\"lines+markers\",\"name\":\"Action 11\",\"showlegend\":false,\"x\":[2,3],\"y\":[49,60],\"type\":\"scatter\"},{\"line\":{\"color\":\"rgb(68, 1, 84)\",\"width\":2},\"mode\":\"lines+markers\",\"name\":\"Action 11\",\"showlegend\":false,\"x\":[2,3],\"y\":[50,61],\"type\":\"scatter\"},{\"line\":{\"color\":\"rgb(68, 1, 84)\",\"width\":2},\"mode\":\"lines+markers\",\"name\":\"Action 11\",\"showlegend\":false,\"x\":[2,3],\"y\":[51,62],\"type\":\"scatter\"},{\"line\":{\"color\":\"rgb(68, 1, 84)\",\"width\":2},\"mode\":\"lines+markers\",\"name\":\"Action 11\",\"showlegend\":false,\"x\":[2,3],\"y\":[52,63],\"type\":\"scatter\"},{\"line\":{\"color\":\"rgb(68, 1, 84)\",\"width\":2},\"mode\":\"lines+markers\",\"name\":\"Action 11\",\"showlegend\":false,\"x\":[2,3],\"y\":[53,64],\"type\":\"scatter\"},{\"line\":{\"color\":\"rgb(68, 1, 84)\",\"width\":2},\"mode\":\"lines+markers\",\"name\":\"Action 11\",\"showlegend\":false,\"x\":[2,3],\"y\":[57,68],\"type\":\"scatter\"},{\"line\":{\"color\":\"rgb(68, 1, 84)\",\"width\":2},\"mode\":\"lines+markers\",\"name\":\"Action 11\",\"showlegend\":false,\"x\":[2,3],\"y\":[58,69],\"type\":\"scatter\"},{\"line\":{\"color\":\"rgb(68, 1, 84)\",\"width\":2},\"mode\":\"lines+markers\",\"name\":\"Action 11\",\"showlegend\":false,\"x\":[2,3],\"y\":[61,72],\"type\":\"scatter\"},{\"line\":{\"color\":\"rgb(68, 1, 84)\",\"width\":2},\"mode\":\"lines+markers\",\"name\":\"Action 11\",\"showlegend\":false,\"x\":[2,3],\"y\":[63,74],\"type\":\"scatter\"},{\"line\":{\"color\":\"rgb(68, 1, 84)\",\"width\":2},\"mode\":\"lines+markers\",\"name\":\"Action 11\",\"showlegend\":false,\"x\":[2,3],\"y\":[70,81],\"type\":\"scatter\"},{\"line\":{\"color\":\"rgb(68, 1, 84)\",\"width\":2},\"mode\":\"lines+markers\",\"name\":\"Action 11\",\"showlegend\":false,\"x\":[2,3],\"y\":[71,82],\"type\":\"scatter\"},{\"line\":{\"color\":\"rgb(68, 1, 84)\",\"width\":2},\"mode\":\"lines+markers\",\"name\":\"Action 11\",\"showlegend\":false,\"x\":[2,3],\"y\":[74,85],\"type\":\"scatter\"},{\"line\":{\"color\":\"rgb(68, 1, 84)\",\"width\":2},\"mode\":\"lines+markers\",\"name\":\"Action 11\",\"showlegend\":false,\"x\":[2,3],\"y\":[75,86],\"type\":\"scatter\"},{\"line\":{\"color\":\"rgb(68, 1, 84)\",\"width\":2},\"mode\":\"lines+markers\",\"name\":\"Action 11\",\"showlegend\":false,\"x\":[3,4],\"y\":[0,11],\"type\":\"scatter\"},{\"line\":{\"color\":\"rgb(68, 1, 84)\",\"width\":2},\"mode\":\"lines+markers\",\"name\":\"Action 11\",\"showlegend\":false,\"x\":[3,4],\"y\":[1,12],\"type\":\"scatter\"},{\"line\":{\"color\":\"rgb(68, 1, 84)\",\"width\":2},\"mode\":\"lines+markers\",\"name\":\"Action 11\",\"showlegend\":false,\"x\":[3,4],\"y\":[5,16],\"type\":\"scatter\"},{\"line\":{\"color\":\"rgb(68, 1, 84)\",\"width\":2},\"mode\":\"lines+markers\",\"name\":\"Action 11\",\"showlegend\":false,\"x\":[3,4],\"y\":[7,18],\"type\":\"scatter\"},{\"line\":{\"color\":\"rgb(68, 1, 84)\",\"width\":2},\"mode\":\"lines+markers\",\"name\":\"Action 11\",\"showlegend\":false,\"x\":[3,4],\"y\":[12,23],\"type\":\"scatter\"},{\"line\":{\"color\":\"rgb(68, 1, 84)\",\"width\":2},\"mode\":\"lines+markers\",\"name\":\"Action 11\",\"showlegend\":false,\"x\":[3,4],\"y\":[14,25],\"type\":\"scatter\"},{\"line\":{\"color\":\"rgb(68, 1, 84)\",\"width\":2},\"mode\":\"lines+markers\",\"name\":\"Action 11\",\"showlegend\":false,\"x\":[3,4],\"y\":[17,28],\"type\":\"scatter\"},{\"line\":{\"color\":\"rgb(68, 1, 84)\",\"width\":2},\"mode\":\"lines+markers\",\"name\":\"Action 11\",\"showlegend\":false,\"x\":[3,4],\"y\":[19,30],\"type\":\"scatter\"},{\"line\":{\"color\":\"rgb(68, 1, 84)\",\"width\":2},\"mode\":\"lines+markers\",\"name\":\"Action 11\",\"showlegend\":false,\"x\":[3,4],\"y\":[21,32],\"type\":\"scatter\"},{\"line\":{\"color\":\"rgb(68, 1, 84)\",\"width\":2},\"mode\":\"lines+markers\",\"name\":\"Action 11\",\"showlegend\":false,\"x\":[3,4],\"y\":[23,34],\"type\":\"scatter\"},{\"line\":{\"color\":\"rgb(68, 1, 84)\",\"width\":2},\"mode\":\"lines+markers\",\"name\":\"Action 11\",\"showlegend\":false,\"x\":[3,4],\"y\":[28,39],\"type\":\"scatter\"},{\"line\":{\"color\":\"rgb(68, 1, 84)\",\"width\":2},\"mode\":\"lines+markers\",\"name\":\"Action 11\",\"showlegend\":false,\"x\":[3,4],\"y\":[29,40],\"type\":\"scatter\"},{\"line\":{\"color\":\"rgb(68, 1, 84)\",\"width\":2},\"mode\":\"lines+markers\",\"name\":\"Action 11\",\"showlegend\":false,\"x\":[3,4],\"y\":[30,41],\"type\":\"scatter\"},{\"line\":{\"color\":\"rgb(68, 1, 84)\",\"width\":2},\"mode\":\"lines+markers\",\"name\":\"Action 11\",\"showlegend\":false,\"x\":[3,4],\"y\":[33,44],\"type\":\"scatter\"},{\"line\":{\"color\":\"rgb(68, 1, 84)\",\"width\":2},\"mode\":\"lines+markers\",\"name\":\"Action 11\",\"showlegend\":false,\"x\":[3,4],\"y\":[36,47],\"type\":\"scatter\"},{\"line\":{\"color\":\"rgb(68, 1, 84)\",\"width\":2},\"mode\":\"lines+markers\",\"name\":\"Action 11\",\"showlegend\":false,\"x\":[3,4],\"y\":[37,48],\"type\":\"scatter\"},{\"line\":{\"color\":\"rgb(68, 1, 84)\",\"width\":2},\"mode\":\"lines+markers\",\"name\":\"Action 11\",\"showlegend\":false,\"x\":[3,4],\"y\":[40,51],\"type\":\"scatter\"},{\"line\":{\"color\":\"rgb(68, 1, 84)\",\"width\":2},\"mode\":\"lines+markers\",\"name\":\"Action 11\",\"showlegend\":false,\"x\":[3,4],\"y\":[41,52],\"type\":\"scatter\"},{\"line\":{\"color\":\"rgb(68, 1, 84)\",\"width\":2},\"mode\":\"lines+markers\",\"name\":\"Action 11\",\"showlegend\":false,\"x\":[3,4],\"y\":[47,58],\"type\":\"scatter\"},{\"line\":{\"color\":\"rgb(68, 1, 84)\",\"width\":2},\"mode\":\"lines+markers\",\"name\":\"Action 11\",\"showlegend\":false,\"x\":[3,4],\"y\":[50,61],\"type\":\"scatter\"},{\"line\":{\"color\":\"rgb(68, 1, 84)\",\"width\":2},\"mode\":\"lines+markers\",\"name\":\"Action 11\",\"showlegend\":false,\"x\":[3,4],\"y\":[53,64],\"type\":\"scatter\"},{\"line\":{\"color\":\"rgb(68, 1, 84)\",\"width\":2},\"mode\":\"lines+markers\",\"name\":\"Action 11\",\"showlegend\":false,\"x\":[3,4],\"y\":[56,67],\"type\":\"scatter\"},{\"line\":{\"color\":\"rgb(68, 1, 84)\",\"width\":2},\"mode\":\"lines+markers\",\"name\":\"Action 11\",\"showlegend\":false,\"x\":[3,4],\"y\":[58,69],\"type\":\"scatter\"},{\"line\":{\"color\":\"rgb(68, 1, 84)\",\"width\":2},\"mode\":\"lines+markers\",\"name\":\"Action 11\",\"showlegend\":false,\"x\":[3,4],\"y\":[60,71],\"type\":\"scatter\"},{\"line\":{\"color\":\"rgb(68, 1, 84)\",\"width\":2},\"mode\":\"lines+markers\",\"name\":\"Action 11\",\"showlegend\":false,\"x\":[3,4],\"y\":[61,72],\"type\":\"scatter\"},{\"line\":{\"color\":\"rgb(68, 1, 84)\",\"width\":2},\"mode\":\"lines+markers\",\"name\":\"Action 11\",\"showlegend\":false,\"x\":[3,4],\"y\":[62,73],\"type\":\"scatter\"},{\"line\":{\"color\":\"rgb(68, 1, 84)\",\"width\":2},\"mode\":\"lines+markers\",\"name\":\"Action 11\",\"showlegend\":false,\"x\":[3,4],\"y\":[63,74],\"type\":\"scatter\"},{\"line\":{\"color\":\"rgb(68, 1, 84)\",\"width\":2},\"mode\":\"lines+markers\",\"name\":\"Action 11\",\"showlegend\":false,\"x\":[3,4],\"y\":[66,77],\"type\":\"scatter\"},{\"line\":{\"color\":\"rgb(68, 1, 84)\",\"width\":2},\"mode\":\"lines+markers\",\"name\":\"Action 11\",\"showlegend\":false,\"x\":[3,4],\"y\":[74,85],\"type\":\"scatter\"},{\"line\":{\"color\":\"rgb(68, 1, 84)\",\"width\":2},\"mode\":\"lines+markers\",\"name\":\"Action 11\",\"showlegend\":false,\"x\":[3,4],\"y\":[76,87],\"type\":\"scatter\"},{\"line\":{\"color\":\"rgb(68, 1, 84)\",\"width\":2},\"mode\":\"lines+markers\",\"name\":\"Action 11\",\"showlegend\":false,\"x\":[3,4],\"y\":[78,89],\"type\":\"scatter\"},{\"line\":{\"color\":\"rgb(68, 1, 84)\",\"width\":2},\"mode\":\"lines+markers\",\"name\":\"Action 11\",\"showlegend\":false,\"x\":[3,4],\"y\":[79,90],\"type\":\"scatter\"},{\"line\":{\"color\":\"rgb(68, 1, 84)\",\"width\":2},\"mode\":\"lines+markers\",\"name\":\"Action 11\",\"showlegend\":false,\"x\":[3,4],\"y\":[80,91],\"type\":\"scatter\"},{\"line\":{\"color\":\"rgb(68, 1, 84)\",\"width\":2},\"mode\":\"lines+markers\",\"name\":\"Action 11\",\"showlegend\":false,\"x\":[4,5],\"y\":[1,12],\"type\":\"scatter\"},{\"line\":{\"color\":\"rgb(68, 1, 84)\",\"width\":2},\"mode\":\"lines+markers\",\"name\":\"Action 11\",\"showlegend\":false,\"x\":[4,5],\"y\":[2,13],\"type\":\"scatter\"},{\"line\":{\"color\":\"rgb(68, 1, 84)\",\"width\":2},\"mode\":\"lines+markers\",\"name\":\"Action 11\",\"showlegend\":false,\"x\":[4,5],\"y\":[3,14],\"type\":\"scatter\"},{\"line\":{\"color\":\"rgb(68, 1, 84)\",\"width\":2},\"mode\":\"lines+markers\",\"name\":\"Action 11\",\"showlegend\":false,\"x\":[4,5],\"y\":[6,17],\"type\":\"scatter\"},{\"line\":{\"color\":\"rgb(68, 1, 84)\",\"width\":2},\"mode\":\"lines+markers\",\"name\":\"Action 11\",\"showlegend\":false,\"x\":[4,5],\"y\":[9,20],\"type\":\"scatter\"},{\"line\":{\"color\":\"rgb(68, 1, 84)\",\"width\":2},\"mode\":\"lines+markers\",\"name\":\"Action 11\",\"showlegend\":false,\"x\":[4,5],\"y\":[10,21],\"type\":\"scatter\"},{\"line\":{\"color\":\"rgb(68, 1, 84)\",\"width\":2},\"mode\":\"lines+markers\",\"name\":\"Action 11\",\"showlegend\":false,\"x\":[4,5],\"y\":[12,23],\"type\":\"scatter\"},{\"line\":{\"color\":\"rgb(68, 1, 84)\",\"width\":2},\"mode\":\"lines+markers\",\"name\":\"Action 11\",\"showlegend\":false,\"x\":[4,5],\"y\":[13,24],\"type\":\"scatter\"},{\"line\":{\"color\":\"rgb(68, 1, 84)\",\"width\":2},\"mode\":\"lines+markers\",\"name\":\"Action 11\",\"showlegend\":false,\"x\":[4,5],\"y\":[19,30],\"type\":\"scatter\"},{\"line\":{\"color\":\"rgb(68, 1, 84)\",\"width\":2},\"mode\":\"lines+markers\",\"name\":\"Action 11\",\"showlegend\":false,\"x\":[4,5],\"y\":[23,34],\"type\":\"scatter\"},{\"line\":{\"color\":\"rgb(68, 1, 84)\",\"width\":2},\"mode\":\"lines+markers\",\"name\":\"Action 11\",\"showlegend\":false,\"x\":[4,5],\"y\":[24,35],\"type\":\"scatter\"},{\"line\":{\"color\":\"rgb(68, 1, 84)\",\"width\":2},\"mode\":\"lines+markers\",\"name\":\"Action 11\",\"showlegend\":false,\"x\":[4,5],\"y\":[28,39],\"type\":\"scatter\"},{\"line\":{\"color\":\"rgb(68, 1, 84)\",\"width\":2},\"mode\":\"lines+markers\",\"name\":\"Action 11\",\"showlegend\":false,\"x\":[4,5],\"y\":[38,49],\"type\":\"scatter\"},{\"line\":{\"color\":\"rgb(68, 1, 84)\",\"width\":2},\"mode\":\"lines+markers\",\"name\":\"Action 11\",\"showlegend\":false,\"x\":[4,5],\"y\":[42,53],\"type\":\"scatter\"},{\"line\":{\"color\":\"rgb(68, 1, 84)\",\"width\":2},\"mode\":\"lines+markers\",\"name\":\"Action 11\",\"showlegend\":false,\"x\":[4,5],\"y\":[46,57],\"type\":\"scatter\"},{\"line\":{\"color\":\"rgb(68, 1, 84)\",\"width\":2},\"mode\":\"lines+markers\",\"name\":\"Action 11\",\"showlegend\":false,\"x\":[4,5],\"y\":[48,59],\"type\":\"scatter\"},{\"line\":{\"color\":\"rgb(68, 1, 84)\",\"width\":2},\"mode\":\"lines+markers\",\"name\":\"Action 11\",\"showlegend\":false,\"x\":[4,5],\"y\":[53,64],\"type\":\"scatter\"},{\"line\":{\"color\":\"rgb(68, 1, 84)\",\"width\":2},\"mode\":\"lines+markers\",\"name\":\"Action 11\",\"showlegend\":false,\"x\":[4,5],\"y\":[55,66],\"type\":\"scatter\"},{\"line\":{\"color\":\"rgb(68, 1, 84)\",\"width\":2},\"mode\":\"lines+markers\",\"name\":\"Action 11\",\"showlegend\":false,\"x\":[4,5],\"y\":[56,67],\"type\":\"scatter\"},{\"line\":{\"color\":\"rgb(68, 1, 84)\",\"width\":2},\"mode\":\"lines+markers\",\"name\":\"Action 11\",\"showlegend\":false,\"x\":[4,5],\"y\":[59,70],\"type\":\"scatter\"},{\"line\":{\"color\":\"rgb(68, 1, 84)\",\"width\":2},\"mode\":\"lines+markers\",\"name\":\"Action 11\",\"showlegend\":false,\"x\":[4,5],\"y\":[60,71],\"type\":\"scatter\"},{\"line\":{\"color\":\"rgb(68, 1, 84)\",\"width\":2},\"mode\":\"lines+markers\",\"name\":\"Action 11\",\"showlegend\":false,\"x\":[4,5],\"y\":[62,73],\"type\":\"scatter\"},{\"line\":{\"color\":\"rgb(68, 1, 84)\",\"width\":2},\"mode\":\"lines+markers\",\"name\":\"Action 11\",\"showlegend\":false,\"x\":[4,5],\"y\":[63,74],\"type\":\"scatter\"},{\"line\":{\"color\":\"rgb(68, 1, 84)\",\"width\":2},\"mode\":\"lines+markers\",\"name\":\"Action 11\",\"showlegend\":false,\"x\":[4,5],\"y\":[64,75],\"type\":\"scatter\"},{\"line\":{\"color\":\"rgb(68, 1, 84)\",\"width\":2},\"mode\":\"lines+markers\",\"name\":\"Action 11\",\"showlegend\":false,\"x\":[4,5],\"y\":[65,76],\"type\":\"scatter\"},{\"line\":{\"color\":\"rgb(68, 1, 84)\",\"width\":2},\"mode\":\"lines+markers\",\"name\":\"Action 11\",\"showlegend\":false,\"x\":[4,5],\"y\":[67,78],\"type\":\"scatter\"},{\"line\":{\"color\":\"rgb(68, 1, 84)\",\"width\":2},\"mode\":\"lines+markers\",\"name\":\"Action 11\",\"showlegend\":false,\"x\":[4,5],\"y\":[69,80],\"type\":\"scatter\"},{\"line\":{\"color\":\"rgb(68, 1, 84)\",\"width\":2},\"mode\":\"lines+markers\",\"name\":\"Action 11\",\"showlegend\":false,\"x\":[4,5],\"y\":[70,81],\"type\":\"scatter\"},{\"line\":{\"color\":\"rgb(68, 1, 84)\",\"width\":2},\"mode\":\"lines+markers\",\"name\":\"Action 11\",\"showlegend\":false,\"x\":[4,5],\"y\":[71,82],\"type\":\"scatter\"},{\"line\":{\"color\":\"rgb(68, 1, 84)\",\"width\":2},\"mode\":\"lines+markers\",\"name\":\"Action 11\",\"showlegend\":false,\"x\":[4,5],\"y\":[72,83],\"type\":\"scatter\"},{\"line\":{\"color\":\"rgb(68, 1, 84)\",\"width\":2},\"mode\":\"lines+markers\",\"name\":\"Action 11\",\"showlegend\":false,\"x\":[4,5],\"y\":[74,85],\"type\":\"scatter\"},{\"line\":{\"color\":\"rgb(68, 1, 84)\",\"width\":2},\"mode\":\"lines+markers\",\"name\":\"Action 11\",\"showlegend\":false,\"x\":[4,5],\"y\":[75,86],\"type\":\"scatter\"},{\"line\":{\"color\":\"rgb(68, 1, 84)\",\"width\":2},\"mode\":\"lines+markers\",\"name\":\"Action 11\",\"showlegend\":false,\"x\":[4,5],\"y\":[76,87],\"type\":\"scatter\"},{\"line\":{\"color\":\"rgb(68, 1, 84)\",\"width\":2},\"mode\":\"lines+markers\",\"name\":\"Action 11\",\"showlegend\":false,\"x\":[4,5],\"y\":[77,88],\"type\":\"scatter\"},{\"line\":{\"color\":\"rgb(68, 1, 84)\",\"width\":2},\"mode\":\"lines+markers\",\"name\":\"Action 11\",\"showlegend\":false,\"x\":[4,5],\"y\":[78,89],\"type\":\"scatter\"},{\"line\":{\"color\":\"rgb(68, 1, 84)\",\"width\":2},\"mode\":\"lines+markers\",\"name\":\"Action 11\",\"showlegend\":false,\"x\":[4,5],\"y\":[79,90],\"type\":\"scatter\"},{\"line\":{\"color\":\"rgb(68, 1, 84)\",\"width\":2},\"mode\":\"lines+markers\",\"name\":\"Action 11\",\"showlegend\":false,\"x\":[4,5],\"y\":[80,91],\"type\":\"scatter\"},{\"line\":{\"color\":\"rgb(68, 1, 84)\",\"width\":2},\"mode\":\"lines+markers\",\"name\":\"Action 11\",\"showlegend\":false,\"x\":[5,6],\"y\":[1,12],\"type\":\"scatter\"},{\"line\":{\"color\":\"rgb(68, 1, 84)\",\"width\":2},\"mode\":\"lines+markers\",\"name\":\"Action 11\",\"showlegend\":false,\"x\":[5,6],\"y\":[2,13],\"type\":\"scatter\"},{\"line\":{\"color\":\"rgb(68, 1, 84)\",\"width\":2},\"mode\":\"lines+markers\",\"name\":\"Action 11\",\"showlegend\":false,\"x\":[5,6],\"y\":[3,14],\"type\":\"scatter\"},{\"line\":{\"color\":\"rgb(68, 1, 84)\",\"width\":2},\"mode\":\"lines+markers\",\"name\":\"Action 11\",\"showlegend\":false,\"x\":[5,6],\"y\":[4,15],\"type\":\"scatter\"},{\"line\":{\"color\":\"rgb(68, 1, 84)\",\"width\":2},\"mode\":\"lines+markers\",\"name\":\"Action 11\",\"showlegend\":false,\"x\":[5,6],\"y\":[5,16],\"type\":\"scatter\"},{\"line\":{\"color\":\"rgb(68, 1, 84)\",\"width\":2},\"mode\":\"lines+markers\",\"name\":\"Action 11\",\"showlegend\":false,\"x\":[5,6],\"y\":[6,17],\"type\":\"scatter\"},{\"line\":{\"color\":\"rgb(68, 1, 84)\",\"width\":2},\"mode\":\"lines+markers\",\"name\":\"Action 11\",\"showlegend\":false,\"x\":[5,6],\"y\":[8,19],\"type\":\"scatter\"},{\"line\":{\"color\":\"rgb(68, 1, 84)\",\"width\":2},\"mode\":\"lines+markers\",\"name\":\"Action 11\",\"showlegend\":false,\"x\":[5,6],\"y\":[14,25],\"type\":\"scatter\"},{\"line\":{\"color\":\"rgb(68, 1, 84)\",\"width\":2},\"mode\":\"lines+markers\",\"name\":\"Action 11\",\"showlegend\":false,\"x\":[5,6],\"y\":[16,27],\"type\":\"scatter\"},{\"line\":{\"color\":\"rgb(68, 1, 84)\",\"width\":2},\"mode\":\"lines+markers\",\"name\":\"Action 11\",\"showlegend\":false,\"x\":[5,6],\"y\":[17,28],\"type\":\"scatter\"},{\"line\":{\"color\":\"rgb(68, 1, 84)\",\"width\":2},\"mode\":\"lines+markers\",\"name\":\"Action 11\",\"showlegend\":false,\"x\":[5,6],\"y\":[22,33],\"type\":\"scatter\"},{\"line\":{\"color\":\"rgb(68, 1, 84)\",\"width\":2},\"mode\":\"lines+markers\",\"name\":\"Action 11\",\"showlegend\":false,\"x\":[5,6],\"y\":[26,37],\"type\":\"scatter\"},{\"line\":{\"color\":\"rgb(68, 1, 84)\",\"width\":2},\"mode\":\"lines+markers\",\"name\":\"Action 11\",\"showlegend\":false,\"x\":[5,6],\"y\":[28,39],\"type\":\"scatter\"},{\"line\":{\"color\":\"rgb(68, 1, 84)\",\"width\":2},\"mode\":\"lines+markers\",\"name\":\"Action 11\",\"showlegend\":false,\"x\":[5,6],\"y\":[29,40],\"type\":\"scatter\"},{\"line\":{\"color\":\"rgb(68, 1, 84)\",\"width\":2},\"mode\":\"lines+markers\",\"name\":\"Action 11\",\"showlegend\":false,\"x\":[5,6],\"y\":[30,41],\"type\":\"scatter\"},{\"line\":{\"color\":\"rgb(68, 1, 84)\",\"width\":2},\"mode\":\"lines+markers\",\"name\":\"Action 11\",\"showlegend\":false,\"x\":[5,6],\"y\":[31,42],\"type\":\"scatter\"},{\"line\":{\"color\":\"rgb(68, 1, 84)\",\"width\":2},\"mode\":\"lines+markers\",\"name\":\"Action 11\",\"showlegend\":false,\"x\":[5,6],\"y\":[32,43],\"type\":\"scatter\"},{\"line\":{\"color\":\"rgb(68, 1, 84)\",\"width\":2},\"mode\":\"lines+markers\",\"name\":\"Action 11\",\"showlegend\":false,\"x\":[5,6],\"y\":[35,46],\"type\":\"scatter\"},{\"line\":{\"color\":\"rgb(68, 1, 84)\",\"width\":2},\"mode\":\"lines+markers\",\"name\":\"Action 11\",\"showlegend\":false,\"x\":[5,6],\"y\":[36,47],\"type\":\"scatter\"},{\"line\":{\"color\":\"rgb(68, 1, 84)\",\"width\":2},\"mode\":\"lines+markers\",\"name\":\"Action 11\",\"showlegend\":false,\"x\":[5,6],\"y\":[40,51],\"type\":\"scatter\"},{\"line\":{\"color\":\"rgb(68, 1, 84)\",\"width\":2},\"mode\":\"lines+markers\",\"name\":\"Action 11\",\"showlegend\":false,\"x\":[5,6],\"y\":[42,53],\"type\":\"scatter\"},{\"line\":{\"color\":\"rgb(68, 1, 84)\",\"width\":2},\"mode\":\"lines+markers\",\"name\":\"Action 11\",\"showlegend\":false,\"x\":[5,6],\"y\":[46,57],\"type\":\"scatter\"},{\"line\":{\"color\":\"rgb(68, 1, 84)\",\"width\":2},\"mode\":\"lines+markers\",\"name\":\"Action 11\",\"showlegend\":false,\"x\":[5,6],\"y\":[47,58],\"type\":\"scatter\"},{\"line\":{\"color\":\"rgb(68, 1, 84)\",\"width\":2},\"mode\":\"lines+markers\",\"name\":\"Action 11\",\"showlegend\":false,\"x\":[5,6],\"y\":[49,60],\"type\":\"scatter\"},{\"line\":{\"color\":\"rgb(68, 1, 84)\",\"width\":2},\"mode\":\"lines+markers\",\"name\":\"Action 11\",\"showlegend\":false,\"x\":[5,6],\"y\":[53,64],\"type\":\"scatter\"},{\"line\":{\"color\":\"rgb(68, 1, 84)\",\"width\":2},\"mode\":\"lines+markers\",\"name\":\"Action 11\",\"showlegend\":false,\"x\":[5,6],\"y\":[60,71],\"type\":\"scatter\"},{\"line\":{\"color\":\"rgb(68, 1, 84)\",\"width\":2},\"mode\":\"lines+markers\",\"name\":\"Action 11\",\"showlegend\":false,\"x\":[5,6],\"y\":[62,73],\"type\":\"scatter\"},{\"line\":{\"color\":\"rgb(68, 1, 84)\",\"width\":2},\"mode\":\"lines+markers\",\"name\":\"Action 11\",\"showlegend\":false,\"x\":[5,6],\"y\":[65,76],\"type\":\"scatter\"},{\"line\":{\"color\":\"rgb(68, 1, 84)\",\"width\":2},\"mode\":\"lines+markers\",\"name\":\"Action 11\",\"showlegend\":false,\"x\":[5,6],\"y\":[67,78],\"type\":\"scatter\"},{\"line\":{\"color\":\"rgb(68, 1, 84)\",\"width\":2},\"mode\":\"lines+markers\",\"name\":\"Action 11\",\"showlegend\":false,\"x\":[5,6],\"y\":[73,84],\"type\":\"scatter\"},{\"line\":{\"color\":\"rgb(68, 1, 84)\",\"width\":2},\"mode\":\"lines+markers\",\"name\":\"Action 11\",\"showlegend\":false,\"x\":[5,6],\"y\":[80,91],\"type\":\"scatter\"},{\"line\":{\"color\":\"rgb(68, 1, 84)\",\"width\":2},\"mode\":\"lines+markers\",\"name\":\"Action 11\",\"showlegend\":false,\"x\":[6,7],\"y\":[2,13],\"type\":\"scatter\"},{\"line\":{\"color\":\"rgb(68, 1, 84)\",\"width\":2},\"mode\":\"lines+markers\",\"name\":\"Action 11\",\"showlegend\":false,\"x\":[6,7],\"y\":[11,22],\"type\":\"scatter\"},{\"line\":{\"color\":\"rgb(68, 1, 84)\",\"width\":2},\"mode\":\"lines+markers\",\"name\":\"Action 11\",\"showlegend\":false,\"x\":[6,7],\"y\":[12,23],\"type\":\"scatter\"},{\"line\":{\"color\":\"rgb(68, 1, 84)\",\"width\":2},\"mode\":\"lines+markers\",\"name\":\"Action 11\",\"showlegend\":false,\"x\":[6,7],\"y\":[24,35],\"type\":\"scatter\"},{\"line\":{\"color\":\"rgb(68, 1, 84)\",\"width\":2},\"mode\":\"lines+markers\",\"name\":\"Action 11\",\"showlegend\":false,\"x\":[6,7],\"y\":[25,36],\"type\":\"scatter\"},{\"line\":{\"color\":\"rgb(68, 1, 84)\",\"width\":2},\"mode\":\"lines+markers\",\"name\":\"Action 11\",\"showlegend\":false,\"x\":[6,7],\"y\":[27,38],\"type\":\"scatter\"},{\"line\":{\"color\":\"rgb(68, 1, 84)\",\"width\":2},\"mode\":\"lines+markers\",\"name\":\"Action 11\",\"showlegend\":false,\"x\":[6,7],\"y\":[28,39],\"type\":\"scatter\"},{\"line\":{\"color\":\"rgb(68, 1, 84)\",\"width\":2},\"mode\":\"lines+markers\",\"name\":\"Action 11\",\"showlegend\":false,\"x\":[6,7],\"y\":[30,41],\"type\":\"scatter\"},{\"line\":{\"color\":\"rgb(68, 1, 84)\",\"width\":2},\"mode\":\"lines+markers\",\"name\":\"Action 11\",\"showlegend\":false,\"x\":[6,7],\"y\":[32,43],\"type\":\"scatter\"},{\"line\":{\"color\":\"rgb(68, 1, 84)\",\"width\":2},\"mode\":\"lines+markers\",\"name\":\"Action 11\",\"showlegend\":false,\"x\":[6,7],\"y\":[34,45],\"type\":\"scatter\"},{\"line\":{\"color\":\"rgb(68, 1, 84)\",\"width\":2},\"mode\":\"lines+markers\",\"name\":\"Action 11\",\"showlegend\":false,\"x\":[6,7],\"y\":[40,51],\"type\":\"scatter\"},{\"line\":{\"color\":\"rgb(68, 1, 84)\",\"width\":2},\"mode\":\"lines+markers\",\"name\":\"Action 11\",\"showlegend\":false,\"x\":[6,7],\"y\":[69,80],\"type\":\"scatter\"},{\"line\":{\"color\":\"rgb(68, 1, 84)\",\"width\":2},\"mode\":\"lines+markers\",\"name\":\"Action 11\",\"showlegend\":false,\"x\":[6,7],\"y\":[79,90],\"type\":\"scatter\"},{\"line\":{\"color\":\"rgb(68, 1, 84)\",\"width\":2},\"mode\":\"lines+markers\",\"name\":\"Action 11\",\"showlegend\":false,\"x\":[7,8],\"y\":[10,21],\"type\":\"scatter\"},{\"line\":{\"color\":\"rgb(68, 1, 84)\",\"width\":2},\"mode\":\"lines+markers\",\"name\":\"Action 11\",\"showlegend\":false,\"x\":[7,8],\"y\":[15,26],\"type\":\"scatter\"},{\"line\":{\"color\":\"rgb(68, 1, 84)\",\"width\":2},\"mode\":\"lines+markers\",\"name\":\"Action 11\",\"showlegend\":false,\"x\":[7,8],\"y\":[17,28],\"type\":\"scatter\"},{\"line\":{\"color\":\"rgb(68, 1, 84)\",\"width\":2},\"mode\":\"lines+markers\",\"name\":\"Action 11\",\"showlegend\":false,\"x\":[7,8],\"y\":[18,29],\"type\":\"scatter\"},{\"line\":{\"color\":\"rgb(68, 1, 84)\",\"width\":2},\"mode\":\"lines+markers\",\"name\":\"Action 11\",\"showlegend\":false,\"x\":[7,8],\"y\":[19,30],\"type\":\"scatter\"},{\"line\":{\"color\":\"rgb(68, 1, 84)\",\"width\":2},\"mode\":\"lines+markers\",\"name\":\"Action 11\",\"showlegend\":false,\"x\":[7,8],\"y\":[21,32],\"type\":\"scatter\"},{\"line\":{\"color\":\"rgb(68, 1, 84)\",\"width\":2},\"mode\":\"lines+markers\",\"name\":\"Action 11\",\"showlegend\":false,\"x\":[7,8],\"y\":[30,41],\"type\":\"scatter\"},{\"line\":{\"color\":\"rgb(68, 1, 84)\",\"width\":2},\"mode\":\"lines+markers\",\"name\":\"Action 11\",\"showlegend\":false,\"x\":[7,8],\"y\":[31,42],\"type\":\"scatter\"},{\"line\":{\"color\":\"rgb(68, 1, 84)\",\"width\":2},\"mode\":\"lines+markers\",\"name\":\"Action 11\",\"showlegend\":false,\"x\":[7,8],\"y\":[33,44],\"type\":\"scatter\"},{\"line\":{\"color\":\"rgb(68, 1, 84)\",\"width\":2},\"mode\":\"lines+markers\",\"name\":\"Action 11\",\"showlegend\":false,\"x\":[7,8],\"y\":[34,45],\"type\":\"scatter\"},{\"line\":{\"color\":\"rgb(68, 1, 84)\",\"width\":2},\"mode\":\"lines+markers\",\"name\":\"Action 11\",\"showlegend\":false,\"x\":[7,8],\"y\":[35,46],\"type\":\"scatter\"},{\"line\":{\"color\":\"rgb(58, 82, 139)\",\"width\":2},\"mode\":\"lines+markers\",\"name\":\"Action 3\",\"showlegend\":true,\"x\":[0,1],\"y\":[1,4],\"type\":\"scatter\"},{\"line\":{\"color\":\"rgb(58, 82, 139)\",\"width\":2},\"mode\":\"lines+markers\",\"name\":\"Action 3\",\"showlegend\":false,\"x\":[0,1],\"y\":[9,12],\"type\":\"scatter\"},{\"line\":{\"color\":\"rgb(58, 82, 139)\",\"width\":2},\"mode\":\"lines+markers\",\"name\":\"Action 3\",\"showlegend\":false,\"x\":[0,1],\"y\":[17,20],\"type\":\"scatter\"},{\"line\":{\"color\":\"rgb(58, 82, 139)\",\"width\":2},\"mode\":\"lines+markers\",\"name\":\"Action 3\",\"showlegend\":false,\"x\":[0,1],\"y\":[18,21],\"type\":\"scatter\"},{\"line\":{\"color\":\"rgb(58, 82, 139)\",\"width\":2},\"mode\":\"lines+markers\",\"name\":\"Action 3\",\"showlegend\":false,\"x\":[0,1],\"y\":[19,22],\"type\":\"scatter\"},{\"line\":{\"color\":\"rgb(58, 82, 139)\",\"width\":2},\"mode\":\"lines+markers\",\"name\":\"Action 3\",\"showlegend\":false,\"x\":[0,1],\"y\":[21,24],\"type\":\"scatter\"},{\"line\":{\"color\":\"rgb(58, 82, 139)\",\"width\":2},\"mode\":\"lines+markers\",\"name\":\"Action 3\",\"showlegend\":false,\"x\":[0,1],\"y\":[24,27],\"type\":\"scatter\"},{\"line\":{\"color\":\"rgb(58, 82, 139)\",\"width\":2},\"mode\":\"lines+markers\",\"name\":\"Action 3\",\"showlegend\":false,\"x\":[0,1],\"y\":[27,30],\"type\":\"scatter\"},{\"line\":{\"color\":\"rgb(58, 82, 139)\",\"width\":2},\"mode\":\"lines+markers\",\"name\":\"Action 3\",\"showlegend\":false,\"x\":[0,1],\"y\":[38,41],\"type\":\"scatter\"},{\"line\":{\"color\":\"rgb(58, 82, 139)\",\"width\":2},\"mode\":\"lines+markers\",\"name\":\"Action 3\",\"showlegend\":false,\"x\":[0,1],\"y\":[42,45],\"type\":\"scatter\"},{\"line\":{\"color\":\"rgb(58, 82, 139)\",\"width\":2},\"mode\":\"lines+markers\",\"name\":\"Action 3\",\"showlegend\":false,\"x\":[0,1],\"y\":[49,52],\"type\":\"scatter\"},{\"line\":{\"color\":\"rgb(58, 82, 139)\",\"width\":2},\"mode\":\"lines+markers\",\"name\":\"Action 3\",\"showlegend\":false,\"x\":[0,1],\"y\":[51,54],\"type\":\"scatter\"},{\"line\":{\"color\":\"rgb(58, 82, 139)\",\"width\":2},\"mode\":\"lines+markers\",\"name\":\"Action 3\",\"showlegend\":false,\"x\":[0,1],\"y\":[56,59],\"type\":\"scatter\"},{\"line\":{\"color\":\"rgb(58, 82, 139)\",\"width\":2},\"mode\":\"lines+markers\",\"name\":\"Action 3\",\"showlegend\":false,\"x\":[0,1],\"y\":[82,85],\"type\":\"scatter\"},{\"line\":{\"color\":\"rgb(58, 82, 139)\",\"width\":2},\"mode\":\"lines+markers\",\"name\":\"Action 3\",\"showlegend\":false,\"x\":[0,1],\"y\":[85,88],\"type\":\"scatter\"},{\"line\":{\"color\":\"rgb(58, 82, 139)\",\"width\":2},\"mode\":\"lines+markers\",\"name\":\"Action 3\",\"showlegend\":false,\"x\":[0,1],\"y\":[89,92],\"type\":\"scatter\"},{\"line\":{\"color\":\"rgb(58, 82, 139)\",\"width\":2},\"mode\":\"lines+markers\",\"name\":\"Action 3\",\"showlegend\":false,\"x\":[0,1],\"y\":[90,93],\"type\":\"scatter\"},{\"line\":{\"color\":\"rgb(58, 82, 139)\",\"width\":2},\"mode\":\"lines+markers\",\"name\":\"Action 3\",\"showlegend\":false,\"x\":[0,1],\"y\":[91,94],\"type\":\"scatter\"},{\"line\":{\"color\":\"rgb(58, 82, 139)\",\"width\":2},\"mode\":\"lines+markers\",\"name\":\"Action 3\",\"showlegend\":false,\"x\":[0,1],\"y\":[92,95],\"type\":\"scatter\"},{\"line\":{\"color\":\"rgb(58, 82, 139)\",\"width\":2},\"mode\":\"lines+markers\",\"name\":\"Action 3\",\"showlegend\":false,\"x\":[0,1],\"y\":[94,97],\"type\":\"scatter\"},{\"line\":{\"color\":\"rgb(58, 82, 139)\",\"width\":2},\"mode\":\"lines+markers\",\"name\":\"Action 3\",\"showlegend\":false,\"x\":[0,1],\"y\":[95,98],\"type\":\"scatter\"},{\"line\":{\"color\":\"rgb(58, 82, 139)\",\"width\":2},\"mode\":\"lines+markers\",\"name\":\"Action 3\",\"showlegend\":false,\"x\":[1,2],\"y\":[0,3],\"type\":\"scatter\"},{\"line\":{\"color\":\"rgb(58, 82, 139)\",\"width\":2},\"mode\":\"lines+markers\",\"name\":\"Action 3\",\"showlegend\":false,\"x\":[1,2],\"y\":[8,11],\"type\":\"scatter\"},{\"line\":{\"color\":\"rgb(58, 82, 139)\",\"width\":2},\"mode\":\"lines+markers\",\"name\":\"Action 3\",\"showlegend\":false,\"x\":[1,2],\"y\":[14,17],\"type\":\"scatter\"},{\"line\":{\"color\":\"rgb(58, 82, 139)\",\"width\":2},\"mode\":\"lines+markers\",\"name\":\"Action 3\",\"showlegend\":false,\"x\":[1,2],\"y\":[15,18],\"type\":\"scatter\"},{\"line\":{\"color\":\"rgb(58, 82, 139)\",\"width\":2},\"mode\":\"lines+markers\",\"name\":\"Action 3\",\"showlegend\":false,\"x\":[1,2],\"y\":[16,19],\"type\":\"scatter\"},{\"line\":{\"color\":\"rgb(58, 82, 139)\",\"width\":2},\"mode\":\"lines+markers\",\"name\":\"Action 3\",\"showlegend\":false,\"x\":[1,2],\"y\":[17,20],\"type\":\"scatter\"},{\"line\":{\"color\":\"rgb(58, 82, 139)\",\"width\":2},\"mode\":\"lines+markers\",\"name\":\"Action 3\",\"showlegend\":false,\"x\":[1,2],\"y\":[22,25],\"type\":\"scatter\"},{\"line\":{\"color\":\"rgb(58, 82, 139)\",\"width\":2},\"mode\":\"lines+markers\",\"name\":\"Action 3\",\"showlegend\":false,\"x\":[1,2],\"y\":[24,27],\"type\":\"scatter\"},{\"line\":{\"color\":\"rgb(58, 82, 139)\",\"width\":2},\"mode\":\"lines+markers\",\"name\":\"Action 3\",\"showlegend\":false,\"x\":[1,2],\"y\":[25,28],\"type\":\"scatter\"},{\"line\":{\"color\":\"rgb(58, 82, 139)\",\"width\":2},\"mode\":\"lines+markers\",\"name\":\"Action 3\",\"showlegend\":false,\"x\":[1,2],\"y\":[27,30],\"type\":\"scatter\"},{\"line\":{\"color\":\"rgb(58, 82, 139)\",\"width\":2},\"mode\":\"lines+markers\",\"name\":\"Action 3\",\"showlegend\":false,\"x\":[1,2],\"y\":[32,35],\"type\":\"scatter\"},{\"line\":{\"color\":\"rgb(58, 82, 139)\",\"width\":2},\"mode\":\"lines+markers\",\"name\":\"Action 3\",\"showlegend\":false,\"x\":[1,2],\"y\":[39,42],\"type\":\"scatter\"},{\"line\":{\"color\":\"rgb(58, 82, 139)\",\"width\":2},\"mode\":\"lines+markers\",\"name\":\"Action 3\",\"showlegend\":false,\"x\":[1,2],\"y\":[42,45],\"type\":\"scatter\"},{\"line\":{\"color\":\"rgb(58, 82, 139)\",\"width\":2},\"mode\":\"lines+markers\",\"name\":\"Action 3\",\"showlegend\":false,\"x\":[1,2],\"y\":[46,49],\"type\":\"scatter\"},{\"line\":{\"color\":\"rgb(58, 82, 139)\",\"width\":2},\"mode\":\"lines+markers\",\"name\":\"Action 3\",\"showlegend\":false,\"x\":[1,2],\"y\":[54,57],\"type\":\"scatter\"},{\"line\":{\"color\":\"rgb(58, 82, 139)\",\"width\":2},\"mode\":\"lines+markers\",\"name\":\"Action 3\",\"showlegend\":false,\"x\":[1,2],\"y\":[61,64],\"type\":\"scatter\"},{\"line\":{\"color\":\"rgb(58, 82, 139)\",\"width\":2},\"mode\":\"lines+markers\",\"name\":\"Action 3\",\"showlegend\":false,\"x\":[1,2],\"y\":[66,69],\"type\":\"scatter\"},{\"line\":{\"color\":\"rgb(58, 82, 139)\",\"width\":2},\"mode\":\"lines+markers\",\"name\":\"Action 3\",\"showlegend\":false,\"x\":[1,2],\"y\":[80,83],\"type\":\"scatter\"},{\"line\":{\"color\":\"rgb(58, 82, 139)\",\"width\":2},\"mode\":\"lines+markers\",\"name\":\"Action 3\",\"showlegend\":false,\"x\":[1,2],\"y\":[81,84],\"type\":\"scatter\"},{\"line\":{\"color\":\"rgb(58, 82, 139)\",\"width\":2},\"mode\":\"lines+markers\",\"name\":\"Action 3\",\"showlegend\":false,\"x\":[1,2],\"y\":[83,86],\"type\":\"scatter\"},{\"line\":{\"color\":\"rgb(58, 82, 139)\",\"width\":2},\"mode\":\"lines+markers\",\"name\":\"Action 3\",\"showlegend\":false,\"x\":[1,2],\"y\":[86,89],\"type\":\"scatter\"},{\"line\":{\"color\":\"rgb(58, 82, 139)\",\"width\":2},\"mode\":\"lines+markers\",\"name\":\"Action 3\",\"showlegend\":false,\"x\":[1,2],\"y\":[88,91],\"type\":\"scatter\"},{\"line\":{\"color\":\"rgb(58, 82, 139)\",\"width\":2},\"mode\":\"lines+markers\",\"name\":\"Action 3\",\"showlegend\":false,\"x\":[1,2],\"y\":[90,93],\"type\":\"scatter\"},{\"line\":{\"color\":\"rgb(58, 82, 139)\",\"width\":2},\"mode\":\"lines+markers\",\"name\":\"Action 3\",\"showlegend\":false,\"x\":[1,2],\"y\":[91,94],\"type\":\"scatter\"},{\"line\":{\"color\":\"rgb(58, 82, 139)\",\"width\":2},\"mode\":\"lines+markers\",\"name\":\"Action 3\",\"showlegend\":false,\"x\":[1,2],\"y\":[92,95],\"type\":\"scatter\"},{\"line\":{\"color\":\"rgb(58, 82, 139)\",\"width\":2},\"mode\":\"lines+markers\",\"name\":\"Action 3\",\"showlegend\":false,\"x\":[1,2],\"y\":[93,96],\"type\":\"scatter\"},{\"line\":{\"color\":\"rgb(58, 82, 139)\",\"width\":2},\"mode\":\"lines+markers\",\"name\":\"Action 3\",\"showlegend\":false,\"x\":[1,2],\"y\":[94,97],\"type\":\"scatter\"},{\"line\":{\"color\":\"rgb(58, 82, 139)\",\"width\":2},\"mode\":\"lines+markers\",\"name\":\"Action 3\",\"showlegend\":false,\"x\":[1,2],\"y\":[95,98],\"type\":\"scatter\"},{\"line\":{\"color\":\"rgb(58, 82, 139)\",\"width\":2},\"mode\":\"lines+markers\",\"name\":\"Action 3\",\"showlegend\":false,\"x\":[2,3],\"y\":[3,6],\"type\":\"scatter\"},{\"line\":{\"color\":\"rgb(58, 82, 139)\",\"width\":2},\"mode\":\"lines+markers\",\"name\":\"Action 3\",\"showlegend\":false,\"x\":[2,3],\"y\":[6,9],\"type\":\"scatter\"},{\"line\":{\"color\":\"rgb(58, 82, 139)\",\"width\":2},\"mode\":\"lines+markers\",\"name\":\"Action 3\",\"showlegend\":false,\"x\":[2,3],\"y\":[11,14],\"type\":\"scatter\"},{\"line\":{\"color\":\"rgb(58, 82, 139)\",\"width\":2},\"mode\":\"lines+markers\",\"name\":\"Action 3\",\"showlegend\":false,\"x\":[2,3],\"y\":[20,23],\"type\":\"scatter\"},{\"line\":{\"color\":\"rgb(58, 82, 139)\",\"width\":2},\"mode\":\"lines+markers\",\"name\":\"Action 3\",\"showlegend\":false,\"x\":[2,3],\"y\":[25,28],\"type\":\"scatter\"},{\"line\":{\"color\":\"rgb(58, 82, 139)\",\"width\":2},\"mode\":\"lines+markers\",\"name\":\"Action 3\",\"showlegend\":false,\"x\":[2,3],\"y\":[33,36],\"type\":\"scatter\"},{\"line\":{\"color\":\"rgb(58, 82, 139)\",\"width\":2},\"mode\":\"lines+markers\",\"name\":\"Action 3\",\"showlegend\":false,\"x\":[2,3],\"y\":[64,67],\"type\":\"scatter\"},{\"line\":{\"color\":\"rgb(58, 82, 139)\",\"width\":2},\"mode\":\"lines+markers\",\"name\":\"Action 3\",\"showlegend\":false,\"x\":[2,3],\"y\":[65,68],\"type\":\"scatter\"},{\"line\":{\"color\":\"rgb(58, 82, 139)\",\"width\":2},\"mode\":\"lines+markers\",\"name\":\"Action 3\",\"showlegend\":false,\"x\":[2,3],\"y\":[67,70],\"type\":\"scatter\"},{\"line\":{\"color\":\"rgb(58, 82, 139)\",\"width\":2},\"mode\":\"lines+markers\",\"name\":\"Action 3\",\"showlegend\":false,\"x\":[2,3],\"y\":[69,72],\"type\":\"scatter\"},{\"line\":{\"color\":\"rgb(58, 82, 139)\",\"width\":2},\"mode\":\"lines+markers\",\"name\":\"Action 3\",\"showlegend\":false,\"x\":[2,3],\"y\":[73,76],\"type\":\"scatter\"},{\"line\":{\"color\":\"rgb(58, 82, 139)\",\"width\":2},\"mode\":\"lines+markers\",\"name\":\"Action 3\",\"showlegend\":false,\"x\":[2,3],\"y\":[76,79],\"type\":\"scatter\"},{\"line\":{\"color\":\"rgb(58, 82, 139)\",\"width\":2},\"mode\":\"lines+markers\",\"name\":\"Action 3\",\"showlegend\":false,\"x\":[2,3],\"y\":[78,81],\"type\":\"scatter\"},{\"line\":{\"color\":\"rgb(58, 82, 139)\",\"width\":2},\"mode\":\"lines+markers\",\"name\":\"Action 3\",\"showlegend\":false,\"x\":[2,3],\"y\":[88,91],\"type\":\"scatter\"},{\"line\":{\"color\":\"rgb(58, 82, 139)\",\"width\":2},\"mode\":\"lines+markers\",\"name\":\"Action 3\",\"showlegend\":false,\"x\":[2,3],\"y\":[90,93],\"type\":\"scatter\"},{\"line\":{\"color\":\"rgb(58, 82, 139)\",\"width\":2},\"mode\":\"lines+markers\",\"name\":\"Action 3\",\"showlegend\":false,\"x\":[2,3],\"y\":[91,94],\"type\":\"scatter\"},{\"line\":{\"color\":\"rgb(58, 82, 139)\",\"width\":2},\"mode\":\"lines+markers\",\"name\":\"Action 3\",\"showlegend\":false,\"x\":[2,3],\"y\":[92,95],\"type\":\"scatter\"},{\"line\":{\"color\":\"rgb(58, 82, 139)\",\"width\":2},\"mode\":\"lines+markers\",\"name\":\"Action 3\",\"showlegend\":false,\"x\":[2,3],\"y\":[93,96],\"type\":\"scatter\"},{\"line\":{\"color\":\"rgb(58, 82, 139)\",\"width\":2},\"mode\":\"lines+markers\",\"name\":\"Action 3\",\"showlegend\":false,\"x\":[2,3],\"y\":[94,97],\"type\":\"scatter\"},{\"line\":{\"color\":\"rgb(58, 82, 139)\",\"width\":2},\"mode\":\"lines+markers\",\"name\":\"Action 3\",\"showlegend\":false,\"x\":[2,3],\"y\":[95,98],\"type\":\"scatter\"},{\"line\":{\"color\":\"rgb(58, 82, 139)\",\"width\":2},\"mode\":\"lines+markers\",\"name\":\"Action 3\",\"showlegend\":false,\"x\":[2,3],\"y\":[96,99],\"type\":\"scatter\"},{\"line\":{\"color\":\"rgb(58, 82, 139)\",\"width\":2},\"mode\":\"lines+markers\",\"name\":\"Action 3\",\"showlegend\":false,\"x\":[3,4],\"y\":[6,9],\"type\":\"scatter\"},{\"line\":{\"color\":\"rgb(58, 82, 139)\",\"width\":2},\"mode\":\"lines+markers\",\"name\":\"Action 3\",\"showlegend\":false,\"x\":[3,4],\"y\":[8,11],\"type\":\"scatter\"},{\"line\":{\"color\":\"rgb(58, 82, 139)\",\"width\":2},\"mode\":\"lines+markers\",\"name\":\"Action 3\",\"showlegend\":false,\"x\":[3,4],\"y\":[11,14],\"type\":\"scatter\"},{\"line\":{\"color\":\"rgb(58, 82, 139)\",\"width\":2},\"mode\":\"lines+markers\",\"name\":\"Action 3\",\"showlegend\":false,\"x\":[3,4],\"y\":[13,16],\"type\":\"scatter\"},{\"line\":{\"color\":\"rgb(58, 82, 139)\",\"width\":2},\"mode\":\"lines+markers\",\"name\":\"Action 3\",\"showlegend\":false,\"x\":[3,4],\"y\":[18,21],\"type\":\"scatter\"},{\"line\":{\"color\":\"rgb(58, 82, 139)\",\"width\":2},\"mode\":\"lines+markers\",\"name\":\"Action 3\",\"showlegend\":false,\"x\":[3,4],\"y\":[24,27],\"type\":\"scatter\"},{\"line\":{\"color\":\"rgb(58, 82, 139)\",\"width\":2},\"mode\":\"lines+markers\",\"name\":\"Action 3\",\"showlegend\":false,\"x\":[3,4],\"y\":[27,30],\"type\":\"scatter\"},{\"line\":{\"color\":\"rgb(58, 82, 139)\",\"width\":2},\"mode\":\"lines+markers\",\"name\":\"Action 3\",\"showlegend\":false,\"x\":[3,4],\"y\":[31,34],\"type\":\"scatter\"},{\"line\":{\"color\":\"rgb(58, 82, 139)\",\"width\":2},\"mode\":\"lines+markers\",\"name\":\"Action 3\",\"showlegend\":false,\"x\":[3,4],\"y\":[32,35],\"type\":\"scatter\"},{\"line\":{\"color\":\"rgb(58, 82, 139)\",\"width\":2},\"mode\":\"lines+markers\",\"name\":\"Action 3\",\"showlegend\":false,\"x\":[3,4],\"y\":[35,38],\"type\":\"scatter\"},{\"line\":{\"color\":\"rgb(58, 82, 139)\",\"width\":2},\"mode\":\"lines+markers\",\"name\":\"Action 3\",\"showlegend\":false,\"x\":[3,4],\"y\":[46,49],\"type\":\"scatter\"},{\"line\":{\"color\":\"rgb(58, 82, 139)\",\"width\":2},\"mode\":\"lines+markers\",\"name\":\"Action 3\",\"showlegend\":false,\"x\":[3,4],\"y\":[48,51],\"type\":\"scatter\"},{\"line\":{\"color\":\"rgb(58, 82, 139)\",\"width\":2},\"mode\":\"lines+markers\",\"name\":\"Action 3\",\"showlegend\":false,\"x\":[3,4],\"y\":[52,55],\"type\":\"scatter\"},{\"line\":{\"color\":\"rgb(58, 82, 139)\",\"width\":2},\"mode\":\"lines+markers\",\"name\":\"Action 3\",\"showlegend\":false,\"x\":[3,4],\"y\":[54,57],\"type\":\"scatter\"},{\"line\":{\"color\":\"rgb(58, 82, 139)\",\"width\":2},\"mode\":\"lines+markers\",\"name\":\"Action 3\",\"showlegend\":false,\"x\":[3,4],\"y\":[57,60],\"type\":\"scatter\"},{\"line\":{\"color\":\"rgb(58, 82, 139)\",\"width\":2},\"mode\":\"lines+markers\",\"name\":\"Action 3\",\"showlegend\":false,\"x\":[3,4],\"y\":[70,73],\"type\":\"scatter\"},{\"line\":{\"color\":\"rgb(58, 82, 139)\",\"width\":2},\"mode\":\"lines+markers\",\"name\":\"Action 3\",\"showlegend\":false,\"x\":[3,4],\"y\":[71,74],\"type\":\"scatter\"},{\"line\":{\"color\":\"rgb(58, 82, 139)\",\"width\":2},\"mode\":\"lines+markers\",\"name\":\"Action 3\",\"showlegend\":false,\"x\":[3,4],\"y\":[88,91],\"type\":\"scatter\"},{\"line\":{\"color\":\"rgb(58, 82, 139)\",\"width\":2},\"mode\":\"lines+markers\",\"name\":\"Action 3\",\"showlegend\":false,\"x\":[3,4],\"y\":[89,92],\"type\":\"scatter\"},{\"line\":{\"color\":\"rgb(58, 82, 139)\",\"width\":2},\"mode\":\"lines+markers\",\"name\":\"Action 3\",\"showlegend\":false,\"x\":[3,4],\"y\":[90,93],\"type\":\"scatter\"},{\"line\":{\"color\":\"rgb(58, 82, 139)\",\"width\":2},\"mode\":\"lines+markers\",\"name\":\"Action 3\",\"showlegend\":false,\"x\":[3,4],\"y\":[91,94],\"type\":\"scatter\"},{\"line\":{\"color\":\"rgb(58, 82, 139)\",\"width\":2},\"mode\":\"lines+markers\",\"name\":\"Action 3\",\"showlegend\":false,\"x\":[3,4],\"y\":[93,96],\"type\":\"scatter\"},{\"line\":{\"color\":\"rgb(58, 82, 139)\",\"width\":2},\"mode\":\"lines+markers\",\"name\":\"Action 3\",\"showlegend\":false,\"x\":[3,4],\"y\":[94,97],\"type\":\"scatter\"},{\"line\":{\"color\":\"rgb(58, 82, 139)\",\"width\":2},\"mode\":\"lines+markers\",\"name\":\"Action 3\",\"showlegend\":false,\"x\":[3,4],\"y\":[95,98],\"type\":\"scatter\"},{\"line\":{\"color\":\"rgb(58, 82, 139)\",\"width\":2},\"mode\":\"lines+markers\",\"name\":\"Action 3\",\"showlegend\":false,\"x\":[4,5],\"y\":[4,7],\"type\":\"scatter\"},{\"line\":{\"color\":\"rgb(58, 82, 139)\",\"width\":2},\"mode\":\"lines+markers\",\"name\":\"Action 3\",\"showlegend\":false,\"x\":[4,5],\"y\":[11,14],\"type\":\"scatter\"},{\"line\":{\"color\":\"rgb(58, 82, 139)\",\"width\":2},\"mode\":\"lines+markers\",\"name\":\"Action 3\",\"showlegend\":false,\"x\":[4,5],\"y\":[17,20],\"type\":\"scatter\"},{\"line\":{\"color\":\"rgb(58, 82, 139)\",\"width\":2},\"mode\":\"lines+markers\",\"name\":\"Action 3\",\"showlegend\":false,\"x\":[4,5],\"y\":[21,24],\"type\":\"scatter\"},{\"line\":{\"color\":\"rgb(58, 82, 139)\",\"width\":2},\"mode\":\"lines+markers\",\"name\":\"Action 3\",\"showlegend\":false,\"x\":[4,5],\"y\":[22,25],\"type\":\"scatter\"},{\"line\":{\"color\":\"rgb(58, 82, 139)\",\"width\":2},\"mode\":\"lines+markers\",\"name\":\"Action 3\",\"showlegend\":false,\"x\":[4,5],\"y\":[26,29],\"type\":\"scatter\"},{\"line\":{\"color\":\"rgb(58, 82, 139)\",\"width\":2},\"mode\":\"lines+markers\",\"name\":\"Action 3\",\"showlegend\":false,\"x\":[4,5],\"y\":[32,35],\"type\":\"scatter\"},{\"line\":{\"color\":\"rgb(58, 82, 139)\",\"width\":2},\"mode\":\"lines+markers\",\"name\":\"Action 3\",\"showlegend\":false,\"x\":[4,5],\"y\":[35,38],\"type\":\"scatter\"},{\"line\":{\"color\":\"rgb(58, 82, 139)\",\"width\":2},\"mode\":\"lines+markers\",\"name\":\"Action 3\",\"showlegend\":false,\"x\":[4,5],\"y\":[40,43],\"type\":\"scatter\"},{\"line\":{\"color\":\"rgb(58, 82, 139)\",\"width\":2},\"mode\":\"lines+markers\",\"name\":\"Action 3\",\"showlegend\":false,\"x\":[4,5],\"y\":[41,44],\"type\":\"scatter\"},{\"line\":{\"color\":\"rgb(58, 82, 139)\",\"width\":2},\"mode\":\"lines+markers\",\"name\":\"Action 3\",\"showlegend\":false,\"x\":[4,5],\"y\":[43,46],\"type\":\"scatter\"},{\"line\":{\"color\":\"rgb(58, 82, 139)\",\"width\":2},\"mode\":\"lines+markers\",\"name\":\"Action 3\",\"showlegend\":false,\"x\":[4,5],\"y\":[47,50],\"type\":\"scatter\"},{\"line\":{\"color\":\"rgb(58, 82, 139)\",\"width\":2},\"mode\":\"lines+markers\",\"name\":\"Action 3\",\"showlegend\":false,\"x\":[4,5],\"y\":[58,61],\"type\":\"scatter\"},{\"line\":{\"color\":\"rgb(58, 82, 139)\",\"width\":2},\"mode\":\"lines+markers\",\"name\":\"Action 3\",\"showlegend\":false,\"x\":[4,5],\"y\":[68,71],\"type\":\"scatter\"},{\"line\":{\"color\":\"rgb(58, 82, 139)\",\"width\":2},\"mode\":\"lines+markers\",\"name\":\"Action 3\",\"showlegend\":false,\"x\":[4,5],\"y\":[81,84],\"type\":\"scatter\"},{\"line\":{\"color\":\"rgb(58, 82, 139)\",\"width\":2},\"mode\":\"lines+markers\",\"name\":\"Action 3\",\"showlegend\":false,\"x\":[4,5],\"y\":[90,93],\"type\":\"scatter\"},{\"line\":{\"color\":\"rgb(58, 82, 139)\",\"width\":2},\"mode\":\"lines+markers\",\"name\":\"Action 3\",\"showlegend\":false,\"x\":[4,5],\"y\":[91,94],\"type\":\"scatter\"},{\"line\":{\"color\":\"rgb(58, 82, 139)\",\"width\":2},\"mode\":\"lines+markers\",\"name\":\"Action 3\",\"showlegend\":false,\"x\":[4,5],\"y\":[92,95],\"type\":\"scatter\"},{\"line\":{\"color\":\"rgb(58, 82, 139)\",\"width\":2},\"mode\":\"lines+markers\",\"name\":\"Action 3\",\"showlegend\":false,\"x\":[4,5],\"y\":[93,96],\"type\":\"scatter\"},{\"line\":{\"color\":\"rgb(58, 82, 139)\",\"width\":2},\"mode\":\"lines+markers\",\"name\":\"Action 3\",\"showlegend\":false,\"x\":[4,5],\"y\":[95,98],\"type\":\"scatter\"},{\"line\":{\"color\":\"rgb(58, 82, 139)\",\"width\":2},\"mode\":\"lines+markers\",\"name\":\"Action 3\",\"showlegend\":false,\"x\":[5,6],\"y\":[25,28],\"type\":\"scatter\"},{\"line\":{\"color\":\"rgb(58, 82, 139)\",\"width\":2},\"mode\":\"lines+markers\",\"name\":\"Action 3\",\"showlegend\":false,\"x\":[5,6],\"y\":[27,30],\"type\":\"scatter\"},{\"line\":{\"color\":\"rgb(58, 82, 139)\",\"width\":2},\"mode\":\"lines+markers\",\"name\":\"Action 3\",\"showlegend\":false,\"x\":[5,6],\"y\":[33,36],\"type\":\"scatter\"},{\"line\":{\"color\":\"rgb(58, 82, 139)\",\"width\":2},\"mode\":\"lines+markers\",\"name\":\"Action 3\",\"showlegend\":false,\"x\":[5,6],\"y\":[34,37],\"type\":\"scatter\"},{\"line\":{\"color\":\"rgb(58, 82, 139)\",\"width\":2},\"mode\":\"lines+markers\",\"name\":\"Action 3\",\"showlegend\":false,\"x\":[5,6],\"y\":[38,41],\"type\":\"scatter\"},{\"line\":{\"color\":\"rgb(58, 82, 139)\",\"width\":2},\"mode\":\"lines+markers\",\"name\":\"Action 3\",\"showlegend\":false,\"x\":[5,6],\"y\":[39,42],\"type\":\"scatter\"},{\"line\":{\"color\":\"rgb(58, 82, 139)\",\"width\":2},\"mode\":\"lines+markers\",\"name\":\"Action 3\",\"showlegend\":false,\"x\":[5,6],\"y\":[45,48],\"type\":\"scatter\"},{\"line\":{\"color\":\"rgb(58, 82, 139)\",\"width\":2},\"mode\":\"lines+markers\",\"name\":\"Action 3\",\"showlegend\":false,\"x\":[5,6],\"y\":[48,51],\"type\":\"scatter\"},{\"line\":{\"color\":\"rgb(58, 82, 139)\",\"width\":2},\"mode\":\"lines+markers\",\"name\":\"Action 3\",\"showlegend\":false,\"x\":[5,6],\"y\":[59,62],\"type\":\"scatter\"},{\"line\":{\"color\":\"rgb(58, 82, 139)\",\"width\":2},\"mode\":\"lines+markers\",\"name\":\"Action 3\",\"showlegend\":false,\"x\":[5,6],\"y\":[63,66],\"type\":\"scatter\"},{\"line\":{\"color\":\"rgb(58, 82, 139)\",\"width\":2},\"mode\":\"lines+markers\",\"name\":\"Action 3\",\"showlegend\":false,\"x\":[5,6],\"y\":[64,67],\"type\":\"scatter\"},{\"line\":{\"color\":\"rgb(58, 82, 139)\",\"width\":2},\"mode\":\"lines+markers\",\"name\":\"Action 3\",\"showlegend\":false,\"x\":[5,6],\"y\":[72,75],\"type\":\"scatter\"},{\"line\":{\"color\":\"rgb(58, 82, 139)\",\"width\":2},\"mode\":\"lines+markers\",\"name\":\"Action 3\",\"showlegend\":false,\"x\":[5,6],\"y\":[75,78],\"type\":\"scatter\"},{\"line\":{\"color\":\"rgb(58, 82, 139)\",\"width\":2},\"mode\":\"lines+markers\",\"name\":\"Action 3\",\"showlegend\":false,\"x\":[5,6],\"y\":[89,92],\"type\":\"scatter\"},{\"line\":{\"color\":\"rgb(58, 82, 139)\",\"width\":2},\"mode\":\"lines+markers\",\"name\":\"Action 3\",\"showlegend\":false,\"x\":[5,6],\"y\":[92,95],\"type\":\"scatter\"},{\"line\":{\"color\":\"rgb(58, 82, 139)\",\"width\":2},\"mode\":\"lines+markers\",\"name\":\"Action 3\",\"showlegend\":false,\"x\":[5,6],\"y\":[93,96],\"type\":\"scatter\"},{\"line\":{\"color\":\"rgb(58, 82, 139)\",\"width\":2},\"mode\":\"lines+markers\",\"name\":\"Action 3\",\"showlegend\":false,\"x\":[5,6],\"y\":[95,98],\"type\":\"scatter\"},{\"line\":{\"color\":\"rgb(58, 82, 139)\",\"width\":2},\"mode\":\"lines+markers\",\"name\":\"Action 3\",\"showlegend\":false,\"x\":[6,7],\"y\":[36,39],\"type\":\"scatter\"},{\"line\":{\"color\":\"rgb(58, 82, 139)\",\"width\":2},\"mode\":\"lines+markers\",\"name\":\"Action 3\",\"showlegend\":false,\"x\":[6,7],\"y\":[37,40],\"type\":\"scatter\"},{\"line\":{\"color\":\"rgb(58, 82, 139)\",\"width\":2},\"mode\":\"lines+markers\",\"name\":\"Action 3\",\"showlegend\":false,\"x\":[6,7],\"y\":[39,42],\"type\":\"scatter\"},{\"line\":{\"color\":\"rgb(58, 82, 139)\",\"width\":2},\"mode\":\"lines+markers\",\"name\":\"Action 3\",\"showlegend\":false,\"x\":[6,7],\"y\":[42,45],\"type\":\"scatter\"},{\"line\":{\"color\":\"rgb(58, 82, 139)\",\"width\":2},\"mode\":\"lines+markers\",\"name\":\"Action 3\",\"showlegend\":false,\"x\":[6,7],\"y\":[45,48],\"type\":\"scatter\"},{\"line\":{\"color\":\"rgb(58, 82, 139)\",\"width\":2},\"mode\":\"lines+markers\",\"name\":\"Action 3\",\"showlegend\":false,\"x\":[6,7],\"y\":[46,49],\"type\":\"scatter\"},{\"line\":{\"color\":\"rgb(58, 82, 139)\",\"width\":2},\"mode\":\"lines+markers\",\"name\":\"Action 3\",\"showlegend\":false,\"x\":[6,7],\"y\":[48,51],\"type\":\"scatter\"},{\"line\":{\"color\":\"rgb(58, 82, 139)\",\"width\":2},\"mode\":\"lines+markers\",\"name\":\"Action 3\",\"showlegend\":false,\"x\":[6,7],\"y\":[49,52],\"type\":\"scatter\"},{\"line\":{\"color\":\"rgb(58, 82, 139)\",\"width\":2},\"mode\":\"lines+markers\",\"name\":\"Action 3\",\"showlegend\":false,\"x\":[6,7],\"y\":[52,55],\"type\":\"scatter\"},{\"line\":{\"color\":\"rgb(58, 82, 139)\",\"width\":2},\"mode\":\"lines+markers\",\"name\":\"Action 3\",\"showlegend\":false,\"x\":[6,7],\"y\":[57,60],\"type\":\"scatter\"},{\"line\":{\"color\":\"rgb(58, 82, 139)\",\"width\":2},\"mode\":\"lines+markers\",\"name\":\"Action 3\",\"showlegend\":false,\"x\":[6,7],\"y\":[62,65],\"type\":\"scatter\"},{\"line\":{\"color\":\"rgb(58, 82, 139)\",\"width\":2},\"mode\":\"lines+markers\",\"name\":\"Action 3\",\"showlegend\":false,\"x\":[6,7],\"y\":[68,71],\"type\":\"scatter\"},{\"line\":{\"color\":\"rgb(58, 82, 139)\",\"width\":2},\"mode\":\"lines+markers\",\"name\":\"Action 3\",\"showlegend\":false,\"x\":[6,7],\"y\":[70,73],\"type\":\"scatter\"},{\"line\":{\"color\":\"rgb(58, 82, 139)\",\"width\":2},\"mode\":\"lines+markers\",\"name\":\"Action 3\",\"showlegend\":false,\"x\":[6,7],\"y\":[71,74],\"type\":\"scatter\"},{\"line\":{\"color\":\"rgb(58, 82, 139)\",\"width\":2},\"mode\":\"lines+markers\",\"name\":\"Action 3\",\"showlegend\":false,\"x\":[6,7],\"y\":[77,80],\"type\":\"scatter\"},{\"line\":{\"color\":\"rgb(58, 82, 139)\",\"width\":2},\"mode\":\"lines+markers\",\"name\":\"Action 3\",\"showlegend\":false,\"x\":[6,7],\"y\":[84,87],\"type\":\"scatter\"},{\"line\":{\"color\":\"rgb(58, 82, 139)\",\"width\":2},\"mode\":\"lines+markers\",\"name\":\"Action 3\",\"showlegend\":false,\"x\":[6,7],\"y\":[89,92],\"type\":\"scatter\"},{\"line\":{\"color\":\"rgb(58, 82, 139)\",\"width\":2},\"mode\":\"lines+markers\",\"name\":\"Action 3\",\"showlegend\":false,\"x\":[6,7],\"y\":[90,93],\"type\":\"scatter\"},{\"line\":{\"color\":\"rgb(58, 82, 139)\",\"width\":2},\"mode\":\"lines+markers\",\"name\":\"Action 3\",\"showlegend\":false,\"x\":[6,7],\"y\":[91,94],\"type\":\"scatter\"},{\"line\":{\"color\":\"rgb(58, 82, 139)\",\"width\":2},\"mode\":\"lines+markers\",\"name\":\"Action 3\",\"showlegend\":false,\"x\":[6,7],\"y\":[92,95],\"type\":\"scatter\"},{\"line\":{\"color\":\"rgb(58, 82, 139)\",\"width\":2},\"mode\":\"lines+markers\",\"name\":\"Action 3\",\"showlegend\":false,\"x\":[6,7],\"y\":[93,96],\"type\":\"scatter\"},{\"line\":{\"color\":\"rgb(58, 82, 139)\",\"width\":2},\"mode\":\"lines+markers\",\"name\":\"Action 3\",\"showlegend\":false,\"x\":[6,7],\"y\":[94,97],\"type\":\"scatter\"},{\"line\":{\"color\":\"rgb(58, 82, 139)\",\"width\":2},\"mode\":\"lines+markers\",\"name\":\"Action 3\",\"showlegend\":false,\"x\":[6,7],\"y\":[95,98],\"type\":\"scatter\"},{\"line\":{\"color\":\"rgb(58, 82, 139)\",\"width\":2},\"mode\":\"lines+markers\",\"name\":\"Action 3\",\"showlegend\":false,\"x\":[7,8],\"y\":[2,5],\"type\":\"scatter\"},{\"line\":{\"color\":\"rgb(58, 82, 139)\",\"width\":2},\"mode\":\"lines+markers\",\"name\":\"Action 3\",\"showlegend\":false,\"x\":[7,8],\"y\":[4,7],\"type\":\"scatter\"},{\"line\":{\"color\":\"rgb(58, 82, 139)\",\"width\":2},\"mode\":\"lines+markers\",\"name\":\"Action 3\",\"showlegend\":false,\"x\":[7,8],\"y\":[8,11],\"type\":\"scatter\"},{\"line\":{\"color\":\"rgb(58, 82, 139)\",\"width\":2},\"mode\":\"lines+markers\",\"name\":\"Action 3\",\"showlegend\":false,\"x\":[7,8],\"y\":[12,15],\"type\":\"scatter\"},{\"line\":{\"color\":\"rgb(58, 82, 139)\",\"width\":2},\"mode\":\"lines+markers\",\"name\":\"Action 3\",\"showlegend\":false,\"x\":[7,8],\"y\":[39,42],\"type\":\"scatter\"},{\"line\":{\"color\":\"rgb(58, 82, 139)\",\"width\":2},\"mode\":\"lines+markers\",\"name\":\"Action 3\",\"showlegend\":false,\"x\":[7,8],\"y\":[45,48],\"type\":\"scatter\"},{\"line\":{\"color\":\"rgb(32, 144, 140)\",\"width\":2},\"mode\":\"lines+markers\",\"name\":\"Action 7\",\"showlegend\":true,\"x\":[0,1],\"y\":[2,9],\"type\":\"scatter\"},{\"line\":{\"color\":\"rgb(32, 144, 140)\",\"width\":2},\"mode\":\"lines+markers\",\"name\":\"Action 7\",\"showlegend\":false,\"x\":[0,1],\"y\":[3,10],\"type\":\"scatter\"},{\"line\":{\"color\":\"rgb(32, 144, 140)\",\"width\":2},\"mode\":\"lines+markers\",\"name\":\"Action 7\",\"showlegend\":false,\"x\":[0,1],\"y\":[4,11],\"type\":\"scatter\"},{\"line\":{\"color\":\"rgb(32, 144, 140)\",\"width\":2},\"mode\":\"lines+markers\",\"name\":\"Action 7\",\"showlegend\":false,\"x\":[0,1],\"y\":[6,13],\"type\":\"scatter\"},{\"line\":{\"color\":\"rgb(32, 144, 140)\",\"width\":2},\"mode\":\"lines+markers\",\"name\":\"Action 7\",\"showlegend\":false,\"x\":[0,1],\"y\":[12,19],\"type\":\"scatter\"},{\"line\":{\"color\":\"rgb(32, 144, 140)\",\"width\":2},\"mode\":\"lines+markers\",\"name\":\"Action 7\",\"showlegend\":false,\"x\":[0,1],\"y\":[13,20],\"type\":\"scatter\"},{\"line\":{\"color\":\"rgb(32, 144, 140)\",\"width\":2},\"mode\":\"lines+markers\",\"name\":\"Action 7\",\"showlegend\":false,\"x\":[0,1],\"y\":[14,21],\"type\":\"scatter\"},{\"line\":{\"color\":\"rgb(32, 144, 140)\",\"width\":2},\"mode\":\"lines+markers\",\"name\":\"Action 7\",\"showlegend\":false,\"x\":[0,1],\"y\":[15,22],\"type\":\"scatter\"},{\"line\":{\"color\":\"rgb(32, 144, 140)\",\"width\":2},\"mode\":\"lines+markers\",\"name\":\"Action 7\",\"showlegend\":false,\"x\":[0,1],\"y\":[22,29],\"type\":\"scatter\"},{\"line\":{\"color\":\"rgb(32, 144, 140)\",\"width\":2},\"mode\":\"lines+markers\",\"name\":\"Action 7\",\"showlegend\":false,\"x\":[0,1],\"y\":[25,32],\"type\":\"scatter\"},{\"line\":{\"color\":\"rgb(32, 144, 140)\",\"width\":2},\"mode\":\"lines+markers\",\"name\":\"Action 7\",\"showlegend\":false,\"x\":[0,1],\"y\":[35,42],\"type\":\"scatter\"},{\"line\":{\"color\":\"rgb(32, 144, 140)\",\"width\":2},\"mode\":\"lines+markers\",\"name\":\"Action 7\",\"showlegend\":false,\"x\":[0,1],\"y\":[39,46],\"type\":\"scatter\"},{\"line\":{\"color\":\"rgb(32, 144, 140)\",\"width\":2},\"mode\":\"lines+markers\",\"name\":\"Action 7\",\"showlegend\":false,\"x\":[0,1],\"y\":[44,51],\"type\":\"scatter\"},{\"line\":{\"color\":\"rgb(32, 144, 140)\",\"width\":2},\"mode\":\"lines+markers\",\"name\":\"Action 7\",\"showlegend\":false,\"x\":[0,1],\"y\":[47,54],\"type\":\"scatter\"},{\"line\":{\"color\":\"rgb(32, 144, 140)\",\"width\":2},\"mode\":\"lines+markers\",\"name\":\"Action 7\",\"showlegend\":false,\"x\":[0,1],\"y\":[52,59],\"type\":\"scatter\"},{\"line\":{\"color\":\"rgb(32, 144, 140)\",\"width\":2},\"mode\":\"lines+markers\",\"name\":\"Action 7\",\"showlegend\":false,\"x\":[0,1],\"y\":[53,60],\"type\":\"scatter\"},{\"line\":{\"color\":\"rgb(32, 144, 140)\",\"width\":2},\"mode\":\"lines+markers\",\"name\":\"Action 7\",\"showlegend\":false,\"x\":[0,1],\"y\":[55,62],\"type\":\"scatter\"},{\"line\":{\"color\":\"rgb(32, 144, 140)\",\"width\":2},\"mode\":\"lines+markers\",\"name\":\"Action 7\",\"showlegend\":false,\"x\":[0,1],\"y\":[57,64],\"type\":\"scatter\"},{\"line\":{\"color\":\"rgb(32, 144, 140)\",\"width\":2},\"mode\":\"lines+markers\",\"name\":\"Action 7\",\"showlegend\":false,\"x\":[0,1],\"y\":[64,71],\"type\":\"scatter\"},{\"line\":{\"color\":\"rgb(32, 144, 140)\",\"width\":2},\"mode\":\"lines+markers\",\"name\":\"Action 7\",\"showlegend\":false,\"x\":[0,1],\"y\":[69,76],\"type\":\"scatter\"},{\"line\":{\"color\":\"rgb(32, 144, 140)\",\"width\":2},\"mode\":\"lines+markers\",\"name\":\"Action 7\",\"showlegend\":false,\"x\":[0,1],\"y\":[70,77],\"type\":\"scatter\"},{\"line\":{\"color\":\"rgb(32, 144, 140)\",\"width\":2},\"mode\":\"lines+markers\",\"name\":\"Action 7\",\"showlegend\":false,\"x\":[0,1],\"y\":[71,78],\"type\":\"scatter\"},{\"line\":{\"color\":\"rgb(32, 144, 140)\",\"width\":2},\"mode\":\"lines+markers\",\"name\":\"Action 7\",\"showlegend\":false,\"x\":[0,1],\"y\":[73,80],\"type\":\"scatter\"},{\"line\":{\"color\":\"rgb(32, 144, 140)\",\"width\":2},\"mode\":\"lines+markers\",\"name\":\"Action 7\",\"showlegend\":false,\"x\":[0,1],\"y\":[80,87],\"type\":\"scatter\"},{\"line\":{\"color\":\"rgb(32, 144, 140)\",\"width\":2},\"mode\":\"lines+markers\",\"name\":\"Action 7\",\"showlegend\":false,\"x\":[0,1],\"y\":[83,90],\"type\":\"scatter\"},{\"line\":{\"color\":\"rgb(32, 144, 140)\",\"width\":2},\"mode\":\"lines+markers\",\"name\":\"Action 7\",\"showlegend\":false,\"x\":[0,1],\"y\":[86,93],\"type\":\"scatter\"},{\"line\":{\"color\":\"rgb(32, 144, 140)\",\"width\":2},\"mode\":\"lines+markers\",\"name\":\"Action 7\",\"showlegend\":false,\"x\":[0,1],\"y\":[87,94],\"type\":\"scatter\"},{\"line\":{\"color\":\"rgb(32, 144, 140)\",\"width\":2},\"mode\":\"lines+markers\",\"name\":\"Action 7\",\"showlegend\":false,\"x\":[1,2],\"y\":[2,9],\"type\":\"scatter\"},{\"line\":{\"color\":\"rgb(32, 144, 140)\",\"width\":2},\"mode\":\"lines+markers\",\"name\":\"Action 7\",\"showlegend\":false,\"x\":[1,2],\"y\":[3,10],\"type\":\"scatter\"},{\"line\":{\"color\":\"rgb(32, 144, 140)\",\"width\":2},\"mode\":\"lines+markers\",\"name\":\"Action 7\",\"showlegend\":false,\"x\":[1,2],\"y\":[4,11],\"type\":\"scatter\"},{\"line\":{\"color\":\"rgb(32, 144, 140)\",\"width\":2},\"mode\":\"lines+markers\",\"name\":\"Action 7\",\"showlegend\":false,\"x\":[1,2],\"y\":[6,13],\"type\":\"scatter\"},{\"line\":{\"color\":\"rgb(32, 144, 140)\",\"width\":2},\"mode\":\"lines+markers\",\"name\":\"Action 7\",\"showlegend\":false,\"x\":[1,2],\"y\":[7,14],\"type\":\"scatter\"},{\"line\":{\"color\":\"rgb(32, 144, 140)\",\"width\":2},\"mode\":\"lines+markers\",\"name\":\"Action 7\",\"showlegend\":false,\"x\":[1,2],\"y\":[13,20],\"type\":\"scatter\"},{\"line\":{\"color\":\"rgb(32, 144, 140)\",\"width\":2},\"mode\":\"lines+markers\",\"name\":\"Action 7\",\"showlegend\":false,\"x\":[1,2],\"y\":[31,38],\"type\":\"scatter\"},{\"line\":{\"color\":\"rgb(32, 144, 140)\",\"width\":2},\"mode\":\"lines+markers\",\"name\":\"Action 7\",\"showlegend\":false,\"x\":[1,2],\"y\":[33,40],\"type\":\"scatter\"},{\"line\":{\"color\":\"rgb(32, 144, 140)\",\"width\":2},\"mode\":\"lines+markers\",\"name\":\"Action 7\",\"showlegend\":false,\"x\":[1,2],\"y\":[37,44],\"type\":\"scatter\"},{\"line\":{\"color\":\"rgb(32, 144, 140)\",\"width\":2},\"mode\":\"lines+markers\",\"name\":\"Action 7\",\"showlegend\":false,\"x\":[1,2],\"y\":[38,45],\"type\":\"scatter\"},{\"line\":{\"color\":\"rgb(32, 144, 140)\",\"width\":2},\"mode\":\"lines+markers\",\"name\":\"Action 7\",\"showlegend\":false,\"x\":[1,2],\"y\":[45,52],\"type\":\"scatter\"},{\"line\":{\"color\":\"rgb(32, 144, 140)\",\"width\":2},\"mode\":\"lines+markers\",\"name\":\"Action 7\",\"showlegend\":false,\"x\":[1,2],\"y\":[47,54],\"type\":\"scatter\"},{\"line\":{\"color\":\"rgb(32, 144, 140)\",\"width\":2},\"mode\":\"lines+markers\",\"name\":\"Action 7\",\"showlegend\":false,\"x\":[1,2],\"y\":[48,55],\"type\":\"scatter\"},{\"line\":{\"color\":\"rgb(32, 144, 140)\",\"width\":2},\"mode\":\"lines+markers\",\"name\":\"Action 7\",\"showlegend\":false,\"x\":[1,2],\"y\":[49,56],\"type\":\"scatter\"},{\"line\":{\"color\":\"rgb(32, 144, 140)\",\"width\":2},\"mode\":\"lines+markers\",\"name\":\"Action 7\",\"showlegend\":false,\"x\":[1,2],\"y\":[52,59],\"type\":\"scatter\"},{\"line\":{\"color\":\"rgb(32, 144, 140)\",\"width\":2},\"mode\":\"lines+markers\",\"name\":\"Action 7\",\"showlegend\":false,\"x\":[1,2],\"y\":[56,63],\"type\":\"scatter\"},{\"line\":{\"color\":\"rgb(32, 144, 140)\",\"width\":2},\"mode\":\"lines+markers\",\"name\":\"Action 7\",\"showlegend\":false,\"x\":[1,2],\"y\":[59,66],\"type\":\"scatter\"},{\"line\":{\"color\":\"rgb(32, 144, 140)\",\"width\":2},\"mode\":\"lines+markers\",\"name\":\"Action 7\",\"showlegend\":false,\"x\":[1,2],\"y\":[70,77],\"type\":\"scatter\"},{\"line\":{\"color\":\"rgb(32, 144, 140)\",\"width\":2},\"mode\":\"lines+markers\",\"name\":\"Action 7\",\"showlegend\":false,\"x\":[1,2],\"y\":[72,79],\"type\":\"scatter\"},{\"line\":{\"color\":\"rgb(32, 144, 140)\",\"width\":2},\"mode\":\"lines+markers\",\"name\":\"Action 7\",\"showlegend\":false,\"x\":[1,2],\"y\":[74,81],\"type\":\"scatter\"},{\"line\":{\"color\":\"rgb(32, 144, 140)\",\"width\":2},\"mode\":\"lines+markers\",\"name\":\"Action 7\",\"showlegend\":false,\"x\":[1,2],\"y\":[76,83],\"type\":\"scatter\"},{\"line\":{\"color\":\"rgb(32, 144, 140)\",\"width\":2},\"mode\":\"lines+markers\",\"name\":\"Action 7\",\"showlegend\":false,\"x\":[1,2],\"y\":[82,89],\"type\":\"scatter\"},{\"line\":{\"color\":\"rgb(32, 144, 140)\",\"width\":2},\"mode\":\"lines+markers\",\"name\":\"Action 7\",\"showlegend\":false,\"x\":[1,2],\"y\":[84,91],\"type\":\"scatter\"},{\"line\":{\"color\":\"rgb(32, 144, 140)\",\"width\":2},\"mode\":\"lines+markers\",\"name\":\"Action 7\",\"showlegend\":false,\"x\":[1,2],\"y\":[85,92],\"type\":\"scatter\"},{\"line\":{\"color\":\"rgb(32, 144, 140)\",\"width\":2},\"mode\":\"lines+markers\",\"name\":\"Action 7\",\"showlegend\":false,\"x\":[1,2],\"y\":[87,94],\"type\":\"scatter\"},{\"line\":{\"color\":\"rgb(32, 144, 140)\",\"width\":2},\"mode\":\"lines+markers\",\"name\":\"Action 7\",\"showlegend\":false,\"x\":[1,2],\"y\":[89,96],\"type\":\"scatter\"},{\"line\":{\"color\":\"rgb(32, 144, 140)\",\"width\":2},\"mode\":\"lines+markers\",\"name\":\"Action 7\",\"showlegend\":false,\"x\":[2,3],\"y\":[2,9],\"type\":\"scatter\"},{\"line\":{\"color\":\"rgb(32, 144, 140)\",\"width\":2},\"mode\":\"lines+markers\",\"name\":\"Action 7\",\"showlegend\":false,\"x\":[2,3],\"y\":[4,11],\"type\":\"scatter\"},{\"line\":{\"color\":\"rgb(32, 144, 140)\",\"width\":2},\"mode\":\"lines+markers\",\"name\":\"Action 7\",\"showlegend\":false,\"x\":[2,3],\"y\":[5,12],\"type\":\"scatter\"},{\"line\":{\"color\":\"rgb(32, 144, 140)\",\"width\":2},\"mode\":\"lines+markers\",\"name\":\"Action 7\",\"showlegend\":false,\"x\":[2,3],\"y\":[9,16],\"type\":\"scatter\"},{\"line\":{\"color\":\"rgb(32, 144, 140)\",\"width\":2},\"mode\":\"lines+markers\",\"name\":\"Action 7\",\"showlegend\":false,\"x\":[2,3],\"y\":[15,22],\"type\":\"scatter\"},{\"line\":{\"color\":\"rgb(32, 144, 140)\",\"width\":2},\"mode\":\"lines+markers\",\"name\":\"Action 7\",\"showlegend\":false,\"x\":[2,3],\"y\":[22,29],\"type\":\"scatter\"},{\"line\":{\"color\":\"rgb(32, 144, 140)\",\"width\":2},\"mode\":\"lines+markers\",\"name\":\"Action 7\",\"showlegend\":false,\"x\":[2,3],\"y\":[32,39],\"type\":\"scatter\"},{\"line\":{\"color\":\"rgb(32, 144, 140)\",\"width\":2},\"mode\":\"lines+markers\",\"name\":\"Action 7\",\"showlegend\":false,\"x\":[2,3],\"y\":[35,42],\"type\":\"scatter\"},{\"line\":{\"color\":\"rgb(32, 144, 140)\",\"width\":2},\"mode\":\"lines+markers\",\"name\":\"Action 7\",\"showlegend\":false,\"x\":[2,3],\"y\":[41,48],\"type\":\"scatter\"},{\"line\":{\"color\":\"rgb(32, 144, 140)\",\"width\":2},\"mode\":\"lines+markers\",\"name\":\"Action 7\",\"showlegend\":false,\"x\":[2,3],\"y\":[43,50],\"type\":\"scatter\"},{\"line\":{\"color\":\"rgb(32, 144, 140)\",\"width\":2},\"mode\":\"lines+markers\",\"name\":\"Action 7\",\"showlegend\":false,\"x\":[2,3],\"y\":[44,51],\"type\":\"scatter\"},{\"line\":{\"color\":\"rgb(32, 144, 140)\",\"width\":2},\"mode\":\"lines+markers\",\"name\":\"Action 7\",\"showlegend\":false,\"x\":[2,3],\"y\":[48,55],\"type\":\"scatter\"},{\"line\":{\"color\":\"rgb(32, 144, 140)\",\"width\":2},\"mode\":\"lines+markers\",\"name\":\"Action 7\",\"showlegend\":false,\"x\":[2,3],\"y\":[54,61],\"type\":\"scatter\"},{\"line\":{\"color\":\"rgb(32, 144, 140)\",\"width\":2},\"mode\":\"lines+markers\",\"name\":\"Action 7\",\"showlegend\":false,\"x\":[2,3],\"y\":[55,62],\"type\":\"scatter\"},{\"line\":{\"color\":\"rgb(32, 144, 140)\",\"width\":2},\"mode\":\"lines+markers\",\"name\":\"Action 7\",\"showlegend\":false,\"x\":[2,3],\"y\":[56,63],\"type\":\"scatter\"},{\"line\":{\"color\":\"rgb(32, 144, 140)\",\"width\":2},\"mode\":\"lines+markers\",\"name\":\"Action 7\",\"showlegend\":false,\"x\":[2,3],\"y\":[59,66],\"type\":\"scatter\"},{\"line\":{\"color\":\"rgb(32, 144, 140)\",\"width\":2},\"mode\":\"lines+markers\",\"name\":\"Action 7\",\"showlegend\":false,\"x\":[2,3],\"y\":[60,67],\"type\":\"scatter\"},{\"line\":{\"color\":\"rgb(32, 144, 140)\",\"width\":2},\"mode\":\"lines+markers\",\"name\":\"Action 7\",\"showlegend\":false,\"x\":[2,3],\"y\":[68,75],\"type\":\"scatter\"},{\"line\":{\"color\":\"rgb(32, 144, 140)\",\"width\":2},\"mode\":\"lines+markers\",\"name\":\"Action 7\",\"showlegend\":false,\"x\":[2,3],\"y\":[72,79],\"type\":\"scatter\"},{\"line\":{\"color\":\"rgb(32, 144, 140)\",\"width\":2},\"mode\":\"lines+markers\",\"name\":\"Action 7\",\"showlegend\":false,\"x\":[2,3],\"y\":[79,86],\"type\":\"scatter\"},{\"line\":{\"color\":\"rgb(32, 144, 140)\",\"width\":2},\"mode\":\"lines+markers\",\"name\":\"Action 7\",\"showlegend\":false,\"x\":[2,3],\"y\":[81,88],\"type\":\"scatter\"},{\"line\":{\"color\":\"rgb(32, 144, 140)\",\"width\":2},\"mode\":\"lines+markers\",\"name\":\"Action 7\",\"showlegend\":false,\"x\":[2,3],\"y\":[82,89],\"type\":\"scatter\"},{\"line\":{\"color\":\"rgb(32, 144, 140)\",\"width\":2},\"mode\":\"lines+markers\",\"name\":\"Action 7\",\"showlegend\":false,\"x\":[2,3],\"y\":[83,90],\"type\":\"scatter\"},{\"line\":{\"color\":\"rgb(32, 144, 140)\",\"width\":2},\"mode\":\"lines+markers\",\"name\":\"Action 7\",\"showlegend\":false,\"x\":[2,3],\"y\":[84,91],\"type\":\"scatter\"},{\"line\":{\"color\":\"rgb(32, 144, 140)\",\"width\":2},\"mode\":\"lines+markers\",\"name\":\"Action 7\",\"showlegend\":false,\"x\":[2,3],\"y\":[85,92],\"type\":\"scatter\"},{\"line\":{\"color\":\"rgb(32, 144, 140)\",\"width\":2},\"mode\":\"lines+markers\",\"name\":\"Action 7\",\"showlegend\":false,\"x\":[2,3],\"y\":[86,93],\"type\":\"scatter\"},{\"line\":{\"color\":\"rgb(32, 144, 140)\",\"width\":2},\"mode\":\"lines+markers\",\"name\":\"Action 7\",\"showlegend\":false,\"x\":[2,3],\"y\":[87,94],\"type\":\"scatter\"},{\"line\":{\"color\":\"rgb(32, 144, 140)\",\"width\":2},\"mode\":\"lines+markers\",\"name\":\"Action 7\",\"showlegend\":false,\"x\":[2,3],\"y\":[89,96],\"type\":\"scatter\"},{\"line\":{\"color\":\"rgb(32, 144, 140)\",\"width\":2},\"mode\":\"lines+markers\",\"name\":\"Action 7\",\"showlegend\":false,\"x\":[3,4],\"y\":[2,9],\"type\":\"scatter\"},{\"line\":{\"color\":\"rgb(32, 144, 140)\",\"width\":2},\"mode\":\"lines+markers\",\"name\":\"Action 7\",\"showlegend\":false,\"x\":[3,4],\"y\":[3,10],\"type\":\"scatter\"},{\"line\":{\"color\":\"rgb(32, 144, 140)\",\"width\":2},\"mode\":\"lines+markers\",\"name\":\"Action 7\",\"showlegend\":false,\"x\":[3,4],\"y\":[9,16],\"type\":\"scatter\"},{\"line\":{\"color\":\"rgb(32, 144, 140)\",\"width\":2},\"mode\":\"lines+markers\",\"name\":\"Action 7\",\"showlegend\":false,\"x\":[3,4],\"y\":[15,22],\"type\":\"scatter\"},{\"line\":{\"color\":\"rgb(32, 144, 140)\",\"width\":2},\"mode\":\"lines+markers\",\"name\":\"Action 7\",\"showlegend\":false,\"x\":[3,4],\"y\":[16,23],\"type\":\"scatter\"},{\"line\":{\"color\":\"rgb(32, 144, 140)\",\"width\":2},\"mode\":\"lines+markers\",\"name\":\"Action 7\",\"showlegend\":false,\"x\":[3,4],\"y\":[20,27],\"type\":\"scatter\"},{\"line\":{\"color\":\"rgb(32, 144, 140)\",\"width\":2},\"mode\":\"lines+markers\",\"name\":\"Action 7\",\"showlegend\":false,\"x\":[3,4],\"y\":[26,33],\"type\":\"scatter\"},{\"line\":{\"color\":\"rgb(32, 144, 140)\",\"width\":2},\"mode\":\"lines+markers\",\"name\":\"Action 7\",\"showlegend\":false,\"x\":[3,4],\"y\":[38,45],\"type\":\"scatter\"},{\"line\":{\"color\":\"rgb(32, 144, 140)\",\"width\":2},\"mode\":\"lines+markers\",\"name\":\"Action 7\",\"showlegend\":false,\"x\":[3,4],\"y\":[42,49],\"type\":\"scatter\"},{\"line\":{\"color\":\"rgb(32, 144, 140)\",\"width\":2},\"mode\":\"lines+markers\",\"name\":\"Action 7\",\"showlegend\":false,\"x\":[3,4],\"y\":[43,50],\"type\":\"scatter\"},{\"line\":{\"color\":\"rgb(32, 144, 140)\",\"width\":2},\"mode\":\"lines+markers\",\"name\":\"Action 7\",\"showlegend\":false,\"x\":[3,4],\"y\":[45,52],\"type\":\"scatter\"},{\"line\":{\"color\":\"rgb(32, 144, 140)\",\"width\":2},\"mode\":\"lines+markers\",\"name\":\"Action 7\",\"showlegend\":false,\"x\":[3,4],\"y\":[49,56],\"type\":\"scatter\"},{\"line\":{\"color\":\"rgb(32, 144, 140)\",\"width\":2},\"mode\":\"lines+markers\",\"name\":\"Action 7\",\"showlegend\":false,\"x\":[3,4],\"y\":[55,62],\"type\":\"scatter\"},{\"line\":{\"color\":\"rgb(32, 144, 140)\",\"width\":2},\"mode\":\"lines+markers\",\"name\":\"Action 7\",\"showlegend\":false,\"x\":[3,4],\"y\":[64,71],\"type\":\"scatter\"},{\"line\":{\"color\":\"rgb(32, 144, 140)\",\"width\":2},\"mode\":\"lines+markers\",\"name\":\"Action 7\",\"showlegend\":false,\"x\":[3,4],\"y\":[65,72],\"type\":\"scatter\"},{\"line\":{\"color\":\"rgb(32, 144, 140)\",\"width\":2},\"mode\":\"lines+markers\",\"name\":\"Action 7\",\"showlegend\":false,\"x\":[3,4],\"y\":[68,75],\"type\":\"scatter\"},{\"line\":{\"color\":\"rgb(32, 144, 140)\",\"width\":2},\"mode\":\"lines+markers\",\"name\":\"Action 7\",\"showlegend\":false,\"x\":[3,4],\"y\":[69,76],\"type\":\"scatter\"},{\"line\":{\"color\":\"rgb(32, 144, 140)\",\"width\":2},\"mode\":\"lines+markers\",\"name\":\"Action 7\",\"showlegend\":false,\"x\":[3,4],\"y\":[72,79],\"type\":\"scatter\"},{\"line\":{\"color\":\"rgb(32, 144, 140)\",\"width\":2},\"mode\":\"lines+markers\",\"name\":\"Action 7\",\"showlegend\":false,\"x\":[3,4],\"y\":[75,82],\"type\":\"scatter\"},{\"line\":{\"color\":\"rgb(32, 144, 140)\",\"width\":2},\"mode\":\"lines+markers\",\"name\":\"Action 7\",\"showlegend\":false,\"x\":[3,4],\"y\":[81,88],\"type\":\"scatter\"},{\"line\":{\"color\":\"rgb(32, 144, 140)\",\"width\":2},\"mode\":\"lines+markers\",\"name\":\"Action 7\",\"showlegend\":false,\"x\":[3,4],\"y\":[82,89],\"type\":\"scatter\"},{\"line\":{\"color\":\"rgb(32, 144, 140)\",\"width\":2},\"mode\":\"lines+markers\",\"name\":\"Action 7\",\"showlegend\":false,\"x\":[3,4],\"y\":[83,90],\"type\":\"scatter\"},{\"line\":{\"color\":\"rgb(32, 144, 140)\",\"width\":2},\"mode\":\"lines+markers\",\"name\":\"Action 7\",\"showlegend\":false,\"x\":[3,4],\"y\":[84,91],\"type\":\"scatter\"},{\"line\":{\"color\":\"rgb(32, 144, 140)\",\"width\":2},\"mode\":\"lines+markers\",\"name\":\"Action 7\",\"showlegend\":false,\"x\":[3,4],\"y\":[85,92],\"type\":\"scatter\"},{\"line\":{\"color\":\"rgb(32, 144, 140)\",\"width\":2},\"mode\":\"lines+markers\",\"name\":\"Action 7\",\"showlegend\":false,\"x\":[3,4],\"y\":[86,93],\"type\":\"scatter\"},{\"line\":{\"color\":\"rgb(32, 144, 140)\",\"width\":2},\"mode\":\"lines+markers\",\"name\":\"Action 7\",\"showlegend\":false,\"x\":[3,4],\"y\":[87,94],\"type\":\"scatter\"},{\"line\":{\"color\":\"rgb(32, 144, 140)\",\"width\":2},\"mode\":\"lines+markers\",\"name\":\"Action 7\",\"showlegend\":false,\"x\":[4,5],\"y\":[7,14],\"type\":\"scatter\"},{\"line\":{\"color\":\"rgb(32, 144, 140)\",\"width\":2},\"mode\":\"lines+markers\",\"name\":\"Action 7\",\"showlegend\":false,\"x\":[4,5],\"y\":[8,15],\"type\":\"scatter\"},{\"line\":{\"color\":\"rgb(32, 144, 140)\",\"width\":2},\"mode\":\"lines+markers\",\"name\":\"Action 7\",\"showlegend\":false,\"x\":[4,5],\"y\":[15,22],\"type\":\"scatter\"},{\"line\":{\"color\":\"rgb(32, 144, 140)\",\"width\":2},\"mode\":\"lines+markers\",\"name\":\"Action 7\",\"showlegend\":false,\"x\":[4,5],\"y\":[18,25],\"type\":\"scatter\"},{\"line\":{\"color\":\"rgb(32, 144, 140)\",\"width\":2},\"mode\":\"lines+markers\",\"name\":\"Action 7\",\"showlegend\":false,\"x\":[4,5],\"y\":[20,27],\"type\":\"scatter\"},{\"line\":{\"color\":\"rgb(32, 144, 140)\",\"width\":2},\"mode\":\"lines+markers\",\"name\":\"Action 7\",\"showlegend\":false,\"x\":[4,5],\"y\":[25,32],\"type\":\"scatter\"},{\"line\":{\"color\":\"rgb(32, 144, 140)\",\"width\":2},\"mode\":\"lines+markers\",\"name\":\"Action 7\",\"showlegend\":false,\"x\":[4,5],\"y\":[29,36],\"type\":\"scatter\"},{\"line\":{\"color\":\"rgb(32, 144, 140)\",\"width\":2},\"mode\":\"lines+markers\",\"name\":\"Action 7\",\"showlegend\":false,\"x\":[4,5],\"y\":[31,38],\"type\":\"scatter\"},{\"line\":{\"color\":\"rgb(32, 144, 140)\",\"width\":2},\"mode\":\"lines+markers\",\"name\":\"Action 7\",\"showlegend\":false,\"x\":[4,5],\"y\":[33,40],\"type\":\"scatter\"},{\"line\":{\"color\":\"rgb(32, 144, 140)\",\"width\":2},\"mode\":\"lines+markers\",\"name\":\"Action 7\",\"showlegend\":false,\"x\":[4,5],\"y\":[34,41],\"type\":\"scatter\"},{\"line\":{\"color\":\"rgb(32, 144, 140)\",\"width\":2},\"mode\":\"lines+markers\",\"name\":\"Action 7\",\"showlegend\":false,\"x\":[4,5],\"y\":[36,43],\"type\":\"scatter\"},{\"line\":{\"color\":\"rgb(32, 144, 140)\",\"width\":2},\"mode\":\"lines+markers\",\"name\":\"Action 7\",\"showlegend\":false,\"x\":[4,5],\"y\":[37,44],\"type\":\"scatter\"},{\"line\":{\"color\":\"rgb(32, 144, 140)\",\"width\":2},\"mode\":\"lines+markers\",\"name\":\"Action 7\",\"showlegend\":false,\"x\":[4,5],\"y\":[45,52],\"type\":\"scatter\"},{\"line\":{\"color\":\"rgb(32, 144, 140)\",\"width\":2},\"mode\":\"lines+markers\",\"name\":\"Action 7\",\"showlegend\":false,\"x\":[4,5],\"y\":[50,57],\"type\":\"scatter\"},{\"line\":{\"color\":\"rgb(32, 144, 140)\",\"width\":2},\"mode\":\"lines+markers\",\"name\":\"Action 7\",\"showlegend\":false,\"x\":[4,5],\"y\":[52,59],\"type\":\"scatter\"},{\"line\":{\"color\":\"rgb(32, 144, 140)\",\"width\":2},\"mode\":\"lines+markers\",\"name\":\"Action 7\",\"showlegend\":false,\"x\":[4,5],\"y\":[57,64],\"type\":\"scatter\"},{\"line\":{\"color\":\"rgb(32, 144, 140)\",\"width\":2},\"mode\":\"lines+markers\",\"name\":\"Action 7\",\"showlegend\":false,\"x\":[4,5],\"y\":[66,73],\"type\":\"scatter\"},{\"line\":{\"color\":\"rgb(32, 144, 140)\",\"width\":2},\"mode\":\"lines+markers\",\"name\":\"Action 7\",\"showlegend\":false,\"x\":[4,5],\"y\":[73,80],\"type\":\"scatter\"},{\"line\":{\"color\":\"rgb(32, 144, 140)\",\"width\":2},\"mode\":\"lines+markers\",\"name\":\"Action 7\",\"showlegend\":false,\"x\":[4,5],\"y\":[82,89],\"type\":\"scatter\"},{\"line\":{\"color\":\"rgb(32, 144, 140)\",\"width\":2},\"mode\":\"lines+markers\",\"name\":\"Action 7\",\"showlegend\":false,\"x\":[4,5],\"y\":[83,90],\"type\":\"scatter\"},{\"line\":{\"color\":\"rgb(32, 144, 140)\",\"width\":2},\"mode\":\"lines+markers\",\"name\":\"Action 7\",\"showlegend\":false,\"x\":[4,5],\"y\":[84,91],\"type\":\"scatter\"},{\"line\":{\"color\":\"rgb(32, 144, 140)\",\"width\":2},\"mode\":\"lines+markers\",\"name\":\"Action 7\",\"showlegend\":false,\"x\":[4,5],\"y\":[85,92],\"type\":\"scatter\"},{\"line\":{\"color\":\"rgb(32, 144, 140)\",\"width\":2},\"mode\":\"lines+markers\",\"name\":\"Action 7\",\"showlegend\":false,\"x\":[4,5],\"y\":[86,93],\"type\":\"scatter\"},{\"line\":{\"color\":\"rgb(32, 144, 140)\",\"width\":2},\"mode\":\"lines+markers\",\"name\":\"Action 7\",\"showlegend\":false,\"x\":[4,5],\"y\":[87,94],\"type\":\"scatter\"},{\"line\":{\"color\":\"rgb(32, 144, 140)\",\"width\":2},\"mode\":\"lines+markers\",\"name\":\"Action 7\",\"showlegend\":false,\"x\":[4,5],\"y\":[88,95],\"type\":\"scatter\"},{\"line\":{\"color\":\"rgb(32, 144, 140)\",\"width\":2},\"mode\":\"lines+markers\",\"name\":\"Action 7\",\"showlegend\":false,\"x\":[4,5],\"y\":[89,96],\"type\":\"scatter\"},{\"line\":{\"color\":\"rgb(32, 144, 140)\",\"width\":2},\"mode\":\"lines+markers\",\"name\":\"Action 7\",\"showlegend\":false,\"x\":[5,6],\"y\":[7,14],\"type\":\"scatter\"},{\"line\":{\"color\":\"rgb(32, 144, 140)\",\"width\":2},\"mode\":\"lines+markers\",\"name\":\"Action 7\",\"showlegend\":false,\"x\":[5,6],\"y\":[9,16],\"type\":\"scatter\"},{\"line\":{\"color\":\"rgb(32, 144, 140)\",\"width\":2},\"mode\":\"lines+markers\",\"name\":\"Action 7\",\"showlegend\":false,\"x\":[5,6],\"y\":[15,22],\"type\":\"scatter\"},{\"line\":{\"color\":\"rgb(32, 144, 140)\",\"width\":2},\"mode\":\"lines+markers\",\"name\":\"Action 7\",\"showlegend\":false,\"x\":[5,6],\"y\":[20,27],\"type\":\"scatter\"},{\"line\":{\"color\":\"rgb(32, 144, 140)\",\"width\":2},\"mode\":\"lines+markers\",\"name\":\"Action 7\",\"showlegend\":false,\"x\":[5,6],\"y\":[21,28],\"type\":\"scatter\"},{\"line\":{\"color\":\"rgb(32, 144, 140)\",\"width\":2},\"mode\":\"lines+markers\",\"name\":\"Action 7\",\"showlegend\":false,\"x\":[5,6],\"y\":[23,30],\"type\":\"scatter\"},{\"line\":{\"color\":\"rgb(32, 144, 140)\",\"width\":2},\"mode\":\"lines+markers\",\"name\":\"Action 7\",\"showlegend\":false,\"x\":[5,6],\"y\":[37,44],\"type\":\"scatter\"},{\"line\":{\"color\":\"rgb(32, 144, 140)\",\"width\":2},\"mode\":\"lines+markers\",\"name\":\"Action 7\",\"showlegend\":false,\"x\":[5,6],\"y\":[43,50],\"type\":\"scatter\"},{\"line\":{\"color\":\"rgb(32, 144, 140)\",\"width\":2},\"mode\":\"lines+markers\",\"name\":\"Action 7\",\"showlegend\":false,\"x\":[5,6],\"y\":[44,51],\"type\":\"scatter\"},{\"line\":{\"color\":\"rgb(32, 144, 140)\",\"width\":2},\"mode\":\"lines+markers\",\"name\":\"Action 7\",\"showlegend\":false,\"x\":[5,6],\"y\":[50,57],\"type\":\"scatter\"},{\"line\":{\"color\":\"rgb(32, 144, 140)\",\"width\":2},\"mode\":\"lines+markers\",\"name\":\"Action 7\",\"showlegend\":false,\"x\":[5,6],\"y\":[55,62],\"type\":\"scatter\"},{\"line\":{\"color\":\"rgb(32, 144, 140)\",\"width\":2},\"mode\":\"lines+markers\",\"name\":\"Action 7\",\"showlegend\":false,\"x\":[5,6],\"y\":[58,65],\"type\":\"scatter\"},{\"line\":{\"color\":\"rgb(32, 144, 140)\",\"width\":2},\"mode\":\"lines+markers\",\"name\":\"Action 7\",\"showlegend\":false,\"x\":[5,6],\"y\":[61,68],\"type\":\"scatter\"},{\"line\":{\"color\":\"rgb(32, 144, 140)\",\"width\":2},\"mode\":\"lines+markers\",\"name\":\"Action 7\",\"showlegend\":false,\"x\":[5,6],\"y\":[68,75],\"type\":\"scatter\"},{\"line\":{\"color\":\"rgb(32, 144, 140)\",\"width\":2},\"mode\":\"lines+markers\",\"name\":\"Action 7\",\"showlegend\":false,\"x\":[5,6],\"y\":[70,77],\"type\":\"scatter\"},{\"line\":{\"color\":\"rgb(32, 144, 140)\",\"width\":2},\"mode\":\"lines+markers\",\"name\":\"Action 7\",\"showlegend\":false,\"x\":[5,6],\"y\":[71,78],\"type\":\"scatter\"},{\"line\":{\"color\":\"rgb(32, 144, 140)\",\"width\":2},\"mode\":\"lines+markers\",\"name\":\"Action 7\",\"showlegend\":false,\"x\":[5,6],\"y\":[77,84],\"type\":\"scatter\"},{\"line\":{\"color\":\"rgb(32, 144, 140)\",\"width\":2},\"mode\":\"lines+markers\",\"name\":\"Action 7\",\"showlegend\":false,\"x\":[5,6],\"y\":[78,85],\"type\":\"scatter\"},{\"line\":{\"color\":\"rgb(32, 144, 140)\",\"width\":2},\"mode\":\"lines+markers\",\"name\":\"Action 7\",\"showlegend\":false,\"x\":[5,6],\"y\":[79,86],\"type\":\"scatter\"},{\"line\":{\"color\":\"rgb(32, 144, 140)\",\"width\":2},\"mode\":\"lines+markers\",\"name\":\"Action 7\",\"showlegend\":false,\"x\":[5,6],\"y\":[81,88],\"type\":\"scatter\"},{\"line\":{\"color\":\"rgb(32, 144, 140)\",\"width\":2},\"mode\":\"lines+markers\",\"name\":\"Action 7\",\"showlegend\":false,\"x\":[5,6],\"y\":[82,89],\"type\":\"scatter\"},{\"line\":{\"color\":\"rgb(32, 144, 140)\",\"width\":2},\"mode\":\"lines+markers\",\"name\":\"Action 7\",\"showlegend\":false,\"x\":[5,6],\"y\":[83,90],\"type\":\"scatter\"},{\"line\":{\"color\":\"rgb(32, 144, 140)\",\"width\":2},\"mode\":\"lines+markers\",\"name\":\"Action 7\",\"showlegend\":false,\"x\":[5,6],\"y\":[84,91],\"type\":\"scatter\"},{\"line\":{\"color\":\"rgb(32, 144, 140)\",\"width\":2},\"mode\":\"lines+markers\",\"name\":\"Action 7\",\"showlegend\":false,\"x\":[5,6],\"y\":[86,93],\"type\":\"scatter\"},{\"line\":{\"color\":\"rgb(32, 144, 140)\",\"width\":2},\"mode\":\"lines+markers\",\"name\":\"Action 7\",\"showlegend\":false,\"x\":[5,6],\"y\":[87,94],\"type\":\"scatter\"},{\"line\":{\"color\":\"rgb(32, 144, 140)\",\"width\":2},\"mode\":\"lines+markers\",\"name\":\"Action 7\",\"showlegend\":false,\"x\":[5,6],\"y\":[88,95],\"type\":\"scatter\"},{\"line\":{\"color\":\"rgb(32, 144, 140)\",\"width\":2},\"mode\":\"lines+markers\",\"name\":\"Action 7\",\"showlegend\":false,\"x\":[6,7],\"y\":[0,7],\"type\":\"scatter\"},{\"line\":{\"color\":\"rgb(32, 144, 140)\",\"width\":2},\"mode\":\"lines+markers\",\"name\":\"Action 7\",\"showlegend\":false,\"x\":[6,7],\"y\":[3,10],\"type\":\"scatter\"},{\"line\":{\"color\":\"rgb(32, 144, 140)\",\"width\":2},\"mode\":\"lines+markers\",\"name\":\"Action 7\",\"showlegend\":false,\"x\":[6,7],\"y\":[17,24],\"type\":\"scatter\"},{\"line\":{\"color\":\"rgb(32, 144, 140)\",\"width\":2},\"mode\":\"lines+markers\",\"name\":\"Action 7\",\"showlegend\":false,\"x\":[6,7],\"y\":[18,25],\"type\":\"scatter\"},{\"line\":{\"color\":\"rgb(32, 144, 140)\",\"width\":2},\"mode\":\"lines+markers\",\"name\":\"Action 7\",\"showlegend\":false,\"x\":[6,7],\"y\":[29,36],\"type\":\"scatter\"},{\"line\":{\"color\":\"rgb(32, 144, 140)\",\"width\":2},\"mode\":\"lines+markers\",\"name\":\"Action 7\",\"showlegend\":false,\"x\":[6,7],\"y\":[33,40],\"type\":\"scatter\"},{\"line\":{\"color\":\"rgb(32, 144, 140)\",\"width\":2},\"mode\":\"lines+markers\",\"name\":\"Action 7\",\"showlegend\":false,\"x\":[6,7],\"y\":[35,42],\"type\":\"scatter\"},{\"line\":{\"color\":\"rgb(32, 144, 140)\",\"width\":2},\"mode\":\"lines+markers\",\"name\":\"Action 7\",\"showlegend\":false,\"x\":[6,7],\"y\":[41,48],\"type\":\"scatter\"},{\"line\":{\"color\":\"rgb(32, 144, 140)\",\"width\":2},\"mode\":\"lines+markers\",\"name\":\"Action 7\",\"showlegend\":false,\"x\":[6,7],\"y\":[43,50],\"type\":\"scatter\"},{\"line\":{\"color\":\"rgb(32, 144, 140)\",\"width\":2},\"mode\":\"lines+markers\",\"name\":\"Action 7\",\"showlegend\":false,\"x\":[6,7],\"y\":[44,51],\"type\":\"scatter\"},{\"line\":{\"color\":\"rgb(32, 144, 140)\",\"width\":2},\"mode\":\"lines+markers\",\"name\":\"Action 7\",\"showlegend\":false,\"x\":[6,7],\"y\":[50,57],\"type\":\"scatter\"},{\"line\":{\"color\":\"rgb(32, 144, 140)\",\"width\":2},\"mode\":\"lines+markers\",\"name\":\"Action 7\",\"showlegend\":false,\"x\":[6,7],\"y\":[53,60],\"type\":\"scatter\"},{\"line\":{\"color\":\"rgb(32, 144, 140)\",\"width\":2},\"mode\":\"lines+markers\",\"name\":\"Action 7\",\"showlegend\":false,\"x\":[6,7],\"y\":[55,62],\"type\":\"scatter\"},{\"line\":{\"color\":\"rgb(32, 144, 140)\",\"width\":2},\"mode\":\"lines+markers\",\"name\":\"Action 7\",\"showlegend\":false,\"x\":[6,7],\"y\":[63,70],\"type\":\"scatter\"},{\"line\":{\"color\":\"rgb(32, 144, 140)\",\"width\":2},\"mode\":\"lines+markers\",\"name\":\"Action 7\",\"showlegend\":false,\"x\":[6,7],\"y\":[72,79],\"type\":\"scatter\"},{\"line\":{\"color\":\"rgb(32, 144, 140)\",\"width\":2},\"mode\":\"lines+markers\",\"name\":\"Action 7\",\"showlegend\":false,\"x\":[6,7],\"y\":[74,81],\"type\":\"scatter\"},{\"line\":{\"color\":\"rgb(32, 144, 140)\",\"width\":2},\"mode\":\"lines+markers\",\"name\":\"Action 7\",\"showlegend\":false,\"x\":[6,7],\"y\":[75,82],\"type\":\"scatter\"},{\"line\":{\"color\":\"rgb(32, 144, 140)\",\"width\":2},\"mode\":\"lines+markers\",\"name\":\"Action 7\",\"showlegend\":false,\"x\":[6,7],\"y\":[76,83],\"type\":\"scatter\"},{\"line\":{\"color\":\"rgb(32, 144, 140)\",\"width\":2},\"mode\":\"lines+markers\",\"name\":\"Action 7\",\"showlegend\":false,\"x\":[6,7],\"y\":[81,88],\"type\":\"scatter\"},{\"line\":{\"color\":\"rgb(32, 144, 140)\",\"width\":2},\"mode\":\"lines+markers\",\"name\":\"Action 7\",\"showlegend\":false,\"x\":[6,7],\"y\":[82,89],\"type\":\"scatter\"},{\"line\":{\"color\":\"rgb(32, 144, 140)\",\"width\":2},\"mode\":\"lines+markers\",\"name\":\"Action 7\",\"showlegend\":false,\"x\":[6,7],\"y\":[83,90],\"type\":\"scatter\"},{\"line\":{\"color\":\"rgb(32, 144, 140)\",\"width\":2},\"mode\":\"lines+markers\",\"name\":\"Action 7\",\"showlegend\":false,\"x\":[6,7],\"y\":[86,93],\"type\":\"scatter\"},{\"line\":{\"color\":\"rgb(32, 144, 140)\",\"width\":2},\"mode\":\"lines+markers\",\"name\":\"Action 7\",\"showlegend\":false,\"x\":[6,7],\"y\":[87,94],\"type\":\"scatter\"},{\"line\":{\"color\":\"rgb(32, 144, 140)\",\"width\":2},\"mode\":\"lines+markers\",\"name\":\"Action 7\",\"showlegend\":false,\"x\":[6,7],\"y\":[88,95],\"type\":\"scatter\"},{\"line\":{\"color\":\"rgb(32, 144, 140)\",\"width\":2},\"mode\":\"lines+markers\",\"name\":\"Action 7\",\"showlegend\":false,\"x\":[7,8],\"y\":[1,8],\"type\":\"scatter\"},{\"line\":{\"color\":\"rgb(32, 144, 140)\",\"width\":2},\"mode\":\"lines+markers\",\"name\":\"Action 7\",\"showlegend\":false,\"x\":[7,8],\"y\":[9,16],\"type\":\"scatter\"},{\"line\":{\"color\":\"rgb(32, 144, 140)\",\"width\":2},\"mode\":\"lines+markers\",\"name\":\"Action 7\",\"showlegend\":false,\"x\":[7,8],\"y\":[11,18],\"type\":\"scatter\"},{\"line\":{\"color\":\"rgb(32, 144, 140)\",\"width\":2},\"mode\":\"lines+markers\",\"name\":\"Action 7\",\"showlegend\":false,\"x\":[7,8],\"y\":[20,27],\"type\":\"scatter\"},{\"line\":{\"color\":\"rgb(32, 144, 140)\",\"width\":2},\"mode\":\"lines+markers\",\"name\":\"Action 7\",\"showlegend\":false,\"x\":[7,8],\"y\":[36,43],\"type\":\"scatter\"},{\"line\":{\"color\":\"rgb(32, 144, 140)\",\"width\":2},\"mode\":\"lines+markers\",\"name\":\"Action 7\",\"showlegend\":false,\"x\":[7,8],\"y\":[38,45],\"type\":\"scatter\"},{\"line\":{\"color\":\"rgb(32, 144, 140)\",\"width\":2},\"mode\":\"lines+markers\",\"name\":\"Action 7\",\"showlegend\":false,\"x\":[7,8],\"y\":[40,47],\"type\":\"scatter\"},{\"line\":{\"color\":\"rgb(94, 201, 97)\",\"width\":2},\"mode\":\"lines+markers\",\"name\":\"Action 0\",\"showlegend\":true,\"x\":[0,1],\"y\":[5,5],\"type\":\"scatter\"},{\"line\":{\"color\":\"rgb(94, 201, 97)\",\"width\":2},\"mode\":\"lines+markers\",\"name\":\"Action 0\",\"showlegend\":false,\"x\":[0,1],\"y\":[7,7],\"type\":\"scatter\"},{\"line\":{\"color\":\"rgb(94, 201, 97)\",\"width\":2},\"mode\":\"lines+markers\",\"name\":\"Action 0\",\"showlegend\":false,\"x\":[0,1],\"y\":[8,8],\"type\":\"scatter\"},{\"line\":{\"color\":\"rgb(94, 201, 97)\",\"width\":2},\"mode\":\"lines+markers\",\"name\":\"Action 0\",\"showlegend\":false,\"x\":[0,1],\"y\":[10,10],\"type\":\"scatter\"},{\"line\":{\"color\":\"rgb(94, 201, 97)\",\"width\":2},\"mode\":\"lines+markers\",\"name\":\"Action 0\",\"showlegend\":false,\"x\":[0,1],\"y\":[20,20],\"type\":\"scatter\"},{\"line\":{\"color\":\"rgb(94, 201, 97)\",\"width\":2},\"mode\":\"lines+markers\",\"name\":\"Action 0\",\"showlegend\":false,\"x\":[0,1],\"y\":[23,23],\"type\":\"scatter\"},{\"line\":{\"color\":\"rgb(94, 201, 97)\",\"width\":2},\"mode\":\"lines+markers\",\"name\":\"Action 0\",\"showlegend\":false,\"x\":[0,1],\"y\":[26,26],\"type\":\"scatter\"},{\"line\":{\"color\":\"rgb(94, 201, 97)\",\"width\":2},\"mode\":\"lines+markers\",\"name\":\"Action 0\",\"showlegend\":false,\"x\":[0,1],\"y\":[28,28],\"type\":\"scatter\"},{\"line\":{\"color\":\"rgb(94, 201, 97)\",\"width\":2},\"mode\":\"lines+markers\",\"name\":\"Action 0\",\"showlegend\":false,\"x\":[0,1],\"y\":[29,29],\"type\":\"scatter\"},{\"line\":{\"color\":\"rgb(94, 201, 97)\",\"width\":2},\"mode\":\"lines+markers\",\"name\":\"Action 0\",\"showlegend\":false,\"x\":[0,1],\"y\":[32,32],\"type\":\"scatter\"},{\"line\":{\"color\":\"rgb(94, 201, 97)\",\"width\":2},\"mode\":\"lines+markers\",\"name\":\"Action 0\",\"showlegend\":false,\"x\":[0,1],\"y\":[36,36],\"type\":\"scatter\"},{\"line\":{\"color\":\"rgb(94, 201, 97)\",\"width\":2},\"mode\":\"lines+markers\",\"name\":\"Action 0\",\"showlegend\":false,\"x\":[0,1],\"y\":[40,40],\"type\":\"scatter\"},{\"line\":{\"color\":\"rgb(94, 201, 97)\",\"width\":2},\"mode\":\"lines+markers\",\"name\":\"Action 0\",\"showlegend\":false,\"x\":[0,1],\"y\":[43,43],\"type\":\"scatter\"},{\"line\":{\"color\":\"rgb(94, 201, 97)\",\"width\":2},\"mode\":\"lines+markers\",\"name\":\"Action 0\",\"showlegend\":false,\"x\":[0,1],\"y\":[45,45],\"type\":\"scatter\"},{\"line\":{\"color\":\"rgb(94, 201, 97)\",\"width\":2},\"mode\":\"lines+markers\",\"name\":\"Action 0\",\"showlegend\":false,\"x\":[0,1],\"y\":[48,48],\"type\":\"scatter\"},{\"line\":{\"color\":\"rgb(94, 201, 97)\",\"width\":2},\"mode\":\"lines+markers\",\"name\":\"Action 0\",\"showlegend\":false,\"x\":[0,1],\"y\":[54,54],\"type\":\"scatter\"},{\"line\":{\"color\":\"rgb(94, 201, 97)\",\"width\":2},\"mode\":\"lines+markers\",\"name\":\"Action 0\",\"showlegend\":false,\"x\":[0,1],\"y\":[60,60],\"type\":\"scatter\"},{\"line\":{\"color\":\"rgb(94, 201, 97)\",\"width\":2},\"mode\":\"lines+markers\",\"name\":\"Action 0\",\"showlegend\":false,\"x\":[0,1],\"y\":[62,62],\"type\":\"scatter\"},{\"line\":{\"color\":\"rgb(94, 201, 97)\",\"width\":2},\"mode\":\"lines+markers\",\"name\":\"Action 0\",\"showlegend\":false,\"x\":[0,1],\"y\":[72,72],\"type\":\"scatter\"},{\"line\":{\"color\":\"rgb(94, 201, 97)\",\"width\":2},\"mode\":\"lines+markers\",\"name\":\"Action 0\",\"showlegend\":false,\"x\":[0,1],\"y\":[79,79],\"type\":\"scatter\"},{\"line\":{\"color\":\"rgb(94, 201, 97)\",\"width\":2},\"mode\":\"lines+markers\",\"name\":\"Action 0\",\"showlegend\":false,\"x\":[0,1],\"y\":[84,84],\"type\":\"scatter\"},{\"line\":{\"color\":\"rgb(94, 201, 97)\",\"width\":2},\"mode\":\"lines+markers\",\"name\":\"Action 0\",\"showlegend\":false,\"x\":[0,1],\"y\":[88,88],\"type\":\"scatter\"},{\"line\":{\"color\":\"rgb(94, 201, 97)\",\"width\":2},\"mode\":\"lines+markers\",\"name\":\"Action 0\",\"showlegend\":false,\"x\":[0,1],\"y\":[93,93],\"type\":\"scatter\"},{\"line\":{\"color\":\"rgb(94, 201, 97)\",\"width\":2},\"mode\":\"lines+markers\",\"name\":\"Action 0\",\"showlegend\":false,\"x\":[0,1],\"y\":[96,96],\"type\":\"scatter\"},{\"line\":{\"color\":\"rgb(94, 201, 97)\",\"width\":2},\"mode\":\"lines+markers\",\"name\":\"Action 0\",\"showlegend\":false,\"x\":[0,1],\"y\":[97,97],\"type\":\"scatter\"},{\"line\":{\"color\":\"rgb(94, 201, 97)\",\"width\":2},\"mode\":\"lines+markers\",\"name\":\"Action 0\",\"showlegend\":false,\"x\":[0,1],\"y\":[98,98],\"type\":\"scatter\"},{\"line\":{\"color\":\"rgb(94, 201, 97)\",\"width\":2},\"mode\":\"lines+markers\",\"name\":\"Action 0\",\"showlegend\":false,\"x\":[0,1],\"y\":[99,99],\"type\":\"scatter\"},{\"line\":{\"color\":\"rgb(94, 201, 97)\",\"width\":2},\"mode\":\"lines+markers\",\"name\":\"Action 0\",\"showlegend\":false,\"x\":[0,1],\"y\":[100,100],\"type\":\"scatter\"},{\"line\":{\"color\":\"rgb(94, 201, 97)\",\"width\":2},\"mode\":\"lines+markers\",\"name\":\"Action 0\",\"showlegend\":false,\"x\":[1,2],\"y\":[5,5],\"type\":\"scatter\"},{\"line\":{\"color\":\"rgb(94, 201, 97)\",\"width\":2},\"mode\":\"lines+markers\",\"name\":\"Action 0\",\"showlegend\":false,\"x\":[1,2],\"y\":[9,9],\"type\":\"scatter\"},{\"line\":{\"color\":\"rgb(94, 201, 97)\",\"width\":2},\"mode\":\"lines+markers\",\"name\":\"Action 0\",\"showlegend\":false,\"x\":[1,2],\"y\":[18,18],\"type\":\"scatter\"},{\"line\":{\"color\":\"rgb(94, 201, 97)\",\"width\":2},\"mode\":\"lines+markers\",\"name\":\"Action 0\",\"showlegend\":false,\"x\":[1,2],\"y\":[19,19],\"type\":\"scatter\"},{\"line\":{\"color\":\"rgb(94, 201, 97)\",\"width\":2},\"mode\":\"lines+markers\",\"name\":\"Action 0\",\"showlegend\":false,\"x\":[1,2],\"y\":[20,20],\"type\":\"scatter\"},{\"line\":{\"color\":\"rgb(94, 201, 97)\",\"width\":2},\"mode\":\"lines+markers\",\"name\":\"Action 0\",\"showlegend\":false,\"x\":[1,2],\"y\":[21,21],\"type\":\"scatter\"},{\"line\":{\"color\":\"rgb(94, 201, 97)\",\"width\":2},\"mode\":\"lines+markers\",\"name\":\"Action 0\",\"showlegend\":false,\"x\":[1,2],\"y\":[28,28],\"type\":\"scatter\"},{\"line\":{\"color\":\"rgb(94, 201, 97)\",\"width\":2},\"mode\":\"lines+markers\",\"name\":\"Action 0\",\"showlegend\":false,\"x\":[1,2],\"y\":[35,35],\"type\":\"scatter\"},{\"line\":{\"color\":\"rgb(94, 201, 97)\",\"width\":2},\"mode\":\"lines+markers\",\"name\":\"Action 0\",\"showlegend\":false,\"x\":[1,2],\"y\":[36,36],\"type\":\"scatter\"},{\"line\":{\"color\":\"rgb(94, 201, 97)\",\"width\":2},\"mode\":\"lines+markers\",\"name\":\"Action 0\",\"showlegend\":false,\"x\":[1,2],\"y\":[50,50],\"type\":\"scatter\"},{\"line\":{\"color\":\"rgb(94, 201, 97)\",\"width\":2},\"mode\":\"lines+markers\",\"name\":\"Action 0\",\"showlegend\":false,\"x\":[1,2],\"y\":[53,53],\"type\":\"scatter\"},{\"line\":{\"color\":\"rgb(94, 201, 97)\",\"width\":2},\"mode\":\"lines+markers\",\"name\":\"Action 0\",\"showlegend\":false,\"x\":[1,2],\"y\":[57,57],\"type\":\"scatter\"},{\"line\":{\"color\":\"rgb(94, 201, 97)\",\"width\":2},\"mode\":\"lines+markers\",\"name\":\"Action 0\",\"showlegend\":false,\"x\":[1,2],\"y\":[58,58],\"type\":\"scatter\"},{\"line\":{\"color\":\"rgb(94, 201, 97)\",\"width\":2},\"mode\":\"lines+markers\",\"name\":\"Action 0\",\"showlegend\":false,\"x\":[1,2],\"y\":[60,60],\"type\":\"scatter\"},{\"line\":{\"color\":\"rgb(94, 201, 97)\",\"width\":2},\"mode\":\"lines+markers\",\"name\":\"Action 0\",\"showlegend\":false,\"x\":[1,2],\"y\":[63,63],\"type\":\"scatter\"},{\"line\":{\"color\":\"rgb(94, 201, 97)\",\"width\":2},\"mode\":\"lines+markers\",\"name\":\"Action 0\",\"showlegend\":false,\"x\":[1,2],\"y\":[67,67],\"type\":\"scatter\"},{\"line\":{\"color\":\"rgb(94, 201, 97)\",\"width\":2},\"mode\":\"lines+markers\",\"name\":\"Action 0\",\"showlegend\":false,\"x\":[1,2],\"y\":[68,68],\"type\":\"scatter\"},{\"line\":{\"color\":\"rgb(94, 201, 97)\",\"width\":2},\"mode\":\"lines+markers\",\"name\":\"Action 0\",\"showlegend\":false,\"x\":[1,2],\"y\":[69,69],\"type\":\"scatter\"},{\"line\":{\"color\":\"rgb(94, 201, 97)\",\"width\":2},\"mode\":\"lines+markers\",\"name\":\"Action 0\",\"showlegend\":false,\"x\":[1,2],\"y\":[78,78],\"type\":\"scatter\"},{\"line\":{\"color\":\"rgb(94, 201, 97)\",\"width\":2},\"mode\":\"lines+markers\",\"name\":\"Action 0\",\"showlegend\":false,\"x\":[1,2],\"y\":[79,79],\"type\":\"scatter\"},{\"line\":{\"color\":\"rgb(94, 201, 97)\",\"width\":2},\"mode\":\"lines+markers\",\"name\":\"Action 0\",\"showlegend\":false,\"x\":[1,2],\"y\":[96,96],\"type\":\"scatter\"},{\"line\":{\"color\":\"rgb(94, 201, 97)\",\"width\":2},\"mode\":\"lines+markers\",\"name\":\"Action 0\",\"showlegend\":false,\"x\":[1,2],\"y\":[97,97],\"type\":\"scatter\"},{\"line\":{\"color\":\"rgb(94, 201, 97)\",\"width\":2},\"mode\":\"lines+markers\",\"name\":\"Action 0\",\"showlegend\":false,\"x\":[1,2],\"y\":[98,98],\"type\":\"scatter\"},{\"line\":{\"color\":\"rgb(94, 201, 97)\",\"width\":2},\"mode\":\"lines+markers\",\"name\":\"Action 0\",\"showlegend\":false,\"x\":[1,2],\"y\":[99,99],\"type\":\"scatter\"},{\"line\":{\"color\":\"rgb(94, 201, 97)\",\"width\":2},\"mode\":\"lines+markers\",\"name\":\"Action 0\",\"showlegend\":false,\"x\":[2,3],\"y\":[14,14],\"type\":\"scatter\"},{\"line\":{\"color\":\"rgb(94, 201, 97)\",\"width\":2},\"mode\":\"lines+markers\",\"name\":\"Action 0\",\"showlegend\":false,\"x\":[2,3],\"y\":[16,16],\"type\":\"scatter\"},{\"line\":{\"color\":\"rgb(94, 201, 97)\",\"width\":2},\"mode\":\"lines+markers\",\"name\":\"Action 0\",\"showlegend\":false,\"x\":[2,3],\"y\":[17,17],\"type\":\"scatter\"},{\"line\":{\"color\":\"rgb(94, 201, 97)\",\"width\":2},\"mode\":\"lines+markers\",\"name\":\"Action 0\",\"showlegend\":false,\"x\":[2,3],\"y\":[24,24],\"type\":\"scatter\"},{\"line\":{\"color\":\"rgb(94, 201, 97)\",\"width\":2},\"mode\":\"lines+markers\",\"name\":\"Action 0\",\"showlegend\":false,\"x\":[2,3],\"y\":[29,29],\"type\":\"scatter\"},{\"line\":{\"color\":\"rgb(94, 201, 97)\",\"width\":2},\"mode\":\"lines+markers\",\"name\":\"Action 0\",\"showlegend\":false,\"x\":[2,3],\"y\":[30,30],\"type\":\"scatter\"},{\"line\":{\"color\":\"rgb(94, 201, 97)\",\"width\":2},\"mode\":\"lines+markers\",\"name\":\"Action 0\",\"showlegend\":false,\"x\":[2,3],\"y\":[36,36],\"type\":\"scatter\"},{\"line\":{\"color\":\"rgb(94, 201, 97)\",\"width\":2},\"mode\":\"lines+markers\",\"name\":\"Action 0\",\"showlegend\":false,\"x\":[2,3],\"y\":[39,39],\"type\":\"scatter\"},{\"line\":{\"color\":\"rgb(94, 201, 97)\",\"width\":2},\"mode\":\"lines+markers\",\"name\":\"Action 0\",\"showlegend\":false,\"x\":[2,3],\"y\":[42,42],\"type\":\"scatter\"},{\"line\":{\"color\":\"rgb(94, 201, 97)\",\"width\":2},\"mode\":\"lines+markers\",\"name\":\"Action 0\",\"showlegend\":false,\"x\":[2,3],\"y\":[45,45],\"type\":\"scatter\"},{\"line\":{\"color\":\"rgb(94, 201, 97)\",\"width\":2},\"mode\":\"lines+markers\",\"name\":\"Action 0\",\"showlegend\":false,\"x\":[2,3],\"y\":[62,62],\"type\":\"scatter\"},{\"line\":{\"color\":\"rgb(94, 201, 97)\",\"width\":2},\"mode\":\"lines+markers\",\"name\":\"Action 0\",\"showlegend\":false,\"x\":[2,3],\"y\":[66,66],\"type\":\"scatter\"},{\"line\":{\"color\":\"rgb(94, 201, 97)\",\"width\":2},\"mode\":\"lines+markers\",\"name\":\"Action 0\",\"showlegend\":false,\"x\":[2,3],\"y\":[77,77],\"type\":\"scatter\"},{\"line\":{\"color\":\"rgb(94, 201, 97)\",\"width\":2},\"mode\":\"lines+markers\",\"name\":\"Action 0\",\"showlegend\":false,\"x\":[2,3],\"y\":[80,80],\"type\":\"scatter\"},{\"line\":{\"color\":\"rgb(94, 201, 97)\",\"width\":2},\"mode\":\"lines+markers\",\"name\":\"Action 0\",\"showlegend\":false,\"x\":[2,3],\"y\":[97,97],\"type\":\"scatter\"},{\"line\":{\"color\":\"rgb(94, 201, 97)\",\"width\":2},\"mode\":\"lines+markers\",\"name\":\"Action 0\",\"showlegend\":false,\"x\":[2,3],\"y\":[98,98],\"type\":\"scatter\"},{\"line\":{\"color\":\"rgb(94, 201, 97)\",\"width\":2},\"mode\":\"lines+markers\",\"name\":\"Action 0\",\"showlegend\":false,\"x\":[2,3],\"y\":[99,99],\"type\":\"scatter\"},{\"line\":{\"color\":\"rgb(94, 201, 97)\",\"width\":2},\"mode\":\"lines+markers\",\"name\":\"Action 0\",\"showlegend\":false,\"x\":[2,3],\"y\":[100,100],\"type\":\"scatter\"},{\"line\":{\"color\":\"rgb(94, 201, 97)\",\"width\":2},\"mode\":\"lines+markers\",\"name\":\"Action 0\",\"showlegend\":false,\"x\":[3,4],\"y\":[4,4],\"type\":\"scatter\"},{\"line\":{\"color\":\"rgb(94, 201, 97)\",\"width\":2},\"mode\":\"lines+markers\",\"name\":\"Action 0\",\"showlegend\":false,\"x\":[3,4],\"y\":[10,10],\"type\":\"scatter\"},{\"line\":{\"color\":\"rgb(94, 201, 97)\",\"width\":2},\"mode\":\"lines+markers\",\"name\":\"Action 0\",\"showlegend\":false,\"x\":[3,4],\"y\":[22,22],\"type\":\"scatter\"},{\"line\":{\"color\":\"rgb(94, 201, 97)\",\"width\":2},\"mode\":\"lines+markers\",\"name\":\"Action 0\",\"showlegend\":false,\"x\":[3,4],\"y\":[25,25],\"type\":\"scatter\"},{\"line\":{\"color\":\"rgb(94, 201, 97)\",\"width\":2},\"mode\":\"lines+markers\",\"name\":\"Action 0\",\"showlegend\":false,\"x\":[3,4],\"y\":[34,34],\"type\":\"scatter\"},{\"line\":{\"color\":\"rgb(94, 201, 97)\",\"width\":2},\"mode\":\"lines+markers\",\"name\":\"Action 0\",\"showlegend\":false,\"x\":[3,4],\"y\":[39,39],\"type\":\"scatter\"},{\"line\":{\"color\":\"rgb(94, 201, 97)\",\"width\":2},\"mode\":\"lines+markers\",\"name\":\"Action 0\",\"showlegend\":false,\"x\":[3,4],\"y\":[44,44],\"type\":\"scatter\"},{\"line\":{\"color\":\"rgb(94, 201, 97)\",\"width\":2},\"mode\":\"lines+markers\",\"name\":\"Action 0\",\"showlegend\":false,\"x\":[3,4],\"y\":[51,51],\"type\":\"scatter\"},{\"line\":{\"color\":\"rgb(94, 201, 97)\",\"width\":2},\"mode\":\"lines+markers\",\"name\":\"Action 0\",\"showlegend\":false,\"x\":[3,4],\"y\":[67,67],\"type\":\"scatter\"},{\"line\":{\"color\":\"rgb(94, 201, 97)\",\"width\":2},\"mode\":\"lines+markers\",\"name\":\"Action 0\",\"showlegend\":false,\"x\":[3,4],\"y\":[73,73],\"type\":\"scatter\"},{\"line\":{\"color\":\"rgb(94, 201, 97)\",\"width\":2},\"mode\":\"lines+markers\",\"name\":\"Action 0\",\"showlegend\":false,\"x\":[3,4],\"y\":[77,77],\"type\":\"scatter\"},{\"line\":{\"color\":\"rgb(94, 201, 97)\",\"width\":2},\"mode\":\"lines+markers\",\"name\":\"Action 0\",\"showlegend\":false,\"x\":[3,4],\"y\":[92,92],\"type\":\"scatter\"},{\"line\":{\"color\":\"rgb(94, 201, 97)\",\"width\":2},\"mode\":\"lines+markers\",\"name\":\"Action 0\",\"showlegend\":false,\"x\":[3,4],\"y\":[96,96],\"type\":\"scatter\"},{\"line\":{\"color\":\"rgb(94, 201, 97)\",\"width\":2},\"mode\":\"lines+markers\",\"name\":\"Action 0\",\"showlegend\":false,\"x\":[3,4],\"y\":[97,97],\"type\":\"scatter\"},{\"line\":{\"color\":\"rgb(94, 201, 97)\",\"width\":2},\"mode\":\"lines+markers\",\"name\":\"Action 0\",\"showlegend\":false,\"x\":[3,4],\"y\":[98,98],\"type\":\"scatter\"},{\"line\":{\"color\":\"rgb(94, 201, 97)\",\"width\":2},\"mode\":\"lines+markers\",\"name\":\"Action 0\",\"showlegend\":false,\"x\":[3,4],\"y\":[99,99],\"type\":\"scatter\"},{\"line\":{\"color\":\"rgb(94, 201, 97)\",\"width\":2},\"mode\":\"lines+markers\",\"name\":\"Action 0\",\"showlegend\":false,\"x\":[3,4],\"y\":[100,100],\"type\":\"scatter\"},{\"line\":{\"color\":\"rgb(94, 201, 97)\",\"width\":2},\"mode\":\"lines+markers\",\"name\":\"Action 0\",\"showlegend\":false,\"x\":[4,5],\"y\":[14,14],\"type\":\"scatter\"},{\"line\":{\"color\":\"rgb(94, 201, 97)\",\"width\":2},\"mode\":\"lines+markers\",\"name\":\"Action 0\",\"showlegend\":false,\"x\":[4,5],\"y\":[16,16],\"type\":\"scatter\"},{\"line\":{\"color\":\"rgb(94, 201, 97)\",\"width\":2},\"mode\":\"lines+markers\",\"name\":\"Action 0\",\"showlegend\":false,\"x\":[4,5],\"y\":[27,27],\"type\":\"scatter\"},{\"line\":{\"color\":\"rgb(94, 201, 97)\",\"width\":2},\"mode\":\"lines+markers\",\"name\":\"Action 0\",\"showlegend\":false,\"x\":[4,5],\"y\":[30,30],\"type\":\"scatter\"},{\"line\":{\"color\":\"rgb(94, 201, 97)\",\"width\":2},\"mode\":\"lines+markers\",\"name\":\"Action 0\",\"showlegend\":false,\"x\":[4,5],\"y\":[39,39],\"type\":\"scatter\"},{\"line\":{\"color\":\"rgb(94, 201, 97)\",\"width\":2},\"mode\":\"lines+markers\",\"name\":\"Action 0\",\"showlegend\":false,\"x\":[4,5],\"y\":[44,44],\"type\":\"scatter\"},{\"line\":{\"color\":\"rgb(94, 201, 97)\",\"width\":2},\"mode\":\"lines+markers\",\"name\":\"Action 0\",\"showlegend\":false,\"x\":[4,5],\"y\":[49,49],\"type\":\"scatter\"},{\"line\":{\"color\":\"rgb(94, 201, 97)\",\"width\":2},\"mode\":\"lines+markers\",\"name\":\"Action 0\",\"showlegend\":false,\"x\":[4,5],\"y\":[51,51],\"type\":\"scatter\"},{\"line\":{\"color\":\"rgb(94, 201, 97)\",\"width\":2},\"mode\":\"lines+markers\",\"name\":\"Action 0\",\"showlegend\":false,\"x\":[4,5],\"y\":[54,54],\"type\":\"scatter\"},{\"line\":{\"color\":\"rgb(94, 201, 97)\",\"width\":2},\"mode\":\"lines+markers\",\"name\":\"Action 0\",\"showlegend\":false,\"x\":[4,5],\"y\":[61,61],\"type\":\"scatter\"},{\"line\":{\"color\":\"rgb(94, 201, 97)\",\"width\":2},\"mode\":\"lines+markers\",\"name\":\"Action 0\",\"showlegend\":false,\"x\":[4,5],\"y\":[94,94],\"type\":\"scatter\"},{\"line\":{\"color\":\"rgb(94, 201, 97)\",\"width\":2},\"mode\":\"lines+markers\",\"name\":\"Action 0\",\"showlegend\":false,\"x\":[4,5],\"y\":[96,96],\"type\":\"scatter\"},{\"line\":{\"color\":\"rgb(94, 201, 97)\",\"width\":2},\"mode\":\"lines+markers\",\"name\":\"Action 0\",\"showlegend\":false,\"x\":[4,5],\"y\":[97,97],\"type\":\"scatter\"},{\"line\":{\"color\":\"rgb(94, 201, 97)\",\"width\":2},\"mode\":\"lines+markers\",\"name\":\"Action 0\",\"showlegend\":false,\"x\":[4,5],\"y\":[98,98],\"type\":\"scatter\"},{\"line\":{\"color\":\"rgb(94, 201, 97)\",\"width\":2},\"mode\":\"lines+markers\",\"name\":\"Action 0\",\"showlegend\":false,\"x\":[4,5],\"y\":[99,99],\"type\":\"scatter\"},{\"line\":{\"color\":\"rgb(94, 201, 97)\",\"width\":2},\"mode\":\"lines+markers\",\"name\":\"Action 0\",\"showlegend\":false,\"x\":[4,5],\"y\":[100,100],\"type\":\"scatter\"},{\"line\":{\"color\":\"rgb(94, 201, 97)\",\"width\":2},\"mode\":\"lines+markers\",\"name\":\"Action 0\",\"showlegend\":false,\"x\":[5,6],\"y\":[24,24],\"type\":\"scatter\"},{\"line\":{\"color\":\"rgb(94, 201, 97)\",\"width\":2},\"mode\":\"lines+markers\",\"name\":\"Action 0\",\"showlegend\":false,\"x\":[5,6],\"y\":[41,41],\"type\":\"scatter\"},{\"line\":{\"color\":\"rgb(94, 201, 97)\",\"width\":2},\"mode\":\"lines+markers\",\"name\":\"Action 0\",\"showlegend\":false,\"x\":[5,6],\"y\":[51,51],\"type\":\"scatter\"},{\"line\":{\"color\":\"rgb(94, 201, 97)\",\"width\":2},\"mode\":\"lines+markers\",\"name\":\"Action 0\",\"showlegend\":false,\"x\":[5,6],\"y\":[52,52],\"type\":\"scatter\"},{\"line\":{\"color\":\"rgb(94, 201, 97)\",\"width\":2},\"mode\":\"lines+markers\",\"name\":\"Action 0\",\"showlegend\":false,\"x\":[5,6],\"y\":[54,54],\"type\":\"scatter\"},{\"line\":{\"color\":\"rgb(94, 201, 97)\",\"width\":2},\"mode\":\"lines+markers\",\"name\":\"Action 0\",\"showlegend\":false,\"x\":[5,6],\"y\":[56,56],\"type\":\"scatter\"},{\"line\":{\"color\":\"rgb(94, 201, 97)\",\"width\":2},\"mode\":\"lines+markers\",\"name\":\"Action 0\",\"showlegend\":false,\"x\":[5,6],\"y\":[57,57],\"type\":\"scatter\"},{\"line\":{\"color\":\"rgb(94, 201, 97)\",\"width\":2},\"mode\":\"lines+markers\",\"name\":\"Action 0\",\"showlegend\":false,\"x\":[5,6],\"y\":[66,66],\"type\":\"scatter\"},{\"line\":{\"color\":\"rgb(94, 201, 97)\",\"width\":2},\"mode\":\"lines+markers\",\"name\":\"Action 0\",\"showlegend\":false,\"x\":[5,6],\"y\":[69,69],\"type\":\"scatter\"},{\"line\":{\"color\":\"rgb(94, 201, 97)\",\"width\":2},\"mode\":\"lines+markers\",\"name\":\"Action 0\",\"showlegend\":false,\"x\":[5,6],\"y\":[74,74],\"type\":\"scatter\"},{\"line\":{\"color\":\"rgb(94, 201, 97)\",\"width\":2},\"mode\":\"lines+markers\",\"name\":\"Action 0\",\"showlegend\":false,\"x\":[5,6],\"y\":[76,76],\"type\":\"scatter\"},{\"line\":{\"color\":\"rgb(94, 201, 97)\",\"width\":2},\"mode\":\"lines+markers\",\"name\":\"Action 0\",\"showlegend\":false,\"x\":[5,6],\"y\":[85,85],\"type\":\"scatter\"},{\"line\":{\"color\":\"rgb(94, 201, 97)\",\"width\":2},\"mode\":\"lines+markers\",\"name\":\"Action 0\",\"showlegend\":false,\"x\":[5,6],\"y\":[90,90],\"type\":\"scatter\"},{\"line\":{\"color\":\"rgb(94, 201, 97)\",\"width\":2},\"mode\":\"lines+markers\",\"name\":\"Action 0\",\"showlegend\":false,\"x\":[5,6],\"y\":[91,91],\"type\":\"scatter\"},{\"line\":{\"color\":\"rgb(94, 201, 97)\",\"width\":2},\"mode\":\"lines+markers\",\"name\":\"Action 0\",\"showlegend\":false,\"x\":[5,6],\"y\":[94,94],\"type\":\"scatter\"},{\"line\":{\"color\":\"rgb(94, 201, 97)\",\"width\":2},\"mode\":\"lines+markers\",\"name\":\"Action 0\",\"showlegend\":false,\"x\":[5,6],\"y\":[96,96],\"type\":\"scatter\"},{\"line\":{\"color\":\"rgb(94, 201, 97)\",\"width\":2},\"mode\":\"lines+markers\",\"name\":\"Action 0\",\"showlegend\":false,\"x\":[5,6],\"y\":[97,97],\"type\":\"scatter\"},{\"line\":{\"color\":\"rgb(94, 201, 97)\",\"width\":2},\"mode\":\"lines+markers\",\"name\":\"Action 0\",\"showlegend\":false,\"x\":[5,6],\"y\":[98,98],\"type\":\"scatter\"},{\"line\":{\"color\":\"rgb(94, 201, 97)\",\"width\":2},\"mode\":\"lines+markers\",\"name\":\"Action 0\",\"showlegend\":false,\"x\":[5,6],\"y\":[99,99],\"type\":\"scatter\"},{\"line\":{\"color\":\"rgb(94, 201, 97)\",\"width\":2},\"mode\":\"lines+markers\",\"name\":\"Action 0\",\"showlegend\":false,\"x\":[5,6],\"y\":[100,100],\"type\":\"scatter\"},{\"line\":{\"color\":\"rgb(94, 201, 97)\",\"width\":2},\"mode\":\"lines+markers\",\"name\":\"Action 0\",\"showlegend\":false,\"x\":[6,7],\"y\":[31,31],\"type\":\"scatter\"},{\"line\":{\"color\":\"rgb(94, 201, 97)\",\"width\":2},\"mode\":\"lines+markers\",\"name\":\"Action 0\",\"showlegend\":false,\"x\":[6,7],\"y\":[38,38],\"type\":\"scatter\"},{\"line\":{\"color\":\"rgb(94, 201, 97)\",\"width\":2},\"mode\":\"lines+markers\",\"name\":\"Action 0\",\"showlegend\":false,\"x\":[6,7],\"y\":[47,47],\"type\":\"scatter\"},{\"line\":{\"color\":\"rgb(94, 201, 97)\",\"width\":2},\"mode\":\"lines+markers\",\"name\":\"Action 0\",\"showlegend\":false,\"x\":[6,7],\"y\":[51,51],\"type\":\"scatter\"},{\"line\":{\"color\":\"rgb(94, 201, 97)\",\"width\":2},\"mode\":\"lines+markers\",\"name\":\"Action 0\",\"showlegend\":false,\"x\":[6,7],\"y\":[54,54],\"type\":\"scatter\"},{\"line\":{\"color\":\"rgb(94, 201, 97)\",\"width\":2},\"mode\":\"lines+markers\",\"name\":\"Action 0\",\"showlegend\":false,\"x\":[6,7],\"y\":[56,56],\"type\":\"scatter\"},{\"line\":{\"color\":\"rgb(94, 201, 97)\",\"width\":2},\"mode\":\"lines+markers\",\"name\":\"Action 0\",\"showlegend\":false,\"x\":[6,7],\"y\":[58,58],\"type\":\"scatter\"},{\"line\":{\"color\":\"rgb(94, 201, 97)\",\"width\":2},\"mode\":\"lines+markers\",\"name\":\"Action 0\",\"showlegend\":false,\"x\":[6,7],\"y\":[59,59],\"type\":\"scatter\"},{\"line\":{\"color\":\"rgb(94, 201, 97)\",\"width\":2},\"mode\":\"lines+markers\",\"name\":\"Action 0\",\"showlegend\":false,\"x\":[6,7],\"y\":[60,60],\"type\":\"scatter\"},{\"line\":{\"color\":\"rgb(94, 201, 97)\",\"width\":2},\"mode\":\"lines+markers\",\"name\":\"Action 0\",\"showlegend\":false,\"x\":[6,7],\"y\":[61,61],\"type\":\"scatter\"},{\"line\":{\"color\":\"rgb(94, 201, 97)\",\"width\":2},\"mode\":\"lines+markers\",\"name\":\"Action 0\",\"showlegend\":false,\"x\":[6,7],\"y\":[64,64],\"type\":\"scatter\"},{\"line\":{\"color\":\"rgb(94, 201, 97)\",\"width\":2},\"mode\":\"lines+markers\",\"name\":\"Action 0\",\"showlegend\":false,\"x\":[6,7],\"y\":[65,65],\"type\":\"scatter\"},{\"line\":{\"color\":\"rgb(94, 201, 97)\",\"width\":2},\"mode\":\"lines+markers\",\"name\":\"Action 0\",\"showlegend\":false,\"x\":[6,7],\"y\":[66,66],\"type\":\"scatter\"},{\"line\":{\"color\":\"rgb(94, 201, 97)\",\"width\":2},\"mode\":\"lines+markers\",\"name\":\"Action 0\",\"showlegend\":false,\"x\":[6,7],\"y\":[67,67],\"type\":\"scatter\"},{\"line\":{\"color\":\"rgb(94, 201, 97)\",\"width\":2},\"mode\":\"lines+markers\",\"name\":\"Action 0\",\"showlegend\":false,\"x\":[6,7],\"y\":[73,73],\"type\":\"scatter\"},{\"line\":{\"color\":\"rgb(94, 201, 97)\",\"width\":2},\"mode\":\"lines+markers\",\"name\":\"Action 0\",\"showlegend\":false,\"x\":[6,7],\"y\":[78,78],\"type\":\"scatter\"},{\"line\":{\"color\":\"rgb(94, 201, 97)\",\"width\":2},\"mode\":\"lines+markers\",\"name\":\"Action 0\",\"showlegend\":false,\"x\":[6,7],\"y\":[80,80],\"type\":\"scatter\"},{\"line\":{\"color\":\"rgb(94, 201, 97)\",\"width\":2},\"mode\":\"lines+markers\",\"name\":\"Action 0\",\"showlegend\":false,\"x\":[6,7],\"y\":[85,85],\"type\":\"scatter\"},{\"line\":{\"color\":\"rgb(94, 201, 97)\",\"width\":2},\"mode\":\"lines+markers\",\"name\":\"Action 0\",\"showlegend\":false,\"x\":[6,7],\"y\":[96,96],\"type\":\"scatter\"},{\"line\":{\"color\":\"rgb(94, 201, 97)\",\"width\":2},\"mode\":\"lines+markers\",\"name\":\"Action 0\",\"showlegend\":false,\"x\":[6,7],\"y\":[97,97],\"type\":\"scatter\"},{\"line\":{\"color\":\"rgb(94, 201, 97)\",\"width\":2},\"mode\":\"lines+markers\",\"name\":\"Action 0\",\"showlegend\":false,\"x\":[6,7],\"y\":[98,98],\"type\":\"scatter\"},{\"line\":{\"color\":\"rgb(94, 201, 97)\",\"width\":2},\"mode\":\"lines+markers\",\"name\":\"Action 0\",\"showlegend\":false,\"x\":[6,7],\"y\":[99,99],\"type\":\"scatter\"},{\"line\":{\"color\":\"rgb(94, 201, 97)\",\"width\":2},\"mode\":\"lines+markers\",\"name\":\"Action 0\",\"showlegend\":false,\"x\":[6,7],\"y\":[100,100],\"type\":\"scatter\"},{\"line\":{\"color\":\"rgb(94, 201, 97)\",\"width\":2},\"mode\":\"lines+markers\",\"name\":\"Action 0\",\"showlegend\":false,\"x\":[7,8],\"y\":[0,0],\"type\":\"scatter\"},{\"line\":{\"color\":\"rgb(94, 201, 97)\",\"width\":2},\"mode\":\"lines+markers\",\"name\":\"Action 0\",\"showlegend\":false,\"x\":[7,8],\"y\":[5,5],\"type\":\"scatter\"},{\"line\":{\"color\":\"rgb(94, 201, 97)\",\"width\":2},\"mode\":\"lines+markers\",\"name\":\"Action 0\",\"showlegend\":false,\"x\":[7,8],\"y\":[6,6],\"type\":\"scatter\"},{\"line\":{\"color\":\"rgb(94, 201, 97)\",\"width\":2},\"mode\":\"lines+markers\",\"name\":\"Action 0\",\"showlegend\":false,\"x\":[7,8],\"y\":[13,13],\"type\":\"scatter\"},{\"line\":{\"color\":\"rgb(94, 201, 97)\",\"width\":2},\"mode\":\"lines+markers\",\"name\":\"Action 0\",\"showlegend\":false,\"x\":[7,8],\"y\":[42,42],\"type\":\"scatter\"},{\"line\":{\"color\":\"rgb(94, 201, 97)\",\"width\":2},\"mode\":\"lines+markers\",\"name\":\"Action 0\",\"showlegend\":false,\"x\":[7,8],\"y\":[43,43],\"type\":\"scatter\"},{\"line\":{\"color\":\"rgb(94, 201, 97)\",\"width\":2},\"mode\":\"lines+markers\",\"name\":\"Action 0\",\"showlegend\":false,\"x\":[7,8],\"y\":[44,44],\"type\":\"scatter\"},{\"line\":{\"color\":\"rgb(94, 201, 97)\",\"width\":2},\"mode\":\"lines+markers\",\"name\":\"Action 0\",\"showlegend\":false,\"x\":[7,8],\"y\":[47,47],\"type\":\"scatter\"},{\"line\":{\"color\":\"rgb(94, 201, 97)\",\"width\":2},\"mode\":\"lines+markers\",\"name\":\"Action 0\",\"showlegend\":false,\"x\":[7,8],\"y\":[48,48],\"type\":\"scatter\"},{\"line\":{\"color\":\"rgb(94, 201, 97)\",\"width\":2},\"mode\":\"lines+markers\",\"name\":\"Action 0\",\"showlegend\":false,\"x\":[7,8],\"y\":[49,49],\"type\":\"scatter\"},{\"line\":{\"color\":\"rgb(94, 201, 97)\",\"width\":2},\"mode\":\"lines+markers\",\"name\":\"Action 0\",\"showlegend\":false,\"x\":[7,8],\"y\":[50,50],\"type\":\"scatter\"},{\"line\":{\"color\":\"rgb(94, 201, 97)\",\"width\":2},\"mode\":\"lines+markers\",\"name\":\"Action 0\",\"showlegend\":false,\"x\":[7,8],\"y\":[51,51],\"type\":\"scatter\"},{\"line\":{\"color\":\"rgb(94, 201, 97)\",\"width\":2},\"mode\":\"lines+markers\",\"name\":\"Action 0\",\"showlegend\":false,\"x\":[7,8],\"y\":[52,52],\"type\":\"scatter\"},{\"line\":{\"color\":\"rgb(94, 201, 97)\",\"width\":2},\"mode\":\"lines+markers\",\"name\":\"Action 0\",\"showlegend\":false,\"x\":[7,8],\"y\":[53,53],\"type\":\"scatter\"},{\"line\":{\"color\":\"rgb(94, 201, 97)\",\"width\":2},\"mode\":\"lines+markers\",\"name\":\"Action 0\",\"showlegend\":false,\"x\":[7,8],\"y\":[54,54],\"type\":\"scatter\"},{\"line\":{\"color\":\"rgb(94, 201, 97)\",\"width\":2},\"mode\":\"lines+markers\",\"name\":\"Action 0\",\"showlegend\":false,\"x\":[7,8],\"y\":[55,55],\"type\":\"scatter\"},{\"line\":{\"color\":\"rgb(94, 201, 97)\",\"width\":2},\"mode\":\"lines+markers\",\"name\":\"Action 0\",\"showlegend\":false,\"x\":[7,8],\"y\":[56,56],\"type\":\"scatter\"},{\"line\":{\"color\":\"rgb(94, 201, 97)\",\"width\":2},\"mode\":\"lines+markers\",\"name\":\"Action 0\",\"showlegend\":false,\"x\":[7,8],\"y\":[57,57],\"type\":\"scatter\"},{\"line\":{\"color\":\"rgb(94, 201, 97)\",\"width\":2},\"mode\":\"lines+markers\",\"name\":\"Action 0\",\"showlegend\":false,\"x\":[7,8],\"y\":[58,58],\"type\":\"scatter\"},{\"line\":{\"color\":\"rgb(94, 201, 97)\",\"width\":2},\"mode\":\"lines+markers\",\"name\":\"Action 0\",\"showlegend\":false,\"x\":[7,8],\"y\":[59,59],\"type\":\"scatter\"},{\"line\":{\"color\":\"rgb(94, 201, 97)\",\"width\":2},\"mode\":\"lines+markers\",\"name\":\"Action 0\",\"showlegend\":false,\"x\":[7,8],\"y\":[60,60],\"type\":\"scatter\"},{\"line\":{\"color\":\"rgb(94, 201, 97)\",\"width\":2},\"mode\":\"lines+markers\",\"name\":\"Action 0\",\"showlegend\":false,\"x\":[7,8],\"y\":[61,61],\"type\":\"scatter\"},{\"line\":{\"color\":\"rgb(94, 201, 97)\",\"width\":2},\"mode\":\"lines+markers\",\"name\":\"Action 0\",\"showlegend\":false,\"x\":[7,8],\"y\":[62,62],\"type\":\"scatter\"},{\"line\":{\"color\":\"rgb(94, 201, 97)\",\"width\":2},\"mode\":\"lines+markers\",\"name\":\"Action 0\",\"showlegend\":false,\"x\":[7,8],\"y\":[63,63],\"type\":\"scatter\"},{\"line\":{\"color\":\"rgb(94, 201, 97)\",\"width\":2},\"mode\":\"lines+markers\",\"name\":\"Action 0\",\"showlegend\":false,\"x\":[7,8],\"y\":[64,64],\"type\":\"scatter\"},{\"line\":{\"color\":\"rgb(94, 201, 97)\",\"width\":2},\"mode\":\"lines+markers\",\"name\":\"Action 0\",\"showlegend\":false,\"x\":[7,8],\"y\":[65,65],\"type\":\"scatter\"},{\"line\":{\"color\":\"rgb(94, 201, 97)\",\"width\":2},\"mode\":\"lines+markers\",\"name\":\"Action 0\",\"showlegend\":false,\"x\":[7,8],\"y\":[66,66],\"type\":\"scatter\"},{\"line\":{\"color\":\"rgb(94, 201, 97)\",\"width\":2},\"mode\":\"lines+markers\",\"name\":\"Action 0\",\"showlegend\":false,\"x\":[7,8],\"y\":[67,67],\"type\":\"scatter\"},{\"line\":{\"color\":\"rgb(94, 201, 97)\",\"width\":2},\"mode\":\"lines+markers\",\"name\":\"Action 0\",\"showlegend\":false,\"x\":[7,8],\"y\":[68,68],\"type\":\"scatter\"},{\"line\":{\"color\":\"rgb(94, 201, 97)\",\"width\":2},\"mode\":\"lines+markers\",\"name\":\"Action 0\",\"showlegend\":false,\"x\":[7,8],\"y\":[69,69],\"type\":\"scatter\"},{\"line\":{\"color\":\"rgb(94, 201, 97)\",\"width\":2},\"mode\":\"lines+markers\",\"name\":\"Action 0\",\"showlegend\":false,\"x\":[7,8],\"y\":[70,70],\"type\":\"scatter\"},{\"line\":{\"color\":\"rgb(94, 201, 97)\",\"width\":2},\"mode\":\"lines+markers\",\"name\":\"Action 0\",\"showlegend\":false,\"x\":[7,8],\"y\":[71,71],\"type\":\"scatter\"},{\"line\":{\"color\":\"rgb(94, 201, 97)\",\"width\":2},\"mode\":\"lines+markers\",\"name\":\"Action 0\",\"showlegend\":false,\"x\":[7,8],\"y\":[72,72],\"type\":\"scatter\"},{\"line\":{\"color\":\"rgb(94, 201, 97)\",\"width\":2},\"mode\":\"lines+markers\",\"name\":\"Action 0\",\"showlegend\":false,\"x\":[7,8],\"y\":[73,73],\"type\":\"scatter\"},{\"line\":{\"color\":\"rgb(94, 201, 97)\",\"width\":2},\"mode\":\"lines+markers\",\"name\":\"Action 0\",\"showlegend\":false,\"x\":[7,8],\"y\":[74,74],\"type\":\"scatter\"},{\"line\":{\"color\":\"rgb(94, 201, 97)\",\"width\":2},\"mode\":\"lines+markers\",\"name\":\"Action 0\",\"showlegend\":false,\"x\":[7,8],\"y\":[75,75],\"type\":\"scatter\"},{\"line\":{\"color\":\"rgb(94, 201, 97)\",\"width\":2},\"mode\":\"lines+markers\",\"name\":\"Action 0\",\"showlegend\":false,\"x\":[7,8],\"y\":[76,76],\"type\":\"scatter\"},{\"line\":{\"color\":\"rgb(94, 201, 97)\",\"width\":2},\"mode\":\"lines+markers\",\"name\":\"Action 0\",\"showlegend\":false,\"x\":[7,8],\"y\":[77,77],\"type\":\"scatter\"},{\"line\":{\"color\":\"rgb(94, 201, 97)\",\"width\":2},\"mode\":\"lines+markers\",\"name\":\"Action 0\",\"showlegend\":false,\"x\":[7,8],\"y\":[78,78],\"type\":\"scatter\"},{\"line\":{\"color\":\"rgb(94, 201, 97)\",\"width\":2},\"mode\":\"lines+markers\",\"name\":\"Action 0\",\"showlegend\":false,\"x\":[7,8],\"y\":[79,79],\"type\":\"scatter\"},{\"line\":{\"color\":\"rgb(94, 201, 97)\",\"width\":2},\"mode\":\"lines+markers\",\"name\":\"Action 0\",\"showlegend\":false,\"x\":[7,8],\"y\":[80,80],\"type\":\"scatter\"},{\"line\":{\"color\":\"rgb(94, 201, 97)\",\"width\":2},\"mode\":\"lines+markers\",\"name\":\"Action 0\",\"showlegend\":false,\"x\":[7,8],\"y\":[81,81],\"type\":\"scatter\"},{\"line\":{\"color\":\"rgb(94, 201, 97)\",\"width\":2},\"mode\":\"lines+markers\",\"name\":\"Action 0\",\"showlegend\":false,\"x\":[7,8],\"y\":[82,82],\"type\":\"scatter\"},{\"line\":{\"color\":\"rgb(94, 201, 97)\",\"width\":2},\"mode\":\"lines+markers\",\"name\":\"Action 0\",\"showlegend\":false,\"x\":[7,8],\"y\":[83,83],\"type\":\"scatter\"},{\"line\":{\"color\":\"rgb(94, 201, 97)\",\"width\":2},\"mode\":\"lines+markers\",\"name\":\"Action 0\",\"showlegend\":false,\"x\":[7,8],\"y\":[84,84],\"type\":\"scatter\"},{\"line\":{\"color\":\"rgb(94, 201, 97)\",\"width\":2},\"mode\":\"lines+markers\",\"name\":\"Action 0\",\"showlegend\":false,\"x\":[7,8],\"y\":[85,85],\"type\":\"scatter\"},{\"line\":{\"color\":\"rgb(94, 201, 97)\",\"width\":2},\"mode\":\"lines+markers\",\"name\":\"Action 0\",\"showlegend\":false,\"x\":[7,8],\"y\":[86,86],\"type\":\"scatter\"},{\"line\":{\"color\":\"rgb(94, 201, 97)\",\"width\":2},\"mode\":\"lines+markers\",\"name\":\"Action 0\",\"showlegend\":false,\"x\":[7,8],\"y\":[87,87],\"type\":\"scatter\"},{\"line\":{\"color\":\"rgb(94, 201, 97)\",\"width\":2},\"mode\":\"lines+markers\",\"name\":\"Action 0\",\"showlegend\":false,\"x\":[7,8],\"y\":[88,88],\"type\":\"scatter\"},{\"line\":{\"color\":\"rgb(94, 201, 97)\",\"width\":2},\"mode\":\"lines+markers\",\"name\":\"Action 0\",\"showlegend\":false,\"x\":[7,8],\"y\":[89,89],\"type\":\"scatter\"},{\"line\":{\"color\":\"rgb(94, 201, 97)\",\"width\":2},\"mode\":\"lines+markers\",\"name\":\"Action 0\",\"showlegend\":false,\"x\":[7,8],\"y\":[90,90],\"type\":\"scatter\"},{\"line\":{\"color\":\"rgb(94, 201, 97)\",\"width\":2},\"mode\":\"lines+markers\",\"name\":\"Action 0\",\"showlegend\":false,\"x\":[7,8],\"y\":[91,91],\"type\":\"scatter\"},{\"line\":{\"color\":\"rgb(94, 201, 97)\",\"width\":2},\"mode\":\"lines+markers\",\"name\":\"Action 0\",\"showlegend\":false,\"x\":[7,8],\"y\":[92,92],\"type\":\"scatter\"},{\"line\":{\"color\":\"rgb(94, 201, 97)\",\"width\":2},\"mode\":\"lines+markers\",\"name\":\"Action 0\",\"showlegend\":false,\"x\":[7,8],\"y\":[93,93],\"type\":\"scatter\"},{\"line\":{\"color\":\"rgb(94, 201, 97)\",\"width\":2},\"mode\":\"lines+markers\",\"name\":\"Action 0\",\"showlegend\":false,\"x\":[7,8],\"y\":[94,94],\"type\":\"scatter\"},{\"line\":{\"color\":\"rgb(94, 201, 97)\",\"width\":2},\"mode\":\"lines+markers\",\"name\":\"Action 0\",\"showlegend\":false,\"x\":[7,8],\"y\":[95,95],\"type\":\"scatter\"},{\"line\":{\"color\":\"rgb(94, 201, 97)\",\"width\":2},\"mode\":\"lines+markers\",\"name\":\"Action 0\",\"showlegend\":false,\"x\":[7,8],\"y\":[96,96],\"type\":\"scatter\"},{\"line\":{\"color\":\"rgb(94, 201, 97)\",\"width\":2},\"mode\":\"lines+markers\",\"name\":\"Action 0\",\"showlegend\":false,\"x\":[7,8],\"y\":[97,97],\"type\":\"scatter\"},{\"line\":{\"color\":\"rgb(94, 201, 97)\",\"width\":2},\"mode\":\"lines+markers\",\"name\":\"Action 0\",\"showlegend\":false,\"x\":[7,8],\"y\":[98,98],\"type\":\"scatter\"},{\"line\":{\"color\":\"rgb(94, 201, 97)\",\"width\":2},\"mode\":\"lines+markers\",\"name\":\"Action 0\",\"showlegend\":false,\"x\":[7,8],\"y\":[99,99],\"type\":\"scatter\"},{\"line\":{\"color\":\"rgb(253, 231, 36)\",\"width\":2},\"mode\":\"lines+markers\",\"name\":\"Action 17\",\"showlegend\":true,\"x\":[1,2],\"y\":[100,100],\"type\":\"scatter\"},{\"line\":{\"color\":\"rgb(253, 231, 36)\",\"width\":2},\"mode\":\"lines+markers\",\"name\":\"Action 17\",\"showlegend\":false,\"x\":[3,4],\"y\":[59,76],\"type\":\"scatter\"},{\"line\":{\"color\":\"rgb(253, 231, 36)\",\"width\":2},\"mode\":\"lines+markers\",\"name\":\"Action 17\",\"showlegend\":false,\"x\":[4,5],\"y\":[0,17],\"type\":\"scatter\"},{\"line\":{\"color\":\"rgb(253, 231, 36)\",\"width\":2},\"mode\":\"lines+markers\",\"name\":\"Action 17\",\"showlegend\":false,\"x\":[4,5],\"y\":[5,22],\"type\":\"scatter\"},{\"line\":{\"color\":\"rgb(253, 231, 36)\",\"width\":2},\"mode\":\"lines+markers\",\"name\":\"Action 17\",\"showlegend\":false,\"x\":[5,6],\"y\":[0,17],\"type\":\"scatter\"},{\"line\":{\"color\":\"rgb(253, 231, 36)\",\"width\":2},\"mode\":\"lines+markers\",\"name\":\"Action 17\",\"showlegend\":false,\"x\":[5,6],\"y\":[10,27],\"type\":\"scatter\"},{\"line\":{\"color\":\"rgb(253, 231, 36)\",\"width\":2},\"mode\":\"lines+markers\",\"name\":\"Action 17\",\"showlegend\":false,\"x\":[5,6],\"y\":[11,28],\"type\":\"scatter\"},{\"line\":{\"color\":\"rgb(253, 231, 36)\",\"width\":2},\"mode\":\"lines+markers\",\"name\":\"Action 17\",\"showlegend\":false,\"x\":[5,6],\"y\":[12,29],\"type\":\"scatter\"},{\"line\":{\"color\":\"rgb(253, 231, 36)\",\"width\":2},\"mode\":\"lines+markers\",\"name\":\"Action 17\",\"showlegend\":false,\"x\":[5,6],\"y\":[13,30],\"type\":\"scatter\"},{\"line\":{\"color\":\"rgb(253, 231, 36)\",\"width\":2},\"mode\":\"lines+markers\",\"name\":\"Action 17\",\"showlegend\":false,\"x\":[5,6],\"y\":[18,35],\"type\":\"scatter\"},{\"line\":{\"color\":\"rgb(253, 231, 36)\",\"width\":2},\"mode\":\"lines+markers\",\"name\":\"Action 17\",\"showlegend\":false,\"x\":[5,6],\"y\":[19,36],\"type\":\"scatter\"},{\"line\":{\"color\":\"rgb(253, 231, 36)\",\"width\":2},\"mode\":\"lines+markers\",\"name\":\"Action 17\",\"showlegend\":false,\"x\":[6,7],\"y\":[1,18],\"type\":\"scatter\"},{\"line\":{\"color\":\"rgb(253, 231, 36)\",\"width\":2},\"mode\":\"lines+markers\",\"name\":\"Action 17\",\"showlegend\":false,\"x\":[6,7],\"y\":[4,21],\"type\":\"scatter\"},{\"line\":{\"color\":\"rgb(253, 231, 36)\",\"width\":2},\"mode\":\"lines+markers\",\"name\":\"Action 17\",\"showlegend\":false,\"x\":[6,7],\"y\":[5,22],\"type\":\"scatter\"},{\"line\":{\"color\":\"rgb(253, 231, 36)\",\"width\":2},\"mode\":\"lines+markers\",\"name\":\"Action 17\",\"showlegend\":false,\"x\":[6,7],\"y\":[6,23],\"type\":\"scatter\"},{\"line\":{\"color\":\"rgb(253, 231, 36)\",\"width\":2},\"mode\":\"lines+markers\",\"name\":\"Action 17\",\"showlegend\":false,\"x\":[6,7],\"y\":[7,24],\"type\":\"scatter\"},{\"line\":{\"color\":\"rgb(253, 231, 36)\",\"width\":2},\"mode\":\"lines+markers\",\"name\":\"Action 17\",\"showlegend\":false,\"x\":[6,7],\"y\":[8,25],\"type\":\"scatter\"},{\"line\":{\"color\":\"rgb(253, 231, 36)\",\"width\":2},\"mode\":\"lines+markers\",\"name\":\"Action 17\",\"showlegend\":false,\"x\":[6,7],\"y\":[9,26],\"type\":\"scatter\"},{\"line\":{\"color\":\"rgb(253, 231, 36)\",\"width\":2},\"mode\":\"lines+markers\",\"name\":\"Action 17\",\"showlegend\":false,\"x\":[6,7],\"y\":[10,27],\"type\":\"scatter\"},{\"line\":{\"color\":\"rgb(253, 231, 36)\",\"width\":2},\"mode\":\"lines+markers\",\"name\":\"Action 17\",\"showlegend\":false,\"x\":[6,7],\"y\":[13,30],\"type\":\"scatter\"},{\"line\":{\"color\":\"rgb(253, 231, 36)\",\"width\":2},\"mode\":\"lines+markers\",\"name\":\"Action 17\",\"showlegend\":false,\"x\":[6,7],\"y\":[14,31],\"type\":\"scatter\"},{\"line\":{\"color\":\"rgb(253, 231, 36)\",\"width\":2},\"mode\":\"lines+markers\",\"name\":\"Action 17\",\"showlegend\":false,\"x\":[6,7],\"y\":[15,32],\"type\":\"scatter\"},{\"line\":{\"color\":\"rgb(253, 231, 36)\",\"width\":2},\"mode\":\"lines+markers\",\"name\":\"Action 17\",\"showlegend\":false,\"x\":[6,7],\"y\":[16,33],\"type\":\"scatter\"},{\"line\":{\"color\":\"rgb(253, 231, 36)\",\"width\":2},\"mode\":\"lines+markers\",\"name\":\"Action 17\",\"showlegend\":false,\"x\":[6,7],\"y\":[19,36],\"type\":\"scatter\"},{\"line\":{\"color\":\"rgb(253, 231, 36)\",\"width\":2},\"mode\":\"lines+markers\",\"name\":\"Action 17\",\"showlegend\":false,\"x\":[6,7],\"y\":[20,37],\"type\":\"scatter\"},{\"line\":{\"color\":\"rgb(253, 231, 36)\",\"width\":2},\"mode\":\"lines+markers\",\"name\":\"Action 17\",\"showlegend\":false,\"x\":[6,7],\"y\":[21,38],\"type\":\"scatter\"},{\"line\":{\"color\":\"rgb(253, 231, 36)\",\"width\":2},\"mode\":\"lines+markers\",\"name\":\"Action 17\",\"showlegend\":false,\"x\":[6,7],\"y\":[22,39],\"type\":\"scatter\"},{\"line\":{\"color\":\"rgb(253, 231, 36)\",\"width\":2},\"mode\":\"lines+markers\",\"name\":\"Action 17\",\"showlegend\":false,\"x\":[6,7],\"y\":[23,40],\"type\":\"scatter\"},{\"line\":{\"color\":\"rgb(253, 231, 36)\",\"width\":2},\"mode\":\"lines+markers\",\"name\":\"Action 17\",\"showlegend\":false,\"x\":[6,7],\"y\":[26,43],\"type\":\"scatter\"},{\"line\":{\"color\":\"rgb(253, 231, 36)\",\"width\":2},\"mode\":\"lines+markers\",\"name\":\"Action 17\",\"showlegend\":false,\"x\":[7,8],\"y\":[3,20],\"type\":\"scatter\"},{\"line\":{\"color\":\"rgb(253, 231, 36)\",\"width\":2},\"mode\":\"lines+markers\",\"name\":\"Action 17\",\"showlegend\":false,\"x\":[7,8],\"y\":[7,24],\"type\":\"scatter\"},{\"line\":{\"color\":\"rgb(253, 231, 36)\",\"width\":2},\"mode\":\"lines+markers\",\"name\":\"Action 17\",\"showlegend\":false,\"x\":[7,8],\"y\":[14,31],\"type\":\"scatter\"},{\"line\":{\"color\":\"rgb(253, 231, 36)\",\"width\":2},\"mode\":\"lines+markers\",\"name\":\"Action 17\",\"showlegend\":false,\"x\":[7,8],\"y\":[16,33],\"type\":\"scatter\"},{\"line\":{\"color\":\"rgb(253, 231, 36)\",\"width\":2},\"mode\":\"lines+markers\",\"name\":\"Action 17\",\"showlegend\":false,\"x\":[7,8],\"y\":[22,39],\"type\":\"scatter\"},{\"line\":{\"color\":\"rgb(253, 231, 36)\",\"width\":2},\"mode\":\"lines+markers\",\"name\":\"Action 17\",\"showlegend\":false,\"x\":[7,8],\"y\":[23,40],\"type\":\"scatter\"},{\"line\":{\"color\":\"rgb(253, 231, 36)\",\"width\":2},\"mode\":\"lines+markers\",\"name\":\"Action 17\",\"showlegend\":false,\"x\":[7,8],\"y\":[24,41],\"type\":\"scatter\"},{\"line\":{\"color\":\"rgb(253, 231, 36)\",\"width\":2},\"mode\":\"lines+markers\",\"name\":\"Action 17\",\"showlegend\":false,\"x\":[7,8],\"y\":[25,42],\"type\":\"scatter\"},{\"line\":{\"color\":\"rgb(253, 231, 36)\",\"width\":2},\"mode\":\"lines+markers\",\"name\":\"Action 17\",\"showlegend\":false,\"x\":[7,8],\"y\":[26,43],\"type\":\"scatter\"},{\"line\":{\"color\":\"rgb(253, 231, 36)\",\"width\":2},\"mode\":\"lines+markers\",\"name\":\"Action 17\",\"showlegend\":false,\"x\":[7,8],\"y\":[27,44],\"type\":\"scatter\"},{\"line\":{\"color\":\"rgb(253, 231, 36)\",\"width\":2},\"mode\":\"lines+markers\",\"name\":\"Action 17\",\"showlegend\":false,\"x\":[7,8],\"y\":[28,45],\"type\":\"scatter\"},{\"line\":{\"color\":\"rgb(253, 231, 36)\",\"width\":2},\"mode\":\"lines+markers\",\"name\":\"Action 17\",\"showlegend\":false,\"x\":[7,8],\"y\":[29,46],\"type\":\"scatter\"}],                        {\"template\":{\"data\":{\"histogram2dcontour\":[{\"type\":\"histogram2dcontour\",\"colorbar\":{\"outlinewidth\":0,\"ticks\":\"\"},\"colorscale\":[[0.0,\"#0d0887\"],[0.1111111111111111,\"#46039f\"],[0.2222222222222222,\"#7201a8\"],[0.3333333333333333,\"#9c179e\"],[0.4444444444444444,\"#bd3786\"],[0.5555555555555556,\"#d8576b\"],[0.6666666666666666,\"#ed7953\"],[0.7777777777777778,\"#fb9f3a\"],[0.8888888888888888,\"#fdca26\"],[1.0,\"#f0f921\"]]}],\"choropleth\":[{\"type\":\"choropleth\",\"colorbar\":{\"outlinewidth\":0,\"ticks\":\"\"}}],\"histogram2d\":[{\"type\":\"histogram2d\",\"colorbar\":{\"outlinewidth\":0,\"ticks\":\"\"},\"colorscale\":[[0.0,\"#0d0887\"],[0.1111111111111111,\"#46039f\"],[0.2222222222222222,\"#7201a8\"],[0.3333333333333333,\"#9c179e\"],[0.4444444444444444,\"#bd3786\"],[0.5555555555555556,\"#d8576b\"],[0.6666666666666666,\"#ed7953\"],[0.7777777777777778,\"#fb9f3a\"],[0.8888888888888888,\"#fdca26\"],[1.0,\"#f0f921\"]]}],\"heatmap\":[{\"type\":\"heatmap\",\"colorbar\":{\"outlinewidth\":0,\"ticks\":\"\"},\"colorscale\":[[0.0,\"#0d0887\"],[0.1111111111111111,\"#46039f\"],[0.2222222222222222,\"#7201a8\"],[0.3333333333333333,\"#9c179e\"],[0.4444444444444444,\"#bd3786\"],[0.5555555555555556,\"#d8576b\"],[0.6666666666666666,\"#ed7953\"],[0.7777777777777778,\"#fb9f3a\"],[0.8888888888888888,\"#fdca26\"],[1.0,\"#f0f921\"]]}],\"heatmapgl\":[{\"type\":\"heatmapgl\",\"colorbar\":{\"outlinewidth\":0,\"ticks\":\"\"},\"colorscale\":[[0.0,\"#0d0887\"],[0.1111111111111111,\"#46039f\"],[0.2222222222222222,\"#7201a8\"],[0.3333333333333333,\"#9c179e\"],[0.4444444444444444,\"#bd3786\"],[0.5555555555555556,\"#d8576b\"],[0.6666666666666666,\"#ed7953\"],[0.7777777777777778,\"#fb9f3a\"],[0.8888888888888888,\"#fdca26\"],[1.0,\"#f0f921\"]]}],\"contourcarpet\":[{\"type\":\"contourcarpet\",\"colorbar\":{\"outlinewidth\":0,\"ticks\":\"\"}}],\"contour\":[{\"type\":\"contour\",\"colorbar\":{\"outlinewidth\":0,\"ticks\":\"\"},\"colorscale\":[[0.0,\"#0d0887\"],[0.1111111111111111,\"#46039f\"],[0.2222222222222222,\"#7201a8\"],[0.3333333333333333,\"#9c179e\"],[0.4444444444444444,\"#bd3786\"],[0.5555555555555556,\"#d8576b\"],[0.6666666666666666,\"#ed7953\"],[0.7777777777777778,\"#fb9f3a\"],[0.8888888888888888,\"#fdca26\"],[1.0,\"#f0f921\"]]}],\"surface\":[{\"type\":\"surface\",\"colorbar\":{\"outlinewidth\":0,\"ticks\":\"\"},\"colorscale\":[[0.0,\"#0d0887\"],[0.1111111111111111,\"#46039f\"],[0.2222222222222222,\"#7201a8\"],[0.3333333333333333,\"#9c179e\"],[0.4444444444444444,\"#bd3786\"],[0.5555555555555556,\"#d8576b\"],[0.6666666666666666,\"#ed7953\"],[0.7777777777777778,\"#fb9f3a\"],[0.8888888888888888,\"#fdca26\"],[1.0,\"#f0f921\"]]}],\"mesh3d\":[{\"type\":\"mesh3d\",\"colorbar\":{\"outlinewidth\":0,\"ticks\":\"\"}}],\"scatter\":[{\"fillpattern\":{\"fillmode\":\"overlay\",\"size\":10,\"solidity\":0.2},\"type\":\"scatter\"}],\"parcoords\":[{\"type\":\"parcoords\",\"line\":{\"colorbar\":{\"outlinewidth\":0,\"ticks\":\"\"}}}],\"scatterpolargl\":[{\"type\":\"scatterpolargl\",\"marker\":{\"colorbar\":{\"outlinewidth\":0,\"ticks\":\"\"}}}],\"bar\":[{\"error_x\":{\"color\":\"#2a3f5f\"},\"error_y\":{\"color\":\"#2a3f5f\"},\"marker\":{\"line\":{\"color\":\"#E5ECF6\",\"width\":0.5},\"pattern\":{\"fillmode\":\"overlay\",\"size\":10,\"solidity\":0.2}},\"type\":\"bar\"}],\"scattergeo\":[{\"type\":\"scattergeo\",\"marker\":{\"colorbar\":{\"outlinewidth\":0,\"ticks\":\"\"}}}],\"scatterpolar\":[{\"type\":\"scatterpolar\",\"marker\":{\"colorbar\":{\"outlinewidth\":0,\"ticks\":\"\"}}}],\"histogram\":[{\"marker\":{\"pattern\":{\"fillmode\":\"overlay\",\"size\":10,\"solidity\":0.2}},\"type\":\"histogram\"}],\"scattergl\":[{\"type\":\"scattergl\",\"marker\":{\"colorbar\":{\"outlinewidth\":0,\"ticks\":\"\"}}}],\"scatter3d\":[{\"type\":\"scatter3d\",\"line\":{\"colorbar\":{\"outlinewidth\":0,\"ticks\":\"\"}},\"marker\":{\"colorbar\":{\"outlinewidth\":0,\"ticks\":\"\"}}}],\"scattermapbox\":[{\"type\":\"scattermapbox\",\"marker\":{\"colorbar\":{\"outlinewidth\":0,\"ticks\":\"\"}}}],\"scatterternary\":[{\"type\":\"scatterternary\",\"marker\":{\"colorbar\":{\"outlinewidth\":0,\"ticks\":\"\"}}}],\"scattercarpet\":[{\"type\":\"scattercarpet\",\"marker\":{\"colorbar\":{\"outlinewidth\":0,\"ticks\":\"\"}}}],\"carpet\":[{\"aaxis\":{\"endlinecolor\":\"#2a3f5f\",\"gridcolor\":\"white\",\"linecolor\":\"white\",\"minorgridcolor\":\"white\",\"startlinecolor\":\"#2a3f5f\"},\"baxis\":{\"endlinecolor\":\"#2a3f5f\",\"gridcolor\":\"white\",\"linecolor\":\"white\",\"minorgridcolor\":\"white\",\"startlinecolor\":\"#2a3f5f\"},\"type\":\"carpet\"}],\"table\":[{\"cells\":{\"fill\":{\"color\":\"#EBF0F8\"},\"line\":{\"color\":\"white\"}},\"header\":{\"fill\":{\"color\":\"#C8D4E3\"},\"line\":{\"color\":\"white\"}},\"type\":\"table\"}],\"barpolar\":[{\"marker\":{\"line\":{\"color\":\"#E5ECF6\",\"width\":0.5},\"pattern\":{\"fillmode\":\"overlay\",\"size\":10,\"solidity\":0.2}},\"type\":\"barpolar\"}],\"pie\":[{\"automargin\":true,\"type\":\"pie\"}]},\"layout\":{\"autotypenumbers\":\"strict\",\"colorway\":[\"#636efa\",\"#EF553B\",\"#00cc96\",\"#ab63fa\",\"#FFA15A\",\"#19d3f3\",\"#FF6692\",\"#B6E880\",\"#FF97FF\",\"#FECB52\"],\"font\":{\"color\":\"#2a3f5f\"},\"hovermode\":\"closest\",\"hoverlabel\":{\"align\":\"left\"},\"paper_bgcolor\":\"white\",\"plot_bgcolor\":\"#E5ECF6\",\"polar\":{\"bgcolor\":\"#E5ECF6\",\"angularaxis\":{\"gridcolor\":\"white\",\"linecolor\":\"white\",\"ticks\":\"\"},\"radialaxis\":{\"gridcolor\":\"white\",\"linecolor\":\"white\",\"ticks\":\"\"}},\"ternary\":{\"bgcolor\":\"#E5ECF6\",\"aaxis\":{\"gridcolor\":\"white\",\"linecolor\":\"white\",\"ticks\":\"\"},\"baxis\":{\"gridcolor\":\"white\",\"linecolor\":\"white\",\"ticks\":\"\"},\"caxis\":{\"gridcolor\":\"white\",\"linecolor\":\"white\",\"ticks\":\"\"}},\"coloraxis\":{\"colorbar\":{\"outlinewidth\":0,\"ticks\":\"\"}},\"colorscale\":{\"sequential\":[[0.0,\"#0d0887\"],[0.1111111111111111,\"#46039f\"],[0.2222222222222222,\"#7201a8\"],[0.3333333333333333,\"#9c179e\"],[0.4444444444444444,\"#bd3786\"],[0.5555555555555556,\"#d8576b\"],[0.6666666666666666,\"#ed7953\"],[0.7777777777777778,\"#fb9f3a\"],[0.8888888888888888,\"#fdca26\"],[1.0,\"#f0f921\"]],\"sequentialminus\":[[0.0,\"#0d0887\"],[0.1111111111111111,\"#46039f\"],[0.2222222222222222,\"#7201a8\"],[0.3333333333333333,\"#9c179e\"],[0.4444444444444444,\"#bd3786\"],[0.5555555555555556,\"#d8576b\"],[0.6666666666666666,\"#ed7953\"],[0.7777777777777778,\"#fb9f3a\"],[0.8888888888888888,\"#fdca26\"],[1.0,\"#f0f921\"]],\"diverging\":[[0,\"#8e0152\"],[0.1,\"#c51b7d\"],[0.2,\"#de77ae\"],[0.3,\"#f1b6da\"],[0.4,\"#fde0ef\"],[0.5,\"#f7f7f7\"],[0.6,\"#e6f5d0\"],[0.7,\"#b8e186\"],[0.8,\"#7fbc41\"],[0.9,\"#4d9221\"],[1,\"#276419\"]]},\"xaxis\":{\"gridcolor\":\"white\",\"linecolor\":\"white\",\"ticks\":\"\",\"title\":{\"standoff\":15},\"zerolinecolor\":\"white\",\"automargin\":true,\"zerolinewidth\":2},\"yaxis\":{\"gridcolor\":\"white\",\"linecolor\":\"white\",\"ticks\":\"\",\"title\":{\"standoff\":15},\"zerolinecolor\":\"white\",\"automargin\":true,\"zerolinewidth\":2},\"scene\":{\"xaxis\":{\"backgroundcolor\":\"#E5ECF6\",\"gridcolor\":\"white\",\"linecolor\":\"white\",\"showbackground\":true,\"ticks\":\"\",\"zerolinecolor\":\"white\",\"gridwidth\":2},\"yaxis\":{\"backgroundcolor\":\"#E5ECF6\",\"gridcolor\":\"white\",\"linecolor\":\"white\",\"showbackground\":true,\"ticks\":\"\",\"zerolinecolor\":\"white\",\"gridwidth\":2},\"zaxis\":{\"backgroundcolor\":\"#E5ECF6\",\"gridcolor\":\"white\",\"linecolor\":\"white\",\"showbackground\":true,\"ticks\":\"\",\"zerolinecolor\":\"white\",\"gridwidth\":2}},\"shapedefaults\":{\"line\":{\"color\":\"#2a3f5f\"}},\"annotationdefaults\":{\"arrowcolor\":\"#2a3f5f\",\"arrowhead\":0,\"arrowwidth\":1},\"geo\":{\"bgcolor\":\"white\",\"landcolor\":\"#E5ECF6\",\"subunitcolor\":\"white\",\"showland\":true,\"showlakes\":true,\"lakecolor\":\"white\"},\"title\":{\"x\":0.05},\"mapbox\":{\"style\":\"light\"}}},\"title\":{\"text\":\"Battery Level Transitions Over Time\"},\"xaxis\":{\"title\":{\"text\":\"Time\"}},\"yaxis\":{\"title\":{\"text\":\"Battery Level\"}}},                        {\"responsive\": true}                    ).then(function(){\n",
       "                            \n",
       "var gd = document.getElementById('3d659240-ced3-444d-bac6-83be040dc6ca');\n",
       "var x = new MutationObserver(function (mutations, observer) {{\n",
       "        var display = window.getComputedStyle(gd).display;\n",
       "        if (!display || display === 'none') {{\n",
       "            console.log([gd, 'removed!']);\n",
       "            Plotly.purge(gd);\n",
       "            observer.disconnect();\n",
       "        }}\n",
       "}});\n",
       "\n",
       "// Listen for the removal of the full notebook cells\n",
       "var notebookContainer = gd.closest('#notebook-container');\n",
       "if (notebookContainer) {{\n",
       "    x.observe(notebookContainer, {childList: true});\n",
       "}}\n",
       "\n",
       "// Listen for the clearing of the current output cell\n",
       "var outputEl = gd.closest('.output');\n",
       "if (outputEl) {{\n",
       "    x.observe(outputEl, {childList: true});\n",
       "}}\n",
       "\n",
       "                        })                };                });            </script>        </div>"
      ]
     },
     "metadata": {},
     "output_type": "display_data"
    }
   ],
   "source": [
    "max_time = 7\n",
    "max_level = env.cap\n",
    "parallel_coordinates_plot(MC_q_table, actions, max_time, max_level)"
   ]
  },
  {
   "cell_type": "markdown",
   "id": "5da975ee",
   "metadata": {},
   "source": [
    "Eigentlich müsste man betrachten, dass es Sinn macht langsam zu laden immer wenn man unter cap ist weil das auto ja am nächsten Tag eh wieder benutzt wird"
   ]
  }
 ],
 "metadata": {
  "kernelspec": {
   "display_name": "Python 3 (ipykernel)",
   "language": "python",
   "name": "python3"
  },
  "language_info": {
   "codemirror_mode": {
    "name": "ipython",
    "version": 3
   },
   "file_extension": ".py",
   "mimetype": "text/x-python",
   "name": "python",
   "nbconvert_exporter": "python",
   "pygments_lexer": "ipython3",
   "version": "3.12.3"
  },
  "toc": {
   "base_numbering": 1,
   "nav_menu": {},
   "number_sections": true,
   "sideBar": true,
   "skip_h1_title": false,
   "title_cell": "Table of Contents",
   "title_sidebar": "Contents",
   "toc_cell": false,
   "toc_position": {},
   "toc_section_display": true,
   "toc_window_display": false
  }
 },
 "nbformat": 4,
 "nbformat_minor": 5
}
