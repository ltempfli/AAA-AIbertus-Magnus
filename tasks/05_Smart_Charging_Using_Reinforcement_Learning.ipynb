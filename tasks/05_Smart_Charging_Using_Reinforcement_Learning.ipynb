{
 "cells": [
  {
   "cell_type": "code",
   "execution_count": 114,
   "id": "da6427e3",
   "metadata": {},
   "outputs": [],
   "source": [
    "import time\n",
    "import numpy as np\n",
    "import gym\n",
    "from gym import spaces\n",
    "from collections import defaultdict\n",
    "import math\n",
    "import itertools\n",
    "from matplotlib import pyplot as plt\n",
    "import numpy as np\n",
    "import torch\n",
    "import torch.nn as nn\n",
    "import torch.optim as optim\n",
    "import random\n",
    "from collections import deque\n",
    "import plotly.graph_objects as go\n",
    "import pandas as pd"
   ]
  },
  {
   "cell_type": "markdown",
   "id": "c6965a1c",
   "metadata": {},
   "source": [
    "# Environment"
   ]
  },
  {
   "cell_type": "code",
   "execution_count": 115,
   "id": "c215e38c-84e8-46fb-b944-4b7c65c17901",
   "metadata": {
    "scrolled": true
   },
   "outputs": [],
   "source": [
    "class SmartCharging(gym.Env):\n",
    "    def __init__(self, actions, cap, stuck_penalty, sequential_after_num_iterations):\n",
    "        super(SmartCharging, self).__init__()\n",
    "        \n",
    "        self.actions = actions  \n",
    "        self.cap = cap\n",
    "        self.stuck_penalty = stuck_penalty\n",
    "        self.sequential_after_num_iterations = sequential_after_num_iterations\n",
    "        \n",
    "        self.episode = 0 #Current training episode. This is used in the random start training after n episodes.\n",
    "        self.old_level = 0 #Battery level at the end of the last episode.\n",
    "        self.stuck = False\n",
    "        self.action_space = spaces.Discrete(len(self.actions))\n",
    "        self.observation_space = spaces.Dict({\n",
    "            'level': spaces.Discrete(self.cap+1),\n",
    "            'time': spaces.Discrete(8)\n",
    "        })\n",
    "        \n",
    "        self.state = {\n",
    "            'level': 0,\n",
    "            'time': 0\n",
    "        }      \n",
    "        \n",
    "        self.done = False\n",
    "        \n",
    "    def reset(self):\n",
    "        self.state = {\n",
    "            'level': self.old_level,\n",
    "            'time': 0\n",
    "        }\n",
    "        self.done = False\n",
    "        return self.state\n",
    "    \n",
    "    def reset_random(self):\n",
    "        self.state = {\n",
    "            'level': np.random.randint(0,100),\n",
    "            'time': np.random.randint(0,7)\n",
    "        }\n",
    "        self.done = False\n",
    "        return self.state\n",
    "\n",
    "    def reset_episode(self): #Call this after every training!\n",
    "        self.episode=0\n",
    "\n",
    "    def step(self, action):\n",
    "        loaded = self.actions.get(action) #Determines how much kWh are loaded.\n",
    "        reward = 0\n",
    "\n",
    "        if loaded + self.state['level'] > self.cap: #Loading would exceed battery capacity.\n",
    "            reward -= cost_func(self.state['time'], self.cap - self.state['level']) #Only receive cost for actually loaded kWh below capcity.\n",
    "            self.state['level'] = self.cap\n",
    "        else:\n",
    "            reward -= cost_func(self.state['time'], loaded)\n",
    "            self.state['level'] += loaded\n",
    "\n",
    "        self.state['time'] += 1\n",
    "\n",
    "        if self.state['time'] == 8: #Terminal state. \n",
    "            consumed = power_consumed()\n",
    "            if self.state['level'] - consumed >= 0: #Car had enough energy for the day.\n",
    "                self.old_level = self.state['level'] - consumed\n",
    "                self.stuck = False\n",
    "            else: #Car gets stuck.\n",
    "                self.old_level = 0\n",
    "                self.stuck = True\n",
    "                reward += self.stuck_penalty\n",
    "                \n",
    "            self.reset()\n",
    "                \n",
    "            self.episode += 1\n",
    "            self.done = True\n",
    "            \n",
    "        return self.state, reward, self.done, self.stuck\n",
    "    \n",
    "def cost_func(t, p):\n",
    "    '''\n",
    "    This method returns the costs for charging\n",
    "    @param t:  time\n",
    "    @param p:  charging rate\n",
    "    '''\n",
    "    # alpha_time is the coefficient for time\n",
    "    alpha_time = [1, 1, 1, 1, 1, 1, 1, 1] \n",
    "    return alpha_time[t] * math.exp(p/2)\n",
    "\n",
    "def power_consumed(mu=30, sigma=10):\n",
    "    '''\n",
    "    This method returns power consumed by the taxi driver\n",
    "    @param mu: mean\n",
    "    @param sigma: standard deviation\n",
    "    '''\n",
    "    return int(np.random.normal(mu, sigma, 1)[0])"
   ]
  },
  {
   "cell_type": "markdown",
   "id": "52e84cef",
   "metadata": {},
   "source": [
    "# Agents"
   ]
  },
  {
   "cell_type": "markdown",
   "id": "18a73704",
   "metadata": {},
   "source": [
    "## Monte Carlo "
   ]
  },
  {
   "cell_type": "code",
   "execution_count": 165,
   "id": "109bc5a1",
   "metadata": {},
   "outputs": [],
   "source": [
    "class MC_Agent():\n",
    "    def __init__(self, alpha, gamma, env, epsilon, epsilon_decay, epsilon_min,alpha_decay): \n",
    "        self.env = env\n",
    "        self.alpha = alpha\n",
    "        self.gamma = gamma\n",
    "        self.epsilon = epsilon\n",
    "        self.epsilon_decay = epsilon_decay\n",
    "        self.epsilon_min = epsilon_min\n",
    "        self.alpha_decay = alpha_decay\n",
    "        \n",
    "        self.action_space_size = self.env.action_space.n \n",
    "        self.q_table = defaultdict(lambda: np.zeros(self.action_space_size))\n",
    "        self.q_table_count = defaultdict(lambda: np.zeros(self.action_space_size))\n",
    "\n",
    "    def pick_action(self, state):\n",
    "        action_q_values = self.q_table.get((state['time'], state['level']), np.zeros(self.action_space_size))\n",
    "        # Initialize Q-values for new state (not in table yet) with all actions to 0.  \n",
    "        return self.epsilon_greedy(action_q_values)\n",
    "\n",
    "    def epsilon_greedy(self, action_q_values):\n",
    "        if np.random.rand() < self.epsilon or np.all(action_q_values==0): #Probability ε or state was never visited before.\n",
    "            # Exploration: Choose a random action\n",
    "            chosen_action = np.random.choice(range(self.action_space_size))\n",
    "        else:\n",
    "            # Exploitation: Choose the action with the highest Q-value.\n",
    "            chosen_action = np.argmax(action_q_values)\n",
    "\n",
    "        if self.epsilon > self.epsilon_min: \n",
    "            self.epsilon *= self.epsilon_decay\n",
    "\n",
    "        return chosen_action\n",
    "\n",
    "    def update_q_values(self, state, action, goal): #Update via Monte Carlo update rules.\n",
    "        state_key = (state['time'], state['level'])\n",
    "        \n",
    "        if self.alpha_decay:\n",
    "            self.q_table_count[state_key][action] += 1\n",
    "            learning_rate = self.alpha / self.q_table_count[state_key][action] #Alpha decay. Each visit at the same State reduces the learn rate.\n",
    "            self.q_table[state_key][action] += learning_rate * (goal - self.q_table[state_key][action])\n",
    "        else:\n",
    "            self.q_table[state_key][action] += self.alpha * (goal - self.q_table[state_key][action])\n",
    "        \n",
    "    def train(self, iterations,random_iter):\n",
    "        for i in range(iterations):\n",
    "            if i < random_iter: #Train with random initial state.\n",
    "                current_state = self.env.reset_random()\n",
    "            else:\n",
    "                current_state = self.env.reset()\n",
    "                \n",
    "            episode = []\n",
    "            done = False\n",
    "            \n",
    "            while not done: #Go through one episode until terminal state is reached.         \n",
    "                action = self.pick_action(current_state)\n",
    "                old_state = current_state.copy()\n",
    "                current_state, reward, done, _ = self.env.step(action)\n",
    "                episode.append((old_state, action, reward))\n",
    "\n",
    "            goal = 0\n",
    "            for state, action, reward in reversed(episode): #Traverse episode backwards and apply Monte Carlo rules.\n",
    "                goal = reward + self.gamma * goal\n",
    "                self.update_q_values(state, action, goal)\n",
    "                \n",
    "        self.env.reset_episode()\n",
    "        return self.q_table"
   ]
  },
  {
   "cell_type": "markdown",
   "id": "5f21e8fc",
   "metadata": {},
   "source": [
    "## SARSA"
   ]
  },
  {
   "cell_type": "code",
   "execution_count": 164,
   "id": "bde6c83d",
   "metadata": {},
   "outputs": [],
   "source": [
    "class SARSA_Agent():\n",
    "    def __init__(self, alpha, gamma, env, epsilon, epsilon_decay, epsilon_min,alpha_decay):\n",
    "        self.env = env\n",
    "        self.alpha = alpha\n",
    "        self.gamma = gamma\n",
    "        self.epsilon = epsilon\n",
    "        self.epsilon_decay = epsilon_decay\n",
    "        self.epsilon_min = epsilon_min\n",
    "        self.alpha_decay = alpha_decay\n",
    "        \n",
    "        self.action_space_size = env.action_space.n\n",
    "        self.q_table = defaultdict(lambda: np.zeros(self.action_space_size))\n",
    "        self.q_table_count = defaultdict(lambda: np.zeros(self.action_space_size))\n",
    "\n",
    "    def pick_action(self, state):\n",
    "        action_q_values = self.q_table.get((state['time'], state['level']), np.zeros(self.action_space_size))\n",
    "        # Initialize Q-values for new state (not in table yet) with all actions to 0.  \n",
    "        return self.epsilon_greedy(action_q_values)\n",
    "\n",
    "    def epsilon_greedy(self, action_q_values):\n",
    "        if np.random.rand() < self.epsilon or np.all(action_q_values==0): #Probability ε or state was never visited before.\n",
    "            # Exploration: Choose a random action\n",
    "            chosen_action = np.random.choice(range(self.action_space_size))\n",
    "        else:\n",
    "            # Exploitation: Choose the action with the highest Q-value.\n",
    "            chosen_action = np.argmax(action_q_values)\n",
    "\n",
    "        if self.epsilon > self.epsilon_min:\n",
    "            self.epsilon *= self.epsilon_decay\n",
    "\n",
    "        return chosen_action\n",
    "\n",
    "    def update_q_values(self, state, action, reward, next_state, next_action, done): #Update via SARSA update rules.\n",
    "        state_key = (state['time'], state['level'])\n",
    "        next_state_key = (next_state['time'], next_state['level'])\n",
    "\n",
    "        td_target = reward + self.gamma * self.q_table[next_state_key][next_action] * (1 - done) #Set everything to 0 if done.\n",
    "        td_error = td_target - self.q_table[state_key][action]\n",
    "        \n",
    "        if self.alpha_decay:\n",
    "            self.q_table_count[state_key][action] += 1\n",
    "            learning_rate = self.alpha / self.q_table_count[state_key][action] #Alpha decay. Each visit at the same State reduces the learn rate.\n",
    "            self.q_table[state_key][action] += learning_rate * td_error\n",
    "        else:\n",
    "            self.q_table[state_key][action] += self.alpha * td_error\n",
    "                \n",
    "    def train(self, iterations,random_iter):\n",
    "        for i in range(iterations):\n",
    "            if i < random_iter: #Train with random initial state.\n",
    "                state = self.env.reset_random()\n",
    "            else:\n",
    "                state = self.env.reset()\n",
    "            action = self.pick_action(state)\n",
    "            done = False\n",
    "\n",
    "            while not done: #Go through one episode until terminal state is reached. \n",
    "                next_state, reward, done, _ = self.env.step(action)\n",
    "                next_action = self.pick_action(next_state)\n",
    "\n",
    "                self.update_q_values(state, action, reward, next_state, next_action, done)\n",
    "\n",
    "                state = next_state.copy()\n",
    "                action = next_action\n",
    "        \n",
    "        self.env.reset_episode()\n",
    "        return self.q_table"
   ]
  },
  {
   "cell_type": "markdown",
   "id": "953b4611",
   "metadata": {},
   "source": [
    "## Q Learning"
   ]
  },
  {
   "cell_type": "code",
   "execution_count": 163,
   "id": "1a7c2ece",
   "metadata": {},
   "outputs": [],
   "source": [
    "class QLearning_Agent():\n",
    "    def __init__(self, alpha, gamma, env, epsilon, epsilon_decay, epsilon_min,alpha_decay):\n",
    "        self.env = env\n",
    "        self.alpha = alpha\n",
    "        self.gamma = gamma\n",
    "        self.epsilon = epsilon\n",
    "        self.epsilon_decay = epsilon_decay\n",
    "        self.epsilon_min = epsilon_min\n",
    "        self.alpha_decay = alpha_decay\n",
    "        \n",
    "        self.action_space_size = env.action_space.n \n",
    "        self.q_table = defaultdict(lambda: np.zeros(self.action_space_size))\n",
    "        self.q_table_count = defaultdict(lambda: np.zeros(self.action_space_size))\n",
    "\n",
    "    def pick_action(self, state):\n",
    "        action_q_values = self.q_table.get((state['time'], state['level']), np.zeros(self.action_space_size))\n",
    "        # Initialize Q-values for new state (not in table yet) with all actions to 0.  \n",
    "        return self.epsilon_greedy(action_q_values)\n",
    "\n",
    "    def epsilon_greedy(self, action_q_values):\n",
    "        if np.random.rand() < self.epsilon or np.all(action_q_values==0): #Probability ε or state was never visited before.\n",
    "            # Exploration: Choose a random action\n",
    "            chosen_action = np.random.choice(range(self.action_space_size))\n",
    "        else:\n",
    "            # Exploitation: Choose the action with the highest Q-value.\n",
    "            chosen_action = np.argmax(action_q_values)\n",
    "\n",
    "        if self.epsilon > self.epsilon_min: \n",
    "            self.epsilon *= self.epsilon_decay\n",
    "\n",
    "        return chosen_action\n",
    "\n",
    "    def update_q_values(self, state, action, reward, next_state, done): #Update via Q-learning update rules.\n",
    "        state_key = (state['time'], state['level'])\n",
    "        next_state_key = (next_state['time'], next_state['level'])\n",
    "        \n",
    "        best_next_action = np.argmax(self.q_table[next_state_key])\n",
    "        td_target = reward + self.gamma * self.q_table[next_state_key][best_next_action] * (1 - done) #Set everything to 0 if done.\n",
    "        td_error = td_target - self.q_table[state_key][action]\n",
    "        \n",
    "        if self.alpha_decay:\n",
    "            self.q_table_count[state_key][action] += 1\n",
    "            learning_rate = self.alpha / self.q_table_count[state_key][action] #Alpha decay. Each visit at the same State reduces the learn rate.\n",
    "            self.q_table[state_key][action] += learning_rate * td_error\n",
    "        else:\n",
    "            self.q_table[state_key][action] += self.alpha * td_error\n",
    "    def train(self, iterations,random_iter):\n",
    "        for i in range(iterations):\n",
    "            if i < random_iter: #Train with random initial state.\n",
    "                state = self.env.reset_random()\n",
    "            else:\n",
    "                state = self.env.reset()\n",
    "            done = False\n",
    "\n",
    "            while not done: #Go through one episode until terminal state is reached. \n",
    "                action = self.pick_action(state)\n",
    "                next_state, reward, done, _ = self.env.step(action)\n",
    "                self.update_q_values(state, action, reward, next_state, done)\n",
    "                state = next_state.copy()\n",
    "\n",
    "            self.epsilon = max(self.epsilon_min, self.epsilon * self.epsilon_decay)\n",
    "        self.env.reset_episode()    \n",
    "        return self.q_table"
   ]
  },
  {
   "cell_type": "markdown",
   "id": "970a7b09",
   "metadata": {},
   "source": [
    "## Deep Q-Network"
   ]
  },
  {
   "cell_type": "code",
   "execution_count": 173,
   "id": "eb5df230",
   "metadata": {},
   "outputs": [],
   "source": [
    "class DQN_Agent():\n",
    "    def __init__(self, env, alpha, gamma, epsilon, epsilon_decay, epsilon_min, memory_size, batch_size, target_update=10):\n",
    "        self.env = env\n",
    "        self.state_size = 2  #time and level\n",
    "        self.action_size = env.action_space.n \n",
    "        self.alpha = alpha  \n",
    "        self.gamma = gamma  \n",
    "        self.epsilon = epsilon\n",
    "        self.epsilon_decay = epsilon_decay \n",
    "        self.epsilon_min = epsilon_min\n",
    "        self.batch_size = batch_size  # Number of samples per batch for replay.\n",
    "        self.target_update = target_update  # Frequency to update target network.\n",
    "\n",
    "        # Experience replay memory\n",
    "        self.memory = deque(maxlen=memory_size)\n",
    "\n",
    "        # Main network\n",
    "        self.model = self.build_model()\n",
    "\n",
    "        # Target Q-network\n",
    "        self.target_model = self.build_model()\n",
    "        self.update_target_model()\n",
    "        \n",
    "        # Stochastic optimizer\n",
    "        self.optimizer = optim.Adam(self.model.parameters(), lr=self.alpha)\n",
    "\n",
    "    def build_model(self):\n",
    "        model = nn.Sequential(\n",
    "            nn.Linear(self.state_size, 64),  # Input layer\n",
    "            nn.ReLU(), \n",
    "            nn.Linear(64, 64),  # Hidden laye\n",
    "            nn.ReLU(), \n",
    "            nn.Linear(64, self.action_size)  # Output layer (number of actions)\n",
    "        )\n",
    "        return model\n",
    "\n",
    "    def update_target_model(self):\n",
    "        # Copy weights from main Q-network to target network.\n",
    "        self.target_model.load_state_dict(self.model.state_dict())\n",
    "\n",
    "    def pick_action(self, state):\n",
    "        if np.random.rand() <= self.epsilon:\n",
    "            return random.randrange(self.action_size)  # Exploration: random action\n",
    "        state = torch.FloatTensor(state).unsqueeze(0)  # Convert state to tensor and add batch dimension\n",
    "        with torch.no_grad():\n",
    "            q_values = self.model(state)\n",
    "        return torch.argmax(q_values).item()  # Exploitation: choose action with highest Q-value\n",
    "\n",
    "    def store_experience(self, state, action, reward, next_state, done):\n",
    "        self.memory.append((state, action, reward, next_state, done))\n",
    "\n",
    "    def replay(self):\n",
    "        # Perform experience replay if enough samples are available.\n",
    "        if len(self.memory) < self.batch_size:\n",
    "            return \n",
    "\n",
    "        minibatch = random.sample(self.memory, self.batch_size)\n",
    "\n",
    "        for state, action, reward, next_state, done in minibatch:\n",
    "            state = torch.FloatTensor(state)\n",
    "            next_state = torch.FloatTensor(next_state)\n",
    "            \n",
    "            target = reward\n",
    "            if not done:\n",
    "                target += self.gamma * torch.max(self.target_model(next_state)).item() # Calculate target as reward + discounted max future Q-value.\n",
    "            \n",
    "            target_f = self.model(state).clone().detach() # Current Q-value for selected action.\n",
    "            target_f[action] = target\n",
    "\n",
    "            loss = nn.MSELoss()(self.model(state), target_f)\n",
    "            self.optimizer.zero_grad()\n",
    "            loss.backward()\n",
    "            self.optimizer.step()\n",
    "\n",
    "        if self.epsilon > self.epsilon_min:\n",
    "            self.epsilon *= self.epsilon_decay\n",
    "\n",
    "    def generate_state_space_keys(self): # Generate all possible state keys based on the environment's observation space.\n",
    "        state_space_keys = []\n",
    "        for time in range(self.env.observation_space['time'].n):\n",
    "            for level in range(self.env.observation_space['level'].n):\n",
    "                state_space_keys.append((time, level))\n",
    "        return state_space_keys\n",
    "\n",
    "    def extract_q_table(self):\n",
    "        q_table = {}\n",
    "        state_space_keys = self.generate_state_space_keys()\n",
    "\n",
    "        for state_key in state_space_keys:\n",
    "            state = torch.FloatTensor(state_key).unsqueeze(0)\n",
    "            with torch.no_grad():\n",
    "                q_values = self.model(state).numpy().flatten()\n",
    "            q_table[state_key] = q_values\n",
    "\n",
    "        return q_table\n",
    "\n",
    "    def train(self, episodes, random_iter):\n",
    "        for e in range(episodes):\n",
    "            if e < random_iter:  # Train with random initial state for exploration\n",
    "                state = self.env.reset_random()\n",
    "            else:\n",
    "                state = self.env.reset()\n",
    "            state = np.array([state['time'], state['level']])\n",
    "\n",
    "            done = False\n",
    "            total_reward = 0\n",
    "\n",
    "            while not done:  # Go through one episode until terminal state is reached\n",
    "                action = self.pick_action(state)\n",
    "                next_state, reward, done, _ = self.env.step(action)\n",
    "                next_state = np.array([next_state['time'], next_state['level']])\n",
    "                total_reward += reward\n",
    "\n",
    "                self.store_experience(state, action, reward, next_state, done)\n",
    "                state = next_state\n",
    "                self.replay()\n",
    "\n",
    "            # Update target model periodically.\n",
    "            if e % self.target_update == 0:\n",
    "                self.update_target_model()\n",
    "\n",
    "            print(f\"Episode {e+1}/{episodes} - Reward: {total_reward}, Epsilon: {self.epsilon:.2f}\")\n",
    "\n",
    "        self.env.reset_episode()\n",
    "        return self.extract_q_table()\n"
   ]
  },
  {
   "cell_type": "markdown",
   "id": "81c9c543",
   "metadata": {},
   "source": [
    "# Evaluation methods"
   ]
  },
  {
   "cell_type": "code",
   "execution_count": 174,
   "id": "78817bcf",
   "metadata": {},
   "outputs": [],
   "source": [
    "def plot_q_table_3d(q_table, cap):\n",
    "    \"\"\"\n",
    "    Plots a 3D surface of the Q-table showing the relationship between \n",
    "    battery level, time, and Q-values.\n",
    "\n",
    "    Parameters:\n",
    "    - q_table (dict): The Q-table where keys are state tuples and values are lists/arrays of Q-values for different actions.\n",
    "    - cap (int): The maximum battery level.\n",
    "    \"\"\"\n",
    "\n",
    "    def get_Z(key):\n",
    "        return np.average(q_table[key])\n",
    "\n",
    "    # battery level\n",
    "    X = np.arange(cap + 1)\n",
    "    # time\n",
    "    Y = np.arange(8)\n",
    "    X_grid, Y_grid = np.meshgrid(X, Y)\n",
    "    # average Q-values (policy)\n",
    "    Z = np.array([get_Z(key) for key in itertools.product(Y, X)]).reshape((8, cap + 1))\n",
    "\n",
    "    fig = plt.figure(figsize=(10, 10))\n",
    "    ax = fig.add_subplot(111, projection='3d')\n",
    "\n",
    "    ax.plot_surface(X_grid, Y_grid, -Z, cmap='viridis')\n",
    "\n",
    "    ax.view_init(elev=30, azim=45)\n",
    "\n",
    "    ax.set_zlabel('Average Q-value')\n",
    "    ax.set_ylabel('Time')\n",
    "    ax.set_xlabel('Battery level')\n",
    "    plt.tight_layout()\n",
    "    plt.show()\n",
    "\n",
    "def plot_q_table_2d(q_table):\n",
    "    \"\"\"\n",
    "    Plots a 2D heatmap of the average Q-values over all actions for each state in the Q-table.\n",
    "\n",
    "    Parameters:\n",
    "    - q_table (dict): The Q-table where keys are state tuples and values are lists/arrays of Q-values for different actions.\n",
    "    \"\"\"\n",
    "\n",
    "    levels = sorted(set(state[1] for state in q_table.keys()))\n",
    "    times = sorted(set(state[0] for state in q_table.keys()))\n",
    "\n",
    "    # Initialize a matrix with zeros\n",
    "    q_matrix = np.zeros((len(levels), len(times)))\n",
    "\n",
    "    # Fill the matrix with average Q-values\n",
    "    for state_key, q_values in q_table.items():\n",
    "        time, level = state_key\n",
    "        if level in levels and time in times:\n",
    "            level_idx = levels.index(level)\n",
    "            time_idx = times.index(time)\n",
    "            q_matrix[level_idx, time_idx] = np.mean(q_values)\n",
    "\n",
    "    fig, ax = plt.subplots(figsize=(len(times), len(levels)))\n",
    "    cax = ax.matshow(q_matrix, cmap='viridis')\n",
    "    fig.colorbar(cax)\n",
    "    ax.set_xticks(np.arange(len(times)))\n",
    "    ax.set_xticklabels(times)\n",
    "    ax.set_yticks(np.arange(len(levels)))\n",
    "    ax.set_yticklabels(levels)\n",
    "\n",
    "    # Annotate the matrix with Q-values\n",
    "    for i in range(len(levels)):\n",
    "        for j in range(len(times)):\n",
    "            value = q_matrix[i, j]\n",
    "            ax.text(j, i, f\"{value:.2f}\", ha='center', va='center', color='white')\n",
    "\n",
    "    ax.set_xlabel('Time')\n",
    "    ax.set_ylabel('Battery Level')\n",
    "    plt.title('Average Q-Value')\n",
    "    plt.show()\n",
    "\n",
    "def plot_greedy_policy(q_table):\n",
    "    \"\"\"\n",
    "    Plots the greedy policy by displaying the action with the highest Q-value for each state.\n",
    "\n",
    "    Parameters:\n",
    "    - q_table (dict): The Q-table where keys are state tuples and values are lists/arrays of Q-values for different actions.\n",
    "    \"\"\"\n",
    "\n",
    "    action_labels = {0: 'None', 1: 'Low', 2: 'Medium', 3: 'High', 4: 'Very high'}\n",
    "\n",
    "    levels = sorted(set(state[1] for state in q_table.keys()))\n",
    "    times = sorted(set(state[0] for state in q_table.keys()))\n",
    "\n",
    "    action_matrix = np.zeros((len(levels), len(times)))\n",
    "\n",
    "    # Populate the matrix with the best actions\n",
    "    for state_key, q_values in q_table.items():\n",
    "        time, level = state_key\n",
    "        if level in levels and time in times:\n",
    "            level_idx = levels.index(level)\n",
    "            time_idx = times.index(time)\n",
    "            best_action = np.argmax(q_values)\n",
    "            action_matrix[level_idx, time_idx] = best_action\n",
    "\n",
    "    fig, ax = plt.subplots(figsize=(12, 8))\n",
    "    cax = ax.matshow(action_matrix, cmap='viridis', vmin=0, vmax=len(action_labels) - 1)\n",
    "\n",
    "    cbar = fig.colorbar(cax, ticks=list(action_labels.keys()))\n",
    "    cbar.ax.set_yticklabels([action_labels[i] for i in action_labels.keys()])\n",
    "\n",
    "    xticks = np.arange(len(times))\n",
    "    yticks = np.arange(len(levels))\n",
    "\n",
    "    y_ticks_interval = max(1, len(levels) // 10)\n",
    "    ax.set_yticks(yticks[::y_ticks_interval])\n",
    "    ax.set_yticklabels([levels[i] for i in yticks[::y_ticks_interval]])\n",
    "\n",
    "    x_ticks_interval = max(1, len(times) // 10)\n",
    "    ax.set_xticks(xticks[::x_ticks_interval])\n",
    "    ax.set_xticklabels([times[i] for i in xticks[::x_ticks_interval]])\n",
    "\n",
    "    plt.xlabel('Time')\n",
    "    plt.ylabel('Battery Level')\n",
    "    plt.title('Greedy Policy (Actions)')\n",
    "    ax.grid(False)\n",
    "    plt.show()\n",
    "\n",
    "def evaluate_q_table(q_table, env, num_episodes=100):\n",
    "    \"\"\"\n",
    "    Evaluate the performance of the Q-table over a number of episodes.\n",
    "\n",
    "    Parameters:\n",
    "    - q_table (dict): The Q-table where keys are state tuples and values are lists/arrays of Q-values for different actions.\n",
    "    - env (gym.Env): The environment to evaluate.\n",
    "    - num_episodes (int): Number of episodes to evaluate.\n",
    "\n",
    "    Returns:\n",
    "    - float: The average reward obtained over the episodes.\n",
    "    - int: The count of episodes where the agent got stuck.\n",
    "    \"\"\"\n",
    "\n",
    "    total_reward = 0\n",
    "    stuck_count = 0\n",
    "\n",
    "    for episode in range(num_episodes):\n",
    "        state = env.reset()\n",
    "        done = False\n",
    "        episode_reward = 0\n",
    "\n",
    "        while not done:\n",
    "            state_key = (state['time'], state['level'])\n",
    "            if state_key in q_table:\n",
    "                action = np.argmax(q_table[state_key])\n",
    "            else:\n",
    "                action = 0  # No action = no loading\n",
    "            \n",
    "            next_state, reward, done, stuck = env.step(action)\n",
    "            episode_reward += reward\n",
    "            state = next_state\n",
    "\n",
    "        total_reward += episode_reward\n",
    "        if stuck:\n",
    "            stuck_count += 1\n",
    "\n",
    "    average_reward = total_reward / num_episodes\n",
    "    \n",
    "    return average_reward, stuck_count\n",
    "\n",
    "def calculate_empty_q_percentage(q_table):\n",
    "    \"\"\"\n",
    "    Calculate the percentage of Q-values in the Q-table that are empty (equal to 0).\n",
    "\n",
    "    Parameters:\n",
    "    - q_table (dict): The Q-table where keys are state tuples and values are lists/arrays of Q-values.\n",
    "\n",
    "    Returns:\n",
    "    - float: The percentage of empty Q-values in the Q-table.\n",
    "    \"\"\"\n",
    "\n",
    "    total_q_values = 0\n",
    "    empty_q_values = 0\n",
    "\n",
    "    for state_key, q_values in q_table.items():\n",
    "        total_q_values += len(q_values)\n",
    "        empty_q_values += sum(q == 0 for q in q_values)  # Define empty as q == 0\n",
    "\n",
    "    if total_q_values == 0:\n",
    "        return 0.0\n",
    "\n",
    "    percentage_empty = (empty_q_values / total_q_values) * 100\n",
    "    return percentage_empty\n",
    "\n",
    "def parallel_coordinates_plot(q_table, actions, max_time, max_level):\n",
    "    \"\"\"\n",
    "    Creates a parallel coordinates plot to visualize the transitions of battery levels over time\n",
    "    based on the actions taken.\n",
    "\n",
    "    Parameters:\n",
    "    - q_table (dict): The Q-table where keys are state tuples and values are lists/arrays of Q-values for different actions.\n",
    "    - actions (list): List of possible actions.\n",
    "    - max_time (int): Maximum time value in the environment.\n",
    "    - max_level (int): Maximum battery level in the environment.\n",
    "    \"\"\"\n",
    "\n",
    "    data = []\n",
    "\n",
    "    for time in range(max_time + 1):\n",
    "        for level in range(max_level + 1):\n",
    "            q_values = q_table.get((time, level), [0] * len(actions))\n",
    "            max_action_index = np.argmax(q_values)\n",
    "            max_action_kwh = actions[max_action_index]\n",
    "            data.append({\n",
    "                'Time': time,\n",
    "                'Battery_level': level,\n",
    "                'Best_action_kwh': max_action_kwh,\n",
    "                'Future_battery_level': level + max_action_kwh if level + max_action_kwh < max_level else max_level\n",
    "            })\n",
    "    \n",
    "    df = pd.DataFrame(data)\n",
    "\n",
    "    unique_actions = df['Best_action_kwh'].unique()\n",
    "    colors = plt.cm.viridis(np.linspace(0, 1, len(unique_actions)))\n",
    "    color_map = {action: f'rgb{tuple((c[:3] * 255).astype(int))}' for action, c in zip(unique_actions, colors)}\n",
    "\n",
    "    fig = go.Figure()\n",
    "    for action in unique_actions:\n",
    "        action_data = df[df['Best_action_kwh'] == action]\n",
    "\n",
    "        for i in range(len(action_data) - 1):\n",
    "            x_values = [action_data.iloc[i]['Time'], action_data.iloc[i]['Time'] + 1]\n",
    "            y_values = [action_data.iloc[i]['Battery_level'], action_data.iloc[i]['Future_battery_level']]\n",
    "\n",
    "            scatters = go.Scatter(\n",
    "                x=x_values,\n",
    "                y=y_values,\n",
    "                mode='lines+markers',\n",
    "                line=dict(width=2, color=color_map.get(action, 'gray')),\n",
    "                name=f'Action {action}' if i == 0 else f'Action {action}',\n",
    "                showlegend=i == 0  # Only show legend for the first line of each action\n",
    "            )\n",
    "\n",
    "            fig.add_trace(scatters)\n",
    "\n",
    "    fig.update_layout(\n",
    "        title='Battery Level Transitions Over Time',\n",
    "        xaxis_title='Time',\n",
    "        yaxis_title='Battery Level'\n",
    "    )\n",
    "    fig.show()\n",
    "\n",
    "def grid_search(agent_function, iteration_list, alpha_list, gamma_list, epsilon_decay_list, test_episodes, num_subiter):\n",
    "    \"\"\"\n",
    "    Perform a grid search to find the optimal hyperparameters for the agent.\n",
    "\n",
    "    Parameters:\n",
    "    - agent_function (function): The function that creates the agent.\n",
    "    - iteration_list (list): List of possible iteration values.\n",
    "    - alpha_list (list): List of possible alpha values.\n",
    "    - gamma_list (list): List of possible gamma values.\n",
    "    - epsilon_decay_list (list): List of possible epsilon decay values.\n",
    "    - test_episodes (int): Number of episodes to evaluate for each parameter combination.\n",
    "    - num_subiter (int): Number of sub-iterations to run for averaging.\n",
    "\n",
    "    Returns:\n",
    "    - dict: A dictionary containing the average rewards for each parameter combination.\n",
    "    \"\"\"\n",
    "\n",
    "    average_rewards = {}\n",
    "\n",
    "    for iteration in iteration_list:\n",
    "        for alpha in alpha_list:\n",
    "            for gamma in gamma_list:\n",
    "                for epsilon_decay in epsilon_decay_list:\n",
    "                    agent = agent_function(alpha=alpha, gamma=gamma, env=env, epsilon=1, epsilon_decay=epsilon_decay, epsilon_min=0.01, alpha_decay=True)\n",
    "                    rewards = []\n",
    "                    for _ in range(num_subiter):\n",
    "                        q_table = agent.train(iteration, math.floor(iteration / 5))  # ~20% random training\n",
    "\n",
    "                        average_reward, _ = evaluate_q_table(q_table, env, num_episodes=test_episodes)\n",
    "                        rewards.append(average_reward)\n",
    "\n",
    "                    average_key = (iteration, alpha, gamma, epsilon_decay)\n",
    "                    average_rewards[average_key] = np.mean(rewards)\n",
    "                    print(f\"Average reward for {average_key}: {average_rewards[average_key]}\")\n",
    "    return average_rewards\n",
    "\n",
    "def plot_grid_search(avg_rewards):\n",
    "    \"\"\"\n",
    "    Plots the results of a grid search as separate line plots for each hyperparameter.\n",
    "\n",
    "    Parameters:\n",
    "    - avg_rewards (dict): A dictionary containing the average rewards for each hyperparameter combination.\n",
    "    \"\"\"\n",
    "\n",
    "    iteration_sums = defaultdict(float)\n",
    "    iteration_counts = defaultdict(int)\n",
    "\n",
    "    alpha_sums = defaultdict(float)\n",
    "    alpha_counts = defaultdict(int)\n",
    "\n",
    "    gamma_sums = defaultdict(float)\n",
    "    gamma_counts = defaultdict(int)\n",
    "\n",
    "    epsilon_sums = defaultdict(float)\n",
    "    epsilon_counts = defaultdict(int)\n",
    "\n",
    "    for (iteration, alpha, gamma, epsilon), reward in avg_rewards.items():\n",
    "        iteration_sums[iteration] += reward\n",
    "        iteration_counts[iteration] += 1\n",
    "\n",
    "        alpha_sums[alpha] += reward\n",
    "        alpha_counts[alpha] += 1\n",
    "\n",
    "        gamma_sums[gamma] += reward\n",
    "        gamma_counts[gamma] += 1\n",
    "\n",
    "        epsilon_sums[epsilon] += reward\n",
    "        epsilon_counts[epsilon] += 1\n",
    "\n",
    "    iteration_averages = {k: iteration_sums[k] / iteration_counts[k] for k in iteration_sums}\n",
    "    alpha_averages = {k: alpha_sums[k] / alpha_counts[k] for k in alpha_sums}\n",
    "    gamma_averages = {k: gamma_sums[k] / gamma_counts[k] for k in gamma_sums}\n",
    "    epsilon_averages = {k: epsilon_sums[k] / epsilon_counts[k] for k in epsilon_sums}\n",
    "\n",
    "    # Plot for Iteration\n",
    "    plt.figure(figsize=(12, 8))\n",
    "\n",
    "    plt.subplot(2, 2, 1)\n",
    "    plt.plot(list(iteration_averages.keys()), list(iteration_averages.values()), marker='o')\n",
    "    plt.title('Average Reward by Iteration')\n",
    "    plt.xlabel('Iteration')\n",
    "    plt.ylabel('Average Reward')\n",
    "\n",
    "    # Plot for Alpha\n",
    "    plt.subplot(2, 2, 2)\n",
    "    plt.plot(list(alpha_averages.keys()), list(alpha_averages.values()), marker='o', color='green')\n",
    "    plt.title('Average Reward by Alpha')\n",
    "    plt.xlabel('Alpha')\n",
    "    plt.ylabel('Average Reward')\n",
    "\n",
    "    # Plot for Gamma\n",
    "    plt.subplot(2, 2, 3)\n",
    "    plt.plot(list(gamma_averages.keys()), list(gamma_averages.values()), marker='o', color='red')\n",
    "    plt.title('Average Reward by Gamma')\n",
    "    plt.xlabel('Gamma')\n",
    "    plt.ylabel('Average Reward')\n",
    "\n",
    "    # Plot for Epsilon Decay\n",
    "    plt.subplot(2, 2, 4)\n",
    "    plt.plot(list(epsilon_averages.keys()), list(epsilon_averages.values()), marker='o', color='purple')\n",
    "    plt.title('Average Reward by Epsilon Decay')\n",
    "    plt.xlabel('Epsilon Decay')\n",
    "    plt.ylabel('Average Reward')\n",
    "\n",
    "    plt.tight_layout()\n",
    "    plt.show()\n"
   ]
  },
  {
   "cell_type": "markdown",
   "id": "749a4c4e",
   "metadata": {},
   "source": [
    "# Execution"
   ]
  },
  {
   "cell_type": "code",
   "execution_count": 102,
   "id": "8536839c",
   "metadata": {
    "scrolled": false
   },
   "outputs": [],
   "source": [
    "#actions = {i: i for i in range(23)}\n",
    "actions = {0: 0, 1: 3, 2: 7, 3: 11, 4: 17}\n",
    "#Tesla Model S has 100 kWh battery capacity, DC Fast Charger: ~17 kWh /15 Min\n",
    "env = SmartCharging(actions=actions, cap=100, stuck_penalty=-30000,sequential_after_num_iterations=10000)"
   ]
  },
  {
   "cell_type": "code",
   "execution_count": 189,
   "id": "df0e8e53",
   "metadata": {
    "scrolled": true
   },
   "outputs": [],
   "source": [
    "MC_Agent1 = MC_Agent(\n",
    "    alpha=0.5, gamma=0.9, env=env, epsilon=1, epsilon_decay=0.9, epsilon_min=0.01,alpha_decay=False\n",
    ")\n",
    "MC_q_table = MC_Agent1.train(100000,20000)"
   ]
  },
  {
   "cell_type": "code",
   "execution_count": 188,
   "id": "a398fb36",
   "metadata": {
    "scrolled": true
   },
   "outputs": [],
   "source": [
    "SARSA_Agent1 = SARSA_Agent(\n",
    "    alpha=0.1, gamma=0.95, env=env, epsilon=1, epsilon_decay=0.99, epsilon_min=0.01,alpha_decay=False\n",
    ")\n",
    "SARSA_q_table = SARSA_Agent1.train(100000,20000)"
   ]
  },
  {
   "cell_type": "code",
   "execution_count": 190,
   "id": "aaaae34d",
   "metadata": {
    "scrolled": true
   },
   "outputs": [],
   "source": [
    "QLearning_Agent1 = QLearning_Agent(\n",
    "    alpha=0.1, gamma=0.95, env=env, epsilon=1, epsilon_decay=0.999, epsilon_min=0.01,alpha_decay=False\n",
    ")\n",
    "QLEARN_q_table = QLearning_Agent1.train(100000,20000)"
   ]
  },
  {
   "cell_type": "code",
   "execution_count": 168,
   "id": "2dcf982e",
   "metadata": {
    "scrolled": true
   },
   "outputs": [
    {
     "name": "stdout",
     "output_type": "stream",
     "text": [
      "Episode 1/100 - Reward: -322.8862143222811, Epsilon: 1.00\n",
      "Episode 2/100 - Reward: -5423.079461108927, Epsilon: 1.00\n",
      "Episode 3/100 - Reward: -10178.691811374023, Epsilon: 1.00\n",
      "Episode 4/100 - Reward: -4922.417561569834, Epsilon: 0.99\n",
      "Episode 5/100 - Reward: -4967.236726497433, Epsilon: 0.91\n",
      "Episode 6/100 - Reward: -4929.38093971051, Epsilon: 0.84\n",
      "Episode 7/100 - Reward: -287.28907329325074, Epsilon: 0.78\n",
      "Episode 8/100 - Reward: -3231.6499193059485, Epsilon: 0.72\n",
      "Episode 9/100 - Reward: -320.0532465226432, Epsilon: 0.66\n",
      "Episode 10/100 - Reward: -326.36790339261916, Epsilon: 0.61\n",
      "Episode 11/100 - Reward: -51.20924044040664, Epsilon: 0.56\n",
      "Episode 12/100 - Reward: -284.7042254687603, Epsilon: 0.52\n",
      "Episode 13/100 - Reward: -136.09596139989026, Epsilon: 0.48\n",
      "Episode 14/100 - Reward: -315.92283618160496, Epsilon: 0.44\n",
      "Episode 15/100 - Reward: -5441.268156786268, Epsilon: 0.41\n",
      "Episode 16/100 - Reward: -5233.173365551077, Epsilon: 0.38\n",
      "Episode 17/100 - Reward: -721.8333187446781, Epsilon: 0.35\n",
      "Episode 18/100 - Reward: -330.58701921264657, Epsilon: 0.32\n",
      "Episode 19/100 - Reward: -107.82804494641499, Epsilon: 0.30\n",
      "Episode 20/100 - Reward: -5257.959592934215, Epsilon: 0.27\n",
      "Episode 21/100 - Reward: -5171.849828662285, Epsilon: 0.25\n",
      "Episode 22/100 - Reward: -319.404525251943, Epsilon: 0.23\n",
      "Episode 23/100 - Reward: -47.07883009936844, Epsilon: 0.21\n",
      "Episode 24/100 - Reward: -255.17362133455845, Epsilon: 0.20\n",
      "Episode 25/100 - Reward: -54.04220824004457, Epsilon: 0.18\n",
      "Episode 26/100 - Reward: -9906.731962656331, Epsilon: 0.17\n",
      "Episode 27/100 - Reward: -4925.250529369472, Epsilon: 0.16\n",
      "Episode 28/100 - Reward: -5050.230648133904, Epsilon: 0.14\n",
      "Episode 29/100 - Reward: -262.1369994752346, Epsilon: 0.13\n",
      "Episode 30/100 - Reward: -72.23090391738462, Epsilon: 0.12\n",
      "Episode 31/100 - Reward: -30050.560519169707, Epsilon: 0.11\n",
      "Episode 32/100 - Reward: -30011.481689070337, Epsilon: 0.10\n",
      "Episode 33/100 - Reward: -30139.943496905107, Epsilon: 0.10\n",
      "Episode 34/100 - Reward: -172.05894886379963, Epsilon: 0.09\n",
      "Episode 35/100 - Reward: -10362.000375226078, Epsilon: 0.08\n",
      "Episode 36/100 - Reward: -9871.1348216273, Epsilon: 0.08\n",
      "Episode 37/100 - Reward: -294.25245143392686, Epsilon: 0.07\n",
      "Episode 38/100 - Reward: -269.1003776159107, Epsilon: 0.06\n",
      "Episode 39/100 - Reward: -21.926756281352258, Epsilon: 0.06\n",
      "Episode 40/100 - Reward: -505.82893173945496, Epsilon: 0.05\n",
      "Episode 41/100 - Reward: -326.3679033926192, Epsilon: 0.05\n",
      "Episode 42/100 - Reward: -415.7508811280199, Epsilon: 0.05\n",
      "Episode 43/100 - Reward: -287.28907329325074, Epsilon: 0.04\n",
      "Episode 44/100 - Reward: -47.07883009936844, Epsilon: 0.04\n",
      "Episode 45/100 - Reward: -262.1369994752346, Epsilon: 0.04\n",
      "Episode 46/100 - Reward: -30014.963378140674, Epsilon: 0.03\n",
      "Episode 47/100 - Reward: -30043.59714102903, Epsilon: 0.03\n",
      "Episode 48/100 - Reward: -34957.36598132816, Epsilon: 0.03\n",
      "Episode 49/100 - Reward: -136.46180783476925, Epsilon: 0.03\n",
      "Episode 50/100 - Reward: -30014.963378140677, Epsilon: 0.02\n",
      "Episode 51/100 - Reward: -30265.61868854557, Epsilon: 0.02\n",
      "Episode 52/100 - Reward: -30021.92675628135, Epsilon: 0.02\n",
      "Episode 53/100 - Reward: -30021.92675628135, Epsilon: 0.02\n",
      "Episode 54/100 - Reward: -30008.0, Epsilon: 0.02\n",
      "Episode 55/100 - Reward: -30008.0, Epsilon: 0.02\n",
      "Episode 56/100 - Reward: -30502.34724266912, Epsilon: 0.02\n",
      "Episode 57/100 - Reward: -630.8090505038863, Epsilon: 0.01\n",
      "Episode 58/100 - Reward: -32.37182349236645, Epsilon: 0.01\n",
      "Episode 59/100 - Reward: -86.15766019873689, Epsilon: 0.01\n",
      "Episode 60/100 - Reward: -114.79142308709112, Epsilon: 0.01\n",
      "Episode 61/100 - Reward: -30032.371823492365, Epsilon: 0.01\n",
      "Episode 62/100 - Reward: -30086.157660198736, Epsilon: 0.01\n",
      "Episode 63/100 - Reward: -30168.577259793463, Epsilon: 0.01\n",
      "Episode 64/100 - Reward: -30136.46180783477, Epsilon: 0.01\n",
      "Episode 65/100 - Reward: -136.46180783476925, Epsilon: 0.01\n",
      "Episode 66/100 - Reward: -30104.346355876078, Epsilon: 0.01\n",
      "Episode 67/100 - Reward: -104.34635587607693, Epsilon: 0.01\n",
      "Episode 68/100 - Reward: -136.46180783476925, Epsilon: 0.01\n",
      "Episode 69/100 - Reward: -4985.9997442165195, Epsilon: 0.01\n",
      "Episode 70/100 - Reward: -30072.230903917385, Epsilon: 0.01\n",
      "Episode 71/100 - Reward: -30139.943496905107, Epsilon: 0.01\n",
      "Episode 72/100 - Reward: -14749.306520897404, Epsilon: 0.01\n",
      "Episode 73/100 - Reward: -8.0, Epsilon: 0.01\n",
      "Episode 74/100 - Reward: -40.11545195869231, Epsilon: 0.01\n",
      "Episode 75/100 - Reward: -136.46180783476925, Epsilon: 0.01\n",
      "Episode 76/100 - Reward: -4921.768840299134, Epsilon: 0.01\n",
      "Episode 77/100 - Reward: -9835.537680598269, Epsilon: 0.01\n",
      "Episode 78/100 - Reward: -104.34635587607693, Epsilon: 0.01\n",
      "Episode 79/100 - Reward: -30072.230903917385, Epsilon: 0.01\n",
      "Episode 80/100 - Reward: -14781.421972856097, Epsilon: 0.01\n",
      "Episode 81/100 - Reward: -30008.0, Epsilon: 0.01\n",
      "Episode 82/100 - Reward: -39835.53768059827, Epsilon: 0.01\n",
      "Episode 83/100 - Reward: -14749.306520897404, Epsilon: 0.01\n",
      "Episode 84/100 - Reward: -4921.768840299134, Epsilon: 0.01\n",
      "Episode 85/100 - Reward: -8.0, Epsilon: 0.01\n",
      "Episode 86/100 - Reward: -30072.230903917385, Epsilon: 0.01\n",
      "Episode 87/100 - Reward: -348.03828814029725, Epsilon: 0.01\n",
      "Episode 88/100 - Reward: -30040.115451958693, Epsilon: 0.01\n",
      "Episode 89/100 - Reward: -30136.46180783477, Epsilon: 0.01\n",
      "Episode 90/100 - Reward: -136.46180783476925, Epsilon: 0.01\n",
      "Episode 91/100 - Reward: -30008.0, Epsilon: 0.01\n",
      "Episode 92/100 - Reward: -30040.115451958693, Epsilon: 0.01\n",
      "Episode 93/100 - Reward: -35018.11519617521, Epsilon: 0.01\n",
      "Episode 94/100 - Reward: -30136.46180783477, Epsilon: 0.01\n",
      "Episode 95/100 - Reward: -168.57725979346156, Epsilon: 0.01\n",
      "Episode 96/100 - Reward: -251.69193226422038, Epsilon: 0.01\n",
      "Episode 97/100 - Reward: -527.499316487133, Epsilon: 0.01\n",
      "Episode 98/100 - Reward: -72.23090391738462, Epsilon: 0.01\n",
      "Episode 99/100 - Reward: -9867.653132556961, Epsilon: 0.01\n",
      "Episode 100/100 - Reward: -104.34635587607693, Epsilon: 0.01\n"
     ]
    }
   ],
   "source": [
    "DQN_Agent1 = DQN_Agent(\n",
    "    env=env, alpha=0.1, gamma=0.95, epsilon=1, epsilon_decay=0.99, epsilon_min=0.01, memory_size=10000, batch_size=32, target_update=10\n",
    ")\n",
    "DQN_q_table = DQN_Agent1.train(100,0)"
   ]
  },
  {
   "cell_type": "code",
   "execution_count": 191,
   "id": "dd1ee442",
   "metadata": {
    "scrolled": false
   },
   "outputs": [
    {
     "name": "stdout",
     "output_type": "stream",
     "text": [
      "Monte Carlo \n",
      " Average reward:  -278.75338191698387 \n",
      " Stuck:  0 \n",
      " Empty Q-values:  0.34440344403444034 %\n",
      "SARSA \n",
      " Average reward:  -1390.0130292939182 \n",
      " Stuck:  40 \n",
      " Empty Q-values:  12.59723964868256 %\n",
      "Q-Learning \n",
      " Average reward:  -875.1181965653761 \n",
      " Stuck:  25 \n",
      " Empty Q-values:  12.839506172839506 %\n",
      "Deep Q-Network \n",
      " Average reward:  -4461.150663820745 \n",
      " Stuck:  144 \n",
      " Empty Q-values:  0.0 %\n"
     ]
    }
   ],
   "source": [
    "MC_avg,MC_stuck = evaluate_q_table(MC_q_table, env, num_episodes=1000)\n",
    "MC_empty = calculate_empty_q_percentage(MC_q_table)\n",
    "print(\"Monte Carlo \\n Average reward: \", MC_avg ,\"\\n Stuck: \", MC_stuck , \"\\n Empty Q-values: \", MC_empty, \"%\")\n",
    "\n",
    "SARSA_avg,SARSA_stuck = evaluate_q_table(SARSA_q_table, env, num_episodes=1000)\n",
    "SARSA_empty = calculate_empty_q_percentage(SARSA_q_table)\n",
    "print(\"SARSA \\n Average reward: \", SARSA_avg ,\"\\n Stuck: \", SARSA_stuck , \"\\n Empty Q-values: \", SARSA_empty, \"%\")\n",
    "\n",
    "QLEARN_avg,QLEARN_stuck = evaluate_q_table(QLEARN_q_table, env, num_episodes=1000)\n",
    "QLEARN_empty = calculate_empty_q_percentage(QLEARN_q_table)\n",
    "print(\"Q-Learning \\n Average reward: \", QLEARN_avg ,\"\\n Stuck: \", QLEARN_stuck , \"\\n Empty Q-values: \", QLEARN_empty, \"%\")\n",
    "\n",
    "DQN_avg,DQN_stuck = evaluate_q_table(DQN_q_table, env, num_episodes=1000)\n",
    "DQN_empty = calculate_empty_q_percentage(DQN_q_table)\n",
    "print(\"Deep Q-Network \\n Average reward: \", DQN_avg ,\"\\n Stuck: \", DQN_stuck , \"\\n Empty Q-values: \", DQN_empty, \"%\")"
   ]
  },
  {
   "cell_type": "code",
   "execution_count": 71,
   "id": "82154036",
   "metadata": {},
   "outputs": [
    {
     "name": "stdout",
     "output_type": "stream",
     "text": [
      "Average reward for (10, 0.01, 0.1, 0.9): -9706.786666666667\n",
      "Average reward for (10, 0.01, 0.1, 0.99): -9936.303333333333\n",
      "Average reward for (10, 0.01, 0.1, 0.999): -9800.0\n",
      "Average reward for (10, 0.01, 0.5, 0.9): -9105.923333333332\n",
      "Average reward for (10, 0.01, 0.5, 0.99): -9936.333333333334\n",
      "Average reward for (10, 0.01, 0.5, 0.999): -9833.333333333334\n",
      "Average reward for (10, 0.01, 0.9, 0.9): -9671.12\n",
      "Average reward for (10, 0.01, 0.9, 0.99): -9906.596666666666\n",
      "Average reward for (10, 0.01, 0.9, 0.999): -9766.666666666666\n",
      "Average reward for (10, 0.01, 1, 0.9): -9653.089999999998\n",
      "Average reward for (10, 0.01, 1, 0.99): -9687.663333333332\n",
      "Average reward for (10, 0.01, 1, 0.999): -9766.666666666666\n",
      "Average reward for (10, 0.1, 0.1, 0.9): -9505.206666666667\n",
      "Average reward for (10, 0.1, 0.1, 0.99): -9839.273333333333\n",
      "Average reward for (10, 0.1, 0.1, 0.999): -9767.07\n",
      "Average reward for (10, 0.1, 0.5, 0.9): -9352.513333333334\n",
      "Average reward for (10, 0.1, 0.5, 0.99): -10009.0\n",
      "Average reward for (10, 0.1, 0.5, 0.999): -9833.333333333334\n",
      "Average reward for (10, 0.1, 0.9, 0.9): -9539.023333333333\n",
      "Average reward for (10, 0.1, 0.9, 0.99): -9900.0\n",
      "Average reward for (10, 0.1, 0.9, 0.999): -9800.0\n",
      "Average reward for (10, 0.1, 1, 0.9): -9302.906666666668\n",
      "Average reward for (10, 0.1, 1, 0.99): -9973.293333333333\n",
      "Average reward for (10, 0.1, 1, 0.999): -9766.666666666666\n",
      "Average reward for (10, 0.3, 0.1, 0.9): -9985.263333333334\n",
      "Average reward for (10, 0.3, 0.1, 0.99): -9262.023333333333\n",
      "Average reward for (10, 0.3, 0.1, 0.999): -9833.333333333334\n",
      "Average reward for (10, 0.3, 0.5, 0.9): -9368.34\n",
      "Average reward for (10, 0.3, 0.5, 0.99): -9916.17\n",
      "Average reward for (10, 0.3, 0.5, 0.999): -9766.666666666666\n",
      "Average reward for (10, 0.3, 0.9, 0.9): -9181.356666666667\n",
      "Average reward for (10, 0.3, 0.9, 0.99): -9905.79\n",
      "Average reward for (10, 0.3, 0.9, 0.999): -9733.333333333334\n",
      "Average reward for (10, 0.3, 1, 0.9): -9746.733333333334\n",
      "Average reward for (10, 0.3, 1, 0.99): -9903.0\n",
      "Average reward for (10, 0.3, 1, 0.999): -9800.0\n",
      "Average reward for (10, 0.6, 0.1, 0.9): -9717.283333333333\n",
      "Average reward for (10, 0.6, 0.1, 0.99): -9903.0\n",
      "Average reward for (10, 0.6, 0.1, 0.999): -9766.666666666666\n",
      "Average reward for (10, 0.6, 0.5, 0.9): -9530.363333333333\n",
      "Average reward for (10, 0.6, 0.5, 0.99): -9969.666666666666\n",
      "Average reward for (10, 0.6, 0.5, 0.999): -9833.333333333334\n",
      "Average reward for (10, 0.6, 0.9, 0.9): -9359.733333333332\n",
      "Average reward for (10, 0.6, 0.9, 0.99): -9885.806666666665\n",
      "Average reward for (10, 0.6, 0.9, 0.999): -9833.333333333334\n",
      "Average reward for (10, 0.6, 1, 0.9): -9408.633333333333\n",
      "Average reward for (10, 0.6, 1, 0.99): -9819.333333333334\n",
      "Average reward for (10, 0.6, 1, 0.999): -9700.0\n",
      "Average reward for (10, 1, 0.1, 0.9): -9398.306666666665\n",
      "Average reward for (10, 1, 0.1, 0.99): -9724.96\n",
      "Average reward for (10, 1, 0.1, 0.999): -9766.666666666666\n",
      "Average reward for (10, 1, 0.5, 0.9): -9356.199999999999\n",
      "Average reward for (10, 1, 0.5, 0.99): -9882.836666666668\n",
      "Average reward for (10, 1, 0.5, 0.999): -9800.0\n",
      "Average reward for (10, 1, 0.9, 0.9): -9741.893333333333\n",
      "Average reward for (10, 1, 0.9, 0.99): -9872.456666666667\n",
      "Average reward for (10, 1, 0.9, 0.999): -9633.333333333334\n",
      "Average reward for (10, 1, 1, 0.9): -9554.573333333334\n",
      "Average reward for (10, 1, 1, 0.99): -9982.836666666668\n",
      "Average reward for (10, 1, 1, 0.999): -9833.333333333334\n",
      "Average reward for (20, 0.01, 0.1, 0.9): -9336.933333333334\n",
      "Average reward for (20, 0.01, 0.1, 0.99): -9952.28\n",
      "Average reward for (20, 0.01, 0.1, 0.999): -9833.333333333334\n",
      "Average reward for (20, 0.01, 0.5, 0.9): -8944.666666666666\n",
      "Average reward for (20, 0.01, 0.5, 0.99): -9878.023333333333\n",
      "Average reward for (20, 0.01, 0.5, 0.999): -9700.163333333332\n",
      "Average reward for (20, 0.01, 0.9, 0.9): -8870.563333333334\n",
      "Average reward for (20, 0.01, 0.9, 0.99): -9390.393333333333\n",
      "Average reward for (20, 0.01, 0.9, 0.999): -9833.333333333334\n",
      "Average reward for (20, 0.01, 1, 0.9): -9428.823333333334\n",
      "Average reward for (20, 0.01, 1, 0.99): -9697.316666666668\n",
      "Average reward for (20, 0.01, 1, 0.999): -9800.0\n",
      "Average reward for (20, 0.1, 0.1, 0.9): -8828.5\n",
      "Average reward for (20, 0.1, 0.1, 0.99): -8586.613333333335\n",
      "Average reward for (20, 0.1, 0.1, 0.999): -9800.0\n",
      "Average reward for (20, 0.1, 0.5, 0.9): -8424.393333333333\n",
      "Average reward for (20, 0.1, 0.5, 0.99): -9362.269999999999\n",
      "Average reward for (20, 0.1, 0.5, 0.999): -9900.0\n",
      "Average reward for (20, 0.1, 0.9, 0.9): -7927.423333333333\n",
      "Average reward for (20, 0.1, 0.9, 0.99): -8103.473333333334\n",
      "Average reward for (20, 0.1, 0.9, 0.999): -9767.07\n",
      "Average reward for (20, 0.1, 1, 0.9): -8893.756666666666\n",
      "Average reward for (20, 0.1, 1, 0.99): -8770.08\n",
      "Average reward for (20, 0.1, 1, 0.999): -9766.666666666666\n",
      "Average reward for (20, 0.3, 0.1, 0.9): -7501.463333333333\n",
      "Average reward for (20, 0.3, 0.1, 0.99): -8588.316666666666\n",
      "Average reward for (20, 0.3, 0.1, 0.999): -9733.363333333333\n",
      "Average reward for (20, 0.3, 0.5, 0.9): -9336.386666666665\n",
      "Average reward for (20, 0.3, 0.5, 0.99): -9426.536666666667\n",
      "Average reward for (20, 0.3, 0.5, 0.999): -9700.0\n",
      "Average reward for (20, 0.3, 0.9, 0.9): -8500.88\n",
      "Average reward for (20, 0.3, 0.9, 0.99): -8973.366666666667\n",
      "Average reward for (20, 0.3, 0.9, 0.999): -9800.0\n",
      "Average reward for (20, 0.3, 1, 0.9): -9176.943333333333\n",
      "Average reward for (20, 0.3, 1, 0.99): -8959.253333333332\n",
      "Average reward for (20, 0.3, 1, 0.999): -9766.666666666666\n",
      "Average reward for (20, 0.6, 0.1, 0.9): -9732.539999999999\n",
      "Average reward for (20, 0.6, 0.1, 0.99): -9248.94\n",
      "Average reward for (20, 0.6, 0.1, 0.999): -9833.363333333333\n",
      "Average reward for (20, 0.6, 0.5, 0.9): -8449.853333333333\n",
      "Average reward for (20, 0.6, 0.5, 0.99): -9740.833333333334\n",
      "Average reward for (20, 0.6, 0.5, 0.999): -9833.333333333334\n",
      "Average reward for (20, 0.6, 0.9, 0.9): -7130.503333333334\n",
      "Average reward for (20, 0.6, 0.9, 0.99): -9253.606666666667\n",
      "Average reward for (20, 0.6, 0.9, 0.999): -9833.333333333334\n",
      "Average reward for (20, 0.6, 1, 0.9): -8198.213333333333\n",
      "Average reward for (20, 0.6, 1, 0.99): -9033.346666666666\n",
      "Average reward for (20, 0.6, 1, 0.999): -9733.736666666666\n",
      "Average reward for (20, 1, 0.1, 0.9): -9844.33\n",
      "Average reward for (20, 1, 0.1, 0.99): -8841.173333333334\n",
      "Average reward for (20, 1, 0.1, 0.999): -9766.666666666666\n",
      "Average reward for (20, 1, 0.5, 0.9): -9605.46\n",
      "Average reward for (20, 1, 0.5, 0.99): -9975.606666666667\n",
      "Average reward for (20, 1, 0.5, 0.999): -9800.0\n",
      "Average reward for (20, 1, 0.9, 0.9): -10008.17\n",
      "Average reward for (20, 1, 0.9, 0.99): -9173.303333333333\n",
      "Average reward for (20, 1, 0.9, 0.999): -9833.333333333334\n",
      "Average reward for (20, 1, 1, 0.9): -8778.703333333333\n",
      "Average reward for (20, 1, 1, 0.99): -9860.966666666667\n",
      "Average reward for (20, 1, 1, 0.999): -9766.666666666666\n",
      "Average reward for (40, 0.01, 0.1, 0.9): -9921.56\n",
      "Average reward for (40, 0.01, 0.1, 0.99): -9606.893333333333\n",
      "Average reward for (40, 0.01, 0.1, 0.999): -9800.0\n",
      "Average reward for (40, 0.01, 0.5, 0.9): -9719.410000000002\n",
      "Average reward for (40, 0.01, 0.5, 0.99): -8740.733333333334\n",
      "Average reward for (40, 0.01, 0.5, 0.999): -9866.666666666666\n",
      "Average reward for (40, 0.01, 0.9, 0.9): -8892.403333333334\n",
      "Average reward for (40, 0.01, 0.9, 0.99): -8781.126666666665\n",
      "Average reward for (40, 0.01, 0.9, 0.999): -9866.666666666666\n",
      "Average reward for (40, 0.01, 1, 0.9): -9629.769999999999\n",
      "Average reward for (40, 0.01, 1, 0.99): -8569.136666666667\n",
      "Average reward for (40, 0.01, 1, 0.999): -9866.726666666667\n",
      "Average reward for (40, 0.1, 0.1, 0.9): -8718.573333333332\n",
      "Average reward for (40, 0.1, 0.1, 0.99): -9110.333333333334\n",
      "Average reward for (40, 0.1, 0.1, 0.999): -9833.363333333333\n",
      "Average reward for (40, 0.1, 0.5, 0.9): -7489.173333333332\n",
      "Average reward for (40, 0.1, 0.5, 0.99): -9462.943333333335\n",
      "Average reward for (40, 0.1, 0.5, 0.999): -9833.496666666666\n",
      "Average reward for (40, 0.1, 0.9, 0.9): -9037.446666666667\n",
      "Average reward for (40, 0.1, 0.9, 0.99): -7919.740000000001\n",
      "Average reward for (40, 0.1, 0.9, 0.999): -9666.86\n",
      "Average reward for (40, 0.1, 1, 0.9): -8512.573333333334\n",
      "Average reward for (40, 0.1, 1, 0.99): -7738.823333333334\n",
      "Average reward for (40, 0.1, 1, 0.999): -9933.333333333334\n",
      "Average reward for (40, 0.3, 0.1, 0.9): -9737.84\n",
      "Average reward for (40, 0.3, 0.1, 0.99): -8373.126666666667\n"
     ]
    },
    {
     "name": "stdout",
     "output_type": "stream",
     "text": [
      "Average reward for (40, 0.3, 0.1, 0.999): -9933.333333333334\n",
      "Average reward for (40, 0.3, 0.5, 0.9): -8815.456666666667\n",
      "Average reward for (40, 0.3, 0.5, 0.99): -8445.476666666667\n",
      "Average reward for (40, 0.3, 0.5, 0.999): -9800.0\n",
      "Average reward for (40, 0.3, 0.9, 0.9): -7265.236666666667\n",
      "Average reward for (40, 0.3, 0.9, 0.99): -8277.143333333333\n",
      "Average reward for (40, 0.3, 0.9, 0.999): -9800.0\n",
      "Average reward for (40, 0.3, 1, 0.9): -7087.653333333333\n",
      "Average reward for (40, 0.3, 1, 0.99): -9004.643333333333\n",
      "Average reward for (40, 0.3, 1, 0.999): -9833.333333333334\n",
      "Average reward for (40, 0.6, 0.1, 0.9): -7459.196666666667\n",
      "Average reward for (40, 0.6, 0.1, 0.99): -8218.826666666668\n",
      "Average reward for (40, 0.6, 0.1, 0.999): -9815.71\n",
      "Average reward for (40, 0.6, 0.5, 0.9): -6281.046666666666\n",
      "Average reward for (40, 0.6, 0.5, 0.99): -9440.073333333334\n",
      "Average reward for (40, 0.6, 0.5, 0.999): -9833.333333333334\n",
      "Average reward for (40, 0.6, 0.9, 0.9): -7749.66\n",
      "Average reward for (40, 0.6, 0.9, 0.99): -9208.9\n",
      "Average reward for (40, 0.6, 0.9, 0.999): -9866.696666666667\n",
      "Average reward for (40, 0.6, 1, 0.9): -8062.606666666667\n",
      "Average reward for (40, 0.6, 1, 0.99): -7919.386666666666\n",
      "Average reward for (40, 0.6, 1, 0.999): -9903.0\n",
      "Average reward for (40, 1, 0.1, 0.9): -7627.59\n",
      "Average reward for (40, 1, 0.1, 0.99): -9945.243333333334\n",
      "Average reward for (40, 1, 0.1, 0.999): -9766.666666666666\n",
      "Average reward for (40, 1, 0.5, 0.9): -8780.976666666666\n",
      "Average reward for (40, 1, 0.5, 0.99): -8951.926666666666\n",
      "Average reward for (40, 1, 0.5, 0.999): -9800.0\n",
      "Average reward for (40, 1, 0.9, 0.9): -6754.86\n",
      "Average reward for (40, 1, 0.9, 0.99): -8490.63\n",
      "Average reward for (40, 1, 0.9, 0.999): -9869.636666666667\n",
      "Average reward for (40, 1, 1, 0.9): -8673.493333333334\n",
      "Average reward for (40, 1, 1, 0.99): -8603.176666666666\n",
      "Average reward for (40, 1, 1, 0.999): -9766.696666666667\n",
      "Average reward for (80, 0.01, 0.1, 0.9): -9361.553333333333\n",
      "Average reward for (80, 0.01, 0.1, 0.99): -9298.683333333332\n",
      "Average reward for (80, 0.01, 0.1, 0.999): -9109.623333333333\n",
      "Average reward for (80, 0.01, 0.5, 0.9): -8894.493333333334\n",
      "Average reward for (80, 0.01, 0.5, 0.99): -8473.17\n",
      "Average reward for (80, 0.01, 0.5, 0.999): -9988.836666666668\n",
      "Average reward for (80, 0.01, 0.9, 0.9): -8269.676666666666\n",
      "Average reward for (80, 0.01, 0.9, 0.99): -8233.006666666666\n",
      "Average reward for (80, 0.01, 0.9, 0.999): -9824.886666666667\n",
      "Average reward for (80, 0.01, 1, 0.9): -8925.94\n",
      "Average reward for (80, 0.01, 1, 0.99): -8879.42\n",
      "Average reward for (80, 0.01, 1, 0.999): -9195.33\n",
      "Average reward for (80, 0.1, 0.1, 0.9): -8067.683333333334\n",
      "Average reward for (80, 0.1, 0.1, 0.99): -8472.996666666666\n",
      "Average reward for (80, 0.1, 0.1, 0.999): -9552.346666666666\n",
      "Average reward for (80, 0.1, 0.5, 0.9): -7306.8533333333335\n",
      "Average reward for (80, 0.1, 0.5, 0.99): -7223.363333333334\n",
      "Average reward for (80, 0.1, 0.5, 0.999): -8855.086666666668\n",
      "Average reward for (80, 0.1, 0.9, 0.9): -7542.473333333332\n",
      "Average reward for (80, 0.1, 0.9, 0.99): -5464.353333333333\n",
      "Average reward for (80, 0.1, 0.9, 0.999): -9878.800000000001\n",
      "Average reward for (80, 0.1, 1, 0.9): -5800.9800000000005\n",
      "Average reward for (80, 0.1, 1, 0.99): -7123.973333333332\n",
      "Average reward for (80, 0.1, 1, 0.999): -9132.243333333332\n",
      "Average reward for (80, 0.3, 0.1, 0.9): -8273.1\n",
      "Average reward for (80, 0.3, 0.1, 0.99): -6594.75\n",
      "Average reward for (80, 0.3, 0.1, 0.999): -9286.586666666668\n",
      "Average reward for (80, 0.3, 0.5, 0.9): -7636.013333333333\n",
      "Average reward for (80, 0.3, 0.5, 0.99): -7109.026666666666\n",
      "Average reward for (80, 0.3, 0.5, 0.999): -8240.263333333334\n",
      "Average reward for (80, 0.3, 0.9, 0.9): -7727.943333333334\n",
      "Average reward for (80, 0.3, 0.9, 0.99): -6930.193333333334\n",
      "Average reward for (80, 0.3, 0.9, 0.999): -9891.36\n",
      "Average reward for (80, 0.3, 1, 0.9): -7015.556666666666\n",
      "Average reward for (80, 0.3, 1, 0.99): -6602.459999999999\n",
      "Average reward for (80, 0.3, 1, 0.999): -9785.066666666668\n",
      "Average reward for (80, 0.6, 0.1, 0.9): -8929.486666666666\n",
      "Average reward for (80, 0.6, 0.1, 0.99): -8278.973333333333\n",
      "Average reward for (80, 0.6, 0.1, 0.999): -9573.376666666667\n",
      "Average reward for (80, 0.6, 0.5, 0.9): -6229.56\n",
      "Average reward for (80, 0.6, 0.5, 0.99): -6465.326666666667\n",
      "Average reward for (80, 0.6, 0.5, 0.999): -9377.223333333333\n",
      "Average reward for (80, 0.6, 0.9, 0.9): -5563.4766666666665\n",
      "Average reward for (80, 0.6, 0.9, 0.99): -7119.47\n",
      "Average reward for (80, 0.6, 0.9, 0.999): -9163.016666666666\n",
      "Average reward for (80, 0.6, 1, 0.9): -7308.106666666667\n",
      "Average reward for (80, 0.6, 1, 0.99): -5779.9766666666665\n",
      "Average reward for (80, 0.6, 1, 0.999): -9062.866666666667\n",
      "Average reward for (80, 1, 0.1, 0.9): -6658.5\n",
      "Average reward for (80, 1, 0.1, 0.99): -5732.03\n",
      "Average reward for (80, 1, 0.1, 0.999): -8395.433333333332\n",
      "Average reward for (80, 1, 0.5, 0.9): -7166.186666666666\n",
      "Average reward for (80, 1, 0.5, 0.99): -6325.596666666667\n",
      "Average reward for (80, 1, 0.5, 0.999): -9029.609999999999\n",
      "Average reward for (80, 1, 0.9, 0.9): -5124.02\n",
      "Average reward for (80, 1, 0.9, 0.99): -8682.55\n",
      "Average reward for (80, 1, 0.9, 0.999): -9846.61\n",
      "Average reward for (80, 1, 1, 0.9): -7008.493333333333\n",
      "Average reward for (80, 1, 1, 0.99): -6765.953333333334\n",
      "Average reward for (80, 1, 1, 0.999): -9305.806666666665\n",
      "Average reward for (160, 0.01, 0.1, 0.9): -8558.21\n",
      "Average reward for (160, 0.01, 0.1, 0.99): -9186.426666666666\n",
      "Average reward for (160, 0.01, 0.1, 0.999): -9545.04\n",
      "Average reward for (160, 0.01, 0.5, 0.9): -5820.54\n",
      "Average reward for (160, 0.01, 0.5, 0.99): -8173.740000000001\n",
      "Average reward for (160, 0.01, 0.5, 0.999): -8636.789999999999\n",
      "Average reward for (160, 0.01, 0.9, 0.9): -6701.576666666667\n",
      "Average reward for (160, 0.01, 0.9, 0.99): -6581.046666666666\n",
      "Average reward for (160, 0.01, 0.9, 0.999): -9823.0\n",
      "Average reward for (160, 0.01, 1, 0.9): -7691.256666666665\n",
      "Average reward for (160, 0.01, 1, 0.99): -7351.760000000001\n",
      "Average reward for (160, 0.01, 1, 0.999): -7971.03\n",
      "Average reward for (160, 0.1, 0.1, 0.9): -8485.476666666667\n",
      "Average reward for (160, 0.1, 0.1, 0.99): -7464.09\n",
      "Average reward for (160, 0.1, 0.1, 0.999): -9234.023333333333\n",
      "Average reward for (160, 0.1, 0.5, 0.9): -4605.126666666667\n",
      "Average reward for (160, 0.1, 0.5, 0.99): -5842.006666666667\n",
      "Average reward for (160, 0.1, 0.5, 0.999): -7071.8966666666665\n",
      "Average reward for (160, 0.1, 0.9, 0.9): -3806.0466666666666\n",
      "Average reward for (160, 0.1, 0.9, 0.99): -6160.996666666667\n",
      "Average reward for (160, 0.1, 0.9, 0.999): -9018.313333333334\n",
      "Average reward for (160, 0.1, 1, 0.9): -4340.453333333334\n",
      "Average reward for (160, 0.1, 1, 0.99): -6186.276666666668\n",
      "Average reward for (160, 0.1, 1, 0.999): -7362.903333333333\n",
      "Average reward for (160, 0.3, 0.1, 0.9): -8711.86\n",
      "Average reward for (160, 0.3, 0.1, 0.99): -7476.703333333334\n",
      "Average reward for (160, 0.3, 0.1, 0.999): -9096.49\n",
      "Average reward for (160, 0.3, 0.5, 0.9): -8206.433333333332\n",
      "Average reward for (160, 0.3, 0.5, 0.99): -4494.326666666667\n",
      "Average reward for (160, 0.3, 0.5, 0.999): -8072.4800000000005\n",
      "Average reward for (160, 0.3, 0.9, 0.9): -5759.360000000001\n",
      "Average reward for (160, 0.3, 0.9, 0.99): -3371.64\n",
      "Average reward for (160, 0.3, 0.9, 0.999): -5866.360000000001\n",
      "Average reward for (160, 0.3, 1, 0.9): -4018.406666666667\n",
      "Average reward for (160, 0.3, 1, 0.99): -5308.863333333333\n",
      "Average reward for (160, 0.3, 1, 0.999): -9082.736666666666\n",
      "Average reward for (160, 0.6, 0.1, 0.9): -6569.246666666666\n",
      "Average reward for (160, 0.6, 0.1, 0.99): -5190.070000000001\n",
      "Average reward for (160, 0.6, 0.1, 0.999): -6168.776666666666\n",
      "Average reward for (160, 0.6, 0.5, 0.9): -4208.556666666666\n",
      "Average reward for (160, 0.6, 0.5, 0.99): -6486.18\n",
      "Average reward for (160, 0.6, 0.5, 0.999): -7409.059999999999\n",
      "Average reward for (160, 0.6, 0.9, 0.9): -3940.7000000000003\n",
      "Average reward for (160, 0.6, 0.9, 0.99): -5207.166666666667\n",
      "Average reward for (160, 0.6, 0.9, 0.999): -6331.116666666668\n",
      "Average reward for (160, 0.6, 1, 0.9): -6085.63\n",
      "Average reward for (160, 0.6, 1, 0.99): -3171.94\n",
      "Average reward for (160, 0.6, 1, 0.999): -7449.793333333334\n",
      "Average reward for (160, 1, 0.1, 0.9): -6791.403333333333\n",
      "Average reward for (160, 1, 0.1, 0.99): -7745.639999999999\n",
      "Average reward for (160, 1, 0.1, 0.999): -8245.046666666667\n",
      "Average reward for (160, 1, 0.5, 0.9): -4379.203333333333\n",
      "Average reward for (160, 1, 0.5, 0.99): -4908.47\n",
      "Average reward for (160, 1, 0.5, 0.999): -5578.143333333333\n",
      "Average reward for (160, 1, 0.9, 0.9): -4486.133333333333\n",
      "Average reward for (160, 1, 0.9, 0.99): -5288.733333333333\n",
      "Average reward for (160, 1, 0.9, 0.999): -7748.366666666666\n"
     ]
    },
    {
     "name": "stdout",
     "output_type": "stream",
     "text": [
      "Average reward for (160, 1, 1, 0.9): -5068.79\n",
      "Average reward for (160, 1, 1, 0.99): -6204.986666666667\n",
      "Average reward for (160, 1, 1, 0.999): -5555.54\n",
      "Average reward for (320, 0.01, 0.1, 0.9): -8418.556666666665\n",
      "Average reward for (320, 0.01, 0.1, 0.99): -9056.07\n",
      "Average reward for (320, 0.01, 0.1, 0.999): -9240.926666666666\n",
      "Average reward for (320, 0.01, 0.5, 0.9): -7509.32\n",
      "Average reward for (320, 0.01, 0.5, 0.99): -6059.586666666667\n",
      "Average reward for (320, 0.01, 0.5, 0.999): -9439.656666666668\n",
      "Average reward for (320, 0.01, 0.9, 0.9): -9188.846666666666\n",
      "Average reward for (320, 0.01, 0.9, 0.99): -5657.876666666667\n",
      "Average reward for (320, 0.01, 0.9, 0.999): -6037.526666666668\n",
      "Average reward for (320, 0.01, 1, 0.9): -6852.7266666666665\n",
      "Average reward for (320, 0.01, 1, 0.99): -3905.09\n",
      "Average reward for (320, 0.01, 1, 0.999): -6321.496666666667\n",
      "Average reward for (320, 0.1, 0.1, 0.9): -7872.003333333334\n",
      "Average reward for (320, 0.1, 0.1, 0.99): -5638.516666666666\n",
      "Average reward for (320, 0.1, 0.1, 0.999): -8297.94\n",
      "Average reward for (320, 0.1, 0.5, 0.9): -3183.36\n",
      "Average reward for (320, 0.1, 0.5, 0.99): -7280.610000000001\n",
      "Average reward for (320, 0.1, 0.5, 0.999): -7967.946666666666\n",
      "Average reward for (320, 0.1, 0.9, 0.9): -2867.06\n",
      "Average reward for (320, 0.1, 0.9, 0.99): -3927.75\n",
      "Average reward for (320, 0.1, 0.9, 0.999): -3805.353333333334\n",
      "Average reward for (320, 0.1, 1, 0.9): -5361.2699999999995\n",
      "Average reward for (320, 0.1, 1, 0.99): -3577.73\n",
      "Average reward for (320, 0.1, 1, 0.999): -5940.583333333333\n",
      "Average reward for (320, 0.3, 0.1, 0.9): -4806.136666666666\n",
      "Average reward for (320, 0.3, 0.1, 0.99): -5850.473333333332\n",
      "Average reward for (320, 0.3, 0.1, 0.999): -6644.263333333333\n",
      "Average reward for (320, 0.3, 0.5, 0.9): -3515.7999999999997\n",
      "Average reward for (320, 0.3, 0.5, 0.99): -2269.0133333333333\n",
      "Average reward for (320, 0.3, 0.5, 0.999): -3737.683333333333\n",
      "Average reward for (320, 0.3, 0.9, 0.9): -1912.3100000000002\n",
      "Average reward for (320, 0.3, 0.9, 0.99): -2634.763333333334\n",
      "Average reward for (320, 0.3, 0.9, 0.999): -4000.116666666667\n",
      "Average reward for (320, 0.3, 1, 0.9): -4266.09\n",
      "Average reward for (320, 0.3, 1, 0.99): -3113.3933333333334\n",
      "Average reward for (320, 0.3, 1, 0.999): -2859.226666666667\n",
      "Average reward for (320, 0.6, 0.1, 0.9): -7437.3\n",
      "Average reward for (320, 0.6, 0.1, 0.99): -5686.173333333333\n",
      "Average reward for (320, 0.6, 0.1, 0.999): -9058.486666666666\n",
      "Average reward for (320, 0.6, 0.5, 0.9): -2657.7866666666664\n",
      "Average reward for (320, 0.6, 0.5, 0.99): -3949.33\n",
      "Average reward for (320, 0.6, 0.5, 0.999): -4044.5499999999997\n",
      "Average reward for (320, 0.6, 0.9, 0.9): -2167.9700000000003\n",
      "Average reward for (320, 0.6, 0.9, 0.99): -2705.44\n",
      "Average reward for (320, 0.6, 0.9, 0.999): -3103.49\n",
      "Average reward for (320, 0.6, 1, 0.9): -2153.0133333333333\n",
      "Average reward for (320, 0.6, 1, 0.99): -3165.603333333334\n",
      "Average reward for (320, 0.6, 1, 0.999): -4834.836666666667\n",
      "Average reward for (320, 1, 0.1, 0.9): -8483.073333333334\n",
      "Average reward for (320, 1, 0.1, 0.99): -6792.5233333333335\n",
      "Average reward for (320, 1, 0.1, 0.999): -9528.54\n",
      "Average reward for (320, 1, 0.5, 0.9): -2464.9166666666665\n",
      "Average reward for (320, 1, 0.5, 0.99): -3624.236666666666\n",
      "Average reward for (320, 1, 0.5, 0.999): -3971.866666666667\n",
      "Average reward for (320, 1, 0.9, 0.9): -1819.3333333333333\n",
      "Average reward for (320, 1, 0.9, 0.99): -4588.79\n",
      "Average reward for (320, 1, 0.9, 0.999): -3910.4166666666665\n",
      "Average reward for (320, 1, 1, 0.9): -3062.6566666666663\n",
      "Average reward for (320, 1, 1, 0.99): -1752.4533333333331\n",
      "Average reward for (320, 1, 1, 0.999): -4309.990000000001\n",
      "Average reward for (640, 0.01, 0.1, 0.9): -6666.12\n",
      "Average reward for (640, 0.01, 0.1, 0.99): -6734.496666666666\n",
      "Average reward for (640, 0.01, 0.1, 0.999): -9319.223333333333\n",
      "Average reward for (640, 0.01, 0.5, 0.9): -2786.806666666667\n",
      "Average reward for (640, 0.01, 0.5, 0.99): -6592.77\n",
      "Average reward for (640, 0.01, 0.5, 0.999): -6721.899999999999\n",
      "Average reward for (640, 0.01, 0.9, 0.9): -4733.3\n",
      "Average reward for (640, 0.01, 0.9, 0.99): -5972.566666666666\n",
      "Average reward for (640, 0.01, 0.9, 0.999): -7364.576666666667\n",
      "Average reward for (640, 0.01, 1, 0.9): -5917.2300000000005\n",
      "Average reward for (640, 0.01, 1, 0.99): -8942.293333333333\n",
      "Average reward for (640, 0.01, 1, 0.999): -5536.0199999999995\n",
      "Average reward for (640, 0.1, 0.1, 0.9): -6690.213333333333\n",
      "Average reward for (640, 0.1, 0.1, 0.99): -7083.036666666667\n",
      "Average reward for (640, 0.1, 0.1, 0.999): -5034.7\n",
      "Average reward for (640, 0.1, 0.5, 0.9): -2886.98\n",
      "Average reward for (640, 0.1, 0.5, 0.99): -1615.8233333333335\n",
      "Average reward for (640, 0.1, 0.5, 0.999): -2820.2966666666666\n",
      "Average reward for (640, 0.1, 0.9, 0.9): -1237.4866666666667\n",
      "Average reward for (640, 0.1, 0.9, 0.99): -3352.36\n",
      "Average reward for (640, 0.1, 0.9, 0.999): -7102.86\n",
      "Average reward for (640, 0.1, 1, 0.9): -1249.9766666666667\n",
      "Average reward for (640, 0.1, 1, 0.99): -1429.4033333333334\n",
      "Average reward for (640, 0.1, 1, 0.999): -1386.4233333333332\n",
      "Average reward for (640, 0.3, 0.1, 0.9): -5297.8\n",
      "Average reward for (640, 0.3, 0.1, 0.99): -3605.0333333333333\n",
      "Average reward for (640, 0.3, 0.1, 0.999): -3636.993333333334\n",
      "Average reward for (640, 0.3, 0.5, 0.9): -1137.6133333333335\n",
      "Average reward for (640, 0.3, 0.5, 0.99): -1497.6033333333332\n",
      "Average reward for (640, 0.3, 0.5, 0.999): -1393.7333333333333\n",
      "Average reward for (640, 0.3, 0.9, 0.9): -1353.9466666666667\n",
      "Average reward for (640, 0.3, 0.9, 0.99): -885.11\n",
      "Average reward for (640, 0.3, 0.9, 0.999): -971.5100000000001\n",
      "Average reward for (640, 0.3, 1, 0.9): -788.6599999999999\n",
      "Average reward for (640, 0.3, 1, 0.99): -736.81\n",
      "Average reward for (640, 0.3, 1, 0.999): -1515.3100000000002\n",
      "Average reward for (640, 0.6, 0.1, 0.9): -5508.68\n",
      "Average reward for (640, 0.6, 0.1, 0.99): -5665.599999999999\n",
      "Average reward for (640, 0.6, 0.1, 0.999): -4485.45\n",
      "Average reward for (640, 0.6, 0.5, 0.9): -1200.44\n",
      "Average reward for (640, 0.6, 0.5, 0.99): -1077.5733333333335\n",
      "Average reward for (640, 0.6, 0.5, 0.999): -1646.4799999999998\n",
      "Average reward for (640, 0.6, 0.9, 0.9): -2725.78\n",
      "Average reward for (640, 0.6, 0.9, 0.99): -1598.1366666666665\n",
      "Average reward for (640, 0.6, 0.9, 0.999): -1075.2233333333334\n",
      "Average reward for (640, 0.6, 1, 0.9): -991.5500000000001\n",
      "Average reward for (640, 0.6, 1, 0.99): -1975.6166666666668\n",
      "Average reward for (640, 0.6, 1, 0.999): -1320.0366666666666\n",
      "Average reward for (640, 1, 0.1, 0.9): -9887.436666666666\n",
      "Average reward for (640, 1, 0.1, 0.99): -9889.683333333332\n",
      "Average reward for (640, 1, 0.1, 0.999): -9852.093333333334\n",
      "Average reward for (640, 1, 0.5, 0.9): -2786.35\n",
      "Average reward for (640, 1, 0.5, 0.99): -1355.93\n",
      "Average reward for (640, 1, 0.5, 0.999): -2120.1033333333335\n",
      "Average reward for (640, 1, 0.9, 0.9): -942.14\n",
      "Average reward for (640, 1, 0.9, 0.99): -3918.403333333333\n",
      "Average reward for (640, 1, 0.9, 0.999): -1109.1266666666668\n",
      "Average reward for (640, 1, 1, 0.9): -711.62\n",
      "Average reward for (640, 1, 1, 0.99): -903.83\n",
      "Average reward for (640, 1, 1, 0.999): -1555.2166666666665\n",
      "Average reward for (1280, 0.01, 0.1, 0.9): -8371.506666666666\n",
      "Average reward for (1280, 0.01, 0.1, 0.99): -8942.68\n",
      "Average reward for (1280, 0.01, 0.1, 0.999): -8539.01\n",
      "Average reward for (1280, 0.01, 0.5, 0.9): -7390.369999999999\n",
      "Average reward for (1280, 0.01, 0.5, 0.99): -5468.863333333334\n",
      "Average reward for (1280, 0.01, 0.5, 0.999): -5871.663333333334\n",
      "Average reward for (1280, 0.01, 0.9, 0.9): -5214.650000000001\n",
      "Average reward for (1280, 0.01, 0.9, 0.99): -6094.666666666667\n",
      "Average reward for (1280, 0.01, 0.9, 0.999): -3180.1800000000003\n",
      "Average reward for (1280, 0.01, 1, 0.9): -2603.8033333333337\n",
      "Average reward for (1280, 0.01, 1, 0.99): -4723.493333333333\n",
      "Average reward for (1280, 0.01, 1, 0.999): -3757.78\n",
      "Average reward for (1280, 0.1, 0.1, 0.9): -3883.463333333333\n",
      "Average reward for (1280, 0.1, 0.1, 0.99): -3264.6966666666667\n",
      "Average reward for (1280, 0.1, 0.1, 0.999): -6114.886666666668\n",
      "Average reward for (1280, 0.1, 0.5, 0.9): -1071.4633333333334\n",
      "Average reward for (1280, 0.1, 0.5, 0.99): -1819.0666666666668\n",
      "Average reward for (1280, 0.1, 0.5, 0.999): -1705.0466666666669\n",
      "Average reward for (1280, 0.1, 0.9, 0.9): -647.6333333333333\n"
     ]
    },
    {
     "name": "stdout",
     "output_type": "stream",
     "text": [
      "Average reward for (1280, 0.1, 0.9, 0.99): -613.1766666666666\n",
      "Average reward for (1280, 0.1, 0.9, 0.999): -697.2099999999999\n",
      "Average reward for (1280, 0.1, 1, 0.9): -1241.2\n",
      "Average reward for (1280, 0.1, 1, 0.99): -3045.2666666666664\n",
      "Average reward for (1280, 0.1, 1, 0.999): -905.4699999999999\n",
      "Average reward for (1280, 0.3, 0.1, 0.9): -5369.2699999999995\n",
      "Average reward for (1280, 0.3, 0.1, 0.99): -2527.2999999999997\n",
      "Average reward for (1280, 0.3, 0.1, 0.999): -6038.28\n",
      "Average reward for (1280, 0.3, 0.5, 0.9): -907.8733333333333\n",
      "Average reward for (1280, 0.3, 0.5, 0.99): -713.3233333333333\n",
      "Average reward for (1280, 0.3, 0.5, 0.999): -867.6933333333333\n",
      "Average reward for (1280, 0.3, 0.9, 0.9): -640.1333333333333\n",
      "Average reward for (1280, 0.3, 0.9, 0.99): -964.4533333333333\n",
      "Average reward for (1280, 0.3, 0.9, 0.999): -516.5\n",
      "Average reward for (1280, 0.3, 1, 0.9): -667.65\n",
      "Average reward for (1280, 0.3, 1, 0.99): -237.95333333333335\n",
      "Average reward for (1280, 0.3, 1, 0.999): -422.28666666666663\n",
      "Average reward for (1280, 0.6, 0.1, 0.9): -4700.213333333333\n",
      "Average reward for (1280, 0.6, 0.1, 0.99): -9043.586666666664\n",
      "Average reward for (1280, 0.6, 0.1, 0.999): -7226.453333333334\n",
      "Average reward for (1280, 0.6, 0.5, 0.9): -617.0833333333334\n",
      "Average reward for (1280, 0.6, 0.5, 0.99): -499.5900000000001\n",
      "Average reward for (1280, 0.6, 0.5, 0.999): -677.49\n",
      "Average reward for (1280, 0.6, 0.9, 0.9): -537.2900000000001\n",
      "Average reward for (1280, 0.6, 0.9, 0.99): -2000.6966666666667\n",
      "Average reward for (1280, 0.6, 0.9, 0.999): -794.0033333333334\n",
      "Average reward for (1280, 0.6, 1, 0.9): -415.45\n",
      "Average reward for (1280, 0.6, 1, 0.99): -323.77333333333337\n",
      "Average reward for (1280, 0.6, 1, 0.999): -484.02666666666664\n",
      "Average reward for (1280, 1, 0.1, 0.9): -9822.730000000001\n",
      "Average reward for (1280, 1, 0.1, 0.99): -9915.21\n",
      "Average reward for (1280, 1, 0.1, 0.999): -8942.01\n",
      "Average reward for (1280, 1, 0.5, 0.9): -1795.2966666666664\n",
      "Average reward for (1280, 1, 0.5, 0.99): -678.87\n",
      "Average reward for (1280, 1, 0.5, 0.999): -1248.5833333333333\n",
      "Average reward for (1280, 1, 0.9, 0.9): -521.3166666666667\n",
      "Average reward for (1280, 1, 0.9, 0.99): -407.2166666666667\n",
      "Average reward for (1280, 1, 0.9, 0.999): -593.5333333333333\n",
      "Average reward for (1280, 1, 1, 0.9): -578.4899999999999\n",
      "Average reward for (1280, 1, 1, 0.99): -589.4633333333333\n",
      "Average reward for (1280, 1, 1, 0.999): -710.7566666666665\n",
      "Average reward for (2560, 0.01, 0.1, 0.9): -6825.46\n",
      "Average reward for (2560, 0.01, 0.1, 0.99): -5426.306666666666\n",
      "Average reward for (2560, 0.01, 0.1, 0.999): -6925.336666666666\n",
      "Average reward for (2560, 0.01, 0.5, 0.9): -6988.079999999999\n",
      "Average reward for (2560, 0.01, 0.5, 0.99): -5820.533333333333\n",
      "Average reward for (2560, 0.01, 0.5, 0.999): -3106.14\n",
      "Average reward for (2560, 0.01, 0.9, 0.9): -2445.4633333333336\n",
      "Average reward for (2560, 0.01, 0.9, 0.99): -2671.36\n",
      "Average reward for (2560, 0.01, 0.9, 0.999): -2895.896666666667\n",
      "Average reward for (2560, 0.01, 1, 0.9): -1802.16\n",
      "Average reward for (2560, 0.01, 1, 0.99): -4865.826666666667\n",
      "Average reward for (2560, 0.01, 1, 0.999): -4274.026666666667\n",
      "Average reward for (2560, 0.1, 0.1, 0.9): -3476.7233333333334\n",
      "Average reward for (2560, 0.1, 0.1, 0.99): -5973.016666666666\n",
      "Average reward for (2560, 0.1, 0.1, 0.999): -3888.566666666666\n",
      "Average reward for (2560, 0.1, 0.5, 0.9): -3450.72\n",
      "Average reward for (2560, 0.1, 0.5, 0.99): -1657.8400000000001\n",
      "Average reward for (2560, 0.1, 0.5, 0.999): -4248.236666666667\n",
      "Average reward for (2560, 0.1, 0.9, 0.9): -385.3666666666666\n",
      "Average reward for (2560, 0.1, 0.9, 0.99): -736.9633333333335\n",
      "Average reward for (2560, 0.1, 0.9, 0.999): -1413.8066666666666\n",
      "Average reward for (2560, 0.1, 1, 0.9): -725.4733333333334\n",
      "Average reward for (2560, 0.1, 1, 0.99): -658.9133333333333\n",
      "Average reward for (2560, 0.1, 1, 0.999): -776.38\n",
      "Average reward for (2560, 0.3, 0.1, 0.9): -5478.166666666667\n",
      "Average reward for (2560, 0.3, 0.1, 0.99): -7950.786666666667\n",
      "Average reward for (2560, 0.3, 0.1, 0.999): -7389.320000000001\n",
      "Average reward for (2560, 0.3, 0.5, 0.9): -400.30333333333334\n",
      "Average reward for (2560, 0.3, 0.5, 0.99): -800.19\n",
      "Average reward for (2560, 0.3, 0.5, 0.999): -1316.5333333333333\n",
      "Average reward for (2560, 0.3, 0.9, 0.9): -401.96000000000004\n",
      "Average reward for (2560, 0.3, 0.9, 0.99): -327.0466666666667\n",
      "Average reward for (2560, 0.3, 0.9, 0.999): -404.9633333333333\n",
      "Average reward for (2560, 0.3, 1, 0.9): -223.87\n",
      "Average reward for (2560, 0.3, 1, 0.99): -530.6766666666667\n",
      "Average reward for (2560, 0.3, 1, 0.999): -323.32666666666665\n",
      "Average reward for (2560, 0.6, 0.1, 0.9): -9938.423333333334\n",
      "Average reward for (2560, 0.6, 0.1, 0.99): -4814.4\n",
      "Average reward for (2560, 0.6, 0.1, 0.999): -4459.316666666667\n",
      "Average reward for (2560, 0.6, 0.5, 0.9): -356.95666666666665\n",
      "Average reward for (2560, 0.6, 0.5, 0.99): -549.5266666666666\n",
      "Average reward for (2560, 0.6, 0.5, 0.999): -337.63666666666666\n",
      "Average reward for (2560, 0.6, 0.9, 0.9): -283.53000000000003\n",
      "Average reward for (2560, 0.6, 0.9, 0.99): -360.2333333333333\n",
      "Average reward for (2560, 0.6, 0.9, 0.999): -314.07\n",
      "Average reward for (2560, 0.6, 1, 0.9): -210.43999999999997\n",
      "Average reward for (2560, 0.6, 1, 0.99): -306.67\n",
      "Average reward for (2560, 0.6, 1, 0.999): -292.84666666666664\n",
      "Average reward for (2560, 1, 0.1, 0.9): -9945.213333333333\n",
      "Average reward for (2560, 1, 0.1, 0.99): -9948.303333333333\n",
      "Average reward for (2560, 1, 0.1, 0.999): -9883.576666666666\n",
      "Average reward for (2560, 1, 0.5, 0.9): -1408.0866666666668\n",
      "Average reward for (2560, 1, 0.5, 0.99): -426.21000000000004\n",
      "Average reward for (2560, 1, 0.5, 0.999): -889.46\n",
      "Average reward for (2560, 1, 0.9, 0.9): -521.45\n",
      "Average reward for (2560, 1, 0.9, 0.99): -485.9633333333333\n",
      "Average reward for (2560, 1, 0.9, 0.999): -282.72\n",
      "Average reward for (2560, 1, 1, 0.9): -512.2966666666667\n",
      "Average reward for (2560, 1, 1, 0.99): -209.86666666666667\n",
      "Average reward for (2560, 1, 1, 0.999): -311.79333333333335\n",
      "Average reward for (5120, 0.01, 0.1, 0.9): -5569.206666666666\n",
      "Average reward for (5120, 0.01, 0.1, 0.99): -5358.63\n",
      "Average reward for (5120, 0.01, 0.1, 0.999): -7922.920000000001\n",
      "Average reward for (5120, 0.01, 0.5, 0.9): -2363.6866666666665\n",
      "Average reward for (5120, 0.01, 0.5, 0.99): -5965.66\n",
      "Average reward for (5120, 0.01, 0.5, 0.999): -1637.9633333333334\n",
      "Average reward for (5120, 0.01, 0.9, 0.9): -2287.326666666667\n",
      "Average reward for (5120, 0.01, 0.9, 0.99): -1665.6166666666668\n",
      "Average reward for (5120, 0.01, 0.9, 0.999): -2401.32\n",
      "Average reward for (5120, 0.01, 1, 0.9): -2025.0233333333333\n",
      "Average reward for (5120, 0.01, 1, 0.99): -1138.3666666666666\n",
      "Average reward for (5120, 0.01, 1, 0.999): -2671.4533333333334\n",
      "Average reward for (5120, 0.1, 0.1, 0.9): -4240.743333333333\n",
      "Average reward for (5120, 0.1, 0.1, 0.99): -2480.52\n",
      "Average reward for (5120, 0.1, 0.1, 0.999): -3100.72\n",
      "Average reward for (5120, 0.1, 0.5, 0.9): -499.36999999999995\n",
      "Average reward for (5120, 0.1, 0.5, 0.99): -806.39\n",
      "Average reward for (5120, 0.1, 0.5, 0.999): -524.4699999999999\n",
      "Average reward for (5120, 0.1, 0.9, 0.9): -2598.016666666667\n",
      "Average reward for (5120, 0.1, 0.9, 0.99): -423.6266666666666\n",
      "Average reward for (5120, 0.1, 0.9, 0.999): -875.8433333333332\n",
      "Average reward for (5120, 0.1, 1, 0.9): -360.1466666666667\n",
      "Average reward for (5120, 0.1, 1, 0.99): -459.43666666666667\n",
      "Average reward for (5120, 0.1, 1, 0.999): -1013.7433333333333\n",
      "Average reward for (5120, 0.3, 0.1, 0.9): -4802.929999999999\n",
      "Average reward for (5120, 0.3, 0.1, 0.99): -4901.463333333334\n",
      "Average reward for (5120, 0.3, 0.1, 0.999): -7104.913333333333\n",
      "Average reward for (5120, 0.3, 0.5, 0.9): -347.6566666666666\n",
      "Average reward for (5120, 0.3, 0.5, 0.99): -490.9666666666667\n",
      "Average reward for (5120, 0.3, 0.5, 0.999): -483.0833333333333\n",
      "Average reward for (5120, 0.3, 0.9, 0.9): -443.69000000000005\n",
      "Average reward for (5120, 0.3, 0.9, 0.99): -412.92\n",
      "Average reward for (5120, 0.3, 0.9, 0.999): -258.25333333333333\n",
      "Average reward for (5120, 0.3, 1, 0.9): -255.79\n",
      "Average reward for (5120, 0.3, 1, 0.99): -185.89\n",
      "Average reward for (5120, 0.3, 1, 0.999): -278.8\n",
      "Average reward for (5120, 0.6, 0.1, 0.9): -9135.18\n",
      "Average reward for (5120, 0.6, 0.1, 0.99): -4914.276666666667\n"
     ]
    },
    {
     "name": "stdout",
     "output_type": "stream",
     "text": [
      "Average reward for (5120, 0.6, 0.1, 0.999): -9936.736666666666\n",
      "Average reward for (5120, 0.6, 0.5, 0.9): -437.7866666666667\n",
      "Average reward for (5120, 0.6, 0.5, 0.99): -980.9033333333333\n",
      "Average reward for (5120, 0.6, 0.5, 0.999): -345.71999999999997\n",
      "Average reward for (5120, 0.6, 0.9, 0.9): -266.2033333333333\n",
      "Average reward for (5120, 0.6, 0.9, 0.99): -206.33666666666667\n",
      "Average reward for (5120, 0.6, 0.9, 0.999): -258.53333333333336\n",
      "Average reward for (5120, 0.6, 1, 0.9): -192.35666666666665\n",
      "Average reward for (5120, 0.6, 1, 0.99): -432.3766666666667\n",
      "Average reward for (5120, 0.6, 1, 0.999): -330.09666666666664\n",
      "Average reward for (5120, 1, 0.1, 0.9): -9848.123333333333\n",
      "Average reward for (5120, 1, 0.1, 0.99): -9969.83\n",
      "Average reward for (5120, 1, 0.1, 0.999): -9875.07\n",
      "Average reward for (5120, 1, 0.5, 0.9): -350.74\n",
      "Average reward for (5120, 1, 0.5, 0.99): -474.0666666666666\n",
      "Average reward for (5120, 1, 0.5, 0.999): -394.49666666666667\n",
      "Average reward for (5120, 1, 0.9, 0.9): -257.7833333333333\n",
      "Average reward for (5120, 1, 0.9, 0.99): -333.53\n",
      "Average reward for (5120, 1, 0.9, 0.999): -295.76666666666665\n",
      "Average reward for (5120, 1, 1, 0.9): -282.4533333333334\n",
      "Average reward for (5120, 1, 1, 0.99): -697.1466666666666\n",
      "Average reward for (5120, 1, 1, 0.999): -277.14\n"
     ]
    }
   ],
   "source": [
    "iteration_values = [10, 20, 40, 80, 160, 320, 640, 1280, 2560, 5120]\n",
    "alpha_values = [0.01,0.1,0.3,0.6,1]\n",
    "gamma_values = [0.1,0.5,0.9,1]\n",
    "epsilon_decay_values = [0.9,0.99,0.999]\n",
    "\n",
    "avg_rewards = grid_search(SARSA_Agent,iteration_values,alpha_values,gamma_values,epsilon_decay_values,100,3)"
   ]
  },
  {
   "cell_type": "code",
   "execution_count": 175,
   "id": "131c0e6f",
   "metadata": {
    "scrolled": true
   },
   "outputs": [
    {
     "data": {
      "image/png": "[encoded data removed]",
      "text/plain": [
       "<Figure size 1200x800 with 4 Axes>"
      ]
     },
     "metadata": {},
     "output_type": "display_data"
    }
   ],
   "source": [
    "plot_grid_search(avg_rewards)"
   ]
  },
  {
   "cell_type": "markdown",
   "id": "9a3cf503",
   "metadata": {},
   "source": [
    "Note: Performance is lowest around the time when the iterations end when epsilon hits epsilon_min."
   ]
  },
  {
   "cell_type": "code",
   "execution_count": 159,
   "id": "7eca0141",
   "metadata": {
    "scrolled": true
   },
   "outputs": [
    {
     "data": {
      "image/png": "[encoded data removed]",
      "text/plain": [
       "<Figure size 1000x1000 with 1 Axes>"
      ]
     },
     "metadata": {},
     "output_type": "display_data"
    }
   ],
   "source": [
    "plot_q_table_3d(SARSA_q_table,env.cap)"
   ]
  },
  {
   "cell_type": "code",
   "execution_count": 160,
   "id": "10e5e361",
   "metadata": {
    "scrolled": true
   },
   "outputs": [
    {
     "data": {
      "application/vnd.plotly.v1+json": {
       "config": {
        "plotlyServerURL": "https://plot.ly"
       },
       "data": [
        {
         "line": {
          "color": "rgb(68, 1, 84)",
          "width": 2
         },
         "mode": "lines+markers",
         "name": "Action 0",
         "type": "scatter",
         "x": [
          0,
          1
         ],
         "y": [
          0,
          0
         ]
        },
        {
         "line": {
          "color": "rgb(68, 1, 84)",
          "width": 2
         },
         "mode": "lines+markers",
         "name": "Action 0",
         "showlegend": false,
         "type": "scatter",
         "x": [
          0,
          1
         ],
         "y": [
          1,
          1
         ]
        },
        {
         "line": {
          "color": "rgb(68, 1, 84)",
          "width": 2
         },
         "mode": "lines+markers",
         "name": "Action 0",
         "showlegend": false,
         "type": "scatter",
         "x": [
          0,
          1
         ],
         "y": [
          2,
          2
         ]
        },
        {
         "line": {
          "color": "rgb(68, 1, 84)",
          "width": 2
         },
         "mode": "lines+markers",
         "name": "Action 0",
         "showlegend": false,
         "type": "scatter",
         "x": [
          0,
          1
         ],
         "y": [
          3,
          3
         ]
        },
        {
         "line": {
          "color": "rgb(68, 1, 84)",
          "width": 2
         },
         "mode": "lines+markers",
         "name": "Action 0",
         "showlegend": false,
         "type": "scatter",
         "x": [
          0,
          1
         ],
         "y": [
          4,
          4
         ]
        },
        {
         "line": {
          "color": "rgb(68, 1, 84)",
          "width": 2
         },
         "mode": "lines+markers",
         "name": "Action 0",
         "showlegend": false,
         "type": "scatter",
         "x": [
          0,
          1
         ],
         "y": [
          5,
          5
         ]
        },
        {
         "line": {
          "color": "rgb(68, 1, 84)",
          "width": 2
         },
         "mode": "lines+markers",
         "name": "Action 0",
         "showlegend": false,
         "type": "scatter",
         "x": [
          0,
          1
         ],
         "y": [
          6,
          6
         ]
        },
        {
         "line": {
          "color": "rgb(68, 1, 84)",
          "width": 2
         },
         "mode": "lines+markers",
         "name": "Action 0",
         "showlegend": false,
         "type": "scatter",
         "x": [
          0,
          1
         ],
         "y": [
          7,
          7
         ]
        },
        {
         "line": {
          "color": "rgb(68, 1, 84)",
          "width": 2
         },
         "mode": "lines+markers",
         "name": "Action 0",
         "showlegend": false,
         "type": "scatter",
         "x": [
          0,
          1
         ],
         "y": [
          8,
          8
         ]
        },
        {
         "line": {
          "color": "rgb(68, 1, 84)",
          "width": 2
         },
         "mode": "lines+markers",
         "name": "Action 0",
         "showlegend": false,
         "type": "scatter",
         "x": [
          0,
          1
         ],
         "y": [
          9,
          9
         ]
        },
        {
         "line": {
          "color": "rgb(68, 1, 84)",
          "width": 2
         },
         "mode": "lines+markers",
         "name": "Action 0",
         "showlegend": false,
         "type": "scatter",
         "x": [
          0,
          1
         ],
         "y": [
          10,
          10
         ]
        },
        {
         "line": {
          "color": "rgb(68, 1, 84)",
          "width": 2
         },
         "mode": "lines+markers",
         "name": "Action 0",
         "showlegend": false,
         "type": "scatter",
         "x": [
          0,
          1
         ],
         "y": [
          11,
          11
         ]
        },
        {
         "line": {
          "color": "rgb(68, 1, 84)",
          "width": 2
         },
         "mode": "lines+markers",
         "name": "Action 0",
         "showlegend": false,
         "type": "scatter",
         "x": [
          0,
          1
         ],
         "y": [
          12,
          12
         ]
        },
        {
         "line": {
          "color": "rgb(68, 1, 84)",
          "width": 2
         },
         "mode": "lines+markers",
         "name": "Action 0",
         "showlegend": false,
         "type": "scatter",
         "x": [
          0,
          1
         ],
         "y": [
          13,
          13
         ]
        },
        {
         "line": {
          "color": "rgb(68, 1, 84)",
          "width": 2
         },
         "mode": "lines+markers",
         "name": "Action 0",
         "showlegend": false,
         "type": "scatter",
         "x": [
          0,
          1
         ],
         "y": [
          14,
          14
         ]
        },
        {
         "line": {
          "color": "rgb(68, 1, 84)",
          "width": 2
         },
         "mode": "lines+markers",
         "name": "Action 0",
         "showlegend": false,
         "type": "scatter",
         "x": [
          0,
          1
         ],
         "y": [
          15,
          15
         ]
        },
        {
         "line": {
          "color": "rgb(68, 1, 84)",
          "width": 2
         },
         "mode": "lines+markers",
         "name": "Action 0",
         "showlegend": false,
         "type": "scatter",
         "x": [
          0,
          1
         ],
         "y": [
          16,
          16
         ]
        },
        {
         "line": {
          "color": "rgb(68, 1, 84)",
          "width": 2
         },
         "mode": "lines+markers",
         "name": "Action 0",
         "showlegend": false,
         "type": "scatter",
         "x": [
          0,
          1
         ],
         "y": [
          17,
          17
         ]
        },
        {
         "line": {
          "color": "rgb(68, 1, 84)",
          "width": 2
         },
         "mode": "lines+markers",
         "name": "Action 0",
         "showlegend": false,
         "type": "scatter",
         "x": [
          0,
          1
         ],
         "y": [
          18,
          18
         ]
        },
        {
         "line": {
          "color": "rgb(68, 1, 84)",
          "width": 2
         },
         "mode": "lines+markers",
         "name": "Action 0",
         "showlegend": false,
         "type": "scatter",
         "x": [
          0,
          1
         ],
         "y": [
          19,
          19
         ]
        },
        {
         "line": {
          "color": "rgb(68, 1, 84)",
          "width": 2
         },
         "mode": "lines+markers",
         "name": "Action 0",
         "showlegend": false,
         "type": "scatter",
         "x": [
          0,
          1
         ],
         "y": [
          20,
          20
         ]
        },
        {
         "line": {
          "color": "rgb(68, 1, 84)",
          "width": 2
         },
         "mode": "lines+markers",
         "name": "Action 0",
         "showlegend": false,
         "type": "scatter",
         "x": [
          0,
          1
         ],
         "y": [
          21,
          21
         ]
        },
        {
         "line": {
          "color": "rgb(68, 1, 84)",
          "width": 2
         },
         "mode": "lines+markers",
         "name": "Action 0",
         "showlegend": false,
         "type": "scatter",
         "x": [
          0,
          1
         ],
         "y": [
          22,
          22
         ]
        },
        {
         "line": {
          "color": "rgb(68, 1, 84)",
          "width": 2
         },
         "mode": "lines+markers",
         "name": "Action 0",
         "showlegend": false,
         "type": "scatter",
         "x": [
          0,
          1
         ],
         "y": [
          23,
          23
         ]
        },
        {
         "line": {
          "color": "rgb(68, 1, 84)",
          "width": 2
         },
         "mode": "lines+markers",
         "name": "Action 0",
         "showlegend": false,
         "type": "scatter",
         "x": [
          0,
          1
         ],
         "y": [
          24,
          24
         ]
        },
        {
         "line": {
          "color": "rgb(68, 1, 84)",
          "width": 2
         },
         "mode": "lines+markers",
         "name": "Action 0",
         "showlegend": false,
         "type": "scatter",
         "x": [
          0,
          1
         ],
         "y": [
          25,
          25
         ]
        },
        {
         "line": {
          "color": "rgb(68, 1, 84)",
          "width": 2
         },
         "mode": "lines+markers",
         "name": "Action 0",
         "showlegend": false,
         "type": "scatter",
         "x": [
          0,
          1
         ],
         "y": [
          26,
          26
         ]
        },
        {
         "line": {
          "color": "rgb(68, 1, 84)",
          "width": 2
         },
         "mode": "lines+markers",
         "name": "Action 0",
         "showlegend": false,
         "type": "scatter",
         "x": [
          0,
          1
         ],
         "y": [
          27,
          27
         ]
        },
        {
         "line": {
          "color": "rgb(68, 1, 84)",
          "width": 2
         },
         "mode": "lines+markers",
         "name": "Action 0",
         "showlegend": false,
         "type": "scatter",
         "x": [
          0,
          1
         ],
         "y": [
          28,
          28
         ]
        },
        {
         "line": {
          "color": "rgb(68, 1, 84)",
          "width": 2
         },
         "mode": "lines+markers",
         "name": "Action 0",
         "showlegend": false,
         "type": "scatter",
         "x": [
          0,
          1
         ],
         "y": [
          29,
          29
         ]
        },
        {
         "line": {
          "color": "rgb(68, 1, 84)",
          "width": 2
         },
         "mode": "lines+markers",
         "name": "Action 0",
         "showlegend": false,
         "type": "scatter",
         "x": [
          0,
          1
         ],
         "y": [
          30,
          30
         ]
        },
        {
         "line": {
          "color": "rgb(68, 1, 84)",
          "width": 2
         },
         "mode": "lines+markers",
         "name": "Action 0",
         "showlegend": false,
         "type": "scatter",
         "x": [
          0,
          1
         ],
         "y": [
          31,
          31
         ]
        },
        {
         "line": {
          "color": "rgb(68, 1, 84)",
          "width": 2
         },
         "mode": "lines+markers",
         "name": "Action 0",
         "showlegend": false,
         "type": "scatter",
         "x": [
          0,
          1
         ],
         "y": [
          32,
          32
         ]
        },
        {
         "line": {
          "color": "rgb(68, 1, 84)",
          "width": 2
         },
         "mode": "lines+markers",
         "name": "Action 0",
         "showlegend": false,
         "type": "scatter",
         "x": [
          0,
          1
         ],
         "y": [
          33,
          33
         ]
        },
        {
         "line": {
          "color": "rgb(68, 1, 84)",
          "width": 2
         },
         "mode": "lines+markers",
         "name": "Action 0",
         "showlegend": false,
         "type": "scatter",
         "x": [
          0,
          1
         ],
         "y": [
          34,
          34
         ]
        },
        {
         "line": {
          "color": "rgb(68, 1, 84)",
          "width": 2
         },
         "mode": "lines+markers",
         "name": "Action 0",
         "showlegend": false,
         "type": "scatter",
         "x": [
          0,
          1
         ],
         "y": [
          35,
          35
         ]
        },
        {
         "line": {
          "color": "rgb(68, 1, 84)",
          "width": 2
         },
         "mode": "lines+markers",
         "name": "Action 0",
         "showlegend": false,
         "type": "scatter",
         "x": [
          0,
          1
         ],
         "y": [
          36,
          36
         ]
        },
        {
         "line": {
          "color": "rgb(68, 1, 84)",
          "width": 2
         },
         "mode": "lines+markers",
         "name": "Action 0",
         "showlegend": false,
         "type": "scatter",
         "x": [
          0,
          1
         ],
         "y": [
          37,
          37
         ]
        },
        {
         "line": {
          "color": "rgb(68, 1, 84)",
          "width": 2
         },
         "mode": "lines+markers",
         "name": "Action 0",
         "showlegend": false,
         "type": "scatter",
         "x": [
          0,
          1
         ],
         "y": [
          38,
          38
         ]
        },
        {
         "line": {
          "color": "rgb(68, 1, 84)",
          "width": 2
         },
         "mode": "lines+markers",
         "name": "Action 0",
         "showlegend": false,
         "type": "scatter",
         "x": [
          0,
          1
         ],
         "y": [
          39,
          39
         ]
        },
        {
         "line": {
          "color": "rgb(68, 1, 84)",
          "width": 2
         },
         "mode": "lines+markers",
         "name": "Action 0",
         "showlegend": false,
         "type": "scatter",
         "x": [
          0,
          1
         ],
         "y": [
          40,
          40
         ]
        },
        {
         "line": {
          "color": "rgb(68, 1, 84)",
          "width": 2
         },
         "mode": "lines+markers",
         "name": "Action 0",
         "showlegend": false,
         "type": "scatter",
         "x": [
          0,
          1
         ],
         "y": [
          41,
          41
         ]
        },
        {
         "line": {
          "color": "rgb(68, 1, 84)",
          "width": 2
         },
         "mode": "lines+markers",
         "name": "Action 0",
         "showlegend": false,
         "type": "scatter",
         "x": [
          0,
          1
         ],
         "y": [
          42,
          42
         ]
        },
        {
         "line": {
          "color": "rgb(68, 1, 84)",
          "width": 2
         },
         "mode": "lines+markers",
         "name": "Action 0",
         "showlegend": false,
         "type": "scatter",
         "x": [
          0,
          1
         ],
         "y": [
          43,
          43
         ]
        },
        {
         "line": {
          "color": "rgb(68, 1, 84)",
          "width": 2
         },
         "mode": "lines+markers",
         "name": "Action 0",
         "showlegend": false,
         "type": "scatter",
         "x": [
          0,
          1
         ],
         "y": [
          44,
          44
         ]
        },
        {
         "line": {
          "color": "rgb(68, 1, 84)",
          "width": 2
         },
         "mode": "lines+markers",
         "name": "Action 0",
         "showlegend": false,
         "type": "scatter",
         "x": [
          0,
          1
         ],
         "y": [
          45,
          45
         ]
        },
        {
         "line": {
          "color": "rgb(68, 1, 84)",
          "width": 2
         },
         "mode": "lines+markers",
         "name": "Action 0",
         "showlegend": false,
         "type": "scatter",
         "x": [
          0,
          1
         ],
         "y": [
          46,
          46
         ]
        },
        {
         "line": {
          "color": "rgb(68, 1, 84)",
          "width": 2
         },
         "mode": "lines+markers",
         "name": "Action 0",
         "showlegend": false,
         "type": "scatter",
         "x": [
          0,
          1
         ],
         "y": [
          47,
          47
         ]
        },
        {
         "line": {
          "color": "rgb(68, 1, 84)",
          "width": 2
         },
         "mode": "lines+markers",
         "name": "Action 0",
         "showlegend": false,
         "type": "scatter",
         "x": [
          0,
          1
         ],
         "y": [
          48,
          48
         ]
        },
        {
         "line": {
          "color": "rgb(68, 1, 84)",
          "width": 2
         },
         "mode": "lines+markers",
         "name": "Action 0",
         "showlegend": false,
         "type": "scatter",
         "x": [
          0,
          1
         ],
         "y": [
          49,
          49
         ]
        },
        {
         "line": {
          "color": "rgb(68, 1, 84)",
          "width": 2
         },
         "mode": "lines+markers",
         "name": "Action 0",
         "showlegend": false,
         "type": "scatter",
         "x": [
          0,
          1
         ],
         "y": [
          50,
          50
         ]
        },
        {
         "line": {
          "color": "rgb(68, 1, 84)",
          "width": 2
         },
         "mode": "lines+markers",
         "name": "Action 0",
         "showlegend": false,
         "type": "scatter",
         "x": [
          0,
          1
         ],
         "y": [
          51,
          51
         ]
        },
        {
         "line": {
          "color": "rgb(68, 1, 84)",
          "width": 2
         },
         "mode": "lines+markers",
         "name": "Action 0",
         "showlegend": false,
         "type": "scatter",
         "x": [
          0,
          1
         ],
         "y": [
          52,
          52
         ]
        },
        {
         "line": {
          "color": "rgb(68, 1, 84)",
          "width": 2
         },
         "mode": "lines+markers",
         "name": "Action 0",
         "showlegend": false,
         "type": "scatter",
         "x": [
          0,
          1
         ],
         "y": [
          53,
          53
         ]
        },
        {
         "line": {
          "color": "rgb(68, 1, 84)",
          "width": 2
         },
         "mode": "lines+markers",
         "name": "Action 0",
         "showlegend": false,
         "type": "scatter",
         "x": [
          0,
          1
         ],
         "y": [
          54,
          54
         ]
        },
        {
         "line": {
          "color": "rgb(68, 1, 84)",
          "width": 2
         },
         "mode": "lines+markers",
         "name": "Action 0",
         "showlegend": false,
         "type": "scatter",
         "x": [
          0,
          1
         ],
         "y": [
          55,
          55
         ]
        },
        {
         "line": {
          "color": "rgb(68, 1, 84)",
          "width": 2
         },
         "mode": "lines+markers",
         "name": "Action 0",
         "showlegend": false,
         "type": "scatter",
         "x": [
          0,
          1
         ],
         "y": [
          56,
          56
         ]
        },
        {
         "line": {
          "color": "rgb(68, 1, 84)",
          "width": 2
         },
         "mode": "lines+markers",
         "name": "Action 0",
         "showlegend": false,
         "type": "scatter",
         "x": [
          0,
          1
         ],
         "y": [
          57,
          57
         ]
        },
        {
         "line": {
          "color": "rgb(68, 1, 84)",
          "width": 2
         },
         "mode": "lines+markers",
         "name": "Action 0",
         "showlegend": false,
         "type": "scatter",
         "x": [
          0,
          1
         ],
         "y": [
          58,
          58
         ]
        },
        {
         "line": {
          "color": "rgb(68, 1, 84)",
          "width": 2
         },
         "mode": "lines+markers",
         "name": "Action 0",
         "showlegend": false,
         "type": "scatter",
         "x": [
          0,
          1
         ],
         "y": [
          59,
          59
         ]
        },
        {
         "line": {
          "color": "rgb(68, 1, 84)",
          "width": 2
         },
         "mode": "lines+markers",
         "name": "Action 0",
         "showlegend": false,
         "type": "scatter",
         "x": [
          0,
          1
         ],
         "y": [
          60,
          60
         ]
        },
        {
         "line": {
          "color": "rgb(68, 1, 84)",
          "width": 2
         },
         "mode": "lines+markers",
         "name": "Action 0",
         "showlegend": false,
         "type": "scatter",
         "x": [
          0,
          1
         ],
         "y": [
          61,
          61
         ]
        },
        {
         "line": {
          "color": "rgb(68, 1, 84)",
          "width": 2
         },
         "mode": "lines+markers",
         "name": "Action 0",
         "showlegend": false,
         "type": "scatter",
         "x": [
          0,
          1
         ],
         "y": [
          62,
          62
         ]
        },
        {
         "line": {
          "color": "rgb(68, 1, 84)",
          "width": 2
         },
         "mode": "lines+markers",
         "name": "Action 0",
         "showlegend": false,
         "type": "scatter",
         "x": [
          0,
          1
         ],
         "y": [
          63,
          63
         ]
        },
        {
         "line": {
          "color": "rgb(68, 1, 84)",
          "width": 2
         },
         "mode": "lines+markers",
         "name": "Action 0",
         "showlegend": false,
         "type": "scatter",
         "x": [
          0,
          1
         ],
         "y": [
          64,
          64
         ]
        },
        {
         "line": {
          "color": "rgb(68, 1, 84)",
          "width": 2
         },
         "mode": "lines+markers",
         "name": "Action 0",
         "showlegend": false,
         "type": "scatter",
         "x": [
          0,
          1
         ],
         "y": [
          65,
          65
         ]
        },
        {
         "line": {
          "color": "rgb(68, 1, 84)",
          "width": 2
         },
         "mode": "lines+markers",
         "name": "Action 0",
         "showlegend": false,
         "type": "scatter",
         "x": [
          0,
          1
         ],
         "y": [
          66,
          66
         ]
        },
        {
         "line": {
          "color": "rgb(68, 1, 84)",
          "width": 2
         },
         "mode": "lines+markers",
         "name": "Action 0",
         "showlegend": false,
         "type": "scatter",
         "x": [
          0,
          1
         ],
         "y": [
          67,
          67
         ]
        },
        {
         "line": {
          "color": "rgb(68, 1, 84)",
          "width": 2
         },
         "mode": "lines+markers",
         "name": "Action 0",
         "showlegend": false,
         "type": "scatter",
         "x": [
          0,
          1
         ],
         "y": [
          68,
          68
         ]
        },
        {
         "line": {
          "color": "rgb(68, 1, 84)",
          "width": 2
         },
         "mode": "lines+markers",
         "name": "Action 0",
         "showlegend": false,
         "type": "scatter",
         "x": [
          0,
          1
         ],
         "y": [
          69,
          69
         ]
        },
        {
         "line": {
          "color": "rgb(68, 1, 84)",
          "width": 2
         },
         "mode": "lines+markers",
         "name": "Action 0",
         "showlegend": false,
         "type": "scatter",
         "x": [
          0,
          1
         ],
         "y": [
          70,
          70
         ]
        },
        {
         "line": {
          "color": "rgb(68, 1, 84)",
          "width": 2
         },
         "mode": "lines+markers",
         "name": "Action 0",
         "showlegend": false,
         "type": "scatter",
         "x": [
          0,
          1
         ],
         "y": [
          71,
          71
         ]
        },
        {
         "line": {
          "color": "rgb(68, 1, 84)",
          "width": 2
         },
         "mode": "lines+markers",
         "name": "Action 0",
         "showlegend": false,
         "type": "scatter",
         "x": [
          0,
          1
         ],
         "y": [
          72,
          72
         ]
        },
        {
         "line": {
          "color": "rgb(68, 1, 84)",
          "width": 2
         },
         "mode": "lines+markers",
         "name": "Action 0",
         "showlegend": false,
         "type": "scatter",
         "x": [
          0,
          1
         ],
         "y": [
          73,
          73
         ]
        },
        {
         "line": {
          "color": "rgb(68, 1, 84)",
          "width": 2
         },
         "mode": "lines+markers",
         "name": "Action 0",
         "showlegend": false,
         "type": "scatter",
         "x": [
          0,
          1
         ],
         "y": [
          74,
          74
         ]
        },
        {
         "line": {
          "color": "rgb(68, 1, 84)",
          "width": 2
         },
         "mode": "lines+markers",
         "name": "Action 0",
         "showlegend": false,
         "type": "scatter",
         "x": [
          0,
          1
         ],
         "y": [
          75,
          75
         ]
        },
        {
         "line": {
          "color": "rgb(68, 1, 84)",
          "width": 2
         },
         "mode": "lines+markers",
         "name": "Action 0",
         "showlegend": false,
         "type": "scatter",
         "x": [
          0,
          1
         ],
         "y": [
          76,
          76
         ]
        },
        {
         "line": {
          "color": "rgb(68, 1, 84)",
          "width": 2
         },
         "mode": "lines+markers",
         "name": "Action 0",
         "showlegend": false,
         "type": "scatter",
         "x": [
          0,
          1
         ],
         "y": [
          77,
          77
         ]
        },
        {
         "line": {
          "color": "rgb(68, 1, 84)",
          "width": 2
         },
         "mode": "lines+markers",
         "name": "Action 0",
         "showlegend": false,
         "type": "scatter",
         "x": [
          0,
          1
         ],
         "y": [
          78,
          78
         ]
        },
        {
         "line": {
          "color": "rgb(68, 1, 84)",
          "width": 2
         },
         "mode": "lines+markers",
         "name": "Action 0",
         "showlegend": false,
         "type": "scatter",
         "x": [
          0,
          1
         ],
         "y": [
          79,
          79
         ]
        },
        {
         "line": {
          "color": "rgb(68, 1, 84)",
          "width": 2
         },
         "mode": "lines+markers",
         "name": "Action 0",
         "showlegend": false,
         "type": "scatter",
         "x": [
          0,
          1
         ],
         "y": [
          80,
          80
         ]
        },
        {
         "line": {
          "color": "rgb(68, 1, 84)",
          "width": 2
         },
         "mode": "lines+markers",
         "name": "Action 0",
         "showlegend": false,
         "type": "scatter",
         "x": [
          0,
          1
         ],
         "y": [
          81,
          81
         ]
        },
        {
         "line": {
          "color": "rgb(68, 1, 84)",
          "width": 2
         },
         "mode": "lines+markers",
         "name": "Action 0",
         "showlegend": false,
         "type": "scatter",
         "x": [
          0,
          1
         ],
         "y": [
          82,
          82
         ]
        },
        {
         "line": {
          "color": "rgb(68, 1, 84)",
          "width": 2
         },
         "mode": "lines+markers",
         "name": "Action 0",
         "showlegend": false,
         "type": "scatter",
         "x": [
          0,
          1
         ],
         "y": [
          83,
          83
         ]
        },
        {
         "line": {
          "color": "rgb(68, 1, 84)",
          "width": 2
         },
         "mode": "lines+markers",
         "name": "Action 0",
         "showlegend": false,
         "type": "scatter",
         "x": [
          0,
          1
         ],
         "y": [
          84,
          84
         ]
        },
        {
         "line": {
          "color": "rgb(68, 1, 84)",
          "width": 2
         },
         "mode": "lines+markers",
         "name": "Action 0",
         "showlegend": false,
         "type": "scatter",
         "x": [
          0,
          1
         ],
         "y": [
          85,
          85
         ]
        },
        {
         "line": {
          "color": "rgb(68, 1, 84)",
          "width": 2
         },
         "mode": "lines+markers",
         "name": "Action 0",
         "showlegend": false,
         "type": "scatter",
         "x": [
          0,
          1
         ],
         "y": [
          86,
          86
         ]
        },
        {
         "line": {
          "color": "rgb(68, 1, 84)",
          "width": 2
         },
         "mode": "lines+markers",
         "name": "Action 0",
         "showlegend": false,
         "type": "scatter",
         "x": [
          0,
          1
         ],
         "y": [
          87,
          87
         ]
        },
        {
         "line": {
          "color": "rgb(68, 1, 84)",
          "width": 2
         },
         "mode": "lines+markers",
         "name": "Action 0",
         "showlegend": false,
         "type": "scatter",
         "x": [
          0,
          1
         ],
         "y": [
          88,
          88
         ]
        },
        {
         "line": {
          "color": "rgb(68, 1, 84)",
          "width": 2
         },
         "mode": "lines+markers",
         "name": "Action 0",
         "showlegend": false,
         "type": "scatter",
         "x": [
          0,
          1
         ],
         "y": [
          89,
          89
         ]
        },
        {
         "line": {
          "color": "rgb(68, 1, 84)",
          "width": 2
         },
         "mode": "lines+markers",
         "name": "Action 0",
         "showlegend": false,
         "type": "scatter",
         "x": [
          0,
          1
         ],
         "y": [
          90,
          90
         ]
        },
        {
         "line": {
          "color": "rgb(68, 1, 84)",
          "width": 2
         },
         "mode": "lines+markers",
         "name": "Action 0",
         "showlegend": false,
         "type": "scatter",
         "x": [
          0,
          1
         ],
         "y": [
          91,
          91
         ]
        },
        {
         "line": {
          "color": "rgb(68, 1, 84)",
          "width": 2
         },
         "mode": "lines+markers",
         "name": "Action 0",
         "showlegend": false,
         "type": "scatter",
         "x": [
          0,
          1
         ],
         "y": [
          92,
          92
         ]
        },
        {
         "line": {
          "color": "rgb(68, 1, 84)",
          "width": 2
         },
         "mode": "lines+markers",
         "name": "Action 0",
         "showlegend": false,
         "type": "scatter",
         "x": [
          0,
          1
         ],
         "y": [
          93,
          93
         ]
        },
        {
         "line": {
          "color": "rgb(68, 1, 84)",
          "width": 2
         },
         "mode": "lines+markers",
         "name": "Action 0",
         "showlegend": false,
         "type": "scatter",
         "x": [
          0,
          1
         ],
         "y": [
          94,
          94
         ]
        },
        {
         "line": {
          "color": "rgb(68, 1, 84)",
          "width": 2
         },
         "mode": "lines+markers",
         "name": "Action 0",
         "showlegend": false,
         "type": "scatter",
         "x": [
          0,
          1
         ],
         "y": [
          95,
          95
         ]
        },
        {
         "line": {
          "color": "rgb(68, 1, 84)",
          "width": 2
         },
         "mode": "lines+markers",
         "name": "Action 0",
         "showlegend": false,
         "type": "scatter",
         "x": [
          0,
          1
         ],
         "y": [
          96,
          96
         ]
        },
        {
         "line": {
          "color": "rgb(68, 1, 84)",
          "width": 2
         },
         "mode": "lines+markers",
         "name": "Action 0",
         "showlegend": false,
         "type": "scatter",
         "x": [
          0,
          1
         ],
         "y": [
          97,
          97
         ]
        },
        {
         "line": {
          "color": "rgb(68, 1, 84)",
          "width": 2
         },
         "mode": "lines+markers",
         "name": "Action 0",
         "showlegend": false,
         "type": "scatter",
         "x": [
          0,
          1
         ],
         "y": [
          98,
          98
         ]
        },
        {
         "line": {
          "color": "rgb(68, 1, 84)",
          "width": 2
         },
         "mode": "lines+markers",
         "name": "Action 0",
         "showlegend": false,
         "type": "scatter",
         "x": [
          0,
          1
         ],
         "y": [
          99,
          99
         ]
        },
        {
         "line": {
          "color": "rgb(68, 1, 84)",
          "width": 2
         },
         "mode": "lines+markers",
         "name": "Action 0",
         "showlegend": false,
         "type": "scatter",
         "x": [
          0,
          1
         ],
         "y": [
          100,
          100
         ]
        },
        {
         "line": {
          "color": "rgb(68, 1, 84)",
          "width": 2
         },
         "mode": "lines+markers",
         "name": "Action 0",
         "showlegend": false,
         "type": "scatter",
         "x": [
          1,
          2
         ],
         "y": [
          0,
          0
         ]
        },
        {
         "line": {
          "color": "rgb(68, 1, 84)",
          "width": 2
         },
         "mode": "lines+markers",
         "name": "Action 0",
         "showlegend": false,
         "type": "scatter",
         "x": [
          1,
          2
         ],
         "y": [
          1,
          1
         ]
        },
        {
         "line": {
          "color": "rgb(68, 1, 84)",
          "width": 2
         },
         "mode": "lines+markers",
         "name": "Action 0",
         "showlegend": false,
         "type": "scatter",
         "x": [
          1,
          2
         ],
         "y": [
          2,
          2
         ]
        },
        {
         "line": {
          "color": "rgb(68, 1, 84)",
          "width": 2
         },
         "mode": "lines+markers",
         "name": "Action 0",
         "showlegend": false,
         "type": "scatter",
         "x": [
          1,
          2
         ],
         "y": [
          3,
          3
         ]
        },
        {
         "line": {
          "color": "rgb(68, 1, 84)",
          "width": 2
         },
         "mode": "lines+markers",
         "name": "Action 0",
         "showlegend": false,
         "type": "scatter",
         "x": [
          1,
          2
         ],
         "y": [
          4,
          4
         ]
        },
        {
         "line": {
          "color": "rgb(68, 1, 84)",
          "width": 2
         },
         "mode": "lines+markers",
         "name": "Action 0",
         "showlegend": false,
         "type": "scatter",
         "x": [
          1,
          2
         ],
         "y": [
          5,
          5
         ]
        },
        {
         "line": {
          "color": "rgb(68, 1, 84)",
          "width": 2
         },
         "mode": "lines+markers",
         "name": "Action 0",
         "showlegend": false,
         "type": "scatter",
         "x": [
          1,
          2
         ],
         "y": [
          6,
          6
         ]
        },
        {
         "line": {
          "color": "rgb(68, 1, 84)",
          "width": 2
         },
         "mode": "lines+markers",
         "name": "Action 0",
         "showlegend": false,
         "type": "scatter",
         "x": [
          1,
          2
         ],
         "y": [
          7,
          7
         ]
        },
        {
         "line": {
          "color": "rgb(68, 1, 84)",
          "width": 2
         },
         "mode": "lines+markers",
         "name": "Action 0",
         "showlegend": false,
         "type": "scatter",
         "x": [
          1,
          2
         ],
         "y": [
          8,
          8
         ]
        },
        {
         "line": {
          "color": "rgb(68, 1, 84)",
          "width": 2
         },
         "mode": "lines+markers",
         "name": "Action 0",
         "showlegend": false,
         "type": "scatter",
         "x": [
          1,
          2
         ],
         "y": [
          9,
          9
         ]
        },
        {
         "line": {
          "color": "rgb(68, 1, 84)",
          "width": 2
         },
         "mode": "lines+markers",
         "name": "Action 0",
         "showlegend": false,
         "type": "scatter",
         "x": [
          1,
          2
         ],
         "y": [
          10,
          10
         ]
        },
        {
         "line": {
          "color": "rgb(68, 1, 84)",
          "width": 2
         },
         "mode": "lines+markers",
         "name": "Action 0",
         "showlegend": false,
         "type": "scatter",
         "x": [
          1,
          2
         ],
         "y": [
          11,
          11
         ]
        },
        {
         "line": {
          "color": "rgb(68, 1, 84)",
          "width": 2
         },
         "mode": "lines+markers",
         "name": "Action 0",
         "showlegend": false,
         "type": "scatter",
         "x": [
          1,
          2
         ],
         "y": [
          12,
          12
         ]
        },
        {
         "line": {
          "color": "rgb(68, 1, 84)",
          "width": 2
         },
         "mode": "lines+markers",
         "name": "Action 0",
         "showlegend": false,
         "type": "scatter",
         "x": [
          1,
          2
         ],
         "y": [
          13,
          13
         ]
        },
        {
         "line": {
          "color": "rgb(68, 1, 84)",
          "width": 2
         },
         "mode": "lines+markers",
         "name": "Action 0",
         "showlegend": false,
         "type": "scatter",
         "x": [
          1,
          2
         ],
         "y": [
          15,
          15
         ]
        },
        {
         "line": {
          "color": "rgb(68, 1, 84)",
          "width": 2
         },
         "mode": "lines+markers",
         "name": "Action 0",
         "showlegend": false,
         "type": "scatter",
         "x": [
          1,
          2
         ],
         "y": [
          16,
          16
         ]
        },
        {
         "line": {
          "color": "rgb(68, 1, 84)",
          "width": 2
         },
         "mode": "lines+markers",
         "name": "Action 0",
         "showlegend": false,
         "type": "scatter",
         "x": [
          1,
          2
         ],
         "y": [
          17,
          17
         ]
        },
        {
         "line": {
          "color": "rgb(68, 1, 84)",
          "width": 2
         },
         "mode": "lines+markers",
         "name": "Action 0",
         "showlegend": false,
         "type": "scatter",
         "x": [
          1,
          2
         ],
         "y": [
          18,
          18
         ]
        },
        {
         "line": {
          "color": "rgb(68, 1, 84)",
          "width": 2
         },
         "mode": "lines+markers",
         "name": "Action 0",
         "showlegend": false,
         "type": "scatter",
         "x": [
          1,
          2
         ],
         "y": [
          19,
          19
         ]
        },
        {
         "line": {
          "color": "rgb(68, 1, 84)",
          "width": 2
         },
         "mode": "lines+markers",
         "name": "Action 0",
         "showlegend": false,
         "type": "scatter",
         "x": [
          1,
          2
         ],
         "y": [
          20,
          20
         ]
        },
        {
         "line": {
          "color": "rgb(68, 1, 84)",
          "width": 2
         },
         "mode": "lines+markers",
         "name": "Action 0",
         "showlegend": false,
         "type": "scatter",
         "x": [
          1,
          2
         ],
         "y": [
          21,
          21
         ]
        },
        {
         "line": {
          "color": "rgb(68, 1, 84)",
          "width": 2
         },
         "mode": "lines+markers",
         "name": "Action 0",
         "showlegend": false,
         "type": "scatter",
         "x": [
          1,
          2
         ],
         "y": [
          22,
          22
         ]
        },
        {
         "line": {
          "color": "rgb(68, 1, 84)",
          "width": 2
         },
         "mode": "lines+markers",
         "name": "Action 0",
         "showlegend": false,
         "type": "scatter",
         "x": [
          1,
          2
         ],
         "y": [
          23,
          23
         ]
        },
        {
         "line": {
          "color": "rgb(68, 1, 84)",
          "width": 2
         },
         "mode": "lines+markers",
         "name": "Action 0",
         "showlegend": false,
         "type": "scatter",
         "x": [
          1,
          2
         ],
         "y": [
          24,
          24
         ]
        },
        {
         "line": {
          "color": "rgb(68, 1, 84)",
          "width": 2
         },
         "mode": "lines+markers",
         "name": "Action 0",
         "showlegend": false,
         "type": "scatter",
         "x": [
          1,
          2
         ],
         "y": [
          25,
          25
         ]
        },
        {
         "line": {
          "color": "rgb(68, 1, 84)",
          "width": 2
         },
         "mode": "lines+markers",
         "name": "Action 0",
         "showlegend": false,
         "type": "scatter",
         "x": [
          1,
          2
         ],
         "y": [
          26,
          26
         ]
        },
        {
         "line": {
          "color": "rgb(68, 1, 84)",
          "width": 2
         },
         "mode": "lines+markers",
         "name": "Action 0",
         "showlegend": false,
         "type": "scatter",
         "x": [
          1,
          2
         ],
         "y": [
          27,
          27
         ]
        },
        {
         "line": {
          "color": "rgb(68, 1, 84)",
          "width": 2
         },
         "mode": "lines+markers",
         "name": "Action 0",
         "showlegend": false,
         "type": "scatter",
         "x": [
          1,
          2
         ],
         "y": [
          28,
          28
         ]
        },
        {
         "line": {
          "color": "rgb(68, 1, 84)",
          "width": 2
         },
         "mode": "lines+markers",
         "name": "Action 0",
         "showlegend": false,
         "type": "scatter",
         "x": [
          1,
          2
         ],
         "y": [
          29,
          29
         ]
        },
        {
         "line": {
          "color": "rgb(68, 1, 84)",
          "width": 2
         },
         "mode": "lines+markers",
         "name": "Action 0",
         "showlegend": false,
         "type": "scatter",
         "x": [
          1,
          2
         ],
         "y": [
          30,
          30
         ]
        },
        {
         "line": {
          "color": "rgb(68, 1, 84)",
          "width": 2
         },
         "mode": "lines+markers",
         "name": "Action 0",
         "showlegend": false,
         "type": "scatter",
         "x": [
          1,
          2
         ],
         "y": [
          31,
          31
         ]
        },
        {
         "line": {
          "color": "rgb(68, 1, 84)",
          "width": 2
         },
         "mode": "lines+markers",
         "name": "Action 0",
         "showlegend": false,
         "type": "scatter",
         "x": [
          1,
          2
         ],
         "y": [
          32,
          32
         ]
        },
        {
         "line": {
          "color": "rgb(68, 1, 84)",
          "width": 2
         },
         "mode": "lines+markers",
         "name": "Action 0",
         "showlegend": false,
         "type": "scatter",
         "x": [
          1,
          2
         ],
         "y": [
          33,
          33
         ]
        },
        {
         "line": {
          "color": "rgb(68, 1, 84)",
          "width": 2
         },
         "mode": "lines+markers",
         "name": "Action 0",
         "showlegend": false,
         "type": "scatter",
         "x": [
          1,
          2
         ],
         "y": [
          34,
          34
         ]
        },
        {
         "line": {
          "color": "rgb(68, 1, 84)",
          "width": 2
         },
         "mode": "lines+markers",
         "name": "Action 0",
         "showlegend": false,
         "type": "scatter",
         "x": [
          1,
          2
         ],
         "y": [
          35,
          35
         ]
        },
        {
         "line": {
          "color": "rgb(68, 1, 84)",
          "width": 2
         },
         "mode": "lines+markers",
         "name": "Action 0",
         "showlegend": false,
         "type": "scatter",
         "x": [
          1,
          2
         ],
         "y": [
          36,
          36
         ]
        },
        {
         "line": {
          "color": "rgb(68, 1, 84)",
          "width": 2
         },
         "mode": "lines+markers",
         "name": "Action 0",
         "showlegend": false,
         "type": "scatter",
         "x": [
          1,
          2
         ],
         "y": [
          37,
          37
         ]
        },
        {
         "line": {
          "color": "rgb(68, 1, 84)",
          "width": 2
         },
         "mode": "lines+markers",
         "name": "Action 0",
         "showlegend": false,
         "type": "scatter",
         "x": [
          1,
          2
         ],
         "y": [
          38,
          38
         ]
        },
        {
         "line": {
          "color": "rgb(68, 1, 84)",
          "width": 2
         },
         "mode": "lines+markers",
         "name": "Action 0",
         "showlegend": false,
         "type": "scatter",
         "x": [
          1,
          2
         ],
         "y": [
          39,
          39
         ]
        },
        {
         "line": {
          "color": "rgb(68, 1, 84)",
          "width": 2
         },
         "mode": "lines+markers",
         "name": "Action 0",
         "showlegend": false,
         "type": "scatter",
         "x": [
          1,
          2
         ],
         "y": [
          40,
          40
         ]
        },
        {
         "line": {
          "color": "rgb(68, 1, 84)",
          "width": 2
         },
         "mode": "lines+markers",
         "name": "Action 0",
         "showlegend": false,
         "type": "scatter",
         "x": [
          1,
          2
         ],
         "y": [
          41,
          41
         ]
        },
        {
         "line": {
          "color": "rgb(68, 1, 84)",
          "width": 2
         },
         "mode": "lines+markers",
         "name": "Action 0",
         "showlegend": false,
         "type": "scatter",
         "x": [
          1,
          2
         ],
         "y": [
          42,
          42
         ]
        },
        {
         "line": {
          "color": "rgb(68, 1, 84)",
          "width": 2
         },
         "mode": "lines+markers",
         "name": "Action 0",
         "showlegend": false,
         "type": "scatter",
         "x": [
          1,
          2
         ],
         "y": [
          43,
          43
         ]
        },
        {
         "line": {
          "color": "rgb(68, 1, 84)",
          "width": 2
         },
         "mode": "lines+markers",
         "name": "Action 0",
         "showlegend": false,
         "type": "scatter",
         "x": [
          1,
          2
         ],
         "y": [
          44,
          44
         ]
        },
        {
         "line": {
          "color": "rgb(68, 1, 84)",
          "width": 2
         },
         "mode": "lines+markers",
         "name": "Action 0",
         "showlegend": false,
         "type": "scatter",
         "x": [
          1,
          2
         ],
         "y": [
          45,
          45
         ]
        },
        {
         "line": {
          "color": "rgb(68, 1, 84)",
          "width": 2
         },
         "mode": "lines+markers",
         "name": "Action 0",
         "showlegend": false,
         "type": "scatter",
         "x": [
          1,
          2
         ],
         "y": [
          46,
          46
         ]
        },
        {
         "line": {
          "color": "rgb(68, 1, 84)",
          "width": 2
         },
         "mode": "lines+markers",
         "name": "Action 0",
         "showlegend": false,
         "type": "scatter",
         "x": [
          1,
          2
         ],
         "y": [
          47,
          47
         ]
        },
        {
         "line": {
          "color": "rgb(68, 1, 84)",
          "width": 2
         },
         "mode": "lines+markers",
         "name": "Action 0",
         "showlegend": false,
         "type": "scatter",
         "x": [
          1,
          2
         ],
         "y": [
          48,
          48
         ]
        },
        {
         "line": {
          "color": "rgb(68, 1, 84)",
          "width": 2
         },
         "mode": "lines+markers",
         "name": "Action 0",
         "showlegend": false,
         "type": "scatter",
         "x": [
          1,
          2
         ],
         "y": [
          49,
          49
         ]
        },
        {
         "line": {
          "color": "rgb(68, 1, 84)",
          "width": 2
         },
         "mode": "lines+markers",
         "name": "Action 0",
         "showlegend": false,
         "type": "scatter",
         "x": [
          1,
          2
         ],
         "y": [
          50,
          50
         ]
        },
        {
         "line": {
          "color": "rgb(68, 1, 84)",
          "width": 2
         },
         "mode": "lines+markers",
         "name": "Action 0",
         "showlegend": false,
         "type": "scatter",
         "x": [
          1,
          2
         ],
         "y": [
          51,
          51
         ]
        },
        {
         "line": {
          "color": "rgb(68, 1, 84)",
          "width": 2
         },
         "mode": "lines+markers",
         "name": "Action 0",
         "showlegend": false,
         "type": "scatter",
         "x": [
          1,
          2
         ],
         "y": [
          52,
          52
         ]
        },
        {
         "line": {
          "color": "rgb(68, 1, 84)",
          "width": 2
         },
         "mode": "lines+markers",
         "name": "Action 0",
         "showlegend": false,
         "type": "scatter",
         "x": [
          1,
          2
         ],
         "y": [
          53,
          53
         ]
        },
        {
         "line": {
          "color": "rgb(68, 1, 84)",
          "width": 2
         },
         "mode": "lines+markers",
         "name": "Action 0",
         "showlegend": false,
         "type": "scatter",
         "x": [
          1,
          2
         ],
         "y": [
          54,
          54
         ]
        },
        {
         "line": {
          "color": "rgb(68, 1, 84)",
          "width": 2
         },
         "mode": "lines+markers",
         "name": "Action 0",
         "showlegend": false,
         "type": "scatter",
         "x": [
          1,
          2
         ],
         "y": [
          56,
          56
         ]
        },
        {
         "line": {
          "color": "rgb(68, 1, 84)",
          "width": 2
         },
         "mode": "lines+markers",
         "name": "Action 0",
         "showlegend": false,
         "type": "scatter",
         "x": [
          1,
          2
         ],
         "y": [
          57,
          57
         ]
        },
        {
         "line": {
          "color": "rgb(68, 1, 84)",
          "width": 2
         },
         "mode": "lines+markers",
         "name": "Action 0",
         "showlegend": false,
         "type": "scatter",
         "x": [
          1,
          2
         ],
         "y": [
          58,
          58
         ]
        },
        {
         "line": {
          "color": "rgb(68, 1, 84)",
          "width": 2
         },
         "mode": "lines+markers",
         "name": "Action 0",
         "showlegend": false,
         "type": "scatter",
         "x": [
          1,
          2
         ],
         "y": [
          59,
          59
         ]
        },
        {
         "line": {
          "color": "rgb(68, 1, 84)",
          "width": 2
         },
         "mode": "lines+markers",
         "name": "Action 0",
         "showlegend": false,
         "type": "scatter",
         "x": [
          1,
          2
         ],
         "y": [
          60,
          60
         ]
        },
        {
         "line": {
          "color": "rgb(68, 1, 84)",
          "width": 2
         },
         "mode": "lines+markers",
         "name": "Action 0",
         "showlegend": false,
         "type": "scatter",
         "x": [
          1,
          2
         ],
         "y": [
          61,
          61
         ]
        },
        {
         "line": {
          "color": "rgb(68, 1, 84)",
          "width": 2
         },
         "mode": "lines+markers",
         "name": "Action 0",
         "showlegend": false,
         "type": "scatter",
         "x": [
          1,
          2
         ],
         "y": [
          62,
          62
         ]
        },
        {
         "line": {
          "color": "rgb(68, 1, 84)",
          "width": 2
         },
         "mode": "lines+markers",
         "name": "Action 0",
         "showlegend": false,
         "type": "scatter",
         "x": [
          1,
          2
         ],
         "y": [
          63,
          63
         ]
        },
        {
         "line": {
          "color": "rgb(68, 1, 84)",
          "width": 2
         },
         "mode": "lines+markers",
         "name": "Action 0",
         "showlegend": false,
         "type": "scatter",
         "x": [
          1,
          2
         ],
         "y": [
          64,
          64
         ]
        },
        {
         "line": {
          "color": "rgb(68, 1, 84)",
          "width": 2
         },
         "mode": "lines+markers",
         "name": "Action 0",
         "showlegend": false,
         "type": "scatter",
         "x": [
          1,
          2
         ],
         "y": [
          65,
          65
         ]
        },
        {
         "line": {
          "color": "rgb(68, 1, 84)",
          "width": 2
         },
         "mode": "lines+markers",
         "name": "Action 0",
         "showlegend": false,
         "type": "scatter",
         "x": [
          1,
          2
         ],
         "y": [
          66,
          66
         ]
        },
        {
         "line": {
          "color": "rgb(68, 1, 84)",
          "width": 2
         },
         "mode": "lines+markers",
         "name": "Action 0",
         "showlegend": false,
         "type": "scatter",
         "x": [
          1,
          2
         ],
         "y": [
          67,
          67
         ]
        },
        {
         "line": {
          "color": "rgb(68, 1, 84)",
          "width": 2
         },
         "mode": "lines+markers",
         "name": "Action 0",
         "showlegend": false,
         "type": "scatter",
         "x": [
          1,
          2
         ],
         "y": [
          68,
          68
         ]
        },
        {
         "line": {
          "color": "rgb(68, 1, 84)",
          "width": 2
         },
         "mode": "lines+markers",
         "name": "Action 0",
         "showlegend": false,
         "type": "scatter",
         "x": [
          1,
          2
         ],
         "y": [
          69,
          69
         ]
        },
        {
         "line": {
          "color": "rgb(68, 1, 84)",
          "width": 2
         },
         "mode": "lines+markers",
         "name": "Action 0",
         "showlegend": false,
         "type": "scatter",
         "x": [
          1,
          2
         ],
         "y": [
          70,
          70
         ]
        },
        {
         "line": {
          "color": "rgb(68, 1, 84)",
          "width": 2
         },
         "mode": "lines+markers",
         "name": "Action 0",
         "showlegend": false,
         "type": "scatter",
         "x": [
          1,
          2
         ],
         "y": [
          71,
          71
         ]
        },
        {
         "line": {
          "color": "rgb(68, 1, 84)",
          "width": 2
         },
         "mode": "lines+markers",
         "name": "Action 0",
         "showlegend": false,
         "type": "scatter",
         "x": [
          1,
          2
         ],
         "y": [
          72,
          72
         ]
        },
        {
         "line": {
          "color": "rgb(68, 1, 84)",
          "width": 2
         },
         "mode": "lines+markers",
         "name": "Action 0",
         "showlegend": false,
         "type": "scatter",
         "x": [
          1,
          2
         ],
         "y": [
          73,
          73
         ]
        },
        {
         "line": {
          "color": "rgb(68, 1, 84)",
          "width": 2
         },
         "mode": "lines+markers",
         "name": "Action 0",
         "showlegend": false,
         "type": "scatter",
         "x": [
          1,
          2
         ],
         "y": [
          74,
          74
         ]
        },
        {
         "line": {
          "color": "rgb(68, 1, 84)",
          "width": 2
         },
         "mode": "lines+markers",
         "name": "Action 0",
         "showlegend": false,
         "type": "scatter",
         "x": [
          1,
          2
         ],
         "y": [
          75,
          75
         ]
        },
        {
         "line": {
          "color": "rgb(68, 1, 84)",
          "width": 2
         },
         "mode": "lines+markers",
         "name": "Action 0",
         "showlegend": false,
         "type": "scatter",
         "x": [
          1,
          2
         ],
         "y": [
          76,
          76
         ]
        },
        {
         "line": {
          "color": "rgb(68, 1, 84)",
          "width": 2
         },
         "mode": "lines+markers",
         "name": "Action 0",
         "showlegend": false,
         "type": "scatter",
         "x": [
          1,
          2
         ],
         "y": [
          77,
          77
         ]
        },
        {
         "line": {
          "color": "rgb(68, 1, 84)",
          "width": 2
         },
         "mode": "lines+markers",
         "name": "Action 0",
         "showlegend": false,
         "type": "scatter",
         "x": [
          1,
          2
         ],
         "y": [
          78,
          78
         ]
        },
        {
         "line": {
          "color": "rgb(68, 1, 84)",
          "width": 2
         },
         "mode": "lines+markers",
         "name": "Action 0",
         "showlegend": false,
         "type": "scatter",
         "x": [
          1,
          2
         ],
         "y": [
          79,
          79
         ]
        },
        {
         "line": {
          "color": "rgb(68, 1, 84)",
          "width": 2
         },
         "mode": "lines+markers",
         "name": "Action 0",
         "showlegend": false,
         "type": "scatter",
         "x": [
          1,
          2
         ],
         "y": [
          80,
          80
         ]
        },
        {
         "line": {
          "color": "rgb(68, 1, 84)",
          "width": 2
         },
         "mode": "lines+markers",
         "name": "Action 0",
         "showlegend": false,
         "type": "scatter",
         "x": [
          1,
          2
         ],
         "y": [
          81,
          81
         ]
        },
        {
         "line": {
          "color": "rgb(68, 1, 84)",
          "width": 2
         },
         "mode": "lines+markers",
         "name": "Action 0",
         "showlegend": false,
         "type": "scatter",
         "x": [
          1,
          2
         ],
         "y": [
          82,
          82
         ]
        },
        {
         "line": {
          "color": "rgb(68, 1, 84)",
          "width": 2
         },
         "mode": "lines+markers",
         "name": "Action 0",
         "showlegend": false,
         "type": "scatter",
         "x": [
          1,
          2
         ],
         "y": [
          83,
          83
         ]
        },
        {
         "line": {
          "color": "rgb(68, 1, 84)",
          "width": 2
         },
         "mode": "lines+markers",
         "name": "Action 0",
         "showlegend": false,
         "type": "scatter",
         "x": [
          1,
          2
         ],
         "y": [
          84,
          84
         ]
        },
        {
         "line": {
          "color": "rgb(68, 1, 84)",
          "width": 2
         },
         "mode": "lines+markers",
         "name": "Action 0",
         "showlegend": false,
         "type": "scatter",
         "x": [
          1,
          2
         ],
         "y": [
          85,
          85
         ]
        },
        {
         "line": {
          "color": "rgb(68, 1, 84)",
          "width": 2
         },
         "mode": "lines+markers",
         "name": "Action 0",
         "showlegend": false,
         "type": "scatter",
         "x": [
          1,
          2
         ],
         "y": [
          86,
          86
         ]
        },
        {
         "line": {
          "color": "rgb(68, 1, 84)",
          "width": 2
         },
         "mode": "lines+markers",
         "name": "Action 0",
         "showlegend": false,
         "type": "scatter",
         "x": [
          1,
          2
         ],
         "y": [
          87,
          87
         ]
        },
        {
         "line": {
          "color": "rgb(68, 1, 84)",
          "width": 2
         },
         "mode": "lines+markers",
         "name": "Action 0",
         "showlegend": false,
         "type": "scatter",
         "x": [
          1,
          2
         ],
         "y": [
          88,
          88
         ]
        },
        {
         "line": {
          "color": "rgb(68, 1, 84)",
          "width": 2
         },
         "mode": "lines+markers",
         "name": "Action 0",
         "showlegend": false,
         "type": "scatter",
         "x": [
          1,
          2
         ],
         "y": [
          89,
          89
         ]
        },
        {
         "line": {
          "color": "rgb(68, 1, 84)",
          "width": 2
         },
         "mode": "lines+markers",
         "name": "Action 0",
         "showlegend": false,
         "type": "scatter",
         "x": [
          1,
          2
         ],
         "y": [
          90,
          90
         ]
        },
        {
         "line": {
          "color": "rgb(68, 1, 84)",
          "width": 2
         },
         "mode": "lines+markers",
         "name": "Action 0",
         "showlegend": false,
         "type": "scatter",
         "x": [
          1,
          2
         ],
         "y": [
          91,
          91
         ]
        },
        {
         "line": {
          "color": "rgb(68, 1, 84)",
          "width": 2
         },
         "mode": "lines+markers",
         "name": "Action 0",
         "showlegend": false,
         "type": "scatter",
         "x": [
          1,
          2
         ],
         "y": [
          92,
          92
         ]
        },
        {
         "line": {
          "color": "rgb(68, 1, 84)",
          "width": 2
         },
         "mode": "lines+markers",
         "name": "Action 0",
         "showlegend": false,
         "type": "scatter",
         "x": [
          1,
          2
         ],
         "y": [
          93,
          93
         ]
        },
        {
         "line": {
          "color": "rgb(68, 1, 84)",
          "width": 2
         },
         "mode": "lines+markers",
         "name": "Action 0",
         "showlegend": false,
         "type": "scatter",
         "x": [
          1,
          2
         ],
         "y": [
          94,
          94
         ]
        },
        {
         "line": {
          "color": "rgb(68, 1, 84)",
          "width": 2
         },
         "mode": "lines+markers",
         "name": "Action 0",
         "showlegend": false,
         "type": "scatter",
         "x": [
          1,
          2
         ],
         "y": [
          95,
          95
         ]
        },
        {
         "line": {
          "color": "rgb(68, 1, 84)",
          "width": 2
         },
         "mode": "lines+markers",
         "name": "Action 0",
         "showlegend": false,
         "type": "scatter",
         "x": [
          1,
          2
         ],
         "y": [
          96,
          96
         ]
        },
        {
         "line": {
          "color": "rgb(68, 1, 84)",
          "width": 2
         },
         "mode": "lines+markers",
         "name": "Action 0",
         "showlegend": false,
         "type": "scatter",
         "x": [
          1,
          2
         ],
         "y": [
          97,
          97
         ]
        },
        {
         "line": {
          "color": "rgb(68, 1, 84)",
          "width": 2
         },
         "mode": "lines+markers",
         "name": "Action 0",
         "showlegend": false,
         "type": "scatter",
         "x": [
          1,
          2
         ],
         "y": [
          98,
          98
         ]
        },
        {
         "line": {
          "color": "rgb(68, 1, 84)",
          "width": 2
         },
         "mode": "lines+markers",
         "name": "Action 0",
         "showlegend": false,
         "type": "scatter",
         "x": [
          1,
          2
         ],
         "y": [
          99,
          99
         ]
        },
        {
         "line": {
          "color": "rgb(68, 1, 84)",
          "width": 2
         },
         "mode": "lines+markers",
         "name": "Action 0",
         "showlegend": false,
         "type": "scatter",
         "x": [
          1,
          2
         ],
         "y": [
          100,
          100
         ]
        },
        {
         "line": {
          "color": "rgb(68, 1, 84)",
          "width": 2
         },
         "mode": "lines+markers",
         "name": "Action 0",
         "showlegend": false,
         "type": "scatter",
         "x": [
          2,
          3
         ],
         "y": [
          0,
          0
         ]
        },
        {
         "line": {
          "color": "rgb(68, 1, 84)",
          "width": 2
         },
         "mode": "lines+markers",
         "name": "Action 0",
         "showlegend": false,
         "type": "scatter",
         "x": [
          2,
          3
         ],
         "y": [
          1,
          1
         ]
        },
        {
         "line": {
          "color": "rgb(68, 1, 84)",
          "width": 2
         },
         "mode": "lines+markers",
         "name": "Action 0",
         "showlegend": false,
         "type": "scatter",
         "x": [
          2,
          3
         ],
         "y": [
          2,
          2
         ]
        },
        {
         "line": {
          "color": "rgb(68, 1, 84)",
          "width": 2
         },
         "mode": "lines+markers",
         "name": "Action 0",
         "showlegend": false,
         "type": "scatter",
         "x": [
          2,
          3
         ],
         "y": [
          3,
          3
         ]
        },
        {
         "line": {
          "color": "rgb(68, 1, 84)",
          "width": 2
         },
         "mode": "lines+markers",
         "name": "Action 0",
         "showlegend": false,
         "type": "scatter",
         "x": [
          2,
          3
         ],
         "y": [
          4,
          4
         ]
        },
        {
         "line": {
          "color": "rgb(68, 1, 84)",
          "width": 2
         },
         "mode": "lines+markers",
         "name": "Action 0",
         "showlegend": false,
         "type": "scatter",
         "x": [
          2,
          3
         ],
         "y": [
          5,
          5
         ]
        },
        {
         "line": {
          "color": "rgb(68, 1, 84)",
          "width": 2
         },
         "mode": "lines+markers",
         "name": "Action 0",
         "showlegend": false,
         "type": "scatter",
         "x": [
          2,
          3
         ],
         "y": [
          6,
          6
         ]
        },
        {
         "line": {
          "color": "rgb(68, 1, 84)",
          "width": 2
         },
         "mode": "lines+markers",
         "name": "Action 0",
         "showlegend": false,
         "type": "scatter",
         "x": [
          2,
          3
         ],
         "y": [
          7,
          7
         ]
        },
        {
         "line": {
          "color": "rgb(68, 1, 84)",
          "width": 2
         },
         "mode": "lines+markers",
         "name": "Action 0",
         "showlegend": false,
         "type": "scatter",
         "x": [
          2,
          3
         ],
         "y": [
          8,
          8
         ]
        },
        {
         "line": {
          "color": "rgb(68, 1, 84)",
          "width": 2
         },
         "mode": "lines+markers",
         "name": "Action 0",
         "showlegend": false,
         "type": "scatter",
         "x": [
          2,
          3
         ],
         "y": [
          9,
          9
         ]
        },
        {
         "line": {
          "color": "rgb(68, 1, 84)",
          "width": 2
         },
         "mode": "lines+markers",
         "name": "Action 0",
         "showlegend": false,
         "type": "scatter",
         "x": [
          2,
          3
         ],
         "y": [
          10,
          10
         ]
        },
        {
         "line": {
          "color": "rgb(68, 1, 84)",
          "width": 2
         },
         "mode": "lines+markers",
         "name": "Action 0",
         "showlegend": false,
         "type": "scatter",
         "x": [
          2,
          3
         ],
         "y": [
          11,
          11
         ]
        },
        {
         "line": {
          "color": "rgb(68, 1, 84)",
          "width": 2
         },
         "mode": "lines+markers",
         "name": "Action 0",
         "showlegend": false,
         "type": "scatter",
         "x": [
          2,
          3
         ],
         "y": [
          12,
          12
         ]
        },
        {
         "line": {
          "color": "rgb(68, 1, 84)",
          "width": 2
         },
         "mode": "lines+markers",
         "name": "Action 0",
         "showlegend": false,
         "type": "scatter",
         "x": [
          2,
          3
         ],
         "y": [
          13,
          13
         ]
        },
        {
         "line": {
          "color": "rgb(68, 1, 84)",
          "width": 2
         },
         "mode": "lines+markers",
         "name": "Action 0",
         "showlegend": false,
         "type": "scatter",
         "x": [
          2,
          3
         ],
         "y": [
          14,
          14
         ]
        },
        {
         "line": {
          "color": "rgb(68, 1, 84)",
          "width": 2
         },
         "mode": "lines+markers",
         "name": "Action 0",
         "showlegend": false,
         "type": "scatter",
         "x": [
          2,
          3
         ],
         "y": [
          15,
          15
         ]
        },
        {
         "line": {
          "color": "rgb(68, 1, 84)",
          "width": 2
         },
         "mode": "lines+markers",
         "name": "Action 0",
         "showlegend": false,
         "type": "scatter",
         "x": [
          2,
          3
         ],
         "y": [
          16,
          16
         ]
        },
        {
         "line": {
          "color": "rgb(68, 1, 84)",
          "width": 2
         },
         "mode": "lines+markers",
         "name": "Action 0",
         "showlegend": false,
         "type": "scatter",
         "x": [
          2,
          3
         ],
         "y": [
          17,
          17
         ]
        },
        {
         "line": {
          "color": "rgb(68, 1, 84)",
          "width": 2
         },
         "mode": "lines+markers",
         "name": "Action 0",
         "showlegend": false,
         "type": "scatter",
         "x": [
          2,
          3
         ],
         "y": [
          18,
          18
         ]
        },
        {
         "line": {
          "color": "rgb(68, 1, 84)",
          "width": 2
         },
         "mode": "lines+markers",
         "name": "Action 0",
         "showlegend": false,
         "type": "scatter",
         "x": [
          2,
          3
         ],
         "y": [
          19,
          19
         ]
        },
        {
         "line": {
          "color": "rgb(68, 1, 84)",
          "width": 2
         },
         "mode": "lines+markers",
         "name": "Action 0",
         "showlegend": false,
         "type": "scatter",
         "x": [
          2,
          3
         ],
         "y": [
          20,
          20
         ]
        },
        {
         "line": {
          "color": "rgb(68, 1, 84)",
          "width": 2
         },
         "mode": "lines+markers",
         "name": "Action 0",
         "showlegend": false,
         "type": "scatter",
         "x": [
          2,
          3
         ],
         "y": [
          21,
          21
         ]
        },
        {
         "line": {
          "color": "rgb(68, 1, 84)",
          "width": 2
         },
         "mode": "lines+markers",
         "name": "Action 0",
         "showlegend": false,
         "type": "scatter",
         "x": [
          2,
          3
         ],
         "y": [
          22,
          22
         ]
        },
        {
         "line": {
          "color": "rgb(68, 1, 84)",
          "width": 2
         },
         "mode": "lines+markers",
         "name": "Action 0",
         "showlegend": false,
         "type": "scatter",
         "x": [
          2,
          3
         ],
         "y": [
          23,
          23
         ]
        },
        {
         "line": {
          "color": "rgb(68, 1, 84)",
          "width": 2
         },
         "mode": "lines+markers",
         "name": "Action 0",
         "showlegend": false,
         "type": "scatter",
         "x": [
          2,
          3
         ],
         "y": [
          24,
          24
         ]
        },
        {
         "line": {
          "color": "rgb(68, 1, 84)",
          "width": 2
         },
         "mode": "lines+markers",
         "name": "Action 0",
         "showlegend": false,
         "type": "scatter",
         "x": [
          2,
          3
         ],
         "y": [
          25,
          25
         ]
        },
        {
         "line": {
          "color": "rgb(68, 1, 84)",
          "width": 2
         },
         "mode": "lines+markers",
         "name": "Action 0",
         "showlegend": false,
         "type": "scatter",
         "x": [
          2,
          3
         ],
         "y": [
          27,
          27
         ]
        },
        {
         "line": {
          "color": "rgb(68, 1, 84)",
          "width": 2
         },
         "mode": "lines+markers",
         "name": "Action 0",
         "showlegend": false,
         "type": "scatter",
         "x": [
          2,
          3
         ],
         "y": [
          28,
          28
         ]
        },
        {
         "line": {
          "color": "rgb(68, 1, 84)",
          "width": 2
         },
         "mode": "lines+markers",
         "name": "Action 0",
         "showlegend": false,
         "type": "scatter",
         "x": [
          2,
          3
         ],
         "y": [
          29,
          29
         ]
        },
        {
         "line": {
          "color": "rgb(68, 1, 84)",
          "width": 2
         },
         "mode": "lines+markers",
         "name": "Action 0",
         "showlegend": false,
         "type": "scatter",
         "x": [
          2,
          3
         ],
         "y": [
          30,
          30
         ]
        },
        {
         "line": {
          "color": "rgb(68, 1, 84)",
          "width": 2
         },
         "mode": "lines+markers",
         "name": "Action 0",
         "showlegend": false,
         "type": "scatter",
         "x": [
          2,
          3
         ],
         "y": [
          31,
          31
         ]
        },
        {
         "line": {
          "color": "rgb(68, 1, 84)",
          "width": 2
         },
         "mode": "lines+markers",
         "name": "Action 0",
         "showlegend": false,
         "type": "scatter",
         "x": [
          2,
          3
         ],
         "y": [
          32,
          32
         ]
        },
        {
         "line": {
          "color": "rgb(68, 1, 84)",
          "width": 2
         },
         "mode": "lines+markers",
         "name": "Action 0",
         "showlegend": false,
         "type": "scatter",
         "x": [
          2,
          3
         ],
         "y": [
          34,
          34
         ]
        },
        {
         "line": {
          "color": "rgb(68, 1, 84)",
          "width": 2
         },
         "mode": "lines+markers",
         "name": "Action 0",
         "showlegend": false,
         "type": "scatter",
         "x": [
          2,
          3
         ],
         "y": [
          35,
          35
         ]
        },
        {
         "line": {
          "color": "rgb(68, 1, 84)",
          "width": 2
         },
         "mode": "lines+markers",
         "name": "Action 0",
         "showlegend": false,
         "type": "scatter",
         "x": [
          2,
          3
         ],
         "y": [
          36,
          36
         ]
        },
        {
         "line": {
          "color": "rgb(68, 1, 84)",
          "width": 2
         },
         "mode": "lines+markers",
         "name": "Action 0",
         "showlegend": false,
         "type": "scatter",
         "x": [
          2,
          3
         ],
         "y": [
          37,
          37
         ]
        },
        {
         "line": {
          "color": "rgb(68, 1, 84)",
          "width": 2
         },
         "mode": "lines+markers",
         "name": "Action 0",
         "showlegend": false,
         "type": "scatter",
         "x": [
          2,
          3
         ],
         "y": [
          38,
          38
         ]
        },
        {
         "line": {
          "color": "rgb(68, 1, 84)",
          "width": 2
         },
         "mode": "lines+markers",
         "name": "Action 0",
         "showlegend": false,
         "type": "scatter",
         "x": [
          2,
          3
         ],
         "y": [
          39,
          39
         ]
        },
        {
         "line": {
          "color": "rgb(68, 1, 84)",
          "width": 2
         },
         "mode": "lines+markers",
         "name": "Action 0",
         "showlegend": false,
         "type": "scatter",
         "x": [
          2,
          3
         ],
         "y": [
          40,
          40
         ]
        },
        {
         "line": {
          "color": "rgb(68, 1, 84)",
          "width": 2
         },
         "mode": "lines+markers",
         "name": "Action 0",
         "showlegend": false,
         "type": "scatter",
         "x": [
          2,
          3
         ],
         "y": [
          41,
          41
         ]
        },
        {
         "line": {
          "color": "rgb(68, 1, 84)",
          "width": 2
         },
         "mode": "lines+markers",
         "name": "Action 0",
         "showlegend": false,
         "type": "scatter",
         "x": [
          2,
          3
         ],
         "y": [
          42,
          42
         ]
        },
        {
         "line": {
          "color": "rgb(68, 1, 84)",
          "width": 2
         },
         "mode": "lines+markers",
         "name": "Action 0",
         "showlegend": false,
         "type": "scatter",
         "x": [
          2,
          3
         ],
         "y": [
          43,
          43
         ]
        },
        {
         "line": {
          "color": "rgb(68, 1, 84)",
          "width": 2
         },
         "mode": "lines+markers",
         "name": "Action 0",
         "showlegend": false,
         "type": "scatter",
         "x": [
          2,
          3
         ],
         "y": [
          44,
          44
         ]
        },
        {
         "line": {
          "color": "rgb(68, 1, 84)",
          "width": 2
         },
         "mode": "lines+markers",
         "name": "Action 0",
         "showlegend": false,
         "type": "scatter",
         "x": [
          2,
          3
         ],
         "y": [
          45,
          45
         ]
        },
        {
         "line": {
          "color": "rgb(68, 1, 84)",
          "width": 2
         },
         "mode": "lines+markers",
         "name": "Action 0",
         "showlegend": false,
         "type": "scatter",
         "x": [
          2,
          3
         ],
         "y": [
          46,
          46
         ]
        },
        {
         "line": {
          "color": "rgb(68, 1, 84)",
          "width": 2
         },
         "mode": "lines+markers",
         "name": "Action 0",
         "showlegend": false,
         "type": "scatter",
         "x": [
          2,
          3
         ],
         "y": [
          47,
          47
         ]
        },
        {
         "line": {
          "color": "rgb(68, 1, 84)",
          "width": 2
         },
         "mode": "lines+markers",
         "name": "Action 0",
         "showlegend": false,
         "type": "scatter",
         "x": [
          2,
          3
         ],
         "y": [
          48,
          48
         ]
        },
        {
         "line": {
          "color": "rgb(68, 1, 84)",
          "width": 2
         },
         "mode": "lines+markers",
         "name": "Action 0",
         "showlegend": false,
         "type": "scatter",
         "x": [
          2,
          3
         ],
         "y": [
          49,
          49
         ]
        },
        {
         "line": {
          "color": "rgb(68, 1, 84)",
          "width": 2
         },
         "mode": "lines+markers",
         "name": "Action 0",
         "showlegend": false,
         "type": "scatter",
         "x": [
          2,
          3
         ],
         "y": [
          50,
          50
         ]
        },
        {
         "line": {
          "color": "rgb(68, 1, 84)",
          "width": 2
         },
         "mode": "lines+markers",
         "name": "Action 0",
         "showlegend": false,
         "type": "scatter",
         "x": [
          2,
          3
         ],
         "y": [
          51,
          51
         ]
        },
        {
         "line": {
          "color": "rgb(68, 1, 84)",
          "width": 2
         },
         "mode": "lines+markers",
         "name": "Action 0",
         "showlegend": false,
         "type": "scatter",
         "x": [
          2,
          3
         ],
         "y": [
          52,
          52
         ]
        },
        {
         "line": {
          "color": "rgb(68, 1, 84)",
          "width": 2
         },
         "mode": "lines+markers",
         "name": "Action 0",
         "showlegend": false,
         "type": "scatter",
         "x": [
          2,
          3
         ],
         "y": [
          53,
          53
         ]
        },
        {
         "line": {
          "color": "rgb(68, 1, 84)",
          "width": 2
         },
         "mode": "lines+markers",
         "name": "Action 0",
         "showlegend": false,
         "type": "scatter",
         "x": [
          2,
          3
         ],
         "y": [
          54,
          54
         ]
        },
        {
         "line": {
          "color": "rgb(68, 1, 84)",
          "width": 2
         },
         "mode": "lines+markers",
         "name": "Action 0",
         "showlegend": false,
         "type": "scatter",
         "x": [
          2,
          3
         ],
         "y": [
          55,
          55
         ]
        },
        {
         "line": {
          "color": "rgb(68, 1, 84)",
          "width": 2
         },
         "mode": "lines+markers",
         "name": "Action 0",
         "showlegend": false,
         "type": "scatter",
         "x": [
          2,
          3
         ],
         "y": [
          56,
          56
         ]
        },
        {
         "line": {
          "color": "rgb(68, 1, 84)",
          "width": 2
         },
         "mode": "lines+markers",
         "name": "Action 0",
         "showlegend": false,
         "type": "scatter",
         "x": [
          2,
          3
         ],
         "y": [
          57,
          57
         ]
        },
        {
         "line": {
          "color": "rgb(68, 1, 84)",
          "width": 2
         },
         "mode": "lines+markers",
         "name": "Action 0",
         "showlegend": false,
         "type": "scatter",
         "x": [
          2,
          3
         ],
         "y": [
          58,
          58
         ]
        },
        {
         "line": {
          "color": "rgb(68, 1, 84)",
          "width": 2
         },
         "mode": "lines+markers",
         "name": "Action 0",
         "showlegend": false,
         "type": "scatter",
         "x": [
          2,
          3
         ],
         "y": [
          59,
          59
         ]
        },
        {
         "line": {
          "color": "rgb(68, 1, 84)",
          "width": 2
         },
         "mode": "lines+markers",
         "name": "Action 0",
         "showlegend": false,
         "type": "scatter",
         "x": [
          2,
          3
         ],
         "y": [
          60,
          60
         ]
        },
        {
         "line": {
          "color": "rgb(68, 1, 84)",
          "width": 2
         },
         "mode": "lines+markers",
         "name": "Action 0",
         "showlegend": false,
         "type": "scatter",
         "x": [
          2,
          3
         ],
         "y": [
          61,
          61
         ]
        },
        {
         "line": {
          "color": "rgb(68, 1, 84)",
          "width": 2
         },
         "mode": "lines+markers",
         "name": "Action 0",
         "showlegend": false,
         "type": "scatter",
         "x": [
          2,
          3
         ],
         "y": [
          62,
          62
         ]
        },
        {
         "line": {
          "color": "rgb(68, 1, 84)",
          "width": 2
         },
         "mode": "lines+markers",
         "name": "Action 0",
         "showlegend": false,
         "type": "scatter",
         "x": [
          2,
          3
         ],
         "y": [
          63,
          63
         ]
        },
        {
         "line": {
          "color": "rgb(68, 1, 84)",
          "width": 2
         },
         "mode": "lines+markers",
         "name": "Action 0",
         "showlegend": false,
         "type": "scatter",
         "x": [
          2,
          3
         ],
         "y": [
          64,
          64
         ]
        },
        {
         "line": {
          "color": "rgb(68, 1, 84)",
          "width": 2
         },
         "mode": "lines+markers",
         "name": "Action 0",
         "showlegend": false,
         "type": "scatter",
         "x": [
          2,
          3
         ],
         "y": [
          65,
          65
         ]
        },
        {
         "line": {
          "color": "rgb(68, 1, 84)",
          "width": 2
         },
         "mode": "lines+markers",
         "name": "Action 0",
         "showlegend": false,
         "type": "scatter",
         "x": [
          2,
          3
         ],
         "y": [
          67,
          67
         ]
        },
        {
         "line": {
          "color": "rgb(68, 1, 84)",
          "width": 2
         },
         "mode": "lines+markers",
         "name": "Action 0",
         "showlegend": false,
         "type": "scatter",
         "x": [
          2,
          3
         ],
         "y": [
          68,
          68
         ]
        },
        {
         "line": {
          "color": "rgb(68, 1, 84)",
          "width": 2
         },
         "mode": "lines+markers",
         "name": "Action 0",
         "showlegend": false,
         "type": "scatter",
         "x": [
          2,
          3
         ],
         "y": [
          69,
          69
         ]
        },
        {
         "line": {
          "color": "rgb(68, 1, 84)",
          "width": 2
         },
         "mode": "lines+markers",
         "name": "Action 0",
         "showlegend": false,
         "type": "scatter",
         "x": [
          2,
          3
         ],
         "y": [
          70,
          70
         ]
        },
        {
         "line": {
          "color": "rgb(68, 1, 84)",
          "width": 2
         },
         "mode": "lines+markers",
         "name": "Action 0",
         "showlegend": false,
         "type": "scatter",
         "x": [
          2,
          3
         ],
         "y": [
          71,
          71
         ]
        },
        {
         "line": {
          "color": "rgb(68, 1, 84)",
          "width": 2
         },
         "mode": "lines+markers",
         "name": "Action 0",
         "showlegend": false,
         "type": "scatter",
         "x": [
          2,
          3
         ],
         "y": [
          72,
          72
         ]
        },
        {
         "line": {
          "color": "rgb(68, 1, 84)",
          "width": 2
         },
         "mode": "lines+markers",
         "name": "Action 0",
         "showlegend": false,
         "type": "scatter",
         "x": [
          2,
          3
         ],
         "y": [
          73,
          73
         ]
        },
        {
         "line": {
          "color": "rgb(68, 1, 84)",
          "width": 2
         },
         "mode": "lines+markers",
         "name": "Action 0",
         "showlegend": false,
         "type": "scatter",
         "x": [
          2,
          3
         ],
         "y": [
          74,
          74
         ]
        },
        {
         "line": {
          "color": "rgb(68, 1, 84)",
          "width": 2
         },
         "mode": "lines+markers",
         "name": "Action 0",
         "showlegend": false,
         "type": "scatter",
         "x": [
          2,
          3
         ],
         "y": [
          75,
          75
         ]
        },
        {
         "line": {
          "color": "rgb(68, 1, 84)",
          "width": 2
         },
         "mode": "lines+markers",
         "name": "Action 0",
         "showlegend": false,
         "type": "scatter",
         "x": [
          2,
          3
         ],
         "y": [
          76,
          76
         ]
        },
        {
         "line": {
          "color": "rgb(68, 1, 84)",
          "width": 2
         },
         "mode": "lines+markers",
         "name": "Action 0",
         "showlegend": false,
         "type": "scatter",
         "x": [
          2,
          3
         ],
         "y": [
          77,
          77
         ]
        },
        {
         "line": {
          "color": "rgb(68, 1, 84)",
          "width": 2
         },
         "mode": "lines+markers",
         "name": "Action 0",
         "showlegend": false,
         "type": "scatter",
         "x": [
          2,
          3
         ],
         "y": [
          78,
          78
         ]
        },
        {
         "line": {
          "color": "rgb(68, 1, 84)",
          "width": 2
         },
         "mode": "lines+markers",
         "name": "Action 0",
         "showlegend": false,
         "type": "scatter",
         "x": [
          2,
          3
         ],
         "y": [
          79,
          79
         ]
        },
        {
         "line": {
          "color": "rgb(68, 1, 84)",
          "width": 2
         },
         "mode": "lines+markers",
         "name": "Action 0",
         "showlegend": false,
         "type": "scatter",
         "x": [
          2,
          3
         ],
         "y": [
          80,
          80
         ]
        },
        {
         "line": {
          "color": "rgb(68, 1, 84)",
          "width": 2
         },
         "mode": "lines+markers",
         "name": "Action 0",
         "showlegend": false,
         "type": "scatter",
         "x": [
          2,
          3
         ],
         "y": [
          81,
          81
         ]
        },
        {
         "line": {
          "color": "rgb(68, 1, 84)",
          "width": 2
         },
         "mode": "lines+markers",
         "name": "Action 0",
         "showlegend": false,
         "type": "scatter",
         "x": [
          2,
          3
         ],
         "y": [
          82,
          82
         ]
        },
        {
         "line": {
          "color": "rgb(68, 1, 84)",
          "width": 2
         },
         "mode": "lines+markers",
         "name": "Action 0",
         "showlegend": false,
         "type": "scatter",
         "x": [
          2,
          3
         ],
         "y": [
          83,
          83
         ]
        },
        {
         "line": {
          "color": "rgb(68, 1, 84)",
          "width": 2
         },
         "mode": "lines+markers",
         "name": "Action 0",
         "showlegend": false,
         "type": "scatter",
         "x": [
          2,
          3
         ],
         "y": [
          84,
          84
         ]
        },
        {
         "line": {
          "color": "rgb(68, 1, 84)",
          "width": 2
         },
         "mode": "lines+markers",
         "name": "Action 0",
         "showlegend": false,
         "type": "scatter",
         "x": [
          2,
          3
         ],
         "y": [
          85,
          85
         ]
        },
        {
         "line": {
          "color": "rgb(68, 1, 84)",
          "width": 2
         },
         "mode": "lines+markers",
         "name": "Action 0",
         "showlegend": false,
         "type": "scatter",
         "x": [
          2,
          3
         ],
         "y": [
          86,
          86
         ]
        },
        {
         "line": {
          "color": "rgb(68, 1, 84)",
          "width": 2
         },
         "mode": "lines+markers",
         "name": "Action 0",
         "showlegend": false,
         "type": "scatter",
         "x": [
          2,
          3
         ],
         "y": [
          87,
          87
         ]
        },
        {
         "line": {
          "color": "rgb(68, 1, 84)",
          "width": 2
         },
         "mode": "lines+markers",
         "name": "Action 0",
         "showlegend": false,
         "type": "scatter",
         "x": [
          2,
          3
         ],
         "y": [
          88,
          88
         ]
        },
        {
         "line": {
          "color": "rgb(68, 1, 84)",
          "width": 2
         },
         "mode": "lines+markers",
         "name": "Action 0",
         "showlegend": false,
         "type": "scatter",
         "x": [
          2,
          3
         ],
         "y": [
          89,
          89
         ]
        },
        {
         "line": {
          "color": "rgb(68, 1, 84)",
          "width": 2
         },
         "mode": "lines+markers",
         "name": "Action 0",
         "showlegend": false,
         "type": "scatter",
         "x": [
          2,
          3
         ],
         "y": [
          90,
          90
         ]
        },
        {
         "line": {
          "color": "rgb(68, 1, 84)",
          "width": 2
         },
         "mode": "lines+markers",
         "name": "Action 0",
         "showlegend": false,
         "type": "scatter",
         "x": [
          2,
          3
         ],
         "y": [
          91,
          91
         ]
        },
        {
         "line": {
          "color": "rgb(68, 1, 84)",
          "width": 2
         },
         "mode": "lines+markers",
         "name": "Action 0",
         "showlegend": false,
         "type": "scatter",
         "x": [
          2,
          3
         ],
         "y": [
          92,
          92
         ]
        },
        {
         "line": {
          "color": "rgb(68, 1, 84)",
          "width": 2
         },
         "mode": "lines+markers",
         "name": "Action 0",
         "showlegend": false,
         "type": "scatter",
         "x": [
          2,
          3
         ],
         "y": [
          93,
          93
         ]
        },
        {
         "line": {
          "color": "rgb(68, 1, 84)",
          "width": 2
         },
         "mode": "lines+markers",
         "name": "Action 0",
         "showlegend": false,
         "type": "scatter",
         "x": [
          2,
          3
         ],
         "y": [
          94,
          94
         ]
        },
        {
         "line": {
          "color": "rgb(68, 1, 84)",
          "width": 2
         },
         "mode": "lines+markers",
         "name": "Action 0",
         "showlegend": false,
         "type": "scatter",
         "x": [
          2,
          3
         ],
         "y": [
          95,
          95
         ]
        },
        {
         "line": {
          "color": "rgb(68, 1, 84)",
          "width": 2
         },
         "mode": "lines+markers",
         "name": "Action 0",
         "showlegend": false,
         "type": "scatter",
         "x": [
          2,
          3
         ],
         "y": [
          96,
          96
         ]
        },
        {
         "line": {
          "color": "rgb(68, 1, 84)",
          "width": 2
         },
         "mode": "lines+markers",
         "name": "Action 0",
         "showlegend": false,
         "type": "scatter",
         "x": [
          2,
          3
         ],
         "y": [
          97,
          97
         ]
        },
        {
         "line": {
          "color": "rgb(68, 1, 84)",
          "width": 2
         },
         "mode": "lines+markers",
         "name": "Action 0",
         "showlegend": false,
         "type": "scatter",
         "x": [
          2,
          3
         ],
         "y": [
          98,
          98
         ]
        },
        {
         "line": {
          "color": "rgb(68, 1, 84)",
          "width": 2
         },
         "mode": "lines+markers",
         "name": "Action 0",
         "showlegend": false,
         "type": "scatter",
         "x": [
          2,
          3
         ],
         "y": [
          100,
          100
         ]
        },
        {
         "line": {
          "color": "rgb(68, 1, 84)",
          "width": 2
         },
         "mode": "lines+markers",
         "name": "Action 0",
         "showlegend": false,
         "type": "scatter",
         "x": [
          3,
          4
         ],
         "y": [
          0,
          0
         ]
        },
        {
         "line": {
          "color": "rgb(68, 1, 84)",
          "width": 2
         },
         "mode": "lines+markers",
         "name": "Action 0",
         "showlegend": false,
         "type": "scatter",
         "x": [
          3,
          4
         ],
         "y": [
          2,
          2
         ]
        },
        {
         "line": {
          "color": "rgb(68, 1, 84)",
          "width": 2
         },
         "mode": "lines+markers",
         "name": "Action 0",
         "showlegend": false,
         "type": "scatter",
         "x": [
          3,
          4
         ],
         "y": [
          4,
          4
         ]
        },
        {
         "line": {
          "color": "rgb(68, 1, 84)",
          "width": 2
         },
         "mode": "lines+markers",
         "name": "Action 0",
         "showlegend": false,
         "type": "scatter",
         "x": [
          3,
          4
         ],
         "y": [
          5,
          5
         ]
        },
        {
         "line": {
          "color": "rgb(68, 1, 84)",
          "width": 2
         },
         "mode": "lines+markers",
         "name": "Action 0",
         "showlegend": false,
         "type": "scatter",
         "x": [
          3,
          4
         ],
         "y": [
          6,
          6
         ]
        },
        {
         "line": {
          "color": "rgb(68, 1, 84)",
          "width": 2
         },
         "mode": "lines+markers",
         "name": "Action 0",
         "showlegend": false,
         "type": "scatter",
         "x": [
          3,
          4
         ],
         "y": [
          7,
          7
         ]
        },
        {
         "line": {
          "color": "rgb(68, 1, 84)",
          "width": 2
         },
         "mode": "lines+markers",
         "name": "Action 0",
         "showlegend": false,
         "type": "scatter",
         "x": [
          3,
          4
         ],
         "y": [
          8,
          8
         ]
        },
        {
         "line": {
          "color": "rgb(68, 1, 84)",
          "width": 2
         },
         "mode": "lines+markers",
         "name": "Action 0",
         "showlegend": false,
         "type": "scatter",
         "x": [
          3,
          4
         ],
         "y": [
          9,
          9
         ]
        },
        {
         "line": {
          "color": "rgb(68, 1, 84)",
          "width": 2
         },
         "mode": "lines+markers",
         "name": "Action 0",
         "showlegend": false,
         "type": "scatter",
         "x": [
          3,
          4
         ],
         "y": [
          10,
          10
         ]
        },
        {
         "line": {
          "color": "rgb(68, 1, 84)",
          "width": 2
         },
         "mode": "lines+markers",
         "name": "Action 0",
         "showlegend": false,
         "type": "scatter",
         "x": [
          3,
          4
         ],
         "y": [
          11,
          11
         ]
        },
        {
         "line": {
          "color": "rgb(68, 1, 84)",
          "width": 2
         },
         "mode": "lines+markers",
         "name": "Action 0",
         "showlegend": false,
         "type": "scatter",
         "x": [
          3,
          4
         ],
         "y": [
          12,
          12
         ]
        },
        {
         "line": {
          "color": "rgb(68, 1, 84)",
          "width": 2
         },
         "mode": "lines+markers",
         "name": "Action 0",
         "showlegend": false,
         "type": "scatter",
         "x": [
          3,
          4
         ],
         "y": [
          13,
          13
         ]
        },
        {
         "line": {
          "color": "rgb(68, 1, 84)",
          "width": 2
         },
         "mode": "lines+markers",
         "name": "Action 0",
         "showlegend": false,
         "type": "scatter",
         "x": [
          3,
          4
         ],
         "y": [
          14,
          14
         ]
        },
        {
         "line": {
          "color": "rgb(68, 1, 84)",
          "width": 2
         },
         "mode": "lines+markers",
         "name": "Action 0",
         "showlegend": false,
         "type": "scatter",
         "x": [
          3,
          4
         ],
         "y": [
          15,
          15
         ]
        },
        {
         "line": {
          "color": "rgb(68, 1, 84)",
          "width": 2
         },
         "mode": "lines+markers",
         "name": "Action 0",
         "showlegend": false,
         "type": "scatter",
         "x": [
          3,
          4
         ],
         "y": [
          16,
          16
         ]
        },
        {
         "line": {
          "color": "rgb(68, 1, 84)",
          "width": 2
         },
         "mode": "lines+markers",
         "name": "Action 0",
         "showlegend": false,
         "type": "scatter",
         "x": [
          3,
          4
         ],
         "y": [
          18,
          18
         ]
        },
        {
         "line": {
          "color": "rgb(68, 1, 84)",
          "width": 2
         },
         "mode": "lines+markers",
         "name": "Action 0",
         "showlegend": false,
         "type": "scatter",
         "x": [
          3,
          4
         ],
         "y": [
          19,
          19
         ]
        },
        {
         "line": {
          "color": "rgb(68, 1, 84)",
          "width": 2
         },
         "mode": "lines+markers",
         "name": "Action 0",
         "showlegend": false,
         "type": "scatter",
         "x": [
          3,
          4
         ],
         "y": [
          20,
          20
         ]
        },
        {
         "line": {
          "color": "rgb(68, 1, 84)",
          "width": 2
         },
         "mode": "lines+markers",
         "name": "Action 0",
         "showlegend": false,
         "type": "scatter",
         "x": [
          3,
          4
         ],
         "y": [
          21,
          21
         ]
        },
        {
         "line": {
          "color": "rgb(68, 1, 84)",
          "width": 2
         },
         "mode": "lines+markers",
         "name": "Action 0",
         "showlegend": false,
         "type": "scatter",
         "x": [
          3,
          4
         ],
         "y": [
          22,
          22
         ]
        },
        {
         "line": {
          "color": "rgb(68, 1, 84)",
          "width": 2
         },
         "mode": "lines+markers",
         "name": "Action 0",
         "showlegend": false,
         "type": "scatter",
         "x": [
          3,
          4
         ],
         "y": [
          23,
          23
         ]
        },
        {
         "line": {
          "color": "rgb(68, 1, 84)",
          "width": 2
         },
         "mode": "lines+markers",
         "name": "Action 0",
         "showlegend": false,
         "type": "scatter",
         "x": [
          3,
          4
         ],
         "y": [
          24,
          24
         ]
        },
        {
         "line": {
          "color": "rgb(68, 1, 84)",
          "width": 2
         },
         "mode": "lines+markers",
         "name": "Action 0",
         "showlegend": false,
         "type": "scatter",
         "x": [
          3,
          4
         ],
         "y": [
          25,
          25
         ]
        },
        {
         "line": {
          "color": "rgb(68, 1, 84)",
          "width": 2
         },
         "mode": "lines+markers",
         "name": "Action 0",
         "showlegend": false,
         "type": "scatter",
         "x": [
          3,
          4
         ],
         "y": [
          26,
          26
         ]
        },
        {
         "line": {
          "color": "rgb(68, 1, 84)",
          "width": 2
         },
         "mode": "lines+markers",
         "name": "Action 0",
         "showlegend": false,
         "type": "scatter",
         "x": [
          3,
          4
         ],
         "y": [
          27,
          27
         ]
        },
        {
         "line": {
          "color": "rgb(68, 1, 84)",
          "width": 2
         },
         "mode": "lines+markers",
         "name": "Action 0",
         "showlegend": false,
         "type": "scatter",
         "x": [
          3,
          4
         ],
         "y": [
          28,
          28
         ]
        },
        {
         "line": {
          "color": "rgb(68, 1, 84)",
          "width": 2
         },
         "mode": "lines+markers",
         "name": "Action 0",
         "showlegend": false,
         "type": "scatter",
         "x": [
          3,
          4
         ],
         "y": [
          29,
          29
         ]
        },
        {
         "line": {
          "color": "rgb(68, 1, 84)",
          "width": 2
         },
         "mode": "lines+markers",
         "name": "Action 0",
         "showlegend": false,
         "type": "scatter",
         "x": [
          3,
          4
         ],
         "y": [
          30,
          30
         ]
        },
        {
         "line": {
          "color": "rgb(68, 1, 84)",
          "width": 2
         },
         "mode": "lines+markers",
         "name": "Action 0",
         "showlegend": false,
         "type": "scatter",
         "x": [
          3,
          4
         ],
         "y": [
          31,
          31
         ]
        },
        {
         "line": {
          "color": "rgb(68, 1, 84)",
          "width": 2
         },
         "mode": "lines+markers",
         "name": "Action 0",
         "showlegend": false,
         "type": "scatter",
         "x": [
          3,
          4
         ],
         "y": [
          32,
          32
         ]
        },
        {
         "line": {
          "color": "rgb(68, 1, 84)",
          "width": 2
         },
         "mode": "lines+markers",
         "name": "Action 0",
         "showlegend": false,
         "type": "scatter",
         "x": [
          3,
          4
         ],
         "y": [
          33,
          33
         ]
        },
        {
         "line": {
          "color": "rgb(68, 1, 84)",
          "width": 2
         },
         "mode": "lines+markers",
         "name": "Action 0",
         "showlegend": false,
         "type": "scatter",
         "x": [
          3,
          4
         ],
         "y": [
          34,
          34
         ]
        },
        {
         "line": {
          "color": "rgb(68, 1, 84)",
          "width": 2
         },
         "mode": "lines+markers",
         "name": "Action 0",
         "showlegend": false,
         "type": "scatter",
         "x": [
          3,
          4
         ],
         "y": [
          36,
          36
         ]
        },
        {
         "line": {
          "color": "rgb(68, 1, 84)",
          "width": 2
         },
         "mode": "lines+markers",
         "name": "Action 0",
         "showlegend": false,
         "type": "scatter",
         "x": [
          3,
          4
         ],
         "y": [
          37,
          37
         ]
        },
        {
         "line": {
          "color": "rgb(68, 1, 84)",
          "width": 2
         },
         "mode": "lines+markers",
         "name": "Action 0",
         "showlegend": false,
         "type": "scatter",
         "x": [
          3,
          4
         ],
         "y": [
          38,
          38
         ]
        },
        {
         "line": {
          "color": "rgb(68, 1, 84)",
          "width": 2
         },
         "mode": "lines+markers",
         "name": "Action 0",
         "showlegend": false,
         "type": "scatter",
         "x": [
          3,
          4
         ],
         "y": [
          39,
          39
         ]
        },
        {
         "line": {
          "color": "rgb(68, 1, 84)",
          "width": 2
         },
         "mode": "lines+markers",
         "name": "Action 0",
         "showlegend": false,
         "type": "scatter",
         "x": [
          3,
          4
         ],
         "y": [
          40,
          40
         ]
        },
        {
         "line": {
          "color": "rgb(68, 1, 84)",
          "width": 2
         },
         "mode": "lines+markers",
         "name": "Action 0",
         "showlegend": false,
         "type": "scatter",
         "x": [
          3,
          4
         ],
         "y": [
          41,
          41
         ]
        },
        {
         "line": {
          "color": "rgb(68, 1, 84)",
          "width": 2
         },
         "mode": "lines+markers",
         "name": "Action 0",
         "showlegend": false,
         "type": "scatter",
         "x": [
          3,
          4
         ],
         "y": [
          44,
          44
         ]
        },
        {
         "line": {
          "color": "rgb(68, 1, 84)",
          "width": 2
         },
         "mode": "lines+markers",
         "name": "Action 0",
         "showlegend": false,
         "type": "scatter",
         "x": [
          3,
          4
         ],
         "y": [
          45,
          45
         ]
        },
        {
         "line": {
          "color": "rgb(68, 1, 84)",
          "width": 2
         },
         "mode": "lines+markers",
         "name": "Action 0",
         "showlegend": false,
         "type": "scatter",
         "x": [
          3,
          4
         ],
         "y": [
          46,
          46
         ]
        },
        {
         "line": {
          "color": "rgb(68, 1, 84)",
          "width": 2
         },
         "mode": "lines+markers",
         "name": "Action 0",
         "showlegend": false,
         "type": "scatter",
         "x": [
          3,
          4
         ],
         "y": [
          47,
          47
         ]
        },
        {
         "line": {
          "color": "rgb(68, 1, 84)",
          "width": 2
         },
         "mode": "lines+markers",
         "name": "Action 0",
         "showlegend": false,
         "type": "scatter",
         "x": [
          3,
          4
         ],
         "y": [
          48,
          48
         ]
        },
        {
         "line": {
          "color": "rgb(68, 1, 84)",
          "width": 2
         },
         "mode": "lines+markers",
         "name": "Action 0",
         "showlegend": false,
         "type": "scatter",
         "x": [
          3,
          4
         ],
         "y": [
          49,
          49
         ]
        },
        {
         "line": {
          "color": "rgb(68, 1, 84)",
          "width": 2
         },
         "mode": "lines+markers",
         "name": "Action 0",
         "showlegend": false,
         "type": "scatter",
         "x": [
          3,
          4
         ],
         "y": [
          50,
          50
         ]
        },
        {
         "line": {
          "color": "rgb(68, 1, 84)",
          "width": 2
         },
         "mode": "lines+markers",
         "name": "Action 0",
         "showlegend": false,
         "type": "scatter",
         "x": [
          3,
          4
         ],
         "y": [
          51,
          51
         ]
        },
        {
         "line": {
          "color": "rgb(68, 1, 84)",
          "width": 2
         },
         "mode": "lines+markers",
         "name": "Action 0",
         "showlegend": false,
         "type": "scatter",
         "x": [
          3,
          4
         ],
         "y": [
          52,
          52
         ]
        },
        {
         "line": {
          "color": "rgb(68, 1, 84)",
          "width": 2
         },
         "mode": "lines+markers",
         "name": "Action 0",
         "showlegend": false,
         "type": "scatter",
         "x": [
          3,
          4
         ],
         "y": [
          53,
          53
         ]
        },
        {
         "line": {
          "color": "rgb(68, 1, 84)",
          "width": 2
         },
         "mode": "lines+markers",
         "name": "Action 0",
         "showlegend": false,
         "type": "scatter",
         "x": [
          3,
          4
         ],
         "y": [
          54,
          54
         ]
        },
        {
         "line": {
          "color": "rgb(68, 1, 84)",
          "width": 2
         },
         "mode": "lines+markers",
         "name": "Action 0",
         "showlegend": false,
         "type": "scatter",
         "x": [
          3,
          4
         ],
         "y": [
          55,
          55
         ]
        },
        {
         "line": {
          "color": "rgb(68, 1, 84)",
          "width": 2
         },
         "mode": "lines+markers",
         "name": "Action 0",
         "showlegend": false,
         "type": "scatter",
         "x": [
          3,
          4
         ],
         "y": [
          56,
          56
         ]
        },
        {
         "line": {
          "color": "rgb(68, 1, 84)",
          "width": 2
         },
         "mode": "lines+markers",
         "name": "Action 0",
         "showlegend": false,
         "type": "scatter",
         "x": [
          3,
          4
         ],
         "y": [
          57,
          57
         ]
        },
        {
         "line": {
          "color": "rgb(68, 1, 84)",
          "width": 2
         },
         "mode": "lines+markers",
         "name": "Action 0",
         "showlegend": false,
         "type": "scatter",
         "x": [
          3,
          4
         ],
         "y": [
          58,
          58
         ]
        },
        {
         "line": {
          "color": "rgb(68, 1, 84)",
          "width": 2
         },
         "mode": "lines+markers",
         "name": "Action 0",
         "showlegend": false,
         "type": "scatter",
         "x": [
          3,
          4
         ],
         "y": [
          60,
          60
         ]
        },
        {
         "line": {
          "color": "rgb(68, 1, 84)",
          "width": 2
         },
         "mode": "lines+markers",
         "name": "Action 0",
         "showlegend": false,
         "type": "scatter",
         "x": [
          3,
          4
         ],
         "y": [
          61,
          61
         ]
        },
        {
         "line": {
          "color": "rgb(68, 1, 84)",
          "width": 2
         },
         "mode": "lines+markers",
         "name": "Action 0",
         "showlegend": false,
         "type": "scatter",
         "x": [
          3,
          4
         ],
         "y": [
          62,
          62
         ]
        },
        {
         "line": {
          "color": "rgb(68, 1, 84)",
          "width": 2
         },
         "mode": "lines+markers",
         "name": "Action 0",
         "showlegend": false,
         "type": "scatter",
         "x": [
          3,
          4
         ],
         "y": [
          63,
          63
         ]
        },
        {
         "line": {
          "color": "rgb(68, 1, 84)",
          "width": 2
         },
         "mode": "lines+markers",
         "name": "Action 0",
         "showlegend": false,
         "type": "scatter",
         "x": [
          3,
          4
         ],
         "y": [
          64,
          64
         ]
        },
        {
         "line": {
          "color": "rgb(68, 1, 84)",
          "width": 2
         },
         "mode": "lines+markers",
         "name": "Action 0",
         "showlegend": false,
         "type": "scatter",
         "x": [
          3,
          4
         ],
         "y": [
          65,
          65
         ]
        },
        {
         "line": {
          "color": "rgb(68, 1, 84)",
          "width": 2
         },
         "mode": "lines+markers",
         "name": "Action 0",
         "showlegend": false,
         "type": "scatter",
         "x": [
          3,
          4
         ],
         "y": [
          67,
          67
         ]
        },
        {
         "line": {
          "color": "rgb(68, 1, 84)",
          "width": 2
         },
         "mode": "lines+markers",
         "name": "Action 0",
         "showlegend": false,
         "type": "scatter",
         "x": [
          3,
          4
         ],
         "y": [
          68,
          68
         ]
        },
        {
         "line": {
          "color": "rgb(68, 1, 84)",
          "width": 2
         },
         "mode": "lines+markers",
         "name": "Action 0",
         "showlegend": false,
         "type": "scatter",
         "x": [
          3,
          4
         ],
         "y": [
          70,
          70
         ]
        },
        {
         "line": {
          "color": "rgb(68, 1, 84)",
          "width": 2
         },
         "mode": "lines+markers",
         "name": "Action 0",
         "showlegend": false,
         "type": "scatter",
         "x": [
          3,
          4
         ],
         "y": [
          71,
          71
         ]
        },
        {
         "line": {
          "color": "rgb(68, 1, 84)",
          "width": 2
         },
         "mode": "lines+markers",
         "name": "Action 0",
         "showlegend": false,
         "type": "scatter",
         "x": [
          3,
          4
         ],
         "y": [
          72,
          72
         ]
        },
        {
         "line": {
          "color": "rgb(68, 1, 84)",
          "width": 2
         },
         "mode": "lines+markers",
         "name": "Action 0",
         "showlegend": false,
         "type": "scatter",
         "x": [
          3,
          4
         ],
         "y": [
          73,
          73
         ]
        },
        {
         "line": {
          "color": "rgb(68, 1, 84)",
          "width": 2
         },
         "mode": "lines+markers",
         "name": "Action 0",
         "showlegend": false,
         "type": "scatter",
         "x": [
          3,
          4
         ],
         "y": [
          74,
          74
         ]
        },
        {
         "line": {
          "color": "rgb(68, 1, 84)",
          "width": 2
         },
         "mode": "lines+markers",
         "name": "Action 0",
         "showlegend": false,
         "type": "scatter",
         "x": [
          3,
          4
         ],
         "y": [
          75,
          75
         ]
        },
        {
         "line": {
          "color": "rgb(68, 1, 84)",
          "width": 2
         },
         "mode": "lines+markers",
         "name": "Action 0",
         "showlegend": false,
         "type": "scatter",
         "x": [
          3,
          4
         ],
         "y": [
          76,
          76
         ]
        },
        {
         "line": {
          "color": "rgb(68, 1, 84)",
          "width": 2
         },
         "mode": "lines+markers",
         "name": "Action 0",
         "showlegend": false,
         "type": "scatter",
         "x": [
          3,
          4
         ],
         "y": [
          77,
          77
         ]
        },
        {
         "line": {
          "color": "rgb(68, 1, 84)",
          "width": 2
         },
         "mode": "lines+markers",
         "name": "Action 0",
         "showlegend": false,
         "type": "scatter",
         "x": [
          3,
          4
         ],
         "y": [
          78,
          78
         ]
        },
        {
         "line": {
          "color": "rgb(68, 1, 84)",
          "width": 2
         },
         "mode": "lines+markers",
         "name": "Action 0",
         "showlegend": false,
         "type": "scatter",
         "x": [
          3,
          4
         ],
         "y": [
          79,
          79
         ]
        },
        {
         "line": {
          "color": "rgb(68, 1, 84)",
          "width": 2
         },
         "mode": "lines+markers",
         "name": "Action 0",
         "showlegend": false,
         "type": "scatter",
         "x": [
          3,
          4
         ],
         "y": [
          80,
          80
         ]
        },
        {
         "line": {
          "color": "rgb(68, 1, 84)",
          "width": 2
         },
         "mode": "lines+markers",
         "name": "Action 0",
         "showlegend": false,
         "type": "scatter",
         "x": [
          3,
          4
         ],
         "y": [
          81,
          81
         ]
        },
        {
         "line": {
          "color": "rgb(68, 1, 84)",
          "width": 2
         },
         "mode": "lines+markers",
         "name": "Action 0",
         "showlegend": false,
         "type": "scatter",
         "x": [
          3,
          4
         ],
         "y": [
          82,
          82
         ]
        },
        {
         "line": {
          "color": "rgb(68, 1, 84)",
          "width": 2
         },
         "mode": "lines+markers",
         "name": "Action 0",
         "showlegend": false,
         "type": "scatter",
         "x": [
          3,
          4
         ],
         "y": [
          83,
          83
         ]
        },
        {
         "line": {
          "color": "rgb(68, 1, 84)",
          "width": 2
         },
         "mode": "lines+markers",
         "name": "Action 0",
         "showlegend": false,
         "type": "scatter",
         "x": [
          3,
          4
         ],
         "y": [
          84,
          84
         ]
        },
        {
         "line": {
          "color": "rgb(68, 1, 84)",
          "width": 2
         },
         "mode": "lines+markers",
         "name": "Action 0",
         "showlegend": false,
         "type": "scatter",
         "x": [
          3,
          4
         ],
         "y": [
          85,
          85
         ]
        },
        {
         "line": {
          "color": "rgb(68, 1, 84)",
          "width": 2
         },
         "mode": "lines+markers",
         "name": "Action 0",
         "showlegend": false,
         "type": "scatter",
         "x": [
          3,
          4
         ],
         "y": [
          86,
          86
         ]
        },
        {
         "line": {
          "color": "rgb(68, 1, 84)",
          "width": 2
         },
         "mode": "lines+markers",
         "name": "Action 0",
         "showlegend": false,
         "type": "scatter",
         "x": [
          3,
          4
         ],
         "y": [
          87,
          87
         ]
        },
        {
         "line": {
          "color": "rgb(68, 1, 84)",
          "width": 2
         },
         "mode": "lines+markers",
         "name": "Action 0",
         "showlegend": false,
         "type": "scatter",
         "x": [
          3,
          4
         ],
         "y": [
          88,
          88
         ]
        },
        {
         "line": {
          "color": "rgb(68, 1, 84)",
          "width": 2
         },
         "mode": "lines+markers",
         "name": "Action 0",
         "showlegend": false,
         "type": "scatter",
         "x": [
          3,
          4
         ],
         "y": [
          89,
          89
         ]
        },
        {
         "line": {
          "color": "rgb(68, 1, 84)",
          "width": 2
         },
         "mode": "lines+markers",
         "name": "Action 0",
         "showlegend": false,
         "type": "scatter",
         "x": [
          3,
          4
         ],
         "y": [
          90,
          90
         ]
        },
        {
         "line": {
          "color": "rgb(68, 1, 84)",
          "width": 2
         },
         "mode": "lines+markers",
         "name": "Action 0",
         "showlegend": false,
         "type": "scatter",
         "x": [
          3,
          4
         ],
         "y": [
          91,
          91
         ]
        },
        {
         "line": {
          "color": "rgb(68, 1, 84)",
          "width": 2
         },
         "mode": "lines+markers",
         "name": "Action 0",
         "showlegend": false,
         "type": "scatter",
         "x": [
          3,
          4
         ],
         "y": [
          92,
          92
         ]
        },
        {
         "line": {
          "color": "rgb(68, 1, 84)",
          "width": 2
         },
         "mode": "lines+markers",
         "name": "Action 0",
         "showlegend": false,
         "type": "scatter",
         "x": [
          3,
          4
         ],
         "y": [
          93,
          93
         ]
        },
        {
         "line": {
          "color": "rgb(68, 1, 84)",
          "width": 2
         },
         "mode": "lines+markers",
         "name": "Action 0",
         "showlegend": false,
         "type": "scatter",
         "x": [
          3,
          4
         ],
         "y": [
          94,
          94
         ]
        },
        {
         "line": {
          "color": "rgb(68, 1, 84)",
          "width": 2
         },
         "mode": "lines+markers",
         "name": "Action 0",
         "showlegend": false,
         "type": "scatter",
         "x": [
          3,
          4
         ],
         "y": [
          95,
          95
         ]
        },
        {
         "line": {
          "color": "rgb(68, 1, 84)",
          "width": 2
         },
         "mode": "lines+markers",
         "name": "Action 0",
         "showlegend": false,
         "type": "scatter",
         "x": [
          3,
          4
         ],
         "y": [
          96,
          96
         ]
        },
        {
         "line": {
          "color": "rgb(68, 1, 84)",
          "width": 2
         },
         "mode": "lines+markers",
         "name": "Action 0",
         "showlegend": false,
         "type": "scatter",
         "x": [
          3,
          4
         ],
         "y": [
          97,
          97
         ]
        },
        {
         "line": {
          "color": "rgb(68, 1, 84)",
          "width": 2
         },
         "mode": "lines+markers",
         "name": "Action 0",
         "showlegend": false,
         "type": "scatter",
         "x": [
          3,
          4
         ],
         "y": [
          98,
          98
         ]
        },
        {
         "line": {
          "color": "rgb(68, 1, 84)",
          "width": 2
         },
         "mode": "lines+markers",
         "name": "Action 0",
         "showlegend": false,
         "type": "scatter",
         "x": [
          3,
          4
         ],
         "y": [
          99,
          99
         ]
        },
        {
         "line": {
          "color": "rgb(68, 1, 84)",
          "width": 2
         },
         "mode": "lines+markers",
         "name": "Action 0",
         "showlegend": false,
         "type": "scatter",
         "x": [
          4,
          5
         ],
         "y": [
          0,
          0
         ]
        },
        {
         "line": {
          "color": "rgb(68, 1, 84)",
          "width": 2
         },
         "mode": "lines+markers",
         "name": "Action 0",
         "showlegend": false,
         "type": "scatter",
         "x": [
          4,
          5
         ],
         "y": [
          1,
          1
         ]
        },
        {
         "line": {
          "color": "rgb(68, 1, 84)",
          "width": 2
         },
         "mode": "lines+markers",
         "name": "Action 0",
         "showlegend": false,
         "type": "scatter",
         "x": [
          4,
          5
         ],
         "y": [
          2,
          2
         ]
        },
        {
         "line": {
          "color": "rgb(68, 1, 84)",
          "width": 2
         },
         "mode": "lines+markers",
         "name": "Action 0",
         "showlegend": false,
         "type": "scatter",
         "x": [
          4,
          5
         ],
         "y": [
          3,
          3
         ]
        },
        {
         "line": {
          "color": "rgb(68, 1, 84)",
          "width": 2
         },
         "mode": "lines+markers",
         "name": "Action 0",
         "showlegend": false,
         "type": "scatter",
         "x": [
          4,
          5
         ],
         "y": [
          4,
          4
         ]
        },
        {
         "line": {
          "color": "rgb(68, 1, 84)",
          "width": 2
         },
         "mode": "lines+markers",
         "name": "Action 0",
         "showlegend": false,
         "type": "scatter",
         "x": [
          4,
          5
         ],
         "y": [
          5,
          5
         ]
        },
        {
         "line": {
          "color": "rgb(68, 1, 84)",
          "width": 2
         },
         "mode": "lines+markers",
         "name": "Action 0",
         "showlegend": false,
         "type": "scatter",
         "x": [
          4,
          5
         ],
         "y": [
          6,
          6
         ]
        },
        {
         "line": {
          "color": "rgb(68, 1, 84)",
          "width": 2
         },
         "mode": "lines+markers",
         "name": "Action 0",
         "showlegend": false,
         "type": "scatter",
         "x": [
          4,
          5
         ],
         "y": [
          8,
          8
         ]
        },
        {
         "line": {
          "color": "rgb(68, 1, 84)",
          "width": 2
         },
         "mode": "lines+markers",
         "name": "Action 0",
         "showlegend": false,
         "type": "scatter",
         "x": [
          4,
          5
         ],
         "y": [
          9,
          9
         ]
        },
        {
         "line": {
          "color": "rgb(68, 1, 84)",
          "width": 2
         },
         "mode": "lines+markers",
         "name": "Action 0",
         "showlegend": false,
         "type": "scatter",
         "x": [
          4,
          5
         ],
         "y": [
          12,
          12
         ]
        },
        {
         "line": {
          "color": "rgb(68, 1, 84)",
          "width": 2
         },
         "mode": "lines+markers",
         "name": "Action 0",
         "showlegend": false,
         "type": "scatter",
         "x": [
          4,
          5
         ],
         "y": [
          14,
          14
         ]
        },
        {
         "line": {
          "color": "rgb(68, 1, 84)",
          "width": 2
         },
         "mode": "lines+markers",
         "name": "Action 0",
         "showlegend": false,
         "type": "scatter",
         "x": [
          4,
          5
         ],
         "y": [
          16,
          16
         ]
        },
        {
         "line": {
          "color": "rgb(68, 1, 84)",
          "width": 2
         },
         "mode": "lines+markers",
         "name": "Action 0",
         "showlegend": false,
         "type": "scatter",
         "x": [
          4,
          5
         ],
         "y": [
          17,
          17
         ]
        },
        {
         "line": {
          "color": "rgb(68, 1, 84)",
          "width": 2
         },
         "mode": "lines+markers",
         "name": "Action 0",
         "showlegend": false,
         "type": "scatter",
         "x": [
          4,
          5
         ],
         "y": [
          20,
          20
         ]
        },
        {
         "line": {
          "color": "rgb(68, 1, 84)",
          "width": 2
         },
         "mode": "lines+markers",
         "name": "Action 0",
         "showlegend": false,
         "type": "scatter",
         "x": [
          4,
          5
         ],
         "y": [
          24,
          24
         ]
        },
        {
         "line": {
          "color": "rgb(68, 1, 84)",
          "width": 2
         },
         "mode": "lines+markers",
         "name": "Action 0",
         "showlegend": false,
         "type": "scatter",
         "x": [
          4,
          5
         ],
         "y": [
          26,
          26
         ]
        },
        {
         "line": {
          "color": "rgb(68, 1, 84)",
          "width": 2
         },
         "mode": "lines+markers",
         "name": "Action 0",
         "showlegend": false,
         "type": "scatter",
         "x": [
          4,
          5
         ],
         "y": [
          27,
          27
         ]
        },
        {
         "line": {
          "color": "rgb(68, 1, 84)",
          "width": 2
         },
         "mode": "lines+markers",
         "name": "Action 0",
         "showlegend": false,
         "type": "scatter",
         "x": [
          4,
          5
         ],
         "y": [
          28,
          28
         ]
        },
        {
         "line": {
          "color": "rgb(68, 1, 84)",
          "width": 2
         },
         "mode": "lines+markers",
         "name": "Action 0",
         "showlegend": false,
         "type": "scatter",
         "x": [
          4,
          5
         ],
         "y": [
          29,
          29
         ]
        },
        {
         "line": {
          "color": "rgb(68, 1, 84)",
          "width": 2
         },
         "mode": "lines+markers",
         "name": "Action 0",
         "showlegend": false,
         "type": "scatter",
         "x": [
          4,
          5
         ],
         "y": [
          31,
          31
         ]
        },
        {
         "line": {
          "color": "rgb(68, 1, 84)",
          "width": 2
         },
         "mode": "lines+markers",
         "name": "Action 0",
         "showlegend": false,
         "type": "scatter",
         "x": [
          4,
          5
         ],
         "y": [
          32,
          32
         ]
        },
        {
         "line": {
          "color": "rgb(68, 1, 84)",
          "width": 2
         },
         "mode": "lines+markers",
         "name": "Action 0",
         "showlegend": false,
         "type": "scatter",
         "x": [
          4,
          5
         ],
         "y": [
          33,
          33
         ]
        },
        {
         "line": {
          "color": "rgb(68, 1, 84)",
          "width": 2
         },
         "mode": "lines+markers",
         "name": "Action 0",
         "showlegend": false,
         "type": "scatter",
         "x": [
          4,
          5
         ],
         "y": [
          34,
          34
         ]
        },
        {
         "line": {
          "color": "rgb(68, 1, 84)",
          "width": 2
         },
         "mode": "lines+markers",
         "name": "Action 0",
         "showlegend": false,
         "type": "scatter",
         "x": [
          4,
          5
         ],
         "y": [
          36,
          36
         ]
        },
        {
         "line": {
          "color": "rgb(68, 1, 84)",
          "width": 2
         },
         "mode": "lines+markers",
         "name": "Action 0",
         "showlegend": false,
         "type": "scatter",
         "x": [
          4,
          5
         ],
         "y": [
          37,
          37
         ]
        },
        {
         "line": {
          "color": "rgb(68, 1, 84)",
          "width": 2
         },
         "mode": "lines+markers",
         "name": "Action 0",
         "showlegend": false,
         "type": "scatter",
         "x": [
          4,
          5
         ],
         "y": [
          38,
          38
         ]
        },
        {
         "line": {
          "color": "rgb(68, 1, 84)",
          "width": 2
         },
         "mode": "lines+markers",
         "name": "Action 0",
         "showlegend": false,
         "type": "scatter",
         "x": [
          4,
          5
         ],
         "y": [
          39,
          39
         ]
        },
        {
         "line": {
          "color": "rgb(68, 1, 84)",
          "width": 2
         },
         "mode": "lines+markers",
         "name": "Action 0",
         "showlegend": false,
         "type": "scatter",
         "x": [
          4,
          5
         ],
         "y": [
          41,
          41
         ]
        },
        {
         "line": {
          "color": "rgb(68, 1, 84)",
          "width": 2
         },
         "mode": "lines+markers",
         "name": "Action 0",
         "showlegend": false,
         "type": "scatter",
         "x": [
          4,
          5
         ],
         "y": [
          42,
          42
         ]
        },
        {
         "line": {
          "color": "rgb(68, 1, 84)",
          "width": 2
         },
         "mode": "lines+markers",
         "name": "Action 0",
         "showlegend": false,
         "type": "scatter",
         "x": [
          4,
          5
         ],
         "y": [
          43,
          43
         ]
        },
        {
         "line": {
          "color": "rgb(68, 1, 84)",
          "width": 2
         },
         "mode": "lines+markers",
         "name": "Action 0",
         "showlegend": false,
         "type": "scatter",
         "x": [
          4,
          5
         ],
         "y": [
          44,
          44
         ]
        },
        {
         "line": {
          "color": "rgb(68, 1, 84)",
          "width": 2
         },
         "mode": "lines+markers",
         "name": "Action 0",
         "showlegend": false,
         "type": "scatter",
         "x": [
          4,
          5
         ],
         "y": [
          45,
          45
         ]
        },
        {
         "line": {
          "color": "rgb(68, 1, 84)",
          "width": 2
         },
         "mode": "lines+markers",
         "name": "Action 0",
         "showlegend": false,
         "type": "scatter",
         "x": [
          4,
          5
         ],
         "y": [
          46,
          46
         ]
        },
        {
         "line": {
          "color": "rgb(68, 1, 84)",
          "width": 2
         },
         "mode": "lines+markers",
         "name": "Action 0",
         "showlegend": false,
         "type": "scatter",
         "x": [
          4,
          5
         ],
         "y": [
          47,
          47
         ]
        },
        {
         "line": {
          "color": "rgb(68, 1, 84)",
          "width": 2
         },
         "mode": "lines+markers",
         "name": "Action 0",
         "showlegend": false,
         "type": "scatter",
         "x": [
          4,
          5
         ],
         "y": [
          48,
          48
         ]
        },
        {
         "line": {
          "color": "rgb(68, 1, 84)",
          "width": 2
         },
         "mode": "lines+markers",
         "name": "Action 0",
         "showlegend": false,
         "type": "scatter",
         "x": [
          4,
          5
         ],
         "y": [
          49,
          49
         ]
        },
        {
         "line": {
          "color": "rgb(68, 1, 84)",
          "width": 2
         },
         "mode": "lines+markers",
         "name": "Action 0",
         "showlegend": false,
         "type": "scatter",
         "x": [
          4,
          5
         ],
         "y": [
          50,
          50
         ]
        },
        {
         "line": {
          "color": "rgb(68, 1, 84)",
          "width": 2
         },
         "mode": "lines+markers",
         "name": "Action 0",
         "showlegend": false,
         "type": "scatter",
         "x": [
          4,
          5
         ],
         "y": [
          52,
          52
         ]
        },
        {
         "line": {
          "color": "rgb(68, 1, 84)",
          "width": 2
         },
         "mode": "lines+markers",
         "name": "Action 0",
         "showlegend": false,
         "type": "scatter",
         "x": [
          4,
          5
         ],
         "y": [
          53,
          53
         ]
        },
        {
         "line": {
          "color": "rgb(68, 1, 84)",
          "width": 2
         },
         "mode": "lines+markers",
         "name": "Action 0",
         "showlegend": false,
         "type": "scatter",
         "x": [
          4,
          5
         ],
         "y": [
          55,
          55
         ]
        },
        {
         "line": {
          "color": "rgb(68, 1, 84)",
          "width": 2
         },
         "mode": "lines+markers",
         "name": "Action 0",
         "showlegend": false,
         "type": "scatter",
         "x": [
          4,
          5
         ],
         "y": [
          56,
          56
         ]
        },
        {
         "line": {
          "color": "rgb(68, 1, 84)",
          "width": 2
         },
         "mode": "lines+markers",
         "name": "Action 0",
         "showlegend": false,
         "type": "scatter",
         "x": [
          4,
          5
         ],
         "y": [
          57,
          57
         ]
        },
        {
         "line": {
          "color": "rgb(68, 1, 84)",
          "width": 2
         },
         "mode": "lines+markers",
         "name": "Action 0",
         "showlegend": false,
         "type": "scatter",
         "x": [
          4,
          5
         ],
         "y": [
          58,
          58
         ]
        },
        {
         "line": {
          "color": "rgb(68, 1, 84)",
          "width": 2
         },
         "mode": "lines+markers",
         "name": "Action 0",
         "showlegend": false,
         "type": "scatter",
         "x": [
          4,
          5
         ],
         "y": [
          59,
          59
         ]
        },
        {
         "line": {
          "color": "rgb(68, 1, 84)",
          "width": 2
         },
         "mode": "lines+markers",
         "name": "Action 0",
         "showlegend": false,
         "type": "scatter",
         "x": [
          4,
          5
         ],
         "y": [
          60,
          60
         ]
        },
        {
         "line": {
          "color": "rgb(68, 1, 84)",
          "width": 2
         },
         "mode": "lines+markers",
         "name": "Action 0",
         "showlegend": false,
         "type": "scatter",
         "x": [
          4,
          5
         ],
         "y": [
          61,
          61
         ]
        },
        {
         "line": {
          "color": "rgb(68, 1, 84)",
          "width": 2
         },
         "mode": "lines+markers",
         "name": "Action 0",
         "showlegend": false,
         "type": "scatter",
         "x": [
          4,
          5
         ],
         "y": [
          62,
          62
         ]
        },
        {
         "line": {
          "color": "rgb(68, 1, 84)",
          "width": 2
         },
         "mode": "lines+markers",
         "name": "Action 0",
         "showlegend": false,
         "type": "scatter",
         "x": [
          4,
          5
         ],
         "y": [
          63,
          63
         ]
        },
        {
         "line": {
          "color": "rgb(68, 1, 84)",
          "width": 2
         },
         "mode": "lines+markers",
         "name": "Action 0",
         "showlegend": false,
         "type": "scatter",
         "x": [
          4,
          5
         ],
         "y": [
          64,
          64
         ]
        },
        {
         "line": {
          "color": "rgb(68, 1, 84)",
          "width": 2
         },
         "mode": "lines+markers",
         "name": "Action 0",
         "showlegend": false,
         "type": "scatter",
         "x": [
          4,
          5
         ],
         "y": [
          65,
          65
         ]
        },
        {
         "line": {
          "color": "rgb(68, 1, 84)",
          "width": 2
         },
         "mode": "lines+markers",
         "name": "Action 0",
         "showlegend": false,
         "type": "scatter",
         "x": [
          4,
          5
         ],
         "y": [
          66,
          66
         ]
        },
        {
         "line": {
          "color": "rgb(68, 1, 84)",
          "width": 2
         },
         "mode": "lines+markers",
         "name": "Action 0",
         "showlegend": false,
         "type": "scatter",
         "x": [
          4,
          5
         ],
         "y": [
          67,
          67
         ]
        },
        {
         "line": {
          "color": "rgb(68, 1, 84)",
          "width": 2
         },
         "mode": "lines+markers",
         "name": "Action 0",
         "showlegend": false,
         "type": "scatter",
         "x": [
          4,
          5
         ],
         "y": [
          68,
          68
         ]
        },
        {
         "line": {
          "color": "rgb(68, 1, 84)",
          "width": 2
         },
         "mode": "lines+markers",
         "name": "Action 0",
         "showlegend": false,
         "type": "scatter",
         "x": [
          4,
          5
         ],
         "y": [
          69,
          69
         ]
        },
        {
         "line": {
          "color": "rgb(68, 1, 84)",
          "width": 2
         },
         "mode": "lines+markers",
         "name": "Action 0",
         "showlegend": false,
         "type": "scatter",
         "x": [
          4,
          5
         ],
         "y": [
          70,
          70
         ]
        },
        {
         "line": {
          "color": "rgb(68, 1, 84)",
          "width": 2
         },
         "mode": "lines+markers",
         "name": "Action 0",
         "showlegend": false,
         "type": "scatter",
         "x": [
          4,
          5
         ],
         "y": [
          71,
          71
         ]
        },
        {
         "line": {
          "color": "rgb(68, 1, 84)",
          "width": 2
         },
         "mode": "lines+markers",
         "name": "Action 0",
         "showlegend": false,
         "type": "scatter",
         "x": [
          4,
          5
         ],
         "y": [
          73,
          73
         ]
        },
        {
         "line": {
          "color": "rgb(68, 1, 84)",
          "width": 2
         },
         "mode": "lines+markers",
         "name": "Action 0",
         "showlegend": false,
         "type": "scatter",
         "x": [
          4,
          5
         ],
         "y": [
          74,
          74
         ]
        },
        {
         "line": {
          "color": "rgb(68, 1, 84)",
          "width": 2
         },
         "mode": "lines+markers",
         "name": "Action 0",
         "showlegend": false,
         "type": "scatter",
         "x": [
          4,
          5
         ],
         "y": [
          75,
          75
         ]
        },
        {
         "line": {
          "color": "rgb(68, 1, 84)",
          "width": 2
         },
         "mode": "lines+markers",
         "name": "Action 0",
         "showlegend": false,
         "type": "scatter",
         "x": [
          4,
          5
         ],
         "y": [
          77,
          77
         ]
        },
        {
         "line": {
          "color": "rgb(68, 1, 84)",
          "width": 2
         },
         "mode": "lines+markers",
         "name": "Action 0",
         "showlegend": false,
         "type": "scatter",
         "x": [
          4,
          5
         ],
         "y": [
          78,
          78
         ]
        },
        {
         "line": {
          "color": "rgb(68, 1, 84)",
          "width": 2
         },
         "mode": "lines+markers",
         "name": "Action 0",
         "showlegend": false,
         "type": "scatter",
         "x": [
          4,
          5
         ],
         "y": [
          79,
          79
         ]
        },
        {
         "line": {
          "color": "rgb(68, 1, 84)",
          "width": 2
         },
         "mode": "lines+markers",
         "name": "Action 0",
         "showlegend": false,
         "type": "scatter",
         "x": [
          4,
          5
         ],
         "y": [
          80,
          80
         ]
        },
        {
         "line": {
          "color": "rgb(68, 1, 84)",
          "width": 2
         },
         "mode": "lines+markers",
         "name": "Action 0",
         "showlegend": false,
         "type": "scatter",
         "x": [
          4,
          5
         ],
         "y": [
          81,
          81
         ]
        },
        {
         "line": {
          "color": "rgb(68, 1, 84)",
          "width": 2
         },
         "mode": "lines+markers",
         "name": "Action 0",
         "showlegend": false,
         "type": "scatter",
         "x": [
          4,
          5
         ],
         "y": [
          82,
          82
         ]
        },
        {
         "line": {
          "color": "rgb(68, 1, 84)",
          "width": 2
         },
         "mode": "lines+markers",
         "name": "Action 0",
         "showlegend": false,
         "type": "scatter",
         "x": [
          4,
          5
         ],
         "y": [
          83,
          83
         ]
        },
        {
         "line": {
          "color": "rgb(68, 1, 84)",
          "width": 2
         },
         "mode": "lines+markers",
         "name": "Action 0",
         "showlegend": false,
         "type": "scatter",
         "x": [
          4,
          5
         ],
         "y": [
          84,
          84
         ]
        },
        {
         "line": {
          "color": "rgb(68, 1, 84)",
          "width": 2
         },
         "mode": "lines+markers",
         "name": "Action 0",
         "showlegend": false,
         "type": "scatter",
         "x": [
          4,
          5
         ],
         "y": [
          85,
          85
         ]
        },
        {
         "line": {
          "color": "rgb(68, 1, 84)",
          "width": 2
         },
         "mode": "lines+markers",
         "name": "Action 0",
         "showlegend": false,
         "type": "scatter",
         "x": [
          4,
          5
         ],
         "y": [
          86,
          86
         ]
        },
        {
         "line": {
          "color": "rgb(68, 1, 84)",
          "width": 2
         },
         "mode": "lines+markers",
         "name": "Action 0",
         "showlegend": false,
         "type": "scatter",
         "x": [
          4,
          5
         ],
         "y": [
          87,
          87
         ]
        },
        {
         "line": {
          "color": "rgb(68, 1, 84)",
          "width": 2
         },
         "mode": "lines+markers",
         "name": "Action 0",
         "showlegend": false,
         "type": "scatter",
         "x": [
          4,
          5
         ],
         "y": [
          88,
          88
         ]
        },
        {
         "line": {
          "color": "rgb(68, 1, 84)",
          "width": 2
         },
         "mode": "lines+markers",
         "name": "Action 0",
         "showlegend": false,
         "type": "scatter",
         "x": [
          4,
          5
         ],
         "y": [
          89,
          89
         ]
        },
        {
         "line": {
          "color": "rgb(68, 1, 84)",
          "width": 2
         },
         "mode": "lines+markers",
         "name": "Action 0",
         "showlegend": false,
         "type": "scatter",
         "x": [
          4,
          5
         ],
         "y": [
          90,
          90
         ]
        },
        {
         "line": {
          "color": "rgb(68, 1, 84)",
          "width": 2
         },
         "mode": "lines+markers",
         "name": "Action 0",
         "showlegend": false,
         "type": "scatter",
         "x": [
          4,
          5
         ],
         "y": [
          91,
          91
         ]
        },
        {
         "line": {
          "color": "rgb(68, 1, 84)",
          "width": 2
         },
         "mode": "lines+markers",
         "name": "Action 0",
         "showlegend": false,
         "type": "scatter",
         "x": [
          4,
          5
         ],
         "y": [
          92,
          92
         ]
        },
        {
         "line": {
          "color": "rgb(68, 1, 84)",
          "width": 2
         },
         "mode": "lines+markers",
         "name": "Action 0",
         "showlegend": false,
         "type": "scatter",
         "x": [
          4,
          5
         ],
         "y": [
          93,
          93
         ]
        },
        {
         "line": {
          "color": "rgb(68, 1, 84)",
          "width": 2
         },
         "mode": "lines+markers",
         "name": "Action 0",
         "showlegend": false,
         "type": "scatter",
         "x": [
          4,
          5
         ],
         "y": [
          94,
          94
         ]
        },
        {
         "line": {
          "color": "rgb(68, 1, 84)",
          "width": 2
         },
         "mode": "lines+markers",
         "name": "Action 0",
         "showlegend": false,
         "type": "scatter",
         "x": [
          4,
          5
         ],
         "y": [
          95,
          95
         ]
        },
        {
         "line": {
          "color": "rgb(68, 1, 84)",
          "width": 2
         },
         "mode": "lines+markers",
         "name": "Action 0",
         "showlegend": false,
         "type": "scatter",
         "x": [
          4,
          5
         ],
         "y": [
          96,
          96
         ]
        },
        {
         "line": {
          "color": "rgb(68, 1, 84)",
          "width": 2
         },
         "mode": "lines+markers",
         "name": "Action 0",
         "showlegend": false,
         "type": "scatter",
         "x": [
          4,
          5
         ],
         "y": [
          97,
          97
         ]
        },
        {
         "line": {
          "color": "rgb(68, 1, 84)",
          "width": 2
         },
         "mode": "lines+markers",
         "name": "Action 0",
         "showlegend": false,
         "type": "scatter",
         "x": [
          4,
          5
         ],
         "y": [
          98,
          98
         ]
        },
        {
         "line": {
          "color": "rgb(68, 1, 84)",
          "width": 2
         },
         "mode": "lines+markers",
         "name": "Action 0",
         "showlegend": false,
         "type": "scatter",
         "x": [
          4,
          5
         ],
         "y": [
          99,
          99
         ]
        },
        {
         "line": {
          "color": "rgb(68, 1, 84)",
          "width": 2
         },
         "mode": "lines+markers",
         "name": "Action 0",
         "showlegend": false,
         "type": "scatter",
         "x": [
          4,
          5
         ],
         "y": [
          100,
          100
         ]
        },
        {
         "line": {
          "color": "rgb(68, 1, 84)",
          "width": 2
         },
         "mode": "lines+markers",
         "name": "Action 0",
         "showlegend": false,
         "type": "scatter",
         "x": [
          5,
          6
         ],
         "y": [
          0,
          0
         ]
        },
        {
         "line": {
          "color": "rgb(68, 1, 84)",
          "width": 2
         },
         "mode": "lines+markers",
         "name": "Action 0",
         "showlegend": false,
         "type": "scatter",
         "x": [
          5,
          6
         ],
         "y": [
          2,
          2
         ]
        },
        {
         "line": {
          "color": "rgb(68, 1, 84)",
          "width": 2
         },
         "mode": "lines+markers",
         "name": "Action 0",
         "showlegend": false,
         "type": "scatter",
         "x": [
          5,
          6
         ],
         "y": [
          4,
          4
         ]
        },
        {
         "line": {
          "color": "rgb(68, 1, 84)",
          "width": 2
         },
         "mode": "lines+markers",
         "name": "Action 0",
         "showlegend": false,
         "type": "scatter",
         "x": [
          5,
          6
         ],
         "y": [
          5,
          5
         ]
        },
        {
         "line": {
          "color": "rgb(68, 1, 84)",
          "width": 2
         },
         "mode": "lines+markers",
         "name": "Action 0",
         "showlegend": false,
         "type": "scatter",
         "x": [
          5,
          6
         ],
         "y": [
          6,
          6
         ]
        },
        {
         "line": {
          "color": "rgb(68, 1, 84)",
          "width": 2
         },
         "mode": "lines+markers",
         "name": "Action 0",
         "showlegend": false,
         "type": "scatter",
         "x": [
          5,
          6
         ],
         "y": [
          7,
          7
         ]
        },
        {
         "line": {
          "color": "rgb(68, 1, 84)",
          "width": 2
         },
         "mode": "lines+markers",
         "name": "Action 0",
         "showlegend": false,
         "type": "scatter",
         "x": [
          5,
          6
         ],
         "y": [
          12,
          12
         ]
        },
        {
         "line": {
          "color": "rgb(68, 1, 84)",
          "width": 2
         },
         "mode": "lines+markers",
         "name": "Action 0",
         "showlegend": false,
         "type": "scatter",
         "x": [
          5,
          6
         ],
         "y": [
          18,
          18
         ]
        },
        {
         "line": {
          "color": "rgb(68, 1, 84)",
          "width": 2
         },
         "mode": "lines+markers",
         "name": "Action 0",
         "showlegend": false,
         "type": "scatter",
         "x": [
          5,
          6
         ],
         "y": [
          23,
          23
         ]
        },
        {
         "line": {
          "color": "rgb(68, 1, 84)",
          "width": 2
         },
         "mode": "lines+markers",
         "name": "Action 0",
         "showlegend": false,
         "type": "scatter",
         "x": [
          5,
          6
         ],
         "y": [
          28,
          28
         ]
        },
        {
         "line": {
          "color": "rgb(68, 1, 84)",
          "width": 2
         },
         "mode": "lines+markers",
         "name": "Action 0",
         "showlegend": false,
         "type": "scatter",
         "x": [
          5,
          6
         ],
         "y": [
          29,
          29
         ]
        },
        {
         "line": {
          "color": "rgb(68, 1, 84)",
          "width": 2
         },
         "mode": "lines+markers",
         "name": "Action 0",
         "showlegend": false,
         "type": "scatter",
         "x": [
          5,
          6
         ],
         "y": [
          34,
          34
         ]
        },
        {
         "line": {
          "color": "rgb(68, 1, 84)",
          "width": 2
         },
         "mode": "lines+markers",
         "name": "Action 0",
         "showlegend": false,
         "type": "scatter",
         "x": [
          5,
          6
         ],
         "y": [
          35,
          35
         ]
        },
        {
         "line": {
          "color": "rgb(68, 1, 84)",
          "width": 2
         },
         "mode": "lines+markers",
         "name": "Action 0",
         "showlegend": false,
         "type": "scatter",
         "x": [
          5,
          6
         ],
         "y": [
          37,
          37
         ]
        },
        {
         "line": {
          "color": "rgb(68, 1, 84)",
          "width": 2
         },
         "mode": "lines+markers",
         "name": "Action 0",
         "showlegend": false,
         "type": "scatter",
         "x": [
          5,
          6
         ],
         "y": [
          38,
          38
         ]
        },
        {
         "line": {
          "color": "rgb(68, 1, 84)",
          "width": 2
         },
         "mode": "lines+markers",
         "name": "Action 0",
         "showlegend": false,
         "type": "scatter",
         "x": [
          5,
          6
         ],
         "y": [
          39,
          39
         ]
        },
        {
         "line": {
          "color": "rgb(68, 1, 84)",
          "width": 2
         },
         "mode": "lines+markers",
         "name": "Action 0",
         "showlegend": false,
         "type": "scatter",
         "x": [
          5,
          6
         ],
         "y": [
          42,
          42
         ]
        },
        {
         "line": {
          "color": "rgb(68, 1, 84)",
          "width": 2
         },
         "mode": "lines+markers",
         "name": "Action 0",
         "showlegend": false,
         "type": "scatter",
         "x": [
          5,
          6
         ],
         "y": [
          43,
          43
         ]
        },
        {
         "line": {
          "color": "rgb(68, 1, 84)",
          "width": 2
         },
         "mode": "lines+markers",
         "name": "Action 0",
         "showlegend": false,
         "type": "scatter",
         "x": [
          5,
          6
         ],
         "y": [
          44,
          44
         ]
        },
        {
         "line": {
          "color": "rgb(68, 1, 84)",
          "width": 2
         },
         "mode": "lines+markers",
         "name": "Action 0",
         "showlegend": false,
         "type": "scatter",
         "x": [
          5,
          6
         ],
         "y": [
          45,
          45
         ]
        },
        {
         "line": {
          "color": "rgb(68, 1, 84)",
          "width": 2
         },
         "mode": "lines+markers",
         "name": "Action 0",
         "showlegend": false,
         "type": "scatter",
         "x": [
          5,
          6
         ],
         "y": [
          47,
          47
         ]
        },
        {
         "line": {
          "color": "rgb(68, 1, 84)",
          "width": 2
         },
         "mode": "lines+markers",
         "name": "Action 0",
         "showlegend": false,
         "type": "scatter",
         "x": [
          5,
          6
         ],
         "y": [
          48,
          48
         ]
        },
        {
         "line": {
          "color": "rgb(68, 1, 84)",
          "width": 2
         },
         "mode": "lines+markers",
         "name": "Action 0",
         "showlegend": false,
         "type": "scatter",
         "x": [
          5,
          6
         ],
         "y": [
          49,
          49
         ]
        },
        {
         "line": {
          "color": "rgb(68, 1, 84)",
          "width": 2
         },
         "mode": "lines+markers",
         "name": "Action 0",
         "showlegend": false,
         "type": "scatter",
         "x": [
          5,
          6
         ],
         "y": [
          50,
          50
         ]
        },
        {
         "line": {
          "color": "rgb(68, 1, 84)",
          "width": 2
         },
         "mode": "lines+markers",
         "name": "Action 0",
         "showlegend": false,
         "type": "scatter",
         "x": [
          5,
          6
         ],
         "y": [
          51,
          51
         ]
        },
        {
         "line": {
          "color": "rgb(68, 1, 84)",
          "width": 2
         },
         "mode": "lines+markers",
         "name": "Action 0",
         "showlegend": false,
         "type": "scatter",
         "x": [
          5,
          6
         ],
         "y": [
          52,
          52
         ]
        },
        {
         "line": {
          "color": "rgb(68, 1, 84)",
          "width": 2
         },
         "mode": "lines+markers",
         "name": "Action 0",
         "showlegend": false,
         "type": "scatter",
         "x": [
          5,
          6
         ],
         "y": [
          53,
          53
         ]
        },
        {
         "line": {
          "color": "rgb(68, 1, 84)",
          "width": 2
         },
         "mode": "lines+markers",
         "name": "Action 0",
         "showlegend": false,
         "type": "scatter",
         "x": [
          5,
          6
         ],
         "y": [
          54,
          54
         ]
        },
        {
         "line": {
          "color": "rgb(68, 1, 84)",
          "width": 2
         },
         "mode": "lines+markers",
         "name": "Action 0",
         "showlegend": false,
         "type": "scatter",
         "x": [
          5,
          6
         ],
         "y": [
          55,
          55
         ]
        },
        {
         "line": {
          "color": "rgb(68, 1, 84)",
          "width": 2
         },
         "mode": "lines+markers",
         "name": "Action 0",
         "showlegend": false,
         "type": "scatter",
         "x": [
          5,
          6
         ],
         "y": [
          56,
          56
         ]
        },
        {
         "line": {
          "color": "rgb(68, 1, 84)",
          "width": 2
         },
         "mode": "lines+markers",
         "name": "Action 0",
         "showlegend": false,
         "type": "scatter",
         "x": [
          5,
          6
         ],
         "y": [
          57,
          57
         ]
        },
        {
         "line": {
          "color": "rgb(68, 1, 84)",
          "width": 2
         },
         "mode": "lines+markers",
         "name": "Action 0",
         "showlegend": false,
         "type": "scatter",
         "x": [
          5,
          6
         ],
         "y": [
          58,
          58
         ]
        },
        {
         "line": {
          "color": "rgb(68, 1, 84)",
          "width": 2
         },
         "mode": "lines+markers",
         "name": "Action 0",
         "showlegend": false,
         "type": "scatter",
         "x": [
          5,
          6
         ],
         "y": [
          59,
          59
         ]
        },
        {
         "line": {
          "color": "rgb(68, 1, 84)",
          "width": 2
         },
         "mode": "lines+markers",
         "name": "Action 0",
         "showlegend": false,
         "type": "scatter",
         "x": [
          5,
          6
         ],
         "y": [
          60,
          60
         ]
        },
        {
         "line": {
          "color": "rgb(68, 1, 84)",
          "width": 2
         },
         "mode": "lines+markers",
         "name": "Action 0",
         "showlegend": false,
         "type": "scatter",
         "x": [
          5,
          6
         ],
         "y": [
          61,
          61
         ]
        },
        {
         "line": {
          "color": "rgb(68, 1, 84)",
          "width": 2
         },
         "mode": "lines+markers",
         "name": "Action 0",
         "showlegend": false,
         "type": "scatter",
         "x": [
          5,
          6
         ],
         "y": [
          62,
          62
         ]
        },
        {
         "line": {
          "color": "rgb(68, 1, 84)",
          "width": 2
         },
         "mode": "lines+markers",
         "name": "Action 0",
         "showlegend": false,
         "type": "scatter",
         "x": [
          5,
          6
         ],
         "y": [
          63,
          63
         ]
        },
        {
         "line": {
          "color": "rgb(68, 1, 84)",
          "width": 2
         },
         "mode": "lines+markers",
         "name": "Action 0",
         "showlegend": false,
         "type": "scatter",
         "x": [
          5,
          6
         ],
         "y": [
          64,
          64
         ]
        },
        {
         "line": {
          "color": "rgb(68, 1, 84)",
          "width": 2
         },
         "mode": "lines+markers",
         "name": "Action 0",
         "showlegend": false,
         "type": "scatter",
         "x": [
          5,
          6
         ],
         "y": [
          65,
          65
         ]
        },
        {
         "line": {
          "color": "rgb(68, 1, 84)",
          "width": 2
         },
         "mode": "lines+markers",
         "name": "Action 0",
         "showlegend": false,
         "type": "scatter",
         "x": [
          5,
          6
         ],
         "y": [
          66,
          66
         ]
        },
        {
         "line": {
          "color": "rgb(68, 1, 84)",
          "width": 2
         },
         "mode": "lines+markers",
         "name": "Action 0",
         "showlegend": false,
         "type": "scatter",
         "x": [
          5,
          6
         ],
         "y": [
          67,
          67
         ]
        },
        {
         "line": {
          "color": "rgb(68, 1, 84)",
          "width": 2
         },
         "mode": "lines+markers",
         "name": "Action 0",
         "showlegend": false,
         "type": "scatter",
         "x": [
          5,
          6
         ],
         "y": [
          68,
          68
         ]
        },
        {
         "line": {
          "color": "rgb(68, 1, 84)",
          "width": 2
         },
         "mode": "lines+markers",
         "name": "Action 0",
         "showlegend": false,
         "type": "scatter",
         "x": [
          5,
          6
         ],
         "y": [
          69,
          69
         ]
        },
        {
         "line": {
          "color": "rgb(68, 1, 84)",
          "width": 2
         },
         "mode": "lines+markers",
         "name": "Action 0",
         "showlegend": false,
         "type": "scatter",
         "x": [
          5,
          6
         ],
         "y": [
          70,
          70
         ]
        },
        {
         "line": {
          "color": "rgb(68, 1, 84)",
          "width": 2
         },
         "mode": "lines+markers",
         "name": "Action 0",
         "showlegend": false,
         "type": "scatter",
         "x": [
          5,
          6
         ],
         "y": [
          71,
          71
         ]
        },
        {
         "line": {
          "color": "rgb(68, 1, 84)",
          "width": 2
         },
         "mode": "lines+markers",
         "name": "Action 0",
         "showlegend": false,
         "type": "scatter",
         "x": [
          5,
          6
         ],
         "y": [
          72,
          72
         ]
        },
        {
         "line": {
          "color": "rgb(68, 1, 84)",
          "width": 2
         },
         "mode": "lines+markers",
         "name": "Action 0",
         "showlegend": false,
         "type": "scatter",
         "x": [
          5,
          6
         ],
         "y": [
          73,
          73
         ]
        },
        {
         "line": {
          "color": "rgb(68, 1, 84)",
          "width": 2
         },
         "mode": "lines+markers",
         "name": "Action 0",
         "showlegend": false,
         "type": "scatter",
         "x": [
          5,
          6
         ],
         "y": [
          74,
          74
         ]
        },
        {
         "line": {
          "color": "rgb(68, 1, 84)",
          "width": 2
         },
         "mode": "lines+markers",
         "name": "Action 0",
         "showlegend": false,
         "type": "scatter",
         "x": [
          5,
          6
         ],
         "y": [
          75,
          75
         ]
        },
        {
         "line": {
          "color": "rgb(68, 1, 84)",
          "width": 2
         },
         "mode": "lines+markers",
         "name": "Action 0",
         "showlegend": false,
         "type": "scatter",
         "x": [
          5,
          6
         ],
         "y": [
          77,
          77
         ]
        },
        {
         "line": {
          "color": "rgb(68, 1, 84)",
          "width": 2
         },
         "mode": "lines+markers",
         "name": "Action 0",
         "showlegend": false,
         "type": "scatter",
         "x": [
          5,
          6
         ],
         "y": [
          78,
          78
         ]
        },
        {
         "line": {
          "color": "rgb(68, 1, 84)",
          "width": 2
         },
         "mode": "lines+markers",
         "name": "Action 0",
         "showlegend": false,
         "type": "scatter",
         "x": [
          5,
          6
         ],
         "y": [
          79,
          79
         ]
        },
        {
         "line": {
          "color": "rgb(68, 1, 84)",
          "width": 2
         },
         "mode": "lines+markers",
         "name": "Action 0",
         "showlegend": false,
         "type": "scatter",
         "x": [
          5,
          6
         ],
         "y": [
          80,
          80
         ]
        },
        {
         "line": {
          "color": "rgb(68, 1, 84)",
          "width": 2
         },
         "mode": "lines+markers",
         "name": "Action 0",
         "showlegend": false,
         "type": "scatter",
         "x": [
          5,
          6
         ],
         "y": [
          81,
          81
         ]
        },
        {
         "line": {
          "color": "rgb(68, 1, 84)",
          "width": 2
         },
         "mode": "lines+markers",
         "name": "Action 0",
         "showlegend": false,
         "type": "scatter",
         "x": [
          5,
          6
         ],
         "y": [
          82,
          82
         ]
        },
        {
         "line": {
          "color": "rgb(68, 1, 84)",
          "width": 2
         },
         "mode": "lines+markers",
         "name": "Action 0",
         "showlegend": false,
         "type": "scatter",
         "x": [
          5,
          6
         ],
         "y": [
          83,
          83
         ]
        },
        {
         "line": {
          "color": "rgb(68, 1, 84)",
          "width": 2
         },
         "mode": "lines+markers",
         "name": "Action 0",
         "showlegend": false,
         "type": "scatter",
         "x": [
          5,
          6
         ],
         "y": [
          84,
          84
         ]
        },
        {
         "line": {
          "color": "rgb(68, 1, 84)",
          "width": 2
         },
         "mode": "lines+markers",
         "name": "Action 0",
         "showlegend": false,
         "type": "scatter",
         "x": [
          5,
          6
         ],
         "y": [
          86,
          86
         ]
        },
        {
         "line": {
          "color": "rgb(68, 1, 84)",
          "width": 2
         },
         "mode": "lines+markers",
         "name": "Action 0",
         "showlegend": false,
         "type": "scatter",
         "x": [
          5,
          6
         ],
         "y": [
          87,
          87
         ]
        },
        {
         "line": {
          "color": "rgb(68, 1, 84)",
          "width": 2
         },
         "mode": "lines+markers",
         "name": "Action 0",
         "showlegend": false,
         "type": "scatter",
         "x": [
          5,
          6
         ],
         "y": [
          88,
          88
         ]
        },
        {
         "line": {
          "color": "rgb(68, 1, 84)",
          "width": 2
         },
         "mode": "lines+markers",
         "name": "Action 0",
         "showlegend": false,
         "type": "scatter",
         "x": [
          5,
          6
         ],
         "y": [
          89,
          89
         ]
        },
        {
         "line": {
          "color": "rgb(68, 1, 84)",
          "width": 2
         },
         "mode": "lines+markers",
         "name": "Action 0",
         "showlegend": false,
         "type": "scatter",
         "x": [
          5,
          6
         ],
         "y": [
          90,
          90
         ]
        },
        {
         "line": {
          "color": "rgb(68, 1, 84)",
          "width": 2
         },
         "mode": "lines+markers",
         "name": "Action 0",
         "showlegend": false,
         "type": "scatter",
         "x": [
          5,
          6
         ],
         "y": [
          91,
          91
         ]
        },
        {
         "line": {
          "color": "rgb(68, 1, 84)",
          "width": 2
         },
         "mode": "lines+markers",
         "name": "Action 0",
         "showlegend": false,
         "type": "scatter",
         "x": [
          5,
          6
         ],
         "y": [
          92,
          92
         ]
        },
        {
         "line": {
          "color": "rgb(68, 1, 84)",
          "width": 2
         },
         "mode": "lines+markers",
         "name": "Action 0",
         "showlegend": false,
         "type": "scatter",
         "x": [
          5,
          6
         ],
         "y": [
          93,
          93
         ]
        },
        {
         "line": {
          "color": "rgb(68, 1, 84)",
          "width": 2
         },
         "mode": "lines+markers",
         "name": "Action 0",
         "showlegend": false,
         "type": "scatter",
         "x": [
          5,
          6
         ],
         "y": [
          94,
          94
         ]
        },
        {
         "line": {
          "color": "rgb(68, 1, 84)",
          "width": 2
         },
         "mode": "lines+markers",
         "name": "Action 0",
         "showlegend": false,
         "type": "scatter",
         "x": [
          5,
          6
         ],
         "y": [
          95,
          95
         ]
        },
        {
         "line": {
          "color": "rgb(68, 1, 84)",
          "width": 2
         },
         "mode": "lines+markers",
         "name": "Action 0",
         "showlegend": false,
         "type": "scatter",
         "x": [
          5,
          6
         ],
         "y": [
          96,
          96
         ]
        },
        {
         "line": {
          "color": "rgb(68, 1, 84)",
          "width": 2
         },
         "mode": "lines+markers",
         "name": "Action 0",
         "showlegend": false,
         "type": "scatter",
         "x": [
          5,
          6
         ],
         "y": [
          97,
          97
         ]
        },
        {
         "line": {
          "color": "rgb(68, 1, 84)",
          "width": 2
         },
         "mode": "lines+markers",
         "name": "Action 0",
         "showlegend": false,
         "type": "scatter",
         "x": [
          5,
          6
         ],
         "y": [
          98,
          98
         ]
        },
        {
         "line": {
          "color": "rgb(68, 1, 84)",
          "width": 2
         },
         "mode": "lines+markers",
         "name": "Action 0",
         "showlegend": false,
         "type": "scatter",
         "x": [
          5,
          6
         ],
         "y": [
          100,
          100
         ]
        },
        {
         "line": {
          "color": "rgb(68, 1, 84)",
          "width": 2
         },
         "mode": "lines+markers",
         "name": "Action 0",
         "showlegend": false,
         "type": "scatter",
         "x": [
          6,
          7
         ],
         "y": [
          0,
          0
         ]
        },
        {
         "line": {
          "color": "rgb(68, 1, 84)",
          "width": 2
         },
         "mode": "lines+markers",
         "name": "Action 0",
         "showlegend": false,
         "type": "scatter",
         "x": [
          6,
          7
         ],
         "y": [
          1,
          1
         ]
        },
        {
         "line": {
          "color": "rgb(68, 1, 84)",
          "width": 2
         },
         "mode": "lines+markers",
         "name": "Action 0",
         "showlegend": false,
         "type": "scatter",
         "x": [
          6,
          7
         ],
         "y": [
          4,
          4
         ]
        },
        {
         "line": {
          "color": "rgb(68, 1, 84)",
          "width": 2
         },
         "mode": "lines+markers",
         "name": "Action 0",
         "showlegend": false,
         "type": "scatter",
         "x": [
          6,
          7
         ],
         "y": [
          6,
          6
         ]
        },
        {
         "line": {
          "color": "rgb(68, 1, 84)",
          "width": 2
         },
         "mode": "lines+markers",
         "name": "Action 0",
         "showlegend": false,
         "type": "scatter",
         "x": [
          6,
          7
         ],
         "y": [
          8,
          8
         ]
        },
        {
         "line": {
          "color": "rgb(68, 1, 84)",
          "width": 2
         },
         "mode": "lines+markers",
         "name": "Action 0",
         "showlegend": false,
         "type": "scatter",
         "x": [
          6,
          7
         ],
         "y": [
          14,
          14
         ]
        },
        {
         "line": {
          "color": "rgb(68, 1, 84)",
          "width": 2
         },
         "mode": "lines+markers",
         "name": "Action 0",
         "showlegend": false,
         "type": "scatter",
         "x": [
          6,
          7
         ],
         "y": [
          43,
          43
         ]
        },
        {
         "line": {
          "color": "rgb(68, 1, 84)",
          "width": 2
         },
         "mode": "lines+markers",
         "name": "Action 0",
         "showlegend": false,
         "type": "scatter",
         "x": [
          6,
          7
         ],
         "y": [
          45,
          45
         ]
        },
        {
         "line": {
          "color": "rgb(68, 1, 84)",
          "width": 2
         },
         "mode": "lines+markers",
         "name": "Action 0",
         "showlegend": false,
         "type": "scatter",
         "x": [
          6,
          7
         ],
         "y": [
          49,
          49
         ]
        },
        {
         "line": {
          "color": "rgb(68, 1, 84)",
          "width": 2
         },
         "mode": "lines+markers",
         "name": "Action 0",
         "showlegend": false,
         "type": "scatter",
         "x": [
          6,
          7
         ],
         "y": [
          51,
          51
         ]
        },
        {
         "line": {
          "color": "rgb(68, 1, 84)",
          "width": 2
         },
         "mode": "lines+markers",
         "name": "Action 0",
         "showlegend": false,
         "type": "scatter",
         "x": [
          6,
          7
         ],
         "y": [
          53,
          53
         ]
        },
        {
         "line": {
          "color": "rgb(68, 1, 84)",
          "width": 2
         },
         "mode": "lines+markers",
         "name": "Action 0",
         "showlegend": false,
         "type": "scatter",
         "x": [
          6,
          7
         ],
         "y": [
          54,
          54
         ]
        },
        {
         "line": {
          "color": "rgb(68, 1, 84)",
          "width": 2
         },
         "mode": "lines+markers",
         "name": "Action 0",
         "showlegend": false,
         "type": "scatter",
         "x": [
          6,
          7
         ],
         "y": [
          55,
          55
         ]
        },
        {
         "line": {
          "color": "rgb(68, 1, 84)",
          "width": 2
         },
         "mode": "lines+markers",
         "name": "Action 0",
         "showlegend": false,
         "type": "scatter",
         "x": [
          6,
          7
         ],
         "y": [
          56,
          56
         ]
        },
        {
         "line": {
          "color": "rgb(68, 1, 84)",
          "width": 2
         },
         "mode": "lines+markers",
         "name": "Action 0",
         "showlegend": false,
         "type": "scatter",
         "x": [
          6,
          7
         ],
         "y": [
          57,
          57
         ]
        },
        {
         "line": {
          "color": "rgb(68, 1, 84)",
          "width": 2
         },
         "mode": "lines+markers",
         "name": "Action 0",
         "showlegend": false,
         "type": "scatter",
         "x": [
          6,
          7
         ],
         "y": [
          58,
          58
         ]
        },
        {
         "line": {
          "color": "rgb(68, 1, 84)",
          "width": 2
         },
         "mode": "lines+markers",
         "name": "Action 0",
         "showlegend": false,
         "type": "scatter",
         "x": [
          6,
          7
         ],
         "y": [
          59,
          59
         ]
        },
        {
         "line": {
          "color": "rgb(68, 1, 84)",
          "width": 2
         },
         "mode": "lines+markers",
         "name": "Action 0",
         "showlegend": false,
         "type": "scatter",
         "x": [
          6,
          7
         ],
         "y": [
          60,
          60
         ]
        },
        {
         "line": {
          "color": "rgb(68, 1, 84)",
          "width": 2
         },
         "mode": "lines+markers",
         "name": "Action 0",
         "showlegend": false,
         "type": "scatter",
         "x": [
          6,
          7
         ],
         "y": [
          61,
          61
         ]
        },
        {
         "line": {
          "color": "rgb(68, 1, 84)",
          "width": 2
         },
         "mode": "lines+markers",
         "name": "Action 0",
         "showlegend": false,
         "type": "scatter",
         "x": [
          6,
          7
         ],
         "y": [
          62,
          62
         ]
        },
        {
         "line": {
          "color": "rgb(68, 1, 84)",
          "width": 2
         },
         "mode": "lines+markers",
         "name": "Action 0",
         "showlegend": false,
         "type": "scatter",
         "x": [
          6,
          7
         ],
         "y": [
          63,
          63
         ]
        },
        {
         "line": {
          "color": "rgb(68, 1, 84)",
          "width": 2
         },
         "mode": "lines+markers",
         "name": "Action 0",
         "showlegend": false,
         "type": "scatter",
         "x": [
          6,
          7
         ],
         "y": [
          64,
          64
         ]
        },
        {
         "line": {
          "color": "rgb(68, 1, 84)",
          "width": 2
         },
         "mode": "lines+markers",
         "name": "Action 0",
         "showlegend": false,
         "type": "scatter",
         "x": [
          6,
          7
         ],
         "y": [
          65,
          65
         ]
        },
        {
         "line": {
          "color": "rgb(68, 1, 84)",
          "width": 2
         },
         "mode": "lines+markers",
         "name": "Action 0",
         "showlegend": false,
         "type": "scatter",
         "x": [
          6,
          7
         ],
         "y": [
          66,
          66
         ]
        },
        {
         "line": {
          "color": "rgb(68, 1, 84)",
          "width": 2
         },
         "mode": "lines+markers",
         "name": "Action 0",
         "showlegend": false,
         "type": "scatter",
         "x": [
          6,
          7
         ],
         "y": [
          67,
          67
         ]
        },
        {
         "line": {
          "color": "rgb(68, 1, 84)",
          "width": 2
         },
         "mode": "lines+markers",
         "name": "Action 0",
         "showlegend": false,
         "type": "scatter",
         "x": [
          6,
          7
         ],
         "y": [
          68,
          68
         ]
        },
        {
         "line": {
          "color": "rgb(68, 1, 84)",
          "width": 2
         },
         "mode": "lines+markers",
         "name": "Action 0",
         "showlegend": false,
         "type": "scatter",
         "x": [
          6,
          7
         ],
         "y": [
          69,
          69
         ]
        },
        {
         "line": {
          "color": "rgb(68, 1, 84)",
          "width": 2
         },
         "mode": "lines+markers",
         "name": "Action 0",
         "showlegend": false,
         "type": "scatter",
         "x": [
          6,
          7
         ],
         "y": [
          70,
          70
         ]
        },
        {
         "line": {
          "color": "rgb(68, 1, 84)",
          "width": 2
         },
         "mode": "lines+markers",
         "name": "Action 0",
         "showlegend": false,
         "type": "scatter",
         "x": [
          6,
          7
         ],
         "y": [
          71,
          71
         ]
        },
        {
         "line": {
          "color": "rgb(68, 1, 84)",
          "width": 2
         },
         "mode": "lines+markers",
         "name": "Action 0",
         "showlegend": false,
         "type": "scatter",
         "x": [
          6,
          7
         ],
         "y": [
          72,
          72
         ]
        },
        {
         "line": {
          "color": "rgb(68, 1, 84)",
          "width": 2
         },
         "mode": "lines+markers",
         "name": "Action 0",
         "showlegend": false,
         "type": "scatter",
         "x": [
          6,
          7
         ],
         "y": [
          74,
          74
         ]
        },
        {
         "line": {
          "color": "rgb(68, 1, 84)",
          "width": 2
         },
         "mode": "lines+markers",
         "name": "Action 0",
         "showlegend": false,
         "type": "scatter",
         "x": [
          6,
          7
         ],
         "y": [
          75,
          75
         ]
        },
        {
         "line": {
          "color": "rgb(68, 1, 84)",
          "width": 2
         },
         "mode": "lines+markers",
         "name": "Action 0",
         "showlegend": false,
         "type": "scatter",
         "x": [
          6,
          7
         ],
         "y": [
          76,
          76
         ]
        },
        {
         "line": {
          "color": "rgb(68, 1, 84)",
          "width": 2
         },
         "mode": "lines+markers",
         "name": "Action 0",
         "showlegend": false,
         "type": "scatter",
         "x": [
          6,
          7
         ],
         "y": [
          77,
          77
         ]
        },
        {
         "line": {
          "color": "rgb(68, 1, 84)",
          "width": 2
         },
         "mode": "lines+markers",
         "name": "Action 0",
         "showlegend": false,
         "type": "scatter",
         "x": [
          6,
          7
         ],
         "y": [
          78,
          78
         ]
        },
        {
         "line": {
          "color": "rgb(68, 1, 84)",
          "width": 2
         },
         "mode": "lines+markers",
         "name": "Action 0",
         "showlegend": false,
         "type": "scatter",
         "x": [
          6,
          7
         ],
         "y": [
          79,
          79
         ]
        },
        {
         "line": {
          "color": "rgb(68, 1, 84)",
          "width": 2
         },
         "mode": "lines+markers",
         "name": "Action 0",
         "showlegend": false,
         "type": "scatter",
         "x": [
          6,
          7
         ],
         "y": [
          80,
          80
         ]
        },
        {
         "line": {
          "color": "rgb(68, 1, 84)",
          "width": 2
         },
         "mode": "lines+markers",
         "name": "Action 0",
         "showlegend": false,
         "type": "scatter",
         "x": [
          6,
          7
         ],
         "y": [
          81,
          81
         ]
        },
        {
         "line": {
          "color": "rgb(68, 1, 84)",
          "width": 2
         },
         "mode": "lines+markers",
         "name": "Action 0",
         "showlegend": false,
         "type": "scatter",
         "x": [
          6,
          7
         ],
         "y": [
          82,
          82
         ]
        },
        {
         "line": {
          "color": "rgb(68, 1, 84)",
          "width": 2
         },
         "mode": "lines+markers",
         "name": "Action 0",
         "showlegend": false,
         "type": "scatter",
         "x": [
          6,
          7
         ],
         "y": [
          83,
          83
         ]
        },
        {
         "line": {
          "color": "rgb(68, 1, 84)",
          "width": 2
         },
         "mode": "lines+markers",
         "name": "Action 0",
         "showlegend": false,
         "type": "scatter",
         "x": [
          6,
          7
         ],
         "y": [
          84,
          84
         ]
        },
        {
         "line": {
          "color": "rgb(68, 1, 84)",
          "width": 2
         },
         "mode": "lines+markers",
         "name": "Action 0",
         "showlegend": false,
         "type": "scatter",
         "x": [
          6,
          7
         ],
         "y": [
          85,
          85
         ]
        },
        {
         "line": {
          "color": "rgb(68, 1, 84)",
          "width": 2
         },
         "mode": "lines+markers",
         "name": "Action 0",
         "showlegend": false,
         "type": "scatter",
         "x": [
          6,
          7
         ],
         "y": [
          86,
          86
         ]
        },
        {
         "line": {
          "color": "rgb(68, 1, 84)",
          "width": 2
         },
         "mode": "lines+markers",
         "name": "Action 0",
         "showlegend": false,
         "type": "scatter",
         "x": [
          6,
          7
         ],
         "y": [
          87,
          87
         ]
        },
        {
         "line": {
          "color": "rgb(68, 1, 84)",
          "width": 2
         },
         "mode": "lines+markers",
         "name": "Action 0",
         "showlegend": false,
         "type": "scatter",
         "x": [
          6,
          7
         ],
         "y": [
          88,
          88
         ]
        },
        {
         "line": {
          "color": "rgb(68, 1, 84)",
          "width": 2
         },
         "mode": "lines+markers",
         "name": "Action 0",
         "showlegend": false,
         "type": "scatter",
         "x": [
          6,
          7
         ],
         "y": [
          89,
          89
         ]
        },
        {
         "line": {
          "color": "rgb(68, 1, 84)",
          "width": 2
         },
         "mode": "lines+markers",
         "name": "Action 0",
         "showlegend": false,
         "type": "scatter",
         "x": [
          6,
          7
         ],
         "y": [
          90,
          90
         ]
        },
        {
         "line": {
          "color": "rgb(68, 1, 84)",
          "width": 2
         },
         "mode": "lines+markers",
         "name": "Action 0",
         "showlegend": false,
         "type": "scatter",
         "x": [
          6,
          7
         ],
         "y": [
          91,
          91
         ]
        },
        {
         "line": {
          "color": "rgb(68, 1, 84)",
          "width": 2
         },
         "mode": "lines+markers",
         "name": "Action 0",
         "showlegend": false,
         "type": "scatter",
         "x": [
          6,
          7
         ],
         "y": [
          92,
          92
         ]
        },
        {
         "line": {
          "color": "rgb(68, 1, 84)",
          "width": 2
         },
         "mode": "lines+markers",
         "name": "Action 0",
         "showlegend": false,
         "type": "scatter",
         "x": [
          6,
          7
         ],
         "y": [
          93,
          93
         ]
        },
        {
         "line": {
          "color": "rgb(68, 1, 84)",
          "width": 2
         },
         "mode": "lines+markers",
         "name": "Action 0",
         "showlegend": false,
         "type": "scatter",
         "x": [
          6,
          7
         ],
         "y": [
          94,
          94
         ]
        },
        {
         "line": {
          "color": "rgb(68, 1, 84)",
          "width": 2
         },
         "mode": "lines+markers",
         "name": "Action 0",
         "showlegend": false,
         "type": "scatter",
         "x": [
          6,
          7
         ],
         "y": [
          95,
          95
         ]
        },
        {
         "line": {
          "color": "rgb(68, 1, 84)",
          "width": 2
         },
         "mode": "lines+markers",
         "name": "Action 0",
         "showlegend": false,
         "type": "scatter",
         "x": [
          6,
          7
         ],
         "y": [
          96,
          96
         ]
        },
        {
         "line": {
          "color": "rgb(68, 1, 84)",
          "width": 2
         },
         "mode": "lines+markers",
         "name": "Action 0",
         "showlegend": false,
         "type": "scatter",
         "x": [
          6,
          7
         ],
         "y": [
          97,
          97
         ]
        },
        {
         "line": {
          "color": "rgb(68, 1, 84)",
          "width": 2
         },
         "mode": "lines+markers",
         "name": "Action 0",
         "showlegend": false,
         "type": "scatter",
         "x": [
          6,
          7
         ],
         "y": [
          98,
          98
         ]
        },
        {
         "line": {
          "color": "rgb(68, 1, 84)",
          "width": 2
         },
         "mode": "lines+markers",
         "name": "Action 0",
         "showlegend": false,
         "type": "scatter",
         "x": [
          6,
          7
         ],
         "y": [
          99,
          99
         ]
        },
        {
         "line": {
          "color": "rgb(68, 1, 84)",
          "width": 2
         },
         "mode": "lines+markers",
         "name": "Action 0",
         "showlegend": false,
         "type": "scatter",
         "x": [
          6,
          7
         ],
         "y": [
          100,
          100
         ]
        },
        {
         "line": {
          "color": "rgb(68, 1, 84)",
          "width": 2
         },
         "mode": "lines+markers",
         "name": "Action 0",
         "showlegend": false,
         "type": "scatter",
         "x": [
          7,
          8
         ],
         "y": [
          0,
          0
         ]
        },
        {
         "line": {
          "color": "rgb(68, 1, 84)",
          "width": 2
         },
         "mode": "lines+markers",
         "name": "Action 0",
         "showlegend": false,
         "type": "scatter",
         "x": [
          7,
          8
         ],
         "y": [
          1,
          1
         ]
        },
        {
         "line": {
          "color": "rgb(68, 1, 84)",
          "width": 2
         },
         "mode": "lines+markers",
         "name": "Action 0",
         "showlegend": false,
         "type": "scatter",
         "x": [
          7,
          8
         ],
         "y": [
          2,
          2
         ]
        },
        {
         "line": {
          "color": "rgb(68, 1, 84)",
          "width": 2
         },
         "mode": "lines+markers",
         "name": "Action 0",
         "showlegend": false,
         "type": "scatter",
         "x": [
          7,
          8
         ],
         "y": [
          3,
          3
         ]
        },
        {
         "line": {
          "color": "rgb(68, 1, 84)",
          "width": 2
         },
         "mode": "lines+markers",
         "name": "Action 0",
         "showlegend": false,
         "type": "scatter",
         "x": [
          7,
          8
         ],
         "y": [
          7,
          7
         ]
        },
        {
         "line": {
          "color": "rgb(68, 1, 84)",
          "width": 2
         },
         "mode": "lines+markers",
         "name": "Action 0",
         "showlegend": false,
         "type": "scatter",
         "x": [
          7,
          8
         ],
         "y": [
          10,
          10
         ]
        },
        {
         "line": {
          "color": "rgb(68, 1, 84)",
          "width": 2
         },
         "mode": "lines+markers",
         "name": "Action 0",
         "showlegend": false,
         "type": "scatter",
         "x": [
          7,
          8
         ],
         "y": [
          14,
          14
         ]
        },
        {
         "line": {
          "color": "rgb(68, 1, 84)",
          "width": 2
         },
         "mode": "lines+markers",
         "name": "Action 0",
         "showlegend": false,
         "type": "scatter",
         "x": [
          7,
          8
         ],
         "y": [
          52,
          52
         ]
        },
        {
         "line": {
          "color": "rgb(68, 1, 84)",
          "width": 2
         },
         "mode": "lines+markers",
         "name": "Action 0",
         "showlegend": false,
         "type": "scatter",
         "x": [
          7,
          8
         ],
         "y": [
          60,
          60
         ]
        },
        {
         "line": {
          "color": "rgb(68, 1, 84)",
          "width": 2
         },
         "mode": "lines+markers",
         "name": "Action 0",
         "showlegend": false,
         "type": "scatter",
         "x": [
          7,
          8
         ],
         "y": [
          61,
          61
         ]
        },
        {
         "line": {
          "color": "rgb(68, 1, 84)",
          "width": 2
         },
         "mode": "lines+markers",
         "name": "Action 0",
         "showlegend": false,
         "type": "scatter",
         "x": [
          7,
          8
         ],
         "y": [
          63,
          63
         ]
        },
        {
         "line": {
          "color": "rgb(68, 1, 84)",
          "width": 2
         },
         "mode": "lines+markers",
         "name": "Action 0",
         "showlegend": false,
         "type": "scatter",
         "x": [
          7,
          8
         ],
         "y": [
          64,
          64
         ]
        },
        {
         "line": {
          "color": "rgb(68, 1, 84)",
          "width": 2
         },
         "mode": "lines+markers",
         "name": "Action 0",
         "showlegend": false,
         "type": "scatter",
         "x": [
          7,
          8
         ],
         "y": [
          65,
          65
         ]
        },
        {
         "line": {
          "color": "rgb(68, 1, 84)",
          "width": 2
         },
         "mode": "lines+markers",
         "name": "Action 0",
         "showlegend": false,
         "type": "scatter",
         "x": [
          7,
          8
         ],
         "y": [
          66,
          66
         ]
        },
        {
         "line": {
          "color": "rgb(68, 1, 84)",
          "width": 2
         },
         "mode": "lines+markers",
         "name": "Action 0",
         "showlegend": false,
         "type": "scatter",
         "x": [
          7,
          8
         ],
         "y": [
          67,
          67
         ]
        },
        {
         "line": {
          "color": "rgb(68, 1, 84)",
          "width": 2
         },
         "mode": "lines+markers",
         "name": "Action 0",
         "showlegend": false,
         "type": "scatter",
         "x": [
          7,
          8
         ],
         "y": [
          68,
          68
         ]
        },
        {
         "line": {
          "color": "rgb(68, 1, 84)",
          "width": 2
         },
         "mode": "lines+markers",
         "name": "Action 0",
         "showlegend": false,
         "type": "scatter",
         "x": [
          7,
          8
         ],
         "y": [
          69,
          69
         ]
        },
        {
         "line": {
          "color": "rgb(68, 1, 84)",
          "width": 2
         },
         "mode": "lines+markers",
         "name": "Action 0",
         "showlegend": false,
         "type": "scatter",
         "x": [
          7,
          8
         ],
         "y": [
          70,
          70
         ]
        },
        {
         "line": {
          "color": "rgb(68, 1, 84)",
          "width": 2
         },
         "mode": "lines+markers",
         "name": "Action 0",
         "showlegend": false,
         "type": "scatter",
         "x": [
          7,
          8
         ],
         "y": [
          71,
          71
         ]
        },
        {
         "line": {
          "color": "rgb(68, 1, 84)",
          "width": 2
         },
         "mode": "lines+markers",
         "name": "Action 0",
         "showlegend": false,
         "type": "scatter",
         "x": [
          7,
          8
         ],
         "y": [
          72,
          72
         ]
        },
        {
         "line": {
          "color": "rgb(68, 1, 84)",
          "width": 2
         },
         "mode": "lines+markers",
         "name": "Action 0",
         "showlegend": false,
         "type": "scatter",
         "x": [
          7,
          8
         ],
         "y": [
          73,
          73
         ]
        },
        {
         "line": {
          "color": "rgb(68, 1, 84)",
          "width": 2
         },
         "mode": "lines+markers",
         "name": "Action 0",
         "showlegend": false,
         "type": "scatter",
         "x": [
          7,
          8
         ],
         "y": [
          74,
          74
         ]
        },
        {
         "line": {
          "color": "rgb(68, 1, 84)",
          "width": 2
         },
         "mode": "lines+markers",
         "name": "Action 0",
         "showlegend": false,
         "type": "scatter",
         "x": [
          7,
          8
         ],
         "y": [
          75,
          75
         ]
        },
        {
         "line": {
          "color": "rgb(68, 1, 84)",
          "width": 2
         },
         "mode": "lines+markers",
         "name": "Action 0",
         "showlegend": false,
         "type": "scatter",
         "x": [
          7,
          8
         ],
         "y": [
          76,
          76
         ]
        },
        {
         "line": {
          "color": "rgb(68, 1, 84)",
          "width": 2
         },
         "mode": "lines+markers",
         "name": "Action 0",
         "showlegend": false,
         "type": "scatter",
         "x": [
          7,
          8
         ],
         "y": [
          77,
          77
         ]
        },
        {
         "line": {
          "color": "rgb(68, 1, 84)",
          "width": 2
         },
         "mode": "lines+markers",
         "name": "Action 0",
         "showlegend": false,
         "type": "scatter",
         "x": [
          7,
          8
         ],
         "y": [
          78,
          78
         ]
        },
        {
         "line": {
          "color": "rgb(68, 1, 84)",
          "width": 2
         },
         "mode": "lines+markers",
         "name": "Action 0",
         "showlegend": false,
         "type": "scatter",
         "x": [
          7,
          8
         ],
         "y": [
          79,
          79
         ]
        },
        {
         "line": {
          "color": "rgb(68, 1, 84)",
          "width": 2
         },
         "mode": "lines+markers",
         "name": "Action 0",
         "showlegend": false,
         "type": "scatter",
         "x": [
          7,
          8
         ],
         "y": [
          80,
          80
         ]
        },
        {
         "line": {
          "color": "rgb(68, 1, 84)",
          "width": 2
         },
         "mode": "lines+markers",
         "name": "Action 0",
         "showlegend": false,
         "type": "scatter",
         "x": [
          7,
          8
         ],
         "y": [
          81,
          81
         ]
        },
        {
         "line": {
          "color": "rgb(68, 1, 84)",
          "width": 2
         },
         "mode": "lines+markers",
         "name": "Action 0",
         "showlegend": false,
         "type": "scatter",
         "x": [
          7,
          8
         ],
         "y": [
          82,
          82
         ]
        },
        {
         "line": {
          "color": "rgb(68, 1, 84)",
          "width": 2
         },
         "mode": "lines+markers",
         "name": "Action 0",
         "showlegend": false,
         "type": "scatter",
         "x": [
          7,
          8
         ],
         "y": [
          83,
          83
         ]
        },
        {
         "line": {
          "color": "rgb(68, 1, 84)",
          "width": 2
         },
         "mode": "lines+markers",
         "name": "Action 0",
         "showlegend": false,
         "type": "scatter",
         "x": [
          7,
          8
         ],
         "y": [
          84,
          84
         ]
        },
        {
         "line": {
          "color": "rgb(68, 1, 84)",
          "width": 2
         },
         "mode": "lines+markers",
         "name": "Action 0",
         "showlegend": false,
         "type": "scatter",
         "x": [
          7,
          8
         ],
         "y": [
          85,
          85
         ]
        },
        {
         "line": {
          "color": "rgb(68, 1, 84)",
          "width": 2
         },
         "mode": "lines+markers",
         "name": "Action 0",
         "showlegend": false,
         "type": "scatter",
         "x": [
          7,
          8
         ],
         "y": [
          86,
          86
         ]
        },
        {
         "line": {
          "color": "rgb(68, 1, 84)",
          "width": 2
         },
         "mode": "lines+markers",
         "name": "Action 0",
         "showlegend": false,
         "type": "scatter",
         "x": [
          7,
          8
         ],
         "y": [
          87,
          87
         ]
        },
        {
         "line": {
          "color": "rgb(68, 1, 84)",
          "width": 2
         },
         "mode": "lines+markers",
         "name": "Action 0",
         "showlegend": false,
         "type": "scatter",
         "x": [
          7,
          8
         ],
         "y": [
          88,
          88
         ]
        },
        {
         "line": {
          "color": "rgb(68, 1, 84)",
          "width": 2
         },
         "mode": "lines+markers",
         "name": "Action 0",
         "showlegend": false,
         "type": "scatter",
         "x": [
          7,
          8
         ],
         "y": [
          89,
          89
         ]
        },
        {
         "line": {
          "color": "rgb(68, 1, 84)",
          "width": 2
         },
         "mode": "lines+markers",
         "name": "Action 0",
         "showlegend": false,
         "type": "scatter",
         "x": [
          7,
          8
         ],
         "y": [
          90,
          90
         ]
        },
        {
         "line": {
          "color": "rgb(68, 1, 84)",
          "width": 2
         },
         "mode": "lines+markers",
         "name": "Action 0",
         "showlegend": false,
         "type": "scatter",
         "x": [
          7,
          8
         ],
         "y": [
          91,
          91
         ]
        },
        {
         "line": {
          "color": "rgb(68, 1, 84)",
          "width": 2
         },
         "mode": "lines+markers",
         "name": "Action 0",
         "showlegend": false,
         "type": "scatter",
         "x": [
          7,
          8
         ],
         "y": [
          92,
          92
         ]
        },
        {
         "line": {
          "color": "rgb(68, 1, 84)",
          "width": 2
         },
         "mode": "lines+markers",
         "name": "Action 0",
         "showlegend": false,
         "type": "scatter",
         "x": [
          7,
          8
         ],
         "y": [
          93,
          93
         ]
        },
        {
         "line": {
          "color": "rgb(68, 1, 84)",
          "width": 2
         },
         "mode": "lines+markers",
         "name": "Action 0",
         "showlegend": false,
         "type": "scatter",
         "x": [
          7,
          8
         ],
         "y": [
          94,
          94
         ]
        },
        {
         "line": {
          "color": "rgb(68, 1, 84)",
          "width": 2
         },
         "mode": "lines+markers",
         "name": "Action 0",
         "showlegend": false,
         "type": "scatter",
         "x": [
          7,
          8
         ],
         "y": [
          95,
          95
         ]
        },
        {
         "line": {
          "color": "rgb(68, 1, 84)",
          "width": 2
         },
         "mode": "lines+markers",
         "name": "Action 0",
         "showlegend": false,
         "type": "scatter",
         "x": [
          7,
          8
         ],
         "y": [
          96,
          96
         ]
        },
        {
         "line": {
          "color": "rgb(68, 1, 84)",
          "width": 2
         },
         "mode": "lines+markers",
         "name": "Action 0",
         "showlegend": false,
         "type": "scatter",
         "x": [
          7,
          8
         ],
         "y": [
          97,
          97
         ]
        },
        {
         "line": {
          "color": "rgb(68, 1, 84)",
          "width": 2
         },
         "mode": "lines+markers",
         "name": "Action 0",
         "showlegend": false,
         "type": "scatter",
         "x": [
          7,
          8
         ],
         "y": [
          98,
          98
         ]
        },
        {
         "line": {
          "color": "rgb(58, 82, 139)",
          "width": 2
         },
         "mode": "lines+markers",
         "name": "Action 3",
         "type": "scatter",
         "x": [
          1,
          2
         ],
         "y": [
          14,
          17
         ]
        },
        {
         "line": {
          "color": "rgb(58, 82, 139)",
          "width": 2
         },
         "mode": "lines+markers",
         "name": "Action 3",
         "showlegend": false,
         "type": "scatter",
         "x": [
          1,
          2
         ],
         "y": [
          55,
          58
         ]
        },
        {
         "line": {
          "color": "rgb(58, 82, 139)",
          "width": 2
         },
         "mode": "lines+markers",
         "name": "Action 3",
         "showlegend": false,
         "type": "scatter",
         "x": [
          2,
          3
         ],
         "y": [
          26,
          29
         ]
        },
        {
         "line": {
          "color": "rgb(58, 82, 139)",
          "width": 2
         },
         "mode": "lines+markers",
         "name": "Action 3",
         "showlegend": false,
         "type": "scatter",
         "x": [
          2,
          3
         ],
         "y": [
          33,
          36
         ]
        },
        {
         "line": {
          "color": "rgb(58, 82, 139)",
          "width": 2
         },
         "mode": "lines+markers",
         "name": "Action 3",
         "showlegend": false,
         "type": "scatter",
         "x": [
          2,
          3
         ],
         "y": [
          66,
          69
         ]
        },
        {
         "line": {
          "color": "rgb(58, 82, 139)",
          "width": 2
         },
         "mode": "lines+markers",
         "name": "Action 3",
         "showlegend": false,
         "type": "scatter",
         "x": [
          3,
          4
         ],
         "y": [
          1,
          4
         ]
        },
        {
         "line": {
          "color": "rgb(58, 82, 139)",
          "width": 2
         },
         "mode": "lines+markers",
         "name": "Action 3",
         "showlegend": false,
         "type": "scatter",
         "x": [
          3,
          4
         ],
         "y": [
          3,
          6
         ]
        },
        {
         "line": {
          "color": "rgb(58, 82, 139)",
          "width": 2
         },
         "mode": "lines+markers",
         "name": "Action 3",
         "showlegend": false,
         "type": "scatter",
         "x": [
          3,
          4
         ],
         "y": [
          17,
          20
         ]
        },
        {
         "line": {
          "color": "rgb(58, 82, 139)",
          "width": 2
         },
         "mode": "lines+markers",
         "name": "Action 3",
         "showlegend": false,
         "type": "scatter",
         "x": [
          3,
          4
         ],
         "y": [
          35,
          38
         ]
        },
        {
         "line": {
          "color": "rgb(58, 82, 139)",
          "width": 2
         },
         "mode": "lines+markers",
         "name": "Action 3",
         "showlegend": false,
         "type": "scatter",
         "x": [
          3,
          4
         ],
         "y": [
          42,
          45
         ]
        },
        {
         "line": {
          "color": "rgb(58, 82, 139)",
          "width": 2
         },
         "mode": "lines+markers",
         "name": "Action 3",
         "showlegend": false,
         "type": "scatter",
         "x": [
          3,
          4
         ],
         "y": [
          43,
          46
         ]
        },
        {
         "line": {
          "color": "rgb(58, 82, 139)",
          "width": 2
         },
         "mode": "lines+markers",
         "name": "Action 3",
         "showlegend": false,
         "type": "scatter",
         "x": [
          3,
          4
         ],
         "y": [
          59,
          62
         ]
        },
        {
         "line": {
          "color": "rgb(58, 82, 139)",
          "width": 2
         },
         "mode": "lines+markers",
         "name": "Action 3",
         "showlegend": false,
         "type": "scatter",
         "x": [
          3,
          4
         ],
         "y": [
          66,
          69
         ]
        },
        {
         "line": {
          "color": "rgb(58, 82, 139)",
          "width": 2
         },
         "mode": "lines+markers",
         "name": "Action 3",
         "showlegend": false,
         "type": "scatter",
         "x": [
          3,
          4
         ],
         "y": [
          69,
          72
         ]
        },
        {
         "line": {
          "color": "rgb(58, 82, 139)",
          "width": 2
         },
         "mode": "lines+markers",
         "name": "Action 3",
         "showlegend": false,
         "type": "scatter",
         "x": [
          3,
          4
         ],
         "y": [
          100,
          100
         ]
        },
        {
         "line": {
          "color": "rgb(58, 82, 139)",
          "width": 2
         },
         "mode": "lines+markers",
         "name": "Action 3",
         "showlegend": false,
         "type": "scatter",
         "x": [
          4,
          5
         ],
         "y": [
          7,
          10
         ]
        },
        {
         "line": {
          "color": "rgb(58, 82, 139)",
          "width": 2
         },
         "mode": "lines+markers",
         "name": "Action 3",
         "showlegend": false,
         "type": "scatter",
         "x": [
          4,
          5
         ],
         "y": [
          10,
          13
         ]
        },
        {
         "line": {
          "color": "rgb(58, 82, 139)",
          "width": 2
         },
         "mode": "lines+markers",
         "name": "Action 3",
         "showlegend": false,
         "type": "scatter",
         "x": [
          4,
          5
         ],
         "y": [
          13,
          16
         ]
        },
        {
         "line": {
          "color": "rgb(58, 82, 139)",
          "width": 2
         },
         "mode": "lines+markers",
         "name": "Action 3",
         "showlegend": false,
         "type": "scatter",
         "x": [
          4,
          5
         ],
         "y": [
          15,
          18
         ]
        },
        {
         "line": {
          "color": "rgb(58, 82, 139)",
          "width": 2
         },
         "mode": "lines+markers",
         "name": "Action 3",
         "showlegend": false,
         "type": "scatter",
         "x": [
          4,
          5
         ],
         "y": [
          18,
          21
         ]
        },
        {
         "line": {
          "color": "rgb(58, 82, 139)",
          "width": 2
         },
         "mode": "lines+markers",
         "name": "Action 3",
         "showlegend": false,
         "type": "scatter",
         "x": [
          4,
          5
         ],
         "y": [
          19,
          22
         ]
        },
        {
         "line": {
          "color": "rgb(58, 82, 139)",
          "width": 2
         },
         "mode": "lines+markers",
         "name": "Action 3",
         "showlegend": false,
         "type": "scatter",
         "x": [
          4,
          5
         ],
         "y": [
          21,
          24
         ]
        },
        {
         "line": {
          "color": "rgb(58, 82, 139)",
          "width": 2
         },
         "mode": "lines+markers",
         "name": "Action 3",
         "showlegend": false,
         "type": "scatter",
         "x": [
          4,
          5
         ],
         "y": [
          22,
          25
         ]
        },
        {
         "line": {
          "color": "rgb(58, 82, 139)",
          "width": 2
         },
         "mode": "lines+markers",
         "name": "Action 3",
         "showlegend": false,
         "type": "scatter",
         "x": [
          4,
          5
         ],
         "y": [
          23,
          26
         ]
        },
        {
         "line": {
          "color": "rgb(58, 82, 139)",
          "width": 2
         },
         "mode": "lines+markers",
         "name": "Action 3",
         "showlegend": false,
         "type": "scatter",
         "x": [
          4,
          5
         ],
         "y": [
          25,
          28
         ]
        },
        {
         "line": {
          "color": "rgb(58, 82, 139)",
          "width": 2
         },
         "mode": "lines+markers",
         "name": "Action 3",
         "showlegend": false,
         "type": "scatter",
         "x": [
          4,
          5
         ],
         "y": [
          30,
          33
         ]
        },
        {
         "line": {
          "color": "rgb(58, 82, 139)",
          "width": 2
         },
         "mode": "lines+markers",
         "name": "Action 3",
         "showlegend": false,
         "type": "scatter",
         "x": [
          4,
          5
         ],
         "y": [
          35,
          38
         ]
        },
        {
         "line": {
          "color": "rgb(58, 82, 139)",
          "width": 2
         },
         "mode": "lines+markers",
         "name": "Action 3",
         "showlegend": false,
         "type": "scatter",
         "x": [
          4,
          5
         ],
         "y": [
          40,
          43
         ]
        },
        {
         "line": {
          "color": "rgb(58, 82, 139)",
          "width": 2
         },
         "mode": "lines+markers",
         "name": "Action 3",
         "showlegend": false,
         "type": "scatter",
         "x": [
          4,
          5
         ],
         "y": [
          51,
          54
         ]
        },
        {
         "line": {
          "color": "rgb(58, 82, 139)",
          "width": 2
         },
         "mode": "lines+markers",
         "name": "Action 3",
         "showlegend": false,
         "type": "scatter",
         "x": [
          4,
          5
         ],
         "y": [
          54,
          57
         ]
        },
        {
         "line": {
          "color": "rgb(58, 82, 139)",
          "width": 2
         },
         "mode": "lines+markers",
         "name": "Action 3",
         "showlegend": false,
         "type": "scatter",
         "x": [
          4,
          5
         ],
         "y": [
          72,
          75
         ]
        },
        {
         "line": {
          "color": "rgb(58, 82, 139)",
          "width": 2
         },
         "mode": "lines+markers",
         "name": "Action 3",
         "showlegend": false,
         "type": "scatter",
         "x": [
          4,
          5
         ],
         "y": [
          76,
          79
         ]
        },
        {
         "line": {
          "color": "rgb(58, 82, 139)",
          "width": 2
         },
         "mode": "lines+markers",
         "name": "Action 3",
         "showlegend": false,
         "type": "scatter",
         "x": [
          5,
          6
         ],
         "y": [
          3,
          6
         ]
        },
        {
         "line": {
          "color": "rgb(58, 82, 139)",
          "width": 2
         },
         "mode": "lines+markers",
         "name": "Action 3",
         "showlegend": false,
         "type": "scatter",
         "x": [
          5,
          6
         ],
         "y": [
          9,
          12
         ]
        },
        {
         "line": {
          "color": "rgb(58, 82, 139)",
          "width": 2
         },
         "mode": "lines+markers",
         "name": "Action 3",
         "showlegend": false,
         "type": "scatter",
         "x": [
          5,
          6
         ],
         "y": [
          20,
          23
         ]
        },
        {
         "line": {
          "color": "rgb(58, 82, 139)",
          "width": 2
         },
         "mode": "lines+markers",
         "name": "Action 3",
         "showlegend": false,
         "type": "scatter",
         "x": [
          5,
          6
         ],
         "y": [
          24,
          27
         ]
        },
        {
         "line": {
          "color": "rgb(58, 82, 139)",
          "width": 2
         },
         "mode": "lines+markers",
         "name": "Action 3",
         "showlegend": false,
         "type": "scatter",
         "x": [
          5,
          6
         ],
         "y": [
          25,
          28
         ]
        },
        {
         "line": {
          "color": "rgb(58, 82, 139)",
          "width": 2
         },
         "mode": "lines+markers",
         "name": "Action 3",
         "showlegend": false,
         "type": "scatter",
         "x": [
          5,
          6
         ],
         "y": [
          26,
          29
         ]
        },
        {
         "line": {
          "color": "rgb(58, 82, 139)",
          "width": 2
         },
         "mode": "lines+markers",
         "name": "Action 3",
         "showlegend": false,
         "type": "scatter",
         "x": [
          5,
          6
         ],
         "y": [
          27,
          30
         ]
        },
        {
         "line": {
          "color": "rgb(58, 82, 139)",
          "width": 2
         },
         "mode": "lines+markers",
         "name": "Action 3",
         "showlegend": false,
         "type": "scatter",
         "x": [
          5,
          6
         ],
         "y": [
          30,
          33
         ]
        },
        {
         "line": {
          "color": "rgb(58, 82, 139)",
          "width": 2
         },
         "mode": "lines+markers",
         "name": "Action 3",
         "showlegend": false,
         "type": "scatter",
         "x": [
          5,
          6
         ],
         "y": [
          31,
          34
         ]
        },
        {
         "line": {
          "color": "rgb(58, 82, 139)",
          "width": 2
         },
         "mode": "lines+markers",
         "name": "Action 3",
         "showlegend": false,
         "type": "scatter",
         "x": [
          5,
          6
         ],
         "y": [
          32,
          35
         ]
        },
        {
         "line": {
          "color": "rgb(58, 82, 139)",
          "width": 2
         },
         "mode": "lines+markers",
         "name": "Action 3",
         "showlegend": false,
         "type": "scatter",
         "x": [
          5,
          6
         ],
         "y": [
          33,
          36
         ]
        },
        {
         "line": {
          "color": "rgb(58, 82, 139)",
          "width": 2
         },
         "mode": "lines+markers",
         "name": "Action 3",
         "showlegend": false,
         "type": "scatter",
         "x": [
          5,
          6
         ],
         "y": [
          36,
          39
         ]
        },
        {
         "line": {
          "color": "rgb(58, 82, 139)",
          "width": 2
         },
         "mode": "lines+markers",
         "name": "Action 3",
         "showlegend": false,
         "type": "scatter",
         "x": [
          5,
          6
         ],
         "y": [
          40,
          43
         ]
        },
        {
         "line": {
          "color": "rgb(58, 82, 139)",
          "width": 2
         },
         "mode": "lines+markers",
         "name": "Action 3",
         "showlegend": false,
         "type": "scatter",
         "x": [
          5,
          6
         ],
         "y": [
          41,
          44
         ]
        },
        {
         "line": {
          "color": "rgb(58, 82, 139)",
          "width": 2
         },
         "mode": "lines+markers",
         "name": "Action 3",
         "showlegend": false,
         "type": "scatter",
         "x": [
          5,
          6
         ],
         "y": [
          46,
          49
         ]
        },
        {
         "line": {
          "color": "rgb(58, 82, 139)",
          "width": 2
         },
         "mode": "lines+markers",
         "name": "Action 3",
         "showlegend": false,
         "type": "scatter",
         "x": [
          5,
          6
         ],
         "y": [
          76,
          79
         ]
        },
        {
         "line": {
          "color": "rgb(58, 82, 139)",
          "width": 2
         },
         "mode": "lines+markers",
         "name": "Action 3",
         "showlegend": false,
         "type": "scatter",
         "x": [
          5,
          6
         ],
         "y": [
          85,
          88
         ]
        },
        {
         "line": {
          "color": "rgb(58, 82, 139)",
          "width": 2
         },
         "mode": "lines+markers",
         "name": "Action 3",
         "showlegend": false,
         "type": "scatter",
         "x": [
          6,
          7
         ],
         "y": [
          3,
          6
         ]
        },
        {
         "line": {
          "color": "rgb(58, 82, 139)",
          "width": 2
         },
         "mode": "lines+markers",
         "name": "Action 3",
         "showlegend": false,
         "type": "scatter",
         "x": [
          6,
          7
         ],
         "y": [
          10,
          13
         ]
        },
        {
         "line": {
          "color": "rgb(58, 82, 139)",
          "width": 2
         },
         "mode": "lines+markers",
         "name": "Action 3",
         "showlegend": false,
         "type": "scatter",
         "x": [
          6,
          7
         ],
         "y": [
          34,
          37
         ]
        },
        {
         "line": {
          "color": "rgb(58, 82, 139)",
          "width": 2
         },
         "mode": "lines+markers",
         "name": "Action 3",
         "showlegend": false,
         "type": "scatter",
         "x": [
          6,
          7
         ],
         "y": [
          39,
          42
         ]
        },
        {
         "line": {
          "color": "rgb(58, 82, 139)",
          "width": 2
         },
         "mode": "lines+markers",
         "name": "Action 3",
         "showlegend": false,
         "type": "scatter",
         "x": [
          6,
          7
         ],
         "y": [
          42,
          45
         ]
        },
        {
         "line": {
          "color": "rgb(58, 82, 139)",
          "width": 2
         },
         "mode": "lines+markers",
         "name": "Action 3",
         "showlegend": false,
         "type": "scatter",
         "x": [
          6,
          7
         ],
         "y": [
          47,
          50
         ]
        },
        {
         "line": {
          "color": "rgb(58, 82, 139)",
          "width": 2
         },
         "mode": "lines+markers",
         "name": "Action 3",
         "showlegend": false,
         "type": "scatter",
         "x": [
          6,
          7
         ],
         "y": [
          48,
          51
         ]
        },
        {
         "line": {
          "color": "rgb(58, 82, 139)",
          "width": 2
         },
         "mode": "lines+markers",
         "name": "Action 3",
         "showlegend": false,
         "type": "scatter",
         "x": [
          6,
          7
         ],
         "y": [
          50,
          53
         ]
        },
        {
         "line": {
          "color": "rgb(58, 82, 139)",
          "width": 2
         },
         "mode": "lines+markers",
         "name": "Action 3",
         "showlegend": false,
         "type": "scatter",
         "x": [
          6,
          7
         ],
         "y": [
          52,
          55
         ]
        },
        {
         "line": {
          "color": "rgb(58, 82, 139)",
          "width": 2
         },
         "mode": "lines+markers",
         "name": "Action 3",
         "showlegend": false,
         "type": "scatter",
         "x": [
          6,
          7
         ],
         "y": [
          73,
          76
         ]
        },
        {
         "line": {
          "color": "rgb(58, 82, 139)",
          "width": 2
         },
         "mode": "lines+markers",
         "name": "Action 3",
         "showlegend": false,
         "type": "scatter",
         "x": [
          7,
          8
         ],
         "y": [
          5,
          8
         ]
        },
        {
         "line": {
          "color": "rgb(58, 82, 139)",
          "width": 2
         },
         "mode": "lines+markers",
         "name": "Action 3",
         "showlegend": false,
         "type": "scatter",
         "x": [
          7,
          8
         ],
         "y": [
          16,
          19
         ]
        },
        {
         "line": {
          "color": "rgb(58, 82, 139)",
          "width": 2
         },
         "mode": "lines+markers",
         "name": "Action 3",
         "showlegend": false,
         "type": "scatter",
         "x": [
          7,
          8
         ],
         "y": [
          18,
          21
         ]
        },
        {
         "line": {
          "color": "rgb(58, 82, 139)",
          "width": 2
         },
         "mode": "lines+markers",
         "name": "Action 3",
         "showlegend": false,
         "type": "scatter",
         "x": [
          7,
          8
         ],
         "y": [
          19,
          22
         ]
        },
        {
         "line": {
          "color": "rgb(58, 82, 139)",
          "width": 2
         },
         "mode": "lines+markers",
         "name": "Action 3",
         "showlegend": false,
         "type": "scatter",
         "x": [
          7,
          8
         ],
         "y": [
          22,
          25
         ]
        },
        {
         "line": {
          "color": "rgb(58, 82, 139)",
          "width": 2
         },
         "mode": "lines+markers",
         "name": "Action 3",
         "showlegend": false,
         "type": "scatter",
         "x": [
          7,
          8
         ],
         "y": [
          53,
          56
         ]
        },
        {
         "line": {
          "color": "rgb(58, 82, 139)",
          "width": 2
         },
         "mode": "lines+markers",
         "name": "Action 3",
         "showlegend": false,
         "type": "scatter",
         "x": [
          7,
          8
         ],
         "y": [
          55,
          58
         ]
        },
        {
         "line": {
          "color": "rgb(58, 82, 139)",
          "width": 2
         },
         "mode": "lines+markers",
         "name": "Action 3",
         "showlegend": false,
         "type": "scatter",
         "x": [
          7,
          8
         ],
         "y": [
          56,
          59
         ]
        },
        {
         "line": {
          "color": "rgb(58, 82, 139)",
          "width": 2
         },
         "mode": "lines+markers",
         "name": "Action 3",
         "showlegend": false,
         "type": "scatter",
         "x": [
          7,
          8
         ],
         "y": [
          57,
          60
         ]
        },
        {
         "line": {
          "color": "rgb(58, 82, 139)",
          "width": 2
         },
         "mode": "lines+markers",
         "name": "Action 3",
         "showlegend": false,
         "type": "scatter",
         "x": [
          7,
          8
         ],
         "y": [
          58,
          61
         ]
        },
        {
         "line": {
          "color": "rgb(58, 82, 139)",
          "width": 2
         },
         "mode": "lines+markers",
         "name": "Action 3",
         "showlegend": false,
         "type": "scatter",
         "x": [
          7,
          8
         ],
         "y": [
          59,
          62
         ]
        },
        {
         "line": {
          "color": "rgb(58, 82, 139)",
          "width": 2
         },
         "mode": "lines+markers",
         "name": "Action 3",
         "showlegend": false,
         "type": "scatter",
         "x": [
          7,
          8
         ],
         "y": [
          62,
          65
         ]
        },
        {
         "line": {
          "color": "rgb(32, 144, 140)",
          "width": 2
         },
         "mode": "lines+markers",
         "name": "Action 11",
         "type": "scatter",
         "x": [
          2,
          3
         ],
         "y": [
          99,
          100
         ]
        },
        {
         "line": {
          "color": "rgb(32, 144, 140)",
          "width": 2
         },
         "mode": "lines+markers",
         "name": "Action 11",
         "showlegend": false,
         "type": "scatter",
         "x": [
          5,
          6
         ],
         "y": [
          1,
          12
         ]
        },
        {
         "line": {
          "color": "rgb(32, 144, 140)",
          "width": 2
         },
         "mode": "lines+markers",
         "name": "Action 11",
         "showlegend": false,
         "type": "scatter",
         "x": [
          5,
          6
         ],
         "y": [
          13,
          24
         ]
        },
        {
         "line": {
          "color": "rgb(32, 144, 140)",
          "width": 2
         },
         "mode": "lines+markers",
         "name": "Action 11",
         "showlegend": false,
         "type": "scatter",
         "x": [
          6,
          7
         ],
         "y": [
          11,
          22
         ]
        },
        {
         "line": {
          "color": "rgb(32, 144, 140)",
          "width": 2
         },
         "mode": "lines+markers",
         "name": "Action 11",
         "showlegend": false,
         "type": "scatter",
         "x": [
          6,
          7
         ],
         "y": [
          12,
          23
         ]
        },
        {
         "line": {
          "color": "rgb(32, 144, 140)",
          "width": 2
         },
         "mode": "lines+markers",
         "name": "Action 11",
         "showlegend": false,
         "type": "scatter",
         "x": [
          6,
          7
         ],
         "y": [
          13,
          24
         ]
        },
        {
         "line": {
          "color": "rgb(32, 144, 140)",
          "width": 2
         },
         "mode": "lines+markers",
         "name": "Action 11",
         "showlegend": false,
         "type": "scatter",
         "x": [
          6,
          7
         ],
         "y": [
          16,
          27
         ]
        },
        {
         "line": {
          "color": "rgb(32, 144, 140)",
          "width": 2
         },
         "mode": "lines+markers",
         "name": "Action 11",
         "showlegend": false,
         "type": "scatter",
         "x": [
          6,
          7
         ],
         "y": [
          17,
          28
         ]
        },
        {
         "line": {
          "color": "rgb(32, 144, 140)",
          "width": 2
         },
         "mode": "lines+markers",
         "name": "Action 11",
         "showlegend": false,
         "type": "scatter",
         "x": [
          6,
          7
         ],
         "y": [
          18,
          29
         ]
        },
        {
         "line": {
          "color": "rgb(32, 144, 140)",
          "width": 2
         },
         "mode": "lines+markers",
         "name": "Action 11",
         "showlegend": false,
         "type": "scatter",
         "x": [
          6,
          7
         ],
         "y": [
          20,
          31
         ]
        },
        {
         "line": {
          "color": "rgb(32, 144, 140)",
          "width": 2
         },
         "mode": "lines+markers",
         "name": "Action 11",
         "showlegend": false,
         "type": "scatter",
         "x": [
          6,
          7
         ],
         "y": [
          22,
          33
         ]
        },
        {
         "line": {
          "color": "rgb(32, 144, 140)",
          "width": 2
         },
         "mode": "lines+markers",
         "name": "Action 11",
         "showlegend": false,
         "type": "scatter",
         "x": [
          6,
          7
         ],
         "y": [
          23,
          34
         ]
        },
        {
         "line": {
          "color": "rgb(32, 144, 140)",
          "width": 2
         },
         "mode": "lines+markers",
         "name": "Action 11",
         "showlegend": false,
         "type": "scatter",
         "x": [
          6,
          7
         ],
         "y": [
          24,
          35
         ]
        },
        {
         "line": {
          "color": "rgb(32, 144, 140)",
          "width": 2
         },
         "mode": "lines+markers",
         "name": "Action 11",
         "showlegend": false,
         "type": "scatter",
         "x": [
          6,
          7
         ],
         "y": [
          25,
          36
         ]
        },
        {
         "line": {
          "color": "rgb(32, 144, 140)",
          "width": 2
         },
         "mode": "lines+markers",
         "name": "Action 11",
         "showlegend": false,
         "type": "scatter",
         "x": [
          6,
          7
         ],
         "y": [
          26,
          37
         ]
        },
        {
         "line": {
          "color": "rgb(32, 144, 140)",
          "width": 2
         },
         "mode": "lines+markers",
         "name": "Action 11",
         "showlegend": false,
         "type": "scatter",
         "x": [
          6,
          7
         ],
         "y": [
          27,
          38
         ]
        },
        {
         "line": {
          "color": "rgb(32, 144, 140)",
          "width": 2
         },
         "mode": "lines+markers",
         "name": "Action 11",
         "showlegend": false,
         "type": "scatter",
         "x": [
          7,
          8
         ],
         "y": [
          6,
          17
         ]
        },
        {
         "line": {
          "color": "rgb(32, 144, 140)",
          "width": 2
         },
         "mode": "lines+markers",
         "name": "Action 11",
         "showlegend": false,
         "type": "scatter",
         "x": [
          7,
          8
         ],
         "y": [
          12,
          23
         ]
        },
        {
         "line": {
          "color": "rgb(32, 144, 140)",
          "width": 2
         },
         "mode": "lines+markers",
         "name": "Action 11",
         "showlegend": false,
         "type": "scatter",
         "x": [
          7,
          8
         ],
         "y": [
          13,
          24
         ]
        },
        {
         "line": {
          "color": "rgb(32, 144, 140)",
          "width": 2
         },
         "mode": "lines+markers",
         "name": "Action 11",
         "showlegend": false,
         "type": "scatter",
         "x": [
          7,
          8
         ],
         "y": [
          23,
          34
         ]
        },
        {
         "line": {
          "color": "rgb(32, 144, 140)",
          "width": 2
         },
         "mode": "lines+markers",
         "name": "Action 11",
         "showlegend": false,
         "type": "scatter",
         "x": [
          7,
          8
         ],
         "y": [
          24,
          35
         ]
        },
        {
         "line": {
          "color": "rgb(32, 144, 140)",
          "width": 2
         },
         "mode": "lines+markers",
         "name": "Action 11",
         "showlegend": false,
         "type": "scatter",
         "x": [
          7,
          8
         ],
         "y": [
          26,
          37
         ]
        },
        {
         "line": {
          "color": "rgb(32, 144, 140)",
          "width": 2
         },
         "mode": "lines+markers",
         "name": "Action 11",
         "showlegend": false,
         "type": "scatter",
         "x": [
          7,
          8
         ],
         "y": [
          27,
          38
         ]
        },
        {
         "line": {
          "color": "rgb(32, 144, 140)",
          "width": 2
         },
         "mode": "lines+markers",
         "name": "Action 11",
         "showlegend": false,
         "type": "scatter",
         "x": [
          7,
          8
         ],
         "y": [
          29,
          40
         ]
        },
        {
         "line": {
          "color": "rgb(32, 144, 140)",
          "width": 2
         },
         "mode": "lines+markers",
         "name": "Action 11",
         "showlegend": false,
         "type": "scatter",
         "x": [
          7,
          8
         ],
         "y": [
          30,
          41
         ]
        },
        {
         "line": {
          "color": "rgb(32, 144, 140)",
          "width": 2
         },
         "mode": "lines+markers",
         "name": "Action 11",
         "showlegend": false,
         "type": "scatter",
         "x": [
          7,
          8
         ],
         "y": [
          31,
          42
         ]
        },
        {
         "line": {
          "color": "rgb(32, 144, 140)",
          "width": 2
         },
         "mode": "lines+markers",
         "name": "Action 11",
         "showlegend": false,
         "type": "scatter",
         "x": [
          7,
          8
         ],
         "y": [
          32,
          43
         ]
        },
        {
         "line": {
          "color": "rgb(32, 144, 140)",
          "width": 2
         },
         "mode": "lines+markers",
         "name": "Action 11",
         "showlegend": false,
         "type": "scatter",
         "x": [
          7,
          8
         ],
         "y": [
          33,
          44
         ]
        },
        {
         "line": {
          "color": "rgb(32, 144, 140)",
          "width": 2
         },
         "mode": "lines+markers",
         "name": "Action 11",
         "showlegend": false,
         "type": "scatter",
         "x": [
          7,
          8
         ],
         "y": [
          34,
          45
         ]
        },
        {
         "line": {
          "color": "rgb(32, 144, 140)",
          "width": 2
         },
         "mode": "lines+markers",
         "name": "Action 11",
         "showlegend": false,
         "type": "scatter",
         "x": [
          7,
          8
         ],
         "y": [
          35,
          46
         ]
        },
        {
         "line": {
          "color": "rgb(32, 144, 140)",
          "width": 2
         },
         "mode": "lines+markers",
         "name": "Action 11",
         "showlegend": false,
         "type": "scatter",
         "x": [
          7,
          8
         ],
         "y": [
          36,
          47
         ]
        },
        {
         "line": {
          "color": "rgb(32, 144, 140)",
          "width": 2
         },
         "mode": "lines+markers",
         "name": "Action 11",
         "showlegend": false,
         "type": "scatter",
         "x": [
          7,
          8
         ],
         "y": [
          37,
          48
         ]
        },
        {
         "line": {
          "color": "rgb(32, 144, 140)",
          "width": 2
         },
         "mode": "lines+markers",
         "name": "Action 11",
         "showlegend": false,
         "type": "scatter",
         "x": [
          7,
          8
         ],
         "y": [
          38,
          49
         ]
        },
        {
         "line": {
          "color": "rgb(32, 144, 140)",
          "width": 2
         },
         "mode": "lines+markers",
         "name": "Action 11",
         "showlegend": false,
         "type": "scatter",
         "x": [
          7,
          8
         ],
         "y": [
          40,
          51
         ]
        },
        {
         "line": {
          "color": "rgb(32, 144, 140)",
          "width": 2
         },
         "mode": "lines+markers",
         "name": "Action 11",
         "showlegend": false,
         "type": "scatter",
         "x": [
          7,
          8
         ],
         "y": [
          41,
          52
         ]
        },
        {
         "line": {
          "color": "rgb(32, 144, 140)",
          "width": 2
         },
         "mode": "lines+markers",
         "name": "Action 11",
         "showlegend": false,
         "type": "scatter",
         "x": [
          7,
          8
         ],
         "y": [
          42,
          53
         ]
        },
        {
         "line": {
          "color": "rgb(32, 144, 140)",
          "width": 2
         },
         "mode": "lines+markers",
         "name": "Action 11",
         "showlegend": false,
         "type": "scatter",
         "x": [
          7,
          8
         ],
         "y": [
          43,
          54
         ]
        },
        {
         "line": {
          "color": "rgb(32, 144, 140)",
          "width": 2
         },
         "mode": "lines+markers",
         "name": "Action 11",
         "showlegend": false,
         "type": "scatter",
         "x": [
          7,
          8
         ],
         "y": [
          44,
          55
         ]
        },
        {
         "line": {
          "color": "rgb(94, 201, 97)",
          "width": 2
         },
         "mode": "lines+markers",
         "name": "Action 7",
         "type": "scatter",
         "x": [
          4,
          5
         ],
         "y": [
          11,
          18
         ]
        },
        {
         "line": {
          "color": "rgb(94, 201, 97)",
          "width": 2
         },
         "mode": "lines+markers",
         "name": "Action 7",
         "showlegend": false,
         "type": "scatter",
         "x": [
          5,
          6
         ],
         "y": [
          8,
          15
         ]
        },
        {
         "line": {
          "color": "rgb(94, 201, 97)",
          "width": 2
         },
         "mode": "lines+markers",
         "name": "Action 7",
         "showlegend": false,
         "type": "scatter",
         "x": [
          5,
          6
         ],
         "y": [
          10,
          17
         ]
        },
        {
         "line": {
          "color": "rgb(94, 201, 97)",
          "width": 2
         },
         "mode": "lines+markers",
         "name": "Action 7",
         "showlegend": false,
         "type": "scatter",
         "x": [
          5,
          6
         ],
         "y": [
          11,
          18
         ]
        },
        {
         "line": {
          "color": "rgb(94, 201, 97)",
          "width": 2
         },
         "mode": "lines+markers",
         "name": "Action 7",
         "showlegend": false,
         "type": "scatter",
         "x": [
          5,
          6
         ],
         "y": [
          14,
          21
         ]
        },
        {
         "line": {
          "color": "rgb(94, 201, 97)",
          "width": 2
         },
         "mode": "lines+markers",
         "name": "Action 7",
         "showlegend": false,
         "type": "scatter",
         "x": [
          5,
          6
         ],
         "y": [
          15,
          22
         ]
        },
        {
         "line": {
          "color": "rgb(94, 201, 97)",
          "width": 2
         },
         "mode": "lines+markers",
         "name": "Action 7",
         "showlegend": false,
         "type": "scatter",
         "x": [
          5,
          6
         ],
         "y": [
          16,
          23
         ]
        },
        {
         "line": {
          "color": "rgb(94, 201, 97)",
          "width": 2
         },
         "mode": "lines+markers",
         "name": "Action 7",
         "showlegend": false,
         "type": "scatter",
         "x": [
          5,
          6
         ],
         "y": [
          17,
          24
         ]
        },
        {
         "line": {
          "color": "rgb(94, 201, 97)",
          "width": 2
         },
         "mode": "lines+markers",
         "name": "Action 7",
         "showlegend": false,
         "type": "scatter",
         "x": [
          5,
          6
         ],
         "y": [
          19,
          26
         ]
        },
        {
         "line": {
          "color": "rgb(94, 201, 97)",
          "width": 2
         },
         "mode": "lines+markers",
         "name": "Action 7",
         "showlegend": false,
         "type": "scatter",
         "x": [
          5,
          6
         ],
         "y": [
          21,
          28
         ]
        },
        {
         "line": {
          "color": "rgb(94, 201, 97)",
          "width": 2
         },
         "mode": "lines+markers",
         "name": "Action 7",
         "showlegend": false,
         "type": "scatter",
         "x": [
          5,
          6
         ],
         "y": [
          22,
          29
         ]
        },
        {
         "line": {
          "color": "rgb(94, 201, 97)",
          "width": 2
         },
         "mode": "lines+markers",
         "name": "Action 7",
         "showlegend": false,
         "type": "scatter",
         "x": [
          6,
          7
         ],
         "y": [
          5,
          12
         ]
        },
        {
         "line": {
          "color": "rgb(94, 201, 97)",
          "width": 2
         },
         "mode": "lines+markers",
         "name": "Action 7",
         "showlegend": false,
         "type": "scatter",
         "x": [
          6,
          7
         ],
         "y": [
          7,
          14
         ]
        },
        {
         "line": {
          "color": "rgb(94, 201, 97)",
          "width": 2
         },
         "mode": "lines+markers",
         "name": "Action 7",
         "showlegend": false,
         "type": "scatter",
         "x": [
          6,
          7
         ],
         "y": [
          9,
          16
         ]
        },
        {
         "line": {
          "color": "rgb(94, 201, 97)",
          "width": 2
         },
         "mode": "lines+markers",
         "name": "Action 7",
         "showlegend": false,
         "type": "scatter",
         "x": [
          6,
          7
         ],
         "y": [
          15,
          22
         ]
        },
        {
         "line": {
          "color": "rgb(94, 201, 97)",
          "width": 2
         },
         "mode": "lines+markers",
         "name": "Action 7",
         "showlegend": false,
         "type": "scatter",
         "x": [
          6,
          7
         ],
         "y": [
          19,
          26
         ]
        },
        {
         "line": {
          "color": "rgb(94, 201, 97)",
          "width": 2
         },
         "mode": "lines+markers",
         "name": "Action 7",
         "showlegend": false,
         "type": "scatter",
         "x": [
          6,
          7
         ],
         "y": [
          21,
          28
         ]
        },
        {
         "line": {
          "color": "rgb(94, 201, 97)",
          "width": 2
         },
         "mode": "lines+markers",
         "name": "Action 7",
         "showlegend": false,
         "type": "scatter",
         "x": [
          6,
          7
         ],
         "y": [
          28,
          35
         ]
        },
        {
         "line": {
          "color": "rgb(94, 201, 97)",
          "width": 2
         },
         "mode": "lines+markers",
         "name": "Action 7",
         "showlegend": false,
         "type": "scatter",
         "x": [
          6,
          7
         ],
         "y": [
          29,
          36
         ]
        },
        {
         "line": {
          "color": "rgb(94, 201, 97)",
          "width": 2
         },
         "mode": "lines+markers",
         "name": "Action 7",
         "showlegend": false,
         "type": "scatter",
         "x": [
          6,
          7
         ],
         "y": [
          30,
          37
         ]
        },
        {
         "line": {
          "color": "rgb(94, 201, 97)",
          "width": 2
         },
         "mode": "lines+markers",
         "name": "Action 7",
         "showlegend": false,
         "type": "scatter",
         "x": [
          6,
          7
         ],
         "y": [
          31,
          38
         ]
        },
        {
         "line": {
          "color": "rgb(94, 201, 97)",
          "width": 2
         },
         "mode": "lines+markers",
         "name": "Action 7",
         "showlegend": false,
         "type": "scatter",
         "x": [
          6,
          7
         ],
         "y": [
          32,
          39
         ]
        },
        {
         "line": {
          "color": "rgb(94, 201, 97)",
          "width": 2
         },
         "mode": "lines+markers",
         "name": "Action 7",
         "showlegend": false,
         "type": "scatter",
         "x": [
          6,
          7
         ],
         "y": [
          33,
          40
         ]
        },
        {
         "line": {
          "color": "rgb(94, 201, 97)",
          "width": 2
         },
         "mode": "lines+markers",
         "name": "Action 7",
         "showlegend": false,
         "type": "scatter",
         "x": [
          6,
          7
         ],
         "y": [
          35,
          42
         ]
        },
        {
         "line": {
          "color": "rgb(94, 201, 97)",
          "width": 2
         },
         "mode": "lines+markers",
         "name": "Action 7",
         "showlegend": false,
         "type": "scatter",
         "x": [
          6,
          7
         ],
         "y": [
          36,
          43
         ]
        },
        {
         "line": {
          "color": "rgb(94, 201, 97)",
          "width": 2
         },
         "mode": "lines+markers",
         "name": "Action 7",
         "showlegend": false,
         "type": "scatter",
         "x": [
          6,
          7
         ],
         "y": [
          37,
          44
         ]
        },
        {
         "line": {
          "color": "rgb(94, 201, 97)",
          "width": 2
         },
         "mode": "lines+markers",
         "name": "Action 7",
         "showlegend": false,
         "type": "scatter",
         "x": [
          6,
          7
         ],
         "y": [
          38,
          45
         ]
        },
        {
         "line": {
          "color": "rgb(94, 201, 97)",
          "width": 2
         },
         "mode": "lines+markers",
         "name": "Action 7",
         "showlegend": false,
         "type": "scatter",
         "x": [
          6,
          7
         ],
         "y": [
          40,
          47
         ]
        },
        {
         "line": {
          "color": "rgb(94, 201, 97)",
          "width": 2
         },
         "mode": "lines+markers",
         "name": "Action 7",
         "showlegend": false,
         "type": "scatter",
         "x": [
          6,
          7
         ],
         "y": [
          41,
          48
         ]
        },
        {
         "line": {
          "color": "rgb(94, 201, 97)",
          "width": 2
         },
         "mode": "lines+markers",
         "name": "Action 7",
         "showlegend": false,
         "type": "scatter",
         "x": [
          6,
          7
         ],
         "y": [
          44,
          51
         ]
        },
        {
         "line": {
          "color": "rgb(94, 201, 97)",
          "width": 2
         },
         "mode": "lines+markers",
         "name": "Action 7",
         "showlegend": false,
         "type": "scatter",
         "x": [
          6,
          7
         ],
         "y": [
          46,
          53
         ]
        },
        {
         "line": {
          "color": "rgb(94, 201, 97)",
          "width": 2
         },
         "mode": "lines+markers",
         "name": "Action 7",
         "showlegend": false,
         "type": "scatter",
         "x": [
          7,
          8
         ],
         "y": [
          4,
          11
         ]
        },
        {
         "line": {
          "color": "rgb(94, 201, 97)",
          "width": 2
         },
         "mode": "lines+markers",
         "name": "Action 7",
         "showlegend": false,
         "type": "scatter",
         "x": [
          7,
          8
         ],
         "y": [
          8,
          15
         ]
        },
        {
         "line": {
          "color": "rgb(94, 201, 97)",
          "width": 2
         },
         "mode": "lines+markers",
         "name": "Action 7",
         "showlegend": false,
         "type": "scatter",
         "x": [
          7,
          8
         ],
         "y": [
          9,
          16
         ]
        },
        {
         "line": {
          "color": "rgb(94, 201, 97)",
          "width": 2
         },
         "mode": "lines+markers",
         "name": "Action 7",
         "showlegend": false,
         "type": "scatter",
         "x": [
          7,
          8
         ],
         "y": [
          21,
          28
         ]
        },
        {
         "line": {
          "color": "rgb(94, 201, 97)",
          "width": 2
         },
         "mode": "lines+markers",
         "name": "Action 7",
         "showlegend": false,
         "type": "scatter",
         "x": [
          7,
          8
         ],
         "y": [
          39,
          46
         ]
        },
        {
         "line": {
          "color": "rgb(94, 201, 97)",
          "width": 2
         },
         "mode": "lines+markers",
         "name": "Action 7",
         "showlegend": false,
         "type": "scatter",
         "x": [
          7,
          8
         ],
         "y": [
          45,
          52
         ]
        },
        {
         "line": {
          "color": "rgb(94, 201, 97)",
          "width": 2
         },
         "mode": "lines+markers",
         "name": "Action 7",
         "showlegend": false,
         "type": "scatter",
         "x": [
          7,
          8
         ],
         "y": [
          47,
          54
         ]
        },
        {
         "line": {
          "color": "rgb(94, 201, 97)",
          "width": 2
         },
         "mode": "lines+markers",
         "name": "Action 7",
         "showlegend": false,
         "type": "scatter",
         "x": [
          7,
          8
         ],
         "y": [
          48,
          55
         ]
        },
        {
         "line": {
          "color": "rgb(94, 201, 97)",
          "width": 2
         },
         "mode": "lines+markers",
         "name": "Action 7",
         "showlegend": false,
         "type": "scatter",
         "x": [
          7,
          8
         ],
         "y": [
          49,
          56
         ]
        },
        {
         "line": {
          "color": "rgb(94, 201, 97)",
          "width": 2
         },
         "mode": "lines+markers",
         "name": "Action 7",
         "showlegend": false,
         "type": "scatter",
         "x": [
          7,
          8
         ],
         "y": [
          50,
          57
         ]
        },
        {
         "line": {
          "color": "rgb(94, 201, 97)",
          "width": 2
         },
         "mode": "lines+markers",
         "name": "Action 7",
         "showlegend": false,
         "type": "scatter",
         "x": [
          7,
          8
         ],
         "y": [
          51,
          58
         ]
        },
        {
         "line": {
          "color": "rgb(253, 231, 36)",
          "width": 2
         },
         "mode": "lines+markers",
         "name": "Action 17",
         "type": "scatter",
         "x": [
          5,
          6
         ],
         "y": [
          99,
          100
         ]
        },
        {
         "line": {
          "color": "rgb(253, 231, 36)",
          "width": 2
         },
         "mode": "lines+markers",
         "name": "Action 17",
         "showlegend": false,
         "type": "scatter",
         "x": [
          6,
          7
         ],
         "y": [
          2,
          19
         ]
        },
        {
         "line": {
          "color": "rgb(253, 231, 36)",
          "width": 2
         },
         "mode": "lines+markers",
         "name": "Action 17",
         "showlegend": false,
         "type": "scatter",
         "x": [
          7,
          8
         ],
         "y": [
          11,
          28
         ]
        },
        {
         "line": {
          "color": "rgb(253, 231, 36)",
          "width": 2
         },
         "mode": "lines+markers",
         "name": "Action 17",
         "showlegend": false,
         "type": "scatter",
         "x": [
          7,
          8
         ],
         "y": [
          15,
          32
         ]
        },
        {
         "line": {
          "color": "rgb(253, 231, 36)",
          "width": 2
         },
         "mode": "lines+markers",
         "name": "Action 17",
         "showlegend": false,
         "type": "scatter",
         "x": [
          7,
          8
         ],
         "y": [
          17,
          34
         ]
        },
        {
         "line": {
          "color": "rgb(253, 231, 36)",
          "width": 2
         },
         "mode": "lines+markers",
         "name": "Action 17",
         "showlegend": false,
         "type": "scatter",
         "x": [
          7,
          8
         ],
         "y": [
          20,
          37
         ]
        },
        {
         "line": {
          "color": "rgb(253, 231, 36)",
          "width": 2
         },
         "mode": "lines+markers",
         "name": "Action 17",
         "showlegend": false,
         "type": "scatter",
         "x": [
          7,
          8
         ],
         "y": [
          25,
          42
         ]
        }
       ],
       "layout": {
        "template": {
         "data": {
          "bar": [
           {
            "error_x": {
             "color": "#2a3f5f"
            },
            "error_y": {
             "color": "#2a3f5f"
            },
            "marker": {
             "line": {
              "color": "#E5ECF6",
              "width": 0.5
             },
             "pattern": {
              "fillmode": "overlay",
              "size": 10,
              "solidity": 0.2
             }
            },
            "type": "bar"
           }
          ],
          "barpolar": [
           {
            "marker": {
             "line": {
              "color": "#E5ECF6",
              "width": 0.5
             },
             "pattern": {
              "fillmode": "overlay",
              "size": 10,
              "solidity": 0.2
             }
            },
            "type": "barpolar"
           }
          ],
          "carpet": [
           {
            "aaxis": {
             "endlinecolor": "#2a3f5f",
             "gridcolor": "white",
             "linecolor": "white",
             "minorgridcolor": "white",
             "startlinecolor": "#2a3f5f"
            },
            "baxis": {
             "endlinecolor": "#2a3f5f",
             "gridcolor": "white",
             "linecolor": "white",
             "minorgridcolor": "white",
             "startlinecolor": "#2a3f5f"
            },
            "type": "carpet"
           }
          ],
          "choropleth": [
           {
            "colorbar": {
             "outlinewidth": 0,
             "ticks": ""
            },
            "type": "choropleth"
           }
          ],
          "contour": [
           {
            "colorbar": {
             "outlinewidth": 0,
             "ticks": ""
            },
            "colorscale": [
             [
              0,
              "#0d0887"
             ],
             [
              0.1111111111111111,
              "#46039f"
             ],
             [
              0.2222222222222222,
              "#7201a8"
             ],
             [
              0.3333333333333333,
              "#9c179e"
             ],
             [
              0.4444444444444444,
              "#bd3786"
             ],
             [
              0.5555555555555556,
              "#d8576b"
             ],
             [
              0.6666666666666666,
              "#ed7953"
             ],
             [
              0.7777777777777778,
              "#fb9f3a"
             ],
             [
              0.8888888888888888,
              "#fdca26"
             ],
             [
              1,
              "#f0f921"
             ]
            ],
            "type": "contour"
           }
          ],
          "contourcarpet": [
           {
            "colorbar": {
             "outlinewidth": 0,
             "ticks": ""
            },
            "type": "contourcarpet"
           }
          ],
          "heatmap": [
           {
            "colorbar": {
             "outlinewidth": 0,
             "ticks": ""
            },
            "colorscale": [
             [
              0,
              "#0d0887"
             ],
             [
              0.1111111111111111,
              "#46039f"
             ],
             [
              0.2222222222222222,
              "#7201a8"
             ],
             [
              0.3333333333333333,
              "#9c179e"
             ],
             [
              0.4444444444444444,
              "#bd3786"
             ],
             [
              0.5555555555555556,
              "#d8576b"
             ],
             [
              0.6666666666666666,
              "#ed7953"
             ],
             [
              0.7777777777777778,
              "#fb9f3a"
             ],
             [
              0.8888888888888888,
              "#fdca26"
             ],
             [
              1,
              "#f0f921"
             ]
            ],
            "type": "heatmap"
           }
          ],
          "heatmapgl": [
           {
            "colorbar": {
             "outlinewidth": 0,
             "ticks": ""
            },
            "colorscale": [
             [
              0,
              "#0d0887"
             ],
             [
              0.1111111111111111,
              "#46039f"
             ],
             [
              0.2222222222222222,
              "#7201a8"
             ],
             [
              0.3333333333333333,
              "#9c179e"
             ],
             [
              0.4444444444444444,
              "#bd3786"
             ],
             [
              0.5555555555555556,
              "#d8576b"
             ],
             [
              0.6666666666666666,
              "#ed7953"
             ],
             [
              0.7777777777777778,
              "#fb9f3a"
             ],
             [
              0.8888888888888888,
              "#fdca26"
             ],
             [
              1,
              "#f0f921"
             ]
            ],
            "type": "heatmapgl"
           }
          ],
          "histogram": [
           {
            "marker": {
             "pattern": {
              "fillmode": "overlay",
              "size": 10,
              "solidity": 0.2
             }
            },
            "type": "histogram"
           }
          ],
          "histogram2d": [
           {
            "colorbar": {
             "outlinewidth": 0,
             "ticks": ""
            },
            "colorscale": [
             [
              0,
              "#0d0887"
             ],
             [
              0.1111111111111111,
              "#46039f"
             ],
             [
              0.2222222222222222,
              "#7201a8"
             ],
             [
              0.3333333333333333,
              "#9c179e"
             ],
             [
              0.4444444444444444,
              "#bd3786"
             ],
             [
              0.5555555555555556,
              "#d8576b"
             ],
             [
              0.6666666666666666,
              "#ed7953"
             ],
             [
              0.7777777777777778,
              "#fb9f3a"
             ],
             [
              0.8888888888888888,
              "#fdca26"
             ],
             [
              1,
              "#f0f921"
             ]
            ],
            "type": "histogram2d"
           }
          ],
          "histogram2dcontour": [
           {
            "colorbar": {
             "outlinewidth": 0,
             "ticks": ""
            },
            "colorscale": [
             [
              0,
              "#0d0887"
             ],
             [
              0.1111111111111111,
              "#46039f"
             ],
             [
              0.2222222222222222,
              "#7201a8"
             ],
             [
              0.3333333333333333,
              "#9c179e"
             ],
             [
              0.4444444444444444,
              "#bd3786"
             ],
             [
              0.5555555555555556,
              "#d8576b"
             ],
             [
              0.6666666666666666,
              "#ed7953"
             ],
             [
              0.7777777777777778,
              "#fb9f3a"
             ],
             [
              0.8888888888888888,
              "#fdca26"
             ],
             [
              1,
              "#f0f921"
             ]
            ],
            "type": "histogram2dcontour"
           }
          ],
          "mesh3d": [
           {
            "colorbar": {
             "outlinewidth": 0,
             "ticks": ""
            },
            "type": "mesh3d"
           }
          ],
          "parcoords": [
           {
            "line": {
             "colorbar": {
              "outlinewidth": 0,
              "ticks": ""
             }
            },
            "type": "parcoords"
           }
          ],
          "pie": [
           {
            "automargin": true,
            "type": "pie"
           }
          ],
          "scatter": [
           {
            "fillpattern": {
             "fillmode": "overlay",
             "size": 10,
             "solidity": 0.2
            },
            "type": "scatter"
           }
          ],
          "scatter3d": [
           {
            "line": {
             "colorbar": {
              "outlinewidth": 0,
              "ticks": ""
             }
            },
            "marker": {
             "colorbar": {
              "outlinewidth": 0,
              "ticks": ""
             }
            },
            "type": "scatter3d"
           }
          ],
          "scattercarpet": [
           {
            "marker": {
             "colorbar": {
              "outlinewidth": 0,
              "ticks": ""
             }
            },
            "type": "scattercarpet"
           }
          ],
          "scattergeo": [
           {
            "marker": {
             "colorbar": {
              "outlinewidth": 0,
              "ticks": ""
             }
            },
            "type": "scattergeo"
           }
          ],
          "scattergl": [
           {
            "marker": {
             "colorbar": {
              "outlinewidth": 0,
              "ticks": ""
             }
            },
            "type": "scattergl"
           }
          ],
          "scattermapbox": [
           {
            "marker": {
             "colorbar": {
              "outlinewidth": 0,
              "ticks": ""
             }
            },
            "type": "scattermapbox"
           }
          ],
          "scatterpolar": [
           {
            "marker": {
             "colorbar": {
              "outlinewidth": 0,
              "ticks": ""
             }
            },
            "type": "scatterpolar"
           }
          ],
          "scatterpolargl": [
           {
            "marker": {
             "colorbar": {
              "outlinewidth": 0,
              "ticks": ""
             }
            },
            "type": "scatterpolargl"
           }
          ],
          "scatterternary": [
           {
            "marker": {
             "colorbar": {
              "outlinewidth": 0,
              "ticks": ""
             }
            },
            "type": "scatterternary"
           }
          ],
          "surface": [
           {
            "colorbar": {
             "outlinewidth": 0,
             "ticks": ""
            },
            "colorscale": [
             [
              0,
              "#0d0887"
             ],
             [
              0.1111111111111111,
              "#46039f"
             ],
             [
              0.2222222222222222,
              "#7201a8"
             ],
             [
              0.3333333333333333,
              "#9c179e"
             ],
             [
              0.4444444444444444,
              "#bd3786"
             ],
             [
              0.5555555555555556,
              "#d8576b"
             ],
             [
              0.6666666666666666,
              "#ed7953"
             ],
             [
              0.7777777777777778,
              "#fb9f3a"
             ],
             [
              0.8888888888888888,
              "#fdca26"
             ],
             [
              1,
              "#f0f921"
             ]
            ],
            "type": "surface"
           }
          ],
          "table": [
           {
            "cells": {
             "fill": {
              "color": "#EBF0F8"
             },
             "line": {
              "color": "white"
             }
            },
            "header": {
             "fill": {
              "color": "#C8D4E3"
             },
             "line": {
              "color": "white"
             }
            },
            "type": "table"
           }
          ]
         },
         "layout": {
          "annotationdefaults": {
           "arrowcolor": "#2a3f5f",
           "arrowhead": 0,
           "arrowwidth": 1
          },
          "autotypenumbers": "strict",
          "coloraxis": {
           "colorbar": {
            "outlinewidth": 0,
            "ticks": ""
           }
          },
          "colorscale": {
           "diverging": [
            [
             0,
             "#8e0152"
            ],
            [
             0.1,
             "#c51b7d"
            ],
            [
             0.2,
             "#de77ae"
            ],
            [
             0.3,
             "#f1b6da"
            ],
            [
             0.4,
             "#fde0ef"
            ],
            [
             0.5,
             "#f7f7f7"
            ],
            [
             0.6,
             "#e6f5d0"
            ],
            [
             0.7,
             "#b8e186"
            ],
            [
             0.8,
             "#7fbc41"
            ],
            [
             0.9,
             "#4d9221"
            ],
            [
             1,
             "#276419"
            ]
           ],
           "sequential": [
            [
             0,
             "#0d0887"
            ],
            [
             0.1111111111111111,
             "#46039f"
            ],
            [
             0.2222222222222222,
             "#7201a8"
            ],
            [
             0.3333333333333333,
             "#9c179e"
            ],
            [
             0.4444444444444444,
             "#bd3786"
            ],
            [
             0.5555555555555556,
             "#d8576b"
            ],
            [
             0.6666666666666666,
             "#ed7953"
            ],
            [
             0.7777777777777778,
             "#fb9f3a"
            ],
            [
             0.8888888888888888,
             "#fdca26"
            ],
            [
             1,
             "#f0f921"
            ]
           ],
           "sequentialminus": [
            [
             0,
             "#0d0887"
            ],
            [
             0.1111111111111111,
             "#46039f"
            ],
            [
             0.2222222222222222,
             "#7201a8"
            ],
            [
             0.3333333333333333,
             "#9c179e"
            ],
            [
             0.4444444444444444,
             "#bd3786"
            ],
            [
             0.5555555555555556,
             "#d8576b"
            ],
            [
             0.6666666666666666,
             "#ed7953"
            ],
            [
             0.7777777777777778,
             "#fb9f3a"
            ],
            [
             0.8888888888888888,
             "#fdca26"
            ],
            [
             1,
             "#f0f921"
            ]
           ]
          },
          "colorway": [
           "#636efa",
           "#EF553B",
           "#00cc96",
           "#ab63fa",
           "#FFA15A",
           "#19d3f3",
           "#FF6692",
           "#B6E880",
           "#FF97FF",
           "#FECB52"
          ],
          "font": {
           "color": "#2a3f5f"
          },
          "geo": {
           "bgcolor": "white",
           "lakecolor": "white",
           "landcolor": "#E5ECF6",
           "showlakes": true,
           "showland": true,
           "subunitcolor": "white"
          },
          "hoverlabel": {
           "align": "left"
          },
          "hovermode": "closest",
          "mapbox": {
           "style": "light"
          },
          "paper_bgcolor": "white",
          "plot_bgcolor": "#E5ECF6",
          "polar": {
           "angularaxis": {
            "gridcolor": "white",
            "linecolor": "white",
            "ticks": ""
           },
           "bgcolor": "#E5ECF6",
           "radialaxis": {
            "gridcolor": "white",
            "linecolor": "white",
            "ticks": ""
           }
          },
          "scene": {
           "xaxis": {
            "backgroundcolor": "#E5ECF6",
            "gridcolor": "white",
            "gridwidth": 2,
            "linecolor": "white",
            "showbackground": true,
            "ticks": "",
            "zerolinecolor": "white"
           },
           "yaxis": {
            "backgroundcolor": "#E5ECF6",
            "gridcolor": "white",
            "gridwidth": 2,
            "linecolor": "white",
            "showbackground": true,
            "ticks": "",
            "zerolinecolor": "white"
           },
           "zaxis": {
            "backgroundcolor": "#E5ECF6",
            "gridcolor": "white",
            "gridwidth": 2,
            "linecolor": "white",
            "showbackground": true,
            "ticks": "",
            "zerolinecolor": "white"
           }
          },
          "shapedefaults": {
           "line": {
            "color": "#2a3f5f"
           }
          },
          "ternary": {
           "aaxis": {
            "gridcolor": "white",
            "linecolor": "white",
            "ticks": ""
           },
           "baxis": {
            "gridcolor": "white",
            "linecolor": "white",
            "ticks": ""
           },
           "bgcolor": "#E5ECF6",
           "caxis": {
            "gridcolor": "white",
            "linecolor": "white",
            "ticks": ""
           }
          },
          "title": {
           "x": 0.05
          },
          "xaxis": {
           "automargin": true,
           "gridcolor": "white",
           "linecolor": "white",
           "ticks": "",
           "title": {
            "standoff": 15
           },
           "zerolinecolor": "white",
           "zerolinewidth": 2
          },
          "yaxis": {
           "automargin": true,
           "gridcolor": "white",
           "linecolor": "white",
           "ticks": "",
           "title": {
            "standoff": 15
           },
           "zerolinecolor": "white",
           "zerolinewidth": 2
          }
         }
        },
        "title": {
         "text": "Battery Level Transitions Over Time"
        },
        "xaxis": {
         "title": {
          "text": "Time"
         }
        },
        "yaxis": {
         "title": {
          "text": "Battery Level"
         }
        }
       }
      },
      "text/html": [
       "<div>                            <div id=\"3514145c-4d7d-4549-8324-8687bd032f6c\" class=\"plotly-graph-div\" style=\"height:525px; width:100%;\"></div>            <script type=\"text/javascript\">                require([\"plotly\"], function(Plotly) {                    window.PLOTLYENV=window.PLOTLYENV || {};                                    if (document.getElementById(\"3514145c-4d7d-4549-8324-8687bd032f6c\")) {                    Plotly.newPlot(                        \"3514145c-4d7d-4549-8324-8687bd032f6c\",                        [{\"line\":{\"color\":\"rgb(68, 1, 84)\",\"width\":2},\"mode\":\"lines+markers\",\"name\":\"Action 0\",\"x\":[0,1],\"y\":[0,0],\"type\":\"scatter\"},{\"line\":{\"color\":\"rgb(68, 1, 84)\",\"width\":2},\"mode\":\"lines+markers\",\"name\":\"Action 0\",\"showlegend\":false,\"x\":[0,1],\"y\":[1,1],\"type\":\"scatter\"},{\"line\":{\"color\":\"rgb(68, 1, 84)\",\"width\":2},\"mode\":\"lines+markers\",\"name\":\"Action 0\",\"showlegend\":false,\"x\":[0,1],\"y\":[2,2],\"type\":\"scatter\"},{\"line\":{\"color\":\"rgb(68, 1, 84)\",\"width\":2},\"mode\":\"lines+markers\",\"name\":\"Action 0\",\"showlegend\":false,\"x\":[0,1],\"y\":[3,3],\"type\":\"scatter\"},{\"line\":{\"color\":\"rgb(68, 1, 84)\",\"width\":2},\"mode\":\"lines+markers\",\"name\":\"Action 0\",\"showlegend\":false,\"x\":[0,1],\"y\":[4,4],\"type\":\"scatter\"},{\"line\":{\"color\":\"rgb(68, 1, 84)\",\"width\":2},\"mode\":\"lines+markers\",\"name\":\"Action 0\",\"showlegend\":false,\"x\":[0,1],\"y\":[5,5],\"type\":\"scatter\"},{\"line\":{\"color\":\"rgb(68, 1, 84)\",\"width\":2},\"mode\":\"lines+markers\",\"name\":\"Action 0\",\"showlegend\":false,\"x\":[0,1],\"y\":[6,6],\"type\":\"scatter\"},{\"line\":{\"color\":\"rgb(68, 1, 84)\",\"width\":2},\"mode\":\"lines+markers\",\"name\":\"Action 0\",\"showlegend\":false,\"x\":[0,1],\"y\":[7,7],\"type\":\"scatter\"},{\"line\":{\"color\":\"rgb(68, 1, 84)\",\"width\":2},\"mode\":\"lines+markers\",\"name\":\"Action 0\",\"showlegend\":false,\"x\":[0,1],\"y\":[8,8],\"type\":\"scatter\"},{\"line\":{\"color\":\"rgb(68, 1, 84)\",\"width\":2},\"mode\":\"lines+markers\",\"name\":\"Action 0\",\"showlegend\":false,\"x\":[0,1],\"y\":[9,9],\"type\":\"scatter\"},{\"line\":{\"color\":\"rgb(68, 1, 84)\",\"width\":2},\"mode\":\"lines+markers\",\"name\":\"Action 0\",\"showlegend\":false,\"x\":[0,1],\"y\":[10,10],\"type\":\"scatter\"},{\"line\":{\"color\":\"rgb(68, 1, 84)\",\"width\":2},\"mode\":\"lines+markers\",\"name\":\"Action 0\",\"showlegend\":false,\"x\":[0,1],\"y\":[11,11],\"type\":\"scatter\"},{\"line\":{\"color\":\"rgb(68, 1, 84)\",\"width\":2},\"mode\":\"lines+markers\",\"name\":\"Action 0\",\"showlegend\":false,\"x\":[0,1],\"y\":[12,12],\"type\":\"scatter\"},{\"line\":{\"color\":\"rgb(68, 1, 84)\",\"width\":2},\"mode\":\"lines+markers\",\"name\":\"Action 0\",\"showlegend\":false,\"x\":[0,1],\"y\":[13,13],\"type\":\"scatter\"},{\"line\":{\"color\":\"rgb(68, 1, 84)\",\"width\":2},\"mode\":\"lines+markers\",\"name\":\"Action 0\",\"showlegend\":false,\"x\":[0,1],\"y\":[14,14],\"type\":\"scatter\"},{\"line\":{\"color\":\"rgb(68, 1, 84)\",\"width\":2},\"mode\":\"lines+markers\",\"name\":\"Action 0\",\"showlegend\":false,\"x\":[0,1],\"y\":[15,15],\"type\":\"scatter\"},{\"line\":{\"color\":\"rgb(68, 1, 84)\",\"width\":2},\"mode\":\"lines+markers\",\"name\":\"Action 0\",\"showlegend\":false,\"x\":[0,1],\"y\":[16,16],\"type\":\"scatter\"},{\"line\":{\"color\":\"rgb(68, 1, 84)\",\"width\":2},\"mode\":\"lines+markers\",\"name\":\"Action 0\",\"showlegend\":false,\"x\":[0,1],\"y\":[17,17],\"type\":\"scatter\"},{\"line\":{\"color\":\"rgb(68, 1, 84)\",\"width\":2},\"mode\":\"lines+markers\",\"name\":\"Action 0\",\"showlegend\":false,\"x\":[0,1],\"y\":[18,18],\"type\":\"scatter\"},{\"line\":{\"color\":\"rgb(68, 1, 84)\",\"width\":2},\"mode\":\"lines+markers\",\"name\":\"Action 0\",\"showlegend\":false,\"x\":[0,1],\"y\":[19,19],\"type\":\"scatter\"},{\"line\":{\"color\":\"rgb(68, 1, 84)\",\"width\":2},\"mode\":\"lines+markers\",\"name\":\"Action 0\",\"showlegend\":false,\"x\":[0,1],\"y\":[20,20],\"type\":\"scatter\"},{\"line\":{\"color\":\"rgb(68, 1, 84)\",\"width\":2},\"mode\":\"lines+markers\",\"name\":\"Action 0\",\"showlegend\":false,\"x\":[0,1],\"y\":[21,21],\"type\":\"scatter\"},{\"line\":{\"color\":\"rgb(68, 1, 84)\",\"width\":2},\"mode\":\"lines+markers\",\"name\":\"Action 0\",\"showlegend\":false,\"x\":[0,1],\"y\":[22,22],\"type\":\"scatter\"},{\"line\":{\"color\":\"rgb(68, 1, 84)\",\"width\":2},\"mode\":\"lines+markers\",\"name\":\"Action 0\",\"showlegend\":false,\"x\":[0,1],\"y\":[23,23],\"type\":\"scatter\"},{\"line\":{\"color\":\"rgb(68, 1, 84)\",\"width\":2},\"mode\":\"lines+markers\",\"name\":\"Action 0\",\"showlegend\":false,\"x\":[0,1],\"y\":[24,24],\"type\":\"scatter\"},{\"line\":{\"color\":\"rgb(68, 1, 84)\",\"width\":2},\"mode\":\"lines+markers\",\"name\":\"Action 0\",\"showlegend\":false,\"x\":[0,1],\"y\":[25,25],\"type\":\"scatter\"},{\"line\":{\"color\":\"rgb(68, 1, 84)\",\"width\":2},\"mode\":\"lines+markers\",\"name\":\"Action 0\",\"showlegend\":false,\"x\":[0,1],\"y\":[26,26],\"type\":\"scatter\"},{\"line\":{\"color\":\"rgb(68, 1, 84)\",\"width\":2},\"mode\":\"lines+markers\",\"name\":\"Action 0\",\"showlegend\":false,\"x\":[0,1],\"y\":[27,27],\"type\":\"scatter\"},{\"line\":{\"color\":\"rgb(68, 1, 84)\",\"width\":2},\"mode\":\"lines+markers\",\"name\":\"Action 0\",\"showlegend\":false,\"x\":[0,1],\"y\":[28,28],\"type\":\"scatter\"},{\"line\":{\"color\":\"rgb(68, 1, 84)\",\"width\":2},\"mode\":\"lines+markers\",\"name\":\"Action 0\",\"showlegend\":false,\"x\":[0,1],\"y\":[29,29],\"type\":\"scatter\"},{\"line\":{\"color\":\"rgb(68, 1, 84)\",\"width\":2},\"mode\":\"lines+markers\",\"name\":\"Action 0\",\"showlegend\":false,\"x\":[0,1],\"y\":[30,30],\"type\":\"scatter\"},{\"line\":{\"color\":\"rgb(68, 1, 84)\",\"width\":2},\"mode\":\"lines+markers\",\"name\":\"Action 0\",\"showlegend\":false,\"x\":[0,1],\"y\":[31,31],\"type\":\"scatter\"},{\"line\":{\"color\":\"rgb(68, 1, 84)\",\"width\":2},\"mode\":\"lines+markers\",\"name\":\"Action 0\",\"showlegend\":false,\"x\":[0,1],\"y\":[32,32],\"type\":\"scatter\"},{\"line\":{\"color\":\"rgb(68, 1, 84)\",\"width\":2},\"mode\":\"lines+markers\",\"name\":\"Action 0\",\"showlegend\":false,\"x\":[0,1],\"y\":[33,33],\"type\":\"scatter\"},{\"line\":{\"color\":\"rgb(68, 1, 84)\",\"width\":2},\"mode\":\"lines+markers\",\"name\":\"Action 0\",\"showlegend\":false,\"x\":[0,1],\"y\":[34,34],\"type\":\"scatter\"},{\"line\":{\"color\":\"rgb(68, 1, 84)\",\"width\":2},\"mode\":\"lines+markers\",\"name\":\"Action 0\",\"showlegend\":false,\"x\":[0,1],\"y\":[35,35],\"type\":\"scatter\"},{\"line\":{\"color\":\"rgb(68, 1, 84)\",\"width\":2},\"mode\":\"lines+markers\",\"name\":\"Action 0\",\"showlegend\":false,\"x\":[0,1],\"y\":[36,36],\"type\":\"scatter\"},{\"line\":{\"color\":\"rgb(68, 1, 84)\",\"width\":2},\"mode\":\"lines+markers\",\"name\":\"Action 0\",\"showlegend\":false,\"x\":[0,1],\"y\":[37,37],\"type\":\"scatter\"},{\"line\":{\"color\":\"rgb(68, 1, 84)\",\"width\":2},\"mode\":\"lines+markers\",\"name\":\"Action 0\",\"showlegend\":false,\"x\":[0,1],\"y\":[38,38],\"type\":\"scatter\"},{\"line\":{\"color\":\"rgb(68, 1, 84)\",\"width\":2},\"mode\":\"lines+markers\",\"name\":\"Action 0\",\"showlegend\":false,\"x\":[0,1],\"y\":[39,39],\"type\":\"scatter\"},{\"line\":{\"color\":\"rgb(68, 1, 84)\",\"width\":2},\"mode\":\"lines+markers\",\"name\":\"Action 0\",\"showlegend\":false,\"x\":[0,1],\"y\":[40,40],\"type\":\"scatter\"},{\"line\":{\"color\":\"rgb(68, 1, 84)\",\"width\":2},\"mode\":\"lines+markers\",\"name\":\"Action 0\",\"showlegend\":false,\"x\":[0,1],\"y\":[41,41],\"type\":\"scatter\"},{\"line\":{\"color\":\"rgb(68, 1, 84)\",\"width\":2},\"mode\":\"lines+markers\",\"name\":\"Action 0\",\"showlegend\":false,\"x\":[0,1],\"y\":[42,42],\"type\":\"scatter\"},{\"line\":{\"color\":\"rgb(68, 1, 84)\",\"width\":2},\"mode\":\"lines+markers\",\"name\":\"Action 0\",\"showlegend\":false,\"x\":[0,1],\"y\":[43,43],\"type\":\"scatter\"},{\"line\":{\"color\":\"rgb(68, 1, 84)\",\"width\":2},\"mode\":\"lines+markers\",\"name\":\"Action 0\",\"showlegend\":false,\"x\":[0,1],\"y\":[44,44],\"type\":\"scatter\"},{\"line\":{\"color\":\"rgb(68, 1, 84)\",\"width\":2},\"mode\":\"lines+markers\",\"name\":\"Action 0\",\"showlegend\":false,\"x\":[0,1],\"y\":[45,45],\"type\":\"scatter\"},{\"line\":{\"color\":\"rgb(68, 1, 84)\",\"width\":2},\"mode\":\"lines+markers\",\"name\":\"Action 0\",\"showlegend\":false,\"x\":[0,1],\"y\":[46,46],\"type\":\"scatter\"},{\"line\":{\"color\":\"rgb(68, 1, 84)\",\"width\":2},\"mode\":\"lines+markers\",\"name\":\"Action 0\",\"showlegend\":false,\"x\":[0,1],\"y\":[47,47],\"type\":\"scatter\"},{\"line\":{\"color\":\"rgb(68, 1, 84)\",\"width\":2},\"mode\":\"lines+markers\",\"name\":\"Action 0\",\"showlegend\":false,\"x\":[0,1],\"y\":[48,48],\"type\":\"scatter\"},{\"line\":{\"color\":\"rgb(68, 1, 84)\",\"width\":2},\"mode\":\"lines+markers\",\"name\":\"Action 0\",\"showlegend\":false,\"x\":[0,1],\"y\":[49,49],\"type\":\"scatter\"},{\"line\":{\"color\":\"rgb(68, 1, 84)\",\"width\":2},\"mode\":\"lines+markers\",\"name\":\"Action 0\",\"showlegend\":false,\"x\":[0,1],\"y\":[50,50],\"type\":\"scatter\"},{\"line\":{\"color\":\"rgb(68, 1, 84)\",\"width\":2},\"mode\":\"lines+markers\",\"name\":\"Action 0\",\"showlegend\":false,\"x\":[0,1],\"y\":[51,51],\"type\":\"scatter\"},{\"line\":{\"color\":\"rgb(68, 1, 84)\",\"width\":2},\"mode\":\"lines+markers\",\"name\":\"Action 0\",\"showlegend\":false,\"x\":[0,1],\"y\":[52,52],\"type\":\"scatter\"},{\"line\":{\"color\":\"rgb(68, 1, 84)\",\"width\":2},\"mode\":\"lines+markers\",\"name\":\"Action 0\",\"showlegend\":false,\"x\":[0,1],\"y\":[53,53],\"type\":\"scatter\"},{\"line\":{\"color\":\"rgb(68, 1, 84)\",\"width\":2},\"mode\":\"lines+markers\",\"name\":\"Action 0\",\"showlegend\":false,\"x\":[0,1],\"y\":[54,54],\"type\":\"scatter\"},{\"line\":{\"color\":\"rgb(68, 1, 84)\",\"width\":2},\"mode\":\"lines+markers\",\"name\":\"Action 0\",\"showlegend\":false,\"x\":[0,1],\"y\":[55,55],\"type\":\"scatter\"},{\"line\":{\"color\":\"rgb(68, 1, 84)\",\"width\":2},\"mode\":\"lines+markers\",\"name\":\"Action 0\",\"showlegend\":false,\"x\":[0,1],\"y\":[56,56],\"type\":\"scatter\"},{\"line\":{\"color\":\"rgb(68, 1, 84)\",\"width\":2},\"mode\":\"lines+markers\",\"name\":\"Action 0\",\"showlegend\":false,\"x\":[0,1],\"y\":[57,57],\"type\":\"scatter\"},{\"line\":{\"color\":\"rgb(68, 1, 84)\",\"width\":2},\"mode\":\"lines+markers\",\"name\":\"Action 0\",\"showlegend\":false,\"x\":[0,1],\"y\":[58,58],\"type\":\"scatter\"},{\"line\":{\"color\":\"rgb(68, 1, 84)\",\"width\":2},\"mode\":\"lines+markers\",\"name\":\"Action 0\",\"showlegend\":false,\"x\":[0,1],\"y\":[59,59],\"type\":\"scatter\"},{\"line\":{\"color\":\"rgb(68, 1, 84)\",\"width\":2},\"mode\":\"lines+markers\",\"name\":\"Action 0\",\"showlegend\":false,\"x\":[0,1],\"y\":[60,60],\"type\":\"scatter\"},{\"line\":{\"color\":\"rgb(68, 1, 84)\",\"width\":2},\"mode\":\"lines+markers\",\"name\":\"Action 0\",\"showlegend\":false,\"x\":[0,1],\"y\":[61,61],\"type\":\"scatter\"},{\"line\":{\"color\":\"rgb(68, 1, 84)\",\"width\":2},\"mode\":\"lines+markers\",\"name\":\"Action 0\",\"showlegend\":false,\"x\":[0,1],\"y\":[62,62],\"type\":\"scatter\"},{\"line\":{\"color\":\"rgb(68, 1, 84)\",\"width\":2},\"mode\":\"lines+markers\",\"name\":\"Action 0\",\"showlegend\":false,\"x\":[0,1],\"y\":[63,63],\"type\":\"scatter\"},{\"line\":{\"color\":\"rgb(68, 1, 84)\",\"width\":2},\"mode\":\"lines+markers\",\"name\":\"Action 0\",\"showlegend\":false,\"x\":[0,1],\"y\":[64,64],\"type\":\"scatter\"},{\"line\":{\"color\":\"rgb(68, 1, 84)\",\"width\":2},\"mode\":\"lines+markers\",\"name\":\"Action 0\",\"showlegend\":false,\"x\":[0,1],\"y\":[65,65],\"type\":\"scatter\"},{\"line\":{\"color\":\"rgb(68, 1, 84)\",\"width\":2},\"mode\":\"lines+markers\",\"name\":\"Action 0\",\"showlegend\":false,\"x\":[0,1],\"y\":[66,66],\"type\":\"scatter\"},{\"line\":{\"color\":\"rgb(68, 1, 84)\",\"width\":2},\"mode\":\"lines+markers\",\"name\":\"Action 0\",\"showlegend\":false,\"x\":[0,1],\"y\":[67,67],\"type\":\"scatter\"},{\"line\":{\"color\":\"rgb(68, 1, 84)\",\"width\":2},\"mode\":\"lines+markers\",\"name\":\"Action 0\",\"showlegend\":false,\"x\":[0,1],\"y\":[68,68],\"type\":\"scatter\"},{\"line\":{\"color\":\"rgb(68, 1, 84)\",\"width\":2},\"mode\":\"lines+markers\",\"name\":\"Action 0\",\"showlegend\":false,\"x\":[0,1],\"y\":[69,69],\"type\":\"scatter\"},{\"line\":{\"color\":\"rgb(68, 1, 84)\",\"width\":2},\"mode\":\"lines+markers\",\"name\":\"Action 0\",\"showlegend\":false,\"x\":[0,1],\"y\":[70,70],\"type\":\"scatter\"},{\"line\":{\"color\":\"rgb(68, 1, 84)\",\"width\":2},\"mode\":\"lines+markers\",\"name\":\"Action 0\",\"showlegend\":false,\"x\":[0,1],\"y\":[71,71],\"type\":\"scatter\"},{\"line\":{\"color\":\"rgb(68, 1, 84)\",\"width\":2},\"mode\":\"lines+markers\",\"name\":\"Action 0\",\"showlegend\":false,\"x\":[0,1],\"y\":[72,72],\"type\":\"scatter\"},{\"line\":{\"color\":\"rgb(68, 1, 84)\",\"width\":2},\"mode\":\"lines+markers\",\"name\":\"Action 0\",\"showlegend\":false,\"x\":[0,1],\"y\":[73,73],\"type\":\"scatter\"},{\"line\":{\"color\":\"rgb(68, 1, 84)\",\"width\":2},\"mode\":\"lines+markers\",\"name\":\"Action 0\",\"showlegend\":false,\"x\":[0,1],\"y\":[74,74],\"type\":\"scatter\"},{\"line\":{\"color\":\"rgb(68, 1, 84)\",\"width\":2},\"mode\":\"lines+markers\",\"name\":\"Action 0\",\"showlegend\":false,\"x\":[0,1],\"y\":[75,75],\"type\":\"scatter\"},{\"line\":{\"color\":\"rgb(68, 1, 84)\",\"width\":2},\"mode\":\"lines+markers\",\"name\":\"Action 0\",\"showlegend\":false,\"x\":[0,1],\"y\":[76,76],\"type\":\"scatter\"},{\"line\":{\"color\":\"rgb(68, 1, 84)\",\"width\":2},\"mode\":\"lines+markers\",\"name\":\"Action 0\",\"showlegend\":false,\"x\":[0,1],\"y\":[77,77],\"type\":\"scatter\"},{\"line\":{\"color\":\"rgb(68, 1, 84)\",\"width\":2},\"mode\":\"lines+markers\",\"name\":\"Action 0\",\"showlegend\":false,\"x\":[0,1],\"y\":[78,78],\"type\":\"scatter\"},{\"line\":{\"color\":\"rgb(68, 1, 84)\",\"width\":2},\"mode\":\"lines+markers\",\"name\":\"Action 0\",\"showlegend\":false,\"x\":[0,1],\"y\":[79,79],\"type\":\"scatter\"},{\"line\":{\"color\":\"rgb(68, 1, 84)\",\"width\":2},\"mode\":\"lines+markers\",\"name\":\"Action 0\",\"showlegend\":false,\"x\":[0,1],\"y\":[80,80],\"type\":\"scatter\"},{\"line\":{\"color\":\"rgb(68, 1, 84)\",\"width\":2},\"mode\":\"lines+markers\",\"name\":\"Action 0\",\"showlegend\":false,\"x\":[0,1],\"y\":[81,81],\"type\":\"scatter\"},{\"line\":{\"color\":\"rgb(68, 1, 84)\",\"width\":2},\"mode\":\"lines+markers\",\"name\":\"Action 0\",\"showlegend\":false,\"x\":[0,1],\"y\":[82,82],\"type\":\"scatter\"},{\"line\":{\"color\":\"rgb(68, 1, 84)\",\"width\":2},\"mode\":\"lines+markers\",\"name\":\"Action 0\",\"showlegend\":false,\"x\":[0,1],\"y\":[83,83],\"type\":\"scatter\"},{\"line\":{\"color\":\"rgb(68, 1, 84)\",\"width\":2},\"mode\":\"lines+markers\",\"name\":\"Action 0\",\"showlegend\":false,\"x\":[0,1],\"y\":[84,84],\"type\":\"scatter\"},{\"line\":{\"color\":\"rgb(68, 1, 84)\",\"width\":2},\"mode\":\"lines+markers\",\"name\":\"Action 0\",\"showlegend\":false,\"x\":[0,1],\"y\":[85,85],\"type\":\"scatter\"},{\"line\":{\"color\":\"rgb(68, 1, 84)\",\"width\":2},\"mode\":\"lines+markers\",\"name\":\"Action 0\",\"showlegend\":false,\"x\":[0,1],\"y\":[86,86],\"type\":\"scatter\"},{\"line\":{\"color\":\"rgb(68, 1, 84)\",\"width\":2},\"mode\":\"lines+markers\",\"name\":\"Action 0\",\"showlegend\":false,\"x\":[0,1],\"y\":[87,87],\"type\":\"scatter\"},{\"line\":{\"color\":\"rgb(68, 1, 84)\",\"width\":2},\"mode\":\"lines+markers\",\"name\":\"Action 0\",\"showlegend\":false,\"x\":[0,1],\"y\":[88,88],\"type\":\"scatter\"},{\"line\":{\"color\":\"rgb(68, 1, 84)\",\"width\":2},\"mode\":\"lines+markers\",\"name\":\"Action 0\",\"showlegend\":false,\"x\":[0,1],\"y\":[89,89],\"type\":\"scatter\"},{\"line\":{\"color\":\"rgb(68, 1, 84)\",\"width\":2},\"mode\":\"lines+markers\",\"name\":\"Action 0\",\"showlegend\":false,\"x\":[0,1],\"y\":[90,90],\"type\":\"scatter\"},{\"line\":{\"color\":\"rgb(68, 1, 84)\",\"width\":2},\"mode\":\"lines+markers\",\"name\":\"Action 0\",\"showlegend\":false,\"x\":[0,1],\"y\":[91,91],\"type\":\"scatter\"},{\"line\":{\"color\":\"rgb(68, 1, 84)\",\"width\":2},\"mode\":\"lines+markers\",\"name\":\"Action 0\",\"showlegend\":false,\"x\":[0,1],\"y\":[92,92],\"type\":\"scatter\"},{\"line\":{\"color\":\"rgb(68, 1, 84)\",\"width\":2},\"mode\":\"lines+markers\",\"name\":\"Action 0\",\"showlegend\":false,\"x\":[0,1],\"y\":[93,93],\"type\":\"scatter\"},{\"line\":{\"color\":\"rgb(68, 1, 84)\",\"width\":2},\"mode\":\"lines+markers\",\"name\":\"Action 0\",\"showlegend\":false,\"x\":[0,1],\"y\":[94,94],\"type\":\"scatter\"},{\"line\":{\"color\":\"rgb(68, 1, 84)\",\"width\":2},\"mode\":\"lines+markers\",\"name\":\"Action 0\",\"showlegend\":false,\"x\":[0,1],\"y\":[95,95],\"type\":\"scatter\"},{\"line\":{\"color\":\"rgb(68, 1, 84)\",\"width\":2},\"mode\":\"lines+markers\",\"name\":\"Action 0\",\"showlegend\":false,\"x\":[0,1],\"y\":[96,96],\"type\":\"scatter\"},{\"line\":{\"color\":\"rgb(68, 1, 84)\",\"width\":2},\"mode\":\"lines+markers\",\"name\":\"Action 0\",\"showlegend\":false,\"x\":[0,1],\"y\":[97,97],\"type\":\"scatter\"},{\"line\":{\"color\":\"rgb(68, 1, 84)\",\"width\":2},\"mode\":\"lines+markers\",\"name\":\"Action 0\",\"showlegend\":false,\"x\":[0,1],\"y\":[98,98],\"type\":\"scatter\"},{\"line\":{\"color\":\"rgb(68, 1, 84)\",\"width\":2},\"mode\":\"lines+markers\",\"name\":\"Action 0\",\"showlegend\":false,\"x\":[0,1],\"y\":[99,99],\"type\":\"scatter\"},{\"line\":{\"color\":\"rgb(68, 1, 84)\",\"width\":2},\"mode\":\"lines+markers\",\"name\":\"Action 0\",\"showlegend\":false,\"x\":[0,1],\"y\":[100,100],\"type\":\"scatter\"},{\"line\":{\"color\":\"rgb(68, 1, 84)\",\"width\":2},\"mode\":\"lines+markers\",\"name\":\"Action 0\",\"showlegend\":false,\"x\":[1,2],\"y\":[0,0],\"type\":\"scatter\"},{\"line\":{\"color\":\"rgb(68, 1, 84)\",\"width\":2},\"mode\":\"lines+markers\",\"name\":\"Action 0\",\"showlegend\":false,\"x\":[1,2],\"y\":[1,1],\"type\":\"scatter\"},{\"line\":{\"color\":\"rgb(68, 1, 84)\",\"width\":2},\"mode\":\"lines+markers\",\"name\":\"Action 0\",\"showlegend\":false,\"x\":[1,2],\"y\":[2,2],\"type\":\"scatter\"},{\"line\":{\"color\":\"rgb(68, 1, 84)\",\"width\":2},\"mode\":\"lines+markers\",\"name\":\"Action 0\",\"showlegend\":false,\"x\":[1,2],\"y\":[3,3],\"type\":\"scatter\"},{\"line\":{\"color\":\"rgb(68, 1, 84)\",\"width\":2},\"mode\":\"lines+markers\",\"name\":\"Action 0\",\"showlegend\":false,\"x\":[1,2],\"y\":[4,4],\"type\":\"scatter\"},{\"line\":{\"color\":\"rgb(68, 1, 84)\",\"width\":2},\"mode\":\"lines+markers\",\"name\":\"Action 0\",\"showlegend\":false,\"x\":[1,2],\"y\":[5,5],\"type\":\"scatter\"},{\"line\":{\"color\":\"rgb(68, 1, 84)\",\"width\":2},\"mode\":\"lines+markers\",\"name\":\"Action 0\",\"showlegend\":false,\"x\":[1,2],\"y\":[6,6],\"type\":\"scatter\"},{\"line\":{\"color\":\"rgb(68, 1, 84)\",\"width\":2},\"mode\":\"lines+markers\",\"name\":\"Action 0\",\"showlegend\":false,\"x\":[1,2],\"y\":[7,7],\"type\":\"scatter\"},{\"line\":{\"color\":\"rgb(68, 1, 84)\",\"width\":2},\"mode\":\"lines+markers\",\"name\":\"Action 0\",\"showlegend\":false,\"x\":[1,2],\"y\":[8,8],\"type\":\"scatter\"},{\"line\":{\"color\":\"rgb(68, 1, 84)\",\"width\":2},\"mode\":\"lines+markers\",\"name\":\"Action 0\",\"showlegend\":false,\"x\":[1,2],\"y\":[9,9],\"type\":\"scatter\"},{\"line\":{\"color\":\"rgb(68, 1, 84)\",\"width\":2},\"mode\":\"lines+markers\",\"name\":\"Action 0\",\"showlegend\":false,\"x\":[1,2],\"y\":[10,10],\"type\":\"scatter\"},{\"line\":{\"color\":\"rgb(68, 1, 84)\",\"width\":2},\"mode\":\"lines+markers\",\"name\":\"Action 0\",\"showlegend\":false,\"x\":[1,2],\"y\":[11,11],\"type\":\"scatter\"},{\"line\":{\"color\":\"rgb(68, 1, 84)\",\"width\":2},\"mode\":\"lines+markers\",\"name\":\"Action 0\",\"showlegend\":false,\"x\":[1,2],\"y\":[12,12],\"type\":\"scatter\"},{\"line\":{\"color\":\"rgb(68, 1, 84)\",\"width\":2},\"mode\":\"lines+markers\",\"name\":\"Action 0\",\"showlegend\":false,\"x\":[1,2],\"y\":[13,13],\"type\":\"scatter\"},{\"line\":{\"color\":\"rgb(68, 1, 84)\",\"width\":2},\"mode\":\"lines+markers\",\"name\":\"Action 0\",\"showlegend\":false,\"x\":[1,2],\"y\":[15,15],\"type\":\"scatter\"},{\"line\":{\"color\":\"rgb(68, 1, 84)\",\"width\":2},\"mode\":\"lines+markers\",\"name\":\"Action 0\",\"showlegend\":false,\"x\":[1,2],\"y\":[16,16],\"type\":\"scatter\"},{\"line\":{\"color\":\"rgb(68, 1, 84)\",\"width\":2},\"mode\":\"lines+markers\",\"name\":\"Action 0\",\"showlegend\":false,\"x\":[1,2],\"y\":[17,17],\"type\":\"scatter\"},{\"line\":{\"color\":\"rgb(68, 1, 84)\",\"width\":2},\"mode\":\"lines+markers\",\"name\":\"Action 0\",\"showlegend\":false,\"x\":[1,2],\"y\":[18,18],\"type\":\"scatter\"},{\"line\":{\"color\":\"rgb(68, 1, 84)\",\"width\":2},\"mode\":\"lines+markers\",\"name\":\"Action 0\",\"showlegend\":false,\"x\":[1,2],\"y\":[19,19],\"type\":\"scatter\"},{\"line\":{\"color\":\"rgb(68, 1, 84)\",\"width\":2},\"mode\":\"lines+markers\",\"name\":\"Action 0\",\"showlegend\":false,\"x\":[1,2],\"y\":[20,20],\"type\":\"scatter\"},{\"line\":{\"color\":\"rgb(68, 1, 84)\",\"width\":2},\"mode\":\"lines+markers\",\"name\":\"Action 0\",\"showlegend\":false,\"x\":[1,2],\"y\":[21,21],\"type\":\"scatter\"},{\"line\":{\"color\":\"rgb(68, 1, 84)\",\"width\":2},\"mode\":\"lines+markers\",\"name\":\"Action 0\",\"showlegend\":false,\"x\":[1,2],\"y\":[22,22],\"type\":\"scatter\"},{\"line\":{\"color\":\"rgb(68, 1, 84)\",\"width\":2},\"mode\":\"lines+markers\",\"name\":\"Action 0\",\"showlegend\":false,\"x\":[1,2],\"y\":[23,23],\"type\":\"scatter\"},{\"line\":{\"color\":\"rgb(68, 1, 84)\",\"width\":2},\"mode\":\"lines+markers\",\"name\":\"Action 0\",\"showlegend\":false,\"x\":[1,2],\"y\":[24,24],\"type\":\"scatter\"},{\"line\":{\"color\":\"rgb(68, 1, 84)\",\"width\":2},\"mode\":\"lines+markers\",\"name\":\"Action 0\",\"showlegend\":false,\"x\":[1,2],\"y\":[25,25],\"type\":\"scatter\"},{\"line\":{\"color\":\"rgb(68, 1, 84)\",\"width\":2},\"mode\":\"lines+markers\",\"name\":\"Action 0\",\"showlegend\":false,\"x\":[1,2],\"y\":[26,26],\"type\":\"scatter\"},{\"line\":{\"color\":\"rgb(68, 1, 84)\",\"width\":2},\"mode\":\"lines+markers\",\"name\":\"Action 0\",\"showlegend\":false,\"x\":[1,2],\"y\":[27,27],\"type\":\"scatter\"},{\"line\":{\"color\":\"rgb(68, 1, 84)\",\"width\":2},\"mode\":\"lines+markers\",\"name\":\"Action 0\",\"showlegend\":false,\"x\":[1,2],\"y\":[28,28],\"type\":\"scatter\"},{\"line\":{\"color\":\"rgb(68, 1, 84)\",\"width\":2},\"mode\":\"lines+markers\",\"name\":\"Action 0\",\"showlegend\":false,\"x\":[1,2],\"y\":[29,29],\"type\":\"scatter\"},{\"line\":{\"color\":\"rgb(68, 1, 84)\",\"width\":2},\"mode\":\"lines+markers\",\"name\":\"Action 0\",\"showlegend\":false,\"x\":[1,2],\"y\":[30,30],\"type\":\"scatter\"},{\"line\":{\"color\":\"rgb(68, 1, 84)\",\"width\":2},\"mode\":\"lines+markers\",\"name\":\"Action 0\",\"showlegend\":false,\"x\":[1,2],\"y\":[31,31],\"type\":\"scatter\"},{\"line\":{\"color\":\"rgb(68, 1, 84)\",\"width\":2},\"mode\":\"lines+markers\",\"name\":\"Action 0\",\"showlegend\":false,\"x\":[1,2],\"y\":[32,32],\"type\":\"scatter\"},{\"line\":{\"color\":\"rgb(68, 1, 84)\",\"width\":2},\"mode\":\"lines+markers\",\"name\":\"Action 0\",\"showlegend\":false,\"x\":[1,2],\"y\":[33,33],\"type\":\"scatter\"},{\"line\":{\"color\":\"rgb(68, 1, 84)\",\"width\":2},\"mode\":\"lines+markers\",\"name\":\"Action 0\",\"showlegend\":false,\"x\":[1,2],\"y\":[34,34],\"type\":\"scatter\"},{\"line\":{\"color\":\"rgb(68, 1, 84)\",\"width\":2},\"mode\":\"lines+markers\",\"name\":\"Action 0\",\"showlegend\":false,\"x\":[1,2],\"y\":[35,35],\"type\":\"scatter\"},{\"line\":{\"color\":\"rgb(68, 1, 84)\",\"width\":2},\"mode\":\"lines+markers\",\"name\":\"Action 0\",\"showlegend\":false,\"x\":[1,2],\"y\":[36,36],\"type\":\"scatter\"},{\"line\":{\"color\":\"rgb(68, 1, 84)\",\"width\":2},\"mode\":\"lines+markers\",\"name\":\"Action 0\",\"showlegend\":false,\"x\":[1,2],\"y\":[37,37],\"type\":\"scatter\"},{\"line\":{\"color\":\"rgb(68, 1, 84)\",\"width\":2},\"mode\":\"lines+markers\",\"name\":\"Action 0\",\"showlegend\":false,\"x\":[1,2],\"y\":[38,38],\"type\":\"scatter\"},{\"line\":{\"color\":\"rgb(68, 1, 84)\",\"width\":2},\"mode\":\"lines+markers\",\"name\":\"Action 0\",\"showlegend\":false,\"x\":[1,2],\"y\":[39,39],\"type\":\"scatter\"},{\"line\":{\"color\":\"rgb(68, 1, 84)\",\"width\":2},\"mode\":\"lines+markers\",\"name\":\"Action 0\",\"showlegend\":false,\"x\":[1,2],\"y\":[40,40],\"type\":\"scatter\"},{\"line\":{\"color\":\"rgb(68, 1, 84)\",\"width\":2},\"mode\":\"lines+markers\",\"name\":\"Action 0\",\"showlegend\":false,\"x\":[1,2],\"y\":[41,41],\"type\":\"scatter\"},{\"line\":{\"color\":\"rgb(68, 1, 84)\",\"width\":2},\"mode\":\"lines+markers\",\"name\":\"Action 0\",\"showlegend\":false,\"x\":[1,2],\"y\":[42,42],\"type\":\"scatter\"},{\"line\":{\"color\":\"rgb(68, 1, 84)\",\"width\":2},\"mode\":\"lines+markers\",\"name\":\"Action 0\",\"showlegend\":false,\"x\":[1,2],\"y\":[43,43],\"type\":\"scatter\"},{\"line\":{\"color\":\"rgb(68, 1, 84)\",\"width\":2},\"mode\":\"lines+markers\",\"name\":\"Action 0\",\"showlegend\":false,\"x\":[1,2],\"y\":[44,44],\"type\":\"scatter\"},{\"line\":{\"color\":\"rgb(68, 1, 84)\",\"width\":2},\"mode\":\"lines+markers\",\"name\":\"Action 0\",\"showlegend\":false,\"x\":[1,2],\"y\":[45,45],\"type\":\"scatter\"},{\"line\":{\"color\":\"rgb(68, 1, 84)\",\"width\":2},\"mode\":\"lines+markers\",\"name\":\"Action 0\",\"showlegend\":false,\"x\":[1,2],\"y\":[46,46],\"type\":\"scatter\"},{\"line\":{\"color\":\"rgb(68, 1, 84)\",\"width\":2},\"mode\":\"lines+markers\",\"name\":\"Action 0\",\"showlegend\":false,\"x\":[1,2],\"y\":[47,47],\"type\":\"scatter\"},{\"line\":{\"color\":\"rgb(68, 1, 84)\",\"width\":2},\"mode\":\"lines+markers\",\"name\":\"Action 0\",\"showlegend\":false,\"x\":[1,2],\"y\":[48,48],\"type\":\"scatter\"},{\"line\":{\"color\":\"rgb(68, 1, 84)\",\"width\":2},\"mode\":\"lines+markers\",\"name\":\"Action 0\",\"showlegend\":false,\"x\":[1,2],\"y\":[49,49],\"type\":\"scatter\"},{\"line\":{\"color\":\"rgb(68, 1, 84)\",\"width\":2},\"mode\":\"lines+markers\",\"name\":\"Action 0\",\"showlegend\":false,\"x\":[1,2],\"y\":[50,50],\"type\":\"scatter\"},{\"line\":{\"color\":\"rgb(68, 1, 84)\",\"width\":2},\"mode\":\"lines+markers\",\"name\":\"Action 0\",\"showlegend\":false,\"x\":[1,2],\"y\":[51,51],\"type\":\"scatter\"},{\"line\":{\"color\":\"rgb(68, 1, 84)\",\"width\":2},\"mode\":\"lines+markers\",\"name\":\"Action 0\",\"showlegend\":false,\"x\":[1,2],\"y\":[52,52],\"type\":\"scatter\"},{\"line\":{\"color\":\"rgb(68, 1, 84)\",\"width\":2},\"mode\":\"lines+markers\",\"name\":\"Action 0\",\"showlegend\":false,\"x\":[1,2],\"y\":[53,53],\"type\":\"scatter\"},{\"line\":{\"color\":\"rgb(68, 1, 84)\",\"width\":2},\"mode\":\"lines+markers\",\"name\":\"Action 0\",\"showlegend\":false,\"x\":[1,2],\"y\":[54,54],\"type\":\"scatter\"},{\"line\":{\"color\":\"rgb(68, 1, 84)\",\"width\":2},\"mode\":\"lines+markers\",\"name\":\"Action 0\",\"showlegend\":false,\"x\":[1,2],\"y\":[56,56],\"type\":\"scatter\"},{\"line\":{\"color\":\"rgb(68, 1, 84)\",\"width\":2},\"mode\":\"lines+markers\",\"name\":\"Action 0\",\"showlegend\":false,\"x\":[1,2],\"y\":[57,57],\"type\":\"scatter\"},{\"line\":{\"color\":\"rgb(68, 1, 84)\",\"width\":2},\"mode\":\"lines+markers\",\"name\":\"Action 0\",\"showlegend\":false,\"x\":[1,2],\"y\":[58,58],\"type\":\"scatter\"},{\"line\":{\"color\":\"rgb(68, 1, 84)\",\"width\":2},\"mode\":\"lines+markers\",\"name\":\"Action 0\",\"showlegend\":false,\"x\":[1,2],\"y\":[59,59],\"type\":\"scatter\"},{\"line\":{\"color\":\"rgb(68, 1, 84)\",\"width\":2},\"mode\":\"lines+markers\",\"name\":\"Action 0\",\"showlegend\":false,\"x\":[1,2],\"y\":[60,60],\"type\":\"scatter\"},{\"line\":{\"color\":\"rgb(68, 1, 84)\",\"width\":2},\"mode\":\"lines+markers\",\"name\":\"Action 0\",\"showlegend\":false,\"x\":[1,2],\"y\":[61,61],\"type\":\"scatter\"},{\"line\":{\"color\":\"rgb(68, 1, 84)\",\"width\":2},\"mode\":\"lines+markers\",\"name\":\"Action 0\",\"showlegend\":false,\"x\":[1,2],\"y\":[62,62],\"type\":\"scatter\"},{\"line\":{\"color\":\"rgb(68, 1, 84)\",\"width\":2},\"mode\":\"lines+markers\",\"name\":\"Action 0\",\"showlegend\":false,\"x\":[1,2],\"y\":[63,63],\"type\":\"scatter\"},{\"line\":{\"color\":\"rgb(68, 1, 84)\",\"width\":2},\"mode\":\"lines+markers\",\"name\":\"Action 0\",\"showlegend\":false,\"x\":[1,2],\"y\":[64,64],\"type\":\"scatter\"},{\"line\":{\"color\":\"rgb(68, 1, 84)\",\"width\":2},\"mode\":\"lines+markers\",\"name\":\"Action 0\",\"showlegend\":false,\"x\":[1,2],\"y\":[65,65],\"type\":\"scatter\"},{\"line\":{\"color\":\"rgb(68, 1, 84)\",\"width\":2},\"mode\":\"lines+markers\",\"name\":\"Action 0\",\"showlegend\":false,\"x\":[1,2],\"y\":[66,66],\"type\":\"scatter\"},{\"line\":{\"color\":\"rgb(68, 1, 84)\",\"width\":2},\"mode\":\"lines+markers\",\"name\":\"Action 0\",\"showlegend\":false,\"x\":[1,2],\"y\":[67,67],\"type\":\"scatter\"},{\"line\":{\"color\":\"rgb(68, 1, 84)\",\"width\":2},\"mode\":\"lines+markers\",\"name\":\"Action 0\",\"showlegend\":false,\"x\":[1,2],\"y\":[68,68],\"type\":\"scatter\"},{\"line\":{\"color\":\"rgb(68, 1, 84)\",\"width\":2},\"mode\":\"lines+markers\",\"name\":\"Action 0\",\"showlegend\":false,\"x\":[1,2],\"y\":[69,69],\"type\":\"scatter\"},{\"line\":{\"color\":\"rgb(68, 1, 84)\",\"width\":2},\"mode\":\"lines+markers\",\"name\":\"Action 0\",\"showlegend\":false,\"x\":[1,2],\"y\":[70,70],\"type\":\"scatter\"},{\"line\":{\"color\":\"rgb(68, 1, 84)\",\"width\":2},\"mode\":\"lines+markers\",\"name\":\"Action 0\",\"showlegend\":false,\"x\":[1,2],\"y\":[71,71],\"type\":\"scatter\"},{\"line\":{\"color\":\"rgb(68, 1, 84)\",\"width\":2},\"mode\":\"lines+markers\",\"name\":\"Action 0\",\"showlegend\":false,\"x\":[1,2],\"y\":[72,72],\"type\":\"scatter\"},{\"line\":{\"color\":\"rgb(68, 1, 84)\",\"width\":2},\"mode\":\"lines+markers\",\"name\":\"Action 0\",\"showlegend\":false,\"x\":[1,2],\"y\":[73,73],\"type\":\"scatter\"},{\"line\":{\"color\":\"rgb(68, 1, 84)\",\"width\":2},\"mode\":\"lines+markers\",\"name\":\"Action 0\",\"showlegend\":false,\"x\":[1,2],\"y\":[74,74],\"type\":\"scatter\"},{\"line\":{\"color\":\"rgb(68, 1, 84)\",\"width\":2},\"mode\":\"lines+markers\",\"name\":\"Action 0\",\"showlegend\":false,\"x\":[1,2],\"y\":[75,75],\"type\":\"scatter\"},{\"line\":{\"color\":\"rgb(68, 1, 84)\",\"width\":2},\"mode\":\"lines+markers\",\"name\":\"Action 0\",\"showlegend\":false,\"x\":[1,2],\"y\":[76,76],\"type\":\"scatter\"},{\"line\":{\"color\":\"rgb(68, 1, 84)\",\"width\":2},\"mode\":\"lines+markers\",\"name\":\"Action 0\",\"showlegend\":false,\"x\":[1,2],\"y\":[77,77],\"type\":\"scatter\"},{\"line\":{\"color\":\"rgb(68, 1, 84)\",\"width\":2},\"mode\":\"lines+markers\",\"name\":\"Action 0\",\"showlegend\":false,\"x\":[1,2],\"y\":[78,78],\"type\":\"scatter\"},{\"line\":{\"color\":\"rgb(68, 1, 84)\",\"width\":2},\"mode\":\"lines+markers\",\"name\":\"Action 0\",\"showlegend\":false,\"x\":[1,2],\"y\":[79,79],\"type\":\"scatter\"},{\"line\":{\"color\":\"rgb(68, 1, 84)\",\"width\":2},\"mode\":\"lines+markers\",\"name\":\"Action 0\",\"showlegend\":false,\"x\":[1,2],\"y\":[80,80],\"type\":\"scatter\"},{\"line\":{\"color\":\"rgb(68, 1, 84)\",\"width\":2},\"mode\":\"lines+markers\",\"name\":\"Action 0\",\"showlegend\":false,\"x\":[1,2],\"y\":[81,81],\"type\":\"scatter\"},{\"line\":{\"color\":\"rgb(68, 1, 84)\",\"width\":2},\"mode\":\"lines+markers\",\"name\":\"Action 0\",\"showlegend\":false,\"x\":[1,2],\"y\":[82,82],\"type\":\"scatter\"},{\"line\":{\"color\":\"rgb(68, 1, 84)\",\"width\":2},\"mode\":\"lines+markers\",\"name\":\"Action 0\",\"showlegend\":false,\"x\":[1,2],\"y\":[83,83],\"type\":\"scatter\"},{\"line\":{\"color\":\"rgb(68, 1, 84)\",\"width\":2},\"mode\":\"lines+markers\",\"name\":\"Action 0\",\"showlegend\":false,\"x\":[1,2],\"y\":[84,84],\"type\":\"scatter\"},{\"line\":{\"color\":\"rgb(68, 1, 84)\",\"width\":2},\"mode\":\"lines+markers\",\"name\":\"Action 0\",\"showlegend\":false,\"x\":[1,2],\"y\":[85,85],\"type\":\"scatter\"},{\"line\":{\"color\":\"rgb(68, 1, 84)\",\"width\":2},\"mode\":\"lines+markers\",\"name\":\"Action 0\",\"showlegend\":false,\"x\":[1,2],\"y\":[86,86],\"type\":\"scatter\"},{\"line\":{\"color\":\"rgb(68, 1, 84)\",\"width\":2},\"mode\":\"lines+markers\",\"name\":\"Action 0\",\"showlegend\":false,\"x\":[1,2],\"y\":[87,87],\"type\":\"scatter\"},{\"line\":{\"color\":\"rgb(68, 1, 84)\",\"width\":2},\"mode\":\"lines+markers\",\"name\":\"Action 0\",\"showlegend\":false,\"x\":[1,2],\"y\":[88,88],\"type\":\"scatter\"},{\"line\":{\"color\":\"rgb(68, 1, 84)\",\"width\":2},\"mode\":\"lines+markers\",\"name\":\"Action 0\",\"showlegend\":false,\"x\":[1,2],\"y\":[89,89],\"type\":\"scatter\"},{\"line\":{\"color\":\"rgb(68, 1, 84)\",\"width\":2},\"mode\":\"lines+markers\",\"name\":\"Action 0\",\"showlegend\":false,\"x\":[1,2],\"y\":[90,90],\"type\":\"scatter\"},{\"line\":{\"color\":\"rgb(68, 1, 84)\",\"width\":2},\"mode\":\"lines+markers\",\"name\":\"Action 0\",\"showlegend\":false,\"x\":[1,2],\"y\":[91,91],\"type\":\"scatter\"},{\"line\":{\"color\":\"rgb(68, 1, 84)\",\"width\":2},\"mode\":\"lines+markers\",\"name\":\"Action 0\",\"showlegend\":false,\"x\":[1,2],\"y\":[92,92],\"type\":\"scatter\"},{\"line\":{\"color\":\"rgb(68, 1, 84)\",\"width\":2},\"mode\":\"lines+markers\",\"name\":\"Action 0\",\"showlegend\":false,\"x\":[1,2],\"y\":[93,93],\"type\":\"scatter\"},{\"line\":{\"color\":\"rgb(68, 1, 84)\",\"width\":2},\"mode\":\"lines+markers\",\"name\":\"Action 0\",\"showlegend\":false,\"x\":[1,2],\"y\":[94,94],\"type\":\"scatter\"},{\"line\":{\"color\":\"rgb(68, 1, 84)\",\"width\":2},\"mode\":\"lines+markers\",\"name\":\"Action 0\",\"showlegend\":false,\"x\":[1,2],\"y\":[95,95],\"type\":\"scatter\"},{\"line\":{\"color\":\"rgb(68, 1, 84)\",\"width\":2},\"mode\":\"lines+markers\",\"name\":\"Action 0\",\"showlegend\":false,\"x\":[1,2],\"y\":[96,96],\"type\":\"scatter\"},{\"line\":{\"color\":\"rgb(68, 1, 84)\",\"width\":2},\"mode\":\"lines+markers\",\"name\":\"Action 0\",\"showlegend\":false,\"x\":[1,2],\"y\":[97,97],\"type\":\"scatter\"},{\"line\":{\"color\":\"rgb(68, 1, 84)\",\"width\":2},\"mode\":\"lines+markers\",\"name\":\"Action 0\",\"showlegend\":false,\"x\":[1,2],\"y\":[98,98],\"type\":\"scatter\"},{\"line\":{\"color\":\"rgb(68, 1, 84)\",\"width\":2},\"mode\":\"lines+markers\",\"name\":\"Action 0\",\"showlegend\":false,\"x\":[1,2],\"y\":[99,99],\"type\":\"scatter\"},{\"line\":{\"color\":\"rgb(68, 1, 84)\",\"width\":2},\"mode\":\"lines+markers\",\"name\":\"Action 0\",\"showlegend\":false,\"x\":[1,2],\"y\":[100,100],\"type\":\"scatter\"},{\"line\":{\"color\":\"rgb(68, 1, 84)\",\"width\":2},\"mode\":\"lines+markers\",\"name\":\"Action 0\",\"showlegend\":false,\"x\":[2,3],\"y\":[0,0],\"type\":\"scatter\"},{\"line\":{\"color\":\"rgb(68, 1, 84)\",\"width\":2},\"mode\":\"lines+markers\",\"name\":\"Action 0\",\"showlegend\":false,\"x\":[2,3],\"y\":[1,1],\"type\":\"scatter\"},{\"line\":{\"color\":\"rgb(68, 1, 84)\",\"width\":2},\"mode\":\"lines+markers\",\"name\":\"Action 0\",\"showlegend\":false,\"x\":[2,3],\"y\":[2,2],\"type\":\"scatter\"},{\"line\":{\"color\":\"rgb(68, 1, 84)\",\"width\":2},\"mode\":\"lines+markers\",\"name\":\"Action 0\",\"showlegend\":false,\"x\":[2,3],\"y\":[3,3],\"type\":\"scatter\"},{\"line\":{\"color\":\"rgb(68, 1, 84)\",\"width\":2},\"mode\":\"lines+markers\",\"name\":\"Action 0\",\"showlegend\":false,\"x\":[2,3],\"y\":[4,4],\"type\":\"scatter\"},{\"line\":{\"color\":\"rgb(68, 1, 84)\",\"width\":2},\"mode\":\"lines+markers\",\"name\":\"Action 0\",\"showlegend\":false,\"x\":[2,3],\"y\":[5,5],\"type\":\"scatter\"},{\"line\":{\"color\":\"rgb(68, 1, 84)\",\"width\":2},\"mode\":\"lines+markers\",\"name\":\"Action 0\",\"showlegend\":false,\"x\":[2,3],\"y\":[6,6],\"type\":\"scatter\"},{\"line\":{\"color\":\"rgb(68, 1, 84)\",\"width\":2},\"mode\":\"lines+markers\",\"name\":\"Action 0\",\"showlegend\":false,\"x\":[2,3],\"y\":[7,7],\"type\":\"scatter\"},{\"line\":{\"color\":\"rgb(68, 1, 84)\",\"width\":2},\"mode\":\"lines+markers\",\"name\":\"Action 0\",\"showlegend\":false,\"x\":[2,3],\"y\":[8,8],\"type\":\"scatter\"},{\"line\":{\"color\":\"rgb(68, 1, 84)\",\"width\":2},\"mode\":\"lines+markers\",\"name\":\"Action 0\",\"showlegend\":false,\"x\":[2,3],\"y\":[9,9],\"type\":\"scatter\"},{\"line\":{\"color\":\"rgb(68, 1, 84)\",\"width\":2},\"mode\":\"lines+markers\",\"name\":\"Action 0\",\"showlegend\":false,\"x\":[2,3],\"y\":[10,10],\"type\":\"scatter\"},{\"line\":{\"color\":\"rgb(68, 1, 84)\",\"width\":2},\"mode\":\"lines+markers\",\"name\":\"Action 0\",\"showlegend\":false,\"x\":[2,3],\"y\":[11,11],\"type\":\"scatter\"},{\"line\":{\"color\":\"rgb(68, 1, 84)\",\"width\":2},\"mode\":\"lines+markers\",\"name\":\"Action 0\",\"showlegend\":false,\"x\":[2,3],\"y\":[12,12],\"type\":\"scatter\"},{\"line\":{\"color\":\"rgb(68, 1, 84)\",\"width\":2},\"mode\":\"lines+markers\",\"name\":\"Action 0\",\"showlegend\":false,\"x\":[2,3],\"y\":[13,13],\"type\":\"scatter\"},{\"line\":{\"color\":\"rgb(68, 1, 84)\",\"width\":2},\"mode\":\"lines+markers\",\"name\":\"Action 0\",\"showlegend\":false,\"x\":[2,3],\"y\":[14,14],\"type\":\"scatter\"},{\"line\":{\"color\":\"rgb(68, 1, 84)\",\"width\":2},\"mode\":\"lines+markers\",\"name\":\"Action 0\",\"showlegend\":false,\"x\":[2,3],\"y\":[15,15],\"type\":\"scatter\"},{\"line\":{\"color\":\"rgb(68, 1, 84)\",\"width\":2},\"mode\":\"lines+markers\",\"name\":\"Action 0\",\"showlegend\":false,\"x\":[2,3],\"y\":[16,16],\"type\":\"scatter\"},{\"line\":{\"color\":\"rgb(68, 1, 84)\",\"width\":2},\"mode\":\"lines+markers\",\"name\":\"Action 0\",\"showlegend\":false,\"x\":[2,3],\"y\":[17,17],\"type\":\"scatter\"},{\"line\":{\"color\":\"rgb(68, 1, 84)\",\"width\":2},\"mode\":\"lines+markers\",\"name\":\"Action 0\",\"showlegend\":false,\"x\":[2,3],\"y\":[18,18],\"type\":\"scatter\"},{\"line\":{\"color\":\"rgb(68, 1, 84)\",\"width\":2},\"mode\":\"lines+markers\",\"name\":\"Action 0\",\"showlegend\":false,\"x\":[2,3],\"y\":[19,19],\"type\":\"scatter\"},{\"line\":{\"color\":\"rgb(68, 1, 84)\",\"width\":2},\"mode\":\"lines+markers\",\"name\":\"Action 0\",\"showlegend\":false,\"x\":[2,3],\"y\":[20,20],\"type\":\"scatter\"},{\"line\":{\"color\":\"rgb(68, 1, 84)\",\"width\":2},\"mode\":\"lines+markers\",\"name\":\"Action 0\",\"showlegend\":false,\"x\":[2,3],\"y\":[21,21],\"type\":\"scatter\"},{\"line\":{\"color\":\"rgb(68, 1, 84)\",\"width\":2},\"mode\":\"lines+markers\",\"name\":\"Action 0\",\"showlegend\":false,\"x\":[2,3],\"y\":[22,22],\"type\":\"scatter\"},{\"line\":{\"color\":\"rgb(68, 1, 84)\",\"width\":2},\"mode\":\"lines+markers\",\"name\":\"Action 0\",\"showlegend\":false,\"x\":[2,3],\"y\":[23,23],\"type\":\"scatter\"},{\"line\":{\"color\":\"rgb(68, 1, 84)\",\"width\":2},\"mode\":\"lines+markers\",\"name\":\"Action 0\",\"showlegend\":false,\"x\":[2,3],\"y\":[24,24],\"type\":\"scatter\"},{\"line\":{\"color\":\"rgb(68, 1, 84)\",\"width\":2},\"mode\":\"lines+markers\",\"name\":\"Action 0\",\"showlegend\":false,\"x\":[2,3],\"y\":[25,25],\"type\":\"scatter\"},{\"line\":{\"color\":\"rgb(68, 1, 84)\",\"width\":2},\"mode\":\"lines+markers\",\"name\":\"Action 0\",\"showlegend\":false,\"x\":[2,3],\"y\":[27,27],\"type\":\"scatter\"},{\"line\":{\"color\":\"rgb(68, 1, 84)\",\"width\":2},\"mode\":\"lines+markers\",\"name\":\"Action 0\",\"showlegend\":false,\"x\":[2,3],\"y\":[28,28],\"type\":\"scatter\"},{\"line\":{\"color\":\"rgb(68, 1, 84)\",\"width\":2},\"mode\":\"lines+markers\",\"name\":\"Action 0\",\"showlegend\":false,\"x\":[2,3],\"y\":[29,29],\"type\":\"scatter\"},{\"line\":{\"color\":\"rgb(68, 1, 84)\",\"width\":2},\"mode\":\"lines+markers\",\"name\":\"Action 0\",\"showlegend\":false,\"x\":[2,3],\"y\":[30,30],\"type\":\"scatter\"},{\"line\":{\"color\":\"rgb(68, 1, 84)\",\"width\":2},\"mode\":\"lines+markers\",\"name\":\"Action 0\",\"showlegend\":false,\"x\":[2,3],\"y\":[31,31],\"type\":\"scatter\"},{\"line\":{\"color\":\"rgb(68, 1, 84)\",\"width\":2},\"mode\":\"lines+markers\",\"name\":\"Action 0\",\"showlegend\":false,\"x\":[2,3],\"y\":[32,32],\"type\":\"scatter\"},{\"line\":{\"color\":\"rgb(68, 1, 84)\",\"width\":2},\"mode\":\"lines+markers\",\"name\":\"Action 0\",\"showlegend\":false,\"x\":[2,3],\"y\":[34,34],\"type\":\"scatter\"},{\"line\":{\"color\":\"rgb(68, 1, 84)\",\"width\":2},\"mode\":\"lines+markers\",\"name\":\"Action 0\",\"showlegend\":false,\"x\":[2,3],\"y\":[35,35],\"type\":\"scatter\"},{\"line\":{\"color\":\"rgb(68, 1, 84)\",\"width\":2},\"mode\":\"lines+markers\",\"name\":\"Action 0\",\"showlegend\":false,\"x\":[2,3],\"y\":[36,36],\"type\":\"scatter\"},{\"line\":{\"color\":\"rgb(68, 1, 84)\",\"width\":2},\"mode\":\"lines+markers\",\"name\":\"Action 0\",\"showlegend\":false,\"x\":[2,3],\"y\":[37,37],\"type\":\"scatter\"},{\"line\":{\"color\":\"rgb(68, 1, 84)\",\"width\":2},\"mode\":\"lines+markers\",\"name\":\"Action 0\",\"showlegend\":false,\"x\":[2,3],\"y\":[38,38],\"type\":\"scatter\"},{\"line\":{\"color\":\"rgb(68, 1, 84)\",\"width\":2},\"mode\":\"lines+markers\",\"name\":\"Action 0\",\"showlegend\":false,\"x\":[2,3],\"y\":[39,39],\"type\":\"scatter\"},{\"line\":{\"color\":\"rgb(68, 1, 84)\",\"width\":2},\"mode\":\"lines+markers\",\"name\":\"Action 0\",\"showlegend\":false,\"x\":[2,3],\"y\":[40,40],\"type\":\"scatter\"},{\"line\":{\"color\":\"rgb(68, 1, 84)\",\"width\":2},\"mode\":\"lines+markers\",\"name\":\"Action 0\",\"showlegend\":false,\"x\":[2,3],\"y\":[41,41],\"type\":\"scatter\"},{\"line\":{\"color\":\"rgb(68, 1, 84)\",\"width\":2},\"mode\":\"lines+markers\",\"name\":\"Action 0\",\"showlegend\":false,\"x\":[2,3],\"y\":[42,42],\"type\":\"scatter\"},{\"line\":{\"color\":\"rgb(68, 1, 84)\",\"width\":2},\"mode\":\"lines+markers\",\"name\":\"Action 0\",\"showlegend\":false,\"x\":[2,3],\"y\":[43,43],\"type\":\"scatter\"},{\"line\":{\"color\":\"rgb(68, 1, 84)\",\"width\":2},\"mode\":\"lines+markers\",\"name\":\"Action 0\",\"showlegend\":false,\"x\":[2,3],\"y\":[44,44],\"type\":\"scatter\"},{\"line\":{\"color\":\"rgb(68, 1, 84)\",\"width\":2},\"mode\":\"lines+markers\",\"name\":\"Action 0\",\"showlegend\":false,\"x\":[2,3],\"y\":[45,45],\"type\":\"scatter\"},{\"line\":{\"color\":\"rgb(68, 1, 84)\",\"width\":2},\"mode\":\"lines+markers\",\"name\":\"Action 0\",\"showlegend\":false,\"x\":[2,3],\"y\":[46,46],\"type\":\"scatter\"},{\"line\":{\"color\":\"rgb(68, 1, 84)\",\"width\":2},\"mode\":\"lines+markers\",\"name\":\"Action 0\",\"showlegend\":false,\"x\":[2,3],\"y\":[47,47],\"type\":\"scatter\"},{\"line\":{\"color\":\"rgb(68, 1, 84)\",\"width\":2},\"mode\":\"lines+markers\",\"name\":\"Action 0\",\"showlegend\":false,\"x\":[2,3],\"y\":[48,48],\"type\":\"scatter\"},{\"line\":{\"color\":\"rgb(68, 1, 84)\",\"width\":2},\"mode\":\"lines+markers\",\"name\":\"Action 0\",\"showlegend\":false,\"x\":[2,3],\"y\":[49,49],\"type\":\"scatter\"},{\"line\":{\"color\":\"rgb(68, 1, 84)\",\"width\":2},\"mode\":\"lines+markers\",\"name\":\"Action 0\",\"showlegend\":false,\"x\":[2,3],\"y\":[50,50],\"type\":\"scatter\"},{\"line\":{\"color\":\"rgb(68, 1, 84)\",\"width\":2},\"mode\":\"lines+markers\",\"name\":\"Action 0\",\"showlegend\":false,\"x\":[2,3],\"y\":[51,51],\"type\":\"scatter\"},{\"line\":{\"color\":\"rgb(68, 1, 84)\",\"width\":2},\"mode\":\"lines+markers\",\"name\":\"Action 0\",\"showlegend\":false,\"x\":[2,3],\"y\":[52,52],\"type\":\"scatter\"},{\"line\":{\"color\":\"rgb(68, 1, 84)\",\"width\":2},\"mode\":\"lines+markers\",\"name\":\"Action 0\",\"showlegend\":false,\"x\":[2,3],\"y\":[53,53],\"type\":\"scatter\"},{\"line\":{\"color\":\"rgb(68, 1, 84)\",\"width\":2},\"mode\":\"lines+markers\",\"name\":\"Action 0\",\"showlegend\":false,\"x\":[2,3],\"y\":[54,54],\"type\":\"scatter\"},{\"line\":{\"color\":\"rgb(68, 1, 84)\",\"width\":2},\"mode\":\"lines+markers\",\"name\":\"Action 0\",\"showlegend\":false,\"x\":[2,3],\"y\":[55,55],\"type\":\"scatter\"},{\"line\":{\"color\":\"rgb(68, 1, 84)\",\"width\":2},\"mode\":\"lines+markers\",\"name\":\"Action 0\",\"showlegend\":false,\"x\":[2,3],\"y\":[56,56],\"type\":\"scatter\"},{\"line\":{\"color\":\"rgb(68, 1, 84)\",\"width\":2},\"mode\":\"lines+markers\",\"name\":\"Action 0\",\"showlegend\":false,\"x\":[2,3],\"y\":[57,57],\"type\":\"scatter\"},{\"line\":{\"color\":\"rgb(68, 1, 84)\",\"width\":2},\"mode\":\"lines+markers\",\"name\":\"Action 0\",\"showlegend\":false,\"x\":[2,3],\"y\":[58,58],\"type\":\"scatter\"},{\"line\":{\"color\":\"rgb(68, 1, 84)\",\"width\":2},\"mode\":\"lines+markers\",\"name\":\"Action 0\",\"showlegend\":false,\"x\":[2,3],\"y\":[59,59],\"type\":\"scatter\"},{\"line\":{\"color\":\"rgb(68, 1, 84)\",\"width\":2},\"mode\":\"lines+markers\",\"name\":\"Action 0\",\"showlegend\":false,\"x\":[2,3],\"y\":[60,60],\"type\":\"scatter\"},{\"line\":{\"color\":\"rgb(68, 1, 84)\",\"width\":2},\"mode\":\"lines+markers\",\"name\":\"Action 0\",\"showlegend\":false,\"x\":[2,3],\"y\":[61,61],\"type\":\"scatter\"},{\"line\":{\"color\":\"rgb(68, 1, 84)\",\"width\":2},\"mode\":\"lines+markers\",\"name\":\"Action 0\",\"showlegend\":false,\"x\":[2,3],\"y\":[62,62],\"type\":\"scatter\"},{\"line\":{\"color\":\"rgb(68, 1, 84)\",\"width\":2},\"mode\":\"lines+markers\",\"name\":\"Action 0\",\"showlegend\":false,\"x\":[2,3],\"y\":[63,63],\"type\":\"scatter\"},{\"line\":{\"color\":\"rgb(68, 1, 84)\",\"width\":2},\"mode\":\"lines+markers\",\"name\":\"Action 0\",\"showlegend\":false,\"x\":[2,3],\"y\":[64,64],\"type\":\"scatter\"},{\"line\":{\"color\":\"rgb(68, 1, 84)\",\"width\":2},\"mode\":\"lines+markers\",\"name\":\"Action 0\",\"showlegend\":false,\"x\":[2,3],\"y\":[65,65],\"type\":\"scatter\"},{\"line\":{\"color\":\"rgb(68, 1, 84)\",\"width\":2},\"mode\":\"lines+markers\",\"name\":\"Action 0\",\"showlegend\":false,\"x\":[2,3],\"y\":[67,67],\"type\":\"scatter\"},{\"line\":{\"color\":\"rgb(68, 1, 84)\",\"width\":2},\"mode\":\"lines+markers\",\"name\":\"Action 0\",\"showlegend\":false,\"x\":[2,3],\"y\":[68,68],\"type\":\"scatter\"},{\"line\":{\"color\":\"rgb(68, 1, 84)\",\"width\":2},\"mode\":\"lines+markers\",\"name\":\"Action 0\",\"showlegend\":false,\"x\":[2,3],\"y\":[69,69],\"type\":\"scatter\"},{\"line\":{\"color\":\"rgb(68, 1, 84)\",\"width\":2},\"mode\":\"lines+markers\",\"name\":\"Action 0\",\"showlegend\":false,\"x\":[2,3],\"y\":[70,70],\"type\":\"scatter\"},{\"line\":{\"color\":\"rgb(68, 1, 84)\",\"width\":2},\"mode\":\"lines+markers\",\"name\":\"Action 0\",\"showlegend\":false,\"x\":[2,3],\"y\":[71,71],\"type\":\"scatter\"},{\"line\":{\"color\":\"rgb(68, 1, 84)\",\"width\":2},\"mode\":\"lines+markers\",\"name\":\"Action 0\",\"showlegend\":false,\"x\":[2,3],\"y\":[72,72],\"type\":\"scatter\"},{\"line\":{\"color\":\"rgb(68, 1, 84)\",\"width\":2},\"mode\":\"lines+markers\",\"name\":\"Action 0\",\"showlegend\":false,\"x\":[2,3],\"y\":[73,73],\"type\":\"scatter\"},{\"line\":{\"color\":\"rgb(68, 1, 84)\",\"width\":2},\"mode\":\"lines+markers\",\"name\":\"Action 0\",\"showlegend\":false,\"x\":[2,3],\"y\":[74,74],\"type\":\"scatter\"},{\"line\":{\"color\":\"rgb(68, 1, 84)\",\"width\":2},\"mode\":\"lines+markers\",\"name\":\"Action 0\",\"showlegend\":false,\"x\":[2,3],\"y\":[75,75],\"type\":\"scatter\"},{\"line\":{\"color\":\"rgb(68, 1, 84)\",\"width\":2},\"mode\":\"lines+markers\",\"name\":\"Action 0\",\"showlegend\":false,\"x\":[2,3],\"y\":[76,76],\"type\":\"scatter\"},{\"line\":{\"color\":\"rgb(68, 1, 84)\",\"width\":2},\"mode\":\"lines+markers\",\"name\":\"Action 0\",\"showlegend\":false,\"x\":[2,3],\"y\":[77,77],\"type\":\"scatter\"},{\"line\":{\"color\":\"rgb(68, 1, 84)\",\"width\":2},\"mode\":\"lines+markers\",\"name\":\"Action 0\",\"showlegend\":false,\"x\":[2,3],\"y\":[78,78],\"type\":\"scatter\"},{\"line\":{\"color\":\"rgb(68, 1, 84)\",\"width\":2},\"mode\":\"lines+markers\",\"name\":\"Action 0\",\"showlegend\":false,\"x\":[2,3],\"y\":[79,79],\"type\":\"scatter\"},{\"line\":{\"color\":\"rgb(68, 1, 84)\",\"width\":2},\"mode\":\"lines+markers\",\"name\":\"Action 0\",\"showlegend\":false,\"x\":[2,3],\"y\":[80,80],\"type\":\"scatter\"},{\"line\":{\"color\":\"rgb(68, 1, 84)\",\"width\":2},\"mode\":\"lines+markers\",\"name\":\"Action 0\",\"showlegend\":false,\"x\":[2,3],\"y\":[81,81],\"type\":\"scatter\"},{\"line\":{\"color\":\"rgb(68, 1, 84)\",\"width\":2},\"mode\":\"lines+markers\",\"name\":\"Action 0\",\"showlegend\":false,\"x\":[2,3],\"y\":[82,82],\"type\":\"scatter\"},{\"line\":{\"color\":\"rgb(68, 1, 84)\",\"width\":2},\"mode\":\"lines+markers\",\"name\":\"Action 0\",\"showlegend\":false,\"x\":[2,3],\"y\":[83,83],\"type\":\"scatter\"},{\"line\":{\"color\":\"rgb(68, 1, 84)\",\"width\":2},\"mode\":\"lines+markers\",\"name\":\"Action 0\",\"showlegend\":false,\"x\":[2,3],\"y\":[84,84],\"type\":\"scatter\"},{\"line\":{\"color\":\"rgb(68, 1, 84)\",\"width\":2},\"mode\":\"lines+markers\",\"name\":\"Action 0\",\"showlegend\":false,\"x\":[2,3],\"y\":[85,85],\"type\":\"scatter\"},{\"line\":{\"color\":\"rgb(68, 1, 84)\",\"width\":2},\"mode\":\"lines+markers\",\"name\":\"Action 0\",\"showlegend\":false,\"x\":[2,3],\"y\":[86,86],\"type\":\"scatter\"},{\"line\":{\"color\":\"rgb(68, 1, 84)\",\"width\":2},\"mode\":\"lines+markers\",\"name\":\"Action 0\",\"showlegend\":false,\"x\":[2,3],\"y\":[87,87],\"type\":\"scatter\"},{\"line\":{\"color\":\"rgb(68, 1, 84)\",\"width\":2},\"mode\":\"lines+markers\",\"name\":\"Action 0\",\"showlegend\":false,\"x\":[2,3],\"y\":[88,88],\"type\":\"scatter\"},{\"line\":{\"color\":\"rgb(68, 1, 84)\",\"width\":2},\"mode\":\"lines+markers\",\"name\":\"Action 0\",\"showlegend\":false,\"x\":[2,3],\"y\":[89,89],\"type\":\"scatter\"},{\"line\":{\"color\":\"rgb(68, 1, 84)\",\"width\":2},\"mode\":\"lines+markers\",\"name\":\"Action 0\",\"showlegend\":false,\"x\":[2,3],\"y\":[90,90],\"type\":\"scatter\"},{\"line\":{\"color\":\"rgb(68, 1, 84)\",\"width\":2},\"mode\":\"lines+markers\",\"name\":\"Action 0\",\"showlegend\":false,\"x\":[2,3],\"y\":[91,91],\"type\":\"scatter\"},{\"line\":{\"color\":\"rgb(68, 1, 84)\",\"width\":2},\"mode\":\"lines+markers\",\"name\":\"Action 0\",\"showlegend\":false,\"x\":[2,3],\"y\":[92,92],\"type\":\"scatter\"},{\"line\":{\"color\":\"rgb(68, 1, 84)\",\"width\":2},\"mode\":\"lines+markers\",\"name\":\"Action 0\",\"showlegend\":false,\"x\":[2,3],\"y\":[93,93],\"type\":\"scatter\"},{\"line\":{\"color\":\"rgb(68, 1, 84)\",\"width\":2},\"mode\":\"lines+markers\",\"name\":\"Action 0\",\"showlegend\":false,\"x\":[2,3],\"y\":[94,94],\"type\":\"scatter\"},{\"line\":{\"color\":\"rgb(68, 1, 84)\",\"width\":2},\"mode\":\"lines+markers\",\"name\":\"Action 0\",\"showlegend\":false,\"x\":[2,3],\"y\":[95,95],\"type\":\"scatter\"},{\"line\":{\"color\":\"rgb(68, 1, 84)\",\"width\":2},\"mode\":\"lines+markers\",\"name\":\"Action 0\",\"showlegend\":false,\"x\":[2,3],\"y\":[96,96],\"type\":\"scatter\"},{\"line\":{\"color\":\"rgb(68, 1, 84)\",\"width\":2},\"mode\":\"lines+markers\",\"name\":\"Action 0\",\"showlegend\":false,\"x\":[2,3],\"y\":[97,97],\"type\":\"scatter\"},{\"line\":{\"color\":\"rgb(68, 1, 84)\",\"width\":2},\"mode\":\"lines+markers\",\"name\":\"Action 0\",\"showlegend\":false,\"x\":[2,3],\"y\":[98,98],\"type\":\"scatter\"},{\"line\":{\"color\":\"rgb(68, 1, 84)\",\"width\":2},\"mode\":\"lines+markers\",\"name\":\"Action 0\",\"showlegend\":false,\"x\":[2,3],\"y\":[100,100],\"type\":\"scatter\"},{\"line\":{\"color\":\"rgb(68, 1, 84)\",\"width\":2},\"mode\":\"lines+markers\",\"name\":\"Action 0\",\"showlegend\":false,\"x\":[3,4],\"y\":[0,0],\"type\":\"scatter\"},{\"line\":{\"color\":\"rgb(68, 1, 84)\",\"width\":2},\"mode\":\"lines+markers\",\"name\":\"Action 0\",\"showlegend\":false,\"x\":[3,4],\"y\":[2,2],\"type\":\"scatter\"},{\"line\":{\"color\":\"rgb(68, 1, 84)\",\"width\":2},\"mode\":\"lines+markers\",\"name\":\"Action 0\",\"showlegend\":false,\"x\":[3,4],\"y\":[4,4],\"type\":\"scatter\"},{\"line\":{\"color\":\"rgb(68, 1, 84)\",\"width\":2},\"mode\":\"lines+markers\",\"name\":\"Action 0\",\"showlegend\":false,\"x\":[3,4],\"y\":[5,5],\"type\":\"scatter\"},{\"line\":{\"color\":\"rgb(68, 1, 84)\",\"width\":2},\"mode\":\"lines+markers\",\"name\":\"Action 0\",\"showlegend\":false,\"x\":[3,4],\"y\":[6,6],\"type\":\"scatter\"},{\"line\":{\"color\":\"rgb(68, 1, 84)\",\"width\":2},\"mode\":\"lines+markers\",\"name\":\"Action 0\",\"showlegend\":false,\"x\":[3,4],\"y\":[7,7],\"type\":\"scatter\"},{\"line\":{\"color\":\"rgb(68, 1, 84)\",\"width\":2},\"mode\":\"lines+markers\",\"name\":\"Action 0\",\"showlegend\":false,\"x\":[3,4],\"y\":[8,8],\"type\":\"scatter\"},{\"line\":{\"color\":\"rgb(68, 1, 84)\",\"width\":2},\"mode\":\"lines+markers\",\"name\":\"Action 0\",\"showlegend\":false,\"x\":[3,4],\"y\":[9,9],\"type\":\"scatter\"},{\"line\":{\"color\":\"rgb(68, 1, 84)\",\"width\":2},\"mode\":\"lines+markers\",\"name\":\"Action 0\",\"showlegend\":false,\"x\":[3,4],\"y\":[10,10],\"type\":\"scatter\"},{\"line\":{\"color\":\"rgb(68, 1, 84)\",\"width\":2},\"mode\":\"lines+markers\",\"name\":\"Action 0\",\"showlegend\":false,\"x\":[3,4],\"y\":[11,11],\"type\":\"scatter\"},{\"line\":{\"color\":\"rgb(68, 1, 84)\",\"width\":2},\"mode\":\"lines+markers\",\"name\":\"Action 0\",\"showlegend\":false,\"x\":[3,4],\"y\":[12,12],\"type\":\"scatter\"},{\"line\":{\"color\":\"rgb(68, 1, 84)\",\"width\":2},\"mode\":\"lines+markers\",\"name\":\"Action 0\",\"showlegend\":false,\"x\":[3,4],\"y\":[13,13],\"type\":\"scatter\"},{\"line\":{\"color\":\"rgb(68, 1, 84)\",\"width\":2},\"mode\":\"lines+markers\",\"name\":\"Action 0\",\"showlegend\":false,\"x\":[3,4],\"y\":[14,14],\"type\":\"scatter\"},{\"line\":{\"color\":\"rgb(68, 1, 84)\",\"width\":2},\"mode\":\"lines+markers\",\"name\":\"Action 0\",\"showlegend\":false,\"x\":[3,4],\"y\":[15,15],\"type\":\"scatter\"},{\"line\":{\"color\":\"rgb(68, 1, 84)\",\"width\":2},\"mode\":\"lines+markers\",\"name\":\"Action 0\",\"showlegend\":false,\"x\":[3,4],\"y\":[16,16],\"type\":\"scatter\"},{\"line\":{\"color\":\"rgb(68, 1, 84)\",\"width\":2},\"mode\":\"lines+markers\",\"name\":\"Action 0\",\"showlegend\":false,\"x\":[3,4],\"y\":[18,18],\"type\":\"scatter\"},{\"line\":{\"color\":\"rgb(68, 1, 84)\",\"width\":2},\"mode\":\"lines+markers\",\"name\":\"Action 0\",\"showlegend\":false,\"x\":[3,4],\"y\":[19,19],\"type\":\"scatter\"},{\"line\":{\"color\":\"rgb(68, 1, 84)\",\"width\":2},\"mode\":\"lines+markers\",\"name\":\"Action 0\",\"showlegend\":false,\"x\":[3,4],\"y\":[20,20],\"type\":\"scatter\"},{\"line\":{\"color\":\"rgb(68, 1, 84)\",\"width\":2},\"mode\":\"lines+markers\",\"name\":\"Action 0\",\"showlegend\":false,\"x\":[3,4],\"y\":[21,21],\"type\":\"scatter\"},{\"line\":{\"color\":\"rgb(68, 1, 84)\",\"width\":2},\"mode\":\"lines+markers\",\"name\":\"Action 0\",\"showlegend\":false,\"x\":[3,4],\"y\":[22,22],\"type\":\"scatter\"},{\"line\":{\"color\":\"rgb(68, 1, 84)\",\"width\":2},\"mode\":\"lines+markers\",\"name\":\"Action 0\",\"showlegend\":false,\"x\":[3,4],\"y\":[23,23],\"type\":\"scatter\"},{\"line\":{\"color\":\"rgb(68, 1, 84)\",\"width\":2},\"mode\":\"lines+markers\",\"name\":\"Action 0\",\"showlegend\":false,\"x\":[3,4],\"y\":[24,24],\"type\":\"scatter\"},{\"line\":{\"color\":\"rgb(68, 1, 84)\",\"width\":2},\"mode\":\"lines+markers\",\"name\":\"Action 0\",\"showlegend\":false,\"x\":[3,4],\"y\":[25,25],\"type\":\"scatter\"},{\"line\":{\"color\":\"rgb(68, 1, 84)\",\"width\":2},\"mode\":\"lines+markers\",\"name\":\"Action 0\",\"showlegend\":false,\"x\":[3,4],\"y\":[26,26],\"type\":\"scatter\"},{\"line\":{\"color\":\"rgb(68, 1, 84)\",\"width\":2},\"mode\":\"lines+markers\",\"name\":\"Action 0\",\"showlegend\":false,\"x\":[3,4],\"y\":[27,27],\"type\":\"scatter\"},{\"line\":{\"color\":\"rgb(68, 1, 84)\",\"width\":2},\"mode\":\"lines+markers\",\"name\":\"Action 0\",\"showlegend\":false,\"x\":[3,4],\"y\":[28,28],\"type\":\"scatter\"},{\"line\":{\"color\":\"rgb(68, 1, 84)\",\"width\":2},\"mode\":\"lines+markers\",\"name\":\"Action 0\",\"showlegend\":false,\"x\":[3,4],\"y\":[29,29],\"type\":\"scatter\"},{\"line\":{\"color\":\"rgb(68, 1, 84)\",\"width\":2},\"mode\":\"lines+markers\",\"name\":\"Action 0\",\"showlegend\":false,\"x\":[3,4],\"y\":[30,30],\"type\":\"scatter\"},{\"line\":{\"color\":\"rgb(68, 1, 84)\",\"width\":2},\"mode\":\"lines+markers\",\"name\":\"Action 0\",\"showlegend\":false,\"x\":[3,4],\"y\":[31,31],\"type\":\"scatter\"},{\"line\":{\"color\":\"rgb(68, 1, 84)\",\"width\":2},\"mode\":\"lines+markers\",\"name\":\"Action 0\",\"showlegend\":false,\"x\":[3,4],\"y\":[32,32],\"type\":\"scatter\"},{\"line\":{\"color\":\"rgb(68, 1, 84)\",\"width\":2},\"mode\":\"lines+markers\",\"name\":\"Action 0\",\"showlegend\":false,\"x\":[3,4],\"y\":[33,33],\"type\":\"scatter\"},{\"line\":{\"color\":\"rgb(68, 1, 84)\",\"width\":2},\"mode\":\"lines+markers\",\"name\":\"Action 0\",\"showlegend\":false,\"x\":[3,4],\"y\":[34,34],\"type\":\"scatter\"},{\"line\":{\"color\":\"rgb(68, 1, 84)\",\"width\":2},\"mode\":\"lines+markers\",\"name\":\"Action 0\",\"showlegend\":false,\"x\":[3,4],\"y\":[36,36],\"type\":\"scatter\"},{\"line\":{\"color\":\"rgb(68, 1, 84)\",\"width\":2},\"mode\":\"lines+markers\",\"name\":\"Action 0\",\"showlegend\":false,\"x\":[3,4],\"y\":[37,37],\"type\":\"scatter\"},{\"line\":{\"color\":\"rgb(68, 1, 84)\",\"width\":2},\"mode\":\"lines+markers\",\"name\":\"Action 0\",\"showlegend\":false,\"x\":[3,4],\"y\":[38,38],\"type\":\"scatter\"},{\"line\":{\"color\":\"rgb(68, 1, 84)\",\"width\":2},\"mode\":\"lines+markers\",\"name\":\"Action 0\",\"showlegend\":false,\"x\":[3,4],\"y\":[39,39],\"type\":\"scatter\"},{\"line\":{\"color\":\"rgb(68, 1, 84)\",\"width\":2},\"mode\":\"lines+markers\",\"name\":\"Action 0\",\"showlegend\":false,\"x\":[3,4],\"y\":[40,40],\"type\":\"scatter\"},{\"line\":{\"color\":\"rgb(68, 1, 84)\",\"width\":2},\"mode\":\"lines+markers\",\"name\":\"Action 0\",\"showlegend\":false,\"x\":[3,4],\"y\":[41,41],\"type\":\"scatter\"},{\"line\":{\"color\":\"rgb(68, 1, 84)\",\"width\":2},\"mode\":\"lines+markers\",\"name\":\"Action 0\",\"showlegend\":false,\"x\":[3,4],\"y\":[44,44],\"type\":\"scatter\"},{\"line\":{\"color\":\"rgb(68, 1, 84)\",\"width\":2},\"mode\":\"lines+markers\",\"name\":\"Action 0\",\"showlegend\":false,\"x\":[3,4],\"y\":[45,45],\"type\":\"scatter\"},{\"line\":{\"color\":\"rgb(68, 1, 84)\",\"width\":2},\"mode\":\"lines+markers\",\"name\":\"Action 0\",\"showlegend\":false,\"x\":[3,4],\"y\":[46,46],\"type\":\"scatter\"},{\"line\":{\"color\":\"rgb(68, 1, 84)\",\"width\":2},\"mode\":\"lines+markers\",\"name\":\"Action 0\",\"showlegend\":false,\"x\":[3,4],\"y\":[47,47],\"type\":\"scatter\"},{\"line\":{\"color\":\"rgb(68, 1, 84)\",\"width\":2},\"mode\":\"lines+markers\",\"name\":\"Action 0\",\"showlegend\":false,\"x\":[3,4],\"y\":[48,48],\"type\":\"scatter\"},{\"line\":{\"color\":\"rgb(68, 1, 84)\",\"width\":2},\"mode\":\"lines+markers\",\"name\":\"Action 0\",\"showlegend\":false,\"x\":[3,4],\"y\":[49,49],\"type\":\"scatter\"},{\"line\":{\"color\":\"rgb(68, 1, 84)\",\"width\":2},\"mode\":\"lines+markers\",\"name\":\"Action 0\",\"showlegend\":false,\"x\":[3,4],\"y\":[50,50],\"type\":\"scatter\"},{\"line\":{\"color\":\"rgb(68, 1, 84)\",\"width\":2},\"mode\":\"lines+markers\",\"name\":\"Action 0\",\"showlegend\":false,\"x\":[3,4],\"y\":[51,51],\"type\":\"scatter\"},{\"line\":{\"color\":\"rgb(68, 1, 84)\",\"width\":2},\"mode\":\"lines+markers\",\"name\":\"Action 0\",\"showlegend\":false,\"x\":[3,4],\"y\":[52,52],\"type\":\"scatter\"},{\"line\":{\"color\":\"rgb(68, 1, 84)\",\"width\":2},\"mode\":\"lines+markers\",\"name\":\"Action 0\",\"showlegend\":false,\"x\":[3,4],\"y\":[53,53],\"type\":\"scatter\"},{\"line\":{\"color\":\"rgb(68, 1, 84)\",\"width\":2},\"mode\":\"lines+markers\",\"name\":\"Action 0\",\"showlegend\":false,\"x\":[3,4],\"y\":[54,54],\"type\":\"scatter\"},{\"line\":{\"color\":\"rgb(68, 1, 84)\",\"width\":2},\"mode\":\"lines+markers\",\"name\":\"Action 0\",\"showlegend\":false,\"x\":[3,4],\"y\":[55,55],\"type\":\"scatter\"},{\"line\":{\"color\":\"rgb(68, 1, 84)\",\"width\":2},\"mode\":\"lines+markers\",\"name\":\"Action 0\",\"showlegend\":false,\"x\":[3,4],\"y\":[56,56],\"type\":\"scatter\"},{\"line\":{\"color\":\"rgb(68, 1, 84)\",\"width\":2},\"mode\":\"lines+markers\",\"name\":\"Action 0\",\"showlegend\":false,\"x\":[3,4],\"y\":[57,57],\"type\":\"scatter\"},{\"line\":{\"color\":\"rgb(68, 1, 84)\",\"width\":2},\"mode\":\"lines+markers\",\"name\":\"Action 0\",\"showlegend\":false,\"x\":[3,4],\"y\":[58,58],\"type\":\"scatter\"},{\"line\":{\"color\":\"rgb(68, 1, 84)\",\"width\":2},\"mode\":\"lines+markers\",\"name\":\"Action 0\",\"showlegend\":false,\"x\":[3,4],\"y\":[60,60],\"type\":\"scatter\"},{\"line\":{\"color\":\"rgb(68, 1, 84)\",\"width\":2},\"mode\":\"lines+markers\",\"name\":\"Action 0\",\"showlegend\":false,\"x\":[3,4],\"y\":[61,61],\"type\":\"scatter\"},{\"line\":{\"color\":\"rgb(68, 1, 84)\",\"width\":2},\"mode\":\"lines+markers\",\"name\":\"Action 0\",\"showlegend\":false,\"x\":[3,4],\"y\":[62,62],\"type\":\"scatter\"},{\"line\":{\"color\":\"rgb(68, 1, 84)\",\"width\":2},\"mode\":\"lines+markers\",\"name\":\"Action 0\",\"showlegend\":false,\"x\":[3,4],\"y\":[63,63],\"type\":\"scatter\"},{\"line\":{\"color\":\"rgb(68, 1, 84)\",\"width\":2},\"mode\":\"lines+markers\",\"name\":\"Action 0\",\"showlegend\":false,\"x\":[3,4],\"y\":[64,64],\"type\":\"scatter\"},{\"line\":{\"color\":\"rgb(68, 1, 84)\",\"width\":2},\"mode\":\"lines+markers\",\"name\":\"Action 0\",\"showlegend\":false,\"x\":[3,4],\"y\":[65,65],\"type\":\"scatter\"},{\"line\":{\"color\":\"rgb(68, 1, 84)\",\"width\":2},\"mode\":\"lines+markers\",\"name\":\"Action 0\",\"showlegend\":false,\"x\":[3,4],\"y\":[67,67],\"type\":\"scatter\"},{\"line\":{\"color\":\"rgb(68, 1, 84)\",\"width\":2},\"mode\":\"lines+markers\",\"name\":\"Action 0\",\"showlegend\":false,\"x\":[3,4],\"y\":[68,68],\"type\":\"scatter\"},{\"line\":{\"color\":\"rgb(68, 1, 84)\",\"width\":2},\"mode\":\"lines+markers\",\"name\":\"Action 0\",\"showlegend\":false,\"x\":[3,4],\"y\":[70,70],\"type\":\"scatter\"},{\"line\":{\"color\":\"rgb(68, 1, 84)\",\"width\":2},\"mode\":\"lines+markers\",\"name\":\"Action 0\",\"showlegend\":false,\"x\":[3,4],\"y\":[71,71],\"type\":\"scatter\"},{\"line\":{\"color\":\"rgb(68, 1, 84)\",\"width\":2},\"mode\":\"lines+markers\",\"name\":\"Action 0\",\"showlegend\":false,\"x\":[3,4],\"y\":[72,72],\"type\":\"scatter\"},{\"line\":{\"color\":\"rgb(68, 1, 84)\",\"width\":2},\"mode\":\"lines+markers\",\"name\":\"Action 0\",\"showlegend\":false,\"x\":[3,4],\"y\":[73,73],\"type\":\"scatter\"},{\"line\":{\"color\":\"rgb(68, 1, 84)\",\"width\":2},\"mode\":\"lines+markers\",\"name\":\"Action 0\",\"showlegend\":false,\"x\":[3,4],\"y\":[74,74],\"type\":\"scatter\"},{\"line\":{\"color\":\"rgb(68, 1, 84)\",\"width\":2},\"mode\":\"lines+markers\",\"name\":\"Action 0\",\"showlegend\":false,\"x\":[3,4],\"y\":[75,75],\"type\":\"scatter\"},{\"line\":{\"color\":\"rgb(68, 1, 84)\",\"width\":2},\"mode\":\"lines+markers\",\"name\":\"Action 0\",\"showlegend\":false,\"x\":[3,4],\"y\":[76,76],\"type\":\"scatter\"},{\"line\":{\"color\":\"rgb(68, 1, 84)\",\"width\":2},\"mode\":\"lines+markers\",\"name\":\"Action 0\",\"showlegend\":false,\"x\":[3,4],\"y\":[77,77],\"type\":\"scatter\"},{\"line\":{\"color\":\"rgb(68, 1, 84)\",\"width\":2},\"mode\":\"lines+markers\",\"name\":\"Action 0\",\"showlegend\":false,\"x\":[3,4],\"y\":[78,78],\"type\":\"scatter\"},{\"line\":{\"color\":\"rgb(68, 1, 84)\",\"width\":2},\"mode\":\"lines+markers\",\"name\":\"Action 0\",\"showlegend\":false,\"x\":[3,4],\"y\":[79,79],\"type\":\"scatter\"},{\"line\":{\"color\":\"rgb(68, 1, 84)\",\"width\":2},\"mode\":\"lines+markers\",\"name\":\"Action 0\",\"showlegend\":false,\"x\":[3,4],\"y\":[80,80],\"type\":\"scatter\"},{\"line\":{\"color\":\"rgb(68, 1, 84)\",\"width\":2},\"mode\":\"lines+markers\",\"name\":\"Action 0\",\"showlegend\":false,\"x\":[3,4],\"y\":[81,81],\"type\":\"scatter\"},{\"line\":{\"color\":\"rgb(68, 1, 84)\",\"width\":2},\"mode\":\"lines+markers\",\"name\":\"Action 0\",\"showlegend\":false,\"x\":[3,4],\"y\":[82,82],\"type\":\"scatter\"},{\"line\":{\"color\":\"rgb(68, 1, 84)\",\"width\":2},\"mode\":\"lines+markers\",\"name\":\"Action 0\",\"showlegend\":false,\"x\":[3,4],\"y\":[83,83],\"type\":\"scatter\"},{\"line\":{\"color\":\"rgb(68, 1, 84)\",\"width\":2},\"mode\":\"lines+markers\",\"name\":\"Action 0\",\"showlegend\":false,\"x\":[3,4],\"y\":[84,84],\"type\":\"scatter\"},{\"line\":{\"color\":\"rgb(68, 1, 84)\",\"width\":2},\"mode\":\"lines+markers\",\"name\":\"Action 0\",\"showlegend\":false,\"x\":[3,4],\"y\":[85,85],\"type\":\"scatter\"},{\"line\":{\"color\":\"rgb(68, 1, 84)\",\"width\":2},\"mode\":\"lines+markers\",\"name\":\"Action 0\",\"showlegend\":false,\"x\":[3,4],\"y\":[86,86],\"type\":\"scatter\"},{\"line\":{\"color\":\"rgb(68, 1, 84)\",\"width\":2},\"mode\":\"lines+markers\",\"name\":\"Action 0\",\"showlegend\":false,\"x\":[3,4],\"y\":[87,87],\"type\":\"scatter\"},{\"line\":{\"color\":\"rgb(68, 1, 84)\",\"width\":2},\"mode\":\"lines+markers\",\"name\":\"Action 0\",\"showlegend\":false,\"x\":[3,4],\"y\":[88,88],\"type\":\"scatter\"},{\"line\":{\"color\":\"rgb(68, 1, 84)\",\"width\":2},\"mode\":\"lines+markers\",\"name\":\"Action 0\",\"showlegend\":false,\"x\":[3,4],\"y\":[89,89],\"type\":\"scatter\"},{\"line\":{\"color\":\"rgb(68, 1, 84)\",\"width\":2},\"mode\":\"lines+markers\",\"name\":\"Action 0\",\"showlegend\":false,\"x\":[3,4],\"y\":[90,90],\"type\":\"scatter\"},{\"line\":{\"color\":\"rgb(68, 1, 84)\",\"width\":2},\"mode\":\"lines+markers\",\"name\":\"Action 0\",\"showlegend\":false,\"x\":[3,4],\"y\":[91,91],\"type\":\"scatter\"},{\"line\":{\"color\":\"rgb(68, 1, 84)\",\"width\":2},\"mode\":\"lines+markers\",\"name\":\"Action 0\",\"showlegend\":false,\"x\":[3,4],\"y\":[92,92],\"type\":\"scatter\"},{\"line\":{\"color\":\"rgb(68, 1, 84)\",\"width\":2},\"mode\":\"lines+markers\",\"name\":\"Action 0\",\"showlegend\":false,\"x\":[3,4],\"y\":[93,93],\"type\":\"scatter\"},{\"line\":{\"color\":\"rgb(68, 1, 84)\",\"width\":2},\"mode\":\"lines+markers\",\"name\":\"Action 0\",\"showlegend\":false,\"x\":[3,4],\"y\":[94,94],\"type\":\"scatter\"},{\"line\":{\"color\":\"rgb(68, 1, 84)\",\"width\":2},\"mode\":\"lines+markers\",\"name\":\"Action 0\",\"showlegend\":false,\"x\":[3,4],\"y\":[95,95],\"type\":\"scatter\"},{\"line\":{\"color\":\"rgb(68, 1, 84)\",\"width\":2},\"mode\":\"lines+markers\",\"name\":\"Action 0\",\"showlegend\":false,\"x\":[3,4],\"y\":[96,96],\"type\":\"scatter\"},{\"line\":{\"color\":\"rgb(68, 1, 84)\",\"width\":2},\"mode\":\"lines+markers\",\"name\":\"Action 0\",\"showlegend\":false,\"x\":[3,4],\"y\":[97,97],\"type\":\"scatter\"},{\"line\":{\"color\":\"rgb(68, 1, 84)\",\"width\":2},\"mode\":\"lines+markers\",\"name\":\"Action 0\",\"showlegend\":false,\"x\":[3,4],\"y\":[98,98],\"type\":\"scatter\"},{\"line\":{\"color\":\"rgb(68, 1, 84)\",\"width\":2},\"mode\":\"lines+markers\",\"name\":\"Action 0\",\"showlegend\":false,\"x\":[3,4],\"y\":[99,99],\"type\":\"scatter\"},{\"line\":{\"color\":\"rgb(68, 1, 84)\",\"width\":2},\"mode\":\"lines+markers\",\"name\":\"Action 0\",\"showlegend\":false,\"x\":[4,5],\"y\":[0,0],\"type\":\"scatter\"},{\"line\":{\"color\":\"rgb(68, 1, 84)\",\"width\":2},\"mode\":\"lines+markers\",\"name\":\"Action 0\",\"showlegend\":false,\"x\":[4,5],\"y\":[1,1],\"type\":\"scatter\"},{\"line\":{\"color\":\"rgb(68, 1, 84)\",\"width\":2},\"mode\":\"lines+markers\",\"name\":\"Action 0\",\"showlegend\":false,\"x\":[4,5],\"y\":[2,2],\"type\":\"scatter\"},{\"line\":{\"color\":\"rgb(68, 1, 84)\",\"width\":2},\"mode\":\"lines+markers\",\"name\":\"Action 0\",\"showlegend\":false,\"x\":[4,5],\"y\":[3,3],\"type\":\"scatter\"},{\"line\":{\"color\":\"rgb(68, 1, 84)\",\"width\":2},\"mode\":\"lines+markers\",\"name\":\"Action 0\",\"showlegend\":false,\"x\":[4,5],\"y\":[4,4],\"type\":\"scatter\"},{\"line\":{\"color\":\"rgb(68, 1, 84)\",\"width\":2},\"mode\":\"lines+markers\",\"name\":\"Action 0\",\"showlegend\":false,\"x\":[4,5],\"y\":[5,5],\"type\":\"scatter\"},{\"line\":{\"color\":\"rgb(68, 1, 84)\",\"width\":2},\"mode\":\"lines+markers\",\"name\":\"Action 0\",\"showlegend\":false,\"x\":[4,5],\"y\":[6,6],\"type\":\"scatter\"},{\"line\":{\"color\":\"rgb(68, 1, 84)\",\"width\":2},\"mode\":\"lines+markers\",\"name\":\"Action 0\",\"showlegend\":false,\"x\":[4,5],\"y\":[8,8],\"type\":\"scatter\"},{\"line\":{\"color\":\"rgb(68, 1, 84)\",\"width\":2},\"mode\":\"lines+markers\",\"name\":\"Action 0\",\"showlegend\":false,\"x\":[4,5],\"y\":[9,9],\"type\":\"scatter\"},{\"line\":{\"color\":\"rgb(68, 1, 84)\",\"width\":2},\"mode\":\"lines+markers\",\"name\":\"Action 0\",\"showlegend\":false,\"x\":[4,5],\"y\":[12,12],\"type\":\"scatter\"},{\"line\":{\"color\":\"rgb(68, 1, 84)\",\"width\":2},\"mode\":\"lines+markers\",\"name\":\"Action 0\",\"showlegend\":false,\"x\":[4,5],\"y\":[14,14],\"type\":\"scatter\"},{\"line\":{\"color\":\"rgb(68, 1, 84)\",\"width\":2},\"mode\":\"lines+markers\",\"name\":\"Action 0\",\"showlegend\":false,\"x\":[4,5],\"y\":[16,16],\"type\":\"scatter\"},{\"line\":{\"color\":\"rgb(68, 1, 84)\",\"width\":2},\"mode\":\"lines+markers\",\"name\":\"Action 0\",\"showlegend\":false,\"x\":[4,5],\"y\":[17,17],\"type\":\"scatter\"},{\"line\":{\"color\":\"rgb(68, 1, 84)\",\"width\":2},\"mode\":\"lines+markers\",\"name\":\"Action 0\",\"showlegend\":false,\"x\":[4,5],\"y\":[20,20],\"type\":\"scatter\"},{\"line\":{\"color\":\"rgb(68, 1, 84)\",\"width\":2},\"mode\":\"lines+markers\",\"name\":\"Action 0\",\"showlegend\":false,\"x\":[4,5],\"y\":[24,24],\"type\":\"scatter\"},{\"line\":{\"color\":\"rgb(68, 1, 84)\",\"width\":2},\"mode\":\"lines+markers\",\"name\":\"Action 0\",\"showlegend\":false,\"x\":[4,5],\"y\":[26,26],\"type\":\"scatter\"},{\"line\":{\"color\":\"rgb(68, 1, 84)\",\"width\":2},\"mode\":\"lines+markers\",\"name\":\"Action 0\",\"showlegend\":false,\"x\":[4,5],\"y\":[27,27],\"type\":\"scatter\"},{\"line\":{\"color\":\"rgb(68, 1, 84)\",\"width\":2},\"mode\":\"lines+markers\",\"name\":\"Action 0\",\"showlegend\":false,\"x\":[4,5],\"y\":[28,28],\"type\":\"scatter\"},{\"line\":{\"color\":\"rgb(68, 1, 84)\",\"width\":2},\"mode\":\"lines+markers\",\"name\":\"Action 0\",\"showlegend\":false,\"x\":[4,5],\"y\":[29,29],\"type\":\"scatter\"},{\"line\":{\"color\":\"rgb(68, 1, 84)\",\"width\":2},\"mode\":\"lines+markers\",\"name\":\"Action 0\",\"showlegend\":false,\"x\":[4,5],\"y\":[31,31],\"type\":\"scatter\"},{\"line\":{\"color\":\"rgb(68, 1, 84)\",\"width\":2},\"mode\":\"lines+markers\",\"name\":\"Action 0\",\"showlegend\":false,\"x\":[4,5],\"y\":[32,32],\"type\":\"scatter\"},{\"line\":{\"color\":\"rgb(68, 1, 84)\",\"width\":2},\"mode\":\"lines+markers\",\"name\":\"Action 0\",\"showlegend\":false,\"x\":[4,5],\"y\":[33,33],\"type\":\"scatter\"},{\"line\":{\"color\":\"rgb(68, 1, 84)\",\"width\":2},\"mode\":\"lines+markers\",\"name\":\"Action 0\",\"showlegend\":false,\"x\":[4,5],\"y\":[34,34],\"type\":\"scatter\"},{\"line\":{\"color\":\"rgb(68, 1, 84)\",\"width\":2},\"mode\":\"lines+markers\",\"name\":\"Action 0\",\"showlegend\":false,\"x\":[4,5],\"y\":[36,36],\"type\":\"scatter\"},{\"line\":{\"color\":\"rgb(68, 1, 84)\",\"width\":2},\"mode\":\"lines+markers\",\"name\":\"Action 0\",\"showlegend\":false,\"x\":[4,5],\"y\":[37,37],\"type\":\"scatter\"},{\"line\":{\"color\":\"rgb(68, 1, 84)\",\"width\":2},\"mode\":\"lines+markers\",\"name\":\"Action 0\",\"showlegend\":false,\"x\":[4,5],\"y\":[38,38],\"type\":\"scatter\"},{\"line\":{\"color\":\"rgb(68, 1, 84)\",\"width\":2},\"mode\":\"lines+markers\",\"name\":\"Action 0\",\"showlegend\":false,\"x\":[4,5],\"y\":[39,39],\"type\":\"scatter\"},{\"line\":{\"color\":\"rgb(68, 1, 84)\",\"width\":2},\"mode\":\"lines+markers\",\"name\":\"Action 0\",\"showlegend\":false,\"x\":[4,5],\"y\":[41,41],\"type\":\"scatter\"},{\"line\":{\"color\":\"rgb(68, 1, 84)\",\"width\":2},\"mode\":\"lines+markers\",\"name\":\"Action 0\",\"showlegend\":false,\"x\":[4,5],\"y\":[42,42],\"type\":\"scatter\"},{\"line\":{\"color\":\"rgb(68, 1, 84)\",\"width\":2},\"mode\":\"lines+markers\",\"name\":\"Action 0\",\"showlegend\":false,\"x\":[4,5],\"y\":[43,43],\"type\":\"scatter\"},{\"line\":{\"color\":\"rgb(68, 1, 84)\",\"width\":2},\"mode\":\"lines+markers\",\"name\":\"Action 0\",\"showlegend\":false,\"x\":[4,5],\"y\":[44,44],\"type\":\"scatter\"},{\"line\":{\"color\":\"rgb(68, 1, 84)\",\"width\":2},\"mode\":\"lines+markers\",\"name\":\"Action 0\",\"showlegend\":false,\"x\":[4,5],\"y\":[45,45],\"type\":\"scatter\"},{\"line\":{\"color\":\"rgb(68, 1, 84)\",\"width\":2},\"mode\":\"lines+markers\",\"name\":\"Action 0\",\"showlegend\":false,\"x\":[4,5],\"y\":[46,46],\"type\":\"scatter\"},{\"line\":{\"color\":\"rgb(68, 1, 84)\",\"width\":2},\"mode\":\"lines+markers\",\"name\":\"Action 0\",\"showlegend\":false,\"x\":[4,5],\"y\":[47,47],\"type\":\"scatter\"},{\"line\":{\"color\":\"rgb(68, 1, 84)\",\"width\":2},\"mode\":\"lines+markers\",\"name\":\"Action 0\",\"showlegend\":false,\"x\":[4,5],\"y\":[48,48],\"type\":\"scatter\"},{\"line\":{\"color\":\"rgb(68, 1, 84)\",\"width\":2},\"mode\":\"lines+markers\",\"name\":\"Action 0\",\"showlegend\":false,\"x\":[4,5],\"y\":[49,49],\"type\":\"scatter\"},{\"line\":{\"color\":\"rgb(68, 1, 84)\",\"width\":2},\"mode\":\"lines+markers\",\"name\":\"Action 0\",\"showlegend\":false,\"x\":[4,5],\"y\":[50,50],\"type\":\"scatter\"},{\"line\":{\"color\":\"rgb(68, 1, 84)\",\"width\":2},\"mode\":\"lines+markers\",\"name\":\"Action 0\",\"showlegend\":false,\"x\":[4,5],\"y\":[52,52],\"type\":\"scatter\"},{\"line\":{\"color\":\"rgb(68, 1, 84)\",\"width\":2},\"mode\":\"lines+markers\",\"name\":\"Action 0\",\"showlegend\":false,\"x\":[4,5],\"y\":[53,53],\"type\":\"scatter\"},{\"line\":{\"color\":\"rgb(68, 1, 84)\",\"width\":2},\"mode\":\"lines+markers\",\"name\":\"Action 0\",\"showlegend\":false,\"x\":[4,5],\"y\":[55,55],\"type\":\"scatter\"},{\"line\":{\"color\":\"rgb(68, 1, 84)\",\"width\":2},\"mode\":\"lines+markers\",\"name\":\"Action 0\",\"showlegend\":false,\"x\":[4,5],\"y\":[56,56],\"type\":\"scatter\"},{\"line\":{\"color\":\"rgb(68, 1, 84)\",\"width\":2},\"mode\":\"lines+markers\",\"name\":\"Action 0\",\"showlegend\":false,\"x\":[4,5],\"y\":[57,57],\"type\":\"scatter\"},{\"line\":{\"color\":\"rgb(68, 1, 84)\",\"width\":2},\"mode\":\"lines+markers\",\"name\":\"Action 0\",\"showlegend\":false,\"x\":[4,5],\"y\":[58,58],\"type\":\"scatter\"},{\"line\":{\"color\":\"rgb(68, 1, 84)\",\"width\":2},\"mode\":\"lines+markers\",\"name\":\"Action 0\",\"showlegend\":false,\"x\":[4,5],\"y\":[59,59],\"type\":\"scatter\"},{\"line\":{\"color\":\"rgb(68, 1, 84)\",\"width\":2},\"mode\":\"lines+markers\",\"name\":\"Action 0\",\"showlegend\":false,\"x\":[4,5],\"y\":[60,60],\"type\":\"scatter\"},{\"line\":{\"color\":\"rgb(68, 1, 84)\",\"width\":2},\"mode\":\"lines+markers\",\"name\":\"Action 0\",\"showlegend\":false,\"x\":[4,5],\"y\":[61,61],\"type\":\"scatter\"},{\"line\":{\"color\":\"rgb(68, 1, 84)\",\"width\":2},\"mode\":\"lines+markers\",\"name\":\"Action 0\",\"showlegend\":false,\"x\":[4,5],\"y\":[62,62],\"type\":\"scatter\"},{\"line\":{\"color\":\"rgb(68, 1, 84)\",\"width\":2},\"mode\":\"lines+markers\",\"name\":\"Action 0\",\"showlegend\":false,\"x\":[4,5],\"y\":[63,63],\"type\":\"scatter\"},{\"line\":{\"color\":\"rgb(68, 1, 84)\",\"width\":2},\"mode\":\"lines+markers\",\"name\":\"Action 0\",\"showlegend\":false,\"x\":[4,5],\"y\":[64,64],\"type\":\"scatter\"},{\"line\":{\"color\":\"rgb(68, 1, 84)\",\"width\":2},\"mode\":\"lines+markers\",\"name\":\"Action 0\",\"showlegend\":false,\"x\":[4,5],\"y\":[65,65],\"type\":\"scatter\"},{\"line\":{\"color\":\"rgb(68, 1, 84)\",\"width\":2},\"mode\":\"lines+markers\",\"name\":\"Action 0\",\"showlegend\":false,\"x\":[4,5],\"y\":[66,66],\"type\":\"scatter\"},{\"line\":{\"color\":\"rgb(68, 1, 84)\",\"width\":2},\"mode\":\"lines+markers\",\"name\":\"Action 0\",\"showlegend\":false,\"x\":[4,5],\"y\":[67,67],\"type\":\"scatter\"},{\"line\":{\"color\":\"rgb(68, 1, 84)\",\"width\":2},\"mode\":\"lines+markers\",\"name\":\"Action 0\",\"showlegend\":false,\"x\":[4,5],\"y\":[68,68],\"type\":\"scatter\"},{\"line\":{\"color\":\"rgb(68, 1, 84)\",\"width\":2},\"mode\":\"lines+markers\",\"name\":\"Action 0\",\"showlegend\":false,\"x\":[4,5],\"y\":[69,69],\"type\":\"scatter\"},{\"line\":{\"color\":\"rgb(68, 1, 84)\",\"width\":2},\"mode\":\"lines+markers\",\"name\":\"Action 0\",\"showlegend\":false,\"x\":[4,5],\"y\":[70,70],\"type\":\"scatter\"},{\"line\":{\"color\":\"rgb(68, 1, 84)\",\"width\":2},\"mode\":\"lines+markers\",\"name\":\"Action 0\",\"showlegend\":false,\"x\":[4,5],\"y\":[71,71],\"type\":\"scatter\"},{\"line\":{\"color\":\"rgb(68, 1, 84)\",\"width\":2},\"mode\":\"lines+markers\",\"name\":\"Action 0\",\"showlegend\":false,\"x\":[4,5],\"y\":[73,73],\"type\":\"scatter\"},{\"line\":{\"color\":\"rgb(68, 1, 84)\",\"width\":2},\"mode\":\"lines+markers\",\"name\":\"Action 0\",\"showlegend\":false,\"x\":[4,5],\"y\":[74,74],\"type\":\"scatter\"},{\"line\":{\"color\":\"rgb(68, 1, 84)\",\"width\":2},\"mode\":\"lines+markers\",\"name\":\"Action 0\",\"showlegend\":false,\"x\":[4,5],\"y\":[75,75],\"type\":\"scatter\"},{\"line\":{\"color\":\"rgb(68, 1, 84)\",\"width\":2},\"mode\":\"lines+markers\",\"name\":\"Action 0\",\"showlegend\":false,\"x\":[4,5],\"y\":[77,77],\"type\":\"scatter\"},{\"line\":{\"color\":\"rgb(68, 1, 84)\",\"width\":2},\"mode\":\"lines+markers\",\"name\":\"Action 0\",\"showlegend\":false,\"x\":[4,5],\"y\":[78,78],\"type\":\"scatter\"},{\"line\":{\"color\":\"rgb(68, 1, 84)\",\"width\":2},\"mode\":\"lines+markers\",\"name\":\"Action 0\",\"showlegend\":false,\"x\":[4,5],\"y\":[79,79],\"type\":\"scatter\"},{\"line\":{\"color\":\"rgb(68, 1, 84)\",\"width\":2},\"mode\":\"lines+markers\",\"name\":\"Action 0\",\"showlegend\":false,\"x\":[4,5],\"y\":[80,80],\"type\":\"scatter\"},{\"line\":{\"color\":\"rgb(68, 1, 84)\",\"width\":2},\"mode\":\"lines+markers\",\"name\":\"Action 0\",\"showlegend\":false,\"x\":[4,5],\"y\":[81,81],\"type\":\"scatter\"},{\"line\":{\"color\":\"rgb(68, 1, 84)\",\"width\":2},\"mode\":\"lines+markers\",\"name\":\"Action 0\",\"showlegend\":false,\"x\":[4,5],\"y\":[82,82],\"type\":\"scatter\"},{\"line\":{\"color\":\"rgb(68, 1, 84)\",\"width\":2},\"mode\":\"lines+markers\",\"name\":\"Action 0\",\"showlegend\":false,\"x\":[4,5],\"y\":[83,83],\"type\":\"scatter\"},{\"line\":{\"color\":\"rgb(68, 1, 84)\",\"width\":2},\"mode\":\"lines+markers\",\"name\":\"Action 0\",\"showlegend\":false,\"x\":[4,5],\"y\":[84,84],\"type\":\"scatter\"},{\"line\":{\"color\":\"rgb(68, 1, 84)\",\"width\":2},\"mode\":\"lines+markers\",\"name\":\"Action 0\",\"showlegend\":false,\"x\":[4,5],\"y\":[85,85],\"type\":\"scatter\"},{\"line\":{\"color\":\"rgb(68, 1, 84)\",\"width\":2},\"mode\":\"lines+markers\",\"name\":\"Action 0\",\"showlegend\":false,\"x\":[4,5],\"y\":[86,86],\"type\":\"scatter\"},{\"line\":{\"color\":\"rgb(68, 1, 84)\",\"width\":2},\"mode\":\"lines+markers\",\"name\":\"Action 0\",\"showlegend\":false,\"x\":[4,5],\"y\":[87,87],\"type\":\"scatter\"},{\"line\":{\"color\":\"rgb(68, 1, 84)\",\"width\":2},\"mode\":\"lines+markers\",\"name\":\"Action 0\",\"showlegend\":false,\"x\":[4,5],\"y\":[88,88],\"type\":\"scatter\"},{\"line\":{\"color\":\"rgb(68, 1, 84)\",\"width\":2},\"mode\":\"lines+markers\",\"name\":\"Action 0\",\"showlegend\":false,\"x\":[4,5],\"y\":[89,89],\"type\":\"scatter\"},{\"line\":{\"color\":\"rgb(68, 1, 84)\",\"width\":2},\"mode\":\"lines+markers\",\"name\":\"Action 0\",\"showlegend\":false,\"x\":[4,5],\"y\":[90,90],\"type\":\"scatter\"},{\"line\":{\"color\":\"rgb(68, 1, 84)\",\"width\":2},\"mode\":\"lines+markers\",\"name\":\"Action 0\",\"showlegend\":false,\"x\":[4,5],\"y\":[91,91],\"type\":\"scatter\"},{\"line\":{\"color\":\"rgb(68, 1, 84)\",\"width\":2},\"mode\":\"lines+markers\",\"name\":\"Action 0\",\"showlegend\":false,\"x\":[4,5],\"y\":[92,92],\"type\":\"scatter\"},{\"line\":{\"color\":\"rgb(68, 1, 84)\",\"width\":2},\"mode\":\"lines+markers\",\"name\":\"Action 0\",\"showlegend\":false,\"x\":[4,5],\"y\":[93,93],\"type\":\"scatter\"},{\"line\":{\"color\":\"rgb(68, 1, 84)\",\"width\":2},\"mode\":\"lines+markers\",\"name\":\"Action 0\",\"showlegend\":false,\"x\":[4,5],\"y\":[94,94],\"type\":\"scatter\"},{\"line\":{\"color\":\"rgb(68, 1, 84)\",\"width\":2},\"mode\":\"lines+markers\",\"name\":\"Action 0\",\"showlegend\":false,\"x\":[4,5],\"y\":[95,95],\"type\":\"scatter\"},{\"line\":{\"color\":\"rgb(68, 1, 84)\",\"width\":2},\"mode\":\"lines+markers\",\"name\":\"Action 0\",\"showlegend\":false,\"x\":[4,5],\"y\":[96,96],\"type\":\"scatter\"},{\"line\":{\"color\":\"rgb(68, 1, 84)\",\"width\":2},\"mode\":\"lines+markers\",\"name\":\"Action 0\",\"showlegend\":false,\"x\":[4,5],\"y\":[97,97],\"type\":\"scatter\"},{\"line\":{\"color\":\"rgb(68, 1, 84)\",\"width\":2},\"mode\":\"lines+markers\",\"name\":\"Action 0\",\"showlegend\":false,\"x\":[4,5],\"y\":[98,98],\"type\":\"scatter\"},{\"line\":{\"color\":\"rgb(68, 1, 84)\",\"width\":2},\"mode\":\"lines+markers\",\"name\":\"Action 0\",\"showlegend\":false,\"x\":[4,5],\"y\":[99,99],\"type\":\"scatter\"},{\"line\":{\"color\":\"rgb(68, 1, 84)\",\"width\":2},\"mode\":\"lines+markers\",\"name\":\"Action 0\",\"showlegend\":false,\"x\":[4,5],\"y\":[100,100],\"type\":\"scatter\"},{\"line\":{\"color\":\"rgb(68, 1, 84)\",\"width\":2},\"mode\":\"lines+markers\",\"name\":\"Action 0\",\"showlegend\":false,\"x\":[5,6],\"y\":[0,0],\"type\":\"scatter\"},{\"line\":{\"color\":\"rgb(68, 1, 84)\",\"width\":2},\"mode\":\"lines+markers\",\"name\":\"Action 0\",\"showlegend\":false,\"x\":[5,6],\"y\":[2,2],\"type\":\"scatter\"},{\"line\":{\"color\":\"rgb(68, 1, 84)\",\"width\":2},\"mode\":\"lines+markers\",\"name\":\"Action 0\",\"showlegend\":false,\"x\":[5,6],\"y\":[4,4],\"type\":\"scatter\"},{\"line\":{\"color\":\"rgb(68, 1, 84)\",\"width\":2},\"mode\":\"lines+markers\",\"name\":\"Action 0\",\"showlegend\":false,\"x\":[5,6],\"y\":[5,5],\"type\":\"scatter\"},{\"line\":{\"color\":\"rgb(68, 1, 84)\",\"width\":2},\"mode\":\"lines+markers\",\"name\":\"Action 0\",\"showlegend\":false,\"x\":[5,6],\"y\":[6,6],\"type\":\"scatter\"},{\"line\":{\"color\":\"rgb(68, 1, 84)\",\"width\":2},\"mode\":\"lines+markers\",\"name\":\"Action 0\",\"showlegend\":false,\"x\":[5,6],\"y\":[7,7],\"type\":\"scatter\"},{\"line\":{\"color\":\"rgb(68, 1, 84)\",\"width\":2},\"mode\":\"lines+markers\",\"name\":\"Action 0\",\"showlegend\":false,\"x\":[5,6],\"y\":[12,12],\"type\":\"scatter\"},{\"line\":{\"color\":\"rgb(68, 1, 84)\",\"width\":2},\"mode\":\"lines+markers\",\"name\":\"Action 0\",\"showlegend\":false,\"x\":[5,6],\"y\":[18,18],\"type\":\"scatter\"},{\"line\":{\"color\":\"rgb(68, 1, 84)\",\"width\":2},\"mode\":\"lines+markers\",\"name\":\"Action 0\",\"showlegend\":false,\"x\":[5,6],\"y\":[23,23],\"type\":\"scatter\"},{\"line\":{\"color\":\"rgb(68, 1, 84)\",\"width\":2},\"mode\":\"lines+markers\",\"name\":\"Action 0\",\"showlegend\":false,\"x\":[5,6],\"y\":[28,28],\"type\":\"scatter\"},{\"line\":{\"color\":\"rgb(68, 1, 84)\",\"width\":2},\"mode\":\"lines+markers\",\"name\":\"Action 0\",\"showlegend\":false,\"x\":[5,6],\"y\":[29,29],\"type\":\"scatter\"},{\"line\":{\"color\":\"rgb(68, 1, 84)\",\"width\":2},\"mode\":\"lines+markers\",\"name\":\"Action 0\",\"showlegend\":false,\"x\":[5,6],\"y\":[34,34],\"type\":\"scatter\"},{\"line\":{\"color\":\"rgb(68, 1, 84)\",\"width\":2},\"mode\":\"lines+markers\",\"name\":\"Action 0\",\"showlegend\":false,\"x\":[5,6],\"y\":[35,35],\"type\":\"scatter\"},{\"line\":{\"color\":\"rgb(68, 1, 84)\",\"width\":2},\"mode\":\"lines+markers\",\"name\":\"Action 0\",\"showlegend\":false,\"x\":[5,6],\"y\":[37,37],\"type\":\"scatter\"},{\"line\":{\"color\":\"rgb(68, 1, 84)\",\"width\":2},\"mode\":\"lines+markers\",\"name\":\"Action 0\",\"showlegend\":false,\"x\":[5,6],\"y\":[38,38],\"type\":\"scatter\"},{\"line\":{\"color\":\"rgb(68, 1, 84)\",\"width\":2},\"mode\":\"lines+markers\",\"name\":\"Action 0\",\"showlegend\":false,\"x\":[5,6],\"y\":[39,39],\"type\":\"scatter\"},{\"line\":{\"color\":\"rgb(68, 1, 84)\",\"width\":2},\"mode\":\"lines+markers\",\"name\":\"Action 0\",\"showlegend\":false,\"x\":[5,6],\"y\":[42,42],\"type\":\"scatter\"},{\"line\":{\"color\":\"rgb(68, 1, 84)\",\"width\":2},\"mode\":\"lines+markers\",\"name\":\"Action 0\",\"showlegend\":false,\"x\":[5,6],\"y\":[43,43],\"type\":\"scatter\"},{\"line\":{\"color\":\"rgb(68, 1, 84)\",\"width\":2},\"mode\":\"lines+markers\",\"name\":\"Action 0\",\"showlegend\":false,\"x\":[5,6],\"y\":[44,44],\"type\":\"scatter\"},{\"line\":{\"color\":\"rgb(68, 1, 84)\",\"width\":2},\"mode\":\"lines+markers\",\"name\":\"Action 0\",\"showlegend\":false,\"x\":[5,6],\"y\":[45,45],\"type\":\"scatter\"},{\"line\":{\"color\":\"rgb(68, 1, 84)\",\"width\":2},\"mode\":\"lines+markers\",\"name\":\"Action 0\",\"showlegend\":false,\"x\":[5,6],\"y\":[47,47],\"type\":\"scatter\"},{\"line\":{\"color\":\"rgb(68, 1, 84)\",\"width\":2},\"mode\":\"lines+markers\",\"name\":\"Action 0\",\"showlegend\":false,\"x\":[5,6],\"y\":[48,48],\"type\":\"scatter\"},{\"line\":{\"color\":\"rgb(68, 1, 84)\",\"width\":2},\"mode\":\"lines+markers\",\"name\":\"Action 0\",\"showlegend\":false,\"x\":[5,6],\"y\":[49,49],\"type\":\"scatter\"},{\"line\":{\"color\":\"rgb(68, 1, 84)\",\"width\":2},\"mode\":\"lines+markers\",\"name\":\"Action 0\",\"showlegend\":false,\"x\":[5,6],\"y\":[50,50],\"type\":\"scatter\"},{\"line\":{\"color\":\"rgb(68, 1, 84)\",\"width\":2},\"mode\":\"lines+markers\",\"name\":\"Action 0\",\"showlegend\":false,\"x\":[5,6],\"y\":[51,51],\"type\":\"scatter\"},{\"line\":{\"color\":\"rgb(68, 1, 84)\",\"width\":2},\"mode\":\"lines+markers\",\"name\":\"Action 0\",\"showlegend\":false,\"x\":[5,6],\"y\":[52,52],\"type\":\"scatter\"},{\"line\":{\"color\":\"rgb(68, 1, 84)\",\"width\":2},\"mode\":\"lines+markers\",\"name\":\"Action 0\",\"showlegend\":false,\"x\":[5,6],\"y\":[53,53],\"type\":\"scatter\"},{\"line\":{\"color\":\"rgb(68, 1, 84)\",\"width\":2},\"mode\":\"lines+markers\",\"name\":\"Action 0\",\"showlegend\":false,\"x\":[5,6],\"y\":[54,54],\"type\":\"scatter\"},{\"line\":{\"color\":\"rgb(68, 1, 84)\",\"width\":2},\"mode\":\"lines+markers\",\"name\":\"Action 0\",\"showlegend\":false,\"x\":[5,6],\"y\":[55,55],\"type\":\"scatter\"},{\"line\":{\"color\":\"rgb(68, 1, 84)\",\"width\":2},\"mode\":\"lines+markers\",\"name\":\"Action 0\",\"showlegend\":false,\"x\":[5,6],\"y\":[56,56],\"type\":\"scatter\"},{\"line\":{\"color\":\"rgb(68, 1, 84)\",\"width\":2},\"mode\":\"lines+markers\",\"name\":\"Action 0\",\"showlegend\":false,\"x\":[5,6],\"y\":[57,57],\"type\":\"scatter\"},{\"line\":{\"color\":\"rgb(68, 1, 84)\",\"width\":2},\"mode\":\"lines+markers\",\"name\":\"Action 0\",\"showlegend\":false,\"x\":[5,6],\"y\":[58,58],\"type\":\"scatter\"},{\"line\":{\"color\":\"rgb(68, 1, 84)\",\"width\":2},\"mode\":\"lines+markers\",\"name\":\"Action 0\",\"showlegend\":false,\"x\":[5,6],\"y\":[59,59],\"type\":\"scatter\"},{\"line\":{\"color\":\"rgb(68, 1, 84)\",\"width\":2},\"mode\":\"lines+markers\",\"name\":\"Action 0\",\"showlegend\":false,\"x\":[5,6],\"y\":[60,60],\"type\":\"scatter\"},{\"line\":{\"color\":\"rgb(68, 1, 84)\",\"width\":2},\"mode\":\"lines+markers\",\"name\":\"Action 0\",\"showlegend\":false,\"x\":[5,6],\"y\":[61,61],\"type\":\"scatter\"},{\"line\":{\"color\":\"rgb(68, 1, 84)\",\"width\":2},\"mode\":\"lines+markers\",\"name\":\"Action 0\",\"showlegend\":false,\"x\":[5,6],\"y\":[62,62],\"type\":\"scatter\"},{\"line\":{\"color\":\"rgb(68, 1, 84)\",\"width\":2},\"mode\":\"lines+markers\",\"name\":\"Action 0\",\"showlegend\":false,\"x\":[5,6],\"y\":[63,63],\"type\":\"scatter\"},{\"line\":{\"color\":\"rgb(68, 1, 84)\",\"width\":2},\"mode\":\"lines+markers\",\"name\":\"Action 0\",\"showlegend\":false,\"x\":[5,6],\"y\":[64,64],\"type\":\"scatter\"},{\"line\":{\"color\":\"rgb(68, 1, 84)\",\"width\":2},\"mode\":\"lines+markers\",\"name\":\"Action 0\",\"showlegend\":false,\"x\":[5,6],\"y\":[65,65],\"type\":\"scatter\"},{\"line\":{\"color\":\"rgb(68, 1, 84)\",\"width\":2},\"mode\":\"lines+markers\",\"name\":\"Action 0\",\"showlegend\":false,\"x\":[5,6],\"y\":[66,66],\"type\":\"scatter\"},{\"line\":{\"color\":\"rgb(68, 1, 84)\",\"width\":2},\"mode\":\"lines+markers\",\"name\":\"Action 0\",\"showlegend\":false,\"x\":[5,6],\"y\":[67,67],\"type\":\"scatter\"},{\"line\":{\"color\":\"rgb(68, 1, 84)\",\"width\":2},\"mode\":\"lines+markers\",\"name\":\"Action 0\",\"showlegend\":false,\"x\":[5,6],\"y\":[68,68],\"type\":\"scatter\"},{\"line\":{\"color\":\"rgb(68, 1, 84)\",\"width\":2},\"mode\":\"lines+markers\",\"name\":\"Action 0\",\"showlegend\":false,\"x\":[5,6],\"y\":[69,69],\"type\":\"scatter\"},{\"line\":{\"color\":\"rgb(68, 1, 84)\",\"width\":2},\"mode\":\"lines+markers\",\"name\":\"Action 0\",\"showlegend\":false,\"x\":[5,6],\"y\":[70,70],\"type\":\"scatter\"},{\"line\":{\"color\":\"rgb(68, 1, 84)\",\"width\":2},\"mode\":\"lines+markers\",\"name\":\"Action 0\",\"showlegend\":false,\"x\":[5,6],\"y\":[71,71],\"type\":\"scatter\"},{\"line\":{\"color\":\"rgb(68, 1, 84)\",\"width\":2},\"mode\":\"lines+markers\",\"name\":\"Action 0\",\"showlegend\":false,\"x\":[5,6],\"y\":[72,72],\"type\":\"scatter\"},{\"line\":{\"color\":\"rgb(68, 1, 84)\",\"width\":2},\"mode\":\"lines+markers\",\"name\":\"Action 0\",\"showlegend\":false,\"x\":[5,6],\"y\":[73,73],\"type\":\"scatter\"},{\"line\":{\"color\":\"rgb(68, 1, 84)\",\"width\":2},\"mode\":\"lines+markers\",\"name\":\"Action 0\",\"showlegend\":false,\"x\":[5,6],\"y\":[74,74],\"type\":\"scatter\"},{\"line\":{\"color\":\"rgb(68, 1, 84)\",\"width\":2},\"mode\":\"lines+markers\",\"name\":\"Action 0\",\"showlegend\":false,\"x\":[5,6],\"y\":[75,75],\"type\":\"scatter\"},{\"line\":{\"color\":\"rgb(68, 1, 84)\",\"width\":2},\"mode\":\"lines+markers\",\"name\":\"Action 0\",\"showlegend\":false,\"x\":[5,6],\"y\":[77,77],\"type\":\"scatter\"},{\"line\":{\"color\":\"rgb(68, 1, 84)\",\"width\":2},\"mode\":\"lines+markers\",\"name\":\"Action 0\",\"showlegend\":false,\"x\":[5,6],\"y\":[78,78],\"type\":\"scatter\"},{\"line\":{\"color\":\"rgb(68, 1, 84)\",\"width\":2},\"mode\":\"lines+markers\",\"name\":\"Action 0\",\"showlegend\":false,\"x\":[5,6],\"y\":[79,79],\"type\":\"scatter\"},{\"line\":{\"color\":\"rgb(68, 1, 84)\",\"width\":2},\"mode\":\"lines+markers\",\"name\":\"Action 0\",\"showlegend\":false,\"x\":[5,6],\"y\":[80,80],\"type\":\"scatter\"},{\"line\":{\"color\":\"rgb(68, 1, 84)\",\"width\":2},\"mode\":\"lines+markers\",\"name\":\"Action 0\",\"showlegend\":false,\"x\":[5,6],\"y\":[81,81],\"type\":\"scatter\"},{\"line\":{\"color\":\"rgb(68, 1, 84)\",\"width\":2},\"mode\":\"lines+markers\",\"name\":\"Action 0\",\"showlegend\":false,\"x\":[5,6],\"y\":[82,82],\"type\":\"scatter\"},{\"line\":{\"color\":\"rgb(68, 1, 84)\",\"width\":2},\"mode\":\"lines+markers\",\"name\":\"Action 0\",\"showlegend\":false,\"x\":[5,6],\"y\":[83,83],\"type\":\"scatter\"},{\"line\":{\"color\":\"rgb(68, 1, 84)\",\"width\":2},\"mode\":\"lines+markers\",\"name\":\"Action 0\",\"showlegend\":false,\"x\":[5,6],\"y\":[84,84],\"type\":\"scatter\"},{\"line\":{\"color\":\"rgb(68, 1, 84)\",\"width\":2},\"mode\":\"lines+markers\",\"name\":\"Action 0\",\"showlegend\":false,\"x\":[5,6],\"y\":[86,86],\"type\":\"scatter\"},{\"line\":{\"color\":\"rgb(68, 1, 84)\",\"width\":2},\"mode\":\"lines+markers\",\"name\":\"Action 0\",\"showlegend\":false,\"x\":[5,6],\"y\":[87,87],\"type\":\"scatter\"},{\"line\":{\"color\":\"rgb(68, 1, 84)\",\"width\":2},\"mode\":\"lines+markers\",\"name\":\"Action 0\",\"showlegend\":false,\"x\":[5,6],\"y\":[88,88],\"type\":\"scatter\"},{\"line\":{\"color\":\"rgb(68, 1, 84)\",\"width\":2},\"mode\":\"lines+markers\",\"name\":\"Action 0\",\"showlegend\":false,\"x\":[5,6],\"y\":[89,89],\"type\":\"scatter\"},{\"line\":{\"color\":\"rgb(68, 1, 84)\",\"width\":2},\"mode\":\"lines+markers\",\"name\":\"Action 0\",\"showlegend\":false,\"x\":[5,6],\"y\":[90,90],\"type\":\"scatter\"},{\"line\":{\"color\":\"rgb(68, 1, 84)\",\"width\":2},\"mode\":\"lines+markers\",\"name\":\"Action 0\",\"showlegend\":false,\"x\":[5,6],\"y\":[91,91],\"type\":\"scatter\"},{\"line\":{\"color\":\"rgb(68, 1, 84)\",\"width\":2},\"mode\":\"lines+markers\",\"name\":\"Action 0\",\"showlegend\":false,\"x\":[5,6],\"y\":[92,92],\"type\":\"scatter\"},{\"line\":{\"color\":\"rgb(68, 1, 84)\",\"width\":2},\"mode\":\"lines+markers\",\"name\":\"Action 0\",\"showlegend\":false,\"x\":[5,6],\"y\":[93,93],\"type\":\"scatter\"},{\"line\":{\"color\":\"rgb(68, 1, 84)\",\"width\":2},\"mode\":\"lines+markers\",\"name\":\"Action 0\",\"showlegend\":false,\"x\":[5,6],\"y\":[94,94],\"type\":\"scatter\"},{\"line\":{\"color\":\"rgb(68, 1, 84)\",\"width\":2},\"mode\":\"lines+markers\",\"name\":\"Action 0\",\"showlegend\":false,\"x\":[5,6],\"y\":[95,95],\"type\":\"scatter\"},{\"line\":{\"color\":\"rgb(68, 1, 84)\",\"width\":2},\"mode\":\"lines+markers\",\"name\":\"Action 0\",\"showlegend\":false,\"x\":[5,6],\"y\":[96,96],\"type\":\"scatter\"},{\"line\":{\"color\":\"rgb(68, 1, 84)\",\"width\":2},\"mode\":\"lines+markers\",\"name\":\"Action 0\",\"showlegend\":false,\"x\":[5,6],\"y\":[97,97],\"type\":\"scatter\"},{\"line\":{\"color\":\"rgb(68, 1, 84)\",\"width\":2},\"mode\":\"lines+markers\",\"name\":\"Action 0\",\"showlegend\":false,\"x\":[5,6],\"y\":[98,98],\"type\":\"scatter\"},{\"line\":{\"color\":\"rgb(68, 1, 84)\",\"width\":2},\"mode\":\"lines+markers\",\"name\":\"Action 0\",\"showlegend\":false,\"x\":[5,6],\"y\":[100,100],\"type\":\"scatter\"},{\"line\":{\"color\":\"rgb(68, 1, 84)\",\"width\":2},\"mode\":\"lines+markers\",\"name\":\"Action 0\",\"showlegend\":false,\"x\":[6,7],\"y\":[0,0],\"type\":\"scatter\"},{\"line\":{\"color\":\"rgb(68, 1, 84)\",\"width\":2},\"mode\":\"lines+markers\",\"name\":\"Action 0\",\"showlegend\":false,\"x\":[6,7],\"y\":[1,1],\"type\":\"scatter\"},{\"line\":{\"color\":\"rgb(68, 1, 84)\",\"width\":2},\"mode\":\"lines+markers\",\"name\":\"Action 0\",\"showlegend\":false,\"x\":[6,7],\"y\":[4,4],\"type\":\"scatter\"},{\"line\":{\"color\":\"rgb(68, 1, 84)\",\"width\":2},\"mode\":\"lines+markers\",\"name\":\"Action 0\",\"showlegend\":false,\"x\":[6,7],\"y\":[6,6],\"type\":\"scatter\"},{\"line\":{\"color\":\"rgb(68, 1, 84)\",\"width\":2},\"mode\":\"lines+markers\",\"name\":\"Action 0\",\"showlegend\":false,\"x\":[6,7],\"y\":[8,8],\"type\":\"scatter\"},{\"line\":{\"color\":\"rgb(68, 1, 84)\",\"width\":2},\"mode\":\"lines+markers\",\"name\":\"Action 0\",\"showlegend\":false,\"x\":[6,7],\"y\":[14,14],\"type\":\"scatter\"},{\"line\":{\"color\":\"rgb(68, 1, 84)\",\"width\":2},\"mode\":\"lines+markers\",\"name\":\"Action 0\",\"showlegend\":false,\"x\":[6,7],\"y\":[43,43],\"type\":\"scatter\"},{\"line\":{\"color\":\"rgb(68, 1, 84)\",\"width\":2},\"mode\":\"lines+markers\",\"name\":\"Action 0\",\"showlegend\":false,\"x\":[6,7],\"y\":[45,45],\"type\":\"scatter\"},{\"line\":{\"color\":\"rgb(68, 1, 84)\",\"width\":2},\"mode\":\"lines+markers\",\"name\":\"Action 0\",\"showlegend\":false,\"x\":[6,7],\"y\":[49,49],\"type\":\"scatter\"},{\"line\":{\"color\":\"rgb(68, 1, 84)\",\"width\":2},\"mode\":\"lines+markers\",\"name\":\"Action 0\",\"showlegend\":false,\"x\":[6,7],\"y\":[51,51],\"type\":\"scatter\"},{\"line\":{\"color\":\"rgb(68, 1, 84)\",\"width\":2},\"mode\":\"lines+markers\",\"name\":\"Action 0\",\"showlegend\":false,\"x\":[6,7],\"y\":[53,53],\"type\":\"scatter\"},{\"line\":{\"color\":\"rgb(68, 1, 84)\",\"width\":2},\"mode\":\"lines+markers\",\"name\":\"Action 0\",\"showlegend\":false,\"x\":[6,7],\"y\":[54,54],\"type\":\"scatter\"},{\"line\":{\"color\":\"rgb(68, 1, 84)\",\"width\":2},\"mode\":\"lines+markers\",\"name\":\"Action 0\",\"showlegend\":false,\"x\":[6,7],\"y\":[55,55],\"type\":\"scatter\"},{\"line\":{\"color\":\"rgb(68, 1, 84)\",\"width\":2},\"mode\":\"lines+markers\",\"name\":\"Action 0\",\"showlegend\":false,\"x\":[6,7],\"y\":[56,56],\"type\":\"scatter\"},{\"line\":{\"color\":\"rgb(68, 1, 84)\",\"width\":2},\"mode\":\"lines+markers\",\"name\":\"Action 0\",\"showlegend\":false,\"x\":[6,7],\"y\":[57,57],\"type\":\"scatter\"},{\"line\":{\"color\":\"rgb(68, 1, 84)\",\"width\":2},\"mode\":\"lines+markers\",\"name\":\"Action 0\",\"showlegend\":false,\"x\":[6,7],\"y\":[58,58],\"type\":\"scatter\"},{\"line\":{\"color\":\"rgb(68, 1, 84)\",\"width\":2},\"mode\":\"lines+markers\",\"name\":\"Action 0\",\"showlegend\":false,\"x\":[6,7],\"y\":[59,59],\"type\":\"scatter\"},{\"line\":{\"color\":\"rgb(68, 1, 84)\",\"width\":2},\"mode\":\"lines+markers\",\"name\":\"Action 0\",\"showlegend\":false,\"x\":[6,7],\"y\":[60,60],\"type\":\"scatter\"},{\"line\":{\"color\":\"rgb(68, 1, 84)\",\"width\":2},\"mode\":\"lines+markers\",\"name\":\"Action 0\",\"showlegend\":false,\"x\":[6,7],\"y\":[61,61],\"type\":\"scatter\"},{\"line\":{\"color\":\"rgb(68, 1, 84)\",\"width\":2},\"mode\":\"lines+markers\",\"name\":\"Action 0\",\"showlegend\":false,\"x\":[6,7],\"y\":[62,62],\"type\":\"scatter\"},{\"line\":{\"color\":\"rgb(68, 1, 84)\",\"width\":2},\"mode\":\"lines+markers\",\"name\":\"Action 0\",\"showlegend\":false,\"x\":[6,7],\"y\":[63,63],\"type\":\"scatter\"},{\"line\":{\"color\":\"rgb(68, 1, 84)\",\"width\":2},\"mode\":\"lines+markers\",\"name\":\"Action 0\",\"showlegend\":false,\"x\":[6,7],\"y\":[64,64],\"type\":\"scatter\"},{\"line\":{\"color\":\"rgb(68, 1, 84)\",\"width\":2},\"mode\":\"lines+markers\",\"name\":\"Action 0\",\"showlegend\":false,\"x\":[6,7],\"y\":[65,65],\"type\":\"scatter\"},{\"line\":{\"color\":\"rgb(68, 1, 84)\",\"width\":2},\"mode\":\"lines+markers\",\"name\":\"Action 0\",\"showlegend\":false,\"x\":[6,7],\"y\":[66,66],\"type\":\"scatter\"},{\"line\":{\"color\":\"rgb(68, 1, 84)\",\"width\":2},\"mode\":\"lines+markers\",\"name\":\"Action 0\",\"showlegend\":false,\"x\":[6,7],\"y\":[67,67],\"type\":\"scatter\"},{\"line\":{\"color\":\"rgb(68, 1, 84)\",\"width\":2},\"mode\":\"lines+markers\",\"name\":\"Action 0\",\"showlegend\":false,\"x\":[6,7],\"y\":[68,68],\"type\":\"scatter\"},{\"line\":{\"color\":\"rgb(68, 1, 84)\",\"width\":2},\"mode\":\"lines+markers\",\"name\":\"Action 0\",\"showlegend\":false,\"x\":[6,7],\"y\":[69,69],\"type\":\"scatter\"},{\"line\":{\"color\":\"rgb(68, 1, 84)\",\"width\":2},\"mode\":\"lines+markers\",\"name\":\"Action 0\",\"showlegend\":false,\"x\":[6,7],\"y\":[70,70],\"type\":\"scatter\"},{\"line\":{\"color\":\"rgb(68, 1, 84)\",\"width\":2},\"mode\":\"lines+markers\",\"name\":\"Action 0\",\"showlegend\":false,\"x\":[6,7],\"y\":[71,71],\"type\":\"scatter\"},{\"line\":{\"color\":\"rgb(68, 1, 84)\",\"width\":2},\"mode\":\"lines+markers\",\"name\":\"Action 0\",\"showlegend\":false,\"x\":[6,7],\"y\":[72,72],\"type\":\"scatter\"},{\"line\":{\"color\":\"rgb(68, 1, 84)\",\"width\":2},\"mode\":\"lines+markers\",\"name\":\"Action 0\",\"showlegend\":false,\"x\":[6,7],\"y\":[74,74],\"type\":\"scatter\"},{\"line\":{\"color\":\"rgb(68, 1, 84)\",\"width\":2},\"mode\":\"lines+markers\",\"name\":\"Action 0\",\"showlegend\":false,\"x\":[6,7],\"y\":[75,75],\"type\":\"scatter\"},{\"line\":{\"color\":\"rgb(68, 1, 84)\",\"width\":2},\"mode\":\"lines+markers\",\"name\":\"Action 0\",\"showlegend\":false,\"x\":[6,7],\"y\":[76,76],\"type\":\"scatter\"},{\"line\":{\"color\":\"rgb(68, 1, 84)\",\"width\":2},\"mode\":\"lines+markers\",\"name\":\"Action 0\",\"showlegend\":false,\"x\":[6,7],\"y\":[77,77],\"type\":\"scatter\"},{\"line\":{\"color\":\"rgb(68, 1, 84)\",\"width\":2},\"mode\":\"lines+markers\",\"name\":\"Action 0\",\"showlegend\":false,\"x\":[6,7],\"y\":[78,78],\"type\":\"scatter\"},{\"line\":{\"color\":\"rgb(68, 1, 84)\",\"width\":2},\"mode\":\"lines+markers\",\"name\":\"Action 0\",\"showlegend\":false,\"x\":[6,7],\"y\":[79,79],\"type\":\"scatter\"},{\"line\":{\"color\":\"rgb(68, 1, 84)\",\"width\":2},\"mode\":\"lines+markers\",\"name\":\"Action 0\",\"showlegend\":false,\"x\":[6,7],\"y\":[80,80],\"type\":\"scatter\"},{\"line\":{\"color\":\"rgb(68, 1, 84)\",\"width\":2},\"mode\":\"lines+markers\",\"name\":\"Action 0\",\"showlegend\":false,\"x\":[6,7],\"y\":[81,81],\"type\":\"scatter\"},{\"line\":{\"color\":\"rgb(68, 1, 84)\",\"width\":2},\"mode\":\"lines+markers\",\"name\":\"Action 0\",\"showlegend\":false,\"x\":[6,7],\"y\":[82,82],\"type\":\"scatter\"},{\"line\":{\"color\":\"rgb(68, 1, 84)\",\"width\":2},\"mode\":\"lines+markers\",\"name\":\"Action 0\",\"showlegend\":false,\"x\":[6,7],\"y\":[83,83],\"type\":\"scatter\"},{\"line\":{\"color\":\"rgb(68, 1, 84)\",\"width\":2},\"mode\":\"lines+markers\",\"name\":\"Action 0\",\"showlegend\":false,\"x\":[6,7],\"y\":[84,84],\"type\":\"scatter\"},{\"line\":{\"color\":\"rgb(68, 1, 84)\",\"width\":2},\"mode\":\"lines+markers\",\"name\":\"Action 0\",\"showlegend\":false,\"x\":[6,7],\"y\":[85,85],\"type\":\"scatter\"},{\"line\":{\"color\":\"rgb(68, 1, 84)\",\"width\":2},\"mode\":\"lines+markers\",\"name\":\"Action 0\",\"showlegend\":false,\"x\":[6,7],\"y\":[86,86],\"type\":\"scatter\"},{\"line\":{\"color\":\"rgb(68, 1, 84)\",\"width\":2},\"mode\":\"lines+markers\",\"name\":\"Action 0\",\"showlegend\":false,\"x\":[6,7],\"y\":[87,87],\"type\":\"scatter\"},{\"line\":{\"color\":\"rgb(68, 1, 84)\",\"width\":2},\"mode\":\"lines+markers\",\"name\":\"Action 0\",\"showlegend\":false,\"x\":[6,7],\"y\":[88,88],\"type\":\"scatter\"},{\"line\":{\"color\":\"rgb(68, 1, 84)\",\"width\":2},\"mode\":\"lines+markers\",\"name\":\"Action 0\",\"showlegend\":false,\"x\":[6,7],\"y\":[89,89],\"type\":\"scatter\"},{\"line\":{\"color\":\"rgb(68, 1, 84)\",\"width\":2},\"mode\":\"lines+markers\",\"name\":\"Action 0\",\"showlegend\":false,\"x\":[6,7],\"y\":[90,90],\"type\":\"scatter\"},{\"line\":{\"color\":\"rgb(68, 1, 84)\",\"width\":2},\"mode\":\"lines+markers\",\"name\":\"Action 0\",\"showlegend\":false,\"x\":[6,7],\"y\":[91,91],\"type\":\"scatter\"},{\"line\":{\"color\":\"rgb(68, 1, 84)\",\"width\":2},\"mode\":\"lines+markers\",\"name\":\"Action 0\",\"showlegend\":false,\"x\":[6,7],\"y\":[92,92],\"type\":\"scatter\"},{\"line\":{\"color\":\"rgb(68, 1, 84)\",\"width\":2},\"mode\":\"lines+markers\",\"name\":\"Action 0\",\"showlegend\":false,\"x\":[6,7],\"y\":[93,93],\"type\":\"scatter\"},{\"line\":{\"color\":\"rgb(68, 1, 84)\",\"width\":2},\"mode\":\"lines+markers\",\"name\":\"Action 0\",\"showlegend\":false,\"x\":[6,7],\"y\":[94,94],\"type\":\"scatter\"},{\"line\":{\"color\":\"rgb(68, 1, 84)\",\"width\":2},\"mode\":\"lines+markers\",\"name\":\"Action 0\",\"showlegend\":false,\"x\":[6,7],\"y\":[95,95],\"type\":\"scatter\"},{\"line\":{\"color\":\"rgb(68, 1, 84)\",\"width\":2},\"mode\":\"lines+markers\",\"name\":\"Action 0\",\"showlegend\":false,\"x\":[6,7],\"y\":[96,96],\"type\":\"scatter\"},{\"line\":{\"color\":\"rgb(68, 1, 84)\",\"width\":2},\"mode\":\"lines+markers\",\"name\":\"Action 0\",\"showlegend\":false,\"x\":[6,7],\"y\":[97,97],\"type\":\"scatter\"},{\"line\":{\"color\":\"rgb(68, 1, 84)\",\"width\":2},\"mode\":\"lines+markers\",\"name\":\"Action 0\",\"showlegend\":false,\"x\":[6,7],\"y\":[98,98],\"type\":\"scatter\"},{\"line\":{\"color\":\"rgb(68, 1, 84)\",\"width\":2},\"mode\":\"lines+markers\",\"name\":\"Action 0\",\"showlegend\":false,\"x\":[6,7],\"y\":[99,99],\"type\":\"scatter\"},{\"line\":{\"color\":\"rgb(68, 1, 84)\",\"width\":2},\"mode\":\"lines+markers\",\"name\":\"Action 0\",\"showlegend\":false,\"x\":[6,7],\"y\":[100,100],\"type\":\"scatter\"},{\"line\":{\"color\":\"rgb(68, 1, 84)\",\"width\":2},\"mode\":\"lines+markers\",\"name\":\"Action 0\",\"showlegend\":false,\"x\":[7,8],\"y\":[0,0],\"type\":\"scatter\"},{\"line\":{\"color\":\"rgb(68, 1, 84)\",\"width\":2},\"mode\":\"lines+markers\",\"name\":\"Action 0\",\"showlegend\":false,\"x\":[7,8],\"y\":[1,1],\"type\":\"scatter\"},{\"line\":{\"color\":\"rgb(68, 1, 84)\",\"width\":2},\"mode\":\"lines+markers\",\"name\":\"Action 0\",\"showlegend\":false,\"x\":[7,8],\"y\":[2,2],\"type\":\"scatter\"},{\"line\":{\"color\":\"rgb(68, 1, 84)\",\"width\":2},\"mode\":\"lines+markers\",\"name\":\"Action 0\",\"showlegend\":false,\"x\":[7,8],\"y\":[3,3],\"type\":\"scatter\"},{\"line\":{\"color\":\"rgb(68, 1, 84)\",\"width\":2},\"mode\":\"lines+markers\",\"name\":\"Action 0\",\"showlegend\":false,\"x\":[7,8],\"y\":[7,7],\"type\":\"scatter\"},{\"line\":{\"color\":\"rgb(68, 1, 84)\",\"width\":2},\"mode\":\"lines+markers\",\"name\":\"Action 0\",\"showlegend\":false,\"x\":[7,8],\"y\":[10,10],\"type\":\"scatter\"},{\"line\":{\"color\":\"rgb(68, 1, 84)\",\"width\":2},\"mode\":\"lines+markers\",\"name\":\"Action 0\",\"showlegend\":false,\"x\":[7,8],\"y\":[14,14],\"type\":\"scatter\"},{\"line\":{\"color\":\"rgb(68, 1, 84)\",\"width\":2},\"mode\":\"lines+markers\",\"name\":\"Action 0\",\"showlegend\":false,\"x\":[7,8],\"y\":[52,52],\"type\":\"scatter\"},{\"line\":{\"color\":\"rgb(68, 1, 84)\",\"width\":2},\"mode\":\"lines+markers\",\"name\":\"Action 0\",\"showlegend\":false,\"x\":[7,8],\"y\":[60,60],\"type\":\"scatter\"},{\"line\":{\"color\":\"rgb(68, 1, 84)\",\"width\":2},\"mode\":\"lines+markers\",\"name\":\"Action 0\",\"showlegend\":false,\"x\":[7,8],\"y\":[61,61],\"type\":\"scatter\"},{\"line\":{\"color\":\"rgb(68, 1, 84)\",\"width\":2},\"mode\":\"lines+markers\",\"name\":\"Action 0\",\"showlegend\":false,\"x\":[7,8],\"y\":[63,63],\"type\":\"scatter\"},{\"line\":{\"color\":\"rgb(68, 1, 84)\",\"width\":2},\"mode\":\"lines+markers\",\"name\":\"Action 0\",\"showlegend\":false,\"x\":[7,8],\"y\":[64,64],\"type\":\"scatter\"},{\"line\":{\"color\":\"rgb(68, 1, 84)\",\"width\":2},\"mode\":\"lines+markers\",\"name\":\"Action 0\",\"showlegend\":false,\"x\":[7,8],\"y\":[65,65],\"type\":\"scatter\"},{\"line\":{\"color\":\"rgb(68, 1, 84)\",\"width\":2},\"mode\":\"lines+markers\",\"name\":\"Action 0\",\"showlegend\":false,\"x\":[7,8],\"y\":[66,66],\"type\":\"scatter\"},{\"line\":{\"color\":\"rgb(68, 1, 84)\",\"width\":2},\"mode\":\"lines+markers\",\"name\":\"Action 0\",\"showlegend\":false,\"x\":[7,8],\"y\":[67,67],\"type\":\"scatter\"},{\"line\":{\"color\":\"rgb(68, 1, 84)\",\"width\":2},\"mode\":\"lines+markers\",\"name\":\"Action 0\",\"showlegend\":false,\"x\":[7,8],\"y\":[68,68],\"type\":\"scatter\"},{\"line\":{\"color\":\"rgb(68, 1, 84)\",\"width\":2},\"mode\":\"lines+markers\",\"name\":\"Action 0\",\"showlegend\":false,\"x\":[7,8],\"y\":[69,69],\"type\":\"scatter\"},{\"line\":{\"color\":\"rgb(68, 1, 84)\",\"width\":2},\"mode\":\"lines+markers\",\"name\":\"Action 0\",\"showlegend\":false,\"x\":[7,8],\"y\":[70,70],\"type\":\"scatter\"},{\"line\":{\"color\":\"rgb(68, 1, 84)\",\"width\":2},\"mode\":\"lines+markers\",\"name\":\"Action 0\",\"showlegend\":false,\"x\":[7,8],\"y\":[71,71],\"type\":\"scatter\"},{\"line\":{\"color\":\"rgb(68, 1, 84)\",\"width\":2},\"mode\":\"lines+markers\",\"name\":\"Action 0\",\"showlegend\":false,\"x\":[7,8],\"y\":[72,72],\"type\":\"scatter\"},{\"line\":{\"color\":\"rgb(68, 1, 84)\",\"width\":2},\"mode\":\"lines+markers\",\"name\":\"Action 0\",\"showlegend\":false,\"x\":[7,8],\"y\":[73,73],\"type\":\"scatter\"},{\"line\":{\"color\":\"rgb(68, 1, 84)\",\"width\":2},\"mode\":\"lines+markers\",\"name\":\"Action 0\",\"showlegend\":false,\"x\":[7,8],\"y\":[74,74],\"type\":\"scatter\"},{\"line\":{\"color\":\"rgb(68, 1, 84)\",\"width\":2},\"mode\":\"lines+markers\",\"name\":\"Action 0\",\"showlegend\":false,\"x\":[7,8],\"y\":[75,75],\"type\":\"scatter\"},{\"line\":{\"color\":\"rgb(68, 1, 84)\",\"width\":2},\"mode\":\"lines+markers\",\"name\":\"Action 0\",\"showlegend\":false,\"x\":[7,8],\"y\":[76,76],\"type\":\"scatter\"},{\"line\":{\"color\":\"rgb(68, 1, 84)\",\"width\":2},\"mode\":\"lines+markers\",\"name\":\"Action 0\",\"showlegend\":false,\"x\":[7,8],\"y\":[77,77],\"type\":\"scatter\"},{\"line\":{\"color\":\"rgb(68, 1, 84)\",\"width\":2},\"mode\":\"lines+markers\",\"name\":\"Action 0\",\"showlegend\":false,\"x\":[7,8],\"y\":[78,78],\"type\":\"scatter\"},{\"line\":{\"color\":\"rgb(68, 1, 84)\",\"width\":2},\"mode\":\"lines+markers\",\"name\":\"Action 0\",\"showlegend\":false,\"x\":[7,8],\"y\":[79,79],\"type\":\"scatter\"},{\"line\":{\"color\":\"rgb(68, 1, 84)\",\"width\":2},\"mode\":\"lines+markers\",\"name\":\"Action 0\",\"showlegend\":false,\"x\":[7,8],\"y\":[80,80],\"type\":\"scatter\"},{\"line\":{\"color\":\"rgb(68, 1, 84)\",\"width\":2},\"mode\":\"lines+markers\",\"name\":\"Action 0\",\"showlegend\":false,\"x\":[7,8],\"y\":[81,81],\"type\":\"scatter\"},{\"line\":{\"color\":\"rgb(68, 1, 84)\",\"width\":2},\"mode\":\"lines+markers\",\"name\":\"Action 0\",\"showlegend\":false,\"x\":[7,8],\"y\":[82,82],\"type\":\"scatter\"},{\"line\":{\"color\":\"rgb(68, 1, 84)\",\"width\":2},\"mode\":\"lines+markers\",\"name\":\"Action 0\",\"showlegend\":false,\"x\":[7,8],\"y\":[83,83],\"type\":\"scatter\"},{\"line\":{\"color\":\"rgb(68, 1, 84)\",\"width\":2},\"mode\":\"lines+markers\",\"name\":\"Action 0\",\"showlegend\":false,\"x\":[7,8],\"y\":[84,84],\"type\":\"scatter\"},{\"line\":{\"color\":\"rgb(68, 1, 84)\",\"width\":2},\"mode\":\"lines+markers\",\"name\":\"Action 0\",\"showlegend\":false,\"x\":[7,8],\"y\":[85,85],\"type\":\"scatter\"},{\"line\":{\"color\":\"rgb(68, 1, 84)\",\"width\":2},\"mode\":\"lines+markers\",\"name\":\"Action 0\",\"showlegend\":false,\"x\":[7,8],\"y\":[86,86],\"type\":\"scatter\"},{\"line\":{\"color\":\"rgb(68, 1, 84)\",\"width\":2},\"mode\":\"lines+markers\",\"name\":\"Action 0\",\"showlegend\":false,\"x\":[7,8],\"y\":[87,87],\"type\":\"scatter\"},{\"line\":{\"color\":\"rgb(68, 1, 84)\",\"width\":2},\"mode\":\"lines+markers\",\"name\":\"Action 0\",\"showlegend\":false,\"x\":[7,8],\"y\":[88,88],\"type\":\"scatter\"},{\"line\":{\"color\":\"rgb(68, 1, 84)\",\"width\":2},\"mode\":\"lines+markers\",\"name\":\"Action 0\",\"showlegend\":false,\"x\":[7,8],\"y\":[89,89],\"type\":\"scatter\"},{\"line\":{\"color\":\"rgb(68, 1, 84)\",\"width\":2},\"mode\":\"lines+markers\",\"name\":\"Action 0\",\"showlegend\":false,\"x\":[7,8],\"y\":[90,90],\"type\":\"scatter\"},{\"line\":{\"color\":\"rgb(68, 1, 84)\",\"width\":2},\"mode\":\"lines+markers\",\"name\":\"Action 0\",\"showlegend\":false,\"x\":[7,8],\"y\":[91,91],\"type\":\"scatter\"},{\"line\":{\"color\":\"rgb(68, 1, 84)\",\"width\":2},\"mode\":\"lines+markers\",\"name\":\"Action 0\",\"showlegend\":false,\"x\":[7,8],\"y\":[92,92],\"type\":\"scatter\"},{\"line\":{\"color\":\"rgb(68, 1, 84)\",\"width\":2},\"mode\":\"lines+markers\",\"name\":\"Action 0\",\"showlegend\":false,\"x\":[7,8],\"y\":[93,93],\"type\":\"scatter\"},{\"line\":{\"color\":\"rgb(68, 1, 84)\",\"width\":2},\"mode\":\"lines+markers\",\"name\":\"Action 0\",\"showlegend\":false,\"x\":[7,8],\"y\":[94,94],\"type\":\"scatter\"},{\"line\":{\"color\":\"rgb(68, 1, 84)\",\"width\":2},\"mode\":\"lines+markers\",\"name\":\"Action 0\",\"showlegend\":false,\"x\":[7,8],\"y\":[95,95],\"type\":\"scatter\"},{\"line\":{\"color\":\"rgb(68, 1, 84)\",\"width\":2},\"mode\":\"lines+markers\",\"name\":\"Action 0\",\"showlegend\":false,\"x\":[7,8],\"y\":[96,96],\"type\":\"scatter\"},{\"line\":{\"color\":\"rgb(68, 1, 84)\",\"width\":2},\"mode\":\"lines+markers\",\"name\":\"Action 0\",\"showlegend\":false,\"x\":[7,8],\"y\":[97,97],\"type\":\"scatter\"},{\"line\":{\"color\":\"rgb(68, 1, 84)\",\"width\":2},\"mode\":\"lines+markers\",\"name\":\"Action 0\",\"showlegend\":false,\"x\":[7,8],\"y\":[98,98],\"type\":\"scatter\"},{\"line\":{\"color\":\"rgb(58, 82, 139)\",\"width\":2},\"mode\":\"lines+markers\",\"name\":\"Action 3\",\"x\":[1,2],\"y\":[14,17],\"type\":\"scatter\"},{\"line\":{\"color\":\"rgb(58, 82, 139)\",\"width\":2},\"mode\":\"lines+markers\",\"name\":\"Action 3\",\"showlegend\":false,\"x\":[1,2],\"y\":[55,58],\"type\":\"scatter\"},{\"line\":{\"color\":\"rgb(58, 82, 139)\",\"width\":2},\"mode\":\"lines+markers\",\"name\":\"Action 3\",\"showlegend\":false,\"x\":[2,3],\"y\":[26,29],\"type\":\"scatter\"},{\"line\":{\"color\":\"rgb(58, 82, 139)\",\"width\":2},\"mode\":\"lines+markers\",\"name\":\"Action 3\",\"showlegend\":false,\"x\":[2,3],\"y\":[33,36],\"type\":\"scatter\"},{\"line\":{\"color\":\"rgb(58, 82, 139)\",\"width\":2},\"mode\":\"lines+markers\",\"name\":\"Action 3\",\"showlegend\":false,\"x\":[2,3],\"y\":[66,69],\"type\":\"scatter\"},{\"line\":{\"color\":\"rgb(58, 82, 139)\",\"width\":2},\"mode\":\"lines+markers\",\"name\":\"Action 3\",\"showlegend\":false,\"x\":[3,4],\"y\":[1,4],\"type\":\"scatter\"},{\"line\":{\"color\":\"rgb(58, 82, 139)\",\"width\":2},\"mode\":\"lines+markers\",\"name\":\"Action 3\",\"showlegend\":false,\"x\":[3,4],\"y\":[3,6],\"type\":\"scatter\"},{\"line\":{\"color\":\"rgb(58, 82, 139)\",\"width\":2},\"mode\":\"lines+markers\",\"name\":\"Action 3\",\"showlegend\":false,\"x\":[3,4],\"y\":[17,20],\"type\":\"scatter\"},{\"line\":{\"color\":\"rgb(58, 82, 139)\",\"width\":2},\"mode\":\"lines+markers\",\"name\":\"Action 3\",\"showlegend\":false,\"x\":[3,4],\"y\":[35,38],\"type\":\"scatter\"},{\"line\":{\"color\":\"rgb(58, 82, 139)\",\"width\":2},\"mode\":\"lines+markers\",\"name\":\"Action 3\",\"showlegend\":false,\"x\":[3,4],\"y\":[42,45],\"type\":\"scatter\"},{\"line\":{\"color\":\"rgb(58, 82, 139)\",\"width\":2},\"mode\":\"lines+markers\",\"name\":\"Action 3\",\"showlegend\":false,\"x\":[3,4],\"y\":[43,46],\"type\":\"scatter\"},{\"line\":{\"color\":\"rgb(58, 82, 139)\",\"width\":2},\"mode\":\"lines+markers\",\"name\":\"Action 3\",\"showlegend\":false,\"x\":[3,4],\"y\":[59,62],\"type\":\"scatter\"},{\"line\":{\"color\":\"rgb(58, 82, 139)\",\"width\":2},\"mode\":\"lines+markers\",\"name\":\"Action 3\",\"showlegend\":false,\"x\":[3,4],\"y\":[66,69],\"type\":\"scatter\"},{\"line\":{\"color\":\"rgb(58, 82, 139)\",\"width\":2},\"mode\":\"lines+markers\",\"name\":\"Action 3\",\"showlegend\":false,\"x\":[3,4],\"y\":[69,72],\"type\":\"scatter\"},{\"line\":{\"color\":\"rgb(58, 82, 139)\",\"width\":2},\"mode\":\"lines+markers\",\"name\":\"Action 3\",\"showlegend\":false,\"x\":[3,4],\"y\":[100,100],\"type\":\"scatter\"},{\"line\":{\"color\":\"rgb(58, 82, 139)\",\"width\":2},\"mode\":\"lines+markers\",\"name\":\"Action 3\",\"showlegend\":false,\"x\":[4,5],\"y\":[7,10],\"type\":\"scatter\"},{\"line\":{\"color\":\"rgb(58, 82, 139)\",\"width\":2},\"mode\":\"lines+markers\",\"name\":\"Action 3\",\"showlegend\":false,\"x\":[4,5],\"y\":[10,13],\"type\":\"scatter\"},{\"line\":{\"color\":\"rgb(58, 82, 139)\",\"width\":2},\"mode\":\"lines+markers\",\"name\":\"Action 3\",\"showlegend\":false,\"x\":[4,5],\"y\":[13,16],\"type\":\"scatter\"},{\"line\":{\"color\":\"rgb(58, 82, 139)\",\"width\":2},\"mode\":\"lines+markers\",\"name\":\"Action 3\",\"showlegend\":false,\"x\":[4,5],\"y\":[15,18],\"type\":\"scatter\"},{\"line\":{\"color\":\"rgb(58, 82, 139)\",\"width\":2},\"mode\":\"lines+markers\",\"name\":\"Action 3\",\"showlegend\":false,\"x\":[4,5],\"y\":[18,21],\"type\":\"scatter\"},{\"line\":{\"color\":\"rgb(58, 82, 139)\",\"width\":2},\"mode\":\"lines+markers\",\"name\":\"Action 3\",\"showlegend\":false,\"x\":[4,5],\"y\":[19,22],\"type\":\"scatter\"},{\"line\":{\"color\":\"rgb(58, 82, 139)\",\"width\":2},\"mode\":\"lines+markers\",\"name\":\"Action 3\",\"showlegend\":false,\"x\":[4,5],\"y\":[21,24],\"type\":\"scatter\"},{\"line\":{\"color\":\"rgb(58, 82, 139)\",\"width\":2},\"mode\":\"lines+markers\",\"name\":\"Action 3\",\"showlegend\":false,\"x\":[4,5],\"y\":[22,25],\"type\":\"scatter\"},{\"line\":{\"color\":\"rgb(58, 82, 139)\",\"width\":2},\"mode\":\"lines+markers\",\"name\":\"Action 3\",\"showlegend\":false,\"x\":[4,5],\"y\":[23,26],\"type\":\"scatter\"},{\"line\":{\"color\":\"rgb(58, 82, 139)\",\"width\":2},\"mode\":\"lines+markers\",\"name\":\"Action 3\",\"showlegend\":false,\"x\":[4,5],\"y\":[25,28],\"type\":\"scatter\"},{\"line\":{\"color\":\"rgb(58, 82, 139)\",\"width\":2},\"mode\":\"lines+markers\",\"name\":\"Action 3\",\"showlegend\":false,\"x\":[4,5],\"y\":[30,33],\"type\":\"scatter\"},{\"line\":{\"color\":\"rgb(58, 82, 139)\",\"width\":2},\"mode\":\"lines+markers\",\"name\":\"Action 3\",\"showlegend\":false,\"x\":[4,5],\"y\":[35,38],\"type\":\"scatter\"},{\"line\":{\"color\":\"rgb(58, 82, 139)\",\"width\":2},\"mode\":\"lines+markers\",\"name\":\"Action 3\",\"showlegend\":false,\"x\":[4,5],\"y\":[40,43],\"type\":\"scatter\"},{\"line\":{\"color\":\"rgb(58, 82, 139)\",\"width\":2},\"mode\":\"lines+markers\",\"name\":\"Action 3\",\"showlegend\":false,\"x\":[4,5],\"y\":[51,54],\"type\":\"scatter\"},{\"line\":{\"color\":\"rgb(58, 82, 139)\",\"width\":2},\"mode\":\"lines+markers\",\"name\":\"Action 3\",\"showlegend\":false,\"x\":[4,5],\"y\":[54,57],\"type\":\"scatter\"},{\"line\":{\"color\":\"rgb(58, 82, 139)\",\"width\":2},\"mode\":\"lines+markers\",\"name\":\"Action 3\",\"showlegend\":false,\"x\":[4,5],\"y\":[72,75],\"type\":\"scatter\"},{\"line\":{\"color\":\"rgb(58, 82, 139)\",\"width\":2},\"mode\":\"lines+markers\",\"name\":\"Action 3\",\"showlegend\":false,\"x\":[4,5],\"y\":[76,79],\"type\":\"scatter\"},{\"line\":{\"color\":\"rgb(58, 82, 139)\",\"width\":2},\"mode\":\"lines+markers\",\"name\":\"Action 3\",\"showlegend\":false,\"x\":[5,6],\"y\":[3,6],\"type\":\"scatter\"},{\"line\":{\"color\":\"rgb(58, 82, 139)\",\"width\":2},\"mode\":\"lines+markers\",\"name\":\"Action 3\",\"showlegend\":false,\"x\":[5,6],\"y\":[9,12],\"type\":\"scatter\"},{\"line\":{\"color\":\"rgb(58, 82, 139)\",\"width\":2},\"mode\":\"lines+markers\",\"name\":\"Action 3\",\"showlegend\":false,\"x\":[5,6],\"y\":[20,23],\"type\":\"scatter\"},{\"line\":{\"color\":\"rgb(58, 82, 139)\",\"width\":2},\"mode\":\"lines+markers\",\"name\":\"Action 3\",\"showlegend\":false,\"x\":[5,6],\"y\":[24,27],\"type\":\"scatter\"},{\"line\":{\"color\":\"rgb(58, 82, 139)\",\"width\":2},\"mode\":\"lines+markers\",\"name\":\"Action 3\",\"showlegend\":false,\"x\":[5,6],\"y\":[25,28],\"type\":\"scatter\"},{\"line\":{\"color\":\"rgb(58, 82, 139)\",\"width\":2},\"mode\":\"lines+markers\",\"name\":\"Action 3\",\"showlegend\":false,\"x\":[5,6],\"y\":[26,29],\"type\":\"scatter\"},{\"line\":{\"color\":\"rgb(58, 82, 139)\",\"width\":2},\"mode\":\"lines+markers\",\"name\":\"Action 3\",\"showlegend\":false,\"x\":[5,6],\"y\":[27,30],\"type\":\"scatter\"},{\"line\":{\"color\":\"rgb(58, 82, 139)\",\"width\":2},\"mode\":\"lines+markers\",\"name\":\"Action 3\",\"showlegend\":false,\"x\":[5,6],\"y\":[30,33],\"type\":\"scatter\"},{\"line\":{\"color\":\"rgb(58, 82, 139)\",\"width\":2},\"mode\":\"lines+markers\",\"name\":\"Action 3\",\"showlegend\":false,\"x\":[5,6],\"y\":[31,34],\"type\":\"scatter\"},{\"line\":{\"color\":\"rgb(58, 82, 139)\",\"width\":2},\"mode\":\"lines+markers\",\"name\":\"Action 3\",\"showlegend\":false,\"x\":[5,6],\"y\":[32,35],\"type\":\"scatter\"},{\"line\":{\"color\":\"rgb(58, 82, 139)\",\"width\":2},\"mode\":\"lines+markers\",\"name\":\"Action 3\",\"showlegend\":false,\"x\":[5,6],\"y\":[33,36],\"type\":\"scatter\"},{\"line\":{\"color\":\"rgb(58, 82, 139)\",\"width\":2},\"mode\":\"lines+markers\",\"name\":\"Action 3\",\"showlegend\":false,\"x\":[5,6],\"y\":[36,39],\"type\":\"scatter\"},{\"line\":{\"color\":\"rgb(58, 82, 139)\",\"width\":2},\"mode\":\"lines+markers\",\"name\":\"Action 3\",\"showlegend\":false,\"x\":[5,6],\"y\":[40,43],\"type\":\"scatter\"},{\"line\":{\"color\":\"rgb(58, 82, 139)\",\"width\":2},\"mode\":\"lines+markers\",\"name\":\"Action 3\",\"showlegend\":false,\"x\":[5,6],\"y\":[41,44],\"type\":\"scatter\"},{\"line\":{\"color\":\"rgb(58, 82, 139)\",\"width\":2},\"mode\":\"lines+markers\",\"name\":\"Action 3\",\"showlegend\":false,\"x\":[5,6],\"y\":[46,49],\"type\":\"scatter\"},{\"line\":{\"color\":\"rgb(58, 82, 139)\",\"width\":2},\"mode\":\"lines+markers\",\"name\":\"Action 3\",\"showlegend\":false,\"x\":[5,6],\"y\":[76,79],\"type\":\"scatter\"},{\"line\":{\"color\":\"rgb(58, 82, 139)\",\"width\":2},\"mode\":\"lines+markers\",\"name\":\"Action 3\",\"showlegend\":false,\"x\":[5,6],\"y\":[85,88],\"type\":\"scatter\"},{\"line\":{\"color\":\"rgb(58, 82, 139)\",\"width\":2},\"mode\":\"lines+markers\",\"name\":\"Action 3\",\"showlegend\":false,\"x\":[6,7],\"y\":[3,6],\"type\":\"scatter\"},{\"line\":{\"color\":\"rgb(58, 82, 139)\",\"width\":2},\"mode\":\"lines+markers\",\"name\":\"Action 3\",\"showlegend\":false,\"x\":[6,7],\"y\":[10,13],\"type\":\"scatter\"},{\"line\":{\"color\":\"rgb(58, 82, 139)\",\"width\":2},\"mode\":\"lines+markers\",\"name\":\"Action 3\",\"showlegend\":false,\"x\":[6,7],\"y\":[34,37],\"type\":\"scatter\"},{\"line\":{\"color\":\"rgb(58, 82, 139)\",\"width\":2},\"mode\":\"lines+markers\",\"name\":\"Action 3\",\"showlegend\":false,\"x\":[6,7],\"y\":[39,42],\"type\":\"scatter\"},{\"line\":{\"color\":\"rgb(58, 82, 139)\",\"width\":2},\"mode\":\"lines+markers\",\"name\":\"Action 3\",\"showlegend\":false,\"x\":[6,7],\"y\":[42,45],\"type\":\"scatter\"},{\"line\":{\"color\":\"rgb(58, 82, 139)\",\"width\":2},\"mode\":\"lines+markers\",\"name\":\"Action 3\",\"showlegend\":false,\"x\":[6,7],\"y\":[47,50],\"type\":\"scatter\"},{\"line\":{\"color\":\"rgb(58, 82, 139)\",\"width\":2},\"mode\":\"lines+markers\",\"name\":\"Action 3\",\"showlegend\":false,\"x\":[6,7],\"y\":[48,51],\"type\":\"scatter\"},{\"line\":{\"color\":\"rgb(58, 82, 139)\",\"width\":2},\"mode\":\"lines+markers\",\"name\":\"Action 3\",\"showlegend\":false,\"x\":[6,7],\"y\":[50,53],\"type\":\"scatter\"},{\"line\":{\"color\":\"rgb(58, 82, 139)\",\"width\":2},\"mode\":\"lines+markers\",\"name\":\"Action 3\",\"showlegend\":false,\"x\":[6,7],\"y\":[52,55],\"type\":\"scatter\"},{\"line\":{\"color\":\"rgb(58, 82, 139)\",\"width\":2},\"mode\":\"lines+markers\",\"name\":\"Action 3\",\"showlegend\":false,\"x\":[6,7],\"y\":[73,76],\"type\":\"scatter\"},{\"line\":{\"color\":\"rgb(58, 82, 139)\",\"width\":2},\"mode\":\"lines+markers\",\"name\":\"Action 3\",\"showlegend\":false,\"x\":[7,8],\"y\":[5,8],\"type\":\"scatter\"},{\"line\":{\"color\":\"rgb(58, 82, 139)\",\"width\":2},\"mode\":\"lines+markers\",\"name\":\"Action 3\",\"showlegend\":false,\"x\":[7,8],\"y\":[16,19],\"type\":\"scatter\"},{\"line\":{\"color\":\"rgb(58, 82, 139)\",\"width\":2},\"mode\":\"lines+markers\",\"name\":\"Action 3\",\"showlegend\":false,\"x\":[7,8],\"y\":[18,21],\"type\":\"scatter\"},{\"line\":{\"color\":\"rgb(58, 82, 139)\",\"width\":2},\"mode\":\"lines+markers\",\"name\":\"Action 3\",\"showlegend\":false,\"x\":[7,8],\"y\":[19,22],\"type\":\"scatter\"},{\"line\":{\"color\":\"rgb(58, 82, 139)\",\"width\":2},\"mode\":\"lines+markers\",\"name\":\"Action 3\",\"showlegend\":false,\"x\":[7,8],\"y\":[22,25],\"type\":\"scatter\"},{\"line\":{\"color\":\"rgb(58, 82, 139)\",\"width\":2},\"mode\":\"lines+markers\",\"name\":\"Action 3\",\"showlegend\":false,\"x\":[7,8],\"y\":[53,56],\"type\":\"scatter\"},{\"line\":{\"color\":\"rgb(58, 82, 139)\",\"width\":2},\"mode\":\"lines+markers\",\"name\":\"Action 3\",\"showlegend\":false,\"x\":[7,8],\"y\":[55,58],\"type\":\"scatter\"},{\"line\":{\"color\":\"rgb(58, 82, 139)\",\"width\":2},\"mode\":\"lines+markers\",\"name\":\"Action 3\",\"showlegend\":false,\"x\":[7,8],\"y\":[56,59],\"type\":\"scatter\"},{\"line\":{\"color\":\"rgb(58, 82, 139)\",\"width\":2},\"mode\":\"lines+markers\",\"name\":\"Action 3\",\"showlegend\":false,\"x\":[7,8],\"y\":[57,60],\"type\":\"scatter\"},{\"line\":{\"color\":\"rgb(58, 82, 139)\",\"width\":2},\"mode\":\"lines+markers\",\"name\":\"Action 3\",\"showlegend\":false,\"x\":[7,8],\"y\":[58,61],\"type\":\"scatter\"},{\"line\":{\"color\":\"rgb(58, 82, 139)\",\"width\":2},\"mode\":\"lines+markers\",\"name\":\"Action 3\",\"showlegend\":false,\"x\":[7,8],\"y\":[59,62],\"type\":\"scatter\"},{\"line\":{\"color\":\"rgb(58, 82, 139)\",\"width\":2},\"mode\":\"lines+markers\",\"name\":\"Action 3\",\"showlegend\":false,\"x\":[7,8],\"y\":[62,65],\"type\":\"scatter\"},{\"line\":{\"color\":\"rgb(32, 144, 140)\",\"width\":2},\"mode\":\"lines+markers\",\"name\":\"Action 11\",\"x\":[2,3],\"y\":[99,100],\"type\":\"scatter\"},{\"line\":{\"color\":\"rgb(32, 144, 140)\",\"width\":2},\"mode\":\"lines+markers\",\"name\":\"Action 11\",\"showlegend\":false,\"x\":[5,6],\"y\":[1,12],\"type\":\"scatter\"},{\"line\":{\"color\":\"rgb(32, 144, 140)\",\"width\":2},\"mode\":\"lines+markers\",\"name\":\"Action 11\",\"showlegend\":false,\"x\":[5,6],\"y\":[13,24],\"type\":\"scatter\"},{\"line\":{\"color\":\"rgb(32, 144, 140)\",\"width\":2},\"mode\":\"lines+markers\",\"name\":\"Action 11\",\"showlegend\":false,\"x\":[6,7],\"y\":[11,22],\"type\":\"scatter\"},{\"line\":{\"color\":\"rgb(32, 144, 140)\",\"width\":2},\"mode\":\"lines+markers\",\"name\":\"Action 11\",\"showlegend\":false,\"x\":[6,7],\"y\":[12,23],\"type\":\"scatter\"},{\"line\":{\"color\":\"rgb(32, 144, 140)\",\"width\":2},\"mode\":\"lines+markers\",\"name\":\"Action 11\",\"showlegend\":false,\"x\":[6,7],\"y\":[13,24],\"type\":\"scatter\"},{\"line\":{\"color\":\"rgb(32, 144, 140)\",\"width\":2},\"mode\":\"lines+markers\",\"name\":\"Action 11\",\"showlegend\":false,\"x\":[6,7],\"y\":[16,27],\"type\":\"scatter\"},{\"line\":{\"color\":\"rgb(32, 144, 140)\",\"width\":2},\"mode\":\"lines+markers\",\"name\":\"Action 11\",\"showlegend\":false,\"x\":[6,7],\"y\":[17,28],\"type\":\"scatter\"},{\"line\":{\"color\":\"rgb(32, 144, 140)\",\"width\":2},\"mode\":\"lines+markers\",\"name\":\"Action 11\",\"showlegend\":false,\"x\":[6,7],\"y\":[18,29],\"type\":\"scatter\"},{\"line\":{\"color\":\"rgb(32, 144, 140)\",\"width\":2},\"mode\":\"lines+markers\",\"name\":\"Action 11\",\"showlegend\":false,\"x\":[6,7],\"y\":[20,31],\"type\":\"scatter\"},{\"line\":{\"color\":\"rgb(32, 144, 140)\",\"width\":2},\"mode\":\"lines+markers\",\"name\":\"Action 11\",\"showlegend\":false,\"x\":[6,7],\"y\":[22,33],\"type\":\"scatter\"},{\"line\":{\"color\":\"rgb(32, 144, 140)\",\"width\":2},\"mode\":\"lines+markers\",\"name\":\"Action 11\",\"showlegend\":false,\"x\":[6,7],\"y\":[23,34],\"type\":\"scatter\"},{\"line\":{\"color\":\"rgb(32, 144, 140)\",\"width\":2},\"mode\":\"lines+markers\",\"name\":\"Action 11\",\"showlegend\":false,\"x\":[6,7],\"y\":[24,35],\"type\":\"scatter\"},{\"line\":{\"color\":\"rgb(32, 144, 140)\",\"width\":2},\"mode\":\"lines+markers\",\"name\":\"Action 11\",\"showlegend\":false,\"x\":[6,7],\"y\":[25,36],\"type\":\"scatter\"},{\"line\":{\"color\":\"rgb(32, 144, 140)\",\"width\":2},\"mode\":\"lines+markers\",\"name\":\"Action 11\",\"showlegend\":false,\"x\":[6,7],\"y\":[26,37],\"type\":\"scatter\"},{\"line\":{\"color\":\"rgb(32, 144, 140)\",\"width\":2},\"mode\":\"lines+markers\",\"name\":\"Action 11\",\"showlegend\":false,\"x\":[6,7],\"y\":[27,38],\"type\":\"scatter\"},{\"line\":{\"color\":\"rgb(32, 144, 140)\",\"width\":2},\"mode\":\"lines+markers\",\"name\":\"Action 11\",\"showlegend\":false,\"x\":[7,8],\"y\":[6,17],\"type\":\"scatter\"},{\"line\":{\"color\":\"rgb(32, 144, 140)\",\"width\":2},\"mode\":\"lines+markers\",\"name\":\"Action 11\",\"showlegend\":false,\"x\":[7,8],\"y\":[12,23],\"type\":\"scatter\"},{\"line\":{\"color\":\"rgb(32, 144, 140)\",\"width\":2},\"mode\":\"lines+markers\",\"name\":\"Action 11\",\"showlegend\":false,\"x\":[7,8],\"y\":[13,24],\"type\":\"scatter\"},{\"line\":{\"color\":\"rgb(32, 144, 140)\",\"width\":2},\"mode\":\"lines+markers\",\"name\":\"Action 11\",\"showlegend\":false,\"x\":[7,8],\"y\":[23,34],\"type\":\"scatter\"},{\"line\":{\"color\":\"rgb(32, 144, 140)\",\"width\":2},\"mode\":\"lines+markers\",\"name\":\"Action 11\",\"showlegend\":false,\"x\":[7,8],\"y\":[24,35],\"type\":\"scatter\"},{\"line\":{\"color\":\"rgb(32, 144, 140)\",\"width\":2},\"mode\":\"lines+markers\",\"name\":\"Action 11\",\"showlegend\":false,\"x\":[7,8],\"y\":[26,37],\"type\":\"scatter\"},{\"line\":{\"color\":\"rgb(32, 144, 140)\",\"width\":2},\"mode\":\"lines+markers\",\"name\":\"Action 11\",\"showlegend\":false,\"x\":[7,8],\"y\":[27,38],\"type\":\"scatter\"},{\"line\":{\"color\":\"rgb(32, 144, 140)\",\"width\":2},\"mode\":\"lines+markers\",\"name\":\"Action 11\",\"showlegend\":false,\"x\":[7,8],\"y\":[29,40],\"type\":\"scatter\"},{\"line\":{\"color\":\"rgb(32, 144, 140)\",\"width\":2},\"mode\":\"lines+markers\",\"name\":\"Action 11\",\"showlegend\":false,\"x\":[7,8],\"y\":[30,41],\"type\":\"scatter\"},{\"line\":{\"color\":\"rgb(32, 144, 140)\",\"width\":2},\"mode\":\"lines+markers\",\"name\":\"Action 11\",\"showlegend\":false,\"x\":[7,8],\"y\":[31,42],\"type\":\"scatter\"},{\"line\":{\"color\":\"rgb(32, 144, 140)\",\"width\":2},\"mode\":\"lines+markers\",\"name\":\"Action 11\",\"showlegend\":false,\"x\":[7,8],\"y\":[32,43],\"type\":\"scatter\"},{\"line\":{\"color\":\"rgb(32, 144, 140)\",\"width\":2},\"mode\":\"lines+markers\",\"name\":\"Action 11\",\"showlegend\":false,\"x\":[7,8],\"y\":[33,44],\"type\":\"scatter\"},{\"line\":{\"color\":\"rgb(32, 144, 140)\",\"width\":2},\"mode\":\"lines+markers\",\"name\":\"Action 11\",\"showlegend\":false,\"x\":[7,8],\"y\":[34,45],\"type\":\"scatter\"},{\"line\":{\"color\":\"rgb(32, 144, 140)\",\"width\":2},\"mode\":\"lines+markers\",\"name\":\"Action 11\",\"showlegend\":false,\"x\":[7,8],\"y\":[35,46],\"type\":\"scatter\"},{\"line\":{\"color\":\"rgb(32, 144, 140)\",\"width\":2},\"mode\":\"lines+markers\",\"name\":\"Action 11\",\"showlegend\":false,\"x\":[7,8],\"y\":[36,47],\"type\":\"scatter\"},{\"line\":{\"color\":\"rgb(32, 144, 140)\",\"width\":2},\"mode\":\"lines+markers\",\"name\":\"Action 11\",\"showlegend\":false,\"x\":[7,8],\"y\":[37,48],\"type\":\"scatter\"},{\"line\":{\"color\":\"rgb(32, 144, 140)\",\"width\":2},\"mode\":\"lines+markers\",\"name\":\"Action 11\",\"showlegend\":false,\"x\":[7,8],\"y\":[38,49],\"type\":\"scatter\"},{\"line\":{\"color\":\"rgb(32, 144, 140)\",\"width\":2},\"mode\":\"lines+markers\",\"name\":\"Action 11\",\"showlegend\":false,\"x\":[7,8],\"y\":[40,51],\"type\":\"scatter\"},{\"line\":{\"color\":\"rgb(32, 144, 140)\",\"width\":2},\"mode\":\"lines+markers\",\"name\":\"Action 11\",\"showlegend\":false,\"x\":[7,8],\"y\":[41,52],\"type\":\"scatter\"},{\"line\":{\"color\":\"rgb(32, 144, 140)\",\"width\":2},\"mode\":\"lines+markers\",\"name\":\"Action 11\",\"showlegend\":false,\"x\":[7,8],\"y\":[42,53],\"type\":\"scatter\"},{\"line\":{\"color\":\"rgb(32, 144, 140)\",\"width\":2},\"mode\":\"lines+markers\",\"name\":\"Action 11\",\"showlegend\":false,\"x\":[7,8],\"y\":[43,54],\"type\":\"scatter\"},{\"line\":{\"color\":\"rgb(32, 144, 140)\",\"width\":2},\"mode\":\"lines+markers\",\"name\":\"Action 11\",\"showlegend\":false,\"x\":[7,8],\"y\":[44,55],\"type\":\"scatter\"},{\"line\":{\"color\":\"rgb(94, 201, 97)\",\"width\":2},\"mode\":\"lines+markers\",\"name\":\"Action 7\",\"x\":[4,5],\"y\":[11,18],\"type\":\"scatter\"},{\"line\":{\"color\":\"rgb(94, 201, 97)\",\"width\":2},\"mode\":\"lines+markers\",\"name\":\"Action 7\",\"showlegend\":false,\"x\":[5,6],\"y\":[8,15],\"type\":\"scatter\"},{\"line\":{\"color\":\"rgb(94, 201, 97)\",\"width\":2},\"mode\":\"lines+markers\",\"name\":\"Action 7\",\"showlegend\":false,\"x\":[5,6],\"y\":[10,17],\"type\":\"scatter\"},{\"line\":{\"color\":\"rgb(94, 201, 97)\",\"width\":2},\"mode\":\"lines+markers\",\"name\":\"Action 7\",\"showlegend\":false,\"x\":[5,6],\"y\":[11,18],\"type\":\"scatter\"},{\"line\":{\"color\":\"rgb(94, 201, 97)\",\"width\":2},\"mode\":\"lines+markers\",\"name\":\"Action 7\",\"showlegend\":false,\"x\":[5,6],\"y\":[14,21],\"type\":\"scatter\"},{\"line\":{\"color\":\"rgb(94, 201, 97)\",\"width\":2},\"mode\":\"lines+markers\",\"name\":\"Action 7\",\"showlegend\":false,\"x\":[5,6],\"y\":[15,22],\"type\":\"scatter\"},{\"line\":{\"color\":\"rgb(94, 201, 97)\",\"width\":2},\"mode\":\"lines+markers\",\"name\":\"Action 7\",\"showlegend\":false,\"x\":[5,6],\"y\":[16,23],\"type\":\"scatter\"},{\"line\":{\"color\":\"rgb(94, 201, 97)\",\"width\":2},\"mode\":\"lines+markers\",\"name\":\"Action 7\",\"showlegend\":false,\"x\":[5,6],\"y\":[17,24],\"type\":\"scatter\"},{\"line\":{\"color\":\"rgb(94, 201, 97)\",\"width\":2},\"mode\":\"lines+markers\",\"name\":\"Action 7\",\"showlegend\":false,\"x\":[5,6],\"y\":[19,26],\"type\":\"scatter\"},{\"line\":{\"color\":\"rgb(94, 201, 97)\",\"width\":2},\"mode\":\"lines+markers\",\"name\":\"Action 7\",\"showlegend\":false,\"x\":[5,6],\"y\":[21,28],\"type\":\"scatter\"},{\"line\":{\"color\":\"rgb(94, 201, 97)\",\"width\":2},\"mode\":\"lines+markers\",\"name\":\"Action 7\",\"showlegend\":false,\"x\":[5,6],\"y\":[22,29],\"type\":\"scatter\"},{\"line\":{\"color\":\"rgb(94, 201, 97)\",\"width\":2},\"mode\":\"lines+markers\",\"name\":\"Action 7\",\"showlegend\":false,\"x\":[6,7],\"y\":[5,12],\"type\":\"scatter\"},{\"line\":{\"color\":\"rgb(94, 201, 97)\",\"width\":2},\"mode\":\"lines+markers\",\"name\":\"Action 7\",\"showlegend\":false,\"x\":[6,7],\"y\":[7,14],\"type\":\"scatter\"},{\"line\":{\"color\":\"rgb(94, 201, 97)\",\"width\":2},\"mode\":\"lines+markers\",\"name\":\"Action 7\",\"showlegend\":false,\"x\":[6,7],\"y\":[9,16],\"type\":\"scatter\"},{\"line\":{\"color\":\"rgb(94, 201, 97)\",\"width\":2},\"mode\":\"lines+markers\",\"name\":\"Action 7\",\"showlegend\":false,\"x\":[6,7],\"y\":[15,22],\"type\":\"scatter\"},{\"line\":{\"color\":\"rgb(94, 201, 97)\",\"width\":2},\"mode\":\"lines+markers\",\"name\":\"Action 7\",\"showlegend\":false,\"x\":[6,7],\"y\":[19,26],\"type\":\"scatter\"},{\"line\":{\"color\":\"rgb(94, 201, 97)\",\"width\":2},\"mode\":\"lines+markers\",\"name\":\"Action 7\",\"showlegend\":false,\"x\":[6,7],\"y\":[21,28],\"type\":\"scatter\"},{\"line\":{\"color\":\"rgb(94, 201, 97)\",\"width\":2},\"mode\":\"lines+markers\",\"name\":\"Action 7\",\"showlegend\":false,\"x\":[6,7],\"y\":[28,35],\"type\":\"scatter\"},{\"line\":{\"color\":\"rgb(94, 201, 97)\",\"width\":2},\"mode\":\"lines+markers\",\"name\":\"Action 7\",\"showlegend\":false,\"x\":[6,7],\"y\":[29,36],\"type\":\"scatter\"},{\"line\":{\"color\":\"rgb(94, 201, 97)\",\"width\":2},\"mode\":\"lines+markers\",\"name\":\"Action 7\",\"showlegend\":false,\"x\":[6,7],\"y\":[30,37],\"type\":\"scatter\"},{\"line\":{\"color\":\"rgb(94, 201, 97)\",\"width\":2},\"mode\":\"lines+markers\",\"name\":\"Action 7\",\"showlegend\":false,\"x\":[6,7],\"y\":[31,38],\"type\":\"scatter\"},{\"line\":{\"color\":\"rgb(94, 201, 97)\",\"width\":2},\"mode\":\"lines+markers\",\"name\":\"Action 7\",\"showlegend\":false,\"x\":[6,7],\"y\":[32,39],\"type\":\"scatter\"},{\"line\":{\"color\":\"rgb(94, 201, 97)\",\"width\":2},\"mode\":\"lines+markers\",\"name\":\"Action 7\",\"showlegend\":false,\"x\":[6,7],\"y\":[33,40],\"type\":\"scatter\"},{\"line\":{\"color\":\"rgb(94, 201, 97)\",\"width\":2},\"mode\":\"lines+markers\",\"name\":\"Action 7\",\"showlegend\":false,\"x\":[6,7],\"y\":[35,42],\"type\":\"scatter\"},{\"line\":{\"color\":\"rgb(94, 201, 97)\",\"width\":2},\"mode\":\"lines+markers\",\"name\":\"Action 7\",\"showlegend\":false,\"x\":[6,7],\"y\":[36,43],\"type\":\"scatter\"},{\"line\":{\"color\":\"rgb(94, 201, 97)\",\"width\":2},\"mode\":\"lines+markers\",\"name\":\"Action 7\",\"showlegend\":false,\"x\":[6,7],\"y\":[37,44],\"type\":\"scatter\"},{\"line\":{\"color\":\"rgb(94, 201, 97)\",\"width\":2},\"mode\":\"lines+markers\",\"name\":\"Action 7\",\"showlegend\":false,\"x\":[6,7],\"y\":[38,45],\"type\":\"scatter\"},{\"line\":{\"color\":\"rgb(94, 201, 97)\",\"width\":2},\"mode\":\"lines+markers\",\"name\":\"Action 7\",\"showlegend\":false,\"x\":[6,7],\"y\":[40,47],\"type\":\"scatter\"},{\"line\":{\"color\":\"rgb(94, 201, 97)\",\"width\":2},\"mode\":\"lines+markers\",\"name\":\"Action 7\",\"showlegend\":false,\"x\":[6,7],\"y\":[41,48],\"type\":\"scatter\"},{\"line\":{\"color\":\"rgb(94, 201, 97)\",\"width\":2},\"mode\":\"lines+markers\",\"name\":\"Action 7\",\"showlegend\":false,\"x\":[6,7],\"y\":[44,51],\"type\":\"scatter\"},{\"line\":{\"color\":\"rgb(94, 201, 97)\",\"width\":2},\"mode\":\"lines+markers\",\"name\":\"Action 7\",\"showlegend\":false,\"x\":[6,7],\"y\":[46,53],\"type\":\"scatter\"},{\"line\":{\"color\":\"rgb(94, 201, 97)\",\"width\":2},\"mode\":\"lines+markers\",\"name\":\"Action 7\",\"showlegend\":false,\"x\":[7,8],\"y\":[4,11],\"type\":\"scatter\"},{\"line\":{\"color\":\"rgb(94, 201, 97)\",\"width\":2},\"mode\":\"lines+markers\",\"name\":\"Action 7\",\"showlegend\":false,\"x\":[7,8],\"y\":[8,15],\"type\":\"scatter\"},{\"line\":{\"color\":\"rgb(94, 201, 97)\",\"width\":2},\"mode\":\"lines+markers\",\"name\":\"Action 7\",\"showlegend\":false,\"x\":[7,8],\"y\":[9,16],\"type\":\"scatter\"},{\"line\":{\"color\":\"rgb(94, 201, 97)\",\"width\":2},\"mode\":\"lines+markers\",\"name\":\"Action 7\",\"showlegend\":false,\"x\":[7,8],\"y\":[21,28],\"type\":\"scatter\"},{\"line\":{\"color\":\"rgb(94, 201, 97)\",\"width\":2},\"mode\":\"lines+markers\",\"name\":\"Action 7\",\"showlegend\":false,\"x\":[7,8],\"y\":[39,46],\"type\":\"scatter\"},{\"line\":{\"color\":\"rgb(94, 201, 97)\",\"width\":2},\"mode\":\"lines+markers\",\"name\":\"Action 7\",\"showlegend\":false,\"x\":[7,8],\"y\":[45,52],\"type\":\"scatter\"},{\"line\":{\"color\":\"rgb(94, 201, 97)\",\"width\":2},\"mode\":\"lines+markers\",\"name\":\"Action 7\",\"showlegend\":false,\"x\":[7,8],\"y\":[47,54],\"type\":\"scatter\"},{\"line\":{\"color\":\"rgb(94, 201, 97)\",\"width\":2},\"mode\":\"lines+markers\",\"name\":\"Action 7\",\"showlegend\":false,\"x\":[7,8],\"y\":[48,55],\"type\":\"scatter\"},{\"line\":{\"color\":\"rgb(94, 201, 97)\",\"width\":2},\"mode\":\"lines+markers\",\"name\":\"Action 7\",\"showlegend\":false,\"x\":[7,8],\"y\":[49,56],\"type\":\"scatter\"},{\"line\":{\"color\":\"rgb(94, 201, 97)\",\"width\":2},\"mode\":\"lines+markers\",\"name\":\"Action 7\",\"showlegend\":false,\"x\":[7,8],\"y\":[50,57],\"type\":\"scatter\"},{\"line\":{\"color\":\"rgb(94, 201, 97)\",\"width\":2},\"mode\":\"lines+markers\",\"name\":\"Action 7\",\"showlegend\":false,\"x\":[7,8],\"y\":[51,58],\"type\":\"scatter\"},{\"line\":{\"color\":\"rgb(253, 231, 36)\",\"width\":2},\"mode\":\"lines+markers\",\"name\":\"Action 17\",\"x\":[5,6],\"y\":[99,100],\"type\":\"scatter\"},{\"line\":{\"color\":\"rgb(253, 231, 36)\",\"width\":2},\"mode\":\"lines+markers\",\"name\":\"Action 17\",\"showlegend\":false,\"x\":[6,7],\"y\":[2,19],\"type\":\"scatter\"},{\"line\":{\"color\":\"rgb(253, 231, 36)\",\"width\":2},\"mode\":\"lines+markers\",\"name\":\"Action 17\",\"showlegend\":false,\"x\":[7,8],\"y\":[11,28],\"type\":\"scatter\"},{\"line\":{\"color\":\"rgb(253, 231, 36)\",\"width\":2},\"mode\":\"lines+markers\",\"name\":\"Action 17\",\"showlegend\":false,\"x\":[7,8],\"y\":[15,32],\"type\":\"scatter\"},{\"line\":{\"color\":\"rgb(253, 231, 36)\",\"width\":2},\"mode\":\"lines+markers\",\"name\":\"Action 17\",\"showlegend\":false,\"x\":[7,8],\"y\":[17,34],\"type\":\"scatter\"},{\"line\":{\"color\":\"rgb(253, 231, 36)\",\"width\":2},\"mode\":\"lines+markers\",\"name\":\"Action 17\",\"showlegend\":false,\"x\":[7,8],\"y\":[20,37],\"type\":\"scatter\"},{\"line\":{\"color\":\"rgb(253, 231, 36)\",\"width\":2},\"mode\":\"lines+markers\",\"name\":\"Action 17\",\"showlegend\":false,\"x\":[7,8],\"y\":[25,42],\"type\":\"scatter\"}],                        {\"template\":{\"data\":{\"histogram2dcontour\":[{\"type\":\"histogram2dcontour\",\"colorbar\":{\"outlinewidth\":0,\"ticks\":\"\"},\"colorscale\":[[0.0,\"#0d0887\"],[0.1111111111111111,\"#46039f\"],[0.2222222222222222,\"#7201a8\"],[0.3333333333333333,\"#9c179e\"],[0.4444444444444444,\"#bd3786\"],[0.5555555555555556,\"#d8576b\"],[0.6666666666666666,\"#ed7953\"],[0.7777777777777778,\"#fb9f3a\"],[0.8888888888888888,\"#fdca26\"],[1.0,\"#f0f921\"]]}],\"choropleth\":[{\"type\":\"choropleth\",\"colorbar\":{\"outlinewidth\":0,\"ticks\":\"\"}}],\"histogram2d\":[{\"type\":\"histogram2d\",\"colorbar\":{\"outlinewidth\":0,\"ticks\":\"\"},\"colorscale\":[[0.0,\"#0d0887\"],[0.1111111111111111,\"#46039f\"],[0.2222222222222222,\"#7201a8\"],[0.3333333333333333,\"#9c179e\"],[0.4444444444444444,\"#bd3786\"],[0.5555555555555556,\"#d8576b\"],[0.6666666666666666,\"#ed7953\"],[0.7777777777777778,\"#fb9f3a\"],[0.8888888888888888,\"#fdca26\"],[1.0,\"#f0f921\"]]}],\"heatmap\":[{\"type\":\"heatmap\",\"colorbar\":{\"outlinewidth\":0,\"ticks\":\"\"},\"colorscale\":[[0.0,\"#0d0887\"],[0.1111111111111111,\"#46039f\"],[0.2222222222222222,\"#7201a8\"],[0.3333333333333333,\"#9c179e\"],[0.4444444444444444,\"#bd3786\"],[0.5555555555555556,\"#d8576b\"],[0.6666666666666666,\"#ed7953\"],[0.7777777777777778,\"#fb9f3a\"],[0.8888888888888888,\"#fdca26\"],[1.0,\"#f0f921\"]]}],\"heatmapgl\":[{\"type\":\"heatmapgl\",\"colorbar\":{\"outlinewidth\":0,\"ticks\":\"\"},\"colorscale\":[[0.0,\"#0d0887\"],[0.1111111111111111,\"#46039f\"],[0.2222222222222222,\"#7201a8\"],[0.3333333333333333,\"#9c179e\"],[0.4444444444444444,\"#bd3786\"],[0.5555555555555556,\"#d8576b\"],[0.6666666666666666,\"#ed7953\"],[0.7777777777777778,\"#fb9f3a\"],[0.8888888888888888,\"#fdca26\"],[1.0,\"#f0f921\"]]}],\"contourcarpet\":[{\"type\":\"contourcarpet\",\"colorbar\":{\"outlinewidth\":0,\"ticks\":\"\"}}],\"contour\":[{\"type\":\"contour\",\"colorbar\":{\"outlinewidth\":0,\"ticks\":\"\"},\"colorscale\":[[0.0,\"#0d0887\"],[0.1111111111111111,\"#46039f\"],[0.2222222222222222,\"#7201a8\"],[0.3333333333333333,\"#9c179e\"],[0.4444444444444444,\"#bd3786\"],[0.5555555555555556,\"#d8576b\"],[0.6666666666666666,\"#ed7953\"],[0.7777777777777778,\"#fb9f3a\"],[0.8888888888888888,\"#fdca26\"],[1.0,\"#f0f921\"]]}],\"surface\":[{\"type\":\"surface\",\"colorbar\":{\"outlinewidth\":0,\"ticks\":\"\"},\"colorscale\":[[0.0,\"#0d0887\"],[0.1111111111111111,\"#46039f\"],[0.2222222222222222,\"#7201a8\"],[0.3333333333333333,\"#9c179e\"],[0.4444444444444444,\"#bd3786\"],[0.5555555555555556,\"#d8576b\"],[0.6666666666666666,\"#ed7953\"],[0.7777777777777778,\"#fb9f3a\"],[0.8888888888888888,\"#fdca26\"],[1.0,\"#f0f921\"]]}],\"mesh3d\":[{\"type\":\"mesh3d\",\"colorbar\":{\"outlinewidth\":0,\"ticks\":\"\"}}],\"scatter\":[{\"fillpattern\":{\"fillmode\":\"overlay\",\"size\":10,\"solidity\":0.2},\"type\":\"scatter\"}],\"parcoords\":[{\"type\":\"parcoords\",\"line\":{\"colorbar\":{\"outlinewidth\":0,\"ticks\":\"\"}}}],\"scatterpolargl\":[{\"type\":\"scatterpolargl\",\"marker\":{\"colorbar\":{\"outlinewidth\":0,\"ticks\":\"\"}}}],\"bar\":[{\"error_x\":{\"color\":\"#2a3f5f\"},\"error_y\":{\"color\":\"#2a3f5f\"},\"marker\":{\"line\":{\"color\":\"#E5ECF6\",\"width\":0.5},\"pattern\":{\"fillmode\":\"overlay\",\"size\":10,\"solidity\":0.2}},\"type\":\"bar\"}],\"scattergeo\":[{\"type\":\"scattergeo\",\"marker\":{\"colorbar\":{\"outlinewidth\":0,\"ticks\":\"\"}}}],\"scatterpolar\":[{\"type\":\"scatterpolar\",\"marker\":{\"colorbar\":{\"outlinewidth\":0,\"ticks\":\"\"}}}],\"histogram\":[{\"marker\":{\"pattern\":{\"fillmode\":\"overlay\",\"size\":10,\"solidity\":0.2}},\"type\":\"histogram\"}],\"scattergl\":[{\"type\":\"scattergl\",\"marker\":{\"colorbar\":{\"outlinewidth\":0,\"ticks\":\"\"}}}],\"scatter3d\":[{\"type\":\"scatter3d\",\"line\":{\"colorbar\":{\"outlinewidth\":0,\"ticks\":\"\"}},\"marker\":{\"colorbar\":{\"outlinewidth\":0,\"ticks\":\"\"}}}],\"scattermapbox\":[{\"type\":\"scattermapbox\",\"marker\":{\"colorbar\":{\"outlinewidth\":0,\"ticks\":\"\"}}}],\"scatterternary\":[{\"type\":\"scatterternary\",\"marker\":{\"colorbar\":{\"outlinewidth\":0,\"ticks\":\"\"}}}],\"scattercarpet\":[{\"type\":\"scattercarpet\",\"marker\":{\"colorbar\":{\"outlinewidth\":0,\"ticks\":\"\"}}}],\"carpet\":[{\"aaxis\":{\"endlinecolor\":\"#2a3f5f\",\"gridcolor\":\"white\",\"linecolor\":\"white\",\"minorgridcolor\":\"white\",\"startlinecolor\":\"#2a3f5f\"},\"baxis\":{\"endlinecolor\":\"#2a3f5f\",\"gridcolor\":\"white\",\"linecolor\":\"white\",\"minorgridcolor\":\"white\",\"startlinecolor\":\"#2a3f5f\"},\"type\":\"carpet\"}],\"table\":[{\"cells\":{\"fill\":{\"color\":\"#EBF0F8\"},\"line\":{\"color\":\"white\"}},\"header\":{\"fill\":{\"color\":\"#C8D4E3\"},\"line\":{\"color\":\"white\"}},\"type\":\"table\"}],\"barpolar\":[{\"marker\":{\"line\":{\"color\":\"#E5ECF6\",\"width\":0.5},\"pattern\":{\"fillmode\":\"overlay\",\"size\":10,\"solidity\":0.2}},\"type\":\"barpolar\"}],\"pie\":[{\"automargin\":true,\"type\":\"pie\"}]},\"layout\":{\"autotypenumbers\":\"strict\",\"colorway\":[\"#636efa\",\"#EF553B\",\"#00cc96\",\"#ab63fa\",\"#FFA15A\",\"#19d3f3\",\"#FF6692\",\"#B6E880\",\"#FF97FF\",\"#FECB52\"],\"font\":{\"color\":\"#2a3f5f\"},\"hovermode\":\"closest\",\"hoverlabel\":{\"align\":\"left\"},\"paper_bgcolor\":\"white\",\"plot_bgcolor\":\"#E5ECF6\",\"polar\":{\"bgcolor\":\"#E5ECF6\",\"angularaxis\":{\"gridcolor\":\"white\",\"linecolor\":\"white\",\"ticks\":\"\"},\"radialaxis\":{\"gridcolor\":\"white\",\"linecolor\":\"white\",\"ticks\":\"\"}},\"ternary\":{\"bgcolor\":\"#E5ECF6\",\"aaxis\":{\"gridcolor\":\"white\",\"linecolor\":\"white\",\"ticks\":\"\"},\"baxis\":{\"gridcolor\":\"white\",\"linecolor\":\"white\",\"ticks\":\"\"},\"caxis\":{\"gridcolor\":\"white\",\"linecolor\":\"white\",\"ticks\":\"\"}},\"coloraxis\":{\"colorbar\":{\"outlinewidth\":0,\"ticks\":\"\"}},\"colorscale\":{\"sequential\":[[0.0,\"#0d0887\"],[0.1111111111111111,\"#46039f\"],[0.2222222222222222,\"#7201a8\"],[0.3333333333333333,\"#9c179e\"],[0.4444444444444444,\"#bd3786\"],[0.5555555555555556,\"#d8576b\"],[0.6666666666666666,\"#ed7953\"],[0.7777777777777778,\"#fb9f3a\"],[0.8888888888888888,\"#fdca26\"],[1.0,\"#f0f921\"]],\"sequentialminus\":[[0.0,\"#0d0887\"],[0.1111111111111111,\"#46039f\"],[0.2222222222222222,\"#7201a8\"],[0.3333333333333333,\"#9c179e\"],[0.4444444444444444,\"#bd3786\"],[0.5555555555555556,\"#d8576b\"],[0.6666666666666666,\"#ed7953\"],[0.7777777777777778,\"#fb9f3a\"],[0.8888888888888888,\"#fdca26\"],[1.0,\"#f0f921\"]],\"diverging\":[[0,\"#8e0152\"],[0.1,\"#c51b7d\"],[0.2,\"#de77ae\"],[0.3,\"#f1b6da\"],[0.4,\"#fde0ef\"],[0.5,\"#f7f7f7\"],[0.6,\"#e6f5d0\"],[0.7,\"#b8e186\"],[0.8,\"#7fbc41\"],[0.9,\"#4d9221\"],[1,\"#276419\"]]},\"xaxis\":{\"gridcolor\":\"white\",\"linecolor\":\"white\",\"ticks\":\"\",\"title\":{\"standoff\":15},\"zerolinecolor\":\"white\",\"automargin\":true,\"zerolinewidth\":2},\"yaxis\":{\"gridcolor\":\"white\",\"linecolor\":\"white\",\"ticks\":\"\",\"title\":{\"standoff\":15},\"zerolinecolor\":\"white\",\"automargin\":true,\"zerolinewidth\":2},\"scene\":{\"xaxis\":{\"backgroundcolor\":\"#E5ECF6\",\"gridcolor\":\"white\",\"linecolor\":\"white\",\"showbackground\":true,\"ticks\":\"\",\"zerolinecolor\":\"white\",\"gridwidth\":2},\"yaxis\":{\"backgroundcolor\":\"#E5ECF6\",\"gridcolor\":\"white\",\"linecolor\":\"white\",\"showbackground\":true,\"ticks\":\"\",\"zerolinecolor\":\"white\",\"gridwidth\":2},\"zaxis\":{\"backgroundcolor\":\"#E5ECF6\",\"gridcolor\":\"white\",\"linecolor\":\"white\",\"showbackground\":true,\"ticks\":\"\",\"zerolinecolor\":\"white\",\"gridwidth\":2}},\"shapedefaults\":{\"line\":{\"color\":\"#2a3f5f\"}},\"annotationdefaults\":{\"arrowcolor\":\"#2a3f5f\",\"arrowhead\":0,\"arrowwidth\":1},\"geo\":{\"bgcolor\":\"white\",\"landcolor\":\"#E5ECF6\",\"subunitcolor\":\"white\",\"showland\":true,\"showlakes\":true,\"lakecolor\":\"white\"},\"title\":{\"x\":0.05},\"mapbox\":{\"style\":\"light\"}}},\"title\":{\"text\":\"Battery Level Transitions Over Time\"},\"xaxis\":{\"title\":{\"text\":\"Time\"}},\"yaxis\":{\"title\":{\"text\":\"Battery Level\"}}},                        {\"responsive\": true}                    ).then(function(){\n",
       "                            \n",
       "var gd = document.getElementById('3514145c-4d7d-4549-8324-8687bd032f6c');\n",
       "var x = new MutationObserver(function (mutations, observer) {{\n",
       "        var display = window.getComputedStyle(gd).display;\n",
       "        if (!display || display === 'none') {{\n",
       "            console.log([gd, 'removed!']);\n",
       "            Plotly.purge(gd);\n",
       "            observer.disconnect();\n",
       "        }}\n",
       "}});\n",
       "\n",
       "// Listen for the removal of the full notebook cells\n",
       "var notebookContainer = gd.closest('#notebook-container');\n",
       "if (notebookContainer) {{\n",
       "    x.observe(notebookContainer, {childList: true});\n",
       "}}\n",
       "\n",
       "// Listen for the clearing of the current output cell\n",
       "var outputEl = gd.closest('.output');\n",
       "if (outputEl) {{\n",
       "    x.observe(outputEl, {childList: true});\n",
       "}}\n",
       "\n",
       "                        })                };                });            </script>        </div>"
      ]
     },
     "metadata": {},
     "output_type": "display_data"
    }
   ],
   "source": [
    "max_time = 7\n",
    "max_level = env.cap\n",
    "actions = {0: 0, 1: 3, 2: 7, 3: 11, 4: 17}\n",
    "parallel_coordinates_plot(SARSA_q_table, actions, max_time, max_level)"
   ]
  },
  {
   "cell_type": "markdown",
   "id": "5da975ee",
   "metadata": {},
   "source": [
    "Eigentlich müsste man betrachten, dass es Sinn macht langsam zu laden immer wenn man unter cap ist weil das auto ja am nächsten Tag eh wieder benutzt wird"
   ]
  }
 ],
 "metadata": {
  "kernelspec": {
   "display_name": "Python 3 (ipykernel)",
   "language": "python",
   "name": "python3"
  },
  "language_info": {
   "codemirror_mode": {
    "name": "ipython",
    "version": 3
   },
   "file_extension": ".py",
   "mimetype": "text/x-python",
   "name": "python",
   "nbconvert_exporter": "python",
   "pygments_lexer": "ipython3",
   "version": "3.12.3"
  },
  "toc": {
   "base_numbering": 1,
   "nav_menu": {},
   "number_sections": true,
   "sideBar": true,
   "skip_h1_title": false,
   "title_cell": "Table of Contents",
   "title_sidebar": "Contents",
   "toc_cell": false,
   "toc_position": {},
   "toc_section_display": true,
   "toc_window_display": false
  }
 },
 "nbformat": 4,
 "nbformat_minor": 5
}
