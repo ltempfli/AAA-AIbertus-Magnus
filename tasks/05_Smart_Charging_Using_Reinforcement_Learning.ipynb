{
 "cells": [
  {
   "cell_type": "code",
   "execution_count": 2,
   "id": "da6427e3",
   "metadata": {},
   "outputs": [],
   "source": [
    "from math import exp\n",
    "import numpy as np\n",
    "from gym import spaces\n",
    "import gym"
   ]
  },
  {
   "cell_type": "code",
   "execution_count": 3,
   "id": "7c07f3a3",
   "metadata": {},
   "outputs": [],
   "source": [
    "alpha = [0.5, 0.3, 0.6, 0.2, 0.5, 0.8, 0.2, 0.1]\n",
    "cap = 0 \n",
    "cap_max = 70\n",
    "p_mi = 0 \n",
    "p_max = 35\n",
    "p = 0\n",
    "𝜇= 30\n",
    "𝜎 = 5\n",
    "penalty = -50"
   ]
  },
  {
   "cell_type": "code",
   "execution_count": 4,
   "id": "dac85bb3",
   "metadata": {},
   "outputs": [],
   "source": [
    "def cost_func(t, p):\n",
    "    return alpha[t] * exp(p)"
   ]
  },
  {
   "cell_type": "code",
   "execution_count": 35,
   "id": "02c4ad1a",
   "metadata": {},
   "outputs": [],
   "source": [
    "def power_consumed(𝜇= 30, 𝜎 = 5, n=1):\n",
    "    return np.random.normal(𝜇,𝜎,n)[0]"
   ]
  },
  {
   "cell_type": "code",
   "execution_count": 36,
   "id": "ebf35a50",
   "metadata": {},
   "outputs": [
    {
     "name": "stdout",
     "output_type": "stream",
     "text": [
      "34.61908072758543\n"
     ]
    }
   ],
   "source": [
    "print(power_consumed())"
   ]
  },
  {
   "cell_type": "code",
   "execution_count": 24,
   "id": "a963b934",
   "metadata": {},
   "outputs": [],
   "source": [
    "class SmartCharging(gym.Env):\n",
    "    def __init__(self, actions, cap_max, penalty):\n",
    "        super(SmartCharging, self).__init__()\n",
    "        \n",
    "        self.action_space = spaces.Discrete(actions)\n",
    "        \n",
    "        self.observation_space = spaces.Dict({\n",
    "            'cap': spaces.Discrete(cap_max+1),\n",
    "            'time': spaces.Discrete(8)\n",
    "        })\n",
    "        \n",
    "        self.state = {\n",
    "            'cap': 0,\n",
    "            'time': 0\n",
    "        }\n",
    "        \n",
    "    def reset(self,cap):\n",
    "        self.state = {\n",
    "            'cap' : cap,\n",
    "            'time' : 0\n",
    "        }\n",
    "        \n",
    "    def step(self,action):\n",
    "        reward = 0\n",
    "        if action + cap > cap_max:\n",
    "            \n",
    "            reward += cost_func(self.state['time'], action + cap - cap_max)\n",
    "            self.state['cap'] = cap_max\n",
    "            self.state['time'] += 1\n",
    "        else\n",
    "            reward += cost_func(self.state['time'], action + cap - cap_max)\n",
    "            \n",
    "            self.state['cap'] = cap_max\n",
    "            self.state['time'] += 1\n",
    "        if self.state['time'] == 7:\n",
    "            \n",
    "            consumed = power_consumed()\n",
    "            if self.state['cap'] - consumed > 0:\n",
    "                self.reset()\n",
    "            \n",
    "        return reward"
   ]
  },
  {
   "cell_type": "code",
   "execution_count": 25,
   "id": "b5292f5f",
   "metadata": {},
   "outputs": [],
   "source": [
    "env = SmartCharging(4,75, penalty)"
   ]
  },
  {
   "cell_type": "code",
   "execution_count": 26,
   "id": "17a22c84",
   "metadata": {},
   "outputs": [
    {
     "data": {
      "text/plain": [
       "{'cap': 0, 'time': 0}"
      ]
     },
     "execution_count": 26,
     "metadata": {},
     "output_type": "execute_result"
    }
   ],
   "source": [
    "env.state"
   ]
  },
  {
   "cell_type": "code",
   "execution_count": 27,
   "id": "51008a54",
   "metadata": {},
   "outputs": [],
   "source": [
    "env.reset(30)"
   ]
  },
  {
   "cell_type": "code",
   "execution_count": 28,
   "id": "5cfd2955",
   "metadata": {},
   "outputs": [
    {
     "data": {
      "text/plain": [
       "{'cap': 30, 'time': 0}"
      ]
     },
     "execution_count": 28,
     "metadata": {},
     "output_type": "execute_result"
    }
   ],
   "source": [
    "env.state"
   ]
  }
 ],
 "metadata": {
  "kernelspec": {
   "display_name": "Python 3 (ipykernel)",
   "language": "python",
   "name": "python3"
  },
  "language_info": {
   "codemirror_mode": {
    "name": "ipython",
    "version": 3
   },
   "file_extension": ".py",
   "mimetype": "text/x-python",
   "name": "python",
   "nbconvert_exporter": "python",
   "pygments_lexer": "ipython3",
   "version": "3.7.12"
  },
  "toc": {
   "base_numbering": 1,
   "nav_menu": {},
   "number_sections": true,
   "sideBar": true,
   "skip_h1_title": false,
   "title_cell": "Table of Contents",
   "title_sidebar": "Contents",
   "toc_cell": false,
   "toc_position": {},
   "toc_section_display": true,
   "toc_window_display": false
  }
 },
 "nbformat": 4,
 "nbformat_minor": 5
}
