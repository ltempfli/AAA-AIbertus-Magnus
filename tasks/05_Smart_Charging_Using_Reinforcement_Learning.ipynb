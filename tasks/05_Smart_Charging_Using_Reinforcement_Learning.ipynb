{
 "cells": [
  {
   "cell_type": "code",
   "execution_count": 1,
   "id": "da6427e3",
   "metadata": {},
   "outputs": [],
   "source": [
    "from math import exp\n",
    "import numpy as np\n",
    "from gym import spaces\n",
    "import gym"
   ]
  },
  {
   "cell_type": "code",
   "execution_count": 2,
   "id": "7c07f3a3",
   "metadata": {},
   "outputs": [],
   "source": [
    "# states is defined by the current level of the batterie and the time\n",
    "# actions are defined by the charing rate (None, low, medium, high; 0-35)\n",
    "alpha = [0.5, 0.3, 0.6, 0.2, 0.5, 0.8, 0.2, 0.1]\n",
    "cap = 0 \n",
    "cap_max = 70\n",
    "p_mi = 0 \n",
    "p_max = 35\n",
    "p = 0\n",
    "𝜇= 30\n",
    "𝜎 = 5\n",
    "penalty = -50"
   ]
  },
  {
   "cell_type": "code",
   "execution_count": 3,
   "id": "dac85bb3",
   "metadata": {},
   "outputs": [],
   "source": [
    "def cost_func(t, p):\n",
    "    '''\n",
    "    This method returns the costs for charging\n",
    "    @param t:  time\n",
    "    @param p:  charging rate\n",
    "    '''\n",
    "    return alpha[t] * exp(p)"
   ]
  },
  {
   "cell_type": "code",
   "execution_count": 4,
   "id": "02c4ad1a",
   "metadata": {},
   "outputs": [],
   "source": [
    "def power_consumed(𝜇= 30, 𝜎 = 5, n=1):\n",
    "    '''\n",
    "    This method returns power consumed by the taxi driver\n",
    "    @param 𝜇: mean\n",
    "    @param 𝜎: standard deviation\n",
    "    @param n: number of random variables\n",
    "    '''\n",
    "    return int(np.random.normal(𝜇,𝜎,n)[0])"
   ]
  },
  {
   "cell_type": "code",
   "execution_count": 5,
   "id": "ebf35a50",
   "metadata": {},
   "outputs": [
    {
     "name": "stdout",
     "output_type": "stream",
     "text": [
      "29\n"
     ]
    }
   ],
   "source": [
    "print(power_consumed())"
   ]
  },
  {
   "cell_type": "code",
   "execution_count": 12,
   "id": "a963b934",
   "metadata": {},
   "outputs": [],
   "source": [
    "class SmartCharging(gym.Env):\n",
    "    def __init__(self, actions, cap_max, penalty):\n",
    "        super(SmartCharging, self).__init__()\n",
    "        \n",
    "        self.action_space = spaces.Discrete(actions)\n",
    "        \n",
    "        self.observation_space = spaces.Dict({\n",
    "            'cap': spaces.Discrete(cap_max+1),\n",
    "            'time': spaces.Discrete(8)\n",
    "        })\n",
    "        \n",
    "        self.state = {\n",
    "            'cap': 0,\n",
    "            'time': 0\n",
    "        }\n",
    "        \n",
    "    def reset(self,cap):\n",
    "        self.state = {\n",
    "            'cap' : cap,\n",
    "            'time' : 0\n",
    "        }\n",
    "        \n",
    "    def step(self,action):\n",
    "        reward = 0\n",
    "        if action + cap > cap_max:\n",
    "            # if charing would exceed totally capacity cap is set to cap_max\n",
    "            \n",
    "            reward -= cost_func(self.state['time'], cap_max - cap)\n",
    "            self.state['cap'] = cap_max\n",
    "            self.state['time'] += 1\n",
    "        else:\n",
    "            reward -= cost_func(self.state['time'], action)\n",
    "            \n",
    "            self.state['cap'] += cap\n",
    "            self.state['time'] += 1\n",
    "        if self.state['time'] == 7:\n",
    "            # if the final stage is reached reset the state\n",
    "            \n",
    "            consumed = power_consumed()\n",
    "            if self.state['cap'] - consumed > 0:\n",
    "                self.reset(self.state['cap'] - consumed)\n",
    "            else:\n",
    "                self.reset(0)\n",
    "                reward -= 50\n",
    "\n",
    "            \n",
    "            \n",
    "        return reward"
   ]
  },
  {
   "cell_type": "code",
   "execution_count": 20,
   "id": "b5292f5f",
   "metadata": {},
   "outputs": [],
   "source": [
    "env = SmartCharging(4,75, penalty)"
   ]
  },
  {
   "cell_type": "code",
   "execution_count": 29,
   "id": "2abab5cb",
   "metadata": {},
   "outputs": [
    {
     "data": {
      "text/plain": [
       "1"
      ]
     },
     "execution_count": 29,
     "metadata": {},
     "output_type": "execute_result"
    }
   ],
   "source": [
    "env.action_space.sample()"
   ]
  },
  {
   "cell_type": "code",
   "execution_count": null,
   "id": "6e167b22",
   "metadata": {},
   "outputs": [],
   "source": [
    "for episode in range(1000):\n",
    "    env.reset(cap)\n",
    "    \n",
    "    "
   ]
  }
 ],
 "metadata": {
  "kernelspec": {
   "display_name": "Python 3 (ipykernel)",
   "language": "python",
   "name": "python3"
  },
  "language_info": {
   "codemirror_mode": {
    "name": "ipython",
    "version": 3
   },
   "file_extension": ".py",
   "mimetype": "text/x-python",
   "name": "python",
   "nbconvert_exporter": "python",
   "pygments_lexer": "ipython3",
   "version": "3.7.12"
  },
  "toc": {
   "base_numbering": 1,
   "nav_menu": {},
   "number_sections": true,
   "sideBar": true,
   "skip_h1_title": false,
   "title_cell": "Table of Contents",
   "title_sidebar": "Contents",
   "toc_cell": false,
   "toc_position": {},
   "toc_section_display": true,
   "toc_window_display": false
  }
 },
 "nbformat": 4,
 "nbformat_minor": 5
}
